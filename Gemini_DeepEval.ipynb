{
 "cells": [
  {
   "cell_type": "code",
   "execution_count": 1,
   "id": "e651c99a-fc6c-4b3e-927e-5b7dae9813fa",
   "metadata": {},
   "outputs": [],
   "source": [
    "# RAG with Gemini Flash 1.5 LLM and DeepEval evaluation\n",
    "# Google Gemini: https://ai.google.dev/gemini-api/docs/models/gemini\n",
    "# DeepEval: https://docs.confident-ai.com/docs/guides-rag-evaluation"
   ]
  },
  {
   "cell_type": "code",
   "execution_count": 2,
   "id": "2dafebe7-76cf-41d8-8734-0f06d15b9423",
   "metadata": {},
   "outputs": [],
   "source": [
    "# Establish RAG pipeline"
   ]
  },
  {
   "cell_type": "code",
   "execution_count": 3,
   "id": "dbdda733-b425-42f1-831a-6d71952ac5d1",
   "metadata": {},
   "outputs": [],
   "source": [
    "import os\n",
    "import google.generativeai as genai\n",
    "from langchain_google_genai import ChatGoogleGenerativeAI, GoogleGenerativeAIEmbeddings\n",
    "from IPython.display import display\n",
    "from IPython.display import Markdown\n",
    "from llama_index.core import Document, VectorStoreIndex, Settings, StorageContext, load_index_from_storage\n",
    "from llama_index.vector_stores.faiss import FaissVectorStore\n",
    "import pandas as pd\n",
    "import faiss\n",
    "import instructor\n",
    "import deepeval"
   ]
  },
  {
   "cell_type": "code",
   "execution_count": 4,
   "id": "8297c3a4-1366-4e38-9a4c-10f22905e594",
   "metadata": {},
   "outputs": [],
   "source": [
    "# Environmental variable to opt out of DeepEval tracking telemetry data\n",
    "os.environ[\"DEEPEVAL_TELEMETRY_OPT_OUT\"] = \"YES\""
   ]
  },
  {
   "cell_type": "code",
   "execution_count": 5,
   "id": "e03796ba-74cc-4bad-99a2-a594b3898399",
   "metadata": {},
   "outputs": [
    {
     "data": {
      "text/plain": [
       "True"
      ]
     },
     "execution_count": 5,
     "metadata": {},
     "output_type": "execute_result"
    }
   ],
   "source": [
    "deepeval.telemetry_opt_out()"
   ]
  },
  {
   "cell_type": "code",
   "execution_count": 6,
   "id": "a90ecc13-1002-4dad-82e5-cf42b656718f",
   "metadata": {},
   "outputs": [],
   "source": [
    "def to_markdown(text):\n",
    "  text = text.replace('•', '  *')\n",
    "  return Markdown(textwrap.indent(text, '> ', predicate=lambda _: True))"
   ]
  },
  {
   "cell_type": "code",
   "execution_count": 7,
   "id": "6dc3144c-2ac2-4448-a86a-a514ee26b402",
   "metadata": {},
   "outputs": [],
   "source": [
    "genai.configure(api_key=os.environ[\"GOOGLE_API_KEY\"])"
   ]
  },
  {
   "cell_type": "code",
   "execution_count": 8,
   "id": "1c3cd9fd-5949-4b1e-9894-c26618049ea8",
   "metadata": {},
   "outputs": [],
   "source": [
    "llm = ChatGoogleGenerativeAI(model=\"gemini-1.5-flash\")"
   ]
  },
  {
   "cell_type": "code",
   "execution_count": 9,
   "id": "0eab73af-ed30-4840-be7b-20eb1c66807c",
   "metadata": {},
   "outputs": [],
   "source": [
    "# create document database\n",
    "# using 4 State of the Union speeches, all text from whitehouse.gov briefing room speeches posted online\n",
    "# Example from 2024:\n",
    "# https://www.whitehouse.gov/briefing-room/speeches-remarks/2024/03/07/remarks-of-president-joe-biden-state-of-the-union-address-as-prepared-for-delivery-2/\n",
    "sotu = []\n",
    "#files = [\"./Speeches/state_of_the_union_042921.txt\", \"./Speeches/state_of_the_union_030122.txt\", \"./Speeches/state_of_the_union_020723.txt\", \"./Speeches/state_of_the_union_030724.txt\"]\n",
    "# retrained 9/9 with dates in title of each speech\n",
    "newfiles = [\"./Speeches/titleedits/state_of_the_union_042921.txt\", \"./Speeches/titleedits/state_of_the_union_030122.txt\", \"./Speeches/titleedits/state_of_the_union_020723.txt\", \"./Speeches/titleedits/state_of_the_union_030724.txt\"]\n",
    "for i in newfiles:\n",
    "    with open(i) as file:\n",
    "        for line in file:\n",
    "            nl = line.rstrip()\n",
    "            if nl != '':\n",
    "                sotu.append(nl)"
   ]
  },
  {
   "cell_type": "code",
   "execution_count": 10,
   "id": "0fcdf1fa-c3c4-4f71-9585-a96bc9c02c13",
   "metadata": {},
   "outputs": [],
   "source": [
    "documents = [Document(text=line) for line in sotu]"
   ]
  },
  {
   "cell_type": "code",
   "execution_count": 11,
   "id": "ab816039-1c34-4073-84a6-e57ad84832e5",
   "metadata": {},
   "outputs": [
    {
     "data": {
      "text/plain": [
       "Document(id_='6532ef1e-6580-4730-baa4-50c4ed292d8a', embedding=None, metadata={}, excluded_embed_metadata_keys=[], excluded_llm_metadata_keys=[], relationships={}, text='May God protect our troops.', mimetype='text/plain', start_char_idx=None, end_char_idx=None, text_template='{metadata_str}\\n\\n{content}', metadata_template='{key}: {value}', metadata_seperator='\\n')"
      ]
     },
     "execution_count": 11,
     "metadata": {},
     "output_type": "execute_result"
    }
   ],
   "source": [
    "# Example of a loaded Document line\n",
    "documents[-1]"
   ]
  },
  {
   "cell_type": "code",
   "execution_count": 12,
   "id": "41cce1c9-8df4-492b-9d15-18dd67cf3444",
   "metadata": {},
   "outputs": [
    {
     "name": "stdout",
     "output_type": "stream",
     "text": [
      "True\n"
     ]
    }
   ],
   "source": [
    "# Set up the faiss index\n",
    "d = 768 # dimensions of ___, the embedding model that we're going to use\n",
    "faiss_index = faiss.IndexFlatL2(d)\n",
    "print(faiss_index.is_trained)"
   ]
  },
  {
   "cell_type": "code",
   "execution_count": 13,
   "id": "e48c5f84-8fc4-4970-9505-3c67705b151a",
   "metadata": {},
   "outputs": [],
   "source": [
    "doc_embeddings = GoogleGenerativeAIEmbeddings(model=\"models/text-embedding-004\") # optional: task_type=\"RETRIEVAL_DOCUMENT\"\n",
    "Settings.embed_model = doc_embeddings\n",
    "Settings.llm = llm"
   ]
  },
  {
   "cell_type": "code",
   "execution_count": 15,
   "id": "82ce1780-061d-4d6d-bf3c-6853db1eb4b9",
   "metadata": {},
   "outputs": [
    {
     "data": {
      "application/vnd.jupyter.widget-view+json": {
       "model_id": "dc6d15148000445481b257d89996ae08",
       "version_major": 2,
       "version_minor": 0
      },
      "text/plain": [
       "Parsing nodes:   0%|          | 0/1464 [00:00<?, ?it/s]"
      ]
     },
     "metadata": {},
     "output_type": "display_data"
    },
    {
     "data": {
      "application/vnd.jupyter.widget-view+json": {
       "model_id": "ca78b22d98bd4f328a04a898f4f99653",
       "version_major": 2,
       "version_minor": 0
      },
      "text/plain": [
       "Generating embeddings:   0%|          | 0/1464 [00:00<?, ?it/s]"
      ]
     },
     "metadata": {},
     "output_type": "display_data"
    }
   ],
   "source": [
    "## uncomment for when you need to re-embed and vectorize documents\n",
    "## otherwise, doing local loading below\n",
    "#vector_store = FaissVectorStore(faiss_index=faiss_index)\n",
    "#storage_context = StorageContext.from_defaults(vector_store=vector_store)\n",
    "#index = VectorStoreIndex.from_documents(\n",
    "#    documents, storage_context=storage_context, show_progress=True\n",
    "#)"
   ]
  },
  {
   "cell_type": "code",
   "execution_count": 16,
   "id": "433fb37c-fb44-409c-8b42-066cf7a8e1e8",
   "metadata": {},
   "outputs": [
    {
     "data": {
      "text/plain": [
       "<llama_index.core.indices.vector_store.base.VectorStoreIndex at 0x7f6825227050>"
      ]
     },
     "execution_count": 16,
     "metadata": {},
     "output_type": "execute_result"
    }
   ],
   "source": [
    "## save index to disk\n",
    "#index.storage_context.persist()\n",
    "#index"
   ]
  },
  {
   "cell_type": "code",
   "execution_count": 17,
   "id": "8705e6d5-7590-4633-a175-9f0425a4f449",
   "metadata": {},
   "outputs": [
    {
     "data": {
      "text/plain": [
       "'cef7ae30-ff1e-404a-bce6-85d59ca4b376'"
      ]
     },
     "execution_count": 17,
     "metadata": {},
     "output_type": "execute_result"
    }
   ],
   "source": [
    "index.index_id"
   ]
  },
  {
   "cell_type": "code",
   "execution_count": 14,
   "id": "77d046f3-293f-4bac-be0c-bedc5d88012f",
   "metadata": {},
   "outputs": [],
   "source": [
    "# load index from disk\n",
    "vector_store = FaissVectorStore.from_persist_dir(\"./storage\")\n",
    "storage_context = StorageContext.from_defaults(\n",
    "    vector_store=vector_store, persist_dir=\"./storage\"\n",
    ")\n",
    "index = load_index_from_storage(storage_context=storage_context, index_id='cef7ae30-ff1e-404a-bce6-85d59ca4b376')"
   ]
  },
  {
   "cell_type": "code",
   "execution_count": 31,
   "id": "aa4ed6e8-ab56-4190-b49b-061000f2242e",
   "metadata": {},
   "outputs": [
    {
     "data": {
      "text/plain": [
       "StorageContext(docstore=<llama_index.core.storage.docstore.simple_docstore.SimpleDocumentStore object at 0x7fe24826c650>, index_store=<llama_index.core.storage.index_store.simple_index_store.SimpleIndexStore object at 0x7fe24826d410>, vector_stores={'default': FaissVectorStore(stores_text=False, is_embedding_query=True)}, graph_store=<llama_index.core.graph_stores.simple.SimpleGraphStore object at 0x7fe269e6ea50>, property_graph_store=None)"
      ]
     },
     "execution_count": 31,
     "metadata": {},
     "output_type": "execute_result"
    }
   ],
   "source": [
    "# double check\n",
    "storage_context"
   ]
  },
  {
   "cell_type": "code",
   "execution_count": 14,
   "id": "77207431-54dc-45fc-9088-5456a2c2fdef",
   "metadata": {},
   "outputs": [
    {
     "data": {
      "text/plain": [
       "'3d597a2d-d81b-4df8-a238-d58d8e207d89'"
      ]
     },
     "execution_count": 14,
     "metadata": {},
     "output_type": "execute_result"
    }
   ],
   "source": [
    "# index_id of speeches w/o titles is '3d597a2d-d81b-4df8-a238-d58d8e207d89'\n",
    "# index_id of speeches w/ titles is cef7ae30-ff1e-404a-bce6-85d59ca4b376'"
   ]
  },
  {
   "cell_type": "code",
   "execution_count": 16,
   "id": "6a1ba96f-37e3-4160-bf13-5536c2cbaf10",
   "metadata": {},
   "outputs": [],
   "source": [
    "query_engine = index.as_query_engine(similarity_top_k=10)\n",
    "chat_engine = index.as_chat_engine(similarity_top_k=10, chat_mode='context')"
   ]
  },
  {
   "cell_type": "code",
   "execution_count": 55,
   "id": "bb6cee44-9396-41b0-b9f8-e6fd633fef55",
   "metadata": {},
   "outputs": [],
   "source": [
    "# Example query and response\n",
    "query = \"In detail, what has the President done to improve the economy over the four years of his speeches?\"\n",
    "response = query_engine.query(query)"
   ]
  },
  {
   "cell_type": "code",
   "execution_count": 56,
   "id": "48698c67-efba-4fe3-a2e1-864a3f43131b",
   "metadata": {},
   "outputs": [
    {
     "name": "stdout",
     "output_type": "stream",
     "text": [
      "The President highlights the creation of over 1.3 million jobs in the first 100 days of his term, a record 12 million jobs created in two years, and a strong economic growth rate of 5.7% in the previous year. He also emphasizes the International Monetary Fund's prediction of an economic growth rate exceeding 6% for the current year. \n",
      "\n"
     ]
    }
   ],
   "source": [
    "print(response.response)"
   ]
  },
  {
   "cell_type": "code",
   "execution_count": 19,
   "id": "05980859-d7e3-44e8-bc4f-10a41fdd111a",
   "metadata": {},
   "outputs": [],
   "source": [
    "# Start of DeepEval implementation\n",
    "# https://docs.confident-ai.com/docs/guides-rag-evaluation"
   ]
  },
  {
   "cell_type": "code",
   "execution_count": 20,
   "id": "bfebf282-9965-49bd-9c7f-d0e75e669b1c",
   "metadata": {},
   "outputs": [],
   "source": [
    "from pydantic import BaseModel\n",
    "from deepeval.models import DeepEvalBaseLLM"
   ]
  },
  {
   "cell_type": "code",
   "execution_count": 21,
   "id": "002bf206-84b1-4bae-ad0c-d23dad165360",
   "metadata": {},
   "outputs": [],
   "source": [
    "class Response(BaseModel):\n",
    "    response: str"
   ]
  },
  {
   "cell_type": "code",
   "execution_count": null,
   "id": "047b5c7b-f9e7-4a0d-b0ac-8bf082d4519c",
   "metadata": {},
   "outputs": [],
   "source": []
  },
  {
   "cell_type": "code",
   "execution_count": 22,
   "id": "ad054ba9-9fb0-4e3d-9f48-7e60eb379ff5",
   "metadata": {},
   "outputs": [],
   "source": [
    "class CustomGeminiFlash(DeepEvalBaseLLM):\n",
    "    def __init__(self):\n",
    "        self.model = genai.GenerativeModel(model_name=\"models/gemini-1.5-flash\")\n",
    "\n",
    "    def load_model(self):\n",
    "        return self.model\n",
    "\n",
    "    def generate(self, prompt: str, schema: BaseModel) -> BaseModel: \n",
    "        client = self.load_model()\n",
    "        instructor_client = instructor.from_gemini(\n",
    "            client=client,\n",
    "            mode=instructor.Mode.GEMINI_JSON,\n",
    "        )\n",
    "        resp = instructor_client.messages.create(\n",
    "            messages=[\n",
    "                {\n",
    "                    \"role\": \"user\",\n",
    "                    \"content\": prompt,\n",
    "                }\n",
    "            ],\n",
    "            response_model=schema,\n",
    "        )\n",
    "        return resp\n",
    "\n",
    "    async def a_generate(self, prompt: str, schema: BaseModel) -> BaseModel:\n",
    "        return self.generate(prompt, schema)\n",
    "\n",
    "    def get_model_name(self):\n",
    "        return \"Gemini 1.5 Flash\""
   ]
  },
  {
   "cell_type": "code",
   "execution_count": 39,
   "id": "8b903c42-fc2d-4fe2-bb1e-faaa7de1f2c0",
   "metadata": {},
   "outputs": [],
   "source": [
    "from typing import List, Optional\n",
    "from langchain_google_genai import GoogleGenerativeAIEmbeddings\n",
    "from deepeval.models import DeepEvalBaseEmbeddingModel\n",
    "\n",
    "class CustomGeminiEmbeddingModel(DeepEvalBaseEmbeddingModel):\n",
    "    def __init__(self):\n",
    "        pass\n",
    "\n",
    "    def load_model(self):\n",
    "        return GoogleGenerativeAIEmbeddings(\n",
    "            model=\"models/text-embedding-004\"\n",
    "        )\n",
    "\n",
    "    def embed_text(self, text: str) -> List[float]:\n",
    "        embedding_model = self.load_model()\n",
    "        return embedding_model.embed_query(text)\n",
    "\n",
    "    def embed_texts(self, texts: List[str]) -> List[List[float]]:\n",
    "        embedding_model = self.load_model()\n",
    "        return embedding_model.embed_documents(texts)\n",
    "\n",
    "    async def a_embed_text(self, text: str) -> List[float]:\n",
    "        embedding_model = self.load_model()\n",
    "        return await embedding_model.aembed_query(text)\n",
    "\n",
    "    async def a_embed_texts(self, texts: List[str]) -> List[List[float]]:\n",
    "        embedding_model = self.load_model()\n",
    "        return await embedding_model.aembed_documents(texts)\n",
    "\n",
    "    def get_model_name(self):\n",
    "        \"Custom Gemini Embeddings\""
   ]
  },
  {
   "cell_type": "code",
   "execution_count": 40,
   "id": "e11dcd46-4410-4ae9-bb68-3a386d6484c0",
   "metadata": {},
   "outputs": [],
   "source": [
    "custom_geminiflash = CustomGeminiFlash()\n",
    "custom_geminiembeddings = CustomGeminiEmbeddingModel()"
   ]
  },
  {
   "cell_type": "code",
   "execution_count": 22,
   "id": "3568b677-18b8-4cc7-818f-8728b1c6fc99",
   "metadata": {},
   "outputs": [],
   "source": [
    "test = custom_geminiflash.generate(prompt=\"How many different types of clouds are there?\", schema=Response)"
   ]
  },
  {
   "cell_type": "code",
   "execution_count": 23,
   "id": "393f56cf-de8c-4111-9ff1-6b96cc93f780",
   "metadata": {},
   "outputs": [
    {
     "data": {
      "text/plain": [
       "'There are many different ways to classify clouds, but generally, there are ten main types of clouds. These are further categorized into three families, based on their altitude. \\n\\n**High-level clouds:**\\n* **Cirrus (Ci):** Wispy, detached clouds made of ice crystals. They often appear as delicate strands or feathers.\\n* **Cirrocumulus (Cc):** Small, white, puffy clouds arranged in rows or patches. They resemble ripples on a lake.\\n* **Cirrostratus (Cs):** Thin, sheet-like clouds that can cover the entire sky. They often produce a halo around the sun or moon.\\n\\n**Mid-level clouds:**\\n* **Altocumulus (Ac):** White or gray patches of clouds arranged in rounded masses or layers. They can resemble cotton balls.\\n* **Altostratus (As):** Gray or bluish sheet-like clouds that can cover the entire sky. They often obscure the sun or moon, but do not produce a halo.\\n* **Nimbostratus (Ns):** Dark gray clouds that produce steady rain or snow. They often cover the entire sky and can be quite thick.\\n\\n**Low-level clouds:**\\n* **Stratocumulus (Sc):** Gray or white patches of clouds arranged in rounded masses or rolls. They often appear in layers.\\n* **Stratus (St):** Gray, featureless clouds that cover the sky like a sheet. They often produce drizzle or light snow.\\n* **Cumulus (Cu):** Puffy, white clouds with flat bases and rounded tops. They often resemble cotton balls and are often associated with fair weather.\\n* **Cumulonimbus (Cb):** Towering, thunderhead clouds that can produce heavy rain, hail, lightning, and tornadoes. They are often associated with thunderstorms.\\n\\nThis is just a basic classification of clouds. There are many other variations and subtypes of clouds that can be observed in the sky.'"
      ]
     },
     "execution_count": 23,
     "metadata": {},
     "output_type": "execute_result"
    }
   ],
   "source": [
    "test.response"
   ]
  },
  {
   "cell_type": "code",
   "execution_count": null,
   "id": "eeae71ae-b309-4c3a-9949-5566626067d0",
   "metadata": {},
   "outputs": [],
   "source": []
  },
  {
   "cell_type": "code",
   "execution_count": 24,
   "id": "4b1ba08e-a710-44ee-9ab9-5213987bf724",
   "metadata": {},
   "outputs": [],
   "source": [
    "from deepeval import assert_test\n",
    "from deepeval.test_case import LLMTestCase\n",
    "from deepeval.metrics import AnswerRelevancyMetric\n",
    "\n",
    "def test_answer_relevancy():\n",
    "    answer_relevancy_metric = AnswerRelevancyMetric(threshold=0.5, model=custom_geminiflash)\n",
    "    test_case = LLMTestCase(\n",
    "        input=\"What if these shoes don't fit?\",\n",
    "        # Replace this with the actual output of your LLM application\n",
    "        actual_output=\"We offer a 30-day full refund at no extra cost.\"\n",
    "    )\n",
    "    assert_test(test_case, [answer_relevancy_metric])"
   ]
  },
  {
   "cell_type": "code",
   "execution_count": 25,
   "id": "1da71503-d604-4936-a243-c3d30b6461f2",
   "metadata": {},
   "outputs": [],
   "source": [
    "from deepeval.metrics import (\n",
    "    ContextualPrecisionMetric,\n",
    "    ContextualRecallMetric,\n",
    "    ContextualRelevancyMetric\n",
    ")\n",
    "\n",
    "contextual_precision = ContextualPrecisionMetric(model=custom_geminiflash)\n",
    "contextual_recall = ContextualRecallMetric(model=custom_geminiflash)\n",
    "contextual_relevancy = ContextualRelevancyMetric(model=custom_geminiflash)\n",
    "\n",
    "test_case = LLMTestCase(\n",
    "    input=\"What measures does the speaker propose to lower prescription drug costs in America?\",\n",
    "    actual_output=\"The speaker proposes giving Medicare the power to negotiate lower prescription drug prices, capping prescription drug costs at $2,000 a year for everyone, and allowing Medicare to negotiate lower prices for 500 drugs over the next decade.s\",\n",
    "    expected_output=\"The speaker proposes that Medicare should be given the power to negotiate lower drug prescription prices. They argue that this would save hundreds of billions of dollars and lower prescription drug costs for everyone. The speaker also states that the money saved could be used to strengthen the Affordable Care Act and expand Medicare coverage benefits without costing taxpayers an additional penny.\",\n",
    "    retrieval_context=['Let’s do what we’ve always talked about for all the years I was down here in this — in this body — in Congress.  Let’s give Medicare the power to save hundreds of billions of dollars by negotiating lower drug prescription prices.  (Applause.)', 'In fact, we pay the highest prescription drug prices of anywhere in the world right here in America — nearly three times — for the same drug, nearly three times what other countries pay.  We have to change that, and we can.', 'And we’re finally giving Medicare the power to negotiate drug prices. Bringing down prescription drug costs doesn’t just save seniors money.', 'For years people have talked about it but I finally got it done and gave Medicare the power to negotiate lower prices for prescription drugs just like the VA does for our veterans.', 'And, by the way, that won’t just — that won’t just help people on Medicare; it will lower prescription drug costs for everyone.', 'Now I want to cap prescription drug costs at $2,000 a year for everyone!', 'We know how to do this.  The last President had that as an objective.  We all know how outrageously expensive drugs are in America.', 'Make no mistake, if you try to do anything to raise the cost of prescription drugs, I will veto it.', 'Now it’s time to go further and give Medicare the power to negotiate lower prices for 500 drugs over the next decade.', 'It will cut the federal deficit, saving tax payers hundreds of billions of dollars on the prescription drugs the government buys for Medicare.']\n",
    ")"
   ]
  },
  {
   "cell_type": "code",
   "execution_count": 29,
   "id": "2ef1ea0f-8367-4747-84eb-f16f79895d6a",
   "metadata": {},
   "outputs": [
    {
     "data": {
      "application/vnd.jupyter.widget-view+json": {
       "model_id": "",
       "version_major": 2,
       "version_minor": 0
      },
      "text/plain": [
       "Output()"
      ]
     },
     "metadata": {},
     "output_type": "display_data"
    },
    {
     "data": {
      "text/html": [
       "<pre style=\"white-space:pre;overflow-x:auto;line-height:normal;font-family:Menlo,'DejaVu Sans Mono',consolas,'Courier New',monospace\">Event loop is already running. Applying nest_asyncio patch to allow async execution...\n",
       "</pre>\n"
      ],
      "text/plain": [
       "Event loop is already running. Applying nest_asyncio patch to allow async execution...\n"
      ]
     },
     "metadata": {},
     "output_type": "display_data"
    },
    {
     "data": {
      "text/html": [
       "<pre style=\"white-space:pre;overflow-x:auto;line-height:normal;font-family:Menlo,'DejaVu Sans Mono',consolas,'Courier New',monospace\"></pre>\n"
      ],
      "text/plain": []
     },
     "metadata": {},
     "output_type": "display_data"
    },
    {
     "data": {
      "application/vnd.jupyter.widget-view+json": {
       "model_id": "",
       "version_major": 2,
       "version_minor": 0
      },
      "text/plain": [
       "Output()"
      ]
     },
     "metadata": {},
     "output_type": "display_data"
    },
    {
     "data": {
      "text/html": [
       "<pre style=\"white-space:pre;overflow-x:auto;line-height:normal;font-family:Menlo,'DejaVu Sans Mono',consolas,'Courier New',monospace\">Event loop is already running. Applying nest_asyncio patch to allow async execution...\n",
       "</pre>\n"
      ],
      "text/plain": [
       "Event loop is already running. Applying nest_asyncio patch to allow async execution...\n"
      ]
     },
     "metadata": {},
     "output_type": "display_data"
    },
    {
     "name": "stdout",
     "output_type": "stream",
     "text": [
      "Contextual Precision Score:  0.9095238095238096\n",
      "Contextual Precision Reason:  The score is 0.91 because the first five nodes in the retrieval context are relevant, while the last four are not. The 'no' verdicts should be ranked lower as they do not explicitly propose measures to lower prescription drug costs, with the sixth node focusing on a consequence instead of a measure, the seventh node mentioning the high cost but not offering a solution, and the eighth and ninth nodes mentioning opposition to raising costs and the potential savings but not a specific measure.\n"
     ]
    },
    {
     "data": {
      "text/html": [
       "<pre style=\"white-space:pre;overflow-x:auto;line-height:normal;font-family:Menlo,'DejaVu Sans Mono',consolas,'Courier New',monospace\"></pre>\n"
      ],
      "text/plain": []
     },
     "metadata": {},
     "output_type": "display_data"
    },
    {
     "data": {
      "application/vnd.jupyter.widget-view+json": {
       "model_id": "",
       "version_major": 2,
       "version_minor": 0
      },
      "text/plain": [
       "Output()"
      ]
     },
     "metadata": {},
     "output_type": "display_data"
    },
    {
     "data": {
      "text/html": [
       "<pre style=\"white-space:pre;overflow-x:auto;line-height:normal;font-family:Menlo,'DejaVu Sans Mono',consolas,'Courier New',monospace\">Event loop is already running. Applying nest_asyncio patch to allow async execution...\n",
       "</pre>\n"
      ],
      "text/plain": [
       "Event loop is already running. Applying nest_asyncio patch to allow async execution...\n"
      ]
     },
     "metadata": {},
     "output_type": "display_data"
    },
    {
     "name": "stdout",
     "output_type": "stream",
     "text": [
      "Contextual Recall Score:  1.0\n",
      "Contextual Recall Reason:  The score is 1.00 because the speaker proposes Medicare to negotiate lower drug prices and this is supported by the first node in the retrieval context.  This node directly discusses Medicare's power to negotiate lower drug prices and the potential savings.\n"
     ]
    },
    {
     "data": {
      "text/html": [
       "<pre style=\"white-space:pre;overflow-x:auto;line-height:normal;font-family:Menlo,'DejaVu Sans Mono',consolas,'Courier New',monospace\"></pre>\n"
      ],
      "text/plain": []
     },
     "metadata": {},
     "output_type": "display_data"
    },
    {
     "name": "stdout",
     "output_type": "stream",
     "text": [
      "Contextual Relevancy Score:  0.4\n",
      "Contextual Relevancy Reason:  The score is 0.4 because the context mentions lowering drug costs but doesn't mention any \"specific measures\" to achieve that, as per the reasons for irrelevancy. For example, \"The context discusses the high prescription drug prices in America compared to other countries, but it doesn't mention any specific measures to lower costs.\"\n"
     ]
    }
   ],
   "source": [
    "# Evaluation of the retriever\n",
    "contextual_precision.measure(test_case)\n",
    "print(\"Contextual Precision Score: \", contextual_precision.score)\n",
    "print(\"Contextual Precision Reason: \", contextual_precision.reason)\n",
    "\n",
    "contextual_recall.measure(test_case)\n",
    "print(\"Contextual Recall Score: \", contextual_recall.score)\n",
    "print(\"Contextual Recall Reason: \", contextual_recall.reason)\n",
    "\n",
    "contextual_relevancy.measure(test_case)\n",
    "print(\"Contextual Relevancy Score: \", contextual_relevancy.score)\n",
    "print(\"Contextual Relevancy Reason: \", contextual_relevancy.reason)"
   ]
  },
  {
   "cell_type": "code",
   "execution_count": null,
   "id": "8e328a9d-1170-40ce-84a2-0e315e45d827",
   "metadata": {},
   "outputs": [],
   "source": [
    "#Contextual Precision Score:  0.9472222222222222\n",
    "#Contextual Precision Reason:  The score is 0.95 because the 'no' verdicts are ranked lower than the 'yes' verdicts, since nodes 7 and 8 are irrelevant because node 7 discusses past attempts to address the issue but does not offer a solution, and node 8 focuses on the speaker's stance against any measures that might raise prescription drug costs, while the 'yes' verdicts provide information about how to lower drug costs, like node 1 mentioning \"Medicare should be given the power to negotiate lower drug prescription prices\". This is followed by other nodes, like node 2, which talks about paying \"the highest prescription drug prices of anywhere in the world right here in America\", while node 3 mentions \"we’re finally giving Medicare the power to negotiate drug prices\" and node 4 explains that \"For years people have talked about it but I finally got it done and gave Medicare the power to negotiate lower prices for prescription drugs\". Node 5 states that \"And, by the way, that won’t just — that won’t just help people on Medicare; it will lower prescription drug costs for everyone\". Node 6 proposes capping prescription drug costs at \"$2,000 a year for everyone!\". Node 9 proposes to \"give Medicare the power to negotiate lower prices for 500 drugs over the next decade.\" Lastly, node 10 states that \"It will cut the federal deficit, saving tax payers hundreds of billions of dollars on the prescription drugs the government buys for Medicare.\" Therefore, the score is 0.95 because the 'no' verdicts are ranked lower than the 'yes' verdicts.\n",
    "\n",
    "#Contextual Recall Score:  1.0\n",
    "#Contextual Recall Reason:  The score is 1.00 because all the sentences in the expected output are supported by node(s) in retrieval context, as they accurately reflect information presented in the retrieval context.  For example, the speaker's proposal to give Medicare the power to negotiate lower prescription drug prices is supported by multiple nodes in the retrieval context, and the potential savings and impact on drug costs for everyone is also accurately conveyed.  \n",
    "\n",
    "#Contextual Relevancy Score:  0.4\n",
    "#Contextual Relevancy Reason:  The score is 0.40 because the context discusses lowering prescription drug costs but doesn't elaborate on specific measures to achieve that, focusing instead on the speaker's stance on drug pricing. For example, the context states, \"The context only mentions giving Medicare the power to negotiate drug prices, but doesn't elaborate on specific measures proposed to lower costs.\" and \"The context only states that the speaker will veto anything that tries to raise the cost of prescription drugs, but it does not mention any measures to lower prescription drug costs.\"\n",
    "\n",
    "# Rerun\n",
    "#Score:  0.9472222222222222\n",
    "#Reason:  The score is 0.95 because the relevant nodes are ranked higher than the irrelevant ones. For example, the first node directly mentions the speaker's proposal, making it highly relevant. The eighth node, however, only discusses a potential veto of legislation and is not directly related to measures to lower prescription drug costs. This makes the eighth node less relevant than the first, which is a reason why the contextual precision score is 0.95 and not higher.\n",
    "\n",
    "#Score:  1.0\n",
    "#Reason:  The score is 1.00 because all the information in the expected output is directly reflected in the retrieval context. The first node in the retrieval context contains multiple sentences that cover the core points of the expected output, such as giving Medicare power to negotiate lower drug prices, saving hundreds of billions of dollars, and lowering costs for everyone. The fourth node confirms that the speaker finally gave Medicare the power to negotiate lower prices, and the fifth node emphasizes that this will not only help Medicare recipients but also lower costs for everyone. The ninth node provides additional support by highlighting the impact on the federal deficit and taxpayers. Overall, the retrieval context perfectly matches the expected output with clear and consistent information.\n",
    "\n",
    "#Score:  0.3\n",
    "#Reason:  The score is 0.3 because the context discusses lowering prescription drug costs but lacks specific measures. The context only mentions giving Medicare the power to negotiate prices, but doesn't explain how this would be done or propose any other measures. As stated in the reasons, \"The context mentions lowering prescription drug costs, but it doesn't provide any specific measures.\" and \"The context only mentions giving Medicare the power to negotiate drug prices, but it does not elaborate on specific measures to lower prescription drug costs.\"\n",
    "\n",
    "# Rerun\n",
    "#Contextual Precision Score:  0.9095238095238096\n",
    "#Contextual Precision Reason:  The score is 0.91 because the irrelevant nodes are ranked lower than the relevant nodes. The sixth node discusses capping costs, which is not the speaker's proposed solution. The seventh node acknowledges the issue but doesn't offer solutions. The eighth node states the speaker's opposition to raising prices but not their own proposals. All other nodes are relevant and are ranked higher than these three irrelevant nodes.\n",
    "\n",
    "#Contextual Recall Score:  0.4444444444444444\n",
    "#Contextual Recall Reason:  The score is 0.44 because the first sentence in the expected output is supported by the first node in the retrieval context, but the rest of the sentences are not supported by anything in the retrieval context.\n",
    "\n",
    "#Contextual Relevancy Score:  0.5\n",
    "#Contextual Relevancy Reason:  The score is 0.50 because the context touches on lowering drug costs, but lacks specific proposals, mentioning only the speaker's stance and impact on the deficit. \"The context mentions that prescription drug prices in America are the highest in the world, but it does not propose any measures to lower these costs.\" and \"The context discusses the impact of the policy on the federal deficit and Medicare spending, but it does not mention any specific measures to lower prescription drug costs in America.\" accurately describe this limitation.\n"
   ]
  },
  {
   "cell_type": "code",
   "execution_count": 26,
   "id": "79d0c57b-4c33-477f-8a4f-92f5f3aa6bfd",
   "metadata": {},
   "outputs": [],
   "source": [
    "# bulk eval\n",
    "from deepeval import evaluate\n",
    "\n",
    "#evaluate(\n",
    "#    test_cases=[test_case],\n",
    "#    metrics=[contextual_precision, contextual_recall, contextual_relevancy]\n",
    "#)"
   ]
  },
  {
   "cell_type": "code",
   "execution_count": 27,
   "id": "c32b6c3f-c08a-439f-9996-d33d20ca6f90",
   "metadata": {},
   "outputs": [],
   "source": [
    "from deepeval.dataset import EvaluationDataset\n",
    "\n",
    "evaldataset = EvaluationDataset()\n",
    "evaldataset.add_test_cases_from_csv_file(\n",
    "    file_path=\"datasets/testset_answer_newcontext_flash_pro15.csv\",\n",
    "    input_col_name=\"question\",\n",
    "    actual_output_col_name=\"answer\",\n",
    "    expected_output_col_name=\"ground_truth\",\n",
    "#    context_col_name=\"contexts\",\n",
    "#    context_col_delimiter= \",\",\n",
    "    retrieval_context_col_name=\"contexts\",\n",
    "    retrieval_context_col_delimiter= \",\"\n",
    ")"
   ]
  },
  {
   "cell_type": "code",
   "execution_count": 24,
   "id": "c848793f-df26-49a9-9ff7-485faf7b45aa",
   "metadata": {},
   "outputs": [
    {
     "data": {
      "text/plain": [
       "[LLMTestCase(input='What does the author argue is under attack regarding reproductive rights and what steps does the author call for to address this issue? \\n', actual_output='The author argues that the constitutional right to choose, established by Roe v. Wade, is under attack. The author calls for Congress to codify Roe v. Wade to protect this right and ensure access to healthcare, including reproductive healthcare. \\n', expected_output=\"The author argues that the constitutional right to abortion, established by Roe v. Wade, is under attack. To address this issue, the author calls for protecting access to health care and preserving a woman's right to choose.\", context=[], retrieval_context=[\"['The constitutional right affirmed in Roe v. Wade—standing precedent for half a century—is under attack as never before.'\", \" 'Congress must restore the right the Supreme Court took away last year and codify Roe v. Wade to protect every woman’s constitutional right to choose.'\", \" 'If we want to go forward—not backward—we must protect access to health care. Preserve a woman’s right to choose. And let’s continue to advance maternal health care in America.'\", \" 'There are state laws banning the right to choose\", ' criminalizing doctors', \" and forcing survivors of rape and incest to leave their states as well to get the care they need.'\", \" 'The Vice President and I are doing everything we can to protect access to reproductive health care and safeguard patient privacy. But already\", \" more than a dozen states are enforcing extreme abortion bans.'\", \" 'To my friends across the aisle\", \" don’t keep families waiting any longer. Guarantee the right to IVF nationwide!'\", \" 'Many of you in this Chamber and my predecessor are promising to pass a national ban on reproductive freedom.'\", \" 'I see a future where we restore the right to choose and protect other freedoms not take them away.'\", \" 'In its decision to overturn Roe v. Wade the Supreme Court majority wrote\", \" “Women are not without –'\", \" 'Advancing liberty and justice also requires protecting the rights of women.']\"], additional_metadata=None, comments=None, tools_called=None, expected_tools=None, reasoning=None, name=None),\n",
       " LLMTestCase(input='In the speech from President Biden, why has \"trickle-down economics\" not worked, and what economic approach does he advocate for instead?', actual_output='The speaker believes that \"trickle-down economics\" has failed because it has led to lower wages, larger deficits, and a wider gap between the wealthy and everyone else. The speaker advocates for an economic approach that builds from the bottom up and the middle out, investing in all Americans to ensure everyone has a fair shot. \\n', expected_output='President Biden states that \"trickle-down economics\" has never worked because it has not resulted in economic growth from the bottom and middle out. Instead, he advocates for an economic approach that grows the economy from the bottom and middle out.', context=[], retrieval_context=[\"['My fellow Americans\", \" trickle-down — trickle-down economics has never worked and it’s time to grow the economy from the bottom and the middle out. (Applause.)'\", \" 'But that trickle-down theory led to weaker economic growth\", ' lower wages', ' bigger deficits', \" and the widest gap between those at the top and everyone else in nearly a century.'\", \" 'For the past 40 years we were told that if we gave tax breaks to those at the very top\", \" the benefits would trickle down to everyone else.'\", \" 'To build an economy from the bottom up and the middle out\", ' not from the top down. Because when the middle class does well', \" the poor have a ladder up and the wealthy still do very well. We all do well.'\", \" 'Vice President Harris and I ran for office with a new economic vision for America.'\", \" 'America’s comeback is building a future of American possibilities\", ' building an economy from the middle out and the bottom up', ' not the top down', ' investing in all of America', \" in all Americans to make sure everyone has a fair shot and we leave no one behind!'\", \" 'A future where the days of trickle-down economics are over and the wealthy and biggest corporations no longer get all the breaks.'\", \" 'When we invest in our workers\", ' when we build the economy from the bottom up and the middle out together', \" we can do something we haven’t done in a long time: build a better America.'\", \" 'And unlike the $2 Trillion tax cut passed in the previous administration that benefitted the top 1% of Americans\", \" the American Rescue Plan helped working people—and left no one behind.'\", \" 'Our economy grew at a rate of 5.7% last year\", ' the strongest growth in nearly 40 years', \" the first step in bringing fundamental change to an economy that hasn’t worked for the working people of this nation for too long.']\"], additional_metadata=None, comments=None, tools_called=None, expected_tools=None, reasoning=None, name=None),\n",
       " LLMTestCase(input='What is the speaker\\'s stance on the \"Buy American\" policy and how does it relate to past administrations? \\n', actual_output='The speaker strongly advocates for the \"Buy American\" policy, believing it should be strictly enforced. They criticize past administrations for circumventing the policy, which they view as a betrayal of the law and a detriment to American jobs. The speaker emphasizes that this administration will prioritize American products and create jobs by utilizing taxpayer dollars to purchase them. \\n', expected_output='The speaker believes in the \"Buy American\" policy and states that it has been the law of the land since the 1930s. The speaker criticizes past administrations, including his predecessor, for failing to enforce this policy. He asserts that under his watch, federal projects will utilize American products and create jobs for American workers.', context=[], retrieval_context=[\"['Past administrations including my predecessor failed to Buy American.'\", \" 'Buy American has been the law of the land since 1933. But for too long\", \" past administrations have found ways to get around it.'\", \" 'And I might note\", \" parenthetically — (applause) — that does not — that does not violate any trade agreement.  It’s been the law since the ’30s: Buy American.'\", \" 'American tax dollars are going to be used to buy American products made in America to create American jobs.  That’s the way it’s supposed to be and it will be in this administration.  (Applause.)'\", \" 'When we use taxpayer dollars to rebuild America – we are going to Buy American: buy American products to support American jobs.'\", \" 'And all the investments in the American Jobs Plan will be guided by one principle: Buy American.  (Applause.)  Buy American.'\", \" 'And I made it clear to all my Cabinet people.  Their ability to give exemptions has been exstrenuously [sic] limited.  It will be American products.'\", \" 'We will buy American to make sure everything from the deck of an aircraft carrier to the steel on highway guardrails are made in America.'\", \" 'For too many decades\", \" we imported products and exported jobs.'\", \" 'Buy American has been the law of the land since the 1930s.']\"], additional_metadata=None, comments=None, tools_called=None, expected_tools=None, reasoning=None, name=None),\n",
       " LLMTestCase(input='What measures does the speaker propose to lower prescription drug costs in America? \\n', actual_output='The speaker proposes giving Medicare the power to negotiate lower prescription drug prices, capping prescription drug costs at $2,000 a year for everyone, and allowing Medicare to negotiate lower prices for 500 drugs over the next decade. \\n', expected_output='The speaker proposes that Medicare should be given the power to negotiate lower drug prescription prices. They argue that this would save hundreds of billions of dollars and lower prescription drug costs for everyone. The speaker also states that the money saved could be used to strengthen the Affordable Care Act and expand Medicare coverage benefits without costing taxpayers an additional penny.', context=[], retrieval_context=[\"['Let’s do what we’ve always talked about for all the years I was down here in this — in this body — in Congress.  Let’s give Medicare the power to save hundreds of billions of dollars by negotiating lower drug prescription prices.  (Applause.)'\", \" 'In fact\", ' we pay the highest prescription drug prices of anywhere in the world right here in America — nearly three times — for the same drug', ' nearly three times what other countries pay.  We have to change that', \" and we can.'\", \" 'And we’re finally giving Medicare the power to negotiate drug prices. Bringing down prescription drug costs doesn’t just save seniors money.'\", \" 'For years people have talked about it but I finally got it done and gave Medicare the power to negotiate lower prices for prescription drugs just like the VA does for our veterans.'\", \" 'And\", ' by the way', \" that won’t just — that won’t just help people on Medicare; it will lower prescription drug costs for everyone.'\", \" 'Now I want to cap prescription drug costs at $2\", \"000 a year for everyone!'\", \" 'We know how to do this.  The last President had that as an objective.  We all know how outrageously expensive drugs are in America.'\", \" 'Make no mistake\", ' if you try to do anything to raise the cost of prescription drugs', \" I will veto it.'\", \" 'Now it’s time to go further and give Medicare the power to negotiate lower prices for 500 drugs over the next decade.'\", \" 'It will cut the federal deficit\", \" saving tax payers hundreds of billions of dollars on the prescription drugs the government buys for Medicare.']\"], additional_metadata=None, comments=None, tools_called=None, expected_tools=None, reasoning=None, name=None),\n",
       " LLMTestCase(input=\"What are President Biden's proposals for addressing the ongoing conflict between Israel and Hamas, including both immediate and long-term solutions?\", actual_output='The President proposes a two-state solution as the long-term solution to the conflict. As an immediate solution, he proposes establishing a temporary pier in the Mediterranean on the Gaza coast to receive food, water, medicine, and temporary shelters. He also calls for Hamas to release hostages, lay down arms, and surrender those responsible for the recent attacks.  He acknowledges the need for humanitarian assistance in Gaza and emphasizes the importance of protecting innocent civilians. \\n', expected_output=\"President Biden proposes a six-week ceasefire to address the immediate crisis, including the release of hostages and relief of the humanitarian situation. He also emphasizes the need for Israel to allow more humanitarian aid into Gaza and ensure the safety of humanitarian workers.  In the long term, Biden advocates for a two-state solution, arguing that it is the only path to secure Israel's future, guarantee peace and dignity for Palestinians, and ensure peace between Israel and its Arab neighbors, including Saudi Arabia.\", context=[], retrieval_context=[\"['As we look to the future\", \" the only real solution is a two-state solution.'\", \" 'Hamas could end this conflict today by releasing the hostages\", ' laying down arms', \" and surrendering those responsible for October 7th.'\", \" 'Tonight\", ' I’m directing the U.S. military to lead an emergency mission to establish a temporary pier in the Mediterranean on the Gaza coast that can receive large ships carrying food', ' water', \" medicine and temporary shelters.'\", \" 'Israel has an added burden because Hamas hides and operates among the civilian population. But Israel also has a fundamental responsibility to protect innocent civilians in Gaza.'\", \" 'The United States has been leading international efforts to get more humanitarian assistance into Gaza.'\", \" 'I know the last five months have been gut-wrenching for so many people\", ' for the Israeli people', ' the Palestinian people', \" and so many here in America.'\", \" 'There is no other path that guarantees Palestinians can live with peace and dignity.'\", \" 'Israel has a right to go after Hamas.'\", \" 'There is no other path that guarantees Israel’s security and democracy.'\", \" 'Israel must allow more aid into Gaza and ensure that humanitarian workers aren’t caught in the cross fire.']\"], additional_metadata=None, comments=None, tools_called=None, expected_tools=None, reasoning=None, name=None),\n",
       " LLMTestCase(input=\"How does Biden compare a threat to American democracy to terrorism, and what's his plan to address it?\", actual_output='Empty Response', expected_output='The context discusses the threat to American democracy, but it does not explicitly compare it to terrorism. The speech focuses on the attack on the Capitol and the need to protect voting rights. The speaker emphasizes the need to restore faith in democracy and to address the challenges facing the nation. However, it does not directly draw a comparison to terrorism.', context=[], retrieval_context=[\"['January 6th and the lies about the 2020 election\", ' and the plots to steal the election', \" posed the gravest threat to our democracy since the Civil War.'\", \" 'And two years ago\", \" our democracy faced its greatest threat since the Civil War.'\", \" 'For the last few years our democracy has been threatened\", ' attacked', \" and put at risk.'\", \" 'Not since President Lincoln and the Civil War have freedom and democracy been under assault here at home as they are today.'\", \" 'We must all speak out. There is no place for political violence in America. In America\", ' we must protect the right to vote', ' not suppress that fundamental right. We honor the results of our elections', \" not subvert the will of the people. We must uphold the rule of the law and restore trust in our institutions of democracy.'\", \" 'But we must be honest the threat remains and democracy must be defended.'\", \" 'Insurrectionists stormed this very Capitol and placed a dagger at the throat of American democracy.'\", \" 'And we won’t ignore what our intelligence agencies have determined to be the most lethal terrorist threat to the homeland today: White supremacy is terrorism.  We’re not going to ignore that either.'\", \" 'What makes our moment rare is that freedom and democracy are under attack\", ' both at home and overseas', \" at the very same time.'\", \" 'But the struggle is far from over.  The question of whether our democracy will long endure is both ancient and urgent\", \" as old as our Republic — still vital today.']\"], additional_metadata=None, comments=None, tools_called=None, expected_tools=None, reasoning=None, name=None),\n",
       " LLMTestCase(input='What gun violence prevention actions did President Biden mention after discussing the recent gun safety law in his State of the Union address?', actual_output='President Biden called for Congress to pass universal background checks, close the \"boyfriend\" loophole in the Violence Against Women Act, and enact red flag laws. \\n', expected_output='President Biden mentioned the need to ban assault weapons after discussing the recent gun safety law in his State of the Union address. He stated that the United States had previously banned assault weapons in 1994 and that mass shootings had decreased during that time. After the ban expired, he argued, mass shootings had tripled.', context=[], retrieval_context=[\"['And I will do everything in my power to protect the American people from this epidemic of gun violence\", \" but it’s time for Congress to act as well.  (Applause.)'\", \" 'I did do something by establishing the first-ever Office of Gun Violence Prevention in the White House that Vice President Harris is leading.'\", \" 'More than two weeks ago in the Rose Garden\", \" surrounded by some of the bravest people I know — the survivors and families who lost loved ones to gun violence — I laid out several of the Department of Justice a- — actions that are being taken to — impact on this epidemic.'\", \" 'Thank God we did\", \" passing the most sweeping gun safety law in three decades.'\", \" 'Passed a gun safety law making historic investments in mental health.'\", \" 'Another thing: Let’s authorize the Violence Against Women Act\", ' which has been law for 27 years.  (Applause.)  Twenty-seven years ago', ' I wrote it.  It’ll close the — the act that has to be authorized now will close the “boyfriend” loophole to keep guns out of the hands of abusers.  The court order said', \" “This is an abuser.  You can’t own a gun.”  It’s to close that loophole that existed.'\", \" 'And I ask Congress to pass proven measures to reduce gun violence. Pass universal background checks. Why should anyone on a terrorist list be able to purchase a weapon?'\", \" 'I’m proud we beat the NRA when I signed the most significant gun safety law in nearly 30 years!'\", \" 'That includes things that the majority of responsible gun owners support\", \" like enhanced background checks for 18 to 21-year-olds and red flag laws keeping guns out of the hands of people who are a danger to themselves and others.'\", \" 'These laws don’t infringe on the Second Amendment. They save lives.']\"], additional_metadata=None, comments=None, tools_called=None, expected_tools=None, reasoning=None, name=None),\n",
       " LLMTestCase(input='What economic policy did President Biden reject in his 2023 State of the Union address, and what example did he use to support his alternative?', actual_output='The speaker rejected trickle-down economics and supported growing the economy from the bottom and the middle out. They used the American Rescue Plan as an example of their alternative policy. \\n', expected_output='President Biden rejected trickle-down economics in his 2023 State of the Union address, arguing that it has never worked and that the economy should be grown from the bottom and the middle out. He used the example of the 2017 tax cut, which was supposed to pay for itself but instead added $2 trillion to the deficit, as evidence that trickle-down economics fails.', context=[], retrieval_context=[\"['My fellow Americans\", \" trickle-down — trickle-down economics has never worked and it’s time to grow the economy from the bottom and the middle out. (Applause.)'\", \" 'Vice President Harris and I ran for office with a new economic vision for America.'\", \" 'So that’s my plan. It will grow the economy and lower costs for families.'\", \" 'But that trickle-down theory led to weaker economic growth\", ' lower wages', ' bigger deficits', \" and the widest gap between those at the top and everyone else in nearly a century.'\", \" 'Our economy grew at a rate of 5.7% last year\", ' the strongest growth in nearly 40 years', \" the first step in bringing fundamental change to an economy that hasn’t worked for the working people of this nation for too long.'\", \" 'And unlike the $2 Trillion tax cut passed in the previous administration that benefitted the top 1% of Americans\", \" the American Rescue Plan helped working people—and left no one behind.'\", \" 'You know\", ' there’s a broad consensus of economists — left', ' right', \" center — and they agree what I’m proposing will help create millions of jobs and generate historic economic growth.  These are among the highest-value investments we can make as a nation.'\", \" 'The investments I’ve proposed tonight also advance the foreign policy\", ' in my view', ' that benefits the middle class.  That means making sure every nation plays by the same rules in the global economy', \" including China.'\", \" '17 Nobel laureates in economics say my plan will ease long-term inflationary pressures. Top business leaders and most Americans support my plan. And here’s the plan:'\", \" 'We’re going to reform corporate taxes so they pay their fair share and help pay for the public investments their businesses will benefit from as well.  (Applause.)']\"], additional_metadata=None, comments=None, tools_called=None, expected_tools=None, reasoning=None, name=None),\n",
       " LLMTestCase(input=\"How does the President's plan address societal issues and veteran concerns?\", actual_output=\"The President's plan addresses societal issues by investing in families and children, aiming to cut child poverty in half, and providing assistance with job training, housing, and healthcare. It also addresses veteran concerns by expanding access to VA care, expanding mental health screenings, and recruiting veterans to help other veterans. Additionally, the plan aims to address systemic racism and provide real opportunities for all Americans, including expanding eligibility for veterans suffering from respiratory cancers. \\n\", expected_output=\"The President's plan addresses societal issues by focusing on immigration reform, protecting women's rights, and advancing LGBTQ+ rights. He also emphasizes the need for unity and addresses the opioid epidemic, mental health, and veteran concerns.  His plan includes increasing funding for prevention, treatment, and recovery for opioid addiction, providing mental health services for children and adults, and supporting veterans with job training, housing, and medical care.\", context=[], retrieval_context=[\"['My administration is providing assistance with job training and housing\", \" and now helping lower-income veterans get VA care debt-free.'\", \" 'We’re making one of the largest one-time ever investments — ever — in improving healthcare for veterans.  Critical investments to address the opioid crisis.  And\", ' maybe most importantly', ' thanks to the American Rescue Plan', \" we’re on track to cut child poverty in America in half this year.  (Applause.)'\", \" 'The VA is doing everything it can\", \" including expanding mental health screenings and a proven program that recruits veterans to help other veterans understand what they’re going through and get the help they need.'\", \" 'So\", ' let’s get to work.  I wanted to lay out', ' before the Congress', \" my plan before we got into the deep discussions.  I’d like to meet with those who have ideas that are different — they think are better.  I welcome those ideas.'\", \" 'In addition to my Families Plan\", ' I’m going to work with Congress to address', ' this year', \" other critical priorities for American families.'\", \" 'To win that competition for the future\", ' in my view', ' we also need to make a once-in-a-generation investment in our families and our children.  That’s why I’ve introduced the American Families Plan tonight', ' which addresses four of the biggest challenges facing American families and', ' in turn', \" America.'\", \" '17 Nobel laureates in economics say my plan will ease long-term inflationary pressures. Top business leaders and most Americans support my plan. And here’s the plan:'\", \" 'And we cannot go on losing 17 veterans a day to the silent scourge of suicide.'\", \" 'The country supports this reform\", ' and Congress should act — should act.  We have a giant opportunity to bend to the arc of the moral universe towards justice — real justice.  And with the plans outlined tonight', ' we have a real chance to root out systemic racism that plagues America and American lives in other ways; a chance to deliver real equity — good jobs', ' good schools', ' affordable housing', ' clean air', ' clean water', ' being able to generate wealth and pass it down two generations because you have an access to purchase a house.  Real opportunities in the lives of more Americans — Black', ' white', ' Latino', ' Asian Americans', \" Native Americans.'\", \" 'And tonight\", \" I’m announcing we’re expanding eligibility to veterans suffering from nine respiratory cancers.']\"], additional_metadata=None, comments=None, tools_called=None, expected_tools=None, reasoning=None, name=None),\n",
       " LLMTestCase(input=\"How will Biden address China's trade practices and maintain a strong Indo-Pacific presence?\", actual_output='The speaker will address unfair trade practices by China, such as subsidies to state-owned operations, theft of technology, and intellectual property. He will also maintain a strong military presence in the Indo-Pacific to prevent conflict. \\n', expected_output=\"Biden stated that he will defend America's interests and stand up to unfair trade practices, including subsidies from state-owned operations and enterprises and the theft of American technology and intellectual property. He also stated that the US will maintain a strong military presence in the Indo-Pacific, just as it does with NATO in Europe, not to start a conflict, but to prevent one.\", context=[], retrieval_context=[\"['I also told President Xi that we’ll maintain a strong military presence in the Indo-Pacific\", ' just as we do with NATO in Europe — not to start a conflict', \" but to prevent one.  (Applause.)'\", \" 'In my discussions — in my discussions with President Xi\", ' I told him', ' “We welcome the competition.  We’re not looking for conflict.”  But I made absolutely clear that we will defend America’s interests across the board.  America will stand up to unfair trade practices that undercut American workers and American industries', \" like subsidies from state — to state-owned operations and enterprises and the theft of American technology and intellectual property.'\", \" 'The investments I’ve proposed tonight also advance the foreign policy\", ' in my view', ' that benefits the middle class.  That means making sure every nation plays by the same rules in the global economy', \" including China.'\", \" 'I am committed to work with China where it can advance American interests and benefit the world.'\", \" 'It is going to transform America and put us on a path to win the economic competition of the 21st Century that we face with the rest of the world—particularly with China.'\", \" 'I’ve made clear with President Xi that we seek competition\", \" not conflict.'\", \" 'I will make no apologies that we are investing to make America strong. Investing in American innovation\", ' in industries that will define the future', \" and that China’s government is intent on dominating.'\", \" 'But to compete for the best jobs of the future\", \" we also need to level the playing field with China and other competitors.'\", \" 'Today\", \" we’re in the strongest position in decades to compete with China or anyone else in the world.'\", \" 'And bridges are forming between partners in the Pacific and those in the Atlantic. And those who bet against America are learning just how wrong they are.']\"], additional_metadata=None, comments=None, tools_called=None, expected_tools=None, reasoning=None, name=None)]"
      ]
     },
     "execution_count": 24,
     "metadata": {},
     "output_type": "execute_result"
    }
   ],
   "source": [
    "evaldataset.test_cases"
   ]
  },
  {
   "cell_type": "code",
   "execution_count": 28,
   "id": "c7d54857-001b-403c-9838-01082c365a88",
   "metadata": {},
   "outputs": [],
   "source": [
    "from deepeval import evaluate\n",
    "from deepeval.metrics import HallucinationMetric\n",
    "from deepeval.metrics import AnswerRelevancyMetric, FaithfulnessMetric\n",
    "\n",
    "#hallucination_metric = HallucinationMetric(threshold=0.3, model=custom_geminiflash)\n",
    "#answer_relevancy_metric = AnswerRelevancyMetric(threshold=0.5, model=custom_geminiflash)\n",
    "# Retriever metrics:\n",
    "contextual_precision = ContextualPrecisionMetric(model=custom_geminiflash)\n",
    "contextual_recall = ContextualRecallMetric(model=custom_geminiflash, include_reason=False)\n",
    "contextual_relevancy = ContextualRelevancyMetric(model=custom_geminiflash)\n",
    "\n",
    "# Generation metrics:\n",
    "answer_relevancy = AnswerRelevancyMetric(model=custom_geminiflash)\n",
    "faithfulness = FaithfulnessMetric(model=custom_geminiflash)\n",
    "\n",
    "# You can also call the evaluate() function directly\n",
    "# No I can't.\n",
    "#evaldataset_results = evaluate(evaldataset, [hallucination_metric, answer_relevancy_metric])\n",
    "# Calling the evaluate function on a EvaluationDataset only permits the metrics parameter, not any others like throttle_value... so the below results in ratelimiting errors\n",
    "#evaldataset_results = evaldataset.evaluate(metrics=[hallucination_metric, answer_relevancy_metric]) "
   ]
  },
  {
   "cell_type": "code",
   "execution_count": 27,
   "id": "2c84960d-d52d-4178-8ef0-088e818b71db",
   "metadata": {},
   "outputs": [
    {
     "data": {
      "text/html": [
       "<pre style=\"white-space:pre;overflow-x:auto;line-height:normal;font-family:Menlo,'DejaVu Sans Mono',consolas,'Courier New',monospace\">✨ You're running DeepEval's latest <span style=\"color: #6a00ff; text-decoration-color: #6a00ff\">Contextual Recall Metric</span>! <span style=\"color: #374151; text-decoration-color: #374151; font-weight: bold\">(</span><span style=\"color: #374151; text-decoration-color: #374151\">using Gemini </span><span style=\"color: #374151; text-decoration-color: #374151; font-weight: bold\">1.5</span><span style=\"color: #374151; text-decoration-color: #374151\"> Flash, </span><span style=\"color: #374151; text-decoration-color: #374151\">strict</span><span style=\"color: #374151; text-decoration-color: #374151\">=</span><span style=\"color: #374151; text-decoration-color: #374151; font-style: italic\">False</span><span style=\"color: #374151; text-decoration-color: #374151\">, </span>\n",
       "<span style=\"color: #374151; text-decoration-color: #374151\">async_mode</span><span style=\"color: #374151; text-decoration-color: #374151\">=</span><span style=\"color: #374151; text-decoration-color: #374151; font-style: italic\">True</span><span style=\"color: #374151; text-decoration-color: #374151; font-weight: bold\">)</span><span style=\"color: #374151; text-decoration-color: #374151\">...</span>\n",
       "</pre>\n"
      ],
      "text/plain": [
       "✨ You're running DeepEval's latest \u001b[38;2;106;0;255mContextual Recall Metric\u001b[0m! \u001b[1;38;2;55;65;81m(\u001b[0m\u001b[38;2;55;65;81musing Gemini \u001b[0m\u001b[1;38;2;55;65;81m1.5\u001b[0m\u001b[38;2;55;65;81m Flash, \u001b[0m\u001b[38;2;55;65;81mstrict\u001b[0m\u001b[38;2;55;65;81m=\u001b[0m\u001b[3;38;2;55;65;81mFalse\u001b[0m\u001b[38;2;55;65;81m, \u001b[0m\n",
       "\u001b[38;2;55;65;81masync_mode\u001b[0m\u001b[38;2;55;65;81m=\u001b[0m\u001b[3;38;2;55;65;81mTrue\u001b[0m\u001b[1;38;2;55;65;81m)\u001b[0m\u001b[38;2;55;65;81m...\u001b[0m\n"
      ]
     },
     "metadata": {},
     "output_type": "display_data"
    },
    {
     "name": "stdout",
     "output_type": "stream",
     "text": [
      "Event loop is already running. Applying nest_asyncio patch to allow async execution...\n"
     ]
    },
    {
     "name": "stderr",
     "output_type": "stream",
     "text": [
      "Evaluating 10 test case(s) in parallel: |██████████████████████▍     | 80% (8/10) [Time Taken: 15:52, 119.09s/test case]\n"
     ]
    },
    {
     "ename": "InstructorRetryException",
     "evalue": "RetryError[<Future at 0x7f2932b19250 state=finished raised ValidationError>]",
     "output_type": "error",
     "traceback": [
      "\u001b[0;31m---------------------------------------------------------------------------\u001b[0m",
      "\u001b[0;31mValidationError\u001b[0m                           Traceback (most recent call last)",
      "File \u001b[0;32m~/anaconda3/envs/research2/lib/python3.11/site-packages/instructor/retry.py:193\u001b[0m, in \u001b[0;36mretry_sync\u001b[0;34m(func, response_model, validation_context, args, kwargs, max_retries, strict, mode)\u001b[0m\n\u001b[1;32m    190\u001b[0m                     kwargs[\u001b[38;5;124m\"\u001b[39m\u001b[38;5;124mmessages\u001b[39m\u001b[38;5;124m\"\u001b[39m] \u001b[38;5;241m=\u001b[39m merge_consecutive_messages(\n\u001b[1;32m    191\u001b[0m                         kwargs[\u001b[38;5;124m\"\u001b[39m\u001b[38;5;124mmessages\u001b[39m\u001b[38;5;124m\"\u001b[39m]\n\u001b[1;32m    192\u001b[0m                     )\n\u001b[0;32m--> 193\u001b[0m                 \u001b[38;5;28;01mraise\u001b[39;00m e\n\u001b[1;32m    194\u001b[0m \u001b[38;5;28;01mexcept\u001b[39;00m RetryError \u001b[38;5;28;01mas\u001b[39;00m e:\n",
      "File \u001b[0;32m~/anaconda3/envs/research2/lib/python3.11/site-packages/instructor/retry.py:164\u001b[0m, in \u001b[0;36mretry_sync\u001b[0;34m(func, response_model, validation_context, args, kwargs, max_retries, strict, mode)\u001b[0m\n\u001b[1;32m    163\u001b[0m     response \u001b[38;5;241m=\u001b[39m update_total_usage(response, total_usage)\n\u001b[0;32m--> 164\u001b[0m     \u001b[38;5;28;01mreturn\u001b[39;00m \u001b[43mprocess_response\u001b[49m\u001b[43m(\u001b[49m\n\u001b[1;32m    165\u001b[0m \u001b[43m        \u001b[49m\u001b[43mresponse\u001b[49m\u001b[43m,\u001b[49m\n\u001b[1;32m    166\u001b[0m \u001b[43m        \u001b[49m\u001b[43mresponse_model\u001b[49m\u001b[38;5;241;43m=\u001b[39;49m\u001b[43mresponse_model\u001b[49m\u001b[43m,\u001b[49m\n\u001b[1;32m    167\u001b[0m \u001b[43m        \u001b[49m\u001b[43mstream\u001b[49m\u001b[38;5;241;43m=\u001b[39;49m\u001b[43mstream\u001b[49m\u001b[43m,\u001b[49m\n\u001b[1;32m    168\u001b[0m \u001b[43m        \u001b[49m\u001b[43mvalidation_context\u001b[49m\u001b[38;5;241;43m=\u001b[39;49m\u001b[43mvalidation_context\u001b[49m\u001b[43m,\u001b[49m\n\u001b[1;32m    169\u001b[0m \u001b[43m        \u001b[49m\u001b[43mstrict\u001b[49m\u001b[38;5;241;43m=\u001b[39;49m\u001b[43mstrict\u001b[49m\u001b[43m,\u001b[49m\n\u001b[1;32m    170\u001b[0m \u001b[43m        \u001b[49m\u001b[43mmode\u001b[49m\u001b[38;5;241;43m=\u001b[39;49m\u001b[43mmode\u001b[49m\u001b[43m,\u001b[49m\n\u001b[1;32m    171\u001b[0m \u001b[43m    \u001b[49m\u001b[43m)\u001b[49m\n\u001b[1;32m    172\u001b[0m \u001b[38;5;28;01mexcept\u001b[39;00m (ValidationError, JSONDecodeError) \u001b[38;5;28;01mas\u001b[39;00m e:\n",
      "File \u001b[0;32m~/anaconda3/envs/research2/lib/python3.11/site-packages/instructor/process_response.py:144\u001b[0m, in \u001b[0;36mprocess_response\u001b[0;34m(response, response_model, stream, validation_context, strict, mode)\u001b[0m\n\u001b[1;32m    142\u001b[0m     \u001b[38;5;28;01mreturn\u001b[39;00m model\n\u001b[0;32m--> 144\u001b[0m model \u001b[38;5;241m=\u001b[39m \u001b[43mresponse_model\u001b[49m\u001b[38;5;241;43m.\u001b[39;49m\u001b[43mfrom_response\u001b[49m\u001b[43m(\u001b[49m\n\u001b[1;32m    145\u001b[0m \u001b[43m    \u001b[49m\u001b[43mresponse\u001b[49m\u001b[43m,\u001b[49m\n\u001b[1;32m    146\u001b[0m \u001b[43m    \u001b[49m\u001b[43mvalidation_context\u001b[49m\u001b[38;5;241;43m=\u001b[39;49m\u001b[43mvalidation_context\u001b[49m\u001b[43m,\u001b[49m\n\u001b[1;32m    147\u001b[0m \u001b[43m    \u001b[49m\u001b[43mstrict\u001b[49m\u001b[38;5;241;43m=\u001b[39;49m\u001b[43mstrict\u001b[49m\u001b[43m,\u001b[49m\n\u001b[1;32m    148\u001b[0m \u001b[43m    \u001b[49m\u001b[43mmode\u001b[49m\u001b[38;5;241;43m=\u001b[39;49m\u001b[43mmode\u001b[49m\u001b[43m,\u001b[49m\n\u001b[1;32m    149\u001b[0m \u001b[43m\u001b[49m\u001b[43m)\u001b[49m\n\u001b[1;32m    151\u001b[0m \u001b[38;5;66;03m# ? This really hints at the fact that we need a better way of\u001b[39;00m\n\u001b[1;32m    152\u001b[0m \u001b[38;5;66;03m# ? attaching usage data and the raw response to the model we return.\u001b[39;00m\n",
      "File \u001b[0;32m~/anaconda3/envs/research2/lib/python3.11/site-packages/instructor/function_calls.py:136\u001b[0m, in \u001b[0;36mOpenAISchema.from_response\u001b[0;34m(cls, completion, validation_context, strict, mode)\u001b[0m\n\u001b[1;32m    135\u001b[0m \u001b[38;5;28;01mif\u001b[39;00m mode \u001b[38;5;241m==\u001b[39m Mode\u001b[38;5;241m.\u001b[39mGEMINI_JSON:\n\u001b[0;32m--> 136\u001b[0m     \u001b[38;5;28;01mreturn\u001b[39;00m \u001b[38;5;28;43mcls\u001b[39;49m\u001b[38;5;241;43m.\u001b[39;49m\u001b[43mparse_gemini_json\u001b[49m\u001b[43m(\u001b[49m\u001b[43mcompletion\u001b[49m\u001b[43m,\u001b[49m\u001b[43m \u001b[49m\u001b[43mvalidation_context\u001b[49m\u001b[43m,\u001b[49m\u001b[43m \u001b[49m\u001b[43mstrict\u001b[49m\u001b[43m)\u001b[49m\n\u001b[1;32m    138\u001b[0m \u001b[38;5;28;01mif\u001b[39;00m mode \u001b[38;5;241m==\u001b[39m Mode\u001b[38;5;241m.\u001b[39mCOHERE_JSON_SCHEMA:\n",
      "File \u001b[0;32m~/anaconda3/envs/research2/lib/python3.11/site-packages/instructor/function_calls.py:243\u001b[0m, in \u001b[0;36mOpenAISchema.parse_gemini_json\u001b[0;34m(cls, completion, validation_context, strict)\u001b[0m\n\u001b[1;32m    242\u001b[0m \u001b[38;5;28;01mif\u001b[39;00m strict:\n\u001b[0;32m--> 243\u001b[0m     \u001b[38;5;28;01mreturn\u001b[39;00m \u001b[38;5;28;43mcls\u001b[39;49m\u001b[38;5;241;43m.\u001b[39;49m\u001b[43mmodel_validate_json\u001b[49m\u001b[43m(\u001b[49m\n\u001b[1;32m    244\u001b[0m \u001b[43m        \u001b[49m\u001b[43mextra_text\u001b[49m\u001b[43m,\u001b[49m\u001b[43m \u001b[49m\u001b[43mcontext\u001b[49m\u001b[38;5;241;43m=\u001b[39;49m\u001b[43mvalidation_context\u001b[49m\u001b[43m,\u001b[49m\u001b[43m \u001b[49m\u001b[43mstrict\u001b[49m\u001b[38;5;241;43m=\u001b[39;49m\u001b[38;5;28;43;01mTrue\u001b[39;49;00m\n\u001b[1;32m    245\u001b[0m \u001b[43m    \u001b[49m\u001b[43m)\u001b[49m\n\u001b[1;32m    246\u001b[0m \u001b[38;5;28;01melse\u001b[39;00m:\n\u001b[1;32m    247\u001b[0m     \u001b[38;5;66;03m# Allow control characters.\u001b[39;00m\n",
      "File \u001b[0;32m~/anaconda3/envs/research2/lib/python3.11/site-packages/pydantic/main.py:597\u001b[0m, in \u001b[0;36mBaseModel.model_validate_json\u001b[0;34m(cls, json_data, strict, context)\u001b[0m\n\u001b[1;32m    596\u001b[0m __tracebackhide__ \u001b[38;5;241m=\u001b[39m \u001b[38;5;28;01mTrue\u001b[39;00m\n\u001b[0;32m--> 597\u001b[0m \u001b[38;5;28;01mreturn\u001b[39;00m \u001b[38;5;28;43mcls\u001b[39;49m\u001b[38;5;241;43m.\u001b[39;49m\u001b[43m__pydantic_validator__\u001b[49m\u001b[38;5;241;43m.\u001b[39;49m\u001b[43mvalidate_json\u001b[49m\u001b[43m(\u001b[49m\u001b[43mjson_data\u001b[49m\u001b[43m,\u001b[49m\u001b[43m \u001b[49m\u001b[43mstrict\u001b[49m\u001b[38;5;241;43m=\u001b[39;49m\u001b[43mstrict\u001b[49m\u001b[43m,\u001b[49m\u001b[43m \u001b[49m\u001b[43mcontext\u001b[49m\u001b[38;5;241;43m=\u001b[39;49m\u001b[43mcontext\u001b[49m\u001b[43m)\u001b[49m\n",
      "\u001b[0;31mValidationError\u001b[0m: 1 validation error for Verdicts\n  Invalid JSON: expected `,` or `}` at line 1 column 196 [type=json_invalid, input_value='{\"verdicts\": [{\"verdict\"...s for everyone.\\'\\\\\"}]}', input_type=str]\n    For further information visit https://errors.pydantic.dev/2.8/v/json_invalid",
      "\nThe above exception was the direct cause of the following exception:\n",
      "\u001b[0;31mRetryError\u001b[0m                                Traceback (most recent call last)",
      "File \u001b[0;32m~/anaconda3/envs/research2/lib/python3.11/site-packages/instructor/retry.py:158\u001b[0m, in \u001b[0;36mretry_sync\u001b[0;34m(func, response_model, validation_context, args, kwargs, max_retries, strict, mode)\u001b[0m\n\u001b[1;32m    157\u001b[0m response \u001b[38;5;241m=\u001b[39m \u001b[38;5;28;01mNone\u001b[39;00m\n\u001b[0;32m--> 158\u001b[0m \u001b[43m\u001b[49m\u001b[38;5;28;43;01mfor\u001b[39;49;00m\u001b[43m \u001b[49m\u001b[43mattempt\u001b[49m\u001b[43m \u001b[49m\u001b[38;5;129;43;01min\u001b[39;49;00m\u001b[43m \u001b[49m\u001b[43mmax_retries\u001b[49m\u001b[43m:\u001b[49m\n\u001b[1;32m    159\u001b[0m \u001b[43m    \u001b[49m\u001b[38;5;28;43;01mwith\u001b[39;49;00m\u001b[43m \u001b[49m\u001b[43mattempt\u001b[49m\u001b[43m:\u001b[49m\n",
      "File \u001b[0;32m~/anaconda3/envs/research2/lib/python3.11/site-packages/tenacity/__init__.py:443\u001b[0m, in \u001b[0;36mBaseRetrying.__iter__\u001b[0;34m(self)\u001b[0m\n\u001b[1;32m    442\u001b[0m \u001b[38;5;28;01mwhile\u001b[39;00m \u001b[38;5;28;01mTrue\u001b[39;00m:\n\u001b[0;32m--> 443\u001b[0m     do \u001b[38;5;241m=\u001b[39m \u001b[38;5;28;43mself\u001b[39;49m\u001b[38;5;241;43m.\u001b[39;49m\u001b[43miter\u001b[49m\u001b[43m(\u001b[49m\u001b[43mretry_state\u001b[49m\u001b[38;5;241;43m=\u001b[39;49m\u001b[43mretry_state\u001b[49m\u001b[43m)\u001b[49m\n\u001b[1;32m    444\u001b[0m     \u001b[38;5;28;01mif\u001b[39;00m \u001b[38;5;28misinstance\u001b[39m(do, DoAttempt):\n",
      "File \u001b[0;32m~/anaconda3/envs/research2/lib/python3.11/site-packages/tenacity/__init__.py:376\u001b[0m, in \u001b[0;36mBaseRetrying.iter\u001b[0;34m(self, retry_state)\u001b[0m\n\u001b[1;32m    375\u001b[0m \u001b[38;5;28;01mfor\u001b[39;00m action \u001b[38;5;129;01min\u001b[39;00m \u001b[38;5;28mself\u001b[39m\u001b[38;5;241m.\u001b[39miter_state\u001b[38;5;241m.\u001b[39mactions:\n\u001b[0;32m--> 376\u001b[0m     result \u001b[38;5;241m=\u001b[39m \u001b[43maction\u001b[49m\u001b[43m(\u001b[49m\u001b[43mretry_state\u001b[49m\u001b[43m)\u001b[49m\n\u001b[1;32m    377\u001b[0m \u001b[38;5;28;01mreturn\u001b[39;00m result\n",
      "File \u001b[0;32m~/anaconda3/envs/research2/lib/python3.11/site-packages/tenacity/__init__.py:419\u001b[0m, in \u001b[0;36mBaseRetrying._post_stop_check_actions.<locals>.exc_check\u001b[0;34m(rs)\u001b[0m\n\u001b[1;32m    418\u001b[0m     \u001b[38;5;28;01mraise\u001b[39;00m retry_exc\u001b[38;5;241m.\u001b[39mreraise()\n\u001b[0;32m--> 419\u001b[0m \u001b[38;5;28;01mraise\u001b[39;00m retry_exc \u001b[38;5;28;01mfrom\u001b[39;00m \u001b[38;5;21;01mfut\u001b[39;00m\u001b[38;5;21;01m.\u001b[39;00m\u001b[38;5;21;01mexception\u001b[39;00m()\n",
      "\u001b[0;31mRetryError\u001b[0m: RetryError[<Future at 0x7f2932b19250 state=finished raised ValidationError>]",
      "\nThe above exception was the direct cause of the following exception:\n",
      "\u001b[0;31mInstructorRetryException\u001b[0m                  Traceback (most recent call last)",
      "Cell \u001b[0;32mIn[27], line 17\u001b[0m\n\u001b[1;32m      1\u001b[0m \u001b[38;5;66;03m# hit errors for all 5 metrics with throttle_value=60 and =90\u001b[39;00m\n\u001b[1;32m      2\u001b[0m \u001b[38;5;66;03m# Trying retriever metrics first now\u001b[39;00m\n\u001b[1;32m      3\u001b[0m \u001b[38;5;66;03m# later try answer_relevancy, faithfulness\u001b[39;00m\n\u001b[0;32m   (...)\u001b[0m\n\u001b[1;32m     15\u001b[0m \u001b[38;5;66;03m# eval_contextprecision = evaluate(test_cases=evaldataset.test_cases, metrics=[contextual_precision], throttle_value=90)\u001b[39;00m\n\u001b[1;32m     16\u001b[0m \u001b[38;5;66;03m# Trying without reason\u001b[39;00m\n\u001b[0;32m---> 17\u001b[0m eval_contextrecall \u001b[38;5;241m=\u001b[39m \u001b[43mevaluate\u001b[49m\u001b[43m(\u001b[49m\u001b[43mtest_cases\u001b[49m\u001b[38;5;241;43m=\u001b[39;49m\u001b[43mevaldataset\u001b[49m\u001b[38;5;241;43m.\u001b[39;49m\u001b[43mtest_cases\u001b[49m\u001b[43m,\u001b[49m\u001b[43m \u001b[49m\u001b[43mmetrics\u001b[49m\u001b[38;5;241;43m=\u001b[39;49m\u001b[43m[\u001b[49m\u001b[43mcontextual_recall\u001b[49m\u001b[43m]\u001b[49m\u001b[43m,\u001b[49m\u001b[43m \u001b[49m\u001b[43mthrottle_value\u001b[49m\u001b[38;5;241;43m=\u001b[39;49m\u001b[38;5;241;43m90\u001b[39;49m\u001b[43m)\u001b[49m\n\u001b[1;32m     18\u001b[0m \u001b[38;5;66;03m#eval_contextrelevancy = evaluate(test_cases=evaldataset.test_cases, metrics=[contextual_relevancy], throttle_value=90)\u001b[39;00m\n",
      "File \u001b[0;32m~/anaconda3/envs/research2/lib/python3.11/site-packages/deepeval/evaluate.py:784\u001b[0m, in \u001b[0;36mevaluate\u001b[0;34m(test_cases, metrics, hyperparameters, run_async, show_indicator, print_results, write_cache, use_cache, ignore_errors, verbose_mode, throttle_value)\u001b[0m\n\u001b[1;32m    782\u001b[0m \u001b[38;5;28;01mif\u001b[39;00m run_async:\n\u001b[1;32m    783\u001b[0m     loop \u001b[38;5;241m=\u001b[39m get_or_create_event_loop()\n\u001b[0;32m--> 784\u001b[0m     test_results \u001b[38;5;241m=\u001b[39m \u001b[43mloop\u001b[49m\u001b[38;5;241;43m.\u001b[39;49m\u001b[43mrun_until_complete\u001b[49m\u001b[43m(\u001b[49m\n\u001b[1;32m    785\u001b[0m \u001b[43m        \u001b[49m\u001b[43ma_execute_test_cases\u001b[49m\u001b[43m(\u001b[49m\n\u001b[1;32m    786\u001b[0m \u001b[43m            \u001b[49m\u001b[43mtest_cases\u001b[49m\u001b[43m,\u001b[49m\n\u001b[1;32m    787\u001b[0m \u001b[43m            \u001b[49m\u001b[43mmetrics\u001b[49m\u001b[43m,\u001b[49m\n\u001b[1;32m    788\u001b[0m \u001b[43m            \u001b[49m\u001b[43mignore_errors\u001b[49m\u001b[38;5;241;43m=\u001b[39;49m\u001b[43mignore_errors\u001b[49m\u001b[43m,\u001b[49m\n\u001b[1;32m    789\u001b[0m \u001b[43m            \u001b[49m\u001b[43muse_cache\u001b[49m\u001b[38;5;241;43m=\u001b[39;49m\u001b[43muse_cache\u001b[49m\u001b[43m,\u001b[49m\n\u001b[1;32m    790\u001b[0m \u001b[43m            \u001b[49m\u001b[43mverbose_mode\u001b[49m\u001b[38;5;241;43m=\u001b[39;49m\u001b[43mverbose_mode\u001b[49m\u001b[43m,\u001b[49m\n\u001b[1;32m    791\u001b[0m \u001b[43m            \u001b[49m\u001b[43msave_to_disk\u001b[49m\u001b[38;5;241;43m=\u001b[39;49m\u001b[43mwrite_cache\u001b[49m\u001b[43m,\u001b[49m\n\u001b[1;32m    792\u001b[0m \u001b[43m            \u001b[49m\u001b[43mshow_indicator\u001b[49m\u001b[38;5;241;43m=\u001b[39;49m\u001b[43mshow_indicator\u001b[49m\u001b[43m,\u001b[49m\n\u001b[1;32m    793\u001b[0m \u001b[43m            \u001b[49m\u001b[43mthrottle_value\u001b[49m\u001b[38;5;241;43m=\u001b[39;49m\u001b[43mthrottle_value\u001b[49m\u001b[43m,\u001b[49m\n\u001b[1;32m    794\u001b[0m \u001b[43m        \u001b[49m\u001b[43m)\u001b[49m\n\u001b[1;32m    795\u001b[0m \u001b[43m    \u001b[49m\u001b[43m)\u001b[49m\n\u001b[1;32m    796\u001b[0m \u001b[38;5;28;01melse\u001b[39;00m:\n\u001b[1;32m    797\u001b[0m     test_results \u001b[38;5;241m=\u001b[39m execute_test_cases(\n\u001b[1;32m    798\u001b[0m         test_cases,\n\u001b[1;32m    799\u001b[0m         metrics,\n\u001b[0;32m   (...)\u001b[0m\n\u001b[1;32m    804\u001b[0m         show_indicator\u001b[38;5;241m=\u001b[39mshow_indicator,\n\u001b[1;32m    805\u001b[0m     )\n",
      "File \u001b[0;32m~/anaconda3/envs/research2/lib/python3.11/site-packages/nest_asyncio.py:98\u001b[0m, in \u001b[0;36m_patch_loop.<locals>.run_until_complete\u001b[0;34m(self, future)\u001b[0m\n\u001b[1;32m     95\u001b[0m \u001b[38;5;28;01mif\u001b[39;00m \u001b[38;5;129;01mnot\u001b[39;00m f\u001b[38;5;241m.\u001b[39mdone():\n\u001b[1;32m     96\u001b[0m     \u001b[38;5;28;01mraise\u001b[39;00m \u001b[38;5;167;01mRuntimeError\u001b[39;00m(\n\u001b[1;32m     97\u001b[0m         \u001b[38;5;124m'\u001b[39m\u001b[38;5;124mEvent loop stopped before Future completed.\u001b[39m\u001b[38;5;124m'\u001b[39m)\n\u001b[0;32m---> 98\u001b[0m \u001b[38;5;28;01mreturn\u001b[39;00m \u001b[43mf\u001b[49m\u001b[38;5;241;43m.\u001b[39;49m\u001b[43mresult\u001b[49m\u001b[43m(\u001b[49m\u001b[43m)\u001b[49m\n",
      "File \u001b[0;32m~/anaconda3/envs/research2/lib/python3.11/asyncio/futures.py:203\u001b[0m, in \u001b[0;36mFuture.result\u001b[0;34m(self)\u001b[0m\n\u001b[1;32m    201\u001b[0m \u001b[38;5;28mself\u001b[39m\u001b[38;5;241m.\u001b[39m__log_traceback \u001b[38;5;241m=\u001b[39m \u001b[38;5;28;01mFalse\u001b[39;00m\n\u001b[1;32m    202\u001b[0m \u001b[38;5;28;01mif\u001b[39;00m \u001b[38;5;28mself\u001b[39m\u001b[38;5;241m.\u001b[39m_exception \u001b[38;5;129;01mis\u001b[39;00m \u001b[38;5;129;01mnot\u001b[39;00m \u001b[38;5;28;01mNone\u001b[39;00m:\n\u001b[0;32m--> 203\u001b[0m     \u001b[38;5;28;01mraise\u001b[39;00m \u001b[38;5;28mself\u001b[39m\u001b[38;5;241m.\u001b[39m_exception\u001b[38;5;241m.\u001b[39mwith_traceback(\u001b[38;5;28mself\u001b[39m\u001b[38;5;241m.\u001b[39m_exception_tb)\n\u001b[1;32m    204\u001b[0m \u001b[38;5;28;01mreturn\u001b[39;00m \u001b[38;5;28mself\u001b[39m\u001b[38;5;241m.\u001b[39m_result\n",
      "File \u001b[0;32m~/anaconda3/envs/research2/lib/python3.11/asyncio/tasks.py:279\u001b[0m, in \u001b[0;36mTask.__step\u001b[0;34m(***failed resolving arguments***)\u001b[0m\n\u001b[1;32m    277\u001b[0m         result \u001b[38;5;241m=\u001b[39m coro\u001b[38;5;241m.\u001b[39msend(\u001b[38;5;28;01mNone\u001b[39;00m)\n\u001b[1;32m    278\u001b[0m     \u001b[38;5;28;01melse\u001b[39;00m:\n\u001b[0;32m--> 279\u001b[0m         result \u001b[38;5;241m=\u001b[39m coro\u001b[38;5;241m.\u001b[39mthrow(exc)\n\u001b[1;32m    280\u001b[0m \u001b[38;5;28;01mexcept\u001b[39;00m \u001b[38;5;167;01mStopIteration\u001b[39;00m \u001b[38;5;28;01mas\u001b[39;00m exc:\n\u001b[1;32m    281\u001b[0m     \u001b[38;5;28;01mif\u001b[39;00m \u001b[38;5;28mself\u001b[39m\u001b[38;5;241m.\u001b[39m_must_cancel:\n\u001b[1;32m    282\u001b[0m         \u001b[38;5;66;03m# Task is cancelled right before coro stops.\u001b[39;00m\n",
      "File \u001b[0;32m~/anaconda3/envs/research2/lib/python3.11/site-packages/deepeval/evaluate.py:511\u001b[0m, in \u001b[0;36ma_execute_test_cases\u001b[0;34m(test_cases, metrics, ignore_errors, use_cache, show_indicator, throttle_value, save_to_disk, verbose_mode, test_run_manager, _use_bar_indicator)\u001b[0m\n\u001b[1;32m    508\u001b[0m                     tasks\u001b[38;5;241m.\u001b[39mappend(asyncio\u001b[38;5;241m.\u001b[39mcreate_task(task))\n\u001b[1;32m    510\u001b[0m                 \u001b[38;5;28;01mawait\u001b[39;00m asyncio\u001b[38;5;241m.\u001b[39msleep(throttle_value)\n\u001b[0;32m--> 511\u001b[0m         \u001b[38;5;28;01mawait\u001b[39;00m asyncio\u001b[38;5;241m.\u001b[39mgather(\u001b[38;5;241m*\u001b[39mtasks)\n\u001b[1;32m    512\u001b[0m \u001b[38;5;28;01melse\u001b[39;00m:\n\u001b[1;32m    513\u001b[0m     \u001b[38;5;28;01mfor\u001b[39;00m test_case \u001b[38;5;129;01min\u001b[39;00m test_cases:\n",
      "File \u001b[0;32m~/anaconda3/envs/research2/lib/python3.11/asyncio/tasks.py:349\u001b[0m, in \u001b[0;36mTask.__wakeup\u001b[0;34m(self, future)\u001b[0m\n\u001b[1;32m    347\u001b[0m \u001b[38;5;28;01mdef\u001b[39;00m \u001b[38;5;21m__wakeup\u001b[39m(\u001b[38;5;28mself\u001b[39m, future):\n\u001b[1;32m    348\u001b[0m     \u001b[38;5;28;01mtry\u001b[39;00m:\n\u001b[0;32m--> 349\u001b[0m         \u001b[43mfuture\u001b[49m\u001b[38;5;241;43m.\u001b[39;49m\u001b[43mresult\u001b[49m\u001b[43m(\u001b[49m\u001b[43m)\u001b[49m\n\u001b[1;32m    350\u001b[0m     \u001b[38;5;28;01mexcept\u001b[39;00m \u001b[38;5;167;01mBaseException\u001b[39;00m \u001b[38;5;28;01mas\u001b[39;00m exc:\n\u001b[1;32m    351\u001b[0m         \u001b[38;5;66;03m# This may also be a cancellation.\u001b[39;00m\n\u001b[1;32m    352\u001b[0m         \u001b[38;5;28mself\u001b[39m\u001b[38;5;241m.\u001b[39m__step(exc)\n",
      "File \u001b[0;32m~/anaconda3/envs/research2/lib/python3.11/asyncio/tasks.py:279\u001b[0m, in \u001b[0;36mTask.__step\u001b[0;34m(***failed resolving arguments***)\u001b[0m\n\u001b[1;32m    277\u001b[0m         result \u001b[38;5;241m=\u001b[39m coro\u001b[38;5;241m.\u001b[39msend(\u001b[38;5;28;01mNone\u001b[39;00m)\n\u001b[1;32m    278\u001b[0m     \u001b[38;5;28;01melse\u001b[39;00m:\n\u001b[0;32m--> 279\u001b[0m         result \u001b[38;5;241m=\u001b[39m coro\u001b[38;5;241m.\u001b[39mthrow(exc)\n\u001b[1;32m    280\u001b[0m \u001b[38;5;28;01mexcept\u001b[39;00m \u001b[38;5;167;01mStopIteration\u001b[39;00m \u001b[38;5;28;01mas\u001b[39;00m exc:\n\u001b[1;32m    281\u001b[0m     \u001b[38;5;28;01mif\u001b[39;00m \u001b[38;5;28mself\u001b[39m\u001b[38;5;241m.\u001b[39m_must_cancel:\n\u001b[1;32m    282\u001b[0m         \u001b[38;5;66;03m# Task is cancelled right before coro stops.\u001b[39;00m\n",
      "File \u001b[0;32m~/anaconda3/envs/research2/lib/python3.11/site-packages/deepeval/evaluate.py:592\u001b[0m, in \u001b[0;36ma_execute_llm_test_cases\u001b[0;34m(metrics, test_case, test_run_manager, test_results, count, test_run, ignore_errors, use_cache, show_indicator, _use_bar_indicator, pbar)\u001b[0m\n\u001b[1;32m    590\u001b[0m new_cached_test_case: CachedTestCase \u001b[38;5;241m=\u001b[39m CachedTestCase()\n\u001b[1;32m    591\u001b[0m test_start_time \u001b[38;5;241m=\u001b[39m time\u001b[38;5;241m.\u001b[39mperf_counter()\n\u001b[0;32m--> 592\u001b[0m \u001b[38;5;28;01mawait\u001b[39;00m measure_metrics_with_indicator(\n\u001b[1;32m    593\u001b[0m     metrics\u001b[38;5;241m=\u001b[39mmetrics,\n\u001b[1;32m    594\u001b[0m     test_case\u001b[38;5;241m=\u001b[39mtest_case,\n\u001b[1;32m    595\u001b[0m     cached_test_case\u001b[38;5;241m=\u001b[39mcached_test_case,\n\u001b[1;32m    596\u001b[0m     ignore_errors\u001b[38;5;241m=\u001b[39mignore_errors,\n\u001b[1;32m    597\u001b[0m     show_indicator\u001b[38;5;241m=\u001b[39mshow_metrics_indicator,\n\u001b[1;32m    598\u001b[0m )\n\u001b[1;32m    600\u001b[0m \u001b[38;5;28;01mfor\u001b[39;00m metric \u001b[38;5;129;01min\u001b[39;00m metrics:\n\u001b[1;32m    601\u001b[0m     metric_data \u001b[38;5;241m=\u001b[39m create_metric_data(metric)\n",
      "File \u001b[0;32m~/anaconda3/envs/research2/lib/python3.11/site-packages/deepeval/metrics/indicator.py:171\u001b[0m, in \u001b[0;36mmeasure_metrics_with_indicator\u001b[0;34m(metrics, test_case, cached_test_case, ignore_errors, show_indicator)\u001b[0m\n\u001b[1;32m    168\u001b[0m     \u001b[38;5;28;01melse\u001b[39;00m:\n\u001b[1;32m    169\u001b[0m         tasks\u001b[38;5;241m.\u001b[39mappend(safe_a_measure(metric, test_case, ignore_errors))\n\u001b[0;32m--> 171\u001b[0m \u001b[38;5;28;01mawait\u001b[39;00m asyncio\u001b[38;5;241m.\u001b[39mgather(\u001b[38;5;241m*\u001b[39mtasks)\n",
      "File \u001b[0;32m~/anaconda3/envs/research2/lib/python3.11/asyncio/tasks.py:349\u001b[0m, in \u001b[0;36mTask.__wakeup\u001b[0;34m(self, future)\u001b[0m\n\u001b[1;32m    347\u001b[0m \u001b[38;5;28;01mdef\u001b[39;00m \u001b[38;5;21m__wakeup\u001b[39m(\u001b[38;5;28mself\u001b[39m, future):\n\u001b[1;32m    348\u001b[0m     \u001b[38;5;28;01mtry\u001b[39;00m:\n\u001b[0;32m--> 349\u001b[0m         \u001b[43mfuture\u001b[49m\u001b[38;5;241;43m.\u001b[39;49m\u001b[43mresult\u001b[49m\u001b[43m(\u001b[49m\u001b[43m)\u001b[49m\n\u001b[1;32m    350\u001b[0m     \u001b[38;5;28;01mexcept\u001b[39;00m \u001b[38;5;167;01mBaseException\u001b[39;00m \u001b[38;5;28;01mas\u001b[39;00m exc:\n\u001b[1;32m    351\u001b[0m         \u001b[38;5;66;03m# This may also be a cancellation.\u001b[39;00m\n\u001b[1;32m    352\u001b[0m         \u001b[38;5;28mself\u001b[39m\u001b[38;5;241m.\u001b[39m__step(exc)\n",
      "File \u001b[0;32m~/anaconda3/envs/research2/lib/python3.11/asyncio/tasks.py:277\u001b[0m, in \u001b[0;36mTask.__step\u001b[0;34m(***failed resolving arguments***)\u001b[0m\n\u001b[1;32m    273\u001b[0m \u001b[38;5;28;01mtry\u001b[39;00m:\n\u001b[1;32m    274\u001b[0m     \u001b[38;5;28;01mif\u001b[39;00m exc \u001b[38;5;129;01mis\u001b[39;00m \u001b[38;5;28;01mNone\u001b[39;00m:\n\u001b[1;32m    275\u001b[0m         \u001b[38;5;66;03m# We use the `send` method directly, because coroutines\u001b[39;00m\n\u001b[1;32m    276\u001b[0m         \u001b[38;5;66;03m# don't have `__iter__` and `__next__` methods.\u001b[39;00m\n\u001b[0;32m--> 277\u001b[0m         result \u001b[38;5;241m=\u001b[39m coro\u001b[38;5;241m.\u001b[39msend(\u001b[38;5;28;01mNone\u001b[39;00m)\n\u001b[1;32m    278\u001b[0m     \u001b[38;5;28;01melse\u001b[39;00m:\n\u001b[1;32m    279\u001b[0m         result \u001b[38;5;241m=\u001b[39m coro\u001b[38;5;241m.\u001b[39mthrow(exc)\n",
      "File \u001b[0;32m~/anaconda3/envs/research2/lib/python3.11/site-packages/deepeval/metrics/indicator.py:181\u001b[0m, in \u001b[0;36msafe_a_measure\u001b[0;34m(metric, tc, ignore_errors)\u001b[0m\n\u001b[1;32m    179\u001b[0m \u001b[38;5;28;01mtry\u001b[39;00m:\n\u001b[1;32m    180\u001b[0m     \u001b[38;5;28;01mtry\u001b[39;00m:\n\u001b[0;32m--> 181\u001b[0m         \u001b[38;5;28;01mawait\u001b[39;00m metric\u001b[38;5;241m.\u001b[39ma_measure(tc, _show_indicator\u001b[38;5;241m=\u001b[39m\u001b[38;5;28;01mFalse\u001b[39;00m)\n\u001b[1;32m    182\u001b[0m     \u001b[38;5;28;01mexcept\u001b[39;00m \u001b[38;5;167;01mTypeError\u001b[39;00m:\n\u001b[1;32m    183\u001b[0m         \u001b[38;5;28;01mawait\u001b[39;00m metric\u001b[38;5;241m.\u001b[39ma_measure(tc)\n",
      "File \u001b[0;32m~/anaconda3/envs/research2/lib/python3.11/site-packages/deepeval/metrics/contextual_recall/contextual_recall.py:92\u001b[0m, in \u001b[0;36mContextualRecallMetric.a_measure\u001b[0;34m(self, test_case, _show_indicator)\u001b[0m\n\u001b[1;32m     85\u001b[0m \u001b[38;5;28mself\u001b[39m\u001b[38;5;241m.\u001b[39mevaluation_cost \u001b[38;5;241m=\u001b[39m \u001b[38;5;241m0\u001b[39m \u001b[38;5;28;01mif\u001b[39;00m \u001b[38;5;28mself\u001b[39m\u001b[38;5;241m.\u001b[39musing_native_model \u001b[38;5;28;01melse\u001b[39;00m \u001b[38;5;28;01mNone\u001b[39;00m\n\u001b[1;32m     86\u001b[0m \u001b[38;5;28;01mwith\u001b[39;00m metric_progress_indicator(\n\u001b[1;32m     87\u001b[0m     \u001b[38;5;28mself\u001b[39m,\n\u001b[1;32m     88\u001b[0m     async_mode\u001b[38;5;241m=\u001b[39m\u001b[38;5;28;01mTrue\u001b[39;00m,\n\u001b[1;32m     89\u001b[0m     _show_indicator\u001b[38;5;241m=\u001b[39m_show_indicator,\n\u001b[1;32m     90\u001b[0m ):\n\u001b[1;32m     91\u001b[0m     \u001b[38;5;28mself\u001b[39m\u001b[38;5;241m.\u001b[39mverdicts: List[ContextualRecallVerdict] \u001b[38;5;241m=\u001b[39m (\n\u001b[0;32m---> 92\u001b[0m         \u001b[38;5;28;01mawait\u001b[39;00m \u001b[38;5;28mself\u001b[39m\u001b[38;5;241m.\u001b[39m_a_generate_verdicts(\n\u001b[1;32m     93\u001b[0m             test_case\u001b[38;5;241m.\u001b[39mexpected_output, test_case\u001b[38;5;241m.\u001b[39mretrieval_context\n\u001b[1;32m     94\u001b[0m         )\n\u001b[1;32m     95\u001b[0m     )\n\u001b[1;32m     96\u001b[0m     \u001b[38;5;28mself\u001b[39m\u001b[38;5;241m.\u001b[39mscore \u001b[38;5;241m=\u001b[39m \u001b[38;5;28mself\u001b[39m\u001b[38;5;241m.\u001b[39m_calculate_score()\n\u001b[1;32m     97\u001b[0m     \u001b[38;5;28mself\u001b[39m\u001b[38;5;241m.\u001b[39mreason \u001b[38;5;241m=\u001b[39m \u001b[38;5;28;01mawait\u001b[39;00m \u001b[38;5;28mself\u001b[39m\u001b[38;5;241m.\u001b[39m_a_generate_reason(\n\u001b[1;32m     98\u001b[0m         test_case\u001b[38;5;241m.\u001b[39mexpected_output\n\u001b[1;32m     99\u001b[0m     )\n",
      "File \u001b[0;32m~/anaconda3/envs/research2/lib/python3.11/site-packages/deepeval/metrics/contextual_recall/contextual_recall.py:206\u001b[0m, in \u001b[0;36mContextualRecallMetric._a_generate_verdicts\u001b[0;34m(self, expected_output, retrieval_context)\u001b[0m\n\u001b[1;32m    204\u001b[0m \u001b[38;5;28;01melse\u001b[39;00m:\n\u001b[1;32m    205\u001b[0m     \u001b[38;5;28;01mtry\u001b[39;00m:\n\u001b[0;32m--> 206\u001b[0m         res: Verdicts \u001b[38;5;241m=\u001b[39m \u001b[38;5;28;01mawait\u001b[39;00m \u001b[38;5;28mself\u001b[39m\u001b[38;5;241m.\u001b[39mmodel\u001b[38;5;241m.\u001b[39ma_generate(\n\u001b[1;32m    207\u001b[0m             prompt, schema\u001b[38;5;241m=\u001b[39mVerdicts\n\u001b[1;32m    208\u001b[0m         )\n\u001b[1;32m    209\u001b[0m         verdicts: Verdicts \u001b[38;5;241m=\u001b[39m [item \u001b[38;5;28;01mfor\u001b[39;00m item \u001b[38;5;129;01min\u001b[39;00m res\u001b[38;5;241m.\u001b[39mverdicts]\n\u001b[1;32m    210\u001b[0m         \u001b[38;5;28;01mreturn\u001b[39;00m verdicts\n",
      "Cell \u001b[0;32mIn[19], line 26\u001b[0m, in \u001b[0;36mCustomGeminiFlash.a_generate\u001b[0;34m(self, prompt, schema)\u001b[0m\n\u001b[1;32m     25\u001b[0m \u001b[38;5;28;01masync\u001b[39;00m \u001b[38;5;28;01mdef\u001b[39;00m \u001b[38;5;21ma_generate\u001b[39m(\u001b[38;5;28mself\u001b[39m, prompt: \u001b[38;5;28mstr\u001b[39m, schema: BaseModel) \u001b[38;5;241m-\u001b[39m\u001b[38;5;241m>\u001b[39m BaseModel:\n\u001b[0;32m---> 26\u001b[0m     \u001b[38;5;28;01mreturn\u001b[39;00m \u001b[38;5;28;43mself\u001b[39;49m\u001b[38;5;241;43m.\u001b[39;49m\u001b[43mgenerate\u001b[49m\u001b[43m(\u001b[49m\u001b[43mprompt\u001b[49m\u001b[43m,\u001b[49m\u001b[43m \u001b[49m\u001b[43mschema\u001b[49m\u001b[43m)\u001b[49m\n",
      "Cell \u001b[0;32mIn[19], line 14\u001b[0m, in \u001b[0;36mCustomGeminiFlash.generate\u001b[0;34m(self, prompt, schema)\u001b[0m\n\u001b[1;32m      9\u001b[0m client \u001b[38;5;241m=\u001b[39m \u001b[38;5;28mself\u001b[39m\u001b[38;5;241m.\u001b[39mload_model()\n\u001b[1;32m     10\u001b[0m instructor_client \u001b[38;5;241m=\u001b[39m instructor\u001b[38;5;241m.\u001b[39mfrom_gemini(\n\u001b[1;32m     11\u001b[0m     client\u001b[38;5;241m=\u001b[39mclient,\n\u001b[1;32m     12\u001b[0m     mode\u001b[38;5;241m=\u001b[39minstructor\u001b[38;5;241m.\u001b[39mMode\u001b[38;5;241m.\u001b[39mGEMINI_JSON,\n\u001b[1;32m     13\u001b[0m )\n\u001b[0;32m---> 14\u001b[0m resp \u001b[38;5;241m=\u001b[39m \u001b[43minstructor_client\u001b[49m\u001b[38;5;241;43m.\u001b[39;49m\u001b[43mmessages\u001b[49m\u001b[38;5;241;43m.\u001b[39;49m\u001b[43mcreate\u001b[49m\u001b[43m(\u001b[49m\n\u001b[1;32m     15\u001b[0m \u001b[43m    \u001b[49m\u001b[43mmessages\u001b[49m\u001b[38;5;241;43m=\u001b[39;49m\u001b[43m[\u001b[49m\n\u001b[1;32m     16\u001b[0m \u001b[43m        \u001b[49m\u001b[43m{\u001b[49m\n\u001b[1;32m     17\u001b[0m \u001b[43m            \u001b[49m\u001b[38;5;124;43m\"\u001b[39;49m\u001b[38;5;124;43mrole\u001b[39;49m\u001b[38;5;124;43m\"\u001b[39;49m\u001b[43m:\u001b[49m\u001b[43m \u001b[49m\u001b[38;5;124;43m\"\u001b[39;49m\u001b[38;5;124;43muser\u001b[39;49m\u001b[38;5;124;43m\"\u001b[39;49m\u001b[43m,\u001b[49m\n\u001b[1;32m     18\u001b[0m \u001b[43m            \u001b[49m\u001b[38;5;124;43m\"\u001b[39;49m\u001b[38;5;124;43mcontent\u001b[39;49m\u001b[38;5;124;43m\"\u001b[39;49m\u001b[43m:\u001b[49m\u001b[43m \u001b[49m\u001b[43mprompt\u001b[49m\u001b[43m,\u001b[49m\n\u001b[1;32m     19\u001b[0m \u001b[43m        \u001b[49m\u001b[43m}\u001b[49m\n\u001b[1;32m     20\u001b[0m \u001b[43m    \u001b[49m\u001b[43m]\u001b[49m\u001b[43m,\u001b[49m\n\u001b[1;32m     21\u001b[0m \u001b[43m    \u001b[49m\u001b[43mresponse_model\u001b[49m\u001b[38;5;241;43m=\u001b[39;49m\u001b[43mschema\u001b[49m\u001b[43m,\u001b[49m\n\u001b[1;32m     22\u001b[0m \u001b[43m\u001b[49m\u001b[43m)\u001b[49m\n\u001b[1;32m     23\u001b[0m \u001b[38;5;28;01mreturn\u001b[39;00m resp\n",
      "File \u001b[0;32m~/anaconda3/envs/research2/lib/python3.11/site-packages/instructor/client.py:116\u001b[0m, in \u001b[0;36mInstructor.create\u001b[0;34m(self, response_model, messages, max_retries, validation_context, strict, **kwargs)\u001b[0m\n\u001b[1;32m    105\u001b[0m \u001b[38;5;28;01mdef\u001b[39;00m \u001b[38;5;21mcreate\u001b[39m(\n\u001b[1;32m    106\u001b[0m     \u001b[38;5;28mself\u001b[39m,\n\u001b[1;32m    107\u001b[0m     response_model: \u001b[38;5;28mtype\u001b[39m[T] \u001b[38;5;241m|\u001b[39m \u001b[38;5;28;01mNone\u001b[39;00m,\n\u001b[0;32m   (...)\u001b[0m\n\u001b[1;32m    112\u001b[0m     \u001b[38;5;241m*\u001b[39m\u001b[38;5;241m*\u001b[39mkwargs: Any,\n\u001b[1;32m    113\u001b[0m ) \u001b[38;5;241m-\u001b[39m\u001b[38;5;241m>\u001b[39m T \u001b[38;5;241m|\u001b[39m Any \u001b[38;5;241m|\u001b[39m Awaitable[T] \u001b[38;5;241m|\u001b[39m Awaitable[Any]:\n\u001b[1;32m    114\u001b[0m     kwargs \u001b[38;5;241m=\u001b[39m \u001b[38;5;28mself\u001b[39m\u001b[38;5;241m.\u001b[39mhandle_kwargs(kwargs)\n\u001b[0;32m--> 116\u001b[0m     \u001b[38;5;28;01mreturn\u001b[39;00m \u001b[38;5;28;43mself\u001b[39;49m\u001b[38;5;241;43m.\u001b[39;49m\u001b[43mcreate_fn\u001b[49m\u001b[43m(\u001b[49m\n\u001b[1;32m    117\u001b[0m \u001b[43m        \u001b[49m\u001b[43mresponse_model\u001b[49m\u001b[38;5;241;43m=\u001b[39;49m\u001b[43mresponse_model\u001b[49m\u001b[43m,\u001b[49m\n\u001b[1;32m    118\u001b[0m \u001b[43m        \u001b[49m\u001b[43mmessages\u001b[49m\u001b[38;5;241;43m=\u001b[39;49m\u001b[43mmessages\u001b[49m\u001b[43m,\u001b[49m\n\u001b[1;32m    119\u001b[0m \u001b[43m        \u001b[49m\u001b[43mmax_retries\u001b[49m\u001b[38;5;241;43m=\u001b[39;49m\u001b[43mmax_retries\u001b[49m\u001b[43m,\u001b[49m\n\u001b[1;32m    120\u001b[0m \u001b[43m        \u001b[49m\u001b[43mvalidation_context\u001b[49m\u001b[38;5;241;43m=\u001b[39;49m\u001b[43mvalidation_context\u001b[49m\u001b[43m,\u001b[49m\n\u001b[1;32m    121\u001b[0m \u001b[43m        \u001b[49m\u001b[43mstrict\u001b[49m\u001b[38;5;241;43m=\u001b[39;49m\u001b[43mstrict\u001b[49m\u001b[43m,\u001b[49m\n\u001b[1;32m    122\u001b[0m \u001b[43m        \u001b[49m\u001b[38;5;241;43m*\u001b[39;49m\u001b[38;5;241;43m*\u001b[39;49m\u001b[43mkwargs\u001b[49m\u001b[43m,\u001b[49m\n\u001b[1;32m    123\u001b[0m \u001b[43m    \u001b[49m\u001b[43m)\u001b[49m\n",
      "File \u001b[0;32m~/anaconda3/envs/research2/lib/python3.11/site-packages/instructor/patch.py:143\u001b[0m, in \u001b[0;36mpatch.<locals>.new_create_sync\u001b[0;34m(response_model, validation_context, max_retries, strict, *args, **kwargs)\u001b[0m\n\u001b[1;32m    131\u001b[0m \u001b[38;5;129m@wraps\u001b[39m(func)\n\u001b[1;32m    132\u001b[0m \u001b[38;5;28;01mdef\u001b[39;00m \u001b[38;5;21mnew_create_sync\u001b[39m(\n\u001b[1;32m    133\u001b[0m     response_model: \u001b[38;5;28mtype\u001b[39m[T_Model] \u001b[38;5;241m=\u001b[39m \u001b[38;5;28;01mNone\u001b[39;00m,\n\u001b[0;32m   (...)\u001b[0m\n\u001b[1;32m    138\u001b[0m     \u001b[38;5;241m*\u001b[39m\u001b[38;5;241m*\u001b[39mkwargs: T_ParamSpec\u001b[38;5;241m.\u001b[39mkwargs,\n\u001b[1;32m    139\u001b[0m ) \u001b[38;5;241m-\u001b[39m\u001b[38;5;241m>\u001b[39m T_Model:\n\u001b[1;32m    140\u001b[0m     response_model, new_kwargs \u001b[38;5;241m=\u001b[39m handle_response_model(\n\u001b[1;32m    141\u001b[0m         response_model\u001b[38;5;241m=\u001b[39mresponse_model, mode\u001b[38;5;241m=\u001b[39mmode, \u001b[38;5;241m*\u001b[39m\u001b[38;5;241m*\u001b[39mkwargs\n\u001b[1;32m    142\u001b[0m     )\n\u001b[0;32m--> 143\u001b[0m     response \u001b[38;5;241m=\u001b[39m \u001b[43mretry_sync\u001b[49m\u001b[43m(\u001b[49m\n\u001b[1;32m    144\u001b[0m \u001b[43m        \u001b[49m\u001b[43mfunc\u001b[49m\u001b[38;5;241;43m=\u001b[39;49m\u001b[43mfunc\u001b[49m\u001b[43m,\u001b[49m\n\u001b[1;32m    145\u001b[0m \u001b[43m        \u001b[49m\u001b[43mresponse_model\u001b[49m\u001b[38;5;241;43m=\u001b[39;49m\u001b[43mresponse_model\u001b[49m\u001b[43m,\u001b[49m\n\u001b[1;32m    146\u001b[0m \u001b[43m        \u001b[49m\u001b[43mvalidation_context\u001b[49m\u001b[38;5;241;43m=\u001b[39;49m\u001b[43mvalidation_context\u001b[49m\u001b[43m,\u001b[49m\n\u001b[1;32m    147\u001b[0m \u001b[43m        \u001b[49m\u001b[43mmax_retries\u001b[49m\u001b[38;5;241;43m=\u001b[39;49m\u001b[43mmax_retries\u001b[49m\u001b[43m,\u001b[49m\n\u001b[1;32m    148\u001b[0m \u001b[43m        \u001b[49m\u001b[43margs\u001b[49m\u001b[38;5;241;43m=\u001b[39;49m\u001b[43margs\u001b[49m\u001b[43m,\u001b[49m\n\u001b[1;32m    149\u001b[0m \u001b[43m        \u001b[49m\u001b[43mstrict\u001b[49m\u001b[38;5;241;43m=\u001b[39;49m\u001b[43mstrict\u001b[49m\u001b[43m,\u001b[49m\n\u001b[1;32m    150\u001b[0m \u001b[43m        \u001b[49m\u001b[43mkwargs\u001b[49m\u001b[38;5;241;43m=\u001b[39;49m\u001b[43mnew_kwargs\u001b[49m\u001b[43m,\u001b[49m\n\u001b[1;32m    151\u001b[0m \u001b[43m        \u001b[49m\u001b[43mmode\u001b[49m\u001b[38;5;241;43m=\u001b[39;49m\u001b[43mmode\u001b[49m\u001b[43m,\u001b[49m\n\u001b[1;32m    152\u001b[0m \u001b[43m    \u001b[49m\u001b[43m)\u001b[49m\n\u001b[1;32m    153\u001b[0m     \u001b[38;5;28;01mreturn\u001b[39;00m response\n",
      "File \u001b[0;32m~/anaconda3/envs/research2/lib/python3.11/site-packages/instructor/retry.py:195\u001b[0m, in \u001b[0;36mretry_sync\u001b[0;34m(func, response_model, validation_context, args, kwargs, max_retries, strict, mode)\u001b[0m\n\u001b[1;32m    193\u001b[0m                 \u001b[38;5;28;01mraise\u001b[39;00m e\n\u001b[1;32m    194\u001b[0m \u001b[38;5;28;01mexcept\u001b[39;00m RetryError \u001b[38;5;28;01mas\u001b[39;00m e:\n\u001b[0;32m--> 195\u001b[0m     \u001b[38;5;28;01mraise\u001b[39;00m InstructorRetryException(\n\u001b[1;32m    196\u001b[0m         e,\n\u001b[1;32m    197\u001b[0m         last_completion\u001b[38;5;241m=\u001b[39mresponse,\n\u001b[1;32m    198\u001b[0m         n_attempts\u001b[38;5;241m=\u001b[39mattempt\u001b[38;5;241m.\u001b[39mretry_state\u001b[38;5;241m.\u001b[39mattempt_number,\n\u001b[1;32m    199\u001b[0m         messages\u001b[38;5;241m=\u001b[39mkwargs\u001b[38;5;241m.\u001b[39mget(\n\u001b[1;32m    200\u001b[0m             \u001b[38;5;124m\"\u001b[39m\u001b[38;5;124mmessages\u001b[39m\u001b[38;5;124m\"\u001b[39m, kwargs\u001b[38;5;241m.\u001b[39mget(\u001b[38;5;124m\"\u001b[39m\u001b[38;5;124mcontents\u001b[39m\u001b[38;5;124m\"\u001b[39m, kwargs\u001b[38;5;241m.\u001b[39mget(\u001b[38;5;124m\"\u001b[39m\u001b[38;5;124mchat_history\u001b[39m\u001b[38;5;124m\"\u001b[39m, []))\n\u001b[1;32m    201\u001b[0m         ),\n\u001b[1;32m    202\u001b[0m         total_usage\u001b[38;5;241m=\u001b[39mtotal_usage,\n\u001b[1;32m    203\u001b[0m     ) \u001b[38;5;28;01mfrom\u001b[39;00m \u001b[38;5;21;01me\u001b[39;00m\n",
      "\u001b[0;31mInstructorRetryException\u001b[0m: RetryError[<Future at 0x7f2932b19250 state=finished raised ValidationError>]"
     ]
    }
   ],
   "source": [
    "# hit errors for all 5 metrics with throttle_value=60 and =90\n",
    "# Trying retriever metrics first now\n",
    "# later try answer_relevancy, faithfulness\n",
    "# Started getting resource exhausted errors with contextual_relevancy, will try just contextual_precision and contextual_recall\n",
    "# Got through 4 test cases before resource exhausted errors on contextual_precision... will try metrics separately\n",
    "\n",
    "# for contextual precision, got json validation error at the last test case\n",
    "# ValidationError: 1 validation error for Verdicts\n",
    "# Invalid JSON: expected `,` or `}` at line 1 column 251 [type=json_invalid, input_value='{\"verdicts\": [{\"verdict\"... wrong they are.\\' \"}]}', input_type=str]\n",
    "\n",
    "# Same type of Verdicts error for contextual_recall\n",
    "#ValidationError: 1 validation error for Verdicts\n",
    "#  Invalid JSON: EOF while parsing a list at line 1 column 31251 [type=json_invalid, input_value='{\"verdicts\": [{\"verdict\"...d the middle out...\\'\"}', input_type=str]\n",
    "\n",
    "# eval_contextprecision = evaluate(test_cases=evaldataset.test_cases, metrics=[contextual_precision], throttle_value=90)\n",
    "# Trying without reason\n",
    "eval_contextrecall = evaluate(test_cases=evaldataset.test_cases, metrics=[contextual_recall], throttle_value=90)\n",
    "#eval_contextrelevancy = evaluate(test_cases=evaldataset.test_cases, metrics=[contextual_relevancy], throttle_value=90)\n",
    "\n",
    "# still getting errors with json, try working with basemodel next week\n",
    "# https://docs.confident-ai.com/docs/guides-using-custom-llms"
   ]
  },
  {
   "cell_type": "raw",
   "id": "bbb383d2-5df5-4bcf-9707-54eee88d2c22",
   "metadata": {},
   "source": [
    "# Run with 5 RAG metrics output (Contextual Precision, Contextual Recall, Contextual Relevancy, Answer Relevancy, Faithfulness)\n"
   ]
  },
  {
   "cell_type": "code",
   "execution_count": 31,
   "id": "0128ad6f-1eac-4d26-80b2-c3df8ace688e",
   "metadata": {},
   "outputs": [],
   "source": [
    "# test RAGAS metrics\n",
    "from deepeval import evaluate\n",
    "from deepeval.metrics.ragas import RagasMetric\n",
    "from deepeval.metrics.ragas import RAGASAnswerRelevancyMetric\n",
    "from deepeval.metrics.ragas import RAGASFaithfulnessMetric\n",
    "from deepeval.metrics.ragas import RAGASContextualRecallMetric\n",
    "from deepeval.metrics.ragas import RAGASContextualPrecisionMetric\n",
    "\n",
    "ragasmetric = RagasMetric(model=custom_geminiflash, embeddings=custom_geminiembeddings)\n",
    "ragas_ar = RAGASAnswerRelevancyMetric(model=custom_geminiflash, embeddings=custom_geminiembeddings)\n",
    "ragas_f = RAGASFaithfulnessMetric(model=custom_geminiflash)\n",
    "ragas_cr = RAGASContextualRecallMetric(model=custom_geminiflash)\n",
    "ragas_cp = RAGASContextualPrecisionMetric(model=custom_geminiflash)"
   ]
  },
  {
   "cell_type": "code",
   "execution_count": null,
   "id": "8b3f9317-d292-48a2-9e77-72ff0671c528",
   "metadata": {},
   "outputs": [],
   "source": [
    "# stopped here, failed with metric.\n",
    "eval_ragas = evaluate(test_cases=evaldataset.test_cases, metrics=[ragasmetric], throttle_value=90)"
   ]
  },
  {
   "cell_type": "code",
   "execution_count": null,
   "id": "02a3feaa-39c5-4a55-bf28-54ca1a5a5ca1",
   "metadata": {},
   "outputs": [],
   "source": [
    "eval_ragas_all = evaluate(test_cases=evaldataset.test_cases, metrics=[ragas_ar, ragas_f, ragas_cr, ragas_cp], throttle_value=90)"
   ]
  },
  {
   "cell_type": "code",
   "execution_count": 27,
   "id": "76464b7c-3ce3-485e-b365-89433808334e",
   "metadata": {},
   "outputs": [],
   "source": [
    "from deepeval.metrics import AnswerRelevancyMetric, FaithfulnessMetric"
   ]
  },
  {
   "cell_type": "code",
   "execution_count": 30,
   "id": "4cd1ac8d-1f6f-47bb-87df-87528474486a",
   "metadata": {},
   "outputs": [
    {
     "data": {
      "application/vnd.jupyter.widget-view+json": {
       "model_id": "",
       "version_major": 2,
       "version_minor": 0
      },
      "text/plain": [
       "Output()"
      ]
     },
     "metadata": {},
     "output_type": "display_data"
    },
    {
     "data": {
      "text/html": [
       "<pre style=\"white-space:pre;overflow-x:auto;line-height:normal;font-family:Menlo,'DejaVu Sans Mono',consolas,'Courier New',monospace\">Event loop is already running. Applying nest_asyncio patch to allow async execution...\n",
       "</pre>\n"
      ],
      "text/plain": [
       "Event loop is already running. Applying nest_asyncio patch to allow async execution...\n"
      ]
     },
     "metadata": {},
     "output_type": "display_data"
    },
    {
     "data": {
      "text/html": [
       "<pre style=\"white-space:pre;overflow-x:auto;line-height:normal;font-family:Menlo,'DejaVu Sans Mono',consolas,'Courier New',monospace\"></pre>\n"
      ],
      "text/plain": []
     },
     "metadata": {},
     "output_type": "display_data"
    },
    {
     "data": {
      "application/vnd.jupyter.widget-view+json": {
       "model_id": "",
       "version_major": 2,
       "version_minor": 0
      },
      "text/plain": [
       "Output()"
      ]
     },
     "metadata": {},
     "output_type": "display_data"
    },
    {
     "data": {
      "text/html": [
       "<pre style=\"white-space:pre;overflow-x:auto;line-height:normal;font-family:Menlo,'DejaVu Sans Mono',consolas,'Courier New',monospace\">Event loop is already running. Applying nest_asyncio patch to allow async execution...\n",
       "</pre>\n"
      ],
      "text/plain": [
       "Event loop is already running. Applying nest_asyncio patch to allow async execution...\n"
      ]
     },
     "metadata": {},
     "output_type": "display_data"
    },
    {
     "name": "stdout",
     "output_type": "stream",
     "text": [
      "Answer Relevancy Score:  1.0\n",
      "Answer Relevancy Reason:  The score is 1.00 because the output provides the perfect JSON response based on the given schema, which is exactly what is needed.\n"
     ]
    },
    {
     "data": {
      "text/html": [
       "<pre style=\"white-space:pre;overflow-x:auto;line-height:normal;font-family:Menlo,'DejaVu Sans Mono',consolas,'Courier New',monospace\"></pre>\n"
      ],
      "text/plain": []
     },
     "metadata": {},
     "output_type": "display_data"
    },
    {
     "name": "stdout",
     "output_type": "stream",
     "text": [
      "Faithfulness Score:  1.0\n",
      "Faithfulness Reason:  Amazing! You've got no contradictions, which means the actual output perfectly aligns with the retrieval context. Keep up the great work!\n"
     ]
    }
   ],
   "source": [
    "# \"generic\" evaluation of generation\n",
    "answer_relevancy = AnswerRelevancyMetric(model=custom_geminiflash)\n",
    "faithfulness = FaithfulnessMetric(model=custom_geminiflash)\n",
    "                                 \n",
    "answer_relevancy.measure(test_case)\n",
    "print(\"Answer Relevancy Score: \", answer_relevancy.score)\n",
    "print(\"Answer Relevancy Reason: \", answer_relevancy.reason)\n",
    "\n",
    "faithfulness.measure(test_case)\n",
    "print(\"Faithfulness Score: \", faithfulness.score)\n",
    "print(\"Faithfulness Reason: \", faithfulness.reason)"
   ]
  },
  {
   "cell_type": "code",
   "execution_count": null,
   "id": "5406d825-9d56-44f9-aa42-46cd253d6349",
   "metadata": {},
   "outputs": [],
   "source": [
    "#Answer Relevancy Score:  1.0\n",
    "#Answer Relevancy Reason:  The score is 1.00 because the provided context is missing the speaker's proposed measures to lower prescription drug costs, making it impossible to provide a relevant response.\n",
    "\n",
    "#Faithfulness Score:  1.0\n",
    "#Faithfulness Reason:  Great job! The 'actual output' perfectly aligns with the information in the 'retrieval context'. Keep up the amazing work! \n",
    "\n",
    "# rerun\n",
    "#Answer Relevancy Score:  1.0\n",
    "#Answer Relevancy Reason:  The speaker proposes the following measures to lower prescription drug costs in America:  * Allow Medicare to negotiate drug prices.  * Cap out-of-pocket drug costs for seniors.  *  Limit price increases on drugs to the rate of inflation.  * Encourage generic drug competition.\n",
    "\n",
    "#Faithfulness Score:  1.0\n",
    "#Faithfulness Reason:  The score is 1.00 because there are no contradictions"
   ]
  },
  {
   "cell_type": "code",
   "execution_count": null,
   "id": "236fa57e-cfcc-4077-8f66-eb278c7fe741",
   "metadata": {},
   "outputs": [],
   "source": []
  },
  {
   "cell_type": "code",
   "execution_count": 46,
   "id": "654da851-9125-4c34-b1e9-19add3a09b84",
   "metadata": {},
   "outputs": [
    {
     "data": {
      "application/vnd.jupyter.widget-view+json": {
       "model_id": "",
       "version_major": 2,
       "version_minor": 0
      },
      "text/plain": [
       "Output()"
      ]
     },
     "metadata": {},
     "output_type": "display_data"
    },
    {
     "data": {
      "text/html": [
       "<pre style=\"white-space:pre;overflow-x:auto;line-height:normal;font-family:Menlo,'DejaVu Sans Mono',consolas,'Courier New',monospace\">Event loop is already running. Applying nest_asyncio patch to allow async execution...\n",
       "</pre>\n"
      ],
      "text/plain": [
       "Event loop is already running. Applying nest_asyncio patch to allow async execution...\n"
      ]
     },
     "metadata": {},
     "output_type": "display_data"
    },
    {
     "data": {
      "text/html": [
       "<pre style=\"white-space:pre;overflow-x:auto;line-height:normal;font-family:Menlo,'DejaVu Sans Mono',consolas,'Courier New',monospace\"></pre>\n"
      ],
      "text/plain": []
     },
     "metadata": {},
     "output_type": "display_data"
    }
   ],
   "source": [
    "# Try generating a synthetic dataset with DeepEval\n",
    "from deepeval.dataset import EvaluationDataset\n",
    "from deepeval.synthesizer import Synthesizer\n",
    "\n",
    "dataset = EvaluationDataset()\n",
    "synthesizer = Synthesizer(model=custom_geminiflash, embedder=custom_geminiembeddings)\n",
    "dataset.generate_goldens_from_docs(\n",
    "    synthesizer=synthesizer,\n",
    "    document_paths=['Speeches/titleedits/state_of_the_union_042921.txt', 'Speeches/titleedits/state_of_the_union_030122.txt', \n",
    "                    'Speeches/titleedits/state_of_the_union_020723.txt', 'Speeches/titleedits/state_of_the_union_030724.txt'],\n",
    "    max_goldens_per_document=3\n",
    ")"
   ]
  },
  {
   "cell_type": "code",
   "execution_count": 52,
   "id": "736b4914-263d-4c5d-8642-d64214ff26b7",
   "metadata": {},
   "outputs": [
    {
     "name": "stdout",
     "output_type": "stream",
     "text": [
      "Evaluation dataset saved at ./20240909_121535.csv!\n"
     ]
    },
    {
     "data": {
      "text/plain": [
       "'./20240909_121535.csv'"
      ]
     },
     "execution_count": 52,
     "metadata": {},
     "output_type": "execute_result"
    }
   ],
   "source": [
    "#dataset.save_as(file_type=\"csv\", directory=\".\")"
   ]
  },
  {
   "cell_type": "code",
   "execution_count": 62,
   "id": "b5f4722f-3784-4ba9-9e63-a7a2aec45608",
   "metadata": {},
   "outputs": [],
   "source": [
    "# stopped here 9/9, look into context vs retrieval_context\n",
    "dataset2 = EvaluationDataset()\n",
    "dataset2.add_test_cases_from_csv_file(\n",
    "    file_path=\"datasets/synthesizer_speeches_dataset.csv\",\n",
    "    input_col_name=\"input\",\n",
    "    actual_output_col_name=\"actual_output\",\n",
    "    expected_output_col_name=\"expected_output\",\n",
    "    context_col_name=\"context\",\n",
    "    context_col_delimiter= \";\",\n",
    "#    retrieval_context_col_name=\"retrieval_context\",\n",
    "#    retrieval_context_col_delimiter= \";\"\n",
    ")"
   ]
  },
  {
   "cell_type": "code",
   "execution_count": null,
   "id": "b868d380-958f-47d5-bf0e-8a0cdbeb7924",
   "metadata": {},
   "outputs": [],
   "source": []
  },
  {
   "cell_type": "code",
   "execution_count": 60,
   "id": "7d1abd7f-6230-466e-a3f3-64a48c83c404",
   "metadata": {},
   "outputs": [
    {
     "data": {
      "text/html": [
       "<pre style=\"white-space:pre;overflow-x:auto;line-height:normal;font-family:Menlo,'DejaVu Sans Mono',consolas,'Courier New',monospace\">✨ You're running DeepEval's latest <span style=\"color: #6a00ff; text-decoration-color: #6a00ff\">Contextual Recall Metric</span>! <span style=\"color: #374151; text-decoration-color: #374151; font-weight: bold\">(</span><span style=\"color: #374151; text-decoration-color: #374151\">using Gemini </span><span style=\"color: #374151; text-decoration-color: #374151; font-weight: bold\">1.5</span><span style=\"color: #374151; text-decoration-color: #374151\"> Flash, </span><span style=\"color: #374151; text-decoration-color: #374151\">strict</span><span style=\"color: #374151; text-decoration-color: #374151\">=</span><span style=\"color: #374151; text-decoration-color: #374151; font-style: italic\">False</span><span style=\"color: #374151; text-decoration-color: #374151\">, </span>\n",
       "<span style=\"color: #374151; text-decoration-color: #374151\">async_mode</span><span style=\"color: #374151; text-decoration-color: #374151\">=</span><span style=\"color: #374151; text-decoration-color: #374151; font-style: italic\">True</span><span style=\"color: #374151; text-decoration-color: #374151; font-weight: bold\">)</span><span style=\"color: #374151; text-decoration-color: #374151\">...</span>\n",
       "</pre>\n"
      ],
      "text/plain": [
       "✨ You're running DeepEval's latest \u001b[38;2;106;0;255mContextual Recall Metric\u001b[0m! \u001b[1;38;2;55;65;81m(\u001b[0m\u001b[38;2;55;65;81musing Gemini \u001b[0m\u001b[1;38;2;55;65;81m1.5\u001b[0m\u001b[38;2;55;65;81m Flash, \u001b[0m\u001b[38;2;55;65;81mstrict\u001b[0m\u001b[38;2;55;65;81m=\u001b[0m\u001b[3;38;2;55;65;81mFalse\u001b[0m\u001b[38;2;55;65;81m, \u001b[0m\n",
       "\u001b[38;2;55;65;81masync_mode\u001b[0m\u001b[38;2;55;65;81m=\u001b[0m\u001b[3;38;2;55;65;81mTrue\u001b[0m\u001b[1;38;2;55;65;81m)\u001b[0m\u001b[38;2;55;65;81m...\u001b[0m\n"
      ]
     },
     "metadata": {},
     "output_type": "display_data"
    },
    {
     "name": "stdout",
     "output_type": "stream",
     "text": [
      "Event loop is already running. Applying nest_asyncio patch to allow async execution...\n"
     ]
    },
    {
     "name": "stderr",
     "output_type": "stream",
     "text": [
      "Evaluating 16 test case(s) in parallel: |                                 |  0% (0/16) [Time Taken: 24:01, ?test case/s]"
     ]
    },
    {
     "name": "stdout",
     "output_type": "stream",
     "text": [
      "\n",
      "======================================================================\n",
      "\n",
      "Overall Metric Pass Rates\n",
      "\n",
      "\n",
      "======================================================================\n",
      "\n"
     ]
    },
    {
     "name": "stderr",
     "output_type": "stream",
     "text": [
      "\n"
     ]
    },
    {
     "data": {
      "text/html": [
       "<pre style=\"white-space:pre;overflow-x:auto;line-height:normal;font-family:Menlo,'DejaVu Sans Mono',consolas,'Courier New',monospace\">No test cases found, please try again.\n",
       "</pre>\n"
      ],
      "text/plain": [
       "No test cases found, please try again.\n"
      ]
     },
     "metadata": {},
     "output_type": "display_data"
    }
   ],
   "source": [
    "eval_goldens_recall = evaluate(test_cases=dataset.goldens, metrics=[contextual_recall], throttle_value=90)"
   ]
  },
  {
   "cell_type": "code",
   "execution_count": 61,
   "id": "b7bbcd7c-eda8-42c8-90d7-b150e241f7de",
   "metadata": {},
   "outputs": [
    {
     "data": {
      "text/plain": [
       "EvaluationDataset(test_cases=[], goldens=[Golden(input=\"How does the Violence Against Women Act, originally written by Biden, aim to prevent abusers from obtaining firearms through the 'boyfriend loophole'?\", actual_output=None, expected_output=None, context=[' back.\\n\\nAnother thing: Let’s authorize the Violence Against Women Act, which has been law for 27 years.  (Applause.)  Twenty-seven years ago, I wrote it.  It’ll close the — the act that has to be authorized now will close the “boyfriend” loophole to keep guns out of the hands of abusers.  The court order said, “This is an abuser.  You can’t own a gun.”  It’s to close that loophole that existed. \\n\\nYou know, it’s estimated that 50 women are shot and killed by an intimate partner every month in America — 50 a month.  Let’s pass it and save some lives.  (Applause.)\\n\\nAnd I need not — I need not tell anyone this, but gun violence is becoming an epidemic in America.\\n\\nThe flag at the White House was still flying at half-mast for the 8 victims in the mass shooting in Georgia when 10 more lives were taken in a mass shooting in Colorado.\\n\\nAnd in the week in between those two events, 250 other Americans were shot dead in the streets of America — 250 shot dead.\\n\\nI know how hard it is to make progress on this issue.  In the ’90s, we passed universal background checks, a ban on assault weapons and high-capacity magazines that hold 100 rounds that can be fired off in seconds.  We beat the NRA.  Mass shootings and gun violence declined.  Check out the report in over 10 years.  But in the early twe- — 2000s, the law expired, and we’ve seen daily bloodshed since.  I’m not saying if the law continued, we wouldn’t see bloodshed.  \\n\\nMore than two weeks ago in the Rose Garden, surrounded by some of the bravest people I know — the survivors and families who lost loved ones to gun violence — I laid out several of the Department of Justice a- — actions that are being taken to — impact on this epidemic. \\n\\nOne of them is banning so-called “ghost guns.”  These are homemade guns built from a kit that includes directions on how to finish the firearm.  The parts have no serial numbers, so they show up at crime scenes and they can’t be traced.  The buyers of these ghost gun kits aren’t required to pass any background check.  Anyone, from a criminal or terrorist, could buy this kit and within 30 minutes have a weapon that’s lethal.  But no more.\\n\\nAnd I will do everything in my power to protect the American people from this epidemic of gun violence, but it’s time for Congress to act as well.  (Applause.)\\n\\nLook, I don’t want to become confrontational but we need more Senate Republicans to join the overwhelming majority of Democrat colleagues and close the loopholes requiring a background check on purchases of guns.  We need a ban on assault weapons and high-capacity magazines.  And don’t tell me it can’t be done.  We did it before, and it worked.\\n\\nTalk to most responsible gun owners and hunters. They’ll tell you there’s no possible justification for having 100 rounds in a weapon.  What do you think — deer are wearing Kevlar vests?  (Laughter.)  They’ll tell you that there are too many people today who are able to buy a gun but shouldn’t be able to buy a gun.\\n\\nThese kinds of reasonable reforms have overwhelming support from the American people, including many gun owners.  The country supports reform and is — and Congress should act.\\n\\nThis shouldn’t be a red or blue issue.  And no amendment to the Constitution is absolute.  You can’t yell “Fire!” in a crowded theater.  From the very beginning, there were certain guns, weapons, that could not be owned by Americans.  Certain people could not own those weapons ever. \\n\\nWe’re not changing the Constitution; we’re being reasonable.  I think this is not a Democrat or Republican issue; I think it’s an American issue.\\n\\nAnd here’s what else we can do: Immigration has always been essential to America.  Let’s end our exhausting war over immigration.  For more than 30 years, politicians have talked about immigration reform, and we’ve done nothing about it.  It’s time to fix it.\\n\\nOn day one of my presidency, I kept my commitment and sent a comprehensive immigration bill to the United States Congress.  If you believe we need to secure the border, pass it, because it has a lot of money for high-tech border security.  If you believe'], retrieval_context=None, additional_metadata=None, comments=None, source_file='Speeches/titleedits/state_of_the_union_042921.txt'), Golden(input=\"How does the Violence Against Women Act, which the President helped author 27 years ago, aim to protect women from violence, especially by closing the 'boyfriend' loophole?\", actual_output=None, expected_output=None, context=[' back.\\n\\nAnother thing: Let’s authorize the Violence Against Women Act, which has been law for 27 years.  (Applause.)  Twenty-seven years ago, I wrote it.  It’ll close the — the act that has to be authorized now will close the “boyfriend” loophole to keep guns out of the hands of abusers.  The court order said, “This is an abuser.  You can’t own a gun.”  It’s to close that loophole that existed. \\n\\nYou know, it’s estimated that 50 women are shot and killed by an intimate partner every month in America — 50 a month.  Let’s pass it and save some lives.  (Applause.)\\n\\nAnd I need not — I need not tell anyone this, but gun violence is becoming an epidemic in America.\\n\\nThe flag at the White House was still flying at half-mast for the 8 victims in the mass shooting in Georgia when 10 more lives were taken in a mass shooting in Colorado.\\n\\nAnd in the week in between those two events, 250 other Americans were shot dead in the streets of America — 250 shot dead.\\n\\nI know how hard it is to make progress on this issue.  In the ’90s, we passed universal background checks, a ban on assault weapons and high-capacity magazines that hold 100 rounds that can be fired off in seconds.  We beat the NRA.  Mass shootings and gun violence declined.  Check out the report in over 10 years.  But in the early twe- — 2000s, the law expired, and we’ve seen daily bloodshed since.  I’m not saying if the law continued, we wouldn’t see bloodshed.  \\n\\nMore than two weeks ago in the Rose Garden, surrounded by some of the bravest people I know — the survivors and families who lost loved ones to gun violence — I laid out several of the Department of Justice a- — actions that are being taken to — impact on this epidemic. \\n\\nOne of them is banning so-called “ghost guns.”  These are homemade guns built from a kit that includes directions on how to finish the firearm.  The parts have no serial numbers, so they show up at crime scenes and they can’t be traced.  The buyers of these ghost gun kits aren’t required to pass any background check.  Anyone, from a criminal or terrorist, could buy this kit and within 30 minutes have a weapon that’s lethal.  But no more.\\n\\nAnd I will do everything in my power to protect the American people from this epidemic of gun violence, but it’s time for Congress to act as well.  (Applause.)\\n\\nLook, I don’t want to become confrontational but we need more Senate Republicans to join the overwhelming majority of Democrat colleagues and close the loopholes requiring a background check on purchases of guns.  We need a ban on assault weapons and high-capacity magazines.  And don’t tell me it can’t be done.  We did it before, and it worked.\\n\\nTalk to most responsible gun owners and hunters. They’ll tell you there’s no possible justification for having 100 rounds in a weapon.  What do you think — deer are wearing Kevlar vests?  (Laughter.)  They’ll tell you that there are too many people today who are able to buy a gun but shouldn’t be able to buy a gun.\\n\\nThese kinds of reasonable reforms have overwhelming support from the American people, including many gun owners.  The country supports reform and is — and Congress should act.\\n\\nThis shouldn’t be a red or blue issue.  And no amendment to the Constitution is absolute.  You can’t yell “Fire!” in a crowded theater.  From the very beginning, there were certain guns, weapons, that could not be owned by Americans.  Certain people could not own those weapons ever. \\n\\nWe’re not changing the Constitution; we’re being reasonable.  I think this is not a Democrat or Republican issue; I think it’s an American issue.\\n\\nAnd here’s what else we can do: Immigration has always been essential to America.  Let’s end our exhausting war over immigration.  For more than 30 years, politicians have talked about immigration reform, and we’ve done nothing about it.  It’s time to fix it.\\n\\nOn day one of my presidency, I kept my commitment and sent a comprehensive immigration bill to the United States Congress.  If you believe we need to secure the border, pass it, because it has a lot of money for high-tech border security.  If you believe'], retrieval_context=None, additional_metadata=None, comments=None, source_file='Speeches/titleedits/state_of_the_union_042921.txt'), Golden(input='Considering the economic policies implemented by the current administration, and the stated goals to increase economic growth and job creation, explain how these initiatives contribute to the observed economic expansion.', actual_output=None, expected_output=None, context=[' behind. \\n\\nAnd it worked. It created jobs. Lots of jobs. \\n\\nIn fact—our economy created over 6.5 Million new jobs just last year, more jobs created in one year  \\nthan ever before in the history of America. \\n\\nOur economy grew at a rate of 5.7% last year, the strongest growth in nearly 40 years, the first step in bringing fundamental change to an economy that hasn’t worked for the working people of this nation for too long.  \\n\\nFor the past 40 years we were told that if we gave tax breaks to those at the very top, the benefits would trickle down to everyone else. \\n\\nBut that trickle-down theory led to weaker economic growth, lower wages, bigger deficits, and the widest gap between those at the top and everyone else in nearly a century. \\n\\nVice President Harris and I ran for office with a new economic vision for America. \\n\\nInvest in America. Educate Americans. Grow the workforce. Build the economy from the bottom up  \\nand the middle out, not from the top down.  \\n\\nBecause we know that when the middle class grows, the poor have a ladder up and the wealthy do very well. \\n\\nAmerica used to have the best roads, bridges, and airports on Earth. \\n\\nNow our infrastructure is ranked 13th in the world. \\n\\nWe won’t be able to compete for the jobs of the 21st Century if we don’t fix that. \\n\\nThat’s why it was so important to pass the Bipartisan Infrastructure Law—the most sweeping investment to rebuild America in history. \\n\\nThis was a bipartisan effort, and I want to thank the members of both parties who worked to make it happen. \\n\\nWe’re done talking about infrastructure weeks. \\n\\nWe’re going to have an infrastructure decade. \\n\\nIt is going to transform America and put us on a path to win the economic competition of the 21st Century that we face with the rest of the world—particularly with China.  \\n\\nAs I’ve told Xi Jinping, it is never a good bet to bet against the American people. \\n\\nWe’ll create good jobs for millions of Americans, modernizing roads, airports, ports, and waterways all across America. \\n\\nAnd we’ll do it all to withstand the devastating effects of the climate crisis and promote environmental justice. \\n\\nWe’ll build a national network of 500,000 electric vehicle charging stations, begin to replace poisonous lead pipes—so every child—and every American—has clean water to drink at home and at school, provide affordable high-speed internet for every American—urban, suburban, rural, and tribal communities. \\n\\n4,000 projects have already been announced. \\n\\nAnd tonight, I’m announcing that this year we will start fixing over 65,000 miles of highway and 1,500 bridges in disrepair. \\n\\nWhen we use taxpayer dollars to rebuild America – we are going to Buy American: buy American products to support American jobs. \\n\\nThe federal government spends about $600 Billion a year to keep the country safe and secure. \\n\\nThere’s been a law on the books for almost a century \\nto make sure taxpayers’ dollars support American jobs and businesses. \\n\\nEvery Administration says they’ll do it, but we are actually doing it. \\n\\nWe will buy American to make sure everything from the deck of an aircraft carrier to the steel on highway guardrails are made in America. \\n\\nBut to compete for the best jobs of the future, we also need to level the playing field with China and other competitors. \\n\\nThat’s why it is so important to pass the Bipartisan Innovation Act sitting in Congress that will make record investments in emerging technologies and American manufacturing. \\n\\nLet me give you one example of why it’s so important to pass it. \\n\\nIf you travel 20 miles east of Columbus, Ohio, you’ll find 1,000 empty acres of land. \\n\\nIt won’t look like much, but if you stop and look closely, you’ll see a “Field of dreams,” the ground on which America’s future will be built. \\n\\nThis is where Intel, the American company that helped build Silicon Valley, is going to build its $20 billion semiconductor “mega site”. \\n\\nUp to eight state-of-the-art factories in one place. 10,000 new good-paying jobs. \\n\\nSome of the most sophisticated manufacturing in the world to make computer chips the size of a fingertip that power the world and our everyday lives. \\n\\nSmartphones.', ' The Internet. Technology we have yet to invent. \\n\\nBut that’s just the beginning. \\n\\nIntel’s CEO, Pat Gelsinger, who is here tonight, told me they are ready to increase their investment from  \\n$20 billion to $100 billion. \\n\\nThat would be one of the biggest investments in manufacturing in American history. \\n\\nAnd all they’re waiting for is for you to pass this bill. \\n\\nSo let’s not wait any longer. Send it to my desk. I’ll sign it.  \\n\\nAnd we will really take off. \\n\\nAnd Intel is not alone. \\n\\nThere’s something happening in America. \\n\\nJust look around and you’ll see an amazing story. \\n\\nThe rebirth of the pride that comes from stamping products “Made In America.” The revitalization of American manufacturing.   \\n\\nCompanies are choosing to build new factories here, when just a few years ago, they would have built them overseas. \\n\\nThat’s what is happening. Ford is investing $11 billion to build electric vehicles, creating 11,000 jobs across the country. \\n\\nGM is making the largest investment in its history—$7 billion to build electric vehicles, creating 4,000 jobs in Michigan. \\n\\nAll told, we created 369,000 new manufacturing jobs in America just last year. \\n\\nPowered by people I’ve met like JoJo Burgess, from generations of union steelworkers from Pittsburgh, who’s here with us tonight. \\n\\nAs Ohio Senator Sherrod Brown says, “It’s time to bury the label “Rust Belt.” \\n\\nIt’s time. \\n\\nBut with all the bright spots in our economy, record job growth and higher wages, too many families are struggling to keep up with the bills.  \\n\\nInflation is robbing them of the gains they might otherwise feel. \\n\\nI get it. That’s why my top priority is getting prices under control. \\n\\nLook, our economy roared back faster than most predicted, but the pandemic meant that businesses had a hard time hiring enough workers to keep up production in their factories. \\n\\nThe pandemic also disrupted global supply chains. \\n\\nWhen factories close, it takes longer to make goods and get them from the warehouse to the store, and prices go up. \\n\\nLook at cars. \\n\\nLast year, there weren’t enough semiconductors to make all the cars that people wanted to buy. \\n\\nAnd guess what, prices of automobiles went up. \\n\\nSo—we have a choice. \\n\\nOne way to fight inflation is to drive down wages and make Americans poorer.  \\n\\nI have a better plan to fight inflation. \\n\\nLower your costs, not your wages. \\n\\nMake more cars and semiconductors in America. \\n\\nMore infrastructure and innovation in America. \\n\\nMore goods moving faster and cheaper in America. \\n\\nMore jobs where you can earn a good living in America. \\n\\nAnd instead of relying on foreign supply chains, let’s make it in America. \\n\\nEconomists call it “increasing the productive capacity of our economy.” \\n\\nI call it building a better America. \\n\\nMy plan to fight inflation will lower your costs and lower the deficit. \\n\\n17 Nobel laureates in economics say my plan will ease long-term inflationary pressures. Top business leaders and most Americans support my plan. And here’s the plan: \\n\\nFirst – cut the cost of prescription drugs. Just look at insulin. One in ten Americans has diabetes. In Virginia, I met a 13-year-old boy named Joshua Davis.  \\n\\nHe and his Dad both have Type 1 diabetes, which means they need insulin every day. Insulin costs about $10 a vial to make.  \\n\\nBut drug companies charge families like Joshua and his Dad up to 30 times more. I spoke with Joshua’s mom. \\n\\nImagine what it’s like to look at your child who needs insulin and have no idea how you’re going to pay for it.  \\n\\nWhat it does to your dignity, your ability to look your child in the eye, to be the parent you expect to be. \\n\\nJoshua is here with us tonight. Yesterday was his birthday. Happy birthday, buddy.  \\n\\nFor Joshua, and for the 200,000 other young people with Type 1 diabetes, let’s cap the cost of insulin at $35 a month so everyone can afford it.  \\n\\nDrug companies will still do very well. And while'], retrieval_context=None, additional_metadata=None, comments=None, source_file='Speeches/titleedits/state_of_the_union_030122.txt'), Golden(input='Given that supply chain disruptions and labor shortages have impacted production, what are the factors contributing to elevated inflation in the US?', actual_output=None, expected_output=None, context=[' behind. \\n\\nAnd it worked. It created jobs. Lots of jobs. \\n\\nIn fact—our economy created over 6.5 Million new jobs just last year, more jobs created in one year  \\nthan ever before in the history of America. \\n\\nOur economy grew at a rate of 5.7% last year, the strongest growth in nearly 40 years, the first step in bringing fundamental change to an economy that hasn’t worked for the working people of this nation for too long.  \\n\\nFor the past 40 years we were told that if we gave tax breaks to those at the very top, the benefits would trickle down to everyone else. \\n\\nBut that trickle-down theory led to weaker economic growth, lower wages, bigger deficits, and the widest gap between those at the top and everyone else in nearly a century. \\n\\nVice President Harris and I ran for office with a new economic vision for America. \\n\\nInvest in America. Educate Americans. Grow the workforce. Build the economy from the bottom up  \\nand the middle out, not from the top down.  \\n\\nBecause we know that when the middle class grows, the poor have a ladder up and the wealthy do very well. \\n\\nAmerica used to have the best roads, bridges, and airports on Earth. \\n\\nNow our infrastructure is ranked 13th in the world. \\n\\nWe won’t be able to compete for the jobs of the 21st Century if we don’t fix that. \\n\\nThat’s why it was so important to pass the Bipartisan Infrastructure Law—the most sweeping investment to rebuild America in history. \\n\\nThis was a bipartisan effort, and I want to thank the members of both parties who worked to make it happen. \\n\\nWe’re done talking about infrastructure weeks. \\n\\nWe’re going to have an infrastructure decade. \\n\\nIt is going to transform America and put us on a path to win the economic competition of the 21st Century that we face with the rest of the world—particularly with China.  \\n\\nAs I’ve told Xi Jinping, it is never a good bet to bet against the American people. \\n\\nWe’ll create good jobs for millions of Americans, modernizing roads, airports, ports, and waterways all across America. \\n\\nAnd we’ll do it all to withstand the devastating effects of the climate crisis and promote environmental justice. \\n\\nWe’ll build a national network of 500,000 electric vehicle charging stations, begin to replace poisonous lead pipes—so every child—and every American—has clean water to drink at home and at school, provide affordable high-speed internet for every American—urban, suburban, rural, and tribal communities. \\n\\n4,000 projects have already been announced. \\n\\nAnd tonight, I’m announcing that this year we will start fixing over 65,000 miles of highway and 1,500 bridges in disrepair. \\n\\nWhen we use taxpayer dollars to rebuild America – we are going to Buy American: buy American products to support American jobs. \\n\\nThe federal government spends about $600 Billion a year to keep the country safe and secure. \\n\\nThere’s been a law on the books for almost a century \\nto make sure taxpayers’ dollars support American jobs and businesses. \\n\\nEvery Administration says they’ll do it, but we are actually doing it. \\n\\nWe will buy American to make sure everything from the deck of an aircraft carrier to the steel on highway guardrails are made in America. \\n\\nBut to compete for the best jobs of the future, we also need to level the playing field with China and other competitors. \\n\\nThat’s why it is so important to pass the Bipartisan Innovation Act sitting in Congress that will make record investments in emerging technologies and American manufacturing. \\n\\nLet me give you one example of why it’s so important to pass it. \\n\\nIf you travel 20 miles east of Columbus, Ohio, you’ll find 1,000 empty acres of land. \\n\\nIt won’t look like much, but if you stop and look closely, you’ll see a “Field of dreams,” the ground on which America’s future will be built. \\n\\nThis is where Intel, the American company that helped build Silicon Valley, is going to build its $20 billion semiconductor “mega site”. \\n\\nUp to eight state-of-the-art factories in one place. 10,000 new good-paying jobs. \\n\\nSome of the most sophisticated manufacturing in the world to make computer chips the size of a fingertip that power the world and our everyday lives. \\n\\nSmartphones.', ' The Internet. Technology we have yet to invent. \\n\\nBut that’s just the beginning. \\n\\nIntel’s CEO, Pat Gelsinger, who is here tonight, told me they are ready to increase their investment from  \\n$20 billion to $100 billion. \\n\\nThat would be one of the biggest investments in manufacturing in American history. \\n\\nAnd all they’re waiting for is for you to pass this bill. \\n\\nSo let’s not wait any longer. Send it to my desk. I’ll sign it.  \\n\\nAnd we will really take off. \\n\\nAnd Intel is not alone. \\n\\nThere’s something happening in America. \\n\\nJust look around and you’ll see an amazing story. \\n\\nThe rebirth of the pride that comes from stamping products “Made In America.” The revitalization of American manufacturing.   \\n\\nCompanies are choosing to build new factories here, when just a few years ago, they would have built them overseas. \\n\\nThat’s what is happening. Ford is investing $11 billion to build electric vehicles, creating 11,000 jobs across the country. \\n\\nGM is making the largest investment in its history—$7 billion to build electric vehicles, creating 4,000 jobs in Michigan. \\n\\nAll told, we created 369,000 new manufacturing jobs in America just last year. \\n\\nPowered by people I’ve met like JoJo Burgess, from generations of union steelworkers from Pittsburgh, who’s here with us tonight. \\n\\nAs Ohio Senator Sherrod Brown says, “It’s time to bury the label “Rust Belt.” \\n\\nIt’s time. \\n\\nBut with all the bright spots in our economy, record job growth and higher wages, too many families are struggling to keep up with the bills.  \\n\\nInflation is robbing them of the gains they might otherwise feel. \\n\\nI get it. That’s why my top priority is getting prices under control. \\n\\nLook, our economy roared back faster than most predicted, but the pandemic meant that businesses had a hard time hiring enough workers to keep up production in their factories. \\n\\nThe pandemic also disrupted global supply chains. \\n\\nWhen factories close, it takes longer to make goods and get them from the warehouse to the store, and prices go up. \\n\\nLook at cars. \\n\\nLast year, there weren’t enough semiconductors to make all the cars that people wanted to buy. \\n\\nAnd guess what, prices of automobiles went up. \\n\\nSo—we have a choice. \\n\\nOne way to fight inflation is to drive down wages and make Americans poorer.  \\n\\nI have a better plan to fight inflation. \\n\\nLower your costs, not your wages. \\n\\nMake more cars and semiconductors in America. \\n\\nMore infrastructure and innovation in America. \\n\\nMore goods moving faster and cheaper in America. \\n\\nMore jobs where you can earn a good living in America. \\n\\nAnd instead of relying on foreign supply chains, let’s make it in America. \\n\\nEconomists call it “increasing the productive capacity of our economy.” \\n\\nI call it building a better America. \\n\\nMy plan to fight inflation will lower your costs and lower the deficit. \\n\\n17 Nobel laureates in economics say my plan will ease long-term inflationary pressures. Top business leaders and most Americans support my plan. And here’s the plan: \\n\\nFirst – cut the cost of prescription drugs. Just look at insulin. One in ten Americans has diabetes. In Virginia, I met a 13-year-old boy named Joshua Davis.  \\n\\nHe and his Dad both have Type 1 diabetes, which means they need insulin every day. Insulin costs about $10 a vial to make.  \\n\\nBut drug companies charge families like Joshua and his Dad up to 30 times more. I spoke with Joshua’s mom. \\n\\nImagine what it’s like to look at your child who needs insulin and have no idea how you’re going to pay for it.  \\n\\nWhat it does to your dignity, your ability to look your child in the eye, to be the parent you expect to be. \\n\\nJoshua is here with us tonight. Yesterday was his birthday. Happy birthday, buddy.  \\n\\nFor Joshua, and for the 200,000 other young people with Type 1 diabetes, let’s cap the cost of insulin at $35 a month so everyone can afford it.  \\n\\nDrug companies will still do very well. And while'], retrieval_context=None, additional_metadata=None, comments=None, source_file='Speeches/titleedits/state_of_the_union_030122.txt'), Golden(input=\"Analyze President Biden's State of the Union speech, identifying its central theme and the key messages he conveyed regarding America's domestic and foreign policy priorities.\", actual_output=None, expected_output=None, context=['State of the Union Address given by President Biden on February 7, 2023\\n\\nMr. Speaker. Madam Vice President. Our First Lady and Second Gentleman.\\n\\nMembers of Congress and the Cabinet. Leaders of our military.\\n\\nMr. Chief Justice, Associate Justices, and retired Justices of the Supreme Court.\\n\\nAnd you, my fellow Americans.\\n\\nI start tonight by congratulating the members of the 118th Congress and the new Speaker of the House, Kevin McCarthy.\\n\\nMr. Speaker, I look forward to working together.\\n\\nI also want to congratulate the new leader of the House Democrats and the first Black House Minority Leader in history, Hakeem Jeffries.\\n\\nCongratulations to the longest serving Senate Leader in history, Mitch McConnell.\\n\\nAnd congratulations to Chuck Schumer for another term as Senate Majority Leader, this time with an even bigger majority.\\n\\nAnd I want to give special recognition to someone who I think will be considered the greatest Speaker in the history of this country, Nancy Pelosi.\\n\\nThe story of America is a story of progress and resilience. Of always moving forward. Of never giving up.\\n\\nA story that is unique among all nations.\\n\\nWe are the only country that has emerged from every crisis stronger than when we entered it.\\n\\nThat is what we are doing again.\\n\\nTwo years ago, our economy was reeling.\\n\\nAs I stand here tonight, we have created a record 12 million new jobs, more jobs created in two years than any president has ever created in four years.\\n\\nTwo years ago, COVID had shut down our businesses, closed our schools, and robbed us of so much.\\n\\nToday, COVID no longer controls our lives.\\n\\nAnd two years ago, our democracy faced its greatest threat since the Civil War.\\n\\nToday, though bruised, our democracy remains unbowed and unbroken.\\n\\nAs we gather here tonight, we are writing the next chapter in the great American story, a story of progress and resilience. When world leaders ask me to define America, I define our country in one word: Possibilities.\\n\\nYou know, we’re often told that Democrats and Republicans can’t work together.\\n\\nBut over these past two years, we proved the cynics and the naysayers wrong.\\n\\nYes, we disagreed plenty. And yes, there were times when Democrats had to go it alone.\\n\\nBut time and again, Democrats and Republicans came together.\\n\\nCame together to defend a stronger and safer Europe.\\n\\nCame together to pass a once-in-a-generation infrastructure law, building bridges to connect our nation and people.\\n\\nCame together to pass one of the most significant laws ever, helping veterans exposed to toxic burn pits.\\n\\nIn fact, I signed over 300 bipartisan laws since becoming President. From reauthorizing the Violence Against Women Act, to the Electoral Count Reform Act, to the Respect for Marriage Act that protects the right to marry the person you love.\\n\\nTo my Republican friends, if we could work together in the last Congress, there is no reason we can’t work together in this new Congress.\\n\\nThe people sent us a clear message. Fighting for the sake of fighting, power for the sake of power, conflict for the sake of conflict, gets us nowhere.\\n\\nAnd that’s always been my vision for our country.\\n\\nTo restore the soul of the nation.\\n\\nTo rebuild the backbone of America, the middle class.\\n\\nTo unite the country.\\n\\nWe’ve been sent here to finish the job.\\n\\nFor decades, the middle class was hollowed out.\\n\\nToo many good-paying manufacturing jobs moved overseas. Factories at home closed down.\\n\\nOnce-thriving cities and towns became shadows of what they used to be.\\n\\nAnd along the way, something else was lost.\\n\\nPride. That sense of self-worth.\\n\\nI ran for President to fundamentally change things, to make sure the economy works for everyone so we can all feel pride in what we do.\\n\\nTo build an economy from the bottom up and the middle out, not from the top down. Because when the middle class does well, the poor have a ladder up and the wealthy still do very well. We all do well.\\n\\nAs my Dad used to say, a job is about a lot more than a paycheck. It’s about your dignity. It’s about respect. It’s about being able to look your kid in the eye and say, “Honey –it’s going to be OK,” and mean it.\\n\\nSo, let’s look at the results. Unemployment rate at 3.4%, a 50-year low. Near record low unemployment for Black and Hispanic workers.\\n\\nWe’', ' White House tonight.\\n\\nFor the lives we can save and for the lives we have lost, let this be a truly American moment that rallies the country and the world together and proves that we can do big things.\\n\\nTwenty years ago, under the leadership of President Bush and countless advocates and champions, we undertook a bipartisan effort through PEPFAR to transform the global fight against HIV/AIDS. It’s been a huge success.\\n\\nI believe we can do the same with cancer.\\n\\nLet’s end cancer as we know it and cure some cancers once and for all.\\n\\nThere’s one reason why we’re able to do all of these things: our democracy itself.\\n\\nIt’s the most fundamental thing of all.\\n\\nWith democracy, everything is possible. Without it, nothing is.\\n\\nFor the last few years our democracy has been threatened, attacked, and put at risk.\\n\\nPut to the test here, in this very room, on January 6th.\\n\\nAnd then, just a few months ago, unhinged by the Big Lie, an assailant unleashed political violence in the home of the then-Speaker of this House of Representatives. Using the very same language that insurrectionists who stalked these halls chanted on January 6th.\\n\\nHere tonight in this chamber is the man who bears the scars of that brutal attack, but is as tough and strong and as resilient as they get.\\n\\nMy friend, Paul Pelosi.\\n\\nBut such a heinous act never should have happened.\\n\\nWe must all speak out. There is no place for political violence in America. In America, we must protect the right to vote, not suppress that fundamental right. We honor the results of our elections, not subvert the will of the people. We must uphold the rule of the law and restore trust in our institutions of democracy.\\n\\nAnd we must give hate and extremism in any form no safe harbor.\\n\\nDemocracy must not be a partisan issue. It must be an American issue.\\n\\nEvery generation of Americans has faced a moment where they have been called on to protect our democracy, to defend it, to stand up for it.\\n\\nAnd this is our moment.\\n\\nMy fellow Americans, we meet tonight at an inflection point. One of those moments that only a few generations ever face, where the decisions we make now will decide the course of this nation and of the world for decades to come.\\n\\nWe are not bystanders to history. We are not powerless before the forces that confront us. It is within our power, of We the People. We are facing the test of our time and the time for choosing is at hand.\\n\\nWe must be the nation we have always been at our best. Optimistic. Hopeful. Forward-looking.\\n\\nA nation that embraces, light over darkness, hope over fear, unity over division. Stability over chaos.\\n\\nWe must see each other not as enemies, but as fellow Americans. We are a good people, the only nation in the world built on an idea.\\n\\nThat all of us, every one of us, is created equal in the image of God. A nation that stands as a beacon to the world. A nation in a new age of possibilities.\\n\\nSo I have come here to fulfil my constitutional duty to report on the state of the union. And here is my report.\\n\\nBecause the soul of this nation is strong, because the backbone of this nation is strong, because the people of this nation are strong, the State of the Union is strong.\\n\\nAs I stand here tonight, I have never been more optimistic about the future of America. We just have to remember who we are.\\n\\nWe are the United States of America and there is nothing, nothing\\nbeyond our capacity if we do it together.\\n\\nMay God bless you all. May God protect our troops.', '’s finish the job and ban assault weapons again.\\n\\nAnd let’s also come together on immigration and make it a bipartisan issue like it was before.\\n\\nWe now have a record number of personnel working to secure the border, arresting 8,000 human smugglers and seizing over 23,000 pounds of fentanyl in just the last several months.\\n\\nSince we launched our new border plan last month, unlawful migration from Cuba, Haiti, Nicaragua, and Venezuela has come down 97%.\\n\\nBut America’s border problems won’t be fixed until Congress acts.\\n\\nIf you won’t pass my comprehensive immigration reform, at least pass my plan to provide the equipment and officers to secure the border. And a pathway to citizenship for Dreamers, those on temporary status, farm workers, and essential workers.\\n\\nHere in the people’s House, it’s our duty to protect all the people’s rights and freedoms.\\n\\nCongress must restore the right the Supreme Court took away last year and codify Roe v. Wade to protect every woman’s constitutional right to choose.\\n\\nThe Vice President and I are doing everything we can to protect access to reproductive health care and safeguard patient privacy. But already, more than a dozen states are enforcing extreme abortion bans.\\n\\nMake no mistake; if Congress passes a national abortion ban, I will veto it.\\n\\nLet’s also pass the bipartisan Equality Act to ensure LGBTQ Americans, especially transgender young people, can live with safety and dignity.\\n\\nOur strength is not just the example of our power, but the power of our example. Let’s remember the world is watching.\\n\\nI spoke from this chamber one year ago, just days after Vladimir Putin unleashed his brutal war against Ukraine.\\n\\nA murderous assault, evoking images of the death and destruction Europe suffered in World War II.\\n\\nPutin’s invasion has been a test for the ages. A test for America. A test for the world.\\n\\nWould we stand for the most basic of principles?\\n\\nWould we stand for sovereignty?\\n\\nWould we stand for the right of people to live free from tyranny?\\n\\nWould we stand for the defense of democracy?\\n\\nFor such a defense matters to us because it keeps the peace and prevents open season for would-be aggressors to threaten our security and prosperity. One year later, we know the answer.\\n\\nYes, we would.\\n\\nAnd yes, we did.\\n\\nTogether, we did what America always does at our best.\\n\\nWe led.\\n\\nWe united NATO and built a global coalition.\\n\\nWe stood against Putin’s aggression.\\n\\nWe stood with the Ukrainian people.\\n\\nTonight, we are once again joined by Ukraine’s Ambassador to the United States. She represents not just her nation, but the courage of her people.\\n\\nAmbassador, America is united in our support for your country. We will stand with you as long as it takes.\\n\\nOur nation is working for more freedom, more dignity, and more peace,\\nnot just in Europe, but everywhere.\\n\\nBefore I came to office, the story was about how the People’s Republic of China was increasing its power and America was falling in the world.\\n\\nNot anymore.\\n\\nI’ve made clear with President Xi that we seek competition, not conflict.\\n\\nI will make no apologies that we are investing to make America strong. Investing in American innovation, in industries that will define the future, and that China’s government is intent on dominating.\\n\\nInvesting in our alliances and working with our allies to protect our advanced technologies so they’re not used against us.\\n\\nModernizing our military to safeguard stability and deter aggression.\\n\\nToday, we’re in the strongest position in decades to compete with China or anyone else in the world.\\n\\nI am committed to work with China where it can advance American interests and benefit the world.\\n\\nBut make no mistake: as we made clear last week, if China’s threatens our sovereignty, we will act to protect our country. And we did.\\n\\nAnd let’s be clear: winning the competition with China should unite all of us. We face serious challenges across the world.\\n\\nBut in the past two years, democracies have become stronger, not weaker.\\n\\nAutocracies have grown weaker, not stronger.\\n\\nAmerica is rallying the world again to meet those challenges, from climate and global health, to food insecurity, to terrorism and territorial aggression.\\n\\nAllies are stepping up, spending more and doing more.\\n\\nAnd bridges are forming between partners in the Pacific and those in the Atlantic. And those who bet against America are learning just how wrong they are.\\n\\nIt’s never a good bet to bet against America.\\n'], retrieval_context=None, additional_metadata=None, comments=None, source_file='Speeches/titleedits/state_of_the_union_020723.txt'), Golden(input=\"Given Biden's statement about bipartisan cooperation, identify specific instances where Democrats and Republicans have collaborated during his presidency.\", actual_output=None, expected_output=None, context=['State of the Union Address given by President Biden on February 7, 2023\\n\\nMr. Speaker. Madam Vice President. Our First Lady and Second Gentleman.\\n\\nMembers of Congress and the Cabinet. Leaders of our military.\\n\\nMr. Chief Justice, Associate Justices, and retired Justices of the Supreme Court.\\n\\nAnd you, my fellow Americans.\\n\\nI start tonight by congratulating the members of the 118th Congress and the new Speaker of the House, Kevin McCarthy.\\n\\nMr. Speaker, I look forward to working together.\\n\\nI also want to congratulate the new leader of the House Democrats and the first Black House Minority Leader in history, Hakeem Jeffries.\\n\\nCongratulations to the longest serving Senate Leader in history, Mitch McConnell.\\n\\nAnd congratulations to Chuck Schumer for another term as Senate Majority Leader, this time with an even bigger majority.\\n\\nAnd I want to give special recognition to someone who I think will be considered the greatest Speaker in the history of this country, Nancy Pelosi.\\n\\nThe story of America is a story of progress and resilience. Of always moving forward. Of never giving up.\\n\\nA story that is unique among all nations.\\n\\nWe are the only country that has emerged from every crisis stronger than when we entered it.\\n\\nThat is what we are doing again.\\n\\nTwo years ago, our economy was reeling.\\n\\nAs I stand here tonight, we have created a record 12 million new jobs, more jobs created in two years than any president has ever created in four years.\\n\\nTwo years ago, COVID had shut down our businesses, closed our schools, and robbed us of so much.\\n\\nToday, COVID no longer controls our lives.\\n\\nAnd two years ago, our democracy faced its greatest threat since the Civil War.\\n\\nToday, though bruised, our democracy remains unbowed and unbroken.\\n\\nAs we gather here tonight, we are writing the next chapter in the great American story, a story of progress and resilience. When world leaders ask me to define America, I define our country in one word: Possibilities.\\n\\nYou know, we’re often told that Democrats and Republicans can’t work together.\\n\\nBut over these past two years, we proved the cynics and the naysayers wrong.\\n\\nYes, we disagreed plenty. And yes, there were times when Democrats had to go it alone.\\n\\nBut time and again, Democrats and Republicans came together.\\n\\nCame together to defend a stronger and safer Europe.\\n\\nCame together to pass a once-in-a-generation infrastructure law, building bridges to connect our nation and people.\\n\\nCame together to pass one of the most significant laws ever, helping veterans exposed to toxic burn pits.\\n\\nIn fact, I signed over 300 bipartisan laws since becoming President. From reauthorizing the Violence Against Women Act, to the Electoral Count Reform Act, to the Respect for Marriage Act that protects the right to marry the person you love.\\n\\nTo my Republican friends, if we could work together in the last Congress, there is no reason we can’t work together in this new Congress.\\n\\nThe people sent us a clear message. Fighting for the sake of fighting, power for the sake of power, conflict for the sake of conflict, gets us nowhere.\\n\\nAnd that’s always been my vision for our country.\\n\\nTo restore the soul of the nation.\\n\\nTo rebuild the backbone of America, the middle class.\\n\\nTo unite the country.\\n\\nWe’ve been sent here to finish the job.\\n\\nFor decades, the middle class was hollowed out.\\n\\nToo many good-paying manufacturing jobs moved overseas. Factories at home closed down.\\n\\nOnce-thriving cities and towns became shadows of what they used to be.\\n\\nAnd along the way, something else was lost.\\n\\nPride. That sense of self-worth.\\n\\nI ran for President to fundamentally change things, to make sure the economy works for everyone so we can all feel pride in what we do.\\n\\nTo build an economy from the bottom up and the middle out, not from the top down. Because when the middle class does well, the poor have a ladder up and the wealthy still do very well. We all do well.\\n\\nAs my Dad used to say, a job is about a lot more than a paycheck. It’s about your dignity. It’s about respect. It’s about being able to look your kid in the eye and say, “Honey –it’s going to be OK,” and mean it.\\n\\nSo, let’s look at the results. Unemployment rate at 3.4%, a 50-year low. Near record low unemployment for Black and Hispanic workers.\\n\\nWe’', ' White House tonight.\\n\\nFor the lives we can save and for the lives we have lost, let this be a truly American moment that rallies the country and the world together and proves that we can do big things.\\n\\nTwenty years ago, under the leadership of President Bush and countless advocates and champions, we undertook a bipartisan effort through PEPFAR to transform the global fight against HIV/AIDS. It’s been a huge success.\\n\\nI believe we can do the same with cancer.\\n\\nLet’s end cancer as we know it and cure some cancers once and for all.\\n\\nThere’s one reason why we’re able to do all of these things: our democracy itself.\\n\\nIt’s the most fundamental thing of all.\\n\\nWith democracy, everything is possible. Without it, nothing is.\\n\\nFor the last few years our democracy has been threatened, attacked, and put at risk.\\n\\nPut to the test here, in this very room, on January 6th.\\n\\nAnd then, just a few months ago, unhinged by the Big Lie, an assailant unleashed political violence in the home of the then-Speaker of this House of Representatives. Using the very same language that insurrectionists who stalked these halls chanted on January 6th.\\n\\nHere tonight in this chamber is the man who bears the scars of that brutal attack, but is as tough and strong and as resilient as they get.\\n\\nMy friend, Paul Pelosi.\\n\\nBut such a heinous act never should have happened.\\n\\nWe must all speak out. There is no place for political violence in America. In America, we must protect the right to vote, not suppress that fundamental right. We honor the results of our elections, not subvert the will of the people. We must uphold the rule of the law and restore trust in our institutions of democracy.\\n\\nAnd we must give hate and extremism in any form no safe harbor.\\n\\nDemocracy must not be a partisan issue. It must be an American issue.\\n\\nEvery generation of Americans has faced a moment where they have been called on to protect our democracy, to defend it, to stand up for it.\\n\\nAnd this is our moment.\\n\\nMy fellow Americans, we meet tonight at an inflection point. One of those moments that only a few generations ever face, where the decisions we make now will decide the course of this nation and of the world for decades to come.\\n\\nWe are not bystanders to history. We are not powerless before the forces that confront us. It is within our power, of We the People. We are facing the test of our time and the time for choosing is at hand.\\n\\nWe must be the nation we have always been at our best. Optimistic. Hopeful. Forward-looking.\\n\\nA nation that embraces, light over darkness, hope over fear, unity over division. Stability over chaos.\\n\\nWe must see each other not as enemies, but as fellow Americans. We are a good people, the only nation in the world built on an idea.\\n\\nThat all of us, every one of us, is created equal in the image of God. A nation that stands as a beacon to the world. A nation in a new age of possibilities.\\n\\nSo I have come here to fulfil my constitutional duty to report on the state of the union. And here is my report.\\n\\nBecause the soul of this nation is strong, because the backbone of this nation is strong, because the people of this nation are strong, the State of the Union is strong.\\n\\nAs I stand here tonight, I have never been more optimistic about the future of America. We just have to remember who we are.\\n\\nWe are the United States of America and there is nothing, nothing\\nbeyond our capacity if we do it together.\\n\\nMay God bless you all. May God protect our troops.', '’s finish the job and ban assault weapons again.\\n\\nAnd let’s also come together on immigration and make it a bipartisan issue like it was before.\\n\\nWe now have a record number of personnel working to secure the border, arresting 8,000 human smugglers and seizing over 23,000 pounds of fentanyl in just the last several months.\\n\\nSince we launched our new border plan last month, unlawful migration from Cuba, Haiti, Nicaragua, and Venezuela has come down 97%.\\n\\nBut America’s border problems won’t be fixed until Congress acts.\\n\\nIf you won’t pass my comprehensive immigration reform, at least pass my plan to provide the equipment and officers to secure the border. And a pathway to citizenship for Dreamers, those on temporary status, farm workers, and essential workers.\\n\\nHere in the people’s House, it’s our duty to protect all the people’s rights and freedoms.\\n\\nCongress must restore the right the Supreme Court took away last year and codify Roe v. Wade to protect every woman’s constitutional right to choose.\\n\\nThe Vice President and I are doing everything we can to protect access to reproductive health care and safeguard patient privacy. But already, more than a dozen states are enforcing extreme abortion bans.\\n\\nMake no mistake; if Congress passes a national abortion ban, I will veto it.\\n\\nLet’s also pass the bipartisan Equality Act to ensure LGBTQ Americans, especially transgender young people, can live with safety and dignity.\\n\\nOur strength is not just the example of our power, but the power of our example. Let’s remember the world is watching.\\n\\nI spoke from this chamber one year ago, just days after Vladimir Putin unleashed his brutal war against Ukraine.\\n\\nA murderous assault, evoking images of the death and destruction Europe suffered in World War II.\\n\\nPutin’s invasion has been a test for the ages. A test for America. A test for the world.\\n\\nWould we stand for the most basic of principles?\\n\\nWould we stand for sovereignty?\\n\\nWould we stand for the right of people to live free from tyranny?\\n\\nWould we stand for the defense of democracy?\\n\\nFor such a defense matters to us because it keeps the peace and prevents open season for would-be aggressors to threaten our security and prosperity. One year later, we know the answer.\\n\\nYes, we would.\\n\\nAnd yes, we did.\\n\\nTogether, we did what America always does at our best.\\n\\nWe led.\\n\\nWe united NATO and built a global coalition.\\n\\nWe stood against Putin’s aggression.\\n\\nWe stood with the Ukrainian people.\\n\\nTonight, we are once again joined by Ukraine’s Ambassador to the United States. She represents not just her nation, but the courage of her people.\\n\\nAmbassador, America is united in our support for your country. We will stand with you as long as it takes.\\n\\nOur nation is working for more freedom, more dignity, and more peace,\\nnot just in Europe, but everywhere.\\n\\nBefore I came to office, the story was about how the People’s Republic of China was increasing its power and America was falling in the world.\\n\\nNot anymore.\\n\\nI’ve made clear with President Xi that we seek competition, not conflict.\\n\\nI will make no apologies that we are investing to make America strong. Investing in American innovation, in industries that will define the future, and that China’s government is intent on dominating.\\n\\nInvesting in our alliances and working with our allies to protect our advanced technologies so they’re not used against us.\\n\\nModernizing our military to safeguard stability and deter aggression.\\n\\nToday, we’re in the strongest position in decades to compete with China or anyone else in the world.\\n\\nI am committed to work with China where it can advance American interests and benefit the world.\\n\\nBut make no mistake: as we made clear last week, if China’s threatens our sovereignty, we will act to protect our country. And we did.\\n\\nAnd let’s be clear: winning the competition with China should unite all of us. We face serious challenges across the world.\\n\\nBut in the past two years, democracies have become stronger, not weaker.\\n\\nAutocracies have grown weaker, not stronger.\\n\\nAmerica is rallying the world again to meet those challenges, from climate and global health, to food insecurity, to terrorism and territorial aggression.\\n\\nAllies are stepping up, spending more and doing more.\\n\\nAnd bridges are forming between partners in the Pacific and those in the Atlantic. And those who bet against America are learning just how wrong they are.\\n\\nIt’s never a good bet to bet against America.\\n'], retrieval_context=None, additional_metadata=None, comments=None, source_file='Speeches/titleedits/state_of_the_union_020723.txt'), Golden(input='Compare the economic conditions before and after the speaker took office, highlighting specific accomplishments like job growth, inflation rates, and manufacturing output.', actual_output=None, expected_output=None, context=['With historic job growth and small business growth for Black, Hispanic, and Asian-Americans. \\n\\n800,000 new manufacturing jobs in America and counting. \\n\\nMore people have health insurance today than ever before. \\n\\nThe racial wealth gap is the smallest it’s been in 20 years. \\n\\nWages keep going up and inflation keeps coming down! \\n\\nInflation has dropped from 9% to 3% – the lowest in the world! \\n\\nAnd trending lower. \\n\\nAnd now instead of importing foreign products and exporting American jobs, we’re exporting American products and creating American jobs – right here in America where they belong! \\n \\n \\n\\nAnd the American people are beginning to feel it. \\n\\nConsumer studies show consumer confidence is soaring. \\n\\nBuy American has been the law of the land since the 1930s.  \\n \\n\\nPast administrations including my predecessor failed to Buy American. \\n\\nNot any more. \\n\\nOn my watch, federal projects like helping to build American roads bridges and highways will be made with American products built by American workers creating good-paying American jobs! \\n\\nThanks to my Chips and Science Act the United States is investing more in research and development than ever before. \\n\\nDuring the pandemic a shortage of semiconductor chips drove up prices for everything from cell phones to automobiles.  \\n\\nWell instead of having to import semiconductor chips, which America invented I might add, private companies are now investing billions of dollars to build new chip factories here in America! \\n\\nCreating tens of thousands of jobs many of them paying over $100,000 a year and don’t require a college degree. \\n\\nIn fact my policies have attracted $650 Billion of private sector investments in clean energy and advanced manufacturing creating tens of thousands of jobs here in America! \\n\\nThanks to our Bipartisan Infrastructure Law, 46,000 new projects have been announced across your communities – modernizing our roads and bridges, ports and airports, and public transit systems. \\n\\nRemoving poisonous lead pipes so every child can drink clean water without risk of getting brain damage. \\n\\nProviding affordable high speed internet for every American no matter where you live. \\n\\nUrban, suburban, and rural communities — in red states and blue. \\n\\nRecord investments in tribal communities. \\n\\nBecause of my investments, family farms are better be able to stay in the family and children and grandchildren won’t have to leave home to make a living.  \\n\\nIt’s transformative.  \\n\\n \\nA great comeback story is Belvidere, Illinois. Home to an auto plant for nearly 60 years.  \\n \\n\\nBefore I came to office the plant was on its way to shutting down. \\n\\n \\nThousands of workers feared for their livelihoods. Hope was fading. \\n \\n\\nThen I was elected to office and we raised Belvidere repeatedly with the auto company knowing unions make all the difference. \\n\\nThe UAW worked like hell to keep the plant open and get those jobs back. And together, we succeeded! \\n\\nInstead of an auto factory shutting down an auto factory is re-opening and a new state-of-the art battery factory is being built to power those cars. \\n\\nInstead of a town being left behind it’s a community moving forward again! \\n\\nBecause instead of watching auto jobs of the future go overseas 4,000 union workers with higher wages will be building that future, in Belvidere, here in America! \\n\\nHere tonight is UAW President, Shawn Fain, a great friend, and a great labor leader. \\n\\nAnd Dawn Simms, a third generation UAW worker  in Belvidere. \\n\\nShawn, I was proud to be the first President in American history to walk a picket line. \\n\\nAnd today Dawn has a job in her hometown providing stability for her family and pride and dignity. \\n\\nShowing once again, Wall Street didn’t build this country! \\n\\nThe middle class built this country! And unions built the middle class! \\n\\nWhen Americans get knocked down, we get back up! \\n\\nWe keep going! \\n\\nThat’s America! That’s you, the American people! \\n\\nIt’s because of you America is coming back!  \\n\\nIt’s because of you, our future is brighter! \\n\\nAnd it’s because of you that tonight we can proudly say the State of our Union is strong and getting stronger!  \\n \\n\\nTonight I want to talk about the future of possibilities that we can build together. \\n\\nA future where the days of trickle-down economics are over and the wealthy', ' no place in America! \\n\\nHistory is watching. \\n\\nAnd history is watching another assault on freedom.  \\n\\nJoining us tonight is Latorya Beasley, a social worker from Birmingham, Alabama. 14 months ago tonight, she and her husband welcomed a baby girl thanks to the miracle of IVF. \\n\\nShe scheduled treatments to have a second child, but the Alabama Supreme Court shut down IVF treatments across the state, unleashed by the Supreme Court decision overturning Roe v. Wade. \\n\\nShe was told her dream would have to wait. \\n\\nWhat her family has gone through should never have happened. And unless Congress acts, it could happen again. \\n\\nSo tonight, let’s stand up for families like hers! \\n\\nTo my friends across the aisle, don’t keep families waiting any longer. Guarantee the right to IVF nationwide! \\n\\nLike most Americans, I believe Roe v. Wade got it right. And I thank Vice President Harris for being an incredible leader, defending reproductive freedom and so much more. \\n\\nBut my predecessor came to office determined  \\n\\nto see Roe v. Wade overturned. \\n\\nHe’s the reason it was overturned. In fact, he brags about it. \\n\\nLook at the chaos that has resulted. \\n\\nJoining us tonight is Kate Cox, a wife and mother  \\n\\nfrom Dallas. \\n\\nWhen she became pregnant again, the fetus had a fatal condition. \\n\\nHer doctors told Kate that her own life and her ability to have children in the future were at risk if she didn’t act. \\n\\nBecause Texas law banned abortion, Kate and her husband had to leave the state to get the care she needed. \\n\\nWhat her family has gone through should never have happened as well. But it is happening to so many others. \\n\\nThere are state laws banning the right to choose, criminalizing doctors, and forcing survivors of rape and incest to leave their states as well to get the care they need. \\n\\nMany of you in this Chamber and my predecessor are promising to pass a national ban on reproductive freedom. \\n\\nMy God, what freedoms will you take away next? \\n\\nIn its decision to overturn Roe v. Wade the Supreme Court majority wrote, “Women are not without – \\n\\nelectoral or political power.” \\n\\nNo kidding. \\n\\nClearly, those bragging about overturning Roe v. Wade have no clue about the power of women in America. \\n\\nThey found out though when reproductive freedom   \\n\\nwas on the ballot and won in 2022, 2023, and they will find out again, in 2024. \\n\\nIf Americans send me a Congress that supports the right to choose, I promise you, I will restore Roe v. Wade as the law of the land again! \\n\\nAmerica cannot go back. I am here tonight to show the way forward. Because I know how far we’ve come. \\n\\nFour years ago next week, before I came to office, our country was hit by the worst pandemic and the worst economic crisis in a century. \\n\\nRemember the fear. Record job losses. Remember the spike in crime. And the murder rate. \\n\\nA raging virus that would take more than 1 million American lives and leave millions of loved ones behind. \\n\\nA mental health crisis of isolation and loneliness. \\n\\nA president, my predecessor, who failed the most basic duty. Any President owes the American people the duty to care. \\n\\nThat is unforgivable. \\n\\nI came to office determined to get us through one of the toughest periods in our nation’s history. \\n\\nAnd we have. It doesn’t make the news but in thousands of cities and towns the American people are writing the greatest comeback story never told. \\n\\nSo let’s tell that story here and now. \\n\\nAmerica’s comeback is building a future of American possibilities, building an economy from the middle out and the bottom up, not the top down, investing in all of America, in all Americans to make sure everyone has a fair shot and we leave no one behind! \\n\\nThe pandemic no longer controls our lives. The vaccines that saved us from COVID are now being used to help beat cancer. \\n\\nTurning setback into comeback. \\n\\nThat’s America! \\n\\nI inherited an economy that was on the brink. Now our economy is the envy of the world! \\n\\n15 million new jobs in just three years – that’s a record! \\n\\nUnemployment at 50-year lows. \\n\\nA record 16 million Americans are starting small businesses and each one is an act of hope. \\n\\n'], retrieval_context=None, additional_metadata=None, comments=None, source_file='Speeches/titleedits/state_of_the_union_030724.txt'), Golden(input=\"Analyze how the speech's focus on American jobs aligns with historical trends in American political discourse.\", actual_output=None, expected_output=None, context=['With historic job growth and small business growth for Black, Hispanic, and Asian-Americans. \\n\\n800,000 new manufacturing jobs in America and counting. \\n\\nMore people have health insurance today than ever before. \\n\\nThe racial wealth gap is the smallest it’s been in 20 years. \\n\\nWages keep going up and inflation keeps coming down! \\n\\nInflation has dropped from 9% to 3% – the lowest in the world! \\n\\nAnd trending lower. \\n\\nAnd now instead of importing foreign products and exporting American jobs, we’re exporting American products and creating American jobs – right here in America where they belong! \\n \\n \\n\\nAnd the American people are beginning to feel it. \\n\\nConsumer studies show consumer confidence is soaring. \\n\\nBuy American has been the law of the land since the 1930s.  \\n \\n\\nPast administrations including my predecessor failed to Buy American. \\n\\nNot any more. \\n\\nOn my watch, federal projects like helping to build American roads bridges and highways will be made with American products built by American workers creating good-paying American jobs! \\n\\nThanks to my Chips and Science Act the United States is investing more in research and development than ever before. \\n\\nDuring the pandemic a shortage of semiconductor chips drove up prices for everything from cell phones to automobiles.  \\n\\nWell instead of having to import semiconductor chips, which America invented I might add, private companies are now investing billions of dollars to build new chip factories here in America! \\n\\nCreating tens of thousands of jobs many of them paying over $100,000 a year and don’t require a college degree. \\n\\nIn fact my policies have attracted $650 Billion of private sector investments in clean energy and advanced manufacturing creating tens of thousands of jobs here in America! \\n\\nThanks to our Bipartisan Infrastructure Law, 46,000 new projects have been announced across your communities – modernizing our roads and bridges, ports and airports, and public transit systems. \\n\\nRemoving poisonous lead pipes so every child can drink clean water without risk of getting brain damage. \\n\\nProviding affordable high speed internet for every American no matter where you live. \\n\\nUrban, suburban, and rural communities — in red states and blue. \\n\\nRecord investments in tribal communities. \\n\\nBecause of my investments, family farms are better be able to stay in the family and children and grandchildren won’t have to leave home to make a living.  \\n\\nIt’s transformative.  \\n\\n \\nA great comeback story is Belvidere, Illinois. Home to an auto plant for nearly 60 years.  \\n \\n\\nBefore I came to office the plant was on its way to shutting down. \\n\\n \\nThousands of workers feared for their livelihoods. Hope was fading. \\n \\n\\nThen I was elected to office and we raised Belvidere repeatedly with the auto company knowing unions make all the difference. \\n\\nThe UAW worked like hell to keep the plant open and get those jobs back. And together, we succeeded! \\n\\nInstead of an auto factory shutting down an auto factory is re-opening and a new state-of-the art battery factory is being built to power those cars. \\n\\nInstead of a town being left behind it’s a community moving forward again! \\n\\nBecause instead of watching auto jobs of the future go overseas 4,000 union workers with higher wages will be building that future, in Belvidere, here in America! \\n\\nHere tonight is UAW President, Shawn Fain, a great friend, and a great labor leader. \\n\\nAnd Dawn Simms, a third generation UAW worker  in Belvidere. \\n\\nShawn, I was proud to be the first President in American history to walk a picket line. \\n\\nAnd today Dawn has a job in her hometown providing stability for her family and pride and dignity. \\n\\nShowing once again, Wall Street didn’t build this country! \\n\\nThe middle class built this country! And unions built the middle class! \\n\\nWhen Americans get knocked down, we get back up! \\n\\nWe keep going! \\n\\nThat’s America! That’s you, the American people! \\n\\nIt’s because of you America is coming back!  \\n\\nIt’s because of you, our future is brighter! \\n\\nAnd it’s because of you that tonight we can proudly say the State of our Union is strong and getting stronger!  \\n \\n\\nTonight I want to talk about the future of possibilities that we can build together. \\n\\nA future where the days of trickle-down economics are over and the wealthy', ' no place in America! \\n\\nHistory is watching. \\n\\nAnd history is watching another assault on freedom.  \\n\\nJoining us tonight is Latorya Beasley, a social worker from Birmingham, Alabama. 14 months ago tonight, she and her husband welcomed a baby girl thanks to the miracle of IVF. \\n\\nShe scheduled treatments to have a second child, but the Alabama Supreme Court shut down IVF treatments across the state, unleashed by the Supreme Court decision overturning Roe v. Wade. \\n\\nShe was told her dream would have to wait. \\n\\nWhat her family has gone through should never have happened. And unless Congress acts, it could happen again. \\n\\nSo tonight, let’s stand up for families like hers! \\n\\nTo my friends across the aisle, don’t keep families waiting any longer. Guarantee the right to IVF nationwide! \\n\\nLike most Americans, I believe Roe v. Wade got it right. And I thank Vice President Harris for being an incredible leader, defending reproductive freedom and so much more. \\n\\nBut my predecessor came to office determined  \\n\\nto see Roe v. Wade overturned. \\n\\nHe’s the reason it was overturned. In fact, he brags about it. \\n\\nLook at the chaos that has resulted. \\n\\nJoining us tonight is Kate Cox, a wife and mother  \\n\\nfrom Dallas. \\n\\nWhen she became pregnant again, the fetus had a fatal condition. \\n\\nHer doctors told Kate that her own life and her ability to have children in the future were at risk if she didn’t act. \\n\\nBecause Texas law banned abortion, Kate and her husband had to leave the state to get the care she needed. \\n\\nWhat her family has gone through should never have happened as well. But it is happening to so many others. \\n\\nThere are state laws banning the right to choose, criminalizing doctors, and forcing survivors of rape and incest to leave their states as well to get the care they need. \\n\\nMany of you in this Chamber and my predecessor are promising to pass a national ban on reproductive freedom. \\n\\nMy God, what freedoms will you take away next? \\n\\nIn its decision to overturn Roe v. Wade the Supreme Court majority wrote, “Women are not without – \\n\\nelectoral or political power.” \\n\\nNo kidding. \\n\\nClearly, those bragging about overturning Roe v. Wade have no clue about the power of women in America. \\n\\nThey found out though when reproductive freedom   \\n\\nwas on the ballot and won in 2022, 2023, and they will find out again, in 2024. \\n\\nIf Americans send me a Congress that supports the right to choose, I promise you, I will restore Roe v. Wade as the law of the land again! \\n\\nAmerica cannot go back. I am here tonight to show the way forward. Because I know how far we’ve come. \\n\\nFour years ago next week, before I came to office, our country was hit by the worst pandemic and the worst economic crisis in a century. \\n\\nRemember the fear. Record job losses. Remember the spike in crime. And the murder rate. \\n\\nA raging virus that would take more than 1 million American lives and leave millions of loved ones behind. \\n\\nA mental health crisis of isolation and loneliness. \\n\\nA president, my predecessor, who failed the most basic duty. Any President owes the American people the duty to care. \\n\\nThat is unforgivable. \\n\\nI came to office determined to get us through one of the toughest periods in our nation’s history. \\n\\nAnd we have. It doesn’t make the news but in thousands of cities and towns the American people are writing the greatest comeback story never told. \\n\\nSo let’s tell that story here and now. \\n\\nAmerica’s comeback is building a future of American possibilities, building an economy from the middle out and the bottom up, not the top down, investing in all of America, in all Americans to make sure everyone has a fair shot and we leave no one behind! \\n\\nThe pandemic no longer controls our lives. The vaccines that saved us from COVID are now being used to help beat cancer. \\n\\nTurning setback into comeback. \\n\\nThat’s America! \\n\\nI inherited an economy that was on the brink. Now our economy is the envy of the world! \\n\\n15 million new jobs in just three years – that’s a record! \\n\\nUnemployment at 50-year lows. \\n\\nA record 16 million Americans are starting small businesses and each one is an act of hope. \\n\\n'], retrieval_context=None, additional_metadata=None, comments=None, source_file='Speeches/titleedits/state_of_the_union_030724.txt'), Golden(input=\"Compare the President's proposed 'American Jobs Plan' with the 'American Families Plan,' focusing on their respective goals and funding mechanisms.\", actual_output=None, expected_output=None, context=['But so many of us have deceased sons, daughters, and relatives who died of cancer.  I can think of no more worthy investment.  I know of nothing that is more bipartisan.  So, let’s end cancer as we know it.  (Applause.)  It’s within our power.  (Applause.)  It’s within our power to do it.  (Applause.)\\n\\nInvestments in jobs and infrastructure, like the ones we’re talking about, have often had bipartisan support in the past.  Vice President Harris and I met regularly in the Oval Office with Democrats and Republicans to discuss the Jobs Plan.  And I applaud a group of Republican senators who just put forward their own proposal.\\n\\nSo, let’s get to work.  I wanted to lay out, before the Congress, my plan before we got into the deep discussions.  I’d like to meet with those who have ideas that are different — they think are better.  I welcome those ideas. \\n\\nBut the rest of the world is not waiting for us.  I just want to be clear: From my perspective, doing nothing is not an option.  (Applause.)\\n\\nLook, we can’t be so busy competing with one another that we forget the competition that we have with the rest of the world to win the 21st century.\\n\\nSecretary Blinken can tell you, I spent a lot of time with President Xi — traveled over 17,000 miles with him; spent, they tell me, over 24 hours in private discussions with him.  When he called to congratulate me, we had a two-hour discussion.  He’s deadly earnest about becoming the most significant, consequential nation in the world.  He and others — autocrats — think that democracy can’t compete in the 21st century with autocracies because it takes too long to get consensus. \\n\\nTo win that competition for the future, in my view, we also need to make a once-in-a-generation investment in our families and our children.  That’s why I’ve introduced the American Families Plan tonight, which addresses four of the biggest challenges facing American families and, in turn, America.\\n\\nFirst is access to a good education.  When this nation made 12 years of public education universal in the last century, it made us the best-educated, best-prepared nation in the world.  It’s, I believe, the overwhelming reason that propelled us to where we got in the 21st — in the 20th century. \\n\\nBut the world has caught up, or catching up.  They are not waiting.  I would say, parenthetically: If we were sitting down, put a bipartisan committee together and said, “Okay, we’re going to decide what we do in terms of government providing for free education,” I wonder whether we’d think, as we did in the 20th century, that 12 years is enough in the 21st century.  I doubt it.  Twelve years is no longer enough today to compete with the rest of the world in the 21st Century.\\n\\nThat’s why my American Families Plan guarantees four additional years of public education for every person in America, starting as early as we can.\\n\\nThe great universities of this country have conducted studies over the last 10 years.  It shows that adding two years of universal high-quality preschool for every three-year-old and four-year-old, no matter what background they come from, it puts them in the position to be able to compete all the way through 12 years.  It increases exponentially their prospect of graduating and going on beyond graduation.\\n\\nThe research shows when a young child goes to school — not daycare — they are far more likely to graduate from high school and go to college or something after high school.\\n\\nWhen you add two years of free community college on top of that, you begin to change the dynamic.  (Applause.)  We can do that.  (Applause.) \\n\\nAnd we’ll increase Pell Grants and invest in Historical Black Colleges and Universities, Tribal Colleges, Minority-Serving Institutions.  The reason is: They don’t have the endowments, but their students are just as capable of learning about cybersecurity, just as capable of learning about metallurgy — all the things that are going on that provide those jobs of the future.\\n\\nJill was  a community college professor who teaches today as First Lady.  She has long said — (applause).  She has long — (applause).  If I’ve heard it once, I’ve heard it a thousand times: “Joe, any country that out-educates us is going to out', 'compete us.”  She’ll be deeply involved in leading this effort.  Thank you, Jill.\\n\\nSecond thing we need: American Families Plan will provide access to quality, affordable childcare.  We guarantee — (applause).  And I’m proposing a legislation to guarantee that low- and middle-income families will pay no more than 7 percent of their income for high-quality care for children up to the age of 5.  The most hard-pressed working families won’t have to spend a dime.\\n\\nThird, the American Families Plan will finally provide up to 12 weeks of paid leave  and medical leave — family and medical leave.  We’re one of the few industrial countries in the world — (applause). \\n\\nNo one should have to choose between a job and paycheck or taking care of themselves and their loved ones –- a parent, a spouse, or child.\\n\\nAnd fourth, the American Family Plan puts directly into the pockets of millions of Americans.  In March, we expanded a tax credit for every child in a family.  Up to a $3,000 per child if they’re under [over]* six years of age — I mean, excuse me — under — over six years of age, and $3,600 for children over [under]* six years of age.\\n\\nWith two parents, two kids, that’s $7,200 in the pockets that’s going to help to take care of your family.  And that will help more than 65 million children and help cut childcare [child] poverty in half.  (Applause.)  And we can afford it. \\n\\nSo we did that in the rec- — in the — in the last piece of legislation we passed. But let’s extend that Child Care Tax Credit at least through the end of 2025.  (Applause.)  \\n\\nThe American Rescue Plan lowered healthcare premiums for 9 million Americans who buy their coverage under the Affordable Care Act.  I know that’s really popular on this side of the aisle.  (Laughter.)  But let’s make that provision permanent so their premiums don’t go back up.  (Applause.)  \\n\\nIn addition to my Families Plan, I’m going to work with Congress to address, this year, other critical priorities for American families. \\n\\nThe Affordable Care Act has been a lifeline for millions of Americans, protecting people with preexisting conditions, protecting women’s health.  And the pandemic has demonstrated how badly — how badly it’s needed.  Let’s lower deductibles for working families on the Affordable Care — in the Affordable Care Act.  (Applause.)  And let’s lower prescription drug costs.  (Applause.) \\n\\nWe know how to do this.  The last President had that as an objective.  We all know how outrageously expensive drugs are in America. \\n\\nIn fact, we pay the highest prescription drug prices of anywhere in the world right here in America — nearly three times — for the same drug, nearly three times what other countries pay.  We have to change that, and we can. \\n\\nLet’s do what we’ve always talked about for all the years I was down here in this — in this body — in Congress.  Let’s give Medicare the power to save hundreds of billions of dollars by negotiating lower drug prescription prices.  (Applause.)\\n\\nAnd, by the way, that won’t just — that won’t just help people on Medicare; it will lower prescription drug costs for everyone. \\n\\nAnd the money we save, which is billions of dollars, can go to strengthen the Affordable Care Act and expand Medicare coverage benefits without costing taxpayers an additional penny.  It’s within our power to do it; let’s do it now.  (Applause.)\\n\\nWe’ve talked about it long enough.  Democrats and Republicans, let’s get it done this year.  This is all about a simple premise: Healthcare should be a right, not a privilege in America.  (Applause.) \\n\\nSo, how do we pay for my Jobs and Family Plan?  I made it clear, we can do it without increasing the deficits.  Let’s start with what I will not do: I will not impose any tax increase on people making less than $400,000.  It’s — but it’s time for corporate America and the wealthiest 1 percent of Americans to just begin to pay their fair share.  (Applause.)  Just their fair share. \\n\\nSometimes I have arguments with my friends in the Democratic Party.  I think', ' products made in America to create American jobs.  That’s the way it’s supposed to be and it will be in this administration.  (Applause.)\\n\\nAnd I made it clear to all my Cabinet people.  Their ability to give exemptions has been exstrenuously [sic] limited.  It will be American products.\\n\\nNow I know some of you at home are wondering whether these jobs are for you.  So many of you — so many of the folks I grew up with feel left behind, forgotten in an economy that’s so rapidly changing.  It’s frightening. \\n\\nI want to speak directly to you.  Because if you think about it, that’s what people are most worried about: “Can I fit in?”\\n\\nIndependent experts estimate the American Jobs Plan will add millions of jobs and trillions of dollars to economic growth in the years to come.  It is a — it is an eight-year program.  These are good-paying jobs that can’t be outsourced.\\n\\nNearly 90 percent of the infrastructure jobs created in the American Jobs Plan do not require a college degree; 75 percent don’t require an associate’s degree.\\n\\nThe American Jobs Plan is a blue-collar blueprint to build America.  That’s what it is.  (Applause.)\\n\\nAnd it recognizes something I’ve always said in this chamber and the other.  Good guys and women on Wall Street, but Wall Street didn’t build this country.  The middle class built the country, and unions built the middle class.  (Applause.)\\n\\nSo that’s why I’m calling on Congress to pass the Protect the Right to Organize Act — the PRO Act — and send it to my desk so we can support the right to unionize.  (Applause.)\\n\\nAnd, by the way, while you’re thinking about sending things to my desk — (laughs) — let’s raise the minimum wage to $15.  (Applause.)\\n\\nNo one — no one working 40 hours a week — no one working 40 hours a week should live below the poverty line.\\n\\nWe need to ensure greater equity and opportunity for women.  And while we’re doing this, let’s get the Paycheck Fairness Act to my desk as well — equal pay.  It’s been much too long.  And if you’re wondering whether it’s too long, look behind me.  (Applause.)\\n\\nAnd finally, the American Jobs Plan will be the biggest increase in nondefense research and development on record.  We will see more technological change — and some of you know more about this than I do — we’ll see more technological change in the next 10 years than we saw in the last 50.  That’s how rapidly artificial intelligence and so much more is changing.\\n\\nAnd we’re falling behind the competition with the rest of the world.\\n\\nDecades ago, we used to invest 2 percent of our gross domestic product in America — 2 percent of our gross domestic product — in research and development. \\n\\nToday, Mr. Secretary, that’s less than 1 percent.  China and other countries are closing in fast.  We have to develop and dominate the products and technologies of the future:\\nadvanced batteries, biotechnology, computer chips, clean energy.\\n\\nThe Secretary of Defense can tell you — and those of you on — who work on national security issues know — the Defense Department has an agency called DARPA — the Defense Advanced Research Project Agency.  The people who set up before I came here — and that’s been a long time ago — to develop breakthroughs that enhance our national security -– that’s their only job.  And it’s a semi-separate agency; it’s under the Defense Department.  It’s led to everything from the discovery of the Internet to GPS and so much more that has enhanced our security.\\n\\nThe National Institute of Health — the NIH –- I believe, should create a similar Advanced Research Projects Agency for Health.  (Applause.)\\n\\nAnd that would — here’s what it would do.  It would have a singular purpose: to develop breakthroughs to prevent, detect, and treat diseases like Alzheimer’s, diabetes, and cancer.\\n\\nI’ll still never forget when we passed the cancer proposal the last year I was Vice President — almost $9 million going to NIH.  And if you excuse the point of personal privilege, I’ll never forget you standing and mentioning — saying you’d name it after my deceased son.  It meant a lot.\\n\\n'], retrieval_context=None, additional_metadata=None, comments=None, source_file='Speeches/titleedits/state_of_the_union_042921.txt'), Golden(input=\"Considering the president's focus on competing with other nations, how might bipartisan support for crucial initiatives affect America's global standing?\", actual_output=None, expected_output=None, context=['But so many of us have deceased sons, daughters, and relatives who died of cancer.  I can think of no more worthy investment.  I know of nothing that is more bipartisan.  So, let’s end cancer as we know it.  (Applause.)  It’s within our power.  (Applause.)  It’s within our power to do it.  (Applause.)\\n\\nInvestments in jobs and infrastructure, like the ones we’re talking about, have often had bipartisan support in the past.  Vice President Harris and I met regularly in the Oval Office with Democrats and Republicans to discuss the Jobs Plan.  And I applaud a group of Republican senators who just put forward their own proposal.\\n\\nSo, let’s get to work.  I wanted to lay out, before the Congress, my plan before we got into the deep discussions.  I’d like to meet with those who have ideas that are different — they think are better.  I welcome those ideas. \\n\\nBut the rest of the world is not waiting for us.  I just want to be clear: From my perspective, doing nothing is not an option.  (Applause.)\\n\\nLook, we can’t be so busy competing with one another that we forget the competition that we have with the rest of the world to win the 21st century.\\n\\nSecretary Blinken can tell you, I spent a lot of time with President Xi — traveled over 17,000 miles with him; spent, they tell me, over 24 hours in private discussions with him.  When he called to congratulate me, we had a two-hour discussion.  He’s deadly earnest about becoming the most significant, consequential nation in the world.  He and others — autocrats — think that democracy can’t compete in the 21st century with autocracies because it takes too long to get consensus. \\n\\nTo win that competition for the future, in my view, we also need to make a once-in-a-generation investment in our families and our children.  That’s why I’ve introduced the American Families Plan tonight, which addresses four of the biggest challenges facing American families and, in turn, America.\\n\\nFirst is access to a good education.  When this nation made 12 years of public education universal in the last century, it made us the best-educated, best-prepared nation in the world.  It’s, I believe, the overwhelming reason that propelled us to where we got in the 21st — in the 20th century. \\n\\nBut the world has caught up, or catching up.  They are not waiting.  I would say, parenthetically: If we were sitting down, put a bipartisan committee together and said, “Okay, we’re going to decide what we do in terms of government providing for free education,” I wonder whether we’d think, as we did in the 20th century, that 12 years is enough in the 21st century.  I doubt it.  Twelve years is no longer enough today to compete with the rest of the world in the 21st Century.\\n\\nThat’s why my American Families Plan guarantees four additional years of public education for every person in America, starting as early as we can.\\n\\nThe great universities of this country have conducted studies over the last 10 years.  It shows that adding two years of universal high-quality preschool for every three-year-old and four-year-old, no matter what background they come from, it puts them in the position to be able to compete all the way through 12 years.  It increases exponentially their prospect of graduating and going on beyond graduation.\\n\\nThe research shows when a young child goes to school — not daycare — they are far more likely to graduate from high school and go to college or something after high school.\\n\\nWhen you add two years of free community college on top of that, you begin to change the dynamic.  (Applause.)  We can do that.  (Applause.) \\n\\nAnd we’ll increase Pell Grants and invest in Historical Black Colleges and Universities, Tribal Colleges, Minority-Serving Institutions.  The reason is: They don’t have the endowments, but their students are just as capable of learning about cybersecurity, just as capable of learning about metallurgy — all the things that are going on that provide those jobs of the future.\\n\\nJill was  a community college professor who teaches today as First Lady.  She has long said — (applause).  She has long — (applause).  If I’ve heard it once, I’ve heard it a thousand times: “Joe, any country that out-educates us is going to out', 'compete us.”  She’ll be deeply involved in leading this effort.  Thank you, Jill.\\n\\nSecond thing we need: American Families Plan will provide access to quality, affordable childcare.  We guarantee — (applause).  And I’m proposing a legislation to guarantee that low- and middle-income families will pay no more than 7 percent of their income for high-quality care for children up to the age of 5.  The most hard-pressed working families won’t have to spend a dime.\\n\\nThird, the American Families Plan will finally provide up to 12 weeks of paid leave  and medical leave — family and medical leave.  We’re one of the few industrial countries in the world — (applause). \\n\\nNo one should have to choose between a job and paycheck or taking care of themselves and their loved ones –- a parent, a spouse, or child.\\n\\nAnd fourth, the American Family Plan puts directly into the pockets of millions of Americans.  In March, we expanded a tax credit for every child in a family.  Up to a $3,000 per child if they’re under [over]* six years of age — I mean, excuse me — under — over six years of age, and $3,600 for children over [under]* six years of age.\\n\\nWith two parents, two kids, that’s $7,200 in the pockets that’s going to help to take care of your family.  And that will help more than 65 million children and help cut childcare [child] poverty in half.  (Applause.)  And we can afford it. \\n\\nSo we did that in the rec- — in the — in the last piece of legislation we passed. But let’s extend that Child Care Tax Credit at least through the end of 2025.  (Applause.)  \\n\\nThe American Rescue Plan lowered healthcare premiums for 9 million Americans who buy their coverage under the Affordable Care Act.  I know that’s really popular on this side of the aisle.  (Laughter.)  But let’s make that provision permanent so their premiums don’t go back up.  (Applause.)  \\n\\nIn addition to my Families Plan, I’m going to work with Congress to address, this year, other critical priorities for American families. \\n\\nThe Affordable Care Act has been a lifeline for millions of Americans, protecting people with preexisting conditions, protecting women’s health.  And the pandemic has demonstrated how badly — how badly it’s needed.  Let’s lower deductibles for working families on the Affordable Care — in the Affordable Care Act.  (Applause.)  And let’s lower prescription drug costs.  (Applause.) \\n\\nWe know how to do this.  The last President had that as an objective.  We all know how outrageously expensive drugs are in America. \\n\\nIn fact, we pay the highest prescription drug prices of anywhere in the world right here in America — nearly three times — for the same drug, nearly three times what other countries pay.  We have to change that, and we can. \\n\\nLet’s do what we’ve always talked about for all the years I was down here in this — in this body — in Congress.  Let’s give Medicare the power to save hundreds of billions of dollars by negotiating lower drug prescription prices.  (Applause.)\\n\\nAnd, by the way, that won’t just — that won’t just help people on Medicare; it will lower prescription drug costs for everyone. \\n\\nAnd the money we save, which is billions of dollars, can go to strengthen the Affordable Care Act and expand Medicare coverage benefits without costing taxpayers an additional penny.  It’s within our power to do it; let’s do it now.  (Applause.)\\n\\nWe’ve talked about it long enough.  Democrats and Republicans, let’s get it done this year.  This is all about a simple premise: Healthcare should be a right, not a privilege in America.  (Applause.) \\n\\nSo, how do we pay for my Jobs and Family Plan?  I made it clear, we can do it without increasing the deficits.  Let’s start with what I will not do: I will not impose any tax increase on people making less than $400,000.  It’s — but it’s time for corporate America and the wealthiest 1 percent of Americans to just begin to pay their fair share.  (Applause.)  Just their fair share. \\n\\nSometimes I have arguments with my friends in the Democratic Party.  I think', ' products made in America to create American jobs.  That’s the way it’s supposed to be and it will be in this administration.  (Applause.)\\n\\nAnd I made it clear to all my Cabinet people.  Their ability to give exemptions has been exstrenuously [sic] limited.  It will be American products.\\n\\nNow I know some of you at home are wondering whether these jobs are for you.  So many of you — so many of the folks I grew up with feel left behind, forgotten in an economy that’s so rapidly changing.  It’s frightening. \\n\\nI want to speak directly to you.  Because if you think about it, that’s what people are most worried about: “Can I fit in?”\\n\\nIndependent experts estimate the American Jobs Plan will add millions of jobs and trillions of dollars to economic growth in the years to come.  It is a — it is an eight-year program.  These are good-paying jobs that can’t be outsourced.\\n\\nNearly 90 percent of the infrastructure jobs created in the American Jobs Plan do not require a college degree; 75 percent don’t require an associate’s degree.\\n\\nThe American Jobs Plan is a blue-collar blueprint to build America.  That’s what it is.  (Applause.)\\n\\nAnd it recognizes something I’ve always said in this chamber and the other.  Good guys and women on Wall Street, but Wall Street didn’t build this country.  The middle class built the country, and unions built the middle class.  (Applause.)\\n\\nSo that’s why I’m calling on Congress to pass the Protect the Right to Organize Act — the PRO Act — and send it to my desk so we can support the right to unionize.  (Applause.)\\n\\nAnd, by the way, while you’re thinking about sending things to my desk — (laughs) — let’s raise the minimum wage to $15.  (Applause.)\\n\\nNo one — no one working 40 hours a week — no one working 40 hours a week should live below the poverty line.\\n\\nWe need to ensure greater equity and opportunity for women.  And while we’re doing this, let’s get the Paycheck Fairness Act to my desk as well — equal pay.  It’s been much too long.  And if you’re wondering whether it’s too long, look behind me.  (Applause.)\\n\\nAnd finally, the American Jobs Plan will be the biggest increase in nondefense research and development on record.  We will see more technological change — and some of you know more about this than I do — we’ll see more technological change in the next 10 years than we saw in the last 50.  That’s how rapidly artificial intelligence and so much more is changing.\\n\\nAnd we’re falling behind the competition with the rest of the world.\\n\\nDecades ago, we used to invest 2 percent of our gross domestic product in America — 2 percent of our gross domestic product — in research and development. \\n\\nToday, Mr. Secretary, that’s less than 1 percent.  China and other countries are closing in fast.  We have to develop and dominate the products and technologies of the future:\\nadvanced batteries, biotechnology, computer chips, clean energy.\\n\\nThe Secretary of Defense can tell you — and those of you on — who work on national security issues know — the Defense Department has an agency called DARPA — the Defense Advanced Research Project Agency.  The people who set up before I came here — and that’s been a long time ago — to develop breakthroughs that enhance our national security -– that’s their only job.  And it’s a semi-separate agency; it’s under the Defense Department.  It’s led to everything from the discovery of the Internet to GPS and so much more that has enhanced our security.\\n\\nThe National Institute of Health — the NIH –- I believe, should create a similar Advanced Research Projects Agency for Health.  (Applause.)\\n\\nAnd that would — here’s what it would do.  It would have a singular purpose: to develop breakthroughs to prevent, detect, and treat diseases like Alzheimer’s, diabetes, and cancer.\\n\\nI’ll still never forget when we passed the cancer proposal the last year I was Vice President — almost $9 million going to NIH.  And if you excuse the point of personal privilege, I’ll never forget you standing and mentioning — saying you’d name it after my deceased son.  It meant a lot.\\n\\n'], retrieval_context=None, additional_metadata=None, comments=None, source_file='Speeches/titleedits/state_of_the_union_042921.txt'), Golden(input='Who is the retiring Justice of the United States Supreme Court mentioned in the text, and what is his contribution to the country?', actual_output=None, expected_output=None, context=[' someone who has dedicated his life to serve this country: Justice Stephen Breyer—an Army veteran, Constitutional scholar, and retiring Justice of the United States Supreme Court. Justice Breyer, thank you for your service. \\n\\nOne of the most serious constitutional responsibilities a President has is nominating someone to serve on the United States Supreme Court. \\n\\nAnd I did that 4 days ago, when I nominated Circuit Court of Appeals Judge Ketanji Brown Jackson. One of our nation’s top legal minds, who will continue Justice Breyer’s legacy of excellence. \\n\\nA former top litigator in private practice. A former federal public defender. And from a family of public school educators and police officers. A consensus builder. Since she’s been nominated, she’s received a broad range of support—from the Fraternal Order of Police to former judges appointed by Democrats and Republicans. \\n\\nAnd if we are to advance liberty and justice, we need to secure the Border and fix the immigration system. \\n\\nWe can do both. At our border, we’ve installed new technology like cutting-edge scanners to better detect drug smuggling.  \\n\\nWe’ve set up joint patrols with Mexico and Guatemala to catch more human traffickers.  \\n\\nWe’re putting in place dedicated immigration judges so families fleeing persecution and violence can have their cases heard faster. \\n\\nWe’re securing commitments and supporting partners in South and Central America to host more refugees and secure their own borders. \\n\\nWe can do all this while keeping lit the torch of liberty that has led generations of immigrants to this land—my forefathers and so many of yours. \\n\\nProvide a pathway to citizenship for Dreamers, those on temporary status, farm workers, and essential workers. \\n\\nRevise our laws so businesses have the workers they need and families don’t wait decades to reunite. \\n\\nIt’s not only the right thing to do—it’s the economically smart thing to do. \\n\\nThat’s why immigration reform is supported by everyone from labor unions to religious leaders to the U.S. Chamber of Commerce. \\n\\nLet’s get it done once and for all. \\n\\nAdvancing liberty and justice also requires protecting the rights of women. \\n\\nThe constitutional right affirmed in Roe v. Wade—standing precedent for half a century—is under attack as never before. \\n\\nIf we want to go forward—not backward—we must protect access to health care. Preserve a woman’s right to choose. And let’s continue to advance maternal health care in America. \\n\\nAnd for our LGBTQ+ Americans, let’s finally get the bipartisan Equality Act to my desk. The onslaught of state laws targeting transgender Americans and their families is wrong. \\n\\nAs I said last year, especially to our younger transgender Americans, I will always have your back as your President, so you can be yourself and reach your God-given potential. \\n\\nWhile it often appears that we never agree, that isn’t true. I signed 80 bipartisan bills into law last year. From preventing government shutdowns to protecting Asian-Americans from still-too-common hate crimes to reforming military justice. \\n\\nAnd soon, we’ll strengthen the Violence Against Women Act that I first wrote three decades ago. It is important for us to show the nation that we can come together and do big things. \\n\\nSo tonight I’m offering a Unity Agenda for the Nation. Four big things we can do together.  \\n\\nFirst, beat the opioid epidemic. \\n\\nThere is so much we can do. Increase funding for prevention, treatment, harm reduction, and recovery.  \\n\\nGet rid of outdated rules that stop doctors from prescribing treatments. And stop the flow of illicit drugs by working with state and local law enforcement to go after traffickers. \\n\\nIf you’re suffering from addiction, know you are not alone. I believe in recovery, and I celebrate the 23 million Americans in recovery. \\n\\nSecond, let’s take on mental health. Especially among our children, whose lives and education have been turned upside down.  \\n\\nThe American Rescue Plan gave schools money to hire teachers and help students make up for lost learning.  \\n\\nI urge every parent to make sure your school does just that. And we can all play a part—sign up to be a tutor or a mentor. \\n\\nChildren were also struggling before the pandemic. Bullying, violence, trauma, and the harms of social media. \\n\\nAs Frances Haugen, who is here with us tonight, has shown, we must hold social media platforms accountable for the national experiment they’re conducting on our children for profit. \\n\\nIt’s', ' People working from home can feel safe to begin to return to the office.   \\n\\nWe’re doing that here in the federal government. The vast majority of federal workers will once again work in person. \\n\\nOur schools are open. Let’s keep it that way. Our kids need to be in school. \\n\\nAnd with 75% of adult Americans fully vaccinated and hospitalizations down by 77%, most Americans can remove their masks, return to work, stay in the classroom, and move forward safely. \\n\\nWe achieved this because we provided free vaccines, treatments, tests, and masks. \\n\\nOf course, continuing this costs money. \\n\\nI will soon send Congress a request. \\n\\nThe vast majority of Americans have used these tools and may want to again, so I expect Congress to pass it quickly.   \\n\\nFourth, we will continue vaccinating the world.     \\n\\nWe’ve sent 475 Million vaccine doses to 112 countries, more than any other nation. \\n\\nAnd we won’t stop. \\n\\nWe have lost so much to COVID-19. Time with one another. And worst of all, so much loss of life. \\n\\nLet’s use this moment to reset. Let’s stop looking at COVID-19 as a partisan dividing line and see it for what it is: A God-awful disease.  \\n\\nLet’s stop seeing each other as enemies, and start seeing each other for who we really are: Fellow Americans.  \\n\\nWe can’t change how divided we’ve been. But we can change how we move forward—on COVID-19 and other issues we must face together. \\n\\nI recently visited the New York City Police Department days after the funerals of Officer Wilbert Mora and his partner, Officer Jason Rivera. \\n\\nThey were responding to a 9-1-1 call when a man shot and killed them with a stolen gun. \\n\\nOfficer Mora was 27 years old. \\n\\nOfficer Rivera was 22. \\n\\nBoth Dominican Americans who’d grown up on the same streets they later chose to patrol as police officers. \\n\\nI spoke with their families and told them that we are forever in debt for their sacrifice, and we will carry on their mission to restore the trust and safety every community deserves. \\n\\nI’ve worked on these issues a long time. \\n\\nI know what works: Investing in crime preventionand community police officers who’ll walk the beat, who’ll know the neighborhood, and who can restore trust and safety. \\n\\nSo let’s not abandon our streets. Or choose between safety and equal justice. \\n\\nLet’s come together to protect our communities, restore trust, and hold law enforcement accountable. \\n\\nThat’s why the Justice Department required body cameras, banned chokeholds, and restricted no-knock warrants for its officers. \\n\\nThat’s why the American Rescue Plan provided $350 Billion that cities, states, and counties can use to hire more police and invest in proven strategies like community violence interruption—trusted messengers breaking the cycle of violence and trauma and giving young people hope.  \\n\\nWe should all agree: The answer is not to Defund the police. The answer is to FUND the police with the resources and training they need to protect our communities. \\n\\nI ask Democrats and Republicans alike: Pass my budget and keep our neighborhoods safe.  \\n\\nAnd I will keep doing everything in my power to crack down on gun trafficking and ghost guns you can buy online and make at home—they have no serial numbers and can’t be traced. \\n\\nAnd I ask Congress to pass proven measures to reduce gun violence. Pass universal background checks. Why should anyone on a terrorist list be able to purchase a weapon? \\n\\nBan assault weapons and high-capacity magazines. \\n\\nRepeal the liability shield that makes gun manufacturers the only industry in America that can’t be sued. \\n\\nThese laws don’t infringe on the Second Amendment. They save lives. \\n\\nThe most fundamental right in America is the right to vote – and to have it counted. And it’s under assault. \\n\\nIn state after state, new laws have been passed, not only to suppress the vote, but to subvert entire elections. \\n\\nWe cannot let this happen. \\n\\nTonight. I call on the Senate to: Pass the Freedom to Vote Act. Pass the John Lewis Voting Rights Act. And while you’re at it, pass the Disclose Act so Americans can know who is funding our elections. \\n\\nTonight, I’d like to honor'], retrieval_context=None, additional_metadata=None, comments=None, source_file='Speeches/titleedits/state_of_the_union_030122.txt'), Golden(input=\"Considering the President's statement, who was nominated to fill the Supreme Court seat vacated by Justice Breyer?\", actual_output=None, expected_output=None, context=[' someone who has dedicated his life to serve this country: Justice Stephen Breyer—an Army veteran, Constitutional scholar, and retiring Justice of the United States Supreme Court. Justice Breyer, thank you for your service. \\n\\nOne of the most serious constitutional responsibilities a President has is nominating someone to serve on the United States Supreme Court. \\n\\nAnd I did that 4 days ago, when I nominated Circuit Court of Appeals Judge Ketanji Brown Jackson. One of our nation’s top legal minds, who will continue Justice Breyer’s legacy of excellence. \\n\\nA former top litigator in private practice. A former federal public defender. And from a family of public school educators and police officers. A consensus builder. Since she’s been nominated, she’s received a broad range of support—from the Fraternal Order of Police to former judges appointed by Democrats and Republicans. \\n\\nAnd if we are to advance liberty and justice, we need to secure the Border and fix the immigration system. \\n\\nWe can do both. At our border, we’ve installed new technology like cutting-edge scanners to better detect drug smuggling.  \\n\\nWe’ve set up joint patrols with Mexico and Guatemala to catch more human traffickers.  \\n\\nWe’re putting in place dedicated immigration judges so families fleeing persecution and violence can have their cases heard faster. \\n\\nWe’re securing commitments and supporting partners in South and Central America to host more refugees and secure their own borders. \\n\\nWe can do all this while keeping lit the torch of liberty that has led generations of immigrants to this land—my forefathers and so many of yours. \\n\\nProvide a pathway to citizenship for Dreamers, those on temporary status, farm workers, and essential workers. \\n\\nRevise our laws so businesses have the workers they need and families don’t wait decades to reunite. \\n\\nIt’s not only the right thing to do—it’s the economically smart thing to do. \\n\\nThat’s why immigration reform is supported by everyone from labor unions to religious leaders to the U.S. Chamber of Commerce. \\n\\nLet’s get it done once and for all. \\n\\nAdvancing liberty and justice also requires protecting the rights of women. \\n\\nThe constitutional right affirmed in Roe v. Wade—standing precedent for half a century—is under attack as never before. \\n\\nIf we want to go forward—not backward—we must protect access to health care. Preserve a woman’s right to choose. And let’s continue to advance maternal health care in America. \\n\\nAnd for our LGBTQ+ Americans, let’s finally get the bipartisan Equality Act to my desk. The onslaught of state laws targeting transgender Americans and their families is wrong. \\n\\nAs I said last year, especially to our younger transgender Americans, I will always have your back as your President, so you can be yourself and reach your God-given potential. \\n\\nWhile it often appears that we never agree, that isn’t true. I signed 80 bipartisan bills into law last year. From preventing government shutdowns to protecting Asian-Americans from still-too-common hate crimes to reforming military justice. \\n\\nAnd soon, we’ll strengthen the Violence Against Women Act that I first wrote three decades ago. It is important for us to show the nation that we can come together and do big things. \\n\\nSo tonight I’m offering a Unity Agenda for the Nation. Four big things we can do together.  \\n\\nFirst, beat the opioid epidemic. \\n\\nThere is so much we can do. Increase funding for prevention, treatment, harm reduction, and recovery.  \\n\\nGet rid of outdated rules that stop doctors from prescribing treatments. And stop the flow of illicit drugs by working with state and local law enforcement to go after traffickers. \\n\\nIf you’re suffering from addiction, know you are not alone. I believe in recovery, and I celebrate the 23 million Americans in recovery. \\n\\nSecond, let’s take on mental health. Especially among our children, whose lives and education have been turned upside down.  \\n\\nThe American Rescue Plan gave schools money to hire teachers and help students make up for lost learning.  \\n\\nI urge every parent to make sure your school does just that. And we can all play a part—sign up to be a tutor or a mentor. \\n\\nChildren were also struggling before the pandemic. Bullying, violence, trauma, and the harms of social media. \\n\\nAs Frances Haugen, who is here with us tonight, has shown, we must hold social media platforms accountable for the national experiment they’re conducting on our children for profit. \\n\\nIt’s', ' People working from home can feel safe to begin to return to the office.   \\n\\nWe’re doing that here in the federal government. The vast majority of federal workers will once again work in person. \\n\\nOur schools are open. Let’s keep it that way. Our kids need to be in school. \\n\\nAnd with 75% of adult Americans fully vaccinated and hospitalizations down by 77%, most Americans can remove their masks, return to work, stay in the classroom, and move forward safely. \\n\\nWe achieved this because we provided free vaccines, treatments, tests, and masks. \\n\\nOf course, continuing this costs money. \\n\\nI will soon send Congress a request. \\n\\nThe vast majority of Americans have used these tools and may want to again, so I expect Congress to pass it quickly.   \\n\\nFourth, we will continue vaccinating the world.     \\n\\nWe’ve sent 475 Million vaccine doses to 112 countries, more than any other nation. \\n\\nAnd we won’t stop. \\n\\nWe have lost so much to COVID-19. Time with one another. And worst of all, so much loss of life. \\n\\nLet’s use this moment to reset. Let’s stop looking at COVID-19 as a partisan dividing line and see it for what it is: A God-awful disease.  \\n\\nLet’s stop seeing each other as enemies, and start seeing each other for who we really are: Fellow Americans.  \\n\\nWe can’t change how divided we’ve been. But we can change how we move forward—on COVID-19 and other issues we must face together. \\n\\nI recently visited the New York City Police Department days after the funerals of Officer Wilbert Mora and his partner, Officer Jason Rivera. \\n\\nThey were responding to a 9-1-1 call when a man shot and killed them with a stolen gun. \\n\\nOfficer Mora was 27 years old. \\n\\nOfficer Rivera was 22. \\n\\nBoth Dominican Americans who’d grown up on the same streets they later chose to patrol as police officers. \\n\\nI spoke with their families and told them that we are forever in debt for their sacrifice, and we will carry on their mission to restore the trust and safety every community deserves. \\n\\nI’ve worked on these issues a long time. \\n\\nI know what works: Investing in crime preventionand community police officers who’ll walk the beat, who’ll know the neighborhood, and who can restore trust and safety. \\n\\nSo let’s not abandon our streets. Or choose between safety and equal justice. \\n\\nLet’s come together to protect our communities, restore trust, and hold law enforcement accountable. \\n\\nThat’s why the Justice Department required body cameras, banned chokeholds, and restricted no-knock warrants for its officers. \\n\\nThat’s why the American Rescue Plan provided $350 Billion that cities, states, and counties can use to hire more police and invest in proven strategies like community violence interruption—trusted messengers breaking the cycle of violence and trauma and giving young people hope.  \\n\\nWe should all agree: The answer is not to Defund the police. The answer is to FUND the police with the resources and training they need to protect our communities. \\n\\nI ask Democrats and Republicans alike: Pass my budget and keep our neighborhoods safe.  \\n\\nAnd I will keep doing everything in my power to crack down on gun trafficking and ghost guns you can buy online and make at home—they have no serial numbers and can’t be traced. \\n\\nAnd I ask Congress to pass proven measures to reduce gun violence. Pass universal background checks. Why should anyone on a terrorist list be able to purchase a weapon? \\n\\nBan assault weapons and high-capacity magazines. \\n\\nRepeal the liability shield that makes gun manufacturers the only industry in America that can’t be sued. \\n\\nThese laws don’t infringe on the Second Amendment. They save lives. \\n\\nThe most fundamental right in America is the right to vote – and to have it counted. And it’s under assault. \\n\\nIn state after state, new laws have been passed, not only to suppress the vote, but to subvert entire elections. \\n\\nWe cannot let this happen. \\n\\nTonight. I call on the Senate to: Pass the Freedom to Vote Act. Pass the John Lewis Voting Rights Act. And while you’re at it, pass the Disclose Act so Americans can know who is funding our elections. \\n\\nTonight, I’d like to honor'], retrieval_context=None, additional_metadata=None, comments=None, source_file='Speeches/titleedits/state_of_the_union_030122.txt'), Golden(input='Explain the challenges addressed by the Bipartisan Infrastructure Law in improving aging infrastructure, particularly concerning bridges and freight routes, and discuss its impact on the American economy and job creation.', actual_output=None, expected_output=None, context=[' about fixing it for decades, but we’re finally going to get it done.\\n\\nI went there last month with Democrats and Republicans from both states to deliver $1.6 billion for this project.\\n\\nWhile I was there, I met an ironworker named Sara, who is here tonight.\\n\\nFor 30 years, she’s been a proud member of Ironworkers Local 44, known as the “cowboys of the sky” who built the Cincinnati skyline.\\n\\nSara said she can’t wait to be ten stories above the Ohio River building that new bridge. That’s pride.\\n\\nThat’s what we’re also building – Pride.\\n\\nWe’re also replacing poisonous lead pipes that go into 10 million homes and 400,000 schools and childcare centers, so every child in America can drink clean water.\\n\\nWe’re making sure that every community has access to affordable, high-speed internet.\\n\\nNo parent should have to drive to a McDonald’s parking lot so their kid can do their homework online.\\n\\nAnd when we do these projects, we’re going to Buy American.\\n\\nBuy American has been the law of the land since 1933. But for too long, past administrations have found ways to get around it.\\n\\nNot anymore.\\n\\nTonight, I’m also announcing new standards to require all construction materials used in federal infrastructure projects to be made in America.\\n\\nAmerican-made lumber, glass, drywall, fiber optic cables.\\n\\nAnd on my watch, American roads, American bridges, and American highways will be made with American products.\\n\\nMy economic plan is about investing in places and people that have been forgotten. Amid the economic upheaval of the past four decades, too many people have been left behind or treated like they’re invisible.\\n\\nMaybe that’s you, watching at home.\\n\\nYou remember the jobs that went away. And you wonder whether a path even exists anymore for you and your children to get ahead without moving away.\\n\\nI get it.\\n\\nThat’s why we’re building an economy where no one is left behind.\\n\\nJobs are coming back, pride is coming back, because of the choices we made in the last two years. This is a blue-collar blueprint to rebuild America and make a real difference in your lives.\\n\\nFor example, too many of you lay in bed at night staring at the ceiling, wondering what will happen if your spouse gets cancer, your child gets sick, or if something happens to you.\\n\\nWill you have the money to pay your medical bills? Will you have to sell the house?\\n\\nI get it. With the Inflation Reduction Act that I signed into law, we’re taking on powerful interests to bring your health care costs down so you can sleep better at night.\\n\\nYou know, we pay more for prescription drugs than any major country on Earth.\\n\\nFor example, one in ten Americans has diabetes.\\n\\nEvery day, millions need insulin to control their diabetes so they can stay alive. Insulin has been around for 100 years. It costs drug companies just $10 a vial to make.\\n\\nBut, Big Pharma has been unfairly charging people hundreds of dollars – and making record profits.\\n\\nNot anymore.\\n\\nWe capped the cost of insulin at $35 a month for seniors on Medicare.\\n\\nBut there are millions of other Americans who are not on Medicare, including 200,000 young people with Type I diabetes who need insulin to save their lives.\\n\\nLet’s finish the job this time.\\n\\nLet’s cap the cost of insulin at $35 a month for every American who needs it.\\n\\nThis law also caps out-of-pocket drug costs for seniors on Medicare at a maximum $2,000 per year when there are in fact many drugs, like expensive cancer drugs, that can cost up to $10,000, $12,000, and $14,000 a year.\\n\\nIf drug prices rise faster than inflation, drug companies will have to pay Medicare back the difference.\\n\\nAnd we’re finally giving Medicare the power to negotiate drug prices. Bringing down prescription drug costs doesn’t just save seniors money.\\n\\nIt will cut the federal deficit, saving tax payers hundreds of billions of dollars on the prescription drugs the government buys for Medicare.\\n\\nWhy wouldn’t we want to do that?\\n\\nNow, some members here are threatening to repeal the Inflation Reduction Act.\\n\\nMake no mistake, if you try to do anything to raise the cost of prescription drugs, I will veto it.\\n\\nI’m pleased to say that more Americans have health insurance now than ever in history.\\n\\nA record 16 million people are enrolled under the Affordable Care Act.\\n', 've already created 800,000 good-paying manufacturing jobs, the fastest growth in 40 years.\\n\\nWhere is it written that America can’t lead the world in manufacturing again?\\n\\nFor too many decades, we imported products and exported jobs.\\n\\nNow, thanks to all we’ve done, we’re exporting American products and creating American jobs.\\n\\nInflation has been a global problem because of the pandemic that disrupted supply chains and Putin’s war that disrupted energy and food supplies.\\n\\nBut we’re better positioned than any country on Earth.\\n\\nWe have more to do, but here at home, inflation is coming down.\\n\\nHere at home, gas prices are down $1.50 a gallon since their peak.\\n\\nFood inflation is coming down.\\n\\nInflation has fallen every month for the last six months while take home pay has gone up.\\n\\nAdditionally, over the last two years, a record 10 million Americans applied to start a new small business.\\n\\nEvery time somebody starts a small business, it’s an act of hope.\\n\\nAnd the Vice President will continue her work to ensure more small businesses can access capital and the historic laws we enacted.\\n\\nStanding here last year, I shared with you a story of American genius and possibility.\\n\\nSemiconductors, the small computer chips the size of your fingertip that power everything from cellphones to automobiles, and so much more. These chips were invented right here in America.\\n\\nAmerica used to make nearly 40% of the world’s chips.\\n\\nBut in the last few decades, we lost our edge and we’re down to producing only 10%. We all saw what happened during the pandemic when chip factories overseas shut down.\\n\\nToday’s automobiles need up to 3,000 chips each, but American automakers couldn’t make enough cars because there weren’t enough chips.\\n\\nCar prices went up. So did everything from refrigerators to cellphones.\\n\\nWe can never let that happen again.\\n\\nThat’s why we came together to pass the bipartisan CHIPS and Science Act.\\n\\nWe’re making sure the supply chain for America begins in America.\\n\\nWe’ve already created 800,000 manufacturing jobs even without this law.\\n\\nWith this new law, we will create hundreds of thousands of new jobs across the country.\\n\\nThat’s going to come from companies that have announced more than $300 billion in investments in American manufacturing in the last two years.\\n\\nOutside of Columbus, Ohio, Intel is building semiconductor factories on a thousand acres – a literal field of dreams.\\n\\nThat’ll create 10,000 jobs. 7,000 construction jobs. 3,000 jobs once the factories are finished.\\n\\nJobs paying $130,000 a year, and many don’t require a college degree.\\n\\nJobs where people don’t have to leave home in search of opportunity.\\n\\nAnd it’s just getting started.\\n\\nThink about the new homes, new small businesses, and so much more that will come to life.\\n\\nTalk to mayors and Governors, Democrats and Republicans, and they’ll tell you what this means to their communities.\\n\\nWe’re seeing these fields of dreams transform the heartland.\\n\\nBut to maintain the strongest economy in the world, we also need the best infrastructure in the world.\\n\\nWe used to be #1 in the world in infrastructure, then we fell to #13th.\\n\\nNow we’re coming back because we came together to pass the Bipartisan Infrastructure Law, the largest investment in infrastructure since President Eisenhower’s Interstate Highway System.\\n\\nAlready, we’ve funded over 20,000 projects, including at major airports from Boston to Atlanta to Portland.\\n\\nThese projects will put hundreds of thousands of people to work rebuilding our highways, bridges, railroads, tunnels, ports and airports, clean water, and high-speed internet across America.\\n\\nUrban. Suburban. Rural. Tribal.\\n\\nAnd we’re just getting started. I sincerely thank my Republican friends who voted for the law.\\n\\nAnd to my Republican friends who voted against it but still ask to fund projects in their districts, don’t worry.\\n\\nI promised to be the president for all Americans.\\n\\nWe’ll fund your projects. And I’ll see you at the ground-breaking.\\n\\nThis law will help further unite all of America.\\n\\nMajor projects like the Brent Spence bridge between Kentucky and Ohio over the Ohio River. Built 60 years ago. Badly in need of repairs.\\n\\nOne of the nation’s most congested freight routes carrying $2 billion worth of freight every day. Folks have been talking', '\\nThanks to the law I signed last year, millions are saving $800 a year on their premiums.\\n\\nBut the way that law was written, that benefit expires after 2025.\\n\\nLet’s finish the job, make those savings permanent, and expand coverage to those left off Medicaid.\\n\\nLook, the Inflation Reduction Act is also the most significant investment ever to tackle the climate crisis.\\n\\nLowering utility bills, creating American jobs, and leading the world to a clean energy future.\\n\\nI’ve visited the devastating aftermaths of record floods and droughts, storms and wildfires.\\n\\nIn addition to emergency recovery from Puerto Rico to Florida to Idaho, we are rebuilding for the long term.\\n\\nNew electric grids able to weather the next major storm.\\n\\nRoads and water systems to withstand the next big flood.\\n\\nClean energy to cut pollution and create jobs in communities too often left behind.\\n\\nWe’re building 500,000 electric vehicle charging stations installed across the country by tens of thousands of IBEW workers.\\n\\nAnd helping families save more than $1,000 a year with tax credits for the purchase of electric vehicles and energy-efficient appliances.\\n\\nHistoric conservation efforts to be responsible stewards of our lands.\\n\\nLet’s face reality.\\n\\nThe climate crisis doesn’t care if your state is red or blue. It is an existential threat.\\n\\nWe have an obligation to our children and grandchildren to confront it. I’m proud of how America is at last stepping up to the challenge.\\n\\nBut there’s so much more to do.\\n\\nWe will finish the job.\\n\\nAnd we pay for these investments in our future by finally making the wealthiest and the biggest corporations begin to pay their fair share.\\n\\nI’m a capitalist. But just pay your fair share.\\n\\nAnd I think a lot of you at home agree with me that our present tax system is simply unfair.\\n\\nThe idea that in 2020, 55 of the biggest companies in America made $40 billion in profits and paid zero in federal income taxes?\\n\\nThat’s simply not fair.\\n\\nBut now, because of the law I signed, billion-dollar companies have to pay a minimum of 15%.\\n\\nJust 15%.\\n\\nThat’s less than a nurse pays. Let me be clear.\\n\\nUnder my plan, nobody earning less than $400,000 a year will pay an additional penny in taxes.\\n\\nNobody. Not one penny.\\n\\nBut there’s more to do.\\n\\nLet’s finish the job. Reward work, not just wealth. Pass my proposal for a billionaire minimum tax.\\n\\nBecause no billionaire should pay a lower tax rate than a school teacher or a firefighter.\\n\\nYou may have noticed that Big Oil just reported record profits.\\n\\nLast year, they made $200 billion in the midst of a global energy crisis.\\n\\nIt’s outrageous.\\n\\nThey invested too little of that profit to increase domestic production and keep gas prices down.\\n\\nInstead, they used those record profits to buy back their own stock, rewarding their CEOs and shareholders.\\n\\nCorporations ought to do the right thing.\\n\\nThat’s why I propose that we quadruple the tax on corporate stock buybacks to encourage long term investments instead.\\n\\nThey will still make a considerable profit.\\n\\nLet’s finish the job and close the loopholes that allow the very wealthy to avoid paying their taxes.\\n\\nInstead of cutting the number of audits of wealthy tax payers, I signed a law that will reduce the deficit by $114 billion by cracking down on wealthy tax cheats.\\n\\nThat’s being fiscally responsible.\\n\\nIn the last two years, my administration cut the deficit by more than $1.7 trillion – the largest deficit reduction in American history.\\n\\nUnder the previous administration, America’s deficit went up four years in a row.\\n\\nBecause of those record deficits, no president added more to the national debt in any four years than my predecessor.\\n\\nNearly 25% of the entire national debt, a debt that took 200 years to accumulate, was added by that administration alone.\\n\\nHow did Congress respond to all that debt?\\n\\nThey lifted the debt ceiling three times without preconditions or crisis.\\n\\nThey paid America’s bills to prevent economic disaster for our country.\\n\\nTonight, I’m asking this Congress to follow suit.\\n\\nLet us commit here tonight that the full faith and credit of the United States of America will never, ever be questioned.\\n\\nSome of my Republican friends want to take the economy hostage unless I agree to their economic plans. All of you at home should know what their plans are.\\n\\nInstead of making the wealthy pay their fair share,'], retrieval_context=None, additional_metadata=None, comments=None, source_file='Speeches/titleedits/state_of_the_union_020723.txt'), Golden(input=\"Considering the Biden administration's focus on manufacturing job growth, infrastructure investments, and tackling inflation, how is the American economy performing?\", actual_output=None, expected_output=None, context=[' about fixing it for decades, but we’re finally going to get it done.\\n\\nI went there last month with Democrats and Republicans from both states to deliver $1.6 billion for this project.\\n\\nWhile I was there, I met an ironworker named Sara, who is here tonight.\\n\\nFor 30 years, she’s been a proud member of Ironworkers Local 44, known as the “cowboys of the sky” who built the Cincinnati skyline.\\n\\nSara said she can’t wait to be ten stories above the Ohio River building that new bridge. That’s pride.\\n\\nThat’s what we’re also building – Pride.\\n\\nWe’re also replacing poisonous lead pipes that go into 10 million homes and 400,000 schools and childcare centers, so every child in America can drink clean water.\\n\\nWe’re making sure that every community has access to affordable, high-speed internet.\\n\\nNo parent should have to drive to a McDonald’s parking lot so their kid can do their homework online.\\n\\nAnd when we do these projects, we’re going to Buy American.\\n\\nBuy American has been the law of the land since 1933. But for too long, past administrations have found ways to get around it.\\n\\nNot anymore.\\n\\nTonight, I’m also announcing new standards to require all construction materials used in federal infrastructure projects to be made in America.\\n\\nAmerican-made lumber, glass, drywall, fiber optic cables.\\n\\nAnd on my watch, American roads, American bridges, and American highways will be made with American products.\\n\\nMy economic plan is about investing in places and people that have been forgotten. Amid the economic upheaval of the past four decades, too many people have been left behind or treated like they’re invisible.\\n\\nMaybe that’s you, watching at home.\\n\\nYou remember the jobs that went away. And you wonder whether a path even exists anymore for you and your children to get ahead without moving away.\\n\\nI get it.\\n\\nThat’s why we’re building an economy where no one is left behind.\\n\\nJobs are coming back, pride is coming back, because of the choices we made in the last two years. This is a blue-collar blueprint to rebuild America and make a real difference in your lives.\\n\\nFor example, too many of you lay in bed at night staring at the ceiling, wondering what will happen if your spouse gets cancer, your child gets sick, or if something happens to you.\\n\\nWill you have the money to pay your medical bills? Will you have to sell the house?\\n\\nI get it. With the Inflation Reduction Act that I signed into law, we’re taking on powerful interests to bring your health care costs down so you can sleep better at night.\\n\\nYou know, we pay more for prescription drugs than any major country on Earth.\\n\\nFor example, one in ten Americans has diabetes.\\n\\nEvery day, millions need insulin to control their diabetes so they can stay alive. Insulin has been around for 100 years. It costs drug companies just $10 a vial to make.\\n\\nBut, Big Pharma has been unfairly charging people hundreds of dollars – and making record profits.\\n\\nNot anymore.\\n\\nWe capped the cost of insulin at $35 a month for seniors on Medicare.\\n\\nBut there are millions of other Americans who are not on Medicare, including 200,000 young people with Type I diabetes who need insulin to save their lives.\\n\\nLet’s finish the job this time.\\n\\nLet’s cap the cost of insulin at $35 a month for every American who needs it.\\n\\nThis law also caps out-of-pocket drug costs for seniors on Medicare at a maximum $2,000 per year when there are in fact many drugs, like expensive cancer drugs, that can cost up to $10,000, $12,000, and $14,000 a year.\\n\\nIf drug prices rise faster than inflation, drug companies will have to pay Medicare back the difference.\\n\\nAnd we’re finally giving Medicare the power to negotiate drug prices. Bringing down prescription drug costs doesn’t just save seniors money.\\n\\nIt will cut the federal deficit, saving tax payers hundreds of billions of dollars on the prescription drugs the government buys for Medicare.\\n\\nWhy wouldn’t we want to do that?\\n\\nNow, some members here are threatening to repeal the Inflation Reduction Act.\\n\\nMake no mistake, if you try to do anything to raise the cost of prescription drugs, I will veto it.\\n\\nI’m pleased to say that more Americans have health insurance now than ever in history.\\n\\nA record 16 million people are enrolled under the Affordable Care Act.\\n', 've already created 800,000 good-paying manufacturing jobs, the fastest growth in 40 years.\\n\\nWhere is it written that America can’t lead the world in manufacturing again?\\n\\nFor too many decades, we imported products and exported jobs.\\n\\nNow, thanks to all we’ve done, we’re exporting American products and creating American jobs.\\n\\nInflation has been a global problem because of the pandemic that disrupted supply chains and Putin’s war that disrupted energy and food supplies.\\n\\nBut we’re better positioned than any country on Earth.\\n\\nWe have more to do, but here at home, inflation is coming down.\\n\\nHere at home, gas prices are down $1.50 a gallon since their peak.\\n\\nFood inflation is coming down.\\n\\nInflation has fallen every month for the last six months while take home pay has gone up.\\n\\nAdditionally, over the last two years, a record 10 million Americans applied to start a new small business.\\n\\nEvery time somebody starts a small business, it’s an act of hope.\\n\\nAnd the Vice President will continue her work to ensure more small businesses can access capital and the historic laws we enacted.\\n\\nStanding here last year, I shared with you a story of American genius and possibility.\\n\\nSemiconductors, the small computer chips the size of your fingertip that power everything from cellphones to automobiles, and so much more. These chips were invented right here in America.\\n\\nAmerica used to make nearly 40% of the world’s chips.\\n\\nBut in the last few decades, we lost our edge and we’re down to producing only 10%. We all saw what happened during the pandemic when chip factories overseas shut down.\\n\\nToday’s automobiles need up to 3,000 chips each, but American automakers couldn’t make enough cars because there weren’t enough chips.\\n\\nCar prices went up. So did everything from refrigerators to cellphones.\\n\\nWe can never let that happen again.\\n\\nThat’s why we came together to pass the bipartisan CHIPS and Science Act.\\n\\nWe’re making sure the supply chain for America begins in America.\\n\\nWe’ve already created 800,000 manufacturing jobs even without this law.\\n\\nWith this new law, we will create hundreds of thousands of new jobs across the country.\\n\\nThat’s going to come from companies that have announced more than $300 billion in investments in American manufacturing in the last two years.\\n\\nOutside of Columbus, Ohio, Intel is building semiconductor factories on a thousand acres – a literal field of dreams.\\n\\nThat’ll create 10,000 jobs. 7,000 construction jobs. 3,000 jobs once the factories are finished.\\n\\nJobs paying $130,000 a year, and many don’t require a college degree.\\n\\nJobs where people don’t have to leave home in search of opportunity.\\n\\nAnd it’s just getting started.\\n\\nThink about the new homes, new small businesses, and so much more that will come to life.\\n\\nTalk to mayors and Governors, Democrats and Republicans, and they’ll tell you what this means to their communities.\\n\\nWe’re seeing these fields of dreams transform the heartland.\\n\\nBut to maintain the strongest economy in the world, we also need the best infrastructure in the world.\\n\\nWe used to be #1 in the world in infrastructure, then we fell to #13th.\\n\\nNow we’re coming back because we came together to pass the Bipartisan Infrastructure Law, the largest investment in infrastructure since President Eisenhower’s Interstate Highway System.\\n\\nAlready, we’ve funded over 20,000 projects, including at major airports from Boston to Atlanta to Portland.\\n\\nThese projects will put hundreds of thousands of people to work rebuilding our highways, bridges, railroads, tunnels, ports and airports, clean water, and high-speed internet across America.\\n\\nUrban. Suburban. Rural. Tribal.\\n\\nAnd we’re just getting started. I sincerely thank my Republican friends who voted for the law.\\n\\nAnd to my Republican friends who voted against it but still ask to fund projects in their districts, don’t worry.\\n\\nI promised to be the president for all Americans.\\n\\nWe’ll fund your projects. And I’ll see you at the ground-breaking.\\n\\nThis law will help further unite all of America.\\n\\nMajor projects like the Brent Spence bridge between Kentucky and Ohio over the Ohio River. Built 60 years ago. Badly in need of repairs.\\n\\nOne of the nation’s most congested freight routes carrying $2 billion worth of freight every day. Folks have been talking', '\\nThanks to the law I signed last year, millions are saving $800 a year on their premiums.\\n\\nBut the way that law was written, that benefit expires after 2025.\\n\\nLet’s finish the job, make those savings permanent, and expand coverage to those left off Medicaid.\\n\\nLook, the Inflation Reduction Act is also the most significant investment ever to tackle the climate crisis.\\n\\nLowering utility bills, creating American jobs, and leading the world to a clean energy future.\\n\\nI’ve visited the devastating aftermaths of record floods and droughts, storms and wildfires.\\n\\nIn addition to emergency recovery from Puerto Rico to Florida to Idaho, we are rebuilding for the long term.\\n\\nNew electric grids able to weather the next major storm.\\n\\nRoads and water systems to withstand the next big flood.\\n\\nClean energy to cut pollution and create jobs in communities too often left behind.\\n\\nWe’re building 500,000 electric vehicle charging stations installed across the country by tens of thousands of IBEW workers.\\n\\nAnd helping families save more than $1,000 a year with tax credits for the purchase of electric vehicles and energy-efficient appliances.\\n\\nHistoric conservation efforts to be responsible stewards of our lands.\\n\\nLet’s face reality.\\n\\nThe climate crisis doesn’t care if your state is red or blue. It is an existential threat.\\n\\nWe have an obligation to our children and grandchildren to confront it. I’m proud of how America is at last stepping up to the challenge.\\n\\nBut there’s so much more to do.\\n\\nWe will finish the job.\\n\\nAnd we pay for these investments in our future by finally making the wealthiest and the biggest corporations begin to pay their fair share.\\n\\nI’m a capitalist. But just pay your fair share.\\n\\nAnd I think a lot of you at home agree with me that our present tax system is simply unfair.\\n\\nThe idea that in 2020, 55 of the biggest companies in America made $40 billion in profits and paid zero in federal income taxes?\\n\\nThat’s simply not fair.\\n\\nBut now, because of the law I signed, billion-dollar companies have to pay a minimum of 15%.\\n\\nJust 15%.\\n\\nThat’s less than a nurse pays. Let me be clear.\\n\\nUnder my plan, nobody earning less than $400,000 a year will pay an additional penny in taxes.\\n\\nNobody. Not one penny.\\n\\nBut there’s more to do.\\n\\nLet’s finish the job. Reward work, not just wealth. Pass my proposal for a billionaire minimum tax.\\n\\nBecause no billionaire should pay a lower tax rate than a school teacher or a firefighter.\\n\\nYou may have noticed that Big Oil just reported record profits.\\n\\nLast year, they made $200 billion in the midst of a global energy crisis.\\n\\nIt’s outrageous.\\n\\nThey invested too little of that profit to increase domestic production and keep gas prices down.\\n\\nInstead, they used those record profits to buy back their own stock, rewarding their CEOs and shareholders.\\n\\nCorporations ought to do the right thing.\\n\\nThat’s why I propose that we quadruple the tax on corporate stock buybacks to encourage long term investments instead.\\n\\nThey will still make a considerable profit.\\n\\nLet’s finish the job and close the loopholes that allow the very wealthy to avoid paying their taxes.\\n\\nInstead of cutting the number of audits of wealthy tax payers, I signed a law that will reduce the deficit by $114 billion by cracking down on wealthy tax cheats.\\n\\nThat’s being fiscally responsible.\\n\\nIn the last two years, my administration cut the deficit by more than $1.7 trillion – the largest deficit reduction in American history.\\n\\nUnder the previous administration, America’s deficit went up four years in a row.\\n\\nBecause of those record deficits, no president added more to the national debt in any four years than my predecessor.\\n\\nNearly 25% of the entire national debt, a debt that took 200 years to accumulate, was added by that administration alone.\\n\\nHow did Congress respond to all that debt?\\n\\nThey lifted the debt ceiling three times without preconditions or crisis.\\n\\nThey paid America’s bills to prevent economic disaster for our country.\\n\\nTonight, I’m asking this Congress to follow suit.\\n\\nLet us commit here tonight that the full faith and credit of the United States of America will never, ever be questioned.\\n\\nSome of my Republican friends want to take the economy hostage unless I agree to their economic plans. All of you at home should know what their plans are.\\n\\nInstead of making the wealthy pay their fair share,'], retrieval_context=None, additional_metadata=None, comments=None, source_file='Speeches/titleedits/state_of_the_union_020723.txt'), Golden(input=\"Contrast the economic and social achievements claimed by the current administration, such as job growth, reduced inflation, and increased access to healthcare, with previous administrations' performance on these metrics.\", actual_output=None, expected_output=None, context=['With historic job growth and small business growth for Black, Hispanic, and Asian-Americans. \\n\\n800,000 new manufacturing jobs in America and counting. \\n\\nMore people have health insurance today than ever before. \\n\\nThe racial wealth gap is the smallest it’s been in 20 years. \\n\\nWages keep going up and inflation keeps coming down! \\n\\nInflation has dropped from 9% to 3% – the lowest in the world! \\n\\nAnd trending lower. \\n\\nAnd now instead of importing foreign products and exporting American jobs, we’re exporting American products and creating American jobs – right here in America where they belong! \\n \\n \\n\\nAnd the American people are beginning to feel it. \\n\\nConsumer studies show consumer confidence is soaring. \\n\\nBuy American has been the law of the land since the 1930s.  \\n \\n\\nPast administrations including my predecessor failed to Buy American. \\n\\nNot any more. \\n\\nOn my watch, federal projects like helping to build American roads bridges and highways will be made with American products built by American workers creating good-paying American jobs! \\n\\nThanks to my Chips and Science Act the United States is investing more in research and development than ever before. \\n\\nDuring the pandemic a shortage of semiconductor chips drove up prices for everything from cell phones to automobiles.  \\n\\nWell instead of having to import semiconductor chips, which America invented I might add, private companies are now investing billions of dollars to build new chip factories here in America! \\n\\nCreating tens of thousands of jobs many of them paying over $100,000 a year and don’t require a college degree. \\n\\nIn fact my policies have attracted $650 Billion of private sector investments in clean energy and advanced manufacturing creating tens of thousands of jobs here in America! \\n\\nThanks to our Bipartisan Infrastructure Law, 46,000 new projects have been announced across your communities – modernizing our roads and bridges, ports and airports, and public transit systems. \\n\\nRemoving poisonous lead pipes so every child can drink clean water without risk of getting brain damage. \\n\\nProviding affordable high speed internet for every American no matter where you live. \\n\\nUrban, suburban, and rural communities — in red states and blue. \\n\\nRecord investments in tribal communities. \\n\\nBecause of my investments, family farms are better be able to stay in the family and children and grandchildren won’t have to leave home to make a living.  \\n\\nIt’s transformative.  \\n\\n \\nA great comeback story is Belvidere, Illinois. Home to an auto plant for nearly 60 years.  \\n \\n\\nBefore I came to office the plant was on its way to shutting down. \\n\\n \\nThousands of workers feared for their livelihoods. Hope was fading. \\n \\n\\nThen I was elected to office and we raised Belvidere repeatedly with the auto company knowing unions make all the difference. \\n\\nThe UAW worked like hell to keep the plant open and get those jobs back. And together, we succeeded! \\n\\nInstead of an auto factory shutting down an auto factory is re-opening and a new state-of-the art battery factory is being built to power those cars. \\n\\nInstead of a town being left behind it’s a community moving forward again! \\n\\nBecause instead of watching auto jobs of the future go overseas 4,000 union workers with higher wages will be building that future, in Belvidere, here in America! \\n\\nHere tonight is UAW President, Shawn Fain, a great friend, and a great labor leader. \\n\\nAnd Dawn Simms, a third generation UAW worker  in Belvidere. \\n\\nShawn, I was proud to be the first President in American history to walk a picket line. \\n\\nAnd today Dawn has a job in her hometown providing stability for her family and pride and dignity. \\n\\nShowing once again, Wall Street didn’t build this country! \\n\\nThe middle class built this country! And unions built the middle class! \\n\\nWhen Americans get knocked down, we get back up! \\n\\nWe keep going! \\n\\nThat’s America! That’s you, the American people! \\n\\nIt’s because of you America is coming back!  \\n\\nIt’s because of you, our future is brighter! \\n\\nAnd it’s because of you that tonight we can proudly say the State of our Union is strong and getting stronger!  \\n \\n\\nTonight I want to talk about the future of possibilities that we can build together. \\n\\nA future where the days of trickle-down economics are over and the wealthy', ' no place in America! \\n\\nHistory is watching. \\n\\nAnd history is watching another assault on freedom.  \\n\\nJoining us tonight is Latorya Beasley, a social worker from Birmingham, Alabama. 14 months ago tonight, she and her husband welcomed a baby girl thanks to the miracle of IVF. \\n\\nShe scheduled treatments to have a second child, but the Alabama Supreme Court shut down IVF treatments across the state, unleashed by the Supreme Court decision overturning Roe v. Wade. \\n\\nShe was told her dream would have to wait. \\n\\nWhat her family has gone through should never have happened. And unless Congress acts, it could happen again. \\n\\nSo tonight, let’s stand up for families like hers! \\n\\nTo my friends across the aisle, don’t keep families waiting any longer. Guarantee the right to IVF nationwide! \\n\\nLike most Americans, I believe Roe v. Wade got it right. And I thank Vice President Harris for being an incredible leader, defending reproductive freedom and so much more. \\n\\nBut my predecessor came to office determined  \\n\\nto see Roe v. Wade overturned. \\n\\nHe’s the reason it was overturned. In fact, he brags about it. \\n\\nLook at the chaos that has resulted. \\n\\nJoining us tonight is Kate Cox, a wife and mother  \\n\\nfrom Dallas. \\n\\nWhen she became pregnant again, the fetus had a fatal condition. \\n\\nHer doctors told Kate that her own life and her ability to have children in the future were at risk if she didn’t act. \\n\\nBecause Texas law banned abortion, Kate and her husband had to leave the state to get the care she needed. \\n\\nWhat her family has gone through should never have happened as well. But it is happening to so many others. \\n\\nThere are state laws banning the right to choose, criminalizing doctors, and forcing survivors of rape and incest to leave their states as well to get the care they need. \\n\\nMany of you in this Chamber and my predecessor are promising to pass a national ban on reproductive freedom. \\n\\nMy God, what freedoms will you take away next? \\n\\nIn its decision to overturn Roe v. Wade the Supreme Court majority wrote, “Women are not without – \\n\\nelectoral or political power.” \\n\\nNo kidding. \\n\\nClearly, those bragging about overturning Roe v. Wade have no clue about the power of women in America. \\n\\nThey found out though when reproductive freedom   \\n\\nwas on the ballot and won in 2022, 2023, and they will find out again, in 2024. \\n\\nIf Americans send me a Congress that supports the right to choose, I promise you, I will restore Roe v. Wade as the law of the land again! \\n\\nAmerica cannot go back. I am here tonight to show the way forward. Because I know how far we’ve come. \\n\\nFour years ago next week, before I came to office, our country was hit by the worst pandemic and the worst economic crisis in a century. \\n\\nRemember the fear. Record job losses. Remember the spike in crime. And the murder rate. \\n\\nA raging virus that would take more than 1 million American lives and leave millions of loved ones behind. \\n\\nA mental health crisis of isolation and loneliness. \\n\\nA president, my predecessor, who failed the most basic duty. Any President owes the American people the duty to care. \\n\\nThat is unforgivable. \\n\\nI came to office determined to get us through one of the toughest periods in our nation’s history. \\n\\nAnd we have. It doesn’t make the news but in thousands of cities and towns the American people are writing the greatest comeback story never told. \\n\\nSo let’s tell that story here and now. \\n\\nAmerica’s comeback is building a future of American possibilities, building an economy from the middle out and the bottom up, not the top down, investing in all of America, in all Americans to make sure everyone has a fair shot and we leave no one behind! \\n\\nThe pandemic no longer controls our lives. The vaccines that saved us from COVID are now being used to help beat cancer. \\n\\nTurning setback into comeback. \\n\\nThat’s America! \\n\\nI inherited an economy that was on the brink. Now our economy is the envy of the world! \\n\\n15 million new jobs in just three years – that’s a record! \\n\\nUnemployment at 50-year lows. \\n\\nA record 16 million Americans are starting small businesses and each one is an act of hope. \\n\\n'], retrieval_context=None, additional_metadata=None, comments=None, source_file='Speeches/titleedits/state_of_the_union_030724.txt'), Golden(input=\"Analyze how the administration's actions, including job growth, economic improvements, and social policies, have addressed the needs and concerns of all Americans, particularly diverse communities.\", actual_output=None, expected_output=None, context=['With historic job growth and small business growth for Black, Hispanic, and Asian-Americans. \\n\\n800,000 new manufacturing jobs in America and counting. \\n\\nMore people have health insurance today than ever before. \\n\\nThe racial wealth gap is the smallest it’s been in 20 years. \\n\\nWages keep going up and inflation keeps coming down! \\n\\nInflation has dropped from 9% to 3% – the lowest in the world! \\n\\nAnd trending lower. \\n\\nAnd now instead of importing foreign products and exporting American jobs, we’re exporting American products and creating American jobs – right here in America where they belong! \\n \\n \\n\\nAnd the American people are beginning to feel it. \\n\\nConsumer studies show consumer confidence is soaring. \\n\\nBuy American has been the law of the land since the 1930s.  \\n \\n\\nPast administrations including my predecessor failed to Buy American. \\n\\nNot any more. \\n\\nOn my watch, federal projects like helping to build American roads bridges and highways will be made with American products built by American workers creating good-paying American jobs! \\n\\nThanks to my Chips and Science Act the United States is investing more in research and development than ever before. \\n\\nDuring the pandemic a shortage of semiconductor chips drove up prices for everything from cell phones to automobiles.  \\n\\nWell instead of having to import semiconductor chips, which America invented I might add, private companies are now investing billions of dollars to build new chip factories here in America! \\n\\nCreating tens of thousands of jobs many of them paying over $100,000 a year and don’t require a college degree. \\n\\nIn fact my policies have attracted $650 Billion of private sector investments in clean energy and advanced manufacturing creating tens of thousands of jobs here in America! \\n\\nThanks to our Bipartisan Infrastructure Law, 46,000 new projects have been announced across your communities – modernizing our roads and bridges, ports and airports, and public transit systems. \\n\\nRemoving poisonous lead pipes so every child can drink clean water without risk of getting brain damage. \\n\\nProviding affordable high speed internet for every American no matter where you live. \\n\\nUrban, suburban, and rural communities — in red states and blue. \\n\\nRecord investments in tribal communities. \\n\\nBecause of my investments, family farms are better be able to stay in the family and children and grandchildren won’t have to leave home to make a living.  \\n\\nIt’s transformative.  \\n\\n \\nA great comeback story is Belvidere, Illinois. Home to an auto plant for nearly 60 years.  \\n \\n\\nBefore I came to office the plant was on its way to shutting down. \\n\\n \\nThousands of workers feared for their livelihoods. Hope was fading. \\n \\n\\nThen I was elected to office and we raised Belvidere repeatedly with the auto company knowing unions make all the difference. \\n\\nThe UAW worked like hell to keep the plant open and get those jobs back. And together, we succeeded! \\n\\nInstead of an auto factory shutting down an auto factory is re-opening and a new state-of-the art battery factory is being built to power those cars. \\n\\nInstead of a town being left behind it’s a community moving forward again! \\n\\nBecause instead of watching auto jobs of the future go overseas 4,000 union workers with higher wages will be building that future, in Belvidere, here in America! \\n\\nHere tonight is UAW President, Shawn Fain, a great friend, and a great labor leader. \\n\\nAnd Dawn Simms, a third generation UAW worker  in Belvidere. \\n\\nShawn, I was proud to be the first President in American history to walk a picket line. \\n\\nAnd today Dawn has a job in her hometown providing stability for her family and pride and dignity. \\n\\nShowing once again, Wall Street didn’t build this country! \\n\\nThe middle class built this country! And unions built the middle class! \\n\\nWhen Americans get knocked down, we get back up! \\n\\nWe keep going! \\n\\nThat’s America! That’s you, the American people! \\n\\nIt’s because of you America is coming back!  \\n\\nIt’s because of you, our future is brighter! \\n\\nAnd it’s because of you that tonight we can proudly say the State of our Union is strong and getting stronger!  \\n \\n\\nTonight I want to talk about the future of possibilities that we can build together. \\n\\nA future where the days of trickle-down economics are over and the wealthy', ' no place in America! \\n\\nHistory is watching. \\n\\nAnd history is watching another assault on freedom.  \\n\\nJoining us tonight is Latorya Beasley, a social worker from Birmingham, Alabama. 14 months ago tonight, she and her husband welcomed a baby girl thanks to the miracle of IVF. \\n\\nShe scheduled treatments to have a second child, but the Alabama Supreme Court shut down IVF treatments across the state, unleashed by the Supreme Court decision overturning Roe v. Wade. \\n\\nShe was told her dream would have to wait. \\n\\nWhat her family has gone through should never have happened. And unless Congress acts, it could happen again. \\n\\nSo tonight, let’s stand up for families like hers! \\n\\nTo my friends across the aisle, don’t keep families waiting any longer. Guarantee the right to IVF nationwide! \\n\\nLike most Americans, I believe Roe v. Wade got it right. And I thank Vice President Harris for being an incredible leader, defending reproductive freedom and so much more. \\n\\nBut my predecessor came to office determined  \\n\\nto see Roe v. Wade overturned. \\n\\nHe’s the reason it was overturned. In fact, he brags about it. \\n\\nLook at the chaos that has resulted. \\n\\nJoining us tonight is Kate Cox, a wife and mother  \\n\\nfrom Dallas. \\n\\nWhen she became pregnant again, the fetus had a fatal condition. \\n\\nHer doctors told Kate that her own life and her ability to have children in the future were at risk if she didn’t act. \\n\\nBecause Texas law banned abortion, Kate and her husband had to leave the state to get the care she needed. \\n\\nWhat her family has gone through should never have happened as well. But it is happening to so many others. \\n\\nThere are state laws banning the right to choose, criminalizing doctors, and forcing survivors of rape and incest to leave their states as well to get the care they need. \\n\\nMany of you in this Chamber and my predecessor are promising to pass a national ban on reproductive freedom. \\n\\nMy God, what freedoms will you take away next? \\n\\nIn its decision to overturn Roe v. Wade the Supreme Court majority wrote, “Women are not without – \\n\\nelectoral or political power.” \\n\\nNo kidding. \\n\\nClearly, those bragging about overturning Roe v. Wade have no clue about the power of women in America. \\n\\nThey found out though when reproductive freedom   \\n\\nwas on the ballot and won in 2022, 2023, and they will find out again, in 2024. \\n\\nIf Americans send me a Congress that supports the right to choose, I promise you, I will restore Roe v. Wade as the law of the land again! \\n\\nAmerica cannot go back. I am here tonight to show the way forward. Because I know how far we’ve come. \\n\\nFour years ago next week, before I came to office, our country was hit by the worst pandemic and the worst economic crisis in a century. \\n\\nRemember the fear. Record job losses. Remember the spike in crime. And the murder rate. \\n\\nA raging virus that would take more than 1 million American lives and leave millions of loved ones behind. \\n\\nA mental health crisis of isolation and loneliness. \\n\\nA president, my predecessor, who failed the most basic duty. Any President owes the American people the duty to care. \\n\\nThat is unforgivable. \\n\\nI came to office determined to get us through one of the toughest periods in our nation’s history. \\n\\nAnd we have. It doesn’t make the news but in thousands of cities and towns the American people are writing the greatest comeback story never told. \\n\\nSo let’s tell that story here and now. \\n\\nAmerica’s comeback is building a future of American possibilities, building an economy from the middle out and the bottom up, not the top down, investing in all of America, in all Americans to make sure everyone has a fair shot and we leave no one behind! \\n\\nThe pandemic no longer controls our lives. The vaccines that saved us from COVID are now being used to help beat cancer. \\n\\nTurning setback into comeback. \\n\\nThat’s America! \\n\\nI inherited an economy that was on the brink. Now our economy is the envy of the world! \\n\\n15 million new jobs in just three years – that’s a record! \\n\\nUnemployment at 50-year lows. \\n\\nA record 16 million Americans are starting small businesses and each one is an act of hope. \\n\\n'], retrieval_context=None, additional_metadata=None, comments=None, source_file='Speeches/titleedits/state_of_the_union_030724.txt')], conversational_goldens=[], _alias=None, _id=None)"
      ]
     },
     "execution_count": 61,
     "metadata": {},
     "output_type": "execute_result"
    }
   ],
   "source": [
    "dataset."
   ]
  },
  {
   "cell_type": "code",
   "execution_count": 37,
   "id": "66aaad79-e985-4661-a630-d4a49e584492",
   "metadata": {},
   "outputs": [],
   "source": [
    "# Additional ways to form json response"
   ]
  },
  {
   "cell_type": "code",
   "execution_count": 36,
   "id": "5b496f0a-5e7b-4730-ad59-65ea763361d2",
   "metadata": {},
   "outputs": [],
   "source": [
    "class User(BaseModel):\n",
    "    name: str\n",
    "    age: int"
   ]
  },
  {
   "cell_type": "code",
   "execution_count": 61,
   "id": "5e8eaa77-27ab-43eb-adce-5e89dfc96aae",
   "metadata": {},
   "outputs": [],
   "source": [
    "assert isinstance(test, User)\n",
    "assert test.resp == \"Tiki\"\n",
    "assert test.age == 25"
   ]
  },
  {
   "cell_type": "code",
   "execution_count": null,
   "id": "392f606c-f1ed-4c0d-98a4-a2ba04bd0b94",
   "metadata": {},
   "outputs": [],
   "source": []
  }
 ],
 "metadata": {
  "kernelspec": {
   "display_name": "research2",
   "language": "python",
   "name": "research2"
  },
  "language_info": {
   "codemirror_mode": {
    "name": "ipython",
    "version": 3
   },
   "file_extension": ".py",
   "mimetype": "text/x-python",
   "name": "python",
   "nbconvert_exporter": "python",
   "pygments_lexer": "ipython3",
   "version": "3.11.8"
  }
 },
 "nbformat": 4,
 "nbformat_minor": 5
}
