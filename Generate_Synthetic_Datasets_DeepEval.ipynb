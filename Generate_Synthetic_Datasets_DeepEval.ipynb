{
 "cells": [
  {
   "cell_type": "code",
   "execution_count": null,
   "id": "3914d65f-42be-4012-a611-f686bdf16b9a",
   "metadata": {},
   "outputs": [],
   "source": [
    "import os\n",
    "import logging\n",
    "import sys\n",
    "from IPython.display import display, Markdown\n",
    "import pandas as pd\n",
    "from typing import List\n",
    "from pydantic import BaseModel, ConfigDict\n",
    "import instructor\n",
    "from datasets import Dataset\n",
    "\n",
    "import google.generativeai as genai\n",
    "from langchain_google_genai import ChatGoogleGenerativeAI, GoogleGenerativeAIEmbeddings\n",
    "from llama_index.core import Document, VectorStoreIndex, Settings, StorageContext, load_index_from_storage\n",
    "from llama_index.vector_stores.faiss import FaissVectorStore\n",
    "import faiss\n",
    "\n",
    "import deepeval\n",
    "from deepeval.models import DeepEvalBaseLLM, DeepEvalBaseEmbeddingModel\n",
    "from deepeval.test_case import LLMTestCase\n",
    "from deepeval.dataset import EvaluationDataset\n",
    "from deepeval.synthesizer import Synthesizer\n",
    "from deepeval import evaluate\n",
    "from deepeval.evaluate import TestResult, print_test_result\n",
    "from deepeval.metrics import (\n",
    "    AnswerRelevancyMetric,\n",
    "    ContextualPrecisionMetric,\n",
    "    ContextualRecallMetric,\n",
    "    ContextualRelevancyMetric,\n",
    "    FaithfulnessMetric\n",
    ")\n",
    "from deepeval.metrics.ragas import (\n",
    "    RagasMetric,\n",
    "    RAGASAnswerRelevancyMetric,\n",
    "    RAGASFaithfulnessMetric, \n",
    "    RAGASContextualRecallMetric,\n",
    "    RAGASContextualPrecisionMetric,\n",
    "    RAGASContextualRelevancyMetric\n",
    ") \n"
   ]
  },
  {
   "cell_type": "code",
   "execution_count": 2,
   "id": "51c6fa3f-561e-4887-adf1-1251fd2635ad",
   "metadata": {},
   "outputs": [],
   "source": [
    "# Environmental variable to opt out of DeepEval tracking telemetry data\n",
    "os.environ[\"DEEPEVAL_TELEMETRY_OPT_OUT\"] = \"YES\""
   ]
  },
  {
   "cell_type": "code",
   "execution_count": 3,
   "id": "c2549224-19ad-4e6f-80b0-1318209ec302",
   "metadata": {},
   "outputs": [
    {
     "data": {
      "text/plain": [
       "True"
      ]
     },
     "execution_count": 3,
     "metadata": {},
     "output_type": "execute_result"
    }
   ],
   "source": [
    "deepeval.telemetry_opt_out()"
   ]
  },
  {
   "cell_type": "code",
   "execution_count": 4,
   "id": "24a8144b-be76-4051-b149-d08ffff01c55",
   "metadata": {},
   "outputs": [],
   "source": [
    "def to_markdown(text):\n",
    "  text = text.replace('•', '  *')\n",
    "  return Markdown(textwrap.indent(text, '> ', predicate=lambda _: True))"
   ]
  },
  {
   "cell_type": "code",
   "execution_count": 5,
   "id": "f3d57e70-5446-4b04-9414-5d4de02c7a01",
   "metadata": {},
   "outputs": [],
   "source": [
    "# set up local API key\n",
    "genai.configure(api_key=os.environ[\"GOOGLE_API_KEY\"])"
   ]
  },
  {
   "cell_type": "code",
   "execution_count": 6,
   "id": "550dbc02-6fac-47e8-9e2f-d45e5b854cb9",
   "metadata": {},
   "outputs": [],
   "source": [
    "llm = ChatGoogleGenerativeAI(model=\"gemini-1.5-flash\")"
   ]
  },
  {
   "cell_type": "code",
   "execution_count": 7,
   "id": "401b1a8b-066b-4b90-9fc8-5841c378d7e8",
   "metadata": {},
   "outputs": [],
   "source": [
    "# create document database\n",
    "# using 4 State of the Union speeches, all text from whitehouse.gov briefing room speeches posted online, including a title with the date of the speech\n",
    "# Example from 2024:\n",
    "# https://www.whitehouse.gov/briefing-room/speeches-remarks/2024/03/07/remarks-of-president-joe-biden-state-of-the-union-address-as-prepared-for-delivery-2/\n",
    "sotu = []\n",
    "newfiles = [\"./Speeches/titleedits/state_of_the_union_042921.txt\", \"./Speeches/titleedits/state_of_the_union_030122.txt\", \"./Speeches/titleedits/state_of_the_union_020723.txt\", \"./Speeches/titleedits/state_of_the_union_030724.txt\"]\n",
    "for i in newfiles:\n",
    "    with open(i) as file:\n",
    "        for line in file:\n",
    "            nl = line.rstrip()\n",
    "            if nl != '':\n",
    "                sotu.append(nl)"
   ]
  },
  {
   "cell_type": "code",
   "execution_count": 8,
   "id": "c807897d-aeba-4728-9765-7f9fd6fc500a",
   "metadata": {},
   "outputs": [],
   "source": [
    "documents = [Document(text=line) for line in sotu]"
   ]
  },
  {
   "cell_type": "code",
   "execution_count": 9,
   "id": "dcca1754-d287-438d-bdbb-3567a240ef1b",
   "metadata": {},
   "outputs": [
    {
     "data": {
      "text/plain": [
       "Document(id_='febd8912-b07e-4827-bea9-b0360604083f', embedding=None, metadata={}, excluded_embed_metadata_keys=[], excluded_llm_metadata_keys=[], relationships={}, text='State of the Union Address given by President Biden on April 29, 2021', mimetype='text/plain', start_char_idx=None, end_char_idx=None, text_template='{metadata_str}\\n\\n{content}', metadata_template='{key}: {value}', metadata_seperator='\\n')"
      ]
     },
     "execution_count": 9,
     "metadata": {},
     "output_type": "execute_result"
    }
   ],
   "source": [
    "documents[0]"
   ]
  },
  {
   "cell_type": "code",
   "execution_count": 7,
   "id": "abee5d90-d35f-4dcd-a0c9-ae343c45daed",
   "metadata": {},
   "outputs": [
    {
     "name": "stdout",
     "output_type": "stream",
     "text": [
      "True\n"
     ]
    }
   ],
   "source": [
    "# Set up the faiss index\n",
    "d = 768 # dimensions of the input vector of the embedding model that we're going to use; in this case, the google embedding model\n",
    "faiss_index = faiss.IndexFlatL2(d)\n",
    "print(faiss_index.is_trained)"
   ]
  },
  {
   "cell_type": "code",
   "execution_count": 8,
   "id": "867af9cf-7f1d-4be4-a3e5-b2c1bc42ba2b",
   "metadata": {},
   "outputs": [],
   "source": [
    "# set up the embeddings\n",
    "doc_embeddings = GoogleGenerativeAIEmbeddings(model=\"models/text-embedding-004\") # optional: task_type=\"RETRIEVAL_DOCUMENT\"\n",
    "Settings.embed_model = doc_embeddings\n",
    "Settings.llm = llm"
   ]
  },
  {
   "cell_type": "code",
   "execution_count": 9,
   "id": "f515372d-633a-4f10-af52-633ca023a6c9",
   "metadata": {},
   "outputs": [],
   "source": [
    "logging.basicConfig(stream=sys.stdout, level=logging.INFO)\n",
    "logging.getLogger().addHandler(logging.StreamHandler(stream=sys.stdout))"
   ]
  },
  {
   "cell_type": "code",
   "execution_count": 16,
   "id": "d7c062fc-32d7-4367-b19c-41878e179280",
   "metadata": {},
   "outputs": [
    {
     "data": {
      "application/vnd.jupyter.widget-view+json": {
       "model_id": "5980dd907a19423d89d3910a6b10c2c9",
       "version_major": 2,
       "version_minor": 0
      },
      "text/plain": [
       "Parsing nodes:   0%|          | 0/1464 [00:00<?, ?it/s]"
      ]
     },
     "metadata": {},
     "output_type": "display_data"
    },
    {
     "data": {
      "application/vnd.jupyter.widget-view+json": {
       "model_id": "f4a85fea8c11442086be8fb078694a25",
       "version_major": 2,
       "version_minor": 0
      },
      "text/plain": [
       "Generating embeddings:   0%|          | 0/1464 [00:00<?, ?it/s]"
      ]
     },
     "metadata": {},
     "output_type": "display_data"
    }
   ],
   "source": [
    "## uncomment for when you need to re-embed and vectorize documents\n",
    "## otherwise, doing local loading below\n",
    "#vector_store = FaissVectorStore(faiss_index=faiss_index)\n",
    "#storage_context = StorageContext.from_defaults(vector_store=vector_store)\n",
    "#index = VectorStoreIndex.from_documents(\n",
    "#    documents, storage_context=storage_context, show_progress=True\n",
    "#)\n"
   ]
  },
  {
   "cell_type": "code",
   "execution_count": 17,
   "id": "f3e5df9b-a9bb-4523-84e5-db3485c52f46",
   "metadata": {},
   "outputs": [
    {
     "data": {
      "text/plain": [
       "'3d3c99c5-aa1c-42d7-a9ce-c4bb12fbc6d5'"
      ]
     },
     "execution_count": 17,
     "metadata": {},
     "output_type": "execute_result"
    }
   ],
   "source": [
    "#index.index_id"
   ]
  },
  {
   "cell_type": "code",
   "execution_count": 18,
   "id": "fd5f9020-0a49-4f3f-a504-49134fecc3b8",
   "metadata": {},
   "outputs": [
    {
     "data": {
      "text/plain": [
       "<llama_index.core.indices.vector_store.base.VectorStoreIndex at 0x7f128c3bdb10>"
      ]
     },
     "execution_count": 18,
     "metadata": {},
     "output_type": "execute_result"
    }
   ],
   "source": [
    "## save index to disk\n",
    "#index.storage_context.persist(persist_dir=\"./storage\")\n",
    "#index"
   ]
  },
  {
   "cell_type": "code",
   "execution_count": 19,
   "id": "a00fada0-7f9f-4da6-a566-ff3ff37898fe",
   "metadata": {},
   "outputs": [
    {
     "data": {
      "text/plain": [
       "'3d3c99c5-aa1c-42d7-a9ce-c4bb12fbc6d5'"
      ]
     },
     "execution_count": 19,
     "metadata": {},
     "output_type": "execute_result"
    }
   ],
   "source": [
    "#index.index_id"
   ]
  },
  {
   "cell_type": "code",
   "execution_count": null,
   "id": "35b9e419-33a2-4a63-9937-b89919684e5d",
   "metadata": {},
   "outputs": [],
   "source": [
    "# choose index for answer generation:\n",
    "# index id '3d3c99c5-aa1c-42d7-a9ce-c4bb12fbc6d5' in persist_dir \"./storage\" uses all 4 of the speeches with a title that includes the date it was given\n",
    "# index id 'c9cfc851-156f-41a3-96a9-ff1516a65a8e' in persist_dir \"./storage2021\" just uses the 2021 speech with a title that includes the date it was given\n",
    "# index id '354f0f60-3eb3-46c1-a31a-b854a7f4536c' in persist_dir \"./storage2022\" just uses the 2022 speech with a title that includes the date it was given\n",
    "# index id '48050557-05c2-4e05-a610-75aa414348a7' in persist_dir \"./storage2023\" just uses the 2023 speech with a title that includes the date it was given\n",
    "# index id 'cab605dd-ff55-4514-9571-c682fc1fd4b2' in persist_dir \"./storage2024\" just uses the 2024 speech with a title that includes the date it was given"
   ]
  },
  {
   "cell_type": "code",
   "execution_count": 10,
   "id": "0d6752df-c35e-4624-83c7-2b9b694aa8cf",
   "metadata": {},
   "outputs": [
    {
     "name": "stdout",
     "output_type": "stream",
     "text": [
      "INFO:root:Loading llama_index.vector_stores.faiss.base from ./storage2024/default__vector_store.json.\n",
      "Loading llama_index.vector_stores.faiss.base from ./storage2024/default__vector_store.json.\n",
      "INFO:llama_index.core.indices.loading:Loading indices with ids: ['cab605dd-ff55-4514-9571-c682fc1fd4b2']\n",
      "Loading indices with ids: ['cab605dd-ff55-4514-9571-c682fc1fd4b2']\n"
     ]
    }
   ],
   "source": [
    "# load index from disk\n",
    "indexid = 'cab605dd-ff55-4514-9571-c682fc1fd4b2'\n",
    "storagedir = \"./storage2024\"\n",
    "vector_store = FaissVectorStore.from_persist_dir(storagedir)\n",
    "storage_context = StorageContext.from_defaults(\n",
    "    vector_store=vector_store, persist_dir=storagedir\n",
    ")\n",
    "\n",
    "index = load_index_from_storage(storage_context=storage_context, index_id=indexid)"
   ]
  },
  {
   "cell_type": "code",
   "execution_count": 11,
   "id": "8c4b68f0-6aa4-4633-bef9-467a01b741a5",
   "metadata": {},
   "outputs": [],
   "source": [
    "# set up query and chat engines\n",
    "query_engine = index.as_query_engine(similarity_top_k=10)\n",
    "chat_engine = index.as_chat_engine(similarity_top_k=10, chat_mode='context')"
   ]
  },
  {
   "cell_type": "code",
   "execution_count": 12,
   "id": "6a6dfcf8-686d-473d-8c06-5d0103ef7554",
   "metadata": {},
   "outputs": [],
   "source": [
    "# DeepEval requires a json response. In practice, this has led to malformed json returned from the llm, even with as simple of a schema as this\n",
    "class Response(BaseModel):\n",
    "    response: str"
   ]
  },
  {
   "cell_type": "code",
   "execution_count": 13,
   "id": "63895587-67a1-470b-9419-20bfb85b9b2c",
   "metadata": {},
   "outputs": [],
   "source": [
    "# Non Open-AI requiere a custom LLM class for using DeepEval\n",
    "class CustomGeminiFlash(DeepEvalBaseLLM):\n",
    "    def __init__(self):\n",
    "        self.model = genai.GenerativeModel(model_name=\"models/gemini-1.5-flash\")\n",
    "        model_config = ConfigDict(protected_namespaces=())\n",
    "\n",
    "    def load_model(self):\n",
    "        return self.model\n",
    "\n",
    "    def generate(self, prompt: str, schema: BaseModel) -> BaseModel: \n",
    "        client = self.load_model()\n",
    "        instructor_client = instructor.from_gemini(\n",
    "            client=client,\n",
    "            mode=instructor.Mode.GEMINI_JSON,\n",
    "        )\n",
    "        resp = instructor_client.messages.create(\n",
    "            messages=[\n",
    "                {\n",
    "                    \"role\": \"user\",\n",
    "                    \"content\": prompt,\n",
    "                }\n",
    "            ],\n",
    "            response_model=schema\n",
    "        )\n",
    "        return resp\n",
    "\n",
    "    async def a_generate(self, prompt: str, schema: BaseModel) -> BaseModel:\n",
    "        return self.generate(prompt, schema)\n",
    "\n",
    "    def get_model_name(self):\n",
    "        return \"Gemini 1.5 Flash\""
   ]
  },
  {
   "cell_type": "code",
   "execution_count": 14,
   "id": "ab9ed9a5-41d6-439b-b777-42745f1a630b",
   "metadata": {},
   "outputs": [],
   "source": [
    "# similarly, a custom embedding model class is required for non Open-AI embeddings\n",
    "class CustomGeminiEmbeddingModel(DeepEvalBaseEmbeddingModel):\n",
    "    def __init__(self):\n",
    "        model_config  = ConfigDict(protected_namespaces=())\n",
    "\n",
    "    def load_model(self):\n",
    "        return GoogleGenerativeAIEmbeddings(\n",
    "            model=\"models/text-embedding-004\"\n",
    "        )\n",
    "\n",
    "    def embed_text(self, text: str) -> List[float]:\n",
    "        embedding_model = self.load_model()\n",
    "        return embedding_model.embed_query(text)\n",
    "\n",
    "    def embed_texts(self, texts: List[str]) -> List[List[float]]:\n",
    "        embedding_model = self.load_model()\n",
    "        return embedding_model.embed_documents(texts)\n",
    "\n",
    "    async def a_embed_text(self, text: str) -> List[float]:\n",
    "        embedding_model = self.load_model()\n",
    "        return await embedding_model.aembed_query(text)\n",
    "\n",
    "    async def a_embed_texts(self, texts: List[str]) -> List[List[float]]:\n",
    "        embedding_model = self.load_model()\n",
    "        return await embedding_model.aembed_documents(texts)\n",
    "\n",
    "    def get_model_name(self):\n",
    "        \"Custom Gemini Embeddings\""
   ]
  },
  {
   "cell_type": "code",
   "execution_count": 15,
   "id": "af31c110-cafd-4af9-bf4e-668fc6b0738c",
   "metadata": {},
   "outputs": [],
   "source": [
    "custom_geminiflash = CustomGeminiFlash()\n",
    "custom_geminiembeddings = CustomGeminiEmbeddingModel()"
   ]
  },
  {
   "cell_type": "code",
   "execution_count": 16,
   "id": "8e02fc7f-da9c-4abb-a52c-66052247189f",
   "metadata": {},
   "outputs": [],
   "source": [
    "import time"
   ]
  },
  {
   "cell_type": "code",
   "execution_count": 19,
   "id": "db16793d-18df-429a-96ca-563a34793de7",
   "metadata": {},
   "outputs": [
    {
     "name": "stdout",
     "output_type": "stream",
     "text": [
      "0\n",
      "1\n"
     ]
    }
   ],
   "source": []
  },
  {
   "cell_type": "code",
   "execution_count": 20,
   "id": "1035df4f-f0d8-4139-9cf9-f43d14896369",
   "metadata": {},
   "outputs": [
    {
     "data": {
      "application/vnd.jupyter.widget-view+json": {
       "model_id": "",
       "version_major": 2,
       "version_minor": 0
      },
      "text/plain": [
       "Output()"
      ]
     },
     "metadata": {},
     "output_type": "display_data"
    },
    {
     "data": {
      "text/html": [
       "<pre style=\"white-space:pre;overflow-x:auto;line-height:normal;font-family:Menlo,'DejaVu Sans Mono',consolas,'Courier New',monospace\">Event loop is already running. Applying nest_asyncio patch to allow async execution...\n",
       "</pre>\n"
      ],
      "text/plain": [
       "Event loop is already running. Applying nest_asyncio patch to allow async execution...\n"
      ]
     },
     "metadata": {},
     "output_type": "display_data"
    },
    {
     "data": {
      "text/html": [
       "<pre style=\"white-space:pre;overflow-x:auto;line-height:normal;font-family:Menlo,'DejaVu Sans Mono',consolas,'Courier New',monospace\"></pre>\n"
      ],
      "text/plain": []
     },
     "metadata": {},
     "output_type": "display_data"
    },
    {
     "name": "stdout",
     "output_type": "stream",
     "text": [
      "Evaluation dataset saved at ./20241108_164303.csv!\n",
      "0\n"
     ]
    },
    {
     "data": {
      "application/vnd.jupyter.widget-view+json": {
       "model_id": "",
       "version_major": 2,
       "version_minor": 0
      },
      "text/plain": [
       "Output()"
      ]
     },
     "metadata": {},
     "output_type": "display_data"
    },
    {
     "data": {
      "text/html": [
       "<pre style=\"white-space:pre;overflow-x:auto;line-height:normal;font-family:Menlo,'DejaVu Sans Mono',consolas,'Courier New',monospace\">Event loop is already running. Applying nest_asyncio patch to allow async execution...\n",
       "</pre>\n"
      ],
      "text/plain": [
       "Event loop is already running. Applying nest_asyncio patch to allow async execution...\n"
      ]
     },
     "metadata": {},
     "output_type": "display_data"
    },
    {
     "data": {
      "text/html": [
       "<pre style=\"white-space:pre;overflow-x:auto;line-height:normal;font-family:Menlo,'DejaVu Sans Mono',consolas,'Courier New',monospace\"></pre>\n"
      ],
      "text/plain": []
     },
     "metadata": {},
     "output_type": "display_data"
    },
    {
     "name": "stdout",
     "output_type": "stream",
     "text": [
      "Evaluation dataset saved at ./20241108_164413.csv!\n",
      "1\n"
     ]
    }
   ],
   "source": [
    "# Generate a synthetic dataset of \"Goldens\" (aka a dataset with 'input', 'context', 'source_file' columns -- not 'Retrieval_Context') with DeepEval\n",
    "for i in range(2):\n",
    "    dataset = EvaluationDataset()\n",
    "    synthesizer = Synthesizer(model=custom_geminiflash, embedder=custom_geminiembeddings)\n",
    "    dataset.generate_goldens_from_docs(\n",
    "        synthesizer=synthesizer,\n",
    "        document_paths=#['Speeches/titleedits/state_of_the_union_042921.txt'],\n",
    "                     #['Speeches/titleedits/state_of_the_union_030122.txt'], \n",
    "                      #  ['Speeches/titleedits/state_of_the_union_020723.txt'],\n",
    "                     ['Speeches/titleedits/state_of_the_union_030724.txt'],\n",
    "        max_goldens_per_document=5,\n",
    "        include_expected_output=True\n",
    "    )\n",
    "    \n",
    "    dataset.save_as(file_type=\"csv\", directory=\".\")\n",
    "    print(i)\n",
    "    time.sleep(61)"
   ]
  },
  {
   "cell_type": "code",
   "execution_count": null,
   "id": "58729398-8a4c-4677-891b-2ade250e26bb",
   "metadata": {},
   "outputs": [],
   "source": []
  },
  {
   "cell_type": "code",
   "execution_count": 22,
   "id": "5a9be634-73e4-45b3-87af-fb7a39a0e8e9",
   "metadata": {},
   "outputs": [],
   "source": [
    "# after dataset is generated, need to generate the answer column"
   ]
  },
  {
   "cell_type": "code",
   "execution_count": 21,
   "id": "5f30910e-0ab8-43d9-99f7-a0ec29c60eac",
   "metadata": {},
   "outputs": [],
   "source": [
    "# Below code uses the resulting testset without generated answers to generate new answers\n",
    "\n",
    "testset_pd = pd.read_csv(\"./20241108_164413.csv\", index_col = None)"
   ]
  },
  {
   "cell_type": "code",
   "execution_count": null,
   "id": "76c7c328-9007-4f53-b905-8ce2c4cb403b",
   "metadata": {},
   "outputs": [],
   "source": [
    "testset_pd "
   ]
  },
  {
   "cell_type": "code",
   "execution_count": 23,
   "id": "2bef28c3-2bdb-45a9-b66a-ee1e0825565a",
   "metadata": {},
   "outputs": [],
   "source": [
    "testset_pd = testset_pd.rename(columns={\"input\": \"Query\", \"actual_output\": \"Answer\", \"expected_output\": \"Expected_Output\", \"context\": \"Contexts\", \"source_file\": \"Source_File\"})"
   ]
  },
  {
   "cell_type": "code",
   "execution_count": 24,
   "id": "438b4d98-dced-4b44-bf9b-599c3b3561ed",
   "metadata": {},
   "outputs": [
    {
     "data": {
      "text/html": [
       "<div>\n",
       "<style scoped>\n",
       "    .dataframe tbody tr th:only-of-type {\n",
       "        vertical-align: middle;\n",
       "    }\n",
       "\n",
       "    .dataframe tbody tr th {\n",
       "        vertical-align: top;\n",
       "    }\n",
       "\n",
       "    .dataframe thead th {\n",
       "        text-align: right;\n",
       "    }\n",
       "</style>\n",
       "<table border=\"1\" class=\"dataframe\">\n",
       "  <thead>\n",
       "    <tr style=\"text-align: right;\">\n",
       "      <th></th>\n",
       "      <th>Query</th>\n",
       "      <th>Answer</th>\n",
       "      <th>Expected_Output</th>\n",
       "      <th>Contexts</th>\n",
       "      <th>Source_File</th>\n",
       "    </tr>\n",
       "  </thead>\n",
       "  <tbody>\n",
       "    <tr>\n",
       "      <th>0</th>\n",
       "      <td>Analyze the rhetorical strategies employed by ...</td>\n",
       "      <td>NaN</td>\n",
       "      <td>The speaker employs several rhetorical strateg...</td>\n",
       "      <td>or raise the retirement age I will stop them!...</td>\n",
       "      <td>Speeches/titleedits/state_of_the_union_030724.txt</td>\n",
       "    </tr>\n",
       "    <tr>\n",
       "      <th>1</th>\n",
       "      <td>How might these policies, if implemented, impa...</td>\n",
       "      <td>NaN</td>\n",
       "      <td>These policies, if implemented, could have a s...</td>\n",
       "      <td>or raise the retirement age I will stop them!...</td>\n",
       "      <td>Speeches/titleedits/state_of_the_union_030724.txt</td>\n",
       "    </tr>\n",
       "    <tr>\n",
       "      <th>2</th>\n",
       "      <td>How does the speaker balance a positive view o...</td>\n",
       "      <td>NaN</td>\n",
       "      <td>The speaker balances a positive view of econom...</td>\n",
       "      <td>no place in America! \\n\\nHistory is watching....</td>\n",
       "      <td>Speeches/titleedits/state_of_the_union_030724.txt</td>\n",
       "    </tr>\n",
       "    <tr>\n",
       "      <th>3</th>\n",
       "      <td>Considering the speaker's claim of a sharp dec...</td>\n",
       "      <td>NaN</td>\n",
       "      <td>The speaker emphasizes a decrease in the overa...</td>\n",
       "      <td>no place in America! \\n\\nHistory is watching....</td>\n",
       "      <td>Speeches/titleedits/state_of_the_union_030724.txt</td>\n",
       "    </tr>\n",
       "    <tr>\n",
       "      <th>4</th>\n",
       "      <td>Given the President's stated aim of ending the...</td>\n",
       "      <td>NaN</td>\n",
       "      <td>The President aims to reduce prescription drug...</td>\n",
       "      <td>and biggest corporations no longer get all th...</td>\n",
       "      <td>Speeches/titleedits/state_of_the_union_030724.txt</td>\n",
       "    </tr>\n",
       "    <tr>\n",
       "      <th>...</th>\n",
       "      <td>...</td>\n",
       "      <td>...</td>\n",
       "      <td>...</td>\n",
       "      <td>...</td>\n",
       "      <td>...</td>\n",
       "    </tr>\n",
       "    <tr>\n",
       "      <th>195</th>\n",
       "      <td>Explain how the president's call for aid to Ga...</td>\n",
       "      <td>NaN</td>\n",
       "      <td>The president's call for aid to Gaza is direct...</td>\n",
       "      <td>I say we must stop it.  \\n\\nI’m proud we beat ...</td>\n",
       "      <td>Speeches/titleedits/state_of_the_union_030724.txt</td>\n",
       "    </tr>\n",
       "    <tr>\n",
       "      <th>196</th>\n",
       "      <td>If a ceasefire were to fail, how would the Pre...</td>\n",
       "      <td>NaN</td>\n",
       "      <td>The President's proposal for a temporary pier ...</td>\n",
       "      <td>I say we must stop it.  \\n\\nI’m proud we beat ...</td>\n",
       "      <td>Speeches/titleedits/state_of_the_union_030724.txt</td>\n",
       "    </tr>\n",
       "    <tr>\n",
       "      <th>197</th>\n",
       "      <td>What steps is the US President taking to achie...</td>\n",
       "      <td>NaN</td>\n",
       "      <td>The US President is working to achieve a cease...</td>\n",
       "      <td>I say we must stop it.  \\n\\nI’m proud we beat ...</td>\n",
       "      <td>Speeches/titleedits/state_of_the_union_030724.txt</td>\n",
       "    </tr>\n",
       "    <tr>\n",
       "      <th>198</th>\n",
       "      <td>Identify the central theme of the President's ...</td>\n",
       "      <td>NaN</td>\n",
       "      <td>The President's opening remarks regarding repr...</td>\n",
       "      <td>no place in America! \\n\\nHistory is watching....</td>\n",
       "      <td>Speeches/titleedits/state_of_the_union_030724.txt</td>\n",
       "    </tr>\n",
       "    <tr>\n",
       "      <th>199</th>\n",
       "      <td>Analyze the speech's rhetorical strategies in ...</td>\n",
       "      <td>NaN</td>\n",
       "      <td>The speech uses several rhetorical strategies ...</td>\n",
       "      <td>no place in America! \\n\\nHistory is watching....</td>\n",
       "      <td>Speeches/titleedits/state_of_the_union_030724.txt</td>\n",
       "    </tr>\n",
       "  </tbody>\n",
       "</table>\n",
       "<p>200 rows × 5 columns</p>\n",
       "</div>"
      ],
      "text/plain": [
       "                                                 Query  Answer  \\\n",
       "0    Analyze the rhetorical strategies employed by ...     NaN   \n",
       "1    How might these policies, if implemented, impa...     NaN   \n",
       "2    How does the speaker balance a positive view o...     NaN   \n",
       "3    Considering the speaker's claim of a sharp dec...     NaN   \n",
       "4    Given the President's stated aim of ending the...     NaN   \n",
       "..                                                 ...     ...   \n",
       "195  Explain how the president's call for aid to Ga...     NaN   \n",
       "196  If a ceasefire were to fail, how would the Pre...     NaN   \n",
       "197  What steps is the US President taking to achie...     NaN   \n",
       "198  Identify the central theme of the President's ...     NaN   \n",
       "199  Analyze the speech's rhetorical strategies in ...     NaN   \n",
       "\n",
       "                                       Expected_Output  \\\n",
       "0    The speaker employs several rhetorical strateg...   \n",
       "1    These policies, if implemented, could have a s...   \n",
       "2    The speaker balances a positive view of econom...   \n",
       "3    The speaker emphasizes a decrease in the overa...   \n",
       "4    The President aims to reduce prescription drug...   \n",
       "..                                                 ...   \n",
       "195  The president's call for aid to Gaza is direct...   \n",
       "196  The President's proposal for a temporary pier ...   \n",
       "197  The US President is working to achieve a cease...   \n",
       "198  The President's opening remarks regarding repr...   \n",
       "199  The speech uses several rhetorical strategies ...   \n",
       "\n",
       "                                              Contexts  \\\n",
       "0     or raise the retirement age I will stop them!...   \n",
       "1     or raise the retirement age I will stop them!...   \n",
       "2     no place in America! \\n\\nHistory is watching....   \n",
       "3     no place in America! \\n\\nHistory is watching....   \n",
       "4     and biggest corporations no longer get all th...   \n",
       "..                                                 ...   \n",
       "195  I say we must stop it.  \\n\\nI’m proud we beat ...   \n",
       "196  I say we must stop it.  \\n\\nI’m proud we beat ...   \n",
       "197  I say we must stop it.  \\n\\nI’m proud we beat ...   \n",
       "198   no place in America! \\n\\nHistory is watching....   \n",
       "199   no place in America! \\n\\nHistory is watching....   \n",
       "\n",
       "                                           Source_File  \n",
       "0    Speeches/titleedits/state_of_the_union_030724.txt  \n",
       "1    Speeches/titleedits/state_of_the_union_030724.txt  \n",
       "2    Speeches/titleedits/state_of_the_union_030724.txt  \n",
       "3    Speeches/titleedits/state_of_the_union_030724.txt  \n",
       "4    Speeches/titleedits/state_of_the_union_030724.txt  \n",
       "..                                                 ...  \n",
       "195  Speeches/titleedits/state_of_the_union_030724.txt  \n",
       "196  Speeches/titleedits/state_of_the_union_030724.txt  \n",
       "197  Speeches/titleedits/state_of_the_union_030724.txt  \n",
       "198  Speeches/titleedits/state_of_the_union_030724.txt  \n",
       "199  Speeches/titleedits/state_of_the_union_030724.txt  \n",
       "\n",
       "[200 rows x 5 columns]"
      ]
     },
     "execution_count": 24,
     "metadata": {},
     "output_type": "execute_result"
    }
   ],
   "source": [
    "testset_pd"
   ]
  },
  {
   "cell_type": "code",
   "execution_count": null,
   "id": "7e9fe82b-d291-4516-8325-955204f0611f",
   "metadata": {},
   "outputs": [],
   "source": [
    "# generate answer column, per these two issues\n",
    "# https://github.com/explodinggradients/ragas/issues/1145\n",
    "# https://github.com/explodinggradients/ragas/issues/1084#issuecomment-2248219601\n",
    "for j in range(10,200,10):\n",
    "    query_engine = index.as_query_engine(similarity_top_k=10)\n",
    "    answers = [query_engine.query(q) for q in testset_pd['Query'][j:j+10]]\n",
    "    \n",
    "    for i in answers:\n",
    "        answers_r.append(i.response)\n",
    "        context_n.append([c.node.get_content() for c in i.source_nodes])\n",
    "\n",
    "    print(j)\n",
    "    time.sleep(61)\n"
   ]
  },
  {
   "cell_type": "code",
   "execution_count": 29,
   "id": "37ab9266-4119-4796-a467-2504819d9414",
   "metadata": {},
   "outputs": [],
   "source": [
    "# parse out new 'answer' and 'contexts' columns\n",
    "answers_r = []\n",
    "context_n = []"
   ]
  },
  {
   "cell_type": "code",
   "execution_count": 33,
   "id": "97cd493f-ea48-4f33-8f85-5a8220ed7a13",
   "metadata": {},
   "outputs": [
    {
     "data": {
      "text/plain": [
       "200"
      ]
     },
     "execution_count": 33,
     "metadata": {},
     "output_type": "execute_result"
    }
   ],
   "source": [
    "len(answers_r)"
   ]
  },
  {
   "cell_type": "code",
   "execution_count": 30,
   "id": "2d327e6f-341c-4338-a18a-b4b3efe42d06",
   "metadata": {},
   "outputs": [],
   "source": [
    "\n",
    "for i in answers:\n",
    "    answers_r.append(i.response)\n",
    "    context_n.append([c.node.get_content() for c in i.source_nodes])\n",
    "  \n",
    "#testset_pd = testset_pd.rename(columns={\"Contexts\":\"Contexts_QueryGen\"})\n"
   ]
  },
  {
   "cell_type": "code",
   "execution_count": 34,
   "id": "09c03e35-2223-4c55-93a5-39e489bf71b5",
   "metadata": {},
   "outputs": [
    {
     "data": {
      "text/plain": [
       "200"
      ]
     },
     "execution_count": 34,
     "metadata": {},
     "output_type": "execute_result"
    }
   ],
   "source": [
    "len(context_n)"
   ]
  },
  {
   "cell_type": "code",
   "execution_count": 27,
   "id": "f1ba22a0-66a2-4e69-bfb6-fe142c11ec99",
   "metadata": {},
   "outputs": [],
   "source": []
  },
  {
   "cell_type": "code",
   "execution_count": null,
   "id": "bd64c649-cc91-48e9-8240-0924f314fd9f",
   "metadata": {},
   "outputs": [],
   "source": [
    "testset_pd"
   ]
  },
  {
   "cell_type": "code",
   "execution_count": 35,
   "id": "4bac7aba-7b3f-4db2-a6d6-8d3cc63a6824",
   "metadata": {},
   "outputs": [],
   "source": [
    "testset_pd['Contexts_2024'] = context_n\n",
    "testset_pd['Answer'] = answers_r"
   ]
  },
  {
   "cell_type": "code",
   "execution_count": 36,
   "id": "3ba729f4-5e34-47b3-831a-d3ef178636e9",
   "metadata": {
    "scrolled": true
   },
   "outputs": [
    {
     "data": {
      "text/html": [
       "<div>\n",
       "<style scoped>\n",
       "    .dataframe tbody tr th:only-of-type {\n",
       "        vertical-align: middle;\n",
       "    }\n",
       "\n",
       "    .dataframe tbody tr th {\n",
       "        vertical-align: top;\n",
       "    }\n",
       "\n",
       "    .dataframe thead th {\n",
       "        text-align: right;\n",
       "    }\n",
       "</style>\n",
       "<table border=\"1\" class=\"dataframe\">\n",
       "  <thead>\n",
       "    <tr style=\"text-align: right;\">\n",
       "      <th></th>\n",
       "      <th>Query</th>\n",
       "      <th>Answer</th>\n",
       "      <th>Expected_Output</th>\n",
       "      <th>Contexts</th>\n",
       "      <th>Source_File</th>\n",
       "      <th>Contexts_2024</th>\n",
       "    </tr>\n",
       "  </thead>\n",
       "  <tbody>\n",
       "    <tr>\n",
       "      <th>0</th>\n",
       "      <td>Analyze the rhetorical strategies employed by ...</td>\n",
       "      <td>The speaker uses powerful rhetoric to galvaniz...</td>\n",
       "      <td>The speaker employs several rhetorical strateg...</td>\n",
       "      <td>or raise the retirement age I will stop them!...</td>\n",
       "      <td>Speeches/titleedits/state_of_the_union_030724.txt</td>\n",
       "      <td>[My fellow Americans the issue facing our nati...</td>\n",
       "    </tr>\n",
       "    <tr>\n",
       "      <th>1</th>\n",
       "      <td>How might these policies, if implemented, impa...</td>\n",
       "      <td>The policies described aim to shift the distri...</td>\n",
       "      <td>These policies, if implemented, could have a s...</td>\n",
       "      <td>or raise the retirement age I will stop them!...</td>\n",
       "      <td>Speeches/titleedits/state_of_the_union_030724.txt</td>\n",
       "      <td>[America’s comeback is building a future of Am...</td>\n",
       "    </tr>\n",
       "    <tr>\n",
       "      <th>2</th>\n",
       "      <td>How does the speaker balance a positive view o...</td>\n",
       "      <td>The speaker acknowledges the significant econo...</td>\n",
       "      <td>The speaker balances a positive view of econom...</td>\n",
       "      <td>no place in America! \\n\\nHistory is watching....</td>\n",
       "      <td>Speeches/titleedits/state_of_the_union_030724.txt</td>\n",
       "      <td>[Tonight I come to the same chamber to address...</td>\n",
       "    </tr>\n",
       "    <tr>\n",
       "      <th>3</th>\n",
       "      <td>Considering the speaker's claim of a sharp dec...</td>\n",
       "      <td>The speaker highlights a decrease in the overa...</td>\n",
       "      <td>The speaker emphasizes a decrease in the overa...</td>\n",
       "      <td>no place in America! \\n\\nHistory is watching....</td>\n",
       "      <td>Speeches/titleedits/state_of_the_union_030724.txt</td>\n",
       "      <td>[Last year, the murder rate saw the sharpest d...</td>\n",
       "    </tr>\n",
       "    <tr>\n",
       "      <th>4</th>\n",
       "      <td>Given the President's stated aim of ending the...</td>\n",
       "      <td>The President's actions aim to reduce the cost...</td>\n",
       "      <td>The President aims to reduce prescription drug...</td>\n",
       "      <td>and biggest corporations no longer get all th...</td>\n",
       "      <td>Speeches/titleedits/state_of_the_union_030724.txt</td>\n",
       "      <td>[For years people have talked about it but I f...</td>\n",
       "    </tr>\n",
       "    <tr>\n",
       "      <th>...</th>\n",
       "      <td>...</td>\n",
       "      <td>...</td>\n",
       "      <td>...</td>\n",
       "      <td>...</td>\n",
       "      <td>...</td>\n",
       "      <td>...</td>\n",
       "    </tr>\n",
       "    <tr>\n",
       "      <th>195</th>\n",
       "      <td>Explain how the president's call for aid to Ga...</td>\n",
       "      <td>The president emphasizes the importance of inc...</td>\n",
       "      <td>The president's call for aid to Gaza is direct...</td>\n",
       "      <td>I say we must stop it.  \\n\\nI’m proud we beat ...</td>\n",
       "      <td>Speeches/titleedits/state_of_the_union_030724.txt</td>\n",
       "      <td>[Tonight, I’m directing the U.S. military to l...</td>\n",
       "    </tr>\n",
       "    <tr>\n",
       "      <th>196</th>\n",
       "      <td>If a ceasefire were to fail, how would the Pre...</td>\n",
       "      <td>The President's proposed humanitarian efforts ...</td>\n",
       "      <td>The President's proposal for a temporary pier ...</td>\n",
       "      <td>I say we must stop it.  \\n\\nI’m proud we beat ...</td>\n",
       "      <td>Speeches/titleedits/state_of_the_union_030724.txt</td>\n",
       "      <td>[Tonight, I’m directing the U.S. military to l...</td>\n",
       "    </tr>\n",
       "    <tr>\n",
       "      <th>197</th>\n",
       "      <td>What steps is the US President taking to achie...</td>\n",
       "      <td>The US President is directing the military to ...</td>\n",
       "      <td>The US President is working to achieve a cease...</td>\n",
       "      <td>I say we must stop it.  \\n\\nI’m proud we beat ...</td>\n",
       "      <td>Speeches/titleedits/state_of_the_union_030724.txt</td>\n",
       "      <td>[Tonight, I’m directing the U.S. military to l...</td>\n",
       "    </tr>\n",
       "    <tr>\n",
       "      <th>198</th>\n",
       "      <td>Identify the central theme of the President's ...</td>\n",
       "      <td>The President strongly advocates for reproduct...</td>\n",
       "      <td>The President's opening remarks regarding repr...</td>\n",
       "      <td>no place in America! \\n\\nHistory is watching....</td>\n",
       "      <td>Speeches/titleedits/state_of_the_union_030724.txt</td>\n",
       "      <td>[Like most Americans, I believe Roe v. Wade go...</td>\n",
       "    </tr>\n",
       "    <tr>\n",
       "      <th>199</th>\n",
       "      <td>Analyze the speech's rhetorical strategies in ...</td>\n",
       "      <td>The speech employs several rhetorical strategi...</td>\n",
       "      <td>The speech uses several rhetorical strategies ...</td>\n",
       "      <td>no place in America! \\n\\nHistory is watching....</td>\n",
       "      <td>Speeches/titleedits/state_of_the_union_030724.txt</td>\n",
       "      <td>[In its decision to overturn Roe v. Wade the S...</td>\n",
       "    </tr>\n",
       "  </tbody>\n",
       "</table>\n",
       "<p>200 rows × 6 columns</p>\n",
       "</div>"
      ],
      "text/plain": [
       "                                                 Query  \\\n",
       "0    Analyze the rhetorical strategies employed by ...   \n",
       "1    How might these policies, if implemented, impa...   \n",
       "2    How does the speaker balance a positive view o...   \n",
       "3    Considering the speaker's claim of a sharp dec...   \n",
       "4    Given the President's stated aim of ending the...   \n",
       "..                                                 ...   \n",
       "195  Explain how the president's call for aid to Ga...   \n",
       "196  If a ceasefire were to fail, how would the Pre...   \n",
       "197  What steps is the US President taking to achie...   \n",
       "198  Identify the central theme of the President's ...   \n",
       "199  Analyze the speech's rhetorical strategies in ...   \n",
       "\n",
       "                                                Answer  \\\n",
       "0    The speaker uses powerful rhetoric to galvaniz...   \n",
       "1    The policies described aim to shift the distri...   \n",
       "2    The speaker acknowledges the significant econo...   \n",
       "3    The speaker highlights a decrease in the overa...   \n",
       "4    The President's actions aim to reduce the cost...   \n",
       "..                                                 ...   \n",
       "195  The president emphasizes the importance of inc...   \n",
       "196  The President's proposed humanitarian efforts ...   \n",
       "197  The US President is directing the military to ...   \n",
       "198  The President strongly advocates for reproduct...   \n",
       "199  The speech employs several rhetorical strategi...   \n",
       "\n",
       "                                       Expected_Output  \\\n",
       "0    The speaker employs several rhetorical strateg...   \n",
       "1    These policies, if implemented, could have a s...   \n",
       "2    The speaker balances a positive view of econom...   \n",
       "3    The speaker emphasizes a decrease in the overa...   \n",
       "4    The President aims to reduce prescription drug...   \n",
       "..                                                 ...   \n",
       "195  The president's call for aid to Gaza is direct...   \n",
       "196  The President's proposal for a temporary pier ...   \n",
       "197  The US President is working to achieve a cease...   \n",
       "198  The President's opening remarks regarding repr...   \n",
       "199  The speech uses several rhetorical strategies ...   \n",
       "\n",
       "                                              Contexts  \\\n",
       "0     or raise the retirement age I will stop them!...   \n",
       "1     or raise the retirement age I will stop them!...   \n",
       "2     no place in America! \\n\\nHistory is watching....   \n",
       "3     no place in America! \\n\\nHistory is watching....   \n",
       "4     and biggest corporations no longer get all th...   \n",
       "..                                                 ...   \n",
       "195  I say we must stop it.  \\n\\nI’m proud we beat ...   \n",
       "196  I say we must stop it.  \\n\\nI’m proud we beat ...   \n",
       "197  I say we must stop it.  \\n\\nI’m proud we beat ...   \n",
       "198   no place in America! \\n\\nHistory is watching....   \n",
       "199   no place in America! \\n\\nHistory is watching....   \n",
       "\n",
       "                                           Source_File  \\\n",
       "0    Speeches/titleedits/state_of_the_union_030724.txt   \n",
       "1    Speeches/titleedits/state_of_the_union_030724.txt   \n",
       "2    Speeches/titleedits/state_of_the_union_030724.txt   \n",
       "3    Speeches/titleedits/state_of_the_union_030724.txt   \n",
       "4    Speeches/titleedits/state_of_the_union_030724.txt   \n",
       "..                                                 ...   \n",
       "195  Speeches/titleedits/state_of_the_union_030724.txt   \n",
       "196  Speeches/titleedits/state_of_the_union_030724.txt   \n",
       "197  Speeches/titleedits/state_of_the_union_030724.txt   \n",
       "198  Speeches/titleedits/state_of_the_union_030724.txt   \n",
       "199  Speeches/titleedits/state_of_the_union_030724.txt   \n",
       "\n",
       "                                         Contexts_2024  \n",
       "0    [My fellow Americans the issue facing our nati...  \n",
       "1    [America’s comeback is building a future of Am...  \n",
       "2    [Tonight I come to the same chamber to address...  \n",
       "3    [Last year, the murder rate saw the sharpest d...  \n",
       "4    [For years people have talked about it but I f...  \n",
       "..                                                 ...  \n",
       "195  [Tonight, I’m directing the U.S. military to l...  \n",
       "196  [Tonight, I’m directing the U.S. military to l...  \n",
       "197  [Tonight, I’m directing the U.S. military to l...  \n",
       "198  [Like most Americans, I believe Roe v. Wade go...  \n",
       "199  [In its decision to overturn Roe v. Wade the S...  \n",
       "\n",
       "[200 rows x 6 columns]"
      ]
     },
     "execution_count": 36,
     "metadata": {},
     "output_type": "execute_result"
    }
   ],
   "source": [
    "testset_pd"
   ]
  },
  {
   "cell_type": "code",
   "execution_count": 39,
   "id": "e73c59c3-106f-458c-856c-ecec2d1914ae",
   "metadata": {},
   "outputs": [],
   "source": [
    "testset_pd.to_csv('datasets/unlabeled_dataset/24_answers.tsv', index=False, sep=\"\\t\")"
   ]
  },
  {
   "cell_type": "code",
   "execution_count": null,
   "id": "98d70714-2a0e-4dd9-9731-c9b6ffdd3df2",
   "metadata": {},
   "outputs": [],
   "source": []
  },
  {
   "cell_type": "code",
   "execution_count": 10,
   "id": "1aeba6df-7d2e-44da-b944-2311dabd25b0",
   "metadata": {},
   "outputs": [],
   "source": [
    "# combine unlabeled datasets\n",
    "data21 = pd.read_csv('datasets/unlabeled_dataset/21_answers.csv', index_col=None)\n",
    "data22_1 = pd.read_csv('datasets/unlabeled_dataset/22_answers.csv', index_col=None)\n",
    "data22_2 = pd.read_csv('datasets/unlabeled_dataset/22_answers_last.csv', index_col=None)\n",
    "data23 = pd.read_csv('datasets/unlabeled_dataset/23_answers.csv', index_col=None)\n",
    "data24 = pd.read_csv('datasets/unlabeled_dataset/24_answers.csv', index_col=None)"
   ]
  },
  {
   "cell_type": "code",
   "execution_count": 13,
   "id": "7a34ca63-3142-49e7-8365-86eb57245668",
   "metadata": {},
   "outputs": [],
   "source": [
    "data22 = pd.concat([data22_1, data22_2], ignore_index=True)"
   ]
  },
  {
   "cell_type": "code",
   "execution_count": 17,
   "id": "d68b3b83-c150-4181-9874-09be771716ee",
   "metadata": {},
   "outputs": [],
   "source": [
    "data21_new = data21.rename(columns={\"Contexts_2021\": \"Contexts_SourceFile\"})\n",
    "data22_new = data22.rename(columns={\"Contexts_2022\": \"Contexts_SourceFile\"})\n",
    "data23_new = data23.rename(columns={\"Contexts_2023\": \"Contexts_SourceFile\"})\n",
    "data24_new = data24.rename(columns={\"Contexts_2024\": \"Contexts_SourceFile\"})"
   ]
  },
  {
   "cell_type": "code",
   "execution_count": 21,
   "id": "309bc70a-cab7-4f66-b3d5-64ec2b48ea18",
   "metadata": {},
   "outputs": [],
   "source": [
    "unlabeled_data = pd.concat([data21_new, data22_new, data23_new, data24_new], ignore_index=True)"
   ]
  },
  {
   "cell_type": "code",
   "execution_count": 22,
   "id": "8f7a8ba0-1d8c-47aa-8438-ede23538474a",
   "metadata": {},
   "outputs": [
    {
     "data": {
      "text/html": [
       "<div>\n",
       "<style scoped>\n",
       "    .dataframe tbody tr th:only-of-type {\n",
       "        vertical-align: middle;\n",
       "    }\n",
       "\n",
       "    .dataframe tbody tr th {\n",
       "        vertical-align: top;\n",
       "    }\n",
       "\n",
       "    .dataframe thead th {\n",
       "        text-align: right;\n",
       "    }\n",
       "</style>\n",
       "<table border=\"1\" class=\"dataframe\">\n",
       "  <thead>\n",
       "    <tr style=\"text-align: right;\">\n",
       "      <th></th>\n",
       "      <th>Query</th>\n",
       "      <th>Answer</th>\n",
       "      <th>Expected_Output</th>\n",
       "      <th>Contexts</th>\n",
       "      <th>Source_File</th>\n",
       "      <th>Contexts_SourceFile</th>\n",
       "    </tr>\n",
       "  </thead>\n",
       "  <tbody>\n",
       "    <tr>\n",
       "      <th>0</th>\n",
       "      <td>Identify specific examples of government inves...</td>\n",
       "      <td>The transcontinental railroad and the intersta...</td>\n",
       "      <td>The speech highlights several examples: the tr...</td>\n",
       "      <td>; discovering vaccines; gave us the Internet a...</td>\n",
       "      <td>Speeches/titleedits/state_of_the_union_042921.txt</td>\n",
       "      <td>['Throughout our history, if you think about i...</td>\n",
       "    </tr>\n",
       "    <tr>\n",
       "      <th>1</th>\n",
       "      <td>Does the American Jobs Plan, a large-scale inv...</td>\n",
       "      <td>The plan seeks to create jobs by modernizing i...</td>\n",
       "      <td>The American Jobs Plan aims to create jobs by ...</td>\n",
       "      <td>; discovering vaccines; gave us the Internet a...</td>\n",
       "      <td>Speeches/titleedits/state_of_the_union_042921.txt</td>\n",
       "      <td>['The American Jobs Plan creates jobs replacin...</td>\n",
       "    </tr>\n",
       "    <tr>\n",
       "      <th>2</th>\n",
       "      <td>Considering the significant impact of cancer o...</td>\n",
       "      <td>Investing in cancer research is a priority bec...</td>\n",
       "      <td>Investing in cancer research is a priority bec...</td>\n",
       "      <td>But so many of us have deceased sons, daughter...</td>\n",
       "      <td>Speeches/titleedits/state_of_the_union_042921.txt</td>\n",
       "      <td>['But so many of us have deceased sons, daught...</td>\n",
       "    </tr>\n",
       "    <tr>\n",
       "      <th>3</th>\n",
       "      <td>How does the President's viewpoint on infrastr...</td>\n",
       "      <td>The President believes that infrastructure inv...</td>\n",
       "      <td>The President emphasizes that infrastructure i...</td>\n",
       "      <td>But so many of us have deceased sons, daughter...</td>\n",
       "      <td>Speeches/titleedits/state_of_the_union_042921.txt</td>\n",
       "      <td>['Investments in jobs and infrastructure, like...</td>\n",
       "    </tr>\n",
       "    <tr>\n",
       "      <th>4</th>\n",
       "      <td>Analyze the potential economic consequences of...</td>\n",
       "      <td>A progressive tax structure, where higher earn...</td>\n",
       "      <td>The President advocates for raising taxes on c...</td>\n",
       "      <td>you should be able to become a billionaire an...</td>\n",
       "      <td>Speeches/titleedits/state_of_the_union_042921.txt</td>\n",
       "      <td>['When you hear someone say that they don’t wa...</td>\n",
       "    </tr>\n",
       "    <tr>\n",
       "      <th>...</th>\n",
       "      <td>...</td>\n",
       "      <td>...</td>\n",
       "      <td>...</td>\n",
       "      <td>...</td>\n",
       "      <td>...</td>\n",
       "      <td>...</td>\n",
       "    </tr>\n",
       "    <tr>\n",
       "      <th>795</th>\n",
       "      <td>Explain how the president's call for aid to Ga...</td>\n",
       "      <td>The president emphasizes the importance of inc...</td>\n",
       "      <td>The president's call for aid to Gaza is direct...</td>\n",
       "      <td>I say we must stop it.  \\n\\nI’m proud we beat ...</td>\n",
       "      <td>Speeches/titleedits/state_of_the_union_030724.txt</td>\n",
       "      <td>['Tonight, I’m directing the U.S. military to ...</td>\n",
       "    </tr>\n",
       "    <tr>\n",
       "      <th>796</th>\n",
       "      <td>If a ceasefire were to fail, how would the Pre...</td>\n",
       "      <td>The President's proposed humanitarian efforts ...</td>\n",
       "      <td>The President's proposal for a temporary pier ...</td>\n",
       "      <td>I say we must stop it.  \\n\\nI’m proud we beat ...</td>\n",
       "      <td>Speeches/titleedits/state_of_the_union_030724.txt</td>\n",
       "      <td>['Tonight, I’m directing the U.S. military to ...</td>\n",
       "    </tr>\n",
       "    <tr>\n",
       "      <th>797</th>\n",
       "      <td>What steps is the US President taking to achie...</td>\n",
       "      <td>The US President is directing the military to ...</td>\n",
       "      <td>The US President is working to achieve a cease...</td>\n",
       "      <td>I say we must stop it.  \\n\\nI’m proud we beat ...</td>\n",
       "      <td>Speeches/titleedits/state_of_the_union_030724.txt</td>\n",
       "      <td>['Tonight, I’m directing the U.S. military to ...</td>\n",
       "    </tr>\n",
       "    <tr>\n",
       "      <th>798</th>\n",
       "      <td>Identify the central theme of the President's ...</td>\n",
       "      <td>The President strongly advocates for reproduct...</td>\n",
       "      <td>The President's opening remarks regarding repr...</td>\n",
       "      <td>no place in America! \\n\\nHistory is watching....</td>\n",
       "      <td>Speeches/titleedits/state_of_the_union_030724.txt</td>\n",
       "      <td>['Like most Americans, I believe Roe v. Wade g...</td>\n",
       "    </tr>\n",
       "    <tr>\n",
       "      <th>799</th>\n",
       "      <td>Analyze the speech's rhetorical strategies in ...</td>\n",
       "      <td>The speech employs several rhetorical strategi...</td>\n",
       "      <td>The speech uses several rhetorical strategies ...</td>\n",
       "      <td>no place in America! \\n\\nHistory is watching....</td>\n",
       "      <td>Speeches/titleedits/state_of_the_union_030724.txt</td>\n",
       "      <td>['In its decision to overturn Roe v. Wade the ...</td>\n",
       "    </tr>\n",
       "  </tbody>\n",
       "</table>\n",
       "<p>800 rows × 6 columns</p>\n",
       "</div>"
      ],
      "text/plain": [
       "                                                 Query  \\\n",
       "0    Identify specific examples of government inves...   \n",
       "1    Does the American Jobs Plan, a large-scale inv...   \n",
       "2    Considering the significant impact of cancer o...   \n",
       "3    How does the President's viewpoint on infrastr...   \n",
       "4    Analyze the potential economic consequences of...   \n",
       "..                                                 ...   \n",
       "795  Explain how the president's call for aid to Ga...   \n",
       "796  If a ceasefire were to fail, how would the Pre...   \n",
       "797  What steps is the US President taking to achie...   \n",
       "798  Identify the central theme of the President's ...   \n",
       "799  Analyze the speech's rhetorical strategies in ...   \n",
       "\n",
       "                                                Answer  \\\n",
       "0    The transcontinental railroad and the intersta...   \n",
       "1    The plan seeks to create jobs by modernizing i...   \n",
       "2    Investing in cancer research is a priority bec...   \n",
       "3    The President believes that infrastructure inv...   \n",
       "4    A progressive tax structure, where higher earn...   \n",
       "..                                                 ...   \n",
       "795  The president emphasizes the importance of inc...   \n",
       "796  The President's proposed humanitarian efforts ...   \n",
       "797  The US President is directing the military to ...   \n",
       "798  The President strongly advocates for reproduct...   \n",
       "799  The speech employs several rhetorical strategi...   \n",
       "\n",
       "                                       Expected_Output  \\\n",
       "0    The speech highlights several examples: the tr...   \n",
       "1    The American Jobs Plan aims to create jobs by ...   \n",
       "2    Investing in cancer research is a priority bec...   \n",
       "3    The President emphasizes that infrastructure i...   \n",
       "4    The President advocates for raising taxes on c...   \n",
       "..                                                 ...   \n",
       "795  The president's call for aid to Gaza is direct...   \n",
       "796  The President's proposal for a temporary pier ...   \n",
       "797  The US President is working to achieve a cease...   \n",
       "798  The President's opening remarks regarding repr...   \n",
       "799  The speech uses several rhetorical strategies ...   \n",
       "\n",
       "                                              Contexts  \\\n",
       "0    ; discovering vaccines; gave us the Internet a...   \n",
       "1    ; discovering vaccines; gave us the Internet a...   \n",
       "2    But so many of us have deceased sons, daughter...   \n",
       "3    But so many of us have deceased sons, daughter...   \n",
       "4     you should be able to become a billionaire an...   \n",
       "..                                                 ...   \n",
       "795  I say we must stop it.  \\n\\nI’m proud we beat ...   \n",
       "796  I say we must stop it.  \\n\\nI’m proud we beat ...   \n",
       "797  I say we must stop it.  \\n\\nI’m proud we beat ...   \n",
       "798   no place in America! \\n\\nHistory is watching....   \n",
       "799   no place in America! \\n\\nHistory is watching....   \n",
       "\n",
       "                                           Source_File  \\\n",
       "0    Speeches/titleedits/state_of_the_union_042921.txt   \n",
       "1    Speeches/titleedits/state_of_the_union_042921.txt   \n",
       "2    Speeches/titleedits/state_of_the_union_042921.txt   \n",
       "3    Speeches/titleedits/state_of_the_union_042921.txt   \n",
       "4    Speeches/titleedits/state_of_the_union_042921.txt   \n",
       "..                                                 ...   \n",
       "795  Speeches/titleedits/state_of_the_union_030724.txt   \n",
       "796  Speeches/titleedits/state_of_the_union_030724.txt   \n",
       "797  Speeches/titleedits/state_of_the_union_030724.txt   \n",
       "798  Speeches/titleedits/state_of_the_union_030724.txt   \n",
       "799  Speeches/titleedits/state_of_the_union_030724.txt   \n",
       "\n",
       "                                   Contexts_SourceFile  \n",
       "0    ['Throughout our history, if you think about i...  \n",
       "1    ['The American Jobs Plan creates jobs replacin...  \n",
       "2    ['But so many of us have deceased sons, daught...  \n",
       "3    ['Investments in jobs and infrastructure, like...  \n",
       "4    ['When you hear someone say that they don’t wa...  \n",
       "..                                                 ...  \n",
       "795  ['Tonight, I’m directing the U.S. military to ...  \n",
       "796  ['Tonight, I’m directing the U.S. military to ...  \n",
       "797  ['Tonight, I’m directing the U.S. military to ...  \n",
       "798  ['Like most Americans, I believe Roe v. Wade g...  \n",
       "799  ['In its decision to overturn Roe v. Wade the ...  \n",
       "\n",
       "[800 rows x 6 columns]"
      ]
     },
     "execution_count": 22,
     "metadata": {},
     "output_type": "execute_result"
    }
   ],
   "source": [
    "unlabeled_data"
   ]
  },
  {
   "cell_type": "code",
   "execution_count": 24,
   "id": "a66866ba-2b48-4143-883c-796dd7f1ebe6",
   "metadata": {},
   "outputs": [],
   "source": [
    "unlabeled_data.to_csv('datasets/unlabeled_dataset/unlabeled_dataset.csv', index=False)"
   ]
  },
  {
   "cell_type": "code",
   "execution_count": null,
   "id": "3d9b4920-e5ac-443f-8688-be867ac6e09c",
   "metadata": {},
   "outputs": [],
   "source": [
    " "
   ]
  }
 ],
 "metadata": {
  "kernelspec": {
   "display_name": "Python3_gemini_deepeval",
   "language": "python",
   "name": "python3_gemini_deepeval"
  },
  "language_info": {
   "codemirror_mode": {
    "name": "ipython",
    "version": 3
   },
   "file_extension": ".py",
   "mimetype": "text/x-python",
   "name": "python",
   "nbconvert_exporter": "python",
   "pygments_lexer": "ipython3",
   "version": "3.11.8"
  }
 },
 "nbformat": 4,
 "nbformat_minor": 5
}
