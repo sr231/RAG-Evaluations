{
 "cells": [
  {
   "cell_type": "code",
   "execution_count": null,
   "id": "22ab9fa0-6385-400a-a7df-51211efc9990",
   "metadata": {},
   "outputs": [],
   "source": [
    "# Experimenting with creating a new RAG system from a HuggingFace dataset and text corpus\n",
    "# https://huggingface.co/datasets/rag-datasets/rag-mini-wikipedia"
   ]
  },
  {
   "cell_type": "code",
   "execution_count": 77,
   "id": "0673a8ee-33f7-464e-a186-1143cc2f9af0",
   "metadata": {},
   "outputs": [],
   "source": [
    "import numpy as np\n",
    "import pandas as pd\n",
    "import os\n",
    "import logging\n",
    "import sys\n",
    "import time\n",
    "\n",
    "# Replace these two Google Gemini imports with imports for your LLM\n",
    "import google.generativeai as genai\n",
    "from langchain_google_genai import ChatGoogleGenerativeAI, GoogleGenerativeAIEmbeddings\n",
    "\n",
    "from langchain_community.document_loaders import DirectoryLoader\n",
    "from llama_index.core import Document, VectorStoreIndex, Settings, StorageContext, load_index_from_storage\n",
    "from llama_index.vector_stores.faiss import FaissVectorStore\n",
    "import faiss\n",
    "\n",
    "# trying new faiss...\n",
    "from langchain_community.docstore.in_memory import InMemoryDocstore\n",
    "from langchain_community.vectorstores import FAISS"
   ]
  },
  {
   "cell_type": "code",
   "execution_count": 38,
   "id": "596e6210-4ae1-4ef1-a276-8fd57931abcb",
   "metadata": {},
   "outputs": [],
   "source": [
    "# Set up local API key\n",
    "genai.configure(api_key=os.environ[\"GOOGLE_API_KEY\"])"
   ]
  },
  {
   "cell_type": "code",
   "execution_count": 13,
   "id": "c616c222-434f-49c3-9610-fc3ea92577ab",
   "metadata": {},
   "outputs": [],
   "source": [
    "# load corpus\n",
    "corpus = pd.read_parquet(\"hf://datasets/rag-datasets/rag-mini-wikipedia/data/passages.parquet/part.0.parquet\")"
   ]
  },
  {
   "cell_type": "code",
   "execution_count": 18,
   "id": "ab098ce5-77cc-4037-b729-5f829da87acf",
   "metadata": {},
   "outputs": [
    {
     "data": {
      "text/plain": [
       "'Uruguay (official full name in  ; pron.  , Eastern Republic of  Uruguay) is a country located in the southeastern part of South America.  It is home to 3.3 million people, of which 1.7 million live in the capital Montevideo and its metropolitan area.'"
      ]
     },
     "execution_count": 18,
     "metadata": {},
     "output_type": "execute_result"
    }
   ],
   "source": [
    "corpus['passage'][0]"
   ]
  },
  {
   "cell_type": "code",
   "execution_count": 32,
   "id": "a53faee3-fd6f-4e9e-8443-b788c631b2c3",
   "metadata": {},
   "outputs": [],
   "source": [
    "# load query & answer dataset\n",
    "query_answers = pd.read_parquet(\"hf://datasets/rag-datasets/rag-mini-wikipedia/data/test.parquet/part.0.parquet\")"
   ]
  },
  {
   "cell_type": "code",
   "execution_count": null,
   "id": "77994f3b-ded5-4288-bfeb-c9f21914c289",
   "metadata": {},
   "outputs": [],
   "source": [
    "# # Create a Faiss vector store for RAG\n",
    "# # If you already have an index created, skip a few coding cells to the LLM / embeddings setup"
   ]
  },
  {
   "cell_type": "code",
   "execution_count": 40,
   "id": "89c7be4f-1776-4658-a785-51a4b176746a",
   "metadata": {},
   "outputs": [],
   "source": [
    "# convert corpus into Document format\n",
    "documents = [Document(text=passage) for passage in corpus['passage']] "
   ]
  },
  {
   "cell_type": "code",
   "execution_count": 44,
   "id": "53a4928e-5d26-4536-87f1-47b6ac709608",
   "metadata": {},
   "outputs": [
    {
     "data": {
      "text/plain": [
       "'Uruguay (official full name in  ; pron.  , Eastern Republic of  Uruguay) is a country located in the southeastern part of South America.  It is home to 3.3 million people, of which 1.7 million live in the capital Montevideo and its metropolitan area.'"
      ]
     },
     "execution_count": 44,
     "metadata": {},
     "output_type": "execute_result"
    }
   ],
   "source": [
    "corpus['passage'][0]"
   ]
  },
  {
   "cell_type": "code",
   "execution_count": 101,
   "id": "97deeb8e-b5ef-4aa4-b8d6-33b0343e78ec",
   "metadata": {},
   "outputs": [
    {
     "data": {
      "text/html": [
       "<div>\n",
       "<style scoped>\n",
       "    .dataframe tbody tr th:only-of-type {\n",
       "        vertical-align: middle;\n",
       "    }\n",
       "\n",
       "    .dataframe tbody tr th {\n",
       "        vertical-align: top;\n",
       "    }\n",
       "\n",
       "    .dataframe thead th {\n",
       "        text-align: right;\n",
       "    }\n",
       "</style>\n",
       "<table border=\"1\" class=\"dataframe\">\n",
       "  <thead>\n",
       "    <tr style=\"text-align: right;\">\n",
       "      <th></th>\n",
       "      <th>passage</th>\n",
       "    </tr>\n",
       "    <tr>\n",
       "      <th>id</th>\n",
       "      <th></th>\n",
       "    </tr>\n",
       "  </thead>\n",
       "  <tbody>\n",
       "    <tr>\n",
       "      <th>0</th>\n",
       "      <td>Uruguay (official full name in  ; pron.  , Eas...</td>\n",
       "    </tr>\n",
       "    <tr>\n",
       "      <th>1</th>\n",
       "      <td>It is bordered by Brazil to the north, by Arge...</td>\n",
       "    </tr>\n",
       "    <tr>\n",
       "      <th>2</th>\n",
       "      <td>Montevideo was founded by the Spanish in the e...</td>\n",
       "    </tr>\n",
       "    <tr>\n",
       "      <th>3</th>\n",
       "      <td>The economy is largely based in agriculture (m...</td>\n",
       "    </tr>\n",
       "    <tr>\n",
       "      <th>4</th>\n",
       "      <td>According to Transparency International, Urugu...</td>\n",
       "    </tr>\n",
       "    <tr>\n",
       "      <th>...</th>\n",
       "      <td>...</td>\n",
       "    </tr>\n",
       "    <tr>\n",
       "      <th>3196</th>\n",
       "      <td>*In 2007, a duck in Tallahassee, Florida survi...</td>\n",
       "    </tr>\n",
       "    <tr>\n",
       "      <th>3197</th>\n",
       "      <td>*A rare genetic mutation sees some ducks born ...</td>\n",
       "    </tr>\n",
       "    <tr>\n",
       "      <th>3198</th>\n",
       "      <td>*The Moche people of ancient Peru worshipped n...</td>\n",
       "    </tr>\n",
       "    <tr>\n",
       "      <th>3199</th>\n",
       "      <td>*Angel Wing - A disease common in ducks.</td>\n",
       "    </tr>\n",
       "    <tr>\n",
       "      <th>3200</th>\n",
       "      <td>*  - A modern illustrated guide to identificat...</td>\n",
       "    </tr>\n",
       "  </tbody>\n",
       "</table>\n",
       "<p>3200 rows × 1 columns</p>\n",
       "</div>"
      ],
      "text/plain": [
       "                                                passage\n",
       "id                                                     \n",
       "0     Uruguay (official full name in  ; pron.  , Eas...\n",
       "1     It is bordered by Brazil to the north, by Arge...\n",
       "2     Montevideo was founded by the Spanish in the e...\n",
       "3     The economy is largely based in agriculture (m...\n",
       "4     According to Transparency International, Urugu...\n",
       "...                                                 ...\n",
       "3196  *In 2007, a duck in Tallahassee, Florida survi...\n",
       "3197  *A rare genetic mutation sees some ducks born ...\n",
       "3198  *The Moche people of ancient Peru worshipped n...\n",
       "3199           *Angel Wing - A disease common in ducks.\n",
       "3200  *  - A modern illustrated guide to identificat...\n",
       "\n",
       "[3200 rows x 1 columns]"
      ]
     },
     "execution_count": 101,
     "metadata": {},
     "output_type": "execute_result"
    }
   ],
   "source": [
    "corpus"
   ]
  },
  {
   "cell_type": "code",
   "execution_count": 102,
   "id": "0047be0e-2048-4127-b10b-755a8cd51628",
   "metadata": {},
   "outputs": [],
   "source": [
    "test = documents[0:1000]\n",
    "test2 = documents[1000:2000]\n",
    "test3 = documents[2000:3201]"
   ]
  },
  {
   "cell_type": "code",
   "execution_count": 103,
   "id": "e8093cbb-451d-47df-ad45-e65b59b85462",
   "metadata": {},
   "outputs": [
    {
     "data": {
      "text/plain": [
       "[Document(id_='13269335-993d-4786-9622-1aab06facec7', embedding=None, metadata={}, excluded_embed_metadata_keys=[], excluded_llm_metadata_keys=[], relationships={}, text=\"Ford joined the Boy Scouts of America, and attained that program's highest rank, Eagle Scout. He always regarded this as one of his proudest accomplishments, even after attaining the White House.     In subsequent years, Ford received the Distinguished Eagle Scout Award in May 1970 and Silver Buffalo Award from the Boy Scouts of America. He is the only US president who was an Eagle Scout.    Scouting was so important to Ford that his family asked that Scouts participate in his funeral. About 400 Eagle Scouts were part of the funeral procession, where they formed an honor guard as the casket went by in front of the museum, and served as ushers.\", mimetype='text/plain', start_char_idx=None, end_char_idx=None, text_template='{metadata_str}\\n\\n{content}', metadata_template='{key}: {value}', metadata_seperator='\\n'),\n",
       " Document(id_='f2274b99-6343-4bfb-bf90-af7e49878cfb', embedding=None, metadata={}, excluded_embed_metadata_keys=[], excluded_llm_metadata_keys=[], relationships={}, text='Ford attended Grand Rapids South High School and was a star athlete and captain of his football team. In 1930, he was selected to the All-City team of the Grand Rapids City League. He also attracted the attention of college recruiters.', mimetype='text/plain', start_char_idx=None, end_char_idx=None, text_template='{metadata_str}\\n\\n{content}', metadata_template='{key}: {value}', metadata_seperator='\\n'),\n",
       " Document(id_='ccb0b73c-d6d6-4849-ae6f-dc50d1be886c', embedding=None, metadata={}, excluded_embed_metadata_keys=[], excluded_llm_metadata_keys=[], relationships={}, text='Attending the University of Michigan as an undergraduate, Ford played center and linebacker for the schoolâ\\x80\\x99s football team and helped the Wolverines to undefeated seasons and national titles in 1932 and 1933. The team suffered a steep decline in his 1934 senior year, however, winning only one game. Ford was the teamâ\\x80\\x99s star nonetheless, and after a game during which Michigan held heavily favored Minnesota (the eventual national champion) to a scoreless tie in the first half, assistant coach Bennie Oosterbaan later said, â\\x80\\x9cWhen I walked into the dressing room at half time, I had tears in my eyes I was so proud of them.  Ford and [Cedric] Sweet played their hearts out. They were everywhere on defense.â\\x80\\x9d Ford himself later recalled, â\\x80\\x9cDuring 25 years in the rough-and-tumble world of politics, I often thought of the experiences before, during, and after that game in 1934. Remembering them has helped me many times to face a tough situation, take action, and make every effort possible despite adverse odds.â\\x80\\x9d  His teammates later voted Ford their most valuable player, with one assistant coach noting, â\\x80\\x9cThey felt Jerry was one guy who would stay and fight in a losing cause.â\\x80\\x9d    ', mimetype='text/plain', start_char_idx=None, end_char_idx=None, text_template='{metadata_str}\\n\\n{content}', metadata_template='{key}: {value}', metadata_seperator='\\n'),\n",
       " Document(id_='c0252ec1-8433-4ef0-8a75-7982536e221a', embedding=None, metadata={}, excluded_embed_metadata_keys=[], excluded_llm_metadata_keys=[], relationships={}, text='Ford as a University of Michigan football player, 1933', mimetype='text/plain', start_char_idx=None, end_char_idx=None, text_template='{metadata_str}\\n\\n{content}', metadata_template='{key}: {value}', metadata_seperator='\\n'),\n",
       " Document(id_='53f0c3b5-1729-4674-bcb9-0fb4ae482abd', embedding=None, metadata={}, excluded_embed_metadata_keys=[], excluded_llm_metadata_keys=[], relationships={}, text='During the same season, in a game against the University of Chicago, Ford â\\x80\\x9cbecame the only future U.S. president to tackle a future Heisman Trophy winner when he brought down running back Jay Berwanger, who would win the first Heisman the following year.â\\x80\\x9d    In 1934 Gerald Ford was selected for the Eastern Team on the Shrinerâ\\x80\\x99s East West Crippled Children game at San Francisco (a benefit for crippled children), played on January 1 1935. As part of the 1935 Collegiate All-Star football team, Ford played against the Chicago Bears in an exhibition game at Soldier Field.', mimetype='text/plain', start_char_idx=None, end_char_idx=None, text_template='{metadata_str}\\n\\n{content}', metadata_template='{key}: {value}', metadata_seperator='\\n'),\n",
       " Document(id_='d549764a-bba3-4f0e-a8f2-75b359363f99', embedding=None, metadata={}, excluded_embed_metadata_keys=[], excluded_llm_metadata_keys=[], relationships={}, text=\"Ford retained his interest in football and his alma mater throughout life, occasionally attending games and on one occasion asking to be awakened to find out the score of an Ohio State-Michigan football game, while attending a summit in the Soviet Union as President.    The University of Michigan retired Ford's #48 jersey in 1994.\", mimetype='text/plain', start_char_idx=None, end_char_idx=None, text_template='{metadata_str}\\n\\n{content}', metadata_template='{key}: {value}', metadata_seperator='\\n'),\n",
       " Document(id_='4976af21-190d-4523-849b-cb306b9b4167', embedding=None, metadata={}, excluded_embed_metadata_keys=[], excluded_llm_metadata_keys=[], relationships={}, text='At Michigan, Ford became a member of the Delta Kappa Epsilon fraternity and washed dishes at his fraternity house to earn money for college expenses. Following his graduation in 1935 with a degree in political science and economics, he turned down contract offers from the Detroit Lions and Green Bay Packers of the National Football League in order to take a coaching position at Yale and apply to its law school. Each team was offering him a contract of $200 a game, but he wanted a legal education.     Ford continued to contribute to football and boxing, accepting an assistant coaching job for both at Yale in September 1935.', mimetype='text/plain', start_char_idx=None, end_char_idx=None, text_template='{metadata_str}\\n\\n{content}', metadata_template='{key}: {value}', metadata_seperator='\\n'),\n",
       " Document(id_='9a987f09-2e63-4cb4-ba9a-d4a9cc87c7d0', embedding=None, metadata={}, excluded_embed_metadata_keys=[], excluded_llm_metadata_keys=[], relationships={}, text=\"Ford hoped to attend Yale's law school beginning in 1935 while serving as boxing coach and assistant varsity football coach, but Yale officials initially denied his admission to the law school, because of his full-time coaching responsibilities.  He spent the summer of 1937 as a student at the University of Michigan Law School     and was eventually admitted in the spring of 1938 to Yale Law School.     Ford earned his LL.B. degree in 1941 (later amended to Juris Doctor), graduating in the top 25 percent of his class. His introduction to politics came in the summer of 1940 when he worked in Wendell Willkie's presidential campaign.\", mimetype='text/plain', start_char_idx=None, end_char_idx=None, text_template='{metadata_str}\\n\\n{content}', metadata_template='{key}: {value}', metadata_seperator='\\n'),\n",
       " Document(id_='49a7521c-bc9b-4b06-a634-1198c5441006', embedding=None, metadata={}, excluded_embed_metadata_keys=[], excluded_llm_metadata_keys=[], relationships={}, text=\"While attending Yale Law School, he joined a group of students led by R. Douglas Stuart, Jr., and signed a petition to enforce the 1939 Neutrality Act. The petition was circulated nationally and was the inspiration for the America First Committee, a group determined to keep the U.S. out of World War II.    p. 7  Ford's position on U.S. involvement in the war would soon change.\", mimetype='text/plain', start_char_idx=None, end_char_idx=None, text_template='{metadata_str}\\n\\n{content}', metadata_template='{key}: {value}', metadata_seperator='\\n'),\n",
       " Document(id_='e3661ac1-6790-47c0-9bc8-6d33eb772007', embedding=None, metadata={}, excluded_embed_metadata_keys=[], excluded_llm_metadata_keys=[], relationships={}, text=\"Ford graduated from law school in 1941, and was admitted to the Michigan bar shortly thereafter. In May 1941, he opened a Grand Rapids law practice with a friend, Philip Buchen,  who would later serve as Ford's White House counsel. But overseas developments caused a change in plans, and Ford responded to the attack on Pearl Harbor by enlisting in the Navy.\", mimetype='text/plain', start_char_idx=None, end_char_idx=None, text_template='{metadata_str}\\n\\n{content}', metadata_template='{key}: {value}', metadata_seperator='\\n'),\n",
       " Document(id_='0bdeb7ed-c643-4be9-8665-c0d6096fdb09', embedding=None, metadata={}, excluded_embed_metadata_keys=[], excluded_llm_metadata_keys=[], relationships={}, text='Ford received a commission as ensign in the U.S. Naval Reserve on April 13, 1942. On April 20, he reported for active duty to the V-5 instructor school at Annapolis, Maryland. After one month of training, he went to Navy Preflight School in Chapel Hill, North Carolina, where he was one of 83 instructors and taught elementary seamanship, ordnance, gunnery, first aid and military drill. In addition, he coached in all nine sports that were offered, but mostly in swimming, boxing and football. During the one year he was at the Preflight School, he was promoted to Lieutenant Junior Grade on June 2, 1942, and to Lieutenant in March 1943.', mimetype='text/plain', start_char_idx=None, end_char_idx=None, text_template='{metadata_str}\\n\\n{content}', metadata_template='{key}: {value}', metadata_seperator='\\n'),\n",
       " Document(id_='8433ba14-f7dd-47e4-b09f-9be2481f6172', embedding=None, metadata={}, excluded_embed_metadata_keys=[], excluded_llm_metadata_keys=[], relationships={}, text='Ford in Navy uniform, 1945', mimetype='text/plain', start_char_idx=None, end_char_idx=None, text_template='{metadata_str}\\n\\n{content}', metadata_template='{key}: {value}', metadata_seperator='\\n'),\n",
       " Document(id_='fdacbaa6-1b2f-4bad-a322-48ff640fd68a', embedding=None, metadata={}, excluded_embed_metadata_keys=[], excluded_llm_metadata_keys=[], relationships={}, text=\"Applying for sea duty, Ford was sent in May 1943 to the pre-commissioning detachment for the new aircraft carrier USS Monterey, at New York Shipbuilding Corporation, Camden, New Jersey. From the ship's commissioning on June 17, 1943 until the end of December 1944, Ford served as the assistant navigator, Athletic Officer, and antiaircraft battery officer on board the Monterey. While he was on board, the carrier participated in many actions in the Pacific Theater with the Third and Fifth Fleets during the fall of 1943 and in 1944. In 1943, the carrier helped secure Makin Island in the Gilberts, and participated in carrier strikes against Kavieng, New Ireland in 1943. During the spring of 1944, the Monterey supported landings at Kwajalein and Eniwetok and participated in carrier strikes in the Marianas, Western Carolines, and northern New Guinea, as well as in the Battle of the Philippine Sea.         After overhaul, from September to November 1944, aircraft from the Monterey launched strikes against Wake Island, participated in strikes in the Philippines and Ryukyus, and supported the landings at Leyte and Mindoro.\", mimetype='text/plain', start_char_idx=None, end_char_idx=None, text_template='{metadata_str}\\n\\n{content}', metadata_template='{key}: {value}', metadata_seperator='\\n'),\n",
       " Document(id_='c5debbfa-02ed-4e82-b3eb-e8ab49d79b38', embedding=None, metadata={}, excluded_embed_metadata_keys=[], excluded_llm_metadata_keys=[], relationships={}, text='Although the ship was not damaged by Japanese forces, the Monterey was one of several ships damaged by the typhoon that hit Admiral William Halsey\\'s Third Fleet on December 18â\\x80\\x9319, 1944. The Third Fleet lost three destroyers and over 800 men during the typhoon. The Monterey was damaged by a fire, which was started by several of the ship\\'s aircraft tearing loose from their cables and colliding on the hanger deck. During the storm, Ford narrowly avoided becoming a casualty himself. As he was going to his battle station on the bridge of the ship in the early morning of December 18, the ship rolled twenty-five degrees, which caused Ford to lose his footing and slide toward the edge of the deck. The two-inch steel ridge around the edge of the carrier slowed him enough so he could roll, and he twisted into the catwalk below the deck. As he later stated, \"I was lucky; I could have easily gone overboard.\"', mimetype='text/plain', start_char_idx=None, end_char_idx=None, text_template='{metadata_str}\\n\\n{content}', metadata_template='{key}: {value}', metadata_seperator='\\n'),\n",
       " Document(id_='54f41175-b2ef-4953-b685-e442dae29e08', embedding=None, metadata={}, excluded_embed_metadata_keys=[], excluded_llm_metadata_keys=[], relationships={}, text='Because of the extent of the fires, Admiral Halsey ordered Captain Ingersoll to abbandon ship.  Lieutenant (j.g.) Ford stood near the helm, awaiting his orders. \"We can fix this\" Captain Ingersoll said, and with a nod from his skipper, Lieutenant Ford donned a gas mask and led a fire brigade below.', mimetype='text/plain', start_char_idx=None, end_char_idx=None, text_template='{metadata_str}\\n\\n{content}', metadata_template='{key}: {value}', metadata_seperator='\\n'),\n",
       " Document(id_='b34b03bc-f838-4279-bd2e-22a9dd2e99d8', embedding=None, metadata={}, excluded_embed_metadata_keys=[], excluded_llm_metadata_keys=[], relationships={}, text='Aircraft-gas tanks exploded as hose handlers slid across the burning decks. Into this furnace Lieutenant (j.g.) Ford led his men, his first order of business to carry out the dead and injured. Five hours later he and his team emerged burned and exhausted, but they had put out the fire.', mimetype='text/plain', start_char_idx=None, end_char_idx=None, text_template='{metadata_str}\\n\\n{content}', metadata_template='{key}: {value}', metadata_seperator='\\n'),\n",
       " Document(id_='a63b66bb-bcbb-4be4-9a9b-9bab43e25669', embedding=None, metadata={}, excluded_embed_metadata_keys=[], excluded_llm_metadata_keys=[], relationships={}, text='Men aboard the USS Monterey (CVL-26) playing basketball in the forward elevator well June, 1944; the jumper on the left is Ford      ', mimetype='text/plain', start_char_idx=None, end_char_idx=None, text_template='{metadata_str}\\n\\n{content}', metadata_template='{key}: {value}', metadata_seperator='\\n'),\n",
       " Document(id_='def7aa5b-9fae-44b2-b188-3bb6013b6177', embedding=None, metadata={}, excluded_embed_metadata_keys=[], excluded_llm_metadata_keys=[], relationships={}, text=\"After the fire the Monterey was declared unfit for service, and the crippled carrier reached Ulithi on December 21 before proceeding across the Pacific to Bremerton, Washington where it underwent repairs. On December 24, 1944 at Ulithi, Ford was detached from the ship and sent to the Athletic Department of the Navy Pre-Flight School at Saint Mary's College of California, where he was assigned to the Athletic Department until April 1945. One of his duties was to coach football. From the end of April 1945 to January 1946, he was on the staff of the Naval Reserve Training Command, Naval Air Station, Glenview, Illinois as the Staff Physical and Military Training Officer. On October 3, 1945 he was promoted to Lieutenant Commander. In January 1946, he was sent to the Separation Center, Great Lakes to be processed out. He was released from active duty under honorable conditions on February 23, 1946. On June 28, 1946, the Secretary of the Navy accepted Ford's resignation from the Naval Reserve.\", mimetype='text/plain', start_char_idx=None, end_char_idx=None, text_template='{metadata_str}\\n\\n{content}', metadata_template='{key}: {value}', metadata_seperator='\\n'),\n",
       " Document(id_='fcf247ac-4f6e-4373-97ec-b09c7abba3ae', embedding=None, metadata={}, excluded_embed_metadata_keys=[], excluded_llm_metadata_keys=[], relationships={}, text='For his naval service, Gerald Ford earned the Asiatic-Pacific Campaign Medal with nine engagement stars for operations in the Gilbert Islands, Bismarck Archipelago, Marshall Islands, Asiatic and Pacific carrier raids, Hollandia, Marianas, Western Carolines, Western New Guinea, and the Leyte Operation. He also received the Philippine Liberation Medal with two bronze stars for Leyte and Mindoro, as well as the American Campaign and World War II Victory medals.', mimetype='text/plain', start_char_idx=None, end_char_idx=None, text_template='{metadata_str}\\n\\n{content}', metadata_template='{key}: {value}', metadata_seperator='\\n'),\n",
       " Document(id_='3c917a8c-90ba-49e0-ad1e-9da593183d0b', embedding=None, metadata={}, excluded_embed_metadata_keys=[], excluded_llm_metadata_keys=[], relationships={}, text='Ford was a member of several civic organizations, including the Benevolent and Protective Order of Elks, American Legion, Veterans of Foreign Wars, and AMVETS.Gerald R. Ford was initiated into Freemasonry on September 30, 1949.  The Supreme Council, Ancient and Accepted Scottish Rite, Southern Jurisdiction, USA.  He later said in 1975,  \"When I took my obligation as a master mason â\\x80\\x94 incidentally, with my three younger brothers â\\x80\\x94 I recalled the value my own father attached to that order. But I had no idea that I would ever be added to the company of the Father of our Country and 12 other members of the order who also served as Presidents of the United States.\"', mimetype='text/plain', start_char_idx=None, end_char_idx=None, text_template='{metadata_str}\\n\\n{content}', metadata_template='{key}: {value}', metadata_seperator='\\n'),\n",
       " Document(id_='c01a9c0e-c79d-4785-889a-d7ef5907c481', embedding=None, metadata={}, excluded_embed_metadata_keys=[], excluded_llm_metadata_keys=[], relationships={}, text='The Fords on their wedding day, October 15, 1948', mimetype='text/plain', start_char_idx=None, end_char_idx=None, text_template='{metadata_str}\\n\\n{content}', metadata_template='{key}: {value}', metadata_seperator='\\n'),\n",
       " Document(id_='e79c1900-07ff-4b9d-9ae4-ea13074c7586', embedding=None, metadata={}, excluded_embed_metadata_keys=[], excluded_llm_metadata_keys=[], relationships={}, text='On October 15, 1948, at Grace Episcopal Church in Grand Rapids, Ford married Elizabeth Bloomer Warren, a department store fashion consultant. Warren had been a John Robert Powers fashion model and a dancer in the auxiliary troupe of the Martha Graham Dance Company. She had previously been married to and divorced from William G. Warren.', mimetype='text/plain', start_char_idx=None, end_char_idx=None, text_template='{metadata_str}\\n\\n{content}', metadata_template='{key}: {value}', metadata_seperator='\\n'),\n",
       " Document(id_='d57cc775-9229-40de-a66d-d4daf64dda9f', embedding=None, metadata={}, excluded_embed_metadata_keys=[], excluded_llm_metadata_keys=[], relationships={}, text='At the time of his engagement, Ford was campaigning for what would be his first of thirteen terms as a member of the United States House of Representatives. The wedding was delayed until shortly before the elections because, as The New York Times reported in a 1974 profile of Betty Ford, \"Jerry was running for Congress and wasn\\'t sure how voters might feel about his marrying a divorced ex-dancer.\"', mimetype='text/plain', start_char_idx=None, end_char_idx=None, text_template='{metadata_str}\\n\\n{content}', metadata_template='{key}: {value}', metadata_seperator='\\n'),\n",
       " Document(id_='c13e9eb8-bcde-49f9-a090-811cacf3de78', embedding=None, metadata={}, excluded_embed_metadata_keys=[], excluded_llm_metadata_keys=[], relationships={}, text='The Fords had four children:', mimetype='text/plain', start_char_idx=None, end_char_idx=None, text_template='{metadata_str}\\n\\n{content}', metadata_template='{key}: {value}', metadata_seperator='\\n'),\n",
       " Document(id_='ecd4796f-e4ac-47d5-94cb-4722636480e8', embedding=None, metadata={}, excluded_embed_metadata_keys=[], excluded_llm_metadata_keys=[], relationships={}, text='Ford meets with President Richard Nixon as House Minority Leader', mimetype='text/plain', start_char_idx=None, end_char_idx=None, text_template='{metadata_str}\\n\\n{content}', metadata_template='{key}: {value}', metadata_seperator='\\n'),\n",
       " Document(id_='698f928f-8b61-4cea-8572-57979928a94e', embedding=None, metadata={}, excluded_embed_metadata_keys=[], excluded_llm_metadata_keys=[], relationships={}, text='Following his return from the war, Ford became active in local Republican politics. Grand Rapids supporters urged him to take on Bartel J. Jonkman, the incumbent Republican congressman. Ford had changed his view of the world as a result of his military service; \"I came back a converted internationalist\", Ford stated, \"and of course our congressman at that time was an avowed, dedicated isolationist. And I thought he ought to be replaced. Nobody thought I could win. I ended up winning two to one.\" ', mimetype='text/plain', start_char_idx=None, end_char_idx=None, text_template='{metadata_str}\\n\\n{content}', metadata_template='{key}: {value}', metadata_seperator='\\n'),\n",
       " Document(id_='15ec51eb-9912-47e7-a624-e7d4171b8645', embedding=None, metadata={}, excluded_embed_metadata_keys=[], excluded_llm_metadata_keys=[], relationships={}, text='During his first campaign in 1948, Ford visited farmers and promised he would work on their farms and milk the cows if elected a promise he fulfilled.    In 1961, the U.S. House membership voted Ford a special award as a \"Congressman\\'s Congressman\" that praised his committee work on military budgets.', mimetype='text/plain', start_char_idx=None, end_char_idx=None, text_template='{metadata_str}\\n\\n{content}', metadata_template='{key}: {value}', metadata_seperator='\\n'),\n",
       " Document(id_='2b943169-eca5-4c5e-a84b-9eb24a571043', embedding=None, metadata={}, excluded_embed_metadata_keys=[], excluded_llm_metadata_keys=[], relationships={}, text='Ford was a member of the House of Representatives for twenty-four years, holding the Grand Rapids congressional district seat from 1949 to 1973. It was a tenure largely notable for its modesty. As an editorial in The New York Times described him, Ford \"saw himself as a negotiator and a reconciler, and the record shows it: he did not write a single piece of major legislation in his entire career.\"    ', mimetype='text/plain', start_char_idx=None, end_char_idx=None, text_template='{metadata_str}\\n\\n{content}', metadata_template='{key}: {value}', metadata_seperator='\\n'),\n",
       " Document(id_='d7c9c268-0d0b-4934-847b-4d2a0be17fee', embedding=None, metadata={}, excluded_embed_metadata_keys=[], excluded_llm_metadata_keys=[], relationships={}, text='Appointed to the House Appropriations Committee two years after being elected, he was a prominent member of the Defense Appropriations Subcommittee. Ford described his philosophy as \"a moderate in domestic affairs, an internationalist in foreign affairs, and a conservative in fiscal policy.\"', mimetype='text/plain', start_char_idx=None, end_char_idx=None, text_template='{metadata_str}\\n\\n{content}', metadata_template='{key}: {value}', metadata_seperator='\\n'),\n",
       " Document(id_='0ba1453c-362e-4cea-acec-cda69bc2586e', embedding=None, metadata={}, excluded_embed_metadata_keys=[], excluded_llm_metadata_keys=[], relationships={}, text='Congressman Gerald Ford, MSFC director Wernher von Braun, Congressman George H. Mahon, and NASA Administrator James E. Webb visit the Marshall Space Flight Center for a briefing on the Saturn program, 1964', mimetype='text/plain', start_char_idx=None, end_char_idx=None, text_template='{metadata_str}\\n\\n{content}', metadata_template='{key}: {value}', metadata_seperator='\\n'),\n",
       " Document(id_='39038a9a-ec24-4528-a7fd-f59a56f38d21', embedding=None, metadata={}, excluded_embed_metadata_keys=[], excluded_llm_metadata_keys=[], relationships={}, text='In November 1963, President Lyndon B. Johnson appointed Ford to the Warren Commission, a special task force set up to investigate the assassination of President John F. Kennedy. Ford was assigned to prepare a biography of Lee Harvey Oswald, the accused assassin. In 1997 the Assassination Records Review Board (ARRB) released a document that revealed that Ford had altered the first draft of the report to read: \"A bullet had entered the base of the back of [Kennedy\\'s] neck slightly to the right of the spine.\" Some believed that Ford had elevated the location of the wound from its true location in the back to the neck to support the single bullet theory. ( ) The original first draft of the Warren Commission Report stated that a bullet had entered Kennedy\\'s \"back at a point slightly above the shoulder and to the right of the spine.\"  Ford replied in an introduction to a new edition of the Warren Commission Report in 2004:', mimetype='text/plain', start_char_idx=None, end_char_idx=None, text_template='{metadata_str}\\n\\n{content}', metadata_template='{key}: {value}', metadata_seperator='\\n'),\n",
       " Document(id_='da7fce8f-3a80-463e-bdd6-5ef930f93afc', embedding=None, metadata={}, excluded_embed_metadata_keys=[], excluded_llm_metadata_keys=[], relationships={}, text=' I have been accused of changing some wording on the Warren Commission Report to favor the lone-assassin conclusion. That is absurd. Here is what the draft said: \"A bullet had entered his back at a point slightly above the shoulder and to the right of the spine.â\\x80\\x9d To any reasonable person, â\\x80\\x9cabove the shoulder and to the rightâ\\x80\\x9d sounds very high and way off the side â\\x80\\x94 and thatâ\\x80\\x99s what it sounded like to me. That would have given the totally wrong impression. Technically, from a medical perspective, the bullet entered just to the right at the base of the neck, so my recommendation to the other members was to change it to say, â\\x80\\x9cA bullet had entered the back of his neck, slightly to the right of the spine.â\\x80\\x9d After further investigation, we then unanimously agreed that it should read, â\\x80\\x9cA bullet had entered the base of his neck slightly to the right of the spine.â\\x80\\x9d As with any report, there were many clarifications and language changes suggested by several of us. ', mimetype='text/plain', start_char_idx=None, end_char_idx=None, text_template='{metadata_str}\\n\\n{content}', metadata_template='{key}: {value}', metadata_seperator='\\n'),\n",
       " Document(id_='dcc68005-d8be-4e56-90a5-6a30133ba46f', embedding=None, metadata={}, excluded_embed_metadata_keys=[], excluded_llm_metadata_keys=[], relationships={}, text='Ford\\'s description matched a  drawing prepared for the Commission under the direction of Dr. James J. Humes, supervisor of Kennedy\\'s autopsy, who in his  testimony to the Commission said three times that the entrance wound was in the \"low neck.\" The Commission was not shown the autopsy photographs.  The Commission\\'s work continues to be debated in the public arena.', mimetype='text/plain', start_char_idx=None, end_char_idx=None, text_template='{metadata_str}\\n\\n{content}', metadata_template='{key}: {value}', metadata_seperator='\\n'),\n",
       " Document(id_='daf91da3-e653-4d17-8a48-c9d617c48671', embedding=None, metadata={}, excluded_embed_metadata_keys=[], excluded_llm_metadata_keys=[], relationships={}, text='In 1965, Republican members of the House elected Ford as its Minority Leader. During the eight years (1965 1973) he served as Minority Leader, Ford won many friends in the House because of his fair leadership and inoffensive personality.  But President Johnson disliked Ford for the congressman\\'s frequent attacks on the administration\\'s \"Great Society\" programs as being unneeded or wasteful, and for his criticism of the President\\'s handling of the Vietnam War. As Minority Leader in the House, Ford appeared in a popular series of televised press conferences with famed Illinois Senator Everett Dirksen, in which they proposed Republican alternatives to Johnson\\'s policies. Many in the press jokingly called this \"The Ev and Jerry Show\".     Johnson said of Ford at the time, \"That Gerald Ford. He can\\'t fart and chew gum at the same time.\"     The press, used to sanitizing LBJ\\'s salty language, reported this as \"Gerald Ford can\\'t walk and chew gum at the same time.\"', mimetype='text/plain', start_char_idx=None, end_char_idx=None, text_template='{metadata_str}\\n\\n{content}', metadata_template='{key}: {value}', metadata_seperator='\\n'),\n",
       " Document(id_='f89287b6-6912-4b7d-aea6-f7d17bd460d1', embedding=None, metadata={}, excluded_embed_metadata_keys=[], excluded_llm_metadata_keys=[], relationships={}, text='On October 10, 1973, Vice President Spiro Agnew resigned and then pleaded no contest to criminal charges of tax evasion and money laundering, part of a negotiated resolution to a scheme wherein he accepted $29,500 in bribes during his tenure as governor of Maryland. According to The New York Times, \"Nixon sought advice from senior Congressional leaders about a replacement.  The advice was unanimous. \\'We gave Nixon no choice but Ford,\\' House Speaker Carl Albert recalled later\".', mimetype='text/plain', start_char_idx=None, end_char_idx=None, text_template='{metadata_str}\\n\\n{content}', metadata_template='{key}: {value}', metadata_seperator='\\n'),\n",
       " Document(id_='84d73c69-2fc5-4f22-bcf0-7a1062346644', embedding=None, metadata={}, excluded_embed_metadata_keys=[], excluded_llm_metadata_keys=[], relationships={}, text=\"The Fords and the Nixons in the White House Blue Room following President Nixon's nomination of Ford to be Vice President, October 1973\", mimetype='text/plain', start_char_idx=None, end_char_idx=None, text_template='{metadata_str}\\n\\n{content}', metadata_template='{key}: {value}', metadata_seperator='\\n'),\n",
       " Document(id_='badf70e3-f9fa-41e1-8f32-8a1cb01743af', embedding=None, metadata={}, excluded_embed_metadata_keys=[], excluded_llm_metadata_keys=[], relationships={}, text=\"Ford was nominated to take Agnew's position on October 12, the first time the vice-presidential vacancy provision of the 25th Amendment had been implemented. The United States Senate voted 92 to 3 to confirm Ford on November 27, and on December 6, the House confirmed him 387 to 35.\", mimetype='text/plain', start_char_idx=None, end_char_idx=None, text_template='{metadata_str}\\n\\n{content}', metadata_template='{key}: {value}', metadata_seperator='\\n'),\n",
       " Document(id_='a5a275ee-7c43-4480-9290-827701d36b4e', embedding=None, metadata={}, excluded_embed_metadata_keys=[], excluded_llm_metadata_keys=[], relationships={}, text=\"Ford's tenure as Vice President was little noted by the media. Instead, reporters were preoccupied by the continuing revelations about criminal acts during the 1972 presidential election and allegations of cover-ups within the White House. Ford said little about the Watergate scandal, although he privately expressed his personal disappointment in the President's conduct.\", mimetype='text/plain', start_char_idx=None, end_char_idx=None, text_template='{metadata_str}\\n\\n{content}', metadata_template='{key}: {value}', metadata_seperator='\\n'),\n",
       " Document(id_='0a245dd1-63d0-480e-9645-c4474003c6eb', embedding=None, metadata={}, excluded_embed_metadata_keys=[], excluded_llm_metadata_keys=[], relationships={}, text='Following Ford\\'s appointment, the Watergate investigation continued until Chief of Staff Alexander Haig contacted Ford on August 1, 1974, and told him that \"smoking gun\" evidence had been found. The evidence left little doubt that President Nixon had been a part of the Watergate cover-up. At the time, Ford and his wife, Betty, were living in suburban Virginia, waiting for their expected move into the newly designated vice president\\'s residence in Washington, D.C. However, \"Al Haig [asked] to come over and see me,\" Ford later related, \"to tell me that there would be a new tape released on a Monday, and he said the evidence in there was devastating and there would probably be either an impeachment or a resignation. And he said, \\'I\\'m just warning you that you\\'ve got to be prepared, that things might change dramatically and you could become President.\\' And I said, \\'Betty, I don\\'t think we\\'re ever going to live in the vice president\\'s house.\\'\"', mimetype='text/plain', start_char_idx=None, end_char_idx=None, text_template='{metadata_str}\\n\\n{content}', metadata_template='{key}: {value}', metadata_seperator='\\n'),\n",
       " Document(id_='1860e25c-e073-448b-b318-ea7f9d27faa4', embedding=None, metadata={}, excluded_embed_metadata_keys=[], excluded_llm_metadata_keys=[], relationships={}, text='Gerald Ford is sworn in as the 38th President of the United States by Chief Justice Warren Burger in the White House East Room, while Betty Ford looks on.', mimetype='text/plain', start_char_idx=None, end_char_idx=None, text_template='{metadata_str}\\n\\n{content}', metadata_template='{key}: {value}', metadata_seperator='\\n'),\n",
       " Document(id_='609fff12-4abe-4c41-b748-4794e976c823', embedding=None, metadata={}, excluded_embed_metadata_keys=[], excluded_llm_metadata_keys=[], relationships={}, text='When Nixon resigned in the wake of the Watergate scandal on August 9, 1974, Ford assumed the presidency making him the only person to assume the vice-presidency and the presidency without having been voted into either office. Immediately after taking the oath of office in the East Room of the White House, he spoke to the assembled audience in a speech broadcast live to the nation. Ford noted the peculiarity of his position: \"I am acutely aware that you have not elected me as your president by your ballots, and so I ask you to confirm me as your president with your prayers.\"    On August 20 Ford nominated former New York Governor Nelson Rockefeller to fill the vice presidency he had vacated. Rockefeller was confirmed by the House and Senate.', mimetype='text/plain', start_char_idx=None, end_char_idx=None, text_template='{metadata_str}\\n\\n{content}', metadata_template='{key}: {value}', metadata_seperator='\\n'),\n",
       " Document(id_='1606f451-547c-4842-9f44-a9ee3843f7d6', embedding=None, metadata={}, excluded_embed_metadata_keys=[], excluded_llm_metadata_keys=[], relationships={}, text='On September 8, 1974, Ford issued Proclamation 4311, which gave Nixon a full and unconditional pardon for any crimes he may have committed against the United States while President.        In a televised broadcast to the nation, Ford explained that he felt the pardon was in the best interests of the country and that the Nixon family\\'s situation \"is a tragedy in which we all have played a part.  It could go on and on and on, or someone must write the end to it. I have concluded that only I can do that, and if I can, I must.\"    At the same time as he announced the Nixon pardon, Ford introduced a conditional amnesty program for Vietnam War draft dodgers who had fled to countries such as Canada.     Unconditional amnesty, however, did not come about until the Jimmy Carter Presidency.', mimetype='text/plain', start_char_idx=None, end_char_idx=None, text_template='{metadata_str}\\n\\n{content}', metadata_template='{key}: {value}', metadata_seperator='\\n'),\n",
       " Document(id_='cf5b64ae-7f20-40b9-8cb7-ebeb5f5f1412', embedding=None, metadata={}, excluded_embed_metadata_keys=[], excluded_llm_metadata_keys=[], relationships={}, text='The Nixon pardon was highly controversial. Critics derided the move and claimed, a \"corrupt bargain\" had been struck between the men.  They claimed Ford\\'s pardon was quid pro quo in exchange for Nixon\\'s resignation that elevated Ford to the Presidency. Nixon\\'s Chief of Staff, Alexander Haig, did in fact offer a deal to Ford. Bob Woodward, in his book Shadow, recounts that Haig entered Ford\\'s office on August 1, 1974 while Ford was still Vice President and Nixon had yet to resign. Haig told Ford that there were three pardon options: (1) Nixon could pardon himself and resign, (2) Nixon could pardon his aides involved in Watergate and then resign, or (3) Nixon could agree to leave in return for an agreement that the new president would pardon him. After listing these options, Haig handed Ford various papers; one of these papers included a discussion of the president\\'s legal authority to pardon and another sheet was a draft pardon form that only needed Ford\\'s signature and Nixon\\'s name to make it legal. Woodward summarizes the setting between Haig and Ford as follows: \"Even if Haig offered no direct words on his views, the message was almost certainly sent. An emotional man, Haig was incapable of concealing his feelings; those who worked closely with him rarely found him ambiguous.\"', mimetype='text/plain', start_char_idx=None, end_char_idx=None, text_template='{metadata_str}\\n\\n{content}', metadata_template='{key}: {value}', metadata_seperator='\\n'),\n",
       " Document(id_='bc4024a0-e479-4065-b425-81f235cac02d', embedding=None, metadata={}, excluded_embed_metadata_keys=[], excluded_llm_metadata_keys=[], relationships={}, text='Despite the situation, Ford never accepted the offer from Haig and later decided to pardon Nixon on his own terms. Regardless, historians believe the controversy was one of the major reasons Ford lost the election in 1976, an observation with which Ford concurred.    In an editorial at the time, The New York Times stated that the Nixon pardon was \"a profoundly unwise, divisive and unjust act\" that in a stroke had destroyed the new president\\'s \"credibility as a man of judgment, candor and competence.\"', mimetype='text/plain', start_char_idx=None, end_char_idx=None, text_template='{metadata_str}\\n\\n{content}', metadata_template='{key}: {value}', metadata_seperator='\\n'),\n",
       " Document(id_='bf74104a-e2cb-4817-a540-5d1d2c6e7440', embedding=None, metadata={}, excluded_embed_metadata_keys=[], excluded_llm_metadata_keys=[], relationships={}, text=\"Ford's first press secretary and close friend Jerald Franklin terHorst resigned his post in protest after the announcement of President Nixon's full pardon.  Ford also voluntarily appeared before Congress on October 17, 1974 to give sworn testimony the only time a sitting president has done so about the pardon.\", mimetype='text/plain', start_char_idx=None, end_char_idx=None, text_template='{metadata_str}\\n\\n{content}', metadata_template='{key}: {value}', metadata_seperator='\\n'),\n",
       " Document(id_='28533d67-c957-40c3-ae0a-2464bf7040d6', embedding=None, metadata={}, excluded_embed_metadata_keys=[], excluded_llm_metadata_keys=[], relationships={}, text='After Ford left the White House in 1977, intimates said that the former President privately justified his pardon of Nixon by carrying in his wallet a portion of the text of Burdick v. United States, a 1915 U.S. Supreme Court decision which stated that a pardon indicated a presumption of guilt and that acceptance of a pardon was tantamount to a confession of that guilt.   In 2001, the John F. Kennedy Library Foundation awarded the John F. Kennedy Profile in Courage Award to Ford for his pardon of Nixon.', mimetype='text/plain', start_char_idx=None, end_char_idx=None, text_template='{metadata_str}\\n\\n{content}', metadata_template='{key}: {value}', metadata_seperator='\\n'),\n",
       " Document(id_='d4716aa0-8bda-4e5e-b132-9086d8e93bcc', embedding=None, metadata={}, excluded_embed_metadata_keys=[], excluded_llm_metadata_keys=[], relationships={}, text=\"Upon assuming office, Ford inherited the cabinet Nixon selected during his tenure in office. Over the course of Ford's relatively brief administration, only Secretary of State Henry Kissinger and Secretary of the Treasury William E. Simon remained. Ford appointed William Coleman as Secretary of Transportation, the second African American to serve in a presidential cabinet (after Robert Clifton Weaver) and the first appointed in a Republican administration.  Secretary of Transportation: William T. Coleman Jr. (1975â\\x80\\x931977) - AmericanPresident.org (January 15, 2005). Retrieved on December 31, 2006.\", mimetype='text/plain', start_char_idx=None, end_char_idx=None, text_template='{metadata_str}\\n\\n{content}', metadata_template='{key}: {value}', metadata_seperator='\\n'),\n",
       " Document(id_='410e8388-68bc-49cc-8c6a-17fdea3d174d', embedding=None, metadata={}, excluded_embed_metadata_keys=[], excluded_llm_metadata_keys=[], relationships={}, text='Other cabinet-level posts:', mimetype='text/plain', start_char_idx=None, end_char_idx=None, text_template='{metadata_str}\\n\\n{content}', metadata_template='{key}: {value}', metadata_seperator='\\n'),\n",
       " Document(id_='b7cacae3-f839-4bf4-bc04-fb88927beca9', embedding=None, metadata={}, excluded_embed_metadata_keys=[], excluded_llm_metadata_keys=[], relationships={}, text='Other important posts:', mimetype='text/plain', start_char_idx=None, end_char_idx=None, text_template='{metadata_str}\\n\\n{content}', metadata_template='{key}: {value}', metadata_seperator='\\n'),\n",
       " Document(id_='300c27b6-7b70-46c7-b9c3-a36b6c30ab7d', embedding=None, metadata={}, excluded_embed_metadata_keys=[], excluded_llm_metadata_keys=[], relationships={}, text=\"Ford selected George H.W. Bush to be his liaison to the People's Republic of China in 1974 and then Director of the Central Intelligence Agency in late 1975.  George Herbert Walker Bush Bush Profile, CNN. Retrieved on December 31, 2006.\", mimetype='text/plain', start_char_idx=None, end_char_idx=None, text_template='{metadata_str}\\n\\n{content}', metadata_template='{key}: {value}', metadata_seperator='\\n'),\n",
       " Document(id_='ef00627c-9791-4e9a-bea2-a72f141b1a54', embedding=None, metadata={}, excluded_embed_metadata_keys=[], excluded_llm_metadata_keys=[], relationships={}, text='Ford\\'s transition chairman and first Chief of Staff was former congressman and ambassador Donald Rumsfeld. In 1975, Rumsfeld was named by Ford as the youngest-ever Secretary of Defense. Ford chose a young Wyoming politician, Richard Cheney, to replace Rumsfeld as his new Chief of Staff and later campaign manager for Ford\\'s 1976 presidential campaign.  Richard B. Cheney. United States Department of Defense. Retrieved on December 31, 2006.  Ford\\'s dramatic reorganization of his Cabinet in the fall of 1975 has been referred to by political commentators as The \"Halloween Massacre.\"', mimetype='text/plain', start_char_idx=None, end_char_idx=None, text_template='{metadata_str}\\n\\n{content}', metadata_template='{key}: {value}', metadata_seperator='\\n'),\n",
       " Document(id_='881ca796-75a3-4a32-bd94-745ae700c346', embedding=None, metadata={}, excluded_embed_metadata_keys=[], excluded_llm_metadata_keys=[], relationships={}, text=\"The 1974 Congressional midterm elections took place less than three months after Ford assumed office. Occurring in the wake of the Watergate scandal, the Democratic Party was able to turn voter dissatisfaction into large gains in the House elections, taking 49 seats from the Republican Party, and increasing their majority to 291 of the 435 seats, which was one more than the number needed (290) for a 2/3rds majority, necessary in order to over-ride a Presidential veto (or to submit a Constitutional Amendment). Perhaps due in part to this fact, the 94th Congress overrode the highest percentage of vetoes since Andrew Johnson was President of the United States (1865â\\x80\\x931869).  Bush vetoes less than most presidents, CNN, May 1, 2007. Retrieved on October 19, 2007.  Even Ford's old, reliably Republican seat was taken by Democrat Richard VanderVeen. In the Senate elections, the Democratic majority became 61 in the 100-seat body. Renka, Russell D.  Nixon's Fall and the Ford and Carter Interregnum. Southeast Missouri State University, (April 10, 2003). Retrieved on December 31, 2006.\", mimetype='text/plain', start_char_idx=None, end_char_idx=None, text_template='{metadata_str}\\n\\n{content}', metadata_template='{key}: {value}', metadata_seperator='\\n'),\n",
       " Document(id_='fc282759-362d-443b-9b10-f0f0e0e68e49', embedding=None, metadata={}, excluded_embed_metadata_keys=[], excluded_llm_metadata_keys=[], relationships={}, text='President Ford meets with his Cabinet in 1975.', mimetype='text/plain', start_char_idx=None, end_char_idx=None, text_template='{metadata_str}\\n\\n{content}', metadata_template='{key}: {value}', metadata_seperator='\\n'),\n",
       " Document(id_='c3466bc7-96b0-4ab4-a999-f899ce5b6c8c', embedding=None, metadata={}, excluded_embed_metadata_keys=[], excluded_llm_metadata_keys=[], relationships={}, text='The economy was a great concern during the Ford administration. In response to rising inflation, Ford went before the American public in October 1974 and asked them to \"Whip Inflation Now.\" As part of this program, he urged people to wear \"WIN\" buttons.  Gerald Ford Speeches: Whip Inflation Now (October 8, 1974), Miller Center of Public Affairs. Retrieved on December 31, 2006  In hindsight, this was viewed as simply a public relations gimmick without offering any effective means of solving the underlying problems.    At the time, inflation was approximately seven percent.   Consumer Price Index, 1913-. Federal Reserve Bank of Minneapolis. Retrieved on December 31, 2006', mimetype='text/plain', start_char_idx=None, end_char_idx=None, text_template='{metadata_str}\\n\\n{content}', metadata_template='{key}: {value}', metadata_seperator='\\n'),\n",
       " Document(id_='3b272b0e-5f6f-4c24-82d8-b11641fd87a8', embedding=None, metadata={}, excluded_embed_metadata_keys=[], excluded_llm_metadata_keys=[], relationships={}, text='The economic focus began to change as the country sank into a mild recession and in March 1975, Congress passed and Ford signed into law income tax rebates as part of the Tax Reduction Act of 1975 to boost the economy. When New York City faced bankruptcy in 1975, Mayor Abraham Beame was unsuccessful in obtaining Ford\\'s support for a federal bailout. The incident prompted the New York Daily News\\' notorious headline: \"Ford to City: Drop Dead.\" Lemann, Nick.  Rhetorical Bankruptcy. The Harvard Crimson, November 8, 1975. Retrieved on December 31, 2006.', mimetype='text/plain', start_char_idx=None, end_char_idx=None, text_template='{metadata_str}\\n\\n{content}', metadata_template='{key}: {value}', metadata_seperator='\\n'),\n",
       " Document(id_='27c3c487-fb5e-42c6-afbe-4d281cb3eb0b', embedding=None, metadata={}, excluded_embed_metadata_keys=[], excluded_llm_metadata_keys=[], relationships={}, text='Ford was confronted with a potential swine flu pandemic. Sometime in the early 1970s, an influenza strain H1N1 shifted from a form of flu that affected primarily pigs and crossed over to humans. On February 5, 1976, an Army recruit at Fort Dix mysteriously died and four fellow soldiers were hospitalized; health officials announced that \"swine flu\" was the cause. Soon after, public health officials in the Ford administration urged that every person in the United States be vaccinated.  Pandemic Pointers. Living on Earth, March 3, 2006. Retrieved on December 31, 2006.  Although the vaccination program was plagued by delays and public relations problems, some 25% of the population was vaccinated by the time the program was canceled in December of that year. The vaccine was blamed for twenty-five deaths; more people died from the shots than from the swine flu. Mickle, Paul.  1976: Fear of a great plague. The Trentonian. Retrieved on December 31, 2006.', mimetype='text/plain', start_char_idx=None, end_char_idx=None, text_template='{metadata_str}\\n\\n{content}', metadata_template='{key}: {value}', metadata_seperator='\\n'),\n",
       " Document(id_='a3b87c50-e09e-411c-9fe9-a8042b481a82', embedding=None, metadata={}, excluded_embed_metadata_keys=[], excluded_llm_metadata_keys=[], relationships={}, text='Despite his reservations about how this program ultimately would be funded in an era of tight public budgeting, Ford still signed the Education for All Handicapped Children Act of 1975, which established special education throughout the United States. Ford expressed \"strong support for full educational opportunities for our handicapped children\" according to the official White House press release for the bill signing.  President Gerald R. Ford\\'s Statement on Signing the Education for All Handicapped Children Act of 1975. Gerald R. Ford Presidential Library, December 2, 1975. Retrieved on December 31, 2006.', mimetype='text/plain', start_char_idx=None, end_char_idx=None, text_template='{metadata_str}\\n\\n{content}', metadata_template='{key}: {value}', metadata_seperator='\\n'),\n",
       " Document(id_='5cc67d2b-1303-41bb-95c7-cd4efaa4f774', embedding=None, metadata={}, excluded_embed_metadata_keys=[], excluded_llm_metadata_keys=[], relationships={}, text='Ford was an outspoken supporter of the Equal Rights Amendment, issuing Presidential Proclamation 4383.', mimetype='text/plain', start_char_idx=None, end_char_idx=None, text_template='{metadata_str}\\n\\n{content}', metadata_template='{key}: {value}', metadata_seperator='\\n'),\n",
       " Document(id_='9e0dc4db-a276-4be0-8c91-17fa5b9a3d1c', embedding=None, metadata={}, excluded_embed_metadata_keys=[], excluded_llm_metadata_keys=[], relationships={}, text='In this Land of the Free, it is right, and by nature it ought to be, that all men and all women are equal before the law.', mimetype='text/plain', start_char_idx=None, end_char_idx=None, text_template='{metadata_str}\\n\\n{content}', metadata_template='{key}: {value}', metadata_seperator='\\n'),\n",
       " Document(id_='05d06e9b-c5a7-41ac-be72-5697ec579a38', embedding=None, metadata={}, excluded_embed_metadata_keys=[], excluded_llm_metadata_keys=[], relationships={}, text=\"Now, THEREFORE, I, GERALD R. FORD, President of the United States of America, to remind all Americans that it is fitting and just to ratify the Equal Rights Amendment adopted by the Congress of the United States of America, in order to secure legal equality for all women and men, do hereby designate and proclaim August 26, 1975, as Women's Equality Day.\", mimetype='text/plain', start_char_idx=None, end_char_idx=None, text_template='{metadata_str}\\n\\n{content}', metadata_template='{key}: {value}', metadata_seperator='\\n'),\n",
       " Document(id_='a06cf779-5056-4e23-a02f-666f9ff57d53', embedding=None, metadata={}, excluded_embed_metadata_keys=[], excluded_llm_metadata_keys=[], relationships={}, text='As president, Ford\\'s position on abortion was that he supported \"a federal constitutional amendment that would permit each one of the 50 States to make the choice.\"  Presidential Campaign Debate Between Gerald R. Ford and Jimmy Carter, October 22, 1976   This had also been his position as House Minority Leader in response to the 1973 Supreme Court case of Roe v. Wade, which he opposed.    Ford came under criticism for a 60 Minutes interview his wife Betty gave in 1975, in which she stated that Roe v. Wade was a \"great, great decision.\"     In later life, Ford would identify as pro-choice.', mimetype='text/plain', start_char_idx=None, end_char_idx=None, text_template='{metadata_str}\\n\\n{content}', metadata_template='{key}: {value}', metadata_seperator='\\n'),\n",
       " Document(id_='54b48e78-91b8-42d2-9f94-a935cba939d9', embedding=None, metadata={}, excluded_embed_metadata_keys=[], excluded_llm_metadata_keys=[], relationships={}, text='South Vietnamese civilians scramble to board a U.S. helicopter during the U.S evacuation of Saigon.', mimetype='text/plain', start_char_idx=None, end_char_idx=None, text_template='{metadata_str}\\n\\n{content}', metadata_template='{key}: {value}', metadata_seperator='\\n'),\n",
       " Document(id_='8fa5f144-adc5-4327-93c9-499260f1bfdb', embedding=None, metadata={}, excluded_embed_metadata_keys=[], excluded_llm_metadata_keys=[], relationships={}, text=\"All U.S. military forces had withdrawn from Vietnam in 1973. As the North Vietnamese invaded and conquered the South in 1975, Ford ordered the final withdrawal of U.S. civilians from Vietnam in 'Operation Frequent Wind', and the subsequent fall of Saigon. On April 29 and the morning of April 30, 1975, the U.S. embassy in Saigon was evacuated amidst a chaotic scene. Some 1,373 U.S. citizens and 5,595 Vietnamese and third country nationals were evacuated by military and Air America helicopters to U.S. Navy ships off-shore.\", mimetype='text/plain', start_char_idx=None, end_char_idx=None, text_template='{metadata_str}\\n\\n{content}', metadata_template='{key}: {value}', metadata_seperator='\\n'),\n",
       " Document(id_='841ea7d3-cf72-413f-8eb0-2b4ac77839f2', embedding=None, metadata={}, excluded_embed_metadata_keys=[], excluded_llm_metadata_keys=[], relationships={}, text='Ford meets with Soviet Union leader Leonid Brezhnev in Vladivostok, November 1974, to sign a joint communiquÃ© on the SALT treaty', mimetype='text/plain', start_char_idx=None, end_char_idx=None, text_template='{metadata_str}\\n\\n{content}', metadata_template='{key}: {value}', metadata_seperator='\\n'),\n",
       " Document(id_='011ca47e-45de-4b2b-90b3-0a6353788590', embedding=None, metadata={}, excluded_embed_metadata_keys=[], excluded_llm_metadata_keys=[], relationships={}, text='Ford continued the dÃ©tente policy with both the Soviet Union and China, easing the tensions of the Cold War.', mimetype='text/plain', start_char_idx=None, end_char_idx=None, text_template='{metadata_str}\\n\\n{content}', metadata_template='{key}: {value}', metadata_seperator='\\n'),\n",
       " Document(id_='00af252a-2e61-4dd7-8f19-24eea348ef96', embedding=None, metadata={}, excluded_embed_metadata_keys=[], excluded_llm_metadata_keys=[], relationships={}, text='In his meeting with Indonesian president Suharto, Ford gave the green light        through arms and aid to invade the former Portuguese colony East Timor.', mimetype='text/plain', start_char_idx=None, end_char_idx=None, text_template='{metadata_str}\\n\\n{content}', metadata_template='{key}: {value}', metadata_seperator='\\n'),\n",
       " Document(id_='b8957826-d9fb-4553-962e-8af1cdbe949b', embedding=None, metadata={}, excluded_embed_metadata_keys=[], excluded_llm_metadata_keys=[], relationships={}, text=\"Still in place from the Nixon Administration was the Strategic Arms Limitation Treaty (SALT).    The thawing relationship brought about by Nixon's visit to China was reinforced by Ford's December 1975 visit to the communist country.     In 1975, the Administration entered into the Helsinki Accords     with the Soviet Union, creating the framework of the Helsinki Watch, an independent non-governmental organization created to monitor compliance that later evolved into Human Rights Watch.\", mimetype='text/plain', start_char_idx=None, end_char_idx=None, text_template='{metadata_str}\\n\\n{content}', metadata_template='{key}: {value}', metadata_seperator='\\n'),\n",
       " Document(id_='a1a528d9-6f0a-458f-9f25-75fded13879a', embedding=None, metadata={}, excluded_embed_metadata_keys=[], excluded_llm_metadata_keys=[], relationships={}, text='Ford also faced a foreign policy crisis with the Mayaguez Incident. In May 1975, shortly after the Khmer Rouge took power in Cambodia, Cambodians seized the American merchant ship Mayaguez in international waters. Ford dispatched Marines to rescue the crew, but the Marines landed on the wrong island and met unexpectedly stiff resistance just as, unknown to the U.S., the Mayaguez sailors were being released. In the operation, forty-one U.S. servicemen were killed and fifty wounded while approximately sixty Khmer Rouge soldiers were killed.', mimetype='text/plain', start_char_idx=None, end_char_idx=None, text_template='{metadata_str}\\n\\n{content}', metadata_template='{key}: {value}', metadata_seperator='\\n'),\n",
       " Document(id_='da59742c-b67a-4621-b366-5122a4da0033', embedding=None, metadata={}, excluded_embed_metadata_keys=[], excluded_llm_metadata_keys=[], relationships={}, text='Ford attended the inaugural meeting of the Group of Seven (G7) industrialized nations (initially the G5) in 1975 and secured membership for Canada. Ford supported international solutions to issues. \"We live in an interdependent world and, therefore, must work together to resolve common economic problems,\" he said in a 1974 speech.', mimetype='text/plain', start_char_idx=None, end_char_idx=None, text_template='{metadata_str}\\n\\n{content}', metadata_template='{key}: {value}', metadata_seperator='\\n'),\n",
       " Document(id_='131d14f2-03d4-4611-8a11-4220667154af', embedding=None, metadata={}, excluded_embed_metadata_keys=[], excluded_llm_metadata_keys=[], relationships={}, text='Secret Service agents rush Ford to safety after an assassination attempt by Lynette Fromme.', mimetype='text/plain', start_char_idx=None, end_char_idx=None, text_template='{metadata_str}\\n\\n{content}', metadata_template='{key}: {value}', metadata_seperator='\\n'),\n",
       " Document(id_='67f0983e-5793-4929-bbb6-a244c615be02', embedding=None, metadata={}, excluded_embed_metadata_keys=[], excluded_llm_metadata_keys=[], relationships={}, text='Ford faced two assassination attempts during his presidency, occurring within three weeks of each other: while in Sacramento, California on September 5, 1975, Lynette \"Squeaky\" Fromme, a follower of Charles Manson, pointed a Colt 45-caliber handgun at Ford. As Fromme pulled the trigger, Larry Buendorf,     a Secret Service agent, grabbed the gun and managed to insert the webbing of his thumb under the hammer, preventing the gun from firing. It was later found that, although the gun was loaded with four cartridges, it was a semi-automatic pistol and the slide had not been pulled to place a round in the firing chamber, making it impossible for the gun to fire. Fromme was taken into custody; she was later convicted of attempted assassination of the President and was sentenced to life in prison.', mimetype='text/plain', start_char_idx=None, end_char_idx=None, text_template='{metadata_str}\\n\\n{content}', metadata_template='{key}: {value}', metadata_seperator='\\n'),\n",
       " Document(id_='44b99905-d3b2-4609-ba34-a793ba2a27b2', embedding=None, metadata={}, excluded_embed_metadata_keys=[], excluded_llm_metadata_keys=[], relationships={}, text='Seventeen days later, another woman, Sara Jane Moore, also tried to kill Ford while he was visiting San Francisco, but her attempt was thwarted when former Marine Oliver Sipple deflected her shot. One person was injured when Moore fired, and she was later sentenced to life in prison.', mimetype='text/plain', start_char_idx=None, end_char_idx=None, text_template='{metadata_str}\\n\\n{content}', metadata_template='{key}: {value}', metadata_seperator='\\n'),\n",
       " Document(id_='4e14149a-214c-4703-9a3d-620eb665801d', embedding=None, metadata={}, excluded_embed_metadata_keys=[], excluded_llm_metadata_keys=[], relationships={}, text='In 1975, Ford appointed John Paul Stevens as Associate Justice of the Supreme Court of the United States to replace retiring Justice William O. Douglas. Stevens had been a judge of the United States Court of Appeals for the Seventh Circuit, appointed by President Nixon.     During his tenure as House Republican leader, Ford had led efforts to have Douglas impeached. After being confirmed, Stevens eventually disappointed some conservatives by siding with the Court\\'s liberal wing regarding the outcome of many key issues.     Nevertheless, President Ford paid tribute to Stevens. \"He has served his nation well,\" Ford said of Stevens, \"with dignity, intellect and without partisan political concerns.\"  Letter from Gerald Ford to Michael Treanor (September 21, 2005).', mimetype='text/plain', start_char_idx=None, end_char_idx=None, text_template='{metadata_str}\\n\\n{content}', metadata_template='{key}: {value}', metadata_seperator='\\n'),\n",
       " Document(id_='28fc9ce5-e922-4a8c-8bac-692066510998', embedding=None, metadata={}, excluded_embed_metadata_keys=[], excluded_llm_metadata_keys=[], relationships={}, text=\"Ford reluctantly agreed to run for office in 1976, but first he had to counter a challenge for the Republican party nomination. Then-former Governor of California Ronald Reagan and the party's conservative wing faulted Ford for failing to do more in South Vietnam, for signing the Helsinki Accords and for negotiating to cede the Panama Canal (negotiations for the canal continued under President Carter, who eventually signed the Torrijos-Carter Treaties). Reagan launched his campaign in the autumn of 1975 and won several primaries before withdrawing from the race at the Republican Convention in Kansas City, Missouri. The conservative insurgency convinced Ford to drop the more liberal Vice President Nelson Rockefeller in favor of Kansas Senator Bob Dole.  Another Loss For the Gipper. Time, March 29, 1976. Retrieved on December 31, 2006.\", mimetype='text/plain', start_char_idx=None, end_char_idx=None, text_template='{metadata_str}\\n\\n{content}', metadata_template='{key}: {value}', metadata_seperator='\\n'),\n",
       " Document(id_='3b88872e-3d2a-426a-841b-0455e8b6632c', embedding=None, metadata={}, excluded_embed_metadata_keys=[], excluded_llm_metadata_keys=[], relationships={}, text='In addition to the pardon dispute and lingering anti-Republican sentiment, Ford had to counter a plethora of negative media imagery. Chevy Chase often did pratfalls on Saturday Night Live, imitating Ford, who had been seen stumbling on two occasions during his term. As Chase commented, \"He even mentioned in his own autobiography it had an effect over a period of time that affected the election to some degree.\"  VH1 News Presents: Politics: A Pop Culture History Premiering Wednesday, October 20 at 10:00 p.m. (ET/PT). PRNewswire October 19, 2004. Retrieved on December 31, 2006.', mimetype='text/plain', start_char_idx=None, end_char_idx=None, text_template='{metadata_str}\\n\\n{content}', metadata_template='{key}: {value}', metadata_seperator='\\n'),\n",
       " Document(id_='69a30661-dcde-405f-899b-7132cbca7e3a', embedding=None, metadata={}, excluded_embed_metadata_keys=[], excluded_llm_metadata_keys=[], relationships={}, text='President Ford\\'s 1976 election campaign had the advantage that he was an incumbent President during several anniversary events held during the period leading up to the United States Bicentennial. The Washington, D.C. fireworks display on the Fourth of July was presided over by the President and televised nationally.  Election of 1976: A Political Outsider Prevails. C-SPAN.  Retrieved on December 31, 2006.   On July 7, 1976, the President and First Lady served as proud hosts at a White House state dinner for Queen Elizabeth II and Prince Philip of Great Britain, which was televised on the Public Broadcasting Service network.  The 200th anniversary of the Battles of Lexington and Concord in Massachusetts gave Ford the opportunity to deliver a speech to 110,000 in Concord acknowledging the need for a strong national defense tempered with a plea for \"reconciliation, not recrimination\" and \"reconstruction, not rancor\" between the United States and those who would pose \"threats to peace.\" Shabecoff, Philip. \"160,000 Mark Two 1775 Battles; Concord Protesters Jeer Ford -- Reconciliation Plea.\" New York Times, April 20, 1975, p.1.   Speaking in New Hampshire on the previous day, Ford condemned the growing trend toward big government bureaucracy and argued for a return to \"basic American virtues.\" Shabecoff, Philip. \"Ford, on Bicentennial Trip, Bids U.S. Heed Old Values.\" New York Times, April 19, 1975, p.1.', mimetype='text/plain', start_char_idx=None, end_char_idx=None, text_template='{metadata_str}\\n\\n{content}', metadata_template='{key}: {value}', metadata_seperator='\\n'),\n",
       " Document(id_='d269e7dc-8334-467e-9280-709244933032', embedding=None, metadata={}, excluded_embed_metadata_keys=[], excluded_llm_metadata_keys=[], relationships={}, text='Ford (at right) and Jimmy Carter debate.', mimetype='text/plain', start_char_idx=None, end_char_idx=None, text_template='{metadata_str}\\n\\n{content}', metadata_template='{key}: {value}', metadata_seperator='\\n'),\n",
       " Document(id_='dcfef68a-563d-482f-906e-e9c70389a61b', embedding=None, metadata={}, excluded_embed_metadata_keys=[], excluded_llm_metadata_keys=[], relationships={}, text='Democratic nominee and former Georgia governor Jimmy Carter campaigned as an outsider and reformer; he gained support from voters dismayed by the Watergate scandal. Carter led consistently in the polls, and Ford was never able to shake voter dissatisfaction following Watergate and the Nixon pardon.', mimetype='text/plain', start_char_idx=None, end_char_idx=None, text_template='{metadata_str}\\n\\n{content}', metadata_template='{key}: {value}', metadata_seperator='\\n'),\n",
       " Document(id_='d8af4a4a-4967-42e4-8b9e-feca3c95e2ce', embedding=None, metadata={}, excluded_embed_metadata_keys=[], excluded_llm_metadata_keys=[], relationships={}, text='Presidential debates were reintroduced for the first time since the 1960 election. While Ford was seen as the winner of the first debate, during the second debate he inexplicably blundered when he stated, \"There is no Soviet domination of Eastern Europe and there never will be under a Ford Administration.\" Ford also said that he did not \"believe that the Poles consider themselves dominated by the Soviet Union.\"  Election 2000: 1976 Presidential Debates. CNN (2001).  Retrieved on December 31, 2006.   In an interview years later, Ford said he had intended to imply that the Soviets would never crush the spirits of eastern Europeans seeking independence.  However, the phrasing was so awkward that questioner Max Frankel was visibly incredulous at the response.', mimetype='text/plain', start_char_idx=None, end_char_idx=None, text_template='{metadata_str}\\n\\n{content}', metadata_template='{key}: {value}', metadata_seperator='\\n'),\n",
       " Document(id_='f9683ff0-c90f-42dd-9fb1-3b18f3ef27db', embedding=None, metadata={}, excluded_embed_metadata_keys=[], excluded_llm_metadata_keys=[], relationships={}, text='In the end, Carter won the election, receiving 50.1% of the popular vote and 297 electoral votes compared with 48.0% and 240 electoral votes for Ford. The election was close enough that had fewer than 25,000 votes shifted in Ohio and Wisconsin   both of which neighbored his home state   Ford would have won the electoral vote.  Presidential Election 1976 States Carried. miltied.com.  Retrieved on December 31, 2006.  Though he lost, in the three months between the Republican National Convention and the election Ford managed to close what was once a 34-point Carter lead to a 2-point margin. In fact, the Gallup poll the day before the election showed Ford held a statistically insignificant 1-point advantage over Carter.', mimetype='text/plain', start_char_idx=None, end_char_idx=None, text_template='{metadata_str}\\n\\n{content}', metadata_template='{key}: {value}', metadata_seperator='\\n'),\n",
       " Document(id_='1c9a676c-ddf7-48e9-ba90-de9111e07c18', embedding=None, metadata={}, excluded_embed_metadata_keys=[], excluded_llm_metadata_keys=[], relationships={}, text=\"Had Ford won the election, he would have been disqualified by the 22nd Amendment from running in 1980, since he served more than 2 years of Nixon's term.\", mimetype='text/plain', start_char_idx=None, end_char_idx=None, text_template='{metadata_str}\\n\\n{content}', metadata_template='{key}: {value}', metadata_seperator='\\n'),\n",
       " Document(id_='4bc0ddc4-34b6-4f90-96db-48696e24fc34', embedding=None, metadata={}, excluded_embed_metadata_keys=[], excluded_llm_metadata_keys=[], relationships={}, text=\"An article published in Newsweek shortly after Ford's death in 2006 discussed the former President's spiritual beliefs and cited evidence that Ford's preference not to openly express his Episcopalian faith in public contributed to his loss to Southern Baptist former Sunday School teacher Jimmy Carter. Ford's lowest level of support was in the Bible Belt states of the Deep South (Carter won every Southern state that year except Virginia). The 1976 election was arguably the last time to date that the Republican Presidential candidate could be considered the less conservative candidate relative to his Democratic opponent. While Ford's views on abortion were often ambiguous, he is often considered the last Republican President to hold pro-choice views.\", mimetype='text/plain', start_char_idx=None, end_char_idx=None, text_template='{metadata_str}\\n\\n{content}', metadata_template='{key}: {value}', metadata_seperator='\\n'),\n",
       " Document(id_='dfd9127b-baff-403a-9c32-725adc272a77', embedding=None, metadata={}, excluded_embed_metadata_keys=[], excluded_llm_metadata_keys=[], relationships={}, text='The pardon controversy eventually subsided. Ford\\'s successor, Jimmy Carter, opened his 1977 inaugural address by praising the outgoing President, saying \"For myself and for our Nation, I want to thank my predecessor for all he has done to heal our land.\"', mimetype='text/plain', start_char_idx=None, end_char_idx=None, text_template='{metadata_str}\\n\\n{content}', metadata_template='{key}: {value}', metadata_seperator='\\n'),\n",
       " Document(id_='3f0ab1bd-8df6-48cf-9075-f06596824c50', embedding=None, metadata={}, excluded_embed_metadata_keys=[], excluded_llm_metadata_keys=[], relationships={}, text=\"Ford remained relatively active in the years after his presidency and continued to make appearances at events of historical and ceremonial significance to the nation, such as presidential inaugurals and memorial services. In 1977, he reluctantly agreed to be interviewed by James M. Naughton, a New York Times journalist who was given the assignment to write the former President's advance obituary, an article that would be updated prior to its eventual publication.\", mimetype='text/plain', start_char_idx=None, end_char_idx=None, text_template='{metadata_str}\\n\\n{content}', metadata_template='{key}: {value}', metadata_seperator='\\n'),\n",
       " Document(id_='aac6cfe0-7bfb-481c-b2fd-a1258d236916', embedding=None, metadata={}, excluded_embed_metadata_keys=[], excluded_llm_metadata_keys=[], relationships={}, text='Presidents (from left) George H.W. Bush, Ronald Reagan, Jimmy Carter, Gerald R. Ford, and Richard Nixon at the dedication of the Ronald Reagan Presidential Library in 1991.', mimetype='text/plain', start_char_idx=None, end_char_idx=None, text_template='{metadata_str}\\n\\n{content}', metadata_template='{key}: {value}', metadata_seperator='\\n'),\n",
       " Document(id_='bf597fac-e75a-4945-b385-a383ba45b614', embedding=None, metadata={}, excluded_embed_metadata_keys=[], excluded_llm_metadata_keys=[], relationships={}, text='Gerald R. Ford', mimetype='text/plain', start_char_idx=None, end_char_idx=None, text_template='{metadata_str}\\n\\n{content}', metadata_template='{key}: {value}', metadata_seperator='\\n'),\n",
       " Document(id_='515e296e-539c-4232-b5ca-f1a3110bb0da', embedding=None, metadata={}, excluded_embed_metadata_keys=[], excluded_llm_metadata_keys=[], relationships={}, text='Official White House Portrait by Everett Kinstler.', mimetype='text/plain', start_char_idx=None, end_char_idx=None, text_template='{metadata_str}\\n\\n{content}', metadata_template='{key}: {value}', metadata_seperator='\\n'),\n",
       " Document(id_='b0beb043-c0c1-4c33-8796-06459300d412', embedding=None, metadata={}, excluded_embed_metadata_keys=[], excluded_llm_metadata_keys=[], relationships={}, text='During the term of office of his successor, Jimmy Carter, Ford received monthly briefs by President Carterâ\\x80\\x99s senior staff on international and domestic issues, and was always invited to lunch at the White House whenever he was in Washington, D.C. However, a close friendship with Carter developed only after Carter had left office, with the catalyst being their trip together to the funeral of Anwar el-Sadat in 1981.    Until Ford\\'s death, Carter and his wife, Rosalynn, visited the Fords\\' home frequently. Updegrove, Mark K.   â\\x80\\x9cFlying Coach to Cairoâ\\x80\\x9d. AmericanHeritage.com (August/September 2006).  Retrieved on December 31, 2006. \"Certainly few observers in January 1977 would have predicted that Jimmy and I would become the closest of friends,\" Ford said in 2000  In 2001, Ford and Carter served as honorary co-chairs of the National Commission on Federal Election Reform.', mimetype='text/plain', start_char_idx=None, end_char_idx=None, text_template='{metadata_str}\\n\\n{content}', metadata_template='{key}: {value}', metadata_seperator='\\n'),\n",
       " Document(id_='a2b5a98c-b1d4-4d87-8bf3-5a1311a9694e', embedding=None, metadata={}, excluded_embed_metadata_keys=[], excluded_llm_metadata_keys=[], relationships={}, text='Like Presidents Carter, Bush Senior and Clinton, Ford was an honorary co-chair of the Council for Excellence in Government, a group dedicated to excellence in government performance and which provides leadership training to top federal employees.', mimetype='text/plain', start_char_idx=None, end_char_idx=None, text_template='{metadata_str}\\n\\n{content}', metadata_template='{key}: {value}', metadata_seperator='\\n'),\n",
       " Document(id_='f93cf521-b282-4a8d-901f-d8c8c954db29', embedding=None, metadata={}, excluded_embed_metadata_keys=[], excluded_llm_metadata_keys=[], relationships={}, text='After securing the Republican nomination in 1980, Ronald Reagan gave serious consideration to his former rival Ford as a potential vice-presidential running mate.  But negotiations between the Reagan and Ford camps at the Republican National Convention in Detroit were unsuccessful. Ford conditioned his acceptance on Reagan\\'s agreement to an unprecedented \"co-presidency\",    giving Ford the power to control key executive branch appointments (such as Henry Kissinger as Secretary of State and Alan Greenspan as Treasury Secretary). After rejecting these terms, Reagan offered the vice-presidential nomination instead to George H. W. Bush. Allen, Richard V.  How the Bush Dynasty Almost Wasn\\'t. Hoover Institution, reprinted from the New York Times Magazine, (July 30, 2000).  Retrieved on December 31, 2006.', mimetype='text/plain', start_char_idx=None, end_char_idx=None, text_template='{metadata_str}\\n\\n{content}', metadata_template='{key}: {value}', metadata_seperator='\\n'),\n",
       " Document(id_='0d5418b4-21ab-4d02-9ccd-e681643a8115', embedding=None, metadata={}, excluded_embed_metadata_keys=[], excluded_llm_metadata_keys=[], relationships={}, text='In 1977, he established the Gerald R. Ford Institute of Public Policy at Albion College in Albion, Michigan. This institute is designed to give undergraduates training in public policy. In 1981, he opened the Gerald R. Ford Museum in Grand Rapids, and the Gerald R. Ford Library in Ann Arbor, Michigan.     In 1999, Ford was awarded the Presidential Medal of Freedom by Bill Clinton.     In 2001, he was presented with the John F. Kennedy Profiles in Courage Award for his decision to pardon Richard Nixon to stop the agony America was experiencing over Watergate.     In retirement Ford also devoted much time to his love of golf, often playing both privately and in public events with comedian Bob Hope, a longtime friend.', mimetype='text/plain', start_char_idx=None, end_char_idx=None, text_template='{metadata_str}\\n\\n{content}', metadata_template='{key}: {value}', metadata_seperator='\\n'),\n",
       " Document(id_='49442ac2-211f-4de7-8dc9-a4167ec3dacd', embedding=None, metadata={}, excluded_embed_metadata_keys=[], excluded_llm_metadata_keys=[], relationships={}, text='Ford at his 90th birthday party with Laura Bush, President George W. Bush, and Betty Ford in the White House State Dining Room in 2003.', mimetype='text/plain', start_char_idx=None, end_char_idx=None, text_template='{metadata_str}\\n\\n{content}', metadata_template='{key}: {value}', metadata_seperator='\\n'),\n",
       " Document(id_='acbc1a49-192a-47a0-8429-d076fdfba471', embedding=None, metadata={}, excluded_embed_metadata_keys=[], excluded_llm_metadata_keys=[], relationships={}, text='On October 29, 2001, in an article by Deb Price, a columnist with the Detroit News, Ford broke with conservative members of the Republican party by stating that gay and lesbian couples \"ought to be treated equally. Period.\"  He became the highest ranking Republican to embrace full equality for gays and lesbians, stating his belief that there should be a federal amendment outlawing anti-gay job discrimination and expressed his hope that the Republican Party would reach out to gay and lesbian voters.  Price, Deb. (October 29, 2001).   Gerald Ford: Treat gay couples equally.  The Detroit News.  Retrieved on December 28, 2006  He also was a member of the Republican Unity Coalition, which The New York Times described as \"a group of prominent Republicans, including former President Gerald R. Ford, dedicated to making sexual orientation a nonissue in the Republican Party.\" Stolberg, Sheryl Gay, \"Vocal Gay Republicans Upsetting Conservatives,\" The New York Times, 1 June 2003, page N26', mimetype='text/plain', start_char_idx=None, end_char_idx=None, text_template='{metadata_str}\\n\\n{content}', metadata_template='{key}: {value}', metadata_seperator='\\n'),\n",
       " Document(id_='943307e1-ffbc-4e7a-9575-de64a5ddfb44', embedding=None, metadata={}, excluded_embed_metadata_keys=[], excluded_llm_metadata_keys=[], relationships={}, text='On November 22, 2004, New York Republican Governor George Pataki named Ford and the other living former Presidents (Carter, George H. W. Bush and Bill Clinton) as honorary members of the board rebuilding the World Trade Center.', mimetype='text/plain', start_char_idx=None, end_char_idx=None, text_template='{metadata_str}\\n\\n{content}', metadata_template='{key}: {value}', metadata_seperator='\\n'),\n",
       " Document(id_='e7a0dcb1-c3a0-478f-be3f-aa17a2038112', embedding=None, metadata={}, excluded_embed_metadata_keys=[], excluded_llm_metadata_keys=[], relationships={}, text='In a prerecorded embargoed interview with Bob Woodward of The Washington Post in July 2004, Ford stated that he disagreed \"very strongly\" with the Bush administration\\'s choice of Iraq\\'s alleged weapons of mass destruction as justification for its decision to invade Iraq, calling it a \"big mistake\" unrelated to the national security of the United States and indicating that he would not have gone to war had he been President. The details of the interview were not released until after Ford\\'s death, as he requested. Woodward, Bob (December 28 2006).  Ford Disagreed With Bush About Invading Iraq. The Washington Post. Retrieved on December 28, 2006   Embargoed Interview Reveals Ford Opposed Iraq War. Democracy Now Headlines for December 28, 2006. Retrieved on December 28, 2006', mimetype='text/plain', start_char_idx=None, end_char_idx=None, text_template='{metadata_str}\\n\\n{content}', metadata_template='{key}: {value}', metadata_seperator='\\n'),\n",
       " Document(id_='861b5072-b37a-4584-86a9-bc62279183f1', embedding=None, metadata={}, excluded_embed_metadata_keys=[], excluded_llm_metadata_keys=[], relationships={}, text=\"As Ford approached his ninetieth year, he began to experience significant health problems associated with old age. He suffered two minor strokes at the 2000 Republican National Convention, but made a quick recovery.  Gerald Ford recovering after strokes. BBC, August 2, 2000.  Retrieved on December 31, 2006.  In January 2006, he spent 11 days at the Eisenhower Medical Center near his residence at Rancho Mirage, California, for treatment of pneumonia.  Former President Ford, 92, hospitalized with pneumonia. Associated Press, January 17, 2006. Retrieved on October 19, 2007.  On April 23, President George W. Bush visited Ford at his home in Rancho Mirage for a little over an hour. This was Ford's last public appearance and produced the last known public photos, video footage and voice recording. While vacationing in Vail, Colorado, he was hospitalized for two days in July, 2006 for shortness of breath.  Gerald Ford released from hospital. Associated Press, July 26, 2006. Retrieved on December 31, 2006.  On August 15 Ford was admitted to St. Mary's Hospital of the Mayo Clinic in Rochester, Minnesota for testing and evaluation. On August 21, it was reported that he had been fitted with a pacemaker. On August 25, he underwent an angioplasty procedure at the Mayo Clinic, according to a statement from an assistant to Ford. On August 28, Ford was released from the hospital and returned with his wife Betty to their California home. On October 13, he was scheduled to attend the dedication of a building of his namesake, the Gerald R. Ford School of Public Policy, but due to poor health and on the advice of his doctors he did not attend, much to his personal disappointment. The previous day, on October 12, however, Ford entered the hospital yet again for undisclosed tests at the Eisenhower Medical Center;  Former President Ford in hospital for tests. Associated Press via CNN  he was released on October 16. As a result of his frail health it was announced on October 17 that Ford was considering selling his home near Vail due to the uncertainty as to whether he would be able to return. Those that saw him during the last five months of his life said that he looked frailer than ever and that it appeared his body was slowly failing him, and by November 2006 he was confined to a hospital bed in his study.  CNN Transcript December 26, 2006 11:00PM CST  On November 12, 2006 upon surpassing Ronald Reagan to become the longest lived president in US history he released his last public statement:\", mimetype='text/plain', start_char_idx=None, end_char_idx=None, text_template='{metadata_str}\\n\\n{content}', metadata_template='{key}: {value}', metadata_seperator='\\n'),\n",
       " Document(id_='a9871ac2-0a53-4a2e-b0b9-69e129458f69', embedding=None, metadata={}, excluded_embed_metadata_keys=[], excluded_llm_metadata_keys=[], relationships={}, text='President George W. Bush with former President Ford and his wife Betty on April 23, 2006; this is the last known public photo of Gerald Ford.', mimetype='text/plain', start_char_idx=None, end_char_idx=None, text_template='{metadata_str}\\n\\n{content}', metadata_template='{key}: {value}', metadata_seperator='\\n'),\n",
       " Document(id_='dfdf00d1-ab76-4736-b4f6-71f9cf8bb79b', embedding=None, metadata={}, excluded_embed_metadata_keys=[], excluded_llm_metadata_keys=[], relationships={}, text='*On November 12, 2006, Ford became the longest-lived President, surpassing Ronald Reagan.    At the time of his death, he had outlived President Reagan by 45 days.', mimetype='text/plain', start_char_idx=None, end_char_idx=None, text_template='{metadata_str}\\n\\n{content}', metadata_template='{key}: {value}', metadata_seperator='\\n'),\n",
       " Document(id_='ce5ab3da-1769-41c3-b5c8-32eee486f60d', embedding=None, metadata={}, excluded_embed_metadata_keys=[], excluded_llm_metadata_keys=[], relationships={}, text='*Ford was the third longest lived Vice President at the age of 93. The two oldest were John Nance Garner, 98, and Levi P. Morton, 96.', mimetype='text/plain', start_char_idx=None, end_char_idx=None, text_template='{metadata_str}\\n\\n{content}', metadata_template='{key}: {value}', metadata_seperator='\\n'),\n",
       " Document(id_='f54cd18a-0812-48c2-86e5-0ffb04f65128', embedding=None, metadata={}, excluded_embed_metadata_keys=[], excluded_llm_metadata_keys=[], relationships={}, text=\"*Ford died on the 34th anniversary of President Harry Truman's death, the second U.S. President to die on Boxing Day, which Ford's pastor, The Rev. Dr. Robert Certain, noted when he referred to December 26 as its traditional Christian reference, St. Stephen's Day.\", mimetype='text/plain', start_char_idx=None, end_char_idx=None, text_template='{metadata_str}\\n\\n{content}', metadata_template='{key}: {value}', metadata_seperator='\\n'),\n",
       " Document(id_='a501c805-d79f-4b97-b355-fec8315bdf1e', embedding=None, metadata={}, excluded_embed_metadata_keys=[], excluded_llm_metadata_keys=[], relationships={}, text='*Ford had the second longest post-presidency (29 years and 11 months) after Herbert Hoover (31 years and 7 months).', mimetype='text/plain', start_char_idx=None, end_char_idx=None, text_template='{metadata_str}\\n\\n{content}', metadata_template='{key}: {value}', metadata_seperator='\\n'),\n",
       " Document(id_='171f35a1-6667-4ec4-9a0d-a8198481694a', embedding=None, metadata={}, excluded_embed_metadata_keys=[], excluded_llm_metadata_keys=[], relationships={}, text='*Ford was the last surviving member of the Warren Commission. Wilson, Jeff.  Former President Gerald Ford Dies at 93. Associated Press. December 27, 2006. Also available  here.  Retrieved on December 31, 2006.', mimetype='text/plain', start_char_idx=None, end_char_idx=None, text_template='{metadata_str}\\n\\n{content}', metadata_template='{key}: {value}', metadata_seperator='\\n'),\n",
       " Document(id_='598a8a73-3316-4251-a0e9-e6751d4ea8e2', embedding=None, metadata={}, excluded_embed_metadata_keys=[], excluded_llm_metadata_keys=[], relationships={}, text='*Ford is one of only four former Presidents to live to 90 or more years of age. The others are Ronald Reagan (93), John Adams (90) and Herbert Hoover (90).', mimetype='text/plain', start_char_idx=None, end_char_idx=None, text_template='{metadata_str}\\n\\n{content}', metadata_template='{key}: {value}', metadata_seperator='\\n'),\n",
       " Document(id_='ff329cc5-0a17-4d5c-8e59-417f2a4cae52', embedding=None, metadata={}, excluded_embed_metadata_keys=[], excluded_llm_metadata_keys=[], relationships={}, text='Ford died at the age of 93 years and 165 days on December 26, 2006 at 6:45 p.m Pacific Standard Time (02:45, December 27, UTC) at his home in Rancho Mirage, California of  arteriosclerotic cerebrovascular disease and diffuse arteriosclerosis.', mimetype='text/plain', start_char_idx=None, end_char_idx=None, text_template='{metadata_str}\\n\\n{content}', metadata_template='{key}: {value}', metadata_seperator='\\n'),\n",
       " Document(id_='a3c51275-5930-4f29-9e1a-8ea0d026c4ae', embedding=None, metadata={}, excluded_embed_metadata_keys=[], excluded_llm_metadata_keys=[], relationships={}, text='Ford is honored during a memorial service in the U.S. Capitol Rotunda in Washington, D.C. on December 30, 2006.', mimetype='text/plain', start_char_idx=None, end_char_idx=None, text_template='{metadata_str}\\n\\n{content}', metadata_template='{key}: {value}', metadata_seperator='\\n'),\n",
       " Document(id_='dbb2df1f-63fe-4e60-8047-a8d9aa38fc1b', embedding=None, metadata={}, excluded_embed_metadata_keys=[], excluded_llm_metadata_keys=[], relationships={}, text=\"With their father's health failing, all four of Gerald and Betty Ford's children visited their parents' home shortly before Christmas. Mrs. Ford and their three sons, who had celebrated Christmas the day before at home, were at Ford's bedside when he died.  The couple's daughter, Susan, had returned to Albuquerque, New Mexico, the day before Christmas to spend the holiday with her family. No local clergy were present but Ford's eldest son, Michael, is an Evangelical minister and he performed last rites.\", mimetype='text/plain', start_char_idx=None, end_char_idx=None, text_template='{metadata_str}\\n\\n{content}', metadata_template='{key}: {value}', metadata_seperator='\\n'),\n",
       " Document(id_='e445bdc2-f309-4e5f-b245-7a24f0b1ae07', embedding=None, metadata={}, excluded_embed_metadata_keys=[], excluded_llm_metadata_keys=[], relationships={}, text=\"President Ford's tomb at his Presidential Museum in Grand Rapids, Michigan.\", mimetype='text/plain', start_char_idx=None, end_char_idx=None, text_template='{metadata_str}\\n\\n{content}', metadata_template='{key}: {value}', metadata_seperator='\\n'),\n",
       " Document(id_='44f31ab7-5600-4c0d-b442-18e5b0b303ef', embedding=None, metadata={}, excluded_embed_metadata_keys=[], excluded_llm_metadata_keys=[], relationships={}, text='At 8:49 p.m., Ford\\'s wife, Betty, issued a statement that confirmed his death:     \"My family joins me in sharing the difficult news that Gerald Ford, our beloved husband, father, grandfather and great grandfather, has died at 93 years of age. His life was filled with love of God, his family and his country.\"    The statement was released by President Ford\\'s Office. The body was taken to the Eisenhower Medical Center, where it remained until the start of the funeral services on December 29, 2006.', mimetype='text/plain', start_char_idx=None, end_char_idx=None, text_template='{metadata_str}\\n\\n{content}', metadata_template='{key}: {value}', metadata_seperator='\\n'),\n",
       " Document(id_='7f9acfae-78ad-46b0-a1d2-ad21c8ae6035', embedding=None, metadata={}, excluded_embed_metadata_keys=[], excluded_llm_metadata_keys=[], relationships={}, text='On December 30, 2006, Ford became the 11th U.S. President to lie in state.  The burial was preceded by a state funeral and memorial services held at the National Cathedral in Washington, D.C. on January 2, 2007. Ford was eulogized by former President George H. W. Bush, former Secretary of State Henry Kissinger, former NBC Nightly News anchorman Tom Brokaw and current President George W. Bush. On December 28, 2006, the New York Times reported that, at Ford\\'s request, former President Jimmy Carter would deliver a eulogy. Decades ago, \"Mr. Ford asked whether his successor might consider speaking at his funeral and offered, lightheartedly, to do the same for Mr. Carter, depending on who died first\".    Carter delivered an emotional eulogy at the funeral service at Grace Episcopal Church in East Grand Rapids on January 3, 2007. Ford was also eulogized by Donald Rumsfeld, who was Ford\\'s Chief of Staff, and Richard Norton Smith, Presidential historian. The invitation-only list of attendees included Vice President Dick Cheney, Michigan Gov. Jennifer Granholm, and U.S. Senators from Michigan Carl Levin and Debbie Stabenow. ', mimetype='text/plain', start_char_idx=None, end_char_idx=None, text_template='{metadata_str}\\n\\n{content}', metadata_template='{key}: {value}', metadata_seperator='\\n'),\n",
       " Document(id_='ea4d9a60-b535-43eb-9702-6fd0e0b31d56', embedding=None, metadata={}, excluded_embed_metadata_keys=[], excluded_llm_metadata_keys=[], relationships={}, text='After the service, Ford was interred at his Presidential Museum in Grand Rapids, Michigan.', mimetype='text/plain', start_char_idx=None, end_char_idx=None, text_template='{metadata_str}\\n\\n{content}', metadata_template='{key}: {value}', metadata_seperator='\\n'),\n",
       " Document(id_='a4960cd4-ec25-44d6-8c78-2b2059ccbca5', embedding=None, metadata={}, excluded_embed_metadata_keys=[], excluded_llm_metadata_keys=[], relationships={}, text='Michigan 5th district, 1966', mimetype='text/plain', start_char_idx=None, end_char_idx=None, text_template='{metadata_str}\\n\\n{content}', metadata_template='{key}: {value}', metadata_seperator='\\n'),\n",
       " Document(id_='a967e7f2-854f-420d-8f9c-7d3fadff6ea8', embedding=None, metadata={}, excluded_embed_metadata_keys=[], excluded_llm_metadata_keys=[], relationships={}, text='Michigan 5th dictrict, 1968', mimetype='text/plain', start_char_idx=None, end_char_idx=None, text_template='{metadata_str}\\n\\n{content}', metadata_template='{key}: {value}', metadata_seperator='\\n'),\n",
       " Document(id_='f5b6434f-b943-4ed2-94aa-d8beda243042', embedding=None, metadata={}, excluded_embed_metadata_keys=[], excluded_llm_metadata_keys=[], relationships={}, text='Michigan 5th dictrict, 1970', mimetype='text/plain', start_char_idx=None, end_char_idx=None, text_template='{metadata_str}\\n\\n{content}', metadata_template='{key}: {value}', metadata_seperator='\\n'),\n",
       " Document(id_='ec2b10e1-2b4e-4e6d-b2af-8317b71e4b13', embedding=None, metadata={}, excluded_embed_metadata_keys=[], excluded_llm_metadata_keys=[], relationships={}, text='Michigan 5th district, 1972', mimetype='text/plain', start_char_idx=None, end_char_idx=None, text_template='{metadata_str}\\n\\n{content}', metadata_template='{key}: {value}', metadata_seperator='\\n'),\n",
       " Document(id_='04c0a92e-2d57-4d9a-960b-9b7c2490483c', embedding=None, metadata={}, excluded_embed_metadata_keys=[], excluded_llm_metadata_keys=[], relationships={}, text='1976 Republican National Convention', mimetype='text/plain', start_char_idx=None, end_char_idx=None, text_template='{metadata_str}\\n\\n{content}', metadata_template='{key}: {value}', metadata_seperator='\\n'),\n",
       " Document(id_='b356b24c-15fc-492f-9cf0-9fb23f125ea5', embedding=None, metadata={}, excluded_embed_metadata_keys=[], excluded_llm_metadata_keys=[], relationships={}, text='United States presidential election, 1976', mimetype='text/plain', start_char_idx=None, end_char_idx=None, text_template='{metadata_str}\\n\\n{content}', metadata_template='{key}: {value}', metadata_seperator='\\n'),\n",
       " Document(id_='e38623a2-b221-41c5-8b81-de7292fbcb26', embedding=None, metadata={}, excluded_embed_metadata_keys=[], excluded_llm_metadata_keys=[], relationships={}, text='Ford and his golden retriever Liberty in the Oval Office, 1974', mimetype='text/plain', start_char_idx=None, end_char_idx=None, text_template='{metadata_str}\\n\\n{content}', metadata_template='{key}: {value}', metadata_seperator='\\n'),\n",
       " Document(id_='861b27bb-0c40-4cd0-b686-96856159ffe1', embedding=None, metadata={}, excluded_embed_metadata_keys=[], excluded_llm_metadata_keys=[], relationships={}, text='  and   tags and the tag below -->', mimetype='text/plain', start_char_idx=None, end_char_idx=None, text_template='{metadata_str}\\n\\n{content}', metadata_template='{key}: {value}', metadata_seperator='\\n'),\n",
       " Document(id_='e4eb388b-16e4-4647-8323-3614a0b83af6', embedding=None, metadata={}, excluded_embed_metadata_keys=[], excluded_llm_metadata_keys=[], relationships={}, text='*  Hult, Karen M. and Walcott, Charles E.  Empowering the White House: Governance under Nixon, Ford, and Carter. U. Press of Kansas, 2004. ', mimetype='text/plain', start_char_idx=None, end_char_idx=None, text_template='{metadata_str}\\n\\n{content}', metadata_template='{key}: {value}', metadata_seperator='\\n'),\n",
       " Document(id_='e2a5c3b1-9fcc-4743-b743-c33e71db4b47', embedding=None, metadata={}, excluded_embed_metadata_keys=[], excluded_llm_metadata_keys=[], relationships={}, text='*  .', mimetype='text/plain', start_char_idx=None, end_char_idx=None, text_template='{metadata_str}\\n\\n{content}', metadata_template='{key}: {value}', metadata_seperator='\\n'),\n",
       " Document(id_='ee929732-3874-42c7-9b9e-957d023dae2a', embedding=None, metadata={}, excluded_embed_metadata_keys=[], excluded_llm_metadata_keys=[], relationships={}, text='*  First State of the Union Address.', mimetype='text/plain', start_char_idx=None, end_char_idx=None, text_template='{metadata_str}\\n\\n{content}', metadata_template='{key}: {value}', metadata_seperator='\\n'),\n",
       " Document(id_='6a241729-b606-40ba-b63e-8ad02949ead4', embedding=None, metadata={}, excluded_embed_metadata_keys=[], excluded_llm_metadata_keys=[], relationships={}, text='*  Second State of the Union Address.', mimetype='text/plain', start_char_idx=None, end_char_idx=None, text_template='{metadata_str}\\n\\n{content}', metadata_template='{key}: {value}', metadata_seperator='\\n'),\n",
       " Document(id_='3e4b1902-b163-4665-a79a-af37d352aca1', embedding=None, metadata={}, excluded_embed_metadata_keys=[], excluded_llm_metadata_keys=[], relationships={}, text='*  Third State of the Union Address.', mimetype='text/plain', start_char_idx=None, end_char_idx=None, text_template='{metadata_str}\\n\\n{content}', metadata_template='{key}: {value}', metadata_seperator='\\n'),\n",
       " Document(id_='72119b47-7a92-456c-9a72-15d9c8e5a074', embedding=None, metadata={}, excluded_embed_metadata_keys=[], excluded_llm_metadata_keys=[], relationships={}, text='*  Gerald R. Ford Foundation.', mimetype='text/plain', start_char_idx=None, end_char_idx=None, text_template='{metadata_str}\\n\\n{content}', metadata_template='{key}: {value}', metadata_seperator='\\n'),\n",
       " Document(id_='8cd4861d-932d-4fca-bab4-386ba8518d70', embedding=None, metadata={}, excluded_embed_metadata_keys=[], excluded_llm_metadata_keys=[], relationships={}, text='*  Ford Library and Museum.', mimetype='text/plain', start_char_idx=None, end_char_idx=None, text_template='{metadata_str}\\n\\n{content}', metadata_template='{key}: {value}', metadata_seperator='\\n'),\n",
       " Document(id_='537c8fd7-f560-414c-bf56-975f2daf7c1b', embedding=None, metadata={}, excluded_embed_metadata_keys=[], excluded_llm_metadata_keys=[], relationships={}, text='*  National Archives materials.', mimetype='text/plain', start_char_idx=None, end_char_idx=None, text_template='{metadata_str}\\n\\n{content}', metadata_template='{key}: {value}', metadata_seperator='\\n'),\n",
       " Document(id_='d4c7302b-d985-4976-9845-1357ab56df3f', embedding=None, metadata={}, excluded_embed_metadata_keys=[], excluded_llm_metadata_keys=[], relationships={}, text=\"*  Hauenstein Center for Presidential Studies in President Ford's hometown.\", mimetype='text/plain', start_char_idx=None, end_char_idx=None, text_template='{metadata_str}\\n\\n{content}', metadata_template='{key}: {value}', metadata_seperator='\\n'),\n",
       " Document(id_='b04cc890-f0eb-4ac8-a295-1322c70a4a7f', embedding=None, metadata={}, excluded_embed_metadata_keys=[], excluded_llm_metadata_keys=[], relationships={}, text=\"* ABC News Special Report - Announcement of President Ford's death.\", mimetype='text/plain', start_char_idx=None, end_char_idx=None, text_template='{metadata_str}\\n\\n{content}', metadata_template='{key}: {value}', metadata_seperator='\\n'),\n",
       " Document(id_='6de1638c-5c13-4ec0-b05a-f2860de8b3db', embedding=None, metadata={}, excluded_embed_metadata_keys=[], excluded_llm_metadata_keys=[], relationships={}, text='Thomas Woodrow Wilson (December 28, 1856â\\x80\\x93February 3, 1924), was the twenty-eighth President of the United States. A devout Presbyterian and leading \"intellectual\" of the Progressive Era, he served as president of Princeton University then became the reform governor of New Jersey in 1910. With Theodore Roosevelt and William Howard Taft dividing the Republican vote, Wilson was elected President as a Democrat in 1912. He proved highly successful in leading a Democratic Congress to pass major legislation including the Federal Trade Commission, the Clayton Antitrust Act, the Underwood Tariff, the Federal Farm Loan Act and most notably the Federal Reserve System.', mimetype='text/plain', start_char_idx=None, end_char_idx=None, text_template='{metadata_str}\\n\\n{content}', metadata_template='{key}: {value}', metadata_seperator='\\n'),\n",
       " Document(id_='0edc0171-4915-4c8c-b847-3d1ba4f82392', embedding=None, metadata={}, excluded_embed_metadata_keys=[], excluded_llm_metadata_keys=[], relationships={}, text='Narrowly re-elected in 1916, his second term centered on World War I. He tried to maintain U.S. neutrality, but when Germany began unrestricted submarine warfare he wrote several admonishing notes to Germany. Subsequently he asked Congress to declare war on the Central Powers. He focused on diplomacy and financial considerations, leaving the waging of the war primarily in the hands of the military establishment. On the home front he began the first effective draft in 1917, raised billions through Liberty loans, imposed an income tax, set up the War Industries Board, promoted labor union growth, supervised agriculture and food production through the Lever Act, took over control of the railroads, and suppressed anti-war movements.  He paid surprisingly little attention to military affairs, but provided the funding and food supplies that helped the Americans in the war Allied victory in 1918 possible.', mimetype='text/plain', start_char_idx=None, end_char_idx=None, text_template='{metadata_str}\\n\\n{content}', metadata_template='{key}: {value}', metadata_seperator='\\n'),\n",
       " Document(id_='22b80434-5652-44a9-835a-da91f7bf4bb1', embedding=None, metadata={}, excluded_embed_metadata_keys=[], excluded_llm_metadata_keys=[], relationships={}, text='In the late stages of the war he took personal control of negotiations with Germany, especially with the Fourteen Points and the Armistice. He went to Paris in 1919 to create the League of Nations and shape the Treaty of Versailles, with special attention on creating new nations out of defunct empires. Wilson collapsed with a debilitating stroke in 1919, as the home front saw massive strikes and race riots, and wartime prosperity turn into postwar depression. He refused to compromise with the Republicans who controlled Congress after 1918, effectively destroying any chance for ratification of the Treaty of Versailles. The League of Nations went into operation anyway, but the U.S. never joined. Wilson\\'s idealistic internationalism, whereby the U.S. enters the world arena to fight for democracy, progressiveness, and liberalism, has been a highly controversial position in American foreign policy, serving as a model for \"idealists\" to emulate or \"realists\" to reject for the following century.', mimetype='text/plain', start_char_idx=None, end_char_idx=None, text_template='{metadata_str}\\n\\n{content}', metadata_template='{key}: {value}', metadata_seperator='\\n'),\n",
       " Document(id_='f4593e0d-9675-495c-84c8-0243cd4ca8bd', embedding=None, metadata={}, excluded_embed_metadata_keys=[], excluded_llm_metadata_keys=[], relationships={}, text=\"Thomas Woodrow Wilson was born in Staunton, Virginia in 1856 as the third of four children to Reverend Dr. Joseph Wilson (1822â\\x80\\x931903) and Janet Woodrow (1826â\\x80\\x931888). His ancestry was Scots-Irish and Scottish. His paternal grandparents immigrated to the United States from Strabane, County Tyrone, Ireland, while his mother was born in London to Scottish parents. Wilson's father was originally from Steubenville, Ohio where his grandfather had been an abolitionist newspaper publisher and his uncles were Republicans. But his parents moved South in 1851 and identified with the Confederacy. His father defended slavery, owned slaves and set up a Sunday school for them. They cared for wounded soldiers at their church. The father also briefly served as a chaplain to the Confederate army. Wilsonâ\\x80\\x99s father was one of the founders of the Southern Presbyterian Church in the United States (PCUS) after it split from the northern Presbyterians in 1861. Joseph R. Wilson served as the first permanent clerk of the southern churchâ\\x80\\x99s General Assembly, was Stated Clerk from 1865-1898 and was Moderator of the PCUS General Assembly in 1879. Wilson spent the majority of his childhood, up to age 14, in Augusta, Georgia, where his father was minister of the First Presbyterian Church. Wilson did not learn to read until he was about 12 years old. His difficulty reading may have indicated dyslexia or A.D.D., but as a teenager he taught himself shorthand to compensate and was able to achieve academically through determination and self-discipline.  He studied at home under his father's guidance and took classes in a small school in Augusta. Link Road to the White House pp. 3-4.  During Reconstruction he lived in Columbia, South Carolina, the state capital, from 1870-1874, where his father was professor at the Columbia Theological Seminary.  Walworth ch 1  In 1873 he spent a year at Davidson College in North Carolina, then transferred to Princeton as a freshman, graduating in 1879. Beginning in his second year, he read widely in political philosophy and history. He was active in the undergraduate discussion club, and organized a separate Liberal Debating Society.  Link, Wilson I:5-6; Wilson Papers I: 130, 245, 314\", mimetype='text/plain', start_char_idx=None, end_char_idx=None, text_template='{metadata_str}\\n\\n{content}', metadata_template='{key}: {value}', metadata_seperator='\\n'),\n",
       " Document(id_='ad885eea-6714-4e7a-98cd-ffe2658068b6', embedding=None, metadata={}, excluded_embed_metadata_keys=[], excluded_llm_metadata_keys=[], relationships={}, text='In 1879, Wilson attended law school at University of Virginia for one year but he never graduated. His frail health dictated withdrawal, and he went home to Wilmington, North Carolina where he continued his studies. Wilson was also a member of the Phi Kappa Psi fraternity. In 1885, he married Ellen Louise Axson, the daughter of a minister from Rome, Georgia.', mimetype='text/plain', start_char_idx=None, end_char_idx=None, text_template='{metadata_str}\\n\\n{content}', metadata_template='{key}: {value}', metadata_seperator='\\n'),\n",
       " Document(id_='a9226938-6fbf-44dd-af88-fd2ecc460746', embedding=None, metadata={}, excluded_embed_metadata_keys=[], excluded_llm_metadata_keys=[], relationships={}, text=\"Wilsonâ\\x80\\x99s mother was probably a hypochondriac and Wilson seemed to think that he was often in poorer health than he really was.  However, he did suffer from hyper-tension at a relatively early age and may have suffered his first stroke at age 39.  He cycled regularly, including several cycling vacations in the Lake District in Britain.  Unable to cycle around Washington, D.C. as President, Wilson took to playing golf, although he played with more enthusiasm than skill.  During the winter the Secret Service would paint some golf balls black so Wilson could hit them around in the snow on the White House lawn.  for details on Wilson's health see Edwin A. Weinstein, Woodrow Wilson: A Medical and Psychological Biography (Princeton 1981)\", mimetype='text/plain', start_char_idx=None, end_char_idx=None, text_template='{metadata_str}\\n\\n{content}', metadata_template='{key}: {value}', metadata_seperator='\\n'),\n",
       " Document(id_='0ab2e6dc-8d81-4201-91f7-bb518e463461', embedding=None, metadata={}, excluded_embed_metadata_keys=[], excluded_llm_metadata_keys=[], relationships={}, text='In January 1882, Wilson decided to start his first law practice in Atlanta. One of Wilsonâ\\x80\\x99s University of Virginia classmates, Edward Ireland Renick, invited Wilson to join his new law practice as partner.  Wilson joined him there in May 1882.  He passed the Georgia Bar. On October 19,1882 he appeared in court before Judge George Hillyer to take his examination for the bar, which he passed with flying colors and he began work on his thesis Congressional Government in the United States.  Competition was fierce in the city with 143 other lawyers, so with few cases to keep him occupied, Wilson quickly grew disillusioned. Moreover, Wilson had studied law in order to eventually enter politics, but he discovered that he could not continue his study of government and simultaneously continue the reading of law necessary to stay proficient. In April 1883, Wilson applied to the new Johns Hopkins University to study for a Ph.D. in history and political science, which he completed in 1886.     He is the only president to date to have earned a Ph.D. In July 1883, Wilson left his law practice to begin his academic studies.   Mulder, John H. Woodrow Wilson: The Years of Preparation. (Princeton, 1978) 71-72.  .', mimetype='text/plain', start_char_idx=None, end_char_idx=None, text_template='{metadata_str}\\n\\n{content}', metadata_template='{key}: {value}', metadata_seperator='\\n'),\n",
       " Document(id_='bd5e5b06-c60b-4459-bc75-cfe10f966f1a', embedding=None, metadata={}, excluded_embed_metadata_keys=[], excluded_llm_metadata_keys=[], relationships={}, text='Wilson came of age in the decades after the American Civil War, when Congress was supreme ', mimetype='text/plain', start_char_idx=None, end_char_idx=None, text_template='{metadata_str}\\n\\n{content}', metadata_template='{key}: {value}', metadata_seperator='\\n'),\n",
       " Document(id_='6f3404b7-eff4-48a2-9454-e955fb556a88', embedding=None, metadata={}, excluded_embed_metadata_keys=[], excluded_llm_metadata_keys=[], relationships={}, text='the gist of all policy is decided by the legislature', mimetype='text/plain', start_char_idx=None, end_char_idx=None, text_template='{metadata_str}\\n\\n{content}', metadata_template='{key}: {value}', metadata_seperator='\\n'),\n",
       " Document(id_='f69a9bff-873e-4b6b-935d-cd1452a1facf', embedding=None, metadata={}, excluded_embed_metadata_keys=[], excluded_llm_metadata_keys=[], relationships={}, text=' and corruption was rampant. Instead of focusing on individuals in explaining where American politics went wrong, Wilson focused on the American constitutional structure. Congressional Government, 180', mimetype='text/plain', start_char_idx=None, end_char_idx=None, text_template='{metadata_str}\\n\\n{content}', metadata_template='{key}: {value}', metadata_seperator='\\n'),\n",
       " Document(id_='12dd478e-2897-4fa7-bdf9-0edd05e37041', embedding=None, metadata={}, excluded_embed_metadata_keys=[], excluded_llm_metadata_keys=[], relationships={}, text=\"Under the influence of Walter Bagehot's The English Constitution, Wilson saw the United States Constitution as pre-modern, cumbersome, and open to corruption. An admirer of Parliament (though he first visited London in 1919), Wilson favored a parliamentary system for the United States. Writing in the early 1880s, Wilson wrote:\", mimetype='text/plain', start_char_idx=None, end_char_idx=None, text_template='{metadata_str}\\n\\n{content}', metadata_template='{key}: {value}', metadata_seperator='\\n'),\n",
       " Document(id_='f911b409-084e-4325-bcea-e9efefdc625d', embedding=None, metadata={}, excluded_embed_metadata_keys=[], excluded_llm_metadata_keys=[], relationships={}, text='Wilson started Congressional Government, his best known political work, as an argument for a parliamentary system, but Wilson was impressed by Grover Cleveland, and Congressional Government emerged as a critical description of America\\'s system, with frequent negative comparisons to Westminster. Wilson himself claimed, \"I am pointing out facts diagnosing, not prescribing remedies.\". Congressional Government, 205', mimetype='text/plain', start_char_idx=None, end_char_idx=None, text_template='{metadata_str}\\n\\n{content}', metadata_template='{key}: {value}', metadata_seperator='\\n'),\n",
       " Document(id_='b6325f64-99de-43c9-8596-dbdd81263924', embedding=None, metadata={}, excluded_embed_metadata_keys=[], excluded_llm_metadata_keys=[], relationships={}, text=\"Wilson believed that America's intricate system of checks and balances was the cause of the problems in American governance. He said that the divided power made it impossible for voters to see who was accountable for ill-doing. If government behaved badly, Wilson asked,\", mimetype='text/plain', start_char_idx=None, end_char_idx=None, text_template='{metadata_str}\\n\\n{content}', metadata_template='{key}: {value}', metadata_seperator='\\n'),\n",
       " Document(id_='8ab8c462-04c5-4b32-8655-c65ecb0f4665', embedding=None, metadata={}, excluded_embed_metadata_keys=[], excluded_llm_metadata_keys=[], relationships={}, text='The longest section of Congressional Government is on the United States House of Representatives, where Wilson pours out scorn for the committee system. Power, Wilson wrote, \"is divided up, as it were, into forty-seven signatories, in each of which a Standing Committee is the court baron and its chairman lord proprietor. These petty barons, some of them not a little powerful, but none of them within reach [of] the full powers of rule, may at will exercise an almost despotic sway within their own shires, and may sometimes threaten to convulse even the realm itself.\". Congressional Government, 76  Wilson said that the committee system was fundamentally undemocratic, because committee chairs, who ruled by seniority, were responsible to no one except their constituents, even though they determined national policy.', mimetype='text/plain', start_char_idx=None, end_char_idx=None, text_template='{metadata_str}\\n\\n{content}', metadata_template='{key}: {value}', metadata_seperator='\\n'),\n",
       " Document(id_='c738e51c-3ee6-4244-aaec-6e73ee885fea', embedding=None, metadata={}, excluded_embed_metadata_keys=[], excluded_llm_metadata_keys=[], relationships={}, text='In addition to their undemocratic nature, Wilson also believed that the Committee System facilitated corruption.', mimetype='text/plain', start_char_idx=None, end_char_idx=None, text_template='{metadata_str}\\n\\n{content}', metadata_template='{key}: {value}', metadata_seperator='\\n'),\n",
       " Document(id_='f04438c8-7ed9-45df-aac8-dfa2b66469dc', embedding=None, metadata={}, excluded_embed_metadata_keys=[], excluded_llm_metadata_keys=[], relationships={}, text='By the time Wilson finished Congressional Government, Grover Cleveland was President, and Wilson had his faith in the United States government restored.  When William Jennings Bryan captured the Democratic nomination from Cleveland\\'s supporters in 1896, however, Wilson refused to stand by the ticket.  Instead, he cast his ballot for John M. Palmer, the presidential candidate of the National Democratic Party, or Gold Democrats, a short-lived party that supported a gold standard, low tariffs, and limited government.  David T. Beito and Linda Royster Beito,  \"Gold Democrats and the Decline of Classical Liberalism, 1896-1900,\"Independent Review 4 (Spring 2000), 555-75.', mimetype='text/plain', start_char_idx=None, end_char_idx=None, text_template='{metadata_str}\\n\\n{content}', metadata_template='{key}: {value}', metadata_seperator='\\n'),\n",
       " Document(id_='078e5eb9-86ba-422b-9a89-2dd7b3134b24', embedding=None, metadata={}, excluded_embed_metadata_keys=[], excluded_llm_metadata_keys=[], relationships={}, text='After experiencing the vigorous presidencies from William McKinley and Theodore Roosevelt, Wilson no longer entertained thoughts of parliamentary government at home. In his last scholarly work in 1908, Constitutional Government of the United States, Wilson said that the presidency \"will be as big as and as influential as the man who occupies it\". By the time of his presidency, Wilson merely hoped that Presidents could be party leaders in the same way prime ministers were. Wilson also hoped that the parties could be reorganized along ideological, not geographic, lines. \"Eight words,\" Wilson wrote, \"contain the sum of the present degradation of our political parties: No leaders, no principles; no principles, no parties.\" Frozen Republic, 145', mimetype='text/plain', start_char_idx=None, end_char_idx=None, text_template='{metadata_str}\\n\\n{content}', metadata_template='{key}: {value}', metadata_seperator='\\n'),\n",
       " Document(id_='4eeee8ec-950d-49a2-b237-eeabd3bed1c1', embedding=None, metadata={}, excluded_embed_metadata_keys=[], excluded_llm_metadata_keys=[], relationships={}, text='Wilson served on the faculties of Bryn Mawr College and Wesleyan University (where he also coached the football team) and founded the Wesleyan University debate team (which to this date is named the T. Woodrow Wilson debate team) before joining the Princeton faculty as professor of jurisprudence and political economy in 1890. While there, he was one of the faculty members of the short-lived coordinate college, Evelyn College for Women.  Additionally, Wilson became the first lecturer of Constitutional Law at New York Law School where he taught with Charles Evans Hughes.', mimetype='text/plain', start_char_idx=None, end_char_idx=None, text_template='{metadata_str}\\n\\n{content}', metadata_template='{key}: {value}', metadata_seperator='\\n'),\n",
       " Document(id_='0f54eb7d-4afb-44d8-a8e8-dbd0820d47e2', embedding=None, metadata={}, excluded_embed_metadata_keys=[], excluded_llm_metadata_keys=[], relationships={}, text='Wilson delivered an oration at Princeton\\'s sesquicentennial celebration (1896) entitled \"Princeton in the Nation\\'s Service.\" (This has become a frequently alluded-to motto of the University, later expanded to \"Princeton in the Nation\\'s Service and in the Service of All Nations.\"  \"Beyond FitzRandolph Gates,\" Princeton Weekly Bulletin June 22, 1998. ) In this famous speech, he outlined his vision of the university in a democratic nation, calling on institutions of higher learning \"to illuminate duty by every lesson that can be drawn out of the past\".', mimetype='text/plain', start_char_idx=None, end_char_idx=None, text_template='{metadata_str}\\n\\n{content}', metadata_template='{key}: {value}', metadata_seperator='\\n'),\n",
       " Document(id_='9d10ae75-0710-47e9-b721-af52df0bf419', embedding=None, metadata={}, excluded_embed_metadata_keys=[], excluded_llm_metadata_keys=[], relationships={}, text=\"Prospect House, located in the center of Princeton's campus, was Wilson's residence during his term as president of the university.\", mimetype='text/plain', start_char_idx=None, end_char_idx=None, text_template='{metadata_str}\\n\\n{content}', metadata_template='{key}: {value}', metadata_seperator='\\n'),\n",
       " Document(id_='71cdb37b-3e12-44d1-b059-7cba814c01a1', embedding=None, metadata={}, excluded_embed_metadata_keys=[], excluded_llm_metadata_keys=[], relationships={}, text='The trustees promoted Professor Wilson to president of Princeton in 1902. He had bold plans. Although the school\\'s endowment was barely $4 million, he sought $2 million for a preceptorial system of teaching, $1 million for a school of science, and nearly $3 million for new buildings and salary raises. As a long-term objective, Wilson sought $3 million for a graduate school and $2.5 million for schools of jurisprudence and electrical engineering, as well as a museum of natural history. He achieved little of that because he was not a strong fund raiser, but he did increase the faculty from 112 to 174 men, most of them personally selected as outstanding teachers. The curriculum guidelines he developed proved important progressive innovations in the field of higher education. To enhance the role of expertise, Wilson instituted academic departments and a system of core requirements where students met in groups of six with preceptors, followed by two years of concentration in a selected major. He tried to raise admission standards and to replace the \"gentleman C\" with serious study. Wilson aspired, as he told alumni, \"to transform thoughtless boys performing tasks into thinking men.\"', mimetype='text/plain', start_char_idx=None, end_char_idx=None, text_template='{metadata_str}\\n\\n{content}', metadata_template='{key}: {value}', metadata_seperator='\\n'),\n",
       " Document(id_='4fbdb35d-438d-4fa1-9e29-19a1dff0f879', embedding=None, metadata={}, excluded_embed_metadata_keys=[], excluded_llm_metadata_keys=[], relationships={}, text='In 1906-10, he attempted to curtail the influence of the elitist \"social clubs\" by moving the students into colleges. This was met with resistance from many alumni. Wilson felt that to compromise \"would be to temporize with evil.\" Walworth 1:109  Even more damaging was his confrontation with Andrew Fleming West, Dean of the graduate school, and West\\'s ally, former President Grover Cleveland, a trustee. Wilson wanted to integrate the proposed graduate building into the same area with the undergraduate colleges; West wanted them separated. The trustees rejected Wilson\\'s plan for colleges in 1908, and then endorsed West\\'s plans in 1909. The national press covered the confrontation as a battle of the elites (West) versus democracy (Wilson). Wilson, after considering resignation, decided to take up invitations to move into New Jersey state politics. Walworth v 1 ch 6, 7, 8', mimetype='text/plain', start_char_idx=None, end_char_idx=None, text_template='{metadata_str}\\n\\n{content}', metadata_template='{key}: {value}', metadata_seperator='\\n'),\n",
       " Document(id_='1b82c175-bafd-4172-b7bf-45773743929c', embedding=None, metadata={}, excluded_embed_metadata_keys=[], excluded_llm_metadata_keys=[], relationships={}, text=\"During the New Jersey election of 1910, the Democrats took control of the state house and Wilson was elected governor. The state senate, however, remained in Republican control by a slim margin. After taking office, Wilson set in place his reformist agenda, ignoring what party bosses told him he was to do. While governor, in a period spanning six months, Wilson established state primaries. This all but took the party bosses out of the presidential election process in the state. He also revamped the public utility commission, and introduced worker's compensation. Shenkman, Richard. p. 275. Presidential Ambition. New York, New York. Harper Collins Publishing, 1999. First Edition. 0-06-018373-X\", mimetype='text/plain', start_char_idx=None, end_char_idx=None, text_template='{metadata_str}\\n\\n{content}', metadata_template='{key}: {value}', metadata_seperator='\\n'),\n",
       " Document(id_='54141e6d-8e25-4cba-bd39-2f7d3cc725f0', embedding=None, metadata={}, excluded_embed_metadata_keys=[], excluded_llm_metadata_keys=[], relationships={}, text=\"Wilson made himself known at the Democratic Convention in 1912, again denouncing the party bosses by declaring his opponent Champ Clark, the Speaker of the House, as a party boss man. This allowed him to come away with the party's nomination for the President. Shenkman, Richard. p. 275. Presidential Ambition. New York, New York. Harper Collins Publishing, 1999. First Edition. 0-06-018373-X  The Democratic National Committee met in Baltimore in 1912 to select Wilson as their candidate.  He then chose the officers of the Democratic National Committee that would serve the campaign: Charles R. Crane (Taft's Ambassador to China), Vice-President of the Finance Committee; Rolla Wells, twice mayor of St. Louis (from 1901 to 1909), and later Governor of the Federal Reserve Bank at St. Louis, as Treasurer; Henry Morgenthau, Sr., President of the Finance Committee.  His running mate was Gov. Thomas R. Marshall of Indiana. New York Times, Aug 7, 1912\", mimetype='text/plain', start_char_idx=None, end_char_idx=None, text_template='{metadata_str}\\n\\n{content}', metadata_template='{key}: {value}', metadata_seperator='\\n'),\n",
       " Document(id_='8f40cbe9-bb80-44eb-a3fb-222cbb1d1b29', embedding=None, metadata={}, excluded_embed_metadata_keys=[], excluded_llm_metadata_keys=[], relationships={}, text='In the election Wilson ran against two major candidates, incumbent President William Howard Taft and former president Theodore Roosevelt, who broke with Taft and the Republican Party and created the Progressive Party. The election was bitterly contested. Vice President James S. Sherman died on October 30, 1912, less than a week before the election, leaving Taft without a running mate. And with the Republican Party divided, Wilson captured the presidency handily on November 5. Wilson won with just 41.8% of the votes, but he won 435 electoral votes.', mimetype='text/plain', start_char_idx=None, end_char_idx=None, text_template='{metadata_str}\\n\\n{content}', metadata_template='{key}: {value}', metadata_seperator='\\n'),\n",
       " Document(id_='c4ce343d-f2eb-4ddb-9987-c83433648604', embedding=None, metadata={}, excluded_embed_metadata_keys=[], excluded_llm_metadata_keys=[], relationships={}, text='Wilson experienced early success by implementing his \"New Freedom\" pledges of antitrust modification, tariff revision, and reform in banking and currency matters.', mimetype='text/plain', start_char_idx=None, end_char_idx=None, text_template='{metadata_str}\\n\\n{content}', metadata_template='{key}: {value}', metadata_seperator='\\n'),\n",
       " Document(id_='f9eaa60d-bae1-4781-9478-532a41a8d056', embedding=None, metadata={}, excluded_embed_metadata_keys=[], excluded_llm_metadata_keys=[], relationships={}, text=\"Wilson's first wife Ellen died on August 6, 1914 of Bright's disease. In 1915, he met Edith Galt. They married later that year on December 18.\", mimetype='text/plain', start_char_idx=None, end_char_idx=None, text_template='{metadata_str}\\n\\n{content}', metadata_template='{key}: {value}', metadata_seperator='\\n'),\n",
       " Document(id_='413b143e-a7c9-4fc0-8301-c859778e286b', embedding=None, metadata={}, excluded_embed_metadata_keys=[], excluded_llm_metadata_keys=[], relationships={}, text='The Federal Reserve Act was the most important legislation of the Wilson era and one of the most important pieces of legislation in the history of the United States.  Arthur S. Link, \"Woodrow Wilson\" in Henry F. Graff ed., The Presidents: A Reference History (2002) p 370   Wilson had to outmaneuver bankers and enemies of banks, North and South, Democrats and Republicans to secure passage of the Federal Reserve system in late 1913. [Link 1954 pp 43-53; Link 1956 pp 199-240]  He took a plan that had been designed by conservative Republicans led by Nelson W. Aldrich and banker Paul M. Warburg and passed it. However, Wilson had to find a middle ground between those who supported the Aldrich Plan and those who opposed it, including the powerful agrarian wing of the party, led by William Jennings Bryan, which strenuously denounced banks and Wall Street. They wanted a government-owned central bank which could print paper money whenever Congress wanted.  Wilsonâ\\x80\\x99s plan still allowed the large banks to have important influence, but Wilson went beyond the Aldrich plan and created a central board made up of persons appointed by the President and approved by Congress who would outnumber the board members who were bankers.  Moreover, Wilson convinced Bryanâ\\x80\\x99s supporters that because Federal Reserve notes were obligations of the government, the plan fit their demands.  Wilsonâ\\x80\\x99s plan also decentralized the Federal Reserve system into 12 districts.  This was designed to weaken the influence of the powerful  New York banks, a key demand of Bryanâ\\x80\\x99s allies in the South and West. This decentralization was a key factor in winning the support of Congressman Carter Glass (D-VA) although he objected to making paper currency a federal obligation.  Glass was one of the leaders of the currency reformers in the U.S. House and without his support, any plan was doomed to fail.  The final plan passed, in December 1913, despite opposition by bankers, who felt it gave too much control to Washington, and by some reformers, who felt it allowed bankers to maintain too much power.', mimetype='text/plain', start_char_idx=None, end_char_idx=None, text_template='{metadata_str}\\n\\n{content}', metadata_template='{key}: {value}', metadata_seperator='\\n'),\n",
       " Document(id_='cab7df9e-a7ab-4566-858b-ca4910c6802c', embedding=None, metadata={}, excluded_embed_metadata_keys=[], excluded_llm_metadata_keys=[], relationships={}, text=\"Wilson named Warburg and other prominent bankers to direct the new system. Despite the reformers' hopes, the New York branch dominated the Fed and thus power remained in Wall Street. The new system began operations in 1915 and played a major role in financing the Allied and American war efforts.\", mimetype='text/plain', start_char_idx=None, end_char_idx=None, text_template='{metadata_str}\\n\\n{content}', metadata_template='{key}: {value}', metadata_seperator='\\n'),\n",
       " Document(id_='d38bbc5c-c3a9-4ff0-ab3b-a1fd8c10771a', embedding=None, metadata={}, excluded_embed_metadata_keys=[], excluded_llm_metadata_keys=[], relationships={}, text='Wilson\\'s early views on international affairs and trade were stated in his Columbia University lectures of April 1907 where he said: \"Since trade ignores national boundaries and the manufacturer insists on having the world as a market, the flag of his nation must follow him, and the doors of the nations which are closed must be battered downâ\\x80¦Concessions obtained by financiers must be safeguarded by ministers of state, even if the sovereignty of unwilling nations be outraged in the process. Colonies must be obtained or planted, in order that no useful corner of the world may be overlooked or left unused\". -- From Lecture at Columbia University (April 1907)', mimetype='text/plain', start_char_idx=None, end_char_idx=None, text_template='{metadata_str}\\n\\n{content}', metadata_template='{key}: {value}', metadata_seperator='\\n'),\n",
       " Document(id_='49f0ec37-d6ae-414a-9edf-e6dbb6b0d73d', embedding=None, metadata={}, excluded_embed_metadata_keys=[], excluded_llm_metadata_keys=[], relationships={}, text='(cited in William Appleman William\\'s book, \"The Tragedy of American Diplomacy\", p. 72).', mimetype='text/plain', start_char_idx=None, end_char_idx=None, text_template='{metadata_str}\\n\\n{content}', metadata_template='{key}: {value}', metadata_seperator='\\n'),\n",
       " Document(id_='d2772d4d-d9bb-4415-b280-2e7dbdb0d47f', embedding=None, metadata={}, excluded_embed_metadata_keys=[], excluded_llm_metadata_keys=[], relationships={}, text='In 1913, the Underwood tariff lowered the tariff. The revenue thereby lost was replaced by a new federal income tax (authorized by the 16th Amendment, which had been sponsored by the Republicans). The \"Seaman\\'s Act\" of 1915 improved working conditions for merchant sailors. As response to the RMS Titanic disaster, it also required all ships to be retrofitted with lifeboats.', mimetype='text/plain', start_char_idx=None, end_char_idx=None, text_template='{metadata_str}\\n\\n{content}', metadata_template='{key}: {value}', metadata_seperator='\\n'),\n",
       " Document(id_='51482a7f-779d-4c8e-8bd9-f50a3a9c4a2c', embedding=None, metadata={}, excluded_embed_metadata_keys=[], excluded_llm_metadata_keys=[], relationships={}, text='A series of programs were targeted at farmers. The \"Smith Lever\" act of 1914 created the modern system of agricultural extension agents sponsored by the state agricultural colleges.  The agents taught new techniques to farmers. The 1916 \"Federal Farm Loan Board\" issued low-cost long-term mortgages to farmers.', mimetype='text/plain', start_char_idx=None, end_char_idx=None, text_template='{metadata_str}\\n\\n{content}', metadata_template='{key}: {value}', metadata_seperator='\\n'),\n",
       " Document(id_='79cd764f-9569-4f05-bb7c-822230282fb9', embedding=None, metadata={}, excluded_embed_metadata_keys=[], excluded_llm_metadata_keys=[], relationships={}, text='Child labor was curtailed by the Keating-Owen act of 1916, but the U.S. Supreme Court declared it unconstitutional in 1918. Additional child labor bills would not be enacted until the 1930s.', mimetype='text/plain', start_char_idx=None, end_char_idx=None, text_template='{metadata_str}\\n\\n{content}', metadata_template='{key}: {value}', metadata_seperator='\\n'),\n",
       " Document(id_='074ba684-547c-42ea-83c0-85c4b8eabc56', embedding=None, metadata={}, excluded_embed_metadata_keys=[], excluded_llm_metadata_keys=[], relationships={}, text='The railroad brotherhoods threatened in summer 1916 to shut down the national transportation system. Wilson tried to bring labor and management together, but when management refused he had Congress pass the \"Adamson Act\" in September 1916, which avoided the strike by imposing an 8-hour work day in the industry (at the same pay as before). It helped Wilson gain union support for his reelection; the act was approved by the Supreme Court.', mimetype='text/plain', start_char_idx=None, end_char_idx=None, text_template='{metadata_str}\\n\\n{content}', metadata_template='{key}: {value}', metadata_seperator='\\n'),\n",
       " Document(id_='46c50000-c279-47c2-914d-2192d89f851f', embedding=None, metadata={}, excluded_embed_metadata_keys=[], excluded_llm_metadata_keys=[], relationships={}, text='Wilson uses tariff, currency and anti-trust laws to prime the pump and get the economy working in a 1913 political cartoon', mimetype='text/plain', start_char_idx=None, end_char_idx=None, text_template='{metadata_str}\\n\\n{content}', metadata_template='{key}: {value}', metadata_seperator='\\n'),\n",
       " Document(id_='e92824bf-c412-460d-afde-aa779ba468af', embedding=None, metadata={}, excluded_embed_metadata_keys=[], excluded_llm_metadata_keys=[], relationships={}, text='Wilson broke with the \"big-lawsuit\" tradition of his predecessors Taft and Roosevelt as \"Trustbusters\", finding a new approach to encouraging competition through the Federal Trade Commission, which stopped \"unfair\" trade practices. In addition, he pushed through Congress the Clayton Antitrust Act making certain business practices illegal (such as price discrimination, agreements forbidding retailers from handling other companiesâ\\x80\\x99 products, and directorates and agreements to control other companies). The power of this legislation was greater than previous anti-trust laws, because individual officers of corporations could be held responsible if their companies violated the laws. More importantly, the new laws set out clear guidelines that corporations could follow, a dramatic improvement over the previous uncertainties. This law was considered the \"Magna Carta\" of labor by Samuel Gompers because it ended union liability antitrust laws. In 1916, under threat of a national railroad strike, he approved legislation that increased wages and cut working hours of railroad employees; there was no strike.', mimetype='text/plain', start_char_idx=None, end_char_idx=None, text_template='{metadata_str}\\n\\n{content}', metadata_template='{key}: {value}', metadata_seperator='\\n'),\n",
       " Document(id_='cff91a02-594f-4944-afa1-47bc068d6b88', embedding=None, metadata={}, excluded_embed_metadata_keys=[], excluded_llm_metadata_keys=[], relationships={}, text='Wilson spent 1914 through the beginning of 1917 trying to keep America out of the war in Europe. He offered to be a mediator, but neither the Allies nor the Central Powers took his requests seriously. Republicans, led by Theodore Roosevelt, strongly criticized Wilsonâ\\x80\\x99s refusal to build up the U.S. Army in anticipation of the threat of war. Wilson won the support of the U.S. peace element by arguing that an army buildup would provoke war. He vigorously protested Germanyâ\\x80\\x99s use of submarines as illegal, causing his Secretary of State William Jennings Bryan to resign in protest in 1915.', mimetype='text/plain', start_char_idx=None, end_char_idx=None, text_template='{metadata_str}\\n\\n{content}', metadata_template='{key}: {value}', metadata_seperator='\\n'),\n",
       " Document(id_='e7718097-b63f-4e8d-8c3e-c9ded416a578', embedding=None, metadata={}, excluded_embed_metadata_keys=[], excluded_llm_metadata_keys=[], relationships={}, text='While German submarines were sinking allied ships, Britain had declared a blockade of Germany, preventing neutral shipping carrying â\\x80\\x9ccontrabandâ\\x80\\x9d goods to Germany.  Wilson protested this violation of neutral rights by London. However, his protests to the British were not viewed as being as forceful as those he directed towards Germany.  This reflects the fact that while Britain was violating international law towards neutral shipping by mining international harbors and killing sailors (including Americans), their violations were not direct attacks on the shipping of Americans or other neutrals, while German submarine warfare directly targeted shipping that benefited their enemies, neutral or not, violating international law and resulting in visible American deaths.', mimetype='text/plain', start_char_idx=None, end_char_idx=None, text_template='{metadata_str}\\n\\n{content}', metadata_template='{key}: {value}', metadata_seperator='\\n'),\n",
       " Document(id_='0f3cf658-116d-4714-b4d0-9fc84e3a4759', embedding=None, metadata={}, excluded_embed_metadata_keys=[], excluded_llm_metadata_keys=[], relationships={}, text='Renominated in 1916, Wilson\\'s major campaign slogan was \"He kept us out of the war\" referring to his administration\\'s avoiding open conflict with Germany or Mexico while maintaining a firm national policy. Wilson, however, never promised to keep out of war regardless of provocation. In his acceptance speech on September 2, 1916, Wilson pointedly warned Germany that submarine warfare that took American lives would not be tolerated: ', mimetype='text/plain', start_char_idx=None, end_char_idx=None, text_template='{metadata_str}\\n\\n{content}', metadata_template='{key}: {value}', metadata_seperator='\\n'),\n",
       " Document(id_='f1c584ab-5e99-4991-8906-753fc60861e2', embedding=None, metadata={}, excluded_embed_metadata_keys=[], excluded_llm_metadata_keys=[], relationships={}, text=\"Wilson narrowly won the election, defeating Republican candidate Charles Evans Hughes.  As governor of New York from 1907-1910, Hughes had a progressive record strikingly similar to Wilson's as governor of New Jersey. Theodore Roosevelt would comment that the only thing different between Hughes and Wilson was a shave. However, Hughes had to try to hold together a coalition of conservative Taft supporters and progressive Roosevelt partisans and so his campaign never seemed to take a definite form.  Wilson ran on his record and ignored Hughes, reserving his attacks for Roosevelt.  When asked why he did not attack Hughes directly, Wilson told a friend to â\\x80\\x9cNever murder a man who is committing suicide.â\\x80\\x9d\", mimetype='text/plain', start_char_idx=None, end_char_idx=None, text_template='{metadata_str}\\n\\n{content}', metadata_template='{key}: {value}', metadata_seperator='\\n'),\n",
       " Document(id_='23d68b58-1a14-4498-a7ce-d14d853c9633', embedding=None, metadata={}, excluded_embed_metadata_keys=[], excluded_llm_metadata_keys=[], relationships={}, text=\"The final result was exceptionally close and the result was in doubt for several days. Because of Wilson's fear of becoming a lame duck president during the uncertainties of the war in Europe, he created a hypothetical plan where if Hughes were elected he would name Hughes secretary of state and then resign along with the vice-president to enable Hughes to become the president. The vote came down to several close states. Wilson won California by 3,773 votes out of almost a million votes cast and New Hampshire by 54 votes. Hughes won Minnesota by 393 votes out of over 358,000.  In the final count, Wilson had 277 electoral votes vs. Hughes 254.  Wilson was able to win reelection in 1916 by picking up many votes that had gone to Teddy Roosevelt or Eugene V. Debs in 1912.\", mimetype='text/plain', start_char_idx=None, end_char_idx=None, text_template='{metadata_str}\\n\\n{content}', metadata_template='{key}: {value}', metadata_seperator='\\n'),\n",
       " Document(id_='f6371d31-31c7-42a3-bbb4-5bd32d6d6b6e', embedding=None, metadata={}, excluded_embed_metadata_keys=[], excluded_llm_metadata_keys=[], relationships={}, text=\"Wilson's second term focused almost exclusively on World War I, which for the US formally began on April 6, 1917, only a little over a month after the term began. After Wilson, the next U.S. President to win both of his terms with under 50% of the popular vote was fellow Democrat, Bill Clinton, in the 1992 and 1996 elections.\", mimetype='text/plain', start_char_idx=None, end_char_idx=None, text_template='{metadata_str}\\n\\n{content}', metadata_template='{key}: {value}', metadata_seperator='\\n'),\n",
       " Document(id_='d0778522-dede-4a27-a671-af1e3e866150', embedding=None, metadata={}, excluded_embed_metadata_keys=[], excluded_llm_metadata_keys=[], relationships={}, text='When Germany resumed unrestricted submarine warfare in early 1917 and made a clumsy attempt to enlist Mexico as an ally (see Zimmermann Telegram), Wilson took America into World War I as a war to make \"the world safe for democracy.\" He did not sign a formal alliance with Great Britain or France but operated as an \"Associated\" power. He raised a massive army through conscription and gave command to General John J. Pershing, allowing Pershing a free hand as to tactics, strategy and even diplomacy.', mimetype='text/plain', start_char_idx=None, end_char_idx=None, text_template='{metadata_str}\\n\\n{content}', metadata_template='{key}: {value}', metadata_seperator='\\n'),\n",
       " Document(id_='f8ebb58a-db4d-44b8-8000-d09dddf111c4', embedding=None, metadata={}, excluded_embed_metadata_keys=[], excluded_llm_metadata_keys=[], relationships={}, text='President Wilson before Congress, announcing the break in official relations with Germany. February 3, 1917.', mimetype='text/plain', start_char_idx=None, end_char_idx=None, text_template='{metadata_str}\\n\\n{content}', metadata_template='{key}: {value}', metadata_seperator='\\n'),\n",
       " Document(id_='bd4d79f1-b007-4a09-a8a9-e70aba7a8306', embedding=None, metadata={}, excluded_embed_metadata_keys=[], excluded_llm_metadata_keys=[], relationships={}, text='Woodrow Wilson had decided by then that the war had become a real threat to humanity. Unless the U.S. threw its weight into the war, as he stated in his  declaration of war speech, Western civilization itself could be destroyed. His statement announcing a \"war to end all wars\" meant that he wanted to build a basis for peace that would prevent future catastrophic wars and needless death and destruction. This provided the basis of Wilson\\'s Fourteen Points, which were intended to resolve territorial disputes, ensure free trade and commerce, and establish a peacemaking organization, which later emerged as the League of Nations.', mimetype='text/plain', start_char_idx=None, end_char_idx=None, text_template='{metadata_str}\\n\\n{content}', metadata_template='{key}: {value}', metadata_seperator='\\n'),\n",
       " Document(id_='fa431a00-3ce7-4de7-b23f-b8c568d9bd9d', embedding=None, metadata={}, excluded_embed_metadata_keys=[], excluded_llm_metadata_keys=[], relationships={}, text=\"To stop defeatism at home, Wilson pushed the Espionage Act of 1917 and the Sedition Act of 1918 through Congress to suppress anti-British, pro-German, or anti-war opinions.  He welcomed socialists who supported the war, such as Walter Lippmann, but would not tolerate those who tried to impede the war or, worse, assassinate government officials, and pushed for deportation of foreign-born radicals. Avrich, Paul, Sacco and Vanzetti: The Anarchist Background, Princeton University Press, 1991   His wartime policies were strongly pro-labor, though again, he had no love for radical unions like the Industrial Workers of the World.  The American Federation of Labor and other 'moderate' unions saw enormous growth in membership and wages during Wilson's administration. There was no rationing, so consumer prices soared. As income taxes increased, white-collar workers suffered. Appeals to buy war bonds were highly successful, however. Bonds had the result of shifting the cost of the war to the affluent 1920s.\", mimetype='text/plain', start_char_idx=None, end_char_idx=None, text_template='{metadata_str}\\n\\n{content}', metadata_template='{key}: {value}', metadata_seperator='\\n'),\n",
       " Document(id_='4f5ac596-2e59-4dd4-8d5d-462f734ff0ac', embedding=None, metadata={}, excluded_embed_metadata_keys=[], excluded_llm_metadata_keys=[], relationships={}, text='Wilson set up the United States Committee on Public Information, headed by George Creel (thus its popular name, Creel Commission), which filled the country with patriotic anti-German appeals and conducted various forms of censorship.', mimetype='text/plain', start_char_idx=None, end_char_idx=None, text_template='{metadata_str}\\n\\n{content}', metadata_template='{key}: {value}', metadata_seperator='\\n'),\n",
       " Document(id_='44039a27-f244-464c-9c0e-abb10c479892', embedding=None, metadata={}, excluded_embed_metadata_keys=[], excluded_llm_metadata_keys=[], relationships={}, text=\"President Woodrow Wilson articulated what became known as the Fourteen Points before Congress on January 8, 1918.  The Points were the only war aims clearly expressed by any belligerent nation and thus became the basis for the Treaty of Versailles following World War I.  The speech was highly idealistic, translating Wilson's progressive domestic policy of democracy, self-determination, open agreements, and free trade into the international realm.  It also made several suggestions for specific disputes in Europe on the recommendation of Wilson's foreign policy advisor, Colonel Edward M. House, and his team of 150 advisors known as â\\x80\\x9cThe Inquiry.â\\x80\\x9d  The points were:\", mimetype='text/plain', start_char_idx=None, end_char_idx=None, text_template='{metadata_str}\\n\\n{content}', metadata_template='{key}: {value}', metadata_seperator='\\n'),\n",
       " Document(id_='b04ae4a3-6d6b-4b7c-a843-e47bac6afbec', embedding=None, metadata={}, excluded_embed_metadata_keys=[], excluded_llm_metadata_keys=[], relationships={}, text='Abolition of secret treaties ', mimetype='text/plain', start_char_idx=None, end_char_idx=None, text_template='{metadata_str}\\n\\n{content}', metadata_template='{key}: {value}', metadata_seperator='\\n'),\n",
       " Document(id_='3858b127-6dc6-4635-9b76-4d822fa647ac', embedding=None, metadata={}, excluded_embed_metadata_keys=[], excluded_llm_metadata_keys=[], relationships={}, text='   Freedom of the seas ', mimetype='text/plain', start_char_idx=None, end_char_idx=None, text_template='{metadata_str}\\n\\n{content}', metadata_template='{key}: {value}', metadata_seperator='\\n'),\n",
       " Document(id_='35e18cc5-8003-43da-b835-de247b07ba60', embedding=None, metadata={}, excluded_embed_metadata_keys=[], excluded_llm_metadata_keys=[], relationships={}, text='   Free Trade ', mimetype='text/plain', start_char_idx=None, end_char_idx=None, text_template='{metadata_str}\\n\\n{content}', metadata_template='{key}: {value}', metadata_seperator='\\n'),\n",
       " Document(id_='21bc71f4-42b2-4b72-9236-da8e713374de', embedding=None, metadata={}, excluded_embed_metadata_keys=[], excluded_llm_metadata_keys=[], relationships={}, text='   Disarmament ', mimetype='text/plain', start_char_idx=None, end_char_idx=None, text_template='{metadata_str}\\n\\n{content}', metadata_template='{key}: {value}', metadata_seperator='\\n'),\n",
       " Document(id_='c5a37988-6673-432b-806f-698c4b891f6e', embedding=None, metadata={}, excluded_embed_metadata_keys=[], excluded_llm_metadata_keys=[], relationships={}, text='   Adjustment of colonial claims (decolonization and national self-determination) ', mimetype='text/plain', start_char_idx=None, end_char_idx=None, text_template='{metadata_str}\\n\\n{content}', metadata_template='{key}: {value}', metadata_seperator='\\n'),\n",
       " Document(id_='f5f75d44-9fb9-4e28-ae86-2e6b74614b5c', embedding=None, metadata={}, excluded_embed_metadata_keys=[], excluded_llm_metadata_keys=[], relationships={}, text='   Russia to be assured independent development and international withdrawal from occupied Russian territory ', mimetype='text/plain', start_char_idx=None, end_char_idx=None, text_template='{metadata_str}\\n\\n{content}', metadata_template='{key}: {value}', metadata_seperator='\\n'),\n",
       " Document(id_='ef93d72f-b65c-49af-b6cf-ae21ba0b9894', embedding=None, metadata={}, excluded_embed_metadata_keys=[], excluded_llm_metadata_keys=[], relationships={}, text='   Restoration of Belgium to antebellum national status ', mimetype='text/plain', start_char_idx=None, end_char_idx=None, text_template='{metadata_str}\\n\\n{content}', metadata_template='{key}: {value}', metadata_seperator='\\n'),\n",
       " Document(id_='9e683f7d-b17c-4a68-9efc-f7208d9da661', embedding=None, metadata={}, excluded_embed_metadata_keys=[], excluded_llm_metadata_keys=[], relationships={}, text='   Alsace-Lorraine returned to France from Germany ', mimetype='text/plain', start_char_idx=None, end_char_idx=None, text_template='{metadata_str}\\n\\n{content}', metadata_template='{key}: {value}', metadata_seperator='\\n'),\n",
       " Document(id_='9468876c-ff90-418f-bc15-2846c0ce5596', embedding=None, metadata={}, excluded_embed_metadata_keys=[], excluded_llm_metadata_keys=[], relationships={}, text='   Italian borders redrawn on lines of nationality ', mimetype='text/plain', start_char_idx=None, end_char_idx=None, text_template='{metadata_str}\\n\\n{content}', metadata_template='{key}: {value}', metadata_seperator='\\n'),\n",
       " Document(id_='522af6e7-0304-443a-b2b6-d173c7751b74', embedding=None, metadata={}, excluded_embed_metadata_keys=[], excluded_llm_metadata_keys=[], relationships={}, text='   Autonomous development of Austria-Hungary as a nation, as the Austro-Hungarian Empire dissolved ', mimetype='text/plain', start_char_idx=None, end_char_idx=None, text_template='{metadata_str}\\n\\n{content}', metadata_template='{key}: {value}', metadata_seperator='\\n'),\n",
       " Document(id_='b5e358c1-f425-4092-bc02-61f13f0b2086', embedding=None, metadata={}, excluded_embed_metadata_keys=[], excluded_llm_metadata_keys=[], relationships={}, text='   Romania, Serbia, Montenegro, and other Balkan states to be granted integrity, have their territories deoccupied, and Serbia to be given access to the Adriatic Sea ', mimetype='text/plain', start_char_idx=None, end_char_idx=None, text_template='{metadata_str}\\n\\n{content}', metadata_template='{key}: {value}', metadata_seperator='\\n'),\n",
       " Document(id_='ded771e6-18a7-48e5-9482-56398d3d24b8', embedding=None, metadata={}, excluded_embed_metadata_keys=[], excluded_llm_metadata_keys=[], relationships={}, text='   Sovereignty for the Turkish people of the Ottoman Empire as the Empire dissolved, autonomous development for other nationalities within the former Empire ', mimetype='text/plain', start_char_idx=None, end_char_idx=None, text_template='{metadata_str}\\n\\n{content}', metadata_template='{key}: {value}', metadata_seperator='\\n'),\n",
       " Document(id_='13ae50f0-2fb7-4e62-8be5-fde47eae008b', embedding=None, metadata={}, excluded_embed_metadata_keys=[], excluded_llm_metadata_keys=[], relationships={}, text='   Establishment of an independent Poland with access to the sea ', mimetype='text/plain', start_char_idx=None, end_char_idx=None, text_template='{metadata_str}\\n\\n{content}', metadata_template='{key}: {value}', metadata_seperator='\\n'),\n",
       " Document(id_='31a11b3b-0607-4eb0-b726-f29a210859ac', embedding=None, metadata={}, excluded_embed_metadata_keys=[], excluded_llm_metadata_keys=[], relationships={}, text='   General association of the nations â\\x80\\x93 a multilateral international association of nations to enforce the peace (League of Nations)', mimetype='text/plain', start_char_idx=None, end_char_idx=None, text_template='{metadata_str}\\n\\n{content}', metadata_template='{key}: {value}', metadata_seperator='\\n'),\n",
       " Document(id_='d7e1075f-a5a5-4aa5-abca-aadb9a3767bc', embedding=None, metadata={}, excluded_embed_metadata_keys=[], excluded_llm_metadata_keys=[], relationships={}, text=\"The speech was controversial in America, and even more so with their Allies.  France wanted high reparations from Germany as French agriculture, industry, and lives had been so demolished by the war, and Britain, as the great naval power, did not want freedom of the seas.  Wilson compromised with Clemenceau, Lloyd George, and many other European leaders during the Paris Peace talks to ensure that the fourteenth point, the League of Nations, would be established.  In the end, Wilson's own Congress did not accept the League and only four of the original Fourteen Points were implemented fully in Europe.\", mimetype='text/plain', start_char_idx=None, end_char_idx=None, text_template='{metadata_str}\\n\\n{content}', metadata_template='{key}: {value}', metadata_seperator='\\n'),\n",
       " Document(id_='ec4ef30c-879f-4827-bb24-77a289cf0800', embedding=None, metadata={}, excluded_embed_metadata_keys=[], excluded_llm_metadata_keys=[], relationships={}, text='Between 1914 and 1918, the United States intervened in Latin America, particularly in Mexico, Haiti, Cuba, and Panama. The U.S. maintained troops in Nicaragua throughout his administration and used them to select the president of Nicaragua and then to force Nicaragua to pass the Bryan-Chamorro Treaty. American troops in Haiti forced the Haitian legislature to choose the candidate Wilson selected as Haitian president. American troops occupied Haiti between 1915 and 1934.', mimetype='text/plain', start_char_idx=None, end_char_idx=None, text_template='{metadata_str}\\n\\n{content}', metadata_template='{key}: {value}', metadata_seperator='\\n'),\n",
       " Document(id_='7d2113fd-deb6-4be2-992f-c4179aa4e12e', embedding=None, metadata={}, excluded_embed_metadata_keys=[], excluded_llm_metadata_keys=[], relationships={}, text='After Russia left the war in 1917 following the Bolshevik Revolution the Allies sent troops, presumably, to prevent a German or Bolshevik takeover of allied-provided weapons, munitions and other supplies which had been previously shipped as aid to the Czarist government. Wilson sent armed forces to assist the withdrawal of Czech and Slovak prisoners along the Trans-Siberian Railway, hold key port cities at Arkangel and Vladivostok, and safeguard supplies sent to the Tsarist forces.  Though not sent to engage the Bolsheviks, the U.S. forces had several armed conflicts against Russian forces.  Wilson withdrew the soldiers on April 1, 1920, though some remained as late as 1922.  As Davis and Trani conclude, \"Wilson, Lansing, and Colby helped lay the foundations for the later Cold War and policy  of containment. There was no military confrontation,  armed standoff, or arms race. Yet, certain basics were there:  suspicion, mutual misunderstandings, dislike, fear,  ideological hostility, and diplomatic isolation....Each side was driven by  ideology, by capitalism versus communism. Each country sought  to reconstruct the world. When the world resisted,  pressure could be used.\"  Donald E. Davis and Eugene P. Trani, The First Cold War: The Legacy of Woodrow Wilson in U.S.-Soviet Relations. (2002) p. 202.', mimetype='text/plain', start_char_idx=None, end_char_idx=None, text_template='{metadata_str}\\n\\n{content}', metadata_template='{key}: {value}', metadata_seperator='\\n'),\n",
       " Document(id_='b177110d-d152-4239-be03-93521f731163', embedding=None, metadata={}, excluded_embed_metadata_keys=[], excluded_llm_metadata_keys=[], relationships={}, text='Wilson Returning From the Versailles Peace Conference 1919.', mimetype='text/plain', start_char_idx=None, end_char_idx=None, text_template='{metadata_str}\\n\\n{content}', metadata_template='{key}: {value}', metadata_seperator='\\n'),\n",
       " Document(id_='e2a18773-35be-4abb-aa95-841d01f5b8d7', embedding=None, metadata={}, excluded_embed_metadata_keys=[], excluded_llm_metadata_keys=[], relationships={}, text='After World War I, Wilson participated in negotiations with the stated aim of assuring statehood for formerly oppressed nations and an equitable peace. On January 8, 1918, Wilson made his famous Fourteen Points address, introducing the idea of a League of Nations, an organization with a stated goal of helping to preserve territorial integrity and political independence among large and small nations alike.', mimetype='text/plain', start_char_idx=None, end_char_idx=None, text_template='{metadata_str}\\n\\n{content}', metadata_template='{key}: {value}', metadata_seperator='\\n'),\n",
       " Document(id_='3841d530-7097-4005-8abf-fc955ea94437', embedding=None, metadata={}, excluded_embed_metadata_keys=[], excluded_llm_metadata_keys=[], relationships={}, text=\"Wilson intended the Fourteen Points as a means toward ending the war and achieving an equitable peace for all the nations. He spent six months at Paris for the 1919 Paris Peace Conference (making him the first U.S. president to travel to Europe while in office). He worked tirelessly to promote his plan. The charter of the proposed League of Nations was incorporated into the conference's Treaty of Versailles.\", mimetype='text/plain', start_char_idx=None, end_char_idx=None, text_template='{metadata_str}\\n\\n{content}', metadata_template='{key}: {value}', metadata_seperator='\\n'),\n",
       " Document(id_='6abdff22-4481-41a0-a8f3-135d5a0c5a0c', embedding=None, metadata={}, excluded_embed_metadata_keys=[], excluded_llm_metadata_keys=[], relationships={}, text=\"For his peacemaking efforts, Wilson was awarded the 1919 Nobel Peace Prize. However, Wilson failed to win Senate support for ratification and the United States never joined the League. Republicans under Henry Cabot Lodge controlled the Senate after the 1918 elections, but Wilson refused to give them a voice at Paris and refused to agree to Lodge's proposed changes.  The key point of disagreement was whether the League would diminish the power of Congress to declare war. Historians generally have come to regard Wilson's failure to win U.S. entry into the League as perhaps the biggest mistake of his administration, and even as one of the largest failures of any American presidency.  /ref>\", mimetype='text/plain', start_char_idx=None, end_char_idx=None, text_template='{metadata_str}\\n\\n{content}', metadata_template='{key}: {value}', metadata_seperator='\\n'),\n",
       " Document(id_='8783e0ce-8e23-461f-958b-fd4abf9b44c4', embedding=None, metadata={}, excluded_embed_metadata_keys=[], excluded_llm_metadata_keys=[], relationships={}, text='Wilson had ignored the problems of demobilization after the war, and the process was chaotic and violent. Four million soldiers were sent home with little planning, little money, and few benefits.  A wartime bubble in prices of farmland burst, leaving many farmers bankrupt or deeply in debt after they purchased new land.  In 1919, major strikes in steel and meatpacking broke out.  Serious race riots hit Chicago and other cities.', mimetype='text/plain', start_char_idx=None, end_char_idx=None, text_template='{metadata_str}\\n\\n{content}', metadata_template='{key}: {value}', metadata_seperator='\\n'),\n",
       " Document(id_='15a93133-22a6-4e51-8b17-1f6aa473df26', embedding=None, metadata={}, excluded_embed_metadata_keys=[], excluded_llm_metadata_keys=[], relationships={}, text=\"After a series of bombings by radical anarchist groups in New York and elsewhere, Wilson directed Attorney General A. Mitchell Palmer to put a stop to the violence.  Palmer then ordered the Palmer Raids, with the aim of collecting evidence on violent radical groups, to deport foreign-born agitators, and jail domestic ones. The successful Communist takeover of Russia in 1917 was also a background factor: many anarchists believed that the worker's revolution that had taken place there would quickly spread across Europe and the United States.  Paul Avrich, Sacco and Vanzetti: The Anarchist Background, Princeton University Press, 1991\", mimetype='text/plain', start_char_idx=None, end_char_idx=None, text_template='{metadata_str}\\n\\n{content}', metadata_template='{key}: {value}', metadata_seperator='\\n'),\n",
       " Document(id_='54b6d9c5-778d-475e-90c2-2fcd2e196b18', embedding=None, metadata={}, excluded_embed_metadata_keys=[], excluded_llm_metadata_keys=[], relationships={}, text='Wilson broke with many of his closest political friends and allies in 1918-20, including Colonel House. Historians speculate that a series of minor strokes may have affected his personality. He desired a third term, but his Democratic party was in turmoil, with German voters outraged at their wartime harassment, and Irish voters angry at his failure to support Irish independence.', mimetype='text/plain', start_char_idx=None, end_char_idx=None, text_template='{metadata_str}\\n\\n{content}', metadata_template='{key}: {value}', metadata_seperator='\\n'),\n",
       " Document(id_='60084592-a758-4137-a0ff-6f902648e832', embedding=None, metadata={}, excluded_embed_metadata_keys=[], excluded_llm_metadata_keys=[], relationships={}, text='Wilson, a staunch opponent of antisemitism , was sympathetic to the plight of Jews, especially in Poland and in France. As President, Wilson repeatedly stated in 1919 that U.S. policy was to \"acquiesce\" in the Balfour Declaration but not officially support Zionism   Walworth (1986) 473-83, esp. p. 481; Melvin I. Urofsky, American Zionism from Herzl to the Holocaust, (1995) ch. 6; Frank W. Brecher, Reluctant Ally: United States Foreign Policy toward the Jews from Wilson to Roosevelt. (1991) ch 1-4.  . After he left office Wilson wrote a letter of strong support to the idea of a Jewish state in Palestine and objected to territorial concessions regarding its borders.   In 1923 he wrote \"The Zionist cause depends on rational northern and eastern boundaries for a self-maintaining, economic development of the country. This means, on the north, Palestine must include the Litani River and the watersheds of the Hermon, and on the east it must include the plains of the Jaulon and the Hauran. Narrower than this is a mutilation...I need not remind you that neither in this country nor in Paris has there been any opposition to the Zionist program, and to its realization the boundaries I have named are indispensable\". Quoted in Palestine: The Original Sin , Meir Abelson', mimetype='text/plain', start_char_idx=None, end_char_idx=None, text_template='{metadata_str}\\n\\n{content}', metadata_template='{key}: {value}', metadata_seperator='\\n'),\n",
       " Document(id_='97dd04cd-a2e9-4c09-8404-4ed195745a03', embedding=None, metadata={}, excluded_embed_metadata_keys=[], excluded_llm_metadata_keys=[], relationships={}, text='Until Wilson announced his support for suffrage, a group of women calling themselves Silent Sentinels protested in front of the White House, holding banners such as \"Mr. President What will you do for woman suffrage?\" \"Absolutely nothing.\" In January 1918, after years of lobbying and public demonstrations, Wilson finally announced his support of the 19th Amendment guaranteeing women the right to vote. The Amendment passed the House but failed in the Senate. Finally, on June 4, 1919, the Senate passed the amendment.', mimetype='text/plain', start_char_idx=None, end_char_idx=None, text_template='{metadata_str}\\n\\n{content}', metadata_template='{key}: {value}', metadata_seperator='\\n'),\n",
       " Document(id_='010f98a5-3994-4d2e-9660-a4e3438d7178', embedding=None, metadata={}, excluded_embed_metadata_keys=[], excluded_llm_metadata_keys=[], relationships={}, text='The cause of his incapacitation was the physical strain of the demanding public speaking tour he undertook to obtain support of the American people for ratification of the Covenant of the League. After one of his final speeches to attempt to promote the League of Nations in Pueblo, Colorado, on September 25, 1919 , he collapsed.  On October 2, 1919, Wilson suffered a serious stroke that almost totally incapacitated him, leaving him paralyzed on his left side and blind in his left eye.  For at least a few months, he was confined to a wheelchair.  Afterwards he could walk only with the assistance of a cane.  The full extent of his disability was kept from the public until after his death on February 3, 1924.', mimetype='text/plain', start_char_idx=None, end_char_idx=None, text_template='{metadata_str}\\n\\n{content}', metadata_template='{key}: {value}', metadata_seperator='\\n'),\n",
       " Document(id_='834e7c3f-362f-4238-8a00-a660780c64cc', embedding=None, metadata={}, excluded_embed_metadata_keys=[], excluded_llm_metadata_keys=[], relationships={}, text='Wilson was purposely, with few exceptions, kept out of the presence of Vice President Thomas R. Marshall, his cabinet or Congressional visitors to the White House for the remainder of his presidential term. His first wife, Ellen, had died in 1914, so his second wife, Edith, served as his steward, selecting issues for his attention and delegating other issues to his cabinet heads. This was, as of 2007, the most serious case of presidential disability in American history and was later cited as a key example why ratification of the 25th Amendment was seen as important.', mimetype='text/plain', start_char_idx=None, end_char_idx=None, text_template='{metadata_str}\\n\\n{content}', metadata_template='{key}: {value}', metadata_seperator='\\n'),\n",
       " Document(id_='a0727d90-4d5d-442b-b4b5-4bf1fd5d3b6b', embedding=None, metadata={}, excluded_embed_metadata_keys=[], excluded_llm_metadata_keys=[], relationships={}, text='* Vetoed Volstead Act in 1919. It was passed over his veto.', mimetype='text/plain', start_char_idx=None, end_char_idx=None, text_template='{metadata_str}\\n\\n{content}', metadata_template='{key}: {value}', metadata_seperator='\\n'),\n",
       " Document(id_='409d7286-190d-455c-9cba-c5a6063d6111', embedding=None, metadata={}, excluded_embed_metadata_keys=[], excluded_llm_metadata_keys=[], relationships={}, text='Wilson\\'s chief of staff (\"Secretary\") was Joseph Patrick Tumulty 1913-1921, but he was largely upstaged after 1916 when Wilson\\'s second wife, Edith Bolling Wilson, assumed full control of Wilson\\'s schedule. An important foreign policy advisor and confidant was \"Colonel\" Edward M. House.', mimetype='text/plain', start_char_idx=None, end_char_idx=None, text_template='{metadata_str}\\n\\n{content}', metadata_template='{key}: {value}', metadata_seperator='\\n'),\n",
       " Document(id_='07f1e257-c4f7-43c9-8427-62824ea34513', embedding=None, metadata={}, excluded_embed_metadata_keys=[], excluded_llm_metadata_keys=[], relationships={}, text='Woodrow Wilson and his cabinet in the Cabinet Room', mimetype='text/plain', start_char_idx=None, end_char_idx=None, text_template='{metadata_str}\\n\\n{content}', metadata_template='{key}: {value}', metadata_seperator='\\n'),\n",
       " Document(id_='fcb55fe1-a053-4e4f-abb8-521f839368a3', embedding=None, metadata={}, excluded_embed_metadata_keys=[], excluded_llm_metadata_keys=[], relationships={}, text='Wilson appointed the following Justices to the Supreme Court of the United States:', mimetype='text/plain', start_char_idx=None, end_char_idx=None, text_template='{metadata_str}\\n\\n{content}', metadata_template='{key}: {value}', metadata_seperator='\\n'),\n",
       " Document(id_='b4109c0d-a3d7-4ff9-9f75-36bc4d7a701d', embedding=None, metadata={}, excluded_embed_metadata_keys=[], excluded_llm_metadata_keys=[], relationships={}, text='The official White House portrait of President Woodrow Wilson', mimetype='text/plain', start_char_idx=None, end_char_idx=None, text_template='{metadata_str}\\n\\n{content}', metadata_template='{key}: {value}', metadata_seperator='\\n'),\n",
       " Document(id_='fb2217bb-8b1e-4201-9d08-21c8fb39c4e7', embedding=None, metadata={}, excluded_embed_metadata_keys=[], excluded_llm_metadata_keys=[], relationships={}, text='Wilson was a remarkably effective writer and thinker and his diplomatic policies had a profound influence on shaping the world. Diplomatic historian Walter Russell Mead has explained:', mimetype='text/plain', start_char_idx=None, end_char_idx=None, text_template='{metadata_str}\\n\\n{content}', metadata_template='{key}: {value}', metadata_seperator='\\n'),\n",
       " Document(id_='a0102d04-4a2a-457a-a487-d7dd11e46921', embedding=None, metadata={}, excluded_embed_metadata_keys=[], excluded_llm_metadata_keys=[], relationships={}, text='American foreign relations since 1914 have rested on Wilsonian idealism, argues historian David Kennedy, even if adjusted somewhat by the \"realism\" represented by Franklin Delano Roosevelt and Henry Kissinger.  Kennedy argues that every president since Wilson has, \"embraced the core precepts of Wilsonianism. Nixon himself hung Wilson\\'s portrait in the White House Cabinet Room.  Wilson\\'s ideas continue to dominate American foreign policy in the twenty-first century. In the aftermath of 9/11 they have, if anything, taken on even greater vitality.\"  David M. Kennedy, \"What \\'W\\' Owes to \\'WW\\': President Bush May Not Even Know It, but He Can Trace His View of the World to Woodrow Wilson, Who Defined a Diplomatic Destiny for America That We Can\\'t Escape.\" The Atlantic Monthly Vol: 295. Issue: 2. (March 2005) pp 36+.', mimetype='text/plain', start_char_idx=None, end_char_idx=None, text_template='{metadata_str}\\n\\n{content}', metadata_template='{key}: {value}', metadata_seperator='\\n'),\n",
       " Document(id_='0113f172-194a-44c7-9af9-383444b429a5', embedding=None, metadata={}, excluded_embed_metadata_keys=[], excluded_llm_metadata_keys=[], relationships={}, text=\"Quotation from Woodrow Wilson's History of the American People as reproduced in the film The Birth of a Nation.\", mimetype='text/plain', start_char_idx=None, end_char_idx=None, text_template='{metadata_str}\\n\\n{content}', metadata_template='{key}: {value}', metadata_seperator='\\n'),\n",
       " Document(id_='00297a0a-175f-4583-95d6-a98ae63d0ee6', embedding=None, metadata={}, excluded_embed_metadata_keys=[], excluded_llm_metadata_keys=[], relationships={}, text='While president of Princeton University, Wilson discouraged blacks from even applying for admission.  Arthur Link, Wilson:The Road to the White House (Princeton University Press, 1947) 502   Princeton would not admit its first black student until the 1940s.', mimetype='text/plain', start_char_idx=None, end_char_idx=None, text_template='{metadata_str}\\n\\n{content}', metadata_template='{key}: {value}', metadata_seperator='\\n'),\n",
       " Document(id_='20e6855e-d1ff-464f-9728-037bf82ac7fe', embedding=None, metadata={}, excluded_embed_metadata_keys=[], excluded_llm_metadata_keys=[], relationships={}, text='Wilson allowed many of his cabinet officials to establish official segregation in most federal government offices, in some departments for the first time since 1863. \"His administration imposed full racial segregation in Washington and hounded from office considerable numbers of black federal employees.\"  /ref>', mimetype='text/plain', start_char_idx=None, end_char_idx=None, text_template='{metadata_str}\\n\\n{content}', metadata_template='{key}: {value}', metadata_seperator='\\n'),\n",
       " Document(id_='f04ee07c-ce78-49da-833b-b3539bce40a0', embedding=None, metadata={}, excluded_embed_metadata_keys=[], excluded_llm_metadata_keys=[], relationships={}, text='Wilson and his cabinet members fired many black Republican office holders, but also appointed a few black Democrats. W.E.B. DuBois, a leader of the NAACP, campaigned for Wilson and in 1918 was offered an Army commission in charge of dealing with race relations. (DuBois accepted but failed his Army physical and did not serve.) Ellis, Mark. \"\\'Closing Ranks\\' and \\'Seeking Honors\\': W. E. B. du Bois in World War I\" Journal of American History 1992 79(1): 96-124. ISSN 0021-8723 Fulltext in Jstor  When a delegation of blacks protested his discriminatory actions, Wilson told them that \"segregation is not a humiliation but a benefit, and ought to be so regarded by you gentlemen.\" In 1914, he told the New York Times that \"If the colored people made a mistake in voting for me, they ought to correct it.\"', mimetype='text/plain', start_char_idx=None, end_char_idx=None, text_template='{metadata_str}\\n\\n{content}', metadata_template='{key}: {value}', metadata_seperator='\\n'),\n",
       " Document(id_='5235c1d5-00a4-4475-aa31-1bb42404e690', embedding=None, metadata={}, excluded_embed_metadata_keys=[], excluded_llm_metadata_keys=[], relationships={}, text='Wilson was attacked by African-Americans for his actions, but he was also attacked by southern hard line racists, such as Georgian Thomas E. Watson, for not going far enough in restricting black employment in the federal government.   The segregation introduced into the federal workforce by the Wilson administration was kept in place by the succeeding presidents and was not finally rescinded until the Truman Administration.', mimetype='text/plain', start_char_idx=None, end_char_idx=None, text_template='{metadata_str}\\n\\n{content}', metadata_template='{key}: {value}', metadata_seperator='\\n'),\n",
       " Document(id_='8f27e22a-6c4e-4a93-9414-3d92db959d6f', embedding=None, metadata={}, excluded_embed_metadata_keys=[], excluded_llm_metadata_keys=[], relationships={}, text=\"Woodrow Wilson's History of the American People explained the Ku Klux Klan of the late 1860s as the natural outgrowth of Reconstruction, a lawless reaction to a lawless period.  Wilson noted that the Klan â\\x80\\x9cbegan to attempt by intimidation what they were not allowed to attempt by the ballot or by any ordered course of public action.â\\x80\\x9d   Woodrow Wilson, A History of the American People (1931) V:59. .\", mimetype='text/plain', start_char_idx=None, end_char_idx=None, text_template='{metadata_str}\\n\\n{content}', metadata_template='{key}: {value}', metadata_seperator='\\n'),\n",
       " Document(id_='26326d91-7d6f-49f9-b082-3cf2e1bf47d0', embedding=None, metadata={}, excluded_embed_metadata_keys=[], excluded_llm_metadata_keys=[], relationships={}, text='Wilson\\'s words were repeatedly quoted in the film The Birth of a Nation, which has come under fire for racism. Thomas Dixon, author of the novel The Clansman upon which the film is based, was one of Wilson\\'s graduate school classmates at Johns Hopkins in 1883-1884. Dixon arranged a special White House preview (this was the first time a film was shown in the White House) without telling Wilson what the film was about. There is debate about whether Wilson made the statement, \"It is like writing history with lightning; my only regret is that it is all so terribly true.\", or whether it was invented by a film publicist. \"Family Life\", Essays on Woodrow Wilson and His Administration, American President: An Online Reference Resource, Miller Center of Public Affairs, University of Virginia   Others argue Wilson felt he had been tricked by Dixon and in public statements claimed he did not like the film; Wilson blocked its showing during the war. Link vol 2 pp 252-54.  In a 1923 letter to Senator Morris Sheppard of Texas, Wilson noted of the reborn Klan, â\\x80\\x9c...no more obnoxious or harmful organization has ever shown itself in our affairs.â\\x80\\x9dAlthough Wilson had a volatile relationship with American Blacks he was a friend of the Ethiopian Emperor Halie Selassie, a black African Monarch. A sword(a gift from Selassie) can still be seen in Wilson\\'s Washington DC home.   Link, Papers of Woodrow Wilson 68:298', mimetype='text/plain', start_char_idx=None, end_char_idx=None, text_template='{metadata_str}\\n\\n{content}', metadata_template='{key}: {value}', metadata_seperator='\\n'),\n",
       " Document(id_='204fdcc1-f059-43b7-8a93-252b21c58a0b', embedding=None, metadata={}, excluded_embed_metadata_keys=[], excluded_llm_metadata_keys=[], relationships={}, text='Wilson had some harsh words to say about immigrants in his history books. However, after he entered politics in 1910, Wilson worked to integrate new immigrants into the Democratic party, into the army, and into American life. For example, the war bond campaigns were set up so that ethnic groups could boast how much money they gave. He demanded in return during the war that they repudiate any loyalty to the enemy.', mimetype='text/plain', start_char_idx=None, end_char_idx=None, text_template='{metadata_str}\\n\\n{content}', metadata_template='{key}: {value}', metadata_seperator='\\n'),\n",
       " Document(id_='8923a7bf-ca27-4e2d-93f9-9032cf1d5cae', embedding=None, metadata={}, excluded_embed_metadata_keys=[], excluded_llm_metadata_keys=[], relationships={}, text='Irish Americans were powerful in the Democratic party and opposed going to war alongside their enemy Britain, especially after the violent suppression of the Easter Rebellion of 1916. Wilson won them over in 1917 by promising to ask Britain to give Ireland its independence. At Versailles, however, he reneged and the Irish-American community vehemently denounced him. Wilson, in turn, blamed the Irish Americans and German Americans for the lack of popular support for the League of Nations, saying,', mimetype='text/plain', start_char_idx=None, end_char_idx=None, text_template='{metadata_str}\\n\\n{content}', metadata_template='{key}: {value}', metadata_seperator='\\n'),\n",
       " Document(id_='fc39f930-e2fd-44b3-8fd7-7f24d4732041', embedding=None, metadata={}, excluded_embed_metadata_keys=[], excluded_llm_metadata_keys=[], relationships={}, text='There is an organized propaganda against the League of Nations and against the treaty proceeding from exactly the same sources that the organized propaganda proceeded from which threatened this country here and there with disloyalty, and I want to say--I cannot say too often--any man who carries a hyphen about with him carries a dagger that he is ready to plunge into the vitals of this Republic whenever he gets ready. American Rhetoric,  \"Final Address in Support of the League of Nations\", Woodrow Wilson, delivered 25 Sept 1919 in Pueblo, CO.  John B. Duff, \"German-Americans and the Peace, 1918-1920\" American Jewish Historical Quarterly 1970 59(4): 424-459. and Duff, \"The Versailles Treaty and the Irish-Americans\" Journal of American History 1968 55(3): 582-598. ISSN 0021-8723', mimetype='text/plain', start_char_idx=None, end_char_idx=None, text_template='{metadata_str}\\n\\n{content}', metadata_template='{key}: {value}', metadata_seperator='\\n'),\n",
       " Document(id_='c0a76fa3-3e98-4850-9242-93be1c6b2ded', embedding=None, metadata={}, excluded_embed_metadata_keys=[], excluded_llm_metadata_keys=[], relationships={}, text=\"In 1921, Wilson and his wife retired from the White House to a home in the Embassy Row section of Washington, D.C.  Wilson continued going for daily drives and attended Keith's vaudeville theater on Saturday nights.\", mimetype='text/plain', start_char_idx=None, end_char_idx=None, text_template='{metadata_str}\\n\\n{content}', metadata_template='{key}: {value}', metadata_seperator='\\n'),\n",
       " Document(id_='70a89df5-2bf9-4ae6-b51f-8f8b986c033c', embedding=None, metadata={}, excluded_embed_metadata_keys=[], excluded_llm_metadata_keys=[], relationships={}, text='Wilson died in his S Street home on February 3, 1924. Because his plan for the League of Nations ultimately failed, he died feeling that he had lied to the American people and that his motives for joining the war had been in vain.  He was buried in Washington National Cathedral.', mimetype='text/plain', start_char_idx=None, end_char_idx=None, text_template='{metadata_str}\\n\\n{content}', metadata_template='{key}: {value}', metadata_seperator='\\n'),\n",
       " Document(id_='69dfedd5-5a59-4663-88d2-b174b060fe9f', embedding=None, metadata={}, excluded_embed_metadata_keys=[], excluded_llm_metadata_keys=[], relationships={}, text='Mrs. Wilson stayed in the home another 37 years, dying on December 28, 1961.  Mrs. Wilson left the home to the National Trust for Historic Preservation to be made into a museum honoring her husband.   Woodrow Wilson House opened as a museum in 1964.', mimetype='text/plain', start_char_idx=None, end_char_idx=None, text_template='{metadata_str}\\n\\n{content}', metadata_template='{key}: {value}', metadata_seperator='\\n'),\n",
       " Document(id_='b1e15147-559f-4f89-915e-067193f5536e', embedding=None, metadata={}, excluded_embed_metadata_keys=[], excluded_llm_metadata_keys=[], relationships={}, text='The final resting place of Woodrow Wilson at the Washington National Cathedral', mimetype='text/plain', start_char_idx=None, end_char_idx=None, text_template='{metadata_str}\\n\\n{content}', metadata_template='{key}: {value}', metadata_seperator='\\n'),\n",
       " Document(id_='07bea029-478c-4c0d-966a-965dbe52778f', embedding=None, metadata={}, excluded_embed_metadata_keys=[], excluded_llm_metadata_keys=[], relationships={}, text=\"Wilson's Pierce Arrow, which resides in his hometown of Staunton, Virginia.\", mimetype='text/plain', start_char_idx=None, end_char_idx=None, text_template='{metadata_str}\\n\\n{content}', metadata_template='{key}: {value}', metadata_seperator='\\n'),\n",
       " Document(id_='b66a45f0-c2b5-4df3-80c5-6fa57ea49f80', embedding=None, metadata={}, excluded_embed_metadata_keys=[], excluded_llm_metadata_keys=[], relationships={}, text='* His earliest memory, from age 3, was of hearing that Abraham Lincoln had been elected and that a war was coming.', mimetype='text/plain', start_char_idx=None, end_char_idx=None, text_template='{metadata_str}\\n\\n{content}', metadata_template='{key}: {value}', metadata_seperator='\\n'),\n",
       " Document(id_='295d82f6-832f-4ffe-be9f-da30c1cd4917', embedding=None, metadata={}, excluded_embed_metadata_keys=[], excluded_llm_metadata_keys=[], relationships={}, text=\"* Wilson would forever recall standing for a moment at Robert E. Lee's side and looking up into his face.\", mimetype='text/plain', start_char_idx=None, end_char_idx=None, text_template='{metadata_str}\\n\\n{content}', metadata_template='{key}: {value}', metadata_seperator='\\n'),\n",
       " Document(id_='3bf650dc-ccf7-4ca6-ab86-4f3d039128c9', embedding=None, metadata={}, excluded_embed_metadata_keys=[], excluded_llm_metadata_keys=[], relationships={}, text='* Wilson (born in Virginia and raised in Georgia) was the first Southerner to be elected since 1848 (Zachary Taylor) and the first Southerner to take office since Andrew Johnson in 1865. ', mimetype='text/plain', start_char_idx=None, end_char_idx=None, text_template='{metadata_str}\\n\\n{content}', metadata_template='{key}: {value}', metadata_seperator='\\n'),\n",
       " Document(id_='0330b12a-e66e-494b-ac60-5f9cf1370341', embedding=None, metadata={}, excluded_embed_metadata_keys=[], excluded_llm_metadata_keys=[], relationships={}, text='* Wilson was also the first Democrat elected to the presidency since Grover Cleveland in 1892. The next Democrat elected was Franklin D. Roosevelt in 1932.', mimetype='text/plain', start_char_idx=None, end_char_idx=None, text_template='{metadata_str}\\n\\n{content}', metadata_template='{key}: {value}', metadata_seperator='\\n'),\n",
       " Document(id_='c636d5c6-eb3f-4df6-a88e-4024a69e84c1', embedding=None, metadata={}, excluded_embed_metadata_keys=[], excluded_llm_metadata_keys=[], relationships={}, text='* Wilson was a member of the Phi Kappa Psi fraternity.', mimetype='text/plain', start_char_idx=None, end_char_idx=None, text_template='{metadata_str}\\n\\n{content}', metadata_template='{key}: {value}', metadata_seperator='\\n'),\n",
       " Document(id_='1597a8e9-f7f2-4115-85d7-4235a44a4c09', embedding=None, metadata={}, excluded_embed_metadata_keys=[], excluded_llm_metadata_keys=[], relationships={}, text='Wilson on the $100,000 gold certificate', mimetype='text/plain', start_char_idx=None, end_char_idx=None, text_template='{metadata_str}\\n\\n{content}', metadata_template='{key}: {value}', metadata_seperator='\\n'),\n",
       " Document(id_='ab65df26-94a9-402e-b180-1a33b5a57d1d', embedding=None, metadata={}, excluded_embed_metadata_keys=[], excluded_llm_metadata_keys=[], relationships={}, text='* Wilson is the only U.S. President buried in Washington, D.C.', mimetype='text/plain', start_char_idx=None, end_char_idx=None, text_template='{metadata_str}\\n\\n{content}', metadata_template='{key}: {value}', metadata_seperator='\\n'),\n",
       " Document(id_='4b954fb8-daa8-4c26-bfb3-0cd35edcdae5', embedding=None, metadata={}, excluded_embed_metadata_keys=[], excluded_llm_metadata_keys=[], relationships={}, text='* Wilson remains the only American President to have earned a research doctoral degree.', mimetype='text/plain', start_char_idx=None, end_char_idx=None, text_template='{metadata_str}\\n\\n{content}', metadata_template='{key}: {value}', metadata_seperator='\\n'),\n",
       " Document(id_='4e89c425-d224-4338-af9c-25926d647384', embedding=None, metadata={}, excluded_embed_metadata_keys=[], excluded_llm_metadata_keys=[], relationships={}, text='* His carved initials are still visible on the underside of a table in the History Department at Johns Hopkins University.', mimetype='text/plain', start_char_idx=None, end_char_idx=None, text_template='{metadata_str}\\n\\n{content}', metadata_template='{key}: {value}', metadata_seperator='\\n'),\n",
       " Document(id_='0f319298-2021-4c07-b62d-32254dbf5b7b', embedding=None, metadata={}, excluded_embed_metadata_keys=[], excluded_llm_metadata_keys=[], relationships={}, text='* Wilson was one of only two Presidents (Theodore Roosevelt was the first) to become president of the American Historical Association.', mimetype='text/plain', start_char_idx=None, end_char_idx=None, text_template='{metadata_str}\\n\\n{content}', metadata_template='{key}: {value}', metadata_seperator='\\n'),\n",
       " Document(id_='1e396957-f2ac-45b0-9163-6d271d022275', embedding=None, metadata={}, excluded_embed_metadata_keys=[], excluded_llm_metadata_keys=[], relationships={}, text='* Wilson was president of the American Political Science Association in 1910.', mimetype='text/plain', start_char_idx=None, end_char_idx=None, text_template='{metadata_str}\\n\\n{content}', metadata_template='{key}: {value}', metadata_seperator='\\n'),\n",
       " Document(id_='d21dba47-8bd0-4e8d-a995-30bd3aa145b7', embedding=None, metadata={}, excluded_embed_metadata_keys=[], excluded_llm_metadata_keys=[], relationships={}, text='* Wilson was the subject of the 1944 biographical film Wilson, directed by Henry King and starring Alexander Knox as Wilson.  The picture was a commercial failure, despite receiving ten Oscar nominations and winning five.', mimetype='text/plain', start_char_idx=None, end_char_idx=None, text_template='{metadata_str}\\n\\n{content}', metadata_template='{key}: {value}', metadata_seperator='\\n'),\n",
       " Document(id_='a1f07469-bf05-471f-9bc2-cad0259417d9', embedding=None, metadata={}, excluded_embed_metadata_keys=[], excluded_llm_metadata_keys=[], relationships={}, text='*In Harry Turtledove\\'s \"Great War\" trilogy of alternate history novels, Wilson is elected 9th President of the Confederate States of America on the Whig ticket in 1910.', mimetype='text/plain', start_char_idx=None, end_char_idx=None, text_template='{metadata_str}\\n\\n{content}', metadata_template='{key}: {value}', metadata_seperator='\\n'),\n",
       " Document(id_='0a2c9eaf-3a32-489e-913b-29045f696a80', embedding=None, metadata={}, excluded_embed_metadata_keys=[], excluded_llm_metadata_keys=[], relationships={}, text='* The book Stardust and Shadows, 2000, Toronto: Dundern Press by Charles Foster details an alleged relationship between silent-era motion picture actress Florence La Badie and Wilson.', mimetype='text/plain', start_char_idx=None, end_char_idx=None, text_template='{metadata_str}\\n\\n{content}', metadata_template='{key}: {value}', metadata_seperator='\\n'),\n",
       " Document(id_='b8e970fa-1977-4353-9806-1f272463e512', embedding=None, metadata={}, excluded_embed_metadata_keys=[], excluded_llm_metadata_keys=[], relationships={}, text='*When President Wilson came to Europe to settle the peace terms, Wilson visited Pope Benedict XV in Rome, which made Wilson the first American President to visit the Pope while in office.', mimetype='text/plain', start_char_idx=None, end_char_idx=None, text_template='{metadata_str}\\n\\n{content}', metadata_template='{key}: {value}', metadata_seperator='\\n'),\n",
       " Document(id_='13efe075-e4be-4d38-aeb0-2ceba61ad74f', embedding=None, metadata={}, excluded_embed_metadata_keys=[], excluded_llm_metadata_keys=[], relationships={}, text='*Wilson was the only presidential candidate to defeat two former presidents in a single election (Roosevelt and Taft).', mimetype='text/plain', start_char_idx=None, end_char_idx=None, text_template='{metadata_str}\\n\\n{content}', metadata_template='{key}: {value}', metadata_seperator='\\n'),\n",
       " Document(id_='cb7be025-2e97-4ff1-a746-4d93e66c57b1', embedding=None, metadata={}, excluded_embed_metadata_keys=[], excluded_llm_metadata_keys=[], relationships={}, text='* Ambrosius, Lloyd E., â\\x80\\x9cWoodrow Wilson and George W. Bush: Historical Comparisons of Ends and Means in Their Foreign Policies,â\\x80\\x9d Diplomatic History, 30 (June 2006), 509â\\x80\\x9343.', mimetype='text/plain', start_char_idx=None, end_char_idx=None, text_template='{metadata_str}\\n\\n{content}', metadata_template='{key}: {value}', metadata_seperator='\\n'),\n",
       " Document(id_='32c59540-5b70-4e20-a96d-e33040d7489e', embedding=None, metadata={}, excluded_embed_metadata_keys=[], excluded_llm_metadata_keys=[], relationships={}, text='* Clements, Kendrick A. \"Woodrow Wilson and World War I,\" Presidential Studies Quarterly 34:1 (2004). pp 62+. ', mimetype='text/plain', start_char_idx=None, end_char_idx=None, text_template='{metadata_str}\\n\\n{content}', metadata_template='{key}: {value}', metadata_seperator='\\n'),\n",
       " Document(id_='f229f1e8-ba4a-4545-9b50-82b6f4919acc', embedding=None, metadata={}, excluded_embed_metadata_keys=[], excluded_llm_metadata_keys=[], relationships={}, text='* Hofstadter, Richard. \"Woodrow Wilson: The Conservative as Liberal\" in The American Political Tradition (1948), ch. 10.', mimetype='text/plain', start_char_idx=None, end_char_idx=None, text_template='{metadata_str}\\n\\n{content}', metadata_template='{key}: {value}', metadata_seperator='\\n'),\n",
       " Document(id_='5213483b-ea58-4d94-836b-dbf411f7fdf6', embedding=None, metadata={}, excluded_embed_metadata_keys=[], excluded_llm_metadata_keys=[], relationships={}, text='*Walworth, Arthur. Woodrow Wilson 2 Vol. (1958),  Pulitzer prize winning biography.', mimetype='text/plain', start_char_idx=None, end_char_idx=None, text_template='{metadata_str}\\n\\n{content}', metadata_template='{key}: {value}', metadata_seperator='\\n'),\n",
       " Document(id_='5aeeefc0-412e-4b33-956f-99e3dbcd0b2b', embedding=None, metadata={}, excluded_embed_metadata_keys=[], excluded_llm_metadata_keys=[], relationships={}, text=\"* Wilson, Woodrow.  President Woodrow Wilson's Fourteen Points (1918).\", mimetype='text/plain', start_char_idx=None, end_char_idx=None, text_template='{metadata_str}\\n\\n{content}', metadata_template='{key}: {value}', metadata_seperator='\\n'),\n",
       " Document(id_='79d8231d-df52-4dd6-a1cd-0b14ee37adcf', embedding=None, metadata={}, excluded_embed_metadata_keys=[], excluded_llm_metadata_keys=[], relationships={}, text=\"* Woodrow Wilson Ancestral Home  *  John Wesley's Place in History at The DCL.\", mimetype='text/plain', start_char_idx=None, end_char_idx=None, text_template='{metadata_str}\\n\\n{content}', metadata_template='{key}: {value}', metadata_seperator='\\n'),\n",
       " Document(id_='4b36a3dc-4d55-468e-bcbb-64d3ff97581d', embedding=None, metadata={}, excluded_embed_metadata_keys=[], excluded_llm_metadata_keys=[], relationships={}, text='Count Alessandro Giuseppe Antonio Anastasio Volta (February 18, 1745 - March 5, 1827) was an Italian physicist known especially for the development of the first known electric battery in 1800.', mimetype='text/plain', start_char_idx=None, end_char_idx=None, text_template='{metadata_str}\\n\\n{content}', metadata_template='{key}: {value}', metadata_seperator='\\n'),\n",
       " Document(id_='31aef7d2-29fb-4cd6-94db-cc9960c4c5ba', embedding=None, metadata={}, excluded_embed_metadata_keys=[], excluded_llm_metadata_keys=[], relationships={}, text=\"In 1774, Volta became professor of physics in the Como high school. His passion had always been the study of electricity, and while still a young student he had even written a poem in Latin on this fascinating new discovery. His first scientific paper he titled ''De vi attractiva ignis electrici ac phaenomenis inde pendentibus \", mimetype='text/plain', start_char_idx=None, end_char_idx=None, text_template='{metadata_str}\\n\\n{content}', metadata_template='{key}: {value}', metadata_seperator='\\n'),\n",
       " Document(id_='a4bef9f5-6ef0-43c0-8f89-a70c196de0c8', embedding=None, metadata={}, excluded_embed_metadata_keys=[], excluded_llm_metadata_keys=[], relationships={}, text='De vi attractiva ....', mimetype='text/plain', start_char_idx=None, end_char_idx=None, text_template='{metadata_str}\\n\\n{content}', metadata_template='{key}: {value}', metadata_seperator='\\n'),\n",
       " Document(id_='40490914-a401-4c40-842c-009b0ef2d03b', embedding=None, metadata={}, excluded_embed_metadata_keys=[], excluded_llm_metadata_keys=[], relationships={}, text=\"In 1775, Volta improved and popularized the electrophorus, a device that produces a static electric charge.  His promotion of it was so extensive that he is often credited with its invention, although it had actually  been invented in 1764 by Swedish professor Johan Carl Wilcke  , p.73     In 1776-77 he studied the chemistry of gases, discovered methane, and devised experiments such as the ignition of gases by an electric spark in a closed vessel. Volta also studied what we now call capacitance, developing separate means to study both electrical potential V and charge Q, and discovering that for a given object they are proportional.  This may be called Volta's Law of Capacitance, and likely for this work the unit of electrical potential has been named the volt. \", mimetype='text/plain', start_char_idx=None, end_char_idx=None, text_template='{metadata_str}\\n\\n{content}', metadata_template='{key}: {value}', metadata_seperator='\\n'),\n",
       " Document(id_='3bf24760-83db-47e4-81e2-63c6c9039447', embedding=None, metadata={}, excluded_embed_metadata_keys=[], excluded_llm_metadata_keys=[], relationships={}, text='In 1779 he became professor of experimental physics at the University of Pavia, a chair he occupied for almost 40 years. In 1794, Volta married the daughter of Count Ludovico Peregrini, Teresa, with whom he raised three sons.', mimetype='text/plain', start_char_idx=None, end_char_idx=None, text_template='{metadata_str}\\n\\n{content}', metadata_template='{key}: {value}', metadata_seperator='\\n'),\n",
       " Document(id_='f2cdb8c2-0d54-4ac0-b7b1-8925febf5ebb', embedding=None, metadata={}, excluded_embed_metadata_keys=[], excluded_llm_metadata_keys=[], relationships={}, text='Around 1791 he began to study the \"animal electricity\" noted by Galvani when two different metals were connected in series with the frog\\'s leg and to one another.  He realized that the frog\\'s leg served as both a conductor of electricity (we would now call it an electrolyte) and as a detector of electricity.  He replaced the frog\\'s leg by brine-soaked paper, and detected the flow of electricity by other means familiar to him from his previous studies of electricity.  In this way he discovered the electrochemical series, and the law that the electromotive force (emf) of a galvanic cell, consisting of a pair of metal electrodes separated by electrolyte, is the difference of their two electrode potentials.  That is, if the electrodes have emfs  \\\\mathcal{E}_{1,2} , then the net emf is  \\\\mathcal{E}_{2}-\\\\mathcal{E}_{1} .  (Thus, two identical electrodes and a common electrolyte give zero net emf.)  This may be called Volta\\'s Law of the electrochemical series.', mimetype='text/plain', start_char_idx=None, end_char_idx=None, text_template='{metadata_str}\\n\\n{content}', metadata_template='{key}: {value}', metadata_seperator='\\n'),\n",
       " Document(id_='4cecb7e8-fad3-402d-9cff-c9f3e6295c1e', embedding=None, metadata={}, excluded_embed_metadata_keys=[], excluded_llm_metadata_keys=[], relationships={}, text='In 1800, as the result of a professional disagreement over the galvanic response advocated by Luigi Galvani, he invented the voltaic pile, an early electric battery, which produced a steady electric current. Volta had determined that the most effective pair of dissimilar metals to produce electricity was zinc and silver. Initially he experimented with individual cells in series, each cell being a wine goblet filled with brine into which the two dissimilar electrodes were dipped. The electric pile replaced the goblets with cardboard soaked in brine. (The number of cells, and thus the voltage it could produce, was limited by the pressure, exerted by the upper cells, that would squeeze all of the brine out of the cardboard of the bottom cell.)', mimetype='text/plain', start_char_idx=None, end_char_idx=None, text_template='{metadata_str}\\n\\n{content}', metadata_template='{key}: {value}', metadata_seperator='\\n'),\n",
       " Document(id_='8ee281af-6889-4615-b61c-0abe830b2c99', embedding=None, metadata={}, excluded_embed_metadata_keys=[], excluded_llm_metadata_keys=[], relationships={}, text='In announcing his discovery of the pile, Volta paid tribute to the influences of William Nicholson, Tiberius Cavallo and Abraham Bennet. *  (', mimetype='text/plain', start_char_idx=None, end_char_idx=None, text_template='{metadata_str}\\n\\n{content}', metadata_template='{key}: {value}', metadata_seperator='\\n'),\n",
       " Document(id_='9a98afa2-68b2-4bcc-b4dd-b87c000ce2a4', embedding=None, metadata={}, excluded_embed_metadata_keys=[], excluded_llm_metadata_keys=[], relationships={}, text='The battery made by Volta is credited to have been the first cell. It consists of two electrodes: one made of zinc, the other of copper. The electrolyte is sulphuric acid. The electrolyte exists in the form 2H +  and SO 4   2- .  The zinc, which is higher than both copper and hydrogen in the electrochemical series, reacts with the negatively charged sulphate. ( SO 4  ) The positively charged hydrogen bubbles start depositing around the copper and take away some of its electrons. This makes the zinc rod the negative electrode and the copper rod the positive electrode.', mimetype='text/plain', start_char_idx=None, end_char_idx=None, text_template='{metadata_str}\\n\\n{content}', metadata_template='{key}: {value}', metadata_seperator='\\n'),\n",
       " Document(id_='24cb36ca-08e0-4316-b642-43200deef957', embedding=None, metadata={}, excluded_embed_metadata_keys=[], excluded_llm_metadata_keys=[], relationships={}, text='We now have 2 terminals, and the current will flow if we connect them. The reactions in this cell are as follows:', mimetype='text/plain', start_char_idx=None, end_char_idx=None, text_template='{metadata_str}\\n\\n{content}', metadata_template='{key}: {value}', metadata_seperator='\\n'),\n",
       " Document(id_='66aa5cd2-295a-48aa-a2d7-3d6b924b6fbc', embedding=None, metadata={}, excluded_embed_metadata_keys=[], excluded_llm_metadata_keys=[], relationships={}, text='However, this cell also has some disadvantages. It is unsafe to handle, as sulphuric acid, even if dilute, is dangerous. Also, the potential difference in the terminals finishes after some time. So it is not durable, and therefore, not a suitable choice.', mimetype='text/plain', start_char_idx=None, end_char_idx=None, text_template='{metadata_str}\\n\\n{content}', metadata_template='{key}: {value}', metadata_seperator='\\n'),\n",
       " Document(id_='6fc72c1a-a1c8-4480-9aeb-2f8ad43f9c76', embedding=None, metadata={}, excluded_embed_metadata_keys=[], excluded_llm_metadata_keys=[], relationships={}, text='In honour of his work in the field of electricity, Napoleon made him a count in 1810; in 1815 the Emperor of Austria named him a professor of philosophy at Padua.', mimetype='text/plain', start_char_idx=None, end_char_idx=None, text_template='{metadata_str}\\n\\n{content}', metadata_template='{key}: {value}', metadata_seperator='\\n'),\n",
       " Document(id_='a3f33fb1-b6f4-4df9-a430-ed6e44cc6d8f', embedding=None, metadata={}, excluded_embed_metadata_keys=[], excluded_llm_metadata_keys=[], relationships={}, text='Before 1796, Lombardy was ruled by Austria. From 1796 to 1815, Lombardy came under Napoleon\\'s rule. After 1815, Lombardy was once again under Austrian rule. Thus Volta was once a subject of the Emperor of Austria, later a subject of Napoleon and then later a subject of the Emperor of Austria again. Giuliano Pancaldi, \"Volta: Science and culture in the age of enlightenment\", Princeton University Press, 2003. ', mimetype='text/plain', start_char_idx=None, end_char_idx=None, text_template='{metadata_str}\\n\\n{content}', metadata_template='{key}: {value}', metadata_seperator='\\n'),\n",
       " Document(id_='6373b0b1-f00b-4c1b-9347-5c095ddaee17', embedding=None, metadata={}, excluded_embed_metadata_keys=[], excluded_llm_metadata_keys=[], relationships={}, text='The Tempio Voltiano, Como', mimetype='text/plain', start_char_idx=None, end_char_idx=None, text_template='{metadata_str}\\n\\n{content}', metadata_template='{key}: {value}', metadata_seperator='\\n'),\n",
       " Document(id_='8635833f-b2d8-415a-98d8-6adf95e02b67', embedding=None, metadata={}, excluded_embed_metadata_keys=[], excluded_llm_metadata_keys=[], relationships={}, text=\"He was a long-time correspondent of the Royal Society and was made a fellow (FRS). He received the Society's 1794 Copley Medal. He published his invention of the Voltaic pile battery in 1800 in the Philosophical Transactions of the Royal Society. He was in correspondence with scientists in Austria, which ruled Lombardy in his day, and in France. His 1800 paper was written in French.\", mimetype='text/plain', start_char_idx=None, end_char_idx=None, text_template='{metadata_str}\\n\\n{content}', metadata_template='{key}: {value}', metadata_seperator='\\n'),\n",
       " Document(id_='e4813131-e1ab-4132-a18a-711715e66fb2', embedding=None, metadata={}, excluded_embed_metadata_keys=[], excluded_llm_metadata_keys=[], relationships={}, text=\"Volta is buried in the city of Como. At the Tempio Voltiano near Lake Como there is a museum devoted to explaining his work. Count Volta's original instruments and papers are on display there.  The building, along with his portrait, appeared on Italian 10.000 lira banknote, before the introduction of the euro.\", mimetype='text/plain', start_char_idx=None, end_char_idx=None, text_template='{metadata_str}\\n\\n{content}', metadata_template='{key}: {value}', metadata_seperator='\\n'),\n",
       " Document(id_='490dd828-151a-4ac1-9f9e-ec699379123b', embedding=None, metadata={}, excluded_embed_metadata_keys=[], excluded_llm_metadata_keys=[], relationships={}, text='In 1881 an important electrical unit, the volt, was named in his honor. There have also been innovations and discovories named after Alessandro Volta including the Toyota Alessandro Volta, the Volta Crater on the Moon and in 2006 a technology company named their loan origination platform Volta.', mimetype='text/plain', start_char_idx=None, end_char_idx=None, text_template='{metadata_str}\\n\\n{content}', metadata_template='{key}: {value}', metadata_seperator='\\n'),\n",
       " Document(id_='2e386245-016d-4dba-8328-f6f1c3b8e891', embedding=None, metadata={}, excluded_embed_metadata_keys=[], excluded_llm_metadata_keys=[], relationships={}, text='Volta entered retirement in Spain.', mimetype='text/plain', start_char_idx=None, end_char_idx=None, text_template='{metadata_str}\\n\\n{content}', metadata_template='{key}: {value}', metadata_seperator='\\n'),\n",
       " Document(id_='ba64e2d8-394f-47be-a2d5-d0c24c296d8d', embedding=None, metadata={}, excluded_embed_metadata_keys=[], excluded_llm_metadata_keys=[], relationships={}, text='*  Alessandro Volta on the 10000 Italian Lire banknote.', mimetype='text/plain', start_char_idx=None, end_char_idx=None, text_template='{metadata_str}\\n\\n{content}', metadata_template='{key}: {value}', metadata_seperator='\\n'),\n",
       " Document(id_='3e0a2aa8-3b21-4b30-b869-ee99a41168e3', embedding=None, metadata={}, excluded_embed_metadata_keys=[], excluded_llm_metadata_keys=[], relationships={}, text='*  Catholic Encyclopedia article on Alessando Volta.', mimetype='text/plain', start_char_idx=None, end_char_idx=None, text_template='{metadata_str}\\n\\n{content}', metadata_template='{key}: {value}', metadata_seperator='\\n'),\n",
       " Document(id_='7073527e-eb66-4d40-8156-60edbad45380', embedding=None, metadata={}, excluded_embed_metadata_keys=[], excluded_llm_metadata_keys=[], relationships={}, text='*  Press release on Volta loan origination software.', mimetype='text/plain', start_char_idx=None, end_char_idx=None, text_template='{metadata_str}\\n\\n{content}', metadata_template='{key}: {value}', metadata_seperator='\\n'),\n",
       " Document(id_='b15fe9ef-ab25-463a-8751-0021a2d2fa63', embedding=None, metadata={}, excluded_embed_metadata_keys=[], excluded_llm_metadata_keys=[], relationships={}, text=\"Canada ( ) is a country occupying most of northern North America, extending from the Atlantic Ocean in the east to the Pacific Ocean in the west and northward into the Arctic Ocean.  It is the world's second largest country by total area,    and shares land borders with the United States to the south and northwest.\", mimetype='text/plain', start_char_idx=None, end_char_idx=None, text_template='{metadata_str}\\n\\n{content}', metadata_template='{key}: {value}', metadata_seperator='\\n'),\n",
       " Document(id_='7b9ec1d9-1f68-4991-b3ff-ee99a4948dcf', embedding=None, metadata={}, excluded_embed_metadata_keys=[], excluded_llm_metadata_keys=[], relationships={}, text='The lands have been inhabited for millennia by aboriginal peoples. Beginning in the late 15th century, British and French expeditions explored and later settled the Atlantic coast. France ceded nearly all of its colonies in North America in 1763 after the Seven Years War.', mimetype='text/plain', start_char_idx=None, end_char_idx=None, text_template='{metadata_str}\\n\\n{content}', metadata_template='{key}: {value}', metadata_seperator='\\n'),\n",
       " Document(id_='637bc9fb-a625-48dd-8349-92be8b427958', embedding=None, metadata={}, excluded_embed_metadata_keys=[], excluded_llm_metadata_keys=[], relationships={}, text='In 1867, with the union of three British North American colonies through Confederation, Canada was formed as a federal, semi-autonomous polity.           This began an accretion of additional provinces and territories and a process of increasing autonomy from the United Kingdom, highlighted by the Statute of Westminster in 1931 and culminating in the Canada Act in 1982 which severed the vestiges of legal dependence on the British parliament.', mimetype='text/plain', start_char_idx=None, end_char_idx=None, text_template='{metadata_str}\\n\\n{content}', metadata_template='{key}: {value}', metadata_seperator='\\n'),\n",
       " Document(id_='757e79d9-baac-467c-8479-1cebf5df6fc9', embedding=None, metadata={}, excluded_embed_metadata_keys=[], excluded_llm_metadata_keys=[], relationships={}, text='A federation now comprising ten provinces and three territories, Canada is a parliamentary democracy and a constitutional monarchy with Queen Elizabeth II as its head of state. It is a bilingual and multicultural country, with both English and French as official languages at the federal level. Technologically advanced and industrialized, Canada maintains a diversified economy that is heavily reliant upon its abundant natural resources and upon tradeâ\\x80\\x94particularly with the United States, with which Canada has had a long and complex relationship.', mimetype='text/plain', start_char_idx=None, end_char_idx=None, text_template='{metadata_str}\\n\\n{content}', metadata_template='{key}: {value}', metadata_seperator='\\n'),\n",
       " Document(id_='92ac1f24-affa-4422-b935-4b1bb1db5eac', embedding=None, metadata={}, excluded_embed_metadata_keys=[], excluded_llm_metadata_keys=[], relationships={}, text='Jacques Cartier', mimetype='text/plain', start_char_idx=None, end_char_idx=None, text_template='{metadata_str}\\n\\n{content}', metadata_template='{key}: {value}', metadata_seperator='\\n'),\n",
       " Document(id_='79eb0231-4151-4a36-8c4d-7212b8f30c08', embedding=None, metadata={}, excluded_embed_metadata_keys=[], excluded_llm_metadata_keys=[], relationships={}, text='The name Canada comes from a St. Lawrence Iroquoian word meaning \"village\" or \"settlement.\"  In 1535, inhabitants of the present-day Quebec City region used the word to direct explorer Jacques Cartier toward the village of Stadacona.    Cartier used the word \\'Canada\\' to refer to not only that village, but the entire area subject to Donnacona, Chief at Stadacona. By 1545, European books and maps began referring to this region as Canada.', mimetype='text/plain', start_char_idx=None, end_char_idx=None, text_template='{metadata_str}\\n\\n{content}', metadata_template='{key}: {value}', metadata_seperator='\\n'),\n",
       " Document(id_='9c33200b-5070-4fa7-8436-ab6d54795131', embedding=None, metadata={}, excluded_embed_metadata_keys=[], excluded_llm_metadata_keys=[], relationships={}, text='The French colony of Canada referred to the part of New France along the Saint Lawrence River and the northern shores of the Great Lakes. Later, it was split into two British colonies, called Upper Canada and Lower Canada until their union as the British Province of Canada in 1841. Upon Confederation in 1867, the name Canada was adopted for the entire country, and it was frequently referred to as the Dominion of Canada until the 1950s. As Canada asserted its political autonomy from Britain, the federal government increasingly used Canada on legal state documents and treaties. The Canada Act 1982 refers only to \"Canada\" and, as such, it is currently the only legal (and bilingual) name. This was reflected in 1982 with the renaming of the national holiday from Dominion Day to Canada Day.', mimetype='text/plain', start_char_idx=None, end_char_idx=None, text_template='{metadata_str}\\n\\n{content}', metadata_template='{key}: {value}', metadata_seperator='\\n'),\n",
       " Document(id_='6b04b589-c9f9-4d17-91c5-2f1c6588719f', embedding=None, metadata={}, excluded_embed_metadata_keys=[], excluded_llm_metadata_keys=[], relationships={}, text=\"The fur trade was Canada's most important industry until the 1800s\", mimetype='text/plain', start_char_idx=None, end_char_idx=None, text_template='{metadata_str}\\n\\n{content}', metadata_template='{key}: {value}', metadata_seperator='\\n'),\n",
       " Document(id_='89edb7de-dc3f-4a5d-90c9-3a83d17b2c65', embedding=None, metadata={}, excluded_embed_metadata_keys=[], excluded_llm_metadata_keys=[], relationships={}, text=\"Aboriginal and Inuit tradition holds that the First Peoples inhabited parts of Canada prehistorically. Archaeological studies support a human presence in northern Yukon from 26,500 years ago, and in southern Ontario from 9,500 years ago.       Europeans first arrived when the Vikings settled briefly at L'Anse aux Meadows circa AD 1000. The next Europeans to explore Canada's Atlantic coast included John Cabot in 1497  for England     and Jacques Cartier in 1534 for France   ; seasonal Basque whalers and fishermen would subsequently exploit the region between the Grand Banks and Tadoussac for over a century.\", mimetype='text/plain', start_char_idx=None, end_char_idx=None, text_template='{metadata_str}\\n\\n{content}', metadata_template='{key}: {value}', metadata_seperator='\\n'),\n",
       " Document(id_='08912a29-9cc5-4bae-aa28-33fa75f31d32', embedding=None, metadata={}, excluded_embed_metadata_keys=[], excluded_llm_metadata_keys=[], relationships={}, text='French explorer Samuel de Champlain arrived in 1603 and established the first permanent European settlements at Port Royal in 1605 and Quebec City in 1608. These would become respectively the capitals of Acadia and Canada. Among French colonists of New France, Canadiens extensively settled the St. Lawrence River valley, Acadians settled the present-day Maritimes, while French fur traders and Catholic missionaries explored the Great Lakes, Hudson Bay and the Mississippi watershed to Louisiana. The French and Iroquois Wars broke out over control of the fur trade.', mimetype='text/plain', start_char_idx=None, end_char_idx=None, text_template='{metadata_str}\\n\\n{content}', metadata_template='{key}: {value}', metadata_seperator='\\n'),\n",
       " Document(id_='e8157782-43a7-444c-8418-b765bc7fe412', embedding=None, metadata={}, excluded_embed_metadata_keys=[], excluded_llm_metadata_keys=[], relationships={}, text=\"The Death of General Wolfe on the Plains of Abraham at Quebec in 1759, part of the Seven Years' War.\", mimetype='text/plain', start_char_idx=None, end_char_idx=None, text_template='{metadata_str}\\n\\n{content}', metadata_template='{key}: {value}', metadata_seperator='\\n'),\n",
       " Document(id_='3cbcd011-6591-4f5d-89ed-6d0ea4049f46', embedding=None, metadata={}, excluded_embed_metadata_keys=[], excluded_llm_metadata_keys=[], relationships={}, text=\"The English established fishing outposts in Newfoundland around 1610 and colonized the Thirteen Colonies to the south. A series of four Intercolonial Wars erupted between 1689 and 1763. Mainland Nova Scotia came under British rule with the Treaty of Utrecht (1713); the Treaty of Paris (1763) ceded Canada and most of New France to Britain following the Seven Years' War.\", mimetype='text/plain', start_char_idx=None, end_char_idx=None, text_template='{metadata_str}\\n\\n{content}', metadata_template='{key}: {value}', metadata_seperator='\\n'),\n",
       " Document(id_='9e5f2951-781b-4c82-ad86-9c351f6b26c7', embedding=None, metadata={}, excluded_embed_metadata_keys=[], excluded_llm_metadata_keys=[], relationships={}, text=\"The Royal Proclamation (1763) carved the Province of Quebec out of New France and annexed Cape Breton Island to Nova Scotia. It also restricted the language and religious rights of French Canadians. In 1769, St. John's Island (now Prince Edward Island) became a separate colony. To avert conflict in Quebec, the Quebec Act of 1774 expanded Quebec's territory to the Great Lakes and Ohio Valley, and re-established the French language, Catholic faith, and French civil law in Quebec; it angered many residents of the Thirteen Colonies, helping to fuel the American Revolution.    The Treaty of Paris (1783) recognized American independence and ceded territories south of the Great Lakes to the United States. Approximately 50,000 United Empire Loyalists fled the United States to Canada.    New Brunswick was split from Nova Scotia as part of a reorganization of Loyalist settlements in the Maritimes. To accommodate English-speaking Loyalists in Quebec, the Constitutional Act of 1791 divided the province into French-speaking Lower Canada and English-speaking Upper Canada, granting each their own elected Legislative Assembly.\", mimetype='text/plain', start_char_idx=None, end_char_idx=None, text_template='{metadata_str}\\n\\n{content}', metadata_template='{key}: {value}', metadata_seperator='\\n'),\n",
       " Document(id_='db25c598-4a18-49e8-a737-0a2f1004a93d', embedding=None, metadata={}, excluded_embed_metadata_keys=[], excluded_llm_metadata_keys=[], relationships={}, text='Canada was a major front in the War of 1812 between the United States and British Empire. Its defence contributed to a sense of unity among British North Americans. Large-scale immigration to Canada began in 1815 from Britain and Ireland. The timber industry would also surpass the fur trade in importance in the early 1800s.', mimetype='text/plain', start_char_idx=None, end_char_idx=None, text_template='{metadata_str}\\n\\n{content}', metadata_template='{key}: {value}', metadata_seperator='\\n'),\n",
       " Document(id_='553e3ae3-5419-42f0-ba13-f3b9ec12a532', embedding=None, metadata={}, excluded_embed_metadata_keys=[], excluded_llm_metadata_keys=[], relationships={}, text=\"Robert Harris's painting of the Fathers of Confederation. The scene is an amalgamation of the Charlottetown and Quebec City conference sites and attendees.\", mimetype='text/plain', start_char_idx=None, end_char_idx=None, text_template='{metadata_str}\\n\\n{content}', metadata_template='{key}: {value}', metadata_seperator='\\n'),\n",
       " Document(id_='9a4e0656-0c36-40d8-8ff4-fa5fe38983a0', embedding=None, metadata={}, excluded_embed_metadata_keys=[], excluded_llm_metadata_keys=[], relationships={}, text='The desire for Responsible Government resulted in the aborted Rebellions of 1837. The Durham Report (1839) would subsequently recommend responsible government and the assimilation of French Canadians into British culture.    The Act of Union (1840) merged The Canadas  into a United Province of Canada. French and English Canadians worked together in the Assembly to reinstate French rights. Responsible government was established for all British North American provinces by 1849.', mimetype='text/plain', start_char_idx=None, end_char_idx=None, text_template='{metadata_str}\\n\\n{content}', metadata_template='{key}: {value}', metadata_seperator='\\n'),\n",
       " Document(id_='575a5c83-7e8c-4be2-8cbd-b5b8b501ac64', embedding=None, metadata={}, excluded_embed_metadata_keys=[], excluded_llm_metadata_keys=[], relationships={}, text=\"The signing of the Oregon Treaty by Britain and the United States in 1846 ended the Oregon boundary dispute, extending the border westward along the 49th parallel, and paving the way for British colonies on Vancouver Island (1849) and in British Columbia (1858). Canada launched a series of western exploratory expeditions to claim Rupert's Land and the Arctic region. The Canadian population grew rapidly because of high birth rates; British immigration was offset by emigration to the United States, especially by French Canadians moving to New England.\", mimetype='text/plain', start_char_idx=None, end_char_idx=None, text_template='{metadata_str}\\n\\n{content}', metadata_template='{key}: {value}', metadata_seperator='\\n'),\n",
       " Document(id_='9863ee70-f18e-4380-9b49-bc3a13872167', embedding=None, metadata={}, excluded_embed_metadata_keys=[], excluded_llm_metadata_keys=[], relationships={}, text=\"An animated map, exhibiting the growth and refactoring of Canada's provinces and territories since Confederation.\", mimetype='text/plain', start_char_idx=None, end_char_idx=None, text_template='{metadata_str}\\n\\n{content}', metadata_template='{key}: {value}', metadata_seperator='\\n'),\n",
       " Document(id_='f2779d3c-cdb6-4182-bca8-d82ea7e80526', embedding=None, metadata={}, excluded_embed_metadata_keys=[], excluded_llm_metadata_keys=[], relationships={}, text='Following several constitutional conferences, the British North America Act brought about Confederation creating \"one Dominion under the name of Canada\" on July 1, 1867 with four provinces: Ontario, Quebec, Nova Scotia, and New Brunswick.     Canada assumed control of Rupert\\'s Land and the North-Western Territory to form the Northwest Territories, where MÃ©tis\\' grievances ignited the Red River Rebellion and the creation of the province of Manitoba in July 1870. British Columbia and Vancouver Island (which had united in 1866) and the colony of Prince Edward Island joined Confederation in 1871 and 1873, respectively.', mimetype='text/plain', start_char_idx=None, end_char_idx=None, text_template='{metadata_str}\\n\\n{content}', metadata_template='{key}: {value}', metadata_seperator='\\n'),\n",
       " Document(id_='8d37cb57-d44d-41ca-b45c-0237f85115fe', embedding=None, metadata={}, excluded_embed_metadata_keys=[], excluded_llm_metadata_keys=[], relationships={}, text=\"Prime Minister John A. Macdonald's Conservative Party established a National Policy of tariffs to protect nascent Canadian manufacturing industries. To open the West, the government sponsored construction of three trans-continental railways  (most notably the Canadian Pacific Railway), opened the prairies to settlement with the Dominion Lands Act, and established the North West Mounted Police to assert its authority over this territory.   In 1898, after the Klondike Gold Rush in the Northwest Territories, the Canadian government decided to create the Yukon territory as a separate territory in the region to better control the situation. Under Liberal Prime Minister Wilfrid Laurier, continental European immigrants settled the prairies, and Alberta and Saskatchewan became provinces in 1905.\", mimetype='text/plain', start_char_idx=None, end_char_idx=None, text_template='{metadata_str}\\n\\n{content}', metadata_template='{key}: {value}', metadata_seperator='\\n'),\n",
       " Document(id_='46f59b95-be79-45d9-b083-b3647fd5f200', embedding=None, metadata={}, excluded_embed_metadata_keys=[], excluded_llm_metadata_keys=[], relationships={}, text='Canadian soldiers would win the Battle of Vimy Ridge in 1917.', mimetype='text/plain', start_char_idx=None, end_char_idx=None, text_template='{metadata_str}\\n\\n{content}', metadata_template='{key}: {value}', metadata_seperator='\\n'),\n",
       " Document(id_='9f03832d-5666-4d04-a260-63240ae20640', embedding=None, metadata={}, excluded_embed_metadata_keys=[], excluded_llm_metadata_keys=[], relationships={}, text=\"Canada automatically entered the First World War in 1914 with Britain's declaration of war, sending volunteers to the Western Front. The Conscription Crisis of 1917  erupted when conservative Prime Minister Robert Borden brought in compulsory military service over the objection of French-speaking Quebecers.  In 1919, Canada joined the League of Nations independently of Britain; in 1931 the Statute of Westminster affirmed Canada's independence.\", mimetype='text/plain', start_char_idx=None, end_char_idx=None, text_template='{metadata_str}\\n\\n{content}', metadata_template='{key}: {value}', metadata_seperator='\\n'),\n",
       " Document(id_='71ef24f4-56d0-4406-a745-de9e0307a21c', embedding=None, metadata={}, excluded_embed_metadata_keys=[], excluded_llm_metadata_keys=[], relationships={}, text='The Great Depression of 1929 brought economic hardship to all of Canada. In response, the Co-operative Commonwealth Federation (CCF) in Alberta and Saskatchewan presaged a welfare state as pioneered by Tommy Douglas in the 1940s and 1950s. Canada declared war on Germany independently during World War II under Liberal Prime Minister William Lyon Mackenzie King, three days after Britain. The first Canadian Army units arrived in Britain in December 1939.    Canadian troops played important roles in the Battle of the Atlantic, the failed 1942 Dieppe Raid in France, the Allied invasion of Italy, and the Battle of the Scheldt during the liberation of the Netherlands in 1944. The Canadian economy boomed as industry manufactured military materiel  for Canada, Britain, China and the Soviet Union. Despite another Conscription Crisis in Quebec, Canada finished the war with one of the largest armed forces in the world.', mimetype='text/plain', start_char_idx=None, end_char_idx=None, text_template='{metadata_str}\\n\\n{content}', metadata_template='{key}: {value}', metadata_seperator='\\n'),\n",
       " Document(id_='1d561047-ff7c-4439-83b8-2ad89df92585', embedding=None, metadata={}, excluded_embed_metadata_keys=[], excluded_llm_metadata_keys=[], relationships={}, text=\"In 1949, Newfoundland joined Confederation as Canada's 10th province. Post-war prosperity and economic expansion ignited a baby boom and attracted immigration from war-ravaged European countries.\", mimetype='text/plain', start_char_idx=None, end_char_idx=None, text_template='{metadata_str}\\n\\n{content}', metadata_template='{key}: {value}', metadata_seperator='\\n'),\n",
       " Document(id_='3e42a5cc-2ed1-4c7b-9914-7a9de6510109', embedding=None, metadata={}, excluded_embed_metadata_keys=[], excluded_llm_metadata_keys=[], relationships={}, text=\"Quebec underwent profound social and economic changes during the Quiet Revolution of the 1960s. QuÃ©bÃ©cois nationalists began pressing for greater provincial autonomy. The separatist Parti QuÃ©bÃ©cois first came to power in 1976. A referendum on sovereignty-association in 1980 was rejected by a solid majority of the population, and a second referendum in 1995 was rejected by a slimmer margin of just 50.6% to 49.4%.    In 1997, the Canadian Supreme Court ruled unilateral secession by a province to be unconstitutional; Quebec's sovereignty movement has continued nonetheless.\", mimetype='text/plain', start_char_idx=None, end_char_idx=None, text_template='{metadata_str}\\n\\n{content}', metadata_template='{key}: {value}', metadata_seperator='\\n'),\n",
       " Document(id_='7bc8d393-c7ba-4026-a29a-148625de0dfe', embedding=None, metadata={}, excluded_embed_metadata_keys=[], excluded_llm_metadata_keys=[], relationships={}, text='The Queen and the Registrar General signing the Constitution Act, 1982.', mimetype='text/plain', start_char_idx=None, end_char_idx=None, text_template='{metadata_str}\\n\\n{content}', metadata_template='{key}: {value}', metadata_seperator='\\n'),\n",
       " Document(id_='fb808728-f440-43cb-b761-236c6260751b', embedding=None, metadata={}, excluded_embed_metadata_keys=[], excluded_llm_metadata_keys=[], relationships={}, text='Under successive Liberal governments of Lester B. Pearson and Pierre Trudeau, a new Canadian identity emerged. Canada adopted its current Maple Leaf Flag in 1965. In response to a more assertive French-speaking Quebec, the federal government became officially bilingual with the Official Languages Act of 1969.  Non-discriminatory Immigration Acts were introduced in 1967 and 1976, and official multiculturalism in 1971; waves of non-European immigration had changed the face of the country. Social democratic programs such as Universal Health Care, the Canada Pension Plan, and Canada Student Loans were initiated in the 1960s and consolidated in the 1970s; provincial governments, particularly Quebec, fought these as incursions into their jurisdictions. Finally, Prime Minister Pierre Trudeau pushed through the patriation of the constitution from Britain, enshrining a Charter of Rights and Freedoms based on individual rights in the Constitution Act of 1982.', mimetype='text/plain', start_char_idx=None, end_char_idx=None, text_template='{metadata_str}\\n\\n{content}', metadata_template='{key}: {value}', metadata_seperator='\\n'),\n",
       " Document(id_='b612fde1-2d8b-4a35-81b8-467250f4bfc2', embedding=None, metadata={}, excluded_embed_metadata_keys=[], excluded_llm_metadata_keys=[], relationships={}, text='Economic integration with the United States has increased significantly since World War II. The Canada-United States Automotive Agreement (or Auto Pact) in 1965 and the Canada-United States Free Trade Agreement of 1987 were defining moments in integrating the two economies. Canadian nationalists continued to worry about their cultural autonomy as American television shows, movies and corporations became omnipresent.    However, Canadians take special pride in their system of universal health care and their commitment to multiculturalism.', mimetype='text/plain', start_char_idx=None, end_char_idx=None, text_template='{metadata_str}\\n\\n{content}', metadata_template='{key}: {value}', metadata_seperator='\\n'),\n",
       " Document(id_='907b229d-ef81-42e1-bca5-ea4ec0d47a09', embedding=None, metadata={}, excluded_embed_metadata_keys=[], excluded_llm_metadata_keys=[], relationships={}, text='Parliament Hill, Ottawa.', mimetype='text/plain', start_char_idx=None, end_char_idx=None, text_template='{metadata_str}\\n\\n{content}', metadata_template='{key}: {value}', metadata_seperator='\\n'),\n",
       " Document(id_='e8e127f9-6317-438f-8650-f8529b1fefc2', embedding=None, metadata={}, excluded_embed_metadata_keys=[], excluded_llm_metadata_keys=[], relationships={}, text='Canada is a constitutional monarchy with Elizabeth II, Queen of Canada, as head of state;       the Canadian monarch also serves as head of state of fifteen other Commonwealth countries, putting Canada in a personal union relationship with those other states. The country is a parliamentary democracy with a federal system of parliamentary government and strong democratic traditions.', mimetype='text/plain', start_char_idx=None, end_char_idx=None, text_template='{metadata_str}\\n\\n{content}', metadata_template='{key}: {value}', metadata_seperator='\\n'),\n",
       " Document(id_='4830ff39-111a-49f8-852b-587c1d75b0ff', embedding=None, metadata={}, excluded_embed_metadata_keys=[], excluded_llm_metadata_keys=[], relationships={}, text='Canada\\'s constitution consists of written text and unwritten traditions and conventions.    The  Constitution Act, 1867 (formerly the British North America Act) established governance based on parliamentary precedent  \"similar in principle to that of the United Kingdom\" and divided powers between the federal and provincial governments. The Constitution Act, 1982 added a Canadian Charter of Rights and Freedoms, which guarantees basic rights and freedoms for Canadians that generally cannot be overridden by legislation of any level of government in Canada. However, a notwithstanding clause, allows the federal parliament and the provincial legislatures to override certain sections of the Charter temporarily, for a period of five years.', mimetype='text/plain', start_char_idx=None, end_char_idx=None, text_template='{metadata_str}\\n\\n{content}', metadata_template='{key}: {value}', metadata_seperator='\\n'),\n",
       " Document(id_='85ee705f-dfa6-4d2c-ba37-65f089b7c5fa', embedding=None, metadata={}, excluded_embed_metadata_keys=[], excluded_llm_metadata_keys=[], relationships={}, text='The Chamber of the House of Commons.', mimetype='text/plain', start_char_idx=None, end_char_idx=None, text_template='{metadata_str}\\n\\n{content}', metadata_template='{key}: {value}', metadata_seperator='\\n'),\n",
       " Document(id_='8e43bb56-f2ef-4937-b013-f6dfceb3ed0d', embedding=None, metadata={}, excluded_embed_metadata_keys=[], excluded_llm_metadata_keys=[], relationships={}, text=\"The monarch is represented by a viceroy, the Governor General, who is empowered to exercise almost all of the constitutional duties of the sovereign, though wielding these powers almost always on the advice of the appointed Queen's Privy Council for Canada. In practice, the only body to direct the use of the executive powers is the Cabinet   a committee of the Privy Council made up of Ministers of the Crown, all of whom are  responsible to the elected House of Commons. The Cabinet is headed by the Prime Minister, who holds the conventional position of head of government; to ensure the stability of government, the Governor General will usually appoint the person who is the current leader of the political party that can obtain the confidence of a plurality in the House of Commons. The Prime Minister chooses the Cabinet, and by convention, the Governor General respects the Prime Minister's choices. MichaÃ«lle Jean has served as Governor General since September 27, 2005, and Stephen Harper, leader of the Conservative Party, has been her Prime Minister since February 6, 2006.\", mimetype='text/plain', start_char_idx=None, end_char_idx=None, text_template='{metadata_str}\\n\\n{content}', metadata_template='{key}: {value}', metadata_seperator='\\n'),\n",
       " Document(id_='42676c90-6665-430c-b62c-820e11c638b2', embedding=None, metadata={}, excluded_embed_metadata_keys=[], excluded_llm_metadata_keys=[], relationships={}, text='The federal parliament is made up of the Queen and two houses: an elected House of Commons and an appointed Senate. Each member in the House of Commons is elected by simple plurality in a riding or electoral district; general elections are called by the Governor General when the Prime Minister so advises. While there is no minimum term for a Parliament, a new election must be called within five years of the last general election. Members of the Senate, whose seats are apportioned on a regional basis, are chosen by the Prime Minister and formally appointed by the Governor General, and serve until age 75.', mimetype='text/plain', start_char_idx=None, end_char_idx=None, text_template='{metadata_str}\\n\\n{content}', metadata_template='{key}: {value}', metadata_seperator='\\n'),\n",
       " Document(id_='13c842df-0b85-4e90-b0c5-d7a9295c960f', embedding=None, metadata={}, excluded_embed_metadata_keys=[], excluded_llm_metadata_keys=[], relationships={}, text='Four parties have substantial representation in the federal parliament: the Conservative Party of Canada, the Liberal Party of Canada, the New Democratic Party (NDP), and the Bloc QuÃ©bÃ©cois. The current government is formed by the Conservative Party of Canada. While the Green Party of Canada and other smaller parties do not have current representation in Parliament, the list of historical parties with elected representation is substantial.', mimetype='text/plain', start_char_idx=None, end_char_idx=None, text_template='{metadata_str}\\n\\n{content}', metadata_template='{key}: {value}', metadata_seperator='\\n'),\n",
       " Document(id_='8035e32d-1a17-42c8-acab-04dff4c09fae', embedding=None, metadata={}, excluded_embed_metadata_keys=[], excluded_llm_metadata_keys=[], relationships={}, text='The Supreme Court of Canada in Ottawa, west of Parliament Hill.', mimetype='text/plain', start_char_idx=None, end_char_idx=None, text_template='{metadata_str}\\n\\n{content}', metadata_template='{key}: {value}', metadata_seperator='\\n'),\n",
       " Document(id_='25fbcb02-c86b-427d-a853-745edc4da8cf', embedding=None, metadata={}, excluded_embed_metadata_keys=[], excluded_llm_metadata_keys=[], relationships={}, text=\"Canada's judiciary plays an important role in interpreting laws and has the power to strike down laws that violate the Constitution.  The Supreme Court of Canada is the highest court and final arbiter and is led by the Right Honourable Madam Chief Justice Beverley McLachlin, P.C. Its nine members are appointed by the Governor General on the advice of the Prime Minister. All judges at the superior and appellate levels are appointed by the Governor General on the advice of the prime minister and minister of justice, after consultation with non-governmental legal bodies. The federal cabinet appoints justices to superior courts at the provincial and territorial levels. Judicial posts at the lower provincial and territorial levels are filled by their respective governments (see Court system of Canada for more detail).\", mimetype='text/plain', start_char_idx=None, end_char_idx=None, text_template='{metadata_str}\\n\\n{content}', metadata_template='{key}: {value}', metadata_seperator='\\n'),\n",
       " Document(id_='f34b1bbc-3c2a-4fdf-b559-d2ef76eae3ba', embedding=None, metadata={}, excluded_embed_metadata_keys=[], excluded_llm_metadata_keys=[], relationships={}, text='Common law prevails everywhere except in Quebec, where civil law predominates. Criminal law is solely a federal responsibility and is uniform throughout Canada. Law enforcement, including criminal courts, is a provincial responsibility, but in rural areas of all provinces except Ontario and Quebec, policing is contracted to the federal Royal Canadian Mounted Police (RCMP).', mimetype='text/plain', start_char_idx=None, end_char_idx=None, text_template='{metadata_str}\\n\\n{content}', metadata_template='{key}: {value}', metadata_seperator='\\n'),\n",
       " Document(id_='c09bafbb-58d3-480f-aa12-147e76294aff', embedding=None, metadata={}, excluded_embed_metadata_keys=[], excluded_llm_metadata_keys=[], relationships={}, text='The Peacekeeping Monument in Ottawa.', mimetype='text/plain', start_char_idx=None, end_char_idx=None, text_template='{metadata_str}\\n\\n{content}', metadata_template='{key}: {value}', metadata_seperator='\\n'),\n",
       " Document(id_='314accdd-39ad-4a2e-b489-cc505488e605', embedding=None, metadata={}, excluded_embed_metadata_keys=[], excluded_llm_metadata_keys=[], relationships={}, text=\"Canada and the United States share the world's longest undefended border, co-operate on military campaigns and exercises, and are each other's largest trading partners. Canada has nevertheless maintained an independent foreign policy, most notably maintaining full relations with Cuba and declining participation in the Iraq War. Canada also maintains historic ties to the United Kingdom and France and to other former British and French colonies through Canada's membership in the Commonwealth of Nations and La Francophonie (French-Speaking Countries).\", mimetype='text/plain', start_char_idx=None, end_char_idx=None, text_template='{metadata_str}\\n\\n{content}', metadata_template='{key}: {value}', metadata_seperator='\\n'),\n",
       " Document(id_='26f7281e-9495-4484-88d4-cbf2921d97f3', embedding=None, metadata={}, excluded_embed_metadata_keys=[], excluded_llm_metadata_keys=[], relationships={}, text='Canada currently employs a professional, volunteer military force of about 64,000 regular and 26,000 reserve personnel.    The unified Canadian Forces (CF) comprise the army, navy, and air force. Major CF equipment deployed includes 1,400 armoured fighting vehicles, 34 combat vessels, and 861 aircraft.', mimetype='text/plain', start_char_idx=None, end_char_idx=None, text_template='{metadata_str}\\n\\n{content}', metadata_template='{key}: {value}', metadata_seperator='\\n'),\n",
       " Document(id_='7f9cc9df-24b4-4fe3-bb34-64891b7e8638', embedding=None, metadata={}, excluded_embed_metadata_keys=[], excluded_llm_metadata_keys=[], relationships={}, text='Lester B. Pearson with 1957 Nobel Peace Prize.', mimetype='text/plain', start_char_idx=None, end_char_idx=None, text_template='{metadata_str}\\n\\n{content}', metadata_template='{key}: {value}', metadata_seperator='\\n'),\n",
       " Document(id_='51f40519-a738-4856-a3bd-588fdc28f816', embedding=None, metadata={}, excluded_embed_metadata_keys=[], excluded_llm_metadata_keys=[], relationships={}, text='Strong attachment to the British Empire and Commonwealth in English Canada led to major participation in British military efforts in the Second Boer War, the First World War, and the Second World War. Since then, Canada has been an advocate for multilateralism, making efforts to resolve global issues in collaboration with other nations. ', mimetype='text/plain', start_char_idx=None, end_char_idx=None, text_template='{metadata_str}\\n\\n{content}', metadata_template='{key}: {value}', metadata_seperator='\\n'),\n",
       " Document(id_='f2bb1ad0-4e88-4119-bc25-f7284ca4af08', embedding=None, metadata={}, excluded_embed_metadata_keys=[], excluded_llm_metadata_keys=[], relationships={}, text='      Canada joined the United Nations in 1945 and became a founding member of NATO in 1949. During the Cold War, Canada was a major contributor to UN forces in the Korean War, and founded the North American Aerospace Defense Command (NORAD) in cooperation with the United States to defend against aerial attacks from the Soviet Union.', mimetype='text/plain', start_char_idx=None, end_char_idx=None, text_template='{metadata_str}\\n\\n{content}', metadata_template='{key}: {value}', metadata_seperator='\\n'),\n",
       " Document(id_='9f27fa8a-2941-459e-86bc-86b7086ec660', embedding=None, metadata={}, excluded_embed_metadata_keys=[], excluded_llm_metadata_keys=[], relationships={}, text='Canada has played a leading role in UN peacekeeping efforts. During the Suez Crisis of 1956, Lester B. Pearson eased tensions by proposing the inception of the United Nations Peacekeeping Force.      Canada has since served in 50 peacekeeping missions, including every UN peacekeeping effort until 1989    ', mimetype='text/plain', start_char_idx=None, end_char_idx=None, text_template='{metadata_str}\\n\\n{content}', metadata_template='{key}: {value}', metadata_seperator='\\n'),\n",
       " Document(id_='189547aa-9a8c-4b24-8338-7d0de40c715e', embedding=None, metadata={}, excluded_embed_metadata_keys=[], excluded_llm_metadata_keys=[], relationships={}, text='and has since maintained forces in international missions in the former Yugoslavia and elsewhere.', mimetype='text/plain', start_char_idx=None, end_char_idx=None, text_template='{metadata_str}\\n\\n{content}', metadata_template='{key}: {value}', metadata_seperator='\\n'),\n",
       " Document(id_='a716f8b0-89ad-4112-9afc-ef325babd1c3', embedding=None, metadata={}, excluded_embed_metadata_keys=[], excluded_llm_metadata_keys=[], relationships={}, text='Canada joined the Organization of American States (OAS) in 1990; Canada hosted the OAS General Assembly in Windsor in June 2000 and the third Summit of the Americas in Quebec City in April 2001. Canada seeks to expand its ties to Pacific Rim economies through membership in the Asia-Pacific Economic Cooperation forum (APEC).', mimetype='text/plain', start_char_idx=None, end_char_idx=None, text_template='{metadata_str}\\n\\n{content}', metadata_template='{key}: {value}', metadata_seperator='\\n'),\n",
       " Document(id_='98f15784-0788-487f-8b87-9d9f89c98178', embedding=None, metadata={}, excluded_embed_metadata_keys=[], excluded_llm_metadata_keys=[], relationships={}, text='Canadian soldiers in Afghanistan.', mimetype='text/plain', start_char_idx=None, end_char_idx=None, text_template='{metadata_str}\\n\\n{content}', metadata_template='{key}: {value}', metadata_seperator='\\n'),\n",
       " Document(id_='bab9c574-3357-4d41-8d5d-c8b963711c3c', embedding=None, metadata={}, excluded_embed_metadata_keys=[], excluded_llm_metadata_keys=[], relationships={}, text=\"Since 2001, Canada has had troops deployed in Afghanistan as part of the US stabilization force and the UN-authorized, NATO-commanded International Security Assistance Force. Canada's Disaster Assistance Response Team (DART) has participated in three major relief efforts in the past two years; the two-hundred member team has been deployed in relief operations after the December 2004 tsunami in South Asia, Hurricane Katrina in September 2005 and the Kashmir earthquake in October 2005.\", mimetype='text/plain', start_char_idx=None, end_char_idx=None, text_template='{metadata_str}\\n\\n{content}', metadata_template='{key}: {value}', metadata_seperator='\\n'),\n",
       " Document(id_='11279167-760b-4c8e-abc2-35b5ebad30a0', embedding=None, metadata={}, excluded_embed_metadata_keys=[], excluded_llm_metadata_keys=[], relationships={}, text='In February 2007, Canada, Italy, Britain, Norway, and Russia announced their funding commitments to launch a $1.5 billion project to help develop vaccines they said could save millions of lives in poor nations, and called on others to join them. \" Rich Nations Launch Vaccine Pact\". Reuters. February 10, 2007.  In August 2007, Canadian sovereignty in Arctic waters was challenged following a Russian expedition which planted a Russian flag at the seabed at the North Pole. Canada has considered that area to be sovereign territory since 1925.', mimetype='text/plain', start_char_idx=None, end_char_idx=None, text_template='{metadata_str}\\n\\n{content}', metadata_template='{key}: {value}', metadata_seperator='\\n'),\n",
       " Document(id_='77b1fa16-460c-46ae-84f5-00b6c1d526ae', embedding=None, metadata={}, excluded_embed_metadata_keys=[], excluded_llm_metadata_keys=[], relationships={}, text='A geopolitical map of Canada, exhibiting its ten provinces and three territories.', mimetype='text/plain', start_char_idx=None, end_char_idx=None, text_template='{metadata_str}\\n\\n{content}', metadata_template='{key}: {value}', metadata_seperator='\\n'),\n",
       " Document(id_='bf4301cc-d066-4e2c-9b46-ca6a54b69f58', embedding=None, metadata={}, excluded_embed_metadata_keys=[], excluded_llm_metadata_keys=[], relationships={}, text='Canada is a federation composed of ten provinces and three territories; in turn, these may be grouped into numerous regions. Western Canada consists of British Columbia and three Prairie provinces (Alberta, Saskatchewan, Manitoba). Eastern Canada consists of Central Canada (Quebec and Ontario) and Atlantic Canada (comprised of the three Maritime provinces of New Brunswick, Prince Edward Island, and Nova Scotia; and Newfoundland and Labrador).  Three territories (Yukon, Northwest Territories, and Nunavut) comprise Northern Canada. Provinces have a large degree of autonomy from the federal government,  territories somewhat less. Each has its own provincial or territorial symbols.', mimetype='text/plain', start_char_idx=None, end_char_idx=None, text_template='{metadata_str}\\n\\n{content}', metadata_template='{key}: {value}', metadata_seperator='\\n'),\n",
       " Document(id_='ecef57c3-c1a1-4468-9a7d-7c1204bfdc8b', embedding=None, metadata={}, excluded_embed_metadata_keys=[], excluded_llm_metadata_keys=[], relationships={}, text=\"The provinces are responsible for most of Canada's social programs (such as health care, education, and welfare) and together collect more revenue than the federal government, an almost unique structure among federations in the world. Using its spending powers, the federal government can initiate national policies in provincial areas, such as the Canada Health Act; the provinces can opt out of these, but rarely do so in practice. Equalization payments are made by the federal government to ensure that reasonably uniform standards of services and taxation are kept between the richer and poorer provinces.\", mimetype='text/plain', start_char_idx=None, end_char_idx=None, text_template='{metadata_str}\\n\\n{content}', metadata_template='{key}: {value}', metadata_seperator='\\n'),\n",
       " Document(id_='baa69773-8ce9-48b8-ada8-7f39017940fe', embedding=None, metadata={}, excluded_embed_metadata_keys=[], excluded_llm_metadata_keys=[], relationships={}, text='All provinces have unicameral, elected legislatures headed by a Premier selected in the same way as the Prime Minister of Canada. Each province also has a Lieutenant-Governor representing the Queen, analogous to the Governor General of Canada, appointed on the recommendation of the Prime Minister of Canada, though with increasing levels of consultation with provincial governments in recent years.', mimetype='text/plain', start_char_idx=None, end_char_idx=None, text_template='{metadata_str}\\n\\n{content}', metadata_template='{key}: {value}', metadata_seperator='\\n'),\n",
       " Document(id_='ff725aa3-e1d1-4eda-8f2e-cdbff77687ff', embedding=None, metadata={}, excluded_embed_metadata_keys=[], excluded_llm_metadata_keys=[], relationships={}, text=\"A satellite composite image of Canada. Boreal forests prevail on the rocky Canadian Shield. Ice and tundra are prominent in the Arctic. Glaciers are visible in the Canadian Rockies and Coast Mountains. Flat and fertile Prairies facilitate agriculture. The Great Lakes feed the St. Lawrence River (in the southeast) where lowlands host much of Canada's population.\", mimetype='text/plain', start_char_idx=None, end_char_idx=None, text_template='{metadata_str}\\n\\n{content}', metadata_template='{key}: {value}', metadata_seperator='\\n'),\n",
       " Document(id_='784ef09a-39aa-4a54-8d71-c2049398d00f', embedding=None, metadata={}, excluded_embed_metadata_keys=[], excluded_llm_metadata_keys=[], relationships={}, text='Canada occupies a major northern portion of North America, sharing land borders with the contiguous United States to the south and with the US state of Alaska to the northwest, stretching from the Atlantic Ocean in the east to the Pacific Ocean in the west; to the north lies the Arctic Ocean.  By total area (including its waters), Canada is the second largest country in the world, after Russia, and largest on the continent. By land area it ranks fourth, after Russia, China, and the United States.  World Factbook: Area Country Comparison Table   Since 1925, Canada has claimed the portion of the Arctic between 60Â°W and 141Â°W longitude,    but this claim is not universally recognized. The northernmost settlement in Canada and in the world is Canadian Forces Station (CFS) Alert on the northern tip of Ellesmere Islandâ\\x80\\x94latitude 82.5Â°Nâ\\x80\\x94just 817 kilometres (450 nautical miles) from the North Pole.     Canada has the longest coastline in the world: 243,000 kilometres.', mimetype='text/plain', start_char_idx=None, end_char_idx=None, text_template='{metadata_str}\\n\\n{content}', metadata_template='{key}: {value}', metadata_seperator='\\n'),\n",
       " Document(id_='69335c51-43ba-40a9-b946-42735005b10b', embedding=None, metadata={}, excluded_embed_metadata_keys=[], excluded_llm_metadata_keys=[], relationships={}, text='The population density,  , is among the lowest in the world.    The most densely populated part of the country is the Quebec City-Windsor Corridor along the Great Lakes and Saint Lawrence River in the southeast.   ', mimetype='text/plain', start_char_idx=None, end_char_idx=None, text_template='{metadata_str}\\n\\n{content}', metadata_template='{key}: {value}', metadata_seperator='\\n'),\n",
       " Document(id_='869a733d-dccc-4e55-84cc-104a282e20e2', embedding=None, metadata={}, excluded_embed_metadata_keys=[], excluded_llm_metadata_keys=[], relationships={}, text=\"To the north of this region is the broad Canadian Shield, an area of rock scoured clean by the last ice age, thinly soiled, rich in minerals, and dotted with lakes and rivers.  Canada by far has more lakes than any other country and has a large amount of the world's freshwater.\", mimetype='text/plain', start_char_idx=None, end_char_idx=None, text_template='{metadata_str}\\n\\n{content}', metadata_template='{key}: {value}', metadata_seperator='\\n'),\n",
       " Document(id_='d5e319dc-cf7b-4e09-92b8-9e5e2287ffd5', embedding=None, metadata={}, excluded_embed_metadata_keys=[], excluded_llm_metadata_keys=[], relationships={}, text=\"The Horseshoe Falls in Ontario is the largest component of Niagara Falls, one of the world's most voluminous waterfalls,    a major source of hydroelectric power, and a tourist destination.\", mimetype='text/plain', start_char_idx=None, end_char_idx=None, text_template='{metadata_str}\\n\\n{content}', metadata_template='{key}: {value}', metadata_seperator='\\n'),\n",
       " Document(id_='d26a7811-1300-40c0-b44a-7747bbd91b75', embedding=None, metadata={}, excluded_embed_metadata_keys=[], excluded_llm_metadata_keys=[], relationships={}, text=\"In eastern Canada, the Saint Lawrence River widens into the Gulf of Saint Lawrence, the world's largest estuary, that contains the island of Newfoundland. South of the Gulf, the Canadian Maritimes protrude eastward along the Appalachian Mountain range from northern New England and the GaspÃ© Peninsula of Quebec. New Brunswick and Nova Scotia are divided by the Bay of Fundy, which experiences the world's largest tidal variations. Ontario and Hudson Bay dominate central Canada. West of Ontario, the broad, flat Canadian Prairies spread toward the Rocky Mountains, which separate them from British Columbia.\", mimetype='text/plain', start_char_idx=None, end_char_idx=None, text_template='{metadata_str}\\n\\n{content}', metadata_template='{key}: {value}', metadata_seperator='\\n'),\n",
       " Document(id_='1b1978e3-120b-4768-ab2d-086d5d66bb15', embedding=None, metadata={}, excluded_embed_metadata_keys=[], excluded_llm_metadata_keys=[], relationships={}, text='In western Canada, the Mackenzie River flows from the Great Slave Lake to the Arctic Ocean.  A tributary of a tributary of the Mackenzie is the South Nahanni River, which is home to Virginia Falls, a waterfall about twice as high as Niagara Falls.', mimetype='text/plain', start_char_idx=None, end_char_idx=None, text_template='{metadata_str}\\n\\n{content}', metadata_template='{key}: {value}', metadata_seperator='\\n'),\n",
       " Document(id_='199371ed-6101-429a-b2fc-0ffedb687d55', embedding=None, metadata={}, excluded_embed_metadata_keys=[], excluded_llm_metadata_keys=[], relationships={}, text=\"Northern Canadian vegetation tapers from coniferous forests to tundra and finally to Arctic barrens in the far north.  The northern Canadian mainland is ringed with a vast archipelago containing some of the world's largest islands.\", mimetype='text/plain', start_char_idx=None, end_char_idx=None, text_template='{metadata_str}\\n\\n{content}', metadata_template='{key}: {value}', metadata_seperator='\\n'),\n",
       " Document(id_='8c78da0e-4828-480a-af09-5a3e58985c94', embedding=None, metadata={}, excluded_embed_metadata_keys=[], excluded_llm_metadata_keys=[], relationships={}, text='Average winter and summer high temperatures across Canada vary depending on the location. Winters can be harsh in many regions of the country, particularly in the interior and Prairie provinces which experience a continental climate, where daily average temperatures are near â\\x88\\x9215 Â°C (5 Â°F) but can drop below â\\x88\\x9240 Â°C (â\\x88\\x9240 Â°F) with severe wind chills.    In non-coastal regions, snow can cover the ground almost six months of the year, (more in the north).  Coastal British Columbia is an exception and enjoys a temperate climate with a mild and rainy winter.', mimetype='text/plain', start_char_idx=None, end_char_idx=None, text_template='{metadata_str}\\n\\n{content}', metadata_template='{key}: {value}', metadata_seperator='\\n'),\n",
       " Document(id_='c70dd379-2f35-4fa4-872a-8d0678361f51', embedding=None, metadata={}, excluded_embed_metadata_keys=[], excluded_llm_metadata_keys=[], relationships={}, text=\"On the east and west coast average high temperatures are generally in the low 20s Â°C (70s Â°F), while between the coasts the average summer high temperature ranges from 25 to 30 Â°C (75 to 85 Â°F) with occasional extreme heat in some interior locations exceeding 40 Â°C (104 Â°F).       For a more complete description of climate across Canada see Environment Canada's Website.\", mimetype='text/plain', start_char_idx=None, end_char_idx=None, text_template='{metadata_str}\\n\\n{content}', metadata_template='{key}: {value}', metadata_seperator='\\n'),\n",
       " Document(id_='bff70972-1b23-48de-99c9-d950a819a98d', embedding=None, metadata={}, excluded_embed_metadata_keys=[], excluded_llm_metadata_keys=[], relationships={}, text='Canadian banknotes depicting, top to bottom, Wilfrid Laurier, John A. Macdonald, Queen Elizabeth II, William Lyon Mackenzie King, and Robert Borden.', mimetype='text/plain', start_char_idx=None, end_char_idx=None, text_template='{metadata_str}\\n\\n{content}', metadata_template='{key}: {value}', metadata_seperator='\\n'),\n",
       " Document(id_='e81697ba-6f71-4a62-bb23-a1a27a061c58', embedding=None, metadata={}, excluded_embed_metadata_keys=[], excluded_llm_metadata_keys=[], relationships={}, text=\"Canada is one of the world's wealthiest nations with a high per capita income, a member of the Organisation for Economic Co-operation and Development (OECD) and Group of Eight (G8).  Canada is a free market economy with slightly more government intervention than the United States, but much less than most European nations.    Canada has traditionally had a lower per capita gross domestic product (GDP) than its southern neighbour (whereas wealth has been more equally divided), but higher than the large western European economies      . Since the early 1990's, the Canadian economy has been growing rapidly with low unemployment and large government surpluses on the federal level. Today Canada closely resembles the US in its market-oriented economic system, pattern of production, and high living standards.  While as of October 2007, Canada's national unemployment rate of 5.9% is its lowest in 33 years. Provincial unemployment rates vary from a low of 3.6% in Alberta to a high of 14.6% in Newfoundland and Labrador.\", mimetype='text/plain', start_char_idx=None, end_char_idx=None, text_template='{metadata_str}\\n\\n{content}', metadata_template='{key}: {value}', metadata_seperator='\\n'),\n",
       " Document(id_='9e7b037f-6c11-4a84-b0ac-67f721074759', embedding=None, metadata={}, excluded_embed_metadata_keys=[], excluded_llm_metadata_keys=[], relationships={}, text=\"In the past century, the growth of the manufacturing, mining, and service sectors has transformed the nation from a largely rural economy into one primarily industrial and urban. As with other first world nations, the Canadian economy is dominated by the service industry, which employs about three quarters of Canadians.    However, Canada is unusual among developed countries in the importance of the primary sector, with the logging and oil industries being two of Canada's most important.\", mimetype='text/plain', start_char_idx=None, end_char_idx=None, text_template='{metadata_str}\\n\\n{content}', metadata_template='{key}: {value}', metadata_seperator='\\n'),\n",
       " Document(id_='9013b257-6833-47a1-807b-0a49ea1ac87e', embedding=None, metadata={}, excluded_embed_metadata_keys=[], excluded_llm_metadata_keys=[], relationships={}, text=\"Canada is one of the few developed nations that is a net exporter of energy.  Atlantic Canada has vast offshore deposits of natural gas and large oil and gas resources are centred in Alberta. The vast Athabasca Tar Sands give Canada the world's second largest reserves of oil behind Saudi Arabia.    In Quebec, British Columbia, Newfoundland & Labrador, Ontario and Manitoba, hydroelectric power is a cheap and clean source of renewable energy.\", mimetype='text/plain', start_char_idx=None, end_char_idx=None, text_template='{metadata_str}\\n\\n{content}', metadata_template='{key}: {value}', metadata_seperator='\\n'),\n",
       " Document(id_='e08125a8-15ee-47f1-a242-49e36898a136', embedding=None, metadata={}, excluded_embed_metadata_keys=[], excluded_llm_metadata_keys=[], relationships={}, text=\"Canada is one of the world's most important suppliers of agricultural products, with the Canadian Prairies one of the most important suppliers of wheat, canola and other grains.    Canada is the world's largest producer of zinc and uranium and a world leader in many other natural resources such as gold, nickel, aluminum, and lead;    many, if not most, towns in the northern part of the country, where agriculture is difficult, exist because of a nearby mine or source of timber.  Canada also has a sizeable manufacturing sector centred in southern Ontario and Quebec, with automobiles and aeronautics representing particularly important industries.\", mimetype='text/plain', start_char_idx=None, end_char_idx=None, text_template='{metadata_str}\\n\\n{content}', metadata_template='{key}: {value}', metadata_seperator='\\n'),\n",
       " Document(id_='fb803d83-3326-4010-b6cf-75896c4e03fd', embedding=None, metadata={}, excluded_embed_metadata_keys=[], excluded_llm_metadata_keys=[], relationships={}, text=\"Canada is highly dependent on international trade, especially trade with the United States. The 1989 Canada-US Free Trade Agreement (FTA) and 1994 North American Free Trade Agreement (NAFTA) (which included Mexico) touched off a dramatic increase in trade and economic integration with the US Since 2001, Canada has successfully avoided economic recession and has maintained the best overall economic performance in the G8.    Since the mid 1990s, Canada's federal government has posted annual budgetary surpluses and has steadily paid down the national debt.\", mimetype='text/plain', start_char_idx=None, end_char_idx=None, text_template='{metadata_str}\\n\\n{content}', metadata_template='{key}: {value}', metadata_seperator='\\n'),\n",
       " Document(id_='e71f2f03-7272-467f-9ff5-d483c5c72298', embedding=None, metadata={}, excluded_embed_metadata_keys=[], excluded_llm_metadata_keys=[], relationships={}, text=\"Toronto, Ontario skyline with the CN tower. Toronto is Canada's most populous metropolitan area with 5,113,149 people.\", mimetype='text/plain', start_char_idx=None, end_char_idx=None, text_template='{metadata_str}\\n\\n{content}', metadata_template='{key}: {value}', metadata_seperator='\\n'),\n",
       " Document(id_='9ae7ad75-7afd-4a35-9913-04b29e060f80', embedding=None, metadata={}, excluded_embed_metadata_keys=[], excluded_llm_metadata_keys=[], relationships={}, text=\"Canada's 2006 census counted 31,612,897, an increase of 5.4% since 2001.    Population growth is from immigration and, to a lesser extent, natural growth. About three-quarters of Canada's population lives within 150 kilometres (90 mi) of the US border.    A similar proportion live in urban areas concentrated in the Quebec City-Windsor Corridor (notably: the Greater Golden Horseshoe anchored around Toronto, Montreal, Ottawa, and their environs), the BC Lower Mainland (Vancouver and environs), and the Calgary-Edmonton Corridor in Alberta.\", mimetype='text/plain', start_char_idx=None, end_char_idx=None, text_template='{metadata_str}\\n\\n{content}', metadata_template='{key}: {value}', metadata_seperator='\\n'),\n",
       " Document(id_='1e6927ed-26a2-4744-a9f5-fb424760a70c', embedding=None, metadata={}, excluded_embed_metadata_keys=[], excluded_llm_metadata_keys=[], relationships={}, text='According to the 2001 census, it has 34 ethnic groups with at least one hundred thousand members each, with 83% of the total population claiming they are white.  Ethnic diversity of Canada   ', mimetype='text/plain', start_char_idx=None, end_char_idx=None, text_template='{metadata_str}\\n\\n{content}', metadata_template='{key}: {value}', metadata_seperator='\\n'),\n",
       " Document(id_='697b2538-47c7-4e0f-9253-64d376c01057', embedding=None, metadata={}, excluded_embed_metadata_keys=[], excluded_llm_metadata_keys=[], relationships={}, text='The largest ethnic group is English (20.2%), followed by French (15.8%), Scottish (14.0%), Irish (12.9%), German (9.3%), Italian (4.3%), Chinese (3.7%), Ukrainian (3.6%), and First Nations (3.4%); 40% of respondents identified their ethnicity as \"Canadian.\"    Canada\\'s aboriginal population is growing almost twice as fast as the Canadian average. In 2001, 13.4% of the population belonged to non-aboriginal visible minorities.', mimetype='text/plain', start_char_idx=None, end_char_idx=None, text_template='{metadata_str}\\n\\n{content}', metadata_template='{key}: {value}', metadata_seperator='\\n'),\n",
       " Document(id_='4cc41551-7d74-407a-b40e-4649f7069e91', embedding=None, metadata={}, excluded_embed_metadata_keys=[], excluded_llm_metadata_keys=[], relationships={}, text=\"In 2001, 49% of the Vancouver population and 42.8% of Toronto's population were visible minorities. In March 2005, Statistics Canada projected that people of non-European origins will constitute a majority in both Toronto and Vancouver by 2012.  Canadian People - Learn About Canada's People  According to Statistics Canada's forecasts, the number of visible minorities in Canada is expected to double by 2017. Roughly one out of every five people in Canada could be a member of a visible minority by 2017.  Visible majority by 2017\", mimetype='text/plain', start_char_idx=None, end_char_idx=None, text_template='{metadata_str}\\n\\n{content}', metadata_template='{key}: {value}', metadata_seperator='\\n'),\n",
       " Document(id_='71ddab1d-3ec8-488c-a4cf-5146d6c34034', embedding=None, metadata={}, excluded_embed_metadata_keys=[], excluded_llm_metadata_keys=[], relationships={}, text='Canada has the highest per capita immigration rate in the world,    driven by economic policy and family reunification; Canada also accepts large numbers of refugees. Newcomers settle mostly in the major urban areas of Toronto, Vancouver and Montreal. By the 1990s and 2000s, almost all of Canadaâ\\x80\\x99s immigrants came from Asia.  Inflow of foreign-born population by country of birth, by year', mimetype='text/plain', start_char_idx=None, end_char_idx=None, text_template='{metadata_str}\\n\\n{content}', metadata_template='{key}: {value}', metadata_seperator='\\n'),\n",
       " Document(id_='024d5801-e190-4262-84ea-124f4a38609f', embedding=None, metadata={}, excluded_embed_metadata_keys=[], excluded_llm_metadata_keys=[], relationships={}, text=\"Support for religious pluralism is an important part of Canada's political culture.  According to 2001 census,    77.1% of Canadians identified as being Christians; of this, Catholics make up the largest group (43.6% of Canadians). The largest Protestant denomination is the United Church of Canada; about 16.5% of Canadians declare no religious affiliation, and the remaining 6.3% were affiliated with religions other than Christianity, of which the largest is Islam numbering 1.9%, followed by Judaism: 1.1%.\", mimetype='text/plain', start_char_idx=None, end_char_idx=None, text_template='{metadata_str}\\n\\n{content}', metadata_template='{key}: {value}', metadata_seperator='\\n'),\n",
       " Document(id_='7aa107ca-bc1f-4007-ae97-fa2e858ace30', embedding=None, metadata={}, excluded_embed_metadata_keys=[], excluded_llm_metadata_keys=[], relationships={}, text='Canadian provinces and territories are responsible for education. Each system is similar while reflecting regional history, culture and geography.    The mandatory school age ranges between  5â\\x80\\x937 to 16â\\x80\\x9318 years,  contributing to an adult literacy rate that is 99%.  Postsecondary education is also administered by provincial and territorial governments, who provide most of the funding; the federal government administers additional research grants, student loans and scholarships. In 2002, 43% of Canadians aged between 25 and 64 had post-secondary education; for those aged 25 to 34 the post-secondary attainment reaches 51%.', mimetype='text/plain', start_char_idx=None, end_char_idx=None, text_template='{metadata_str}\\n\\n{content}', metadata_template='{key}: {value}', metadata_seperator='\\n'),\n",
       " Document(id_='40f06a03-985e-4473-804c-f57d9b0d7660', embedding=None, metadata={}, excluded_embed_metadata_keys=[], excluded_llm_metadata_keys=[], relationships={}, text='A Kwakwaka\\'wakw totem pole and traditional \"big house\" in Victoria, BC.', mimetype='text/plain', start_char_idx=None, end_char_idx=None, text_template='{metadata_str}\\n\\n{content}', metadata_template='{key}: {value}', metadata_seperator='\\n'),\n",
       " Document(id_='5e5e2f69-a78b-45a1-baae-4fcafd3976fe', embedding=None, metadata={}, excluded_embed_metadata_keys=[], excluded_llm_metadata_keys=[], relationships={}, text='Canadian culture has historically been influenced by British, French, and Aboriginal cultures and traditions. It has also been influenced by American culture because of its proximity and migration between the two countries. American media and entertainment are popular if not dominant in Canada; conversely, many Canadian cultural products and entertainers are successful in the US and worldwide.    Many cultural products are marketed toward a unified \"North American\" or global market.', mimetype='text/plain', start_char_idx=None, end_char_idx=None, text_template='{metadata_str}\\n\\n{content}', metadata_template='{key}: {value}', metadata_seperator='\\n'),\n",
       " Document(id_='91b86363-57e0-49bd-840a-1885f946664d', embedding=None, metadata={}, excluded_embed_metadata_keys=[], excluded_llm_metadata_keys=[], relationships={}, text='The creation and preservation of distinctly Canadian culture are supported by federal government programs, laws and institutions such as the Canadian Broadcasting Corporation (CBC), the National Film Board of Canada (NFB), and the Canadian Radio-television and Telecommunications Commission (CRTC).', mimetype='text/plain', start_char_idx=None, end_char_idx=None, text_template='{metadata_str}\\n\\n{content}', metadata_template='{key}: {value}', metadata_seperator='\\n'),\n",
       " Document(id_='b80ba5f0-910a-41a1-8290-1d5e489f52e5', embedding=None, metadata={}, excluded_embed_metadata_keys=[], excluded_llm_metadata_keys=[], relationships={}, text='Canada is a geographically vast and ethnically diverse country. There are cultural variations and distinctions from province to province and region to region. Canadian culture has also been greatly influenced by immigration from all over the world. Many Canadians value multiculturalism, and see Canadian culture as being inherently multicultural.  Multicultural heritage is enshrined in Section 27 of the Canadian Charter of Rights and Freedoms.', mimetype='text/plain', start_char_idx=None, end_char_idx=None, text_template='{metadata_str}\\n\\n{content}', metadata_template='{key}: {value}', metadata_seperator='\\n'),\n",
       " Document(id_='82f5aec7-5936-4714-a5cb-5053e6275e9c', embedding=None, metadata={}, excluded_embed_metadata_keys=[], excluded_llm_metadata_keys=[], relationships={}, text='The Royal Canadian Mounted Police, seen here at Expo 67, are the federal and national police force of Canada and an international icon.', mimetype='text/plain', start_char_idx=None, end_char_idx=None, text_template='{metadata_str}\\n\\n{content}', metadata_template='{key}: {value}', metadata_seperator='\\n'),\n",
       " Document(id_='d8dfe994-63bb-445c-8a3d-8e0e3040fac2', embedding=None, metadata={}, excluded_embed_metadata_keys=[], excluded_llm_metadata_keys=[], relationships={}, text='National symbols are influenced by natural, historical, and First Nations sources. Particularly, the use of the maple leaf as a Canadian symbol dates back to the early 18th century and is depicted on its current and previous flags, the penny, and on the coat of arms.    Other prominent symbols include the beaver, Canada goose, common loon, the Crown, and the RCMP.', mimetype='text/plain', start_char_idx=None, end_char_idx=None, text_template='{metadata_str}\\n\\n{content}', metadata_template='{key}: {value}', metadata_seperator='\\n'),\n",
       " Document(id_='1bedd15f-2fc3-45ff-910c-8c91f09863be', embedding=None, metadata={}, excluded_embed_metadata_keys=[], excluded_llm_metadata_keys=[], relationships={}, text=\"Canada's official national sports are ice hockey (winter) and lacrosse (summer).    Hockey is a national pastime and the most popular spectator sport in the country. It is the most popular sport Canadians play, with 1.65 million active participants in 2004.    Canada's six largest metropolitan areas - Toronto, Montreal, Vancouver, Ottawa, Calgary, and Edmonton - have franchises in the National Hockey League (NHL), and there are more Canadian players in the league than from all other countries combined. After hockey, other popular spectator sports include curling and football; the latter is played professionally in the Canadian Football League (CFL). Golf, baseball, skiing, soccer, volleyball, and basketball are widely played at youth and amateur levels,  but professional leagues and franchises are not as widespread.\", mimetype='text/plain', start_char_idx=None, end_char_idx=None, text_template='{metadata_str}\\n\\n{content}', metadata_template='{key}: {value}', metadata_seperator='\\n'),\n",
       " Document(id_='b79d9113-8880-46de-9bd2-69d1039667c3', embedding=None, metadata={}, excluded_embed_metadata_keys=[], excluded_llm_metadata_keys=[], relationships={}, text='Canada has hosted several high-profile international sporting events, including the 1976 Summer Olympics, the 1988 Winter Olympics, and the 2007 FIFA U-20 World Cup. Canada will be the host country for the 2010 Winter Olympics in Vancouver and Whistler, British Columbia.', mimetype='text/plain', start_char_idx=None, end_char_idx=None, text_template='{metadata_str}\\n\\n{content}', metadata_template='{key}: {value}', metadata_seperator='\\n'),\n",
       " Document(id_='9fc2f451-f774-4d97-9201-81cc2d24ce05', embedding=None, metadata={}, excluded_embed_metadata_keys=[], excluded_llm_metadata_keys=[], relationships={}, text='The population of Montreal, Quebec is mainly Francophone, with a significant Anglophone community.', mimetype='text/plain', start_char_idx=None, end_char_idx=None, text_template='{metadata_str}\\n\\n{content}', metadata_template='{key}: {value}', metadata_seperator='\\n'),\n",
       " Document(id_='ee0220b9-296a-4883-a1f8-6310e186c2ec', embedding=None, metadata={}, excluded_embed_metadata_keys=[], excluded_llm_metadata_keys=[], relationships={}, text=\"Canada's two official languages are  English and French. Official Bilingualism in Canada is law, defined in the Canadian Charter of Rights and Freedoms, the Official Languages Act, and Official Language Regulations; it is applied by the Commissioner of Official Languages. English and French have equal status in federal courts, Parliament, and in all federal institutions. The public has the right, where there is sufficient demand, to receive federal government services in either English or French, and official language minorities are guaranteed their own schools in all provinces and territories.\", mimetype='text/plain', start_char_idx=None, end_char_idx=None, text_template='{metadata_str}\\n\\n{content}', metadata_template='{key}: {value}', metadata_seperator='\\n'),\n",
       " Document(id_='e306e903-4223-4ddb-ade1-38ea0befedad', embedding=None, metadata={}, excluded_embed_metadata_keys=[], excluded_llm_metadata_keys=[], relationships={}, text='English and French are the mother tongues of 59.7% and 23.2% of the population respectively,    and the languages most spoken at home by 68.3% and 22.3% of the population respectively.    98.5% of Canadians speak English or French (English only: 67.5%, French only: 13.3%, both: 17.7%).    English and French Official Language Communities, defined by First Official Language Spoken, constitute 73.0% and 23.6% of the population.', mimetype='text/plain', start_char_idx=None, end_char_idx=None, text_template='{metadata_str}\\n\\n{content}', metadata_template='{key}: {value}', metadata_seperator='\\n'),\n",
       " Document(id_='ac83d015-dd06-48c9-8ff4-0600508763c0', embedding=None, metadata={}, excluded_embed_metadata_keys=[], excluded_llm_metadata_keys=[], relationships={}, text=\"Although 85% of French-speaking Canadians live in Quebec, there are substantial Francophone populations in Ontario, Alberta and southern Manitoba, with an Acadian population in the northern and southeastern parts of New Brunswick constituting 35% of that province's population as well as concentrations in Southwestern Nova Scotia and on Cape Breton Island. Ontario has the largest French-speaking population outside Quebec. The Charter of the French Language in Quebec makes French the official language in Quebec, and New Brunswick is the only province to have a statement of official bilingualism in the constitution.    Other provinces   have no official language(s) as such, but French is used as a language of instruction, in courts, and other government services in addition to English. Manitoba, Ontario and Quebec allow for both English and French to be spoken in the provincial legislatures, and laws are enacted in both languages. In Ontario, French has some legal status but is not fully co-official. Several aboriginal languages have official status in Northwest Territories. Inuktitut is the majority language in Nunavut, and one of three official languages in the territory.\", mimetype='text/plain', start_char_idx=None, end_char_idx=None, text_template='{metadata_str}\\n\\n{content}', metadata_template='{key}: {value}', metadata_seperator='\\n'),\n",
       " Document(id_='98ae8246-c4ab-4d85-a97f-309c15626f87', embedding=None, metadata={}, excluded_embed_metadata_keys=[], excluded_llm_metadata_keys=[], relationships={}, text='Non-official languages are important in Canada, with 5,202,245 people listing one as a first language.  Some significant non-official first languages include Chinese (853,745 first-language speakers), Italian (469,485), German (438,080), and Punjabi (271,220).', mimetype='text/plain', start_char_idx=None, end_char_idx=None, text_template='{metadata_str}\\n\\n{content}', metadata_template='{key}: {value}', metadata_seperator='\\n'),\n",
       " Document(id_='5df4af31-25a7-464b-9e72-96316d2bb04c', embedding=None, metadata={}, excluded_embed_metadata_keys=[], excluded_llm_metadata_keys=[], relationships={}, text='tags-->', mimetype='text/plain', start_char_idx=None, end_char_idx=None, text_template='{metadata_str}\\n\\n{content}', metadata_template='{key}: {value}', metadata_seperator='\\n'),\n",
       " Document(id_='878e5d60-1e83-487d-8372-0eebc8361f14', embedding=None, metadata={}, excluded_embed_metadata_keys=[], excluded_llm_metadata_keys=[], relationships={}, text=';Origin and history of the name', mimetype='text/plain', start_char_idx=None, end_char_idx=None, text_template='{metadata_str}\\n\\n{content}', metadata_template='{key}: {value}', metadata_seperator='\\n'),\n",
       " Document(id_='0017446f-c012-4200-9995-aef1a1810f3c', embedding=None, metadata={}, excluded_embed_metadata_keys=[], excluded_llm_metadata_keys=[], relationships={}, text=';History', mimetype='text/plain', start_char_idx=None, end_char_idx=None, text_template='{metadata_str}\\n\\n{content}', metadata_template='{key}: {value}', metadata_seperator='\\n'),\n",
       " Document(id_='ac9528d9-e3ee-4870-9f22-b8b635cebcf9', embedding=None, metadata={}, excluded_embed_metadata_keys=[], excluded_llm_metadata_keys=[], relationships={}, text=';Government and law', mimetype='text/plain', start_char_idx=None, end_char_idx=None, text_template='{metadata_str}\\n\\n{content}', metadata_template='{key}: {value}', metadata_seperator='\\n'),\n",
       " Document(id_='7ba0fe15-94f8-4572-a2be-089c62d847d8', embedding=None, metadata={}, excluded_embed_metadata_keys=[], excluded_llm_metadata_keys=[], relationships={}, text=';Foreign relations and military', mimetype='text/plain', start_char_idx=None, end_char_idx=None, text_template='{metadata_str}\\n\\n{content}', metadata_template='{key}: {value}', metadata_seperator='\\n'),\n",
       " Document(id_='d1264845-24dc-42b6-a8c6-cd305520090e', embedding=None, metadata={}, excluded_embed_metadata_keys=[], excluded_llm_metadata_keys=[], relationships={}, text=';Provinces and territories', mimetype='text/plain', start_char_idx=None, end_char_idx=None, text_template='{metadata_str}\\n\\n{content}', metadata_template='{key}: {value}', metadata_seperator='\\n'),\n",
       " Document(id_='178d7f8a-0ece-4812-8b06-ee8d8c8d213a', embedding=None, metadata={}, excluded_embed_metadata_keys=[], excluded_llm_metadata_keys=[], relationships={}, text=';Geography and climate', mimetype='text/plain', start_char_idx=None, end_char_idx=None, text_template='{metadata_str}\\n\\n{content}', metadata_template='{key}: {value}', metadata_seperator='\\n'),\n",
       " Document(id_='6b1dd279-cb5f-42d8-b248-abdd6a9c2427', embedding=None, metadata={}, excluded_embed_metadata_keys=[], excluded_llm_metadata_keys=[], relationships={}, text=';Economy', mimetype='text/plain', start_char_idx=None, end_char_idx=None, text_template='{metadata_str}\\n\\n{content}', metadata_template='{key}: {value}', metadata_seperator='\\n'),\n",
       " Document(id_='ef328620-2275-4fff-a7a6-acc7cdfccedb', embedding=None, metadata={}, excluded_embed_metadata_keys=[], excluded_llm_metadata_keys=[], relationships={}, text=';Demography and statistics', mimetype='text/plain', start_char_idx=None, end_char_idx=None, text_template='{metadata_str}\\n\\n{content}', metadata_template='{key}: {value}', metadata_seperator='\\n'),\n",
       " Document(id_='973ec597-ec5f-411d-a680-5d39fd0533f3', embedding=None, metadata={}, excluded_embed_metadata_keys=[], excluded_llm_metadata_keys=[], relationships={}, text=';Language', mimetype='text/plain', start_char_idx=None, end_char_idx=None, text_template='{metadata_str}\\n\\n{content}', metadata_template='{key}: {value}', metadata_seperator='\\n'),\n",
       " Document(id_='5b563ca1-41b3-4ba8-900a-edb10cf6a3bd', embedding=None, metadata={}, excluded_embed_metadata_keys=[], excluded_llm_metadata_keys=[], relationships={}, text=';Culture', mimetype='text/plain', start_char_idx=None, end_char_idx=None, text_template='{metadata_str}\\n\\n{content}', metadata_template='{key}: {value}', metadata_seperator='\\n'),\n",
       " Document(id_='e9206bce-c886-499d-b692-0d4d5a2d03a7', embedding=None, metadata={}, excluded_embed_metadata_keys=[], excluded_llm_metadata_keys=[], relationships={}, text='*  Similar publication online  here.', mimetype='text/plain', start_char_idx=None, end_char_idx=None, text_template='{metadata_str}\\n\\n{content}', metadata_template='{key}: {value}', metadata_seperator='\\n'),\n",
       " Document(id_='96dfdb47-a1ba-4c05-939a-3d420f21248f', embedding=None, metadata={}, excluded_embed_metadata_keys=[], excluded_llm_metadata_keys=[], relationships={}, text='; Government', mimetype='text/plain', start_char_idx=None, end_char_idx=None, text_template='{metadata_str}\\n\\n{content}', metadata_template='{key}: {value}', metadata_seperator='\\n'),\n",
       " Document(id_='c160aaf1-8a1e-4db9-8695-604ae0c10799', embedding=None, metadata={}, excluded_embed_metadata_keys=[], excluded_llm_metadata_keys=[], relationships={}, text=';Crown corporations', mimetype='text/plain', start_char_idx=None, end_char_idx=None, text_template='{metadata_str}\\n\\n{content}', metadata_template='{key}: {value}', metadata_seperator='\\n'),\n",
       " Document(id_='ebc4a69f-0744-403f-9e7c-4af7ee4d3ff0', embedding=None, metadata={}, excluded_embed_metadata_keys=[], excluded_llm_metadata_keys=[], relationships={}, text=';Other', mimetype='text/plain', start_char_idx=None, end_char_idx=None, text_template='{metadata_str}\\n\\n{content}', metadata_template='{key}: {value}', metadata_seperator='\\n'),\n",
       " Document(id_='03f73d38-1fe0-41dc-873b-581b7b5ed788', embedding=None, metadata={}, excluded_embed_metadata_keys=[], excluded_llm_metadata_keys=[], relationships={}, text='Beetles are a group of insects which have the largest number of species. They are placed in the order Coleoptera,which means \"sheathed wing\" and contains more described species than in any other order in the animal kingdom, constituting about twenty-five percent of all known life-forms. James K. Liebherr and Joseph V. McHugh in Resh, V. H. & R. T. CardÃ© (Editors) 2003. Encyclopedia of Insects. Academic Press.  Forty percent of all described insect species are beetles (about 350,000 species ), and new species are frequently discovered. Estimates put the total number of species, described and undescribed, at between 5 and 8 million.', mimetype='text/plain', start_char_idx=None, end_char_idx=None, text_template='{metadata_str}\\n\\n{content}', metadata_template='{key}: {value}', metadata_seperator='\\n'),\n",
       " Document(id_='23337a2f-6ba0-4f8a-93cf-9ca7a7a51a6d', embedding=None, metadata={}, excluded_embed_metadata_keys=[], excluded_llm_metadata_keys=[], relationships={}, text='Beetles can be found in almost all habitats, but are not known to occur in the sea or in the polar regions. They interact with their ecosystems in several ways. They often feed on plants and fungi, break down animal and plant debris, and eat other invertebrates. Some species are prey of various animals including birds and mammals. Certain species are agricultural pests, such as the Colorado potato beetle Leptinotarsa decemlineata, the boll weevil Anthonomus grandis, the red flour beetle Tribolium castaneum, and the mungbean or cowpea beetle Callosobruchus maculatus, while other species of beetles are important controls of agricultural pests. For example, coccinellidae (\"ladybirds\" or \"ladybugs\") consume aphids, scale insects, thrips, and other plant-sucking insects that damage crops.', mimetype='text/plain', start_char_idx=None, end_char_idx=None, text_template='{metadata_str}\\n\\n{content}', metadata_template='{key}: {value}', metadata_seperator='\\n'),\n",
       " Document(id_='19e8db50-e368-46f1-8e83-8d90c93bb699', embedding=None, metadata={}, excluded_embed_metadata_keys=[], excluded_llm_metadata_keys=[], relationships={}, text='The name \"Coleoptera\" was given by Aristotle for the hardened shield like forewings (coleo = shield + ptera = wing). ', mimetype='text/plain', start_char_idx=None, end_char_idx=None, text_template='{metadata_str}\\n\\n{content}', metadata_template='{key}: {value}', metadata_seperator='\\n'),\n",
       " Document(id_='73b4fae0-b112-4c5a-9746-52b0f6fed904', embedding=None, metadata={}, excluded_embed_metadata_keys=[], excluded_llm_metadata_keys=[], relationships={}, text='A cockchafer with its elytra raised, exposing the membranous flight wings, where the veins are visible', mimetype='text/plain', start_char_idx=None, end_char_idx=None, text_template='{metadata_str}\\n\\n{content}', metadata_template='{key}: {value}', metadata_seperator='\\n'),\n",
       " Document(id_='515c96c9-471e-4ffc-858f-c2cb1986c224', embedding=None, metadata={}, excluded_embed_metadata_keys=[], excluded_llm_metadata_keys=[], relationships={}, text='Trogodendron fasciculatum, a clerid beetle with bright yellow antennae', mimetype='text/plain', start_char_idx=None, end_char_idx=None, text_template='{metadata_str}\\n\\n{content}', metadata_template='{key}: {value}', metadata_seperator='\\n'),\n",
       " Document(id_='44becccd-925e-43cc-bb23-3f359c558093', embedding=None, metadata={}, excluded_embed_metadata_keys=[], excluded_llm_metadata_keys=[], relationships={}, text='Other characters of this group which are believed to be monophyletic include a holometabolous life cycle; having a prothorax that is distinct from and freely articulating with the mesothorax; the meso- and meta-thoracic segments fusing to form a pterothorax; a depressed body shape with the legs on the ventral surface; the coxae of legs recessed into cavities formed by heavily sclerotized thoracic sclerites; the abdominal sternites more sclerotized than the tergites; antennae with 11 or fewer segments; and terminal genitalic appendages retracted into the abdomen and invisible at rest.', mimetype='text/plain', start_char_idx=None, end_char_idx=None, text_template='{metadata_str}\\n\\n{content}', metadata_template='{key}: {value}', metadata_seperator='\\n'),\n",
       " Document(id_='124beb01-5d8c-4bf4-b523-79ea41507122', embedding=None, metadata={}, excluded_embed_metadata_keys=[], excluded_llm_metadata_keys=[], relationships={}, text='The general anatomy of beetles is quite uniform, although specific organs and appendages may vary greatly in appearance and function between the many families in the order. Like all insects, beetles\\' bodies are divided into three sections: the head, the thorax, and the abdomen. When viewed from below, the thorax is that part from which all three pairs of legs and both pairs of wings arise. The abdomen is everything posterior to the thorax. When viewed from above, most beetles appear to have three clear sections, but this is deceptive: on the beetle\\'s upper surface, the middle \"section\" is a hard plate called the pronotum, which is only the front part of the thorax; the back part of the thorax is concealed by the beetle\\'s wings. Like all arthropods, beetles are segmented organisms, and all three of the major sections of the body are themselves composed of several further segments, although these are not always readily discernible. This further segmentation is usually best seen on the abdomen.', mimetype='text/plain', start_char_idx=None, end_char_idx=None, text_template='{metadata_str}\\n\\n{content}', metadata_template='{key}: {value}', metadata_seperator='\\n'),\n",
       " Document(id_='ddb760d9-d0f8-4338-a3c4-bcc2a786c059', embedding=None, metadata={}, excluded_embed_metadata_keys=[], excluded_llm_metadata_keys=[], relationships={}, text=\"Beetles are generally characterised by a particularly hard exoskeleton and hard forewings (elytra). The beetle's exoskeleton is made up of numerous plates called sclerites, separated by thin sutures. This design creates the armoured defences of the beetle while maintaining flexibility. The elytra are not used for flight, but tend to cover the hind part of the body and protect the second pair of wings (alae). The elytra must be raised in order to move the hind flight wings. A beetle's flight wings are crossed with veins and are folded after landing, often along these veins, and are stored below the elytra.\", mimetype='text/plain', start_char_idx=None, end_char_idx=None, text_template='{metadata_str}\\n\\n{content}', metadata_template='{key}: {value}', metadata_seperator='\\n'),\n",
       " Document(id_='abc577dc-fbee-42e4-9173-98369a251179', embedding=None, metadata={}, excluded_embed_metadata_keys=[], excluded_llm_metadata_keys=[], relationships={}, text='In some beetles, the ability to fly has been lost. These include the ground beetles (family Carabidae) and some \"true weevils\" (family Curculionidae), but also some desert and cave-dwelling species of other families. Many of these species have the two elytra fused together, forming a solid shield over the abdomen. In a few families, both the ability to fly and the elytra have been lost, with the best known example being the glow-worms of the family Phengodidae, in which the females are larviform throughout their lives.', mimetype='text/plain', start_char_idx=None, end_char_idx=None, text_template='{metadata_str}\\n\\n{content}', metadata_template='{key}: {value}', metadata_seperator='\\n'),\n",
       " Document(id_='9fd2c043-d66c-49e3-9d27-4670373fb1b3', embedding=None, metadata={}, excluded_embed_metadata_keys=[], excluded_llm_metadata_keys=[], relationships={}, text='Beetles have mouthparts similar to those of grasshoppers. Of these parts, the most commonly known are probably the mandibles, which appear as large pincers on the front of some beetles. The mandibles are a pair of hard, often tooth-like structures that move horizontally to grasp, crush, or cut food or enemies (see defence, below). Two pairs of finger-like appendages are found around the mouth in most beetles, serving to move food into the mouth. These are the maxillary and labial palpi.', mimetype='text/plain', start_char_idx=None, end_char_idx=None, text_template='{metadata_str}\\n\\n{content}', metadata_template='{key}: {value}', metadata_seperator='\\n'),\n",
       " Document(id_='1093275e-17c8-44b9-8461-6e4674d0c9f8', embedding=None, metadata={}, excluded_embed_metadata_keys=[], excluded_llm_metadata_keys=[], relationships={}, text='The eyes are compound and may display remarkable adaptability, as in the case of whirligig beetles (family Gyrinidae), in which the eyes are split to allow a view both above and below the waterline. Other species also have divided eyes â\\x80\\x94 some longhorn beetles (family Cerambycidae) and weevils â\\x80\\x94 while many beetles have eyes that are notched to some degree. A few beetle genera also possess ocelli, which are small, simple eyes usually situated farther back on the head (on the vertex).', mimetype='text/plain', start_char_idx=None, end_char_idx=None, text_template='{metadata_str}\\n\\n{content}', metadata_template='{key}: {value}', metadata_seperator='\\n'),\n",
       " Document(id_='4a17bcfd-bfb4-4908-bdbc-e4ac2ae27797', embedding=None, metadata={}, excluded_embed_metadata_keys=[], excluded_llm_metadata_keys=[], relationships={}, text=\"Beetles' antennae are primarily organs of smell, but may also be used to feel out a beetle's environment physically. They may also be used in some families during mating, or among a few beetles for defence. Antennae vary greatly in form within the Coleoptera, but are often similar within any given family. In some cases, males and females of the same species will have different antennal forms. Antennae may be clavate (flabellate and lamellate are sub-forms of clavate, or clubbed antennae), filiform, geniculate, moniliform, pectinate, or serrate. For images of these antennal forms see antenna (biology).\", mimetype='text/plain', start_char_idx=None, end_char_idx=None, text_template='{metadata_str}\\n\\n{content}', metadata_template='{key}: {value}', metadata_seperator='\\n'),\n",
       " Document(id_='02d5e677-4215-47f0-b6ca-883b271a43d1', embedding=None, metadata={}, excluded_embed_metadata_keys=[], excluded_llm_metadata_keys=[], relationships={}, text='Acilius sulcatus, a diving beetle showing hind legs adapted for life in water', mimetype='text/plain', start_char_idx=None, end_char_idx=None, text_template='{metadata_str}\\n\\n{content}', metadata_template='{key}: {value}', metadata_seperator='\\n'),\n",
       " Document(id_='395383a2-8339-4b02-a5f3-991c109ff0ea', embedding=None, metadata={}, excluded_embed_metadata_keys=[], excluded_llm_metadata_keys=[], relationships={}, text='The legs, which are multi-segmented, end in two to five small segments called tarsi. Like many other insect orders beetles bear claws, usually one pair, on the end of the last tarsal segment of each leg. While most beetles use their legs for walking, legs may be variously modified and adapted for other uses. Among aquatic families â\\x80\\x94 Dytiscidae, Haliplidae, many species of Hydrophilidae and others â\\x80\\x94 the legs, most notably the last pair, are modified for swimming and often bear rows of long hairs to aid this purpose. Other beetles have fossorial legs that are widened and often spined for digging. Species with such adaptations are found among the scarabs, ground beetles, and clown beetles (family Histeridae). The hind legs of some beetles, such as flea beetles (within Chrysomelidae) and flea weevils (within Curculionidae), are enlarged and designed for jumping.', mimetype='text/plain', start_char_idx=None, end_char_idx=None, text_template='{metadata_str}\\n\\n{content}', metadata_template='{key}: {value}', metadata_seperator='\\n'),\n",
       " Document(id_='59daa9e3-cd2a-4d2b-a4db-a29d586a1126', embedding=None, metadata={}, excluded_embed_metadata_keys=[], excluded_llm_metadata_keys=[], relationships={}, text='Oxygen is obtained via a tracheal system. Air enters a series of tubes along the body through openings called spiracles, and is then taken into increasingly finer fibres. Pumping movements of the body force the air through the system.', mimetype='text/plain', start_char_idx=None, end_char_idx=None, text_template='{metadata_str}\\n\\n{content}', metadata_template='{key}: {value}', metadata_seperator='\\n'),\n",
       " Document(id_='313af996-f734-4677-9e42-6f6edf14f791', embedding=None, metadata={}, excluded_embed_metadata_keys=[], excluded_llm_metadata_keys=[], relationships={}, text='Beetles have haemolymph instead of blood, and the open circulatory system of the beetle is powered by a tube-like heart attached to the top inside of the thorax.', mimetype='text/plain', start_char_idx=None, end_char_idx=None, text_template='{metadata_str}\\n\\n{content}', metadata_template='{key}: {value}', metadata_seperator='\\n'),\n",
       " Document(id_='15c623b8-82a6-4518-bcda-8688f6addf6c', embedding=None, metadata={}, excluded_embed_metadata_keys=[], excluded_llm_metadata_keys=[], relationships={}, text='Scarabaeiform larva of the cockchafer, Melolontha melolontha', mimetype='text/plain', start_char_idx=None, end_char_idx=None, text_template='{metadata_str}\\n\\n{content}', metadata_template='{key}: {value}', metadata_seperator='\\n'),\n",
       " Document(id_='3b31c461-1696-456a-91f5-d9e652ed9648', embedding=None, metadata={}, excluded_embed_metadata_keys=[], excluded_llm_metadata_keys=[], relationships={}, text='Beetles are endopterygotes with complete metamorphosis.', mimetype='text/plain', start_char_idx=None, end_char_idx=None, text_template='{metadata_str}\\n\\n{content}', metadata_template='{key}: {value}', metadata_seperator='\\n'),\n",
       " Document(id_='47012106-3309-42b7-b2f3-69d3d2e774e3', embedding=None, metadata={}, excluded_embed_metadata_keys=[], excluded_llm_metadata_keys=[], relationships={}, text='A single female may lay from several dozen to several thousand eggs during her lifetime. Eggs are usually laid according to the substrate the larva will feed on upon hatching. Among others, they can be laid loose in the substrate (e.g. flour beetle), laid in clumps on leaves (e.g. Colorado potato beetle), or individually attached (e.g. mungbean beetle and other seed borers) or buried in the medium (e.g. carrot weevil).', mimetype='text/plain', start_char_idx=None, end_char_idx=None, text_template='{metadata_str}\\n\\n{content}', metadata_template='{key}: {value}', metadata_seperator='\\n'),\n",
       " Document(id_='ea3de255-a260-4f7d-8bdf-983b4a245c6c', embedding=None, metadata={}, excluded_embed_metadata_keys=[], excluded_llm_metadata_keys=[], relationships={}, text='The larva is usually the principal feeding stage of the beetle life cycle. Larvae tend to feed voraciously once they emerge from their eggs. Some feed externally on plants, such as those of certain leaf beetles, while others feed within their food sources. Examples of internal feeders are most Buprestidae and longhorn beetles. The larvae of many beetle families are predatory like the adults (ground beetles, ladybirds, rove beetles). The larval period varies between species but can be as long as several years.', mimetype='text/plain', start_char_idx=None, end_char_idx=None, text_template='{metadata_str}\\n\\n{content}', metadata_template='{key}: {value}', metadata_seperator='\\n'),\n",
       " Document(id_='3fef8c4d-c35b-41f5-9501-527f34b5eef2', embedding=None, metadata={}, excluded_embed_metadata_keys=[], excluded_llm_metadata_keys=[], relationships={}, text='Beetle larvae can be differentiated from other insect larvae by their hardened, often darkened head, the presence of chewing mouthparts, and spiracles along the sides of the body. Like adult beetles, the larvae are varied in appearance, particularly between beetle families. Beetles whose larvae are somewhat flattened and are highly mobile are the ground beetles, some rove beetles, and others; their larvae are described as campodeiform. Some beetle larvae resemble hardened worms with dark head capsules and minute legs. These are elateriform larvae, and are found in the click beetle (Elateridae) and darkling beetle (Tenebrionidae) families. Some elateriform larvae of click beetles are known as wireworms. Beetles in the families of the Scarabaeoidea have short, thick larvae described as scarabaeiform, but more commonly known as grubs.', mimetype='text/plain', start_char_idx=None, end_char_idx=None, text_template='{metadata_str}\\n\\n{content}', metadata_template='{key}: {value}', metadata_seperator='\\n'),\n",
       " Document(id_='d952e142-1b6c-4d56-b2fa-a2af22a42c1a', embedding=None, metadata={}, excluded_embed_metadata_keys=[], excluded_llm_metadata_keys=[], relationships={}, text='All beetle larvae go through several instars, which are the developmental stages between each moult. In many species the larvae simply increase in size with each successive instar as more food is consumed. In some cases, however, more dramatic changes occur. Among certain beetle families or genera, particularly those that exhibit parasitic lifestyles, the first instar (the planidium) is highly mobile in order to search out a host, while the following instars are more sedentary and remain on or within their host. This is known as hypermetamorphosis; examples include the blister beetles (family Meloidae) and some rove beetles, particularly those of the genus Aleochara.', mimetype='text/plain', start_char_idx=None, end_char_idx=None, text_template='{metadata_str}\\n\\n{content}', metadata_template='{key}: {value}', metadata_seperator='\\n'),\n",
       " Document(id_='a66b099c-d408-416f-baae-ad04fa5dbd3e', embedding=None, metadata={}, excluded_embed_metadata_keys=[], excluded_llm_metadata_keys=[], relationships={}, text='As with all endopterygotes, beetle larvae pupate, and from this pupa emerges a fully formed, sexually mature adult beetle, or imago. Adults have an extremely variable lifespan, from weeks to years, depending on the species.', mimetype='text/plain', start_char_idx=None, end_char_idx=None, text_template='{metadata_str}\\n\\n{content}', metadata_template='{key}: {value}', metadata_seperator='\\n'),\n",
       " Document(id_='146acb31-3979-47c6-89dc-28b6a7229699', embedding=None, metadata={}, excluded_embed_metadata_keys=[], excluded_llm_metadata_keys=[], relationships={}, text='Beetles mating in San Francisco', mimetype='text/plain', start_char_idx=None, end_char_idx=None, text_template='{metadata_str}\\n\\n{content}', metadata_template='{key}: {value}', metadata_seperator='\\n'),\n",
       " Document(id_='53189766-832c-4027-9082-2c84ab7afe19', embedding=None, metadata={}, excluded_embed_metadata_keys=[], excluded_llm_metadata_keys=[], relationships={}, text='Flamboyant flower beetle, Eudicella gralli, from the forests of Central Africa. The iridescent elytra are used in marriage ceremonies.', mimetype='text/plain', start_char_idx=None, end_char_idx=None, text_template='{metadata_str}\\n\\n{content}', metadata_template='{key}: {value}', metadata_seperator='\\n'),\n",
       " Document(id_='e34e7cdd-4ad4-4512-ae25-b2c954c18bc7', embedding=None, metadata={}, excluded_embed_metadata_keys=[], excluded_llm_metadata_keys=[], relationships={}, text='Beetles may display extremely intricate behaviour when mating. Smell is thought to be important in the location of a mate.', mimetype='text/plain', start_char_idx=None, end_char_idx=None, text_template='{metadata_str}\\n\\n{content}', metadata_template='{key}: {value}', metadata_seperator='\\n'),\n",
       " Document(id_='7d3c4a05-4ba3-4e7c-be53-71d2754ec033', embedding=None, metadata={}, excluded_embed_metadata_keys=[], excluded_llm_metadata_keys=[], relationships={}, text='Conflict can play a part in the mating rituals of species such as burying beetles (genus Nicrophorus) where conflicts between males and females rage until only one of each is left, thus ensuring reproduction by the strongest and fittest. Many beetles are territorial and will fiercely defend their small patch of territory from intruding males.', mimetype='text/plain', start_char_idx=None, end_char_idx=None, text_template='{metadata_str}\\n\\n{content}', metadata_template='{key}: {value}', metadata_seperator='\\n'),\n",
       " Document(id_='8616913d-f331-4f78-8ed2-e0ecfbcbbf79', embedding=None, metadata={}, excluded_embed_metadata_keys=[], excluded_llm_metadata_keys=[], relationships={}, text='Pairing is generally short but in some cases will last for several hours. During pairing sperm cells are transferred to the female to fertilise the egg.', mimetype='text/plain', start_char_idx=None, end_char_idx=None, text_template='{metadata_str}\\n\\n{content}', metadata_template='{key}: {value}', metadata_seperator='\\n'),\n",
       " Document(id_='1dc2de47-25b1-4e79-9eb5-0508666d31dd', embedding=None, metadata={}, excluded_embed_metadata_keys=[], excluded_llm_metadata_keys=[], relationships={}, text='Parental care varies between species, ranging from the simple laying of eggs under a leaf to certain scarab beetles, which construct underground structures complete with a supply of dung to house and feed their young. Other beetles are leaf rollers, biting sections of leaves to cause them to curl inwards, then laying their eggs, thus protected, inside.', mimetype='text/plain', start_char_idx=None, end_char_idx=None, text_template='{metadata_str}\\n\\n{content}', metadata_template='{key}: {value}', metadata_seperator='\\n'),\n",
       " Document(id_='b2732b3e-327f-4632-8f67-d25549de7843', embedding=None, metadata={}, excluded_embed_metadata_keys=[], excluded_llm_metadata_keys=[], relationships={}, text='Brachinus sp., a bombardier beetle', mimetype='text/plain', start_char_idx=None, end_char_idx=None, text_template='{metadata_str}\\n\\n{content}', metadata_template='{key}: {value}', metadata_seperator='\\n'),\n",
       " Document(id_='00ab606f-dfdc-4635-a9df-9b641d51cf67', embedding=None, metadata={}, excluded_embed_metadata_keys=[], excluded_llm_metadata_keys=[], relationships={}, text='Beetles and their larvae have a variety of strategies to avoid being attacked by predators or parasitoids. These include camouflage, mimicry, toxicity, and active defence.', mimetype='text/plain', start_char_idx=None, end_char_idx=None, text_template='{metadata_str}\\n\\n{content}', metadata_template='{key}: {value}', metadata_seperator='\\n'),\n",
       " Document(id_='1e87f459-ff83-4576-bac6-5aa3ff20472c', embedding=None, metadata={}, excluded_embed_metadata_keys=[], excluded_llm_metadata_keys=[], relationships={}, text='Camouflage involves the use of colouration or shape to blend into the surrounding environment. Among those that exhibit this defensive strategy are some of the leaf beetles (family Chysomelidae), having green colouring very similar to their habitat on plant leaves. More complex camouflage also occurs, as with some weevils, where various coloured scales or hairs cause the beetle to resemble bird dung.', mimetype='text/plain', start_char_idx=None, end_char_idx=None, text_template='{metadata_str}\\n\\n{content}', metadata_template='{key}: {value}', metadata_seperator='\\n'),\n",
       " Document(id_='6b67f735-791b-4b8b-ab22-71907e0ff16c', embedding=None, metadata={}, excluded_embed_metadata_keys=[], excluded_llm_metadata_keys=[], relationships={}, text='Another defence that often uses colour or shape to deceive potential enemies is mimicry. A number of longhorn beetles (family Cerambycidae) bear a striking resemblance to wasps, which fools predators into keeping their distance even though the beetles are in fact harmless. This defence can be found to a lesser extent in other beetle families, such as the scarab beetles. Beetles may combine their colour mimicry with behavioural mimicry, acting like the wasps they already closely resemble.', mimetype='text/plain', start_char_idx=None, end_char_idx=None, text_template='{metadata_str}\\n\\n{content}', metadata_template='{key}: {value}', metadata_seperator='\\n'),\n",
       " Document(id_='0beb767d-4437-460a-9c1f-c478c246e2f4', embedding=None, metadata={}, excluded_embed_metadata_keys=[], excluded_llm_metadata_keys=[], relationships={}, text='Many beetle species, including ladybirds and blister beetles, can secrete distasteful or toxic substances to make them unpalatable or even poisonous. These same species often exhibit aposematism, where bright or contrasting colour patterns warn away potential predators.', mimetype='text/plain', start_char_idx=None, end_char_idx=None, text_template='{metadata_str}\\n\\n{content}', metadata_template='{key}: {value}', metadata_seperator='\\n'),\n",
       " Document(id_='d786b69e-3569-4262-a3ba-d65434f6f9db', embedding=None, metadata={}, excluded_embed_metadata_keys=[], excluded_llm_metadata_keys=[], relationships={}, text='Large ground beetles and longhorn beetles may go on the attack, using their strong mandibles to forcibly persuade a predator to seek out easier prey. Others, such as bombardier beetles (within Carabidae) spray acidic gas from their abdomen to repel predators.', mimetype='text/plain', start_char_idx=None, end_char_idx=None, text_template='{metadata_str}\\n\\n{content}', metadata_template='{key}: {value}', metadata_seperator='\\n'),\n",
       " Document(id_='e5772f14-3e1b-416b-bb24-93a0d914efcf', embedding=None, metadata={}, excluded_embed_metadata_keys=[], excluded_llm_metadata_keys=[], relationships={}, text='Besides being abundant and varied, the Coleoptera are able to exploit the wide diversity of food sources available in their many habitats. Some are generalists, eating both plants and animals. Other beetles are highly specialised in their diet. Many species of leaf beetles, longhorn beetles, and weevils are very host specific, feeding on only a single species of plant. Ground beetles and rove beetles (family Staphylinidae), among others, are primarily carnivorous and will catch and consume many other arthropods and small prey such as earthworms and snails. While most predatory beetles are generalists, a few species have more specific prey requirements or preferences.', mimetype='text/plain', start_char_idx=None, end_char_idx=None, text_template='{metadata_str}\\n\\n{content}', metadata_template='{key}: {value}', metadata_seperator='\\n'),\n",
       " Document(id_='7182a37f-46b7-4502-909e-1c06fa8ee793', embedding=None, metadata={}, excluded_embed_metadata_keys=[], excluded_llm_metadata_keys=[], relationships={}, text='Decaying organic matter is a primary diet for many species. This can range from dung, which is consumed by coprophagous species such as certain scarab beetles (family Scarabaeidae), to dead animals, which are eaten by necrophagous species such as the carrion beetles (family Silphidae). Some of the beetles found within dung and carrion are in fact predatory, such as the clown beetles, preying on the larvae of coprophagous and necrophagous insects.', mimetype='text/plain', start_char_idx=None, end_char_idx=None, text_template='{metadata_str}\\n\\n{content}', metadata_template='{key}: {value}', metadata_seperator='\\n'),\n",
       " Document(id_='1a408fb6-c353-446d-9732-188d9c67a876', embedding=None, metadata={}, excluded_embed_metadata_keys=[], excluded_llm_metadata_keys=[], relationships={}, text=\"Aquatic beetles use several techniques for retaining air beneath the water's surface. Beetles of the family Dytiscidae hold air between the abdomen and the elytra when diving. Hydrophilidae have hairs on their under surface that retain a layer of air against their bodies. Adult crawling water beetles use both their elytra and their hind coxae (the basal segment of the back legs) in air retention     while whirligig beetles simply carry an air bubble down with them whenever they dive.\", mimetype='text/plain', start_char_idx=None, end_char_idx=None, text_template='{metadata_str}\\n\\n{content}', metadata_template='{key}: {value}', metadata_seperator='\\n'),\n",
       " Document(id_='5e4e7307-fb0a-46fe-9afe-e9da417596e8', embedding=None, metadata={}, excluded_embed_metadata_keys=[], excluded_llm_metadata_keys=[], relationships={}, text='Sphaerius acaroides, a member of the small suborder Myxophaga', mimetype='text/plain', start_char_idx=None, end_char_idx=None, text_template='{metadata_str}\\n\\n{content}', metadata_template='{key}: {value}', metadata_seperator='\\n'),\n",
       " Document(id_='57a96516-3df8-4ce3-8658-259d95ebc091', embedding=None, metadata={}, excluded_embed_metadata_keys=[], excluded_llm_metadata_keys=[], relationships={}, text='While some authorities believe modern beetles began about 140 million years ago, research announced in 2007 showed that beetles may have entered the fossil record during the Lower Permian, about 265 to 300 million years ago.  Modern Beetles Predate Dinosaurs, Dave Mosher, LiveScience.com, 26 December 2007.', mimetype='text/plain', start_char_idx=None, end_char_idx=None, text_template='{metadata_str}\\n\\n{content}', metadata_template='{key}: {value}', metadata_seperator='\\n'),\n",
       " Document(id_='fa12aae2-416c-4835-89c0-10513ea10c93', embedding=None, metadata={}, excluded_embed_metadata_keys=[], excluded_llm_metadata_keys=[], relationships={}, text='The four extant suborders of beetle are these:', mimetype='text/plain', start_char_idx=None, end_char_idx=None, text_template='{metadata_str}\\n\\n{content}', metadata_template='{key}: {value}', metadata_seperator='\\n'),\n",
       " Document(id_='967774f1-b13f-4819-8b49-d10ac5ce9a4b', embedding=None, metadata={}, excluded_embed_metadata_keys=[], excluded_llm_metadata_keys=[], relationships={}, text='* Polyphaga is the largest suborder, containing more than 300,000 described species in more than 170 families, including rove beetles (Staphylinidae), scarab beetles (Scarabaeidae), blister beetles (Meloidae), stag beetles (Lucanidae) and true weevils (Curculionidae). These beetles can be identified by the cervical sclerites (hardened parts of the head used as points of attachment for muscles) absent in the other suborders.', mimetype='text/plain', start_char_idx=None, end_char_idx=None, text_template='{metadata_str}\\n\\n{content}', metadata_template='{key}: {value}', metadata_seperator='\\n'),\n",
       " Document(id_='888040cf-49e2-4464-93a4-6e3e8eaa8204', embedding=None, metadata={}, excluded_embed_metadata_keys=[], excluded_llm_metadata_keys=[], relationships={}, text=\"* Adephaga contains about 10 families of largely predatory beetles, includes ground beetles (Carabidae), Dytiscidae and whirligig beetles (Gyrinidae). In these beetles the testes are tubular and the first abdominal sternum (a plate of the exoskeleton) is divided by the hind coxae (the basal joints of the beetle's legs).\", mimetype='text/plain', start_char_idx=None, end_char_idx=None, text_template='{metadata_str}\\n\\n{content}', metadata_template='{key}: {value}', metadata_seperator='\\n'),\n",
       " Document(id_='fd3bdaee-d2b6-4b14-9774-4e5ec211ceb2', embedding=None, metadata={}, excluded_embed_metadata_keys=[], excluded_llm_metadata_keys=[], relationships={}, text='* Archostemata contains four families of mainly wood-eating beetles, including reticulated beetles (Cupedidae) and the telephone-pole beetle.', mimetype='text/plain', start_char_idx=None, end_char_idx=None, text_template='{metadata_str}\\n\\n{content}', metadata_template='{key}: {value}', metadata_seperator='\\n'),\n",
       " Document(id_='615c85df-0b58-44f3-9001-9b1bf1f8363c', embedding=None, metadata={}, excluded_embed_metadata_keys=[], excluded_llm_metadata_keys=[], relationships={}, text='* Myxophaga contains about 100 described species in four families, mostly very small, including Hydroscaphidae and the genus Sphaerius.', mimetype='text/plain', start_char_idx=None, end_char_idx=None, text_template='{metadata_str}\\n\\n{content}', metadata_template='{key}: {value}', metadata_seperator='\\n'),\n",
       " Document(id_='0d409dc8-d1ac-4b2f-9681-80b43986bd67', embedding=None, metadata={}, excluded_embed_metadata_keys=[], excluded_llm_metadata_keys=[], relationships={}, text='These suborders diverged in the Permian and Triassic. Their phylogenetic relationship is uncertain, with the most popular hypothesis being that Polyphaga and Myxophaga are most closely related, with Adephaga as the sister group to those two, and Archostemata as sister to the other three collectively.', mimetype='text/plain', start_char_idx=None, end_char_idx=None, text_template='{metadata_str}\\n\\n{content}', metadata_template='{key}: {value}', metadata_seperator='\\n'),\n",
       " Document(id_='0882e2ab-96df-4baf-ab4a-ba0108661d73', embedding=None, metadata={}, excluded_embed_metadata_keys=[], excluded_llm_metadata_keys=[], relationships={}, text='There are about 350,000 species of beetles. Such a large number of species poses special problems for classification, with some families consisting of thousands of species and needing further division into subfamilies and tribes.', mimetype='text/plain', start_char_idx=None, end_char_idx=None, text_template='{metadata_str}\\n\\n{content}', metadata_template='{key}: {value}', metadata_seperator='\\n'),\n",
       " Document(id_='ce1829f9-f731-4385-8f32-807dc1ee5a25', embedding=None, metadata={}, excluded_embed_metadata_keys=[], excluded_llm_metadata_keys=[], relationships={}, text='Colorado potato beetle (Leptinotarsa decemlineata) larvae', mimetype='text/plain', start_char_idx=None, end_char_idx=None, text_template='{metadata_str}\\n\\n{content}', metadata_template='{key}: {value}', metadata_seperator='\\n'),\n",
       " Document(id_='b9935855-87b4-4dac-9bea-7268aeb7deee', embedding=None, metadata={}, excluded_embed_metadata_keys=[], excluded_llm_metadata_keys=[], relationships={}, text='Many agricultural, forestry, and household insect pests are beetles. These include the following:', mimetype='text/plain', start_char_idx=None, end_char_idx=None, text_template='{metadata_str}\\n\\n{content}', metadata_template='{key}: {value}', metadata_seperator='\\n'),\n",
       " Document(id_='4fc2ca9b-a2e5-4da8-8e0b-97ecd374fd67', embedding=None, metadata={}, excluded_embed_metadata_keys=[], excluded_llm_metadata_keys=[], relationships={}, text='* The Colorado potato beetle, Leptinotarsa decemlineata, is a notorious pest of potato plants. Crops are destroyed and the beetle can only be treated by employing expensive pesticides, many of which it has begun to develop resistance to. As well as potatoes, suitable hosts can be a number of plants from the potato family (Solanaceae), such as nightshade, tomato, aubergine and capsicum.', mimetype='text/plain', start_char_idx=None, end_char_idx=None, text_template='{metadata_str}\\n\\n{content}', metadata_template='{key}: {value}', metadata_seperator='\\n'),\n",
       " Document(id_='1326e741-2a00-42ed-8b0a-12dd7c49bc52', embedding=None, metadata={}, excluded_embed_metadata_keys=[], excluded_llm_metadata_keys=[], relationships={}, text='* The boll weevil, Anthonomus grandis, has cost cotton producers in the United States billions of dollars since it first entered that country.', mimetype='text/plain', start_char_idx=None, end_char_idx=None, text_template='{metadata_str}\\n\\n{content}', metadata_template='{key}: {value}', metadata_seperator='\\n'),\n",
       " Document(id_='30f734b6-2dba-4f50-804c-a543869cb0fc', embedding=None, metadata={}, excluded_embed_metadata_keys=[], excluded_llm_metadata_keys=[], relationships={}, text='* The bark beetles Hylurgopinus rufipes and Scolytus multistriatus, the elm leaf beetle, Pyrrhalta luteola, and other beetles attack elm trees. The bark beetles are important elm pests because they carry Dutch elm disease as they move from infected breeding sites to feed on healthy elm trees. The spread of the fungus by the beetle has led to the devastation of elm trees in many parts of the Northern Hemisphere, notably in Europe and North America.', mimetype='text/plain', start_char_idx=None, end_char_idx=None, text_template='{metadata_str}\\n\\n{content}', metadata_template='{key}: {value}', metadata_seperator='\\n'),\n",
       " Document(id_='5a50de60-56bb-4498-96ca-bc4ee83d0319', embedding=None, metadata={}, excluded_embed_metadata_keys=[], excluded_llm_metadata_keys=[], relationships={}, text='* The death watch beetle, Xestobium rufovillosum, (family Anobiidae) is of considerable importance as a pest of older wooden buildings in Great Britain. It attacks hardwoods such as oak and chestnut, always where some fungal decay has taken or is taking place. It is thought that the actual introduction of the pest into buildings takes place at the time of construction.', mimetype='text/plain', start_char_idx=None, end_char_idx=None, text_template='{metadata_str}\\n\\n{content}', metadata_template='{key}: {value}', metadata_seperator='\\n'),\n",
       " Document(id_='1a1c7c41-f1de-43b3-bfb1-5f7bb3689875', embedding=None, metadata={}, excluded_embed_metadata_keys=[], excluded_llm_metadata_keys=[], relationships={}, text='Coccinella septempunctata, a beneficial beetle', mimetype='text/plain', start_char_idx=None, end_char_idx=None, text_template='{metadata_str}\\n\\n{content}', metadata_template='{key}: {value}', metadata_seperator='\\n'),\n",
       " Document(id_='1ba76e9f-fa1c-408a-8a47-0f0534dcf1e9', embedding=None, metadata={}, excluded_embed_metadata_keys=[], excluded_llm_metadata_keys=[], relationships={}, text='* Both the larvae and adults of some ladybirds (family Coccinellidae) are found in aphid colonies. Other lady beetles feed on scale insects and mealybugs. If normal food sources are scarce they may feed on other things, such as small caterpillars, young plant bugs, honeydew and nectar.', mimetype='text/plain', start_char_idx=None, end_char_idx=None, text_template='{metadata_str}\\n\\n{content}', metadata_template='{key}: {value}', metadata_seperator='\\n'),\n",
       " Document(id_='5eb101d0-9d23-44ee-a569-2027a9fee86f', embedding=None, metadata={}, excluded_embed_metadata_keys=[], excluded_llm_metadata_keys=[], relationships={}, text='* Ground beetles (family Carabidae) are common predators of many different insects and other arthropods, including fly eggs, caterpillars, wireworms and others.', mimetype='text/plain', start_char_idx=None, end_char_idx=None, text_template='{metadata_str}\\n\\n{content}', metadata_template='{key}: {value}', metadata_seperator='\\n'),\n",
       " Document(id_='e4078b9f-22fb-48f4-85b5-e77df0fbf39b', embedding=None, metadata={}, excluded_embed_metadata_keys=[], excluded_llm_metadata_keys=[], relationships={}, text='* Plant-feeding beetles are often important beneficial insects, controlling problem weeds. Some flea beetles of the genus Aphthona feed on leafy spurge, a considerable weed of rangeland in western North America.', mimetype='text/plain', start_char_idx=None, end_char_idx=None, text_template='{metadata_str}\\n\\n{content}', metadata_template='{key}: {value}', metadata_seperator='\\n'),\n",
       " Document(id_='53dc5473-91f5-405e-a254-17648c24cbf5', embedding=None, metadata={}, excluded_embed_metadata_keys=[], excluded_llm_metadata_keys=[], relationships={}, text='Some farmers develop beetle banks to foster and provide cover for beneficial beetles.', mimetype='text/plain', start_char_idx=None, end_char_idx=None, text_template='{metadata_str}\\n\\n{content}', metadata_template='{key}: {value}', metadata_seperator='\\n'),\n",
       " Document(id_='54bb2f5d-ed1d-4d50-ad10-912f84c6f348', embedding=None, metadata={}, excluded_embed_metadata_keys=[], excluded_llm_metadata_keys=[], relationships={}, text='Beetles of the Dermestidae family are often used in taxidermy to clean bones of remaining flesh.', mimetype='text/plain', start_char_idx=None, end_char_idx=None, text_template='{metadata_str}\\n\\n{content}', metadata_template='{key}: {value}', metadata_seperator='\\n'),\n",
       " Document(id_='8618d903-3328-4112-abf7-f166f2d7889f', embedding=None, metadata={}, excluded_embed_metadata_keys=[], excluded_llm_metadata_keys=[], relationships={}, text='Ancient Egyptian scene depicting a scarab beetle', mimetype='text/plain', start_char_idx=None, end_char_idx=None, text_template='{metadata_str}\\n\\n{content}', metadata_template='{key}: {value}', metadata_seperator='\\n'),\n",
       " Document(id_='0dd7bad1-6089-402e-860b-fb251543a05b', embedding=None, metadata={}, excluded_embed_metadata_keys=[], excluded_llm_metadata_keys=[], relationships={}, text='Several species of dung beetle, most notably Scarabaeus sacer (often referred to as \"scarab\"), enjoyed a sacred status among the ancient Egyptians, as the creatures were likened to the major god Khepri. Some scholars suggest that the Egyptians\\' practice of making mummies was inspired by the brooding process of the beetle. Many thousands of amulets and stamp seals have been excavated that depict the scarab. In many artifacts, the scarab is depicted pushing the sun along its course in the sky, much as scarabs push or roll balls of dung to their brood sites. During and following the New Kingdom, scarab amulets were often placed over the heart of the mummified deceased.', mimetype='text/plain', start_char_idx=None, end_char_idx=None, text_template='{metadata_str}\\n\\n{content}', metadata_template='{key}: {value}', metadata_seperator='\\n'),\n",
       " Document(id_='7e742f56-aab6-4829-9919-618803f1bdff', embedding=None, metadata={}, excluded_embed_metadata_keys=[], excluded_llm_metadata_keys=[], relationships={}, text='Some tribal groups, particularly in tropical parts of the world, use the colourful, iridescent elytra of certain beetles, especially certain Scarabaeidae, in ceremonies and as adornment.', mimetype='text/plain', start_char_idx=None, end_char_idx=None, text_template='{metadata_str}\\n\\n{content}', metadata_template='{key}: {value}', metadata_seperator='\\n'),\n",
       " Document(id_='dfe15549-c89f-41e5-b987-741fcbac11d0', embedding=None, metadata={}, excluded_embed_metadata_keys=[], excluded_llm_metadata_keys=[], relationships={}, text='Beetle collection at the Melbourne Museum, Australia', mimetype='text/plain', start_char_idx=None, end_char_idx=None, text_template='{metadata_str}\\n\\n{content}', metadata_template='{key}: {value}', metadata_seperator='\\n'),\n",
       " Document(id_='6a364676-0e29-4367-9644-b685ca1faf3b', embedding=None, metadata={}, excluded_embed_metadata_keys=[], excluded_llm_metadata_keys=[], relationships={}, text='The study of beetles is called coleopterology, and its practitioners are coleopterists. Coleopterists have formed organisations to facilitate the study of beetles. Among these is The Coleopterists Society, an international organisation based in the United States. Such organisations may have both professionals and amateurs interested in beetles as members.', mimetype='text/plain', start_char_idx=None, end_char_idx=None, text_template='{metadata_str}\\n\\n{content}', metadata_template='{key}: {value}', metadata_seperator='\\n'),\n",
       " Document(id_='063c8509-630b-4a0c-becf-4ba3b78577d7', embedding=None, metadata={}, excluded_embed_metadata_keys=[], excluded_llm_metadata_keys=[], relationships={}, text='Research in this field is often published in peer-reviewed journals specific to the field of coleopterology, though journals dealing with general entomology also publish many papers on various aspects of beetle biology. Some of the journals specific to beetle research are:', mimetype='text/plain', start_char_idx=None, end_char_idx=None, text_template='{metadata_str}\\n\\n{content}', metadata_template='{key}: {value}', metadata_seperator='\\n'),\n",
       " Document(id_='2d2a1ca0-3d1b-4933-a4ba-273eaba12a1c', embedding=None, metadata={}, excluded_embed_metadata_keys=[], excluded_llm_metadata_keys=[], relationships={}, text='There is a thriving industry in the collection of beetle specimens for amateur and professional collectors. Many coleopterists prefer to collect beetle specimens for themselves, recording detailed information about each specimen and its habitat. Such collections add to the body of knowledge about the Coleoptera. Some countries have established laws governing or prohibiting the collection of certain rare (and often much sought after) species. One such beetle whose collection is illegal or restricted is the American burying beetle, Nicrophorus americanus.', mimetype='text/plain', start_char_idx=None, end_char_idx=None, text_template='{metadata_str}\\n\\n{content}', metadata_template='{key}: {value}', metadata_seperator='\\n'),\n",
       " Document(id_='34502351-eab2-4a85-b961-5afd7ff1fc60', embedding=None, metadata={}, excluded_embed_metadata_keys=[], excluded_llm_metadata_keys=[], relationships={}, text='*  The Beetle Ring - A group of websites about beetles (Coleoptera).', mimetype='text/plain', start_char_idx=None, end_char_idx=None, text_template='{metadata_str}\\n\\n{content}', metadata_template='{key}: {value}', metadata_seperator='\\n'),\n",
       " Document(id_='28d12001-1ca1-4521-90a5-f9d6e2bb6596', embedding=None, metadata={}, excluded_embed_metadata_keys=[], excluded_llm_metadata_keys=[], relationships={}, text='*  Entomology - online insect museum, entomology, tips and tricks, how to spread and pin insects, etc.', mimetype='text/plain', start_char_idx=None, end_char_idx=None, text_template='{metadata_str}\\n\\n{content}', metadata_template='{key}: {value}', metadata_seperator='\\n'),\n",
       " Document(id_='5e9f511a-3733-4dd2-b59d-ff7b30ec6e44', embedding=None, metadata={}, excluded_embed_metadata_keys=[], excluded_llm_metadata_keys=[], relationships={}, text=\"The leopard (Panthera pardus) is an Old World mammal of the Felidae family and the smallest of the four 'big cats' of the genus Panthera, along with the tiger, lion, and jaguar. Leopards that are melanistic, either all-black or very dark in coloration, are known colloquially as Black Panthers.\", mimetype='text/plain', start_char_idx=None, end_char_idx=None, text_template='{metadata_str}\\n\\n{content}', metadata_template='{key}: {value}', metadata_seperator='\\n'),\n",
       " Document(id_='3dc8f6f3-c0b8-4cef-ae99-eeb3fd7fbe49', embedding=None, metadata={}, excluded_embed_metadata_keys=[], excluded_llm_metadata_keys=[], relationships={}, text='Once distributed across southern Eurasia and Africa, from Korea to South Africa and Spain, it has disappeared from much of its former range and now chiefly occurs in subsaharan Africa. There are fragmented populations in Israel, the Indian subcontinent, Indochina, Malaysia, and western China. Despite the loss of range and continued population declines, the cat remains a least concern species;  its numbers are greater than that of the other Panthera species, all of which face more acute conservation concerns.', mimetype='text/plain', start_char_idx=None, end_char_idx=None, text_template='{metadata_str}\\n\\n{content}', metadata_template='{key}: {value}', metadata_seperator='\\n'),\n",
       " Document(id_='fc695b8b-8168-4162-9731-192f50592f81', embedding=None, metadata={}, excluded_embed_metadata_keys=[], excluded_llm_metadata_keys=[], relationships={}, text=\"The species' success owes in part to its opportunistic hunting behaviour and its adaptability to a variety of habitats. The leopard consumes virtually any animal it can catch and ranges from rainforest to desert. Its ecological role resembles that of the similarly-sized cougar in the Americas. Physically, the spotted cat most closely resembles the jaguar, although it is of lighter build.\", mimetype='text/plain', start_char_idx=None, end_char_idx=None, text_template='{metadata_str}\\n\\n{content}', metadata_template='{key}: {value}', metadata_seperator='\\n'),\n",
       " Document(id_='9485ca84-c16b-4d4e-a50c-abf8bf1abe48', embedding=None, metadata={}, excluded_embed_metadata_keys=[], excluded_llm_metadata_keys=[], relationships={}, text='In Antiquity, it was believed that a leopard was a hybrid between a lion and a panther, as is reflected in its name, a Greek compound word derived from Î»Î\\xadÏ\\x89Î½ lÃ©on (\"lion\") and Ï\\x80Î¬Ï\\x81Î´Î¿Ï\\x82 pÃ¡rdos (\"male panther\"), the latter related to Sanskrit à¤ªà¥\\x83à¤¦à¤¾à¤\\x95à¥\\x81 pá¹\\x9ddÄ\\x81ku (\"snake, tiger, panther\").', mimetype='text/plain', start_char_idx=None, end_char_idx=None, text_template='{metadata_str}\\n\\n{content}', metadata_template='{key}: {value}', metadata_seperator='\\n'),\n",
       " Document(id_='86bb7452-2d24-4d5e-9278-b767b041a9f7', embedding=None, metadata={}, excluded_embed_metadata_keys=[], excluded_llm_metadata_keys=[], relationships={}, text='A panther can be any of several species of large felid; in North America, the term refers to cougars, in South America, jaguars, and elsewhere, leopards. Early naturalists distinguished between leopards and panthers not by colour (a common misconception), but by the length of the tail panthers having longer tails than leopards.', mimetype='text/plain', start_char_idx=None, end_char_idx=None, text_template='{metadata_str}\\n\\n{content}', metadata_template='{key}: {value}', metadata_seperator='\\n'),\n",
       " Document(id_='f066d1f7-e815-4798-acde-629d9e2f204e', embedding=None, metadata={}, excluded_embed_metadata_keys=[], excluded_llm_metadata_keys=[], relationships={}, text=\"Felis pardus was one of the many species described in Linnaeus's 18th-century work, Systema Naturae.\", mimetype='text/plain', start_char_idx=None, end_char_idx=None, text_template='{metadata_str}\\n\\n{content}', metadata_template='{key}: {value}', metadata_seperator='\\n'),\n",
       " Document(id_='888d0a81-d1d8-403c-b2c3-245127719b70', embedding=None, metadata={}, excluded_embed_metadata_keys=[], excluded_llm_metadata_keys=[], relationships={}, text='The generic component of its modern scientific designation, Panthera pardus, is derived from Latin via Greek Ï\\x80Î¬Î½Î¸Î·Ï\\x81 pÃ¡nthÄ\\x93r. A folk etymology held that it was a compound of Ï\\x80Î±Î½ pan (\"all\") and Î¸Î·Ï\\x81 (\"beast\"). However, it is believed instead to derive from an Indo-Iranian word meaning \"whitish-yellow, pale\"; in Sanskrit, this word\\'s reflex was à¤ªà¤¾à¤£à¥\\x8dà¤¡à¤° pÄ\\x81á¹\\x87á¸\\x8dara, from which was derived à¤ªà¥\\x81à¤£à¥\\x8dà¤¡à¤°à¥\\x80à¤\\x95 puá¹\\x87á¸\\x8dÃ¡rÄ«ka (\"tiger\", among other things), then borrowed into Greek.', mimetype='text/plain', start_char_idx=None, end_char_idx=None, text_template='{metadata_str}\\n\\n{content}', metadata_template='{key}: {value}', metadata_seperator='\\n'),\n",
       " Document(id_='9a4d4abd-3450-4283-98a1-1ef3decaa223', embedding=None, metadata={}, excluded_embed_metadata_keys=[], excluded_llm_metadata_keys=[], relationships={}, text=\"The leopard is an agile and graceful predator. Although smaller than the other members of Panthera, the leopard is still able to take large prey given a massive skull that well utilizes powerful jaw muscles.  Its body is comparatively long for a cat and its legs are short.  Head and body length is between 90 and 190 cm, the tail reaches 60 to 110cm. Shoulder height is 45 to 80 cm. Males are considerably larger than females and weigh 37 to 90 kg compared to 28 to 60 kg for females. Ronald M. Nowak: Walker's Mammals of the World. Johns Hopkins University Press, 1999 ISBN 0-8018-5789-9\", mimetype='text/plain', start_char_idx=None, end_char_idx=None, text_template='{metadata_str}\\n\\n{content}', metadata_template='{key}: {value}', metadata_seperator='\\n'),\n",
       " Document(id_='a100df0e-cfeb-4367-bb79-7c1761b12fa5', embedding=None, metadata={}, excluded_embed_metadata_keys=[], excluded_llm_metadata_keys=[], relationships={}, text=\"One of many spotted cats, a leopard may be mistaken for a cheetah or a jaguar. The leopard has rosettes rather than cheetah's simple spots, but they lack internal spots, unlike the jaguar. The leopard is larger and less lanky than the cheetah but smaller than the jaguar. The leopard's black, irregular rosettes serve as camouflage. They are circular in East Africa but tend to be square in southern Africa.  .\", mimetype='text/plain', start_char_idx=None, end_char_idx=None, text_template='{metadata_str}\\n\\n{content}', metadata_template='{key}: {value}', metadata_seperator='\\n'),\n",
       " Document(id_='0f032996-4f87-4eb3-a594-8bdabcfcc6a4', embedding=None, metadata={}, excluded_embed_metadata_keys=[], excluded_llm_metadata_keys=[], relationships={}, text='Leopards have been reported to reach 21 years of age in captivity.', mimetype='text/plain', start_char_idx=None, end_char_idx=None, text_template='{metadata_str}\\n\\n{content}', metadata_template='{key}: {value}', metadata_seperator='\\n'),\n",
       " Document(id_='cfac6570-fc75-4a83-a821-c19e62687a51', embedding=None, metadata={}, excluded_embed_metadata_keys=[], excluded_llm_metadata_keys=[], relationships={}, text='A melanistic leopard, or \"black panther\"', mimetype='text/plain', start_char_idx=None, end_char_idx=None, text_template='{metadata_str}\\n\\n{content}', metadata_template='{key}: {value}', metadata_seperator='\\n'),\n",
       " Document(id_='bbed7a05-9a70-4e5f-8f30-6963fbd69019', embedding=None, metadata={}, excluded_embed_metadata_keys=[], excluded_llm_metadata_keys=[], relationships={}, text='A melanistic morph of the leopard occurs particularly in mountainous areas and rain forests. The black color is heritable and caused by only one recessive gene locus. In some regions, for example on the Malayan Peninsula, up to half of all leopards are black. In Africa black leopards seem to be most common in the Ethiopian Highlands. While they are commonly called black panthers, the term is not applied exclusively to leopards. Black leopards are less successful on the African plains because their colouration makes them stand out.', mimetype='text/plain', start_char_idx=None, end_char_idx=None, text_template='{metadata_str}\\n\\n{content}', metadata_template='{key}: {value}', metadata_seperator='\\n'),\n",
       " Document(id_='f1019040-e91d-4aa8-a143-67ab1ac8a78a', embedding=None, metadata={}, excluded_embed_metadata_keys=[], excluded_llm_metadata_keys=[], relationships={}, text='As of 1996, the leopard had the largest distribution of any wild cat,  although populations before and since have shown a declining trend and are fragmented outside of subsaharan Africa. The IUCN notes that within subsaharan Africa the species is \"still numerous and even thriving in marginal habitats\" where other large cats have disappeared, but that populations in North Africa may be extinct. In Asia, data on distribution are mixed: populations in Southwest and Central Asia are small and fragmented; in the northeast portion of the range, they are critically endangered; and in Indian, Southeast Asia, and China, the cat is still relatively abundant.  Leopards also like to live in grasslands, woodlands and riverside forests.', mimetype='text/plain', start_char_idx=None, end_char_idx=None, text_template='{metadata_str}\\n\\n{content}', metadata_template='{key}: {value}', metadata_seperator='\\n'),\n",
       " Document(id_='2c6475c7-5ed5-49e9-9ae5-8a046418a588', embedding=None, metadata={}, excluded_embed_metadata_keys=[], excluded_llm_metadata_keys=[], relationships={}, text=\"Graceful and stealthy, leopards are famous for their ability to go undetected. They are good, agile climbers, but cannot get down from a tree headfirst, because they do not have the ankle flexibilityâ\\x80\\x94the only two cats that do are the Margay and the Clouded Leopard. Female leopard. Note the white spots on the back of the ears used for communication with cubs when hunting in long grassAlong with climbing, they are strong swimmers but not as fond of water as tigers; for example, leopards will not normally lie in water. They are mainly nocturnal but can be seen at any time of day and will even hunt during daytime on overcast days. In regions where they are hunted, nocturnal behaviour is more common. These cats are solitary, avoiding one another. However, three or four are sometimes seen together. Hearing and eyesight are the strongest of these cats' senses and are extremely acute. Olfaction is relied upon as well, but not for hunting. When making a threat, leopards stretch their backs, depress their ribcages between their shoulder blades so they stick out, and lower their heads (similar to domestic cats). During the day they may lie in bush, on rocks, or in a tree with their tails hanging below the treetops and giving them away.\", mimetype='text/plain', start_char_idx=None, end_char_idx=None, text_template='{metadata_str}\\n\\n{content}', metadata_template='{key}: {value}', metadata_seperator='\\n'),\n",
       " Document(id_='19293a4d-a3a1-403c-94f1-e3078e975aa0', embedding=None, metadata={}, excluded_embed_metadata_keys=[], excluded_llm_metadata_keys=[], relationships={}, text=\"Leopards are opportunistic hunters. Although mid-sized animals are preferred, the leopard will eat anything from dung beetles to 900 kg male giant elands.  Nowell, K.; Jackson, P. eds. (1996).  Wild Cats. Status Survey and Conservation Action Plan. IUCN/SSC Cat Specialist Group. IUCN, Gland, Switzerland. (see Panthera Pardus, pp. 24 â\\x80\\x93 29.)  Their diet consists mostly of ungulates and monkeys, but rodents, reptiles, amphibians, birds and fish are also eaten. Schaller, p. 290  In fact, they hunt about 90 different species of animals. A solitary dog is a potential prey for leopards, although a pack of dogs can kill or drive off a leopard. Even large pythons are potential prey for leopards. In Africa, mid-sized antelopes provide a majority of the leopard's prey, especially impala and Thomson's gazelles. Schaller, p. 291  In Asia the leopard preys on deer such as chitals and muntjacs as well as various Asian antelopes and Ibex. Leopards have even been spotted killing and eating crocodiles.\", mimetype='text/plain', start_char_idx=None, end_char_idx=None, text_template='{metadata_str}\\n\\n{content}', metadata_template='{key}: {value}', metadata_seperator='\\n'),\n",
       " Document(id_='9237068a-2b50-4a4e-b2ee-24642ee967b4', embedding=None, metadata={}, excluded_embed_metadata_keys=[], excluded_llm_metadata_keys=[], relationships={}, text='The leopard stalks its prey silently and at the last minute pounces on its prey and strangles its throat with a quick bite. Leopards often hide their kills in dense vegetation or take them up trees,  and are capable of carrying animals up to three times their own weight this way. Storing carcasses up trees keeps them away from other predators such as spotted hyenas, jackals, tigers and lions, though the latter will occasionally be successful in climbing and fetching the leopard kills. Schaller, p. 293', mimetype='text/plain', start_char_idx=None, end_char_idx=None, text_template='{metadata_str}\\n\\n{content}', metadata_template='{key}: {value}', metadata_seperator='\\n'),\n",
       " Document(id_='95ef52d2-b67f-4125-b453-4bf47873151e', embedding=None, metadata={}, excluded_embed_metadata_keys=[], excluded_llm_metadata_keys=[], relationships={}, text='One survey of nearly 30 research papers found preferred prey weights of 10 to 40 kg, with 25 kg most preferred. Along with impala and chital, a preference for bushbuck and common duiker was found. Other prey selection factors include a preference for prey in small herds, in dense habitat, and those that afford the predator a low risk of injury.   ', mimetype='text/plain', start_char_idx=None, end_char_idx=None, text_template='{metadata_str}\\n\\n{content}', metadata_template='{key}: {value}', metadata_seperator='\\n'),\n",
       " Document(id_='92329f41-75e3-4a3a-abd0-405372e8fdc3', embedding=None, metadata={}, excluded_embed_metadata_keys=[], excluded_llm_metadata_keys=[], relationships={}, text='Leopard resting on a tree', mimetype='text/plain', start_char_idx=None, end_char_idx=None, text_template='{metadata_str}\\n\\n{content}', metadata_template='{key}: {value}', metadata_seperator='\\n'),\n",
       " Document(id_='85b5bb28-de8c-4e6c-9991-68481b8097cf', embedding=None, metadata={}, excluded_embed_metadata_keys=[], excluded_llm_metadata_keys=[], relationships={}, text='A male may follow a female who catches his attention. Eventually fighting for reproductive rights can take place. Depending on the region, leopards may mate all year round (Asia and Africa) or seasonally during January to February (Manchuria and Siberia). The estrous cycle lasts about 46 days and the female usually is in heat for 6â\\x80\\x937 days. ', mimetype='text/plain', start_char_idx=None, end_char_idx=None, text_template='{metadata_str}\\n\\n{content}', metadata_template='{key}: {value}', metadata_seperator='\\n'),\n",
       " Document(id_='591f27a4-de84-4c2d-82b2-5aec44e2dd15', embedding=None, metadata={}, excluded_embed_metadata_keys=[], excluded_llm_metadata_keys=[], relationships={}, text='   Cubs are usually born in a litter of 2â\\x80\\x933, but infant mortality is high and mothers are not commonly seen with more than 1â\\x80\\x932 cubs. The pregnant females find a cave, crevice among boulders, hollow tree, or thicket to give birth and make a den. Cubs open their eyes after a period of 10 days. The fur of the young tends to be longer and thicker than that of adults. Their pelage is also more gray in color with less defined spots. Around three months the infants begin to follow the mother out on hunts. At one year of age leopard young can probably fend for themselves but they remain with the mother for 18â\\x80\\x9324 months.', mimetype='text/plain', start_char_idx=None, end_char_idx=None, text_template='{metadata_str}\\n\\n{content}', metadata_template='{key}: {value}', metadata_seperator='\\n'),\n",
       " Document(id_='5afb0b18-551b-4042-ad46-6db488cf2a2e', embedding=None, metadata={}, excluded_embed_metadata_keys=[], excluded_llm_metadata_keys=[], relationships={}, text=\"Studies of leopard home range size have tended to focus on protected areas, which may have led to skewed data; as of the mid-1980s, only 13% of the leopard range actually fell within a protected area.    In their IUCN survey of the literature, Nowell and Jackson suggest male home territories vary between 30-78 square kilometers, but just 15-16 kmÂ² for females.  Research in a conservation area in Kenya shows similar territory sizes and sex differential: 32.8 kmÂ² ranges for males, on average, and 14 kmÂ² for females.    In Nepal, somewhat larger male ranges have been found at about 48 kmÂ², while female ranges are in-keeping with other research, at 17 kmÂ²; female home territories were seen to decrease to just five to seven kmÂ² when young cubs were present, while the sexual difference in range size seemed to be in positive proportion to overall increase.     However, significant variations in size of home territories have been suggested across the leopard's range. In Namibia, for instance, research that focussed on spatial ecology in farmlands outside of protected areas found ranges that were consistently above 100 kmÂ², with some more than 300 kmÂ²; admitting that their data were at odds with others', the researchers also suggested little or no sexual variation in the size of territories.  Virtually all sources suggest that males do have larger ranges. There seems to be little or no overlap in territory amongst males, although overlap exists between the sexes; one radio-collar analysis in the Ivory Coast found a female home range completely enclosed within a male's.\", mimetype='text/plain', start_char_idx=None, end_char_idx=None, text_template='{metadata_str}\\n\\n{content}', metadata_template='{key}: {value}', metadata_seperator='\\n'),\n",
       " Document(id_='f1ad7417-7762-476d-8b34-49eff0954dcf', embedding=None, metadata={}, excluded_embed_metadata_keys=[], excluded_llm_metadata_keys=[], relationships={}, text='The leopard is solitary and, aside from mating, interactions between individuals appear to be infrequent.  Aggressive enounters have been observed, however. Two of five males studied over a period of a year at a game reserve in South Africa died, both violently. One was initially wounded in a male-male territorial battle over a carcass; taken in by researchers, it was released after a successful convalescence only to be killed by a different male a few months later. A second was killed by another predator, possibly a spotted hyena. A third of the five was badly wounded in intraspecific fighting, but recovered.', mimetype='text/plain', start_char_idx=None, end_char_idx=None, text_template='{metadata_str}\\n\\n{content}', metadata_template='{key}: {value}', metadata_seperator='\\n'),\n",
       " Document(id_='c81cd8fe-5bbc-4024-a820-cf58137a19ee', embedding=None, metadata={}, excluded_embed_metadata_keys=[], excluded_llm_metadata_keys=[], relationships={}, text='Indian Leopard', mimetype='text/plain', start_char_idx=None, end_char_idx=None, text_template='{metadata_str}\\n\\n{content}', metadata_template='{key}: {value}', metadata_seperator='\\n'),\n",
       " Document(id_='ec22af8c-323a-451d-ba55-2ee655906e61', embedding=None, metadata={}, excluded_embed_metadata_keys=[], excluded_llm_metadata_keys=[], relationships={}, text='It has been suggested that there may be as many as 30 extant subspecies of the Leopard.', mimetype='text/plain', start_char_idx=None, end_char_idx=None, text_template='{metadata_str}\\n\\n{content}', metadata_template='{key}: {value}', metadata_seperator='\\n'),\n",
       " Document(id_='99db1ac7-25ec-4d06-84d5-4ffcf31595b6', embedding=None, metadata={}, excluded_embed_metadata_keys=[], excluded_llm_metadata_keys=[], relationships={}, text='However, modern taxonomic analyses have demonstrated that only 8/9 subspecies are valid.  Olga Uphyrkina et al. (November 2001). Phylogenetics, genome diversity and origin of modern leopard, Panthera pardus. Molecular Ecology, Volume 10, Issue 11, Page 2617.  Abstract   Sriyanie Miththapala. (August 1996). Phylogeographic Subspecies Recognition in Leopards (Panthera pardus): Molecular Genetic Variation. Conservation Biology,', mimetype='text/plain', start_char_idx=None, end_char_idx=None, text_template='{metadata_str}\\n\\n{content}', metadata_template='{key}: {value}', metadata_seperator='\\n'),\n",
       " Document(id_='09047a6e-f84b-4edf-bdca-f5544719da32', embedding=None, metadata={}, excluded_embed_metadata_keys=[], excluded_llm_metadata_keys=[], relationships={}, text='Volume 10, Issue 4, Page 1115.  Abstract', mimetype='text/plain', start_char_idx=None, end_char_idx=None, text_template='{metadata_str}\\n\\n{content}', metadata_template='{key}: {value}', metadata_seperator='\\n'),\n",
       " Document(id_='85982eee-0e42-4f47-b77b-c236238ca477', embedding=None, metadata={}, excluded_embed_metadata_keys=[], excluded_llm_metadata_keys=[], relationships={}, text='Sri Lankan Leopard', mimetype='text/plain', start_char_idx=None, end_char_idx=None, text_template='{metadata_str}\\n\\n{content}', metadata_template='{key}: {value}', metadata_seperator='\\n'),\n",
       " Document(id_='f0809afe-24f2-4a73-91d3-4752b7d43ea0', embedding=None, metadata={}, excluded_embed_metadata_keys=[], excluded_llm_metadata_keys=[], relationships={}, text='Female leopard in the Sabi Sands area of South Africa.  Note the white spot on the tail used for communicating with cubs while hunting or in long grass', mimetype='text/plain', start_char_idx=None, end_char_idx=None, text_template='{metadata_str}\\n\\n{content}', metadata_template='{key}: {value}', metadata_seperator='\\n'),\n",
       " Document(id_='d108c165-bf60-4415-a1ac-1e06e8c4ad29', embedding=None, metadata={}, excluded_embed_metadata_keys=[], excluded_llm_metadata_keys=[], relationships={}, text='Other subspecies under the old taxonomic division:', mimetype='text/plain', start_char_idx=None, end_char_idx=None, text_template='{metadata_str}\\n\\n{content}', metadata_template='{key}: {value}', metadata_seperator='\\n'),\n",
       " Document(id_='7468ea2d-375b-4f13-9ad2-00edd4510033', embedding=None, metadata={}, excluded_embed_metadata_keys=[], excluded_llm_metadata_keys=[], relationships={}, text='Today usually included in the African Leopard (Panthera pardus pardus):', mimetype='text/plain', start_char_idx=None, end_char_idx=None, text_template='{metadata_str}\\n\\n{content}', metadata_template='{key}: {value}', metadata_seperator='\\n'),\n",
       " Document(id_='f972a80b-b57d-4767-ad10-5ece6ed4c532', embedding=None, metadata={}, excluded_embed_metadata_keys=[], excluded_llm_metadata_keys=[], relationships={}, text='Today usually included in The Persian Leopard (Panthera pardus saxicolor):', mimetype='text/plain', start_char_idx=None, end_char_idx=None, text_template='{metadata_str}\\n\\n{content}', metadata_template='{key}: {value}', metadata_seperator='\\n'),\n",
       " Document(id_='6b9f4724-b5f7-477c-8df3-4cf2b444caf8', embedding=None, metadata={}, excluded_embed_metadata_keys=[], excluded_llm_metadata_keys=[], relationships={}, text='Today usually included in The Indian Leopard (Panthera pardus fusca)', mimetype='text/plain', start_char_idx=None, end_char_idx=None, text_template='{metadata_str}\\n\\n{content}', metadata_template='{key}: {value}', metadata_seperator='\\n'),\n",
       " Document(id_='b5e2b873-59fa-4bf1-861a-2c4a40d691f0', embedding=None, metadata={}, excluded_embed_metadata_keys=[], excluded_llm_metadata_keys=[], relationships={}, text='A pseudo-melanistic leopard has a normal background colour, but its excessive markings have coalesced so that its back seems to be an unbroken expanse of black. In some specimens, the area of solid black extends down the flanks and limbs; only a few lateral streaks of golden-brown indicate the presence of normal background colour. Any spots on the flanks and limbs that have not merged into the mass of swirls and stripes are unusually small and discrete, rather than forming rosettes. The face and underparts are paler and dappled like those of ordinary spotted leopards.', mimetype='text/plain', start_char_idx=None, end_char_idx=None, text_template='{metadata_str}\\n\\n{content}', metadata_template='{key}: {value}', metadata_seperator='\\n'),\n",
       " Document(id_='3ce7a44e-4ecf-4452-87b5-f9de9fcaa26c', embedding=None, metadata={}, excluded_embed_metadata_keys=[], excluded_llm_metadata_keys=[], relationships={}, text=\"In a paper about panthers and ounces of Asia, Reginald Innes Pocock used a photo of a leopard skin from southern India; it had large black-rimmed blotches, each containing a number of dots and it resembled the pattern of a jaguar or clouded leopard. Another of Pocock's leopard skins from southern India had the normal rosettes broken up and fused and so much additional pigment that the animal looked like a black leopard streaked and speckled with yellow.\", mimetype='text/plain', start_char_idx=None, end_char_idx=None, text_template='{metadata_str}\\n\\n{content}', metadata_template='{key}: {value}', metadata_seperator='\\n'),\n",
       " Document(id_='94e63069-a51a-496a-8c23-877e935913fa', embedding=None, metadata={}, excluded_embed_metadata_keys=[], excluded_llm_metadata_keys=[], relationships={}, text='Most other colour morphs of leopards are known only from paintings or museum specimens. There have been very rare examples where the spots of a normal black leopard have coalesced to give a jet black leopard with no visible markings. Pseudo-melanism (abundism) occurs in leopards. The spots are more densely packed than normal and merge to largely obscure the background colour. They may form swirls and, in some places, solid black areas. Unlike a true black leopard the tawny background colour is visible in places. One pseudo-melanistic leopard had a tawny orange coat with coalescing rosettes and spots, but white belly with normal black spots (like a black-and-tan dog).', mimetype='text/plain', start_char_idx=None, end_char_idx=None, text_template='{metadata_str}\\n\\n{content}', metadata_template='{key}: {value}', metadata_seperator='\\n'),\n",
       " Document(id_='f7cc9ee3-28b0-4a89-a70b-7743297d8054', embedding=None, metadata={}, excluded_embed_metadata_keys=[], excluded_llm_metadata_keys=[], relationships={}, text='A 1910 description of a pseudo-melanistic leopard:', mimetype='text/plain', start_char_idx=None, end_char_idx=None, text_template='{metadata_str}\\n\\n{content}', metadata_template='{key}: {value}', metadata_seperator='\\n'),\n",
       " Document(id_='b254dfdf-13b7-4c36-8531-a02fe44ba93c', embedding=None, metadata={}, excluded_embed_metadata_keys=[], excluded_llm_metadata_keys=[], relationships={}, text='Another pseudo-melanistic leopard skin was described in 1915 by Holdridge Ozro Collins who had purchased it in 1912. It had been killed in Malabar, India that same year.', mimetype='text/plain', start_char_idx=None, end_char_idx=None, text_template='{metadata_str}\\n\\n{content}', metadata_template='{key}: {value}', metadata_seperator='\\n'),\n",
       " Document(id_='617bb132-5207-4a6d-a18b-86f69005f442', embedding=None, metadata={}, excluded_embed_metadata_keys=[], excluded_llm_metadata_keys=[], relationships={}, text='In May 1936, the British Natural History Museum exhibited the mounted skin of an unusual Somali leopard. The pelt was richly decorated with an intricate pattern of swirling stripes, blotches, curls and fine-line traceries. This is different from a spotted leopard, but similar to a King Cheetah hence the modern cryptozoology term King Leopard. Between 1885 and 1934, six pseudo-melanistic leopards were recorded in the Albany and Grahamstown districts of South Africa. This indicated a mutation in the local leopard population. Other King Leopards have been recorded from Malabar in southwestern India. Shooting for trophies may have wiped out these populations.', mimetype='text/plain', start_char_idx=None, end_char_idx=None, text_template='{metadata_str}\\n\\n{content}', metadata_template='{key}: {value}', metadata_seperator='\\n'),\n",
       " Document(id_='93a49556-c5ad-4686-8489-d35fa798de19', embedding=None, metadata={}, excluded_embed_metadata_keys=[], excluded_llm_metadata_keys=[], relationships={}, text=' link title', mimetype='text/plain', start_char_idx=None, end_char_idx=None, text_template='{metadata_str}\\n\\n{content}', metadata_template='{key}: {value}', metadata_seperator='\\n'),\n",
       " Document(id_='f43fe016-d17a-47a2-abc3-09df8b3aea5a', embedding=None, metadata={}, excluded_embed_metadata_keys=[], excluded_llm_metadata_keys=[], relationships={}, text='Pumapard, Rothschild Museum, Tring', mimetype='text/plain', start_char_idx=None, end_char_idx=None, text_template='{metadata_str}\\n\\n{content}', metadata_template='{key}: {value}', metadata_seperator='\\n'),\n",
       " Document(id_='aa6a8166-070f-4b06-9d87-2e9fa68f879b', embedding=None, metadata={}, excluded_embed_metadata_keys=[], excluded_llm_metadata_keys=[], relationships={}, text=\"A pumapard is a hybrid animal resulting from a union between a leopard and a puma. Three sets of these hybrids were bred in the late 1890s and early 1900s by Carl Hagenbeck at his animal park in Hamburg, Germany. Most did not reach adulthood. One of these was purchased in 1898 by Berlin Zoo.  A similar hybrid in Berlin Zoo purchased from Carl Hagenbeck was a cross between a male leopard and a female puma. Hamburg Zoo's specimen was the reverse pairing, the one in the black and white photo, fathered by a puma bred to an Indian leopardess. \", mimetype='text/plain', start_char_idx=None, end_char_idx=None, text_template='{metadata_str}\\n\\n{content}', metadata_template='{key}: {value}', metadata_seperator='\\n'),\n",
       " Document(id_='ec989847-7dce-4938-ac12-e1908f9c0c16', embedding=None, metadata={}, excluded_embed_metadata_keys=[], excluded_llm_metadata_keys=[], relationships={}, text='Whether born to a female Puma mated to a male Leopard, or to a male Puma mated to a female Leopard, pumapards inherit a form of dwarfism. Those reported grew to only half the size of the parents. They have a Puma-like long body (proportional to the limbs, but nevertheless shorter than either parent), but short legs. The coat is variously described as sandy, tawny or greyish with brown, chestnut or \"faded\" rosettes.', mimetype='text/plain', start_char_idx=None, end_char_idx=None, text_template='{metadata_str}\\n\\n{content}', metadata_template='{key}: {value}', metadata_seperator='\\n'),\n",
       " Document(id_='cc3ee5f0-f54e-45c7-ae63-eeeeffed192a', embedding=None, metadata={}, excluded_embed_metadata_keys=[], excluded_llm_metadata_keys=[], relationships={}, text='Dionysus and a panther. Crater. The Louvre c. 370 BC', mimetype='text/plain', start_char_idx=None, end_char_idx=None, text_template='{metadata_str}\\n\\n{content}', metadata_template='{key}: {value}', metadata_seperator='\\n'),\n",
       " Document(id_='becdb52a-4806-40cc-967d-ac0596f22421', embedding=None, metadata={}, excluded_embed_metadata_keys=[], excluded_llm_metadata_keys=[], relationships={}, text=\"Leopards have been known to humans since antiquity and have featured in the art, mythology and folklore of many countries where they have occurred historically, such as Ancient Greece, Persia and Rome, as well as some where they haven't such as England. The modern use of the leopard as an emblem for sport or coat of arms is much more restricted to Africa, though numerous products worldwide have used the name.\", mimetype='text/plain', start_char_idx=None, end_char_idx=None, text_template='{metadata_str}\\n\\n{content}', metadata_template='{key}: {value}', metadata_seperator='\\n'),\n",
       " Document(id_='6c3356fa-f611-4959-966b-bf78551f148e', embedding=None, metadata={}, excluded_embed_metadata_keys=[], excluded_llm_metadata_keys=[], relationships={}, text='Leopards were kept in a menagerie established by King John at the Tower of London in the 13th century; around 1235 three animals were given to Henry III by the Holy Roman Emperor Frederick II.', mimetype='text/plain', start_char_idx=None, end_char_idx=None, text_template='{metadata_str}\\n\\n{content}', metadata_template='{key}: {value}', metadata_seperator='\\n'),\n",
       " Document(id_='d073aa63-9821-456c-b44e-71be7b87dce7', embedding=None, metadata={}, excluded_embed_metadata_keys=[], excluded_llm_metadata_keys=[], relationships={}, text=\"Despite its size, this largely nocturnal and arboreal predator is difficult to see in the wild. A female leopard in the Sabi Sands of South Africa illustrating just how close tourists can get to these wild cats.The best location to see leopards in Africa is in the Sabi Sand Private Game Reserve in South Africa, where leopards are habituated to safari vehicles and are seen on a daily basis at very close range. In Asia, one can see leopards Yala National Park in Sri Lanka, which has one of the world's highest density of wild leopards, but even here sightings are by no means guaranteed because more than half the park is closed off to the public, allowing the animals to thrive. Another good destination for leopard watching is the recently reopened Wilpattu National Park, also in Sri Lanka. In India the leopards are found all over the country and there is maximum man-animal conflict here only as they are spread everywhere.The best places in India can be national parks in Madhya Pradesh and in Uttarakhand.\", mimetype='text/plain', start_char_idx=None, end_char_idx=None, text_template='{metadata_str}\\n\\n{content}', metadata_template='{key}: {value}', metadata_seperator='\\n'),\n",
       " Document(id_='46d36e54-420d-41f1-b16e-39328f5bc308', embedding=None, metadata={}, excluded_embed_metadata_keys=[], excluded_llm_metadata_keys=[], relationships={}, text='Coat of arms of the German state of Baden-WÃ¼rttemberg', mimetype='text/plain', start_char_idx=None, end_char_idx=None, text_template='{metadata_str}\\n\\n{content}', metadata_template='{key}: {value}', metadata_seperator='\\n'),\n",
       " Document(id_='0514aa89-5fc1-4647-8bed-cd3f0bcc8775', embedding=None, metadata={}, excluded_embed_metadata_keys=[], excluded_llm_metadata_keys=[], relationships={}, text='The lion passant guardant or \"leopard\" is a frequently used charge in heraldry, most commonly appearing in groups of three. The heraldric leopard lacks spots and sports a mane, making it visually almost identical to the heraldric lion, and the two are often used interchangeably. These traditional lion passant guardants appear in the coat of arms of England and many of its former colonies; more modern naturalistic (leopard-like) depictions appear on the coat of arms of several African nations including Benin, Malawi, Somalia, Democratic Republic of the Congo and  Gabon which uses a black panther. The Leopard is also the unofficial national animal of Germany, replacing the Tiger, which was, along with the eagle, the national animal of Nazi Germany. The leopard tank was a German designed tank which entered service in 1965.', mimetype='text/plain', start_char_idx=None, end_char_idx=None, text_template='{metadata_str}\\n\\n{content}', metadata_template='{key}: {value}', metadata_seperator='\\n'),\n",
       " Document(id_='d47d0d5f-355e-4e95-ac9c-591cc8bda0eb', embedding=None, metadata={}, excluded_embed_metadata_keys=[], excluded_llm_metadata_keys=[], relationships={}, text=\"The Leopard men were a West African secret society who practised cannibalism. They were centred in Sierra Leone, Liberia and CÃ´te d'Ivoire.\", mimetype='text/plain', start_char_idx=None, end_char_idx=None, text_template='{metadata_str}\\n\\n{content}', metadata_template='{key}: {value}', metadata_seperator='\\n'),\n",
       " Document(id_='fe2caf37-641f-4ac2-b49e-7ab6244892bf', embedding=None, metadata={}, excluded_embed_metadata_keys=[], excluded_llm_metadata_keys=[], relationships={}, text=\"Members would dress in leopard skins, waylaying travellers with sharp claw-like weapons in the form of leopards' claws and teeth. The victims' flesh would be cut from their bodies and distributed to members of the society. There was a superstitious belief that this ritual cannibalism would strengthen both members of the society as well as their entire tribe.\", mimetype='text/plain', start_char_idx=None, end_char_idx=None, text_template='{metadata_str}\\n\\n{content}', metadata_template='{key}: {value}', metadata_seperator='\\n'),\n",
       " Document(id_='3cd29d79-b1e4-41ee-87a8-f136d21f2284', embedding=None, metadata={}, excluded_embed_metadata_keys=[], excluded_llm_metadata_keys=[], relationships={}, text='Although most leopards will tend to avoid humans, people are occasionally targeted as prey. Most healthy leopards prefer wild prey to humans, but cats who are injured, sickly or struggling with a shortage of regular prey often turn to hunting people and may become habituated to it. In the most extreme cases, both in India, a leopard dubbed \"the Leopard of Rudraprayag\" is claimed to have killed over 125 people and the infamous leopardess called \"Panar Leopard\" killed over 400 after being injured by a poacher and thus being made unable to hunt normal prey. The \"Leopard of Rudraprayag\" and the \"Panar Leopard\" were both killed by the famed hunter Jim Corbett. Man-eating leopards are considered bold by feline standards and commonly enter human settlements for prey, more so than their lion and tiger counterparts. Kenneth Anderson, who had first hand experience with many man-eating leopards, described them as far more threatening than tigers;', mimetype='text/plain', start_char_idx=None, end_char_idx=None, text_template='{metadata_str}\\n\\n{content}', metadata_template='{key}: {value}', metadata_seperator='\\n'),\n",
       " Document(id_='bd8abe0b-8c06-401a-9b10-12ca8a4145e3', embedding=None, metadata={}, excluded_embed_metadata_keys=[], excluded_llm_metadata_keys=[], relationships={}, text='However because they can subsist on small prey and are less dependent on large prey, leopards are less likely to turn to man-eating than either lions or tigers.', mimetype='text/plain', start_char_idx=None, end_char_idx=None, text_template='{metadata_str}\\n\\n{content}', metadata_template='{key}: {value}', metadata_seperator='\\n'),\n",
       " Document(id_='0b7ecc26-e8db-4666-8a32-cb4891fe8293', embedding=None, metadata={}, excluded_embed_metadata_keys=[], excluded_llm_metadata_keys=[], relationships={}, text='Possibly the most famous cinematic leopard is the pet in the film Bringing Up Baby (1938) where its misadventures create madcap comedy for stars Cary Grant and Katharine Hepburn; the movie is one of the American Film Institute\\'s \"100 Greatest (American) Films\".', mimetype='text/plain', start_char_idx=None, end_char_idx=None, text_template='{metadata_str}\\n\\n{content}', metadata_template='{key}: {value}', metadata_seperator='\\n'),\n",
       " Document(id_='21cd6353-5171-453a-9652-565632d0a1be', embedding=None, metadata={}, excluded_embed_metadata_keys=[], excluded_llm_metadata_keys=[], relationships={}, text='* In the 1999 Tarzan movie by Disney, a vicious leopard, Sabor, was Tarzan\\'s natural and mortal enemy, although the Mangani name for leopards established in the books is \"Sheeta\".', mimetype='text/plain', start_char_idx=None, end_char_idx=None, text_template='{metadata_str}\\n\\n{content}', metadata_template='{key}: {value}', metadata_seperator='\\n'),\n",
       " Document(id_='78fad579-1deb-4a4a-bc1d-1bbcc2b737b1', embedding=None, metadata={}, excluded_embed_metadata_keys=[], excluded_llm_metadata_keys=[], relationships={}, text=\"* In Passion in the Desert (1997), a French soldier (played by British actor Ben Daniels) while lost in Egypt during Napoleon's Egyptian campaign stumbles upon a leopard and develops a strange relationship with the animal.\", mimetype='text/plain', start_char_idx=None, end_char_idx=None, text_template='{metadata_str}\\n\\n{content}', metadata_template='{key}: {value}', metadata_seperator='\\n'),\n",
       " Document(id_='4f43ba6f-acf0-464c-87f1-3072fae655ed', embedding=None, metadata={}, excluded_embed_metadata_keys=[], excluded_llm_metadata_keys=[], relationships={}, text=\"Traditionally, the leopard is an uncommon name or mascot for sporting teams, though it has been used in several African soccer teams: the AFC Leopards, formed in 1964, are a soccer club based in Nairobi, Kenya, while the Black Leopards play in South Africa's Premier Soccer League, the Royal Leopards in Swaziland's Premier League, and the Golf Leopards in the Sierra Leone National Premier League. More recently, the leopard emblem has been a part of the English Basketball League since the 1990s with the Essex Leopards and later London Leopards. The New Zealand Rugby League has featured the Otahuhu Leopards and then the Tamaki Leopards.\", mimetype='text/plain', start_char_idx=None, end_char_idx=None, text_template='{metadata_str}\\n\\n{content}', metadata_template='{key}: {value}', metadata_seperator='\\n'),\n",
       " Document(id_='bc539625-d0e2-40b1-bb22-d04aa1afbb63', embedding=None, metadata={}, excluded_embed_metadata_keys=[], excluded_llm_metadata_keys=[], relationships={}, text='The use of Leopards by companies is uncommon, though Nissan Leopard was a luxury sports car produced by Nissan in the 1980s and Apple Inc. released Mac OS X version 10.5, nicknamed \"Leopard\" on October 26th, 2007.', mimetype='text/plain', start_char_idx=None, end_char_idx=None, text_template='{metadata_str}\\n\\n{content}', metadata_template='{key}: {value}', metadata_seperator='\\n'),\n",
       " Document(id_='8573e28f-fe97-47f7-bf92-c1a5db8dd96b', embedding=None, metadata={}, excluded_embed_metadata_keys=[], excluded_llm_metadata_keys=[], relationships={}, text='In The Chronicles of Narnia; The Lion, The Witch, and the Wardrobe, leopards are seen fighting alongside Peter Pevensie.', mimetype='text/plain', start_char_idx=None, end_char_idx=None, text_template='{metadata_str}\\n\\n{content}', metadata_template='{key}: {value}', metadata_seperator='\\n'),\n",
       " Document(id_='b73aab72-128c-450d-b144-d5a387c0905a', embedding=None, metadata={}, excluded_embed_metadata_keys=[], excluded_llm_metadata_keys=[], relationships={}, text='* Khalaf-von Jaffa, Norman Ali Bassam Ali Taher (2005).  The Arabian Leopard (Panthera pardus nimr). Gazelle: The Palestinian Biological Bulletin. Number 42, June 2005. pp. 1-8. (in German).', mimetype='text/plain', start_char_idx=None, end_char_idx=None, text_template='{metadata_str}\\n\\n{content}', metadata_template='{key}: {value}', metadata_seperator='\\n'),\n",
       " Document(id_='0423a5c6-6738-43ab-a21f-11e7a08cf195', embedding=None, metadata={}, excluded_embed_metadata_keys=[], excluded_llm_metadata_keys=[], relationships={}, text='* Khalaf-Sakerfalke von Jaffa, Norman Ali Bassam Ali Taher (2006).  The Chinese Leopard (Panthera pardus japonensis, Gray 1862) in Neunkirchen Zoo, Neunkirchen, Saarland, Germany. Gazelle: The Palestinian Biological Bulletin. Number 60, December 2006. pp. 1-10.', mimetype='text/plain', start_char_idx=None, end_char_idx=None, text_template='{metadata_str}\\n\\n{content}', metadata_template='{key}: {value}', metadata_seperator='\\n'),\n",
       " Document(id_='3d720f2d-819e-4806-a275-6f0e69cf8f1e', embedding=None, metadata={}, excluded_embed_metadata_keys=[], excluded_llm_metadata_keys=[], relationships={}, text='* DeRuiter, D.J. and Berger, L.R. (2000) Leopards as Taphonomic Agents in dolomitic Caves - Implications for bone Accumulations in the Hominid-bearing Deposits of South Africa. J. Arch. Sci. 27, 665-684.', mimetype='text/plain', start_char_idx=None, end_char_idx=None, text_template='{metadata_str}\\n\\n{content}', metadata_template='{key}: {value}', metadata_seperator='\\n'),\n",
       " Document(id_='0b229fe0-f9ed-4175-a499-0dd67e6e8ed7', embedding=None, metadata={}, excluded_embed_metadata_keys=[], excluded_llm_metadata_keys=[], relationships={}, text='James Monroe (April 28, 1758 â\\x80\\x93 July 4, 1831) was the fifth President of the United States (1817-1825). His administration was marked by the acquisition of Florida (1819); the Missouri Compromise (1820), in which Missouri was declared a slave state; and the profession of the Monroe Doctrine (1823), declaring U.S. opposition to European interference in the Americas.', mimetype='text/plain', start_char_idx=None, end_char_idx=None, text_template='{metadata_str}\\n\\n{content}', metadata_template='{key}: {value}', metadata_seperator='\\n'),\n",
       " Document(id_='47df8df8-ebd5-4a21-921e-d50102948594', embedding=None, metadata={}, excluded_embed_metadata_keys=[], excluded_llm_metadata_keys=[], relationships={}, text='The Presidentâ\\x80\\x99s parents, father Spence Monroe (ca. 1727 1774), a woodworker and tobacco farmer, and mother Elizabeth Jones Monroe had significant land holdings but little money. Like his parents, he was a slaveholder. Born in Westmoreland County, Virginia, Monroe went to school at Campbelltown Academy and then the College of William and Mary, both in Virginia.  After graduating from William and Mary in 1776, Monroe fought in the Continental Army, serving with distinction at the Battle of Trenton, where he was shot in his left shoulder. He is depicted holding the flag in the famous painting of Washington Crossing the Delaware. Following his military service, he practiced law in Fredericksburg, Virginia. James Monroe married Elizabeth Kortright on February 16, 1786 at the Trinity Church in New York.', mimetype='text/plain', start_char_idx=None, end_char_idx=None, text_template='{metadata_str}\\n\\n{content}', metadata_template='{key}: {value}', metadata_seperator='\\n'),\n",
       " Document(id_='3d1e5c12-ae71-48fc-a921-479815b206a6', embedding=None, metadata={}, excluded_embed_metadata_keys=[], excluded_llm_metadata_keys=[], relationships={}, text='Monroe was elected to the Virginia House of Delegates in 1782 and served in the Continental Congress from 1783 to 1786. As a youthful politician, he joined the anti-Federalists in the Virginia Convention which ratified the Constitution, and in 1790, was elected United States Senator.', mimetype='text/plain', start_char_idx=None, end_char_idx=None, text_template='{metadata_str}\\n\\n{content}', metadata_template='{key}: {value}', metadata_seperator='\\n'),\n",
       " Document(id_='b6faa613-47a8-4b0d-8dd1-9904c0de8db1', embedding=None, metadata={}, excluded_embed_metadata_keys=[], excluded_llm_metadata_keys=[], relationships={}, text=\"After his term in the Senate, Monroe was appointed Minister to France from 1794 to 1796. His appointment there was made difficult as he had strong sympathies for the French Revolution, but dutifully maintained President Washington's strict policy of neutrality between Britiain and France.\", mimetype='text/plain', start_char_idx=None, end_char_idx=None, text_template='{metadata_str}\\n\\n{content}', metadata_template='{key}: {value}', metadata_seperator='\\n'),\n",
       " Document(id_='cac8bdb6-bc8d-4f82-9471-b08663069d7c', embedding=None, metadata={}, excluded_embed_metadata_keys=[], excluded_llm_metadata_keys=[], relationships={}, text='Out of office, Monroe returned to practicing law in Virginia until elected governor there, serving from 1799 to 1802.', mimetype='text/plain', start_char_idx=None, end_char_idx=None, text_template='{metadata_str}\\n\\n{content}', metadata_template='{key}: {value}', metadata_seperator='\\n'),\n",
       " Document(id_='e16b8827-9783-4e65-946c-486d4fb3a83e', embedding=None, metadata={}, excluded_embed_metadata_keys=[], excluded_llm_metadata_keys=[], relationships={}, text='Under the first Jefferson administration, Monroe was dispatched to France to assist Robert R. Livingston negotiate the Louisiana Purchase. Monroe was then appointed Minister to the Court of St. James (Britain) from 1803 to 1807. In 1806 he negotiated a treaty with Britain to replace the Jay Treaty of 1794, but Jefferson rejected it as unsatisfactory, as the treaty contained no ban on the British practice of impressment of American sailors. As a result, the two nations moved closer toward the War of 1812.', mimetype='text/plain', start_char_idx=None, end_char_idx=None, text_template='{metadata_str}\\n\\n{content}', metadata_template='{key}: {value}', metadata_seperator='\\n'),\n",
       " Document(id_='408f19a2-e272-4ec3-a622-8edefb2f94c9', embedding=None, metadata={}, excluded_embed_metadata_keys=[], excluded_llm_metadata_keys=[], relationships={}, text=\"Monroe returned to the Virginia House of Delegates and was elected to another term as governor of Virginia in 1811, but he resigned a few months into the term. He then served as Secretary of State from 1811 to 1814.  When he was appointed to Secretary of War in 1814, he stayed on as the Secretary of State ad interim.  At the war's end in 1815, he was again commissioned as the permanent Secretary of State, and left his position as Secretary of War.  Thus from October 1, 1814 to February 28, 1815, Monroe effectively held the two cabinet posts.  Monroe stayed on as Secretary of State until the end of the James Madison Presidency, and the following day Monroe began his term as the new President of the United States.\", mimetype='text/plain', start_char_idx=None, end_char_idx=None, text_template='{metadata_str}\\n\\n{content}', metadata_template='{key}: {value}', metadata_seperator='\\n'),\n",
       " Document(id_='e27aa233-ec75-44e7-86f5-119394174c38', embedding=None, metadata={}, excluded_embed_metadata_keys=[], excluded_llm_metadata_keys=[], relationships={}, text='Following the War of 1812, Monroe was elected president in the election of 1816, and re-elected in 1820. In both those elections Monroe ran nearly uncontested.  To detail, well prepared on most issues, non-partisan in spirit, and above all pragmatic, Monroe managed his presidential duties well.  He made strong Cabinet choices, naming a southerner, John C. Calhoun, as Secretary of War, and a northerner, John Quincy Adams, as Secretary of State. Only Henry Clay\\'s refusal kept Monroe from adding an outstanding westerner.  Most appointments went to deserving Democratic-Republicans, but he did not try to use them to build the party\\'s base.  Indeed, he allowed the base to decay, which reduced tensions and led to the naming of his era as the \"Era of Good Feelings\". To build good will, he made two long tours in 1817. Frequent stops allowed innumerable ceremonies of welcome and good will. The Federalist Party dwindled and eventually died out, starting with the Hartford Convention. Practically every politician belonged to the Democratic-Republican Party, but the party lost its vitality and organizational integrity. The party\\'s Congressional caucus stopped meeting, and there were no national conventions.', mimetype='text/plain', start_char_idx=None, end_char_idx=None, text_template='{metadata_str}\\n\\n{content}', metadata_template='{key}: {value}', metadata_seperator='\\n'),\n",
       " Document(id_='01e92532-4f1b-45ab-a5d9-9b27243859be', embedding=None, metadata={}, excluded_embed_metadata_keys=[], excluded_llm_metadata_keys=[], relationships={}, text='These \"good feelings\" endured until 1824, when he executed the controversial Monroe Transfer. Monroe, with his popularity undiminished, followed nationalist policies. Across the commitment to nationalism, sectional cracks appeared. The Panic of 1819 caused a painful economic depression. The application for statehood by the Missouri Territory, in 1819, as a slave state failed. An amended bill for gradually eliminating slavery in Missouri precipitated two years of bitter debate in Congress. The Missouri Compromise bill resolved the struggle, pairing Missouri as a slave state with Maine, a free state, and barring slavery north and west of Missouri forever.', mimetype='text/plain', start_char_idx=None, end_char_idx=None, text_template='{metadata_str}\\n\\n{content}', metadata_template='{key}: {value}', metadata_seperator='\\n'),\n",
       " Document(id_='9b3c29f8-216a-4a18-82c1-653232c8f47b', embedding=None, metadata={}, excluded_embed_metadata_keys=[], excluded_llm_metadata_keys=[], relationships={}, text='Monroe began to formally recognize the young sister republics (the former Spanish colonies) in 1822. He and Secretary of State John Quincy Adams wished to avoid trouble with Spain until it had ceded the Floridas to the U.S., which was done in 1821.', mimetype='text/plain', start_char_idx=None, end_char_idx=None, text_template='{metadata_str}\\n\\n{content}', metadata_template='{key}: {value}', metadata_seperator='\\n'),\n",
       " Document(id_='b992e1d5-1598-4105-bef4-a31154626b18', embedding=None, metadata={}, excluded_embed_metadata_keys=[], excluded_llm_metadata_keys=[], relationships={}, text=\"Monroe is probably best known for the Monroe Doctrine, which he delivered in his message to Congress on December 2, 1823. In it, he proclaimed the Americas should be free from future European colonization and free from European interference in sovereign countries' affairs. It further stated the United States' intention to stay neutral in European wars and wars between European powers and their colonies, but to consider any new colonies or interference with independent countries in the Americas as hostile acts toward the United States.\", mimetype='text/plain', start_char_idx=None, end_char_idx=None, text_template='{metadata_str}\\n\\n{content}', metadata_template='{key}: {value}', metadata_seperator='\\n'),\n",
       " Document(id_='46cc7597-2929-4a1c-b1be-735949a3bb16', embedding=None, metadata={}, excluded_embed_metadata_keys=[], excluded_llm_metadata_keys=[], relationships={}, text='Britain, with its powerful navy, also opposed re-conquest of Latin America and suggested that the United States join in proclaiming \"hands off.\" Ex-Presidents Jefferson and Madison counseled Monroe to accept the offer, but Secretary Adams advised, \"It would be more candid ... to avow our principles explicitly to Russia and France, than to come in as a cock-boat in the wake of the British man-of-war.\" Monroe accepted Adams\\' advice. Not only must Latin America be left alone, he warned, but also Russia must not encroach southward on the Pacific coast. \"... the American continents,\" he stated, \"by the free and independent condition which they have assumed and maintain, are henceforth not to be considered as subjects for future colonization by any European Power.\" Some 20 years after Monroe died in 1831 this became known as the Monroe Doctrine.', mimetype='text/plain', start_char_idx=None, end_char_idx=None, text_template='{metadata_str}\\n\\n{content}', metadata_template='{key}: {value}', metadata_seperator='\\n'),\n",
       " Document(id_='030ddab9-b207-433c-97f8-bcc5cdba904b', embedding=None, metadata={}, excluded_embed_metadata_keys=[], excluded_llm_metadata_keys=[], relationships={}, text='Official White House portrait of James Monroe', mimetype='text/plain', start_char_idx=None, end_char_idx=None, text_template='{metadata_str}\\n\\n{content}', metadata_template='{key}: {value}', metadata_seperator='\\n'),\n",
       " Document(id_='6974767c-4ee2-4cb9-b561-41c3b30be30f', embedding=None, metadata={}, excluded_embed_metadata_keys=[], excluded_llm_metadata_keys=[], relationships={}, text='Monroe appointed the following Justices to the Supreme Court of the United States:', mimetype='text/plain', start_char_idx=None, end_char_idx=None, text_template='{metadata_str}\\n\\n{content}', metadata_template='{key}: {value}', metadata_seperator='\\n'),\n",
       " Document(id_='3ec562f2-12a6-459e-ac1f-b06e80564ef1', embedding=None, metadata={}, excluded_embed_metadata_keys=[], excluded_llm_metadata_keys=[], relationships={}, text=\"When his presidency expired on March 4, 1825, James Monroe lived at Monroe Hill on the grounds of the University of Virginia.  This university's modern campus was Monroe's family farm from 1788 to 1817, but he had sold it in the first year of his presidency to the new college.  He served on the college's Board of Visitors under Jefferson and then under the second rector and another former President James Madison, until his death.\", mimetype='text/plain', start_char_idx=None, end_char_idx=None, text_template='{metadata_str}\\n\\n{content}', metadata_template='{key}: {value}', metadata_seperator='\\n'),\n",
       " Document(id_='498e5e3e-e4ce-4881-a2fd-8e84a75e123c', embedding=None, metadata={}, excluded_embed_metadata_keys=[], excluded_llm_metadata_keys=[], relationships={}, text=\"Monroe had racked up many debts during his years of public life. As a result, he was forced to sell off his Highland Plantation (now called Ash Lawn-Highland; it is owned by his alma mater, the College of William and Mary, which has opened it to the public). Throughout his life, he was not financially solvent, and his wife's poor health made matters worse.  For these reasons, he and his wife lived in Oak Hill until Elizabeth's death on September 23, 1830.\", mimetype='text/plain', start_char_idx=None, end_char_idx=None, text_template='{metadata_str}\\n\\n{content}', metadata_template='{key}: {value}', metadata_seperator='\\n'),\n",
       " Document(id_='56efea8b-3d9e-4ac1-bd61-438354bf1575', embedding=None, metadata={}, excluded_embed_metadata_keys=[], excluded_llm_metadata_keys=[], relationships={}, text=\"Upon Elizabeth's death in 1830, Monroe moved to New York City to live with his daughter Maria Hester Monroe Gouverneur who had married Samuel L. Gouverneur in the first White House wedding.  Monroe died there from heart failure and tuberculosis on July 4, 1831, becoming the third president to die on the 4th of July. His death came 55 years after the U.S. Declaration of Independence was proclaimed and 5 years after the death of Presidents John Adams and Thomas Jefferson. He was originally buried in New York at the Gouverneur family vault in the New York City Marble Cemetery.  Twenty-seven years later in 1858 he was re-interred to the President's Circle at Hollywood Cemetery in Richmond, Virginia.\", mimetype='text/plain', start_char_idx=None, end_char_idx=None, text_template='{metadata_str}\\n\\n{content}', metadata_template='{key}: {value}', metadata_seperator='\\n'),\n",
       " Document(id_='ef990ed9-6da3-4e6e-b901-03be0e049fe8', embedding=None, metadata={}, excluded_embed_metadata_keys=[], excluded_llm_metadata_keys=[], relationships={}, text='Statue of Monroe at Ash Lawn-Highland', mimetype='text/plain', start_char_idx=None, end_char_idx=None, text_template='{metadata_str}\\n\\n{content}', metadata_template='{key}: {value}', metadata_seperator='\\n'),\n",
       " Document(id_='675abd3d-81c3-48a9-ab78-ee26a9553301', embedding=None, metadata={}, excluded_embed_metadata_keys=[], excluded_llm_metadata_keys=[], relationships={}, text='When it comes to Monroe\\'s ...thoughts on religion, Bliss Isely comments in his The Presidents: Men of Faith, \"less is known than that of any other President.\" He burned much of his correspondence with his wife, and no letters survive in which he might have discussed his religious beliefs. Nor did his friends, family or associates write about his beliefs. Letters that do survive, such as ones written on the occasion of the death of his son, contain no discussion of religion.', mimetype='text/plain', start_char_idx=None, end_char_idx=None, text_template='{metadata_str}\\n\\n{content}', metadata_template='{key}: {value}', metadata_seperator='\\n'),\n",
       " Document(id_='68615bd8-c2b4-4eee-8160-ae94e7ce6418', embedding=None, metadata={}, excluded_embed_metadata_keys=[], excluded_llm_metadata_keys=[], relationships={}, text='Monroe was raised in a family that belonged to the Church of England when it was the state church in Virginia, and as an adult frequently attended Episcopalian churches, though there is no record he ever took communion. He has been classified by some historians as a Deist, and he did use deistic language to refer to God. Jefferson had been attacked as an atheist and infidel for his deistic views, but never Monroe.  Unlike Jefferson, Monroe was not anticlerical. [Holmes 2003]', mimetype='text/plain', start_char_idx=None, end_char_idx=None, text_template='{metadata_str}\\n\\n{content}', metadata_template='{key}: {value}', metadata_seperator='\\n'),\n",
       " Document(id_='10d32961-01a5-4e36-81ab-4bdd7cb4bc18', embedding=None, metadata={}, excluded_embed_metadata_keys=[], excluded_llm_metadata_keys=[], relationships={}, text=\"* Apart from George Washington's Washington D.C., James Monroe is the only U.S. President to have had a country's capital city named after him  that of Monrovia in Liberia which was founded by the American Colonization Society, in 1822, as a haven for freed slaves. \", mimetype='text/plain', start_char_idx=None, end_char_idx=None, text_template='{metadata_str}\\n\\n{content}', metadata_template='{key}: {value}', metadata_seperator='\\n'),\n",
       " Document(id_='845575d3-63fa-45fe-8030-4848b0d6f2ff', embedding=None, metadata={}, excluded_embed_metadata_keys=[], excluded_llm_metadata_keys=[], relationships={}, text='* Monroe was (arguably) the last president to have fought in the Revolutionary War, although Andrew Jackson served as a 13-year-old courier in the Continental Army and was taken as a prisoner of war by the British.', mimetype='text/plain', start_char_idx=None, end_char_idx=None, text_template='{metadata_str}\\n\\n{content}', metadata_template='{key}: {value}', metadata_seperator='\\n'),\n",
       " Document(id_='043980d0-8477-468d-b0cc-5d4245f8196b', embedding=None, metadata={}, excluded_embed_metadata_keys=[], excluded_llm_metadata_keys=[], relationships={}, text='* Monroe is considered to be the president who was in the most paintings; throughout the 1800s he was in over 350.', mimetype='text/plain', start_char_idx=None, end_char_idx=None, text_template='{metadata_str}\\n\\n{content}', metadata_template='{key}: {value}', metadata_seperator='\\n'),\n",
       " Document(id_='45d616b0-d1b2-49ae-a16d-97428b8dcde3', embedding=None, metadata={}, excluded_embed_metadata_keys=[], excluded_llm_metadata_keys=[], relationships={}, text=\"* Samuel Flagg Bemis, John Quincy Adams and the Foundations of American Foreign Policy (1949), is a standard study of Monroe's foreign policy. \", mimetype='text/plain', start_char_idx=None, end_char_idx=None, text_template='{metadata_str}\\n\\n{content}', metadata_template='{key}: {value}', metadata_seperator='\\n'),\n",
       " Document(id_='7e488d9b-e19c-4f55-9d10-fe3e00818e23', embedding=None, metadata={}, excluded_embed_metadata_keys=[], excluded_llm_metadata_keys=[], relationships={}, text='* George Dangerfield. The Era of Good Feelings (1952). ', mimetype='text/plain', start_char_idx=None, end_char_idx=None, text_template='{metadata_str}\\n\\n{content}', metadata_template='{key}: {value}', metadata_seperator='\\n'),\n",
       " Document(id_='f64c8422-08f2-4e19-8844-7b7e50cfb91e', embedding=None, metadata={}, excluded_embed_metadata_keys=[], excluded_llm_metadata_keys=[], relationships={}, text='* Heidler, David S. \"The Politics of National Aggression: Congress and the First Seminole War.\" Journal of the Early Republic 1993 13(4): 501-530. ISSN 0275-1275 Fulltext: in Jstor. Abstract: Monroe sparked a constitutional controversy when, in 1817, he sent General Andrew Jackson to move against Spanish Florida in order to pursue hostile Seminoles and punish the Spanish for aiding them. News of Jackson\\'s exploits ignited a congressional investigation of the 1st Seminole War. Dominated by Democratic-Republicans, the 15th Congress was generally expansionist and more likely to support the popular Jackson. Ulterior political agendas of many congressmen dismantled partisan and sectional coalitions, so that Jackson\\'s opponents argued weakly and became easily discredited. After much debate, the House of Representatives voted down all resolutions that condemned Jackson in any way, thus implicitly endorsing Monroe\\'s actions and leaving the issue surrounding the role of the executive with respect to war powers unanswered.', mimetype='text/plain', start_char_idx=None, end_char_idx=None, text_template='{metadata_str}\\n\\n{content}', metadata_template='{key}: {value}', metadata_seperator='\\n'),\n",
       " Document(id_='fa451f45-b984-4c6f-a109-dc3f7f36f411', embedding=None, metadata={}, excluded_embed_metadata_keys=[], excluded_llm_metadata_keys=[], relationships={}, text='* Ernest R. May, The Making of the Monroe Doctrine (1975), argues it was issued to influence the outcome of the presidential election of 1824.', mimetype='text/plain', start_char_idx=None, end_char_idx=None, text_template='{metadata_str}\\n\\n{content}', metadata_template='{key}: {value}', metadata_seperator='\\n'),\n",
       " Document(id_='b9d0cc21-1bb4-4a7b-8342-08f719b89a03', embedding=None, metadata={}, excluded_embed_metadata_keys=[], excluded_llm_metadata_keys=[], relationships={}, text='* Dexter Perkins, The Monroe Doctrine, 1823-1826 (1927), the standard monograph about the origins of the doctrine. ', mimetype='text/plain', start_char_idx=None, end_char_idx=None, text_template='{metadata_str}\\n\\n{content}', metadata_template='{key}: {value}', metadata_seperator='\\n'),\n",
       " Document(id_='b9307433-edbf-45c5-948e-e489604fbe8c', embedding=None, metadata={}, excluded_embed_metadata_keys=[], excluded_llm_metadata_keys=[], relationships={}, text='* Scherr, Arthur. \"James Monroe on the Presidency and \\'Foreign Influence;: from the Virginia Ratifying Convention (1788) to Jefferson\\'s Election (1801).\" Mid-America  2002 84(1-3): 145-206. ISSN 0026-2927. Abstract: Analyzes Monroe\\'s concern over untoward foreign influence on the presidency. He was alarmed at Spanish diplomat Diego MarÃ\\xada de Gardoqui, involving a US attempt to secure the opening of the Mississippi River to American commerce. Here Monroe saw Spain overinfluencing the republic, which could have risked the loss of the Southwest or dominance of the Northeast. Monroe placed faith in a strong presidency and the system of checks and balances. In the 1790s he fretted over an aging George Washington being too heavily influenced by close advisers like Hamilton who was too close to Britain. Monroe opposed the Jay Treaty and was humiliated when Washington criticized for his support of revolutionary France while he was minister to France. He saw foreign and Federalist elements in the genesis of the Quasi War of 1798-1800 and in efforts to keep Thomas Jefferson away from the presidency in 1801. As governor he considered using the Virginia militia to force the outcome in favor of Jefferson. Federalists responded in kind, some seeing Monroe as at best a French dupe and at worst a traitor. Monroe thus contributed to a paranoid style of politics. ', mimetype='text/plain', start_char_idx=None, end_char_idx=None, text_template='{metadata_str}\\n\\n{content}', metadata_template='{key}: {value}', metadata_seperator='\\n'),\n",
       " Document(id_='862461a3-720d-495b-855d-6e683df5e6b5', embedding=None, metadata={}, excluded_embed_metadata_keys=[], excluded_llm_metadata_keys=[], relationships={}, text='* Scherr, Arthur. \"Governor James Monroe and the Southampton Slave Resistance of 1799.\" Historian 1999 61(3): 557-578. ISSN 0018-2370 Fulltext online in SwetsWise and Ebsco. Abstract: Assesses Monroe\\'s views on slavery as governor of Virginia from 1799 to 1802, emphasizing Monroe\\'s moderate view of slaveholding during a slave uprising in Southampton County in October 1799. Monroe took pains to see that the charged rebels received proper legal treatment, demonstrating a marked concern for their civil rights. He conducted an exhaustive investigation into the incident and saw to it the slaves involved received a fair trial. Although he opposed abolition, Monroe supported African colonization proposals and gradual, compensated emancipation. When the occasion warranted, as in Gabriel Prosser\\'s rebellion of 1800, Monroe took an unpopular position in supporting fair trials and attempting to explain and justify slave actions. In the final analysis, Monroe believed in the eventual demise of slavery.', mimetype='text/plain', start_char_idx=None, end_char_idx=None, text_template='{metadata_str}\\n\\n{content}', metadata_template='{key}: {value}', metadata_seperator='\\n'),\n",
       " Document(id_='6585baf2-e4dd-4ac1-884a-5c026cf41551', embedding=None, metadata={}, excluded_embed_metadata_keys=[], excluded_llm_metadata_keys=[], relationships={}, text='* Monroe, James. The Political Writings of James Monroe. James P. Lucier, ed. Regnery, 2002. 863 pp.', mimetype='text/plain', start_char_idx=None, end_char_idx=None, text_template='{metadata_str}\\n\\n{content}', metadata_template='{key}: {value}', metadata_seperator='\\n'),\n",
       " Document(id_='a4c10160-427b-4e04-9382-8e9ba72717be', embedding=None, metadata={}, excluded_embed_metadata_keys=[], excluded_llm_metadata_keys=[], relationships={}, text='Qatar ( ;   The pronunciation of Qatar in English varies; see List of words of disputed pronunciation for details.', mimetype='text/plain', start_char_idx=None, end_char_idx=None, text_template='{metadata_str}\\n\\n{content}', metadata_template='{key}: {value}', metadata_seperator='\\n'),\n",
       " Document(id_='1585d67a-ee17-40bf-8c3c-ab93e2e39582', embedding=None, metadata={}, excluded_embed_metadata_keys=[], excluded_llm_metadata_keys=[], relationships={}, text='In terms of English phonemics, the vowels sound halfway between short u   and broad a  . The q and the t have no direct counterparts, but are closest to the unaspirated allophones of English k and t. However, since these allophones cannot occur in these positions in English, in this context they will sound more like English g and d. So the closest pronunciation, according to English phonemics, to the original Arabic might be   or  . ), officially the State of Qatar (Arabic:  Ø¯Ù\\x88Ù\\x84Ø© Ù\\x82Ø·Ø±   transliterated as Dawlat Qatar), is an Arab emirate in Southwest Asia, occupying the small Qatar Peninsula on the northeasterly coast of the larger Arabian Peninsula. It is bordered by Saudi Arabia to the south; otherwise the Persian Gulf surrounds the state.', mimetype='text/plain', start_char_idx=None, end_char_idx=None, text_template='{metadata_str}\\n\\n{content}', metadata_template='{key}: {value}', metadata_seperator='\\n'),\n",
       " Document(id_='d1df46a4-6c8a-44d8-8c35-43e3fcbd6376', embedding=None, metadata={}, excluded_embed_metadata_keys=[], excluded_llm_metadata_keys=[], relationships={}, text='The name \"Qatar\" may derive from the same Arabic root as qatura which means \"to exude.\"  The word Qatura traces to the Arabic qatran meaning \"tar\" or \"resin\", which relates to the country\\'s rich resources in petroleum and natural gas.  Adrian Room, Placenames of the World (1997) McFarland and Company.', mimetype='text/plain', start_char_idx=None, end_char_idx=None, text_template='{metadata_str}\\n\\n{content}', metadata_template='{key}: {value}', metadata_seperator='\\n'),\n",
       " Document(id_='206b4fce-7799-40b4-a21e-17430d6edb03', embedding=None, metadata={}, excluded_embed_metadata_keys=[], excluded_llm_metadata_keys=[], relationships={}, text='Other sources say the name may derive from \"Qatara\", believed to refer to the Qatari town of Zubara, an important trading port and town in the region in ancient times. The word \"Qatara\" first appeared on Ptolemy\\'s map of the Arabian Peninsula. An approximation of the native pronunciation falls between the English words \\'cutter\\' and \\'gutter\\', but not like \\'guitar\\'.', mimetype='text/plain', start_char_idx=None, end_char_idx=None, text_template='{metadata_str}\\n\\n{content}', metadata_template='{key}: {value}', metadata_seperator='\\n'),\n",
       " Document(id_='f048bc1f-0e21-46e7-b65b-d077f775071e', embedding=None, metadata={}, excluded_embed_metadata_keys=[], excluded_llm_metadata_keys=[], relationships={}, text='After domination by the Ottoman and British empires for centuries, Qatar became an independent state on September 3, 1971.', mimetype='text/plain', start_char_idx=None, end_char_idx=None, text_template='{metadata_str}\\n\\n{content}', metadata_template='{key}: {value}', metadata_seperator='\\n'),\n",
       " Document(id_='c5ef4867-ad2e-4044-9664-880101265ed1', embedding=None, metadata={}, excluded_embed_metadata_keys=[], excluded_llm_metadata_keys=[], relationships={}, text='Although the peninsular land mass that makes up Qatar has sustained humans for thousands of years, for the bulk of its history the arid climate fostered only short-term settlements by nomadic tribes. Clans such as the Al Khalifa and the Al Saud (which would later ascend thrones of Bahrain and Saudi Arabia respectively) swept through the Arabian peninsula and camped on the coasts within small fishing and pearling villages.', mimetype='text/plain', start_char_idx=None, end_char_idx=None, text_template='{metadata_str}\\n\\n{content}', metadata_template='{key}: {value}', metadata_seperator='\\n'),\n",
       " Document(id_='77aa9391-96c5-4883-b8ef-70a3f11743db', embedding=None, metadata={}, excluded_embed_metadata_keys=[], excluded_llm_metadata_keys=[], relationships={}, text='Desert in Qatar', mimetype='text/plain', start_char_idx=None, end_char_idx=None, text_template='{metadata_str}\\n\\n{content}', metadata_template='{key}: {value}', metadata_seperator='\\n'),\n",
       " Document(id_='26b10581-f540-4810-83c8-7137f94af80c', embedding=None, metadata={}, excluded_embed_metadata_keys=[], excluded_llm_metadata_keys=[], relationships={}, text='The British initially sought out Qatar and the Persian Gulf as an intermediary vantage point en route to their colonial interests in India, although the discovery of oil and other hydrocarbons in the early twentieth century would re-invigorate their interest. During the nineteenth century, the time of Britainâ\\x80\\x99s formative ventures into the region, the Al Khalifa clan reigned over the Northern Qatari peninsula from the nearby island of Bahrain to the west.', mimetype='text/plain', start_char_idx=None, end_char_idx=None, text_template='{metadata_str}\\n\\n{content}', metadata_template='{key}: {value}', metadata_seperator='\\n'),\n",
       " Document(id_='5bb2f1eb-ee20-4f23-8553-c0150764972f', embedding=None, metadata={}, excluded_embed_metadata_keys=[], excluded_llm_metadata_keys=[], relationships={}, text='Although Qatar had the legal status of a dependency, resentment festered against the Bahraini Al Khalifas along the eastern seaboard of the Qatari peninsula. In 1867, the Al Khalifas launched a successful effort to quash the Qatari rebels sending a massive naval force to Wakrah. However, the Bahraini aggression was in violation on the 1820 Anglo-Bahraini Treaty. The diplomatic response of the British  to this violation set into motion the political forces that would eventuate in the founding of the state of Qatar. In addition to censuring Bahrain for its breach of agreement, the British Protectorate (per Colonel Lewis Pelly) asked to negotiate with a representative from Qatar. The request carried with it a tacit recognition of Qatarâ\\x80\\x99s status as distinct from Bahrain. The Qataris chose as their negotiator the respected entrepreneur and long-time resident of Doha, Muhammed bin Thani. His clan, the Al Thanis, had taken relatively little part in Gulf politics, but the diplomatic foray ensured their participation in the movement towards independence and their dominion as the future ruling family, a dynasty that continues to this day. The results of the negotiations left Qatar with a new-found sense of political selfhood, although it did not gain official standing as a British protectorate until 1916.', mimetype='text/plain', start_char_idx=None, end_char_idx=None, text_template='{metadata_str}\\n\\n{content}', metadata_template='{key}: {value}', metadata_seperator='\\n'),\n",
       " Document(id_='9a493dd9-f0b0-4cb3-88e2-c3906bd4cca0', embedding=None, metadata={}, excluded_embed_metadata_keys=[], excluded_llm_metadata_keys=[], relationships={}, text='The Emiri Diwan.', mimetype='text/plain', start_char_idx=None, end_char_idx=None, text_template='{metadata_str}\\n\\n{content}', metadata_template='{key}: {value}', metadata_seperator='\\n'),\n",
       " Document(id_='08cdd4dc-294a-4f06-95e3-c6caa0db3a69', embedding=None, metadata={}, excluded_embed_metadata_keys=[], excluded_llm_metadata_keys=[], relationships={}, text=\"The reach of the British Empire diminished after the Second World War, especially following Indian independence in 1947. Pressure for a British withdrawal from the Arab emirates in the Gulf increased during the 1950s, and the British welcomed Kuwait's declaration of independence in 1961.  When Britain officially announced in 1968 that it would disengage politically, though not economically, from the Gulf in three years' time, Qatar joined Bahrain and seven other Trucial States in a federation. Regional disputes however, quickly compelled Qatar to resign and declare independence from the coalition that would evolve into the seven-emirate United Arab Emirates. On September 3, 1971, Qatar became an independent sovereign state.\", mimetype='text/plain', start_char_idx=None, end_char_idx=None, text_template='{metadata_str}\\n\\n{content}', metadata_template='{key}: {value}', metadata_seperator='\\n'),\n",
       " Document(id_='0ade181a-b151-4f96-ae0a-81cb6063e55b', embedding=None, metadata={}, excluded_embed_metadata_keys=[], excluded_llm_metadata_keys=[], relationships={}, text='Since 1995, Emir Hamad bin Khalifa Al Thani has ruled Qatar, seizing control of the country from his father Khalifa bin Hamad Al Thani while the latter vacationed in Switzerland. Under Emir Hamad, Qatar has experienced a notable amount of sociopolitical liberalization, including the enfranchisement of women, a new constitution, and the launch of Al Jazeera, a leading English and Arabic news source, which operates a website and satellite television news channel. Qatar ranks as the ninth richest country in the world per capita .', mimetype='text/plain', start_char_idx=None, end_char_idx=None, text_template='{metadata_str}\\n\\n{content}', metadata_template='{key}: {value}', metadata_seperator='\\n'),\n",
       " Document(id_='56dedc62-fe0a-48a1-b185-e17aff5ce897', embedding=None, metadata={}, excluded_embed_metadata_keys=[], excluded_llm_metadata_keys=[], relationships={}, text='Qatar served as the headquarters and one of the main launching sites of the US invasion of Iraq  in 2003.', mimetype='text/plain', start_char_idx=None, end_char_idx=None, text_template='{metadata_str}\\n\\n{content}', metadata_template='{key}: {value}', metadata_seperator='\\n'),\n",
       " Document(id_='682f2393-10dc-4457-b55a-c3813900907a', embedding=None, metadata={}, excluded_embed_metadata_keys=[], excluded_llm_metadata_keys=[], relationships={}, text='In 2005, a suicide-bombing killed a British teacher at the Doha Players Theatre, shocking a country that had not previously experienced acts of terrorism. It is not clear if the bombing was committed by an organized terrorist group, and although the investigation is ongoing there are indications that the attack was the work of an individual, not a group.', mimetype='text/plain', start_char_idx=None, end_char_idx=None, text_template='{metadata_str}\\n\\n{content}', metadata_template='{key}: {value}', metadata_seperator='\\n'),\n",
       " Document(id_='b8a1e0d4-7111-4bed-a424-d0dd99e10fde', embedding=None, metadata={}, excluded_embed_metadata_keys=[], excluded_llm_metadata_keys=[], relationships={}, text='100px', mimetype='text/plain', start_char_idx=None, end_char_idx=None, text_template='{metadata_str}\\n\\n{content}', metadata_template='{key}: {value}', metadata_seperator='\\n'),\n",
       " Document(id_='a8183ef8-9794-40b7-ab62-d284a163e057', embedding=None, metadata={}, excluded_embed_metadata_keys=[], excluded_llm_metadata_keys=[], relationships={}, text='Qatar is divided into ten municipalities (Arabic: baladiyah), also occasionally translated as governorates or provinces:', mimetype='text/plain', start_char_idx=None, end_char_idx=None, text_template='{metadata_str}\\n\\n{content}', metadata_template='{key}: {value}', metadata_seperator='\\n'),\n",
       " Document(id_='61bdc58a-95eb-4356-ba0e-92a907fe10cc', embedding=None, metadata={}, excluded_embed_metadata_keys=[], excluded_llm_metadata_keys=[], relationships={}, text='#Ad Dawhah', mimetype='text/plain', start_char_idx=None, end_char_idx=None, text_template='{metadata_str}\\n\\n{content}', metadata_template='{key}: {value}', metadata_seperator='\\n'),\n",
       " Document(id_='491b81f0-1b7a-4e16-8218-7bbf2ca49255', embedding=None, metadata={}, excluded_embed_metadata_keys=[], excluded_llm_metadata_keys=[], relationships={}, text='#Al Ghuwariyah', mimetype='text/plain', start_char_idx=None, end_char_idx=None, text_template='{metadata_str}\\n\\n{content}', metadata_template='{key}: {value}', metadata_seperator='\\n'),\n",
       " Document(id_='796d9828-88cf-4d28-9a57-4b93e33b2d61', embedding=None, metadata={}, excluded_embed_metadata_keys=[], excluded_llm_metadata_keys=[], relationships={}, text='#Al Jumaliyah', mimetype='text/plain', start_char_idx=None, end_char_idx=None, text_template='{metadata_str}\\n\\n{content}', metadata_template='{key}: {value}', metadata_seperator='\\n'),\n",
       " Document(id_='fb0b032f-0b59-4af3-9a78-6a8722c508f5', embedding=None, metadata={}, excluded_embed_metadata_keys=[], excluded_llm_metadata_keys=[], relationships={}, text='#Al Khawr', mimetype='text/plain', start_char_idx=None, end_char_idx=None, text_template='{metadata_str}\\n\\n{content}', metadata_template='{key}: {value}', metadata_seperator='\\n'),\n",
       " Document(id_='c517ce4a-29a0-4951-bd98-62ee9a62f474', embedding=None, metadata={}, excluded_embed_metadata_keys=[], excluded_llm_metadata_keys=[], relationships={}, text='#Al Wakrah ', mimetype='text/plain', start_char_idx=None, end_char_idx=None, text_template='{metadata_str}\\n\\n{content}', metadata_template='{key}: {value}', metadata_seperator='\\n'),\n",
       " Document(id_='ec5c5d7c-3b82-498f-a317-10e7e24aae42', embedding=None, metadata={}, excluded_embed_metadata_keys=[], excluded_llm_metadata_keys=[], relationships={}, text='#Ar Rayyan', mimetype='text/plain', start_char_idx=None, end_char_idx=None, text_template='{metadata_str}\\n\\n{content}', metadata_template='{key}: {value}', metadata_seperator='\\n'),\n",
       " Document(id_='a3f09938-62f2-488e-837a-75bb3c1baece', embedding=None, metadata={}, excluded_embed_metadata_keys=[], excluded_llm_metadata_keys=[], relationships={}, text='#Jariyan al Batnah ', mimetype='text/plain', start_char_idx=None, end_char_idx=None, text_template='{metadata_str}\\n\\n{content}', metadata_template='{key}: {value}', metadata_seperator='\\n'),\n",
       " Document(id_='f7e3944d-cb37-464c-b388-1bf0318affb9', embedding=None, metadata={}, excluded_embed_metadata_keys=[], excluded_llm_metadata_keys=[], relationships={}, text='#Ash Shamal ', mimetype='text/plain', start_char_idx=None, end_char_idx=None, text_template='{metadata_str}\\n\\n{content}', metadata_template='{key}: {value}', metadata_seperator='\\n'),\n",
       " Document(id_='2f564d14-846d-486e-abdc-0ddcffe98c9f', embedding=None, metadata={}, excluded_embed_metadata_keys=[], excluded_llm_metadata_keys=[], relationships={}, text='#Umm Salal ', mimetype='text/plain', start_char_idx=None, end_char_idx=None, text_template='{metadata_str}\\n\\n{content}', metadata_template='{key}: {value}', metadata_seperator='\\n'),\n",
       " Document(id_='fc45db75-8b1d-4616-84a6-6d316de1e5d1', embedding=None, metadata={}, excluded_embed_metadata_keys=[], excluded_llm_metadata_keys=[], relationships={}, text='#Mesaieed', mimetype='text/plain', start_char_idx=None, end_char_idx=None, text_template='{metadata_str}\\n\\n{content}', metadata_template='{key}: {value}', metadata_seperator='\\n'),\n",
       " Document(id_='35429407-9c9b-43fe-be7e-d5f3b32dd9a8', embedding=None, metadata={}, excluded_embed_metadata_keys=[], excluded_llm_metadata_keys=[], relationships={}, text=\"Qatar's great wealth is most visible in its capital, Doha.\", mimetype='text/plain', start_char_idx=None, end_char_idx=None, text_template='{metadata_str}\\n\\n{content}', metadata_template='{key}: {value}', metadata_seperator='\\n'),\n",
       " Document(id_='4bf4b7d0-34c7-4573-a984-00c8bbae2ca4', embedding=None, metadata={}, excluded_embed_metadata_keys=[], excluded_llm_metadata_keys=[], relationships={}, text=\"Before the discovery of oil the economy of the Qatari region focused on fishing and pearling. After the introduction of the Japanese cultured pearl onto the world market in the 1920s and 1930s, Qatar's pearling industry faltered. However, the discovery of oil reserves, beginning in the 1940s, completely transformed the state's economy. Now the country has a high standard of living, with many social services offered to its citizens and all the amenities of any modern state.\", mimetype='text/plain', start_char_idx=None, end_char_idx=None, text_template='{metadata_str}\\n\\n{content}', metadata_template='{key}: {value}', metadata_seperator='\\n'),\n",
       " Document(id_='59194908-7eff-4b6f-bf73-f1f64509cd87', embedding=None, metadata={}, excluded_embed_metadata_keys=[], excluded_llm_metadata_keys=[], relationships={}, text=\"Qatar's national income primarily derives from oil and natural gas exports. The country has oil estimated at 15 billion barrels (2.4 kmÂ³), while gas reserves in the giant north field (South Pars for Iran) which straddles the border with Iran and are almost as large as the peninsula itself are estimated to be between 800â\\x80\\x93900tcf (Trillion Cubic Feet - 1tcf is equal to around 80 million barrels of oil equivalent). Qataris' wealth and standard of living compare well with those of Western European states; Qatar has one of the highest GDP per capita in the Arab World.  With no income tax, Qatar is also one of the two least-taxed sovereign states in the world (the other is Bahrain).\", mimetype='text/plain', start_char_idx=None, end_char_idx=None, text_template='{metadata_str}\\n\\n{content}', metadata_template='{key}: {value}', metadata_seperator='\\n'),\n",
       " Document(id_='536a14d5-3b68-43d9-9fe9-2784cdc85b82', embedding=None, metadata={}, excluded_embed_metadata_keys=[], excluded_llm_metadata_keys=[], relationships={}, text='The Aspire Tower, built for the Asian Games, is visible across Doha, and is now a hotel. While oil and gas will probably remain the backbone of Qatar\\'s economy for some time to come, the country seeks to stimulate the private sector and develop a \"knowledge economy\". In 2004, it established the Qatar Science & Technology Park to attract and serve technology-based companies and entrepreneurs, from overseas and within Qatar. Qatar also established Education City, which consists of international colleges. For the 15th Asian Games in Doha, it established Sports City, consisting of Khalifa stadium, the Aspire Sports Academy, aquatic centres, exhibition centres and many other sports related buildings and centres. Following the success of the Asian Games, Doha kicked off its official bid to host the 2016 Summer Olympics in October of 2007.  Doha 2016 bid brings wind of change  Qatar also plans to build an \"entertainment city\" in the future.', mimetype='text/plain', start_char_idx=None, end_char_idx=None, text_template='{metadata_str}\\n\\n{content}', metadata_template='{key}: {value}', metadata_seperator='\\n'),\n",
       " Document(id_='1dddfeba-199d-408e-9d75-519d1a55307c', embedding=None, metadata={}, excluded_embed_metadata_keys=[], excluded_llm_metadata_keys=[], relationships={}, text='Qatar is aiming to become a role model for economic and social transformation in the region. Large scale investment in all social and economic sectors will also lead to the development of a strong financial market.', mimetype='text/plain', start_char_idx=None, end_char_idx=None, text_template='{metadata_str}\\n\\n{content}', metadata_template='{key}: {value}', metadata_seperator='\\n'),\n",
       " Document(id_='15fd2a72-41a7-4411-8202-88b3ccdf0f64', embedding=None, metadata={}, excluded_embed_metadata_keys=[], excluded_llm_metadata_keys=[], relationships={}, text='The Qatar Financial Centre (QFC) provides financial institutions with a world class financial services platform situated in an economy founded on the development of its hydrocarbons resources. It has been created with a long term perspective to support the development of Qatar and the wider region, develop local and regional markets, and strengthen the links between the energy based economies and global financial markets.', mimetype='text/plain', start_char_idx=None, end_char_idx=None, text_template='{metadata_str}\\n\\n{content}', metadata_template='{key}: {value}', metadata_seperator='\\n'),\n",
       " Document(id_='d6248f58-f0e0-4d31-9b2c-37aaff6e8648', embedding=None, metadata={}, excluded_embed_metadata_keys=[], excluded_llm_metadata_keys=[], relationships={}, text='Apart from Qatar itself, which needs to raise the capacity of its financial services to support more than $130 billion worth of projects, the QFC also provides a conduit for financial services providers to access nearly $1 trillion of investment across the GCC as a whole over the next decade.', mimetype='text/plain', start_char_idx=None, end_char_idx=None, text_template='{metadata_str}\\n\\n{content}', metadata_template='{key}: {value}', metadata_seperator='\\n'),\n",
       " Document(id_='287c5c90-3edd-4d02-9c60-a6aeb78b8a7e', embedding=None, metadata={}, excluded_embed_metadata_keys=[], excluded_llm_metadata_keys=[], relationships={}, text='The largest project ever in Qatar, the new town of Lusail, is under construction.', mimetype='text/plain', start_char_idx=None, end_char_idx=None, text_template='{metadata_str}\\n\\n{content}', metadata_template='{key}: {value}', metadata_seperator='\\n'),\n",
       " Document(id_='ff218ada-28ac-46c5-9709-9f2fb602434f', embedding=None, metadata={}, excluded_embed_metadata_keys=[], excluded_llm_metadata_keys=[], relationships={}, text='Map of Qatar', mimetype='text/plain', start_char_idx=None, end_char_idx=None, text_template='{metadata_str}\\n\\n{content}', metadata_template='{key}: {value}', metadata_seperator='\\n'),\n",
       " Document(id_='679c0251-6046-4170-9c22-291469af8a29', embedding=None, metadata={}, excluded_embed_metadata_keys=[], excluded_llm_metadata_keys=[], relationships={}, text='The Qatari peninsula juts 100 miles  (160 km) into the Persian Gulf from Saudi Arabia and is slightly smaller than Connecticut. Much of the country consists of a low, barren plain, covered with sand. To the southeast lies the spectacular Khor al Adaid (\"Inland Sea\"), an area of rolling sand dunes surrounding an inlet of the Gulf. There are mild winters and very hot, humid summers.', mimetype='text/plain', start_char_idx=None, end_char_idx=None, text_template='{metadata_str}\\n\\n{content}', metadata_template='{key}: {value}', metadata_seperator='\\n'),\n",
       " Document(id_='4d9d5a47-4585-46bd-8f1c-062dc5b7fc94', embedding=None, metadata={}, excluded_embed_metadata_keys=[], excluded_llm_metadata_keys=[], relationships={}, text=\"The highest point in Qatar occurs in the Jebel Dukhan to the west, a range of low limestone outcrops running north-south from Zikrit through Umm Bab to the southern border, and reaching about 295 feet (90 m) ASL. This area also contains Qatar's main onshore oil deposits, while the natural gas fields lie offshore, to the northwest of the peninsula.\", mimetype='text/plain', start_char_idx=None, end_char_idx=None, text_template='{metadata_str}\\n\\n{content}', metadata_template='{key}: {value}', metadata_seperator='\\n'),\n",
       " Document(id_='7a5b0990-b611-441d-80e3-ba1fdcd93afc', embedding=None, metadata={}, excluded_embed_metadata_keys=[], excluded_llm_metadata_keys=[], relationships={}, text=\"Nearly all Qataris profess Islam. Besides ethnic Arabs, much of the population migrated from various nations to work in the country's oil industry. Arabic serves as the official language. However English as well as many other languages are spoken in Qatar.\", mimetype='text/plain', start_char_idx=None, end_char_idx=None, text_template='{metadata_str}\\n\\n{content}', metadata_template='{key}: {value}', metadata_seperator='\\n'),\n",
       " Document(id_='e3ec3651-7981-4356-a177-f57836ffffe1', embedding=None, metadata={}, excluded_embed_metadata_keys=[], excluded_llm_metadata_keys=[], relationships={}, text=\"Expatriates form the majority of Qatar's residents. The petrochemical industry has attracted people from all around the world. Most of the expatriates come from South Asia and from non-oil-rich Arab states. Because a large percentage of the expatriates are male, Qatar has the most heavily skewed sex ratio in the world, with 1.88 males per female .\", mimetype='text/plain', start_char_idx=None, end_char_idx=None, text_template='{metadata_str}\\n\\n{content}', metadata_template='{key}: {value}', metadata_seperator='\\n'),\n",
       " Document(id_='a0c41ec4-c7da-4e9c-a522-748415dc8219', embedding=None, metadata={}, excluded_embed_metadata_keys=[], excluded_llm_metadata_keys=[], relationships={}, text=\"In 2004, the country had a total population of approximately 1,000,000 (in 2007), of whom approximately 200,000 were believed to be citizens.  Qatar  Of the citizen population, Shi'a Muslims account for approximately 3 percent and Sunni Muslims comprise the remaining 97 percent. The majority of the estimated 800,000 non-citizens are individuals from South and South East Asian and Arab countries working on temporary employment contracts in most cases without their accompanying family members. They are of the following faiths: Sunni Muslims, Christians, Hindus, Sikhs, Buddhists, and BahÃ¡'Ã\\xads. Most foreign workers and their families live near the major employment centers of Doha, Al Khor, Messaeed, and Dukhan.\", mimetype='text/plain', start_char_idx=None, end_char_idx=None, text_template='{metadata_str}\\n\\n{content}', metadata_template='{key}: {value}', metadata_seperator='\\n'),\n",
       " Document(id_='057cae5a-36ba-420d-92b7-8cbbdcde8de3', embedding=None, metadata={}, excluded_embed_metadata_keys=[], excluded_llm_metadata_keys=[], relationships={}, text=\"The Christian community is a diverse mix of Indians, Filipinos, Europeans, Arabs, and Americans. It includes Catholic, Orthodox, Coptic, Anglican, and other Protestant denominations. The Hindu community is almost exclusively Indian, while Buddhists include South and East Asians. Most BahÃ¡'Ã\\xads in Qatar may come from nearby Iran. Religion is not indicated on national identity cards and passports, nor is it a criterion for citizenship in Qatar according to the Nationality Law. However, Qatari citizens are either Sunni or Shi'a Muslims with the exception of a Baha'i and Syrian Christian and their respective families who were granted citizenship. Shi'a, both citizens and foreigners, may attend a small number of Shi'a mosques. \", mimetype='text/plain', start_char_idx=None, end_char_idx=None, text_template='{metadata_str}\\n\\n{content}', metadata_template='{key}: {value}', metadata_seperator='\\n'),\n",
       " Document(id_='bcb97702-15e3-4ee0-8900-afb5b4fa3c76', embedding=None, metadata={}, excluded_embed_metadata_keys=[], excluded_llm_metadata_keys=[], relationships={}, text='There is some limitation of the religious liberty of Christians.', mimetype='text/plain', start_char_idx=None, end_char_idx=None, text_template='{metadata_str}\\n\\n{content}', metadata_template='{key}: {value}', metadata_seperator='\\n'),\n",
       " Document(id_='a054016c-0228-45d1-9106-c067a449329c', embedding=None, metadata={}, excluded_embed_metadata_keys=[], excluded_llm_metadata_keys=[], relationships={}, text='No foreign missionary groups operate openly in the country.', mimetype='text/plain', start_char_idx=None, end_char_idx=None, text_template='{metadata_str}\\n\\n{content}', metadata_template='{key}: {value}', metadata_seperator='\\n'),\n",
       " Document(id_='af983cf7-db9a-480a-adc9-ca01f834c4c5', embedding=None, metadata={}, excluded_embed_metadata_keys=[], excluded_llm_metadata_keys=[], relationships={}, text='Qatar explicitly uses Sunni law as the basis of its government, and the vast majority of its citizens follow Hanbali Madhhab. Hanbali (Arabic: Ø\\xadÙ\\x86Ø¨Ù\\x84Ù\\x89 ) is one of the four schools (Madhhabs) of Fiqh or religious law within Sunni Islam (The other three are Hanafi, Maliki and Shafii). Sunni Muslims believe that all four schools have \"correct guidance\", and the differences between them lie not in the fundamentals of faith, but in finer judgements and jurisprudence, which are a result of the independent reasoning of the imams and the scholars who followed them. Because their individual methodologies of interpretation and extraction from the primary sources (usul) were different, they came to different judgements on particular matters.', mimetype='text/plain', start_char_idx=None, end_char_idx=None, text_template='{metadata_str}\\n\\n{content}', metadata_template='{key}: {value}', metadata_seperator='\\n'),\n",
       " Document(id_='c44266c0-e428-4c7f-bcba-82a73c0a43d6', embedding=None, metadata={}, excluded_embed_metadata_keys=[], excluded_llm_metadata_keys=[], relationships={}, text=\"Shi'as comprise less than 1% of the muslim population in Qatar, they are foreigners mainly from Iran.\", mimetype='text/plain', start_char_idx=None, end_char_idx=None, text_template='{metadata_str}\\n\\n{content}', metadata_template='{key}: {value}', metadata_seperator='\\n'),\n",
       " Document(id_='ccd6e8ee-0d33-4010-8225-8057b141930d', embedding=None, metadata={}, excluded_embed_metadata_keys=[], excluded_llm_metadata_keys=[], relationships={}, text='When contrasted with other Arab states such as Saudi Arabia, for instance, Qatar has comparatively liberal laws, but is still not as liberal as some of its neighbours like UAE or Bahrain. Women can legally drive in Qatar, whereas they may not in Saudi Arabia.', mimetype='text/plain', start_char_idx=None, end_char_idx=None, text_template='{metadata_str}\\n\\n{content}', metadata_template='{key}: {value}', metadata_seperator='\\n'),\n",
       " Document(id_='938f129b-36fb-4c80-838a-f75a20c8accb', embedding=None, metadata={}, excluded_embed_metadata_keys=[], excluded_llm_metadata_keys=[], relationships={}, text='The country has undergone a period of liberalization and modernisation after the current Emir of Qatar, Hamad bin Khalifa Al-Thani, came to power after becoming Emir in place of his father. Under his rule, Qatar became the first Arab country in the Persian Gulf where women gained the right to vote   The role of Saudi women  as well as holding senior positions in government.  Also, women can dress mostly as they please in public (although in practice local Qatari women generally don the black abaya). Before the liberalisation, it was taboo for men to wear shorts in public. The laws of Qatar tolerate alcohol to a certain extent. However, public bars and nightclubs in Qatar operate only in expensive hotels and clubs, much like in the UAE and Bahrain, though the number of establishments has yet to equal that of UAE. Qatar has further been liberalised due to the 15th Asian Games, but is cautious of becoming too liberal in their law making the country a viable weekend immigration from their western neighbour. Overall Qatar has yet to reach the more western laws of UAE or Bahrain, and though plans are being made for more development, the government is cautious.', mimetype='text/plain', start_char_idx=None, end_char_idx=None, text_template='{metadata_str}\\n\\n{content}', metadata_template='{key}: {value}', metadata_seperator='\\n'),\n",
       " Document(id_='7e199add-44e7-4228-ac44-1a11006bded0', embedding=None, metadata={}, excluded_embed_metadata_keys=[], excluded_llm_metadata_keys=[], relationships={}, text=\"In recent years Qatar has placed great emphasis on education. Along with the countryâ\\x80\\x99s free healthcare, citizens enjoy free education from kindergarten through to university. Qatar University was founded in 1973.  More recently, with the support of the Qatar Foundation,  some major American universities have opened branch campuses in Education City, Qatar. These include Carnegie Mellon University, Georgetown University School of Foreign Service, Texas A&M University, Virginia Commonwealth University, and Cornell University's Weill Medical College.  In addition, Northwestern University will offer undergraduate programs in communication and journalism starting in fall 2008. In 2004, Qatar established the Qatar Science & Technology Park at Education City to link those universities with industry. Education City is also home to a fully accredited International Baccalaureate school, Qatar Academy. Two Canadian institutions, College of the North Atlantic and the University of Calgary  also operate campuses in Doha.\", mimetype='text/plain', start_char_idx=None, end_char_idx=None, text_template='{metadata_str}\\n\\n{content}', metadata_template='{key}: {value}', metadata_seperator='\\n'),\n",
       " Document(id_='080213e1-8188-44a8-82ad-b5f69177f060', embedding=None, metadata={}, excluded_embed_metadata_keys=[], excluded_llm_metadata_keys=[], relationships={}, text='In November 2002, the Emir Hamad bin Khalifa al-Thani created the  Supreme Education Council. The Council directs and controls education for all ages from the pre-school level through the university level, including the  \"Education for a New Era\" reform initiative.', mimetype='text/plain', start_char_idx=None, end_char_idx=None, text_template='{metadata_str}\\n\\n{content}', metadata_template='{key}: {value}', metadata_seperator='\\n'),\n",
       " Document(id_='ab075198-8e84-4d78-adaa-1f3ef81c2d01', embedding=None, metadata={}, excluded_embed_metadata_keys=[], excluded_llm_metadata_keys=[], relationships={}, text=\"The Emir's second wife, Her Highness Sheikha Mozah Bint Nasser Al-Missned, has been instrumental in new education initiatives in Qatar. She chairs the Qatar Foundation, sits on the board of Qatar's Supreme Education Council, and is a major driving force behind the importation of western expertise into the education system, particularly at the college level.\", mimetype='text/plain', start_char_idx=None, end_char_idx=None, text_template='{metadata_str}\\n\\n{content}', metadata_template='{key}: {value}', metadata_seperator='\\n'),\n",
       " Document(id_='7a28e1cb-7a30-42fd-a5ec-57bc238396ff', embedding=None, metadata={}, excluded_embed_metadata_keys=[], excluded_llm_metadata_keys=[], relationships={}, text=\"Qatar has a modern Telecommunication system centered in Doha. Tropospheric scatter to Bahrain; microwave radio relay to Saudi Arabia and UAE; submarine cable to Bahrain and UAE; satellite earth stations - 2 Intelsat (1 Atlantic Ocean and 1 Indian Ocean) and 1 Arabsat. People can call to Qatar using their submarine cable, satellite or using VoIP (Voice over Internet Protocol); however, Qtel has interfered with VoIP systems in the past, and Skype's website has been blocked before. Following complaints from individuals, the website has been unblocked; and Paltalk has been permanently blocked.\", mimetype='text/plain', start_char_idx=None, end_char_idx=None, text_template='{metadata_str}\\n\\n{content}', metadata_template='{key}: {value}', metadata_seperator='\\n'),\n",
       " Document(id_='a2c80ba9-e594-49fa-9d50-bdcdfbf00e15', embedding=None, metadata={}, excluded_embed_metadata_keys=[], excluded_llm_metadata_keys=[], relationships={}, text=\"Qtel's ISP branch, Internet Qatar, uses SmartFilter to block websites they deem inappropriate to Qatari interests and morality.\", mimetype='text/plain', start_char_idx=None, end_char_idx=None, text_template='{metadata_str}\\n\\n{content}', metadata_template='{key}: {value}', metadata_seperator='\\n'),\n",
       " Document(id_='2392e594-8840-4536-a48f-ebe56b6254a8', embedding=None, metadata={}, excluded_embed_metadata_keys=[], excluded_llm_metadata_keys=[], relationships={}, text='Al Jazeera (Arabic: Ø§Ù\\x84Ø¬Ø²Ù\\x8aØ±Ø©â\\x80\\x8e, al-Ä\\x9fazÄ«rÃ¤, [al.dÊ\\x92aË\\x88ziË\\x90.ra], meaning \"The Peninsula\") is a television network headquartered in Doha, Qatar. Al Jazeera initially launched as an Arabic news and current affairs satellite TV channel of the same name, but has since expanded into a network of several specialty TV channels.', mimetype='text/plain', start_char_idx=None, end_char_idx=None, text_template='{metadata_str}\\n\\n{content}', metadata_template='{key}: {value}', metadata_seperator='\\n'),\n",
       " Document(id_='81f3f3ce-f061-4d34-b58b-991b8c242f59', embedding=None, metadata={}, excluded_embed_metadata_keys=[], excluded_llm_metadata_keys=[], relationships={}, text=\"According to the US State Department's Trafficking in Persons Report, men and women who are lured into Qatar by promises of high wages are often forced into underpaid labor. The report states that Qatari laws against forced labor are rarely enforced and that labor laws often result in the detention of victims in deportation centers pending the completion of legal proceedings  .\", mimetype='text/plain', start_char_idx=None, end_char_idx=None, text_template='{metadata_str}\\n\\n{content}', metadata_template='{key}: {value}', metadata_seperator='\\n'),\n",
       " Document(id_='82db4653-9472-4e93-bff7-6dafb7b5d000', embedding=None, metadata={}, excluded_embed_metadata_keys=[], excluded_llm_metadata_keys=[], relationships={}, text=\"The polar bear (Ursus maritimus) is a bear native to the Arctic. Polar bears and Kodiak bears are the world's largest land carnivores, with most adult males weighing 300-600 kg (660-1320 lb); adult females are about half the size of males. Its fur is hollow and translucent, but usually appears as white or cream colored, thus providing the animal with effective camouflage.  Its skin is actually black in color. Its thick blubber and fur insulate it against the cold. The bear has a short tail and small ears that help reduce heat loss, as well as a relatively small head and long, tapered body to streamline it for swimming.\", mimetype='text/plain', start_char_idx=None, end_char_idx=None, text_template='{metadata_str}\\n\\n{content}', metadata_template='{key}: {value}', metadata_seperator='\\n'),\n",
       " Document(id_='b1e44bdd-0017-4819-8e8b-5fe877614946', embedding=None, metadata={}, excluded_embed_metadata_keys=[], excluded_llm_metadata_keys=[], relationships={}, text='A semi-aquatic marine mammal, the polar bear has adapted for life on a combination of land, sea, and ice,    ', mimetype='text/plain', start_char_idx=None, end_char_idx=None, text_template='{metadata_str}\\n\\n{content}', metadata_template='{key}: {value}', metadata_seperator='\\n'),\n",
       " Document(id_='2b6c6ed1-c087-4515-9e47-e5703d1d54bd', embedding=None, metadata={}, excluded_embed_metadata_keys=[], excluded_llm_metadata_keys=[], relationships={}, text='and is the apex predator within its range.  Polar Bears International  It feeds mainly on seals, young walruses, and whales, although it will eat anything it can kill.', mimetype='text/plain', start_char_idx=None, end_char_idx=None, text_template='{metadata_str}\\n\\n{content}', metadata_template='{key}: {value}', metadata_seperator='\\n'),\n",
       " Document(id_='9305df0f-7d01-486d-8010-5890a58ba59e', embedding=None, metadata={}, excluded_embed_metadata_keys=[], excluded_llm_metadata_keys=[], relationships={}, text=\"The polar bear is a vulnerable species at high risk of extinction. Zoologists and climatologists believe that the projected decreases in the polar sea ice due to global warming will reduce their population by two thirds by mid-century.    Database entry includes a lengthy justification of why this species is listed as vulnerable.    .  Local long-term studies show that 7 out of 19 subpopulations are declining or already severely reduced.   See also HTML excerpts:  population status reviews and  Table 1 summarizing polar bear population status per 2005.   Polar Bears and Conservation and    In the USA, the Center for Biological Diversity petitioned to up-list the legal conservation status of polar bears to threatened species in 2005.   See also the Center's  website on the issue.  This petition is still under review.\", mimetype='text/plain', start_char_idx=None, end_char_idx=None, text_template='{metadata_str}\\n\\n{content}', metadata_template='{key}: {value}', metadata_seperator='\\n'),\n",
       " Document(id_='3eb30f66-1b50-47c4-8123-723da5b05164', embedding=None, metadata={}, excluded_embed_metadata_keys=[], excluded_llm_metadata_keys=[], relationships={}, text='Polar bears rank with the Kodiak bear as among the largest living land carnivores, and male polar bears may weigh twice as much as a Siberian tiger. Most adult males weigh 350 650 kg (770 1500+ lb) and measure 2.5 3.0 m (8.2 9.8 ft) in length. Adult females are roughly half the size of males and normally weigh 150 250 kg (330 550 lb), measuring 2 2.5 m (6.6 8.2 ft), but double their weight during pregnancy.  Stirling makes no mention of length, these are from  SeaWorld  The great difference in body size makes the polar bear among the most sexually dimorphic of mammals, surpassed only by the eared seals.    At birth, cubs weigh only 600 700 g or about a pound and a half. The largest polar bear on record was a huge male, allegedly weighing 1002 kg (2200 lb) shot at Kotzebue Sound in northwestern Alaska in 1960.', mimetype='text/plain', start_char_idx=None, end_char_idx=None, text_template='{metadata_str}\\n\\n{content}', metadata_template='{key}: {value}', metadata_seperator='\\n'),\n",
       " Document(id_='2c236126-c0cf-4ab8-9986-d734354d405c', embedding=None, metadata={}, excluded_embed_metadata_keys=[], excluded_llm_metadata_keys=[], relationships={}, text='A Polar Bear resting.', mimetype='text/plain', start_char_idx=None, end_char_idx=None, text_template='{metadata_str}\\n\\n{content}', metadata_template='{key}: {value}', metadata_seperator='\\n'),\n",
       " Document(id_='3f469414-1b29-4fde-9fd5-de168f8182d7', embedding=None, metadata={}, excluded_embed_metadata_keys=[], excluded_llm_metadata_keys=[], relationships={}, text=\"A polar bear's fur provides camouflage and insulation. Although the fur appears white, in fact the individual hairs are translucent, like the water droplets that make up a cloud; the coat may yellow with age. Stiff hairs on the pads of a bear's paws provide insulation and traction on the ice.\", mimetype='text/plain', start_char_idx=None, end_char_idx=None, text_template='{metadata_str}\\n\\n{content}', metadata_template='{key}: {value}', metadata_seperator='\\n'),\n",
       " Document(id_='a7a1e8e3-e3ff-4dd7-b017-79a27ba97e25', embedding=None, metadata={}, excluded_embed_metadata_keys=[], excluded_llm_metadata_keys=[], relationships={}, text='Polar bears gradually molt their hair from May to August; Kolenosky G. B. 1987. Polar bear. Pp. 475â\\x80\\x93485 in Wild furbearer management and conservation in North America (M. Novak, J. A. Baker, M. E. Obbard, and B. Malloch, eds.). Ontario Fur Trappers Association, North Bay, Ontario, Canada.  however, unlike other Arctic mammals, polar bears do not shed their coat for a darker shade to camouflage themselves in the', mimetype='text/plain', start_char_idx=None, end_char_idx=None, text_template='{metadata_str}\\n\\n{content}', metadata_template='{key}: {value}', metadata_seperator='\\n'),\n",
       " Document(id_='0ba66b04-a9cd-4af0-a8d5-8f10bdee5fed', embedding=None, metadata={}, excluded_embed_metadata_keys=[], excluded_llm_metadata_keys=[], relationships={}, text='summer habitat. It was once conjectured that the hollow guard hairs of a polar bear coat acted as fiber-optic tubes to conduct light to its black skin, where it could be absorbed - a theory disproved by recent studies.  .  ', mimetype='text/plain', start_char_idx=None, end_char_idx=None, text_template='{metadata_str}\\n\\n{content}', metadata_template='{key}: {value}', metadata_seperator='\\n'),\n",
       " Document(id_='5c89546b-eeb1-49c7-978c-39b920a4a531', embedding=None, metadata={}, excluded_embed_metadata_keys=[], excluded_llm_metadata_keys=[], relationships={}, text='An infrared image of a polarbear.', mimetype='text/plain', start_char_idx=None, end_char_idx=None, text_template='{metadata_str}\\n\\n{content}', metadata_template='{key}: {value}', metadata_seperator='\\n'),\n",
       " Document(id_='4cd14eaa-cf9e-4e64-b889-85e02357b0b1', embedding=None, metadata={}, excluded_embed_metadata_keys=[], excluded_llm_metadata_keys=[], relationships={}, text='The thick undercoat does, however, insulate the bears: they overheat at temperatures above 10 Â°C (50 Â°F), and are nearly invisible under infrared photography; only their breath and muzzles can be easily seen.  When kept in captivity in warm, humid conditions, it is not unknown for the fur to turn a pale shade of green. This is due to algae growing inside the guard hairs   in unusually warm conditions, the hollow tubes provide an excellent home for algae. Whilst the algae is harmless to the bears, it is often a worry to the zoos housing them, and affected animals are sometimes washed in a salt solution, or mild peroxide bleach to make the fur white again.', mimetype='text/plain', start_char_idx=None, end_char_idx=None, text_template='{metadata_str}\\n\\n{content}', metadata_template='{key}: {value}', metadata_seperator='\\n'),\n",
       " Document(id_='3dffa9d8-5cd5-489f-a4ab-a2167d17380e', embedding=None, metadata={}, excluded_embed_metadata_keys=[], excluded_llm_metadata_keys=[], relationships={}, text='The guard hair is 5-15 cm over most of the body of polar bears.    However, in the forelegs, males have significantly longer, increasing in length until 14 years of age. The ornamental foreleg hair is suggested as a form of an attractive trait for females, likened to the lion mane.', mimetype='text/plain', start_char_idx=None, end_char_idx=None, text_template='{metadata_str}\\n\\n{content}', metadata_template='{key}: {value}', metadata_seperator='\\n'),\n",
       " Document(id_='9e04c2c2-b81d-40f5-ba0a-a8ff3fd53d99', embedding=None, metadata={}, excluded_embed_metadata_keys=[], excluded_llm_metadata_keys=[], relationships={}, text=\"The polar bears ears and tail are smaller than other bears, and its legs are stocky, as expected from Allen's rule for a northerly animal. Its feet are very large, however, presumably to distribute load like snowshoes when walking on snow or thin ice.\", mimetype='text/plain', start_char_idx=None, end_char_idx=None, text_template='{metadata_str}\\n\\n{content}', metadata_template='{key}: {value}', metadata_seperator='\\n'),\n",
       " Document(id_='b704fe85-a8b1-4dff-ae3b-0cdf8887825e', embedding=None, metadata={}, excluded_embed_metadata_keys=[], excluded_llm_metadata_keys=[], relationships={}, text=\"The bears sometimes have problems with various skin diseases with dermatitis caused sometimes by mites or other parasites. The bears are especially susceptible to Trichinella, a parasitic roundworm they contract through cannibalism.  .  Sometimes excess heavy metals have been observed, as well as ethylene glycol (antifreeze) poisoning. Bears exposed to oil and petroleum products lose the insulative integrity of their coats, forcing metabolic rates to dramatically increase to maintain body heat in their challenging environment. Bacterial Leptospirosis, rabies and morbillivirus have been recorded. Interestingly, the bears are thought by some to be more resistant than other carnivores to viral disease.  The pollutant effect on the bears' immune systems, however, may end up decreasing their ability to cope with the naturally present immunological threats it encounters, and in such a challenging habitat even minor weaknesses can lead to serious problems and quick death.\", mimetype='text/plain', start_char_idx=None, end_char_idx=None, text_template='{metadata_str}\\n\\n{content}', metadata_template='{key}: {value}', metadata_seperator='\\n'),\n",
       " Document(id_='63550b99-6ad6-4803-8642-18de1fb11579', embedding=None, metadata={}, excluded_embed_metadata_keys=[], excluded_llm_metadata_keys=[], relationships={}, text=\"The ursidae family is believed to have differentiated from other carnivora about 38 million years ago. The ursinae genus originated some 4 million years ago. According to both fossil and DNA evidence, the polar bear diverged from the brown bear roughly 200 thousand years ago. The oldest known polar bear fossil is less than 100 thousand years old. Fossils show that between 10 and 20 thousand years ago the polar bear's molar teeth changed significantly from those of the brown bear.\", mimetype='text/plain', start_char_idx=None, end_char_idx=None, text_template='{metadata_str}\\n\\n{content}', metadata_template='{key}: {value}', metadata_seperator='\\n'),\n",
       " Document(id_='c757372c-561e-47fe-ba45-5c9f9075cf59', embedding=None, metadata={}, excluded_embed_metadata_keys=[], excluded_llm_metadata_keys=[], relationships={}, text=\"However, more recent genetic studies have shown that some clades of Brown Bear are more closely related to polar bears than to other brown bears, meaning that the polar bear is not a true species according to some species concepts. Marris, E. 2007. Nature 446, 250-253.  Linnaeus at 300: The species and the specious  In addition, polar bears can breed with brown bears to produce fertile grizzlyâ\\x80\\x93polar bear hybrids,  .   .  indicating that they have only recently diverged and are not yet truly distinct species. But neither species can survive long in the other's niche, and with distinctly different morphology, metabolism, social and feeding behaviors, and other phenotypic characters, the two bears are generally classified as separate species.\", mimetype='text/plain', start_char_idx=None, end_char_idx=None, text_template='{metadata_str}\\n\\n{content}', metadata_template='{key}: {value}', metadata_seperator='\\n'),\n",
       " Document(id_='2550dd68-d22a-4c69-b3e7-3ef9f8672973', embedding=None, metadata={}, excluded_embed_metadata_keys=[], excluded_llm_metadata_keys=[], relationships={}, text='A comparison of the DNA of various brown bear populations showed that the brown bears of Alaska\\'s ABC islands shared a more recent common ancestor with polar bears than with any other brown bear population in the world.    Polar bears still have vestigial hibernation induction trigger in their blood, but they do not hibernate in the winter as the brown bear does. Only female polar bears enter a dormant state referred to as \"denning\" during pregnancy, though their body temperature does not decrease during this period as it would for a typical mammal in hibernation.   .', mimetype='text/plain', start_char_idx=None, end_char_idx=None, text_template='{metadata_str}\\n\\n{content}', metadata_template='{key}: {value}', metadata_seperator='\\n'),\n",
       " Document(id_='4ddb1aaf-7f7d-4e47-beed-704b373d27e8', embedding=None, metadata={}, excluded_embed_metadata_keys=[], excluded_llm_metadata_keys=[], relationships={}, text='A Polar Bear in Churchill, Manitoba', mimetype='text/plain', start_char_idx=None, end_char_idx=None, text_template='{metadata_str}\\n\\n{content}', metadata_template='{key}: {value}', metadata_seperator='\\n'),\n",
       " Document(id_='5579e474-d471-44ce-9a07-fbdde43d727a', embedding=None, metadata={}, excluded_embed_metadata_keys=[], excluded_llm_metadata_keys=[], relationships={}, text='When the polar bear was originally documented, two subspecies were identified: Ursus maritimus maritimus by Constantine J. Phipps in 1774, and Ursus maritimus marinus by Peter S. Pallas in 1776.  .  This distinction has since been invalidated. The IUCN/SSC Polar Bear Specialist Group (PBSG), the pre-eminent international scientific body for research and management of polar bears, recognizes only one species distributed in nineteen discrete subpopulations across five countries.  ', mimetype='text/plain', start_char_idx=None, end_char_idx=None, text_template='{metadata_str}\\n\\n{content}', metadata_template='{key}: {value}', metadata_seperator='\\n'),\n",
       " Document(id_='52606899-3876-4ab8-a212-9e9612f3afc8', embedding=None, metadata={}, excluded_embed_metadata_keys=[], excluded_llm_metadata_keys=[], relationships={}, text='#Canadian Arctic Archipelago', mimetype='text/plain', start_char_idx=None, end_char_idx=None, text_template='{metadata_str}\\n\\n{content}', metadata_template='{key}: {value}', metadata_seperator='\\n'),\n",
       " Document(id_='2fc9f513-456a-435c-95d2-24d8fc004aea', embedding=None, metadata={}, excluded_embed_metadata_keys=[], excluded_llm_metadata_keys=[], relationships={}, text='#Greenland, Denmark', mimetype='text/plain', start_char_idx=None, end_char_idx=None, text_template='{metadata_str}\\n\\n{content}', metadata_template='{key}: {value}', metadata_seperator='\\n'),\n",
       " Document(id_='95b914d1-6b07-447c-937c-6b64b00b652e', embedding=None, metadata={}, excluded_embed_metadata_keys=[], excluded_llm_metadata_keys=[], relationships={}, text='#Svalbard, Norway', mimetype='text/plain', start_char_idx=None, end_char_idx=None, text_template='{metadata_str}\\n\\n{content}', metadata_template='{key}: {value}', metadata_seperator='\\n'),\n",
       " Document(id_='866e7273-bd54-453a-8368-703a864218d4', embedding=None, metadata={}, excluded_embed_metadata_keys=[], excluded_llm_metadata_keys=[], relationships={}, text='#Central Siberia and Franz-Josef Land, Russia', mimetype='text/plain', start_char_idx=None, end_char_idx=None, text_template='{metadata_str}\\n\\n{content}', metadata_template='{key}: {value}', metadata_seperator='\\n'),\n",
       " Document(id_='c4286391-302f-4840-b665-93631f4d44c9', embedding=None, metadata={}, excluded_embed_metadata_keys=[], excluded_llm_metadata_keys=[], relationships={}, text='#Alaska, USA', mimetype='text/plain', start_char_idx=None, end_char_idx=None, text_template='{metadata_str}\\n\\n{content}', metadata_template='{key}: {value}', metadata_seperator='\\n'),\n",
       " Document(id_='a0d09bcf-4d61-4fd8-a81f-5f833d5599be', embedding=None, metadata={}, excluded_embed_metadata_keys=[], excluded_llm_metadata_keys=[], relationships={}, text='The 19 subpopulations show seasonal fidelity to geographic areas, but DNA studies show significant interbreeding among them.  .', mimetype='text/plain', start_char_idx=None, end_char_idx=None, text_template='{metadata_str}\\n\\n{content}', metadata_template='{key}: {value}', metadata_seperator='\\n'),\n",
       " Document(id_='fee6130f-bf83-4a26-bbff-5a66d32c3ad6', embedding=None, metadata={}, excluded_embed_metadata_keys=[], excluded_llm_metadata_keys=[], relationships={}, text='Three Polar Bears investigate the submarine USS Honolulu   from the North Pole.', mimetype='text/plain', start_char_idx=None, end_char_idx=None, text_template='{metadata_str}\\n\\n{content}', metadata_template='{key}: {value}', metadata_seperator='\\n'),\n",
       " Document(id_='d772f2e3-f1cc-473d-b304-4fc0bca4820b', embedding=None, metadata={}, excluded_embed_metadata_keys=[], excluded_llm_metadata_keys=[], relationships={}, text='Mother and two cubs climbing up Guillemot Island, Ukkusiksalik National Park.', mimetype='text/plain', start_char_idx=None, end_char_idx=None, text_template='{metadata_str}\\n\\n{content}', metadata_template='{key}: {value}', metadata_seperator='\\n'),\n",
       " Document(id_='fa6a835c-6fa7-47d6-8274-b89e5a9f706b', embedding=None, metadata={}, excluded_embed_metadata_keys=[], excluded_llm_metadata_keys=[], relationships={}, text='Though it spends time on land and ice, the polar bear is regarded as a marine mammal due to its intimate relationship with the sea.  The circumpolar species is found in and around the Arctic Ocean, its southern range limited by pack ice. Their southernmost point is James Bay in Canada. While their numbers thin north of 88 degrees, there is evidence of polar bears all the way across the Arctic. Population is estimated to be between 20,000 to 25,000.', mimetype='text/plain', start_char_idx=None, end_char_idx=None, text_template='{metadata_str}\\n\\n{content}', metadata_template='{key}: {value}', metadata_seperator='\\n'),\n",
       " Document(id_='b56cf86d-9709-4cd2-9a24-1dd95ba0e362', embedding=None, metadata={}, excluded_embed_metadata_keys=[], excluded_llm_metadata_keys=[], relationships={}, text='The main population centers are:', mimetype='text/plain', start_char_idx=None, end_char_idx=None, text_template='{metadata_str}\\n\\n{content}', metadata_template='{key}: {value}', metadata_seperator='\\n'),\n",
       " Document(id_='18510b92-ed3d-45c2-a665-ad0a469aa8b0', embedding=None, metadata={}, excluded_embed_metadata_keys=[], excluded_llm_metadata_keys=[], relationships={}, text='Their range is limited by the availability of sea ice which they use as a platform for hunting seals, the mainstay of their diet. Seals and polar bears tend to gather around fissures in the ice called polynyas.  .  The destruction of its habitat on the Arctic ice threatens the bear\\'s survival as a species.           T. Appenzeller and D. R. Dimick, \"The Heat is On,\" National Geographic 206 (2004): 2-75. cited in', mimetype='text/plain', start_char_idx=None, end_char_idx=None, text_template='{metadata_str}\\n\\n{content}', metadata_template='{key}: {value}', metadata_seperator='\\n'),\n",
       " Document(id_='6f4008f2-6de4-40c0-ad63-3388bf763b9f', embedding=None, metadata={}, excluded_embed_metadata_keys=[], excluded_llm_metadata_keys=[], relationships={}, text='Tourists watching Polar Bears from a \"tundra buggy\" near Churchill, Manitoba.', mimetype='text/plain', start_char_idx=None, end_char_idx=None, text_template='{metadata_str}\\n\\n{content}', metadata_template='{key}: {value}', metadata_seperator='\\n'),\n",
       " Document(id_='576f4a04-e96a-4347-9591-8d47ef1f8f6e', embedding=None, metadata={}, excluded_embed_metadata_keys=[], excluded_llm_metadata_keys=[], relationships={}, text='The most severe and topically recognized threats to the polar bear are the drastic changes taking place in their natural habitat, which is literally melting away due to global warming.   .  The United States Geological Survey, for example, in November 2006, stated that the Arctic shrinkage in the Alaskan portion of the Beaufort Sea has led to a higher death rate for polar bear cubs.', mimetype='text/plain', start_char_idx=None, end_char_idx=None, text_template='{metadata_str}\\n\\n{content}', metadata_template='{key}: {value}', metadata_seperator='\\n'),\n",
       " Document(id_='fd7a6eeb-007f-43d2-adc8-9e508cf0372b', embedding=None, metadata={}, excluded_embed_metadata_keys=[], excluded_llm_metadata_keys=[], relationships={}, text='A 1999 study by scientists from the Canadian Wildlife Service of polar bears in the Hudson Bay showed that global warming is threatening polar bears with starvation. Rising temperatures cause the sea-ice from which the bears hunt to melt earlier in the year, driving them to shore weeks before they have caught enough food to survive the period of scarce food in the late summer and early fall    and leading to a 22% decline in the local subpopulation.', mimetype='text/plain', start_char_idx=None, end_char_idx=None, text_template='{metadata_str}\\n\\n{content}', metadata_template='{key}: {value}', metadata_seperator='\\n'),\n",
       " Document(id_='ce3f9a12-2022-4ff3-8a58-e9e529fe9903', embedding=None, metadata={}, excluded_embed_metadata_keys=[], excluded_llm_metadata_keys=[], relationships={}, text='There is a photographically confirmed case  from the beginning of the 20th century of a Svalbard polar bear drifting on ice as far south as the northern coast of the Norwegian mainland.  It was found and killed near the village of Berlevag.  More recent sightings in Berlevag, including one in the summer of 2005, remain unconfirmed.', mimetype='text/plain', start_char_idx=None, end_char_idx=None, text_template='{metadata_str}\\n\\n{content}', metadata_template='{key}: {value}', metadata_seperator='\\n'),\n",
       " Document(id_='05da8df8-cb4b-4959-ac38-4e909e163c27', embedding=None, metadata={}, excluded_embed_metadata_keys=[], excluded_llm_metadata_keys=[], relationships={}, text='Polar bears are enormous, aggressive, curious, and potentially dangerous to humans. Wild polar bears, unlike most other bears, are barely habituated to people and will quickly size up any animal they encounter as potential prey. Males are normally solitary except for mating season, and females are usually social towards one another. Despite a recurring internet meme that all polar bears are left-handed,  .   .  there is no scientific evidence to support such a contention. Researchers studying polar bears have failed to find any evidence of left-handedness in all bears and one study of injury patterns in polar bear forelimbs found injuries to the right forelimb to be more frequent than those to the left, suggesting, perhaps, right-handedness.  .', mimetype='text/plain', start_char_idx=None, end_char_idx=None, text_template='{metadata_str}\\n\\n{content}', metadata_template='{key}: {value}', metadata_seperator='\\n'),\n",
       " Document(id_='8de1d1d0-2498-4320-bf1a-ec4f6b5da151', embedding=None, metadata={}, excluded_embed_metadata_keys=[], excluded_llm_metadata_keys=[], relationships={}, text=\"The polar bear is the most carnivorous member of the bear family. It feeds mainly on seals, especially ringed seals that poke holes in the ice to breathe,  .  but will eat anything it can kill: birds, eggs, rodents, shellfish, crabs, beluga whales, walrus calves, muskox, reindeer, and other polar bears. Although carnivorous, they have been observed to eat plants, including berries, roots, and kelp, however these do not form a significant part of their diet.  Its biology is specialized to digest fat from marine mammals and cannot derive much nutrition from terrestrial food.   ,    Most animals can easily outrun a polar bear on the open land or in the open water, and polar bears overheat quickly: thus the polar bear subsists almost entirely on live seals and walrus calves taken at the edge of sea-ice in the winter and spring, or on the carcasses of dead adult walruses or whales. They live off of their fat reserves through the late summer and early fall when the sea-ice is at a minimum.  They are enormously powerful predators, but they rarely kill adult walruses, which are twice the polar bear's weight, although such an adult walrus kill has been recorded on tape.  Polar bear vs Walrus   Humans are the only regular predators of polar bears, although the bears have occasionally been found in the stomachs of Orcas.  Orcinus orca Orca (Killer Whale) \", mimetype='text/plain', start_char_idx=None, end_char_idx=None, text_template='{metadata_str}\\n\\n{content}', metadata_template='{key}: {value}', metadata_seperator='\\n'),\n",
       " Document(id_='569d249d-18f1-404d-9755-bbf147dd808b', embedding=None, metadata={}, excluded_embed_metadata_keys=[], excluded_llm_metadata_keys=[], relationships={}, text='As a carnivore which feeds largely upon fish-eating carnivores, the polar bear ingests large amounts of vitamin A, which is stored in their livers. The resulting high concentrations make the liver poisonous to humans, causing Hypervitaminosis A.  .', mimetype='text/plain', start_char_idx=None, end_char_idx=None, text_template='{metadata_str}\\n\\n{content}', metadata_template='{key}: {value}', metadata_seperator='\\n'),\n",
       " Document(id_='e046e42c-02ec-4d55-a8d6-3aa6f5a853a1', embedding=None, metadata={}, excluded_embed_metadata_keys=[], excluded_llm_metadata_keys=[], relationships={}, text='Polar bear diving in a zoo.', mimetype='text/plain', start_char_idx=None, end_char_idx=None, text_template='{metadata_str}\\n\\n{content}', metadata_template='{key}: {value}', metadata_seperator='\\n'),\n",
       " Document(id_='dc4bccf2-d6c7-4ad8-9739-d0124c1d0b66', embedding=None, metadata={}, excluded_embed_metadata_keys=[], excluded_llm_metadata_keys=[], relationships={}, text='Polar bears are excellent swimmers and have been seen in open Arctic waters as far as   from land. In some cases they spend half their time on ice floes. Their 12 cm (5 in) layer of fat adds buoyancy in addition to insulating them from the cold. Recently, polar bears in the Arctic have undertaken longer than usual swims to find prey, resulting in four recorded drownings in the unusually large ice pack regression of 2005.  .', mimetype='text/plain', start_char_idx=None, end_char_idx=None, text_template='{metadata_str}\\n\\n{content}', metadata_template='{key}: {value}', metadata_seperator='\\n'),\n",
       " Document(id_='b94d9215-56df-4a8f-8d56-a5765b050344', embedding=None, metadata={}, excluded_embed_metadata_keys=[], excluded_llm_metadata_keys=[], relationships={}, text='Polar bears, being both curious and scavengers   will, where they come into contact with humans, investigate and consume garbage.  This has been documented at the dump in Churchill, Manitoba prior to its closure.  .  Polar bears may attempt to consume almost anything they can find, including hazardous substances such as styrofoam, plastic, car batteries, ethylene glycol, hydraulic fluid, and motor oil.  .   .  To protect the bears, the Churchill dump was closed in 2006. Garbage is now recycled or transported to Thompson, Manitoba.  Hudson Bay Post', mimetype='text/plain', start_char_idx=None, end_char_idx=None, text_template='{metadata_str}\\n\\n{content}', metadata_template='{key}: {value}', metadata_seperator='\\n'),\n",
       " Document(id_='fc9d12a4-4dac-42c3-8028-8401d3327a5b', embedding=None, metadata={}, excluded_embed_metadata_keys=[], excluded_llm_metadata_keys=[], relationships={}, text=\"Polar bears accumulate high levels of artificial halocarbons such as PCBs and pesticides because of their diet. Their position at the top of the food pyramid tends to concentrate pollutants, particularly halocarbons because of their lipophilicity: halocarbons are soluble in the blubber which makes up the bulk of the polar bear's diet. Halocarbons are known to be toxic to other animals because they mimic hormone chemistry, and biomarkers such as immunoglobulin G and retinol suggest similar effects on polar bears. The overall significance to population health is uncertain because of unique features of polar bear biology such as summertime fasting. PCBs have received the most study, and they have been associated with birth defects and immune system deficiency.  .  Polar bears in Svalbard have the highest concentrations of PCBs, and biologists suggest this may explain the high incidence of hermaphroditic bears in the area.  .\", mimetype='text/plain', start_char_idx=None, end_char_idx=None, text_template='{metadata_str}\\n\\n{content}', metadata_template='{key}: {value}', metadata_seperator='\\n'),\n",
       " Document(id_='ab4f8e3d-ca3a-4c59-8916-9fb28b62a372', embedding=None, metadata={}, excluded_embed_metadata_keys=[], excluded_llm_metadata_keys=[], relationships={}, text='The relevant chemicals have been classified as persistant organic pollutants by the UN, with the aim of discouraging their production. The most notorious of these, PCBs, DDT and other, have been banned, but their concentrations in polar bear tissues continued to rise for decades as these chemicals spread upwards on the food pyramid. The most recent data now indicates a decreasing trend.  .', mimetype='text/plain', start_char_idx=None, end_char_idx=None, text_template='{metadata_str}\\n\\n{content}', metadata_template='{key}: {value}', metadata_seperator='\\n'),\n",
       " Document(id_='1ef357a5-e73c-4cc7-a4b4-d5c4d77eb5c0', embedding=None, metadata={}, excluded_embed_metadata_keys=[], excluded_llm_metadata_keys=[], relationships={}, text='Mother with cub at Svalbard', mimetype='text/plain', start_char_idx=None, end_char_idx=None, text_template='{metadata_str}\\n\\n{content}', metadata_template='{key}: {value}', metadata_seperator='\\n'),\n",
       " Document(id_='794399ad-3ccd-46f1-84f8-f230511af0ae', embedding=None, metadata={}, excluded_embed_metadata_keys=[], excluded_llm_metadata_keys=[], relationships={}, text='A mother and cubs in Churchill, Manitoba', mimetype='text/plain', start_char_idx=None, end_char_idx=None, text_template='{metadata_str}\\n\\n{content}', metadata_template='{key}: {value}', metadata_seperator='\\n'),\n",
       " Document(id_='c461c509-91e5-482b-977f-c665e5aadb67', embedding=None, metadata={}, excluded_embed_metadata_keys=[], excluded_llm_metadata_keys=[], relationships={}, text='Polar bears mate in April/May over a one week period needed to induce ovulation. The fertilized egg then remains in a suspended state until August or September. During these 4 months, the females then eat prodigial amounts in preparation for pregnancy, doubling their body weight or more. When food becomes scarce in August because of ice breakup, they dig a maternity den in a snow drift and enter a dormant state similar to hibernation. In areas where food is available year-round, they may not enter a den until October. Cubs are born in December without awakening the mother. She remains dormant while nursing her cubs until the family emerges from the den in March. Cubs are weaned at two or three years of age and are separated from their mother. Sexual maturity typically comes at the age of four, but may be delayed by up to two years.', mimetype='text/plain', start_char_idx=None, end_char_idx=None, text_template='{metadata_str}\\n\\n{content}', metadata_template='{key}: {value}', metadata_seperator='\\n'),\n",
       " Document(id_='671d019c-a8f3-4104-b3d0-d385521ec734', embedding=None, metadata={}, excluded_embed_metadata_keys=[], excluded_llm_metadata_keys=[], relationships={}, text=\"In the 1990's less than 20% cubs in the Western Hudson Bay were weaned at eighteen months, as opposed to 40% of cubs in the early 1980's.\", mimetype='text/plain', start_char_idx=None, end_char_idx=None, text_template='{metadata_str}\\n\\n{content}', metadata_template='{key}: {value}', metadata_seperator='\\n'),\n",
       " Document(id_='f1fc8d59-67d5-484d-ae7d-015146ad2a15', embedding=None, metadata={}, excluded_embed_metadata_keys=[], excluded_llm_metadata_keys=[], relationships={}, text='In Alaska, the United States Geological Survey reports that 42 percent of cubs now reach 12 months of age, down from 65 percent 15 years ago.  In other words, less than two of every three cubs that survived 15 years ago are now making it past their first year.', mimetype='text/plain', start_char_idx=None, end_char_idx=None, text_template='{metadata_str}\\n\\n{content}', metadata_template='{key}: {value}', metadata_seperator='\\n'),\n",
       " Document(id_='f0922ba5-7e70-482d-8af7-4752b99ccd93', embedding=None, metadata={}, excluded_embed_metadata_keys=[], excluded_llm_metadata_keys=[], relationships={}, text='The USGS has also published research which purports that the percentage of Alaskan polar bears that den on sea ice has changed from 62% between the years 1985-1994, to 37% over the years 1998-2004. The Alaskan population thus now more resembles the world population, in that it is more likely to den on land.  .', mimetype='text/plain', start_char_idx=None, end_char_idx=None, text_template='{metadata_str}\\n\\n{content}', metadata_template='{key}: {value}', metadata_seperator='\\n'),\n",
       " Document(id_='b843fe35-86f9-43c0-828c-029a99051466', embedding=None, metadata={}, excluded_embed_metadata_keys=[], excluded_llm_metadata_keys=[], relationships={}, text=' Projected change in polar bear habitat from 2001â\\x80\\x932010 to 2041â\\x80\\x932050.  From USGS', mimetype='text/plain', start_char_idx=None, end_char_idx=None, text_template='{metadata_str}\\n\\n{content}', metadata_template='{key}: {value}', metadata_seperator='\\n'),\n",
       " Document(id_='2e11be7c-2721-4a1d-acff-0bf314976cac', embedding=None, metadata={}, excluded_embed_metadata_keys=[], excluded_llm_metadata_keys=[], relationships={}, text=\"The World Conservation Union listed polar bears as a vulnerable species, one of three sub-categories of threatened status, in May 2006.    Their latest estimate is that 7 out of 19 subpopulations are declining or already severely reduced.  The United States Geological Survey forecasts that two-thirds of the world's polar bears will disappear by 2050, based on moderate projections for the shrinking of summer sea ice caused by global warming.    The bears would disappear from Europe, Asia, and Alaska, and be depleted from the Arctic archipelago of Canada and areas off the northern Greenland coast. By 2080 they would disappear from Greenland entirely and from the northern Canadian coast, leaving only dwindling numbers in the interior Arctic archipelago.\", mimetype='text/plain', start_char_idx=None, end_char_idx=None, text_template='{metadata_str}\\n\\n{content}', metadata_template='{key}: {value}', metadata_seperator='\\n'),\n",
       " Document(id_='4a6435e3-f1ee-458e-8ea4-b44d0faacc48', embedding=None, metadata={}, excluded_embed_metadata_keys=[], excluded_llm_metadata_keys=[], relationships={}, text='Global warming has already had an impact on polar bear population health and size. Recent declines in polar bear numbers can be linked to the retreat of sea ice and its formation later in the year. Ice is also breaking up earlier in the year, forcing bears ashore before they have time to build up sufficient fat stores, or forcing them to swim long distances, which may exhaust them, leading to drowning.  The results of these effects of global warming have been thinner, stressed bears, decreased reproduction, and lower juvenile survival rates.   The Humane Society of the United States \"Threats to the Polar Bear\\'s Survival\"', mimetype='text/plain', start_char_idx=None, end_char_idx=None, text_template='{metadata_str}\\n\\n{content}', metadata_template='{key}: {value}', metadata_seperator='\\n'),\n",
       " Document(id_='91229969-872c-44a1-9905-b805137d180f', embedding=None, metadata={}, excluded_embed_metadata_keys=[], excluded_llm_metadata_keys=[], relationships={}, text='Polar bear', mimetype='text/plain', start_char_idx=None, end_char_idx=None, text_template='{metadata_str}\\n\\n{content}', metadata_template='{key}: {value}', metadata_seperator='\\n'),\n",
       " Document(id_='95efc6c1-e4ab-492e-92d8-051d7f1505f7', embedding=None, metadata={}, excluded_embed_metadata_keys=[], excluded_llm_metadata_keys=[], relationships={}, text='Because of the inaccessibility of the Arctic, there has never been a comprehensive global survey of polar bears, making it difficult to establish a global trend. The earliest preliminary estimates of the global population were around 5,000-10,000 in the early 1970s, but this was revised to 20,000-40,000 in the 1980s.    Part of this increase may indicate recovery as a result of conservation measures implemented in the early 1970s, but it is principally a revised estimate based on a growing base of data.  Current estimates bound the global population between 20,000-25,000.  Long-term studies of local populations of polar bears show they have been shrinking in the Western Hudson Bay and Baffin Bay areas, and are under stress in the Southern Beaufort Sea area.   In the Western Hudson Bay in Canada, for example, there were an estimated 1194 polar bears in 1987, and 935 in 2004.  .', mimetype='text/plain', start_char_idx=None, end_char_idx=None, text_template='{metadata_str}\\n\\n{content}', metadata_template='{key}: {value}', metadata_seperator='\\n'),\n",
       " Document(id_='97b09e95-c926-44e9-8518-192d56b19b39', embedding=None, metadata={}, excluded_embed_metadata_keys=[], excluded_llm_metadata_keys=[], relationships={}, text='The need for species protection has been disputed by two professionals: H. Sterling Burnett and Mitchell K. Taylor. Burnett, a Senior Fellow of the right-wing advocacy group National Center for Policy Analysis, has claimed that the total global population of polar bears increased from 5,000 to 25,000 between the 1970s and 2007.    Mitchell Taylor, the Nunavut Government Manager of Wildlife Research, wrote a letter to the U.S. Fish and Wildlife Service arguing that local studies are insufficient evidence for global protection at this time.    These two people have attracted disproportionate media attention, even though their views are refuted by all polar bear scientists.  .   PBI Ask the Experts', mimetype='text/plain', start_char_idx=None, end_char_idx=None, text_template='{metadata_str}\\n\\n{content}', metadata_template='{key}: {value}', metadata_seperator='\\n'),\n",
       " Document(id_='0edce4aa-ca87-41a0-8d51-19c42e65fcb2', embedding=None, metadata={}, excluded_embed_metadata_keys=[], excluded_llm_metadata_keys=[], relationships={}, text=\"First polar bear shot in the S. A. AndrÃ©e's Arctic balloon expedition of 1897.\", mimetype='text/plain', start_char_idx=None, end_char_idx=None, text_template='{metadata_str}\\n\\n{content}', metadata_template='{key}: {value}', metadata_seperator='\\n'),\n",
       " Document(id_='46be224d-5ab9-4f23-a4ff-84bdbbd141bc', embedding=None, metadata={}, excluded_embed_metadata_keys=[], excluded_llm_metadata_keys=[], relationships={}, text='Hunters from around the Arctic have harvested hundreds of polar bears annually since at least the 18th century.  The harvest grew rapidly in the 1960\\'s, peaking around 1968 with a global total of 1250 bears that year.    Although the polar bear was not deemed endangered at the time, the growing threat encouraged countries to regulate polar bear hunting around that time. Norway passed a series of increasingly strict regulations from 1965 to 1973. Canada began imposing hunting quotas in 1968. The U.S. began regulating in 1971 and adopted the Marine Mammal Protection Act in 1972. In 1973 the International Agreement on the Conservation of Polar Bears (known as the Oslo Agreement among experts) was signed by the five nations whose Arctic territory is inhabited by polar bears: U.S., Canada, Norway, Denmark (via its territory Greenland) and Russia (then the Soviet Union). Although the agreement is not enforceable in itself, member countries agreed to place restrictions on recreational and commercial hunting, completely ban hunting from aircraft and icebreakers), and conduct further research.  International Agreement on the Conservation of Polar Bears, November 15, 1973, Oslo    Climate Change, Polar Bears, and International Law, Nigel Bankes, University of Calgary Faculty of Law. (DRAFT. Not for quotation.)  The treaty allows hunting \"by local people using traditional methods,\" although this has been liberally interpreted by member nations. All nations except Norway allow hunting by the Inuit, and Canada and Denmark allow trophy hunting by tourists.', mimetype='text/plain', start_char_idx=None, end_char_idx=None, text_template='{metadata_str}\\n\\n{content}', metadata_template='{key}: {value}', metadata_seperator='\\n'),\n",
       " Document(id_='6d9381c6-0f5d-4e5e-b74b-4011c6e3018f', embedding=None, metadata={}, excluded_embed_metadata_keys=[], excluded_llm_metadata_keys=[], relationships={}, text='Many environmental and animal protection groups fear that global warming will have a tremendous impact on the viability of polar bear populations and fear that continued trophy hunting will have further negative consequences.', mimetype='text/plain', start_char_idx=None, end_char_idx=None, text_template='{metadata_str}\\n\\n{content}', metadata_template='{key}: {value}', metadata_seperator='\\n'),\n",
       " Document(id_='b6b24f6f-81df-411a-b6bf-3f9228021d70', embedding=None, metadata={}, excluded_embed_metadata_keys=[], excluded_llm_metadata_keys=[], relationships={}, text='Play fight', mimetype='text/plain', start_char_idx=None, end_char_idx=None, text_template='{metadata_str}\\n\\n{content}', metadata_template='{key}: {value}', metadata_seperator='\\n'),\n",
       " Document(id_='f8f05139-3d3e-4117-8da6-90a5e425093b', embedding=None, metadata={}, excluded_embed_metadata_keys=[], excluded_llm_metadata_keys=[], relationships={}, text=\"About 60% of the world's polar bears live in Canada,  where conservation laws are a provincial jurisdiction. Hunting quotas and restrictions relating to Indian status are in effect, but vary by province. About 500 bears are killed per year by humans across Canada,    a rate believed by scientists to be unsustainable in some areas, notably Baffin Bay.  Canada has allowed recreational hunters accompanied by local guides and dog-sled teams since 1970,    but the practice was not common until the 1980s.  Conservation initiatives conflict with northern resident's income from fur trade and recreational hunting, which can bring in $20,000 to $35,000 Canadian dollars per bear, mostly from American hunters.    Inuit are skeptical of conservation concerns because of increases in bear sightings near settlement in recent years.\", mimetype='text/plain', start_char_idx=None, end_char_idx=None, text_template='{metadata_str}\\n\\n{content}', metadata_template='{key}: {value}', metadata_seperator='\\n'),\n",
       " Document(id_='291b06f4-2065-4595-b52c-a715fc901cf6', embedding=None, metadata={}, excluded_embed_metadata_keys=[], excluded_llm_metadata_keys=[], relationships={}, text='The territory of Nunavut accounts for 80% of Canadian kills.  Their government has condemned the American initiative to grant threatened status to polar bears,    and northern residents are strongly concerned about it.     In 2005 the Government of Nunavut increased the quota from 400 to 518 bears,  CBC News, 10 Jan 2005, \"Nunavut hunters can kill more polar bears this year\"  despite protests from some scientific groups.  CBC News, 4 Jul 2005, \"Rethink polar bear hunt quotas, scientists tell Nunavut hunters\"  While most of that quota is hunted by the indigenous Inuit people, a growing share is sold to recreational hunters. (0.8% in the 1970s, 7.1% in the 1980s, and 14.6% in the 1990s)  .  Nunavut polar bear biologist, M.K. Taylor, who is responsible for polar bear conservation in the territory, insists that bear numbers are being sustained under current hunting limits.', mimetype='text/plain', start_char_idx=None, end_char_idx=None, text_template='{metadata_str}\\n\\n{content}', metadata_template='{key}: {value}', metadata_seperator='\\n'),\n",
       " Document(id_='961ef86f-5291-421b-8af8-d6b3a1a65496', embedding=None, metadata={}, excluded_embed_metadata_keys=[], excluded_llm_metadata_keys=[], relationships={}, text='The Government of the Northwest Territories maintain their own quota of 72 - 103 bears within the Inuvialuit communities of which some are set aside for sports hunters.', mimetype='text/plain', start_char_idx=None, end_char_idx=None, text_template='{metadata_str}\\n\\n{content}', metadata_template='{key}: {value}', metadata_seperator='\\n'),\n",
       " Document(id_='eacaf12f-4cb8-4425-afda-78b231297206', embedding=None, metadata={}, excluded_embed_metadata_keys=[], excluded_llm_metadata_keys=[], relationships={}, text='Polar bears at the Detroit Zoo.', mimetype='text/plain', start_char_idx=None, end_char_idx=None, text_template='{metadata_str}\\n\\n{content}', metadata_template='{key}: {value}', metadata_seperator='\\n'),\n",
       " Document(id_='5e2b9241-6869-4fd0-b0e4-1ddea1fdb1b3', embedding=None, metadata={}, excluded_embed_metadata_keys=[], excluded_llm_metadata_keys=[], relationships={}, text='Because many marine mammal populations had plummeted due to over-hunting, the United States passed the federal Marine Mammal Protection Act in 1972, which prohibited the harassment, injuring or killing of all marine mammal species, including polar bears. This prohibited the importation of polar bear trophies into the U.S. by sport hunters.  The Humane Society of the United States \"What You Can Do to Protect Polar Bears\"', mimetype='text/plain', start_char_idx=None, end_char_idx=None, text_template='{metadata_str}\\n\\n{content}', metadata_template='{key}: {value}', metadata_seperator='\\n'),\n",
       " Document(id_='d585741d-e25e-4ef9-b4f4-2d1f4cc43fca', embedding=None, metadata={}, excluded_embed_metadata_keys=[], excluded_llm_metadata_keys=[], relationships={}, text='In 1994, the United States modified the Marine Mammal Protection Act, allowing the importation of sport-hunted polar bear trophies into the country and clearing the way for an increase in polar bear hunting. Since 1994, more than 800 sport-hunted polar bear trophies have been imported into the U.S.  The Humane Society of the United States \"Support the Polar Bear Protection Act\"  In May 2007, legislation was introduced in both houses of the United States Congress (H.R. 2327, called the Polar Bear Protection Act) to reverse the 1994 legislation and ban the importation of dead polar bears.  The Humane Society of the United States \"The Polar Bear Protection Act\" . On June 27 this legislation was defeated in congress and not passed.', mimetype='text/plain', start_char_idx=None, end_char_idx=None, text_template='{metadata_str}\\n\\n{content}', metadata_template='{key}: {value}', metadata_seperator='\\n'),\n",
       " Document(id_='72e50625-a6a0-4d52-9485-621da5a77c78', embedding=None, metadata={}, excluded_embed_metadata_keys=[], excluded_llm_metadata_keys=[], relationships={}, text='  American Hunter', mimetype='text/plain', start_char_idx=None, end_char_idx=None, text_template='{metadata_str}\\n\\n{content}', metadata_template='{key}: {value}', metadata_seperator='\\n'),\n",
       " Document(id_='d1bbd443-1ee9-4bf5-9aa0-99fd7fa3761f', embedding=None, metadata={}, excluded_embed_metadata_keys=[], excluded_llm_metadata_keys=[], relationships={}, text='In February 2005 the environmental group, Center for Biological Diversity, with broad support from environmentalists, petitioned the United States Fish and Wildlife Service (FWS), part of the Department of the Interior to use the Endangered Species Act and list the bears as a threatened species.     The FWS did not respond to the petition, despite being required to do so within 90 days under United States law.  On December 14 2006 the Center for Biological Diversity along with Greenpeace and the Natural Resources Defense Council filed a lawsuit in California.', mimetype='text/plain', start_char_idx=None, end_char_idx=None, text_template='{metadata_str}\\n\\n{content}', metadata_template='{key}: {value}', metadata_seperator='\\n'),\n",
       " Document(id_='202bc656-fbf0-4338-97df-891a59bc3b2a', embedding=None, metadata={}, excluded_embed_metadata_keys=[], excluded_llm_metadata_keys=[], relationships={}, text='On December 27, 2006, the United States Department of the Interior in agreement with the three groups proposed that polar bears be added to the endangered species list, the first change of this type to be attributed to global warming. It will take up to a year to make the final determination.    The Natural Resources Defense Council contends that though it is \"a big step forward\" the proposal fails to identify global warming pollution as the cause of rising Arctic temperatures and vanishing sea ice. In addition, it says the proposal offered by Dr. Rosa Meehan, Supervisor of the U.S. Fish and Wildlife Service, does not designate any of the land discussed as the kind of habitat that is essential for the polar bear\\'s survival as \"critical habitat\" that could help the bear recover.  Global Warming Threatens Polar Bears with Extinction!   Tell the Bush Administration to protect polar bears and their critical habitat', mimetype='text/plain', start_char_idx=None, end_char_idx=None, text_template='{metadata_str}\\n\\n{content}', metadata_template='{key}: {value}', metadata_seperator='\\n'),\n",
       " Document(id_='67e135a9-3872-40d0-9779-52bea3e3570a', embedding=None, metadata={}, excluded_embed_metadata_keys=[], excluded_llm_metadata_keys=[], relationships={}, text='Russia declared a complete protection in 1955,  but allows hunting by the indigenous people on the basis that it is part of their culture. It signed the Agreement between the Government of the United States of America and the Government of the Russian Federation on the Conservation and Management of the Alaska-Chukotka Polar Bear Population in October 2000.', mimetype='text/plain', start_char_idx=None, end_char_idx=None, text_template='{metadata_str}\\n\\n{content}', metadata_template='{key}: {value}', metadata_seperator='\\n'),\n",
       " Document(id_='cb682428-680e-4f67-a067-10bff1f19726', embedding=None, metadata={}, excluded_embed_metadata_keys=[], excluded_llm_metadata_keys=[], relationships={}, text='Until 2005, Greenland placed no limit on hunting by indigenous people. In 2005, it imposed a limit of 150 for 2006. It also allowed recreational hunting for the first time.  The Humane Society of the United States \"Hitting Polar Bears When They Are Down\"', mimetype='text/plain', start_char_idx=None, end_char_idx=None, text_template='{metadata_str}\\n\\n{content}', metadata_template='{key}: {value}', metadata_seperator='\\n'),\n",
       " Document(id_='6056cc4c-d881-4e1e-81da-bdec8981facc', embedding=None, metadata={}, excluded_embed_metadata_keys=[], excluded_llm_metadata_keys=[], relationships={}, text='Since 1973, Norway has had a complete ban on polar bear hunting.', mimetype='text/plain', start_char_idx=None, end_char_idx=None, text_template='{metadata_str}\\n\\n{content}', metadata_template='{key}: {value}', metadata_seperator='\\n'),\n",
       " Document(id_='428e2619-0712-4b9c-b651-5b2947a670e9', embedding=None, metadata={}, excluded_embed_metadata_keys=[], excluded_llm_metadata_keys=[], relationships={}, text='thumbPolar bears have been made both controversial and famous for their distinctive white fur and their habitat. Companies like Coca-Cola, Polar Beverages, Nelvana, Bundaberg Rum and Good Humor-Breyers have used images of this bear in logos. The first has consistently displayed the bears as thriving near penguins, though the animals naturally live in opposite hemispheres. The Canadian 2-dollar coin (right) features the image of a polar bear. The panserbjÃ¸rne of the fantasy trilogy His Dark Materials are polar bears with human-level intelligence. The TV series Lost has featured polar bears on a mysterious tropical island where they are portrayed as fearsome beasts. Also, a polar bear was chosen as mascot for the 1988 Winter Olympics held in Calgary, Canada. The Polar Bear is the mascot of Bowdoin college. Both the Northwest Territories and Nunavut in Canada have a licence plate in the shape of a polar bear. East, a young adult book by prolific writer Edith Pattou weaves a story around a mysterious ice bear held in an enchantment by The Troll Queen. East is an ALA Notable Book and is a retelling of the classic story of Beauty and the Beast.', mimetype='text/plain', start_char_idx=None, end_char_idx=None, text_template='{metadata_str}\\n\\n{content}', metadata_template='{key}: {value}', metadata_seperator='\\n'),\n",
       " Document(id_='37f67add-dd5c-4a1c-9b07-f59f13de85a0', embedding=None, metadata={}, excluded_embed_metadata_keys=[], excluded_llm_metadata_keys=[], relationships={}, text=\"Charles Augustin de Coulomb (born June 14, 1736, AngoulÃªme, France - died August 23, 1806, Paris, France) was a French physicist. He is best known for developing Coulomb's law: the definition of the electrostatic force of attraction and repulsion. The SI unit of charge, the coulomb, was named after him.\", mimetype='text/plain', start_char_idx=None, end_char_idx=None, text_template='{metadata_str}\\n\\n{content}', metadata_template='{key}: {value}', metadata_seperator='\\n'),\n",
       " Document(id_='c7b2f041-9263-4a77-b8e0-dbdc5b9268fa', embedding=None, metadata={}, excluded_embed_metadata_keys=[], excluded_llm_metadata_keys=[], relationships={}, text=\"Coulomb was born in AngoulÃªme, France, to a well to do family. His father, Henri Coulomb, was inspector of the Royal Fields in Montpellier. His mother, Catherine Bajet, came from a wealthy family in the wool trade. When Coulomb was a boy the family moved to Paris, and there Coulomb studied at the prestigious CollÃ¨ge des Quatre-Nations. The courses of mathematics there under Pierre Charles Monnier made him decide to pursue mathematics and the similar subjects as a career. From 1757 to 1759 he joined his father's family in Montpellier and took part in the work of the academy of the city, directed by the mathematician Augustin Danyzy. With his father's approval, Coulomb returned to Paris in 1759  to  successfully study for the entrance examination at the military school at MÃ©ziÃ¨res.\", mimetype='text/plain', start_char_idx=None, end_char_idx=None, text_template='{metadata_str}\\n\\n{content}', metadata_template='{key}: {value}', metadata_seperator='\\n'),\n",
       " Document(id_='c146dfbd-793f-4ad9-878e-d2908238b4df', embedding=None, metadata={}, excluded_embed_metadata_keys=[], excluded_llm_metadata_keys=[], relationships={}, text=\"At his exit from the school in 1761, he initially took part in the survey for the British coastal charts, then was sent on mission to Martinique in 1764  to take part in the construction of the Fort Bourbon under the orders of the lieutenant-colonel of Rochemore, as the French colony was insulated in the middle of the English and Spanish possessions following the Seven Years' War. Coulomb spent eight years directing the work, contracting tropical fever. He carried out several experiments on the resistance of masonries and the behaviour of the walls of escarpe (supportings), which were inspired by the ideas of Pieter van Musschenbroek on friction.\", mimetype='text/plain', start_char_idx=None, end_char_idx=None, text_template='{metadata_str}\\n\\n{content}', metadata_template='{key}: {value}', metadata_seperator='\\n'),\n",
       " Document(id_='bfcf1691-606e-486b-a22a-a2b2de77ffd3', embedding=None, metadata={}, excluded_embed_metadata_keys=[], excluded_llm_metadata_keys=[], relationships={}, text=\"Upon his return, with the rank of Captain, he was employed at La Rochelle, the Isle of Aix and Cherbourg. He discovered an inverse relationship of the force between electric charges and the square of its distance, later named after him as Coulomb's law.\", mimetype='text/plain', start_char_idx=None, end_char_idx=None, text_template='{metadata_str}\\n\\n{content}', metadata_template='{key}: {value}', metadata_seperator='\\n'),\n",
       " Document(id_='772d61b5-5b6f-479b-b3a3-59a5964304df', embedding=None, metadata={}, excluded_embed_metadata_keys=[], excluded_llm_metadata_keys=[], relationships={}, text='In 1781, he was stationed permanently at Paris. On the outbreak of the Revolution in 1789, he resigned his appointment as intendant des eaux et fontaines, and retired to a small estate which he possessed at Blois. He was recalled to Paris for a time in order to take part in the new determination of weights and measures, which had been decreed by the Revolutionary government. He was one of the first members of the National Institute; he was appointed inspector of public instruction in 1802 . But his health was already very feeble, and four years later he died in Paris, France.', mimetype='text/plain', start_char_idx=None, end_char_idx=None, text_template='{metadata_str}\\n\\n{content}', metadata_template='{key}: {value}', metadata_seperator='\\n'),\n",
       " Document(id_='26c4fd0a-5bc8-4bc2-9dd0-8e5ec8954fb4', embedding=None, metadata={}, excluded_embed_metadata_keys=[], excluded_llm_metadata_keys=[], relationships={}, text='Coulomb leaves a legacy as a hero in the field of geotechnical engineering for his contribution to retaining wall design.', mimetype='text/plain', start_char_idx=None, end_char_idx=None, text_template='{metadata_str}\\n\\n{content}', metadata_template='{key}: {value}', metadata_seperator='\\n'),\n",
       " Document(id_='5653654d-757f-4281-b4e8-da0cd2a29456', embedding=None, metadata={}, excluded_embed_metadata_keys=[], excluded_llm_metadata_keys=[], relationships={}, text='Coulomb is distinguished in the history of mechanics and of electricity and magnetism. In 1779  he published an important investigation of the laws of friction, ThÃ©orie des machines simples, en ayant Ã©gard au frottement de leurs parties et Ã\\xa0 la roideur des cordages (Theory of simple machines with regard for the friction of their parts and the tension of the ropes), which was followed twenty years later by a memoir on viscosity.', mimetype='text/plain', start_char_idx=None, end_char_idx=None, text_template='{metadata_str}\\n\\n{content}', metadata_template='{key}: {value}', metadata_seperator='\\n'),\n",
       " Document(id_='c3153def-a455-4b30-8d53-5810d38a2742', embedding=None, metadata={}, excluded_embed_metadata_keys=[], excluded_llm_metadata_keys=[], relationships={}, text=\"In 1784  his Recherches thÃ©oriques et expÃ©rimentales sur la force de torsion et sur l'Ã©lasticitÃ© des fils de metal  Histoire de lâ\\x80\\x99AcadÃ©mie Royale des Sciences, 229-269, 1784  (Theoretical research and experimentation on torsion and the elasticity of metal wire) appeared. This memoir contained a description of different forms of his torsion balance. He used the instrument with great success for the experimental investigation of the distribution of charge on surfaces, of the laws of electrical and magnetic force, and of the mathematical theory of which he may also be regarded as the founder.\", mimetype='text/plain', start_char_idx=None, end_char_idx=None, text_template='{metadata_str}\\n\\n{content}', metadata_template='{key}: {value}', metadata_seperator='\\n'),\n",
       " Document(id_='ee63746f-f99f-4517-8ab9-17e6369f8458', embedding=None, metadata={}, excluded_embed_metadata_keys=[], excluded_llm_metadata_keys=[], relationships={}, text=\"Coulomb's torsion balance\", mimetype='text/plain', start_char_idx=None, end_char_idx=None, text_template='{metadata_str}\\n\\n{content}', metadata_template='{key}: {value}', metadata_seperator='\\n'),\n",
       " Document(id_='674d9422-12dd-4d5e-b1c2-81b194ab9234', embedding=None, metadata={}, excluded_embed_metadata_keys=[], excluded_llm_metadata_keys=[], relationships={}, text='In 1785  Coulomb presented his three reports on Electricity and Magnetism:', mimetype='text/plain', start_char_idx=None, end_char_idx=None, text_template='{metadata_str}\\n\\n{content}', metadata_template='{key}: {value}', metadata_seperator='\\n'),\n",
       " Document(id_='5dbcb12c-4b90-4572-a41d-c73a82aef9f0', embedding=None, metadata={}, excluded_embed_metadata_keys=[], excluded_llm_metadata_keys=[], relationships={}, text='- Premier MÃ©moire sur lâ\\x80\\x99ElectricitÃ© et le MagnÃ©tisme  Histoire de lâ\\x80\\x99AcadÃ©mie Royale des Sciences, 569-577, 1785 . In this publication Coulomb describes â\\x80\\x9cHow to construct and use an electric balance (torsion balance) based on the property of the metal wires of having a reaction torsion force proportional to the torsion angleâ\\x80\\x9d.  Coulomb also experimentally determined the law that explains how â\\x80\\x9ctwo bodies electrified of the same kind of Electricity exert on each otherâ\\x80\\x9d.', mimetype='text/plain', start_char_idx=None, end_char_idx=None, text_template='{metadata_str}\\n\\n{content}', metadata_template='{key}: {value}', metadata_seperator='\\n'),\n",
       " Document(id_='4a71f0f1-6c82-4e43-a319-5484e392aedf', embedding=None, metadata={}, excluded_embed_metadata_keys=[], excluded_llm_metadata_keys=[], relationships={}, text='- SÃ©cond MÃ©moire sur lâ\\x80\\x99ElectricitÃ© et le MagnÃ©tisme  Histoire de lâ\\x80\\x99AcadÃ©mie Royale des Sciences, 578-611, 1785 . In this publication Coulomb carries out the â\\x80\\x9cdetermination according to which laws both the Magnetic and the Electric fluids act, either by repulsion or by attractionâ\\x80\\x9d.', mimetype='text/plain', start_char_idx=None, end_char_idx=None, text_template='{metadata_str}\\n\\n{content}', metadata_template='{key}: {value}', metadata_seperator='\\n'),\n",
       " Document(id_='2767260b-e0c1-4c43-ab28-782dc1e479e2', embedding=None, metadata={}, excluded_embed_metadata_keys=[], excluded_llm_metadata_keys=[], relationships={}, text='- TroisiÃ¨me MÃ©moire sur lâ\\x80\\x99ElectricitÃ© et le MagnÃ©tisme  Histoire de lâ\\x80\\x99AcadÃ©mie Royale des Sciences, 612-638, 1785 . â\\x80\\x9cOn the quantity of Electricity that an isolated body loses in a certain time period , either by contact with less humid air, or in the supports more or less idio-electricâ\\x80\\x9d.', mimetype='text/plain', start_char_idx=None, end_char_idx=None, text_template='{metadata_str}\\n\\n{content}', metadata_template='{key}: {value}', metadata_seperator='\\n'),\n",
       " Document(id_='51bc94bd-e5aa-4e89-aa8d-0ae174860b6e', embedding=None, metadata={}, excluded_embed_metadata_keys=[], excluded_llm_metadata_keys=[], relationships={}, text='Four subsequent reports were published in the following years:', mimetype='text/plain', start_char_idx=None, end_char_idx=None, text_template='{metadata_str}\\n\\n{content}', metadata_template='{key}: {value}', metadata_seperator='\\n'),\n",
       " Document(id_='1d9cbd2e-7ef8-41f4-9024-3c1e47e0ed63', embedding=None, metadata={}, excluded_embed_metadata_keys=[], excluded_llm_metadata_keys=[], relationships={}, text='- QuatriÃ¨me MÃ©moire  \"Where two principal properties of the electric fluid are demonstrated: first, that this fluid does not expand into any object according to a chemical affinity, or by an elective attraction, but that it divides itself between different objects brought into contact; second, that in conducting objects, the fluid, having achieved a state of stability, expands on the surface of the body and does not penetrate into the interior.\" (1786)', mimetype='text/plain', start_char_idx=None, end_char_idx=None, text_template='{metadata_str}\\n\\n{content}', metadata_template='{key}: {value}', metadata_seperator='\\n'),\n",
       " Document(id_='b48a5dfd-d63a-4642-9793-2e87699568a4', embedding=None, metadata={}, excluded_embed_metadata_keys=[], excluded_llm_metadata_keys=[], relationships={}, text='- CinquiÃ¨me MÃ©moire  \"On the manner in which the electric fluid divides itself between conducting objects brought into contact, and the distribution of this fluid on the different parts of the surface of this object.\" (1787)', mimetype='text/plain', start_char_idx=None, end_char_idx=None, text_template='{metadata_str}\\n\\n{content}', metadata_template='{key}: {value}', metadata_seperator='\\n'),\n",
       " Document(id_='42f4c286-db2c-469a-8084-dc96946c2a4d', embedding=None, metadata={}, excluded_embed_metadata_keys=[], excluded_llm_metadata_keys=[], relationships={}, text='- SixiÃ¨me MÃ©moire \"Continuation of research into the distribution of the electric fluid between several conductors. Determination of electric density at different points on the surface of these bodies.\" (1788)', mimetype='text/plain', start_char_idx=None, end_char_idx=None, text_template='{metadata_str}\\n\\n{content}', metadata_template='{key}: {value}', metadata_seperator='\\n'),\n",
       " Document(id_='79b5ac12-4218-4fea-8634-b43fec699163', embedding=None, metadata={}, excluded_embed_metadata_keys=[], excluded_llm_metadata_keys=[], relationships={}, text='- SeptiÃ¨me MÃ©moire. \"On magnetism\" (1789)', mimetype='text/plain', start_char_idx=None, end_char_idx=None, text_template='{metadata_str}\\n\\n{content}', metadata_template='{key}: {value}', metadata_seperator='\\n'),\n",
       " Document(id_='37626071-3fe8-46ef-b565-470a46bef272', embedding=None, metadata={}, excluded_embed_metadata_keys=[], excluded_llm_metadata_keys=[], relationships={}, text='Coulomb explained the laws of attraction and repulsion between electric charges and magnetic poles, although he did not find any relationship between the two phenomena.  He thought that the attraction and repulsion were due to different kinds of fluids.', mimetype='text/plain', start_char_idx=None, end_char_idx=None, text_template='{metadata_str}\\n\\n{content}', metadata_template='{key}: {value}', metadata_seperator='\\n'),\n",
       " Document(id_='a9211e1b-c851-4dc2-9897-e2024e816164', embedding=None, metadata={}, excluded_embed_metadata_keys=[], excluded_llm_metadata_keys=[], relationships={}, text='*  French National Library The MÃ©moires of Coulomb available in pdf format.', mimetype='text/plain', start_char_idx=None, end_char_idx=None, text_template='{metadata_str}\\n\\n{content}', metadata_template='{key}: {value}', metadata_seperator='\\n'),\n",
       " Document(id_='3732e07d-58a9-4574-968b-30705283431a', embedding=None, metadata={}, excluded_embed_metadata_keys=[], excluded_llm_metadata_keys=[], relationships={}, text='----', mimetype='text/plain', start_char_idx=None, end_char_idx=None, text_template='{metadata_str}\\n\\n{content}', metadata_template='{key}: {value}', metadata_seperator='\\n'),\n",
       " Document(id_='db2c36a4-eb66-401b-8e53-fe60d46b697e', embedding=None, metadata={}, excluded_embed_metadata_keys=[], excluded_llm_metadata_keys=[], relationships={}, text='Turtles are reptilians of the Order Testudines (all living turtles belong to the crown group Chelonia), most of whose body is shielded by a special bony or cartilaginous shell developed from their ribs. The Order Testudines includes both extant (living) and extinct species, the earliest known turtles being from around 215 million years ago,  /ref> making turtles one of the oldest reptile groups, and a much more ancient group than lizards and snakes.  About 300 species are alive today; some are highly endangered.', mimetype='text/plain', start_char_idx=None, end_char_idx=None, text_template='{metadata_str}\\n\\n{content}', metadata_template='{key}: {value}', metadata_seperator='\\n'),\n",
       " Document(id_='a9b872d8-c5f2-4408-aa13-5d25077b4b07', embedding=None, metadata={}, excluded_embed_metadata_keys=[], excluded_llm_metadata_keys=[], relationships={}, text='Like other reptiles, turtles are ectothermic (or \"cold-blooded\" Reptile blood isn\\'t necessarily cold, as reptiles sun themselves and take other measures to stay warm. ). Like other amniotes (reptiles, dinosaurs, birds, and mammals), they breathe air and don\\'t lay eggs underwater, though many species live in or around water. The largest turtles are aquatic.', mimetype='text/plain', start_char_idx=None, end_char_idx=None, text_template='{metadata_str}\\n\\n{content}', metadata_template='{key}: {value}', metadata_seperator='\\n'),\n",
       " Document(id_='5ee6cbe7-9dd6-4e1c-a24d-ebdb0e73ac50', embedding=None, metadata={}, excluded_embed_metadata_keys=[], excluded_llm_metadata_keys=[], relationships={}, text='An American map turtle hatchling.', mimetype='text/plain', start_char_idx=None, end_char_idx=None, text_template='{metadata_str}\\n\\n{content}', metadata_template='{key}: {value}', metadata_seperator='\\n'),\n",
       " Document(id_='bb1655e8-6ca2-4db7-b482-f10492fdc4ff', embedding=None, metadata={}, excluded_embed_metadata_keys=[], excluded_llm_metadata_keys=[], relationships={}, text='Even though many turtles spend large amounts of their lives underwater, all turtles and tortoises breathe air, and must surface at regular intervals to refill their lungs. They can also spend much of their lives on dry land. Aquatic respiration in Australian freshwater turtles is currently being studied. Some species have large cloacal cavities that are lined with many finger-like projections. These projections, called \"papillae\", have a rich blood supply, and serve to increase the surface area of the cloaca. The turtles can take up dissolved oxygen from the water using these papillae, in much the same way that fish use gills to respire.', mimetype='text/plain', start_char_idx=None, end_char_idx=None, text_template='{metadata_str}\\n\\n{content}', metadata_template='{key}: {value}', metadata_seperator='\\n'),\n",
       " Document(id_='2bafbe49-de52-4cf0-a578-5a24a3661a9c', embedding=None, metadata={}, excluded_embed_metadata_keys=[], excluded_llm_metadata_keys=[], relationships={}, text='Turtles lay eggs, like other reptiles, which are slightly soft and leathery. The eggs of the largest species are spherical, while the eggs of the rest are elongated. Their albumen is white and contains a different protein than bird eggs, such that it will not coagulate when cooked. Turtle eggs prepared to eat consist mainly of yolk. In some species, temperature determines whether an egg develops into a male or a female: a higher temperature causes a female, a lower temperature causes a male. Large numbers of eggs are deposited in holes dug into mud or sand. They are then covered and left to incubate by themselves.  When the turtles hatch they squirm their way to the surface and make for the water. There are no known species wherein the mother cares for the young.', mimetype='text/plain', start_char_idx=None, end_char_idx=None, text_template='{metadata_str}\\n\\n{content}', metadata_template='{key}: {value}', metadata_seperator='\\n'),\n",
       " Document(id_='35bfd579-34bf-4369-8db0-6a6ff263ec25', embedding=None, metadata={}, excluded_embed_metadata_keys=[], excluded_llm_metadata_keys=[], relationships={}, text='Sea turtles lay their eggs on dry sandy beaches. Immature sea turtles are not cared for by the adults. Most are endangered largely as a result of beach development and over hunting.', mimetype='text/plain', start_char_idx=None, end_char_idx=None, text_template='{metadata_str}\\n\\n{content}', metadata_template='{key}: {value}', metadata_seperator='\\n'),\n",
       " Document(id_='b24f6c6a-4e9e-4128-8b46-f9e5739d827e', embedding=None, metadata={}, excluded_embed_metadata_keys=[], excluded_llm_metadata_keys=[], relationships={}, text='Turtles can take many years to reach breeding age. Often turtles only breed every few years or more.', mimetype='text/plain', start_char_idx=None, end_char_idx=None, text_template='{metadata_str}\\n\\n{content}', metadata_template='{key}: {value}', metadata_seperator='\\n'),\n",
       " Document(id_='ce489d75-8faf-40c6-826a-b2627c09146d', embedding=None, metadata={}, excluded_embed_metadata_keys=[], excluded_llm_metadata_keys=[], relationships={}, text='Researchers have recently discovered a turtleâ\\x80\\x99s organs do not gradually break down or become less efficient over time, unlike most other animals. It was found that the liver, lungs and kidneys of a centenarian turtle are virtually indistinguishable from those of its immature counterpart. This has inspired genetic researchers to begin examining the turtle genome for longevity genes.  All but Ageless, Turtles Face Their Biggest Threat: Humans', mimetype='text/plain', start_char_idx=None, end_char_idx=None, text_template='{metadata_str}\\n\\n{content}', metadata_template='{key}: {value}', metadata_seperator='\\n'),\n",
       " Document(id_='51ee3d62-2833-4914-b3eb-421e6134800e', embedding=None, metadata={}, excluded_embed_metadata_keys=[], excluded_llm_metadata_keys=[], relationships={}, text='Turtles are divided into three suborders, one of which, the Paracryptodira, is extinct. The two extant suborders are the Cryptodira and the Pleurodira. The Cryptodira is the larger of the two groups and includes all the marine turtles, the terrestrial tortoises, and many of the freshwater turtles. The Pleurodira are sometimes known as the side-necked turtles, a reference to the way they withdraw their heads into their shells. This smaller group consists primarily of various freshwater turtles.', mimetype='text/plain', start_char_idx=None, end_char_idx=None, text_template='{metadata_str}\\n\\n{content}', metadata_template='{key}: {value}', metadata_seperator='\\n'),\n",
       " Document(id_='a2a67e63-29ff-4472-979b-df2e6f390d9e', embedding=None, metadata={}, excluded_embed_metadata_keys=[], excluded_llm_metadata_keys=[], relationships={}, text='Different animals are called turtles, tortoises, or terrapins in different varieties of English', mimetype='text/plain', start_char_idx=None, end_char_idx=None, text_template='{metadata_str}\\n\\n{content}', metadata_template='{key}: {value}', metadata_seperator='\\n'),\n",
       " Document(id_='a2a97e10-8325-42af-9281-052987d4297c', embedding=None, metadata={}, excluded_embed_metadata_keys=[], excluded_llm_metadata_keys=[], relationships={}, text='Turtles, particularly small terrestrial and freshwater turtles, are commonly kept as pets. Among the most popular are Russian Tortoises, Greek spur-thighed tortoises and red-ear sliders (or terrapin). David Alderton (1986). An Interpet Guide to Reptiles & Amphibians, Salamander Books Ltd., London & New York.', mimetype='text/plain', start_char_idx=None, end_char_idx=None, text_template='{metadata_str}\\n\\n{content}', metadata_template='{key}: {value}', metadata_seperator='\\n'),\n",
       " Document(id_='75bfd9b9-fb66-4acd-afc8-a30cc22b0fd4', embedding=None, metadata={}, excluded_embed_metadata_keys=[], excluded_llm_metadata_keys=[], relationships={}, text='*Addyaita: a giant turtle of Aldabra. It was reportedly 250-years old when it died at Kolkata Zoo on March 24, 2005.', mimetype='text/plain', start_char_idx=None, end_char_idx=None, text_template='{metadata_str}\\n\\n{content}', metadata_template='{key}: {value}', metadata_seperator='\\n'),\n",
       " Document(id_='1fd2a47e-e2ac-4b9e-82c8-cea03e0bf823', embedding=None, metadata={}, excluded_embed_metadata_keys=[], excluded_llm_metadata_keys=[], relationships={}, text='* Iskandar, DT (2000). Turtles and Crocodiles of Insular Southeast Asia and New Guinea. ITB, Bandung.', mimetype='text/plain', start_char_idx=None, end_char_idx=None, text_template='{metadata_str}\\n\\n{content}', metadata_template='{key}: {value}', metadata_seperator='\\n'),\n",
       " Document(id_='7dfaf2c3-65f9-4cfc-8175-5a4597feb608', embedding=None, metadata={}, excluded_embed_metadata_keys=[], excluded_llm_metadata_keys=[], relationships={}, text='* Pritchard, Pether C H (1979). Encyclopedia of Turtles. T.F.H. Publications.', mimetype='text/plain', start_char_idx=None, end_char_idx=None, text_template='{metadata_str}\\n\\n{content}', metadata_template='{key}: {value}', metadata_seperator='\\n'),\n",
       " Document(id_='f6700a21-7d4d-4d0a-84d3-2b41051b99ac', embedding=None, metadata={}, excluded_embed_metadata_keys=[], excluded_llm_metadata_keys=[], relationships={}, text='*  Turtles of the World: Extensive information on all known turtles, tortoises and terrapins, including key and quiz.', mimetype='text/plain', start_char_idx=None, end_char_idx=None, text_template='{metadata_str}\\n\\n{content}', metadata_template='{key}: {value}', metadata_seperator='\\n'),\n",
       " Document(id_='6b6855c9-b9ea-45f8-afee-f284d48b45bf', embedding=None, metadata={}, excluded_embed_metadata_keys=[], excluded_llm_metadata_keys=[], relationships={}, text='*  - A website on all pet turtle species including a guide on caring for your turtles.', mimetype='text/plain', start_char_idx=None, end_char_idx=None, text_template='{metadata_str}\\n\\n{content}', metadata_template='{key}: {value}', metadata_seperator='\\n'),\n",
       " Document(id_='cace4f0d-ec31-4971-8966-4907603626ef', embedding=None, metadata={}, excluded_embed_metadata_keys=[], excluded_llm_metadata_keys=[], relationships={}, text='*  - Gulf Coast Turtle & Tortoise Society, A group dedicated to education & proper captive husbandry of turtles and tortoises.', mimetype='text/plain', start_char_idx=None, end_char_idx=None, text_template='{metadata_str}\\n\\n{content}', metadata_template='{key}: {value}', metadata_seperator='\\n'),\n",
       " Document(id_='7283088e-eb8a-4b03-801f-33792dba5f76', embedding=None, metadata={}, excluded_embed_metadata_keys=[], excluded_llm_metadata_keys=[], relationships={}, text=\"Singapore ( ;  ;  ,  ), officially the Republic of Singapore ( ;  ;  ,  ), is an island nation located at the southern tip of the Malay Peninsula. It lies 137 kilometres (85 mi) north of the Equator, south of the Malaysian state of Johor and north of Indonesia's Riau Islands. At 704.0 kmÂ² (272 sq mi), it is one of the few remaining city-states in the world and the smallest country in Southeast Asia.\", mimetype='text/plain', start_char_idx=None, end_char_idx=None, text_template='{metadata_str}\\n\\n{content}', metadata_template='{key}: {value}', metadata_seperator='\\n'),\n",
       " Document(id_='203f85f7-363d-4737-a44a-dca496e98f18', embedding=None, metadata={}, excluded_embed_metadata_keys=[], excluded_llm_metadata_keys=[], relationships={}, text='The British East India Company established a trading post on the island in 1819. The main settlement up to that point was a Malay fishing village at the mouth of the Singapore River. Several hundred indigenous Orang Laut people also lived around the coast, rivers and smaller islands. The British used Singapore as a strategic trading post along the spice route.    It became one of the most important commercial and military centres of the British Empire. Winston Churchill called it \"Britain\\'s greatest defeat\" when it was occupied by the Japanese during World War II.    Singapore reverted to British rule in 1945. In 1963, it merged with Malaya, Sabah and Sarawak to form Malaysia. Less than two years later it split from the federation and became an independent republic on 9 August 1965. Singapore was admitted to the United Nations on September 21 that same year.', mimetype='text/plain', start_char_idx=None, end_char_idx=None, text_template='{metadata_str}\\n\\n{content}', metadata_template='{key}: {value}', metadata_seperator='\\n'),\n",
       " Document(id_='9bc0c529-9d1d-41b3-a353-7d3bc0e8ee94', embedding=None, metadata={}, excluded_embed_metadata_keys=[], excluded_llm_metadata_keys=[], relationships={}, text=\"Since independence, Singapore's standard of living has increased progressively. A state-led industrialization drive, aided by foreign direct  investment has created a modern economy based on electronics manufacturing, petrochemicals, tourism and financial services alongside the traditional entrepÃ´t trade. Singapore is the 17th wealthiest country in the world in terms of GDP per capita.  \", mimetype='text/plain', start_char_idx=None, end_char_idx=None, text_template='{metadata_str}\\n\\n{content}', metadata_template='{key}: {value}', metadata_seperator='\\n'),\n",
       " Document(id_='5dea4d8c-3478-4805-bd9d-fb4766ab73ef', embedding=None, metadata={}, excluded_embed_metadata_keys=[], excluded_llm_metadata_keys=[], relationships={}, text='  Singapore is 44th (as on 2006).  The small nation has a foreign reserve of S$222 billion (US$147 billion).', mimetype='text/plain', start_char_idx=None, end_char_idx=None, text_template='{metadata_str}\\n\\n{content}', metadata_template='{key}: {value}', metadata_seperator='\\n'),\n",
       " Document(id_='824935e6-f36e-465b-ad31-a0bb8e1aa4c1', embedding=None, metadata={}, excluded_embed_metadata_keys=[], excluded_llm_metadata_keys=[], relationships={}, text=\"The Constitution of the Republic of Singapore established the nation's political system as a representative democracy, while the country is recognized as a parliamentary republic.      The People's Action Party (PAP) dominates the political process and has won control of Parliament in every election since self-government in 1959.\", mimetype='text/plain', start_char_idx=None, end_char_idx=None, text_template='{metadata_str}\\n\\n{content}', metadata_template='{key}: {value}', metadata_seperator='\\n'),\n",
       " Document(id_='212d7b23-7c8c-45b8-9fca-ccba6a600f4f', embedding=None, metadata={}, excluded_embed_metadata_keys=[], excluded_llm_metadata_keys=[], relationships={}, text='The name Singapura is derived from the Sanskrit words singa à®\\x9aà®¿à®\\x99à¯\\x8dà®\\x95     (\"lion\") and   à®ªà¯\\x81à®°   (\"city\").    According to the Malay Annals, this name was given by a 14th century Sumatran prince named Sang Nila Utama, who, landing on the island after a thunderstorm, spotted an auspicious beast on the shore that his chief minister identified as a lion.    ', mimetype='text/plain', start_char_idx=None, end_char_idx=None, text_template='{metadata_str}\\n\\n{content}', metadata_template='{key}: {value}', metadata_seperator='\\n'),\n",
       " Document(id_='06e72cd9-8c65-4e4f-9ef0-3599e7a34309', embedding=None, metadata={}, excluded_embed_metadata_keys=[], excluded_llm_metadata_keys=[], relationships={}, text='Recent studies of Singapore indicate that lions have never lived there (not even Asiatic lions), and the beast seen by Sang Nila Utama was likely a tiger, most likely the Malayan Tiger.', mimetype='text/plain', start_char_idx=None, end_char_idx=None, text_template='{metadata_str}\\n\\n{content}', metadata_template='{key}: {value}', metadata_seperator='\\n'),\n",
       " Document(id_='03f7185b-8485-47aa-834f-064392a4deaf', embedding=None, metadata={}, excluded_embed_metadata_keys=[], excluded_llm_metadata_keys=[], relationships={}, text='The Downtown Core of Singapore at dusk', mimetype='text/plain', start_char_idx=None, end_char_idx=None, text_template='{metadata_str}\\n\\n{content}', metadata_template='{key}: {value}', metadata_seperator='\\n'),\n",
       " Document(id_='ca61eb80-8429-4084-b336-4ea819f46b33', embedding=None, metadata={}, excluded_embed_metadata_keys=[], excluded_llm_metadata_keys=[], relationships={}, text=\"The first records of settlement in Singapore are from the second century AD.    The island was an outpost of the Sumatran Srivijaya empire and originally bore the Javanese name Temasek ('sea town'). Temasek (Tumasek) rapidly became a significant trading settlement, but declined in the late 14th century. There are few remnants of old Temasek in Singapore, but archaeologists in Singapore have uncovered artefacts of that and other settlements. Between the 16th and early 19th centuries, Singapore island was part of the Sultanate of Johor. During the Malay-Portugal wars in 1613, the settlement was set ablaze by Portuguese troops.    The Portuguese subsequently held control in that century and the Dutch in the 17th, but throughout most of this time the island's population consisted mainly of fishermen.\", mimetype='text/plain', start_char_idx=None, end_char_idx=None, text_template='{metadata_str}\\n\\n{content}', metadata_template='{key}: {value}', metadata_seperator='\\n'),\n",
       " Document(id_='1d0e9473-8617-4f49-93a9-3191e4f94897', embedding=None, metadata={}, excluded_embed_metadata_keys=[], excluded_llm_metadata_keys=[], relationships={}, text=\"On January 29 1819, Sir Thomas Stamford Raffles landed on the main island. Spotting its potential as a strategic geographical trading post in Southeast Asia, Raffles signed a treaty with Sultan Hussein Shah on behalf of the British East India Company to develop Singapore as a British trading post and settlement, marking the start of the island's modern era. Raffles's deputy, William Farquhar, oversaw a period of growth and ethnic migration, which was largely spurred by a no-restriction immigration policy. The British India office governed the island from 1858, but Singapore was made a British crown colony in 1867, answerable directly to the Crown. By 1869 the island boasted a sizeable community of 100,000.\", mimetype='text/plain', start_char_idx=None, end_char_idx=None, text_template='{metadata_str}\\n\\n{content}', metadata_template='{key}: {value}', metadata_seperator='\\n'),\n",
       " Document(id_='ab725b6a-dbf5-4dde-8922-2e2f9a4d147d', embedding=None, metadata={}, excluded_embed_metadata_keys=[], excluded_llm_metadata_keys=[], relationships={}, text='The early onset of town planning in colonial Singapore came largely through a \"divide and rule\" framework where the different ethnic groups were settled in different parts of the South of the island. The Singapore River was largely a commercial area that was dominated by traders and bankers of various ethnic groups with mostly Chinese and Indian coolies working to load and unload goods from barge boats known locally as \"bumboats\". The Malays, consisting of the local \"Orang Lauts\" who worked mostly as fishermen and sea-farers, and Arab traders and scholars were mostly found in the South-east part of the river mouth, where Kampong Glam stands today. The European settlers, who were few then, settled around Fort Canning Hill and further upstream from the Singapore River. Like the Europeans, the early Indian migrants also settled more inland of the Singapore River, where Little India stands today. Very little is known about the rural private settlements in those times (known as kampongs), other than the major move by the post-independent Singapore government to re-settle these residents in the late 1960s.', mimetype='text/plain', start_char_idx=None, end_char_idx=None, text_template='{metadata_str}\\n\\n{content}', metadata_template='{key}: {value}', metadata_seperator='\\n'),\n",
       " Document(id_='191dad7a-4dd5-45ed-8f93-29b860335f17', embedding=None, metadata={}, excluded_embed_metadata_keys=[], excluded_llm_metadata_keys=[], relationships={}, text='Statue of Thomas Stamford Raffles by Thomas Woolner, erected at the location where he first landed at Singapore. He is recognized as the founder of modern Singapore.', mimetype='text/plain', start_char_idx=None, end_char_idx=None, text_template='{metadata_str}\\n\\n{content}', metadata_template='{key}: {value}', metadata_seperator='\\n'),\n",
       " Document(id_='73fbf23d-b69a-4047-9ddf-af05af3d58a6', embedding=None, metadata={}, excluded_embed_metadata_keys=[], excluded_llm_metadata_keys=[], relationships={}, text='During World War II, the Imperial Japanese Army invaded Malaya, culminating in the Battle of Singapore. The ill-prepared British were defeated in six days, and surrendered the supposedly impregnable \"Bastion of the Empire\" to General Tomoyuki Yamashita on 15 February 1942 in what is now known as the British Empire\\'s greatest military defeat. The Japanese renamed Singapore  , from Japanese  , or \"southern island obtained in the age of ShÅ\\x8dwa\", and occupied it until the British repossessed the island on September 12 1945, a month after the Japanese surrender.', mimetype='text/plain', start_char_idx=None, end_char_idx=None, text_template='{metadata_str}\\n\\n{content}', metadata_template='{key}: {value}', metadata_seperator='\\n'),\n",
       " Document(id_='12a158ae-fa05-45d7-89c9-b29f80f5bdbc', embedding=None, metadata={}, excluded_embed_metadata_keys=[], excluded_llm_metadata_keys=[], relationships={}, text='The name ShÅ\\x8dnantÅ\\x8d was, at the time, romanized as \"Syonan-to\" or \"Syonan\", which means \"Light of the South\".', mimetype='text/plain', start_char_idx=None, end_char_idx=None, text_template='{metadata_str}\\n\\n{content}', metadata_template='{key}: {value}', metadata_seperator='\\n'),\n",
       " Document(id_='dd05acb9-dbc3-486f-99e2-eb22207f440c', embedding=None, metadata={}, excluded_embed_metadata_keys=[], excluded_llm_metadata_keys=[], relationships={}, text=\"Singapore became a self-governing state in 1959 with Yusof bin Ishak its first Yang di-Pertuan Negara and Lee Kuan Yew its first Prime Minister. Following the 1962 Merger Referendum of Singapore, Singapore joined Malaya, along with Sabah and Sarawak, to form the Federation of Malaysia on September 16 1963, but separated from it two years later after heated ideological conflict between the state's PAP government and the federal Kuala Lumpur government. Singapore officially gained sovereignty on 9 August 1965.    Yusof bin Ishak was sworn in as the first President of Singapore and Lee Kuan Yew remained prime minister.\", mimetype='text/plain', start_char_idx=None, end_char_idx=None, text_template='{metadata_str}\\n\\n{content}', metadata_template='{key}: {value}', metadata_seperator='\\n'),\n",
       " Document(id_='f7dc36e6-16cd-4de2-880f-1de744bcae3b', embedding=None, metadata={}, excluded_embed_metadata_keys=[], excluded_llm_metadata_keys=[], relationships={}, text=\"The fledgling nation had to be self-sufficient, and faced problems like mass unemployment, housing shortages, and a dearth of land and natural resources. During Lee Kuan Yew's term as prime minister from 1959 to 1990, his administration attacked widespread unemployment, raised the standard of living, and implemented a large-scale public housing programme. The country's economic infrastructure was developed, the threat of racial tension was curbed, and an independent national defence system, centring around compulsory male military service, was created.\", mimetype='text/plain', start_char_idx=None, end_char_idx=None, text_template='{metadata_str}\\n\\n{content}', metadata_template='{key}: {value}', metadata_seperator='\\n'),\n",
       " Document(id_='022e9124-ab5e-4678-aa22-3a575e8ef048', embedding=None, metadata={}, excluded_embed_metadata_keys=[], excluded_llm_metadata_keys=[], relationships={}, text='In 1990, Goh Chok Tong succeeded Lee as Prime Minister. During his tenure, the country tackled the impacts of the 1997 Asian financial crisis, the 2003 SARS outbreak, and terrorist threats posed by the Jemaah Islamiyah group after the September 11 attacks.', mimetype='text/plain', start_char_idx=None, end_char_idx=None, text_template='{metadata_str}\\n\\n{content}', metadata_template='{key}: {value}', metadata_seperator='\\n'),\n",
       " Document(id_='de8013a1-2fe5-4556-9376-c2ce69f95b68', embedding=None, metadata={}, excluded_embed_metadata_keys=[], excluded_llm_metadata_keys=[], relationships={}, text='In 2004, Lee Hsien Loong, the eldest son of Lee Kuan Yew, became the third prime minister.    Amongst his more notable decisions is the plan to open casinos to attract more foreign tourists.', mimetype='text/plain', start_char_idx=None, end_char_idx=None, text_template='{metadata_str}\\n\\n{content}', metadata_template='{key}: {value}', metadata_seperator='\\n'),\n",
       " Document(id_='065b7161-0bdb-4e76-918c-990d99498661', embedding=None, metadata={}, excluded_embed_metadata_keys=[], excluded_llm_metadata_keys=[], relationships={}, text='Parliament House', mimetype='text/plain', start_char_idx=None, end_char_idx=None, text_template='{metadata_str}\\n\\n{content}', metadata_template='{key}: {value}', metadata_seperator='\\n'),\n",
       " Document(id_='717a5eff-8c4e-4e6c-b395-b06f097d31d1', embedding=None, metadata={}, excluded_embed_metadata_keys=[], excluded_llm_metadata_keys=[], relationships={}, text='Singapore is a republic with a Westminster system of unicameral parliamentary government representing different constituencies. The bulk of the executive powers rests with the Cabinet, headed by the Prime Minister. The office of President of Singapore, historically a ceremonial one, was granted some veto powers as of 1991 for a few key decisions such as the use of the national reserves and the appointment of judiciary positions. Although the position is to be elected by popular vote, only the 1993 election has been contested to date. The legislative branch of government is the Parliament.', mimetype='text/plain', start_char_idx=None, end_char_idx=None, text_template='{metadata_str}\\n\\n{content}', metadata_template='{key}: {value}', metadata_seperator='\\n'),\n",
       " Document(id_='59d6ade8-82a3-4340-a004-8466a2ad2e31', embedding=None, metadata={}, excluded_embed_metadata_keys=[], excluded_llm_metadata_keys=[], relationships={}, text='Parliamentary elections in Singapore are plurality-based for group representation constituencies since the Parliamentary Elections Act was modified in 1991.', mimetype='text/plain', start_char_idx=None, end_char_idx=None, text_template='{metadata_str}\\n\\n{content}', metadata_template='{key}: {value}', metadata_seperator='\\n'),\n",
       " Document(id_='004158eb-af5d-41f5-9c3a-90de4c3d529b', embedding=None, metadata={}, excluded_embed_metadata_keys=[], excluded_llm_metadata_keys=[], relationships={}, text='The Istana, the official residence and office of the President of Singapore', mimetype='text/plain', start_char_idx=None, end_char_idx=None, text_template='{metadata_str}\\n\\n{content}', metadata_template='{key}: {value}', metadata_seperator='\\n'),\n",
       " Document(id_='ad13b460-7451-4a3b-b873-36e0d8aa5e80', embedding=None, metadata={}, excluded_embed_metadata_keys=[], excluded_llm_metadata_keys=[], relationships={}, text='Singaporean politics have been controlled by the People\\'s Action Party (PAP) since self-government was attained.  Worthington (2002), Mauzy and Milne (2002).  In consequence, foreign political analysts and several opposition parties like the Workers\\' Party of Singapore, the Singapore Democratic Party (SDP) and the Singapore Democratic Alliance (SDA) have argued that Singapore is essentially a one-party state. Many analysts consider Singapore to be more of an illiberal or procedural democracy than a true democracy. The Economist Intelligence Unit, while admitting that \"There is no consensus on how to measure democracy\" and that \"definitions of democracy are contested\", does not list Singapore as either a \"democracy\" or a \"flawed democracy\" but as a \"hybrid regime\" of democratic and authoritarian elements.    Freedom House ranks the country as \"partly free\".    Though general elections are free from irregularities and vote rigging, the PAP has been criticised for manipulating the political system through its use of censorship, gerrymandering, and civil libel suits against opposition politicians. Francis Seow, the exiled former Solicitor-General of Singapore, is a prominent critic. Seow and opposition politicians such as J.B. Jeyaretnam and Chee Soon Juan claim that Singapore courts favour the PAP government, and there is no separation of powers.', mimetype='text/plain', start_char_idx=None, end_char_idx=None, text_template='{metadata_str}\\n\\n{content}', metadata_template='{key}: {value}', metadata_seperator='\\n'),\n",
       " Document(id_='85750318-45fd-4718-89ce-f56492041d1b', embedding=None, metadata={}, excluded_embed_metadata_keys=[], excluded_llm_metadata_keys=[], relationships={}, text=\"Singapore has a successful and transparent market economy. Government-linked companies are dominant in various sectors of the local economy, such as media, utilities, and public transport. Singapore has consistently been rated as the least corrupt country in Asia and among the world's ten most free from corruption by Transparency International.\", mimetype='text/plain', start_char_idx=None, end_char_idx=None, text_template='{metadata_str}\\n\\n{content}', metadata_template='{key}: {value}', metadata_seperator='\\n'),\n",
       " Document(id_='d8b8f680-bf44-400a-85e7-ebb6f20a0c93', embedding=None, metadata={}, excluded_embed_metadata_keys=[], excluded_llm_metadata_keys=[], relationships={}, text='Although Singapore\\'s laws are inherited from British and British Indian laws, including many elements of English common law, the PAP has also consistently rejected liberal democratic values, which it typifies as Western and states there should not be a \\'one-size-fits-all\\' solution to a democracy. Laws restricting the freedom of speech are justified by claims that they are intended to prohibit speech that may breed ill will or cause disharmony within Singapore\\'s multiracial, multi-religious society. For example, in September 2005, three bloggers were convicted of sedition for posting racist remarks targeting minorities.     Some offences can lead to heavy fines or caning and there are laws which allow capital punishment in Singapore for first-degree murder and drug trafficking. Amnesty International has criticised Singapore for having \"possibly the highest execution rate in the world\" per capita.    The Singapore government argues that there is no international consensus on the appropriateness of the death penalty and that Singapore has the sovereign right to determine its own judicial system and impose capital punishment for the most serious crimes.', mimetype='text/plain', start_char_idx=None, end_char_idx=None, text_template='{metadata_str}\\n\\n{content}', metadata_template='{key}: {value}', metadata_seperator='\\n'),\n",
       " Document(id_='58f7fa31-7595-489c-bdba-6a453f8ab9ba', embedding=None, metadata={}, excluded_embed_metadata_keys=[], excluded_llm_metadata_keys=[], relationships={}, text='Singapore maintains diplomatic relations with 175 countries     although it does not maintain a high commission or embassy in many of those countries. It is a member of the United Nations, the Commonwealth, ASEAN and the Non-Aligned Movement. Due to obvious geographical reasons, relations with Malaysia and Indonesia are most important. Singapore enjoys good relations with the United Kingdom which shares ties in the Five Power Defence Arrangements (FPDA) along with Malaysia, Australia and New Zealand. Good relations are also maintained with the United States; the US is perceived as a stabilizing force in the region to counterbalance the regional powers.', mimetype='text/plain', start_char_idx=None, end_char_idx=None, text_template='{metadata_str}\\n\\n{content}', metadata_template='{key}: {value}', metadata_seperator='\\n'),\n",
       " Document(id_='49bca381-32ac-4268-b1bb-e2e6b678dd5f', embedding=None, metadata={}, excluded_embed_metadata_keys=[], excluded_llm_metadata_keys=[], relationships={}, text='Singapore has several long-standing disputes with Malaysia over a number of issues:', mimetype='text/plain', start_char_idx=None, end_char_idx=None, text_template='{metadata_str}\\n\\n{content}', metadata_template='{key}: {value}', metadata_seperator='\\n'),\n",
       " Document(id_='ed5d988e-908c-4404-97c0-b4c118aa6860', embedding=None, metadata={}, excluded_embed_metadata_keys=[], excluded_llm_metadata_keys=[], relationships={}, text='* withdrawal of Central Provident Funds by west Malaysians.', mimetype='text/plain', start_char_idx=None, end_char_idx=None, text_template='{metadata_str}\\n\\n{content}', metadata_template='{key}: {value}', metadata_seperator='\\n'),\n",
       " Document(id_='07f712d7-8966-4862-83b0-32b864e9e112', embedding=None, metadata={}, excluded_embed_metadata_keys=[], excluded_llm_metadata_keys=[], relationships={}, text='Singapore Downtown as seen from DHL Balloon', mimetype='text/plain', start_char_idx=None, end_char_idx=None, text_template='{metadata_str}\\n\\n{content}', metadata_template='{key}: {value}', metadata_seperator='\\n'),\n",
       " Document(id_='b98c9d22-296e-4bfc-95ed-81a2028a92d0', embedding=None, metadata={}, excluded_embed_metadata_keys=[], excluded_llm_metadata_keys=[], relationships={}, text=\"Singapore consists of 63 islands, including mainland Singapore. There are two man-made connections to Johor, Malaysia    Johor-Singapore Causeway in the north, and Tuas Second Link in the west. Jurong Island, Pulau Tekong, Pulau Ubin and Sentosa are the largest of Singapore's many smaller islands. The highest natural point of Singapore is Bukit Timah Hill at  .\", mimetype='text/plain', start_char_idx=None, end_char_idx=None, text_template='{metadata_str}\\n\\n{content}', metadata_template='{key}: {value}', metadata_seperator='\\n'),\n",
       " Document(id_='4fd1db71-a2be-4e8b-80be-a580cfb4cad0', embedding=None, metadata={}, excluded_embed_metadata_keys=[], excluded_llm_metadata_keys=[], relationships={}, text='The south of Singapore, around the mouth of the Singapore River and what is now the Downtown Core, used to be the only concentrated urban area, while the rest of the land was either undeveloped tropical rainforest or used for agriculture. Since the 1960s, the government has constructed new residential towns in outlying areas, resulting in an entirely built-up urban landscape. The Urban Redevelopment Authority was established on 1 April 1974, responsible for urban planning.', mimetype='text/plain', start_char_idx=None, end_char_idx=None, text_template='{metadata_str}\\n\\n{content}', metadata_template='{key}: {value}', metadata_seperator='\\n'),\n",
       " Document(id_='2a4659da-4e94-4656-b841-72df24a57992', embedding=None, metadata={}, excluded_embed_metadata_keys=[], excluded_llm_metadata_keys=[], relationships={}, text='Singapore Botanic Gardens, a 67.3-hectare (166 acre) Botanic Gardens in Singapore that includes the National Orchid Garden, which has a collection of more than 3,000 species of orchids.', mimetype='text/plain', start_char_idx=None, end_char_idx=None, text_template='{metadata_str}\\n\\n{content}', metadata_template='{key}: {value}', metadata_seperator='\\n'),\n",
       " Document(id_='68a362be-b3b7-4e1c-adf2-bb2f26172481', embedding=None, metadata={}, excluded_embed_metadata_keys=[], excluded_llm_metadata_keys=[], relationships={}, text=\"Singapore has on-going land reclamation projects with earth obtained from its own hills, the sea-bed, and neighbouring countries. As a result, Singapore's land area grew from   in the 1960s to   today, and may grow by another 100 kmÂ² (38.6 sq mi) by 2030.    The projects sometimes involve some of the smaller islands being merged together through land reclamation in order to form larger, more functional islands, such as in the case of Jurong Island.\", mimetype='text/plain', start_char_idx=None, end_char_idx=None, text_template='{metadata_str}\\n\\n{content}', metadata_template='{key}: {value}', metadata_seperator='\\n'),\n",
       " Document(id_='1aa5526d-0508-4947-917f-5fccd409963c', embedding=None, metadata={}, excluded_embed_metadata_keys=[], excluded_llm_metadata_keys=[], relationships={}, text=\"Under the KÃ¶ppen climate classification system, Singapore has a tropical rainforest climate with no distinctive seasons. Its climate is characterized by uniform temperature and pressure, high humidity, and abundant rainfall. Temperatures range from 22 Â°C to 34 Â°C (72Â° 93 Â°F). On average, the relative humidity is around 90 percent in the morning and 60 percent in the afternoon. During prolonged heavy rain, relative humidity often reaches 100 percent.    The lowest and highest temperatures recorded in its maritime history are   and   respectively. The highest wind speed recorded was   on May 26 2007. June and July are the hottest months, while November and December make up the wetter monsoon season. From August to October, there is often haze, sometimes severe enough to prompt public health warnings, due to bushfires in neighbouring Indonesia. Singapore does not observe daylight saving time or a summer time zone change. The length of the day is nearly constant year round due to the country's location near the equator.\", mimetype='text/plain', start_char_idx=None, end_char_idx=None, text_template='{metadata_str}\\n\\n{content}', metadata_template='{key}: {value}', metadata_seperator='\\n'),\n",
       " Document(id_='dc16cb72-e900-41fa-986c-fe98fae1bacc', embedding=None, metadata={}, excluded_embed_metadata_keys=[], excluded_llm_metadata_keys=[], relationships={}, text=\"About 23 percent of Singapore's land area consists of forest and nature reserves.    Urbanization has eliminated many areas of former primary rainforest, with the only remaining area of primary rainforest being Bukit Timah Nature Reserve. A variety of parks are maintained with human intervention, such as the Singapore Botanic Gardens.\", mimetype='text/plain', start_char_idx=None, end_char_idx=None, text_template='{metadata_str}\\n\\n{content}', metadata_template='{key}: {value}', metadata_seperator='\\n'),\n",
       " Document(id_='2b3a702b-58ca-4aed-a64d-2a99933cefb3', embedding=None, metadata={}, excluded_embed_metadata_keys=[], excluded_llm_metadata_keys=[], relationships={}, text=\"Without natural freshwater rivers and lakes, the primary domestic source of water supply in Singapore is rainfall, collected in reservoirs or catchment areas. Rainfall supplies approximately 50 percent of Singapore's water; the remainder is imported from neighbouring countries or obtained from recycled water facilities and desalination plants. More NEWater and desalination plants are being built or proposed to reduce reliance on import.\", mimetype='text/plain', start_char_idx=None, end_char_idx=None, text_template='{metadata_str}\\n\\n{content}', metadata_template='{key}: {value}', metadata_seperator='\\n'),\n",
       " Document(id_='3abebdc5-9fde-48a3-b3a4-bb570d396279', embedding=None, metadata={}, excluded_embed_metadata_keys=[], excluded_llm_metadata_keys=[], relationships={}, text=\"Singapore has a highly developed market-based economy, which historically revolves around extended entrepot trade. Along with Hong Kong, South Korea and Taiwan, Singapore is one of the Four Asian Tigers. The economy depends heavily on exports refining imported goods, especially in manufacturing. Manufacturing constituted 26 percent of Singapore's GDP in 2005.    The manufacturing industry is well-diversified into electronics, petroleum refining, chemicals, mechanical engineering and biomedical sciences manufacturing. In 2006, Singapore produced about 10 percent of the world's foundry wafer output.    Singapore is the busiest port in the world in terms of tonnage shipped.    Singapore is the world's fourth largest foreign exchange trading centre after London, New York City and Tokyo.\", mimetype='text/plain', start_char_idx=None, end_char_idx=None, text_template='{metadata_str}\\n\\n{content}', metadata_template='{key}: {value}', metadata_seperator='\\n'),\n",
       " Document(id_='252386a6-32a0-4167-baf8-7a5c9f730ad4', embedding=None, metadata={}, excluded_embed_metadata_keys=[], excluded_llm_metadata_keys=[], relationships={}, text='Singapore has been rated as the most business-friendly economy in the world, with thousands of foreign expatriates working in multi-national corporations.    The city-state also employs tens of thousands of foreign blue-collared workers from around the world.', mimetype='text/plain', start_char_idx=None, end_char_idx=None, text_template='{metadata_str}\\n\\n{content}', metadata_template='{key}: {value}', metadata_seperator='\\n'),\n",
       " Document(id_='a08917db-020e-498e-b68c-13c51bd1486e', embedding=None, metadata={}, excluded_embed_metadata_keys=[], excluded_llm_metadata_keys=[], relationships={}, text=\"Singapore's Central Business District (CBD)\", mimetype='text/plain', start_char_idx=None, end_char_idx=None, text_template='{metadata_str}\\n\\n{content}', metadata_template='{key}: {value}', metadata_seperator='\\n'),\n",
       " Document(id_='547a3343-6e57-4ee2-a875-017bacf01b57', embedding=None, metadata={}, excluded_embed_metadata_keys=[], excluded_llm_metadata_keys=[], relationships={}, text=\"In 2001, a global recession and slump in the technology sector caused the GDP to contract by 2.2 percent. The Economic Review Committee (ERC), set up in December 2001, recommended several policy changes with a view to revitalising the economy. Singapore has since recovered from the recession, largely due to improvements in the world economy; the Singaporean economy itself grew by 8.3 percent in 2004, 6.4 percent in 2005    and 7.9 percent in 2006.    In the first half of Year 2007, the economy grew by 7.6 percent. The growth forecast for the whole year is expected to be between 7 percent to 8 percent, up from the original estimation of 5 percent to 7 percent.     On August 19 2007, Prime Minister Lee Hsien Loong announced in his National Day Rally Speech that Singapore's economy is expected to grow by at least 4-6 percent annually over the next 5-10 years.\", mimetype='text/plain', start_char_idx=None, end_char_idx=None, text_template='{metadata_str}\\n\\n{content}', metadata_template='{key}: {value}', metadata_seperator='\\n'),\n",
       " Document(id_='0d4e947d-79ca-48f5-98d4-3a6c2cb28707', embedding=None, metadata={}, excluded_embed_metadata_keys=[], excluded_llm_metadata_keys=[], relationships={}, text='The per capita GDP in 2006 was US$29,474.    As of September 2007, the unemployment rate is 1.7 percent, which is the lowest in a decade, having improved to around pre-Asian crisis level.    Employment continued to grow strongly as the economy maintained its rapid expansion. In the first three quarters of 2007, 171,500 new jobs were created, which is close to the 176,000 for the whole of 2006. ', mimetype='text/plain', start_char_idx=None, end_char_idx=None, text_template='{metadata_str}\\n\\n{content}', metadata_template='{key}: {value}', metadata_seperator='\\n'),\n",
       " Document(id_='d5be8862-cfe4-46e8-803d-85297bc888c8', embedding=None, metadata={}, excluded_embed_metadata_keys=[], excluded_llm_metadata_keys=[], relationships={}, text='Orchard Road is decorated for Christmas, 2005. Singapore introduced a Goods and Services Tax (GST) with an initial rate of 3 percent on 1 April 1994 substantially increasing government revenue by S$1.6 billion and stabilizing government finances.    The taxable GST was increased to 4 percent in 2003, to 5 percent in 2004,  and to 7 percent on 1st July 2007.', mimetype='text/plain', start_char_idx=None, end_char_idx=None, text_template='{metadata_str}\\n\\n{content}', metadata_template='{key}: {value}', metadata_seperator='\\n'),\n",
       " Document(id_='25764bb6-45db-45bf-96a5-d07700b27a03', embedding=None, metadata={}, excluded_embed_metadata_keys=[], excluded_llm_metadata_keys=[], relationships={}, text=\"Singapore is a popular travel destination, making tourism one of its largest industries. About 9.7 million tourists visited Singapore in 2006.    The Orchard Road district is the centre of shopping hub in Singapore. To attract more tourists, the government decided in 2005 to legalise gambling and to allow two Integrated Resorts to be developed at Marina South and Sentosa.    To compete with regional rivals like Hong Kong, Tokyo and Shanghai, the government has announced that the city area would be transformed into a more exciting place by lighting up the civic and commercial buildings.    Besides the Integrated Resort, other upcoming attractions such as the Singapore Flyer, a 165-metres high ferris wheel, the Gardens by the Bay and a 280-metres Double Helix Bridge will be built in the Marina Bay area. Cuisine has been heavily promoted as an attraction for tourists, with the Singapore Food Festival in July organized annually to celebrate Singapore's cuisine.\", mimetype='text/plain', start_char_idx=None, end_char_idx=None, text_template='{metadata_str}\\n\\n{content}', metadata_template='{key}: {value}', metadata_seperator='\\n'),\n",
       " Document(id_='d67ff8b0-fb6e-4bc9-b4b7-0d0aeeacb695', embedding=None, metadata={}, excluded_embed_metadata_keys=[], excluded_llm_metadata_keys=[], relationships={}, text='Singapore is fast positioning itself as a medical tourism hubâ\\x80\\x94about 200,000 foreigners sought medical care in the country each year and Singapore medical services are aiming to serve one million foreign patients annually by 2012 and generate USD 3 billion in revenue.    The government expects that the initiative could create an estimate 13,000 new jobs within the health industries.', mimetype='text/plain', start_char_idx=None, end_char_idx=None, text_template='{metadata_str}\\n\\n{content}', metadata_template='{key}: {value}', metadata_seperator='\\n'),\n",
       " Document(id_='52fa03d7-d2a7-4c02-86ad-aed95d13eb73', embedding=None, metadata={}, excluded_embed_metadata_keys=[], excluded_llm_metadata_keys=[], relationships={}, text='Under the Infocomm Development Authority of Singapore (IDA), Wireless@SG is a government-initiated initiative to build Singapore\\'s Infocomm infrastructure. Working through IDA\\'s Call-for-Collaboration, SingTel, iCell and QMax deploy a wireless network throughout Singapore. Since late 2006, users have enjoyed free wireless access through Wi-Fi under the \"basic-tier\" package offered by all three operators for 3 years.', mimetype='text/plain', start_char_idx=None, end_char_idx=None, text_template='{metadata_str}\\n\\n{content}', metadata_template='{key}: {value}', metadata_seperator='\\n'),\n",
       " Document(id_='bf439d5d-f8d7-4c31-bca8-166919482d6b', embedding=None, metadata={}, excluded_embed_metadata_keys=[], excluded_llm_metadata_keys=[], relationships={}, text='Free trade agreements connect Singapore to major economies and markets. It allows Singapore-based exporters and investors to benefit from tariff concessions, access to certain sectors and intellectual property protection. Singapore has 14 bilateral agreements with the following countries:', mimetype='text/plain', start_char_idx=None, end_char_idx=None, text_template='{metadata_str}\\n\\n{content}', metadata_template='{key}: {value}', metadata_seperator='\\n'),\n",
       " Document(id_='e32869fd-e34d-47c5-98f4-e09d17642d0e', embedding=None, metadata={}, excluded_embed_metadata_keys=[], excluded_llm_metadata_keys=[], relationships={}, text='The currency of Singapore is the Singapore dollar, represented by the symbol S$. The central bank of Singapore is the Monetary Authority of Singapore, responsible for issuing currency. Singapore established the Board of Commissioners of Currency, Singapore, on 7 April 1967   ', mimetype='text/plain', start_char_idx=None, end_char_idx=None, text_template='{metadata_str}\\n\\n{content}', metadata_template='{key}: {value}', metadata_seperator='\\n'),\n",
       " Document(id_='1e8dd528-920b-493f-a19a-571809585a9d', embedding=None, metadata={}, excluded_embed_metadata_keys=[], excluded_llm_metadata_keys=[], relationships={}, text='and issued its first coins and notes.   ', mimetype='text/plain', start_char_idx=None, end_char_idx=None, text_template='{metadata_str}\\n\\n{content}', metadata_template='{key}: {value}', metadata_seperator='\\n'),\n",
       " Document(id_='3f527b64-4ee6-4424-95fb-f4d13336ef4c', embedding=None, metadata={}, excluded_embed_metadata_keys=[], excluded_llm_metadata_keys=[], relationships={}, text='The Singapore dollar was exchangeable at par with the Malaysian ringgit until 1973. ', mimetype='text/plain', start_char_idx=None, end_char_idx=None, text_template='{metadata_str}\\n\\n{content}', metadata_template='{key}: {value}', metadata_seperator='\\n'),\n",
       " Document(id_='4e43f2de-9e46-4608-ab46-bccc4ace3f7a', embedding=None, metadata={}, excluded_embed_metadata_keys=[], excluded_llm_metadata_keys=[], relationships={}, text='Interchangeability with the Brunei dollar is still maintained.    ', mimetype='text/plain', start_char_idx=None, end_char_idx=None, text_template='{metadata_str}\\n\\n{content}', metadata_template='{key}: {value}', metadata_seperator='\\n'),\n",
       " Document(id_='80f7aa36-db66-4833-bd8a-5056ddc48210', embedding=None, metadata={}, excluded_embed_metadata_keys=[], excluded_llm_metadata_keys=[], relationships={}, text='On June 27 2007, to commemorate 40 years of currency agreement with Brunei, a commemorative S$20 note was launched; the back is identical to the Bruneian $20 note launched concurrently.    ', mimetype='text/plain', start_char_idx=None, end_char_idx=None, text_template='{metadata_str}\\n\\n{content}', metadata_template='{key}: {value}', metadata_seperator='\\n'),\n",
       " Document(id_='b11b89eb-508d-4dc9-8f77-c80db5ca9fb5', embedding=None, metadata={}, excluded_embed_metadata_keys=[], excluded_llm_metadata_keys=[], relationships={}, text='A circulation version of the $20 note can be exchanged at banks in Singapore.', mimetype='text/plain', start_char_idx=None, end_char_idx=None, text_template='{metadata_str}\\n\\n{content}', metadata_template='{key}: {value}', metadata_seperator='\\n'),\n",
       " Document(id_='6a29972a-bb32-48d9-82bb-624af7a3bdd5', embedding=None, metadata={}, excluded_embed_metadata_keys=[], excluded_llm_metadata_keys=[], relationships={}, text='RSS Intrepid at Changi Naval Base during the Navy Open House 2007', mimetype='text/plain', start_char_idx=None, end_char_idx=None, text_template='{metadata_str}\\n\\n{content}', metadata_template='{key}: {value}', metadata_seperator='\\n'),\n",
       " Document(id_='9e813b13-4f36-485d-b3ae-4d72ad2fa9e5', embedding=None, metadata={}, excluded_embed_metadata_keys=[], excluded_llm_metadata_keys=[], relationships={}, text='The Ministry of Defence (MINDEF), currently headed by Minister Teo Chee Hean, oversees the Singapore Army, the Republic of Singapore Navy, and the Republic of Singapore Air Force, collectively known as the Singapore Armed Forces, along with volunteer private companies involved in supporting roles. The Chief of Defence Forces is Lieutenant-General Desmond Kuek Bak Chye.', mimetype='text/plain', start_char_idx=None, end_char_idx=None, text_template='{metadata_str}\\n\\n{content}', metadata_template='{key}: {value}', metadata_seperator='\\n'),\n",
       " Document(id_='a7948aa4-1a8f-46da-bba3-37c93676d9cf', embedding=None, metadata={}, excluded_embed_metadata_keys=[], excluded_llm_metadata_keys=[], relationships={}, text='Singapore legislation requires every able-bodied male Singaporean citizen and second-generation permanent resident to undertake National Service for a minimum of 2 years upon reaching 18 years of age or completion of his studies (whichever comes first), with exemption on medical or other grounds. After serving the two years, every male is considered operationally ready, and is liable for reservist national service to the age of 40 (50 for commissioned officers). More than 350,000 men serve as operationally-ready servicemen assigned to reservist combat units, and another 72,500 men form the full-time national service and regular corps.', mimetype='text/plain', start_char_idx=None, end_char_idx=None, text_template='{metadata_str}\\n\\n{content}', metadata_template='{key}: {value}', metadata_seperator='\\n'),\n",
       " Document(id_='b3f09cf0-2a26-4872-ac0b-67a2f7e7690f', embedding=None, metadata={}, excluded_embed_metadata_keys=[], excluded_llm_metadata_keys=[], relationships={}, text='The armed forces serve primarily as a deterrent against potential aggressors and also provide humanitarian assistance to other countries. Singapore has mutual defence pacts with several countries, most notably the Five Power Defence Arrangements. There is an extensive overseas network of training grounds in the United States, Australia, New Zealand, France, Taiwan, Thailand, Brunei, India and South Africa. Since 1980, the concept and strategy of \"Total Defence\" has been adopted in all aspects of security; an approach aimed at strengthening Singapore against all kinds of threats.', mimetype='text/plain', start_char_idx=None, end_char_idx=None, text_template='{metadata_str}\\n\\n{content}', metadata_template='{key}: {value}', metadata_seperator='\\n'),\n",
       " Document(id_='80caff73-2d64-4c43-91eb-f3adacd33094', embedding=None, metadata={}, excluded_embed_metadata_keys=[], excluded_llm_metadata_keys=[], relationships={}, text='The recent rise in unconventional warfare and terrorism has cast increasing emphasis on non-military aspects of defence. The Gurkha Contingent, part of the Singapore Police Force, is also a counter-terrorist force. In 1991, the hijacking of Singapore Airlines Flight 117 ended in the storming of the aircraft by Singapore Special Operations Force and the subsequent deaths of all four hijackers without injury to either passengers or SOF personnel. A concern is Jemaah Islamiyah, a militant Islamic group whose plan to attack the Australian High Commission was ultimately foiled in 2001.', mimetype='text/plain', start_char_idx=None, end_char_idx=None, text_template='{metadata_str}\\n\\n{content}', metadata_template='{key}: {value}', metadata_seperator='\\n'),\n",
       " Document(id_='159f08a6-ebde-4daa-a224-e52e0ba08b0a', embedding=None, metadata={}, excluded_embed_metadata_keys=[], excluded_llm_metadata_keys=[], relationships={}, text=\"Singapore's defence resources have been used in international humanitarian aid missions, including United Nations peacekeeping assignments involved in 11 different countries.    In September 2005, the Republic of Singapore Air Force (RSAF) sent three CH-47 Chinook helicopters to Louisiana to assist in relief operations for Hurricane Katrina. In the aftermath of the 2004 Asian Tsunami (or Boxing Day Tsunami}, the SAF deployed 3 tank landing ships, 12 Super Puma and 8 Chinook helicopters to aid in relief operations to the countries that were affected by the tsunami.\", mimetype='text/plain', start_char_idx=None, end_char_idx=None, text_template='{metadata_str}\\n\\n{content}', metadata_template='{key}: {value}', metadata_seperator='\\n'),\n",
       " Document(id_='fec4cc5b-e399-4153-9fe7-088d9de7b1ab', embedding=None, metadata={}, excluded_embed_metadata_keys=[], excluded_llm_metadata_keys=[], relationships={}, text=\"Built in 1843, the Sri Mariamman Temple is the largest Hindu temple in Singapore. It is also one of the many religious buildings marked as national monuments for their historical value.According to government statistics, the  population of Singapore as of September 2007 was 4.68 million, of whom 3.7 million were Singaporean citizens and permanent residents (termed 'Singapore Residents').    Chinese formed 75.2% of 'Singapore Residents', Malays 13.6%, Indians 8.8%, while Eurasians and other groups formed 2.4%.\", mimetype='text/plain', start_char_idx=None, end_char_idx=None, text_template='{metadata_str}\\n\\n{content}', metadata_template='{key}: {value}', metadata_seperator='\\n'),\n",
       " Document(id_='9791a9ec-559c-46ca-a71d-f0bab9d84ce9', embedding=None, metadata={}, excluded_embed_metadata_keys=[], excluded_llm_metadata_keys=[], relationships={}, text='In 2006. the crude birth rate stood at 10.1 per 1000, a very low level attributed to birth control policies, and the crude death rate was also one of the lowest in the world at 4.3 per 1000. The total population growth was 4.4% with Singapore residents growth at 1.8%. The higher percentage growth rate is largely from net immigration, but also increasing life expectancy. Singapore is the second-most densely populated independent country in the world after Monaco, excluding Macao and Hong Kong, which are special administrative regions of the People\\'s Republic of China. In 1957, Singapore\\'s population was approximately 1.45 million, and there was a relatively high birth rate. Aware of the country\\'s extremely limited natural resources and small territory, the government introduced birth control policies in the late 1960s. In the late 1990s, the population was ageing, with fewer people entering the labour market and a shortage of skilled workers. In a dramatic reversal of policy, the Singapore government introduce a \"baby bonus\" scheme in 2001 (enhanced in August 2004) that encouraged couples to have more children.', mimetype='text/plain', start_char_idx=None, end_char_idx=None, text_template='{metadata_str}\\n\\n{content}', metadata_template='{key}: {value}', metadata_seperator='\\n'),\n",
       " Document(id_='64536c69-319d-4ce0-bf30-1176167c6ca5', embedding=None, metadata={}, excluded_embed_metadata_keys=[], excluded_llm_metadata_keys=[], relationships={}, text=\"In 2006, the total fertility rate was only 1.26 children per woman, the 3rd lowest in the world and well below the 2.10 needed to replace the population.   CIA - Singapore  In 2006, 38,317 babies were born, compared to around 37,600 in 2005. This number, however, is not sufficient to maintain the population growth. To overcome this problem, the government is encouraging foreigners to immigrate to Singapore. These large numbers of immigrants have kept Singapore's population from declining.\", mimetype='text/plain', start_char_idx=None, end_char_idx=None, text_template='{metadata_str}\\n\\n{content}', metadata_template='{key}: {value}', metadata_seperator='\\n'),\n",
       " Document(id_='4f33bfe2-defb-42f7-9dc1-7e0f294c4c01', embedding=None, metadata={}, excluded_embed_metadata_keys=[], excluded_llm_metadata_keys=[], relationships={}, text=\"Saint Andrew's CathedralSingapore is a multi-religious country.\", mimetype='text/plain', start_char_idx=None, end_char_idx=None, text_template='{metadata_str}\\n\\n{content}', metadata_template='{key}: {value}', metadata_seperator='\\n'),\n",
       " Document(id_='9dfb36bb-70eb-4247-8d6d-1584b654f5c8', embedding=None, metadata={}, excluded_embed_metadata_keys=[], excluded_llm_metadata_keys=[], relationships={}, text=\"According to Statistics Singapore, around 51 percent of resident Singaporeans (excluding significant numbers of visitors and migrant workers) practice Buddhism and Taoism. About 15 percent, mostly Chinese , Eurasians, and Indians, practice Christianity -  a broad classification including Catholicism, Protestantism and other denominations. Muslims constitute 14 percent, of whom Malays account for the majority with a substantial number of Indian Muslims. Smaller minorities practice Sikhism, Hinduism, the BahÃ¡'Ã\\xad Faith and others, according to the 2000 census.\", mimetype='text/plain', start_char_idx=None, end_char_idx=None, text_template='{metadata_str}\\n\\n{content}', metadata_template='{key}: {value}', metadata_seperator='\\n'),\n",
       " Document(id_='dff94d0a-326b-4d11-a529-ccfc131b6658', embedding=None, metadata={}, excluded_embed_metadata_keys=[], excluded_llm_metadata_keys=[], relationships={}, text='About 15 percent of the population declared no religious affiliation.', mimetype='text/plain', start_char_idx=None, end_char_idx=None, text_template='{metadata_str}\\n\\n{content}', metadata_template='{key}: {value}', metadata_seperator='\\n'),\n",
       " Document(id_='139e27ca-978e-47c4-b6a3-54ba0fac9cd1', embedding=None, metadata={}, excluded_embed_metadata_keys=[], excluded_llm_metadata_keys=[], relationships={}, text='Students having assembly in the hall of a Singapore secondary school.', mimetype='text/plain', start_char_idx=None, end_char_idx=None, text_template='{metadata_str}\\n\\n{content}', metadata_template='{key}: {value}', metadata_seperator='\\n'),\n",
       " Document(id_='2fabc53d-3d70-4c15-aa93-16dc9d7dc10c', embedding=None, metadata={}, excluded_embed_metadata_keys=[], excluded_llm_metadata_keys=[], relationships={}, text='Singapore has a high literacy rate   . English is the first language learned by half the children by the time they reach preschool age and is the primary medium of instruction in primary school; however mother tongues are taught in the respective languages. English is the language of instruction for mathematics and the natural sciences. Special Assistance Plan schools may teach in another language to encourage more vibrant use of mother tongues.  Some schools also integrate language subjects with mathematics and the sciences, using both English and a second language.', mimetype='text/plain', start_char_idx=None, end_char_idx=None, text_template='{metadata_str}\\n\\n{content}', metadata_template='{key}: {value}', metadata_seperator='\\n'),\n",
       " Document(id_='980e46be-3231-4347-ad44-df22daa55de3', embedding=None, metadata={}, excluded_embed_metadata_keys=[], excluded_llm_metadata_keys=[], relationships={}, text='Curricular standards are set by the Ministry of Education with a mix of private schools and public schools. There is no strict public-private dichotomy: the degree of autonomy, regarding curriculum and student admission, government funding received, and tuition burden on the students is further classified into \"government-run\", \"government-aided\", \"autonomous\", \"independent\", and \"privately-funded\".    In addition, international schools cater to expatriate students and some local students.', mimetype='text/plain', start_char_idx=None, end_char_idx=None, text_template='{metadata_str}\\n\\n{content}', metadata_template='{key}: {value}', metadata_seperator='\\n'),\n",
       " Document(id_='8cc3ea67-5893-460a-b4cd-a37008b9b6b6', embedding=None, metadata={}, excluded_embed_metadata_keys=[], excluded_llm_metadata_keys=[], relationships={}, text='There are three universities in Singapore; National University of Singapore, Nanyang Technological University, and Singapore Management University. A fourth public university is under consideration as the government looks to provide higher education for 30 percent of each cohort   . There are also five polytechnics (Temasek Polytechnic, Singapore Polytechnic, Ngee Ann Polytechnic, Nanyang Polytechnic and Republic Polytechnic) in the country.', mimetype='text/plain', start_char_idx=None, end_char_idx=None, text_template='{metadata_str}\\n\\n{content}', metadata_template='{key}: {value}', metadata_seperator='\\n'),\n",
       " Document(id_='a46d55b8-7ed5-4610-b3c4-a058603755aa', embedding=None, metadata={}, excluded_embed_metadata_keys=[], excluded_llm_metadata_keys=[], relationships={}, text=\"The educational system features a non-compulsory three-year kindergarten, followed by a six-year primary education, at the end of which students take the Primary School Leaving Examination (PSLE). 4â\\x80\\x935 years of secondary education follow which lead to N level or O level examinations that determine their individual subject mastery and which kind of tertiary education they can pursue. Junior colleges and Millennia Institute provide a 2 or 3-year pre-university education route to  university. An alternative, the Integrated Programme, lets the more academically-inclined skip the O levels to proceed straight to the A levels. Polytechnics offer courses leading to a diploma for students as a substitute for the A levels while tertiary institutions offer various bachelor's, master's, doctoral degrees, other higher diplomas, and associate degree courses.\", mimetype='text/plain', start_char_idx=None, end_char_idx=None, text_template='{metadata_str}\\n\\n{content}', metadata_template='{key}: {value}', metadata_seperator='\\n'),\n",
       " Document(id_='18fb6867-f792-4bcd-aba3-0b0a0634afbe', embedding=None, metadata={}, excluded_embed_metadata_keys=[], excluded_llm_metadata_keys=[], relationships={}, text='Other institutes include the National Institute of Education (NIE), a teaching college to train teachers, various management institutes, and vocational education institutes such as the Institute of Technical Education (ITE).', mimetype='text/plain', start_char_idx=None, end_char_idx=None, text_template='{metadata_str}\\n\\n{content}', metadata_template='{key}: {value}', metadata_seperator='\\n'),\n",
       " Document(id_='7d93c543-06a5-4578-b5c0-11a681060bc3', embedding=None, metadata={}, excluded_embed_metadata_keys=[], excluded_llm_metadata_keys=[], relationships={}, text='The Economic Development Board has been actively recruiting foreign schools to set up campuses in Singapore under the \"Global Schoolhouse\" programme which aims to attract 150000 foreign students by 2015   . INSEAD, a leading graduate business school, opened its first overseas campus here in 2001, while ESSEC Business School, a century-old Parisian business school, provide courses specific to Asia. University of Chicago Graduate School of Business has a campus here as well. Tisch School of the Arts was the latest to set up a branch campus here in 2007.', mimetype='text/plain', start_char_idx=None, end_char_idx=None, text_template='{metadata_str}\\n\\n{content}', metadata_template='{key}: {value}', metadata_seperator='\\n'),\n",
       " Document(id_='3b56d06f-58ab-44e5-9552-743e870aaa5c', embedding=None, metadata={}, excluded_embed_metadata_keys=[], excluded_llm_metadata_keys=[], relationships={}, text='However, the EDB failed to attract and retain Warwick University and University of New South Wales, respectively, citing lack of academic freedom     and financial concerns    .', mimetype='text/plain', start_char_idx=None, end_char_idx=None, text_template='{metadata_str}\\n\\n{content}', metadata_template='{key}: {value}', metadata_seperator='\\n'),\n",
       " Document(id_='8803315d-f6f2-43ad-9bea-b9841b0f967e', embedding=None, metadata={}, excluded_embed_metadata_keys=[], excluded_llm_metadata_keys=[], relationships={}, text=\"In 1999, the Ministry of Education started the Programme for Rebuilding and Improving Existing schools (PRIME) to upgrade school buildings, many of which were built over 20 to 30 years ago, in phases at a cost of S$4.5 billion.    This programme achieves to provide a better school environment for the students by upgrading school buildings to latest standards. In 2005, the Flexible School Infrastructure (FlexSI) framework was implemented through the building of modular classrooms which can be opened up for larger lectures, and allowing a school's staff members to mould their school's designs to suit the school's unique identity and culture. At the same time, an indoor sports hall will be provided to every school so that schools can carry out physical education lessons in inclement weather.\", mimetype='text/plain', start_char_idx=None, end_char_idx=None, text_template='{metadata_str}\\n\\n{content}', metadata_template='{key}: {value}', metadata_seperator='\\n'),\n",
       " Document(id_='3daab848-30a1-49b5-930c-f3ba1aaa9119', embedding=None, metadata={}, excluded_embed_metadata_keys=[], excluded_llm_metadata_keys=[], relationships={}, text='The national language of Singapore is Malay for historical reasons, and it is used in the national anthem, \"Majulah Singapura\". The official languages are English, Mandarin, Malay and Tamil. English has been promoted as the country\\'s language of administration since independence. The English used is primarily based on British English, with some American English influences.  The use of English became widespread in Singapore after it was implemented as a first language medium in the education system, and English is the most common language in Singaporean literature.  Public signs and official publications are in English, although there are translated versions in other official languages. However, the majority of the population speak a localised hybrid form of English known as Singlish (\"Singapore English\"), which has many creole-like characteristics, incorporating vocabulary and grammar from Standard English, various Chinese dialects, Malay and Indian languages. The government has consistently tried to discourage the use of Singlish in its \"Speak Good English\" campaigns.', mimetype='text/plain', start_char_idx=None, end_char_idx=None, text_template='{metadata_str}\\n\\n{content}', metadata_template='{key}: {value}', metadata_seperator='\\n'),\n",
       " Document(id_='730bc9b7-b1f6-4f8a-856c-0fa8af49cf08', embedding=None, metadata={}, excluded_embed_metadata_keys=[], excluded_llm_metadata_keys=[], relationships={}, text=\"Singapore is a mixture of an indigenous Malay population with a third generation Chinese majority, as well as Indian and Arab immigrants with some intermarriages. In reality, there are very few people in Singapore who can claim to be truly indigenous to the island of Singapore. Other than people who can trace their ancestry to the small number of Orang Laut and Malay fisherfolk living on the island then, the peoples of Singapore {including the Malays} are basically descendants of immigrants who came to Singapore to take advantage of the economic opportunities made available by the founding of modern Singapore by Raffles.  There also exist significant Eurasian and Peranakan (known also as 'Straits Chinese') communities. Singapore has also achieved a significant degree of cultural diffusion.\", mimetype='text/plain', start_char_idx=None, end_char_idx=None, text_template='{metadata_str}\\n\\n{content}', metadata_template='{key}: {value}', metadata_seperator='\\n'),\n",
       " Document(id_='a97b1835-e564-4f16-ba5c-1f43bb2e6931', embedding=None, metadata={}, excluded_embed_metadata_keys=[], excluded_llm_metadata_keys=[], relationships={}, text=\"Enjoying Singaporean cuisine. Hawker centres and kopi tiams are evenly distributed.Singaporean cuisine is an example of diversity and cultural diffusion in Singapore, with a fusion of Chinese, Indian, Malay and Tamil influences. In Singapore's hawker centres traditionally Malay hawker stalls selling halal food may serve halal versions of traditionally Tamil food. Chinese food stalls may introduce indigenous Malay ingredients or cooking techniques. This continues to make the cuisine of Singapore a significant cultural attraction.\", mimetype='text/plain', start_char_idx=None, end_char_idx=None, text_template='{metadata_str}\\n\\n{content}', metadata_template='{key}: {value}', metadata_seperator='\\n'),\n",
       " Document(id_='ca333b82-5c01-40fb-8be0-f9051a8faa53', embedding=None, metadata={}, excluded_embed_metadata_keys=[], excluded_llm_metadata_keys=[], relationships={}, text='Local foods are diverse, ranging from Hainanese chicken rice to satay. Singaporeans also enjoy a wide variety of seafood including crabs, clams, squid, and oysters. One such dish is stingray barbecued and served on banana leaf and with sambal or chili.', mimetype='text/plain', start_char_idx=None, end_char_idx=None, text_template='{metadata_str}\\n\\n{content}', metadata_template='{key}: {value}', metadata_seperator='\\n'),\n",
       " Document(id_='d653fffd-3e1d-413a-bd6b-ca30d97ddcde', embedding=None, metadata={}, excluded_embed_metadata_keys=[], excluded_llm_metadata_keys=[], relationships={}, text=\"Esplanade, Theatres on the BaySince the 1990s, the government has been striving to promote Singapore as a centre for arts and culture, and to transform the country into a cosmopolitan 'gateway between the East and West'.   \", mimetype='text/plain', start_char_idx=None, end_char_idx=None, text_template='{metadata_str}\\n\\n{content}', metadata_template='{key}: {value}', metadata_seperator='\\n'),\n",
       " Document(id_='36156aed-e945-490b-9a4c-d8e4bced6a0b', embedding=None, metadata={}, excluded_embed_metadata_keys=[], excluded_llm_metadata_keys=[], relationships={}, text='The highlight of these efforts was the construction of Esplanade, a centre for performing arts that opened on October 12, 2002.', mimetype='text/plain', start_char_idx=None, end_char_idx=None, text_template='{metadata_str}\\n\\n{content}', metadata_template='{key}: {value}', metadata_seperator='\\n'),\n",
       " Document(id_='2fe72ebf-5773-43e5-9301-f802e6f11a19', embedding=None, metadata={}, excluded_embed_metadata_keys=[], excluded_llm_metadata_keys=[], relationships={}, text='An annual arts festival is also organised by the National Arts Council that incorporates theatre arts, dance, music and visual arts, among other possibilities.', mimetype='text/plain', start_char_idx=None, end_char_idx=None, text_template='{metadata_str}\\n\\n{content}', metadata_template='{key}: {value}', metadata_seperator='\\n'),\n",
       " Document(id_='97a3dd92-a3c9-4513-ad4c-eca054d02e62', embedding=None, metadata={}, excluded_embed_metadata_keys=[], excluded_llm_metadata_keys=[], relationships={}, text='A first Singapore Biennale took place in 2006 to showcase contemporary art from around the world. The next one will be in 2008 which will feature Southeast Asian works.', mimetype='text/plain', start_char_idx=None, end_char_idx=None, text_template='{metadata_str}\\n\\n{content}', metadata_template='{key}: {value}', metadata_seperator='\\n'),\n",
       " Document(id_='fd23ea01-717a-41a9-9236-629cf4bc832d', embedding=None, metadata={}, excluded_embed_metadata_keys=[], excluded_llm_metadata_keys=[], relationships={}, text=\"The media of Singapore play an important role in Singapore, one of the key strategic media centres in the Asia-Pacific region.    This is in line with the government's aggressive push to establish Singapore as a media hub in the world under the Media 21 plan launched in 2002.    Comprising of the publishing, print, broadcasting, film, music, digital and IT media sectors, the media industry collectively employed about 38,000 people and contributed 1.56% to Singapore's gross domestic product (GDP) in 2001 with an annual turnover of S$10 billion. The industry grew at an average rate of 7.7% annually from 1990 to 2000, and the government seeks to increase its GDP contribution to 3% by 2012.\", mimetype='text/plain', start_char_idx=None, end_char_idx=None, text_template='{metadata_str}\\n\\n{content}', metadata_template='{key}: {value}', metadata_seperator='\\n'),\n",
       " Document(id_='30cf237e-b8cb-4b86-85fe-0f86767b06a1', embedding=None, metadata={}, excluded_embed_metadata_keys=[], excluded_llm_metadata_keys=[], relationships={}, text='State-owned MediaCorp operates all seven free-to-air terrestrial local television channels licensed to broadcast in Singapore, as well as 14 radio channels. Radio and television stations are all government-owned entities. All seven television channels are owned by MediaCorp. The radio stations are mainly operated by MediaCorp with the exception of four stations, which are operated by SAFRA Radio and SPH UnionWorks respectively.  Private ownership of satellite dish receivers capable of viewing uncensored televised content from abroad is illegal.', mimetype='text/plain', start_char_idx=None, end_char_idx=None, text_template='{metadata_str}\\n\\n{content}', metadata_template='{key}: {value}', metadata_seperator='\\n'),\n",
       " Document(id_='310bc4a2-dafd-4f9a-8b28-8374a5dd21f2', embedding=None, metadata={}, excluded_embed_metadata_keys=[], excluded_llm_metadata_keys=[], relationships={}, text='There are a total of 16 newspapers in active circulation. Daily newspapers are published in English, Chinese, Malay and Tamil.', mimetype='text/plain', start_char_idx=None, end_char_idx=None, text_template='{metadata_str}\\n\\n{content}', metadata_template='{key}: {value}', metadata_seperator='\\n'),\n",
       " Document(id_='290ad94a-7811-466f-8b57-21fbcc9ceace', embedding=None, metadata={}, excluded_embed_metadata_keys=[], excluded_llm_metadata_keys=[], relationships={}, text='Print is dominated by Singapore Press Holdings (SPH), publisher of the flagship English-language daily, The Straits Times. SPH publishes all other daily newspapers with the exception of Today, which is owned by MediaCorp.', mimetype='text/plain', start_char_idx=None, end_char_idx=None, text_template='{metadata_str}\\n\\n{content}', metadata_template='{key}: {value}', metadata_seperator='\\n'),\n",
       " Document(id_='8fac3be7-fe5f-4da9-86b6-fcec2a2c5f74', embedding=None, metadata={}, excluded_embed_metadata_keys=[], excluded_llm_metadata_keys=[], relationships={}, text='Singaporeans participate in a wide variety of sports and recreational activities. Favorite sports include football, cricket, swimming, badminton, basketball, rugby union, volleyball and table tennis. Most people live in public residential areas that often provide amenities such as swimming pools, outdoor basketball courts and indoor sport complexes. As might be expected on an island, water sports are popular, including sailing, kayaking and water skiing. Scuba diving is another recreation, particularly around the southern island of Pulau Hantu which is known for its rich coral reefs.', mimetype='text/plain', start_char_idx=None, end_char_idx=None, text_template='{metadata_str}\\n\\n{content}', metadata_template='{key}: {value}', metadata_seperator='\\n'),\n",
       " Document(id_='c0071daa-583c-466d-8398-651befb62bab', embedding=None, metadata={}, excluded_embed_metadata_keys=[], excluded_llm_metadata_keys=[], relationships={}, text='Closing ceremony for the National Stadium', mimetype='text/plain', start_char_idx=None, end_char_idx=None, text_template='{metadata_str}\\n\\n{content}', metadata_template='{key}: {value}', metadata_seperator='\\n'),\n",
       " Document(id_='c97b13c8-81fc-4771-9721-03da16a55eb7', embedding=None, metadata={}, excluded_embed_metadata_keys=[], excluded_llm_metadata_keys=[], relationships={}, text='The 55,000 National Stadium, Singapore, located in Kallang was opened in July 1973 and was used for sporting, cultural, entertainment and national events until its official closure on June 30 2007 to make way for the Singapore Sports Hub on the same site. This sports complex is expected to be ready by 2011 and will comprise a new 55,000-capacity National Stadium with a retractable roof, a 6,000-capacity indoor aquatic centre, a 400-meter warm-up athletic track and a 3,000-seater multi-purpose arena. 36,000 square metres of space have also been reserved for commercial development.', mimetype='text/plain', start_char_idx=None, end_char_idx=None, text_template='{metadata_str}\\n\\n{content}', metadata_template='{key}: {value}', metadata_seperator='\\n'),\n",
       " Document(id_='4d5d381c-524b-4a80-a77c-36595708aaed', embedding=None, metadata={}, excluded_embed_metadata_keys=[], excluded_llm_metadata_keys=[], relationships={}, text='Golf is gaining popularity among Singaporeans. There are 15 golf clubs in Singapore. Some golfers prefer travelling to regional golf courses especially in Johor, Malaysia, due to relatively cheaper club membership.', mimetype='text/plain', start_char_idx=None, end_char_idx=None, text_template='{metadata_str}\\n\\n{content}', metadata_template='{key}: {value}', metadata_seperator='\\n'),\n",
       " Document(id_='74b1b126-9938-4f66-8b1d-e9a823c7c6d2', embedding=None, metadata={}, excluded_embed_metadata_keys=[], excluded_llm_metadata_keys=[], relationships={}, text='Singaporean sportsmen have performed in regional as well as international competitions in sports such as table tennis, badminton, bowling, sailing, silat, swimming and water polo. Athletes such as Fandi Ahmad, Ang Peng Siong, Li Jiawei and Ronald Susilo have become household names in the country.', mimetype='text/plain', start_char_idx=None, end_char_idx=None, text_template='{metadata_str}\\n\\n{content}', metadata_template='{key}: {value}', metadata_seperator='\\n'),\n",
       " Document(id_='79351fc7-bc13-4d00-82c5-ddc882a6b5e6', embedding=None, metadata={}, excluded_embed_metadata_keys=[], excluded_llm_metadata_keys=[], relationships={}, text='The Singapore Slingers joined the Australian National Basketball League in 2006 and have three Singaporeans in their squad.  Despite being the team with the largest support pool in the NBL, they generally get the smallest crowds in the NBL.', mimetype='text/plain', start_char_idx=None, end_char_idx=None, text_template='{metadata_str}\\n\\n{content}', metadata_template='{key}: {value}', metadata_seperator='\\n'),\n",
       " Document(id_='6df116dc-121d-44bc-959b-ca17c23d7ea9', embedding=None, metadata={}, excluded_embed_metadata_keys=[], excluded_llm_metadata_keys=[], relationships={}, text='Beginning in 2008, Singapore will be hosting a round of the Formula One World Championship. The race will be staged at the Singapore Street Circuit in the Marina Bay area and will become the first night race on the F1 circuit    and the first street circuit in Asia   .', mimetype='text/plain', start_char_idx=None, end_char_idx=None, text_template='{metadata_str}\\n\\n{content}', metadata_template='{key}: {value}', metadata_seperator='\\n'),\n",
       " Document(id_='7e4d0ab2-7ef1-4ef2-9e78-2b56e4f17303', embedding=None, metadata={}, excluded_embed_metadata_keys=[], excluded_llm_metadata_keys=[], relationships={}, text='In 2007, Singapore announced its bid to host the Youth Olympic Games in 2010.', mimetype='text/plain', start_char_idx=None, end_char_idx=None, text_template='{metadata_str}\\n\\n{content}', metadata_template='{key}: {value}', metadata_seperator='\\n'),\n",
       " Document(id_='d4745a5d-6732-4489-96ab-af3171b4524e', embedding=None, metadata={}, excluded_embed_metadata_keys=[], excluded_llm_metadata_keys=[], relationships={}, text='The Singapore Sports School is a specialized independent school established in January 2004. It was initiated by the Ministry of Community Development, Youth and Sports (MCYS), and caters to sporting teenagers who have talent and capability in sports.', mimetype='text/plain', start_char_idx=None, end_char_idx=None, text_template='{metadata_str}\\n\\n{content}', metadata_template='{key}: {value}', metadata_seperator='\\n'),\n",
       " Document(id_='b37171a7-0939-4142-8a67-bccd6f8731f0', embedding=None, metadata={}, excluded_embed_metadata_keys=[], excluded_llm_metadata_keys=[], relationships={}, text=\"The Singapore Sports School is a specialized school providing a good academic and training environment for talented young athletes. The idea for establishing a specialized school for young athletes was mooted by the Committee on Sporting Singapore (CoSS) in 2000. CoSS had noted that Singapore's demanding academic environment places a lot pressure on young athletes, leading most of them to abandon their sporting aspirations in favour of their studies.\", mimetype='text/plain', start_char_idx=None, end_char_idx=None, text_template='{metadata_str}\\n\\n{content}', metadata_template='{key}: {value}', metadata_seperator='\\n'),\n",
       " Document(id_='4565134c-e046-47d7-96b4-c2b78649dd1a', embedding=None, metadata={}, excluded_embed_metadata_keys=[], excluded_llm_metadata_keys=[], relationships={}, text='The three tallest buildings in Singapore are located at Raffles Place, namely, from left to right, Republic Plaza, UOB Plaza One and OUB Centre. All three buildings are 280 metres in height.', mimetype='text/plain', start_char_idx=None, end_char_idx=None, text_template='{metadata_str}\\n\\n{content}', metadata_template='{key}: {value}', metadata_seperator='\\n'),\n",
       " Document(id_='654b3ba0-85c3-490b-8df7-ebc00bab8d41', embedding=None, metadata={}, excluded_embed_metadata_keys=[], excluded_llm_metadata_keys=[], relationships={}, text='The architecture of Singapore is varied, reflecting the ethnic build-up of the country. Singapore has several ethnic neighbourhoods, including Chinatown and Little India. These were formed under the Raffles Plan to segregate the immigrants. Many places of worship were also constructed during the colonial era. Sri Mariamman Temple, the Masjid Jamae mosque and the Church of Gregory the Illuminator are among those that were built during the colonial period. Work is now underway to preserve these religious sites as National Monuments of Singapore.', mimetype='text/plain', start_char_idx=None, end_char_idx=None, text_template='{metadata_str}\\n\\n{content}', metadata_template='{key}: {value}', metadata_seperator='\\n'),\n",
       " Document(id_='c7c8414e-6948-4107-802a-f7ce27a21fb1', embedding=None, metadata={}, excluded_embed_metadata_keys=[], excluded_llm_metadata_keys=[], relationships={}, text='Due to the lack of space, few historical buildings remain in the centre of the Central Business District (CBD) of Singapore - the Fullerton Hotel and the previously-moved Lau Pa Sat being some exceptions. However, just outside of Raffles Place, and throughout the rest of the downtown core, there is a large scattering of pre-WWII buildings - some going back nearly as far as Raffles, as with the Empress Place Building, built in 1827. Many classical buildings were destroyed during the post-war decades, up until the 1990s, when the government started strict programs to conserve the buildings and areas of historic value.', mimetype='text/plain', start_char_idx=None, end_char_idx=None, text_template='{metadata_str}\\n\\n{content}', metadata_template='{key}: {value}', metadata_seperator='\\n'),\n",
       " Document(id_='c7c8a459-66a3-4aad-86fa-19de23503c8c', embedding=None, metadata={}, excluded_embed_metadata_keys=[], excluded_llm_metadata_keys=[], relationships={}, text='Past the shopping malls are streets lined with shophouses. Many other such areas have been gazetted as historic districts. Information can be found at the URA Centre in Maxwell Road, where there are exhibits and several models of the island and its architecture. Singapore has also become a centre for postmodern architecture. Historically, the demand for high-end buildings has been in and around the Central Business District (CBD). After decades of development, the CBD has become an area with many tall office buildings. These buildings comprise the skyline along the coast of Marina Bay and Raffles Place, a tourist attraction in Singapore. Plans for tall buildings must be reviewed by the Civil Aviation Authority of Singapore.    No building in Singapore may be taller than 280 metres.    The three tallest buildings in Singapore, namely Republic Plaza, UOB Plaza One and OUB Centre, are all 280 metres in height.', mimetype='text/plain', start_char_idx=None, end_char_idx=None, text_template='{metadata_str}\\n\\n{content}', metadata_template='{key}: {value}', metadata_seperator='\\n'),\n",
       " Document(id_='13dcdd4e-15c1-4dda-b408-78f45c8f90ac', embedding=None, metadata={}, excluded_embed_metadata_keys=[], excluded_llm_metadata_keys=[], relationships={}, text='The water resources of Singapore are precious given the small amount of land and territory in Singapore relative to the large urban population in the city-state. Without natural freshwater rivers and lakes, the primary domestic source of water in Singapore is rainfall, collected in reservoirs or water catchment areas. Rainfall supplies approximately 50% of Singapore\\'s water; the remainder is mainly imported from Malaysia. Presently, more catchment areas, facilities to recycle water (producing NEWater) and desalination plants are being built. This \"four tap\" strategy aims to reduce reliance on foreign supply and to diversify its water sources.', mimetype='text/plain', start_char_idx=None, end_char_idx=None, text_template='{metadata_str}\\n\\n{content}', metadata_template='{key}: {value}', metadata_seperator='\\n'),\n",
       " Document(id_='56bec1e9-8896-48b1-8f29-830d8216fb16', embedding=None, metadata={}, excluded_embed_metadata_keys=[], excluded_llm_metadata_keys=[], relationships={}, text=\"Singapore has a network of reservoirs and water catchment areas. By 2001, there were 19 raw water reservoirs, 9 treatment works and 14 storage or service reservoirs locally to serve domestic needs. Marina Barrage is a dam being constructed around the estuary of three Singapore rivers, creating by 2009 a huge freshwater reservoir, the Marina Bay reservoir.    When developed, this will increase the rainfall catchment to two-thirds of the country's surface area.\", mimetype='text/plain', start_char_idx=None, end_char_idx=None, text_template='{metadata_str}\\n\\n{content}', metadata_template='{key}: {value}', metadata_seperator='\\n'),\n",
       " Document(id_='33456709-9509-435a-9fe7-7e8b94512540', embedding=None, metadata={}, excluded_embed_metadata_keys=[], excluded_llm_metadata_keys=[], relationships={}, text='Historically, Singapore relied on imports from Malaysia to supply half of its water consumption. However, the two water agreements that supply Singapore with this water are due to expire by 2011 and 2061 respectively and the two countries are engaged in a dispute on the price of water. Without a resolution in sight, the government of Singapore decided to increase self-sufficiency in its water supply.', mimetype='text/plain', start_char_idx=None, end_char_idx=None, text_template='{metadata_str}\\n\\n{content}', metadata_template='{key}: {value}', metadata_seperator='\\n'),\n",
       " Document(id_='80d7dae9-2b77-485b-85d6-969fd86a2a0e', embedding=None, metadata={}, excluded_embed_metadata_keys=[], excluded_llm_metadata_keys=[], relationships={}, text='The Port of Singapore with Sentosa island in the background.', mimetype='text/plain', start_char_idx=None, end_char_idx=None, text_template='{metadata_str}\\n\\n{content}', metadata_template='{key}: {value}', metadata_seperator='\\n'),\n",
       " Document(id_='1ce0b170-260e-4929-a4d2-fcb4d7d6e406', embedding=None, metadata={}, excluded_embed_metadata_keys=[], excluded_llm_metadata_keys=[], relationships={}, text='Singapore is a major Asian transportation hub, positioned on many sea and air trade routes.', mimetype='text/plain', start_char_idx=None, end_char_idx=None, text_template='{metadata_str}\\n\\n{content}', metadata_template='{key}: {value}', metadata_seperator='\\n'),\n",
       " Document(id_='76903d91-7592-480f-b41a-20ba505ef060', embedding=None, metadata={}, excluded_embed_metadata_keys=[], excluded_llm_metadata_keys=[], relationships={}, text=\"The Port of Singapore, managed by port operators PSA International and Jurong Port, was the world's busiest port in 2005 in terms of shipping tonnage handled, at 1.15 billion gross tons, and in terms of containerised traffic, at 23.2 million twenty-foot equivalent units (TEUs). It was also the world's second busiest in terms of cargo tonnage, coming behind Shanghai with 423 million tons handled. In addition, the Port is the world's busiest for transshipment traffic and the world's biggest ship refuelling centre.\", mimetype='text/plain', start_char_idx=None, end_char_idx=None, text_template='{metadata_str}\\n\\n{content}', metadata_template='{key}: {value}', metadata_seperator='\\n'),\n",
       " Document(id_='38151e7d-a8ae-4dd9-9f13-f084ff29cbdb', embedding=None, metadata={}, excluded_embed_metadata_keys=[], excluded_llm_metadata_keys=[], relationships={}, text='PSA Keppel', mimetype='text/plain', start_char_idx=None, end_char_idx=None, text_template='{metadata_str}\\n\\n{content}', metadata_template='{key}: {value}', metadata_seperator='\\n'),\n",
       " Document(id_='073045c8-4617-4f4d-b2d4-03c35edf62f8', embedding=None, metadata={}, excluded_embed_metadata_keys=[], excluded_llm_metadata_keys=[], relationships={}, text=\"Singapore is an aviation hub for the Southeast Asian region and acts as a stopover point for the Kangaroo route between Australasia and Europe. Singapore Changi Airport has a network of 81 airlines connecting Singapore to 185 cities in 58 countries. It has been rated as one of the best international airports by international travel magazines, including being rated as the world's best airport for the first time in 2006 by Skytrax.     . The airport has two passenger terminals. A third terminal, terminal 3, is scheduled for completion in January 2008 and there are plans for a fourth terminal. There is also a budget terminal, which serves budget carrier Tiger Airways and Cebu Pacific. The national carrier is Singapore Airlines (SIA). The government is moving towards privatising Changi airport.\", mimetype='text/plain', start_char_idx=None, end_char_idx=None, text_template='{metadata_str}\\n\\n{content}', metadata_template='{key}: {value}', metadata_seperator='\\n'),\n",
       " Document(id_='2fc29570-52fa-42a4-b9df-29a739b082a1', embedding=None, metadata={}, excluded_embed_metadata_keys=[], excluded_llm_metadata_keys=[], relationships={}, text='Singapore is linked to Johor, Malaysia via the Johor-Singapore Causeway and the Tuas Second Link, as well as a railway operated by Keretapi Tanah Melayu of Malaysia, with its southern terminus at Tanjong Pagar railway station. Frequent ferry service to several nearby Indonesian ports also exists.', mimetype='text/plain', start_char_idx=None, end_char_idx=None, text_template='{metadata_str}\\n\\n{content}', metadata_template='{key}: {value}', metadata_seperator='\\n'),\n",
       " Document(id_='deb08bc0-48dd-4345-947c-99e4baa62275', embedding=None, metadata={}, excluded_embed_metadata_keys=[], excluded_llm_metadata_keys=[], relationships={}, text='A C751B train at Eunos MRT Station on the Mass Rapid Transit (MRT) system, one of three heavy rail passenger transport lines in Singapore.', mimetype='text/plain', start_char_idx=None, end_char_idx=None, text_template='{metadata_str}\\n\\n{content}', metadata_template='{key}: {value}', metadata_seperator='\\n'),\n",
       " Document(id_='34f8481f-bec1-42f3-9ac7-65e66c030ab2', embedding=None, metadata={}, excluded_embed_metadata_keys=[], excluded_llm_metadata_keys=[], relationships={}, text=\"The domestic transport infrastructure has a well-connected island-wide road transport system which includes a network of expressways. The public road system is served by the nation's bus service and a number of licensed taxi-operating companies. The public bus transport has been the subject of criticism by Singaporeans, the majority of whom are dependent on it for their daily commuting, but suffer from its infrequency, poor scheduling and the buses' sometimes less-than-desirable conditions.\", mimetype='text/plain', start_char_idx=None, end_char_idx=None, text_template='{metadata_str}\\n\\n{content}', metadata_template='{key}: {value}', metadata_seperator='\\n'),\n",
       " Document(id_='5aa3dcf1-4335-48ca-ae3e-1ac1ff0ca3dc', embedding=None, metadata={}, excluded_embed_metadata_keys=[], excluded_llm_metadata_keys=[], relationships={}, text='Since 1987, the heavy rail passenger Mass Rapid Transit (MRT) metro system has been in operation. MRT has been further augmented by the Light Rapid Transit (LRT) light rail system, which provides service to housing estates. Established in 2001, EZ-Link system allows contactless smartcards to serve as stored value tickets for use in the public transport systems in Singapore.', mimetype='text/plain', start_char_idx=None, end_char_idx=None, text_template='{metadata_str}\\n\\n{content}', metadata_template='{key}: {value}', metadata_seperator='\\n'),\n",
       " Document(id_='f87caef1-157c-4318-bcb9-c9bf7188faf1', embedding=None, metadata={}, excluded_embed_metadata_keys=[], excluded_llm_metadata_keys=[], relationships={}, text='More than 2.78 million people use the bus network daily, while more than 1.3 million people use either the LRT or MRT as part of their daily routine.    Approximately 991,000 people use the taxi services daily.  Private vehicle use in the Central Area is discouraged by tolls implemented during hours of heavy road traffic, through an Electronic Road Pricing system. Private vehicle ownership is discouraged by high vehicle taxes and imposing quotas on vehicle purchase.', mimetype='text/plain', start_char_idx=None, end_char_idx=None, text_template='{metadata_str}\\n\\n{content}', metadata_template='{key}: {value}', metadata_seperator='\\n'),\n",
       " Document(id_='b6c5f355-5ff3-468d-af86-ab0786d11970', embedding=None, metadata={}, excluded_embed_metadata_keys=[], excluded_llm_metadata_keys=[], relationships={}, text='This article incorporates public domain text from the websites of Singapore Department of Statistics, United States Department of State,  the United States Library of Congress & CIA World Factbook (2004).', mimetype='text/plain', start_char_idx=None, end_char_idx=None, text_template='{metadata_str}\\n\\n{content}', metadata_template='{key}: {value}', metadata_seperator='\\n'),\n",
       " Document(id_='2861bc7a-d69c-4870-b260-c0c6601bec99', embedding=None, metadata={}, excluded_embed_metadata_keys=[], excluded_llm_metadata_keys=[], relationships={}, text='General Information', mimetype='text/plain', start_char_idx=None, end_char_idx=None, text_template='{metadata_str}\\n\\n{content}', metadata_template='{key}: {value}', metadata_seperator='\\n'),\n",
       " Document(id_='7e5d35a2-8920-4c42-b4f4-0b9b2af622d0', embedding=None, metadata={}, excluded_embed_metadata_keys=[], excluded_llm_metadata_keys=[], relationships={}, text='Travel', mimetype='text/plain', start_char_idx=None, end_char_idx=None, text_template='{metadata_str}\\n\\n{content}', metadata_template='{key}: {value}', metadata_seperator='\\n'),\n",
       " Document(id_='f046c166-a86f-4134-ad02-7299b40c47bc', embedding=None, metadata={}, excluded_embed_metadata_keys=[], excluded_llm_metadata_keys=[], relationships={}, text='Directory and Guide', mimetype='text/plain', start_char_idx=None, end_char_idx=None, text_template='{metadata_str}\\n\\n{content}', metadata_template='{key}: {value}', metadata_seperator='\\n'),\n",
       " Document(id_='e04c32cd-0d8b-4c1f-b7b7-8badd77b207c', embedding=None, metadata={}, excluded_embed_metadata_keys=[], excluded_llm_metadata_keys=[], relationships={}, text='Maps', mimetype='text/plain', start_char_idx=None, end_char_idx=None, text_template='{metadata_str}\\n\\n{content}', metadata_template='{key}: {value}', metadata_seperator='\\n'),\n",
       " Document(id_='5321dc0c-21da-43c1-8f88-8f36a8e9c0b4', embedding=None, metadata={}, excluded_embed_metadata_keys=[], excluded_llm_metadata_keys=[], relationships={}, text='The Principality of Liechtenstein (  ( , ( ) is a tiny, doubly landlocked alpine country in Western Europe, bordered by Switzerland to its west and by Austria to its east. Mountainous, it is a winter sports resort, although it is perhaps best known as a tax haven. Despite this, it is not heavily urbanized. Many cultivated fields and small farms characterize its landscape both in the north (Unterland) and in the south (Oberland). It is the smallest German-speaking country in the world.', mimetype='text/plain', start_char_idx=None, end_char_idx=None, text_template='{metadata_str}\\n\\n{content}', metadata_template='{key}: {value}', metadata_seperator='\\n'),\n",
       " Document(id_='be0da865-e6d8-482c-99f3-26ad9b86e903', embedding=None, metadata={}, excluded_embed_metadata_keys=[], excluded_llm_metadata_keys=[], relationships={}, text='At one time, the territory of Liechtenstein formed a part of the ancient Roman province of Raetia. For centuries this territory, geographically removed from European strategic interests, had little impact on the tide of European history. Prior to the reign of its current dynasty, the region was enfeoffed to a line of the counts of Hohenems.', mimetype='text/plain', start_char_idx=None, end_char_idx=None, text_template='{metadata_str}\\n\\n{content}', metadata_template='{key}: {value}', metadata_seperator='\\n'),\n",
       " Document(id_='8c544d4b-e724-434b-95a5-65207476a9fe', embedding=None, metadata={}, excluded_embed_metadata_keys=[], excluded_llm_metadata_keys=[], relationships={}, text='The Liechtenstein dynasty, from which the principality takes its name (rather than vice-versa), comes from Castle Liechtenstein in faraway Lower Austria, which the family possessed from at least 1140 to the thirteenth century, and from 1807 onward. Through the centuries, the dynasty acquired vast swathes of land, predominantly in Moravia, Lower Austria, Silesia, and Styria, though in all cases, these territories were held in fief under other more senior feudal lords, particularly under various lines of the Habsburg family, to whom several Liechtenstein princes served as close advisors. Thus, and without any territory held directly under the Imperial throne, the Liechtenstein dynasty was unable to meet a primary requirement to qualify for a seat in the Imperial diet, the Reichstag.', mimetype='text/plain', start_char_idx=None, end_char_idx=None, text_template='{metadata_str}\\n\\n{content}', metadata_template='{key}: {value}', metadata_seperator='\\n'),\n",
       " Document(id_='2acbbeda-ee3b-44c6-884e-8e64cc75b159', embedding=None, metadata={}, excluded_embed_metadata_keys=[], excluded_llm_metadata_keys=[], relationships={}, text='The family yearned greatly for the added power which a seat in the Imperial government would garner, and therefore, searched for lands to acquire which would be unmittelbar or held without any feudal personage other than the Holy Roman Emperor himself having rights on the land. After some time, the family was able to arrange the purchase of the minuscule Herrschaft (\"Lordship\") of Schellenberg and countship of Vaduz (in 1699 and 1712 respectively) from the Hohenems. Tiny Schellenberg and Vaduz possessed exactly the political status required, no feudal lord other than their comital sovereign and the suzerain Emperor.', mimetype='text/plain', start_char_idx=None, end_char_idx=None, text_template='{metadata_str}\\n\\n{content}', metadata_template='{key}: {value}', metadata_seperator='\\n'),\n",
       " Document(id_='3b295771-3553-48c8-b0b4-30ea7eca9ce1', embedding=None, metadata={}, excluded_embed_metadata_keys=[], excluded_llm_metadata_keys=[], relationships={}, text='Thereby, on January 23, 1719, after purchase had been duly made, Charles VI, Holy Roman Emperor, decreed Vaduz and Schellenberg were united, and raised to the dignity of FÃ¼rstentum (principality) with the name \"Liechtenstein\" in honor of \"[his] true servant, Anton Florian of Liechtenstein\". It is on this date that Liechtenstein became a sovereign member state of the Holy Roman Empire. As a testament to the pure political expediency of the purchases, the Princes of Liechtenstein did not set foot in their new principality for over 120 years.', mimetype='text/plain', start_char_idx=None, end_char_idx=None, text_template='{metadata_str}\\n\\n{content}', metadata_template='{key}: {value}', metadata_seperator='\\n'),\n",
       " Document(id_='75e9e7d3-d8aa-4116-bdc8-38f71254cfd3', embedding=None, metadata={}, excluded_embed_metadata_keys=[], excluded_llm_metadata_keys=[], relationships={}, text='Schloss Vaduz, overlooking the capital, is still home to the prince of Liechtenstein', mimetype='text/plain', start_char_idx=None, end_char_idx=None, text_template='{metadata_str}\\n\\n{content}', metadata_template='{key}: {value}', metadata_seperator='\\n'),\n",
       " Document(id_='1bbcbae9-ff97-455e-9dac-aafe1391c244', embedding=None, metadata={}, excluded_embed_metadata_keys=[], excluded_llm_metadata_keys=[], relationships={}, text=\"In 1806, most of the Holy Roman Empire was invaded by Napoleon I of the First French Empire. This event had broad consequences for Liechtenstein: imperial, legal and political mechanisms broke down, while Francis II, Holy Roman Emperor, abdicated the imperial throne and the Empire itself dissolved. As a result, Liechtenstein ceased to have any obligations to any feudal lord beyond its borders. Modern publications generally (although incorrectly) attribute Liechtenstein's sovereignty to these events. In reality, its prince merely became suzerain, as well as remaining sovereign lord. From July 25 1806 when the Confederation of the Rhine was founded, the prince of Liechtenstein was a member, in fact a vassal of its hegemon, styled protector, French Emperor Napoleon I Bonaparte, until the dissolution of the Confederation on October 19 1813.\", mimetype='text/plain', start_char_idx=None, end_char_idx=None, text_template='{metadata_str}\\n\\n{content}', metadata_template='{key}: {value}', metadata_seperator='\\n'),\n",
       " Document(id_='2579edb2-c14f-428e-922b-afbb19ab1ea9', embedding=None, metadata={}, excluded_embed_metadata_keys=[], excluded_llm_metadata_keys=[], relationships={}, text='Soon afterward, Liechtenstein joined the German Confederation (June 20 1815 â\\x80\\x93 August 24 1866, which was presided over by the Emperor of Austria).', mimetype='text/plain', start_char_idx=None, end_char_idx=None, text_template='{metadata_str}\\n\\n{content}', metadata_template='{key}: {value}', metadata_seperator='\\n'),\n",
       " Document(id_='01f42c45-635b-4f4a-b3e9-eb31ef7158e5', embedding=None, metadata={}, excluded_embed_metadata_keys=[], excluded_llm_metadata_keys=[], relationships={}, text='Then, in 1818, Johann I granted a constitution, although it was limited in its nature. 1818 also saw the first visit of a member of the house of Liechtenstein, Prince Alois, however, the first visit by a sovereign prince would not occur until 1842.', mimetype='text/plain', start_char_idx=None, end_char_idx=None, text_template='{metadata_str}\\n\\n{content}', metadata_template='{key}: {value}', metadata_seperator='\\n'),\n",
       " Document(id_='ffa1c23d-5f7c-401e-b283-139a2d7679f6', embedding=None, metadata={}, excluded_embed_metadata_keys=[], excluded_llm_metadata_keys=[], relationships={}, text='Liechtenstein also had many advances in the nineteenth century, as in 1836, the first factory was opened, making ceramics. In 1861, the Savings and Loans Bank was founded, as was the first cotton-weaving mill. Two bridges over the Rhine were built in 1868, and in 1872 a railway line across Liechtenstein was constructed.', mimetype='text/plain', start_char_idx=None, end_char_idx=None, text_template='{metadata_str}\\n\\n{content}', metadata_template='{key}: {value}', metadata_seperator='\\n'),\n",
       " Document(id_='4d9ab19c-8ece-4cc7-8c9e-bb16e07172ee', embedding=None, metadata={}, excluded_embed_metadata_keys=[], excluded_llm_metadata_keys=[], relationships={}, text='When the Austro-Prussian War broke out in 1866 new pressure was placed on Liechtenstein as, when peace was declared, Prussia accused Liechtenstein of being the cause of the war through a miscount of the votes for war with Prussia. This led to Liechtenstein refusing to sign a peace treaty with Prussia and remained at war although no actual conflict ever occurred. This was one of the arguments that were suggested to justify a possible invasion of Liechtenstein in the late 1930s.', mimetype='text/plain', start_char_idx=None, end_char_idx=None, text_template='{metadata_str}\\n\\n{content}', metadata_template='{key}: {value}', metadata_seperator='\\n'),\n",
       " Document(id_='f1756922-d969-4f60-bdd2-0379a1729bf9', embedding=None, metadata={}, excluded_embed_metadata_keys=[], excluded_llm_metadata_keys=[], relationships={}, text='Until the end of World War I, Liechtenstein first was closely tied to the Austrian Empire and later, to Austria-Hungary; however, the economic devastation caused by WWI forced the country to conclude a customs and monetary union with its other neighbor, Switzerland. (Their Army had been disbanded in 1868, out of financial considerations.) At the time of the dissolution of the Austro-Hungarian Empire, it was argued that Liechtenstein as a fief of the Holy Roman Empire (supposedly still incarnated in Liechtensteiner eyes at an abstract level in the person of the then-dethroned Austro-Hungarian Emperor, despite its formal dissolution in 1806) was no longer bound to Austria, then emerging as an independent state, which did not consider itself as the legal successor to the Empire. Liechtenstein is thus the last independent state in Europe which can claim an element of continuity from the Holy Roman Empire.', mimetype='text/plain', start_char_idx=None, end_char_idx=None, text_template='{metadata_str}\\n\\n{content}', metadata_template='{key}: {value}', metadata_seperator='\\n'),\n",
       " Document(id_='83eb1e42-10e8-4cfe-a0f7-214b0585a5df', embedding=None, metadata={}, excluded_embed_metadata_keys=[], excluded_llm_metadata_keys=[], relationships={}, text='The Prince of Liechtenstein owns vineyards in Vaduz (in the foreground)', mimetype='text/plain', start_char_idx=None, end_char_idx=None, text_template='{metadata_str}\\n\\n{content}', metadata_template='{key}: {value}', metadata_seperator='\\n'),\n",
       " Document(id_='5a6fe535-b6f1-4fd8-8763-1eae5aff5688', embedding=None, metadata={}, excluded_embed_metadata_keys=[], excluded_llm_metadata_keys=[], relationships={}, text='In the spring of 1938, just after the annexation of Austria into Greater Germany, eighty-four year-old Prince Franz I abdicated, naming his thirty-one year-old third cousin, Prince Franz Joseph, as his successor. While Prince Franz I claimed that old age was his reason for abdicating, it is believed that he had no desire to be on the throne if Germany gobbled up its new neighbor, Liechtenstein. His wife, whom he married in 1929, was a wealthy Jewish woman from Vienna, and local Liechtenstein Nazis had already singled her out as their anti-Semitic \"problem\". Although Liechtenstein had no official Nazi party, a Nazi sympathy movement had been simmering for years within its National Union party.', mimetype='text/plain', start_char_idx=None, end_char_idx=None, text_template='{metadata_str}\\n\\n{content}', metadata_template='{key}: {value}', metadata_seperator='\\n'),\n",
       " Document(id_='8f7e06df-596e-4375-8ec1-b024c7f9a173', embedding=None, metadata={}, excluded_embed_metadata_keys=[], excluded_llm_metadata_keys=[], relationships={}, text=\"During World War II, Liechtenstein remained neutral, while family treasures within the war zone were brought to Liechtenstein (and London) for safekeeping. At the close of the conflict, Czechoslovakia and Poland, acting to seize what they considered to be German possessions, expropriated the entirety of the Liechtenstein dynasty's hereditary lands and possessions in Bohemia, Moravia, and Silesia â\\x80\\x94 the princes of Liechtenstein lived in Vienna until the Anschluss of 1938. The expropriations (subject to modern legal dispute at the World Court) included over 1,600 square kilometres (600 mi.Â²) of agricultural and forest land, also including several family castles and palaces. Citizens of Liechtenstein were also forbidden from entering Czechoslovakia during the Cold War. Liechtenstein gave asylum to approximately five hundred soldiers of the First Russian National Army (a collaborationist Russian force within the German Wehrmacht) at the close of World War II; this is commemorated by a monument at the border town of Hinterschellenberg which is marked on the country's tourist map. The act of granting asylum was no small matter as the country was poor and had difficulty feeding and caring for such a large group of refugees. Eventually, Argentina agreed to permanently resettle the asylum seekers. In contrast, the British repatriated the Russians who fought on the side of Germany to the USSR, and they all perished in the GULAG.\", mimetype='text/plain', start_char_idx=None, end_char_idx=None, text_template='{metadata_str}\\n\\n{content}', metadata_template='{key}: {value}', metadata_seperator='\\n'),\n",
       " Document(id_='6a151844-132e-434c-9e4f-f72ea2ebce58', embedding=None, metadata={}, excluded_embed_metadata_keys=[], excluded_llm_metadata_keys=[], relationships={}, text='In dire financial straits following the war, the Liechtenstein dynasty often resorted to selling family artistic treasures, including for instance the priceless portrait \"Ginevra de\\' Benci\" by Leonardo da Vinci, which was purchased by the National Gallery of Art of the United States in 1967. Liechtenstein prospered, however, during the decades following, as its economy modernized with the advantage of low corporate tax rates which drew many companies to the country.', mimetype='text/plain', start_char_idx=None, end_char_idx=None, text_template='{metadata_str}\\n\\n{content}', metadata_template='{key}: {value}', metadata_seperator='\\n'),\n",
       " Document(id_='e1cfc1a4-b42a-40bf-afe5-c0989d5dec86', embedding=None, metadata={}, excluded_embed_metadata_keys=[], excluded_llm_metadata_keys=[], relationships={}, text=\"The Prince of Liechtenstein is the world's sixth wealthiest with an estimated wealth of $4 billion. The country's population enjoys one of the world's highest standards of living.\", mimetype='text/plain', start_char_idx=None, end_char_idx=None, text_template='{metadata_str}\\n\\n{content}', metadata_template='{key}: {value}', metadata_seperator='\\n'),\n",
       " Document(id_='3e4f714a-6196-40fc-85b7-170e35bceff5', embedding=None, metadata={}, excluded_embed_metadata_keys=[], excluded_llm_metadata_keys=[], relationships={}, text='The Government building in Vaduz', mimetype='text/plain', start_char_idx=None, end_char_idx=None, text_template='{metadata_str}\\n\\n{content}', metadata_template='{key}: {value}', metadata_seperator='\\n'),\n",
       " Document(id_='f0f1bab0-75e5-4c46-8520-4d96a0f41456', embedding=None, metadata={}, excluded_embed_metadata_keys=[], excluded_llm_metadata_keys=[], relationships={}, text=\"Liechtenstein's current constitution was adopted in October 1921. It established in Liechtenstein a constitutional monarchy ruled by the reigning prince of the Princely House of Liechtenstein. It also established a parliamentary system, although the reigning prince retained substantial political authority.\", mimetype='text/plain', start_char_idx=None, end_char_idx=None, text_template='{metadata_str}\\n\\n{content}', metadata_template='{key}: {value}', metadata_seperator='\\n'),\n",
       " Document(id_='63f35110-282c-4180-bc22-f73de444abff', embedding=None, metadata={}, excluded_embed_metadata_keys=[], excluded_llm_metadata_keys=[], relationships={}, text=\"The reigning prince of the Princely House of Liechtenstein is the head of state and, as such, represents Liechtenstein in its international relations (although Switzerland has taken responsibility for much of Liechtenstein's diplomatic relations). The prince may veto laws adopted by the parliament. The prince can call referendums, propose new legislation, and dissolve the parliament, although dissolution of parliament may be subjected to a referendum.\", mimetype='text/plain', start_char_idx=None, end_char_idx=None, text_template='{metadata_str}\\n\\n{content}', metadata_template='{key}: {value}', metadata_seperator='\\n'),\n",
       " Document(id_='7b6c9c57-b7c0-443d-a7aa-33c1e3912c53', embedding=None, metadata={}, excluded_embed_metadata_keys=[], excluded_llm_metadata_keys=[], relationships={}, text='Executive authority is vested in a collegial government (government) comprising the head of government (prime minister) and four government councilors (ministers). The head of government and the other ministers are appointed by the prince upon the proposal and concurrence of the parliament, thus reflecting the partisan balance of the parliament. The constitution stipulates that at least two members of the government be chosen from each of the two regions. The members of the government are collectively and individually responsible to the parliament; the parliament may ask the prince to remove an individual minister or the entire government.', mimetype='text/plain', start_char_idx=None, end_char_idx=None, text_template='{metadata_str}\\n\\n{content}', metadata_template='{key}: {value}', metadata_seperator='\\n'),\n",
       " Document(id_='82e0179d-4be1-4217-a93f-ffcf8121d79c', embedding=None, metadata={}, excluded_embed_metadata_keys=[], excluded_llm_metadata_keys=[], relationships={}, text='Legislative authority is vested in the unicameral \"Landtag\" (parliament) made up of 25 members elected for maximum four-year terms according to a proportional representation formula. Fifteen members are elected from the \"Oberland\" (Upper Country or region) and ten members are elected from the \"Unterland\" (Lower Country or region). Parties must receive at least eight percent of the national vote to win seats in the parliament. The parliament proposes and approves a government, which is formally appointed by the prince. The parliament may also pass votes of no confidence against the entire government or against individual members. Additionally, the parliament elects from among its members a \"Landesausschuss\" (National Committee) made up of the president of the parliament and four additional members. The National Committee is charged with performing parliamentary oversight functions. The parliament can call for referendums on proposed legislation. The parliament shares the authority to propose new legislation with the prince and with the requisite number of citizens required for an initiative referendum.', mimetype='text/plain', start_char_idx=None, end_char_idx=None, text_template='{metadata_str}\\n\\n{content}', metadata_template='{key}: {value}', metadata_seperator='\\n'),\n",
       " Document(id_='7a9f242b-ce6f-4e15-bd28-528d403c35dc', embedding=None, metadata={}, excluded_embed_metadata_keys=[], excluded_llm_metadata_keys=[], relationships={}, text='Judicial authority is vested in the Regional Court at Vaduz, the Princely High Court of Appeal at Vaduz, the Princely Supreme Court, the Administrative Court, and the State Court. The State Court rules on the conformity of laws with the constitution. The State Court has five members elected by the parliament.', mimetype='text/plain', start_char_idx=None, end_char_idx=None, text_template='{metadata_str}\\n\\n{content}', metadata_template='{key}: {value}', metadata_seperator='\\n'),\n",
       " Document(id_='d323476b-9a15-4e41-8d15-8c6ba867b00a', embedding=None, metadata={}, excluded_embed_metadata_keys=[], excluded_llm_metadata_keys=[], relationships={}, text=\"Note: In March 2003 the results of a national referendum showed that nearly two-thirds of Liechtenstein's electorate agreed to vote in support of Hans-Adam II's proposal of a renewed constitution which replaced the version of 1921. The implications of the referendum, the actual changes to the governance of Liechtenstein, and the repercussions of the vote in the wider context of Europe, are yet unknown.\", mimetype='text/plain', start_char_idx=None, end_char_idx=None, text_template='{metadata_str}\\n\\n{content}', metadata_template='{key}: {value}', metadata_seperator='\\n'),\n",
       " Document(id_='3d4cff85-1976-4c25-b917-66ba4e8cb9de', embedding=None, metadata={}, excluded_embed_metadata_keys=[], excluded_llm_metadata_keys=[], relationships={}, text='On July 1, 2007, the Liechtenstein Ruling Prince, H.S.H Hans-Adam II, and Liechtenstein Prime Minister, Otmar Hasler, appointed Dr. Bruce S. Allen and Mr. Leodis C. Matthews, ESQ., both in the United States of America, as the first two Honorary Consuls in history for the Principality of Liechtenstein.', mimetype='text/plain', start_char_idx=None, end_char_idx=None, text_template='{metadata_str}\\n\\n{content}', metadata_template='{key}: {value}', metadata_seperator='\\n'),\n",
       " Document(id_='a6001fc5-eaad-47df-82bb-6f555f3c2cb2', embedding=None, metadata={}, excluded_embed_metadata_keys=[], excluded_llm_metadata_keys=[], relationships={}, text='The principality of Liechtenstein is divided into 11 municipalities called gemeinden (singular gemeinde). The gemeinden mostly consist only of a single town. Five of them fall within the electoral district Unterland (the lower county), and the remainder within Oberland (the upper county).', mimetype='text/plain', start_char_idx=None, end_char_idx=None, text_template='{metadata_str}\\n\\n{content}', metadata_template='{key}: {value}', metadata_seperator='\\n'),\n",
       " Document(id_='a7d1a8f2-2a4f-4616-897b-ee21d0acfa2d', embedding=None, metadata={}, excluded_embed_metadata_keys=[], excluded_llm_metadata_keys=[], relationships={}, text='Satellite image faintly delineating Liechtenstein - enlarge to full page for clarity', mimetype='text/plain', start_char_idx=None, end_char_idx=None, text_template='{metadata_str}\\n\\n{content}', metadata_template='{key}: {value}', metadata_seperator='\\n'),\n",
       " Document(id_='2ccd96d3-1ca6-43af-b71a-ae018595e384', embedding=None, metadata={}, excluded_embed_metadata_keys=[], excluded_llm_metadata_keys=[], relationships={}, text='Liechtenstein is situated in the Upper Rhine valley of the European Alps. The entire western border of Liechtenstein is formed by the river. Measured north to south, the country is only about fifteen miles (24 km) long. In its eastern portion, Liechtenstein rises to higher altitudes; its highest point, the Grauspitz, reaches 2,599 metres (8,527  ). Despite its alpine location, prevailing southerly winds make the climate of Liechtenstein comparatively mild. In winter, the mountain slopes are well suited to winter sports.', mimetype='text/plain', start_char_idx=None, end_char_idx=None, text_template='{metadata_str}\\n\\n{content}', metadata_template='{key}: {value}', metadata_seperator='\\n'),\n",
       " Document(id_='824317d4-b25d-4be3-8825-ac2e2950883a', embedding=None, metadata={}, excluded_embed_metadata_keys=[], excluded_llm_metadata_keys=[], relationships={}, text='New surveys of the country\\'s borders in 2006  have set its area at 160.475 square kilometres, with borders of 77.9 km.  \"Tiny Liechtenstein gets a little bigger,\" December 29, 2006  Thus, Liechtenstein discovered in 2006 that its borders are 1.9 km (1.2 miles) longer than previously thought as more modern measuring methods have been introduced and they measure more accurately the borders in mountainous regions.  Liechtenstein redraws Europe map, BBC News, December 28 2006', mimetype='text/plain', start_char_idx=None, end_char_idx=None, text_template='{metadata_str}\\n\\n{content}', metadata_template='{key}: {value}', metadata_seperator='\\n'),\n",
       " Document(id_='e0f9a4d5-6dde-4d2e-adc2-4cdf5255d815', embedding=None, metadata={}, excluded_embed_metadata_keys=[], excluded_llm_metadata_keys=[], relationships={}, text='Liechtenstein is one of only two doubly landlocked countries in the worldâ\\x80\\x94being a landlocked country wholly surrounded by other landlocked countriesâ\\x80\\x94the other is Uzbekistan. It is the only country with a predominantly German-speaking population that does not share a border with the Federal Republic of Germany.', mimetype='text/plain', start_char_idx=None, end_char_idx=None, text_template='{metadata_str}\\n\\n{content}', metadata_template='{key}: {value}', metadata_seperator='\\n'),\n",
       " Document(id_='5800b591-5a96-49dc-a20f-dfb91b246f69', embedding=None, metadata={}, excluded_embed_metadata_keys=[], excluded_llm_metadata_keys=[], relationships={}, text='Liechtenstein is the sixth-smallest independent nation in the world, by land area. The five independent countries smaller than Liechtenstein are Vatican City, Monaco, Nauru, Tuvalu, and San Marino. See List of countries and outlying territories by total area.', mimetype='text/plain', start_char_idx=None, end_char_idx=None, text_template='{metadata_str}\\n\\n{content}', metadata_template='{key}: {value}', metadata_seperator='\\n'),\n",
       " Document(id_='514501e7-60a5-4eac-8cb2-8637a6e3c592', embedding=None, metadata={}, excluded_embed_metadata_keys=[], excluded_llm_metadata_keys=[], relationships={}, text='Looking northward at Vaduz city-centre', mimetype='text/plain', start_char_idx=None, end_char_idx=None, text_template='{metadata_str}\\n\\n{content}', metadata_template='{key}: {value}', metadata_seperator='\\n'),\n",
       " Document(id_='a6a9127f-57d4-49e6-9e2f-2ec8ecb5b337', embedding=None, metadata={}, excluded_embed_metadata_keys=[], excluded_llm_metadata_keys=[], relationships={}, text='City-centre with Kunstmuseum (Liechtenstein Art Museum)', mimetype='text/plain', start_char_idx=None, end_char_idx=None, text_template='{metadata_str}\\n\\n{content}', metadata_template='{key}: {value}', metadata_seperator='\\n'),\n",
       " Document(id_='2c4d4802-b9e8-4391-8625-ced58399899b', embedding=None, metadata={}, excluded_embed_metadata_keys=[], excluded_llm_metadata_keys=[], relationships={}, text=\"Despite its small geographic area and limited natural resources, Liechtenstein currently is one of the few countries in the world with more registered companies than citizens; it has developed into a prosperous, highly industrialized, free-enterprise economy, and boasts a financial service sector as well as a living standard which compares favourably to those of the urban areas of Liechtenstein's large European neighbours. Advantageously low business taxesâ\\x80\\x94the maximum tax rate is 18%â\\x80\\x94as well as easy Rules of Incorporation have induced about 73,700 holding (or so-called 'letter box') companies to establish nominal offices in Liechtenstein. Such processes provide about 30% of Liechtenstein's state revenue. Liechtenstein also generates revenue from the establishment of stiftungs or foundations, which are financial entities created to increase the privacy of nonresident foreigners' financial holdings. The foundation is registered in the name of a Liechtensteiner, often a lawyer.\", mimetype='text/plain', start_char_idx=None, end_char_idx=None, text_template='{metadata_str}\\n\\n{content}', metadata_template='{key}: {value}', metadata_seperator='\\n'),\n",
       " Document(id_='00f4d0ac-6428-4b3f-ad7f-cb2eb8f84d18', embedding=None, metadata={}, excluded_embed_metadata_keys=[], excluded_llm_metadata_keys=[], relationships={}, text=\"Recently, Liechtenstein has shown strong determination to prosecute any international money-laundering and worked to promote the country's image as a legitimate financing center.\", mimetype='text/plain', start_char_idx=None, end_char_idx=None, text_template='{metadata_str}\\n\\n{content}', metadata_template='{key}: {value}', metadata_seperator='\\n'),\n",
       " Document(id_='4255fd1c-08d1-4ac1-98d8-86e81d336574', embedding=None, metadata={}, excluded_embed_metadata_keys=[], excluded_llm_metadata_keys=[], relationships={}, text=\"Liechtenstein participates in a customs union with Switzerland and employs the Swiss franc as national currency. The country imports more than 90% of its energy requirements. Liechtenstein has been a member of the European Economic Area (an organization serving as a bridge between the European Free Trade Association (EFTA) and the European Union) since May 1995 . The government is working to harmonize its economic policies with those of an integrated Europe. Since 2002, Liechtenstein's rate of unemployment has doubled, although it stood at only 2.2% in the third quarter of 2004. Currently, there is only one hospital in Liechtenstein, the Liechtensteinisches Landesspital in Vaduz. The GDP (PPP) is $1.786 billion CIA World Factbook ( link)  and $25,000 per person.\", mimetype='text/plain', start_char_idx=None, end_char_idx=None, text_template='{metadata_str}\\n\\n{content}', metadata_template='{key}: {value}', metadata_seperator='\\n'),\n",
       " Document(id_='4fa1d020-0a05-419a-bf85-3bad3e51dd33', embedding=None, metadata={}, excluded_embed_metadata_keys=[], excluded_llm_metadata_keys=[], relationships={}, text=\"Liechtenstein's most recognizable international company and largest employer is Hilti, a manufacturer of concrete fastening systems. Liechtenstein also is the home of the Curta calculator.\", mimetype='text/plain', start_char_idx=None, end_char_idx=None, text_template='{metadata_str}\\n\\n{content}', metadata_template='{key}: {value}', metadata_seperator='\\n'),\n",
       " Document(id_='d77f9299-017d-48f1-812d-70b1ef3e9ef7', embedding=None, metadata={}, excluded_embed_metadata_keys=[], excluded_llm_metadata_keys=[], relationships={}, text=\"Liechtensteiners have an average life expectancy at birth of 79.68 years (76.1 years for males; 83.28 years for females). The infant mortality rate is 4.64 deaths per 1,000 live births, according to recent estimates. An estimated 100 percent of the population, age 10 and older, can read and write.  The Programme for International Student Assessment, coordinated by the OECD, currently ranks Liechtenstein's education as the 10th best in the world, being significantly higher than the OECD average.\", mimetype='text/plain', start_char_idx=None, end_char_idx=None, text_template='{metadata_str}\\n\\n{content}', metadata_template='{key}: {value}', metadata_seperator='\\n'),\n",
       " Document(id_='3b048eb0-a0fb-488f-9e33-e9062979bc18', embedding=None, metadata={}, excluded_embed_metadata_keys=[], excluded_llm_metadata_keys=[], relationships={}, text='A woman wearing the traditional Liechtenstein Tracht.', mimetype='text/plain', start_char_idx=None, end_char_idx=None, text_template='{metadata_str}\\n\\n{content}', metadata_template='{key}: {value}', metadata_seperator='\\n'),\n",
       " Document(id_='62204405-91ac-43cd-90b6-4b665dce6956', embedding=None, metadata={}, excluded_embed_metadata_keys=[], excluded_llm_metadata_keys=[], relationships={}, text=\"Liechtenstein is the fourth smallest country of Europe, after the Vatican City, Monaco, and San Marino. Its population is primarily ethnic Alemannic, although its resident population is approximately one third foreign-born, primarily German speakers from the Federal Republic of Germany, Austria, and the Swiss Confederation, other Swiss, Italians, and Turks. Foreign-born people make up two-thirds of the country's workforce. Nationals are referred to by the plural: Liechtensteiners.\", mimetype='text/plain', start_char_idx=None, end_char_idx=None, text_template='{metadata_str}\\n\\n{content}', metadata_template='{key}: {value}', metadata_seperator='\\n'),\n",
       " Document(id_='5cc76933-9f15-4471-bdc8-31bfde65333f', embedding=None, metadata={}, excluded_embed_metadata_keys=[], excluded_llm_metadata_keys=[], relationships={}, text='The official language is German; most speak Alemannic, a dialect of German that is highly divergent from Standard German (see Middle High German), but closely related to those dialects spoken in neighbouring regions. In Triesenberg a quite distinct dialect, promoted by the municipality, is spoken. According to the 2000 census, 87.9% of the population is Christian, of which 76% adhere to the Roman Catholic faith, while about 7% are Protestant. The religious affiliation for most of the remainder is Islam - 4.8%, undeclared - 4.1% and no religion - 2.8% .', mimetype='text/plain', start_char_idx=None, end_char_idx=None, text_template='{metadata_str}\\n\\n{content}', metadata_template='{key}: {value}', metadata_seperator='\\n'),\n",
       " Document(id_='7820edc3-4473-4166-8ee4-be1501aebb80', embedding=None, metadata={}, excluded_embed_metadata_keys=[], excluded_llm_metadata_keys=[], relationships={}, text='Road: There are about 250 kilometres (155 mi) of paved roadway within Liechtenstein.', mimetype='text/plain', start_char_idx=None, end_char_idx=None, text_template='{metadata_str}\\n\\n{content}', metadata_template='{key}: {value}', metadata_seperator='\\n'),\n",
       " Document(id_='4da64f86-7095-46ae-9b73-fef890ceed7a', embedding=None, metadata={}, excluded_embed_metadata_keys=[], excluded_llm_metadata_keys=[], relationships={}, text=\"Rail: 9.5 kilometres (5.9 mi) of railway connect Austria and Switzerland through Liechtenstein. The country's railways are administered by the Austrian Federal Railways as part of the route between Feldkirch, Austria, and Buchs SG, Switzerland. Four stations in Liechtenstein, namely Schaan-Vaduz, Forst Hilti, Nendeln, and Schaanwald, are served by an irregularly stopping train service running between Feldkirch and Buchs. While EuroCity and other long distance international trains also make use of the route, these do not call at Liechtenstein stations.\", mimetype='text/plain', start_char_idx=None, end_char_idx=None, text_template='{metadata_str}\\n\\n{content}', metadata_template='{key}: {value}', metadata_seperator='\\n'),\n",
       " Document(id_='70705008-0d98-4349-89da-527e081a1d1b', embedding=None, metadata={}, excluded_embed_metadata_keys=[], excluded_llm_metadata_keys=[], relationships={}, text='Bus: The Liechtenstein Bus  is a subsidiary of the Swiss Postbus system, but separately run, and connects to the Swiss bus network at Buchs SG and at Sargans as well as the Austrian city of Feldkirch.', mimetype='text/plain', start_char_idx=None, end_char_idx=None, text_template='{metadata_str}\\n\\n{content}', metadata_template='{key}: {value}', metadata_seperator='\\n'),\n",
       " Document(id_='62f0f88f-1794-4c63-9fc7-4fb1dbbfcbce', embedding=None, metadata={}, excluded_embed_metadata_keys=[], excluded_llm_metadata_keys=[], relationships={}, text='Bike: There are 90 kilometres (56 miles) of marked bicycle paths in the country.', mimetype='text/plain', start_char_idx=None, end_char_idx=None, text_template='{metadata_str}\\n\\n{content}', metadata_template='{key}: {value}', metadata_seperator='\\n'),\n",
       " Document(id_='0d4c5c27-93fb-41be-9b7c-df315a7bb058', embedding=None, metadata={}, excluded_embed_metadata_keys=[], excluded_llm_metadata_keys=[], relationships={}, text='Air: There is no airport in Liechtenstein (the nearest large airport is ZÃ¼rich Airport). There is a small heliport at Balzers in Liechtenstein   available for charter helicopter flights.', mimetype='text/plain', start_char_idx=None, end_char_idx=None, text_template='{metadata_str}\\n\\n{content}', metadata_template='{key}: {value}', metadata_seperator='\\n'),\n",
       " Document(id_='99d09932-c98c-43b4-b39e-245cef13bd5a', embedding=None, metadata={}, excluded_embed_metadata_keys=[], excluded_llm_metadata_keys=[], relationships={}, text='The Kunstmuseum Liechtenstein is the museum of modern and contemporary art in Vaduz and the national gallery of the Principality of Liechtenstein.', mimetype='text/plain', start_char_idx=None, end_char_idx=None, text_template='{metadata_str}\\n\\n{content}', metadata_template='{key}: {value}', metadata_seperator='\\n'),\n",
       " Document(id_='2175c67d-2641-41c8-9fdf-69119e15439f', embedding=None, metadata={}, excluded_embed_metadata_keys=[], excluded_llm_metadata_keys=[], relationships={}, text='As a result of its small size Liechtenstein has been strongly affected by external cultural influences, most notably those originating in the southern German-speaking areas of Europe, including Austria, Bavaria, Switzerland, and Tyrol. The Historical Society of the Principality of Liechtenstein plays a role in preserving the culture and history of the country.', mimetype='text/plain', start_char_idx=None, end_char_idx=None, text_template='{metadata_str}\\n\\n{content}', metadata_template='{key}: {value}', metadata_seperator='\\n'),\n",
       " Document(id_='054dc569-32de-4474-9f50-b00f645b0539', embedding=None, metadata={}, excluded_embed_metadata_keys=[], excluded_llm_metadata_keys=[], relationships={}, text='The largest museum is the Kunstmuseum Liechtenstein, an international museum of modern and contemporary art with an important internationl art collection. The building by the Swiss architects Morger, Degelo and Kerez is a landmark in Vaduz. It was completed in November 2000 and forms a â\\x80\\x9cblack boxâ\\x80\\x9d of tinted concrete and black basalt stone. The museum collection is also the national art collection of Liechtenstein.', mimetype='text/plain', start_char_idx=None, end_char_idx=None, text_template='{metadata_str}\\n\\n{content}', metadata_template='{key}: {value}', metadata_seperator='\\n'),\n",
       " Document(id_='725ee04b-4e07-4d14-8900-b95b4894997a', embedding=None, metadata={}, excluded_embed_metadata_keys=[], excluded_llm_metadata_keys=[], relationships={}, text='The other important museum is the Liechtenstein National Museum (Liechtensteinisches Landesmuseum) showing permanent exhibition on the cultural and natural history of Liechtenstein as well as special exhibitions. There are also a Stamp and a Ski Museum.', mimetype='text/plain', start_char_idx=None, end_char_idx=None, text_template='{metadata_str}\\n\\n{content}', metadata_template='{key}: {value}', metadata_seperator='\\n'),\n",
       " Document(id_='67d93e0a-ee03-4276-89b6-f13d74e96cf8', embedding=None, metadata={}, excluded_embed_metadata_keys=[], excluded_llm_metadata_keys=[], relationships={}, text='The most famous historical sites are Vaduz Castle, Gutenberg Castle, the Red House and the ruins of Schellenberg.', mimetype='text/plain', start_char_idx=None, end_char_idx=None, text_template='{metadata_str}\\n\\n{content}', metadata_template='{key}: {value}', metadata_seperator='\\n'),\n",
       " Document(id_='6ad47d11-8144-4633-a744-d75e2041bc5e', embedding=None, metadata={}, excluded_embed_metadata_keys=[], excluded_llm_metadata_keys=[], relationships={}, text='Music and theatre are an important part of the culture. There are numerous music organisations such as the Liechtenstein Musical Company, the annual Guitar Days and the International Josef Gabriel Rheinberger Society; and two main theatres.', mimetype='text/plain', start_char_idx=None, end_char_idx=None, text_template='{metadata_str}\\n\\n{content}', metadata_template='{key}: {value}', metadata_seperator='\\n'),\n",
       " Document(id_='63fafcfe-69f5-47c9-85c6-60b6348c660c', embedding=None, metadata={}, excluded_embed_metadata_keys=[], excluded_llm_metadata_keys=[], relationships={}, text=\"The Private Art Collection of the Prince of Liechtenstein, one of the world's leading private art collections, is shown at the Liechtenstein Museum in Vienna.\", mimetype='text/plain', start_char_idx=None, end_char_idx=None, text_template='{metadata_str}\\n\\n{content}', metadata_template='{key}: {value}', metadata_seperator='\\n'),\n",
       " Document(id_='c548f97d-8878-4624-a4a3-dbdc6ca573ae', embedding=None, metadata={}, excluded_embed_metadata_keys=[], excluded_llm_metadata_keys=[], relationships={}, text=\"Liechtenstein football teams play in the Swiss football leagues. The Liechtenstein Cup allows access to one Liechtenstein team each year in the UEFA Cup; FC Vaduz, a team playing in the Swiss Challenge League (i.e. the second level of Swiss football) is the most successful team in the Cup, and scored their greatest success in the European Cup Winners' Cup in 1996  when they defeated the Latvian team FC Universitate Riga by 1â\\x80\\x931 and 4â\\x80\\x932, to go on to a lucrative fixture against Paris St Germain, which they lost 0â\\x80\\x934 and 0â\\x80\\x933.\", mimetype='text/plain', start_char_idx=None, end_char_idx=None, text_template='{metadata_str}\\n\\n{content}', metadata_template='{key}: {value}', metadata_seperator='\\n'),\n",
       " Document(id_='b3febdf1-b2c2-429c-a34d-c5877f9ef76f', embedding=None, metadata={}, excluded_embed_metadata_keys=[], excluded_llm_metadata_keys=[], relationships={}, text='The Liechtenstein national football team has traditionally been regarded as an easy target for any team drawn against them, a fact that served as the basis for a book about Liechtenstein\\'s unsuccessful qualifying campaign for the 2002 World Cup by British author, Charlie Connelly. In one surprising week during autumn 2004, however, the team, headed by Patrick Nikodem, managed a 2â\\x80\\x932 draw with Portugal, which only a few months earlier had been the losing finalists in the European Championships. Four days later, the Liechtenstein team travelled to Luxembourg where they defeated the home team by 4 goals to 0 in a 2006 World Cup qualifying match. They are still considered by many to be an easier touch than most, however, they have been steadily improving over the last few years, and are now considered the best of the European \"minnows\". In the qualification stage of the European Championship 2008, Liechtenstein beat Latvia 1-0, score which prompted the resignation of the Latvian coach. They went on to beat Iceland 3-0 (October 17, 2007), which is considered one of the most dramatic losses of the Icelandic national soccer team.', mimetype='text/plain', start_char_idx=None, end_char_idx=None, text_template='{metadata_str}\\n\\n{content}', metadata_template='{key}: {value}', metadata_seperator='\\n'),\n",
       " Document(id_='6b4bf353-e8ef-4a18-9791-fe466cf3a5a5', embedding=None, metadata={}, excluded_embed_metadata_keys=[], excluded_llm_metadata_keys=[], relationships={}, text=\"As an alpine country, the main opportunity for Liechtensteiners to excel is in winter sports such as downhill skiing: Hanni Wenzel won two gold medals in the 1980 Winter Olympics.  With nine medals overall (all in alpine skiing), Liechtenstein has won more Olympic medals per capita than any other nation . The country's single ski area is Malbun.\", mimetype='text/plain', start_char_idx=None, end_char_idx=None, text_template='{metadata_str}\\n\\n{content}', metadata_template='{key}: {value}', metadata_seperator='\\n'),\n",
       " Document(id_='a814c1b9-76c7-40de-86a5-3b10d08ffa25', embedding=None, metadata={}, excluded_embed_metadata_keys=[], excluded_llm_metadata_keys=[], relationships={}, text='Vaduz, Liechtenstein, is considering a bid for either the 2018 Winter Olympics or 2022 Winter Olympics .', mimetype='text/plain', start_char_idx=None, end_char_idx=None, text_template='{metadata_str}\\n\\n{content}', metadata_template='{key}: {value}', metadata_seperator='\\n'),\n",
       " Document(id_='df745e8c-ad4a-480b-ad2b-447f4f99ecfb', embedding=None, metadata={}, excluded_embed_metadata_keys=[], excluded_llm_metadata_keys=[], relationships={}, text='Liechtenstein is one of the few countries in the world to have no army; defense is the responsibility of Switzerland.', mimetype='text/plain', start_char_idx=None, end_char_idx=None, text_template='{metadata_str}\\n\\n{content}', metadata_template='{key}: {value}', metadata_seperator='\\n'),\n",
       " Document(id_='f1689e15-0fe5-4403-8341-ea3013bcde43', embedding=None, metadata={}, excluded_embed_metadata_keys=[], excluded_llm_metadata_keys=[], relationships={}, text=\"In June 2003 the state tourism agency decided to give a boost to the country's tourism by offering to rent out the country to businesses and other organizations for conference hosting, weddings, or other such events. The company will be given keys to the capital city and be offered team-building/tourist activities and attractions, such as wine-tasting, tobogganing, and full access to one of the country's royal castles.\", mimetype='text/plain', start_char_idx=None, end_char_idx=None, text_template='{metadata_str}\\n\\n{content}', metadata_template='{key}: {value}', metadata_seperator='\\n'),\n",
       " Document(id_='ce146079-dcc8-4aa1-bbfb-997af0713c0f', embedding=None, metadata={}, excluded_embed_metadata_keys=[], excluded_llm_metadata_keys=[], relationships={}, text='Karl Schwarzler, along with the entire nation of Liechenstein, was awarded the Ig Nobel Prize in Economics in 2003 for this unique enterprise.  /ref>', mimetype='text/plain', start_char_idx=None, end_char_idx=None, text_template='{metadata_str}\\n\\n{content}', metadata_template='{key}: {value}', metadata_seperator='\\n'),\n",
       " Document(id_='26b40173-4882-49df-960b-3dae807020d8', embedding=None, metadata={}, excluded_embed_metadata_keys=[], excluded_llm_metadata_keys=[], relationships={}, text=\"* Harry's Mountain Walks in Liechtenstein The only English language guide to routes up and among Liechtensteins fabulous Alpine peaks; also available in German.\", mimetype='text/plain', start_char_idx=None, end_char_idx=None, text_template='{metadata_str}\\n\\n{content}', metadata_template='{key}: {value}', metadata_seperator='\\n'),\n",
       " Document(id_='5083c50d-ae58-42f7-aa81-29b0a30753f8', embedding=None, metadata={}, excluded_embed_metadata_keys=[], excluded_llm_metadata_keys=[], relationships={}, text='Theodore Roosevelt, Jr. ( ; October 27 1858   January 6 1919), also known as T.R., and to the public (but never to friends and intimates) as Teddy, was the twenty-sixth President of the United States, and a leader of the Republican Party and of the Progressive Movement.   He became the youngest President in United States history at the age of 42. He served in many roles including Governor of New York, historian, naturalist, explorer, author, and soldier. Roosevelt is most famous for his personality: his energy, his vast range of interests and achievements, his model of masculinity, and his \"cowboy\" persona. His last name, often mispronounced, is, per Roosevelt, \"pronounced as if it were spelled \\'Rosavelt\\', in three syllables, the first syllable as if it was \\'Rose.\\'\"', mimetype='text/plain', start_char_idx=None, end_char_idx=None, text_template='{metadata_str}\\n\\n{content}', metadata_template='{key}: {value}', metadata_seperator='\\n'),\n",
       " Document(id_='aaaf6c03-0519-4316-a5dd-9f7b6c56f906', embedding=None, metadata={}, excluded_embed_metadata_keys=[], excluded_llm_metadata_keys=[], relationships={}, text='As Assistant Secretary of the U.S. Navy, he prepared for and advocated war with Spain in 1898. He organized and helped command the 1st U.S. Volunteer Cavalry Regiment, the Rough Riders, during the Spanish-American War. Returning to New York as a war hero, he was elected Republican governor in 1899. He was a professional historian, a lawyer, a naturalist and explorer of the Amazon Basin; his 35 books include works on outdoor life, natural history, the American frontier, political history, naval history, and his autobiography.', mimetype='text/plain', start_char_idx=None, end_char_idx=None, text_template='{metadata_str}\\n\\n{content}', metadata_template='{key}: {value}', metadata_seperator='\\n'),\n",
       " Document(id_='aed71aef-a23c-427b-88e1-2e988ad6fdea', embedding=None, metadata={}, excluded_embed_metadata_keys=[], excluded_llm_metadata_keys=[], relationships={}, text='In 1901, as Vice President, Roosevelt succeeded President William McKinley after McKinley\\'s assassination.  He is the youngest person ever to become President (John F. Kennedy is the youngest elected President).  Roosevelt was a Progressive reformer who sought to move the dominant Republican Party into the Progressive camp.  He distrusted wealthy businessmen and dissolved forty monopolistic corporations as a \"trust buster\".  He was clear, however, to show he did not disagree with trusts and capitalism in principle but was only against corrupt, illegal practices. His \"Square Deal\" promised a fair shake for both the average citizen (through regulation of railroad rates and pure food and drugs) and the businessmen. As an outdoorsman, he promoted the conservation movement, emphasizing efficient use of natural resources.  After 1906 he attacked big business and suggested the courts were biased against labor unions. In 1910, he broke with his friend and anointed successor William Howard Taft, but lost the Republican nomination to Taft and ran in the 1912 election on his own one-time Bull Moose ticket.  Roosevelt beat Taft in the popular vote and pulled so many Progressives out of the Republican Party that Democrat Woodrow Wilson won in 1912, and the conservative faction took control of the Republican Party for the next two decades.', mimetype='text/plain', start_char_idx=None, end_char_idx=None, text_template='{metadata_str}\\n\\n{content}', metadata_template='{key}: {value}', metadata_seperator='\\n'),\n",
       " Document(id_='c411beac-b31d-4889-8ad2-831ce12c7146', embedding=None, metadata={}, excluded_embed_metadata_keys=[], excluded_llm_metadata_keys=[], relationships={}, text=\"Roosevelt negotiated for the U.S. to take control of the Panama Canal and its construction in 1904; he felt the Canal's completion was his most important and historically significant international achievement. He was the first American to be awarded the Nobel Prize, winning its Peace Prize in 1906, for negotiating the peace in the Russo-Japanese War.\", mimetype='text/plain', start_char_idx=None, end_char_idx=None, text_template='{metadata_str}\\n\\n{content}', metadata_template='{key}: {value}', metadata_seperator='\\n'),\n",
       " Document(id_='7e7f58b8-e95f-4753-8e97-1b8fba6a46f0', embedding=None, metadata={}, excluded_embed_metadata_keys=[], excluded_llm_metadata_keys=[], relationships={}, text='Historian Thomas Bailey, who disagreed with Roosevelt\\'s policies, nevertheless concluded, \"Roosevelt was a great personality, a great activist, a great preacher of the moralities, a great controversialist, a great showman. He dominated his era as he dominated conversations....the masses loved him; he proved to be a great popular idol and a great vote getter.\"    His image stands alongside Washington, Jefferson and Lincoln on Mount Rushmore.  Surveys of scholars have consistently ranked him from #3 to #7 on the list of greatest American presidents.', mimetype='text/plain', start_char_idx=None, end_char_idx=None, text_template='{metadata_str}\\n\\n{content}', metadata_template='{key}: {value}', metadata_seperator='\\n'),\n",
       " Document(id_='44de3a8a-8c53-4071-89ae-f6eb49bb0c75', embedding=None, metadata={}, excluded_embed_metadata_keys=[], excluded_llm_metadata_keys=[], relationships={}, text='Theodore Roosevelt at age 11', mimetype='text/plain', start_char_idx=None, end_char_idx=None, text_template='{metadata_str}\\n\\n{content}', metadata_template='{key}: {value}', metadata_seperator='\\n'),\n",
       " Document(id_='b5e5b232-f52a-4c90-b746-92d0b31a43d2', embedding=None, metadata={}, excluded_embed_metadata_keys=[], excluded_llm_metadata_keys=[], relationships={}, text='Theodore Roosevelt was born in a four-story brownstone at 28 East 20th Street, in the modern-day Gramercy section of New York City, the second of four children of Theodore Roosevelt, Sr. (1831â\\x80\\x931877) and Mittie Bulloch (1834â\\x80\\x931884). He had an elder sister Anna, nicknamed \"Bamie\" as a child and \"Bye\" as an adult for being always on the go; and two younger siblingsâ\\x80\\x94his brother Elliott (the father of Eleanor Roosevelt) and his sister Corinne, (grandmother of newspaper columnists, Joseph and Stewart Alsop).', mimetype='text/plain', start_char_idx=None, end_char_idx=None, text_template='{metadata_str}\\n\\n{content}', metadata_template='{key}: {value}', metadata_seperator='\\n'),\n",
       " Document(id_='cfdb44b9-5b75-470f-9880-f2c2ab0576b1', embedding=None, metadata={}, excluded_embed_metadata_keys=[], excluded_llm_metadata_keys=[], relationships={}, text='The Roosevelts had been in New York since the mid 18th century and had grown with the emerging New York commerce class after the American Revolution. Unlike many of the earlier \"log cabin Presidents,\" Roosevelt was born into a wealthy family. By the 19th century, the family had grown in wealth, power and influence from the profits of several businesses including hardware and plate-glass importing. The family was strongly Democratic in its political affiliation until the mid-1850s, then joined the new Republican Party.  Theodore\\'s father, known in the family as \"Thee\", was a New York City philanthropist, merchant, and partner in the family glass-importing firm Roosevelt and Son. He was a prominent supporter of Abraham Lincoln and the Union effort during the American Civil War. His mother Mittie Bulloch was a Southern belle from a slave-owning family in Savannah, Georgia and had quiet Confederate sympathies. Mittie\\'s brother, Theodore\\'s uncle, James Dunwoody Bulloch, was a U.S. Navy officer who became a Confederate admiral and naval procurement agent in Britain. Another uncle Irvine Bulloch was a midshipman on the Confederate raider, CSS Alabama; both remained in England after the war. . Pringle (1931) p. 11  From his grandparents\\' home, a young Roosevelt witnessed Abraham Lincoln\\'s funeral procession in New York.', mimetype='text/plain', start_char_idx=None, end_char_idx=None, text_template='{metadata_str}\\n\\n{content}', metadata_template='{key}: {value}', metadata_seperator='\\n'),\n",
       " Document(id_='d31de754-20e7-4094-bb47-e18094b288ef', embedding=None, metadata={}, excluded_embed_metadata_keys=[], excluded_llm_metadata_keys=[], relationships={}, text='Sickly and asthmatic as a youngster, Roosevelt had to sleep propped up in bed or slouching in a chair during much of his early childhood, and had frequent ailments. Despite his illnesses, he was a hyperactive and often mischievous young man. His lifelong interest in zoology was formed at age seven upon seeing a dead seal at a local market. After obtaining the seal\\'s head, the young Roosevelt and two of his cousins formed what they called the \"Roosevelt Museum of Natural History\". Learning the rudiments of taxidermy, he filled his makeshift museum with many animals that he killed or caught, studied, and prepared for display. At age nine, he codified his observation of insects with a paper titled \"The Natural History of Insects\".  \"TR\\'s Legacyâ\\x80\\x94The Environment\". Retrieved March 6, 2006.', mimetype='text/plain', start_char_idx=None, end_char_idx=None, text_template='{metadata_str}\\n\\n{content}', metadata_template='{key}: {value}', metadata_seperator='\\n'),\n",
       " Document(id_='873ddd91-62ec-479c-84d9-10243d26c62b', embedding=None, metadata={}, excluded_embed_metadata_keys=[], excluded_llm_metadata_keys=[], relationships={}, text='To combat his poor physical condition, his father compelled the young Roosevelt to take up exercise. To deal with bullies, Roosevelt started boxing lessons. Thayer, William Roscoe (1919).  Theodore Roosevelt: An Intimate Biography, Chapter I, p. 20. Bartleby.com.   Two trips abroad had a permanent impact: family tours of Europe in 1869 and 1870, and of the Middle East 1872 to 1873.', mimetype='text/plain', start_char_idx=None, end_char_idx=None, text_template='{metadata_str}\\n\\n{content}', metadata_template='{key}: {value}', metadata_seperator='\\n'),\n",
       " Document(id_='5214e361-3a68-4efc-a8e8-ac8208494149', embedding=None, metadata={}, excluded_embed_metadata_keys=[], excluded_llm_metadata_keys=[], relationships={}, text='Theodore Sr. had a tremendous influence on his son. Of him Roosevelt wrote, \"My father, Theodore Roosevelt, was the best man I ever knew. He combined strength and courage with gentleness, tenderness, and great unselfishness. He would not tolerate in us children selfishness or cruelty, idleness, cowardice, or untruthfulness.\" Roosevelt, Theodore (1913). Theodore Roosevelt: An Autobiography, Chapter I, p. 13.   Roosevelt\\'s sister later wrote, \"He told me frequently that he never took any serious step or made any vital decision for his country without thinking first what position his father would have taken.\"  \"The Film & More: Program Transcript Part One\". Retrieved March 9 2006.', mimetype='text/plain', start_char_idx=None, end_char_idx=None, text_template='{metadata_str}\\n\\n{content}', metadata_template='{key}: {value}', metadata_seperator='\\n'),\n",
       " Document(id_='b633e777-2516-4bb3-a5a5-7517ddfbb14a', embedding=None, metadata={}, excluded_embed_metadata_keys=[], excluded_llm_metadata_keys=[], relationships={}, text='Young \"Teedie\" , as he was nicknamed as a child, (the nickname \"Teddy\" was from his first wife, Alice Hathaway Lee, and he later harbored an intense dislike for it) was mostly home schooled by tutors and his parents. A leading biographer says: \"The most obvious drawback to the home schooling Roosevelt keely received was uneven coverage of the various areas of human knowledge.\" He was solid in geography (thanks to his careful observations on all his travels) and very well read in history, strong in biology, French and German, but deficient in mathematics, Latin and Greek.  Brands T. R. p. 49â\\x80\\x9350  He matriculated at Harvard College in 1876, graduating magna cum laude. His father\\'s death in 1878 was a tremendous blow, but Roosevelt redoubled his activities. He did well in science, philosophy and rhetoric courses but fared poorly in Latin and Greek.  He studied biology with great interest and indeed was already an accomplished naturalist and published ornithologist. He had a photographic memory and developed a life-long habit of devouring books, memorizing every detail. Brands p. 62  He was an eloquent conversationalist who, throughout his life, sought out the company of the smartest people. He could multitask in extraordinary fashion, dictating letters to one secretary and memoranda to another, while browsing through a new book.', mimetype='text/plain', start_char_idx=None, end_char_idx=None, text_template='{metadata_str}\\n\\n{content}', metadata_template='{key}: {value}', metadata_seperator='\\n'),\n",
       " Document(id_='76e31f29-938b-4c50-ab75-edc663a3552a', embedding=None, metadata={}, excluded_embed_metadata_keys=[], excluded_llm_metadata_keys=[], relationships={}, text='While at Harvard, Roosevelt was active in rowing, boxing and the Alpha Delta Phi and Delta Kappa Epsilon fraternities.  He also edited a student magazine. He was runner-up in the Harvard boxing championship, losing to C.S. Hanks. The sportsmanship Roosevelt showed in that fight was long remembered.  Upon graduating from Harvard, Roosevelt underwent a physical examination and his doctor advised him that due to serious heart problems, he should find a desk job and avoid strenuous activity. Roosevelt chose to embrace strenuous life instead. The Rise of Theodore Roosevelt by Edmund Morris.', mimetype='text/plain', start_char_idx=None, end_char_idx=None, text_template='{metadata_str}\\n\\n{content}', metadata_template='{key}: {value}', metadata_seperator='\\n'),\n",
       " Document(id_='8eb15b35-71e3-4305-b359-ccbfbff75650', embedding=None, metadata={}, excluded_embed_metadata_keys=[], excluded_llm_metadata_keys=[], relationships={}, text='He graduated Phi Beta Kappa and magna cum laude (22nd of 177) from Harvard in 1880, and entered Columbia Law School.  When offered a chance to run for New York Assemblyman in 1881, he dropped out of law school to pursue his new goal of entering public life. Brands, pp 123â\\x80\\x9329', mimetype='text/plain', start_char_idx=None, end_char_idx=None, text_template='{metadata_str}\\n\\n{content}', metadata_template='{key}: {value}', metadata_seperator='\\n'),\n",
       " Document(id_='b44257b6-d5cd-46e4-b7ff-f497bd19389e', embedding=None, metadata={}, excluded_embed_metadata_keys=[], excluded_llm_metadata_keys=[], relationships={}, text='Roosevelt as NY State Assemblyman 1883, photo', mimetype='text/plain', start_char_idx=None, end_char_idx=None, text_template='{metadata_str}\\n\\n{content}', metadata_template='{key}: {value}', metadata_seperator='\\n'),\n",
       " Document(id_='cb7200cd-ec3b-44f7-a681-2495fdf3ba06', embedding=None, metadata={}, excluded_embed_metadata_keys=[], excluded_llm_metadata_keys=[], relationships={}, text='Roosevelt was a Republican activist during his years in the Assembly, writing more bills than any other New York state legislator. Already a major player in state politics, he attended the Republican National Convention in 1884 and fought alongside the Mugwump reformers; they lost to the Stalwart faction that nominated James G. Blaine. Refusing to join other Mugwumps in supporting Democrat Grover Cleveland, the Democratic nominee, he stayed loyal.', mimetype='text/plain', start_char_idx=None, end_char_idx=None, text_template='{metadata_str}\\n\\n{content}', metadata_template='{key}: {value}', metadata_seperator='\\n'),\n",
       " Document(id_='2b4e678c-ed4b-40f4-b0a0-56f8fc8fd10f', embedding=None, metadata={}, excluded_embed_metadata_keys=[], excluded_llm_metadata_keys=[], relationships={}, text=\"Alice Hathaway Lee Roosevelt (July 29, 1861 in Chestnut Hill, Massachusetts â\\x80\\x93 February 14 1884 in Manhattan, New York) was the first wife of Theodore Roosevelt and mother of their only child together, Alice Lee Roosevelt.  Alice Roosevelt died of an undiagnosed case of Bright's Disease two days after Alice Lee was born.  Theodore Roosevelt's mother Mittie died of Typhoid fever in the same house on the same day, Feb. 14, 1884.  After the simultaneous deaths of his mother and wife, Roosevelt left his daughter in the care of his sister in New York and moved out to Dakota Territory.\", mimetype='text/plain', start_char_idx=None, end_char_idx=None, text_template='{metadata_str}\\n\\n{content}', metadata_template='{key}: {value}', metadata_seperator='\\n'),\n",
       " Document(id_='e0a0c647-b94a-4b3e-a911-b3fb3a9707d3', embedding=None, metadata={}, excluded_embed_metadata_keys=[], excluded_llm_metadata_keys=[], relationships={}, text='Theodore Roosevelt as Badlands hunter in 1885. New York studio photo. Note the engraved knife and rifle courtesy of Tiffany and Co.', mimetype='text/plain', start_char_idx=None, end_char_idx=None, text_template='{metadata_str}\\n\\n{content}', metadata_template='{key}: {value}', metadata_seperator='\\n'),\n",
       " Document(id_='4efe1bb1-757e-44ee-9760-bcc89801d59a', embedding=None, metadata={}, excluded_embed_metadata_keys=[], excluded_llm_metadata_keys=[], relationships={}, text='Roosevelt built a second ranch he named Elk Horn thirty five miles (56 km) north of the boomtown, Medora, North Dakota. On the banks of the \"Little Missouri,\" Roosevelt learned to ride, rope, and hunt. ', mimetype='text/plain', start_char_idx=None, end_char_idx=None, text_template='{metadata_str}\\n\\n{content}', metadata_template='{key}: {value}', metadata_seperator='\\n'),\n",
       " Document(id_='b04e80c8-ffab-4bc0-afca-7acbc687f8a9', embedding=None, metadata={}, excluded_embed_metadata_keys=[], excluded_llm_metadata_keys=[], relationships={}, text='Roosevelt rebuilt his life and began writing about frontier life for Eastern magazines. As a deputy sheriff, Roosevelt hunted down three outlaws who stole his river boat and were escaping north with it up the Little Missouri River. Capturing them, he decided against hanging them and sending his foreman back by boat, he took the thieves back overland for trial in Dickinson, guarding them forty hours without sleep and reading Tolstoy to keep himself awake. When he ran out of his own books he read a dime store western one of the thieves was carrying.', mimetype='text/plain', start_char_idx=None, end_char_idx=None, text_template='{metadata_str}\\n\\n{content}', metadata_template='{key}: {value}', metadata_seperator='\\n'),\n",
       " Document(id_='c510ac58-c26b-4b66-880c-3d423ee97c24', embedding=None, metadata={}, excluded_embed_metadata_keys=[], excluded_llm_metadata_keys=[], relationships={}, text='While working on a tough project aimed at hunting down a group of relentless horse thieves, Roosevelt came across the famous Deadwood, South Dakota Sheriff Seth Bullock. The two would remain friends for life. (Morris, Rise of, 241â\\x80\\x93245, 247â\\x80\\x93250)', mimetype='text/plain', start_char_idx=None, end_char_idx=None, text_template='{metadata_str}\\n\\n{content}', metadata_template='{key}: {value}', metadata_seperator='\\n'),\n",
       " Document(id_='f2cbcd09-06a0-4d3d-8ac9-5844f40763b4', embedding=None, metadata={}, excluded_embed_metadata_keys=[], excluded_llm_metadata_keys=[], relationships={}, text='After the uniquely severe U.S. winter of 1886-1887 wiped out his herd of cattle and his $60,000 investment (together with those of his competitors), he returned to the East, where in 1885, he had built Sagamore Hill in Oyster Bay, New York. It would be his home and estate until his death. Roosevelt ran as the Republican candidate for mayor of New York City in 1886 as \"The Cowboy of the Dakotas.\" He came in third.', mimetype='text/plain', start_char_idx=None, end_char_idx=None, text_template='{metadata_str}\\n\\n{content}', metadata_template='{key}: {value}', metadata_seperator='\\n'),\n",
       " Document(id_='e4c8d501-0e0f-428f-a3fb-0b6f5422f744', embedding=None, metadata={}, excluded_embed_metadata_keys=[], excluded_llm_metadata_keys=[], relationships={}, text='Following the election, he went to London in 1886 and married his childhood sweetheart, Edith Kermit Carow. Thayer, Chapter V, pp. 4, 6.  They honeymooned in Europe, and Roosevelt led a party to the summit of Mont Blanc, a feat which resulted in his induction into the British Royal Society.  Encyclopedia Britannica, 1910 Edition, Topic: Theodore Roosevelt   They had five children: Theodore Jr., Kermit, Ethel Carow, Archibald Bulloch \"Archie\", and Quentin.  Although Roosevelt\\'s father was also named Theodore Roosevelt, he died while the future president was still childless and unmarried, so the future President Roosevelt took the suffix of Sr. and subsequently named his son Theodore Roosevelt, Jr. Because Roosevelt was still alive when his grandson and namesake was born, his grandson was named Theodore Roosevelt III, and the president\\'s son retained the Jr. after his father\\'s death.', mimetype='text/plain', start_char_idx=None, end_char_idx=None, text_template='{metadata_str}\\n\\n{content}', metadata_template='{key}: {value}', metadata_seperator='\\n'),\n",
       " Document(id_='54f4d3c1-085b-4976-a6b6-f0fc039ed6a8', embedding=None, metadata={}, excluded_embed_metadata_keys=[], excluded_llm_metadata_keys=[], relationships={}, text=\"Roosevelt's book The Naval War of 1812 (1882) was standard history for two generations. Roosevelt undertook extensive and original research going computing British and American man-of-war broadside throw weights. See  The Naval War of 1812, via Project Gutenberg.\", mimetype='text/plain', start_char_idx=None, end_char_idx=None, text_template='{metadata_str}\\n\\n{content}', metadata_template='{key}: {value}', metadata_seperator='\\n'),\n",
       " Document(id_='a393eb65-3ec6-42e1-832c-fc60093d0969', embedding=None, metadata={}, excluded_embed_metadata_keys=[], excluded_llm_metadata_keys=[], relationships={}, text='By comparison, however, his hastily-written biographies  of Thomas Hart Benton (1887) and Gouverneur Morris (1888) are considered  superficial.  Pringle (1931) p 116    His major achievement was a four-volume history of the frontier, The Winning of the West (1889â\\x80\\x931896), which had a notable impact on historiography as it presented a highly original version of the frontier thesis elaborated upon in 1893 by his friend Frederick Jackson Turner. Roosevelt argued that the harsh frontier conditions had created a new \"race\": the American people that replaced the \"scattered savage tribes, whose life was but a few degrees less meaningless, squalid, and ferocious than that of the wild beasts with whom they held joint ownership\". He believed that \"the conquest and settlement by the whites of the Indian lands was necessary to the greatness of the race and to the well-being of civilized mankind\".  He was using an evolutionary model in which new environmental conditions allow a new species to form. His many articles in upscale magazines provided a much-needed income, as well as cementing a reputation as a major national intellectual. He was later chosen president of the ', mimetype='text/plain', start_char_idx=None, end_char_idx=None, text_template='{metadata_str}\\n\\n{content}', metadata_template='{key}: {value}', metadata_seperator='\\n'),\n",
       " Document(id_='0ffc9cec-0bdd-48be-9770-ebc6c0822efa', embedding=None, metadata={}, excluded_embed_metadata_keys=[], excluded_llm_metadata_keys=[], relationships={}, text='American Historical Association.', mimetype='text/plain', start_char_idx=None, end_char_idx=None, text_template='{metadata_str}\\n\\n{content}', metadata_template='{key}: {value}', metadata_seperator='\\n'),\n",
       " Document(id_='81f58681-3e3f-40bb-bf6d-87a25d33d132', embedding=None, metadata={}, excluded_embed_metadata_keys=[], excluded_llm_metadata_keys=[], relationships={}, text='In the The Winning of the West (1889â\\x80\\x931896), Roosevelt\\'s frontier thesis stressed the racial struggle between \"civilization\" and \"savagery.\" He supported Nordicism, the belief in the superiority of the \"Nordic\" race, along with social Darwinism and racialism. Excerpts:', mimetype='text/plain', start_char_idx=None, end_char_idx=None, text_template='{metadata_str}\\n\\n{content}', metadata_template='{key}: {value}', metadata_seperator='\\n'),\n",
       " Document(id_='f55064b2-7d34-4258-86e6-4aff75b04a88', embedding=None, metadata={}, excluded_embed_metadata_keys=[], excluded_llm_metadata_keys=[], relationships={}, text='# \"The settler and pioneer have at bottom had justice on their side; this great continent could not have been kept as nothing but a game preserve for squalid savages\".', mimetype='text/plain', start_char_idx=None, end_char_idx=None, text_template='{metadata_str}\\n\\n{content}', metadata_template='{key}: {value}', metadata_seperator='\\n'),\n",
       " Document(id_='038f2ee4-a841-4b80-ba21-bed2f3d8b0c4', embedding=None, metadata={}, excluded_embed_metadata_keys=[], excluded_llm_metadata_keys=[], relationships={}, text='# \"The most ultimately righteous of all wars is a war with savages\".', mimetype='text/plain', start_char_idx=None, end_char_idx=None, text_template='{metadata_str}\\n\\n{content}', metadata_template='{key}: {value}', metadata_seperator='\\n'),\n",
       " Document(id_='ce26081f-334f-4a80-bb50-b2ff6b71fdf2', embedding=None, metadata={}, excluded_embed_metadata_keys=[], excluded_llm_metadata_keys=[], relationships={}, text='# \"American and Indian, Boer and Zulu, Cossack and Tartar, New Zealander and Maori, â\\x80\\x94 in each case the victor, horrible though many of his deeds are, has laid deep the foundations for the future greatness of a mighty people\".', mimetype='text/plain', start_char_idx=None, end_char_idx=None, text_template='{metadata_str}\\n\\n{content}', metadata_template='{key}: {value}', metadata_seperator='\\n'),\n",
       " Document(id_='fe676012-b322-4a91-b91e-8c43a7a85d60', embedding=None, metadata={}, excluded_embed_metadata_keys=[], excluded_llm_metadata_keys=[], relationships={}, text='# \"..it is of incalculable importance that America, Australia, and Siberia should pass out of the hands of their red, black, and yellow aboriginal owners, and become the heritage of the dominant world races\".', mimetype='text/plain', start_char_idx=None, end_char_idx=None, text_template='{metadata_str}\\n\\n{content}', metadata_template='{key}: {value}', metadata_seperator='\\n'),\n",
       " Document(id_='90d3e052-0eb4-4bd2-9a68-ed665090b434', embedding=None, metadata={}, excluded_embed_metadata_keys=[], excluded_llm_metadata_keys=[], relationships={}, text='# \"The world would have halted had it not been for the Teutonic conquests in alien lands; but the victories of Moslem over Christian have always proved a curse in the end. Nothing but sheer evil has come from the victories of Turk and Tartar\".', mimetype='text/plain', start_char_idx=None, end_char_idx=None, text_template='{metadata_str}\\n\\n{content}', metadata_template='{key}: {value}', metadata_seperator='\\n'),\n",
       " Document(id_='d2d68150-3069-4967-8f41-c920ef4c2061', embedding=None, metadata={}, excluded_embed_metadata_keys=[], excluded_llm_metadata_keys=[], relationships={}, text=\"What did not, however, conform to the views of Roosevelt's day was that race should never be the primary factor in someone of ability performing any job. Some notable events in Theodore Roosevelt's life included:\", mimetype='text/plain', start_char_idx=None, end_char_idx=None, text_template='{metadata_str}\\n\\n{content}', metadata_template='{key}: {value}', metadata_seperator='\\n'),\n",
       " Document(id_='c664cb6e-621d-4cf8-aeb4-f1d87942587c', embedding=None, metadata={}, excluded_embed_metadata_keys=[], excluded_llm_metadata_keys=[], relationships={}, text='*Developing a close relationship with the Hidatsa Indians that is maintained today in the oral tradition of the tribe.', mimetype='text/plain', start_char_idx=None, end_char_idx=None, text_template='{metadata_str}\\n\\n{content}', metadata_template='{key}: {value}', metadata_seperator='\\n'),\n",
       " Document(id_='14420f9a-4482-497b-833c-71de96701a8e', embedding=None, metadata={}, excluded_embed_metadata_keys=[], excluded_llm_metadata_keys=[], relationships={}, text='*Openly supporting a bill in the New York State Assembly which allowed desegregation of schools in the state, personally noting that his children had been educated with other races and there was nothing wrong with it.', mimetype='text/plain', start_char_idx=None, end_char_idx=None, text_template='{metadata_str}\\n\\n{content}', metadata_template='{key}: {value}', metadata_seperator='\\n'),\n",
       " Document(id_='16465c43-d0fb-4510-85b9-9fc13e803ae2', embedding=None, metadata={}, excluded_embed_metadata_keys=[], excluded_llm_metadata_keys=[], relationships={}, text='*Defended the Postmaster of Indianola, Mississippi, Minnie D. Cox. She was an African-American, and on that basis alone she was threatened with mob violence and was forced to resign. Roosevelt took action by closing the post office there, ignored her resignation, and still paid her what she was due as if nothing happened.', mimetype='text/plain', start_char_idx=None, end_char_idx=None, text_template='{metadata_str}\\n\\n{content}', metadata_template='{key}: {value}', metadata_seperator='\\n'),\n",
       " Document(id_='a8d3c710-b5aa-4927-8f59-86c97983e81e', embedding=None, metadata={}, excluded_embed_metadata_keys=[], excluded_llm_metadata_keys=[], relationships={}, text='New York City Police Commissioner 1896', mimetype='text/plain', start_char_idx=None, end_char_idx=None, text_template='{metadata_str}\\n\\n{content}', metadata_template='{key}: {value}', metadata_seperator='\\n'),\n",
       " Document(id_='872e7ec9-2798-4a66-8637-db1a08af2de4', embedding=None, metadata={}, excluded_embed_metadata_keys=[], excluded_llm_metadata_keys=[], relationships={}, text=\"In the 1888 presidential election, Roosevelt campaigned in the Midwest for Benjamin Harrison. President Harrison appointed Roosevelt to the United States Civil Service Commission, where he served until 1895. Thayer, ch. VI, pp. 1â\\x80\\x932.  In his term, he vigorously fought the spoilsmen and demanded the enforcement of civil service laws. In spite of Roosevelt's support for Harrison's reelection bid in the presidential election of 1892, the eventual winner, Grover Cleveland (a Bourbon Democrat), re appointed him to the same post.\", mimetype='text/plain', start_char_idx=None, end_char_idx=None, text_template='{metadata_str}\\n\\n{content}', metadata_template='{key}: {value}', metadata_seperator='\\n'),\n",
       " Document(id_='7f440f81-0b14-442b-b85e-14570e7f0a03', embedding=None, metadata={}, excluded_embed_metadata_keys=[], excluded_llm_metadata_keys=[], relationships={}, text='Roosevelt became president of the board of New York City Police Commissioners in 1895. During the two years he held this post, Roosevelt radically reformed the police department. The police force was reputed as one of the most corrupt in America.  NYPD\\'s history division records Roosevelt was, \"an iron-willed leader of unimpeachable honesty, (who) brought a reforming zeal to the New York City Police Commission in 1895.\" Andrews, William, \"The Early Years: The Challenge of Public Order - 1845 to 1870\",  - New York City Police Department History Site. Retrieved August 28 2006.  Roosevelt and his fellow commissioners established new disciplinary rules, created a bicycle squad to police New York\\'s traffic problems and standardized the use of pistols by officers. Editors, \"Leadership of the City of New York Police Department 1845â\\x80\\x931901\",  - The New York City Police Department Museum. Retrieved August 28 2006.  Roosevelt implemented regular inspections of firearms, annual physical exams, appointed 1,600 new recruits based on their physical and mental qualifications and not on political affiliation, opened the department to ethnic minorities and women, established meritorious service medals, and shut down corrupt police hostelries.  During his tenure a Municipal Lodging House was established by the Board of Charities and Roosevelt required officers to register with the Board. He also had telephones installed in station houses. Always an energetic man, he made a habit of walking officers\\' beats late at night and early in the morning to make sure they were on duty. Brands ch 11    He became caught up in public disagreements with commissioner Parker, who sought to negate or delay the promotion of many officers put forward by Roosevelt.', mimetype='text/plain', start_char_idx=None, end_char_idx=None, text_template='{metadata_str}\\n\\n{content}', metadata_template='{key}: {value}', metadata_seperator='\\n'),\n",
       " Document(id_='366f56ce-127c-4c13-b4c2-a7d756730217', embedding=None, metadata={}, excluded_embed_metadata_keys=[], excluded_llm_metadata_keys=[], relationships={}, text='Assistant Secretary of the Navy Roosevelt (front center) at the Naval War College, c. 1897', mimetype='text/plain', start_char_idx=None, end_char_idx=None, text_template='{metadata_str}\\n\\n{content}', metadata_template='{key}: {value}', metadata_seperator='\\n'),\n",
       " Document(id_='4b53fcde-ec43-403f-a2a5-1bfb0be2a2e3', embedding=None, metadata={}, excluded_embed_metadata_keys=[], excluded_llm_metadata_keys=[], relationships={}, text='Roosevelt had always been fascinated by naval history. Urged by Roosevelt\\'s close friend, Congressman Henry Cabot Lodge, President William McKinley appointed a delighted Roosevelt to the post of Assistant Secretary of the Navy in 1897.  (Because of the inactivity of Secretary of the Navy John D. Long at the time, this basically gave Roosevelt control over the department.) Roosevelt was instrumental in preparing the Navy for the Spanish-American War Brands ch 12  and was an enthusiastic proponent of testing the U.S. military in battle, at one point stating \"I should welcome almost any war, for I think this country needs one\".', mimetype='text/plain', start_char_idx=None, end_char_idx=None, text_template='{metadata_str}\\n\\n{content}', metadata_template='{key}: {value}', metadata_seperator='\\n'),\n",
       " Document(id_='5bacb643-b941-4337-a5b6-dc6e13ea5874', embedding=None, metadata={}, excluded_embed_metadata_keys=[], excluded_llm_metadata_keys=[], relationships={}, text='Roosevelt left his civilian Navy post to form the famous \"Rough Riders\" Regiment', mimetype='text/plain', start_char_idx=None, end_char_idx=None, text_template='{metadata_str}\\n\\n{content}', metadata_template='{key}: {value}', metadata_seperator='\\n'),\n",
       " Document(id_='9841534a-71f6-4b35-b8c8-d2559a692c87', embedding=None, metadata={}, excluded_embed_metadata_keys=[], excluded_llm_metadata_keys=[], relationships={}, text='Upon the declaration of war in 1898 that would be known as the Spanish-American War, Roosevelt resigned from the Navy Department and, with the aid of U.S. Army Colonel Leonard Wood, organized the First U.S. Volunteer Cavalry Regiment from cowboys from the Western territories to Ivy League friends from New York. The newspapers called them the \"Rough Riders.\" Originally Roosevelt held the rank of Lieutenant Colonel and served under Colonel Wood, but after Wood was promoted to Brigadier General of Volunteer Forces, Roosevelt was promoted to Colonel and given command of the Regiment.  . Even after his return to civilian life, Roosevelt preferred to be known as \"Colonel Roosevelt\" or \"The Colonel.\" As a moniker, \"Teddy\" remained much more popular with the general public; however, political friends and others who worked closely with Roosevelt customarily addressed him by his rank. ', mimetype='text/plain', start_char_idx=None, end_char_idx=None, text_template='{metadata_str}\\n\\n{content}', metadata_template='{key}: {value}', metadata_seperator='\\n'),\n",
       " Document(id_='2f0f4f4c-471c-4ab1-b59a-b97cf0d8b6de', embedding=None, metadata={}, excluded_embed_metadata_keys=[], excluded_llm_metadata_keys=[], relationships={}, text='Colonel Roosevelt and his \"Rough Riders\" after capturing San Juan Hill during the Spanish-American War', mimetype='text/plain', start_char_idx=None, end_char_idx=None, text_template='{metadata_str}\\n\\n{content}', metadata_template='{key}: {value}', metadata_seperator='\\n'),\n",
       " Document(id_='b57e5d3e-af14-40eb-9159-ef50ac7b9457', embedding=None, metadata={}, excluded_embed_metadata_keys=[], excluded_llm_metadata_keys=[], relationships={}, text=\"Under his leadership, the Rough Riders became famous for dual charges up Kettle Hill and San Juan Hill in July 1898 (the battle was named after the latter hill).  Out of all the Rough Riders, Roosevelt was the only one who had a horse, and was forced to walk up Kettle Hill on foot after his horse, Little Texas, became tired. For his actions, Roosevelt was nominated for the Medal of Honor which was subsequently disapproved.  It has been widely speculated this disapproval was because of Roosevelt's outspoken comments of the handling of the War. In September 1997, Congressman Rick Lazio representing the 2nd District of New York sent two award recommendations to the U.S. Army Military Awards Branch. These recommendations addressed to Brigadier General Earl Simms, the Army's Adjutant General and one to Master Sergeant Gary Soots, Chief of Authorizations, would prove successful in garnering the much sought after award. Soots Letter  Roosevelt was posthumously awarded the Medal of Honor in 2001 for his actions. Brands ch 13  He was the first and, as of 2007, the only President of the United States to be awarded with America's highest military honor, and the only person in history to receive both his nation's highest honor for military valor and the world's foremost prize for peace.    Chicago newspaper sees cowboy-TR campaigning for governor\", mimetype='text/plain', start_char_idx=None, end_char_idx=None, text_template='{metadata_str}\\n\\n{content}', metadata_template='{key}: {value}', metadata_seperator='\\n'),\n",
       " Document(id_='fdcd547d-e237-4eb0-8002-0b75758d4ccc', embedding=None, metadata={}, excluded_embed_metadata_keys=[], excluded_llm_metadata_keys=[], relationships={}, text='On leaving the Army, Roosevelt re-entered New York state politics and was elected governor of New York in 1898 on the Republican ticket. He made such a concerted effort to root out corruption and \"machine politics\" Republican boss Thomas Collier Platt forced him on McKinley as a running mate in the 1900 election, against the wishes of McKinley\\'s manager Senator Mark Hanna.  Roosevelt was a powerful campaign asset for the Republican ticket, which defeated William Jennings Bryan in a landslide based on restoration of prosperity at home and a successful war and new prestige abroad. Bryan stumped for Free Silver again, but McKinley\\'s  promise of prosperity through the Gold Standard, high tariffs, and the restoration of business confidence enlarged his margin of victory.  Bryan had strongly supported the war against Spain, but denounced the annexation of the Philippines as imperialism that would spoil America\\'s innocence.  Roosevelt countered with many speeches that argued it was best for the Filipinos to have stability, and the Americans to have a proud place in the world.  Roosevelt\\'s six months as Vice President (March to September, 1901) were uneventful. Brands ch 14â\\x80\\x9315  On September 2, 1901, at the Minnesota State Fair, Roosevelt first used in a public speech a saying that would later be universally associated with him: \"Speak softly and carry a big stick, and you will go far.\"', mimetype='text/plain', start_char_idx=None, end_char_idx=None, text_template='{metadata_str}\\n\\n{content}', metadata_template='{key}: {value}', metadata_seperator='\\n'),\n",
       " Document(id_='b86c9d8e-5e9c-4892-a6d7-c14e0b07f6b5', embedding=None, metadata={}, excluded_embed_metadata_keys=[], excluded_llm_metadata_keys=[], relationships={}, text='At the Pan-American Exposition in Buffalo, New York President McKinley was shot by Leon Czolgosz (Zol-gash), on September 6, 1901.  Roosevelt had been giving a speech in Vermont when he heard of the shooting. He rushed to Buffalo but after being assured the President would recover, he went on a planned family camping and hiking trip to Mount Marcy. In the mountains a runner notified him McKinley was on his death bed. Roosevelt pondered with his wife, Edith, how best to respond, not wanting to show up in Buffalo and wait on McKinley\\'s death. Roosevelt was rushed by a series of stagecoaches to North Creek train station. At the station, Roosevelt was handed a telegram that said President McKinley died at 2:30 AM that morning. Roosevelt continued by train from North Creek to Buffalo. He arrived in Buffalo later that day, accepting an invitation to stay at the home of Ansley Wilcox, a prominent lawyer and friend since the early 1880s when they had both worked closely with New York State Governor Grover Cleveland on civil service reform. Wilcox recalled, \"the family and most of the household were in the country, but he Roosevelt was offered a quiet place to sleep and eat, and accepted it.\" Roosevelt was a successful president. He would achieve a lot of goals in life. Some of these goals were that he won the Spanish-American War, and the Nobel Peace Prize, and he also was the youngest president in United States history. \"It is a dreadful thing to come into the Presidency this way.\" Retrieved February 2 2007.  ', mimetype='text/plain', start_char_idx=None, end_char_idx=None, text_template='{metadata_str}\\n\\n{content}', metadata_template='{key}: {value}', metadata_seperator='\\n'),\n",
       " Document(id_='588641a4-dc02-449d-b5e8-205b2e1fb458', embedding=None, metadata={}, excluded_embed_metadata_keys=[], excluded_llm_metadata_keys=[], relationships={}, text='Nashville Tennessee News sketch of Theodore Roosevelt inauguration minus the customary Bible.  Inauguration photos were not allowed after a rival photographer unceremoniously knocked down another\\'s camera. Roosevelt took the oath of office in the Ansley Wilcox House at Buffalo, New York borrowing Wilcox\\'s morning coat.  Roosevelt did not swear on a Bible    , in contrast to the usual tradition of US presidents   Bibles and Scripture Passages Used by Presidents in Taking the Oath of Office. Retrieved September 23, 2007. . Expressing the fears of many old line Republicans, Mark Hanna lamented \"that damned cowboy is president now.\"     Roosevelt was the youngest person to assume the presidency, at 42, and he promised to continue McKinley\\'s cabinet and his basic policies. Roosevelt did so, but after winning election in 1904, he moved to the political left, stretching his ties to the Republican Party\\'s conservative leaders. Brands ch 16', mimetype='text/plain', start_char_idx=None, end_char_idx=None, text_template='{metadata_str}\\n\\n{content}', metadata_template='{key}: {value}', metadata_seperator='\\n'),\n",
       " Document(id_='da5af789-4a26-4658-ac54-6c9555994894', embedding=None, metadata={}, excluded_embed_metadata_keys=[], excluded_llm_metadata_keys=[], relationships={}, text='A national emergency was averted in 1902 when Roosevelt found a compromise to the anthracite coal strike by the United Mine Workers of America that threatened the heating supplies of most urban homes. Roosevelt called the mine owners and the labor leaders to the White House and negotiated a compromise. Miners were on strike for 163 days before it ended; they were granted a 10% pay increase and a 9-hour day (from the previous 10 hours), but the union was not officially recognized and the price of coal went up. Brands ch 17', mimetype='text/plain', start_char_idx=None, end_char_idx=None, text_template='{metadata_str}\\n\\n{content}', metadata_template='{key}: {value}', metadata_seperator='\\n'),\n",
       " Document(id_='56edf3e8-4c85-4509-8e12-ba82d9c22237', embedding=None, metadata={}, excluded_embed_metadata_keys=[], excluded_llm_metadata_keys=[], relationships={}, text='Theodore Roosevelt promised to continue McKinley\\'s program, and at first he worked closely with McKinley\\'s men.  His 20,000-word address to the Congress in December 1901, asked Congress to curb the power of trusts \"within reasonable limits.\" They did not act but Roosevelt did, issuing 44 lawsuits against major corporations; he was called the \"trust-buster.\"', mimetype='text/plain', start_char_idx=None, end_char_idx=None, text_template='{metadata_str}\\n\\n{content}', metadata_template='{key}: {value}', metadata_seperator='\\n'),\n",
       " Document(id_='bc3590db-a3e3-4ee7-ae51-87020f3df092', embedding=None, metadata={}, excluded_embed_metadata_keys=[], excluded_llm_metadata_keys=[], relationships={}, text='Roosevelt firmly believed: \"The Government must in increasing degree supervise and regulate the workings of the railways engaged in interstate commerce.\" Inaction was a danger, he argued: \"Such increased supervision is the only alternative to an increase of the present evils on the one hand or a still more radical policy on the other.\" Annual Message December 1904', mimetype='text/plain', start_char_idx=None, end_char_idx=None, text_template='{metadata_str}\\n\\n{content}', metadata_template='{key}: {value}', metadata_seperator='\\n'),\n",
       " Document(id_='e9af170b-b90c-4d48-8fb7-1e73acecce01', embedding=None, metadata={}, excluded_embed_metadata_keys=[], excluded_llm_metadata_keys=[], relationships={}, text='His biggest success was passage of the Hepburn Act of 1906, the provisions of which were to be regulated by the Interstate Commerce Commission (ICC). The most important provision of the Act gave the ICC the power to replace existing rates with \"just-and-reasonable\" maximum rates, with the ICC to define what was just and reasonable. Anti-rebate provisions were toughened, free passes were outlawed, and the penalties for violation were increased. Finally, the ICC gained the power to prescribe a uniform system of accounting, require standardized reports, and inspect railroad accounts. The Act made ICC orders binding; that is, the railroads had to either obey or contest the ICC orders in federal court. To speed the process, appeals from the district courts would go directly to the U.S. Supreme Court.', mimetype='text/plain', start_char_idx=None, end_char_idx=None, text_template='{metadata_str}\\n\\n{content}', metadata_template='{key}: {value}', metadata_seperator='\\n'),\n",
       " Document(id_='6ffc9634-45b0-43d4-9d00-9a8ea6b6b8fd', embedding=None, metadata={}, excluded_embed_metadata_keys=[], excluded_llm_metadata_keys=[], relationships={}, text=\"In response to public clamor (and due to the uproar cause by Upton Sinclair's book The Jungle), Roosevelt pushed Congress to pass the Pure Food and Drug Act of 1906, as well as the Meat Inspection Act of 1906. These laws provided for labeling of foods and drugs, inspection of livestock and mandated sanitary conditions at meatpacking plants. Congress replaced Roosevelt's proposals with a version supported by the major meatpackers who worried about the overseas markets, and did not want small unsanitary plants undercutting their domestic market. Blum 1980 pp 43â\\x80\\x9344\", mimetype='text/plain', start_char_idx=None, end_char_idx=None, text_template='{metadata_str}\\n\\n{content}', metadata_template='{key}: {value}', metadata_seperator='\\n'),\n",
       " Document(id_='047be6e0-d15d-4b5d-9a39-2c3fbb722fdb', embedding=None, metadata={}, excluded_embed_metadata_keys=[], excluded_llm_metadata_keys=[], relationships={}, text='Democrats attack Roosevelt as militarist and ineffective in this 1904 election cartoon', mimetype='text/plain', start_char_idx=None, end_char_idx=None, text_template='{metadata_str}\\n\\n{content}', metadata_template='{key}: {value}', metadata_seperator='\\n'),\n",
       " Document(id_='4ceffe88-77e1-49af-a751-54b1611b1420', embedding=None, metadata={}, excluded_embed_metadata_keys=[], excluded_llm_metadata_keys=[], relationships={}, text=\"Theodore Roosevelt was the fifth Vice President to succeed to the office of President, but the first to win election in his own right.  (Millard Fillmore ran and lost on a third-party ticket four years after leaving office and Chester Arthur was denied nomination by his party in 1884).  After Senator Mark Hanna, McKinley's old campaign manager, died in February 1904, there was no one in the Republican Party to oppose Roosevelt and he easily won the nomination.  When an effort to draft former president Grover Cleveland failed, the Democrats were without a candidate and finally settled on obscure New York judge Alton B. Parker.  The outcome was never in doubt.  Roosevelt crushed Parker 56%-38% in the popular vote and 336-140 in the Electoral College, sweeping the country outside the perennially Democratic Solid South.  Socialist Eugene Debs got 3%.  The night of the election, after his victory was clear, Roosevelt promised not to run again in 1908.  He later regretted that promise, as it compelled him to leave the White House at the age of only fifty, at the height of his popularity.\", mimetype='text/plain', start_char_idx=None, end_char_idx=None, text_template='{metadata_str}\\n\\n{content}', metadata_template='{key}: {value}', metadata_seperator='\\n'),\n",
       " Document(id_='9d5fc1d5-ff9d-439b-b2e7-28293d27a44f', embedding=None, metadata={}, excluded_embed_metadata_keys=[], excluded_llm_metadata_keys=[], relationships={}, text='Roosevelt worked closely with early conservationists such as Gifford Pinchot, pictured above, with whom he organized the first National Governors Conservation Conference at the White House in 1908', mimetype='text/plain', start_char_idx=None, end_char_idx=None, text_template='{metadata_str}\\n\\n{content}', metadata_template='{key}: {value}', metadata_seperator='\\n'),\n",
       " Document(id_='72e2986e-3bb7-40ca-8885-d0584c81a9fc', embedding=None, metadata={}, excluded_embed_metadata_keys=[], excluded_llm_metadata_keys=[], relationships={}, text='Roosevelt was the first American president to consider the long-term needs for efficient conservation of national resources, winning the support of fellow hunters and fishermen to bolster his political base.  Roosevelt was the last trained observer to ever see a passenger pigeon, and on March 14, 1903, Roosevelt created the first National Bird Preserve, (the beginning of the Wildlife Refuge system) on Pelican Island, Florida. Roosevelt worked with the major figures of the conservation  movement, especially his chief adviser on the matter Gifford Pinchot. Roosevelt urged Congress to establish the United States Forest Service (1905), to manage government forest lands, and he appointed Gifford Pinchot to head the service. Roosevelt set aside more land for national parks and nature preserves than all of his predecessors combined, 194 million acres (785,000 kmÂ²). In all, by 1909, the Roosevelt administration had created an unprecedented 42 million acres (170,000 kmÂ²) of national forests, 53 national wildlife refuges and 18 areas of \"special interest\", including the Grand Canyon. The Theodore Roosevelt National Park in the Badlands commemorates his conservationist philosophy. Roosevelt and Muir In 1903, Roosevelt toured the Yosemite Valley with John Muir, founder of the Sierra Club, but Roosevelt believed in the more efficient use of natural resources by corporations like lumber companies unlike Muir. In 1907, with Congress about to block him, Roosevelt hurried to designate 16 million acres (65,000 kmÂ²) of new national forests.  In May 1908, he sponsored the Conference of Governors held in the White House, with a focus on the most efficient planning, analysis and use of water, forests and other natural resources.  Roosevelt explained,  \"There is an intimate relation between our streams and the development and conservation of all the other great permanent sources of wealth.\" During his presidency, Roosevelt promoted the nascent conservation movement in essays for Outdoor Life magazine. To Roosevelt, conservation meant more and better usage and less waste, and a long-term perspective. In 2006, a group of American high school students developed a 10 minute video on Roosevelt\\'s conservation legacy with the help of Roosevelt scholar Edward Renehan and Roosevelt descendant, Tweed Roosevelt. See   Commented out because it\\'s a YouTube link used as a ref, it\\'s original research, and really it\\'s not a reference. But maybe someone else will think differently. -->', mimetype='text/plain', start_char_idx=None, end_char_idx=None, text_template='{metadata_str}\\n\\n{content}', metadata_template='{key}: {value}', metadata_seperator='\\n'),\n",
       " Document(id_='4427b6e2-da3b-4204-a079-0026423c1599', embedding=None, metadata={}, excluded_embed_metadata_keys=[], excluded_llm_metadata_keys=[], relationships={}, text='Roosevelt\\'s conservationist leanings also impelled him to preserve national sites of scientific, particularly archaeological, interest.  The 1906 passage of the Antiquities Act gave him a tool for creating national monuments by presidential proclamation, without requiring Congressional approval for each monument on an item-by-item basis.  The language of the Antiquities Act specifically called for the preservation of \"historic landmarks, historic and prehistoric structures, and other objects of historic or scientific interest,\" and was primarily construed by its creator, Congressman James F. Lacey (assisted by the prominent archaeologist Edgar Lee Hewett), as targeting the prehistoric ruins of the American Southwest.  Roosevelt, however, applied a typically broad interpretation to the Act, and the first national monument he proclaimed, Devils Tower National Monument in Wyoming, was preserved for reasons tied more to geology than archaeology.', mimetype='text/plain', start_char_idx=None, end_char_idx=None, text_template='{metadata_str}\\n\\n{content}', metadata_template='{key}: {value}', metadata_seperator='\\n'),\n",
       " Document(id_='349226e9-36d8-48f4-9902-0b497bcab7e8', embedding=None, metadata={}, excluded_embed_metadata_keys=[], excluded_llm_metadata_keys=[], relationships={}, text=\"Roosevelt's conservationism caused him to forbid having a Christmas tree in the White House. He was reportedly upset when he found a small tree his son had been hiding. After learning about the commercial farming of Christmas trees, where no virgin forests were cut down to supply the demand during the Christmas holiday, he relented and allowed his family to have a tree each season.\", mimetype='text/plain', start_char_idx=None, end_char_idx=None, text_template='{metadata_str}\\n\\n{content}', metadata_template='{key}: {value}', metadata_seperator='\\n'),\n",
       " Document(id_='5086dc5c-23cd-4f24-b8e3-f05e60e830fa', embedding=None, metadata={}, excluded_embed_metadata_keys=[], excluded_llm_metadata_keys=[], relationships={}, text=\"In Cuba, the Philippines, Puerto Rico, and the Panama Canal Zone, Roosevelt used the Army's medical service, under Walter Reed and William C. Gorgas, to eliminate the yellow fever menace and install a new regime of public health. In the new possessions the Roosevelt administration used the army to build railways, telegraph and telephone lines, and upgrade roads and port facilities.\", mimetype='text/plain', start_char_idx=None, end_char_idx=None, text_template='{metadata_str}\\n\\n{content}', metadata_template='{key}: {value}', metadata_seperator='\\n'),\n",
       " Document(id_='b20f28ba-0658-4afd-90dc-49953684e192', embedding=None, metadata={}, excluded_embed_metadata_keys=[], excluded_llm_metadata_keys=[], relationships={}, text='The Philippines saw the U.S. Army for the first time using a systematic doctrine of counter-insurgency. Despite the ad hoc nature of the force deployed by Roosevelt the Army was able to end the insurgency by 1902. Over the course of the war the U.S. Army Corps of Engineers built over 3000 miles of roads and worked to build an entire education system, even bringing in thousands of American teachers to spearhead the effort.', mimetype='text/plain', start_char_idx=None, end_char_idx=None, text_template='{metadata_str}\\n\\n{content}', metadata_template='{key}: {value}', metadata_seperator='\\n'),\n",
       " Document(id_='0b6e6efc-a193-4567-91d3-a485852ce087', embedding=None, metadata={}, excluded_embed_metadata_keys=[], excluded_llm_metadata_keys=[], relationships={}, text='Roosevelt builds the canal and shovels dirt on Colombia', mimetype='text/plain', start_char_idx=None, end_char_idx=None, text_template='{metadata_str}\\n\\n{content}', metadata_template='{key}: {value}', metadata_seperator='\\n'),\n",
       " Document(id_='8087de92-7564-47f9-9acd-3f5b0e7893d1', embedding=None, metadata={}, excluded_embed_metadata_keys=[], excluded_llm_metadata_keys=[], relationships={}, text='Roosevelt dramatically increased the size of the navy, forming the Great White Fleet, which toured the world in 1907. This display was  designed to impress the Japanese. Yet, the ships were almost forced to return because of the inadequacy of American ports in the Pacific. See Edward S Miller,War Plan Orange (Annapolis, 1991)   Roosevelt also added the Roosevelt Corollary to the Monroe Doctrine, which stated that the United States could intervene in Latin American affairs when corruption of governments made it necessary.', mimetype='text/plain', start_char_idx=None, end_char_idx=None, text_template='{metadata_str}\\n\\n{content}', metadata_template='{key}: {value}', metadata_seperator='\\n'),\n",
       " Document(id_='96799949-ceb5-43d6-b1dd-eedf7b20e922', embedding=None, metadata={}, excluded_embed_metadata_keys=[], excluded_llm_metadata_keys=[], relationships={}, text='Roosevelt gained international praise for helping negotiate the end of the Russo-Japanese War, for which he was awarded the Nobel Peace Prize. Roosevelt later arbitrated a dispute between France and Germany over the division of Morocco. Some historians have argued these latter two actions helped in a small way to avert a world war. The Rector and Visitors of the University of Virginia (2005).  \"Theodore Roosevelt (1901â\\x80\\x931909)\". Retrieved March 6 2006.', mimetype='text/plain', start_char_idx=None, end_char_idx=None, text_template='{metadata_str}\\n\\n{content}', metadata_template='{key}: {value}', metadata_seperator='\\n'),\n",
       " Document(id_='86b2a01b-4fe3-4a80-b22a-f27146c05296', embedding=None, metadata={}, excluded_embed_metadata_keys=[], excluded_llm_metadata_keys=[], relationships={}, text=\"Roosevelt's most famous foreign policy initiative, following the Hay-Pauncefote Treaty, was the construction of the Panama Canal, which upon its completion shortened the route of freighters between San Francisco, California and New York City by 8,000 miles (13,000 km).\", mimetype='text/plain', start_char_idx=None, end_char_idx=None, text_template='{metadata_str}\\n\\n{content}', metadata_template='{key}: {value}', metadata_seperator='\\n'),\n",
       " Document(id_='bc0930b3-dd4a-45de-9395-9ebfb9e39b4b', embedding=None, metadata={}, excluded_embed_metadata_keys=[], excluded_llm_metadata_keys=[], relationships={}, text='Colombia first proposed the canal in their country as opposed to rival Nicaragua, and Colombia signed a treaty for an agreed-upon sum. At the time, Panama was a province of Colombia. According to the treaty, in 1902, the U.S. was to buy out the equipment and excavations from France, which had been attempting to build a canal since 1881. While the Colombian negotiating team had signed the treaty, ratification by the Colombian Senate became problematic. The Colombian Senate balked at the price and asked for ten million dollars over the original agreed upon price. When the U.S. refused to re-negotiate the price, the Colombian politicians proposed cutting the original French company that started the project out of the deal and giving that difference to Colombia.', mimetype='text/plain', start_char_idx=None, end_char_idx=None, text_template='{metadata_str}\\n\\n{content}', metadata_template='{key}: {value}', metadata_seperator='\\n'),\n",
       " Document(id_='7d3309bd-1f3a-46e5-8ded-4248746207d4', embedding=None, metadata={}, excluded_embed_metadata_keys=[], excluded_llm_metadata_keys=[], relationships={}, text='The original deal stipulated the French company was to be reasonably compensated. Realizing the Colombian Senate was no longer bargaining in good faith, Roosevelt tired of these last-minute attempts by the Colombians to cheat the French out of their entire investment, and ultimately decided, with the encouragement of Panamanian business interests, to help Panama declare independence from Colombia in 1903.', mimetype='text/plain', start_char_idx=None, end_char_idx=None, text_template='{metadata_str}\\n\\n{content}', metadata_template='{key}: {value}', metadata_seperator='\\n'),\n",
       " Document(id_='69fd9365-852f-4b16-889b-27834536c589', embedding=None, metadata={}, excluded_embed_metadata_keys=[], excluded_llm_metadata_keys=[], relationships={}, text='A brief Panamanian revolution of only a few hours followed the declaration, as Colombian soldiers were bribed $50 each to lay down their arms.  On November 3, 1903, the Republic of Panama was created, with its constitution written in advance by the United States.  Shortly thereafter, the U.S. signed a protection treaty with Panama. And after the signing of the treaty, a man named Nathan Johnson Forest assisted Panama with the initial planning phases for the canal.  The U.S. then paid ten million to secure rights to build on, and control, the Canal Zone.  Construction began in 1904 and was completed in 1914.', mimetype='text/plain', start_char_idx=None, end_char_idx=None, text_template='{metadata_str}\\n\\n{content}', metadata_template='{key}: {value}', metadata_seperator='\\n'),\n",
       " Document(id_='49bb94d6-21c1-4d53-af3f-b892095f7eaf', embedding=None, metadata={}, excluded_embed_metadata_keys=[], excluded_llm_metadata_keys=[], relationships={}, text='It took a long time to build the Panama Canal because of the rampant spread of tropical diseases. Over 200 workers died of yellow fever and malaria, spread by mosquitoes. Roosevelt initiated work on clearing swamps and other areas in which the insects bred. As the health threat finally receded, this greatly facilitated the construction of the Canal.', mimetype='text/plain', start_char_idx=None, end_char_idx=None, text_template='{metadata_str}\\n\\n{content}', metadata_template='{key}: {value}', metadata_seperator='\\n'),\n",
       " Document(id_='d56e13ce-6a64-498d-9413-0ea9ccd27b31', embedding=None, metadata={}, excluded_embed_metadata_keys=[], excluded_llm_metadata_keys=[], relationships={}, text='Roosevelt, (on the 12\" gun turret at right), addresses the crew of USS Connecticut (BB18), in Hampton Roads, Virginia, upon her return from the Fleet\\'s cruise ', mimetype='text/plain', start_char_idx=None, end_char_idx=None, text_template='{metadata_str}\\n\\n{content}', metadata_template='{key}: {value}', metadata_seperator='\\n'),\n",
       " Document(id_='2b313cb7-56fe-4866-b48c-cb323134a7fd', embedding=None, metadata={}, excluded_embed_metadata_keys=[], excluded_llm_metadata_keys=[], relationships={}, text='As Roosevelt\\'s administration drew to a close, the president dispatched a fleet consisting of four US Navy battleship squadrons and their escorts, on a world-wide voyage of circumnavigation from December 16, 1907, to February 22, 1909. With their hulls painted white (except for the beautiful gilded scrollwork) and red, white, and blue banners on their bows, these ships would come to be known as The Great White Fleet.  Roosevelt wanted to demonstrate to his country and the world that the US Navy was capable of operating in a global theater, particularly in the Pacific. This was extraordinarily important at a time when tensions were slowly growing between the United States and Japan. The latter had recently shown its navy\\'s competence in defeating the Russians in the Russo-Japanese War, and the US Navy fleet in the west was relatively small. As a mark of the mission\\'s success, the Atlantic Fleet battleships only later came to be known as the \"Great White Fleet.\"', mimetype='text/plain', start_char_idx=None, end_char_idx=None, text_template='{metadata_str}\\n\\n{content}', metadata_template='{key}: {value}', metadata_seperator='\\n'),\n",
       " Document(id_='fb3d0a55-19ce-4823-b6b8-80b816458950', embedding=None, metadata={}, excluded_embed_metadata_keys=[], excluded_llm_metadata_keys=[], relationships={}, text='When the real Great White Fleet sailed into Yokahama, Japan, the Japanese went to extraordinary lengths to show that their country desired peace with the US. Thousands of Japanese school children waved American flags, purchased by the government, as they greeted the Navy brass coming ashore. In February 1909, the fleet returned home to Hampton Roads, Virginia, and Roosevelt was there to witness the triumphant return. His appearance indicated that he saw the fleet\\'s long voyage as a fitting finish for his administration. Roosevelt said to the officers of the Fleet, \"Other nations may do what you have done, but they\\'ll have to follow you.\"  This parting act of grand strategy by Roosevelt greatly expanded the respect for, as well as the role of, the United States in the international arena.  However, the visit of the Great White Fleet to Tokyo also encouraged Japanese militarists. They had always argued for an even more aggressive Japanese ship building and naval expansion program, and the recent show of force by the U.S. convinced enough of their countrymen that they were right. In a real sense, this set in motion the chain of events leading to the U.S. & Japan confronting each other 30 years later - during WWII.', mimetype='text/plain', start_char_idx=None, end_char_idx=None, text_template='{metadata_str}\\n\\n{content}', metadata_template='{key}: {value}', metadata_seperator='\\n'),\n",
       " Document(id_='0eef6ba4-a7b0-4733-9c7d-a7677e685181', embedding=None, metadata={}, excluded_embed_metadata_keys=[], excluded_llm_metadata_keys=[], relationships={}, text='A Lincoln cent', mimetype='text/plain', start_char_idx=None, end_char_idx=None, text_template='{metadata_str}\\n\\n{content}', metadata_template='{key}: {value}', metadata_seperator='\\n'),\n",
       " Document(id_='416b9d54-b209-4303-888c-5f0e35410cb5', embedding=None, metadata={}, excluded_embed_metadata_keys=[], excluded_llm_metadata_keys=[], relationships={}, text=\"Roosevelt thought American coins and currency were common and uninspiring. Roosevelt had the opportunity to pose for a young Lithuanian-born sculptor, Victor David Brenner, who, since arriving nineteen years earlier in the United States had become one of the nationâ\\x80\\x99s premier medalists. Roosevelt had learned of Brenner's talents in a settlement house on New York City's Lower East Side and was immediately impressed with a bas-relief that Brenner had made of Lincoln, based on the early Civil War era photographer, Mathew Brady's photograph. Roosevelt, who considered Lincoln the savior of the Union and the greatest Republican President and who also considered himself Lincolnâ\\x80\\x99s political heir, ordered the new Lincoln penny to be based on Brenner's work and that it go just in time to commemorate Lincolnâ\\x80\\x99s 100th birthday in 1909. The likeness of President Lincoln on the obverse of the coin is an adaptation of a plaque Brenner executed several years earlier and which had come to the attention of President Roosevelt in New York.   /ref>\", mimetype='text/plain', start_char_idx=None, end_char_idx=None, text_template='{metadata_str}\\n\\n{content}', metadata_template='{key}: {value}', metadata_seperator='\\n'),\n",
       " Document(id_='80d08be6-593a-4400-8916-4050f01e0a1a', embedding=None, metadata={}, excluded_embed_metadata_keys=[], excluded_llm_metadata_keys=[], relationships={}, text='Roosevelt took Cabinet members and friends on long, fast-paced hikes, boxed in the state rooms of the White House, romped with his children, and read voraciously. Hanson, David C. (2005).  \"Theodore Roosevelt: Lion in the White House\". Retrieved March 6 2006.  In 1908, he was permanently blinded in his left eye during one of his boxing bouts, but this injury was kept from the public at the time. Smith, Ira R. T.; Morris, Joe Alex (1949). \"Dear Mr. President\": The Story of Fifty Years in the White House Mail Room, p. 52. Julian Messner.  His many enthusiastic interests and limitless energy led one ambassador to wryly explain, \"You must always remember that the President is about six.\" Kennedy, Robert C. (2005).  \"\\'I hear there are some kids in the White House this year\\'\". Retrieved March 6 2006.', mimetype='text/plain', start_char_idx=None, end_char_idx=None, text_template='{metadata_str}\\n\\n{content}', metadata_template='{key}: {value}', metadata_seperator='\\n'),\n",
       " Document(id_='1ec3f2ff-08c5-4512-aa2f-05c95cdc0f31', embedding=None, metadata={}, excluded_embed_metadata_keys=[], excluded_llm_metadata_keys=[], relationships={}, text='Roosevelt shoots holes in the dictionary as the ghosts of Chaucer, Shakespeare and Dr Johnson moan.', mimetype='text/plain', start_char_idx=None, end_char_idx=None, text_template='{metadata_str}\\n\\n{content}', metadata_template='{key}: {value}', metadata_seperator='\\n'),\n",
       " Document(id_='f9a3c48c-adde-4b08-b457-fd600da85d6c', embedding=None, metadata={}, excluded_embed_metadata_keys=[], excluded_llm_metadata_keys=[], relationships={}, text=\"During his presidency, Roosevelt tried but did not succeed to advance the cause of simplified spelling. He tried to force government to adopt the system, sending an order to the Public Printer to use the system in all public documents. The order was obeyed, and among the documents thus printed was the President's special message regarding the Panama Canal. The New York World translated the Thanksgiving Day proclamation:\", mimetype='text/plain', start_char_idx=None, end_char_idx=None, text_template='{metadata_str}\\n\\n{content}', metadata_template='{key}: {value}', metadata_seperator='\\n'),\n",
       " Document(id_='1229ddc1-47f6-4e75-a685-89990a8c9ea8', embedding=None, metadata={}, excluded_embed_metadata_keys=[], excluded_llm_metadata_keys=[], relationships={}, text='The reform annoyed the public, forcing him to rescind the order. Roosevelt\\'s friend, literary critic Brander Matthews, one of the chief advocates of the reform, remonstrated with him for abandoning the effort. Roosevelt replied on December 16: \"I could not by fighting have kept the new spelling in, and it was evidently worse than useless to go into an undignified contest when I was beaten. Do you know that the one word as to which I thought the new spelling was wrong   thru   was more responsible than anything else for our discomfiture?\" Next summer Roosevelt was watching a naval review when a launch marked \"Pres Bot\" chugged ostentatiously by. The President waved and laughed with delight. Pringle 465â\\x80\\x937', mimetype='text/plain', start_char_idx=None, end_char_idx=None, text_template='{metadata_str}\\n\\n{content}', metadata_template='{key}: {value}', metadata_seperator='\\n'),\n",
       " Document(id_='71332396-f586-4d62-8dab-3896993affd7', embedding=None, metadata={}, excluded_embed_metadata_keys=[], excluded_llm_metadata_keys=[], relationships={}, text='Roosevelt\\'s oldest daughter, Alice, was a controversial character during Roosevelt\\'s stay in the White House. When friends asked if he could rein in his elder daughter, Roosevelt said, \"I can be President of the United States, or I can control Alice. I cannot possibly do both.\"  In turn, Alice said of him that he always wanted to be \"the bride at every wedding and the corpse at every funeral.\"  (Some sources attribute this quote to one of Roosevelt\\'s sons instead.) Thayer, Chapter XIII, p. 7.', mimetype='text/plain', start_char_idx=None, end_char_idx=None, text_template='{metadata_str}\\n\\n{content}', metadata_template='{key}: {value}', metadata_seperator='\\n'),\n",
       " Document(id_='49c2592d-aea7-42d5-8d7a-7730752fab01', embedding=None, metadata={}, excluded_embed_metadata_keys=[], excluded_llm_metadata_keys=[], relationships={}, text=\"Roosevelt's contribution to the White House was the construction of the original West Wing, which he had built to free up the second floor rooms in the residence that formerly housed the president's staff. He and Edith also had the entire house renovated and restored to the federal style, tearing out the Victorian furnishings and details (including Tiffany windows) that had been installed over the previous three decades.\", mimetype='text/plain', start_char_idx=None, end_char_idx=None, text_template='{metadata_str}\\n\\n{content}', metadata_template='{key}: {value}', metadata_seperator='\\n'),\n",
       " Document(id_='8b9bb225-e73c-4e8d-91f7-5d962e917b07', embedding=None, metadata={}, excluded_embed_metadata_keys=[], excluded_llm_metadata_keys=[], relationships={}, text='1902 The Washington Post political cartoon that spawned the Teddy bear name.', mimetype='text/plain', start_char_idx=None, end_char_idx=None, text_template='{metadata_str}\\n\\n{content}', metadata_template='{key}: {value}', metadata_seperator='\\n'),\n",
       " Document(id_='74832dda-1ed6-4f35-9b16-49670e3d4bb4', embedding=None, metadata={}, excluded_embed_metadata_keys=[], excluded_llm_metadata_keys=[], relationships={}, text='#In the sphere of race relations, Booker T. Washington became the first black man to dine as a guest at the White House in 1901. ', mimetype='text/plain', start_char_idx=None, end_char_idx=None, text_template='{metadata_str}\\n\\n{content}', metadata_template='{key}: {value}', metadata_seperator='\\n'),\n",
       " Document(id_='8ac536d0-4620-4026-832c-274f1ebd2cdd', embedding=None, metadata={}, excluded_embed_metadata_keys=[], excluded_llm_metadata_keys=[], relationships={}, text='#Oscar S. Straus became the first Jewish person appointed as a Cabinet Secretary, under Roosevelt. ', mimetype='text/plain', start_char_idx=None, end_char_idx=None, text_template='{metadata_str}\\n\\n{content}', metadata_template='{key}: {value}', metadata_seperator='\\n'),\n",
       " Document(id_='42d18112-3977-4a48-b193-c930dec3ed10', embedding=None, metadata={}, excluded_embed_metadata_keys=[], excluded_llm_metadata_keys=[], relationships={}, text='#In August, 1902, Roosevelt became the first U.S. president to take a public automobile ride. This occurred during a parade in Hartford, Connecticut', mimetype='text/plain', start_char_idx=None, end_char_idx=None, text_template='{metadata_str}\\n\\n{content}', metadata_template='{key}: {value}', metadata_seperator='\\n'),\n",
       " Document(id_='401dc590-97f6-45d0-b518-b56179722b8e', embedding=None, metadata={}, excluded_embed_metadata_keys=[], excluded_llm_metadata_keys=[], relationships={}, text='#In 1910 he became the first U.S. President to ride in an airplane. ', mimetype='text/plain', start_char_idx=None, end_char_idx=None, text_template='{metadata_str}\\n\\n{content}', metadata_template='{key}: {value}', metadata_seperator='\\n'),\n",
       " Document(id_='5827c2a1-792b-43d9-a1ab-178ecc2ed988', embedding=None, metadata={}, excluded_embed_metadata_keys=[], excluded_llm_metadata_keys=[], relationships={}, text='#On August 25, 1905 he became the first U.S. President to ride in a military submarine when he boarded the USS Holland (SS-1) and ran submerged with her for 55 minutes.   ', mimetype='text/plain', start_char_idx=None, end_char_idx=None, text_template='{metadata_str}\\n\\n{content}', metadata_template='{key}: {value}', metadata_seperator='\\n'),\n",
       " Document(id_='e7349ab5-1dba-4d20-ab2b-74e6fb2706d0', embedding=None, metadata={}, excluded_embed_metadata_keys=[], excluded_llm_metadata_keys=[], relationships={}, text='#In 1906, he made the first trip, by a President, outside the United States, visiting Panama to inspect the construction progress of the Panama Canal on November 9.', mimetype='text/plain', start_char_idx=None, end_char_idx=None, text_template='{metadata_str}\\n\\n{content}', metadata_template='{key}: {value}', metadata_seperator='\\n'),\n",
       " Document(id_='a1c19cf5-9567-4c66-859e-c4a45eb9d33b', embedding=None, metadata={}, excluded_embed_metadata_keys=[], excluded_llm_metadata_keys=[], relationships={}, text='#In 1902, in response to the assassination of President William McKinley on September 6 1901, Theodore Roosevelt became the first president to be under constant Secret Service protection. ', mimetype='text/plain', start_char_idx=None, end_char_idx=None, text_template='{metadata_str}\\n\\n{content}', metadata_template='{key}: {value}', metadata_seperator='\\n'),\n",
       " Document(id_='7d568340-3cdd-4053-8921-7df2559e9bf3', embedding=None, metadata={}, excluded_embed_metadata_keys=[], excluded_llm_metadata_keys=[], relationships={}, text='# In 1906, Roosevelt became the first American to be awarded a Nobel Prize. ', mimetype='text/plain', start_char_idx=None, end_char_idx=None, text_template='{metadata_str}\\n\\n{content}', metadata_template='{key}: {value}', metadata_seperator='\\n'),\n",
       " Document(id_='c0e003c5-edc2-492b-bce8-4141c6c68a0b', embedding=None, metadata={}, excluded_embed_metadata_keys=[], excluded_llm_metadata_keys=[], relationships={}, text=\"#In 2001, he became the first and only President up to date to receive a Medal of Honor, making him the only person to date to win the world's highest peace honor, as well as his nation's top military honor. \", mimetype='text/plain', start_char_idx=None, end_char_idx=None, text_template='{metadata_str}\\n\\n{content}', metadata_template='{key}: {value}', metadata_seperator='\\n'),\n",
       " Document(id_='0dade763-8e84-4f21-89f9-bf9df1112579', embedding=None, metadata={}, excluded_embed_metadata_keys=[], excluded_llm_metadata_keys=[], relationships={}, text='#He was the first and to date only president from Long Island, New York.', mimetype='text/plain', start_char_idx=None, end_char_idx=None, text_template='{metadata_str}\\n\\n{content}', metadata_template='{key}: {value}', metadata_seperator='\\n'),\n",
       " Document(id_='8e7d5632-0450-440d-8f6f-52a0daf370cf', embedding=None, metadata={}, excluded_embed_metadata_keys=[], excluded_llm_metadata_keys=[], relationships={}, text='#He was the first President to officially refer to the White House as such, on his official stationery. This had been the common name (referring to the color of the building), but until then, the official name was \"The Executive Mansion\"', mimetype='text/plain', start_char_idx=None, end_char_idx=None, text_template='{metadata_str}\\n\\n{content}', metadata_template='{key}: {value}', metadata_seperator='\\n'),\n",
       " Document(id_='49deb154-ca42-4c27-9e3f-6158614bf441', embedding=None, metadata={}, excluded_embed_metadata_keys=[], excluded_llm_metadata_keys=[], relationships={}, text='#He was the first President to wear a necktie for his official Presidential Portrait.', mimetype='text/plain', start_char_idx=None, end_char_idx=None, text_template='{metadata_str}\\n\\n{content}', metadata_template='{key}: {value}', metadata_seperator='\\n'),\n",
       " Document(id_='2b7c3408-30d7-48cc-8927-4fa6eff3100c', embedding=None, metadata={}, excluded_embed_metadata_keys=[], excluded_llm_metadata_keys=[], relationships={}, text=\"#He was the first President to approve a coin, the Lincoln cent, with a man's face on it, in 1909, just in time for the centennial of Lincoln's birth. Lincoln was Roosevelt's presidential hero.\", mimetype='text/plain', start_char_idx=None, end_char_idx=None, text_template='{metadata_str}\\n\\n{content}', metadata_template='{key}: {value}', metadata_seperator='\\n'),\n",
       " Document(id_='2cfc1c0d-416f-4241-bacd-b48ef62f82c3', embedding=None, metadata={}, excluded_embed_metadata_keys=[], excluded_llm_metadata_keys=[], relationships={}, text='#He was the first President to coin an internationally recognized trademark, although not deliberately. His offhand remark, \"good to the last drop,\" about some coffee drunk at the Maxwell House hotel in Tennessee,  see Maxwell House coffee.  ', mimetype='text/plain', start_char_idx=None, end_char_idx=None, text_template='{metadata_str}\\n\\n{content}', metadata_template='{key}: {value}', metadata_seperator='\\n'),\n",
       " Document(id_='aad421a9-dd41-4e19-add0-c968b239d9a3', embedding=None, metadata={}, excluded_embed_metadata_keys=[], excluded_llm_metadata_keys=[], relationships={}, text='#He is the only president to have a famous toy named after him (the Teddy bear, named after a bear he refused to shoot in a 1902 hunt in Mississipi).', mimetype='text/plain', start_char_idx=None, end_char_idx=None, text_template='{metadata_str}\\n\\n{content}', metadata_template='{key}: {value}', metadata_seperator='\\n'),\n",
       " Document(id_='83e0d975-b023-42ad-8fb4-57d3953beeee', embedding=None, metadata={}, excluded_embed_metadata_keys=[], excluded_llm_metadata_keys=[], relationships={}, text='John Singer Sargent, Theodore Roosevelt, 1903; click on painting for background story.', mimetype='text/plain', start_char_idx=None, end_char_idx=None, text_template='{metadata_str}\\n\\n{content}', metadata_template='{key}: {value}', metadata_seperator='\\n'),\n",
       " Document(id_='7a210fb0-13a1-4712-8f76-777084e59f26', embedding=None, metadata={}, excluded_embed_metadata_keys=[], excluded_llm_metadata_keys=[], relationships={}, text='Roosevelt appointed the following Justices to the Supreme Court of the United States:', mimetype='text/plain', start_char_idx=None, end_char_idx=None, text_template='{metadata_str}\\n\\n{content}', metadata_template='{key}: {value}', metadata_seperator='\\n'),\n",
       " Document(id_='f4b1fef0-1727-4a5f-a114-f8e4a11a1ceb', embedding=None, metadata={}, excluded_embed_metadata_keys=[], excluded_llm_metadata_keys=[], relationships={}, text='Roosevelt standing next to a dead elephant during a safari', mimetype='text/plain', start_char_idx=None, end_char_idx=None, text_template='{metadata_str}\\n\\n{content}', metadata_template='{key}: {value}', metadata_seperator='\\n'),\n",
       " Document(id_='29425328-06bb-48da-a184-5b8bc44be969', embedding=None, metadata={}, excluded_embed_metadata_keys=[], excluded_llm_metadata_keys=[], relationships={}, text=\"In March 1909, shortly after the end of his second term, Roosevelt left New York for a safari in east and central Africa. Roosevelt's party landed in Mombasa, British East Africa (now Kenya), traveled to the Belgian Congo (now Democratic Republic of the Congo) before following the Nile up to Khartoum in modern Sudan. Financed by Andrew Carnegie and by his own proposed writings, Roosevelt hunted for specimens for the Smithsonian Institution and for the American Museum of Natural History in New York. His party, which included scientists from the Smithsonian and was led by Frederick Selous, the famous big game hunter and explorer, and they killed or trapped over 11,397 animals, from insects and moles to hippopotamuses and elephants. 512 of the animals were big game animals, including six rare white rhinos. 262 of these were consumed by the expedition. Tons of salted animals and their skins were shipped to Washington; the quantity was so large that it took years to mount them all, and the Smithsonian was able to share many duplicate animals with other museums.\", mimetype='text/plain', start_char_idx=None, end_char_idx=None, text_template='{metadata_str}\\n\\n{content}', metadata_template='{key}: {value}', metadata_seperator='\\n'),\n",
       " Document(id_='c83c7a87-a119-4098-a4d8-8c38429a5c53', embedding=None, metadata={}, excluded_embed_metadata_keys=[], excluded_llm_metadata_keys=[], relationships={}, text='Regarding the large number of animals taken, Roosevelt said, \"I can be condemned only if the existence of the National Museum, the American Museum of Natural History, and all similar zoological institutions are to be condemned.\" O\\'Toole, Patricia (2005) When Trumpets Call, p. 67, Simon and Schuster, ISBN 0-684-86477-0   However, although the safari was ostensibly conducted in the name of science, there was another, quite large element to it as well. In addition to many native peoples and local leaders, interaction with renowned professional hunters and land owning families made the safari as much a political and social event, as it was a hunting excursion. Roosevelt wrote a detailed account of the adventure in the book \"African Game Trails\", where he describes the excitement of the chase, the people he met, and the flora and fauna he collected in the name of science.', mimetype='text/plain', start_char_idx=None, end_char_idx=None, text_template='{metadata_str}\\n\\n{content}', metadata_template='{key}: {value}', metadata_seperator='\\n'),\n",
       " Document(id_='078b6f99-caf1-4d9b-b3ac-df0cb18c0603', embedding=None, metadata={}, excluded_embed_metadata_keys=[], excluded_llm_metadata_keys=[], relationships={}, text='Roosevelt certified William Howard Taft to be a genuine \"progressive\" in 1908, when Roosevelt pushed through the nomination of his Secretary of War for the Presidency. Taft easily defeated three-time candidate William Jennings Bryan. Taft had a different progressivism, one that stressed the rule of law and preferred that judges rather than administrators or politicians make the basic decisions about fairness. Taft usually proved a less adroit politician than Roosevelt and lacked the energy and personal magnetism, not to mention the publicity devices, the dedicated supporters, and the broad base of public support that made Roosevelt so formidable. When Roosevelt realized that lowering the tariff would risk severe tensions inside the Republican Party pitting producers (manufacturers and farmers) against merchants and consumers he stopped talking about the issue. Taft ignored the risks and tackled the tariff boldly, on the one hand encouraging reformers to fight for lower rates, and then cutting deals with conservative leaders that kept overall rates high. The resulting Payne-Aldrich tariff of 1909 was too high for most reformers, but instead of blaming this on Senator Nelson Aldrich and big business, Taft took credit, calling it the best tariff ever. Again he had managed to alienate all sides. While the crisis was building inside the Party, Roosevelt was touring Africa and Europe, so as to allow Taft to be his own man. Thayer, Chapter XXI, p. 10. ', mimetype='text/plain', start_char_idx=None, end_char_idx=None, text_template='{metadata_str}\\n\\n{content}', metadata_template='{key}: {value}', metadata_seperator='\\n'),\n",
       " Document(id_='ad33aeb6-137e-44e9-9642-b53baea14d39', embedding=None, metadata={}, excluded_embed_metadata_keys=[], excluded_llm_metadata_keys=[], relationships={}, text='1909 cartoon: TR hands his policies to the care of Taft while William Loeb carries the \"Big Stick\"', mimetype='text/plain', start_char_idx=None, end_char_idx=None, text_template='{metadata_str}\\n\\n{content}', metadata_template='{key}: {value}', metadata_seperator='\\n'),\n",
       " Document(id_='5099301a-5c09-4c21-8bb8-07d083645fd3', embedding=None, metadata={}, excluded_embed_metadata_keys=[], excluded_llm_metadata_keys=[], relationships={}, text=\"Unlike Roosevelt, Taft never attacked business or businessmen in his rhetoric. However, he was attentive to the law, so he launched 90 antitrust suits, including one against the largest corporation, U.S. Steel, for an acquisition that Roosevelt had personally approved. Consequently, Taft lost the support of antitrust reformers (who disliked his conservative rhetoric), of big business (which disliked his actions), and of Roosevelt, who felt humiliated by his protÃ©gÃ©. The left wing of the Republican Party began agitating against Taft. Senator Robert LaFollette of Wisconsin created the National Progressive Republican League (precursor to the Progressive Party (United States, 1924)) to defeat the power of political bossism at the state level and to replace Taft at the national level. More trouble came when Taft fired Gifford Pinchot, a leading conservationist and close ally of Roosevelt. Pinchot alleged that Taft's Secretary of Interior Richard Ballinger was in league with big timber interests. Conservationists sided with Pinchot, and Taft alienated yet another vocal constituency.\", mimetype='text/plain', start_char_idx=None, end_char_idx=None, text_template='{metadata_str}\\n\\n{content}', metadata_template='{key}: {value}', metadata_seperator='\\n'),\n",
       " Document(id_='830b89b2-5344-4756-bb2e-852ddecf7efc', embedding=None, metadata={}, excluded_embed_metadata_keys=[], excluded_llm_metadata_keys=[], relationships={}, text=\"Roosevelt, back from Europe, unexpectedly launched an attack on the federal courts, which deeply upset Taft. Not only had Roosevelt alienated big business, he was also attacking both the judiciary and the deep faith Republicans had in their judges (most of whom had been appointed by McKinley, Roosevelt or Taft.) In the 1910 Congressional elections, Democrats swept to power, and Taft's reelection in 1912 was increasingly in doubt. In 1911, Taft responded with a vigorous stumping tour that allowed him to sign up most of the party leaders long before Roosevelt announced.\", mimetype='text/plain', start_char_idx=None, end_char_idx=None, text_template='{metadata_str}\\n\\n{content}', metadata_template='{key}: {value}', metadata_seperator='\\n'),\n",
       " Document(id_='2c6cbb6a-3a1c-461d-891b-6c736cf3b792', embedding=None, metadata={}, excluded_embed_metadata_keys=[], excluded_llm_metadata_keys=[], relationships={}, text=\"The battle between Taft and Roosevelt bitterly split the Republican Party; Taft's people dominated the party until 1936.\", mimetype='text/plain', start_char_idx=None, end_char_idx=None, text_template='{metadata_str}\\n\\n{content}', metadata_template='{key}: {value}', metadata_seperator='\\n'),\n",
       " Document(id_='5ec9b432-92a0-49bb-8762-334c421d3676', embedding=None, metadata={}, excluded_embed_metadata_keys=[], excluded_llm_metadata_keys=[], relationships={}, text=\"Late in 1911, Roosevelt finally broke with Taft and LaFollette and announced himself as a candidate for the Republican nomination. But Roosevelt had delayed too long, and Taft had already won the support of most party leaders in the country. Because of LaFollette's nervous breakdown on the campaign trail before Roosevelt's entry, most of LaFollette's supporters went over to Roosevelt, the new progressive Republican candidate.\", mimetype='text/plain', start_char_idx=None, end_char_idx=None, text_template='{metadata_str}\\n\\n{content}', metadata_template='{key}: {value}', metadata_seperator='\\n'),\n",
       " Document(id_='cc96dea8-dcee-4c2f-a693-fcb263d00cc3', embedding=None, metadata={}, excluded_embed_metadata_keys=[], excluded_llm_metadata_keys=[], relationships={}, text=\"Roosevelt, stepping up his attack on judges, carried nine of the states with preferential primaries, LaFollette took two, and Taft only one. The 1912 Primaries represented the first extensive use of the Presidential Primary, a reform achievement of the progressive movement. However, these primary elections, while demonstrating Roosevelt's popularity with the electorate, were in no ways as important as primaries are today. First of all, there were fewer states where the common voter was given a forum to express himself, such as a primary.  Many more states selected convention delegates either at party conventions, or in caucuses, which were not as open as today's caucuses.  So while the man in the street still adored Roosevelt, most professional Republican politicians were supporting Taft, and they proved difficult to upset in non-primary states.\", mimetype='text/plain', start_char_idx=None, end_char_idx=None, text_template='{metadata_str}\\n\\n{content}', metadata_template='{key}: {value}', metadata_seperator='\\n'),\n",
       " Document(id_='8bd7bcb6-fae5-4c18-838a-0dbcb0566641', embedding=None, metadata={}, excluded_embed_metadata_keys=[], excluded_llm_metadata_keys=[], relationships={}, text='At the Republican Convention in Chicago, despite being the incumbent, Taft\\'s victory was not immediately assured.  But after two weeks, Roosevelt, realizing he would not be able to win the nomination outright, asked his followers to leave the convention hall.  They moved to the Auditorium Theatre, and then Roosevelt, along with key allies such as Pinchot and Albert Beveridge created the Progressive Party, structuring it as a permanent organization that would field complete tickets at the presidential and state level. It was popularly known as the \"Bull Moose Party,\" which got its name after Roosevelt told reporters, \"I\\'m as fit as a bull moose.\" Carl M. Cannon, The Pursuit of Happiness in Times of War, Rowman & Littlefield: 2003, p. 142. ISBN 0742525929.  At the convention Roosevelt cried out, \"We stand at Armageddon and we battle for the Lord.\" Roosevelt\\'s platform echoed his 1907â\\x80\\x9308 proposals, calling for vigorous government intervention to protect the people from the selfish interests. Thayer, Chapter XXII, pp. 25 31.', mimetype='text/plain', start_char_idx=None, end_char_idx=None, text_template='{metadata_str}\\n\\n{content}', metadata_template='{key}: {value}', metadata_seperator='\\n'),\n",
       " Document(id_='a9b29671-dd6e-4353-91ed-032f408cc9eb', embedding=None, metadata={}, excluded_embed_metadata_keys=[], excluded_llm_metadata_keys=[], relationships={}, text='The bullet-damaged speech and eyeglass case on display at the Theodore Roosevelt Birthplace', mimetype='text/plain', start_char_idx=None, end_char_idx=None, text_template='{metadata_str}\\n\\n{content}', metadata_template='{key}: {value}', metadata_seperator='\\n'),\n",
       " Document(id_='9f7c093a-2b9e-4401-a31b-093d23426c36', embedding=None, metadata={}, excluded_embed_metadata_keys=[], excluded_llm_metadata_keys=[], relationships={}, text='While campaigning in Milwaukee, Wisconsin on October 14, 1912, a saloonkeeper named John Schrank failed in an assassination attempt on Roosevelt.  Schrank did shoot the former President, but the bullet lodged in Roosevelt\\'s chest only after penetrating both his steel eyeglass case and passing through a thick (50 pages) single-folded copy of the speech he was carrying in his jacket.   Accessed Dec. 21, 2007  . Roosevelt, as a very experienced hunter and anatomist, decide the fact he wasn\\'t coughing blood meant the bullet had not completely penetrated the chest wall to his lung (he was correct), and so declined suggestions he go to the hospital immediately. Instead, he delivered his scheduled speech with blood seeping into his shirt.    He spoke for ninety minutes. His opening comments to the gathered crowd were, \"I don\\'t know whether you fully understand that I have just been shot; but it takes more than that to kill a Bull Moose.\" Afterwards, doctors determined by probe and X-ray the bullet had traversed three inches of tissue and lodged in Roosevelt\\'s chest muscle but did not penetrate the pleura, and it would be more dangerous to attempt to remove the bullet than to leave it in place.  Roosevelt carried it with him until he died.  Roosevelt Timeline', mimetype='text/plain', start_char_idx=None, end_char_idx=None, text_template='{metadata_str}\\n\\n{content}', metadata_template='{key}: {value}', metadata_seperator='\\n'),\n",
       " Document(id_='51e6298f-0ebc-4887-abdb-59d3420cc64e', embedding=None, metadata={}, excluded_embed_metadata_keys=[], excluded_llm_metadata_keys=[], relationships={}, text=\"Due to the bullet wound, Roosevelt was taken off the campaign trail in the final weeks of the race (which ended election day, November 5). Though the other two campaigners stopped their own campaigns in the week Roosevelt was in the hospital, they resumed it once he was released. The overall effect of the shooting was uncertain. Roosevelt for many reasons failed to move enough Republicans in his direction. He did win 4.1 million votes (27%), compared to Taft's 3.5 million (23%). However, Wilson's 6.3 million votes (42%) were enough to garner 435 electoral votes. Roosevelt had 88 electoral votes to Taft's 8 electoral votes.  (This meant that Taft became the only incumbent President in history to actually come in third place in an attempt to be re-elected.)  But Pennsylvania was Roosevelt's only Eastern state; in the Midwest he carried Michigan, Minnesota and South Dakota; in the West, California and Washington; he did not win any Southern states. Although he lost, he won more votes than former presidents Martin Van Buren and Millard Fillmore who also ran again and also lost. More important, he pulled so many progressives out of the Republican party that it took on a much more conservative cast for the next generation.\", mimetype='text/plain', start_char_idx=None, end_char_idx=None, text_template='{metadata_str}\\n\\n{content}', metadata_template='{key}: {value}', metadata_seperator='\\n'),\n",
       " Document(id_='f14968e5-2fd5-4341-9689-da5f4a696f90', embedding=None, metadata={}, excluded_embed_metadata_keys=[], excluded_llm_metadata_keys=[], relationships={}, text='The initial party. From left to right (seated): Father Zahm, Rondon, Kermit, Cherrie, Miller, four Brazilians, Roosevelt, Fiala. Only Roosevelt, Kermit, Cherrie, Rondon and the Brazilians traveled down the River of Doubt.', mimetype='text/plain', start_char_idx=None, end_char_idx=None, text_template='{metadata_str}\\n\\n{content}', metadata_template='{key}: {value}', metadata_seperator='\\n'),\n",
       " Document(id_='57a61ea9-ed9c-4607-82a7-32e8ba0d10d4', embedding=None, metadata={}, excluded_embed_metadata_keys=[], excluded_llm_metadata_keys=[], relationships={}, text=\"Roosevelt's popular book Through the Brazilian Wilderness describes his expedition into the Brazilian jungle in 1913 as a member of the Roosevelt-Rondon Scientific Expedition co-named after its leader, Brazilian explorer CÃ¢ndido Rondon. The book describes all of the scientific discovery, scenic tropical vistas and exotic flora, fauna and wild life experienced on the expedition. A friend, Father John Augustine Zahm, had searched for new adventures and found them in the forests of South America. After a briefing of several of his own expeditions, he convinced Roosevelt to commit to such an expedition in 1912. To finance the expedition, Roosevelt received support from the American Museum of Natural History, promising to bring back many new animal specimens. Once in South America, a new far more ambitious goal was added: to find the headwaters of the Rio da Duvida, the River of Doubt, and trace it north to the Madiera and thence to the Amazon River. It was later renamed Rio Roosevelt (Rio Teodoro today, 640 km long) in honor of the former President. Roosevelt's crew consisted of his 24-year-old son Kermit, Colonel CÃ¢ndido Rondon, a naturalist sent by the American Museum of Natural History named George K. Cherrie, Brazilian Lieutenant Joao Lyra, team physician Dr. JosÃ© Antonio Cajazeira, and sixteen highly skilled paddlers (called camaradas in Portuguese). The initial expedition started, probably unwisely, on December 9, 1913, at the height of the rainy season. The trip down the River of Doubt started on February 27, 1914.\", mimetype='text/plain', start_char_idx=None, end_char_idx=None, text_template='{metadata_str}\\n\\n{content}', metadata_template='{key}: {value}', metadata_seperator='\\n'),\n",
       " Document(id_='5350c3fb-9774-402c-a4a1-a18e40d4c6ec', embedding=None, metadata={}, excluded_embed_metadata_keys=[], excluded_llm_metadata_keys=[], relationships={}, text='Roosevelt, wearing sun helmet, barely survived an expedition in 1913 into the Amazonian rain forest to trace the River of Doubt later named the Rio Roosevelt.', mimetype='text/plain', start_char_idx=None, end_char_idx=None, text_template='{metadata_str}\\n\\n{content}', metadata_template='{key}: {value}', metadata_seperator='\\n'),\n",
       " Document(id_='2ab70a90-ff47-4d8e-82fe-1105abf2154a', embedding=None, metadata={}, excluded_embed_metadata_keys=[], excluded_llm_metadata_keys=[], relationships={}, text=\"During the trip down the river, Roosevelt contracted malaria and a serious infection resulting from a minor leg wound. These illnesses so weakened Roosevelt that, by six weeks into the expedition, he had to be attended day and night by the expedition's physician, Dr. Cajazeira, and his son, Kermit. By this time, Roosevelt considered his own condition a threat to the survival of the others. At one point, Kermit had to talk him out of his wish to be left behind so as not to slow down the expedition, now with only a few weeks rations left. Roosevelt was having chest pains when he tried to walk, his temperature soared to 103 Â°F (39 Â°C), and at times he was delirious.  He had lost over fifty pounds (20 kg). Without the constant support of his son, Kermit, Dr. Cajazeira, and the continued leadership of Colonel Rondon, Roosevelt would likely have perished.  Despite his concern for Roosevelt, Rondon had been slowing down the pace of the expedition by his dedication to his own map-making and other geographical goals that demanded regular stops to fix the expedition's position via sun-based survey.\", mimetype='text/plain', start_char_idx=None, end_char_idx=None, text_template='{metadata_str}\\n\\n{content}', metadata_template='{key}: {value}', metadata_seperator='\\n'),\n",
       " Document(id_='278d8700-02c2-43de-a8c3-47c402307049', embedding=None, metadata={}, excluded_embed_metadata_keys=[], excluded_llm_metadata_keys=[], relationships={}, text=\"Upon his return to New York, friends and family were startled by Roosevelt's physical appearance and fatigue. Roosevelt wrote to a friend that the trip had cut his life short by ten years. He might not have really known just how accurate that analysis would prove to be, because the effects of the South America expedition had so greatly weakened him that they significantly contributed to his declining health. For the rest of his life, he would be plagued by flareups of malaria and leg inflammations so severe that they would require hospitalization.  Thayer, Chapter XXIII, pp. 4â\\x80\\x937.\", mimetype='text/plain', start_char_idx=None, end_char_idx=None, text_template='{metadata_str}\\n\\n{content}', metadata_template='{key}: {value}', metadata_seperator='\\n'),\n",
       " Document(id_='094035f6-d213-4c7f-ac6b-b60e7482f090', embedding=None, metadata={}, excluded_embed_metadata_keys=[], excluded_llm_metadata_keys=[], relationships={}, text=\"When Roosevelt had recovered enough of his strength, he found that he had a new battle on his hands. In professional circles, there was doubt about his claims of having discovered and navigated a completely uncharted river over 625 miles (1,000 km) long. Roosevelt would have to defend himself and win international recognition of the expedition's newly-named Rio Roosevelt. Toward this end, Roosevelt went to Washington, D.C., and spoke at a standing-room-only convention to defend his claims. His official report and its defense silenced the critics, and he was able to triumphantly return to his home in Oyster Bay.\", mimetype='text/plain', start_char_idx=None, end_char_idx=None, text_template='{metadata_str}\\n\\n{content}', metadata_template='{key}: {value}', metadata_seperator='\\n'),\n",
       " Document(id_='bed1a069-dc82-4bc9-bc1f-4bbd7a60ea04', embedding=None, metadata={}, excluded_embed_metadata_keys=[], excluded_llm_metadata_keys=[], relationships={}, text='Despite his weakened condition and slow recovery from his South America expedition, Roosevelt continued to write with passion on subjects ranging from foreign policy to the importance of the national park system. As an editor of Outlook magazine, he had weekly access to a large, educated national audience. In all, Roosevelt wrote about 18 books (each in several editions), including his Autobiography, Rough Riders and History of the Naval War of 1812, ranching, explorations, and wildlife. His most ambitious book was the 4 volume narrative The Winning of the West, which attempted to connect the origin of a new \"race\" of Americans (i.e. what he considered the present population of the United States to be) to the frontier conditions their ancestors endured in throughout the 17th, 18th, and early 19th centuries.', mimetype='text/plain', start_char_idx=None, end_char_idx=None, text_template='{metadata_str}\\n\\n{content}', metadata_template='{key}: {value}', metadata_seperator='\\n'),\n",
       " Document(id_='9aa78f24-c247-457c-a974-3c75ad4348db', embedding=None, metadata={}, excluded_embed_metadata_keys=[], excluded_llm_metadata_keys=[], relationships={}, text='Roosevelt angrily complained about the foreign policy of President Wilson, calling it \"weak.\" This caused him to develop an intense dislike for Woodrow Wilson. When World War I began in 1914, Roosevelt strongly supported the Allies of World War I and demanded a harsher policy against Germany, especially regarding submarine warfare. In 1916, he campaigned energetically for Charles Evans Hughes and repeatedly denounced Irish-Americans and German-Americans who Roosevelt said were unpatriotic because they put the interest of Ireland and Germany ahead of America\\'s by supporting neutrality. He insisted one had to be 100% American, not a \"hyphenated American\" who juggled multiple loyalties. When the U.S. entered the war in 1917, Roosevelt sought to raise a volunteer infantry division, but Wilson refused. Brands 781â\\x80\\x934; Cramer, C.H. Newton D. Baker (1961) 110â\\x80\\x93113', mimetype='text/plain', start_char_idx=None, end_char_idx=None, text_template='{metadata_str}\\n\\n{content}', metadata_template='{key}: {value}', metadata_seperator='\\n'),\n",
       " Document(id_='bbfcc3a8-d806-4813-b33f-511062c576d7', embedding=None, metadata={}, excluded_embed_metadata_keys=[], excluded_llm_metadata_keys=[], relationships={}, text=\"Roosevelt's attacks on Wilson helped the Republicans win control of Congress in the off-year elections of 1918. Roosevelt was popular enough to seriously contest the 1920 Republican nomination, but his health was broken by 1918, because of the lingering malaria. His son Quentin, a daring pilot with the American forces in France, was shot down behind German lines in 1918. Quentin was his youngest son and probably the most liked by him. It is said the death of his son distressed him so much that Roosevelt never recovered from his loss. Dalton, (2002)p 507\", mimetype='text/plain', start_char_idx=None, end_char_idx=None, text_template='{metadata_str}\\n\\n{content}', metadata_template='{key}: {value}', metadata_seperator='\\n'),\n",
       " Document(id_='2acb6420-95d1-4bf2-bc86-2079c11cd8a4', embedding=None, metadata={}, excluded_embed_metadata_keys=[], excluded_llm_metadata_keys=[], relationships={}, text='Theodore Roosevelt Grave in Youngs Memorial Cemetery Oyster Bay, New York', mimetype='text/plain', start_char_idx=None, end_char_idx=None, text_template='{metadata_str}\\n\\n{content}', metadata_template='{key}: {value}', metadata_seperator='\\n'),\n",
       " Document(id_='c9886a29-6977-43fe-8f0e-5cf4ce493a8f', embedding=None, metadata={}, excluded_embed_metadata_keys=[], excluded_llm_metadata_keys=[], relationships={}, text=\"Twenty-six steps leading to Roosevelt's grave, commemorating his service as 26th President\", mimetype='text/plain', start_char_idx=None, end_char_idx=None, text_template='{metadata_str}\\n\\n{content}', metadata_template='{key}: {value}', metadata_seperator='\\n'),\n",
       " ...]"
      ]
     },
     "execution_count": 103,
     "metadata": {},
     "output_type": "execute_result"
    }
   ],
   "source": [
    "test3"
   ]
  },
  {
   "cell_type": "code",
   "execution_count": 108,
   "id": "1e34e128-cf92-4630-8d9a-bf4413c22f25",
   "metadata": {},
   "outputs": [
    {
     "data": {
      "text/plain": [
       "Document(id_='bb927233-c61f-45c8-bfe7-058dd8b668ed', embedding=None, metadata={}, excluded_embed_metadata_keys=[], excluded_llm_metadata_keys=[], relationships={}, text='*Angel Wing - A disease common in ducks.', mimetype='text/plain', start_char_idx=None, end_char_idx=None, text_template='{metadata_str}\\n\\n{content}', metadata_template='{key}: {value}', metadata_seperator='\\n')"
      ]
     },
     "execution_count": 108,
     "metadata": {},
     "output_type": "execute_result"
    }
   ],
   "source": [
    "test3[-2]"
   ]
  },
  {
   "cell_type": "code",
   "execution_count": null,
   "id": "6417f1bb-f31a-4f8a-9bfb-3600387dea04",
   "metadata": {},
   "outputs": [],
   "source": [
    "# try dividing documents into smaller parts for ingestion"
   ]
  },
  {
   "cell_type": "code",
   "execution_count": 81,
   "id": "376430dc-90f3-4a60-92db-e6b09d746214",
   "metadata": {},
   "outputs": [
    {
     "name": "stdout",
     "output_type": "stream",
     "text": [
      "True\n"
     ]
    }
   ],
   "source": [
    "# # Set up the faiss index\n",
    "d = 768 # dimensions of the input vector of the embedding model that we're going to use; in this case, the google embedding model\n",
    "faiss_index = faiss.IndexFlatL2(d)\n",
    "print(faiss_index.is_trained) # double check that the training worked"
   ]
  },
  {
   "cell_type": "code",
   "execution_count": 82,
   "id": "cb56af86-edc3-4ea7-a12b-31e9cb52b6d1",
   "metadata": {},
   "outputs": [],
   "source": [
    "# Set up the llm, embeddings, and Settings for Faiss \n",
    "llm = ChatGoogleGenerativeAI(model=\"gemini-1.5-flash\") # Replace with your LLM\n",
    "doc_embeddings = GoogleGenerativeAIEmbeddings(model=\"models/text-embedding-004\", embed_batch_size=1) # Replace with your embeddings model\n",
    "Settings.embed_model = doc_embeddings # used for LlamaIndex FaissVectorStore\n",
    "Settings.llm = llm # used for LlamaIndex FaissVectorStore"
   ]
  },
  {
   "cell_type": "code",
   "execution_count": 83,
   "id": "85e1fd14-7c26-4d61-8cfd-908171b9a63f",
   "metadata": {},
   "outputs": [],
   "source": [
    "logging.basicConfig(stream=sys.stdout, level=logging.INFO)\n",
    "logging.getLogger().addHandler(logging.StreamHandler(stream=sys.stdout))"
   ]
  },
  {
   "cell_type": "code",
   "execution_count": 84,
   "id": "a851a131-53a1-4203-8039-8e6bd1f4844b",
   "metadata": {},
   "outputs": [
    {
     "data": {
      "application/vnd.jupyter.widget-view+json": {
       "model_id": "1cb08fa105bb4a82a458a563136667e5",
       "version_major": 2,
       "version_minor": 0
      },
      "text/plain": [
       "Parsing nodes:   0%|          | 0/1000 [00:00<?, ?it/s]"
      ]
     },
     "metadata": {},
     "output_type": "display_data"
    },
    {
     "data": {
      "application/vnd.jupyter.widget-view+json": {
       "model_id": "0eefc18dc3ac4050b810f5b48b4dd66c",
       "version_major": 2,
       "version_minor": 0
      },
      "text/plain": [
       "Generating embeddings:   0%|          | 0/1000 [00:00<?, ?it/s]"
      ]
     },
     "metadata": {},
     "output_type": "display_data"
    }
   ],
   "source": [
    "# # Uncomment for when you need to re-embed and vectorize documents\n",
    "\n",
    "vector_store = FaissVectorStore(faiss_index=faiss_index)\n",
    "storage_context = StorageContext.from_defaults(vector_store=vector_store)\n",
    "index = VectorStoreIndex.from_documents(\n",
    "    test, storage_context=storage_context, show_progress=True\n",
    ")\n",
    "\n"
   ]
  },
  {
   "cell_type": "code",
   "execution_count": 169,
   "id": "5e851972-860f-40c2-a9d0-b9ee3b67de9b",
   "metadata": {},
   "outputs": [
    {
     "data": {
      "text/plain": [
       "1950"
      ]
     },
     "execution_count": 169,
     "metadata": {},
     "output_type": "execute_result"
    }
   ],
   "source": [
    "len(index.ref_doc_info)"
   ]
  },
  {
   "cell_type": "code",
   "execution_count": 165,
   "id": "696e3d0d-63ac-4d8e-b515-dda759cc533a",
   "metadata": {},
   "outputs": [],
   "source": [
    "test4 = documents[1850:1950] # stopped here"
   ]
  },
  {
   "cell_type": "code",
   "execution_count": 166,
   "id": "f0753f11-74b2-4c16-aed9-b7d3642221ca",
   "metadata": {},
   "outputs": [
    {
     "data": {
      "text/plain": [
       "Document(id_='d612c739-15bb-48b2-befa-0c20dc2646af', embedding=None, metadata={}, excluded_embed_metadata_keys=[], excluded_llm_metadata_keys=[], relationships={}, text=\"When he was 17, his mother died and his father's health had begun to fail.  Watt travelled to London to study instrument-making for a year, then returned to Scotland   to Glasgow   intent on setting up his own instrument-making business. However, because he had not served at least seven years as an apprentice, the Glasgow Guild of Hammermen (any artisans using hammers) blocked his application, despite there being no other mathematical instrument makers in Scotland.\", mimetype='text/plain', start_char_idx=None, end_char_idx=None, text_template='{metadata_str}\\n\\n{content}', metadata_template='{key}: {value}', metadata_seperator='\\n')"
      ]
     },
     "execution_count": 166,
     "metadata": {},
     "output_type": "execute_result"
    }
   ],
   "source": [
    "test4[-1]"
   ]
  },
  {
   "cell_type": "code",
   "execution_count": 168,
   "id": "b4ec8522-d767-4e98-8153-b6d710fa4784",
   "metadata": {},
   "outputs": [
    {
     "data": {
      "text/plain": [
       "True"
      ]
     },
     "execution_count": 168,
     "metadata": {},
     "output_type": "execute_result"
    }
   ],
   "source": [
    "'d612c739-15bb-48b2-befa-0c20dc2646af' in index.ref_doc_info"
   ]
  },
  {
   "cell_type": "code",
   "execution_count": 167,
   "id": "85eab01b-4ac7-46d6-934f-01bdabdd369b",
   "metadata": {},
   "outputs": [
    {
     "data": {
      "application/vnd.jupyter.widget-view+json": {
       "model_id": "4afb8a9fc797464cb7ea397ab9f1138c",
       "version_major": 2,
       "version_minor": 0
      },
      "text/plain": [
       "Parsing nodes:   0%|          | 0/1 [00:00<?, ?it/s]"
      ]
     },
     "metadata": {},
     "output_type": "display_data"
    },
    {
     "data": {
      "application/vnd.jupyter.widget-view+json": {
       "model_id": "78b0819338914250aac789c29aced0c3",
       "version_major": 2,
       "version_minor": 0
      },
      "text/plain": [
       "Parsing nodes:   0%|          | 0/1 [00:00<?, ?it/s]"
      ]
     },
     "metadata": {},
     "output_type": "display_data"
    },
    {
     "data": {
      "application/vnd.jupyter.widget-view+json": {
       "model_id": "d0e16a2f68f6471e98b99900dbf9cd0f",
       "version_major": 2,
       "version_minor": 0
      },
      "text/plain": [
       "Parsing nodes:   0%|          | 0/1 [00:00<?, ?it/s]"
      ]
     },
     "metadata": {},
     "output_type": "display_data"
    },
    {
     "data": {
      "application/vnd.jupyter.widget-view+json": {
       "model_id": "4cbad07368454fb88333519470d3523a",
       "version_major": 2,
       "version_minor": 0
      },
      "text/plain": [
       "Parsing nodes:   0%|          | 0/1 [00:00<?, ?it/s]"
      ]
     },
     "metadata": {},
     "output_type": "display_data"
    },
    {
     "data": {
      "application/vnd.jupyter.widget-view+json": {
       "model_id": "19b9ab8c70da449780e97520bd6fc5ac",
       "version_major": 2,
       "version_minor": 0
      },
      "text/plain": [
       "Parsing nodes:   0%|          | 0/1 [00:00<?, ?it/s]"
      ]
     },
     "metadata": {},
     "output_type": "display_data"
    },
    {
     "data": {
      "application/vnd.jupyter.widget-view+json": {
       "model_id": "83c795dd8ecc4680a342dbd51bb36c65",
       "version_major": 2,
       "version_minor": 0
      },
      "text/plain": [
       "Parsing nodes:   0%|          | 0/1 [00:00<?, ?it/s]"
      ]
     },
     "metadata": {},
     "output_type": "display_data"
    },
    {
     "data": {
      "application/vnd.jupyter.widget-view+json": {
       "model_id": "7e577fd7e3ff4106997f6a5542fd15aa",
       "version_major": 2,
       "version_minor": 0
      },
      "text/plain": [
       "Parsing nodes:   0%|          | 0/1 [00:00<?, ?it/s]"
      ]
     },
     "metadata": {},
     "output_type": "display_data"
    },
    {
     "data": {
      "application/vnd.jupyter.widget-view+json": {
       "model_id": "a03349011b504aaca5f176daf7ad5620",
       "version_major": 2,
       "version_minor": 0
      },
      "text/plain": [
       "Parsing nodes:   0%|          | 0/1 [00:00<?, ?it/s]"
      ]
     },
     "metadata": {},
     "output_type": "display_data"
    },
    {
     "data": {
      "application/vnd.jupyter.widget-view+json": {
       "model_id": "0cda620b32544cf5b41e79f2b275957f",
       "version_major": 2,
       "version_minor": 0
      },
      "text/plain": [
       "Parsing nodes:   0%|          | 0/1 [00:00<?, ?it/s]"
      ]
     },
     "metadata": {},
     "output_type": "display_data"
    },
    {
     "data": {
      "application/vnd.jupyter.widget-view+json": {
       "model_id": "2a064eaa8ec34f14b06387c0b2cfd901",
       "version_major": 2,
       "version_minor": 0
      },
      "text/plain": [
       "Parsing nodes:   0%|          | 0/1 [00:00<?, ?it/s]"
      ]
     },
     "metadata": {},
     "output_type": "display_data"
    },
    {
     "data": {
      "application/vnd.jupyter.widget-view+json": {
       "model_id": "8f54029eadbb4589a44b3e85a98fad12",
       "version_major": 2,
       "version_minor": 0
      },
      "text/plain": [
       "Parsing nodes:   0%|          | 0/1 [00:00<?, ?it/s]"
      ]
     },
     "metadata": {},
     "output_type": "display_data"
    },
    {
     "data": {
      "application/vnd.jupyter.widget-view+json": {
       "model_id": "be3a5734e9ac473ea6523b7b14838449",
       "version_major": 2,
       "version_minor": 0
      },
      "text/plain": [
       "Parsing nodes:   0%|          | 0/1 [00:00<?, ?it/s]"
      ]
     },
     "metadata": {},
     "output_type": "display_data"
    },
    {
     "data": {
      "application/vnd.jupyter.widget-view+json": {
       "model_id": "bee088569c2e4db981c3bdd87479da40",
       "version_major": 2,
       "version_minor": 0
      },
      "text/plain": [
       "Parsing nodes:   0%|          | 0/1 [00:00<?, ?it/s]"
      ]
     },
     "metadata": {},
     "output_type": "display_data"
    },
    {
     "data": {
      "application/vnd.jupyter.widget-view+json": {
       "model_id": "bd21ebd24f7e4195aeeb226c5d773e59",
       "version_major": 2,
       "version_minor": 0
      },
      "text/plain": [
       "Parsing nodes:   0%|          | 0/1 [00:00<?, ?it/s]"
      ]
     },
     "metadata": {},
     "output_type": "display_data"
    },
    {
     "data": {
      "application/vnd.jupyter.widget-view+json": {
       "model_id": "e21b0ea3b187471c8057e530f910cc7e",
       "version_major": 2,
       "version_minor": 0
      },
      "text/plain": [
       "Parsing nodes:   0%|          | 0/1 [00:00<?, ?it/s]"
      ]
     },
     "metadata": {},
     "output_type": "display_data"
    },
    {
     "data": {
      "application/vnd.jupyter.widget-view+json": {
       "model_id": "29892afa3fe344fdb85075de668b0579",
       "version_major": 2,
       "version_minor": 0
      },
      "text/plain": [
       "Parsing nodes:   0%|          | 0/1 [00:00<?, ?it/s]"
      ]
     },
     "metadata": {},
     "output_type": "display_data"
    },
    {
     "data": {
      "application/vnd.jupyter.widget-view+json": {
       "model_id": "96ff4031810d490898c4d84695534d6f",
       "version_major": 2,
       "version_minor": 0
      },
      "text/plain": [
       "Parsing nodes:   0%|          | 0/1 [00:00<?, ?it/s]"
      ]
     },
     "metadata": {},
     "output_type": "display_data"
    },
    {
     "data": {
      "application/vnd.jupyter.widget-view+json": {
       "model_id": "31372858cfe64eb68deccde11d4b8c5f",
       "version_major": 2,
       "version_minor": 0
      },
      "text/plain": [
       "Parsing nodes:   0%|          | 0/1 [00:00<?, ?it/s]"
      ]
     },
     "metadata": {},
     "output_type": "display_data"
    },
    {
     "data": {
      "application/vnd.jupyter.widget-view+json": {
       "model_id": "5fbcd8a78d254de6be082b3ffe3e1c60",
       "version_major": 2,
       "version_minor": 0
      },
      "text/plain": [
       "Parsing nodes:   0%|          | 0/1 [00:00<?, ?it/s]"
      ]
     },
     "metadata": {},
     "output_type": "display_data"
    },
    {
     "data": {
      "application/vnd.jupyter.widget-view+json": {
       "model_id": "46c273503446474b8ad4db47c69a8a21",
       "version_major": 2,
       "version_minor": 0
      },
      "text/plain": [
       "Parsing nodes:   0%|          | 0/1 [00:00<?, ?it/s]"
      ]
     },
     "metadata": {},
     "output_type": "display_data"
    },
    {
     "data": {
      "application/vnd.jupyter.widget-view+json": {
       "model_id": "77ee1890e26c4564a37236942eae0e87",
       "version_major": 2,
       "version_minor": 0
      },
      "text/plain": [
       "Parsing nodes:   0%|          | 0/1 [00:00<?, ?it/s]"
      ]
     },
     "metadata": {},
     "output_type": "display_data"
    },
    {
     "data": {
      "application/vnd.jupyter.widget-view+json": {
       "model_id": "c30387a6681c4f8cbd1a228d9ef6b23f",
       "version_major": 2,
       "version_minor": 0
      },
      "text/plain": [
       "Parsing nodes:   0%|          | 0/1 [00:00<?, ?it/s]"
      ]
     },
     "metadata": {},
     "output_type": "display_data"
    },
    {
     "data": {
      "application/vnd.jupyter.widget-view+json": {
       "model_id": "3271ab96ea9a45ddb1f6f37a27301ffb",
       "version_major": 2,
       "version_minor": 0
      },
      "text/plain": [
       "Parsing nodes:   0%|          | 0/1 [00:00<?, ?it/s]"
      ]
     },
     "metadata": {},
     "output_type": "display_data"
    },
    {
     "data": {
      "application/vnd.jupyter.widget-view+json": {
       "model_id": "521ed3c5a42d490d958758fec512f613",
       "version_major": 2,
       "version_minor": 0
      },
      "text/plain": [
       "Parsing nodes:   0%|          | 0/1 [00:00<?, ?it/s]"
      ]
     },
     "metadata": {},
     "output_type": "display_data"
    },
    {
     "data": {
      "application/vnd.jupyter.widget-view+json": {
       "model_id": "834d87f019ce463d9294d9a6aca18249",
       "version_major": 2,
       "version_minor": 0
      },
      "text/plain": [
       "Parsing nodes:   0%|          | 0/1 [00:00<?, ?it/s]"
      ]
     },
     "metadata": {},
     "output_type": "display_data"
    },
    {
     "data": {
      "application/vnd.jupyter.widget-view+json": {
       "model_id": "5c16aa20345946b3bb3292c391632bd8",
       "version_major": 2,
       "version_minor": 0
      },
      "text/plain": [
       "Parsing nodes:   0%|          | 0/1 [00:00<?, ?it/s]"
      ]
     },
     "metadata": {},
     "output_type": "display_data"
    },
    {
     "data": {
      "application/vnd.jupyter.widget-view+json": {
       "model_id": "0ea05e9983304b3bb1d637dfc8c7d718",
       "version_major": 2,
       "version_minor": 0
      },
      "text/plain": [
       "Parsing nodes:   0%|          | 0/1 [00:00<?, ?it/s]"
      ]
     },
     "metadata": {},
     "output_type": "display_data"
    },
    {
     "data": {
      "application/vnd.jupyter.widget-view+json": {
       "model_id": "2e6b46e0bb7747c093636f7e518060fc",
       "version_major": 2,
       "version_minor": 0
      },
      "text/plain": [
       "Parsing nodes:   0%|          | 0/1 [00:00<?, ?it/s]"
      ]
     },
     "metadata": {},
     "output_type": "display_data"
    },
    {
     "data": {
      "application/vnd.jupyter.widget-view+json": {
       "model_id": "b661b3fea57646fd91d9dc6e980e1785",
       "version_major": 2,
       "version_minor": 0
      },
      "text/plain": [
       "Parsing nodes:   0%|          | 0/1 [00:00<?, ?it/s]"
      ]
     },
     "metadata": {},
     "output_type": "display_data"
    },
    {
     "data": {
      "application/vnd.jupyter.widget-view+json": {
       "model_id": "d4357612b96a473c873df6af56b43e85",
       "version_major": 2,
       "version_minor": 0
      },
      "text/plain": [
       "Parsing nodes:   0%|          | 0/1 [00:00<?, ?it/s]"
      ]
     },
     "metadata": {},
     "output_type": "display_data"
    },
    {
     "data": {
      "application/vnd.jupyter.widget-view+json": {
       "model_id": "ff0061d0114248b09732afeb20178687",
       "version_major": 2,
       "version_minor": 0
      },
      "text/plain": [
       "Parsing nodes:   0%|          | 0/1 [00:00<?, ?it/s]"
      ]
     },
     "metadata": {},
     "output_type": "display_data"
    },
    {
     "data": {
      "application/vnd.jupyter.widget-view+json": {
       "model_id": "e0ad591bd0974634a4f4355a0cd3a276",
       "version_major": 2,
       "version_minor": 0
      },
      "text/plain": [
       "Parsing nodes:   0%|          | 0/1 [00:00<?, ?it/s]"
      ]
     },
     "metadata": {},
     "output_type": "display_data"
    },
    {
     "data": {
      "application/vnd.jupyter.widget-view+json": {
       "model_id": "4bf2680ff63e4a21a0ca196d24161659",
       "version_major": 2,
       "version_minor": 0
      },
      "text/plain": [
       "Parsing nodes:   0%|          | 0/1 [00:00<?, ?it/s]"
      ]
     },
     "metadata": {},
     "output_type": "display_data"
    },
    {
     "data": {
      "application/vnd.jupyter.widget-view+json": {
       "model_id": "b093bcb1f4bc47139a897b709b7cda9f",
       "version_major": 2,
       "version_minor": 0
      },
      "text/plain": [
       "Parsing nodes:   0%|          | 0/1 [00:00<?, ?it/s]"
      ]
     },
     "metadata": {},
     "output_type": "display_data"
    },
    {
     "data": {
      "application/vnd.jupyter.widget-view+json": {
       "model_id": "66f83f6a3ccc4168a0978ba020c32d54",
       "version_major": 2,
       "version_minor": 0
      },
      "text/plain": [
       "Parsing nodes:   0%|          | 0/1 [00:00<?, ?it/s]"
      ]
     },
     "metadata": {},
     "output_type": "display_data"
    },
    {
     "data": {
      "application/vnd.jupyter.widget-view+json": {
       "model_id": "4e77af42c13a43eeae7efb51cfef8859",
       "version_major": 2,
       "version_minor": 0
      },
      "text/plain": [
       "Parsing nodes:   0%|          | 0/1 [00:00<?, ?it/s]"
      ]
     },
     "metadata": {},
     "output_type": "display_data"
    },
    {
     "data": {
      "application/vnd.jupyter.widget-view+json": {
       "model_id": "67c8eace550642f4b7ac164d4ca0741f",
       "version_major": 2,
       "version_minor": 0
      },
      "text/plain": [
       "Parsing nodes:   0%|          | 0/1 [00:00<?, ?it/s]"
      ]
     },
     "metadata": {},
     "output_type": "display_data"
    },
    {
     "data": {
      "application/vnd.jupyter.widget-view+json": {
       "model_id": "20aceefa7f264c7b8c1eeed21de28517",
       "version_major": 2,
       "version_minor": 0
      },
      "text/plain": [
       "Parsing nodes:   0%|          | 0/1 [00:00<?, ?it/s]"
      ]
     },
     "metadata": {},
     "output_type": "display_data"
    },
    {
     "data": {
      "application/vnd.jupyter.widget-view+json": {
       "model_id": "16242ce5bf3e47f9896d78629c2190c3",
       "version_major": 2,
       "version_minor": 0
      },
      "text/plain": [
       "Parsing nodes:   0%|          | 0/1 [00:00<?, ?it/s]"
      ]
     },
     "metadata": {},
     "output_type": "display_data"
    },
    {
     "data": {
      "application/vnd.jupyter.widget-view+json": {
       "model_id": "e01b422123024c0ea5bc8131f551b420",
       "version_major": 2,
       "version_minor": 0
      },
      "text/plain": [
       "Parsing nodes:   0%|          | 0/1 [00:00<?, ?it/s]"
      ]
     },
     "metadata": {},
     "output_type": "display_data"
    },
    {
     "data": {
      "application/vnd.jupyter.widget-view+json": {
       "model_id": "d5ff52dab53e4128a4d29c6582d85e57",
       "version_major": 2,
       "version_minor": 0
      },
      "text/plain": [
       "Parsing nodes:   0%|          | 0/1 [00:00<?, ?it/s]"
      ]
     },
     "metadata": {},
     "output_type": "display_data"
    },
    {
     "data": {
      "application/vnd.jupyter.widget-view+json": {
       "model_id": "a91f2fb6cecf4949adc50cea7e0ea337",
       "version_major": 2,
       "version_minor": 0
      },
      "text/plain": [
       "Parsing nodes:   0%|          | 0/1 [00:00<?, ?it/s]"
      ]
     },
     "metadata": {},
     "output_type": "display_data"
    },
    {
     "data": {
      "application/vnd.jupyter.widget-view+json": {
       "model_id": "c4320ede16e44ce2a527188f35485e0f",
       "version_major": 2,
       "version_minor": 0
      },
      "text/plain": [
       "Parsing nodes:   0%|          | 0/1 [00:00<?, ?it/s]"
      ]
     },
     "metadata": {},
     "output_type": "display_data"
    },
    {
     "data": {
      "application/vnd.jupyter.widget-view+json": {
       "model_id": "3794b5d749cf4ab2af780569658f9530",
       "version_major": 2,
       "version_minor": 0
      },
      "text/plain": [
       "Parsing nodes:   0%|          | 0/1 [00:00<?, ?it/s]"
      ]
     },
     "metadata": {},
     "output_type": "display_data"
    },
    {
     "data": {
      "application/vnd.jupyter.widget-view+json": {
       "model_id": "92270394ae3a4c4b9dca259cc03adeb4",
       "version_major": 2,
       "version_minor": 0
      },
      "text/plain": [
       "Parsing nodes:   0%|          | 0/1 [00:00<?, ?it/s]"
      ]
     },
     "metadata": {},
     "output_type": "display_data"
    },
    {
     "data": {
      "application/vnd.jupyter.widget-view+json": {
       "model_id": "8a600258d57d4fd9b9fa50bbd6817aa7",
       "version_major": 2,
       "version_minor": 0
      },
      "text/plain": [
       "Parsing nodes:   0%|          | 0/1 [00:00<?, ?it/s]"
      ]
     },
     "metadata": {},
     "output_type": "display_data"
    },
    {
     "data": {
      "application/vnd.jupyter.widget-view+json": {
       "model_id": "f338a92e20254aae983abca6520e4b51",
       "version_major": 2,
       "version_minor": 0
      },
      "text/plain": [
       "Parsing nodes:   0%|          | 0/1 [00:00<?, ?it/s]"
      ]
     },
     "metadata": {},
     "output_type": "display_data"
    },
    {
     "data": {
      "application/vnd.jupyter.widget-view+json": {
       "model_id": "bca813d8ff04460c90d4b877d6dfd6c4",
       "version_major": 2,
       "version_minor": 0
      },
      "text/plain": [
       "Parsing nodes:   0%|          | 0/1 [00:00<?, ?it/s]"
      ]
     },
     "metadata": {},
     "output_type": "display_data"
    },
    {
     "data": {
      "application/vnd.jupyter.widget-view+json": {
       "model_id": "a24c8675598a461b9da2c1256695b1a7",
       "version_major": 2,
       "version_minor": 0
      },
      "text/plain": [
       "Parsing nodes:   0%|          | 0/1 [00:00<?, ?it/s]"
      ]
     },
     "metadata": {},
     "output_type": "display_data"
    },
    {
     "data": {
      "application/vnd.jupyter.widget-view+json": {
       "model_id": "0130ec1f4d8447588fa65972b1d6b0d7",
       "version_major": 2,
       "version_minor": 0
      },
      "text/plain": [
       "Parsing nodes:   0%|          | 0/1 [00:00<?, ?it/s]"
      ]
     },
     "metadata": {},
     "output_type": "display_data"
    },
    {
     "data": {
      "application/vnd.jupyter.widget-view+json": {
       "model_id": "cf4411ef60cf4ded912e154c8fbba792",
       "version_major": 2,
       "version_minor": 0
      },
      "text/plain": [
       "Parsing nodes:   0%|          | 0/1 [00:00<?, ?it/s]"
      ]
     },
     "metadata": {},
     "output_type": "display_data"
    },
    {
     "data": {
      "application/vnd.jupyter.widget-view+json": {
       "model_id": "2a127d83753240bab638aeab729afabc",
       "version_major": 2,
       "version_minor": 0
      },
      "text/plain": [
       "Parsing nodes:   0%|          | 0/1 [00:00<?, ?it/s]"
      ]
     },
     "metadata": {},
     "output_type": "display_data"
    },
    {
     "data": {
      "application/vnd.jupyter.widget-view+json": {
       "model_id": "f7d6fc3558fa49bcb8e2da3fedca0155",
       "version_major": 2,
       "version_minor": 0
      },
      "text/plain": [
       "Parsing nodes:   0%|          | 0/1 [00:00<?, ?it/s]"
      ]
     },
     "metadata": {},
     "output_type": "display_data"
    },
    {
     "data": {
      "application/vnd.jupyter.widget-view+json": {
       "model_id": "13b11877829a40e1bbc2d642a21a75b7",
       "version_major": 2,
       "version_minor": 0
      },
      "text/plain": [
       "Parsing nodes:   0%|          | 0/1 [00:00<?, ?it/s]"
      ]
     },
     "metadata": {},
     "output_type": "display_data"
    },
    {
     "data": {
      "application/vnd.jupyter.widget-view+json": {
       "model_id": "8984fff2a51a47d580e73701db43dde1",
       "version_major": 2,
       "version_minor": 0
      },
      "text/plain": [
       "Parsing nodes:   0%|          | 0/1 [00:00<?, ?it/s]"
      ]
     },
     "metadata": {},
     "output_type": "display_data"
    },
    {
     "data": {
      "application/vnd.jupyter.widget-view+json": {
       "model_id": "fc7d67d961f04c38934dc220303e6021",
       "version_major": 2,
       "version_minor": 0
      },
      "text/plain": [
       "Parsing nodes:   0%|          | 0/1 [00:00<?, ?it/s]"
      ]
     },
     "metadata": {},
     "output_type": "display_data"
    },
    {
     "data": {
      "application/vnd.jupyter.widget-view+json": {
       "model_id": "ed153134e3924f68b0c2e4885c651b19",
       "version_major": 2,
       "version_minor": 0
      },
      "text/plain": [
       "Parsing nodes:   0%|          | 0/1 [00:00<?, ?it/s]"
      ]
     },
     "metadata": {},
     "output_type": "display_data"
    },
    {
     "data": {
      "application/vnd.jupyter.widget-view+json": {
       "model_id": "a34cc272a65a48fdb6b95d830cb55662",
       "version_major": 2,
       "version_minor": 0
      },
      "text/plain": [
       "Parsing nodes:   0%|          | 0/1 [00:00<?, ?it/s]"
      ]
     },
     "metadata": {},
     "output_type": "display_data"
    },
    {
     "data": {
      "application/vnd.jupyter.widget-view+json": {
       "model_id": "85cd62fc83eb4be3b21cc161e328077d",
       "version_major": 2,
       "version_minor": 0
      },
      "text/plain": [
       "Parsing nodes:   0%|          | 0/1 [00:00<?, ?it/s]"
      ]
     },
     "metadata": {},
     "output_type": "display_data"
    },
    {
     "data": {
      "application/vnd.jupyter.widget-view+json": {
       "model_id": "5887b5ff6ccd4af49a7477196c1cae79",
       "version_major": 2,
       "version_minor": 0
      },
      "text/plain": [
       "Parsing nodes:   0%|          | 0/1 [00:00<?, ?it/s]"
      ]
     },
     "metadata": {},
     "output_type": "display_data"
    },
    {
     "data": {
      "application/vnd.jupyter.widget-view+json": {
       "model_id": "340b85e84c9a437aa130d6adfc03a70a",
       "version_major": 2,
       "version_minor": 0
      },
      "text/plain": [
       "Parsing nodes:   0%|          | 0/1 [00:00<?, ?it/s]"
      ]
     },
     "metadata": {},
     "output_type": "display_data"
    },
    {
     "data": {
      "application/vnd.jupyter.widget-view+json": {
       "model_id": "a6d01759ff6242b482096d46f343b527",
       "version_major": 2,
       "version_minor": 0
      },
      "text/plain": [
       "Parsing nodes:   0%|          | 0/1 [00:00<?, ?it/s]"
      ]
     },
     "metadata": {},
     "output_type": "display_data"
    },
    {
     "data": {
      "application/vnd.jupyter.widget-view+json": {
       "model_id": "245ed81cdf85440ea33cb63530bf07c0",
       "version_major": 2,
       "version_minor": 0
      },
      "text/plain": [
       "Parsing nodes:   0%|          | 0/1 [00:00<?, ?it/s]"
      ]
     },
     "metadata": {},
     "output_type": "display_data"
    },
    {
     "data": {
      "application/vnd.jupyter.widget-view+json": {
       "model_id": "c1156d933dfa4152800a64ebfa2a5a7d",
       "version_major": 2,
       "version_minor": 0
      },
      "text/plain": [
       "Parsing nodes:   0%|          | 0/1 [00:00<?, ?it/s]"
      ]
     },
     "metadata": {},
     "output_type": "display_data"
    },
    {
     "data": {
      "application/vnd.jupyter.widget-view+json": {
       "model_id": "14bd4f21f9d64ca2a7dde1ebdebf8ea0",
       "version_major": 2,
       "version_minor": 0
      },
      "text/plain": [
       "Parsing nodes:   0%|          | 0/1 [00:00<?, ?it/s]"
      ]
     },
     "metadata": {},
     "output_type": "display_data"
    },
    {
     "data": {
      "application/vnd.jupyter.widget-view+json": {
       "model_id": "f5ee3c2597ca439481eb182d8ae810a7",
       "version_major": 2,
       "version_minor": 0
      },
      "text/plain": [
       "Parsing nodes:   0%|          | 0/1 [00:00<?, ?it/s]"
      ]
     },
     "metadata": {},
     "output_type": "display_data"
    },
    {
     "data": {
      "application/vnd.jupyter.widget-view+json": {
       "model_id": "a81e2583891e4ac5a8357bdfed5a3a38",
       "version_major": 2,
       "version_minor": 0
      },
      "text/plain": [
       "Parsing nodes:   0%|          | 0/1 [00:00<?, ?it/s]"
      ]
     },
     "metadata": {},
     "output_type": "display_data"
    },
    {
     "data": {
      "application/vnd.jupyter.widget-view+json": {
       "model_id": "965b896771b4448cb4c9c3683b7e1ea1",
       "version_major": 2,
       "version_minor": 0
      },
      "text/plain": [
       "Parsing nodes:   0%|          | 0/1 [00:00<?, ?it/s]"
      ]
     },
     "metadata": {},
     "output_type": "display_data"
    },
    {
     "data": {
      "application/vnd.jupyter.widget-view+json": {
       "model_id": "d3a117e5081840c49d81519c7d9889bc",
       "version_major": 2,
       "version_minor": 0
      },
      "text/plain": [
       "Parsing nodes:   0%|          | 0/1 [00:00<?, ?it/s]"
      ]
     },
     "metadata": {},
     "output_type": "display_data"
    },
    {
     "data": {
      "application/vnd.jupyter.widget-view+json": {
       "model_id": "32b943f10c8344a5bb68fb543fb53171",
       "version_major": 2,
       "version_minor": 0
      },
      "text/plain": [
       "Parsing nodes:   0%|          | 0/1 [00:00<?, ?it/s]"
      ]
     },
     "metadata": {},
     "output_type": "display_data"
    },
    {
     "data": {
      "application/vnd.jupyter.widget-view+json": {
       "model_id": "25041f8c9087479aa9a1ad720582dbf9",
       "version_major": 2,
       "version_minor": 0
      },
      "text/plain": [
       "Parsing nodes:   0%|          | 0/1 [00:00<?, ?it/s]"
      ]
     },
     "metadata": {},
     "output_type": "display_data"
    },
    {
     "data": {
      "application/vnd.jupyter.widget-view+json": {
       "model_id": "3367094e078a40bb954e423321c0347b",
       "version_major": 2,
       "version_minor": 0
      },
      "text/plain": [
       "Parsing nodes:   0%|          | 0/1 [00:00<?, ?it/s]"
      ]
     },
     "metadata": {},
     "output_type": "display_data"
    },
    {
     "data": {
      "application/vnd.jupyter.widget-view+json": {
       "model_id": "41fc465df33a4284b9247ebc80bf3bec",
       "version_major": 2,
       "version_minor": 0
      },
      "text/plain": [
       "Parsing nodes:   0%|          | 0/1 [00:00<?, ?it/s]"
      ]
     },
     "metadata": {},
     "output_type": "display_data"
    },
    {
     "data": {
      "application/vnd.jupyter.widget-view+json": {
       "model_id": "0d1052d748694f6b827e20d07d2b5e58",
       "version_major": 2,
       "version_minor": 0
      },
      "text/plain": [
       "Parsing nodes:   0%|          | 0/1 [00:00<?, ?it/s]"
      ]
     },
     "metadata": {},
     "output_type": "display_data"
    },
    {
     "data": {
      "application/vnd.jupyter.widget-view+json": {
       "model_id": "9eae617a739d466d8f19f5d9ebcbf231",
       "version_major": 2,
       "version_minor": 0
      },
      "text/plain": [
       "Parsing nodes:   0%|          | 0/1 [00:00<?, ?it/s]"
      ]
     },
     "metadata": {},
     "output_type": "display_data"
    },
    {
     "data": {
      "application/vnd.jupyter.widget-view+json": {
       "model_id": "015752349b814cfaa8e6bc8520681736",
       "version_major": 2,
       "version_minor": 0
      },
      "text/plain": [
       "Parsing nodes:   0%|          | 0/1 [00:00<?, ?it/s]"
      ]
     },
     "metadata": {},
     "output_type": "display_data"
    },
    {
     "data": {
      "application/vnd.jupyter.widget-view+json": {
       "model_id": "51526ab29b56463e87a5928046348625",
       "version_major": 2,
       "version_minor": 0
      },
      "text/plain": [
       "Parsing nodes:   0%|          | 0/1 [00:00<?, ?it/s]"
      ]
     },
     "metadata": {},
     "output_type": "display_data"
    },
    {
     "data": {
      "application/vnd.jupyter.widget-view+json": {
       "model_id": "b0a68899372c49bea0563d93f4d1a5f2",
       "version_major": 2,
       "version_minor": 0
      },
      "text/plain": [
       "Parsing nodes:   0%|          | 0/1 [00:00<?, ?it/s]"
      ]
     },
     "metadata": {},
     "output_type": "display_data"
    },
    {
     "data": {
      "application/vnd.jupyter.widget-view+json": {
       "model_id": "b5db18013483476c94f4d81ac35d1852",
       "version_major": 2,
       "version_minor": 0
      },
      "text/plain": [
       "Parsing nodes:   0%|          | 0/1 [00:00<?, ?it/s]"
      ]
     },
     "metadata": {},
     "output_type": "display_data"
    },
    {
     "data": {
      "application/vnd.jupyter.widget-view+json": {
       "model_id": "70cfe89ea4544984947d29e1fdf1136e",
       "version_major": 2,
       "version_minor": 0
      },
      "text/plain": [
       "Parsing nodes:   0%|          | 0/1 [00:00<?, ?it/s]"
      ]
     },
     "metadata": {},
     "output_type": "display_data"
    },
    {
     "data": {
      "application/vnd.jupyter.widget-view+json": {
       "model_id": "1b5e7457ddd144cda37e4246103330c8",
       "version_major": 2,
       "version_minor": 0
      },
      "text/plain": [
       "Parsing nodes:   0%|          | 0/1 [00:00<?, ?it/s]"
      ]
     },
     "metadata": {},
     "output_type": "display_data"
    },
    {
     "data": {
      "application/vnd.jupyter.widget-view+json": {
       "model_id": "59e1598c237f495aab81d14a2e8afcd4",
       "version_major": 2,
       "version_minor": 0
      },
      "text/plain": [
       "Parsing nodes:   0%|          | 0/1 [00:00<?, ?it/s]"
      ]
     },
     "metadata": {},
     "output_type": "display_data"
    },
    {
     "data": {
      "application/vnd.jupyter.widget-view+json": {
       "model_id": "21f5fe45d4534931baf9f6fda85be2d2",
       "version_major": 2,
       "version_minor": 0
      },
      "text/plain": [
       "Parsing nodes:   0%|          | 0/1 [00:00<?, ?it/s]"
      ]
     },
     "metadata": {},
     "output_type": "display_data"
    },
    {
     "data": {
      "application/vnd.jupyter.widget-view+json": {
       "model_id": "208b2aebf2b8480e906d57e7212d5e6e",
       "version_major": 2,
       "version_minor": 0
      },
      "text/plain": [
       "Parsing nodes:   0%|          | 0/1 [00:00<?, ?it/s]"
      ]
     },
     "metadata": {},
     "output_type": "display_data"
    },
    {
     "data": {
      "application/vnd.jupyter.widget-view+json": {
       "model_id": "3bb9075c16bd454c989fa02bf956d7e8",
       "version_major": 2,
       "version_minor": 0
      },
      "text/plain": [
       "Parsing nodes:   0%|          | 0/1 [00:00<?, ?it/s]"
      ]
     },
     "metadata": {},
     "output_type": "display_data"
    },
    {
     "data": {
      "application/vnd.jupyter.widget-view+json": {
       "model_id": "8d94b555e2f546bf82f9693a496f4394",
       "version_major": 2,
       "version_minor": 0
      },
      "text/plain": [
       "Parsing nodes:   0%|          | 0/1 [00:00<?, ?it/s]"
      ]
     },
     "metadata": {},
     "output_type": "display_data"
    },
    {
     "data": {
      "application/vnd.jupyter.widget-view+json": {
       "model_id": "9003f1d71800461ca826c35c552ac5d9",
       "version_major": 2,
       "version_minor": 0
      },
      "text/plain": [
       "Parsing nodes:   0%|          | 0/1 [00:00<?, ?it/s]"
      ]
     },
     "metadata": {},
     "output_type": "display_data"
    },
    {
     "data": {
      "application/vnd.jupyter.widget-view+json": {
       "model_id": "a638861aa9e8439e8b0aa38ebdd6eaef",
       "version_major": 2,
       "version_minor": 0
      },
      "text/plain": [
       "Parsing nodes:   0%|          | 0/1 [00:00<?, ?it/s]"
      ]
     },
     "metadata": {},
     "output_type": "display_data"
    },
    {
     "data": {
      "application/vnd.jupyter.widget-view+json": {
       "model_id": "d614bc2fd2fc4bef8da66e00b2a7dccf",
       "version_major": 2,
       "version_minor": 0
      },
      "text/plain": [
       "Parsing nodes:   0%|          | 0/1 [00:00<?, ?it/s]"
      ]
     },
     "metadata": {},
     "output_type": "display_data"
    },
    {
     "data": {
      "application/vnd.jupyter.widget-view+json": {
       "model_id": "7325168442da42dc8e1d360f567b2c95",
       "version_major": 2,
       "version_minor": 0
      },
      "text/plain": [
       "Parsing nodes:   0%|          | 0/1 [00:00<?, ?it/s]"
      ]
     },
     "metadata": {},
     "output_type": "display_data"
    },
    {
     "data": {
      "application/vnd.jupyter.widget-view+json": {
       "model_id": "f29a98fe19364368864c1d53c901e524",
       "version_major": 2,
       "version_minor": 0
      },
      "text/plain": [
       "Parsing nodes:   0%|          | 0/1 [00:00<?, ?it/s]"
      ]
     },
     "metadata": {},
     "output_type": "display_data"
    },
    {
     "data": {
      "application/vnd.jupyter.widget-view+json": {
       "model_id": "2fd8c3cc7841443b9359cad3701df527",
       "version_major": 2,
       "version_minor": 0
      },
      "text/plain": [
       "Parsing nodes:   0%|          | 0/1 [00:00<?, ?it/s]"
      ]
     },
     "metadata": {},
     "output_type": "display_data"
    },
    {
     "data": {
      "application/vnd.jupyter.widget-view+json": {
       "model_id": "933c7edd329b461fb54ae432f128dedf",
       "version_major": 2,
       "version_minor": 0
      },
      "text/plain": [
       "Parsing nodes:   0%|          | 0/1 [00:00<?, ?it/s]"
      ]
     },
     "metadata": {},
     "output_type": "display_data"
    },
    {
     "data": {
      "application/vnd.jupyter.widget-view+json": {
       "model_id": "92413db2a18f4c4a9a12e7eb7cbca410",
       "version_major": 2,
       "version_minor": 0
      },
      "text/plain": [
       "Parsing nodes:   0%|          | 0/1 [00:00<?, ?it/s]"
      ]
     },
     "metadata": {},
     "output_type": "display_data"
    },
    {
     "data": {
      "application/vnd.jupyter.widget-view+json": {
       "model_id": "2ed18abb6e9147caba5feace0f5c6d13",
       "version_major": 2,
       "version_minor": 0
      },
      "text/plain": [
       "Parsing nodes:   0%|          | 0/1 [00:00<?, ?it/s]"
      ]
     },
     "metadata": {},
     "output_type": "display_data"
    },
    {
     "data": {
      "application/vnd.jupyter.widget-view+json": {
       "model_id": "08cd20f2742b44cb97266dd7a89cb964",
       "version_major": 2,
       "version_minor": 0
      },
      "text/plain": [
       "Parsing nodes:   0%|          | 0/1 [00:00<?, ?it/s]"
      ]
     },
     "metadata": {},
     "output_type": "display_data"
    },
    {
     "data": {
      "application/vnd.jupyter.widget-view+json": {
       "model_id": "3fe04bbebcd14ce2b46515eeab59b16c",
       "version_major": 2,
       "version_minor": 0
      },
      "text/plain": [
       "Parsing nodes:   0%|          | 0/1 [00:00<?, ?it/s]"
      ]
     },
     "metadata": {},
     "output_type": "display_data"
    },
    {
     "data": {
      "application/vnd.jupyter.widget-view+json": {
       "model_id": "832f9d06bb82462ca9a9a9e77b8c3aff",
       "version_major": 2,
       "version_minor": 0
      },
      "text/plain": [
       "Parsing nodes:   0%|          | 0/1 [00:00<?, ?it/s]"
      ]
     },
     "metadata": {},
     "output_type": "display_data"
    },
    {
     "data": {
      "application/vnd.jupyter.widget-view+json": {
       "model_id": "bb84c1a2e8a04fc594e919ddc34c04ad",
       "version_major": 2,
       "version_minor": 0
      },
      "text/plain": [
       "Parsing nodes:   0%|          | 0/1 [00:00<?, ?it/s]"
      ]
     },
     "metadata": {},
     "output_type": "display_data"
    },
    {
     "data": {
      "application/vnd.jupyter.widget-view+json": {
       "model_id": "f3ed40ed71b94a50911bc7324c63a2bd",
       "version_major": 2,
       "version_minor": 0
      },
      "text/plain": [
       "Parsing nodes:   0%|          | 0/1 [00:00<?, ?it/s]"
      ]
     },
     "metadata": {},
     "output_type": "display_data"
    }
   ],
   "source": [
    "# insert one at a time\n",
    "for i in test4:\n",
    "    index.insert(i)\n",
    "    time.sleep(1)"
   ]
  },
  {
   "cell_type": "code",
   "execution_count": 155,
   "id": "91bbe57b-d56d-4e41-a835-ebad51faf4c4",
   "metadata": {},
   "outputs": [
    {
     "data": {
      "application/vnd.jupyter.widget-view+json": {
       "model_id": "07037fe33e8744e987767d944fe35626",
       "version_major": 2,
       "version_minor": 0
      },
      "text/plain": [
       "Parsing nodes:   0%|          | 0/1 [00:00<?, ?it/s]"
      ]
     },
     "metadata": {},
     "output_type": "display_data"
    },
    {
     "data": {
      "application/vnd.jupyter.widget-view+json": {
       "model_id": "011d183420c54460a411adcf2344c25e",
       "version_major": 2,
       "version_minor": 0
      },
      "text/plain": [
       "Parsing nodes:   0%|          | 0/1 [00:00<?, ?it/s]"
      ]
     },
     "metadata": {},
     "output_type": "display_data"
    },
    {
     "data": {
      "application/vnd.jupyter.widget-view+json": {
       "model_id": "4c972692e9aa4ef3a1a3a1cc4b250fae",
       "version_major": 2,
       "version_minor": 0
      },
      "text/plain": [
       "Parsing nodes:   0%|          | 0/1 [00:00<?, ?it/s]"
      ]
     },
     "metadata": {},
     "output_type": "display_data"
    },
    {
     "data": {
      "application/vnd.jupyter.widget-view+json": {
       "model_id": "b1f2684bdbe84f3fa9d6b1b8377b8fab",
       "version_major": 2,
       "version_minor": 0
      },
      "text/plain": [
       "Parsing nodes:   0%|          | 0/1 [00:00<?, ?it/s]"
      ]
     },
     "metadata": {},
     "output_type": "display_data"
    },
    {
     "data": {
      "application/vnd.jupyter.widget-view+json": {
       "model_id": "e1d14f29debb4d90841fd9ea31eba9bf",
       "version_major": 2,
       "version_minor": 0
      },
      "text/plain": [
       "Parsing nodes:   0%|          | 0/1 [00:00<?, ?it/s]"
      ]
     },
     "metadata": {},
     "output_type": "display_data"
    },
    {
     "data": {
      "application/vnd.jupyter.widget-view+json": {
       "model_id": "2db1c47b48d746c6b7b796de038f0ca8",
       "version_major": 2,
       "version_minor": 0
      },
      "text/plain": [
       "Parsing nodes:   0%|          | 0/1 [00:00<?, ?it/s]"
      ]
     },
     "metadata": {},
     "output_type": "display_data"
    },
    {
     "data": {
      "application/vnd.jupyter.widget-view+json": {
       "model_id": "cf2c621a75614d439ad33891e5f7a021",
       "version_major": 2,
       "version_minor": 0
      },
      "text/plain": [
       "Parsing nodes:   0%|          | 0/1 [00:00<?, ?it/s]"
      ]
     },
     "metadata": {},
     "output_type": "display_data"
    },
    {
     "data": {
      "application/vnd.jupyter.widget-view+json": {
       "model_id": "f72ce99998964a5f95a3146522819aed",
       "version_major": 2,
       "version_minor": 0
      },
      "text/plain": [
       "Parsing nodes:   0%|          | 0/1 [00:00<?, ?it/s]"
      ]
     },
     "metadata": {},
     "output_type": "display_data"
    },
    {
     "data": {
      "application/vnd.jupyter.widget-view+json": {
       "model_id": "7e9cd495e7cf45e8b89763f814aa8139",
       "version_major": 2,
       "version_minor": 0
      },
      "text/plain": [
       "Parsing nodes:   0%|          | 0/1 [00:00<?, ?it/s]"
      ]
     },
     "metadata": {},
     "output_type": "display_data"
    },
    {
     "data": {
      "application/vnd.jupyter.widget-view+json": {
       "model_id": "410367e1dbe74e4faa77024753fc59f5",
       "version_major": 2,
       "version_minor": 0
      },
      "text/plain": [
       "Parsing nodes:   0%|          | 0/1 [00:00<?, ?it/s]"
      ]
     },
     "metadata": {},
     "output_type": "display_data"
    },
    {
     "data": {
      "application/vnd.jupyter.widget-view+json": {
       "model_id": "c608fc1c206f435699d208b4200a9c67",
       "version_major": 2,
       "version_minor": 0
      },
      "text/plain": [
       "Parsing nodes:   0%|          | 0/1 [00:00<?, ?it/s]"
      ]
     },
     "metadata": {},
     "output_type": "display_data"
    },
    {
     "data": {
      "application/vnd.jupyter.widget-view+json": {
       "model_id": "a3fd837bd63e4f36a4a0d3bf1e396554",
       "version_major": 2,
       "version_minor": 0
      },
      "text/plain": [
       "Parsing nodes:   0%|          | 0/1 [00:00<?, ?it/s]"
      ]
     },
     "metadata": {},
     "output_type": "display_data"
    },
    {
     "data": {
      "application/vnd.jupyter.widget-view+json": {
       "model_id": "c8f33fc71fc24cde8a72556ac7034442",
       "version_major": 2,
       "version_minor": 0
      },
      "text/plain": [
       "Parsing nodes:   0%|          | 0/1 [00:00<?, ?it/s]"
      ]
     },
     "metadata": {},
     "output_type": "display_data"
    },
    {
     "data": {
      "application/vnd.jupyter.widget-view+json": {
       "model_id": "ee351601b76b48e2ae60d61bf04b7ed3",
       "version_major": 2,
       "version_minor": 0
      },
      "text/plain": [
       "Parsing nodes:   0%|          | 0/1 [00:00<?, ?it/s]"
      ]
     },
     "metadata": {},
     "output_type": "display_data"
    },
    {
     "data": {
      "application/vnd.jupyter.widget-view+json": {
       "model_id": "9a491b418f0d4a9b98a1a6f7a8e78d04",
       "version_major": 2,
       "version_minor": 0
      },
      "text/plain": [
       "Parsing nodes:   0%|          | 0/1 [00:00<?, ?it/s]"
      ]
     },
     "metadata": {},
     "output_type": "display_data"
    },
    {
     "data": {
      "application/vnd.jupyter.widget-view+json": {
       "model_id": "50dca67d6f764ac397142c3004e94c11",
       "version_major": 2,
       "version_minor": 0
      },
      "text/plain": [
       "Parsing nodes:   0%|          | 0/1 [00:00<?, ?it/s]"
      ]
     },
     "metadata": {},
     "output_type": "display_data"
    },
    {
     "data": {
      "application/vnd.jupyter.widget-view+json": {
       "model_id": "81458efd9b014a3a8dad03ba61a78a82",
       "version_major": 2,
       "version_minor": 0
      },
      "text/plain": [
       "Parsing nodes:   0%|          | 0/1 [00:00<?, ?it/s]"
      ]
     },
     "metadata": {},
     "output_type": "display_data"
    },
    {
     "data": {
      "application/vnd.jupyter.widget-view+json": {
       "model_id": "1e2d8d4208e64f2381c1edf142e954c9",
       "version_major": 2,
       "version_minor": 0
      },
      "text/plain": [
       "Parsing nodes:   0%|          | 0/1 [00:00<?, ?it/s]"
      ]
     },
     "metadata": {},
     "output_type": "display_data"
    },
    {
     "data": {
      "application/vnd.jupyter.widget-view+json": {
       "model_id": "b6d50c97131745af906b10f583e8fb45",
       "version_major": 2,
       "version_minor": 0
      },
      "text/plain": [
       "Parsing nodes:   0%|          | 0/1 [00:00<?, ?it/s]"
      ]
     },
     "metadata": {},
     "output_type": "display_data"
    },
    {
     "data": {
      "application/vnd.jupyter.widget-view+json": {
       "model_id": "c76dfd5b5b7f42a9b048d6c1d893cf09",
       "version_major": 2,
       "version_minor": 0
      },
      "text/plain": [
       "Parsing nodes:   0%|          | 0/1 [00:00<?, ?it/s]"
      ]
     },
     "metadata": {},
     "output_type": "display_data"
    },
    {
     "data": {
      "application/vnd.jupyter.widget-view+json": {
       "model_id": "a6e2cfbf1a5b4675a31022fe8a3ece67",
       "version_major": 2,
       "version_minor": 0
      },
      "text/plain": [
       "Parsing nodes:   0%|          | 0/1 [00:00<?, ?it/s]"
      ]
     },
     "metadata": {},
     "output_type": "display_data"
    },
    {
     "data": {
      "application/vnd.jupyter.widget-view+json": {
       "model_id": "1239c52d9cc440be96fe084c094c59f5",
       "version_major": 2,
       "version_minor": 0
      },
      "text/plain": [
       "Parsing nodes:   0%|          | 0/1 [00:00<?, ?it/s]"
      ]
     },
     "metadata": {},
     "output_type": "display_data"
    },
    {
     "data": {
      "application/vnd.jupyter.widget-view+json": {
       "model_id": "364829e327d54a2c884f6c4ee6858bb9",
       "version_major": 2,
       "version_minor": 0
      },
      "text/plain": [
       "Parsing nodes:   0%|          | 0/1 [00:00<?, ?it/s]"
      ]
     },
     "metadata": {},
     "output_type": "display_data"
    },
    {
     "data": {
      "application/vnd.jupyter.widget-view+json": {
       "model_id": "c8295d20ed48413e9baaa7367f90b5cc",
       "version_major": 2,
       "version_minor": 0
      },
      "text/plain": [
       "Parsing nodes:   0%|          | 0/1 [00:00<?, ?it/s]"
      ]
     },
     "metadata": {},
     "output_type": "display_data"
    },
    {
     "data": {
      "application/vnd.jupyter.widget-view+json": {
       "model_id": "2a47a4106f57418d854ddf252d8de025",
       "version_major": 2,
       "version_minor": 0
      },
      "text/plain": [
       "Parsing nodes:   0%|          | 0/1 [00:00<?, ?it/s]"
      ]
     },
     "metadata": {},
     "output_type": "display_data"
    },
    {
     "data": {
      "application/vnd.jupyter.widget-view+json": {
       "model_id": "4a1154be1acd46539962cd721122ee94",
       "version_major": 2,
       "version_minor": 0
      },
      "text/plain": [
       "Parsing nodes:   0%|          | 0/1 [00:00<?, ?it/s]"
      ]
     },
     "metadata": {},
     "output_type": "display_data"
    },
    {
     "data": {
      "application/vnd.jupyter.widget-view+json": {
       "model_id": "da466726efc348219cf900fdf9e5fbf8",
       "version_major": 2,
       "version_minor": 0
      },
      "text/plain": [
       "Parsing nodes:   0%|          | 0/1 [00:00<?, ?it/s]"
      ]
     },
     "metadata": {},
     "output_type": "display_data"
    },
    {
     "data": {
      "application/vnd.jupyter.widget-view+json": {
       "model_id": "2ba2325bf12d4829b2591d94bf358214",
       "version_major": 2,
       "version_minor": 0
      },
      "text/plain": [
       "Parsing nodes:   0%|          | 0/1 [00:00<?, ?it/s]"
      ]
     },
     "metadata": {},
     "output_type": "display_data"
    },
    {
     "data": {
      "application/vnd.jupyter.widget-view+json": {
       "model_id": "fa540f8b7e6e4cf2a739fed2d1da3d49",
       "version_major": 2,
       "version_minor": 0
      },
      "text/plain": [
       "Parsing nodes:   0%|          | 0/1 [00:00<?, ?it/s]"
      ]
     },
     "metadata": {},
     "output_type": "display_data"
    },
    {
     "data": {
      "application/vnd.jupyter.widget-view+json": {
       "model_id": "3267e26c361543dd88965c22fd0c7d53",
       "version_major": 2,
       "version_minor": 0
      },
      "text/plain": [
       "Parsing nodes:   0%|          | 0/1 [00:00<?, ?it/s]"
      ]
     },
     "metadata": {},
     "output_type": "display_data"
    },
    {
     "data": {
      "application/vnd.jupyter.widget-view+json": {
       "model_id": "5e39d73e739d48719293f0815060191b",
       "version_major": 2,
       "version_minor": 0
      },
      "text/plain": [
       "Parsing nodes:   0%|          | 0/1 [00:00<?, ?it/s]"
      ]
     },
     "metadata": {},
     "output_type": "display_data"
    },
    {
     "data": {
      "application/vnd.jupyter.widget-view+json": {
       "model_id": "648df3b329954bd7b596a72aa7f0c70a",
       "version_major": 2,
       "version_minor": 0
      },
      "text/plain": [
       "Parsing nodes:   0%|          | 0/1 [00:00<?, ?it/s]"
      ]
     },
     "metadata": {},
     "output_type": "display_data"
    },
    {
     "data": {
      "application/vnd.jupyter.widget-view+json": {
       "model_id": "afa64a427b0e40b0bda7a7a5ccb5bb6a",
       "version_major": 2,
       "version_minor": 0
      },
      "text/plain": [
       "Parsing nodes:   0%|          | 0/1 [00:00<?, ?it/s]"
      ]
     },
     "metadata": {},
     "output_type": "display_data"
    },
    {
     "data": {
      "application/vnd.jupyter.widget-view+json": {
       "model_id": "fef9aad071ed40dfa794d348a3a69aab",
       "version_major": 2,
       "version_minor": 0
      },
      "text/plain": [
       "Parsing nodes:   0%|          | 0/1 [00:00<?, ?it/s]"
      ]
     },
     "metadata": {},
     "output_type": "display_data"
    },
    {
     "data": {
      "application/vnd.jupyter.widget-view+json": {
       "model_id": "6ceec091c3604194a56ce2dde0bc9c3c",
       "version_major": 2,
       "version_minor": 0
      },
      "text/plain": [
       "Parsing nodes:   0%|          | 0/1 [00:00<?, ?it/s]"
      ]
     },
     "metadata": {},
     "output_type": "display_data"
    },
    {
     "data": {
      "application/vnd.jupyter.widget-view+json": {
       "model_id": "683f1080dfe7470097e3efbc11e039e0",
       "version_major": 2,
       "version_minor": 0
      },
      "text/plain": [
       "Parsing nodes:   0%|          | 0/1 [00:00<?, ?it/s]"
      ]
     },
     "metadata": {},
     "output_type": "display_data"
    },
    {
     "data": {
      "application/vnd.jupyter.widget-view+json": {
       "model_id": "2b7355fbbbd144db98966a25987e7ee9",
       "version_major": 2,
       "version_minor": 0
      },
      "text/plain": [
       "Parsing nodes:   0%|          | 0/1 [00:00<?, ?it/s]"
      ]
     },
     "metadata": {},
     "output_type": "display_data"
    },
    {
     "data": {
      "application/vnd.jupyter.widget-view+json": {
       "model_id": "5c6e2091b3834a87acf1a09a331fe445",
       "version_major": 2,
       "version_minor": 0
      },
      "text/plain": [
       "Parsing nodes:   0%|          | 0/1 [00:00<?, ?it/s]"
      ]
     },
     "metadata": {},
     "output_type": "display_data"
    },
    {
     "data": {
      "application/vnd.jupyter.widget-view+json": {
       "model_id": "a4a139006388482bb074edc92bdca1e4",
       "version_major": 2,
       "version_minor": 0
      },
      "text/plain": [
       "Parsing nodes:   0%|          | 0/1 [00:00<?, ?it/s]"
      ]
     },
     "metadata": {},
     "output_type": "display_data"
    },
    {
     "data": {
      "application/vnd.jupyter.widget-view+json": {
       "model_id": "e89a5c04f49044cda5aaa17f83046682",
       "version_major": 2,
       "version_minor": 0
      },
      "text/plain": [
       "Parsing nodes:   0%|          | 0/1 [00:00<?, ?it/s]"
      ]
     },
     "metadata": {},
     "output_type": "display_data"
    },
    {
     "data": {
      "application/vnd.jupyter.widget-view+json": {
       "model_id": "8911450ecf704db79a2e0b5cdb53b85d",
       "version_major": 2,
       "version_minor": 0
      },
      "text/plain": [
       "Parsing nodes:   0%|          | 0/1 [00:00<?, ?it/s]"
      ]
     },
     "metadata": {},
     "output_type": "display_data"
    },
    {
     "data": {
      "application/vnd.jupyter.widget-view+json": {
       "model_id": "1df9bebedab74c02b7341e32b3343bea",
       "version_major": 2,
       "version_minor": 0
      },
      "text/plain": [
       "Parsing nodes:   0%|          | 0/1 [00:00<?, ?it/s]"
      ]
     },
     "metadata": {},
     "output_type": "display_data"
    },
    {
     "data": {
      "application/vnd.jupyter.widget-view+json": {
       "model_id": "4586e60f7e4847ec84ab6f25ed94043f",
       "version_major": 2,
       "version_minor": 0
      },
      "text/plain": [
       "Parsing nodes:   0%|          | 0/1 [00:00<?, ?it/s]"
      ]
     },
     "metadata": {},
     "output_type": "display_data"
    },
    {
     "data": {
      "application/vnd.jupyter.widget-view+json": {
       "model_id": "8aef6d53f49e4d89b0ff3784e96ff073",
       "version_major": 2,
       "version_minor": 0
      },
      "text/plain": [
       "Parsing nodes:   0%|          | 0/1 [00:00<?, ?it/s]"
      ]
     },
     "metadata": {},
     "output_type": "display_data"
    },
    {
     "data": {
      "application/vnd.jupyter.widget-view+json": {
       "model_id": "9520b3ec70604f629f68727d86e9195b",
       "version_major": 2,
       "version_minor": 0
      },
      "text/plain": [
       "Parsing nodes:   0%|          | 0/1 [00:00<?, ?it/s]"
      ]
     },
     "metadata": {},
     "output_type": "display_data"
    },
    {
     "data": {
      "application/vnd.jupyter.widget-view+json": {
       "model_id": "cc391b05b4d54d0d9c175805cd81a546",
       "version_major": 2,
       "version_minor": 0
      },
      "text/plain": [
       "Parsing nodes:   0%|          | 0/1 [00:00<?, ?it/s]"
      ]
     },
     "metadata": {},
     "output_type": "display_data"
    },
    {
     "data": {
      "application/vnd.jupyter.widget-view+json": {
       "model_id": "f66d1166211f425a9d9a8f15989ba6d9",
       "version_major": 2,
       "version_minor": 0
      },
      "text/plain": [
       "Parsing nodes:   0%|          | 0/1 [00:00<?, ?it/s]"
      ]
     },
     "metadata": {},
     "output_type": "display_data"
    },
    {
     "data": {
      "application/vnd.jupyter.widget-view+json": {
       "model_id": "23c4b6d2c4234c029a8431a8da0675cf",
       "version_major": 2,
       "version_minor": 0
      },
      "text/plain": [
       "Parsing nodes:   0%|          | 0/1 [00:00<?, ?it/s]"
      ]
     },
     "metadata": {},
     "output_type": "display_data"
    },
    {
     "data": {
      "application/vnd.jupyter.widget-view+json": {
       "model_id": "ed4da9f8bb02407d81f8f4a3f4efc663",
       "version_major": 2,
       "version_minor": 0
      },
      "text/plain": [
       "Parsing nodes:   0%|          | 0/1 [00:00<?, ?it/s]"
      ]
     },
     "metadata": {},
     "output_type": "display_data"
    },
    {
     "data": {
      "application/vnd.jupyter.widget-view+json": {
       "model_id": "10c7652150cc4d2f870e2e9954dc4567",
       "version_major": 2,
       "version_minor": 0
      },
      "text/plain": [
       "Parsing nodes:   0%|          | 0/1 [00:00<?, ?it/s]"
      ]
     },
     "metadata": {},
     "output_type": "display_data"
    },
    {
     "data": {
      "application/vnd.jupyter.widget-view+json": {
       "model_id": "f0481bce3f6b4a4389cd84cac2d090c9",
       "version_major": 2,
       "version_minor": 0
      },
      "text/plain": [
       "Parsing nodes:   0%|          | 0/1 [00:00<?, ?it/s]"
      ]
     },
     "metadata": {},
     "output_type": "display_data"
    },
    {
     "data": {
      "application/vnd.jupyter.widget-view+json": {
       "model_id": "97c805a550684fa981fd7a6341f2bedf",
       "version_major": 2,
       "version_minor": 0
      },
      "text/plain": [
       "Parsing nodes:   0%|          | 0/1 [00:00<?, ?it/s]"
      ]
     },
     "metadata": {},
     "output_type": "display_data"
    },
    {
     "data": {
      "application/vnd.jupyter.widget-view+json": {
       "model_id": "f39eb28a47e84b1eb7d9c09442d7ecc1",
       "version_major": 2,
       "version_minor": 0
      },
      "text/plain": [
       "Parsing nodes:   0%|          | 0/1 [00:00<?, ?it/s]"
      ]
     },
     "metadata": {},
     "output_type": "display_data"
    },
    {
     "data": {
      "application/vnd.jupyter.widget-view+json": {
       "model_id": "4741f0af24e946f395dca8172e2c544c",
       "version_major": 2,
       "version_minor": 0
      },
      "text/plain": [
       "Parsing nodes:   0%|          | 0/1 [00:00<?, ?it/s]"
      ]
     },
     "metadata": {},
     "output_type": "display_data"
    },
    {
     "data": {
      "application/vnd.jupyter.widget-view+json": {
       "model_id": "996416663590436fbfca434629a29573",
       "version_major": 2,
       "version_minor": 0
      },
      "text/plain": [
       "Parsing nodes:   0%|          | 0/1 [00:00<?, ?it/s]"
      ]
     },
     "metadata": {},
     "output_type": "display_data"
    },
    {
     "data": {
      "application/vnd.jupyter.widget-view+json": {
       "model_id": "14d4a7f3b4b741b2abf745ebf82d08e0",
       "version_major": 2,
       "version_minor": 0
      },
      "text/plain": [
       "Parsing nodes:   0%|          | 0/1 [00:00<?, ?it/s]"
      ]
     },
     "metadata": {},
     "output_type": "display_data"
    },
    {
     "data": {
      "application/vnd.jupyter.widget-view+json": {
       "model_id": "ca42c801999c4dfea30e1628f349ba60",
       "version_major": 2,
       "version_minor": 0
      },
      "text/plain": [
       "Parsing nodes:   0%|          | 0/1 [00:00<?, ?it/s]"
      ]
     },
     "metadata": {},
     "output_type": "display_data"
    },
    {
     "data": {
      "application/vnd.jupyter.widget-view+json": {
       "model_id": "7926647e33f84630b4cfffe3c2aa7d23",
       "version_major": 2,
       "version_minor": 0
      },
      "text/plain": [
       "Parsing nodes:   0%|          | 0/1 [00:00<?, ?it/s]"
      ]
     },
     "metadata": {},
     "output_type": "display_data"
    },
    {
     "data": {
      "application/vnd.jupyter.widget-view+json": {
       "model_id": "854c486abac5490da20972d9ff91416d",
       "version_major": 2,
       "version_minor": 0
      },
      "text/plain": [
       "Parsing nodes:   0%|          | 0/1 [00:00<?, ?it/s]"
      ]
     },
     "metadata": {},
     "output_type": "display_data"
    },
    {
     "data": {
      "application/vnd.jupyter.widget-view+json": {
       "model_id": "666e294be3594a5ba79b46a4d4cfb9d1",
       "version_major": 2,
       "version_minor": 0
      },
      "text/plain": [
       "Parsing nodes:   0%|          | 0/1 [00:00<?, ?it/s]"
      ]
     },
     "metadata": {},
     "output_type": "display_data"
    },
    {
     "data": {
      "application/vnd.jupyter.widget-view+json": {
       "model_id": "79c61bd237b04b85b83473103d7593bf",
       "version_major": 2,
       "version_minor": 0
      },
      "text/plain": [
       "Parsing nodes:   0%|          | 0/1 [00:00<?, ?it/s]"
      ]
     },
     "metadata": {},
     "output_type": "display_data"
    },
    {
     "data": {
      "application/vnd.jupyter.widget-view+json": {
       "model_id": "db5144911a534ca1918f7465a686d0d4",
       "version_major": 2,
       "version_minor": 0
      },
      "text/plain": [
       "Parsing nodes:   0%|          | 0/1 [00:00<?, ?it/s]"
      ]
     },
     "metadata": {},
     "output_type": "display_data"
    },
    {
     "data": {
      "application/vnd.jupyter.widget-view+json": {
       "model_id": "ce013a3a8f7c48128e1df6090c3015e8",
       "version_major": 2,
       "version_minor": 0
      },
      "text/plain": [
       "Parsing nodes:   0%|          | 0/1 [00:00<?, ?it/s]"
      ]
     },
     "metadata": {},
     "output_type": "display_data"
    },
    {
     "data": {
      "application/vnd.jupyter.widget-view+json": {
       "model_id": "fea8b017662c4fc7b2a21d9dcce7817c",
       "version_major": 2,
       "version_minor": 0
      },
      "text/plain": [
       "Parsing nodes:   0%|          | 0/1 [00:00<?, ?it/s]"
      ]
     },
     "metadata": {},
     "output_type": "display_data"
    },
    {
     "data": {
      "application/vnd.jupyter.widget-view+json": {
       "model_id": "80ff9ad0845e466b837bd114e2e94b73",
       "version_major": 2,
       "version_minor": 0
      },
      "text/plain": [
       "Parsing nodes:   0%|          | 0/1 [00:00<?, ?it/s]"
      ]
     },
     "metadata": {},
     "output_type": "display_data"
    },
    {
     "data": {
      "application/vnd.jupyter.widget-view+json": {
       "model_id": "5a9ef031feda47d2b25683048c450274",
       "version_major": 2,
       "version_minor": 0
      },
      "text/plain": [
       "Parsing nodes:   0%|          | 0/1 [00:00<?, ?it/s]"
      ]
     },
     "metadata": {},
     "output_type": "display_data"
    },
    {
     "data": {
      "application/vnd.jupyter.widget-view+json": {
       "model_id": "6e3456d514244a9ebd0fbb31568fe726",
       "version_major": 2,
       "version_minor": 0
      },
      "text/plain": [
       "Parsing nodes:   0%|          | 0/1 [00:00<?, ?it/s]"
      ]
     },
     "metadata": {},
     "output_type": "display_data"
    },
    {
     "data": {
      "application/vnd.jupyter.widget-view+json": {
       "model_id": "0a775bf37a274b2896ba94f050e01179",
       "version_major": 2,
       "version_minor": 0
      },
      "text/plain": [
       "Parsing nodes:   0%|          | 0/1 [00:00<?, ?it/s]"
      ]
     },
     "metadata": {},
     "output_type": "display_data"
    },
    {
     "data": {
      "application/vnd.jupyter.widget-view+json": {
       "model_id": "bbb505fca3a74bbfa9d0456e2bf61d5e",
       "version_major": 2,
       "version_minor": 0
      },
      "text/plain": [
       "Parsing nodes:   0%|          | 0/1 [00:00<?, ?it/s]"
      ]
     },
     "metadata": {},
     "output_type": "display_data"
    },
    {
     "data": {
      "application/vnd.jupyter.widget-view+json": {
       "model_id": "da0d596cee08432c973b0f590c266ed0",
       "version_major": 2,
       "version_minor": 0
      },
      "text/plain": [
       "Parsing nodes:   0%|          | 0/1 [00:00<?, ?it/s]"
      ]
     },
     "metadata": {},
     "output_type": "display_data"
    },
    {
     "data": {
      "application/vnd.jupyter.widget-view+json": {
       "model_id": "7e8acd218fa44f81a7f5ac8ffd61681e",
       "version_major": 2,
       "version_minor": 0
      },
      "text/plain": [
       "Parsing nodes:   0%|          | 0/1 [00:00<?, ?it/s]"
      ]
     },
     "metadata": {},
     "output_type": "display_data"
    },
    {
     "data": {
      "application/vnd.jupyter.widget-view+json": {
       "model_id": "b88965efe9284ce9a9893199a7ad8fc6",
       "version_major": 2,
       "version_minor": 0
      },
      "text/plain": [
       "Parsing nodes:   0%|          | 0/1 [00:00<?, ?it/s]"
      ]
     },
     "metadata": {},
     "output_type": "display_data"
    },
    {
     "data": {
      "application/vnd.jupyter.widget-view+json": {
       "model_id": "510d049c6cdc4033a10c1d47c40f182b",
       "version_major": 2,
       "version_minor": 0
      },
      "text/plain": [
       "Parsing nodes:   0%|          | 0/1 [00:00<?, ?it/s]"
      ]
     },
     "metadata": {},
     "output_type": "display_data"
    },
    {
     "data": {
      "application/vnd.jupyter.widget-view+json": {
       "model_id": "9adb344dc0ca4e2388caae4a01e20be4",
       "version_major": 2,
       "version_minor": 0
      },
      "text/plain": [
       "Parsing nodes:   0%|          | 0/1 [00:00<?, ?it/s]"
      ]
     },
     "metadata": {},
     "output_type": "display_data"
    },
    {
     "data": {
      "application/vnd.jupyter.widget-view+json": {
       "model_id": "34653a75e120405185e7ac3dd669043e",
       "version_major": 2,
       "version_minor": 0
      },
      "text/plain": [
       "Parsing nodes:   0%|          | 0/1 [00:00<?, ?it/s]"
      ]
     },
     "metadata": {},
     "output_type": "display_data"
    },
    {
     "data": {
      "application/vnd.jupyter.widget-view+json": {
       "model_id": "6b8cede33d864440895c6aeedeeb16a0",
       "version_major": 2,
       "version_minor": 0
      },
      "text/plain": [
       "Parsing nodes:   0%|          | 0/1 [00:00<?, ?it/s]"
      ]
     },
     "metadata": {},
     "output_type": "display_data"
    },
    {
     "data": {
      "application/vnd.jupyter.widget-view+json": {
       "model_id": "0814ba2a63e1461fa7145b1af7654e22",
       "version_major": 2,
       "version_minor": 0
      },
      "text/plain": [
       "Parsing nodes:   0%|          | 0/1 [00:00<?, ?it/s]"
      ]
     },
     "metadata": {},
     "output_type": "display_data"
    },
    {
     "data": {
      "application/vnd.jupyter.widget-view+json": {
       "model_id": "cb65f0328f6f4f85a8510c3ebd55475d",
       "version_major": 2,
       "version_minor": 0
      },
      "text/plain": [
       "Parsing nodes:   0%|          | 0/1 [00:00<?, ?it/s]"
      ]
     },
     "metadata": {},
     "output_type": "display_data"
    },
    {
     "data": {
      "application/vnd.jupyter.widget-view+json": {
       "model_id": "aa34c947621b49d8bc3d705e5880c2e8",
       "version_major": 2,
       "version_minor": 0
      },
      "text/plain": [
       "Parsing nodes:   0%|          | 0/1 [00:00<?, ?it/s]"
      ]
     },
     "metadata": {},
     "output_type": "display_data"
    },
    {
     "data": {
      "application/vnd.jupyter.widget-view+json": {
       "model_id": "0f3b1ec07f884c699a00c367a7fd77c1",
       "version_major": 2,
       "version_minor": 0
      },
      "text/plain": [
       "Parsing nodes:   0%|          | 0/1 [00:00<?, ?it/s]"
      ]
     },
     "metadata": {},
     "output_type": "display_data"
    },
    {
     "data": {
      "application/vnd.jupyter.widget-view+json": {
       "model_id": "bd83933702a14209b3ac50d3af217cca",
       "version_major": 2,
       "version_minor": 0
      },
      "text/plain": [
       "Parsing nodes:   0%|          | 0/1 [00:00<?, ?it/s]"
      ]
     },
     "metadata": {},
     "output_type": "display_data"
    },
    {
     "data": {
      "application/vnd.jupyter.widget-view+json": {
       "model_id": "19ee6db38f74434fb027c800f436baad",
       "version_major": 2,
       "version_minor": 0
      },
      "text/plain": [
       "Parsing nodes:   0%|          | 0/1 [00:00<?, ?it/s]"
      ]
     },
     "metadata": {},
     "output_type": "display_data"
    },
    {
     "data": {
      "application/vnd.jupyter.widget-view+json": {
       "model_id": "2d6e401b88de42bbad2e9373e997c54e",
       "version_major": 2,
       "version_minor": 0
      },
      "text/plain": [
       "Parsing nodes:   0%|          | 0/1 [00:00<?, ?it/s]"
      ]
     },
     "metadata": {},
     "output_type": "display_data"
    },
    {
     "data": {
      "application/vnd.jupyter.widget-view+json": {
       "model_id": "9c144a346cbd4299b9f8977eabf4675a",
       "version_major": 2,
       "version_minor": 0
      },
      "text/plain": [
       "Parsing nodes:   0%|          | 0/1 [00:00<?, ?it/s]"
      ]
     },
     "metadata": {},
     "output_type": "display_data"
    },
    {
     "data": {
      "application/vnd.jupyter.widget-view+json": {
       "model_id": "99ef9212747e4bf0bdccb89882c24ad7",
       "version_major": 2,
       "version_minor": 0
      },
      "text/plain": [
       "Parsing nodes:   0%|          | 0/1 [00:00<?, ?it/s]"
      ]
     },
     "metadata": {},
     "output_type": "display_data"
    },
    {
     "data": {
      "application/vnd.jupyter.widget-view+json": {
       "model_id": "f4f61b9c171d4e55ac2c6dc7b1b15c46",
       "version_major": 2,
       "version_minor": 0
      },
      "text/plain": [
       "Parsing nodes:   0%|          | 0/1 [00:00<?, ?it/s]"
      ]
     },
     "metadata": {},
     "output_type": "display_data"
    },
    {
     "data": {
      "text/plain": [
       "[True,\n",
       " True,\n",
       " True,\n",
       " True,\n",
       " True,\n",
       " True,\n",
       " True,\n",
       " True,\n",
       " True,\n",
       " True,\n",
       " True,\n",
       " True,\n",
       " True,\n",
       " True,\n",
       " True,\n",
       " True,\n",
       " True,\n",
       " True,\n",
       " True,\n",
       " True,\n",
       " True,\n",
       " True,\n",
       " True,\n",
       " True,\n",
       " True,\n",
       " True,\n",
       " True,\n",
       " True,\n",
       " True,\n",
       " True,\n",
       " True,\n",
       " True,\n",
       " True,\n",
       " True,\n",
       " True,\n",
       " True,\n",
       " True,\n",
       " True,\n",
       " True,\n",
       " True,\n",
       " True,\n",
       " True,\n",
       " True,\n",
       " True,\n",
       " True,\n",
       " True,\n",
       " True,\n",
       " True,\n",
       " True,\n",
       " True,\n",
       " True,\n",
       " True,\n",
       " True,\n",
       " True,\n",
       " True,\n",
       " True,\n",
       " True,\n",
       " True,\n",
       " True,\n",
       " True,\n",
       " True,\n",
       " True,\n",
       " True,\n",
       " True,\n",
       " True,\n",
       " True,\n",
       " True,\n",
       " True,\n",
       " True,\n",
       " True,\n",
       " True,\n",
       " True,\n",
       " True,\n",
       " True,\n",
       " True,\n",
       " True,\n",
       " True,\n",
       " True,\n",
       " True,\n",
       " True,\n",
       " True,\n",
       " True,\n",
       " True,\n",
       " True,\n",
       " True,\n",
       " True]"
      ]
     },
     "execution_count": 155,
     "metadata": {},
     "output_type": "execute_result"
    }
   ],
   "source": [
    "# index.ref_doc_info # gives list of all nodes\n",
    "# 8e83bd67-3100-42ae-8820-64651c63a726 is 0th doc\n",
    "\n",
    "# updating an index\n",
    "# https://docs.llamaindex.ai/en/stable/module_guides/indexing/document_management/\n",
    "\n",
    "index.refresh_ref_docs(test4) # to add new documents to index as well as to update existing docs as needed"
   ]
  },
  {
   "cell_type": "code",
   "execution_count": 170,
   "id": "ca3f2ec5-5781-4171-8103-a0a96055eb79",
   "metadata": {},
   "outputs": [
    {
     "data": {
      "text/plain": [
       "'95634851-570e-454e-983f-6634eeb72aee'"
      ]
     },
     "execution_count": 170,
     "metadata": {},
     "output_type": "execute_result"
    }
   ],
   "source": [
    "# Save index to disk\n",
    "index.storage_context.persist()\n",
    "\n",
    "# Save/remember index id for loading next time\n",
    "index.index_id\n",
    "\n",
    "# '95634851-570e-454e-983f-6634eeb72aee' is 1950 stopped indexd"
   ]
  },
  {
   "cell_type": "code",
   "execution_count": null,
   "id": "76513951-8ee0-41ce-b19c-d30fbb53cf85",
   "metadata": {},
   "outputs": [],
   "source": []
  },
  {
   "cell_type": "code",
   "execution_count": null,
   "id": "9dd2b2ef-8074-418c-b79a-292d3b728cb7",
   "metadata": {},
   "outputs": [],
   "source": [
    "# trying new faiss...\n",
    "llm = ChatGoogleGenerativeAI(model=\"gemini-1.5-flash\") # Replace with your LLM\n",
    "doc_embeddings = GoogleGenerativeAIEmbeddings(model=\"models/text-embedding-004\", embed_batch_size=1) \n",
    "\n",
    "index = faiss.IndexFlatL2(len(embeddings.embed_query(\"hello world\")))\n",
    "\n",
    "vector_store = FAISS(\n",
    "    embedding_function=embeddings,\n",
    "    index=index,\n",
    "    docstore=InMemoryDocstore(),\n",
    "    index_to_docstore_id={},\n",
    ")"
   ]
  }
 ],
 "metadata": {
  "kernelspec": {
   "display_name": "research2",
   "language": "python",
   "name": "research2"
  },
  "language_info": {
   "codemirror_mode": {
    "name": "ipython",
    "version": 3
   },
   "file_extension": ".py",
   "mimetype": "text/x-python",
   "name": "python",
   "nbconvert_exporter": "python",
   "pygments_lexer": "ipython3",
   "version": "3.11.8"
  }
 },
 "nbformat": 4,
 "nbformat_minor": 5
}
