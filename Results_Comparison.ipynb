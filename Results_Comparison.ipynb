{
 "cells": [
  {
   "cell_type": "code",
   "execution_count": 2,
   "id": "ca30e732-fcb3-4c81-be62-a10789ff6f0e",
   "metadata": {},
   "outputs": [],
   "source": [
    "import numpy as np\n",
    "import pandas as pd"
   ]
  },
  {
   "cell_type": "code",
   "execution_count": 12,
   "id": "9b733c6e-f922-417a-9362-e8dc686f17ba",
   "metadata": {},
   "outputs": [],
   "source": [
    "# ARES results - there is no example-level output from ARES, just the results from ues_idp\n",
    "ares15 = pd.DataFrame([[0.692, 0.711]], columns=['Faithfulness', 'Contextual_Precision'])\n",
    "ares2 = pd.DataFrame([[0.792, 0.852]], columns=['Faithfulness', 'Contextual_Precision'])\n",
    "ares = pd.concat([ares15, ares2])\n",
    "ares.index = [15, 2]"
   ]
  },
  {
   "cell_type": "code",
   "execution_count": 13,
   "id": "0eb9bc6a-c2c7-44e4-ba3e-8f26fb23ac3a",
   "metadata": {},
   "outputs": [
    {
     "data": {
      "text/html": [
       "<div>\n",
       "<style scoped>\n",
       "    .dataframe tbody tr th:only-of-type {\n",
       "        vertical-align: middle;\n",
       "    }\n",
       "\n",
       "    .dataframe tbody tr th {\n",
       "        vertical-align: top;\n",
       "    }\n",
       "\n",
       "    .dataframe thead th {\n",
       "        text-align: right;\n",
       "    }\n",
       "</style>\n",
       "<table border=\"1\" class=\"dataframe\">\n",
       "  <thead>\n",
       "    <tr style=\"text-align: right;\">\n",
       "      <th></th>\n",
       "      <th>Faithfulness</th>\n",
       "      <th>Contextual_Precision</th>\n",
       "    </tr>\n",
       "  </thead>\n",
       "  <tbody>\n",
       "    <tr>\n",
       "      <th>15</th>\n",
       "      <td>0.692</td>\n",
       "      <td>0.711</td>\n",
       "    </tr>\n",
       "    <tr>\n",
       "      <th>2</th>\n",
       "      <td>0.792</td>\n",
       "      <td>0.852</td>\n",
       "    </tr>\n",
       "  </tbody>\n",
       "</table>\n",
       "</div>"
      ],
      "text/plain": [
       "    Faithfulness  Contextual_Precision\n",
       "15         0.692                 0.711\n",
       "2          0.792                 0.852"
      ]
     },
     "execution_count": 13,
     "metadata": {},
     "output_type": "execute_result"
    }
   ],
   "source": [
    "ares"
   ]
  },
  {
   "cell_type": "code",
   "execution_count": 14,
   "id": "b0c4e00a-3f30-4664-abea-72e50cb85869",
   "metadata": {},
   "outputs": [
    {
     "data": {
      "text/plain": [
       "Faithfulness            0.100\n",
       "Contextual_Precision    0.141\n",
       "dtype: float64"
      ]
     },
     "execution_count": 14,
     "metadata": {},
     "output_type": "execute_result"
    }
   ],
   "source": [
    "# Difference between scores for llms with ARES\n",
    "abs(ares.loc[15] - ares.loc[2])"
   ]
  },
  {
   "cell_type": "code",
   "execution_count": null,
   "id": "11c2be36-93bb-4b84-b771-25666041f8e3",
   "metadata": {},
   "outputs": [],
   "source": []
  },
  {
   "cell_type": "code",
   "execution_count": 25,
   "id": "1159630f-2206-45a9-8b90-a039d80f7646",
   "metadata": {},
   "outputs": [],
   "source": [
    "# 1/28 comparison of deepeval results across the Gemini 1.5 and Gemini 2.0 Experimental LLMs\n",
    "# Want to see how consistent metric results are across LLMs\n",
    "# Overall results: \n",
    "# Faithfulness Gemini 1.5 : 0.958\n",
    "# Faithfulness Gemini 2.0 : 0.967882\n",
    "dp15f = pd.read_csv(\"results/deepeval_faithfulness_gemini_15_rag_mini_wikipedia_903.csv\", index_col=None)\n",
    "dp2f = pd.read_csv(\"results/deepeval_faithfulness_gemini_2_rag_mini_wikipedia_903.csv\", index_col=None)\n",
    "dp2cp = pd.read_csv(\"results/deepeval_cp_gemini_2_rag_mini_wikipedia_903.csv\", index_col=None)\n",
    "dp15cp = pd.read_csv(\"results/deepeval_contextprecision_gemini_15_rag_mini_wikipedia_903.csv\", index_col=None)"
   ]
  },
  {
   "cell_type": "code",
   "execution_count": 27,
   "id": "6c5aad8c-068a-43fe-854e-247c16b23151",
   "metadata": {},
   "outputs": [
    {
     "data": {
      "text/html": [
       "<div>\n",
       "<style scoped>\n",
       "    .dataframe tbody tr th:only-of-type {\n",
       "        vertical-align: middle;\n",
       "    }\n",
       "\n",
       "    .dataframe tbody tr th {\n",
       "        vertical-align: top;\n",
       "    }\n",
       "\n",
       "    .dataframe thead th {\n",
       "        text-align: right;\n",
       "    }\n",
       "</style>\n",
       "<table border=\"1\" class=\"dataframe\">\n",
       "  <thead>\n",
       "    <tr style=\"text-align: right;\">\n",
       "      <th></th>\n",
       "      <th>0</th>\n",
       "    </tr>\n",
       "  </thead>\n",
       "  <tbody>\n",
       "    <tr>\n",
       "      <th>0</th>\n",
       "      <td>1.0</td>\n",
       "    </tr>\n",
       "    <tr>\n",
       "      <th>1</th>\n",
       "      <td>1.0</td>\n",
       "    </tr>\n",
       "    <tr>\n",
       "      <th>2</th>\n",
       "      <td>0.0</td>\n",
       "    </tr>\n",
       "    <tr>\n",
       "      <th>3</th>\n",
       "      <td>1.0</td>\n",
       "    </tr>\n",
       "    <tr>\n",
       "      <th>4</th>\n",
       "      <td>1.0</td>\n",
       "    </tr>\n",
       "    <tr>\n",
       "      <th>...</th>\n",
       "      <td>...</td>\n",
       "    </tr>\n",
       "    <tr>\n",
       "      <th>898</th>\n",
       "      <td>1.0</td>\n",
       "    </tr>\n",
       "    <tr>\n",
       "      <th>899</th>\n",
       "      <td>1.0</td>\n",
       "    </tr>\n",
       "    <tr>\n",
       "      <th>900</th>\n",
       "      <td>1.0</td>\n",
       "    </tr>\n",
       "    <tr>\n",
       "      <th>901</th>\n",
       "      <td>0.7</td>\n",
       "    </tr>\n",
       "    <tr>\n",
       "      <th>902</th>\n",
       "      <td>1.0</td>\n",
       "    </tr>\n",
       "  </tbody>\n",
       "</table>\n",
       "<p>903 rows × 1 columns</p>\n",
       "</div>"
      ],
      "text/plain": [
       "       0\n",
       "0    1.0\n",
       "1    1.0\n",
       "2    0.0\n",
       "3    1.0\n",
       "4    1.0\n",
       "..   ...\n",
       "898  1.0\n",
       "899  1.0\n",
       "900  1.0\n",
       "901  0.7\n",
       "902  1.0\n",
       "\n",
       "[903 rows x 1 columns]"
      ]
     },
     "execution_count": 27,
     "metadata": {},
     "output_type": "execute_result"
    }
   ],
   "source": [
    "dp15cp"
   ]
  },
  {
   "cell_type": "code",
   "execution_count": 28,
   "id": "d288bba4-d109-4cb1-b60b-6bb6e882fbdb",
   "metadata": {},
   "outputs": [],
   "source": [
    "dp15f.columns = ['DeepEval_Faithfulness_15']\n",
    "dp2f.columns = ['DeepEval_Faithfulness_2']\n",
    "dp15cp.columns = ['DeepEval_ContextualPrecision_15']\n",
    "dp2cp.columns = ['DeepEval_ContextualPrecision_2']"
   ]
  },
  {
   "cell_type": "code",
   "execution_count": 36,
   "id": "bb049272-88c0-4ea9-a037-b96b1ea4a959",
   "metadata": {},
   "outputs": [
    {
     "data": {
      "text/html": [
       "<div>\n",
       "<style scoped>\n",
       "    .dataframe tbody tr th:only-of-type {\n",
       "        vertical-align: middle;\n",
       "    }\n",
       "\n",
       "    .dataframe tbody tr th {\n",
       "        vertical-align: top;\n",
       "    }\n",
       "\n",
       "    .dataframe thead th {\n",
       "        text-align: right;\n",
       "    }\n",
       "</style>\n",
       "<table border=\"1\" class=\"dataframe\">\n",
       "  <thead>\n",
       "    <tr style=\"text-align: right;\">\n",
       "      <th></th>\n",
       "      <th>Faithfulness</th>\n",
       "      <th>Contextual_Precision</th>\n",
       "    </tr>\n",
       "  </thead>\n",
       "  <tbody>\n",
       "    <tr>\n",
       "      <th>15</th>\n",
       "      <td>0.958000</td>\n",
       "      <td>0.792454</td>\n",
       "    </tr>\n",
       "    <tr>\n",
       "      <th>2</th>\n",
       "      <td>0.967882</td>\n",
       "      <td>0.756079</td>\n",
       "    </tr>\n",
       "  </tbody>\n",
       "</table>\n",
       "</div>"
      ],
      "text/plain": [
       "    Faithfulness  Contextual_Precision\n",
       "15      0.958000              0.792454\n",
       "2       0.967882              0.756079"
      ]
     },
     "execution_count": 36,
     "metadata": {},
     "output_type": "execute_result"
    }
   ],
   "source": [
    "dp15f_avg = dp15f.mean() # 0.958\n",
    "dp2f_avg = dp2f.mean() # 0.967882\n",
    "dp15cp_avg = dp15cp.mean() # 0.792454\n",
    "dp2cp_avg = dp2cp.mean() # 0.756079\n",
    "dpf_avg = pd.DataFrame([[dp15f_avg.iloc[0], dp15cp_avg.iloc[0]], [dp2f_avg.iloc[0], dp2cp_avg.iloc[0]]], columns=['Faithfulness', 'Contextual_Precision'])\n",
    "dpf_avg.index = [15,2]\n",
    "dpf_avg"
   ]
  },
  {
   "cell_type": "code",
   "execution_count": 37,
   "id": "94400667-9d7b-4948-9a5e-0d7dbc0f2896",
   "metadata": {
    "scrolled": true
   },
   "outputs": [
    {
     "data": {
      "text/html": [
       "<div>\n",
       "<style scoped>\n",
       "    .dataframe tbody tr th:only-of-type {\n",
       "        vertical-align: middle;\n",
       "    }\n",
       "\n",
       "    .dataframe tbody tr th {\n",
       "        vertical-align: top;\n",
       "    }\n",
       "\n",
       "    .dataframe thead th {\n",
       "        text-align: right;\n",
       "    }\n",
       "</style>\n",
       "<table border=\"1\" class=\"dataframe\">\n",
       "  <thead>\n",
       "    <tr style=\"text-align: right;\">\n",
       "      <th></th>\n",
       "      <th>Faithfulness</th>\n",
       "      <th>Contextual_Precision</th>\n",
       "    </tr>\n",
       "  </thead>\n",
       "  <tbody>\n",
       "    <tr>\n",
       "      <th>15</th>\n",
       "      <td>0.958000</td>\n",
       "      <td>0.792454</td>\n",
       "    </tr>\n",
       "    <tr>\n",
       "      <th>2</th>\n",
       "      <td>0.967882</td>\n",
       "      <td>0.756079</td>\n",
       "    </tr>\n",
       "  </tbody>\n",
       "</table>\n",
       "</div>"
      ],
      "text/plain": [
       "    Faithfulness  Contextual_Precision\n",
       "15      0.958000              0.792454\n",
       "2       0.967882              0.756079"
      ]
     },
     "execution_count": 37,
     "metadata": {},
     "output_type": "execute_result"
    }
   ],
   "source": [
    "dpf_avg"
   ]
  },
  {
   "cell_type": "code",
   "execution_count": 39,
   "id": "a007bcae-6a70-4b98-8294-5c2ca0d6bc06",
   "metadata": {},
   "outputs": [
    {
     "data": {
      "text/plain": [
       "Faithfulness            0.009882\n",
       "Contextual_Precision    0.036374\n",
       "dtype: float64"
      ]
     },
     "execution_count": 39,
     "metadata": {},
     "output_type": "execute_result"
    }
   ],
   "source": [
    "# Difference between scores for llms with DeepEval\n",
    "abs(dpf_avg.loc[15] - dpf_avg.loc[2])"
   ]
  },
  {
   "cell_type": "code",
   "execution_count": 55,
   "id": "5126e0ad-6b69-47a9-9460-5eff1263fa24",
   "metadata": {},
   "outputs": [],
   "source": [
    "dpllm_results = pd.concat([dp15f, dp2f, dp15cp, dp2cp], axis=1, ignore_index=False)"
   ]
  },
  {
   "cell_type": "code",
   "execution_count": 56,
   "id": "e4832631-14c3-4bd4-a679-2216860e5536",
   "metadata": {},
   "outputs": [
    {
     "data": {
      "text/html": [
       "<div>\n",
       "<style scoped>\n",
       "    .dataframe tbody tr th:only-of-type {\n",
       "        vertical-align: middle;\n",
       "    }\n",
       "\n",
       "    .dataframe tbody tr th {\n",
       "        vertical-align: top;\n",
       "    }\n",
       "\n",
       "    .dataframe thead th {\n",
       "        text-align: right;\n",
       "    }\n",
       "</style>\n",
       "<table border=\"1\" class=\"dataframe\">\n",
       "  <thead>\n",
       "    <tr style=\"text-align: right;\">\n",
       "      <th></th>\n",
       "      <th>DeepEval_Faithfulness_15</th>\n",
       "      <th>DeepEval_Faithfulness_2</th>\n",
       "      <th>DeepEval_ContextualPrecision_15</th>\n",
       "      <th>DeepEval_ContextualPrecision_2</th>\n",
       "    </tr>\n",
       "  </thead>\n",
       "  <tbody>\n",
       "    <tr>\n",
       "      <th>0</th>\n",
       "      <td>1.0</td>\n",
       "      <td>1.0</td>\n",
       "      <td>1.0</td>\n",
       "      <td>1.000000</td>\n",
       "    </tr>\n",
       "    <tr>\n",
       "      <th>1</th>\n",
       "      <td>1.0</td>\n",
       "      <td>1.0</td>\n",
       "      <td>1.0</td>\n",
       "      <td>1.000000</td>\n",
       "    </tr>\n",
       "    <tr>\n",
       "      <th>2</th>\n",
       "      <td>1.0</td>\n",
       "      <td>1.0</td>\n",
       "      <td>0.0</td>\n",
       "      <td>0.000000</td>\n",
       "    </tr>\n",
       "    <tr>\n",
       "      <th>3</th>\n",
       "      <td>1.0</td>\n",
       "      <td>1.0</td>\n",
       "      <td>1.0</td>\n",
       "      <td>1.000000</td>\n",
       "    </tr>\n",
       "    <tr>\n",
       "      <th>4</th>\n",
       "      <td>1.0</td>\n",
       "      <td>1.0</td>\n",
       "      <td>1.0</td>\n",
       "      <td>1.000000</td>\n",
       "    </tr>\n",
       "    <tr>\n",
       "      <th>...</th>\n",
       "      <td>...</td>\n",
       "      <td>...</td>\n",
       "      <td>...</td>\n",
       "      <td>...</td>\n",
       "    </tr>\n",
       "    <tr>\n",
       "      <th>898</th>\n",
       "      <td>1.0</td>\n",
       "      <td>1.0</td>\n",
       "      <td>1.0</td>\n",
       "      <td>0.700000</td>\n",
       "    </tr>\n",
       "    <tr>\n",
       "      <th>899</th>\n",
       "      <td>1.0</td>\n",
       "      <td>1.0</td>\n",
       "      <td>1.0</td>\n",
       "      <td>1.000000</td>\n",
       "    </tr>\n",
       "    <tr>\n",
       "      <th>900</th>\n",
       "      <td>1.0</td>\n",
       "      <td>1.0</td>\n",
       "      <td>1.0</td>\n",
       "      <td>1.000000</td>\n",
       "    </tr>\n",
       "    <tr>\n",
       "      <th>901</th>\n",
       "      <td>1.0</td>\n",
       "      <td>1.0</td>\n",
       "      <td>0.7</td>\n",
       "      <td>0.809524</td>\n",
       "    </tr>\n",
       "    <tr>\n",
       "      <th>902</th>\n",
       "      <td>1.0</td>\n",
       "      <td>1.0</td>\n",
       "      <td>1.0</td>\n",
       "      <td>0.333333</td>\n",
       "    </tr>\n",
       "  </tbody>\n",
       "</table>\n",
       "<p>903 rows × 4 columns</p>\n",
       "</div>"
      ],
      "text/plain": [
       "     DeepEval_Faithfulness_15  DeepEval_Faithfulness_2  \\\n",
       "0                         1.0                      1.0   \n",
       "1                         1.0                      1.0   \n",
       "2                         1.0                      1.0   \n",
       "3                         1.0                      1.0   \n",
       "4                         1.0                      1.0   \n",
       "..                        ...                      ...   \n",
       "898                       1.0                      1.0   \n",
       "899                       1.0                      1.0   \n",
       "900                       1.0                      1.0   \n",
       "901                       1.0                      1.0   \n",
       "902                       1.0                      1.0   \n",
       "\n",
       "     DeepEval_ContextualPrecision_15  DeepEval_ContextualPrecision_2  \n",
       "0                                1.0                        1.000000  \n",
       "1                                1.0                        1.000000  \n",
       "2                                0.0                        0.000000  \n",
       "3                                1.0                        1.000000  \n",
       "4                                1.0                        1.000000  \n",
       "..                               ...                             ...  \n",
       "898                              1.0                        0.700000  \n",
       "899                              1.0                        1.000000  \n",
       "900                              1.0                        1.000000  \n",
       "901                              0.7                        0.809524  \n",
       "902                              1.0                        0.333333  \n",
       "\n",
       "[903 rows x 4 columns]"
      ]
     },
     "execution_count": 56,
     "metadata": {},
     "output_type": "execute_result"
    }
   ],
   "source": [
    "dpllm_results"
   ]
  },
  {
   "cell_type": "code",
   "execution_count": 58,
   "id": "d6e012e2-c370-4504-abd5-d1ddb0f6afcc",
   "metadata": {},
   "outputs": [
    {
     "data": {
      "text/plain": [
       "DeepEval_Faithfulness_15           63\n",
       "DeepEval_Faithfulness_2            63\n",
       "DeepEval_ContextualPrecision_15    63\n",
       "DeepEval_ContextualPrecision_2     63\n",
       "dtype: int64"
      ]
     },
     "execution_count": 58,
     "metadata": {},
     "output_type": "execute_result"
    }
   ],
   "source": [
    "# stopped here 1/29, next is doing the below for the Contextual Precision results\n",
    "# DeepEval Faithfulness metric analysis\n",
    "# lets see how far apart the average result was\n",
    "# 821/903 rows were within 0.1 score of each other (90.9%)\n",
    "# 832/903 rows were within 0.2 score of each other (92.1%)\n",
    "# 840/903 rows were within 0.3 score of each other, (93.0%)\n",
    "# so 63/903 were > 0.3 score of each other (7%)\n",
    "# average difference between results was 0.05356... so results seem fairly close together across LLMs\n",
    "# np.mean(abs(dpllm_results['DeepEval_Faithfulness_15'] - dpllm_results['DeepEval_Faithfulness_2']))\n",
    "dpllm_results[abs(dpllm_results['DeepEval_Faithfulness_15'] - dpllm_results['DeepEval_Faithfulness_2']) > 0.3].count()"
   ]
  },
  {
   "cell_type": "code",
   "execution_count": 59,
   "id": "35cb2473-28df-4b21-8df0-b44bcac0dc3c",
   "metadata": {},
   "outputs": [
    {
     "data": {
      "text/plain": [
       "DeepEval_Faithfulness_15           598\n",
       "DeepEval_Faithfulness_2            598\n",
       "DeepEval_ContextualPrecision_15    598\n",
       "DeepEval_ContextualPrecision_2     598\n",
       "dtype: int64"
      ]
     },
     "execution_count": 59,
     "metadata": {},
     "output_type": "execute_result"
    }
   ],
   "source": [
    "# Contextual Precision analysis\n",
    "# lets see how far apart the average result was\n",
    "# 598/903 rows were within 0.1 score of each other (66.2%)\n",
    "# 679/903 rows were within 0.2 score of each other (75.2%)\n",
    "# 728/903 rows were within 0.3 score of each other, (80.6%)\n",
    "# so 175/903 were > 0.3 score of each other (%)\n",
    "# average difference between results was 0.1452.... so results did vary across the LLMs on an example by example basis\n",
    "# np.mean(abs(dpllm_results['DeepEval_ContextualPrecision_15'] - dpllm_results['DeepEval_ContextualPrecision_2']))\n",
    "dpllm_results[abs(dpllm_results['DeepEval_ContextualPrecision_15'] - dpllm_results['DeepEval_ContextualPrecision_2']) <= 0.1].count()"
   ]
  },
  {
   "cell_type": "code",
   "execution_count": 54,
   "id": "9306e1d9-72d4-455c-974e-0cecd6d3bdb0",
   "metadata": {},
   "outputs": [
    {
     "data": {
      "text/plain": [
       "0.8062015503875969"
      ]
     },
     "execution_count": 54,
     "metadata": {},
     "output_type": "execute_result"
    }
   ],
   "source": [
    "728/903"
   ]
  },
  {
   "cell_type": "code",
   "execution_count": 23,
   "id": "5aa17fcd-5a0d-4de3-9cf3-796081c9b57f",
   "metadata": {},
   "outputs": [
    {
     "data": {
      "text/plain": [
       "<Axes: ylabel='Frequency'>"
      ]
     },
     "execution_count": 23,
     "metadata": {},
     "output_type": "execute_result"
    },
    {
     "data": {
      "image/png": "[encoded data removed]",
      "text/plain": [
       "<Figure size 640x480 with 1 Axes>"
      ]
     },
     "metadata": {},
     "output_type": "display_data"
    }
   ],
   "source": [
    "# faithfulness scores tended to be either 0 or 1 and stayed pretty consistent across LLMs\n",
    "dpllmf_results.plot.hist(column=['DeepEval_Faithfulness_15', 'DeepEval_Faithfulness_2'], bins=20, alpha=0.5)"
   ]
  },
  {
   "cell_type": "code",
   "execution_count": 60,
   "id": "77795798-0878-4ff0-9a58-e2c5b6afa9f9",
   "metadata": {},
   "outputs": [
    {
     "data": {
      "text/plain": [
       "<Axes: ylabel='Frequency'>"
      ]
     },
     "execution_count": 60,
     "metadata": {},
     "output_type": "execute_result"
    },
    {
     "data": {
      "image/png": "[encoded data removed]",
      "text/plain": [
       "<Figure size 640x480 with 1 Axes>"
      ]
     },
     "metadata": {},
     "output_type": "display_data"
    }
   ],
   "source": [
    "# contextual precision scores varied more but still seemed to overlap across LLMs; \n",
    "# Of course, this isn't showing the example vs example view\n",
    "dpllm_results.plot.hist(column=['DeepEval_ContextualPrecision_15', 'DeepEval_ContextualPrecision_2'], bins=20, alpha=0.5)"
   ]
  },
  {
   "cell_type": "code",
   "execution_count": 61,
   "id": "1a41daa2-5aeb-4c0d-a5a6-cfeeac2f1bd8",
   "metadata": {},
   "outputs": [
    {
     "data": {
      "text/html": [
       "<div>\n",
       "<style scoped>\n",
       "    .dataframe tbody tr th:only-of-type {\n",
       "        vertical-align: middle;\n",
       "    }\n",
       "\n",
       "    .dataframe tbody tr th {\n",
       "        vertical-align: top;\n",
       "    }\n",
       "\n",
       "    .dataframe thead th {\n",
       "        text-align: right;\n",
       "    }\n",
       "</style>\n",
       "<table border=\"1\" class=\"dataframe\">\n",
       "  <thead>\n",
       "    <tr style=\"text-align: right;\">\n",
       "      <th></th>\n",
       "      <th>Faithfulness</th>\n",
       "      <th>Contextual_Precision</th>\n",
       "    </tr>\n",
       "  </thead>\n",
       "  <tbody>\n",
       "    <tr>\n",
       "      <th>15</th>\n",
       "      <td>0.266000</td>\n",
       "      <td>0.081454</td>\n",
       "    </tr>\n",
       "    <tr>\n",
       "      <th>2</th>\n",
       "      <td>0.175882</td>\n",
       "      <td>0.095921</td>\n",
       "    </tr>\n",
       "  </tbody>\n",
       "</table>\n",
       "</div>"
      ],
      "text/plain": [
       "    Faithfulness  Contextual_Precision\n",
       "15      0.266000              0.081454\n",
       "2       0.175882              0.095921"
      ]
     },
     "execution_count": 61,
     "metadata": {},
     "output_type": "execute_result"
    }
   ],
   "source": [
    "# compare across libraries\n",
    "# Difference between ARES and DeepEval \n",
    "abs(ares - dpf_avg)"
   ]
  },
  {
   "cell_type": "code",
   "execution_count": null,
   "id": "e28b299d-3788-4937-a93a-b82e7f6cf191",
   "metadata": {},
   "outputs": [],
   "source": []
  },
  {
   "cell_type": "code",
   "execution_count": null,
   "id": "be94bac7-5449-4c93-8a6a-0bd58614b553",
   "metadata": {},
   "outputs": [],
   "source": []
  },
  {
   "cell_type": "code",
   "execution_count": 2,
   "id": "7d0d1510-95ea-4176-a159-7ab7c02e8249",
   "metadata": {},
   "outputs": [],
   "source": [
    "# 12/11 comparison of results from deepeval and ragas\n",
    "# This was using a dataset synthetically generated by deepeval\n",
    "# Just comparing Contextual Precision metric with Gemini 1.5 LLM\n",
    "deepeval_results = pd.read_csv(\"results/deepeval_contextprecision_unlabeled.csv\", index_col=None)\n",
    "ragas_results = pd.read_csv(\"results/results_ragas_unlabeled_all.csv\", index_col=None)"
   ]
  },
  {
   "cell_type": "code",
   "execution_count": 3,
   "id": "ea2655e8-ed3f-4272-b07f-26b3b1c2be3e",
   "metadata": {},
   "outputs": [],
   "source": [
    "results = pd.concat([ragas_results, deepeval_results], axis=1, ignore_index=False)"
   ]
  },
  {
   "cell_type": "code",
   "execution_count": 4,
   "id": "af8dbb51-7682-477e-ba81-c7ac0c0aaa48",
   "metadata": {},
   "outputs": [],
   "source": [
    "results = results.rename(columns={'context_precision': 'ragas_cp', 'score':'deepeval_cp'})"
   ]
  },
  {
   "cell_type": "code",
   "execution_count": 6,
   "id": "d65a2be5-f620-4b67-8643-63ba9ebae24f",
   "metadata": {},
   "outputs": [
    {
     "data": {
      "text/plain": [
       "0.540941989035695"
      ]
     },
     "execution_count": 6,
     "metadata": {},
     "output_type": "execute_result"
    }
   ],
   "source": [
    "# 169/800 rows were within 0.1 score of each other\n",
    "# 234/800 rows were within 0.2 score of each other\n",
    "# 278/800 rows were within 0.3 score of each other, \n",
    "# so 522/800 were > 0.3 score of each other\n",
    "# average difference between results was 0.5409... this tells me they were really far apart, given a restricted scoring range of 0-1\n",
    "np.mean(abs(results['ragas_cp'] - results['deepeval_cp']))"
   ]
  },
  {
   "cell_type": "code",
   "execution_count": 7,
   "id": "8e12f759-0f0f-4a3d-a848-551c47222720",
   "metadata": {},
   "outputs": [
    {
     "data": {
      "text/plain": [
       "<Axes: ylabel='Frequency'>"
      ]
     },
     "execution_count": 7,
     "metadata": {},
     "output_type": "execute_result"
    },
    {
     "data": {
      "image/png": "[encoded data removed]",
      "text/plain": [
       "<Figure size 640x480 with 1 Axes>"
      ]
     },
     "metadata": {},
     "output_type": "display_data"
    }
   ],
   "source": [
    "results.plot.hist(column=['deepeval_cp', 'ragas_cp'], bins=20, alpha=0.5)"
   ]
  },
  {
   "cell_type": "code",
   "execution_count": 8,
   "id": "e44ade41-e6e3-42ee-af31-eb27f37199e0",
   "metadata": {},
   "outputs": [
    {
     "data": {
      "text/plain": [
       "<Axes: ylabel='Frequency'>"
      ]
     },
     "execution_count": 8,
     "metadata": {},
     "output_type": "execute_result"
    },
    {
     "data": {
      "image/png": "[encoded data removed]",
      "text/plain": [
       "<Figure size 640x480 with 1 Axes>"
      ]
     },
     "metadata": {},
     "output_type": "display_data"
    }
   ],
   "source": [
    "results.plot.hist(column=['ragas_cp'], bins=20)"
   ]
  },
  {
   "cell_type": "code",
   "execution_count": 9,
   "id": "6f8e526a-8fcb-4404-8205-c33f5e120721",
   "metadata": {},
   "outputs": [],
   "source": [
    "results.to_csv(\"results/ragas_and_deepeval_unlabeled_results.csv\", index=False)"
   ]
  },
  {
   "cell_type": "code",
   "execution_count": null,
   "id": "d5aa6d9e-e9d3-4f3e-a808-821e97635bac",
   "metadata": {},
   "outputs": [],
   "source": [
    "# for my manual comparison review of results (above)\n",
    "import random\n",
    "for i in range(0,15):\n",
    "    print(random.randint(2, 801))\n",
    "\n",
    "# 109\n",
    "# 154\n",
    "# 400\n",
    "# 163\n",
    "# 741\n",
    "# 704\n",
    "# 126\n",
    "# 167\n",
    "# 724\n",
    "# 18\n",
    "# 379\n",
    "# 51\n",
    "# 514\n",
    "# 556\n",
    "# 586"
   ]
  },
  {
   "cell_type": "code",
   "execution_count": null,
   "id": "b3d6357b-8fb7-496c-a236-7017c8008a59",
   "metadata": {},
   "outputs": [],
   "source": []
  }
 ],
 "metadata": {
  "kernelspec": {
   "display_name": "research2",
   "language": "python",
   "name": "research2"
  },
  "language_info": {
   "codemirror_mode": {
    "name": "ipython",
    "version": 3
   },
   "file_extension": ".py",
   "mimetype": "text/x-python",
   "name": "python",
   "nbconvert_exporter": "python",
   "pygments_lexer": "ipython3",
   "version": "3.11.8"
  }
 },
 "nbformat": 4,
 "nbformat_minor": 5
}
