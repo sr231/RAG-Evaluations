{
 "cells": [
  {
   "cell_type": "code",
   "execution_count": null,
   "id": "3914d65f-42be-4012-a611-f686bdf16b9a",
   "metadata": {},
   "outputs": [],
   "source": [
    "import os\n",
    "import logging\n",
    "import sys\n",
    "from IPython.display import display, Markdown\n",
    "import pandas as pd\n",
    "from typing import List\n",
    "from pydantic import BaseModel, ConfigDict\n",
    "import instructor\n",
    "from datasets import Dataset\n",
    "\n",
    "import google.generativeai as genai\n",
    "from langchain_google_genai import ChatGoogleGenerativeAI, GoogleGenerativeAIEmbeddings\n",
    "from llama_index.core import Document, VectorStoreIndex, Settings, StorageContext, load_index_from_storage\n",
    "from llama_index.vector_stores.faiss import FaissVectorStore\n",
    "import faiss\n",
    "\n",
    "import deepeval\n",
    "from deepeval.models import DeepEvalBaseLLM, DeepEvalBaseEmbeddingModel\n",
    "from deepeval.test_case import LLMTestCase\n",
    "from deepeval.dataset import EvaluationDataset\n",
    "from deepeval.synthesizer import Synthesizer\n",
    "from deepeval import evaluate\n",
    "from deepeval.evaluate import TestResult, print_test_result\n",
    "from deepeval.metrics import (\n",
    "    AnswerRelevancyMetric,\n",
    "    ContextualPrecisionMetric,\n",
    "    ContextualRecallMetric,\n",
    "    ContextualRelevancyMetric,\n",
    "    FaithfulnessMetric\n",
    ")\n",
    "from deepeval.metrics.ragas import (\n",
    "    RagasMetric,\n",
    "    RAGASAnswerRelevancyMetric,\n",
    "    RAGASFaithfulnessMetric, \n",
    "    RAGASContextualRecallMetric,\n",
    "    RAGASContextualPrecisionMetric,\n",
    "    RAGASContextualRelevancyMetric\n",
    ")"
   ]
  },
  {
   "cell_type": "code",
   "execution_count": 3,
   "id": "51c6fa3f-561e-4887-adf1-1251fd2635ad",
   "metadata": {},
   "outputs": [],
   "source": [
    "# Environmental variable to opt out of DeepEval tracking telemetry data\n",
    "os.environ[\"DEEPEVAL_TELEMETRY_OPT_OUT\"] = \"YES\""
   ]
  },
  {
   "cell_type": "code",
   "execution_count": 4,
   "id": "c2549224-19ad-4e6f-80b0-1318209ec302",
   "metadata": {},
   "outputs": [
    {
     "data": {
      "text/plain": [
       "True"
      ]
     },
     "execution_count": 4,
     "metadata": {},
     "output_type": "execute_result"
    }
   ],
   "source": [
    "deepeval.telemetry_opt_out()"
   ]
  },
  {
   "cell_type": "code",
   "execution_count": 5,
   "id": "24a8144b-be76-4051-b149-d08ffff01c55",
   "metadata": {},
   "outputs": [],
   "source": [
    "def to_markdown(text):\n",
    "  text = text.replace('•', '  *')\n",
    "  return Markdown(textwrap.indent(text, '> ', predicate=lambda _: True))"
   ]
  },
  {
   "cell_type": "code",
   "execution_count": 6,
   "id": "f3d57e70-5446-4b04-9414-5d4de02c7a01",
   "metadata": {},
   "outputs": [],
   "source": [
    "# set up local API key\n",
    "genai.configure(api_key=os.environ[\"GOOGLE_API_KEY\"])"
   ]
  },
  {
   "cell_type": "code",
   "execution_count": 7,
   "id": "550dbc02-6fac-47e8-9e2f-d45e5b854cb9",
   "metadata": {},
   "outputs": [],
   "source": [
    "llm = ChatGoogleGenerativeAI(model=\"gemini-1.5-flash\")"
   ]
  },
  {
   "cell_type": "code",
   "execution_count": 7,
   "id": "401b1a8b-066b-4b90-9fc8-5841c378d7e8",
   "metadata": {},
   "outputs": [],
   "source": [
    "# create document database\n",
    "# using 4 State of the Union speeches, all text from whitehouse.gov briefing room speeches posted online, including a title with the date of the speech\n",
    "# Example from 2024:\n",
    "# https://www.whitehouse.gov/briefing-room/speeches-remarks/2024/03/07/remarks-of-president-joe-biden-state-of-the-union-address-as-prepared-for-delivery-2/\n",
    "sotu = []\n",
    "newfiles = [\"./Speeches/titleedits/state_of_the_union_042921.txt\", \"./Speeches/titleedits/state_of_the_union_030122.txt\", \"./Speeches/titleedits/state_of_the_union_020723.txt\", \"./Speeches/titleedits/state_of_the_union_030724.txt\"]\n",
    "for i in newfiles:\n",
    "    with open(i) as file:\n",
    "        for line in file:\n",
    "            nl = line.rstrip()\n",
    "            if nl != '':\n",
    "                sotu.append(nl)"
   ]
  },
  {
   "cell_type": "code",
   "execution_count": 8,
   "id": "c807897d-aeba-4728-9765-7f9fd6fc500a",
   "metadata": {},
   "outputs": [],
   "source": [
    "documents = [Document(text=line) for line in sotu]"
   ]
  },
  {
   "cell_type": "code",
   "execution_count": 12,
   "id": "dcca1754-d287-438d-bdbb-3567a240ef1b",
   "metadata": {},
   "outputs": [
    {
     "data": {
      "text/plain": [
       "Document(id_='830598f6-ba9e-4767-80ab-b946afb17118', embedding=None, metadata={}, excluded_embed_metadata_keys=[], excluded_llm_metadata_keys=[], relationships={}, text='State of the Union Address given by President Biden on April 29, 2021', mimetype='text/plain', start_char_idx=None, end_char_idx=None, text_template='{metadata_str}\\n\\n{content}', metadata_template='{key}: {value}', metadata_seperator='\\n')"
      ]
     },
     "execution_count": 12,
     "metadata": {},
     "output_type": "execute_result"
    }
   ],
   "source": [
    "documents[0]"
   ]
  },
  {
   "cell_type": "code",
   "execution_count": 7,
   "id": "abee5d90-d35f-4dcd-a0c9-ae343c45daed",
   "metadata": {},
   "outputs": [
    {
     "name": "stdout",
     "output_type": "stream",
     "text": [
      "True\n"
     ]
    }
   ],
   "source": [
    "# Set up the faiss index\n",
    "d = 768 # dimensions of the input vector of the embedding model that we're going to use; in this case, the google embedding model\n",
    "faiss_index = faiss.IndexFlatL2(d)\n",
    "print(faiss_index.is_trained)"
   ]
  },
  {
   "cell_type": "code",
   "execution_count": 8,
   "id": "867af9cf-7f1d-4be4-a3e5-b2c1bc42ba2b",
   "metadata": {},
   "outputs": [],
   "source": [
    "# set up the embeddings\n",
    "doc_embeddings = GoogleGenerativeAIEmbeddings(model=\"models/text-embedding-004\") # optional: task_type=\"RETRIEVAL_DOCUMENT\"\n",
    "Settings.embed_model = doc_embeddings\n",
    "Settings.llm = llm"
   ]
  },
  {
   "cell_type": "code",
   "execution_count": 9,
   "id": "f515372d-633a-4f10-af52-633ca023a6c9",
   "metadata": {},
   "outputs": [],
   "source": [
    "logging.basicConfig(stream=sys.stdout, level=logging.INFO)\n",
    "logging.getLogger().addHandler(logging.StreamHandler(stream=sys.stdout))"
   ]
  },
  {
   "cell_type": "code",
   "execution_count": 16,
   "id": "d7c062fc-32d7-4367-b19c-41878e179280",
   "metadata": {},
   "outputs": [
    {
     "data": {
      "application/vnd.jupyter.widget-view+json": {
       "model_id": "5980dd907a19423d89d3910a6b10c2c9",
       "version_major": 2,
       "version_minor": 0
      },
      "text/plain": [
       "Parsing nodes:   0%|          | 0/1464 [00:00<?, ?it/s]"
      ]
     },
     "metadata": {},
     "output_type": "display_data"
    },
    {
     "data": {
      "application/vnd.jupyter.widget-view+json": {
       "model_id": "f4a85fea8c11442086be8fb078694a25",
       "version_major": 2,
       "version_minor": 0
      },
      "text/plain": [
       "Generating embeddings:   0%|          | 0/1464 [00:00<?, ?it/s]"
      ]
     },
     "metadata": {},
     "output_type": "display_data"
    }
   ],
   "source": [
    "## uncomment for when you need to re-embed and vectorize documents\n",
    "## otherwise, doing local loading below\n",
    "#vector_store = FaissVectorStore(faiss_index=faiss_index)\n",
    "#storage_context = StorageContext.from_defaults(vector_store=vector_store)\n",
    "#index = VectorStoreIndex.from_documents(\n",
    "#    documents, storage_context=storage_context, show_progress=True\n",
    "#)\n"
   ]
  },
  {
   "cell_type": "code",
   "execution_count": 17,
   "id": "f3e5df9b-a9bb-4523-84e5-db3485c52f46",
   "metadata": {},
   "outputs": [
    {
     "data": {
      "text/plain": [
       "'3d3c99c5-aa1c-42d7-a9ce-c4bb12fbc6d5'"
      ]
     },
     "execution_count": 17,
     "metadata": {},
     "output_type": "execute_result"
    }
   ],
   "source": [
    "index.index_id"
   ]
  },
  {
   "cell_type": "code",
   "execution_count": 18,
   "id": "fd5f9020-0a49-4f3f-a504-49134fecc3b8",
   "metadata": {},
   "outputs": [
    {
     "data": {
      "text/plain": [
       "<llama_index.core.indices.vector_store.base.VectorStoreIndex at 0x7f128c3bdb10>"
      ]
     },
     "execution_count": 18,
     "metadata": {},
     "output_type": "execute_result"
    }
   ],
   "source": [
    "## save index to disk\n",
    "index.storage_context.persist(persist_dir=\"./storage\")\n",
    "index"
   ]
  },
  {
   "cell_type": "code",
   "execution_count": 19,
   "id": "a00fada0-7f9f-4da6-a566-ff3ff37898fe",
   "metadata": {},
   "outputs": [
    {
     "data": {
      "text/plain": [
       "'3d3c99c5-aa1c-42d7-a9ce-c4bb12fbc6d5'"
      ]
     },
     "execution_count": 19,
     "metadata": {},
     "output_type": "execute_result"
    }
   ],
   "source": [
    "index.index_id"
   ]
  },
  {
   "cell_type": "code",
   "execution_count": null,
   "id": "35b9e419-33a2-4a63-9937-b89919684e5d",
   "metadata": {},
   "outputs": [],
   "source": [
    "# index id '3d3c99c5-aa1c-42d7-a9ce-c4bb12fbc6d5' in persist_dir \"./storage\" uses all 4 of the speeches with a title that includes the date it was given\n",
    "# index id 'c9cfc851-156f-41a3-96a9-ff1516a65a8e' in persist_dir \"./storage2021\" just uses the 2021 speech with a title that includes the date it was given\n",
    "# index id '354f0f60-3eb3-46c1-a31a-b854a7f4536c' in persist_dir \"./storage2022\" just uses the 2022 speech with a title that includes the date it was given\n",
    "# index id '48050557-05c2-4e05-a610-75aa414348a7' in persist_dir \"./storage2023\" just uses the 2023 speech with a title that includes the date it was given\n",
    "# index id 'cab605dd-ff55-4514-9571-c682fc1fd4b2' in persist_dir \"./storage2024\" just uses the 2024 speech with a title that includes the date it was given"
   ]
  },
  {
   "cell_type": "code",
   "execution_count": 10,
   "id": "0d6752df-c35e-4624-83c7-2b9b694aa8cf",
   "metadata": {},
   "outputs": [
    {
     "name": "stdout",
     "output_type": "stream",
     "text": [
      "INFO:root:Loading llama_index.vector_stores.faiss.base from ./storage/default__vector_store.json.\n",
      "Loading llama_index.vector_stores.faiss.base from ./storage/default__vector_store.json.\n",
      "INFO:llama_index.core.indices.loading:Loading indices with ids: ['3d3c99c5-aa1c-42d7-a9ce-c4bb12fbc6d5']\n",
      "Loading indices with ids: ['3d3c99c5-aa1c-42d7-a9ce-c4bb12fbc6d5']\n"
     ]
    }
   ],
   "source": [
    "# load index from disk\n",
    "indexid = '3d3c99c5-aa1c-42d7-a9ce-c4bb12fbc6d5'\n",
    "storagedir = \"./storage\"\n",
    "vector_store = FaissVectorStore.from_persist_dir(storagedir)\n",
    "storage_context = StorageContext.from_defaults(\n",
    "    vector_store=vector_store, persist_dir=storagedir\n",
    ")\n",
    "\n",
    "index = load_index_from_storage(storage_context=storage_context, index_id=indexid)"
   ]
  },
  {
   "cell_type": "code",
   "execution_count": 11,
   "id": "8c4b68f0-6aa4-4633-bef9-467a01b741a5",
   "metadata": {},
   "outputs": [],
   "source": [
    "# set up query and chat engines\n",
    "query_engine = index.as_query_engine(similarity_top_k=10)\n",
    "chat_engine = index.as_chat_engine(similarity_top_k=10, chat_mode='context')"
   ]
  },
  {
   "cell_type": "code",
   "execution_count": 12,
   "id": "6a6dfcf8-686d-473d-8c06-5d0103ef7554",
   "metadata": {},
   "outputs": [],
   "source": [
    "# DeepEval requires a json response. In practice, this has led to malformed json returned from the llm, even with as simple of a schema as this\n",
    "class Response(BaseModel):\n",
    "    response: str"
   ]
  },
  {
   "cell_type": "code",
   "execution_count": 13,
   "id": "63895587-67a1-470b-9419-20bfb85b9b2c",
   "metadata": {},
   "outputs": [],
   "source": [
    "# Non Open-AI requiere a custom LLM class for using DeepEval\n",
    "class CustomGeminiFlash(DeepEvalBaseLLM):\n",
    "    def __init__(self):\n",
    "        self.model = genai.GenerativeModel(model_name=\"models/gemini-1.5-flash\")\n",
    "        model_config = ConfigDict(protected_namespaces=())\n",
    "\n",
    "    def load_model(self):\n",
    "        return self.model\n",
    "\n",
    "    def generate(self, prompt: str, schema: BaseModel) -> BaseModel: \n",
    "        client = self.load_model()\n",
    "        instructor_client = instructor.from_gemini(\n",
    "            client=client,\n",
    "            mode=instructor.Mode.GEMINI_JSON,\n",
    "        )\n",
    "        resp = instructor_client.messages.create(\n",
    "            messages=[\n",
    "                {\n",
    "                    \"role\": \"user\",\n",
    "                    \"content\": prompt,\n",
    "                }\n",
    "            ],\n",
    "            response_model=schema\n",
    "        )\n",
    "        return resp\n",
    "\n",
    "    async def a_generate(self, prompt: str, schema: BaseModel) -> BaseModel:\n",
    "        return self.generate(prompt, schema)\n",
    "\n",
    "    def get_model_name(self):\n",
    "        return \"Gemini 1.5 Flash\""
   ]
  },
  {
   "cell_type": "code",
   "execution_count": 14,
   "id": "ab9ed9a5-41d6-439b-b777-42745f1a630b",
   "metadata": {},
   "outputs": [],
   "source": [
    "# similarly, a custom embedding model class is required for non Open-AI embeddings\n",
    "class CustomGeminiEmbeddingModel(DeepEvalBaseEmbeddingModel):\n",
    "    def __init__(self):\n",
    "        model_config  = ConfigDict(protected_namespaces=())\n",
    "\n",
    "    def load_model(self):\n",
    "        return GoogleGenerativeAIEmbeddings(\n",
    "            model=\"models/text-embedding-004\"\n",
    "        )\n",
    "\n",
    "    def embed_text(self, text: str) -> List[float]:\n",
    "        embedding_model = self.load_model()\n",
    "        return embedding_model.embed_query(text)\n",
    "\n",
    "    def embed_texts(self, texts: List[str]) -> List[List[float]]:\n",
    "        embedding_model = self.load_model()\n",
    "        return embedding_model.embed_documents(texts)\n",
    "\n",
    "    async def a_embed_text(self, text: str) -> List[float]:\n",
    "        embedding_model = self.load_model()\n",
    "        return await embedding_model.aembed_query(text)\n",
    "\n",
    "    async def a_embed_texts(self, texts: List[str]) -> List[List[float]]:\n",
    "        embedding_model = self.load_model()\n",
    "        return await embedding_model.aembed_documents(texts)\n",
    "\n",
    "    def get_model_name(self):\n",
    "        \"Custom Gemini Embeddings\""
   ]
  },
  {
   "cell_type": "code",
   "execution_count": 15,
   "id": "af31c110-cafd-4af9-bf4e-668fc6b0738c",
   "metadata": {},
   "outputs": [],
   "source": [
    "custom_geminiflash = CustomGeminiFlash()\n",
    "custom_geminiembeddings = CustomGeminiEmbeddingModel()"
   ]
  },
  {
   "cell_type": "code",
   "execution_count": null,
   "id": "1035df4f-f0d8-4139-9cf9-f43d14896369",
   "metadata": {},
   "outputs": [],
   "source": [
    "# Generate a synthetic dataset of \"Goldens\" (aka a dataset with 'input', 'context', 'source_file' columns -- not 'Retrieval_Context') with DeepEval\n",
    "dataset = EvaluationDataset()\n",
    "synthesizer = Synthesizer(model=custom_geminiflash, embedder=custom_geminiembeddings)\n",
    "dataset.generate_goldens_from_docs(\n",
    "    synthesizer=synthesizer,\n",
    "    document_paths=['Speeches/titleedits/state_of_the_union_042921.txt', 'Speeches/titleedits/state_of_the_union_030122.txt', \n",
    "                    'Speeches/titleedits/state_of_the_union_020723.txt', 'Speeches/titleedits/state_of_the_union_030724.txt'],\n",
    "    max_goldens_per_document=2,\n",
    "    include_expected_output=True\n",
    ")\n",
    "\n",
    "dataset.save_as(file_type=\"csv\", directory=\".\")"
   ]
  },
  {
   "cell_type": "code",
   "execution_count": 22,
   "id": "5a9be634-73e4-45b3-87af-fb7a39a0e8e9",
   "metadata": {},
   "outputs": [],
   "source": [
    "# after dataset is generated, need to generate the answer column"
   ]
  },
  {
   "cell_type": "code",
   "execution_count": 16,
   "id": "5f30910e-0ab8-43d9-99f7-a0ec29c60eac",
   "metadata": {},
   "outputs": [],
   "source": [
    "# Below code uses the resulting testset without generated answers to generate new answers\n",
    "\n",
    "testset_pd = pd.read_csv(\"datasets/labeled_dataset/synth_combined_24.csv\", index_col = None)"
   ]
  },
  {
   "cell_type": "code",
   "execution_count": 17,
   "id": "76c7c328-9007-4f53-b905-8ce2c4cb403b",
   "metadata": {},
   "outputs": [
    {
     "data": {
      "text/html": [
       "<div>\n",
       "<style scoped>\n",
       "    .dataframe tbody tr th:only-of-type {\n",
       "        vertical-align: middle;\n",
       "    }\n",
       "\n",
       "    .dataframe tbody tr th {\n",
       "        vertical-align: top;\n",
       "    }\n",
       "\n",
       "    .dataframe thead th {\n",
       "        text-align: right;\n",
       "    }\n",
       "</style>\n",
       "<table border=\"1\" class=\"dataframe\">\n",
       "  <thead>\n",
       "    <tr style=\"text-align: right;\">\n",
       "      <th></th>\n",
       "      <th>Query</th>\n",
       "      <th>Expected_Output</th>\n",
       "      <th>Contexts_QueryGen</th>\n",
       "      <th>Source_File</th>\n",
       "    </tr>\n",
       "  </thead>\n",
       "  <tbody>\n",
       "    <tr>\n",
       "      <th>0</th>\n",
       "      <td>Compare the tax breaks for the wealthy and cor...</td>\n",
       "      <td>The text highlights two contrasting policies: ...</td>\n",
       "      <td>or raise the retirement age I will stop them!...</td>\n",
       "      <td>Speeches/titleedits/state_of_the_union_030724.txt</td>\n",
       "    </tr>\n",
       "    <tr>\n",
       "      <th>1</th>\n",
       "      <td>Advocate for closing corporate tax loopholes t...</td>\n",
       "      <td>I agree! It's not fair that big corporations m...</td>\n",
       "      <td>or raise the retirement age I will stop them!...</td>\n",
       "      <td>Speeches/titleedits/state_of_the_union_030724.txt</td>\n",
       "    </tr>\n",
       "    <tr>\n",
       "      <th>2</th>\n",
       "      <td>Identify and elaborate on the key policies ena...</td>\n",
       "      <td>The speaker has enacted or proposed policies i...</td>\n",
       "      <td>and biggest corporations no longer get all th...</td>\n",
       "      <td>Speeches/titleedits/state_of_the_union_030724.txt</td>\n",
       "    </tr>\n",
       "    <tr>\n",
       "      <th>3</th>\n",
       "      <td>Analyze the political motivations behind the o...</td>\n",
       "      <td>The President claims that his predecessor pres...</td>\n",
       "      <td>and biggest corporations no longer get all th...</td>\n",
       "      <td>Speeches/titleedits/state_of_the_union_030724.txt</td>\n",
       "    </tr>\n",
       "    <tr>\n",
       "      <th>4</th>\n",
       "      <td>Imagine a year where America's economy is thri...</td>\n",
       "      <td>The President's speech paints a picture of a s...</td>\n",
       "      <td>no place in America! \\n\\nHistory is watching....</td>\n",
       "      <td>Speeches/titleedits/state_of_the_union_030724.txt</td>\n",
       "    </tr>\n",
       "    <tr>\n",
       "      <th>5</th>\n",
       "      <td>How does the president's statement about overt...</td>\n",
       "      <td>The president states that his predecessor brag...</td>\n",
       "      <td>no place in America! \\n\\nHistory is watching....</td>\n",
       "      <td>Speeches/titleedits/state_of_the_union_030724.txt</td>\n",
       "    </tr>\n",
       "  </tbody>\n",
       "</table>\n",
       "</div>"
      ],
      "text/plain": [
       "                                               Query  \\\n",
       "0  Compare the tax breaks for the wealthy and cor...   \n",
       "1  Advocate for closing corporate tax loopholes t...   \n",
       "2  Identify and elaborate on the key policies ena...   \n",
       "3  Analyze the political motivations behind the o...   \n",
       "4  Imagine a year where America's economy is thri...   \n",
       "5  How does the president's statement about overt...   \n",
       "\n",
       "                                     Expected_Output  \\\n",
       "0  The text highlights two contrasting policies: ...   \n",
       "1  I agree! It's not fair that big corporations m...   \n",
       "2  The speaker has enacted or proposed policies i...   \n",
       "3  The President claims that his predecessor pres...   \n",
       "4  The President's speech paints a picture of a s...   \n",
       "5  The president states that his predecessor brag...   \n",
       "\n",
       "                                   Contexts_QueryGen  \\\n",
       "0   or raise the retirement age I will stop them!...   \n",
       "1   or raise the retirement age I will stop them!...   \n",
       "2   and biggest corporations no longer get all th...   \n",
       "3   and biggest corporations no longer get all th...   \n",
       "4   no place in America! \\n\\nHistory is watching....   \n",
       "5   no place in America! \\n\\nHistory is watching....   \n",
       "\n",
       "                                         Source_File  \n",
       "0  Speeches/titleedits/state_of_the_union_030724.txt  \n",
       "1  Speeches/titleedits/state_of_the_union_030724.txt  \n",
       "2  Speeches/titleedits/state_of_the_union_030724.txt  \n",
       "3  Speeches/titleedits/state_of_the_union_030724.txt  \n",
       "4  Speeches/titleedits/state_of_the_union_030724.txt  \n",
       "5  Speeches/titleedits/state_of_the_union_030724.txt  "
      ]
     },
     "execution_count": 17,
     "metadata": {},
     "output_type": "execute_result"
    }
   ],
   "source": [
    "testset_pd"
   ]
  },
  {
   "cell_type": "code",
   "execution_count": 39,
   "id": "2bef28c3-2bdb-45a9-b66a-ee1e0825565a",
   "metadata": {},
   "outputs": [],
   "source": [
    "testset_pd = testset_pd.rename(columns={\"input\": \"Query\", \"actual_output\": \"Answer\", \"expected_output\": \"Expected_Output\", \"context\": \"Contexts\", \"source_file\": \"Source_File\"})"
   ]
  },
  {
   "cell_type": "code",
   "execution_count": 40,
   "id": "438b4d98-dced-4b44-bf9b-599c3b3561ed",
   "metadata": {},
   "outputs": [
    {
     "data": {
      "text/html": [
       "<div>\n",
       "<style scoped>\n",
       "    .dataframe tbody tr th:only-of-type {\n",
       "        vertical-align: middle;\n",
       "    }\n",
       "\n",
       "    .dataframe tbody tr th {\n",
       "        vertical-align: top;\n",
       "    }\n",
       "\n",
       "    .dataframe thead th {\n",
       "        text-align: right;\n",
       "    }\n",
       "</style>\n",
       "<table border=\"1\" class=\"dataframe\">\n",
       "  <thead>\n",
       "    <tr style=\"text-align: right;\">\n",
       "      <th></th>\n",
       "      <th>Query</th>\n",
       "      <th>Answer</th>\n",
       "      <th>Expected_Output</th>\n",
       "      <th>Contexts</th>\n",
       "      <th>Source_File</th>\n",
       "    </tr>\n",
       "  </thead>\n",
       "  <tbody>\n",
       "    <tr>\n",
       "      <th>0</th>\n",
       "      <td>How has the American Rescue Plan impacted citi...</td>\n",
       "      <td>NaN</td>\n",
       "      <td>The American Rescue Plan has delivered food an...</td>\n",
       "      <td>suffering from an autoimmune disease — wrote ...</td>\n",
       "      <td>Speeches/titleedits/state_of_the_union_042921.txt</td>\n",
       "    </tr>\n",
       "    <tr>\n",
       "      <th>1</th>\n",
       "      <td>If the American Rescue Plan had been enacted e...</td>\n",
       "      <td>NaN</td>\n",
       "      <td>The speech does not directly address whether t...</td>\n",
       "      <td>suffering from an autoimmune disease — wrote ...</td>\n",
       "      <td>Speeches/titleedits/state_of_the_union_042921.txt</td>\n",
       "    </tr>\n",
       "    <tr>\n",
       "      <th>2</th>\n",
       "      <td>Compare the economic policies advocated by the...</td>\n",
       "      <td>NaN</td>\n",
       "      <td>The president advocates for economic policies ...</td>\n",
       "      <td>keep the economy going strong by giving worke...</td>\n",
       "      <td>Speeches/titleedits/state_of_the_union_030122.txt</td>\n",
       "    </tr>\n",
       "    <tr>\n",
       "      <th>3</th>\n",
       "      <td>Imagine if increasing the minimum wage to $15 ...</td>\n",
       "      <td>NaN</td>\n",
       "      <td>The impact of raising the minimum wage to $15 ...</td>\n",
       "      <td>keep the economy going strong by giving worke...</td>\n",
       "      <td>Speeches/titleedits/state_of_the_union_030122.txt</td>\n",
       "    </tr>\n",
       "    <tr>\n",
       "      <th>4</th>\n",
       "      <td>Compare President Biden's statements about wor...</td>\n",
       "      <td>NaN</td>\n",
       "      <td>President Biden emphasizes his desire to work ...</td>\n",
       "      <td>State of the Union Address given by President ...</td>\n",
       "      <td>Speeches/titleedits/state_of_the_union_020723.txt</td>\n",
       "    </tr>\n",
       "    <tr>\n",
       "      <th>5</th>\n",
       "      <td>Imagine the US facing economic instability, gl...</td>\n",
       "      <td>NaN</td>\n",
       "      <td>President Biden's address emphasizes unity and...</td>\n",
       "      <td>State of the Union Address given by President ...</td>\n",
       "      <td>Speeches/titleedits/state_of_the_union_020723.txt</td>\n",
       "    </tr>\n",
       "    <tr>\n",
       "      <th>6</th>\n",
       "      <td>Imagine a year where America's economy is thri...</td>\n",
       "      <td>NaN</td>\n",
       "      <td>The President's speech paints a picture of a s...</td>\n",
       "      <td>no place in America! \\n\\nHistory is watching....</td>\n",
       "      <td>Speeches/titleedits/state_of_the_union_030724.txt</td>\n",
       "    </tr>\n",
       "    <tr>\n",
       "      <th>7</th>\n",
       "      <td>How does the president's statement about overt...</td>\n",
       "      <td>NaN</td>\n",
       "      <td>The president states that his predecessor brag...</td>\n",
       "      <td>no place in America! \\n\\nHistory is watching....</td>\n",
       "      <td>Speeches/titleedits/state_of_the_union_030724.txt</td>\n",
       "    </tr>\n",
       "  </tbody>\n",
       "</table>\n",
       "</div>"
      ],
      "text/plain": [
       "                                               Query  Answer  \\\n",
       "0  How has the American Rescue Plan impacted citi...     NaN   \n",
       "1  If the American Rescue Plan had been enacted e...     NaN   \n",
       "2  Compare the economic policies advocated by the...     NaN   \n",
       "3  Imagine if increasing the minimum wage to $15 ...     NaN   \n",
       "4  Compare President Biden's statements about wor...     NaN   \n",
       "5  Imagine the US facing economic instability, gl...     NaN   \n",
       "6  Imagine a year where America's economy is thri...     NaN   \n",
       "7  How does the president's statement about overt...     NaN   \n",
       "\n",
       "                                     Expected_Output  \\\n",
       "0  The American Rescue Plan has delivered food an...   \n",
       "1  The speech does not directly address whether t...   \n",
       "2  The president advocates for economic policies ...   \n",
       "3  The impact of raising the minimum wage to $15 ...   \n",
       "4  President Biden emphasizes his desire to work ...   \n",
       "5  President Biden's address emphasizes unity and...   \n",
       "6  The President's speech paints a picture of a s...   \n",
       "7  The president states that his predecessor brag...   \n",
       "\n",
       "                                            Contexts  \\\n",
       "0   suffering from an autoimmune disease — wrote ...   \n",
       "1   suffering from an autoimmune disease — wrote ...   \n",
       "2   keep the economy going strong by giving worke...   \n",
       "3   keep the economy going strong by giving worke...   \n",
       "4  State of the Union Address given by President ...   \n",
       "5  State of the Union Address given by President ...   \n",
       "6   no place in America! \\n\\nHistory is watching....   \n",
       "7   no place in America! \\n\\nHistory is watching....   \n",
       "\n",
       "                                         Source_File  \n",
       "0  Speeches/titleedits/state_of_the_union_042921.txt  \n",
       "1  Speeches/titleedits/state_of_the_union_042921.txt  \n",
       "2  Speeches/titleedits/state_of_the_union_030122.txt  \n",
       "3  Speeches/titleedits/state_of_the_union_030122.txt  \n",
       "4  Speeches/titleedits/state_of_the_union_020723.txt  \n",
       "5  Speeches/titleedits/state_of_the_union_020723.txt  \n",
       "6  Speeches/titleedits/state_of_the_union_030724.txt  \n",
       "7  Speeches/titleedits/state_of_the_union_030724.txt  "
      ]
     },
     "execution_count": 40,
     "metadata": {},
     "output_type": "execute_result"
    }
   ],
   "source": [
    "testset_pd"
   ]
  },
  {
   "cell_type": "code",
   "execution_count": null,
   "id": "7e9fe82b-d291-4516-8325-955204f0611f",
   "metadata": {},
   "outputs": [],
   "source": [
    "# generate answer column, per these two issues\n",
    "# https://github.com/explodinggradients/ragas/issues/1145\n",
    "# https://github.com/explodinggradients/ragas/issues/1084#issuecomment-2248219601\n",
    "\n",
    "query_engine = index.as_query_engine(similarity_top_k=10)\n",
    "answers = [query_engine.query(q) for q in testset_pd['Query']]"
   ]
  },
  {
   "cell_type": "code",
   "execution_count": 19,
   "id": "2d327e6f-341c-4338-a18a-b4b3efe42d06",
   "metadata": {},
   "outputs": [],
   "source": [
    "# parse out new 'answer' and 'contexts' columns\n",
    "answers_r = []\n",
    "context_n = []\n",
    "for i in answers:\n",
    "    answers_r.append(i.response)\n",
    "    context_n.append([c.node.get_content() for c in i.source_nodes])\n",
    "  \n",
    "#testset_pd = testset_pd.rename(columns={\"Contexts\":\"Contexts_QueryGen\"})\n",
    "testset_pd['Contexts_2024'] = context_n\n",
    "testset_pd['Answer'] = answers_r"
   ]
  },
  {
   "cell_type": "code",
   "execution_count": 20,
   "id": "3ba729f4-5e34-47b3-831a-d3ef178636e9",
   "metadata": {
    "scrolled": true
   },
   "outputs": [
    {
     "data": {
      "text/html": [
       "<div>\n",
       "<style scoped>\n",
       "    .dataframe tbody tr th:only-of-type {\n",
       "        vertical-align: middle;\n",
       "    }\n",
       "\n",
       "    .dataframe tbody tr th {\n",
       "        vertical-align: top;\n",
       "    }\n",
       "\n",
       "    .dataframe thead th {\n",
       "        text-align: right;\n",
       "    }\n",
       "</style>\n",
       "<table border=\"1\" class=\"dataframe\">\n",
       "  <thead>\n",
       "    <tr style=\"text-align: right;\">\n",
       "      <th></th>\n",
       "      <th>Query</th>\n",
       "      <th>Expected_Output</th>\n",
       "      <th>Contexts_QueryGen</th>\n",
       "      <th>Source_File</th>\n",
       "      <th>Contexts_2024</th>\n",
       "      <th>Answer</th>\n",
       "    </tr>\n",
       "  </thead>\n",
       "  <tbody>\n",
       "    <tr>\n",
       "      <th>0</th>\n",
       "      <td>Compare the tax breaks for the wealthy and cor...</td>\n",
       "      <td>The text highlights two contrasting policies: ...</td>\n",
       "      <td>or raise the retirement age I will stop them!...</td>\n",
       "      <td>Speeches/titleedits/state_of_the_union_030724.txt</td>\n",
       "      <td>[The last administration enacted a $2 Trillion...</td>\n",
       "      <td>The text argues that a previous administration...</td>\n",
       "    </tr>\n",
       "    <tr>\n",
       "      <th>1</th>\n",
       "      <td>Advocate for closing corporate tax loopholes t...</td>\n",
       "      <td>I agree! It's not fair that big corporations m...</td>\n",
       "      <td>or raise the retirement age I will stop them!...</td>\n",
       "      <td>Speeches/titleedits/state_of_the_union_030724.txt</td>\n",
       "      <td>[The way to make the tax code fair is to make ...</td>\n",
       "      <td>The current tax code is unfair, favoring large...</td>\n",
       "    </tr>\n",
       "    <tr>\n",
       "      <th>2</th>\n",
       "      <td>Identify and elaborate on the key policies ena...</td>\n",
       "      <td>The speaker has enacted or proposed policies i...</td>\n",
       "      <td>and biggest corporations no longer get all th...</td>\n",
       "      <td>Speeches/titleedits/state_of_the_union_030724.txt</td>\n",
       "      <td>[I enacted tax credits that save $800 per pers...</td>\n",
       "      <td>The speaker highlights several key policies en...</td>\n",
       "    </tr>\n",
       "    <tr>\n",
       "      <th>3</th>\n",
       "      <td>Analyze the political motivations behind the o...</td>\n",
       "      <td>The President claims that his predecessor pres...</td>\n",
       "      <td>and biggest corporations no longer get all th...</td>\n",
       "      <td>Speeches/titleedits/state_of_the_union_030724.txt</td>\n",
       "      <td>[The result was a bipartisan bill with the tou...</td>\n",
       "      <td>The opposition to the bipartisan border securi...</td>\n",
       "    </tr>\n",
       "    <tr>\n",
       "      <th>4</th>\n",
       "      <td>Imagine a year where America's economy is thri...</td>\n",
       "      <td>The President's speech paints a picture of a s...</td>\n",
       "      <td>no place in America! \\n\\nHistory is watching....</td>\n",
       "      <td>Speeches/titleedits/state_of_the_union_030724.txt</td>\n",
       "      <td>[Unemployment at 50-year lows., 800,000 new ma...</td>\n",
       "      <td>Despite a robust economy with low unemployment...</td>\n",
       "    </tr>\n",
       "    <tr>\n",
       "      <th>5</th>\n",
       "      <td>How does the president's statement about overt...</td>\n",
       "      <td>The president states that his predecessor brag...</td>\n",
       "      <td>no place in America! \\n\\nHistory is watching....</td>\n",
       "      <td>Speeches/titleedits/state_of_the_union_030724.txt</td>\n",
       "      <td>[Meanwhile, my predecessor told the NRA he’s p...</td>\n",
       "      <td>Empty Response</td>\n",
       "    </tr>\n",
       "  </tbody>\n",
       "</table>\n",
       "</div>"
      ],
      "text/plain": [
       "                                               Query  \\\n",
       "0  Compare the tax breaks for the wealthy and cor...   \n",
       "1  Advocate for closing corporate tax loopholes t...   \n",
       "2  Identify and elaborate on the key policies ena...   \n",
       "3  Analyze the political motivations behind the o...   \n",
       "4  Imagine a year where America's economy is thri...   \n",
       "5  How does the president's statement about overt...   \n",
       "\n",
       "                                     Expected_Output  \\\n",
       "0  The text highlights two contrasting policies: ...   \n",
       "1  I agree! It's not fair that big corporations m...   \n",
       "2  The speaker has enacted or proposed policies i...   \n",
       "3  The President claims that his predecessor pres...   \n",
       "4  The President's speech paints a picture of a s...   \n",
       "5  The president states that his predecessor brag...   \n",
       "\n",
       "                                   Contexts_QueryGen  \\\n",
       "0   or raise the retirement age I will stop them!...   \n",
       "1   or raise the retirement age I will stop them!...   \n",
       "2   and biggest corporations no longer get all th...   \n",
       "3   and biggest corporations no longer get all th...   \n",
       "4   no place in America! \\n\\nHistory is watching....   \n",
       "5   no place in America! \\n\\nHistory is watching....   \n",
       "\n",
       "                                         Source_File  \\\n",
       "0  Speeches/titleedits/state_of_the_union_030724.txt   \n",
       "1  Speeches/titleedits/state_of_the_union_030724.txt   \n",
       "2  Speeches/titleedits/state_of_the_union_030724.txt   \n",
       "3  Speeches/titleedits/state_of_the_union_030724.txt   \n",
       "4  Speeches/titleedits/state_of_the_union_030724.txt   \n",
       "5  Speeches/titleedits/state_of_the_union_030724.txt   \n",
       "\n",
       "                                       Contexts_2024  \\\n",
       "0  [The last administration enacted a $2 Trillion...   \n",
       "1  [The way to make the tax code fair is to make ...   \n",
       "2  [I enacted tax credits that save $800 per pers...   \n",
       "3  [The result was a bipartisan bill with the tou...   \n",
       "4  [Unemployment at 50-year lows., 800,000 new ma...   \n",
       "5  [Meanwhile, my predecessor told the NRA he’s p...   \n",
       "\n",
       "                                              Answer  \n",
       "0  The text argues that a previous administration...  \n",
       "1  The current tax code is unfair, favoring large...  \n",
       "2  The speaker highlights several key policies en...  \n",
       "3  The opposition to the bipartisan border securi...  \n",
       "4  Despite a robust economy with low unemployment...  \n",
       "5                                     Empty Response  "
      ]
     },
     "execution_count": 20,
     "metadata": {},
     "output_type": "execute_result"
    }
   ],
   "source": [
    "testset_pd"
   ]
  },
  {
   "cell_type": "code",
   "execution_count": 21,
   "id": "e73c59c3-106f-458c-856c-ecec2d1914ae",
   "metadata": {},
   "outputs": [],
   "source": [
    "testset_pd.to_csv('datasets/labeled_dataset/synth_24_answers.csv', index=False)"
   ]
  },
  {
   "cell_type": "code",
   "execution_count": null,
   "id": "98d70714-2a0e-4dd9-9731-c9b6ffdd3df2",
   "metadata": {},
   "outputs": [],
   "source": []
  }
 ],
 "metadata": {
  "kernelspec": {
   "display_name": "gemini_deepeval",
   "language": "python",
   "name": "gemini_deepeval"
  },
  "language_info": {
   "codemirror_mode": {
    "name": "ipython",
    "version": 3
   },
   "file_extension": ".py",
   "mimetype": "text/x-python",
   "name": "python",
   "nbconvert_exporter": "python",
   "pygments_lexer": "ipython3",
   "version": "3.11.8"
  }
 },
 "nbformat": 4,
 "nbformat_minor": 5
}
