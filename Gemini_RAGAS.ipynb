{
 "cells": [
  {
   "cell_type": "code",
   "execution_count": 1,
   "id": "0f13f959-5e0b-4e76-b116-da5da6a04ae6",
   "metadata": {},
   "outputs": [],
   "source": [
    "# set do not track variable to RAGAS\n",
    "# more info: https://github.com/explodinggradients/ragas/issues/49\n",
    "import os\n",
    "os.environ[\"RAGAS_DO_NOT_TRACK\"] = \"True\""
   ]
  },
  {
   "cell_type": "code",
   "execution_count": 2,
   "id": "f30fd81d-ce93-4e03-bbec-862ece105b76",
   "metadata": {},
   "outputs": [],
   "source": [
    "import logging\n",
    "import sys\n",
    "import google.generativeai as genai\n",
    "import pathlib\n",
    "import textwrap\n",
    "import ragas\n",
    "from langchain_google_genai import ChatGoogleGenerativeAI, GoogleGenerativeAIEmbeddings\n",
    "from llama_index.core import Document, VectorStoreIndex, Settings, StorageContext, load_index_from_storage\n",
    "from llama_index.vector_stores.faiss import FaissVectorStore\n",
    "import pandas as pd\n",
    "import faiss\n",
    "\n",
    "from IPython.display import display\n",
    "from IPython.display import Markdown\n",
    "\n",
    "def to_markdown(text):\n",
    "  text = text.replace('•', '  *')\n",
    "  return Markdown(textwrap.indent(text, '> ', predicate=lambda _: True))"
   ]
  },
  {
   "cell_type": "code",
   "execution_count": 3,
   "id": "9ca08633-0877-4773-93ab-d4a78b8f5662",
   "metadata": {},
   "outputs": [],
   "source": [
    "genai.configure(api_key=os.environ[\"GOOGLE_API_KEY\"])"
   ]
  },
  {
   "cell_type": "code",
   "execution_count": 4,
   "id": "11b65e5d-d679-49c4-ade6-2719fecb55d4",
   "metadata": {},
   "outputs": [
    {
     "data": {
      "text/plain": [
       "True"
      ]
     },
     "execution_count": 4,
     "metadata": {},
     "output_type": "execute_result"
    }
   ],
   "source": [
    "ragas._analytics.do_not_track()"
   ]
  },
  {
   "cell_type": "code",
   "execution_count": 7,
   "id": "5f5c3780-22bc-42d7-8653-107c0e0c26b8",
   "metadata": {},
   "outputs": [
    {
     "name": "stderr",
     "output_type": "stream",
     "text": [
      "WARNING: All log messages before absl::InitializeLog() is called are written to STDERR\n",
      "I0000 00:00:1724359789.530360     525 check_gcp_environment.cc:61] BIOS data file does not exist or cannot be opened.\n"
     ]
    }
   ],
   "source": [
    "llm = ChatGoogleGenerativeAI(model=\"gemini-1.5-flash\")\n",
    "#result = llm.invoke(\"Write me a party invitation to a one year's old's dinosaur birthday party.\")"
   ]
  },
  {
   "cell_type": "code",
   "execution_count": 8,
   "id": "5248aab9-6fcd-46bf-b260-773c23b8845d",
   "metadata": {},
   "outputs": [],
   "source": [
    "# create document database\n",
    "sotu = []\n",
    "files = [\"./Speeches/state_of_the_union_042921.txt\", \"./Speeches/state_of_the_union_030122.txt\", \"./Speeches/state_of_the_union_020723.txt\", \"./Speeches/state_of_the_union_030724.txt\"]\n",
    "for i in files:\n",
    "    with open(i) as file:\n",
    "        for line in file:\n",
    "            nl = line.rstrip()\n",
    "            if nl != '':\n",
    "                sotu.append(nl)"
   ]
  },
  {
   "cell_type": "code",
   "execution_count": 9,
   "id": "90db689f-b0e4-484f-a0f4-c30eb169347c",
   "metadata": {},
   "outputs": [
    {
     "data": {
      "text/plain": [
       "1460"
      ]
     },
     "execution_count": 9,
     "metadata": {},
     "output_type": "execute_result"
    }
   ],
   "source": [
    "len(sotu)"
   ]
  },
  {
   "cell_type": "code",
   "execution_count": 10,
   "id": "2bd48335-0c8c-4f86-ae1b-d1832ff6a52b",
   "metadata": {},
   "outputs": [],
   "source": [
    "documents = [Document(text=line) for line in sotu]"
   ]
  },
  {
   "cell_type": "code",
   "execution_count": 11,
   "id": "5fb9bf47-2a72-41a7-af8e-ae663bf95e47",
   "metadata": {},
   "outputs": [
    {
     "data": {
      "text/plain": [
       "Document(id_='faf5696f-3134-41ad-86d5-b92e38911d62', embedding=None, metadata={}, excluded_embed_metadata_keys=[], excluded_llm_metadata_keys=[], relationships={}, text='May God protect our troops.', mimetype='text/plain', start_char_idx=None, end_char_idx=None, text_template='{metadata_str}\\n\\n{content}', metadata_template='{key}: {value}', metadata_seperator='\\n')"
      ]
     },
     "execution_count": 11,
     "metadata": {},
     "output_type": "execute_result"
    }
   ],
   "source": [
    "documents[-1]"
   ]
  },
  {
   "cell_type": "code",
   "execution_count": 12,
   "id": "53ed3997-3a20-4a99-a9c1-7cc6d6a217e6",
   "metadata": {},
   "outputs": [
    {
     "name": "stdout",
     "output_type": "stream",
     "text": [
      "True\n"
     ]
    }
   ],
   "source": [
    "# following these tutorials\n",
    "# https://learnbybuilding.ai/tutorials/rag-chatbot-on-podcast-llamaindex-faiss-openai\n",
    "# https://medium.com/@saurabhgssingh/understanding-rag-building-a-rag-system-from-scratch-with-gemini-api-b11ad9fc1bf7\n",
    "\n",
    "d = 768 # dimensions of ___, the embedding model that we're going to use\n",
    "faiss_index = faiss.IndexFlatL2(d)\n",
    "print(faiss_index.is_trained)"
   ]
  },
  {
   "cell_type": "code",
   "execution_count": 13,
   "id": "490599ac-6499-4174-999d-4ddc0609fd6e",
   "metadata": {},
   "outputs": [],
   "source": [
    "doc_embeddings = GoogleGenerativeAIEmbeddings(model=\"models/text-embedding-004\") # optional: task_type=\"RETRIEVAL_DOCUMENT\"\n",
    "Settings.embed_model = doc_embeddings\n",
    "#vector = embeddings.embed_query(\"hello, world!\")\n",
    "#vector[:5]"
   ]
  },
  {
   "cell_type": "code",
   "execution_count": 14,
   "id": "c24d9337-5832-47d6-90df-6e73b3de8a9e",
   "metadata": {},
   "outputs": [],
   "source": [
    "logging.basicConfig(stream=sys.stdout, level=logging.INFO)\n",
    "logging.getLogger().addHandler(logging.StreamHandler(stream=sys.stdout))"
   ]
  },
  {
   "cell_type": "code",
   "execution_count": 15,
   "id": "f7340422-e457-4697-aea8-23f6d24c67a8",
   "metadata": {},
   "outputs": [],
   "source": [
    "#from llama_index import ServiceContext, set_global_service_context\n",
    "#service_context = ServiceContext.from_defaults(llm=llm, embed_model=embededdings)\n",
    "#set_global_service_context(service_context)\n",
    "\n",
    "Settings.llm = llm"
   ]
  },
  {
   "cell_type": "code",
   "execution_count": 16,
   "id": "d3171f73-723f-40f5-91d3-14e0f26173e0",
   "metadata": {},
   "outputs": [],
   "source": [
    "## uncomment for when you need to re-embed and vectorize documents\n",
    "## otherwise, doing local loading below\n",
    "#vector_store = FaissVectorStore(faiss_index=faiss_index)\n",
    "#storage_context = StorageContext.from_defaults(vector_store=vector_store)\n",
    "#index = VectorStoreIndex.from_documents(\n",
    "#    documents, storage_context=storage_context, show_progress=True\n",
    "#)\n",
    "## save index to disk\n",
    "#index.storage_context.persist()\n",
    "#index"
   ]
  },
  {
   "cell_type": "code",
   "execution_count": 17,
   "id": "60c8a330-0b12-434d-bc1c-4d8a7a1e32ae",
   "metadata": {},
   "outputs": [
    {
     "name": "stdout",
     "output_type": "stream",
     "text": [
      "INFO:root:Loading llama_index.vector_stores.faiss.base from ./storage/default__vector_store.json.\n",
      "Loading llama_index.vector_stores.faiss.base from ./storage/default__vector_store.json.\n",
      "INFO:llama_index.core.indices.loading:Loading all indices.\n",
      "Loading all indices.\n"
     ]
    }
   ],
   "source": [
    "# load index from disk\n",
    "vector_store = FaissVectorStore.from_persist_dir(\"./storage\")\n",
    "storage_context = StorageContext.from_defaults(\n",
    "    vector_store=vector_store, persist_dir=\"./storage\"\n",
    ")\n",
    "index = load_index_from_storage(storage_context=storage_context)"
   ]
  },
  {
   "cell_type": "code",
   "execution_count": 18,
   "id": "bcff60d7-d40f-4346-af9f-cfd9ab812e21",
   "metadata": {},
   "outputs": [
    {
     "data": {
      "text/plain": [
       "<llama_index.core.indices.vector_store.base.VectorStoreIndex at 0x7f5c40847990>"
      ]
     },
     "execution_count": 18,
     "metadata": {},
     "output_type": "execute_result"
    }
   ],
   "source": [
    "index"
   ]
  },
  {
   "cell_type": "code",
   "execution_count": 19,
   "id": "8ba1e938-d2bc-4ef3-a9d2-f2bc01a41e98",
   "metadata": {},
   "outputs": [],
   "source": [
    "query_engine = index.as_query_engine(similarity_top_k=10)"
   ]
  },
  {
   "cell_type": "code",
   "execution_count": null,
   "id": "2026088c-515b-4933-9ec9-d3a616870533",
   "metadata": {},
   "outputs": [],
   "source": [
    "query = \"What has the President done related to healthcare?\"\n",
    "response = query_engine.query(query)"
   ]
  },
  {
   "cell_type": "code",
   "execution_count": 18,
   "id": "a13c4949-af9b-43da-9954-bebdd2cdbdaa",
   "metadata": {},
   "outputs": [
    {
     "data": {
      "text/plain": [
       "'The President has made significant efforts to improve healthcare access and affordability for Americans. They have expanded access to healthcare through the Affordable Care Act, lowered healthcare premiums for working families, and taken steps to reduce prescription drug costs. They have also re-ignited the Cancer Moonshot initiative, aimed at finding a cure for cancer. \\n'"
      ]
     },
     "execution_count": 18,
     "metadata": {},
     "output_type": "execute_result"
    }
   ],
   "source": [
    "response.response"
   ]
  },
  {
   "cell_type": "code",
   "execution_count": 19,
   "id": "1e0178b0-ee47-4443-b8fa-c5cb3b4de228",
   "metadata": {},
   "outputs": [
    {
     "name": "stdout",
     "output_type": "stream",
     "text": [
      "0.7506474256515503 -> I’m pleased to say that more Americans have health insurance now than ever in history.\n",
      "0.7599508166313171 -> During these 100 days, an additional 800,000 Americans enrolled in the Affordable Care Act when I established the special sign-up period to do that — 800,000 in that period.\n",
      "0.7667317390441895 -> The Affordable Care Act has been a lifeline for millions of Americans, protecting people with preexisting conditions, protecting women’s health.  And the pandemic has demonstrated how badly — how badly it’s needed.  Let’s lower deductibles for working families on the Affordable Care — in the Affordable Care Act.  (Applause.)  And let’s lower prescription drug costs.  (Applause.)\n",
      "0.796398401260376 -> A president, my predecessor, who failed the most basic duty. Any President owes the American people the duty to care.\n",
      "0.801885724067688 -> Over one hundred million of you can no longer be denied health insurance because of pre-existing conditions.\n",
      "0.8065693378448486 -> I enacted tax credits that save $800 per person per year reducing health care premiums for millions of working families.\n",
      "0.8096300363540649 -> A record 16 million people are enrolled under the Affordable Care Act.\n",
      "0.8154944181442261 -> And fourth, last year Jill and I re-ignited the Cancer Moonshot that President Obama asked me to lead in our Administration.\n",
      "0.8243342638015747 -> We’ve talked about it long enough.  Democrats and Republicans, let’s get it done this year.  This is all about a simple premise: Healthcare should be a right, not a privilege in America.  (Applause.)\n",
      "0.8246870636940002 -> I get it. With the Inflation Reduction Act that I signed into law, we’re taking on powerful interests to bring your health care costs down so you can sleep better at night.\n"
     ]
    }
   ],
   "source": [
    "for node in response.source_nodes:\n",
    "    print(f\"{node.get_score()} -> {node.text}\")"
   ]
  },
  {
   "cell_type": "code",
   "execution_count": 20,
   "id": "35114936-2d0c-4b06-99d7-16b4699d9388",
   "metadata": {},
   "outputs": [],
   "source": [
    "#result = genai.embed_content(\n",
    "#    model=\"models/text-embedding-004\",\n",
    "#    content=\"What is the meaning of life?\",\n",
    "#    task_type=\"retrieval_document\",\n",
    "#    title=\"Embedding of single string\")"
   ]
  },
  {
   "cell_type": "code",
   "execution_count": 20,
   "id": "972fd7ce-ab58-42b9-962a-e604172eb74c",
   "metadata": {},
   "outputs": [],
   "source": [
    "chat_engine = index.as_chat_engine(similarity_top_k=10, chat_mode='context')"
   ]
  },
  {
   "cell_type": "code",
   "execution_count": 21,
   "id": "116cf23e-1423-477a-9bd3-ea0272ee5083",
   "metadata": {},
   "outputs": [],
   "source": [
    "query = \"What does the President say about Congress during these 4 years?\"\n",
    "response = chat_engine.chat(query)"
   ]
  },
  {
   "cell_type": "code",
   "execution_count": 22,
   "id": "7f4124a0-55f3-48dd-bdaa-07bcb3717e96",
   "metadata": {},
   "outputs": [
    {
     "data": {
      "text/plain": [
       "'The provided text doesn\\'t offer any specific insights into the President\\'s views on Congress over a 4-year period. \\n\\nHere\\'s what we can glean from the excerpt:\\n\\n* **He acknowledges the potential for bipartisan cooperation:**  He states, \"To my Republican friends, if we could work together in the last Congress, there is no reason we can’t work together in this new Congress.\" This suggests he believes collaboration is possible.\\n* **He\\'s optimistic about the future:**  He declares \"the State of the Union is strong\" and attributes this to the strength of the American people. This implies a positive outlook on the nation\\'s future, which could be influenced by Congress\\'s actions.\\n\\nHowever, the excerpt doesn\\'t provide any specific criticisms or praise of Congress\\'s actions during the past four years. To understand the President\\'s full perspective, you\\'d need to analyze more of his speeches, interviews, and official statements. \\n'"
      ]
     },
     "execution_count": 22,
     "metadata": {},
     "output_type": "execute_result"
    }
   ],
   "source": [
    "response.response"
   ]
  },
  {
   "cell_type": "code",
   "execution_count": 23,
   "id": "2661c93d-c075-41ee-a5e8-ef5ae67e0265",
   "metadata": {},
   "outputs": [
    {
     "name": "stdout",
     "output_type": "stream",
     "text": [
      "The provided text doesn't offer any specific insights into the President's views on Congress over a 4-year period. \n",
      "\n",
      "Here's what we can glean from the excerpt:\n",
      "\n",
      "* **He acknowledges the potential for bipartisan cooperation:**  He states, \"To my Republican friends, if we could work together in the last Congress, there is no reason we can’t work together in this new Congress.\" This suggests he believes collaboration is possible.\n",
      "* **He's optimistic about the future:**  He declares \"the State of the Union is strong\" and attributes this to the strength of the American people. This implies a positive outlook on the nation's future, which could be influenced by Congress's actions.\n",
      "\n",
      "However, the excerpt doesn't provide any specific criticisms or praise of Congress's actions during the past four years. To understand the President's full perspective, you'd need to analyze more of his speeches, interviews, and official statements. \n",
      "\n"
     ]
    }
   ],
   "source": [
    "print(response.response)"
   ]
  },
  {
   "cell_type": "code",
   "execution_count": 25,
   "id": "aa970253-2559-4803-b390-c1f81fdc97d5",
   "metadata": {},
   "outputs": [
    {
     "name": "stdout",
     "output_type": "stream",
     "text": [
      "0.7652876377105713 -> Mr. Speaker. Madam Vice President. Members of Congress. My Fellow Americans.\n",
      "0.7749111652374268 -> Tonight I come to the same chamber to address the nation.\n",
      "0.8328826427459717 -> A president, my predecessor, who failed the most basic duty. Any President owes the American people the duty to care.\n",
      "0.8343376517295837 -> And I will always be a president for all Americans!\n",
      "0.842502236366272 -> My Republican friends you owe it to the American people to get this bill done.\n",
      "0.8441706895828247 -> And if my predecessor is watching instead of playing politics and pressuring members of Congress to block this bill, join me in telling Congress to pass it!\n",
      "0.8499408960342407 -> And yes, my purpose tonight is to both wake up this Congress, and alert the American people that this is no ordinary moment either.\n",
      "0.852456271648407 -> Meanwhile, my predecessor told the NRA he’s proud he did nothing on guns when he was President.\n",
      "0.8647689819335938 -> I signed a bipartisan budget deal that will cut another trillion dollars over the next decade.\n",
      "0.8650350570678711 -> I say this to Congress: we must stand up to Putin. Send me the Bipartisan National Security Bill.\n"
     ]
    }
   ],
   "source": [
    "for node in response.source_nodes:\n",
    "    print(f\"{node.get_score()} -> {node.text}\")"
   ]
  },
  {
   "cell_type": "code",
   "execution_count": 24,
   "id": "97057f9c-ffbb-493c-9ee6-819fb1fdf2e8",
   "metadata": {},
   "outputs": [
    {
     "data": {
      "text/plain": [
       "[ChatMessage(role=<MessageRole.USER: 'user'>, content='What does the President say about Congress during these 4 years?', additional_kwargs={}),\n",
       " ChatMessage(role=<MessageRole.ASSISTANT: 'assistant'>, content='The provided text doesn\\'t offer any specific insights into the President\\'s views on Congress over a 4-year period. \\n\\nHere\\'s what we can glean from the excerpt:\\n\\n* **He acknowledges the potential for bipartisan cooperation:**  He states, \"To my Republican friends, if we could work together in the last Congress, there is no reason we can’t work together in this new Congress.\" This suggests he believes collaboration is possible.\\n* **He\\'s optimistic about the future:**  He declares \"the State of the Union is strong\" and attributes this to the strength of the American people. This implies a positive outlook on the nation\\'s future, which could be influenced by Congress\\'s actions.\\n\\nHowever, the excerpt doesn\\'t provide any specific criticisms or praise of Congress\\'s actions during the past four years. To understand the President\\'s full perspective, you\\'d need to analyze more of his speeches, interviews, and official statements. \\n', additional_kwargs={})]"
      ]
     },
     "execution_count": 24,
     "metadata": {},
     "output_type": "execute_result"
    }
   ],
   "source": [
    "chat_engine.chat_history"
   ]
  },
  {
   "cell_type": "code",
   "execution_count": 25,
   "id": "6ada277f-4bfc-4f13-9691-a448d5858b99",
   "metadata": {},
   "outputs": [],
   "source": [
    "query2 = \"The provided text are 4 years of speeches by the President. What does the President say about Congress during those 4 years?\"\n",
    "response2 = chat_engine.chat(query2)"
   ]
  },
  {
   "cell_type": "code",
   "execution_count": 26,
   "id": "ec53f6d0-92e8-464d-bd2d-038b72f9a9f3",
   "metadata": {},
   "outputs": [
    {
     "name": "stdout",
     "output_type": "stream",
     "text": [
      "You're right! I apologize for my previous response.  I was focusing too narrowly on the excerpt provided, not the entirety of the 4 years' worth of speeches. \n",
      "\n",
      "To accurately assess the President's views on Congress over four years, we would need to analyze a significant amount of text. Here's a framework for what we could look for:\n",
      "\n",
      "* **Tone and Language:**  Does the President use positive or negative language when referring to Congress? Are there specific terms like \"bipartisan,\" \"gridlock,\" or \"divided\" that recur?\n",
      "* **Specific Actions:** Does he praise or criticize specific actions taken by Congress, such as passing legislation, confirming appointments, or conducting investigations?\n",
      "* **Calls to Action:**  Does he call on Congress to take specific actions or address particular issues?  \n",
      "* **Legislative Successes:**  Does he highlight any legislation passed in collaboration with Congress? \n",
      "* **Themes and Priorities:**  Do his speeches reveal any overarching themes about how he views Congress's role in governing? \n",
      "\n",
      "Without the full text of the speeches, it's impossible to give a definitive answer. However, by focusing on these aspects, we could potentially gain a clearer understanding of the President's evolving perspective on Congress throughout his term. \n",
      "\n"
     ]
    }
   ],
   "source": [
    "print(response2.response)"
   ]
  },
  {
   "cell_type": "code",
   "execution_count": 27,
   "id": "6aebe89c-5a78-450c-9c9b-2f96187d7791",
   "metadata": {},
   "outputs": [
    {
     "name": "stdout",
     "output_type": "stream",
     "text": [
      "0.6518715620040894 -> Throughout our history, Presidents have come to this chamber to speak to Congress, to the nation, and to the world to declare war, to celebrate peace, to announce new plans and possibilities.\n",
      "0.7356963157653809 -> Mr. Speaker. Madam Vice President. Members of Congress. My Fellow Americans.\n",
      "0.748851478099823 -> So on this night, in our 245th year as a nation, I have come to report on the State of the Union.\n",
      "0.7538517713546753 -> Madam Speaker, Madam Vice President, our First Lady and Second Gentleman. Members of Congress and the Cabinet. Justices of the Supreme Court. My fellow Americans.\n",
      "0.7632147073745728 -> Because the soul of this nation is strong, because the backbone of this nation is strong, because the people of this nation are strong, the State of the Union is strong.\n",
      "0.7771207690238953 -> So I have come here to fulfil my constitutional duty to report on the state of the union. And here is my report.\n",
      "0.7832998037338257 -> And my report is this: the State of the Union is strong—because you, the American people, are strong.\n",
      "0.7869049310684204 -> Madam Speaker, Madam Vice President — (applause) — no President has ever said those words from this podium.  No President has ever said those words, and it’s about time.  (Applause.)\n",
      "0.7885034084320068 -> As I stand here tonight before you, in a new and vital hour of life and democracy of our nation, and I can say with absolute confidence: I have never been more confident or optimistic about America — not because I’m President, because what’s happening with the American people.\n",
      "0.7890262603759766 -> Tonight I come to the same chamber to address the nation.\n"
     ]
    }
   ],
   "source": [
    "for node in response2.source_nodes:\n",
    "    print(f\"{node.get_score()} -> {node.text}\")"
   ]
  },
  {
   "cell_type": "code",
   "execution_count": null,
   "id": "bf198ee7-45f6-4573-8bcb-60b25e2b7af2",
   "metadata": {},
   "outputs": [],
   "source": []
  },
  {
   "cell_type": "code",
   "execution_count": 20,
   "id": "b1f8b91f-afc2-4916-a65b-4a4bcb088d7c",
   "metadata": {},
   "outputs": [],
   "source": [
    "# Start of RAGAS implementation"
   ]
  },
  {
   "cell_type": "code",
   "execution_count": 21,
   "id": "af3f8028-582d-49b5-9939-45eb0d810501",
   "metadata": {},
   "outputs": [],
   "source": [
    "# Generate synthetic test data"
   ]
  },
  {
   "cell_type": "code",
   "execution_count": 22,
   "id": "8d029335-7fd3-4b37-8cd2-892da20b5553",
   "metadata": {},
   "outputs": [],
   "source": [
    "from langchain_community.document_loaders import DirectoryLoader"
   ]
  },
  {
   "cell_type": "code",
   "execution_count": 23,
   "id": "2002e239-4a5d-491d-b02b-611ae0f6afcb",
   "metadata": {},
   "outputs": [],
   "source": [
    "loader = DirectoryLoader(\"./Speeches\")\n",
    "documents = loader.load()"
   ]
  },
  {
   "cell_type": "code",
   "execution_count": 24,
   "id": "75f71778-7d81-4510-972d-c63496ade675",
   "metadata": {},
   "outputs": [
    {
     "data": {
      "text/plain": [
       "{'source': 'Speeches/state_of_the_union_042921.txt'}"
      ]
     },
     "execution_count": 24,
     "metadata": {},
     "output_type": "execute_result"
    }
   ],
   "source": [
    "documents[3].metadata"
   ]
  },
  {
   "cell_type": "code",
   "execution_count": 25,
   "id": "83aac065-04c4-46fc-baed-cdb9bf2d9825",
   "metadata": {},
   "outputs": [],
   "source": [
    "for document in documents:\n",
    "    document.metadata['filename'] = document.metadata['source']"
   ]
  },
  {
   "cell_type": "code",
   "execution_count": 26,
   "id": "d216ada1-5fe6-4394-b1b2-3f468d879e66",
   "metadata": {},
   "outputs": [],
   "source": [
    "from ragas.testset.generator import TestsetGenerator\n",
    "from ragas.testset.evolutions import simple, reasoning, multi_context\n",
    "#from langchain_openai import ChatOpenAI, OpenAIEmbeddings"
   ]
  },
  {
   "cell_type": "code",
   "execution_count": 27,
   "id": "c356264f-3487-4e62-80ab-7f4810948fd9",
   "metadata": {},
   "outputs": [],
   "source": [
    "from ratelimit import limits, RateLimitException, sleep_and_retry\n",
    "from backoff import on_exception, expo\n",
    "import google.api_core.exceptions as google_exceptions\n",
    "\n"
   ]
  },
  {
   "cell_type": "code",
   "execution_count": 28,
   "id": "d2b846e0-b319-4e00-ae3a-8796cb4be771",
   "metadata": {},
   "outputs": [],
   "source": [
    "# generator with Gemini models\n",
    "# Note: had to edit underlying RAGAS library (cloned locally, edited files, then pip -e installed locally) for this issue re: temperature:\n",
    "# https://github.com/explodinggradients/ragas/pull/657/files\n",
    "\n",
    "# ToDo: Can you use the same model for generator and critic? These should be different than my main model with RAG, right?\n",
    "# I've seen third party examples with the same... I did it to start with testing\n",
    "# ToDo Future: Redo testset generation with different models than model for RAG\n",
    "generator_llm = ChatGoogleGenerativeAI(model=\"gemini-1.5-flash\", timeout=10) #, temperature=0.7, timeout=180, transport=\"rest\"\n",
    "critic_llm = ChatGoogleGenerativeAI(model=\"gemini-1.5-pro\", timeout=60)\n",
    "embeddings = GoogleGenerativeAIEmbeddings(model=\"models/text-embedding-004\") #transport=\"rest\" #, request_options={\"timeout\": 10} #, request_options={\"maxConcurrency\": 5}\n",
    "\n",
    "#LangchainLLMWrapper()\n",
    "generator = TestsetGenerator.from_langchain(\n",
    "    generator_llm,\n",
    "    critic_llm,\n",
    "    embeddings\n",
    ")"
   ]
  },
  {
   "cell_type": "code",
   "execution_count": 29,
   "id": "37cbf298-1103-4baa-82f2-e26ef76eb847",
   "metadata": {},
   "outputs": [],
   "source": [
    "# Possible future re-do to have fewer errors on quota being hit: work on retry / query limits for gemini to have this run\n",
    "# https://github.com/google-gemini/cookbook/blob/dc168d968b61b0f1603b743bc2deb73723a159f7/quickstarts/Error_handling.ipynb\n",
    "# https://medium.com/google-cloud/how-to-add-rate-limit-and-progress-bar-to-google-cloud-generative-ai-api-calls-502b89d35de8"
   ]
  },
  {
   "cell_type": "code",
   "execution_count": 30,
   "id": "a183dab1-128e-4b51-9cc7-017acbdcb950",
   "metadata": {},
   "outputs": [],
   "source": [
    "# RAGAS Gemini github issues\n",
    "#https://github.com/explodinggradients/ragas/issues/678\n",
    "#https://github.com/explodinggradients/ragas/pull/657/files"
   ]
  },
  {
   "cell_type": "code",
   "execution_count": 31,
   "id": "4ab50c64-08a0-450d-95c3-bc2a9d7cb088",
   "metadata": {},
   "outputs": [],
   "source": [
    "import typing as t"
   ]
  },
  {
   "cell_type": "code",
   "execution_count": 32,
   "id": "9cd22ec1-0bb5-4e12-8401-3866b2900d8e",
   "metadata": {},
   "outputs": [],
   "source": [
    "from ragas.run_config import RunConfig\n",
    "#from ragas.llms.base import llm_factory\n",
    "\n",
    "# Increase the timeout settings\n",
    "run_config = RunConfig(timeout=60, max_wait=180, max_workers=1, max_retries=10)  # Increase timeout to 120 seconds\n",
    "\n",
    "# Create the LLM with the increased timeout settings\n",
    "#llm = llm_factory(run_config=run_config)"
   ]
  },
  {
   "cell_type": "code",
   "execution_count": 33,
   "id": "ea76249e-a95d-421f-bc02-a290bbc94e3a",
   "metadata": {},
   "outputs": [],
   "source": [
    "# generate testset\n",
    "#testset = generator.generate_with_langchain_docs(documents, test_size=10, distributions={simple: 0.5, reasoning: 0.25, multi_context: 0.25})\n",
    "#@on_exception(expo, google_exceptions.ResourceExhausted, max_tries=10) # if we receive exceptions from Google API, retry\n",
    "\n",
    "#CALLS = 15\n",
    "#RATE_LIMIT = 60\n",
    "#@on_exception(expo, google_exceptions.ResourceExhausted, max_tries=10)\n",
    "#@sleep_and_retry # If there are more request to this function than rate, sleep shortly\n",
    "#@limits(calls=CALLS, period=RATE_LIMIT)\n",
    "def generate_testset_rate(docs):\n",
    "    \"\"\"\n",
    "    Calls the model and embeddings with rate limit\n",
    "    \"\"\"\n",
    "    testset = generator.generate_with_langchain_docs(docs, test_size=10, distributions={simple: 0.5, reasoning: 0.25, multi_context: 0.25}, run_config=run_config, raise_exceptions=True, is_async=False)\n",
    "    return testset"
   ]
  },
  {
   "cell_type": "code",
   "execution_count": 32,
   "id": "d3e6006a-7672-4bc2-80ee-af126e85d8ac",
   "metadata": {},
   "outputs": [
    {
     "data": {
      "application/vnd.jupyter.widget-view+json": {
       "model_id": "",
       "version_major": 2,
       "version_minor": 0
      },
      "text/plain": [
       "embedding nodes:   0%|          | 0/80 [00:00<?, ?it/s]"
      ]
     },
     "metadata": {},
     "output_type": "display_data"
    },
    {
     "name": "stdout",
     "output_type": "stream",
     "text": [
      "WARNING:langchain_google_genai.chat_models:Retrying langchain_google_genai.chat_models._achat_with_retry.<locals>._achat_with_retry in 2.0 seconds as it raised ResourceExhausted: 429 Resource has been exhausted (e.g. check quota)..\n",
      "Retrying langchain_google_genai.chat_models._achat_with_retry.<locals>._achat_with_retry in 2.0 seconds as it raised ResourceExhausted: 429 Resource has been exhausted (e.g. check quota)..\n",
      "WARNING:langchain_google_genai.chat_models:Retrying langchain_google_genai.chat_models._achat_with_retry.<locals>._achat_with_retry in 2.0 seconds as it raised ResourceExhausted: 429 Resource has been exhausted (e.g. check quota)..\n",
      "Retrying langchain_google_genai.chat_models._achat_with_retry.<locals>._achat_with_retry in 2.0 seconds as it raised ResourceExhausted: 429 Resource has been exhausted (e.g. check quota)..\n",
      "WARNING:langchain_google_genai.chat_models:Retrying langchain_google_genai.chat_models._achat_with_retry.<locals>._achat_with_retry in 2.0 seconds as it raised ResourceExhausted: 429 Resource has been exhausted (e.g. check quota)..\n",
      "Retrying langchain_google_genai.chat_models._achat_with_retry.<locals>._achat_with_retry in 2.0 seconds as it raised ResourceExhausted: 429 Resource has been exhausted (e.g. check quota)..\n",
      "WARNING:langchain_google_genai.chat_models:Retrying langchain_google_genai.chat_models._achat_with_retry.<locals>._achat_with_retry in 2.0 seconds as it raised ResourceExhausted: 429 Resource has been exhausted (e.g. check quota)..\n",
      "Retrying langchain_google_genai.chat_models._achat_with_retry.<locals>._achat_with_retry in 2.0 seconds as it raised ResourceExhausted: 429 Resource has been exhausted (e.g. check quota)..\n",
      "WARNING:langchain_google_genai.chat_models:Retrying langchain_google_genai.chat_models._achat_with_retry.<locals>._achat_with_retry in 2.0 seconds as it raised ResourceExhausted: 429 Resource has been exhausted (e.g. check quota)..\n",
      "Retrying langchain_google_genai.chat_models._achat_with_retry.<locals>._achat_with_retry in 2.0 seconds as it raised ResourceExhausted: 429 Resource has been exhausted (e.g. check quota)..\n",
      "WARNING:langchain_google_genai.chat_models:Retrying langchain_google_genai.chat_models._achat_with_retry.<locals>._achat_with_retry in 2.0 seconds as it raised ResourceExhausted: 429 Resource has been exhausted (e.g. check quota)..\n",
      "Retrying langchain_google_genai.chat_models._achat_with_retry.<locals>._achat_with_retry in 2.0 seconds as it raised ResourceExhausted: 429 Resource has been exhausted (e.g. check quota)..\n",
      "WARNING:langchain_google_genai.chat_models:Retrying langchain_google_genai.chat_models._achat_with_retry.<locals>._achat_with_retry in 2.0 seconds as it raised ResourceExhausted: 429 Resource has been exhausted (e.g. check quota)..\n",
      "Retrying langchain_google_genai.chat_models._achat_with_retry.<locals>._achat_with_retry in 2.0 seconds as it raised ResourceExhausted: 429 Resource has been exhausted (e.g. check quota)..\n",
      "WARNING:langchain_google_genai.chat_models:Retrying langchain_google_genai.chat_models._achat_with_retry.<locals>._achat_with_retry in 2.0 seconds as it raised ResourceExhausted: 429 Resource has been exhausted (e.g. check quota)..\n",
      "Retrying langchain_google_genai.chat_models._achat_with_retry.<locals>._achat_with_retry in 2.0 seconds as it raised ResourceExhausted: 429 Resource has been exhausted (e.g. check quota)..\n",
      "WARNING:langchain_google_genai.chat_models:Retrying langchain_google_genai.chat_models._achat_with_retry.<locals>._achat_with_retry in 2.0 seconds as it raised ResourceExhausted: 429 Resource has been exhausted (e.g. check quota)..\n",
      "Retrying langchain_google_genai.chat_models._achat_with_retry.<locals>._achat_with_retry in 2.0 seconds as it raised ResourceExhausted: 429 Resource has been exhausted (e.g. check quota)..\n",
      "WARNING:langchain_google_genai.chat_models:Retrying langchain_google_genai.chat_models._achat_with_retry.<locals>._achat_with_retry in 2.0 seconds as it raised ResourceExhausted: 429 Resource has been exhausted (e.g. check quota)..\n",
      "Retrying langchain_google_genai.chat_models._achat_with_retry.<locals>._achat_with_retry in 2.0 seconds as it raised ResourceExhausted: 429 Resource has been exhausted (e.g. check quota)..\n"
     ]
    },
    {
     "data": {
      "application/vnd.jupyter.widget-view+json": {
       "model_id": "3a65f0bb97ca4e7eb3ec21694ac13ccf",
       "version_major": 2,
       "version_minor": 0
      },
      "text/plain": [
       "Generating:   0%|          | 0/10 [00:00<?, ?it/s]"
      ]
     },
     "metadata": {},
     "output_type": "display_data"
    },
    {
     "name": "stdout",
     "output_type": "stream",
     "text": [
      "INFO:ragas.testset.evolutions:seed question generated: What specific actions does the speaker propose to address gun violence in the United States? \n",
      "\n",
      "seed question generated: What specific actions does the speaker propose to address gun violence in the United States? \n",
      "\n",
      "INFO:ragas.testset.evolutions:rewritten question: \"In President Biden's State of the Union address, what actions for gun violence prevention are mentioned after the speaker discusses the passage of the recent gun safety law?\"\n",
      "rewritten question: \"In President Biden's State of the Union address, what actions for gun violence prevention are mentioned after the speaker discusses the passage of the recent gun safety law?\"\n",
      "WARNING:langchain_google_genai.chat_models:Retrying langchain_google_genai.chat_models._achat_with_retry.<locals>._achat_with_retry in 2.0 seconds as it raised ResourceExhausted: 429 Resource has been exhausted (e.g. check quota)..\n",
      "Retrying langchain_google_genai.chat_models._achat_with_retry.<locals>._achat_with_retry in 2.0 seconds as it raised ResourceExhausted: 429 Resource has been exhausted (e.g. check quota)..\n",
      "WARNING:langchain_google_genai.chat_models:Retrying langchain_google_genai.chat_models._achat_with_retry.<locals>._achat_with_retry in 2.0 seconds as it raised ResourceExhausted: 429 Resource has been exhausted (e.g. check quota)..\n",
      "Retrying langchain_google_genai.chat_models._achat_with_retry.<locals>._achat_with_retry in 2.0 seconds as it raised ResourceExhausted: 429 Resource has been exhausted (e.g. check quota)..\n",
      "WARNING:langchain_google_genai.chat_models:Retrying langchain_google_genai.chat_models._achat_with_retry.<locals>._achat_with_retry in 2.0 seconds as it raised ResourceExhausted: 429 Resource has been exhausted (e.g. check quota)..\n",
      "Retrying langchain_google_genai.chat_models._achat_with_retry.<locals>._achat_with_retry in 2.0 seconds as it raised ResourceExhausted: 429 Resource has been exhausted (e.g. check quota)..\n",
      "WARNING:langchain_google_genai.chat_models:Retrying langchain_google_genai.chat_models._achat_with_retry.<locals>._achat_with_retry in 2.0 seconds as it raised ResourceExhausted: 429 Resource has been exhausted (e.g. check quota)..\n",
      "Retrying langchain_google_genai.chat_models._achat_with_retry.<locals>._achat_with_retry in 2.0 seconds as it raised ResourceExhausted: 429 Resource has been exhausted (e.g. check quota)..\n",
      "WARNING:langchain_google_genai.chat_models:Retrying langchain_google_genai.chat_models._achat_with_retry.<locals>._achat_with_retry in 2.0 seconds as it raised ResourceExhausted: 429 Resource has been exhausted (e.g. check quota)..\n",
      "Retrying langchain_google_genai.chat_models._achat_with_retry.<locals>._achat_with_retry in 2.0 seconds as it raised ResourceExhausted: 429 Resource has been exhausted (e.g. check quota)..\n",
      "WARNING:langchain_google_genai.chat_models:Retrying langchain_google_genai.chat_models._achat_with_retry.<locals>._achat_with_retry in 2.0 seconds as it raised ResourceExhausted: 429 Resource has been exhausted (e.g. check quota)..\n",
      "Retrying langchain_google_genai.chat_models._achat_with_retry.<locals>._achat_with_retry in 2.0 seconds as it raised ResourceExhausted: 429 Resource has been exhausted (e.g. check quota)..\n",
      "INFO:ragas.testset.evolutions:seed question generated: What does the author argue is under attack regarding reproductive rights and what steps does the author call for to address this issue? \n",
      "\n",
      "seed question generated: What does the author argue is under attack regarding reproductive rights and what steps does the author call for to address this issue? \n",
      "\n",
      "WARNING:langchain_google_genai.chat_models:Retrying langchain_google_genai.chat_models._achat_with_retry.<locals>._achat_with_retry in 2.0 seconds as it raised ResourceExhausted: 429 Resource has been exhausted (e.g. check quota)..\n",
      "Retrying langchain_google_genai.chat_models._achat_with_retry.<locals>._achat_with_retry in 2.0 seconds as it raised ResourceExhausted: 429 Resource has been exhausted (e.g. check quota)..\n",
      "WARNING:langchain_google_genai.chat_models:Retrying langchain_google_genai.chat_models._achat_with_retry.<locals>._achat_with_retry in 2.0 seconds as it raised ResourceExhausted: 429 Resource has been exhausted (e.g. check quota)..\n",
      "Retrying langchain_google_genai.chat_models._achat_with_retry.<locals>._achat_with_retry in 2.0 seconds as it raised ResourceExhausted: 429 Resource has been exhausted (e.g. check quota)..\n",
      "WARNING:langchain_google_genai.chat_models:Retrying langchain_google_genai.chat_models._achat_with_retry.<locals>._achat_with_retry in 2.0 seconds as it raised ResourceExhausted: 429 Resource has been exhausted (e.g. check quota)..\n",
      "Retrying langchain_google_genai.chat_models._achat_with_retry.<locals>._achat_with_retry in 2.0 seconds as it raised ResourceExhausted: 429 Resource has been exhausted (e.g. check quota)..\n",
      "WARNING:langchain_google_genai.chat_models:Retrying langchain_google_genai.chat_models._achat_with_retry.<locals>._achat_with_retry in 2.0 seconds as it raised ResourceExhausted: 429 Resource has been exhausted (e.g. check quota)..\n",
      "Retrying langchain_google_genai.chat_models._achat_with_retry.<locals>._achat_with_retry in 2.0 seconds as it raised ResourceExhausted: 429 Resource has been exhausted (e.g. check quota)..\n",
      "WARNING:langchain_google_genai.chat_models:Retrying langchain_google_genai.chat_models._achat_with_retry.<locals>._achat_with_retry in 2.0 seconds as it raised ResourceExhausted: 429 Resource has been exhausted (e.g. check quota)..\n",
      "Retrying langchain_google_genai.chat_models._achat_with_retry.<locals>._achat_with_retry in 2.0 seconds as it raised ResourceExhausted: 429 Resource has been exhausted (e.g. check quota)..\n",
      "WARNING:langchain_google_genai.chat_models:Retrying langchain_google_genai.chat_models._achat_with_retry.<locals>._achat_with_retry in 2.0 seconds as it raised ResourceExhausted: 429 Resource has been exhausted (e.g. check quota)..\n",
      "Retrying langchain_google_genai.chat_models._achat_with_retry.<locals>._achat_with_retry in 2.0 seconds as it raised ResourceExhausted: 429 Resource has been exhausted (e.g. check quota)..\n",
      "WARNING:langchain_google_genai.chat_models:Retrying langchain_google_genai.chat_models._achat_with_retry.<locals>._achat_with_retry in 2.0 seconds as it raised ResourceExhausted: 429 Resource has been exhausted (e.g. check quota)..\n",
      "Retrying langchain_google_genai.chat_models._achat_with_retry.<locals>._achat_with_retry in 2.0 seconds as it raised ResourceExhausted: 429 Resource has been exhausted (e.g. check quota)..\n",
      "INFO:ragas.testset.evolutions:retrying evolution: 0 times\n",
      "retrying evolution: 0 times\n",
      "INFO:ragas.testset.evolutions:seed question generated: What measures does the speaker propose to lower prescription drug costs in America? \n",
      "\n",
      "seed question generated: What measures does the speaker propose to lower prescription drug costs in America? \n",
      "\n",
      "WARNING:langchain_google_genai.chat_models:Retrying langchain_google_genai.chat_models._achat_with_retry.<locals>._achat_with_retry in 2.0 seconds as it raised ResourceExhausted: 429 Resource has been exhausted (e.g. check quota)..\n",
      "Retrying langchain_google_genai.chat_models._achat_with_retry.<locals>._achat_with_retry in 2.0 seconds as it raised ResourceExhausted: 429 Resource has been exhausted (e.g. check quota)..\n",
      "WARNING:langchain_google_genai.chat_models:Retrying langchain_google_genai.chat_models._achat_with_retry.<locals>._achat_with_retry in 2.0 seconds as it raised ResourceExhausted: 429 Resource has been exhausted (e.g. check quota)..\n",
      "Retrying langchain_google_genai.chat_models._achat_with_retry.<locals>._achat_with_retry in 2.0 seconds as it raised ResourceExhausted: 429 Resource has been exhausted (e.g. check quota)..\n",
      "WARNING:langchain_google_genai.chat_models:Retrying langchain_google_genai.chat_models._achat_with_retry.<locals>._achat_with_retry in 2.0 seconds as it raised ResourceExhausted: 429 Resource has been exhausted (e.g. check quota)..\n",
      "Retrying langchain_google_genai.chat_models._achat_with_retry.<locals>._achat_with_retry in 2.0 seconds as it raised ResourceExhausted: 429 Resource has been exhausted (e.g. check quota)..\n",
      "WARNING:langchain_google_genai.chat_models:Retrying langchain_google_genai.chat_models._achat_with_retry.<locals>._achat_with_retry in 2.0 seconds as it raised ResourceExhausted: 429 Resource has been exhausted (e.g. check quota)..\n",
      "Retrying langchain_google_genai.chat_models._achat_with_retry.<locals>._achat_with_retry in 2.0 seconds as it raised ResourceExhausted: 429 Resource has been exhausted (e.g. check quota)..\n",
      "WARNING:langchain_google_genai.chat_models:Retrying langchain_google_genai.chat_models._achat_with_retry.<locals>._achat_with_retry in 2.0 seconds as it raised ResourceExhausted: 429 Resource has been exhausted (e.g. check quota)..\n",
      "Retrying langchain_google_genai.chat_models._achat_with_retry.<locals>._achat_with_retry in 2.0 seconds as it raised ResourceExhausted: 429 Resource has been exhausted (e.g. check quota)..\n",
      "WARNING:langchain_google_genai.chat_models:Retrying langchain_google_genai.chat_models._achat_with_retry.<locals>._achat_with_retry in 2.0 seconds as it raised ResourceExhausted: 429 Resource has been exhausted (e.g. check quota)..\n",
      "Retrying langchain_google_genai.chat_models._achat_with_retry.<locals>._achat_with_retry in 2.0 seconds as it raised ResourceExhausted: 429 Resource has been exhausted (e.g. check quota)..\n",
      "INFO:ragas.testset.evolutions:seed question generated: How does the speaker view the competition between the United States and China, and what actions does he plan to take in response? \n",
      "\n",
      "seed question generated: How does the speaker view the competition between the United States and China, and what actions does he plan to take in response? \n",
      "\n",
      "INFO:ragas.testset.evolutions:rewritten question: \"How does **President Biden** view the competition between the United States and China, and what actions does he plan to take in response?\"\n",
      "rewritten question: \"How does **President Biden** view the competition between the United States and China, and what actions does he plan to take in response?\"\n",
      "WARNING:langchain_google_genai.chat_models:Retrying langchain_google_genai.chat_models._achat_with_retry.<locals>._achat_with_retry in 2.0 seconds as it raised ResourceExhausted: 429 Resource has been exhausted (e.g. check quota)..\n",
      "Retrying langchain_google_genai.chat_models._achat_with_retry.<locals>._achat_with_retry in 2.0 seconds as it raised ResourceExhausted: 429 Resource has been exhausted (e.g. check quota)..\n",
      "WARNING:langchain_google_genai.chat_models:Retrying langchain_google_genai.chat_models._achat_with_retry.<locals>._achat_with_retry in 2.0 seconds as it raised ResourceExhausted: 429 Resource has been exhausted (e.g. check quota)..\n",
      "Retrying langchain_google_genai.chat_models._achat_with_retry.<locals>._achat_with_retry in 2.0 seconds as it raised ResourceExhausted: 429 Resource has been exhausted (e.g. check quota)..\n",
      "WARNING:langchain_google_genai.chat_models:Retrying langchain_google_genai.chat_models._achat_with_retry.<locals>._achat_with_retry in 2.0 seconds as it raised ResourceExhausted: 429 Resource has been exhausted (e.g. check quota)..\n",
      "Retrying langchain_google_genai.chat_models._achat_with_retry.<locals>._achat_with_retry in 2.0 seconds as it raised ResourceExhausted: 429 Resource has been exhausted (e.g. check quota)..\n",
      "WARNING:langchain_google_genai.chat_models:Retrying langchain_google_genai.chat_models._achat_with_retry.<locals>._achat_with_retry in 2.0 seconds as it raised ResourceExhausted: 429 Resource has been exhausted (e.g. check quota)..\n",
      "Retrying langchain_google_genai.chat_models._achat_with_retry.<locals>._achat_with_retry in 2.0 seconds as it raised ResourceExhausted: 429 Resource has been exhausted (e.g. check quota)..\n",
      "WARNING:langchain_google_genai.chat_models:Retrying langchain_google_genai.chat_models._achat_with_retry.<locals>._achat_with_retry in 2.0 seconds as it raised ResourceExhausted: 429 Resource has been exhausted (e.g. check quota)..\n",
      "Retrying langchain_google_genai.chat_models._achat_with_retry.<locals>._achat_with_retry in 2.0 seconds as it raised ResourceExhausted: 429 Resource has been exhausted (e.g. check quota)..\n",
      "WARNING:langchain_google_genai.chat_models:Retrying langchain_google_genai.chat_models._achat_with_retry.<locals>._achat_with_retry in 2.0 seconds as it raised ResourceExhausted: 429 Resource has been exhausted (e.g. check quota)..\n",
      "Retrying langchain_google_genai.chat_models._achat_with_retry.<locals>._achat_with_retry in 2.0 seconds as it raised ResourceExhausted: 429 Resource has been exhausted (e.g. check quota)..\n",
      "WARNING:langchain_google_genai.chat_models:Retrying langchain_google_genai.chat_models._achat_with_retry.<locals>._achat_with_retry in 2.0 seconds as it raised ResourceExhausted: 429 Resource has been exhausted (e.g. check quota)..\n",
      "Retrying langchain_google_genai.chat_models._achat_with_retry.<locals>._achat_with_retry in 2.0 seconds as it raised ResourceExhausted: 429 Resource has been exhausted (e.g. check quota)..\n",
      "WARNING:langchain_google_genai.chat_models:Retrying langchain_google_genai.chat_models._achat_with_retry.<locals>._achat_with_retry in 2.0 seconds as it raised ResourceExhausted: 429 Resource has been exhausted (e.g. check quota)..\n",
      "Retrying langchain_google_genai.chat_models._achat_with_retry.<locals>._achat_with_retry in 2.0 seconds as it raised ResourceExhausted: 429 Resource has been exhausted (e.g. check quota)..\n",
      "WARNING:langchain_google_genai.chat_models:Retrying langchain_google_genai.chat_models._achat_with_retry.<locals>._achat_with_retry in 2.0 seconds as it raised ResourceExhausted: 429 Resource has been exhausted (e.g. check quota)..\n",
      "Retrying langchain_google_genai.chat_models._achat_with_retry.<locals>._achat_with_retry in 2.0 seconds as it raised ResourceExhausted: 429 Resource has been exhausted (e.g. check quota)..\n",
      "WARNING:langchain_google_genai.chat_models:Retrying langchain_google_genai.chat_models._achat_with_retry.<locals>._achat_with_retry in 2.0 seconds as it raised ResourceExhausted: 429 Resource has been exhausted (e.g. check quota)..\n",
      "Retrying langchain_google_genai.chat_models._achat_with_retry.<locals>._achat_with_retry in 2.0 seconds as it raised ResourceExhausted: 429 Resource has been exhausted (e.g. check quota)..\n",
      "WARNING:langchain_google_genai.chat_models:Retrying langchain_google_genai.chat_models._achat_with_retry.<locals>._achat_with_retry in 2.0 seconds as it raised ResourceExhausted: 429 Resource has been exhausted (e.g. check quota)..\n",
      "Retrying langchain_google_genai.chat_models._achat_with_retry.<locals>._achat_with_retry in 2.0 seconds as it raised ResourceExhausted: 429 Resource has been exhausted (e.g. check quota)..\n",
      "INFO:ragas.testset.evolutions:seed question generated: What is the speaker's opinion on the effectiveness of trickle-down economics and why does he believe it's time to focus on growing the economy from the bottom up? \n",
      "\n",
      "seed question generated: What is the speaker's opinion on the effectiveness of trickle-down economics and why does he believe it's time to focus on growing the economy from the bottom up? \n",
      "\n",
      "INFO:ragas.testset.evolutions:rewritten question: \"In his 2023 State of the Union address, what economic policy does President Biden reject, and what specific example does he use to support his alternative approach?\"\n",
      "rewritten question: \"In his 2023 State of the Union address, what economic policy does President Biden reject, and what specific example does he use to support his alternative approach?\"\n",
      "WARNING:langchain_google_genai.chat_models:Retrying langchain_google_genai.chat_models._achat_with_retry.<locals>._achat_with_retry in 2.0 seconds as it raised ResourceExhausted: 429 Resource has been exhausted (e.g. check quota)..\n",
      "Retrying langchain_google_genai.chat_models._achat_with_retry.<locals>._achat_with_retry in 2.0 seconds as it raised ResourceExhausted: 429 Resource has been exhausted (e.g. check quota)..\n",
      "WARNING:langchain_google_genai.chat_models:Retrying langchain_google_genai.chat_models._achat_with_retry.<locals>._achat_with_retry in 2.0 seconds as it raised ResourceExhausted: 429 Resource has been exhausted (e.g. check quota)..\n",
      "Retrying langchain_google_genai.chat_models._achat_with_retry.<locals>._achat_with_retry in 2.0 seconds as it raised ResourceExhausted: 429 Resource has been exhausted (e.g. check quota)..\n",
      "WARNING:langchain_google_genai.chat_models:Retrying langchain_google_genai.chat_models._achat_with_retry.<locals>._achat_with_retry in 2.0 seconds as it raised ResourceExhausted: 429 Resource has been exhausted (e.g. check quota)..\n",
      "Retrying langchain_google_genai.chat_models._achat_with_retry.<locals>._achat_with_retry in 2.0 seconds as it raised ResourceExhausted: 429 Resource has been exhausted (e.g. check quota)..\n",
      "WARNING:langchain_google_genai.chat_models:Retrying langchain_google_genai.chat_models._achat_with_retry.<locals>._achat_with_retry in 2.0 seconds as it raised ResourceExhausted: 429 Resource has been exhausted (e.g. check quota)..\n",
      "Retrying langchain_google_genai.chat_models._achat_with_retry.<locals>._achat_with_retry in 2.0 seconds as it raised ResourceExhausted: 429 Resource has been exhausted (e.g. check quota)..\n",
      "WARNING:langchain_google_genai.chat_models:Retrying langchain_google_genai.chat_models._achat_with_retry.<locals>._achat_with_retry in 2.0 seconds as it raised ResourceExhausted: 429 Resource has been exhausted (e.g. check quota)..\n",
      "Retrying langchain_google_genai.chat_models._achat_with_retry.<locals>._achat_with_retry in 2.0 seconds as it raised ResourceExhausted: 429 Resource has been exhausted (e.g. check quota)..\n",
      "WARNING:langchain_google_genai.chat_models:Retrying langchain_google_genai.chat_models._achat_with_retry.<locals>._achat_with_retry in 2.0 seconds as it raised ResourceExhausted: 429 Resource has been exhausted (e.g. check quota)..\n",
      "Retrying langchain_google_genai.chat_models._achat_with_retry.<locals>._achat_with_retry in 2.0 seconds as it raised ResourceExhausted: 429 Resource has been exhausted (e.g. check quota)..\n",
      "WARNING:langchain_google_genai.chat_models:Retrying langchain_google_genai.chat_models._achat_with_retry.<locals>._achat_with_retry in 2.0 seconds as it raised ResourceExhausted: 429 Resource has been exhausted (e.g. check quota)..\n",
      "Retrying langchain_google_genai.chat_models._achat_with_retry.<locals>._achat_with_retry in 2.0 seconds as it raised ResourceExhausted: 429 Resource has been exhausted (e.g. check quota)..\n",
      "INFO:ragas.testset.evolutions:seed question generated: What are the key challenges and opportunities the President outlines in his speech regarding rebuilding the nation? \n",
      "\n",
      "seed question generated: What are the key challenges and opportunities the President outlines in his speech regarding rebuilding the nation? \n",
      "\n",
      "WARNING:langchain_google_genai.chat_models:Retrying langchain_google_genai.chat_models._achat_with_retry.<locals>._achat_with_retry in 2.0 seconds as it raised ResourceExhausted: 429 Resource has been exhausted (e.g. check quota)..\n",
      "Retrying langchain_google_genai.chat_models._achat_with_retry.<locals>._achat_with_retry in 2.0 seconds as it raised ResourceExhausted: 429 Resource has been exhausted (e.g. check quota)..\n",
      "WARNING:langchain_google_genai.chat_models:Retrying langchain_google_genai.chat_models._achat_with_retry.<locals>._achat_with_retry in 2.0 seconds as it raised ResourceExhausted: 429 Resource has been exhausted (e.g. check quota)..\n",
      "Retrying langchain_google_genai.chat_models._achat_with_retry.<locals>._achat_with_retry in 2.0 seconds as it raised ResourceExhausted: 429 Resource has been exhausted (e.g. check quota)..\n",
      "WARNING:langchain_google_genai.chat_models:Retrying langchain_google_genai.chat_models._achat_with_retry.<locals>._achat_with_retry in 2.0 seconds as it raised ResourceExhausted: 429 Resource has been exhausted (e.g. check quota)..\n",
      "Retrying langchain_google_genai.chat_models._achat_with_retry.<locals>._achat_with_retry in 2.0 seconds as it raised ResourceExhausted: 429 Resource has been exhausted (e.g. check quota)..\n",
      "WARNING:langchain_google_genai.chat_models:Retrying langchain_google_genai.chat_models._achat_with_retry.<locals>._achat_with_retry in 2.0 seconds as it raised ResourceExhausted: 429 Resource has been exhausted (e.g. check quota)..\n",
      "Retrying langchain_google_genai.chat_models._achat_with_retry.<locals>._achat_with_retry in 2.0 seconds as it raised ResourceExhausted: 429 Resource has been exhausted (e.g. check quota)..\n",
      "WARNING:langchain_google_genai.chat_models:Retrying langchain_google_genai.chat_models._achat_with_retry.<locals>._achat_with_retry in 2.0 seconds as it raised ResourceExhausted: 429 Resource has been exhausted (e.g. check quota)..\n",
      "Retrying langchain_google_genai.chat_models._achat_with_retry.<locals>._achat_with_retry in 2.0 seconds as it raised ResourceExhausted: 429 Resource has been exhausted (e.g. check quota)..\n",
      "WARNING:langchain_google_genai.chat_models:Retrying langchain_google_genai.chat_models._achat_with_retry.<locals>._achat_with_retry in 2.0 seconds as it raised ResourceExhausted: 429 Resource has been exhausted (e.g. check quota)..\n",
      "Retrying langchain_google_genai.chat_models._achat_with_retry.<locals>._achat_with_retry in 2.0 seconds as it raised ResourceExhausted: 429 Resource has been exhausted (e.g. check quota)..\n",
      "WARNING:langchain_google_genai.chat_models:Retrying langchain_google_genai.chat_models._achat_with_retry.<locals>._achat_with_retry in 2.0 seconds as it raised ResourceExhausted: 429 Resource has been exhausted (e.g. check quota)..\n",
      "Retrying langchain_google_genai.chat_models._achat_with_retry.<locals>._achat_with_retry in 2.0 seconds as it raised ResourceExhausted: 429 Resource has been exhausted (e.g. check quota)..\n",
      "INFO:ragas.testset.evolutions:rewritten question: What are the key challenges and opportunities the President outlines in his speech regarding rebuilding the nation? \n",
      "\n",
      "rewritten question: What are the key challenges and opportunities the President outlines in his speech regarding rebuilding the nation? \n",
      "\n",
      "INFO:ragas.testset.evolutions:retrying evolution: 1 times\n",
      "retrying evolution: 1 times\n",
      "INFO:ragas.testset.evolutions:seed question generated: According to the speaker, why has \"trickle-down economics\" not worked and what economic approach does the speaker advocate for instead? \n",
      "\n",
      "seed question generated: According to the speaker, why has \"trickle-down economics\" not worked and what economic approach does the speaker advocate for instead? \n",
      "\n",
      "WARNING:langchain_google_genai.chat_models:Retrying langchain_google_genai.chat_models._achat_with_retry.<locals>._achat_with_retry in 2.0 seconds as it raised ResourceExhausted: 429 Resource has been exhausted (e.g. check quota)..\n",
      "Retrying langchain_google_genai.chat_models._achat_with_retry.<locals>._achat_with_retry in 2.0 seconds as it raised ResourceExhausted: 429 Resource has been exhausted (e.g. check quota)..\n",
      "WARNING:langchain_google_genai.chat_models:Retrying langchain_google_genai.chat_models._achat_with_retry.<locals>._achat_with_retry in 2.0 seconds as it raised ResourceExhausted: 429 Resource has been exhausted (e.g. check quota)..\n",
      "Retrying langchain_google_genai.chat_models._achat_with_retry.<locals>._achat_with_retry in 2.0 seconds as it raised ResourceExhausted: 429 Resource has been exhausted (e.g. check quota)..\n",
      "INFO:ragas.testset.evolutions:rewritten question: In the speech from President Biden, why has \"trickle-down economics\" not worked, and what economic approach does he advocate for instead?\n",
      "rewritten question: In the speech from President Biden, why has \"trickle-down economics\" not worked, and what economic approach does he advocate for instead?\n",
      "INFO:ragas.testset.evolutions:seed question generated: What are the challenges facing American democracy and how does the speaker believe it can overcome them? \n",
      "\n",
      "seed question generated: What are the challenges facing American democracy and how does the speaker believe it can overcome them? \n",
      "\n",
      "WARNING:langchain_google_genai.chat_models:Retrying langchain_google_genai.chat_models._achat_with_retry.<locals>._achat_with_retry in 2.0 seconds as it raised ResourceExhausted: 429 Resource has been exhausted (e.g. check quota)..\n",
      "Retrying langchain_google_genai.chat_models._achat_with_retry.<locals>._achat_with_retry in 2.0 seconds as it raised ResourceExhausted: 429 Resource has been exhausted (e.g. check quota)..\n",
      "WARNING:langchain_google_genai.chat_models:Retrying langchain_google_genai.chat_models._achat_with_retry.<locals>._achat_with_retry in 2.0 seconds as it raised ResourceExhausted: 429 Resource has been exhausted (e.g. check quota)..\n",
      "Retrying langchain_google_genai.chat_models._achat_with_retry.<locals>._achat_with_retry in 2.0 seconds as it raised ResourceExhausted: 429 Resource has been exhausted (e.g. check quota)..\n",
      "WARNING:langchain_google_genai.chat_models:Retrying langchain_google_genai.chat_models._achat_with_retry.<locals>._achat_with_retry in 2.0 seconds as it raised ResourceExhausted: 429 Resource has been exhausted (e.g. check quota)..\n",
      "Retrying langchain_google_genai.chat_models._achat_with_retry.<locals>._achat_with_retry in 2.0 seconds as it raised ResourceExhausted: 429 Resource has been exhausted (e.g. check quota)..\n",
      "WARNING:langchain_google_genai.chat_models:Retrying langchain_google_genai.chat_models._achat_with_retry.<locals>._achat_with_retry in 2.0 seconds as it raised ResourceExhausted: 429 Resource has been exhausted (e.g. check quota)..\n",
      "Retrying langchain_google_genai.chat_models._achat_with_retry.<locals>._achat_with_retry in 2.0 seconds as it raised ResourceExhausted: 429 Resource has been exhausted (e.g. check quota)..\n",
      "WARNING:langchain_google_genai.chat_models:Retrying langchain_google_genai.chat_models._achat_with_retry.<locals>._achat_with_retry in 2.0 seconds as it raised ResourceExhausted: 429 Resource has been exhausted (e.g. check quota)..\n",
      "Retrying langchain_google_genai.chat_models._achat_with_retry.<locals>._achat_with_retry in 2.0 seconds as it raised ResourceExhausted: 429 Resource has been exhausted (e.g. check quota)..\n",
      "WARNING:langchain_google_genai.chat_models:Retrying langchain_google_genai.chat_models._achat_with_retry.<locals>._achat_with_retry in 2.0 seconds as it raised ResourceExhausted: 429 Resource has been exhausted (e.g. check quota)..\n",
      "Retrying langchain_google_genai.chat_models._achat_with_retry.<locals>._achat_with_retry in 2.0 seconds as it raised ResourceExhausted: 429 Resource has been exhausted (e.g. check quota)..\n",
      "WARNING:langchain_google_genai.chat_models:Retrying langchain_google_genai.chat_models._achat_with_retry.<locals>._achat_with_retry in 2.0 seconds as it raised ResourceExhausted: 429 Resource has been exhausted (e.g. check quota)..\n",
      "Retrying langchain_google_genai.chat_models._achat_with_retry.<locals>._achat_with_retry in 2.0 seconds as it raised ResourceExhausted: 429 Resource has been exhausted (e.g. check quota)..\n",
      "INFO:ragas.testset.evolutions:rewritten question: What are the challenges facing American democracy according to President Biden in his address to Congress on April 28, 2021, and how does he believe it can overcome them?\n",
      "rewritten question: What are the challenges facing American democracy according to President Biden in his address to Congress on April 28, 2021, and how does he believe it can overcome them?\n",
      "WARNING:langchain_google_genai.chat_models:Retrying langchain_google_genai.chat_models._achat_with_retry.<locals>._achat_with_retry in 2.0 seconds as it raised ResourceExhausted: 429 Resource has been exhausted (e.g. check quota)..\n",
      "Retrying langchain_google_genai.chat_models._achat_with_retry.<locals>._achat_with_retry in 2.0 seconds as it raised ResourceExhausted: 429 Resource has been exhausted (e.g. check quota)..\n",
      "WARNING:langchain_google_genai.chat_models:Retrying langchain_google_genai.chat_models._achat_with_retry.<locals>._achat_with_retry in 2.0 seconds as it raised ResourceExhausted: 429 Resource has been exhausted (e.g. check quota)..\n",
      "Retrying langchain_google_genai.chat_models._achat_with_retry.<locals>._achat_with_retry in 2.0 seconds as it raised ResourceExhausted: 429 Resource has been exhausted (e.g. check quota)..\n",
      "WARNING:langchain_google_genai.chat_models:Retrying langchain_google_genai.chat_models._achat_with_retry.<locals>._achat_with_retry in 2.0 seconds as it raised ResourceExhausted: 429 Resource has been exhausted (e.g. check quota)..\n",
      "Retrying langchain_google_genai.chat_models._achat_with_retry.<locals>._achat_with_retry in 2.0 seconds as it raised ResourceExhausted: 429 Resource has been exhausted (e.g. check quota)..\n",
      "WARNING:langchain_google_genai.chat_models:Retrying langchain_google_genai.chat_models._achat_with_retry.<locals>._achat_with_retry in 2.0 seconds as it raised ResourceExhausted: 429 Resource has been exhausted (e.g. check quota)..\n",
      "Retrying langchain_google_genai.chat_models._achat_with_retry.<locals>._achat_with_retry in 2.0 seconds as it raised ResourceExhausted: 429 Resource has been exhausted (e.g. check quota)..\n",
      "WARNING:langchain_google_genai.chat_models:Retrying langchain_google_genai.chat_models._achat_with_retry.<locals>._achat_with_retry in 2.0 seconds as it raised ResourceExhausted: 429 Resource has been exhausted (e.g. check quota)..\n",
      "Retrying langchain_google_genai.chat_models._achat_with_retry.<locals>._achat_with_retry in 2.0 seconds as it raised ResourceExhausted: 429 Resource has been exhausted (e.g. check quota)..\n",
      "WARNING:langchain_google_genai.chat_models:Retrying langchain_google_genai.chat_models._achat_with_retry.<locals>._achat_with_retry in 2.0 seconds as it raised ResourceExhausted: 429 Resource has been exhausted (e.g. check quota)..\n",
      "Retrying langchain_google_genai.chat_models._achat_with_retry.<locals>._achat_with_retry in 2.0 seconds as it raised ResourceExhausted: 429 Resource has been exhausted (e.g. check quota)..\n",
      "INFO:ragas.testset.evolutions:seed question generated: What is the speaker's stance on the \"Buy American\" policy and how does it relate to past administrations? \n",
      "\n",
      "seed question generated: What is the speaker's stance on the \"Buy American\" policy and how does it relate to past administrations? \n",
      "\n",
      "WARNING:langchain_google_genai.chat_models:Retrying langchain_google_genai.chat_models._achat_with_retry.<locals>._achat_with_retry in 2.0 seconds as it raised ResourceExhausted: 429 Resource has been exhausted (e.g. check quota)..\n",
      "Retrying langchain_google_genai.chat_models._achat_with_retry.<locals>._achat_with_retry in 2.0 seconds as it raised ResourceExhausted: 429 Resource has been exhausted (e.g. check quota)..\n",
      "WARNING:langchain_google_genai.chat_models:Retrying langchain_google_genai.chat_models._achat_with_retry.<locals>._achat_with_retry in 2.0 seconds as it raised ResourceExhausted: 429 Resource has been exhausted (e.g. check quota)..\n",
      "Retrying langchain_google_genai.chat_models._achat_with_retry.<locals>._achat_with_retry in 2.0 seconds as it raised ResourceExhausted: 429 Resource has been exhausted (e.g. check quota)..\n",
      "WARNING:langchain_google_genai.chat_models:Retrying langchain_google_genai.chat_models._achat_with_retry.<locals>._achat_with_retry in 2.0 seconds as it raised ResourceExhausted: 429 Resource has been exhausted (e.g. check quota)..\n",
      "Retrying langchain_google_genai.chat_models._achat_with_retry.<locals>._achat_with_retry in 2.0 seconds as it raised ResourceExhausted: 429 Resource has been exhausted (e.g. check quota)..\n",
      "WARNING:langchain_google_genai.chat_models:Retrying langchain_google_genai.chat_models._achat_with_retry.<locals>._achat_with_retry in 2.0 seconds as it raised ResourceExhausted: 429 Resource has been exhausted (e.g. check quota)..\n",
      "Retrying langchain_google_genai.chat_models._achat_with_retry.<locals>._achat_with_retry in 2.0 seconds as it raised ResourceExhausted: 429 Resource has been exhausted (e.g. check quota)..\n",
      "WARNING:langchain_google_genai.chat_models:Retrying langchain_google_genai.chat_models._achat_with_retry.<locals>._achat_with_retry in 2.0 seconds as it raised ResourceExhausted: 429 Resource has been exhausted (e.g. check quota)..\n",
      "Retrying langchain_google_genai.chat_models._achat_with_retry.<locals>._achat_with_retry in 2.0 seconds as it raised ResourceExhausted: 429 Resource has been exhausted (e.g. check quota)..\n",
      "WARNING:langchain_google_genai.chat_models:Retrying langchain_google_genai.chat_models._achat_with_retry.<locals>._achat_with_retry in 2.0 seconds as it raised ResourceExhausted: 429 Resource has been exhausted (e.g. check quota)..\n",
      "Retrying langchain_google_genai.chat_models._achat_with_retry.<locals>._achat_with_retry in 2.0 seconds as it raised ResourceExhausted: 429 Resource has been exhausted (e.g. check quota)..\n",
      "INFO:ragas.testset.evolutions:retrying evolution: 0 times\n",
      "retrying evolution: 0 times\n",
      "INFO:ragas.testset.evolutions:seed question generated: How does the speaker's plan aim to stimulate economic growth? \n",
      "\n",
      "seed question generated: How does the speaker's plan aim to stimulate economic growth? \n",
      "\n",
      "INFO:ragas.testset.evolutions:rewritten question: How does the speaker's plan outlined in this speech aim to stimulate economic growth?\n",
      "rewritten question: How does the speaker's plan outlined in this speech aim to stimulate economic growth?\n",
      "WARNING:langchain_google_genai.chat_models:Retrying langchain_google_genai.chat_models._achat_with_retry.<locals>._achat_with_retry in 2.0 seconds as it raised ResourceExhausted: 429 Resource has been exhausted (e.g. check quota)..\n",
      "Retrying langchain_google_genai.chat_models._achat_with_retry.<locals>._achat_with_retry in 2.0 seconds as it raised ResourceExhausted: 429 Resource has been exhausted (e.g. check quota)..\n",
      "WARNING:langchain_google_genai.chat_models:Retrying langchain_google_genai.chat_models._achat_with_retry.<locals>._achat_with_retry in 2.0 seconds as it raised ResourceExhausted: 429 Resource has been exhausted (e.g. check quota)..\n",
      "Retrying langchain_google_genai.chat_models._achat_with_retry.<locals>._achat_with_retry in 2.0 seconds as it raised ResourceExhausted: 429 Resource has been exhausted (e.g. check quota)..\n",
      "WARNING:langchain_google_genai.chat_models:Retrying langchain_google_genai.chat_models._achat_with_retry.<locals>._achat_with_retry in 2.0 seconds as it raised ResourceExhausted: 429 Resource has been exhausted (e.g. check quota)..\n",
      "Retrying langchain_google_genai.chat_models._achat_with_retry.<locals>._achat_with_retry in 2.0 seconds as it raised ResourceExhausted: 429 Resource has been exhausted (e.g. check quota)..\n",
      "WARNING:langchain_google_genai.chat_models:Retrying langchain_google_genai.chat_models._achat_with_retry.<locals>._achat_with_retry in 2.0 seconds as it raised ResourceExhausted: 429 Resource has been exhausted (e.g. check quota)..\n",
      "Retrying langchain_google_genai.chat_models._achat_with_retry.<locals>._achat_with_retry in 2.0 seconds as it raised ResourceExhausted: 429 Resource has been exhausted (e.g. check quota)..\n",
      "WARNING:langchain_google_genai.chat_models:Retrying langchain_google_genai.chat_models._achat_with_retry.<locals>._achat_with_retry in 2.0 seconds as it raised ResourceExhausted: 429 Resource has been exhausted (e.g. check quota)..\n",
      "Retrying langchain_google_genai.chat_models._achat_with_retry.<locals>._achat_with_retry in 2.0 seconds as it raised ResourceExhausted: 429 Resource has been exhausted (e.g. check quota)..\n",
      "WARNING:langchain_google_genai.chat_models:Retrying langchain_google_genai.chat_models._achat_with_retry.<locals>._achat_with_retry in 2.0 seconds as it raised ResourceExhausted: 429 Resource has been exhausted (e.g. check quota)..\n",
      "Retrying langchain_google_genai.chat_models._achat_with_retry.<locals>._achat_with_retry in 2.0 seconds as it raised ResourceExhausted: 429 Resource has been exhausted (e.g. check quota)..\n",
      "INFO:ragas.testset.evolutions:retrying evolution: 1 times\n",
      "retrying evolution: 1 times\n",
      "INFO:ragas.testset.evolutions:seed question generated: What are the president's proposals for addressing the current conflict, including both immediate and long-term solutions? \n",
      "\n",
      "seed question generated: What are the president's proposals for addressing the current conflict, including both immediate and long-term solutions? \n",
      "\n",
      "INFO:ragas.testset.evolutions:rewritten question: What are President Biden's proposals for addressing the ongoing conflict between Israel and Hamas, including both immediate and long-term solutions?\n",
      "rewritten question: What are President Biden's proposals for addressing the ongoing conflict between Israel and Hamas, including both immediate and long-term solutions?\n",
      "WARNING:langchain_google_genai.chat_models:Retrying langchain_google_genai.chat_models._achat_with_retry.<locals>._achat_with_retry in 2.0 seconds as it raised ResourceExhausted: 429 Resource has been exhausted (e.g. check quota)..\n",
      "Retrying langchain_google_genai.chat_models._achat_with_retry.<locals>._achat_with_retry in 2.0 seconds as it raised ResourceExhausted: 429 Resource has been exhausted (e.g. check quota)..\n",
      "WARNING:langchain_google_genai.chat_models:Retrying langchain_google_genai.chat_models._achat_with_retry.<locals>._achat_with_retry in 2.0 seconds as it raised ResourceExhausted: 429 Resource has been exhausted (e.g. check quota)..\n",
      "Retrying langchain_google_genai.chat_models._achat_with_retry.<locals>._achat_with_retry in 2.0 seconds as it raised ResourceExhausted: 429 Resource has been exhausted (e.g. check quota)..\n",
      "WARNING:langchain_google_genai.chat_models:Retrying langchain_google_genai.chat_models._achat_with_retry.<locals>._achat_with_retry in 2.0 seconds as it raised ResourceExhausted: 429 Resource has been exhausted (e.g. check quota)..\n",
      "Retrying langchain_google_genai.chat_models._achat_with_retry.<locals>._achat_with_retry in 2.0 seconds as it raised ResourceExhausted: 429 Resource has been exhausted (e.g. check quota)..\n",
      "WARNING:langchain_google_genai.chat_models:Retrying langchain_google_genai.chat_models._achat_with_retry.<locals>._achat_with_retry in 2.0 seconds as it raised ResourceExhausted: 429 Resource has been exhausted (e.g. check quota)..\n",
      "Retrying langchain_google_genai.chat_models._achat_with_retry.<locals>._achat_with_retry in 2.0 seconds as it raised ResourceExhausted: 429 Resource has been exhausted (e.g. check quota)..\n",
      "WARNING:langchain_google_genai.chat_models:Retrying langchain_google_genai.chat_models._achat_with_retry.<locals>._achat_with_retry in 2.0 seconds as it raised ResourceExhausted: 429 Resource has been exhausted (e.g. check quota)..\n",
      "Retrying langchain_google_genai.chat_models._achat_with_retry.<locals>._achat_with_retry in 2.0 seconds as it raised ResourceExhausted: 429 Resource has been exhausted (e.g. check quota)..\n",
      "WARNING:langchain_google_genai.chat_models:Retrying langchain_google_genai.chat_models._achat_with_retry.<locals>._achat_with_retry in 2.0 seconds as it raised ResourceExhausted: 429 Resource has been exhausted (e.g. check quota)..\n",
      "Retrying langchain_google_genai.chat_models._achat_with_retry.<locals>._achat_with_retry in 2.0 seconds as it raised ResourceExhausted: 429 Resource has been exhausted (e.g. check quota)..\n",
      "WARNING:langchain_google_genai.chat_models:Retrying langchain_google_genai.chat_models._achat_with_retry.<locals>._achat_with_retry in 2.0 seconds as it raised ResourceExhausted: 429 Resource has been exhausted (e.g. check quota)..\n",
      "Retrying langchain_google_genai.chat_models._achat_with_retry.<locals>._achat_with_retry in 2.0 seconds as it raised ResourceExhausted: 429 Resource has been exhausted (e.g. check quota)..\n",
      "INFO:ragas.testset.evolutions:seed question generated: What are the four key components of the President's Unity Agenda for the Nation? \n",
      "\n",
      "seed question generated: What are the four key components of the President's Unity Agenda for the Nation? \n",
      "\n",
      "WARNING:langchain_google_genai.chat_models:Retrying langchain_google_genai.chat_models._achat_with_retry.<locals>._achat_with_retry in 2.0 seconds as it raised ResourceExhausted: 429 Resource has been exhausted (e.g. check quota)..\n",
      "Retrying langchain_google_genai.chat_models._achat_with_retry.<locals>._achat_with_retry in 2.0 seconds as it raised ResourceExhausted: 429 Resource has been exhausted (e.g. check quota)..\n",
      "WARNING:langchain_google_genai.chat_models:Retrying langchain_google_genai.chat_models._achat_with_retry.<locals>._achat_with_retry in 2.0 seconds as it raised ResourceExhausted: 429 Resource has been exhausted (e.g. check quota)..\n",
      "Retrying langchain_google_genai.chat_models._achat_with_retry.<locals>._achat_with_retry in 2.0 seconds as it raised ResourceExhausted: 429 Resource has been exhausted (e.g. check quota)..\n",
      "WARNING:langchain_google_genai.chat_models:Retrying langchain_google_genai.chat_models._achat_with_retry.<locals>._achat_with_retry in 2.0 seconds as it raised ResourceExhausted: 429 Resource has been exhausted (e.g. check quota)..\n",
      "Retrying langchain_google_genai.chat_models._achat_with_retry.<locals>._achat_with_retry in 2.0 seconds as it raised ResourceExhausted: 429 Resource has been exhausted (e.g. check quota)..\n",
      "WARNING:langchain_google_genai.chat_models:Retrying langchain_google_genai.chat_models._achat_with_retry.<locals>._achat_with_retry in 2.0 seconds as it raised ResourceExhausted: 429 Resource has been exhausted (e.g. check quota)..\n",
      "Retrying langchain_google_genai.chat_models._achat_with_retry.<locals>._achat_with_retry in 2.0 seconds as it raised ResourceExhausted: 429 Resource has been exhausted (e.g. check quota)..\n",
      "WARNING:langchain_google_genai.chat_models:Retrying langchain_google_genai.chat_models._achat_with_retry.<locals>._achat_with_retry in 2.0 seconds as it raised ResourceExhausted: 429 Resource has been exhausted (e.g. check quota)..\n",
      "Retrying langchain_google_genai.chat_models._achat_with_retry.<locals>._achat_with_retry in 2.0 seconds as it raised ResourceExhausted: 429 Resource has been exhausted (e.g. check quota)..\n",
      "WARNING:langchain_google_genai.chat_models:Retrying langchain_google_genai.chat_models._achat_with_retry.<locals>._achat_with_retry in 2.0 seconds as it raised ResourceExhausted: 429 Resource has been exhausted (e.g. check quota)..\n",
      "Retrying langchain_google_genai.chat_models._achat_with_retry.<locals>._achat_with_retry in 2.0 seconds as it raised ResourceExhausted: 429 Resource has been exhausted (e.g. check quota)..\n",
      "WARNING:langchain_google_genai.chat_models:Retrying langchain_google_genai.chat_models._achat_with_retry.<locals>._achat_with_retry in 2.0 seconds as it raised ResourceExhausted: 429 Resource has been exhausted (e.g. check quota)..\n",
      "Retrying langchain_google_genai.chat_models._achat_with_retry.<locals>._achat_with_retry in 2.0 seconds as it raised ResourceExhausted: 429 Resource has been exhausted (e.g. check quota)..\n"
     ]
    }
   ],
   "source": [
    "# stopped here 8/21: https://github.com/explodinggradients/ragas/issues/624 stopped here, changed to these settings, will try again tomorrow 8/22\n",
    "# ToDo: Still generated lots of 429 resource exhausted requests... but it did help and everything finished. Need to reduce # requests more still\n",
    "testset = generate_testset_rate(documents) #make_request_with_backoff() "
   ]
  },
  {
   "cell_type": "code",
   "execution_count": 33,
   "id": "feb61c25-4bd2-4f83-ae0c-9327bdcf7289",
   "metadata": {},
   "outputs": [
    {
     "data": {
      "text/plain": [
       "TestDataset(test_data=[DataRow(question='What does the author argue is under attack regarding reproductive rights and what steps does the author call for to address this issue? \\n', contexts=[' workers they need and families don’t wait decades to reunite.\\n\\nIt’s not only the right thing to do—it’s the economically smart thing to do.\\n\\nThat’s why immigration reform is supported by everyone from labor unions to religious leaders to the U.S. Chamber of Commerce.\\n\\nLet’s get it done once and for all.\\n\\nAdvancing liberty and justice also requires protecting the rights of women.\\n\\nThe constitutional right affirmed in Roe v. Wade—standing precedent for half a century—is under attack as never before.\\n\\nIf we want to go forward—not backward—we must protect access to health care. Preserve a woman’s right to choose. And let’s continue to advance maternal health care in America.\\n\\nAnd for our LGBTQ+ Americans, let’s finally get the bipartisan Equality Act to my desk. The onslaught of state laws targeting transgender Americans and their families is wrong.\\n\\nAs I said last year, especially to our younger transgender Americans, I will always have your back as your President, so you can be yourself and reach your God-given potential.\\n\\nWhile it often appears that we never agree, that isn’t true. I signed 80 bipartisan bills into law last year. From preventing government shutdowns to protecting Asian-Americans from still-too-common hate crimes to reforming military justice.\\n\\nAnd soon, we’ll strengthen the Violence Against Women Act that I first wrote three decades ago. It is important for us to show the nation that we can come together and do big things.\\n\\nSo tonight I’m offering a Unity Agenda for the Nation. Four big things we can do together.\\n\\nFirst, beat the opioid epidemic.\\n\\nThere is so much we can do. Increase funding for prevention, treatment, harm reduction, and recovery.\\n\\nGet rid of outdated rules that stop doctors from prescribing treatments. And stop the flow of illicit drugs by working with state and local law enforcement to go after traffickers.\\n\\nIf you’re suffering from addiction, know you are not alone. I believe in recovery, and I celebrate the 23 million Americans in recovery.\\n\\nSecond, let’s take on mental health. Especially among our children, whose lives and education have been turned upside down.\\n\\nThe American Rescue Plan gave schools money to hire teachers and help students make up for lost learning.\\n\\nI urge every parent to make sure your school does just that. And we can all play a part—sign up to be a tutor or a mentor.\\n\\nChildren were also struggling before the pandemic. Bullying, violence, trauma, and the harms of social media.\\n\\nAs Frances Haugen, who is here with us tonight, has shown, we must hold social media platforms accountable for the national experiment they’re conducting on our children for profit.\\n\\nIt’s time to strengthen privacy protections, ban targeted advertising to children, demand tech companies stop collecting personal data on our children.\\n\\nAnd let’s get all Americans the mental health services they need. More people they can turn to for help, and full parity between physical and mental health care.\\n\\nThird, support our veterans.\\n\\nVeterans are the best of us.\\n\\nI’ve always believed that we have a sacred obligation to equip all those we send to war and care for them and their families when they come home.\\n\\nMy administration is providing assistance with job training and housing, and now helping lower-income veterans get VA care debt-free.\\n\\nOur troops in Iraq and Afghanistan faced many dangers.\\n\\nOne was stationed at bases and breathing in toxic smoke from “burn pits” that incinerated wastes of war—medical and hazard material, jet fuel, and more.\\n\\nWhen they came home, many of the world’s fittest and best trained warriors were never the same.\\n\\nHeadaches. Numbness. Dizziness.\\n\\nA cancer that would put them in a flag-draped coffin.\\n\\nI know.\\n\\nOne of those soldiers was my son Major Beau Biden.\\n\\nWe don’t know for sure if a burn pit was the cause of his brain cancer, or the diseases of so many of our troops.\\n\\nBut I’m committed to finding out everything we can.\\n\\nCommitted to military families like Danielle Robinson from Ohio.\\n\\nThe widow of Sergeant First Class Heath Robinson.\\n\\nHe was born a soldier. Army National Guard. Combat medic in Kosovo and Iraq.\\n\\nStationed near Baghdad, just yards from burn pits the size of football fields.\\n\\nHeath’s widow Danielle is here with us tonight. They loved going to Ohio State football games. He loved building Legos with their daughter.\\n\\nBut cancer from prolonged exposure to burn pits ravaged Heath�'], ground_truth=\"The author argues that the constitutional right to abortion, established by Roe v. Wade, is under attack. To address this issue, the author calls for protecting access to health care and preserving a woman's right to choose.\", evolution_type='simple', metadata=[{'source': 'Speeches/state_of_the_union_030122.txt', 'filename': 'Speeches/state_of_the_union_030122.txt'}]), DataRow(question='In the speech from President Biden, why has \"trickle-down economics\" not worked, and what economic approach does he advocate for instead?', contexts=[' more than a million dollars a year and pay a lower tax rate on their capital gains than Americans who receive a paycheck. We’re only going to affect three tenths of 1 percent of all Americans by that action. Three tenths of 1 percent.\\n\\nAnd the IRS is going to crack down on millionaires and billionaires who cheat on their taxes. It’s estimated to be billions of dollars by think tanks that are left, right, and center.\\n\\nI’m not looking to punish anybody. But I will not add a tax burden — an additional tax burden to the middle class in this country. They’re already paying enough. I believe what I propose is fair — (applause) — fiscally responsible, and it raises revenue to pay for the plans I have proposed, and will create millions of jobs that will grow the economy and enhance our financial standing in the country.\\n\\nWhen you hear someone say that they don’t want to raise taxes on the wealthiest 1 percent or corporate America, ask them: “Whose taxes you want to raise instead? Whose are you going to cut?”\\n\\nLook, the big tax cut of 2017 — remember, it was supposed to pay for itself — that was how it was sold — and generate vast economic growth. Instead, it added $2 trillion to the deficit. It was a huge windfall for corporate America and those at the very top.\\n\\nInstead of using the tax saving to raise wages and invest in research and development, it poured billions of dollars into the pockets of CEOs. In fact, the pay gap between CEOs and their workers is now among the largest in history.\\n\\nAccording to one study, CEOs make 320 times what the average worker in their corporation makes. It used to be in the — below a hundred.\\n\\nThe pandemic has only made things worse. Twenty million Americans lost their job in the pandemic — working- and middle-class Americans. At the same time, roughly 650 billionaires in America saw their net worth increase by more than $1 trillion — in the same exact period. Let me say it again: 650 people increased their wealth by more than $1 trillion during this pandemic. And they’re now worth more than $4 trillion.\\n\\nMy fellow Americans, trickle-down — trickle-down economics has never worked and it’s time to grow the economy from the bottom and the middle out. (Applause.)\\n\\nYou know, there’s a broad consensus of economists — left, right, center — and they agree what I’m proposing will help create millions of jobs and generate historic economic growth. These are among the highest-value investments we can make as a nation.\\n\\nI’ve often said: Our greatest strength is the power of our example, not just the example of our power.\\n\\nIn my conversations with world leaders — and I’ve spoken to over 38, 40 of them now — I’ve made it known — I’ve made it known that America is back. And you know what they say? The comment that I hear most of all from them is they say, “We see America is back but for how long? But for how long?”\\n\\nMy fellow Americans, we have to show not just that we’re back, but that we’re back to stay and that we aren’t going to go it alone. (Applause.) We’re going to do it by leading with our allies. (Applause.)\\n\\nNo one nation can deal with all the crises of our time — from terrorism, to nuclear proliferation, mass migration, cybersecurity, climate change, as well as experi- — what we’re experiencing now with pandemics.\\n\\nThere’s no wall high enough to keep any virus out. And our own vaccine supply — as it grows to meet our needs; and we’re meeting them — will become an arsenal of vaccines for other countries, just as America was the arsenal of democracy for the world — (applause) — and in consequence, influenced the world. (Applause.)\\n\\nBut every American will have access before that occur- — every American will have access to be fully covered by COVID-19 — from the vaccines we have.\\n\\nLook, the climate crisis is not our fight alone; it’s a global fight. The United States accounts, as all of you know, less than 15 percent of carbon emissions. The rest of the world accounts for 85 percent. That’s why I kept my commitment to rejoin the Paris Accord — because if we do everything perfectly, it’s not going to ultimately matter.\\n\\nI kept my commitment to convene a climate summit right here in America with all of the major economies of the world — China, Russia, India, the European Union —'], ground_truth='President Biden states that \"trickle-down economics\" has never worked because it has not resulted in economic growth from the bottom and middle out. Instead, he advocates for an economic approach that grows the economy from the bottom and middle out.', evolution_type='simple', metadata=[{'source': 'Speeches/state_of_the_union_042921.txt', 'filename': 'Speeches/state_of_the_union_042921.txt'}]), DataRow(question='What is the speaker\\'s stance on the \"Buy American\" policy and how does it relate to past administrations? \\n', contexts=[' right here in America where they belong!\\n\\nAnd the American people are beginning to feel it.\\n\\nConsumer studies show consumer confidence is soaring.\\n\\nBuy American has been the law of the land since the 1930s.\\n\\nPast administrations including my predecessor failed to Buy American.\\n\\nNot any more.\\n\\nOn my watch, federal projects like helping to build American roads bridges and highways will be made with American products built by American workers creating good-paying American jobs!\\n\\nThanks to my Chips and Science Act the United States is investing more in research and development than ever before.\\n\\nDuring the pandemic a shortage of semiconductor chips drove up prices for everything from cell phones to automobiles.\\n\\nWell instead of having to import semiconductor chips, which America invented I might add, private companies are now investing billions of dollars to build new chip factories here in America!\\n\\nCreating tens of thousands of jobs many of them paying over $100,000 a year and don’t require a college degree.\\n\\nIn fact my policies have attracted $650 Billion of private sector investments in clean energy and advanced manufacturing creating tens of thousands of jobs here in America!\\n\\nThanks to our Bipartisan Infrastructure Law, 46,000 new projects have been announced across your communities – modernizing our roads and bridges, ports and airports, and public transit systems.\\n\\nRemoving poisonous lead pipes so every child can drink clean water without risk of getting brain damage.\\n\\nProviding affordable high speed internet for every American no matter where you live.\\n\\nUrban, suburban, and rural communities — in red states and blue.\\n\\nRecord investments in tribal communities.\\n\\nBecause of my investments, family farms are better be able to stay in the family and children and grandchildren won’t have to leave home to make a living.\\n\\nIt’s transformative.\\n\\nA great comeback story is Belvidere, Illinois. Home to an auto plant for nearly 60 years.\\n\\nBefore I came to office the plant was on its way to shutting down.\\n\\nThousands of workers feared for their livelihoods. Hope was fading.\\n\\nThen I was elected to office and we raised Belvidere repeatedly with the auto company knowing unions make all the difference.\\n\\nThe UAW worked like hell to keep the plant open and get those jobs back. And together, we succeeded!\\n\\nInstead of an auto factory shutting down an auto factory is re-opening and a new state-of-the art battery factory is being built to power those cars.\\n\\nInstead of a town being left behind it’s a community moving forward again!\\n\\nBecause instead of watching auto jobs of the future go overseas 4,000 union workers with higher wages will be building that future, in Belvidere, here in America!\\n\\nHere tonight is UAW President, Shawn Fain, a great friend, and a great labor leader.\\n\\nAnd Dawn Simms, a third generation UAW worker  in Belvidere.\\n\\nShawn, I was proud to be the first President in American history to walk a picket line.\\n\\nAnd today Dawn has a job in her hometown providing stability for her family and pride and dignity.\\n\\nShowing once again, Wall Street didn’t build this country!\\n\\nThe middle class built this country! And unions built the middle class!\\n\\nWhen Americans get knocked down, we get back up!\\n\\nWe keep going!\\n\\nThat’s America! That’s you, the American people!\\n\\nIt’s because of you America is coming back!\\n\\nIt’s because of you, our future is brighter!\\n\\nAnd it’s because of you that tonight we can proudly say the State of our Union is strong and getting stronger!\\n\\nTonight I want to talk about the future of possibilities that we can build together.\\n\\nA future where the days of trickle-down economics are over and the wealthy and biggest corporations no longer get all the breaks.\\n\\nI grew up in a home where not a lot trickled down on my Dad’s kitchen table.\\n\\nThat’s why I’m determined to turn things around so the middle class does well the poor have a way up and the wealthy still does well.\\n\\nWe all do well.\\n\\nAnd there’s more to do to make sure you’re feeling the benefits of all we’re doing.\\n\\nAmericans pay more for prescription drugs than anywhere else.\\n\\nIt’s wrong and I’m ending it.\\n\\nWith a law I proposed and signed and not one Republican voted for we finally beat Big Pharma!\\n\\nInstead of paying $400 a month for insulin seniors with diabetes only have to pay $35 a month!\\n\\nAnd now I want to cap the cost of insulin at $35 a month for'], ground_truth='The speaker believes in the \"Buy American\" policy and states that it has been the law of the land since the 1930s. The speaker criticizes past administrations, including his predecessor, for failing to enforce this policy. He asserts that under his watch, federal projects will utilize American products and create jobs for American workers.', evolution_type='simple', metadata=[{'source': 'Speeches/state_of_the_union_030724.txt', 'filename': 'Speeches/state_of_the_union_030724.txt'}]), DataRow(question='What measures does the speaker propose to lower prescription drug costs in America? \\n', contexts=['- a parent, a spouse, or child.\\n\\nAnd fourth, the American Family Plan puts directly into the pockets of millions of Americans. In March, we expanded a tax credit for every child in a family. Up to a $3,000 per child if they’re under [over]* six years of age — I mean, excuse me — under — over six years of age, and $3,600 for children over [under]* six years of age.\\n\\nWith two parents, two kids, that’s $7,200 in the pockets that’s going to help to take care of your family. And that will help more than 65 million children and help cut childcare [child] poverty in half. (Applause.) And we can afford it.\\n\\nSo we did that in the rec- — in the — in the last piece of legislation we passed. But let’s extend that Child Care Tax Credit at least through the end of 2025. (Applause.)\\n\\nThe American Rescue Plan lowered healthcare premiums for 9 million Americans who buy their coverage under the Affordable Care Act. I know that’s really popular on this side of the aisle. (Laughter.) But let’s make that provision permanent so their premiums don’t go back up. (Applause.)\\n\\nIn addition to my Families Plan, I’m going to work with Congress to address, this year, other critical priorities for American families.\\n\\nThe Affordable Care Act has been a lifeline for millions of Americans, protecting people with preexisting conditions, protecting women’s health. And the pandemic has demonstrated how badly — how badly it’s needed. Let’s lower deductibles for working families on the Affordable Care — in the Affordable Care Act. (Applause.) And let’s lower prescription drug costs. (Applause.)\\n\\nWe know how to do this. The last President had that as an objective. We all know how outrageously expensive drugs are in America.\\n\\nIn fact, we pay the highest prescription drug prices of anywhere in the world right here in America — nearly three times — for the same drug, nearly three times what other countries pay. We have to change that, and we can.\\n\\nLet’s do what we’ve always talked about for all the years I was down here in this — in this body — in Congress. Let’s give Medicare the power to save hundreds of billions of dollars by negotiating lower drug prescription prices. (Applause.)\\n\\nAnd, by the way, that won’t just — that won’t just help people on Medicare; it will lower prescription drug costs for everyone.\\n\\nAnd the money we save, which is billions of dollars, can go to strengthen the Affordable Care Act and expand Medicare coverage benefits without costing taxpayers an additional penny. It’s within our power to do it; let’s do it now. (Applause.)\\n\\nWe’ve talked about it long enough. Democrats and Republicans, let’s get it done this year. This is all about a simple premise: Healthcare should be a right, not a privilege in America. (Applause.)\\n\\nSo, how do we pay for my Jobs and Family Plan? I made it clear, we can do it without increasing the deficits. Let’s start with what I will not do: I will not impose any tax increase on people making less than $400,000. It’s — but it’s time for corporate America and the wealthiest 1 percent of Americans to just begin to pay their fair share. (Applause.) Just their fair share.\\n\\nSometimes I have arguments with my friends in the Democratic Party. I think you should be able to become a billionaire and a millionaire, but pay your fair share.\\n\\nA recent study shows that 55 of the nation’s biggest corporations paid zero federal tax last year. Those 55 corporations made in excess of $40 billion in profit. A lot of companies also evade taxes through tax havens in Switzerland and Bermuda and the Cayman Islands. And they benefit from tax loopholes and deductions for offshoring jobs and shifting profits overseas. It’s not right.\\n\\nWe’re going to reform corporate taxes so they pay their fair share and help pay for the public investments their businesses will benefit from as well. (Applause.)\\n\\nWe’re going to reward work, not just wealth. We take the top tax bracket for the wealthiest 1 percent of Americans — those making over $400,000 or more — back up to where it was when George W. Bush was President when he started: 39.6 percent. That’s where it was when George W. was President.\\n\\nWe’re going to get rid of the loopholes that allow Americans who make'], ground_truth='The speaker proposes that Medicare should be given the power to negotiate lower drug prescription prices. They argue that this would save hundreds of billions of dollars and lower prescription drug costs for everyone. The speaker also states that the money saved could be used to strengthen the Affordable Care Act and expand Medicare coverage benefits without costing taxpayers an additional penny.', evolution_type='simple', metadata=[{'source': 'Speeches/state_of_the_union_042921.txt', 'filename': 'Speeches/state_of_the_union_042921.txt'}]), DataRow(question=\"What are President Biden's proposals for addressing the ongoing conflict between Israel and Hamas, including both immediate and long-term solutions?\", contexts=['omes destroyed, neighborhoods in rubble, cities in ruin.\\n\\nFamilies without food, water, medicine.\\n\\nIt’s heartbreaking.\\n\\nWe’ve been working non-stop to establish an immediate ceasefire that would last for at least six weeks.\\n\\nIt would get the hostages home, ease the intolerable humanitarian crisis, and build toward something more enduring.\\n\\nThe United States has been leading international efforts to get more humanitarian assistance into Gaza.\\n\\nTonight, I’m directing the U.S. military to lead an emergency mission to establish a temporary pier in the Mediterranean on the Gaza coast that can receive large ships carrying food, water, medicine and temporary shelters.\\n\\nNo U.S. boots will be on the ground.\\n\\nThis temporary pier would enable a massive increase in the amount of humanitarian assistance getting into Gaza every day.\\n\\nBut Israel must also do its part.\\n\\nIsrael must allow more aid into Gaza and ensure that humanitarian workers aren’t caught in the cross fire.\\n\\nTo the leadership of Israel I say this.\\n\\nHumanitarian assistance cannot be a secondary consideration or a bargaining chip.\\n\\nProtecting and saving innocent lives has to be a priority.\\n\\nAs we look to the future, the only real solution is a two-state solution.\\n\\nI say this as a lifelong supporter of Israel and the only American president to visit Israel in wartime.\\n\\nThere is no other path that guarantees Israel’s security and democracy.\\n\\nThere is no other path that guarantees Palestinians can live with peace and dignity.\\n\\nThere is no other path that guarantees peace between Israel and all of its Arab neighbors, including Saudi Arabia.\\n\\nCreating stability in the Middle East also means containing the threat posed by Iran.\\n\\nThat’s why I built a coalition of more than a dozen countries to defend international shipping and freedom of navigation in the Red Sea.\\n\\nI’ve ordered strikes to degrade Houthi capabilities and defend U.S. Forces in the region.\\n\\nAs Commander in Chief, I will not hesitate to direct further measures to protect our people and military personnel.\\n\\nFor years, all I’ve heard from my Republican friends and so many others is China’s on the rise and America is falling behind.\\n\\nThey’ve got it backward.\\n\\nAmerica is rising.\\n\\nWe have the best economy in the world.\\n\\nSince I’ve come to office, our GDP is up.\\n\\nAnd our trade deficit with China is down to the lowest point in over a decade.\\n\\nWe’re standing up against China’s unfair economic practices.\\n\\nAnd standing up for peace and stability across the Taiwan Strait.\\n\\nI’ve revitalized our partnerships and alliances in the Pacific.\\n\\nI’ve made sure that the most advanced American technologies can’t be used in China’s weapons.\\n\\nFrankly for all his tough talk on China, it never occurred to my predecessor to do that.\\n\\nWe want competition with China, but not conflict.\\n\\nAnd we’re in a stronger position to win the competition for the 21st Century against China or anyone else for that matter.\\n\\nHere at home I’ve signed over 400 bipartisan bills.\\n\\nBut there’s more to do to pass my Unity Agenda.\\n\\nStrengthen penalties on fentanyl trafficking.\\n\\nPass bipartisan privacy legislation to protect our children online.\\n\\nHarness the promise of A.I. and protect us from its peril.\\n\\nBan A.I. voice impersonation and more!\\n\\nAnd keep our one truly sacred obligation, to train and equip those we send into harm’s way and care for them and their families when they come home, and when they don’t.\\n\\nThat’s why I signed the PACT Act, one of the most significant laws ever, helping millions of veterans who were exposed to toxins and who now are battling more than 100 cancers.\\n\\nMany of them didn’t come home.\\n\\nWe owe them and their families.\\n\\nAnd we owe it to ourselves to keep supporting our new health research agency called ARPA-H and remind us that we can do big things like end cancer as we know it!\\n\\nLet me close with this.\\n\\nI know I may not look like it, but I’ve been around a while.\\n\\nAnd when you get to my age certain things become clearer than ever before.\\n\\nI know the American story.\\n\\nAgain and again I’ve seen the contest between competing forces in the battle for the soul of our nation.\\n\\nBetween those who want to pull America back to the past and those who want to move America into the future.\\n\\nMy lifetime has taught me to embrace freedom and democracy.\\n\\nA'], ground_truth=\"President Biden proposes a six-week ceasefire to address the immediate crisis, including the release of hostages and relief of the humanitarian situation. He also emphasizes the need for Israel to allow more humanitarian aid into Gaza and ensure the safety of humanitarian workers.  In the long term, Biden advocates for a two-state solution, arguing that it is the only path to secure Israel's future, guarantee peace and dignity for Palestinians, and ensure peace between Israel and its Arab neighbors, including Saudi Arabia.\", evolution_type='simple', metadata=[{'source': 'Speeches/state_of_the_union_030724.txt', 'filename': 'Speeches/state_of_the_union_030724.txt'}]), DataRow(question=\"How does Biden compare a threat to American democracy to terrorism, and what's his plan to address it?\", contexts=['’s argue over it, let’s debate it, but let’s act. (Applause.)\\n\\nAnd if we truly want to restore the soul of America, we need to protect the sacred right to vote. Most people — (applause).\\n\\nMore people voted in the last presidential election than any time in American history, in the middle of the worst pandemic ever. It should be celebrated. Instead, it’s being attacked.\\n\\nCongress should pass H.R. 1 and the John Lewis Voting Rights Act and send it to my desk right away. (Applause.) The country supports it. The Congress should act now. (Applause.)\\n\\nLook, in closing, as we gather here tonight, the images of a violent mob assaulting this Capitol, desecrating our democracy, remain vivid in all our minds.\\n\\nLives were put at risk — many of your lives. Lives were lost. Extraordinary courage was summoned. The insurrection was an existential crisis –- a test of whether our democracy could survive. And it did.\\n\\nBut the struggle is far from over. The question of whether our democracy will long endure is both ancient and urgent, as old as our Republic — still vital today.\\n\\nCan our democracy deliver on its promise that all of us, created equal in the image of God, have a chance to lead lives of dignity, respect, and possibility?\\n\\nCan our democracy deliver the most — to the most pressing needs of our people?\\n\\nCan our democracy overcome the lies, anger, hate, and fears that have pulled us apart?\\n\\nAmerica’s adversaries –- the autocrats of the world –- are betting we can’t. And I promise you, they’re betting we can’t. They believe we’re too full of anger and division and rage.\\n\\nThey look at the images of the mob that assaulted the Capitol as proof that the sun is setting on American democracy. But they are wrong. You know it; I know it. But we have to prove them wrong.\\n\\nWe have to prove democracy still works — that our government still works and we can deliver for our people.\\n\\nIn our first 100 days together, we have acted to restore the people’s faith in democracy to deliver. We’re vaccinating the nation. We’re creating hundreds of thousands of new jobs. We’re delivering real results to people; they can see it and feel it in their own lives.\\n\\nOpening doors of opportunity, guaranteeing some more fairness and justice — that’s the essence of America. That’s democracy in action.\\n\\nOur Constitution opens with the words — as trite as it sounds — “We the People”. Well, it’s time to remember that “We the People” are the government — you and I. Not some force in a distant capital. Not some powerful force that we have no control over. It’s us. It’s “We the People.”\\n\\nIn another era when our democracy was tested, Franklin Roosevelt reminded us, “In America, we do our part.”  We all do our part. That’s all I’m asking: that we do our part, all of us.\\n\\nIf we do that, we will meet the center challenge of the age by proving that democracy is durable and strong. Autocrats will not win the future. We will. America will. And the future belongs to America.\\n\\nAs I stand here tonight before you, in a new and vital hour of life and democracy of our nation, and I can say with absolute confidence: I have never been more confident or optimistic about America — not because I’m President, because what’s happening with the American people.\\n\\nWe have stared into the abyss of insurrection and autocracy, pandemic and pain, and “We the People” did not flinch.\\n\\nAt the very moment our adversaries were certain we would pull apart and fail, we came together. We united.\\n\\nWith light and hope, we summoned a new strength, new resolve to position us to win the competition of the 21st century, on our way to a union more perfect, more prosperous, and more just, as one people, one nation, and one America.\\n\\nFolks, as I told every world leader I’ve ever met with over the years, it’s never ever, ever been a good bet to bet against America, and it still isn’t. (Applause.)\\n\\nWe are the United States of America. (Applause.) There is not a single thing — nothing — nothing beyond our capacity. We can do whatever we set our mind to do if we do it together. (Applause'], ground_truth='The context discusses the threat to American democracy, but it does not explicitly compare it to terrorism. The speech focuses on the attack on the Capitol and the need to protect voting rights. The speaker emphasizes the need to restore faith in democracy and to address the challenges facing the nation. However, it does not directly draw a comparison to terrorism.', evolution_type='reasoning', metadata=[{'source': 'Speeches/state_of_the_union_042921.txt', 'filename': 'Speeches/state_of_the_union_042921.txt'}]), DataRow(question='What gun violence prevention actions did President Biden mention after discussing the recent gun safety law in his State of the Union address?', contexts=[' job at another burger place to make a couple bucks more.\\n\\nNot anymore.\\n\\nWe’re banning those agreements so companies have to compete for workers and pay them what they’re worth.\\n\\nI’m so sick and tired of companies breaking the law by preventing workers from organizing.\\n\\nPass the PRO Act because workers have a right to form a union. And let’s guarantee all workers a living wage.\\n\\nLet’s also make sure working parents can afford to raise a family with sick days, paid family and medical leave, and affordable child care that will enable millions more people to go to work.\\n\\nLet’s also restore the full Child Tax Credit, which gave tens of millions of parents some breathing room and cut child poverty in half, to the lowest level in history.\\n\\nAnd by the way, when we do all of these things, we increase productivity. We increase economic growth.\\n\\nLet’s also finish the job and get more families access to affordable and quality housing.\\n\\nLet’s get seniors who want to stay in their homes the care they need to do so. And give a little more breathing room to millions of family caregivers looking after their loved ones.\\n\\nPass my plan so we get seniors and people with disabilities the home care services they need and support the workers who are doing God’s work.\\n\\nThese plans are fully paid for and we can afford to do them.\\n\\nRestoring the dignity of work also means making education an affordable ticket to the middle class.\\n\\nWhen we made 12 years of public education universal in the last century, it made us the best-educated, best-prepared nation in the world.\\n\\nBut the world has caught up.\\n\\nJill, who teaches full-time, has an expression: “Any nation that out-educates us will out-compete us.”\\n\\nFolks, you all know 12 years is not enough to win the economic competition for the 21st Century.\\n\\nIf you want America to have the best-educated workforce, let’s finish the job by providing access to pre-school for 3- and 4-year-olds.\\n\\nStudies show that children who go to pre-school are nearly 50% more likely to finish high school and go on to earn a 2- or 4-year degree, no matter their background.\\n\\nLet’s give public school teachers a raise.\\n\\nAnd we’re making progress by reducing student debt and increasing Pell Grants for working- and middle-class families.\\n\\nLet’s finish the job, connect students to career opportunities starting in high school and provide two years of community college, some of the best career training in America, in addition to being a pathway to a four-year degree.\\n\\nLet’s offer every American the path to a good career whether they go to college or not.\\n\\nAnd folks, in the midst of the COVID crisis when schools were closed, let’s also recognize how far we’ve come in the fight against the pandemic itself.\\n\\nWhile the virus is not gone, thanks to the resilience of the American people, we have broken COVID’s grip on us.\\n\\nCOVID deaths are down nearly 90%.\\n\\nWe’ve saved millions of lives and opened our country back up.\\n\\nAnd soon we’ll end the public health emergency.\\n\\nBut we will remember the toll and pain that will never go away for so many. More than 1 million Americans have lost their lives to COVID.\\n\\nFamilies grieving. Children orphaned. Empty chairs at the dining room table.\\n\\nWe remember them, and we remain vigilant.\\n\\nWe still need to monitor dozens of variants and support new vaccines and treatments.\\n\\nSo Congress needs to fund these efforts and keep America safe.\\n\\nAnd as we emerge from this crisis stronger, I’m also doubling down on prosecuting criminals who stole relief money meant to keep workers and small businesses afloat during the pandemic.\\n\\nBefore I came to office many inspector generals who protect taxpayer dollars were sidelined. Fraud was rampant.\\n\\nLast year, I told you the watchdogs are back. Since then, we’ve recovered billions of taxpayer dollars.\\n\\nNow, let’s triple our anti-fraud strike forces going after these criminals, double the statute of limitations on these crimes, and crack down on identity fraud by criminal syndicates stealing billions of dollars from the American people.\\n\\nFor every dollar we put into fighting fraud, taxpayers get back at least ten times as much.\\n\\nCOVID left other scars, like the spike in violent crime in 2020, the first year of the pandemic.\\n\\nWe have an obligation to make sure all our people are safe.\\n\\nPublic safety depends on public', ' trust. But too often that trust is violated.\\n\\nJoining us tonight are the parents of Tyre Nichols, who had to bury him just last week. There are no words to describe the heartbreak and grief of losing a child.\\n\\nBut imagine what it’s like to lose a child at the hands of the law.\\n\\nImagine having to worry whether your son or daughter will come home from walking down the street or playing in the park or just driving their car.\\n\\nI’ve never had to have the talk with my children – Beau, Hunter, and Ashley – that so many Black and Brown families have had with their children.\\n\\nIf a police officer pulls you over, turn on your interior lights. Don’t reach for your license. Keep your hands on the steering wheel.\\n\\nImagine having to worry like that every day in America.\\n\\nHere’s what Tyre’s mom shared with me when I asked her how she finds the courage to carry on and speak out.\\n\\nWith faith in God, she said her son “was a beautiful soul and something good will come from this.”\\n\\nImagine how much courage and character that takes.\\n\\nIt’s up to us. It’s up to all of us.\\n\\nWe all want the same thing.\\n\\nNeighborhoods free of violence.\\n\\nLaw enforcement who earn the community’s trust.\\n\\nOur children to come home safely.\\n\\nEqual protection under the law; that’s the covenant we have with each other in America.\\n\\nAnd we know police officers put their lives on the line every day, and we ask them to do too much.\\n\\nTo be counselors, social workers, psychologists; responding to drug overdoses, mental health crises, and more.\\n\\nWe ask too much of them.\\n\\nI know most cops are good, decent people. They risk their lives every time they put on that shield.\\n\\nBut what happened to Tyre in Memphis happens too often.\\n\\nWe have to do better.\\n\\nGive law enforcement the training they need, hold them to higher standards, and help them succeed in keeping everyone safe.\\n\\nWe also need more first responders and other professionals to address growing mental health and substance abuse challenges.\\n\\nMore resources to reduce violent crime and gun crime; more community intervention programs; more investments in housing, education, and job training.\\n\\nAll this can help prevent violence in the first place.\\n\\nAnd when police officers or departments violate the public’s trust, we must hold them accountable.\\n\\nWith the support of families of victims, civil rights groups, and law enforcement, I signed an executive order for all federal officers banning chokeholds, restricting no-knock warrants, and other key elements of the George Floyd Act.\\n\\nLet’s commit ourselves to make the words of Tyre’s mother come true, something good must come from this.\\n\\nAll of us in this chamber, we need to rise to this moment.\\n\\nWe can’t turn away.\\n\\nLet’s do what we know in our hearts we need to do.\\n\\nLet’s come together and finish the job on police reform.\\n\\nDo something.\\n\\nThat was the same plea of parents who lost their children in Uvalde: Do something on gun violence.\\n\\nThank God we did, passing the most sweeping gun safety law in three decades.\\n\\nThat includes things that the majority of responsible gun owners support, like enhanced background checks for 18 to 21-year-olds and red flag laws keeping guns out of the hands of people who are a danger to themselves and others.\\n\\nBut we know our work is not done.\\n\\nJoining us tonight is Brandon Tsay, a 26-year-old hero.\\n\\nBrandon put off his college dreams to stay by his mom’s side as she was dying from cancer. He now works at a dance studio started by his grandparents.\\n\\nTwo weeks ago, during Lunar New Year celebrations, he heard the studio’s front door close and saw a man pointing a gun at him.\\n\\nHe thought he was going to die, but then he thought about the people inside.\\n\\nIn that instant, he found the courage to act and wrestled the semi-automatic pistol away from a gunman who had already killed 11 people at another dance studio.\\n\\nHe saved lives. It’s time we do the same as well.\\n\\nBan assault weapons once and for all.\\n\\nWe did it before. I led the fight to ban them in 1994.\\n\\nIn the 10 years the ban was law, mass shootings went down. After Republicans let it expire, mass shootings tripled.\\n\\nLet’s finish the job and ban assault weapons again.\\n\\nAnd let�'], ground_truth='President Biden mentioned the need to ban assault weapons after discussing the recent gun safety law in his State of the Union address. He stated that the United States had previously banned assault weapons in 1994 and that mass shootings had decreased during that time. After the ban expired, he argued, mass shootings had tripled.', evolution_type='reasoning', metadata=[{'source': 'Speeches/state_of_the_union_020723.txt', 'filename': 'Speeches/state_of_the_union_020723.txt'}, {'source': 'Speeches/state_of_the_union_020723.txt', 'filename': 'Speeches/state_of_the_union_020723.txt'}]), DataRow(question='What economic policy did President Biden reject in his 2023 State of the Union address, and what example did he use to support his alternative?', contexts=['- a parent, a spouse, or child.\\n\\nAnd fourth, the American Family Plan puts directly into the pockets of millions of Americans. In March, we expanded a tax credit for every child in a family. Up to a $3,000 per child if they’re under [over]* six years of age — I mean, excuse me — under — over six years of age, and $3,600 for children over [under]* six years of age.\\n\\nWith two parents, two kids, that’s $7,200 in the pockets that’s going to help to take care of your family. And that will help more than 65 million children and help cut childcare [child] poverty in half. (Applause.) And we can afford it.\\n\\nSo we did that in the rec- — in the — in the last piece of legislation we passed. But let’s extend that Child Care Tax Credit at least through the end of 2025. (Applause.)\\n\\nThe American Rescue Plan lowered healthcare premiums for 9 million Americans who buy their coverage under the Affordable Care Act. I know that’s really popular on this side of the aisle. (Laughter.) But let’s make that provision permanent so their premiums don’t go back up. (Applause.)\\n\\nIn addition to my Families Plan, I’m going to work with Congress to address, this year, other critical priorities for American families.\\n\\nThe Affordable Care Act has been a lifeline for millions of Americans, protecting people with preexisting conditions, protecting women’s health. And the pandemic has demonstrated how badly — how badly it’s needed. Let’s lower deductibles for working families on the Affordable Care — in the Affordable Care Act. (Applause.) And let’s lower prescription drug costs. (Applause.)\\n\\nWe know how to do this. The last President had that as an objective. We all know how outrageously expensive drugs are in America.\\n\\nIn fact, we pay the highest prescription drug prices of anywhere in the world right here in America — nearly three times — for the same drug, nearly three times what other countries pay. We have to change that, and we can.\\n\\nLet’s do what we’ve always talked about for all the years I was down here in this — in this body — in Congress. Let’s give Medicare the power to save hundreds of billions of dollars by negotiating lower drug prescription prices. (Applause.)\\n\\nAnd, by the way, that won’t just — that won’t just help people on Medicare; it will lower prescription drug costs for everyone.\\n\\nAnd the money we save, which is billions of dollars, can go to strengthen the Affordable Care Act and expand Medicare coverage benefits without costing taxpayers an additional penny. It’s within our power to do it; let’s do it now. (Applause.)\\n\\nWe’ve talked about it long enough. Democrats and Republicans, let’s get it done this year. This is all about a simple premise: Healthcare should be a right, not a privilege in America. (Applause.)\\n\\nSo, how do we pay for my Jobs and Family Plan? I made it clear, we can do it without increasing the deficits. Let’s start with what I will not do: I will not impose any tax increase on people making less than $400,000. It’s — but it’s time for corporate America and the wealthiest 1 percent of Americans to just begin to pay their fair share. (Applause.) Just their fair share.\\n\\nSometimes I have arguments with my friends in the Democratic Party. I think you should be able to become a billionaire and a millionaire, but pay your fair share.\\n\\nA recent study shows that 55 of the nation’s biggest corporations paid zero federal tax last year. Those 55 corporations made in excess of $40 billion in profit. A lot of companies also evade taxes through tax havens in Switzerland and Bermuda and the Cayman Islands. And they benefit from tax loopholes and deductions for offshoring jobs and shifting profits overseas. It’s not right.\\n\\nWe’re going to reform corporate taxes so they pay their fair share and help pay for the public investments their businesses will benefit from as well. (Applause.)\\n\\nWe’re going to reward work, not just wealth. We take the top tax bracket for the wealthiest 1 percent of Americans — those making over $400,000 or more — back up to where it was when George W. Bush was President when he started: 39.6 percent. That’s where it was when George W. was President.\\n\\nWe’re going to get rid of the loopholes that allow Americans who make', ' more than a million dollars a year and pay a lower tax rate on their capital gains than Americans who receive a paycheck. We’re only going to affect three tenths of 1 percent of all Americans by that action. Three tenths of 1 percent.\\n\\nAnd the IRS is going to crack down on millionaires and billionaires who cheat on their taxes. It’s estimated to be billions of dollars by think tanks that are left, right, and center.\\n\\nI’m not looking to punish anybody. But I will not add a tax burden — an additional tax burden to the middle class in this country. They’re already paying enough. I believe what I propose is fair — (applause) — fiscally responsible, and it raises revenue to pay for the plans I have proposed, and will create millions of jobs that will grow the economy and enhance our financial standing in the country.\\n\\nWhen you hear someone say that they don’t want to raise taxes on the wealthiest 1 percent or corporate America, ask them: “Whose taxes you want to raise instead? Whose are you going to cut?”\\n\\nLook, the big tax cut of 2017 — remember, it was supposed to pay for itself — that was how it was sold — and generate vast economic growth. Instead, it added $2 trillion to the deficit. It was a huge windfall for corporate America and those at the very top.\\n\\nInstead of using the tax saving to raise wages and invest in research and development, it poured billions of dollars into the pockets of CEOs. In fact, the pay gap between CEOs and their workers is now among the largest in history.\\n\\nAccording to one study, CEOs make 320 times what the average worker in their corporation makes. It used to be in the — below a hundred.\\n\\nThe pandemic has only made things worse. Twenty million Americans lost their job in the pandemic — working- and middle-class Americans. At the same time, roughly 650 billionaires in America saw their net worth increase by more than $1 trillion — in the same exact period. Let me say it again: 650 people increased their wealth by more than $1 trillion during this pandemic. And they’re now worth more than $4 trillion.\\n\\nMy fellow Americans, trickle-down — trickle-down economics has never worked and it’s time to grow the economy from the bottom and the middle out. (Applause.)\\n\\nYou know, there’s a broad consensus of economists — left, right, center — and they agree what I’m proposing will help create millions of jobs and generate historic economic growth. These are among the highest-value investments we can make as a nation.\\n\\nI’ve often said: Our greatest strength is the power of our example, not just the example of our power.\\n\\nIn my conversations with world leaders — and I’ve spoken to over 38, 40 of them now — I’ve made it known — I’ve made it known that America is back. And you know what they say? The comment that I hear most of all from them is they say, “We see America is back but for how long? But for how long?”\\n\\nMy fellow Americans, we have to show not just that we’re back, but that we’re back to stay and that we aren’t going to go it alone. (Applause.) We’re going to do it by leading with our allies. (Applause.)\\n\\nNo one nation can deal with all the crises of our time — from terrorism, to nuclear proliferation, mass migration, cybersecurity, climate change, as well as experi- — what we’re experiencing now with pandemics.\\n\\nThere’s no wall high enough to keep any virus out. And our own vaccine supply — as it grows to meet our needs; and we’re meeting them — will become an arsenal of vaccines for other countries, just as America was the arsenal of democracy for the world — (applause) — and in consequence, influenced the world. (Applause.)\\n\\nBut every American will have access before that occur- — every American will have access to be fully covered by COVID-19 — from the vaccines we have.\\n\\nLook, the climate crisis is not our fight alone; it’s a global fight. The United States accounts, as all of you know, less than 15 percent of carbon emissions. The rest of the world accounts for 85 percent. That’s why I kept my commitment to rejoin the Paris Accord — because if we do everything perfectly, it’s not going to ultimately matter.\\n\\nI kept my commitment to convene a climate summit right here in America with all of the major economies of the world — China, Russia, India, the European Union —'], ground_truth='President Biden rejected trickle-down economics in his 2023 State of the Union address, arguing that it has never worked and that the economy should be grown from the bottom and the middle out. He used the example of the 2017 tax cut, which was supposed to pay for itself but instead added $2 trillion to the deficit, as evidence that trickle-down economics fails.', evolution_type='multi_context', metadata=[{'source': 'Speeches/state_of_the_union_042921.txt', 'filename': 'Speeches/state_of_the_union_042921.txt'}, {'source': 'Speeches/state_of_the_union_042921.txt', 'filename': 'Speeches/state_of_the_union_042921.txt'}]), DataRow(question=\"How does the President's plan address societal issues and veteran concerns?\", contexts=[' workers they need and families don’t wait decades to reunite.\\n\\nIt’s not only the right thing to do—it’s the economically smart thing to do.\\n\\nThat’s why immigration reform is supported by everyone from labor unions to religious leaders to the U.S. Chamber of Commerce.\\n\\nLet’s get it done once and for all.\\n\\nAdvancing liberty and justice also requires protecting the rights of women.\\n\\nThe constitutional right affirmed in Roe v. Wade—standing precedent for half a century—is under attack as never before.\\n\\nIf we want to go forward—not backward—we must protect access to health care. Preserve a woman’s right to choose. And let’s continue to advance maternal health care in America.\\n\\nAnd for our LGBTQ+ Americans, let’s finally get the bipartisan Equality Act to my desk. The onslaught of state laws targeting transgender Americans and their families is wrong.\\n\\nAs I said last year, especially to our younger transgender Americans, I will always have your back as your President, so you can be yourself and reach your God-given potential.\\n\\nWhile it often appears that we never agree, that isn’t true. I signed 80 bipartisan bills into law last year. From preventing government shutdowns to protecting Asian-Americans from still-too-common hate crimes to reforming military justice.\\n\\nAnd soon, we’ll strengthen the Violence Against Women Act that I first wrote three decades ago. It is important for us to show the nation that we can come together and do big things.\\n\\nSo tonight I’m offering a Unity Agenda for the Nation. Four big things we can do together.\\n\\nFirst, beat the opioid epidemic.\\n\\nThere is so much we can do. Increase funding for prevention, treatment, harm reduction, and recovery.\\n\\nGet rid of outdated rules that stop doctors from prescribing treatments. And stop the flow of illicit drugs by working with state and local law enforcement to go after traffickers.\\n\\nIf you’re suffering from addiction, know you are not alone. I believe in recovery, and I celebrate the 23 million Americans in recovery.\\n\\nSecond, let’s take on mental health. Especially among our children, whose lives and education have been turned upside down.\\n\\nThe American Rescue Plan gave schools money to hire teachers and help students make up for lost learning.\\n\\nI urge every parent to make sure your school does just that. And we can all play a part—sign up to be a tutor or a mentor.\\n\\nChildren were also struggling before the pandemic. Bullying, violence, trauma, and the harms of social media.\\n\\nAs Frances Haugen, who is here with us tonight, has shown, we must hold social media platforms accountable for the national experiment they’re conducting on our children for profit.\\n\\nIt’s time to strengthen privacy protections, ban targeted advertising to children, demand tech companies stop collecting personal data on our children.\\n\\nAnd let’s get all Americans the mental health services they need. More people they can turn to for help, and full parity between physical and mental health care.\\n\\nThird, support our veterans.\\n\\nVeterans are the best of us.\\n\\nI’ve always believed that we have a sacred obligation to equip all those we send to war and care for them and their families when they come home.\\n\\nMy administration is providing assistance with job training and housing, and now helping lower-income veterans get VA care debt-free.\\n\\nOur troops in Iraq and Afghanistan faced many dangers.\\n\\nOne was stationed at bases and breathing in toxic smoke from “burn pits” that incinerated wastes of war—medical and hazard material, jet fuel, and more.\\n\\nWhen they came home, many of the world’s fittest and best trained warriors were never the same.\\n\\nHeadaches. Numbness. Dizziness.\\n\\nA cancer that would put them in a flag-draped coffin.\\n\\nI know.\\n\\nOne of those soldiers was my son Major Beau Biden.\\n\\nWe don’t know for sure if a burn pit was the cause of his brain cancer, or the diseases of so many of our troops.\\n\\nBut I’m committed to finding out everything we can.\\n\\nCommitted to military families like Danielle Robinson from Ohio.\\n\\nThe widow of Sergeant First Class Heath Robinson.\\n\\nHe was born a soldier. Army National Guard. Combat medic in Kosovo and Iraq.\\n\\nStationed near Baghdad, just yards from burn pits the size of football fields.\\n\\nHeath’s widow Danielle is here with us tonight. They loved going to Ohio State football games. He loved building Legos with their daughter.\\n\\nBut cancer from prolonged exposure to burn pits ravaged Heath�'], ground_truth=\"The President's plan addresses societal issues by focusing on immigration reform, protecting women's rights, and advancing LGBTQ+ rights. He also emphasizes the need for unity and addresses the opioid epidemic, mental health, and veteran concerns.  His plan includes increasing funding for prevention, treatment, and recovery for opioid addiction, providing mental health services for children and adults, and supporting veterans with job training, housing, and medical care.\", evolution_type='multi_context', metadata=[{'source': 'Speeches/state_of_the_union_030122.txt', 'filename': 'Speeches/state_of_the_union_030122.txt'}]), DataRow(question=\"How will Biden address China's trade practices and maintain a strong Indo-Pacific presence?\", contexts=[' more than a million dollars a year and pay a lower tax rate on their capital gains than Americans who receive a paycheck. We’re only going to affect three tenths of 1 percent of all Americans by that action. Three tenths of 1 percent.\\n\\nAnd the IRS is going to crack down on millionaires and billionaires who cheat on their taxes. It’s estimated to be billions of dollars by think tanks that are left, right, and center.\\n\\nI’m not looking to punish anybody. But I will not add a tax burden — an additional tax burden to the middle class in this country. They’re already paying enough. I believe what I propose is fair — (applause) — fiscally responsible, and it raises revenue to pay for the plans I have proposed, and will create millions of jobs that will grow the economy and enhance our financial standing in the country.\\n\\nWhen you hear someone say that they don’t want to raise taxes on the wealthiest 1 percent or corporate America, ask them: “Whose taxes you want to raise instead? Whose are you going to cut?”\\n\\nLook, the big tax cut of 2017 — remember, it was supposed to pay for itself — that was how it was sold — and generate vast economic growth. Instead, it added $2 trillion to the deficit. It was a huge windfall for corporate America and those at the very top.\\n\\nInstead of using the tax saving to raise wages and invest in research and development, it poured billions of dollars into the pockets of CEOs. In fact, the pay gap between CEOs and their workers is now among the largest in history.\\n\\nAccording to one study, CEOs make 320 times what the average worker in their corporation makes. It used to be in the — below a hundred.\\n\\nThe pandemic has only made things worse. Twenty million Americans lost their job in the pandemic — working- and middle-class Americans. At the same time, roughly 650 billionaires in America saw their net worth increase by more than $1 trillion — in the same exact period. Let me say it again: 650 people increased their wealth by more than $1 trillion during this pandemic. And they’re now worth more than $4 trillion.\\n\\nMy fellow Americans, trickle-down — trickle-down economics has never worked and it’s time to grow the economy from the bottom and the middle out. (Applause.)\\n\\nYou know, there’s a broad consensus of economists — left, right, center — and they agree what I’m proposing will help create millions of jobs and generate historic economic growth. These are among the highest-value investments we can make as a nation.\\n\\nI’ve often said: Our greatest strength is the power of our example, not just the example of our power.\\n\\nIn my conversations with world leaders — and I’ve spoken to over 38, 40 of them now — I’ve made it known — I’ve made it known that America is back. And you know what they say? The comment that I hear most of all from them is they say, “We see America is back but for how long? But for how long?”\\n\\nMy fellow Americans, we have to show not just that we’re back, but that we’re back to stay and that we aren’t going to go it alone. (Applause.) We’re going to do it by leading with our allies. (Applause.)\\n\\nNo one nation can deal with all the crises of our time — from terrorism, to nuclear proliferation, mass migration, cybersecurity, climate change, as well as experi- — what we’re experiencing now with pandemics.\\n\\nThere’s no wall high enough to keep any virus out. And our own vaccine supply — as it grows to meet our needs; and we’re meeting them — will become an arsenal of vaccines for other countries, just as America was the arsenal of democracy for the world — (applause) — and in consequence, influenced the world. (Applause.)\\n\\nBut every American will have access before that occur- — every American will have access to be fully covered by COVID-19 — from the vaccines we have.\\n\\nLook, the climate crisis is not our fight alone; it’s a global fight. The United States accounts, as all of you know, less than 15 percent of carbon emissions. The rest of the world accounts for 85 percent. That’s why I kept my commitment to rejoin the Paris Accord — because if we do everything perfectly, it’s not going to ultimately matter.\\n\\nI kept my commitment to convene a climate summit right here in America with all of the major economies of the world — China, Russia, India, the European Union —', ' and I said I’d do it in my first 100 days.\\n\\nI want to be very blunt about it: I had — my attempt was to make sure that the world could see there was a consensus, that we are at an inflection point in history. And consensus — the consensus is: If we act to save the planet, we can create millions of jobs and economic growth and opportunity to raise the standard of living to almost everyone around the world.\\n\\nIf you’ve watched any of it — and you were all busy; I’m sure you didn’t have much time — that’s what virtually every nation said, even the ones that aren’t doing their fair share.\\n\\nThe investments I’ve proposed tonight also advance the foreign policy, in my view, that benefits the middle class. That means making sure every nation plays by the same rules in the global economy, including China.\\n\\nIn my discussions — in my discussions with President Xi, I told him, “We welcome the competition. We’re not looking for conflict.”  But I made absolutely clear that we will defend America’s interests across the board. America will stand up to unfair trade practices that undercut American workers and American industries, like subsidies from state — to state-owned operations and enterprises and the theft of American technology and intellectual property.\\n\\nI also told President Xi that we’ll maintain a strong military presence in the Indo-Pacific, just as we do with NATO in Europe — not to start a conflict, but to prevent one. (Applause.)\\n\\nI told him what I’ve said to many world leaders: that America will not back away from our commitments — our commitment to human rights and fundamental freedoms and to our alliances.\\n\\nAnd I pointed out to him: No responsible American President could remain silent when basic human rights are being so blatantly violated. An American President — President has to represent the essence of what our country stands for. America is an idea — the most unique idea in history: We are created, all of us, equal. It’s who we are, and we cannot walk away from that principle and, in fact, say we’re dealing with the American idea.\\n\\nWith regard to Russia, I know it concerns some of you, but I made very clear to Putin that we’re not going to seek esca- — ecala- — exc- — excuse me — escalation, but their actions will have consequence if they turn out to be true. And they turned out to be true, so I responded directly and proportionally to Russia’s interference in our elections and the cyberattacks on our government and our business. They did both of these things, and I told them we would respond, and we have.\\n\\nBut we can also cooperate when it’s in our mutual interest. We did it when we extended the New START Treaty on nuclear arms, and we’re working to do it on climate change. But he understands we will respond.\\n\\nOn Iran and North Korea — nuclear programs that present serious threats to American security and the security of the world — we’re going to be working closely with our allies to address the threats posed by both of these countries through di- — through diplomacy, as well as stern deterrence.\\n\\nAnd American leadership means ending the forever war in Afghanistan. (Applause.) We have — (applause) — we have, without hyperbole, the greatest fighting force in the history of the world. I’m the first President in 40 years who knows what it means to have a son serving in a warzone.\\n\\nToday we have servicemembers serving in the same warzone as their parents did. We have servicemembers in Afghanistan who were not yet born on 9/11.\\n\\nThe War in Afghanistan, as we remember the debates here, were never meant to be multi-generational undertakings of nation-building. We went to Afghanistan to get terrorists — the terrorists who attacked us on 9/11 — and we said we would follow Osama bin Laden to the gates of hell to do it. If you’ve been to the upper Kunar Valley, you’ve kind of seen the gates of hell. And we delivered justice to bin Laden. We degraded the terrorist threat of al Qaeda in Afghanistan. And after 20 years of value — valor and sacrifice, it’s time to bring those troops home. (Applause.)\\n\\nLook, even as we do, we will maintain an over-the-horizon capacity to suppress future threats to the homeland. And make no mistake: In 20 years, terrorists has — terrorism has metastasized. The threat has evolved way beyond Afghanistan. And those of you in the intelligence committees, the foreign relations committee, the defense committees, you know well: We have to remain vigilant against'], ground_truth=\"Biden stated that he will defend America's interests and stand up to unfair trade practices, including subsidies from state-owned operations and enterprises and the theft of American technology and intellectual property. He also stated that the US will maintain a strong military presence in the Indo-Pacific, just as it does with NATO in Europe, not to start a conflict, but to prevent one.\", evolution_type='reasoning', metadata=[{'source': 'Speeches/state_of_the_union_042921.txt', 'filename': 'Speeches/state_of_the_union_042921.txt'}, {'source': 'Speeches/state_of_the_union_042921.txt', 'filename': 'Speeches/state_of_the_union_042921.txt'}])])"
      ]
     },
     "execution_count": 33,
     "metadata": {},
     "output_type": "execute_result"
    }
   ],
   "source": [
    "testset"
   ]
  },
  {
   "cell_type": "code",
   "execution_count": 34,
   "id": "87fd9f5e-145f-4f79-a430-07c32e5b7aa8",
   "metadata": {},
   "outputs": [],
   "source": [
    "testset_pd = testset.to_pandas()"
   ]
  },
  {
   "cell_type": "code",
   "execution_count": 35,
   "id": "b9bb052d-d942-4db4-a848-1a4e733c840a",
   "metadata": {},
   "outputs": [
    {
     "data": {
      "text/html": [
       "<div>\n",
       "<style scoped>\n",
       "    .dataframe tbody tr th:only-of-type {\n",
       "        vertical-align: middle;\n",
       "    }\n",
       "\n",
       "    .dataframe tbody tr th {\n",
       "        vertical-align: top;\n",
       "    }\n",
       "\n",
       "    .dataframe thead th {\n",
       "        text-align: right;\n",
       "    }\n",
       "</style>\n",
       "<table border=\"1\" class=\"dataframe\">\n",
       "  <thead>\n",
       "    <tr style=\"text-align: right;\">\n",
       "      <th></th>\n",
       "      <th>question</th>\n",
       "      <th>contexts</th>\n",
       "      <th>ground_truth</th>\n",
       "      <th>evolution_type</th>\n",
       "      <th>metadata</th>\n",
       "      <th>episode_done</th>\n",
       "    </tr>\n",
       "  </thead>\n",
       "  <tbody>\n",
       "    <tr>\n",
       "      <th>0</th>\n",
       "      <td>What does the author argue is under attack reg...</td>\n",
       "      <td>[ workers they need and families don’t wait de...</td>\n",
       "      <td>The author argues that the constitutional righ...</td>\n",
       "      <td>simple</td>\n",
       "      <td>[{'source': 'Speeches/state_of_the_union_03012...</td>\n",
       "      <td>True</td>\n",
       "    </tr>\n",
       "    <tr>\n",
       "      <th>1</th>\n",
       "      <td>In the speech from President Biden, why has \"t...</td>\n",
       "      <td>[ more than a million dollars a year and pay a...</td>\n",
       "      <td>President Biden states that \"trickle-down econ...</td>\n",
       "      <td>simple</td>\n",
       "      <td>[{'source': 'Speeches/state_of_the_union_04292...</td>\n",
       "      <td>True</td>\n",
       "    </tr>\n",
       "    <tr>\n",
       "      <th>2</th>\n",
       "      <td>What is the speaker's stance on the \"Buy Ameri...</td>\n",
       "      <td>[ right here in America where they belong!\\n\\n...</td>\n",
       "      <td>The speaker believes in the \"Buy American\" pol...</td>\n",
       "      <td>simple</td>\n",
       "      <td>[{'source': 'Speeches/state_of_the_union_03072...</td>\n",
       "      <td>True</td>\n",
       "    </tr>\n",
       "    <tr>\n",
       "      <th>3</th>\n",
       "      <td>What measures does the speaker propose to lowe...</td>\n",
       "      <td>[- a parent, a spouse, or child.\\n\\nAnd fourth...</td>\n",
       "      <td>The speaker proposes that Medicare should be g...</td>\n",
       "      <td>simple</td>\n",
       "      <td>[{'source': 'Speeches/state_of_the_union_04292...</td>\n",
       "      <td>True</td>\n",
       "    </tr>\n",
       "    <tr>\n",
       "      <th>4</th>\n",
       "      <td>What are President Biden's proposals for addre...</td>\n",
       "      <td>[omes destroyed, neighborhoods in rubble, citi...</td>\n",
       "      <td>President Biden proposes a six-week ceasefire ...</td>\n",
       "      <td>simple</td>\n",
       "      <td>[{'source': 'Speeches/state_of_the_union_03072...</td>\n",
       "      <td>True</td>\n",
       "    </tr>\n",
       "    <tr>\n",
       "      <th>5</th>\n",
       "      <td>How does Biden compare a threat to American de...</td>\n",
       "      <td>[’s argue over it, let’s debate it, but let’s ...</td>\n",
       "      <td>The context discusses the threat to American d...</td>\n",
       "      <td>reasoning</td>\n",
       "      <td>[{'source': 'Speeches/state_of_the_union_04292...</td>\n",
       "      <td>True</td>\n",
       "    </tr>\n",
       "    <tr>\n",
       "      <th>6</th>\n",
       "      <td>What gun violence prevention actions did Presi...</td>\n",
       "      <td>[ job at another burger place to make a couple...</td>\n",
       "      <td>President Biden mentioned the need to ban assa...</td>\n",
       "      <td>reasoning</td>\n",
       "      <td>[{'source': 'Speeches/state_of_the_union_02072...</td>\n",
       "      <td>True</td>\n",
       "    </tr>\n",
       "    <tr>\n",
       "      <th>7</th>\n",
       "      <td>What economic policy did President Biden rejec...</td>\n",
       "      <td>[- a parent, a spouse, or child.\\n\\nAnd fourth...</td>\n",
       "      <td>President Biden rejected trickle-down economic...</td>\n",
       "      <td>multi_context</td>\n",
       "      <td>[{'source': 'Speeches/state_of_the_union_04292...</td>\n",
       "      <td>True</td>\n",
       "    </tr>\n",
       "    <tr>\n",
       "      <th>8</th>\n",
       "      <td>How does the President's plan address societal...</td>\n",
       "      <td>[ workers they need and families don’t wait de...</td>\n",
       "      <td>The President's plan addresses societal issues...</td>\n",
       "      <td>multi_context</td>\n",
       "      <td>[{'source': 'Speeches/state_of_the_union_03012...</td>\n",
       "      <td>True</td>\n",
       "    </tr>\n",
       "    <tr>\n",
       "      <th>9</th>\n",
       "      <td>How will Biden address China's trade practices...</td>\n",
       "      <td>[ more than a million dollars a year and pay a...</td>\n",
       "      <td>Biden stated that he will defend America's int...</td>\n",
       "      <td>reasoning</td>\n",
       "      <td>[{'source': 'Speeches/state_of_the_union_04292...</td>\n",
       "      <td>True</td>\n",
       "    </tr>\n",
       "  </tbody>\n",
       "</table>\n",
       "</div>"
      ],
      "text/plain": [
       "                                            question  \\\n",
       "0  What does the author argue is under attack reg...   \n",
       "1  In the speech from President Biden, why has \"t...   \n",
       "2  What is the speaker's stance on the \"Buy Ameri...   \n",
       "3  What measures does the speaker propose to lowe...   \n",
       "4  What are President Biden's proposals for addre...   \n",
       "5  How does Biden compare a threat to American de...   \n",
       "6  What gun violence prevention actions did Presi...   \n",
       "7  What economic policy did President Biden rejec...   \n",
       "8  How does the President's plan address societal...   \n",
       "9  How will Biden address China's trade practices...   \n",
       "\n",
       "                                            contexts  \\\n",
       "0  [ workers they need and families don’t wait de...   \n",
       "1  [ more than a million dollars a year and pay a...   \n",
       "2  [ right here in America where they belong!\\n\\n...   \n",
       "3  [- a parent, a spouse, or child.\\n\\nAnd fourth...   \n",
       "4  [omes destroyed, neighborhoods in rubble, citi...   \n",
       "5  [’s argue over it, let’s debate it, but let’s ...   \n",
       "6  [ job at another burger place to make a couple...   \n",
       "7  [- a parent, a spouse, or child.\\n\\nAnd fourth...   \n",
       "8  [ workers they need and families don’t wait de...   \n",
       "9  [ more than a million dollars a year and pay a...   \n",
       "\n",
       "                                        ground_truth evolution_type  \\\n",
       "0  The author argues that the constitutional righ...         simple   \n",
       "1  President Biden states that \"trickle-down econ...         simple   \n",
       "2  The speaker believes in the \"Buy American\" pol...         simple   \n",
       "3  The speaker proposes that Medicare should be g...         simple   \n",
       "4  President Biden proposes a six-week ceasefire ...         simple   \n",
       "5  The context discusses the threat to American d...      reasoning   \n",
       "6  President Biden mentioned the need to ban assa...      reasoning   \n",
       "7  President Biden rejected trickle-down economic...  multi_context   \n",
       "8  The President's plan addresses societal issues...  multi_context   \n",
       "9  Biden stated that he will defend America's int...      reasoning   \n",
       "\n",
       "                                            metadata  episode_done  \n",
       "0  [{'source': 'Speeches/state_of_the_union_03012...          True  \n",
       "1  [{'source': 'Speeches/state_of_the_union_04292...          True  \n",
       "2  [{'source': 'Speeches/state_of_the_union_03072...          True  \n",
       "3  [{'source': 'Speeches/state_of_the_union_04292...          True  \n",
       "4  [{'source': 'Speeches/state_of_the_union_03072...          True  \n",
       "5  [{'source': 'Speeches/state_of_the_union_04292...          True  \n",
       "6  [{'source': 'Speeches/state_of_the_union_02072...          True  \n",
       "7  [{'source': 'Speeches/state_of_the_union_04292...          True  \n",
       "8  [{'source': 'Speeches/state_of_the_union_03012...          True  \n",
       "9  [{'source': 'Speeches/state_of_the_union_04292...          True  "
      ]
     },
     "execution_count": 35,
     "metadata": {},
     "output_type": "execute_result"
    }
   ],
   "source": [
    "testset_pd"
   ]
  },
  {
   "cell_type": "code",
   "execution_count": 36,
   "id": "bbca3ac8-56b1-4af6-8ba1-a8ec25549a06",
   "metadata": {},
   "outputs": [],
   "source": [
    "testset_pd.to_csv('testset_flash_pro15.csv', index=False)"
   ]
  },
  {
   "cell_type": "code",
   "execution_count": 37,
   "id": "0aa4fa4c-5182-4fdc-b14d-f161f4d82e1b",
   "metadata": {},
   "outputs": [
    {
     "name": "stdout",
     "output_type": "stream",
     "text": [
      "0    What does the author argue is under attack reg...\n",
      "1    In the speech from President Biden, why has \"t...\n",
      "2    What is the speaker's stance on the \"Buy Ameri...\n",
      "3    What measures does the speaker propose to lowe...\n",
      "4    What are President Biden's proposals for addre...\n",
      "5    How does Biden compare a threat to American de...\n",
      "6    What gun violence prevention actions did Presi...\n",
      "7    What economic policy did President Biden rejec...\n",
      "8    How does the President's plan address societal...\n",
      "9    How will Biden address China's trade practices...\n",
      "Name: question, dtype: object\n",
      "0    [ workers they need and families don’t wait de...\n",
      "1    [ more than a million dollars a year and pay a...\n",
      "2    [ right here in America where they belong!\\n\\n...\n",
      "3    [- a parent, a spouse, or child.\\n\\nAnd fourth...\n",
      "4    [omes destroyed, neighborhoods in rubble, citi...\n",
      "5    [’s argue over it, let’s debate it, but let’s ...\n",
      "6    [ job at another burger place to make a couple...\n",
      "7    [- a parent, a spouse, or child.\\n\\nAnd fourth...\n",
      "8    [ workers they need and families don’t wait de...\n",
      "9    [ more than a million dollars a year and pay a...\n",
      "Name: contexts, dtype: object\n",
      "0    The author argues that the constitutional righ...\n",
      "1    President Biden states that \"trickle-down econ...\n",
      "2    The speaker believes in the \"Buy American\" pol...\n",
      "3    The speaker proposes that Medicare should be g...\n",
      "4    President Biden proposes a six-week ceasefire ...\n",
      "5    The context discusses the threat to American d...\n",
      "6    President Biden mentioned the need to ban assa...\n",
      "7    President Biden rejected trickle-down economic...\n",
      "8    The President's plan addresses societal issues...\n",
      "9    Biden stated that he will defend America's int...\n",
      "Name: ground_truth, dtype: object\n",
      "0           simple\n",
      "1           simple\n",
      "2           simple\n",
      "3           simple\n",
      "4           simple\n",
      "5        reasoning\n",
      "6        reasoning\n",
      "7    multi_context\n",
      "8    multi_context\n",
      "9        reasoning\n",
      "Name: evolution_type, dtype: object\n",
      "0    [{'source': 'Speeches/state_of_the_union_03012...\n",
      "1    [{'source': 'Speeches/state_of_the_union_04292...\n",
      "2    [{'source': 'Speeches/state_of_the_union_03072...\n",
      "3    [{'source': 'Speeches/state_of_the_union_04292...\n",
      "4    [{'source': 'Speeches/state_of_the_union_03072...\n",
      "5    [{'source': 'Speeches/state_of_the_union_04292...\n",
      "6    [{'source': 'Speeches/state_of_the_union_02072...\n",
      "7    [{'source': 'Speeches/state_of_the_union_04292...\n",
      "8    [{'source': 'Speeches/state_of_the_union_03012...\n",
      "9    [{'source': 'Speeches/state_of_the_union_04292...\n",
      "Name: metadata, dtype: object\n",
      "0    True\n",
      "1    True\n",
      "2    True\n",
      "3    True\n",
      "4    True\n",
      "5    True\n",
      "6    True\n",
      "7    True\n",
      "8    True\n",
      "9    True\n",
      "Name: episode_done, dtype: bool\n"
     ]
    }
   ],
   "source": [
    "for i in testset_pd:\n",
    "    print(testset_pd[i])"
   ]
  },
  {
   "cell_type": "code",
   "execution_count": 34,
   "id": "39e0be48-6761-48ef-9e8f-0815d27bf427",
   "metadata": {},
   "outputs": [],
   "source": [
    "testset_pd = pd.read_csv(\"testset_answer_flash_pro15.csv\", index_col = None)"
   ]
  },
  {
   "cell_type": "code",
   "execution_count": 35,
   "id": "7e411a9d-7aa3-4783-aa48-d6467a2b25d1",
   "metadata": {},
   "outputs": [],
   "source": [
    "import ast\n",
    "# use if imported testset_pd from csv\n",
    "# this is a fix for 'contexts' column being saved as a string; needs to be a list\n",
    "testset_pd['contexts'] = testset_pd['contexts'].apply(ast.literal_eval)"
   ]
  },
  {
   "cell_type": "code",
   "execution_count": 36,
   "id": "4ac6cfdc-0433-4dd4-95f6-425e6cff38b9",
   "metadata": {},
   "outputs": [
    {
     "data": {
      "text/html": [
       "<div>\n",
       "<style scoped>\n",
       "    .dataframe tbody tr th:only-of-type {\n",
       "        vertical-align: middle;\n",
       "    }\n",
       "\n",
       "    .dataframe tbody tr th {\n",
       "        vertical-align: top;\n",
       "    }\n",
       "\n",
       "    .dataframe thead th {\n",
       "        text-align: right;\n",
       "    }\n",
       "</style>\n",
       "<table border=\"1\" class=\"dataframe\">\n",
       "  <thead>\n",
       "    <tr style=\"text-align: right;\">\n",
       "      <th></th>\n",
       "      <th>question</th>\n",
       "      <th>contexts</th>\n",
       "      <th>ground_truth</th>\n",
       "      <th>evolution_type</th>\n",
       "      <th>metadata</th>\n",
       "      <th>episode_done</th>\n",
       "      <th>answer</th>\n",
       "    </tr>\n",
       "  </thead>\n",
       "  <tbody>\n",
       "    <tr>\n",
       "      <th>0</th>\n",
       "      <td>What does the author argue is under attack reg...</td>\n",
       "      <td>[ workers they need and families don’t wait de...</td>\n",
       "      <td>The author argues that the constitutional righ...</td>\n",
       "      <td>simple</td>\n",
       "      <td>[{'source': 'Speeches/state_of_the_union_03012...</td>\n",
       "      <td>True</td>\n",
       "      <td>The author argues that the constitutional righ...</td>\n",
       "    </tr>\n",
       "    <tr>\n",
       "      <th>1</th>\n",
       "      <td>In the speech from President Biden, why has \"t...</td>\n",
       "      <td>[ more than a million dollars a year and pay a...</td>\n",
       "      <td>President Biden states that \"trickle-down econ...</td>\n",
       "      <td>simple</td>\n",
       "      <td>[{'source': 'Speeches/state_of_the_union_04292...</td>\n",
       "      <td>True</td>\n",
       "      <td>According to the speech, trickle-down economic...</td>\n",
       "    </tr>\n",
       "    <tr>\n",
       "      <th>2</th>\n",
       "      <td>What is the speaker's stance on the \"Buy Ameri...</td>\n",
       "      <td>[ right here in America where they belong!\\n\\n...</td>\n",
       "      <td>The speaker believes in the \"Buy American\" pol...</td>\n",
       "      <td>simple</td>\n",
       "      <td>[{'source': 'Speeches/state_of_the_union_03072...</td>\n",
       "      <td>True</td>\n",
       "      <td>The speaker believes that the \"Buy American\" p...</td>\n",
       "    </tr>\n",
       "    <tr>\n",
       "      <th>3</th>\n",
       "      <td>What measures does the speaker propose to lowe...</td>\n",
       "      <td>[- a parent, a spouse, or child.\\n\\nAnd fourth...</td>\n",
       "      <td>The speaker proposes that Medicare should be g...</td>\n",
       "      <td>simple</td>\n",
       "      <td>[{'source': 'Speeches/state_of_the_union_04292...</td>\n",
       "      <td>True</td>\n",
       "      <td>The speaker proposes giving Medicare the power...</td>\n",
       "    </tr>\n",
       "    <tr>\n",
       "      <th>4</th>\n",
       "      <td>What are President Biden's proposals for addre...</td>\n",
       "      <td>[omes destroyed, neighborhoods in rubble, citi...</td>\n",
       "      <td>President Biden proposes a six-week ceasefire ...</td>\n",
       "      <td>simple</td>\n",
       "      <td>[{'source': 'Speeches/state_of_the_union_03072...</td>\n",
       "      <td>True</td>\n",
       "      <td>The President proposes a two-state solution as...</td>\n",
       "    </tr>\n",
       "    <tr>\n",
       "      <th>5</th>\n",
       "      <td>How does Biden compare a threat to American de...</td>\n",
       "      <td>[’s argue over it, let’s debate it, but let’s ...</td>\n",
       "      <td>The context discusses the threat to American d...</td>\n",
       "      <td>reasoning</td>\n",
       "      <td>[{'source': 'Speeches/state_of_the_union_04292...</td>\n",
       "      <td>True</td>\n",
       "      <td>Empty Response</td>\n",
       "    </tr>\n",
       "    <tr>\n",
       "      <th>6</th>\n",
       "      <td>What gun violence prevention actions did Presi...</td>\n",
       "      <td>[ job at another burger place to make a couple...</td>\n",
       "      <td>President Biden mentioned the need to ban assa...</td>\n",
       "      <td>reasoning</td>\n",
       "      <td>[{'source': 'Speeches/state_of_the_union_02072...</td>\n",
       "      <td>True</td>\n",
       "      <td>President Biden mentioned the following gun vi...</td>\n",
       "    </tr>\n",
       "    <tr>\n",
       "      <th>7</th>\n",
       "      <td>What economic policy did President Biden rejec...</td>\n",
       "      <td>[- a parent, a spouse, or child.\\n\\nAnd fourth...</td>\n",
       "      <td>President Biden rejected trickle-down economic...</td>\n",
       "      <td>multi_context</td>\n",
       "      <td>[{'source': 'Speeches/state_of_the_union_04292...</td>\n",
       "      <td>True</td>\n",
       "      <td>The President rejected trickle-down economics,...</td>\n",
       "    </tr>\n",
       "    <tr>\n",
       "      <th>8</th>\n",
       "      <td>How does the President's plan address societal...</td>\n",
       "      <td>[ workers they need and families don’t wait de...</td>\n",
       "      <td>The President's plan addresses societal issues...</td>\n",
       "      <td>multi_context</td>\n",
       "      <td>[{'source': 'Speeches/state_of_the_union_03012...</td>\n",
       "      <td>True</td>\n",
       "      <td>The President's plan addresses societal issues...</td>\n",
       "    </tr>\n",
       "    <tr>\n",
       "      <th>9</th>\n",
       "      <td>How will Biden address China's trade practices...</td>\n",
       "      <td>[ more than a million dollars a year and pay a...</td>\n",
       "      <td>Biden stated that he will defend America's int...</td>\n",
       "      <td>reasoning</td>\n",
       "      <td>[{'source': 'Speeches/state_of_the_union_04292...</td>\n",
       "      <td>True</td>\n",
       "      <td>The speaker will maintain a strong military pr...</td>\n",
       "    </tr>\n",
       "  </tbody>\n",
       "</table>\n",
       "</div>"
      ],
      "text/plain": [
       "                                            question  \\\n",
       "0  What does the author argue is under attack reg...   \n",
       "1  In the speech from President Biden, why has \"t...   \n",
       "2  What is the speaker's stance on the \"Buy Ameri...   \n",
       "3  What measures does the speaker propose to lowe...   \n",
       "4  What are President Biden's proposals for addre...   \n",
       "5  How does Biden compare a threat to American de...   \n",
       "6  What gun violence prevention actions did Presi...   \n",
       "7  What economic policy did President Biden rejec...   \n",
       "8  How does the President's plan address societal...   \n",
       "9  How will Biden address China's trade practices...   \n",
       "\n",
       "                                            contexts  \\\n",
       "0  [ workers they need and families don’t wait de...   \n",
       "1  [ more than a million dollars a year and pay a...   \n",
       "2  [ right here in America where they belong!\\n\\n...   \n",
       "3  [- a parent, a spouse, or child.\\n\\nAnd fourth...   \n",
       "4  [omes destroyed, neighborhoods in rubble, citi...   \n",
       "5  [’s argue over it, let’s debate it, but let’s ...   \n",
       "6  [ job at another burger place to make a couple...   \n",
       "7  [- a parent, a spouse, or child.\\n\\nAnd fourth...   \n",
       "8  [ workers they need and families don’t wait de...   \n",
       "9  [ more than a million dollars a year and pay a...   \n",
       "\n",
       "                                        ground_truth evolution_type  \\\n",
       "0  The author argues that the constitutional righ...         simple   \n",
       "1  President Biden states that \"trickle-down econ...         simple   \n",
       "2  The speaker believes in the \"Buy American\" pol...         simple   \n",
       "3  The speaker proposes that Medicare should be g...         simple   \n",
       "4  President Biden proposes a six-week ceasefire ...         simple   \n",
       "5  The context discusses the threat to American d...      reasoning   \n",
       "6  President Biden mentioned the need to ban assa...      reasoning   \n",
       "7  President Biden rejected trickle-down economic...  multi_context   \n",
       "8  The President's plan addresses societal issues...  multi_context   \n",
       "9  Biden stated that he will defend America's int...      reasoning   \n",
       "\n",
       "                                            metadata  episode_done  \\\n",
       "0  [{'source': 'Speeches/state_of_the_union_03012...          True   \n",
       "1  [{'source': 'Speeches/state_of_the_union_04292...          True   \n",
       "2  [{'source': 'Speeches/state_of_the_union_03072...          True   \n",
       "3  [{'source': 'Speeches/state_of_the_union_04292...          True   \n",
       "4  [{'source': 'Speeches/state_of_the_union_03072...          True   \n",
       "5  [{'source': 'Speeches/state_of_the_union_04292...          True   \n",
       "6  [{'source': 'Speeches/state_of_the_union_02072...          True   \n",
       "7  [{'source': 'Speeches/state_of_the_union_04292...          True   \n",
       "8  [{'source': 'Speeches/state_of_the_union_03012...          True   \n",
       "9  [{'source': 'Speeches/state_of_the_union_04292...          True   \n",
       "\n",
       "                                              answer  \n",
       "0  The author argues that the constitutional righ...  \n",
       "1  According to the speech, trickle-down economic...  \n",
       "2  The speaker believes that the \"Buy American\" p...  \n",
       "3  The speaker proposes giving Medicare the power...  \n",
       "4  The President proposes a two-state solution as...  \n",
       "5                                     Empty Response  \n",
       "6  President Biden mentioned the following gun vi...  \n",
       "7  The President rejected trickle-down economics,...  \n",
       "8  The President's plan addresses societal issues...  \n",
       "9  The speaker will maintain a strong military pr...  "
      ]
     },
     "execution_count": 36,
     "metadata": {},
     "output_type": "execute_result"
    }
   ],
   "source": [
    "testset_pd"
   ]
  },
  {
   "cell_type": "code",
   "execution_count": 37,
   "id": "516f7aa7-e164-455d-b36a-acd9d2b33ff8",
   "metadata": {},
   "outputs": [
    {
     "data": {
      "text/plain": [
       "[' workers they need and families don’t wait decades to reunite.\\n\\nIt’s not only the right thing to do—it’s the economically smart thing to do.\\n\\nThat’s why immigration reform is supported by everyone from labor unions to religious leaders to the U.S. Chamber of Commerce.\\n\\nLet’s get it done once and for all.\\n\\nAdvancing liberty and justice also requires protecting the rights of women.\\n\\nThe constitutional right affirmed in Roe v. Wade—standing precedent for half a century—is under attack as never before.\\n\\nIf we want to go forward—not backward—we must protect access to health care. Preserve a woman’s right to choose. And let’s continue to advance maternal health care in America.\\n\\nAnd for our LGBTQ+ Americans, let’s finally get the bipartisan Equality Act to my desk. The onslaught of state laws targeting transgender Americans and their families is wrong.\\n\\nAs I said last year, especially to our younger transgender Americans, I will always have your back as your President, so you can be yourself and reach your God-given potential.\\n\\nWhile it often appears that we never agree, that isn’t true. I signed 80 bipartisan bills into law last year. From preventing government shutdowns to protecting Asian-Americans from still-too-common hate crimes to reforming military justice.\\n\\nAnd soon, we’ll strengthen the Violence Against Women Act that I first wrote three decades ago. It is important for us to show the nation that we can come together and do big things.\\n\\nSo tonight I’m offering a Unity Agenda for the Nation. Four big things we can do together.\\n\\nFirst, beat the opioid epidemic.\\n\\nThere is so much we can do. Increase funding for prevention, treatment, harm reduction, and recovery.\\n\\nGet rid of outdated rules that stop doctors from prescribing treatments. And stop the flow of illicit drugs by working with state and local law enforcement to go after traffickers.\\n\\nIf you’re suffering from addiction, know you are not alone. I believe in recovery, and I celebrate the 23 million Americans in recovery.\\n\\nSecond, let’s take on mental health. Especially among our children, whose lives and education have been turned upside down.\\n\\nThe American Rescue Plan gave schools money to hire teachers and help students make up for lost learning.\\n\\nI urge every parent to make sure your school does just that. And we can all play a part—sign up to be a tutor or a mentor.\\n\\nChildren were also struggling before the pandemic. Bullying, violence, trauma, and the harms of social media.\\n\\nAs Frances Haugen, who is here with us tonight, has shown, we must hold social media platforms accountable for the national experiment they’re conducting on our children for profit.\\n\\nIt’s time to strengthen privacy protections, ban targeted advertising to children, demand tech companies stop collecting personal data on our children.\\n\\nAnd let’s get all Americans the mental health services they need. More people they can turn to for help, and full parity between physical and mental health care.\\n\\nThird, support our veterans.\\n\\nVeterans are the best of us.\\n\\nI’ve always believed that we have a sacred obligation to equip all those we send to war and care for them and their families when they come home.\\n\\nMy administration is providing assistance with job training and housing, and now helping lower-income veterans get VA care debt-free.\\n\\nOur troops in Iraq and Afghanistan faced many dangers.\\n\\nOne was stationed at bases and breathing in toxic smoke from “burn pits” that incinerated wastes of war—medical and hazard material, jet fuel, and more.\\n\\nWhen they came home, many of the world’s fittest and best trained warriors were never the same.\\n\\nHeadaches. Numbness. Dizziness.\\n\\nA cancer that would put them in a flag-draped coffin.\\n\\nI know.\\n\\nOne of those soldiers was my son Major Beau Biden.\\n\\nWe don’t know for sure if a burn pit was the cause of his brain cancer, or the diseases of so many of our troops.\\n\\nBut I’m committed to finding out everything we can.\\n\\nCommitted to military families like Danielle Robinson from Ohio.\\n\\nThe widow of Sergeant First Class Heath Robinson.\\n\\nHe was born a soldier. Army National Guard. Combat medic in Kosovo and Iraq.\\n\\nStationed near Baghdad, just yards from burn pits the size of football fields.\\n\\nHeath’s widow Danielle is here with us tonight. They loved going to Ohio State football games. He loved building Legos with their daughter.\\n\\nBut cancer from prolonged exposure to burn pits ravaged Heath�']"
      ]
     },
     "execution_count": 37,
     "metadata": {},
     "output_type": "execute_result"
    }
   ],
   "source": [
    "testset_pd['contexts'][0]"
   ]
  },
  {
   "cell_type": "code",
   "execution_count": null,
   "id": "be4a7583-6e43-4dc7-b547-7366e1042233",
   "metadata": {},
   "outputs": [],
   "source": []
  },
  {
   "cell_type": "code",
   "execution_count": 38,
   "id": "c8d0cba0-17aa-491e-8a0b-a1e3ed8ebbfd",
   "metadata": {},
   "outputs": [],
   "source": [
    "# RAGAS metrics guide: https://docs.ragas.io/en/latest/concepts/metrics/index.html#ragas-metrics\n",
    "\n",
    "# Faithfulness - Measures the factual consistency of the answer to the context based on the question.\n",
    "# Context_precision - Measures how relevant the retrieved context is to the question, conveying the quality of the retrieval pipeline.\n",
    "# Answer_relevancy - Measures how relevant the answer is to the question.\n",
    "# Context_recall - Measures the retriever’s ability to retrieve all necessary information required to answer the question.\n",
    "\n",
    "from ragas.metrics import (\n",
    "    answer_relevancy,\n",
    "    faithfulness,\n",
    "    context_recall,\n",
    "    context_precision,\n",
    ")"
   ]
  },
  {
   "cell_type": "code",
   "execution_count": 39,
   "id": "eff15942-b70e-4c8c-a862-a358b7f5d8ba",
   "metadata": {},
   "outputs": [],
   "source": [
    "from ragas import evaluate\n",
    "from datasets import Dataset"
   ]
  },
  {
   "cell_type": "code",
   "execution_count": 40,
   "id": "ec2a524d-3f78-4b9e-9562-e8c7c9df60f5",
   "metadata": {},
   "outputs": [],
   "source": [
    "# per this ragas thread, need to convert pandas testset to Dataset format for evaluate to work\n",
    "# https://github.com/explodinggradients/ragas/issues/803\n",
    "testset_ds = Dataset.from_pandas(testset_pd)"
   ]
  },
  {
   "cell_type": "code",
   "execution_count": 41,
   "id": "c6e25e22-a14a-4ea4-9276-d76c91c7a7f2",
   "metadata": {},
   "outputs": [
    {
     "data": {
      "text/plain": [
       "Dataset({\n",
       "    features: ['question', 'contexts', 'ground_truth', 'evolution_type', 'metadata', 'episode_done', 'answer'],\n",
       "    num_rows: 10\n",
       "})"
      ]
     },
     "execution_count": 41,
     "metadata": {},
     "output_type": "execute_result"
    }
   ],
   "source": [
    "testset_ds"
   ]
  },
  {
   "cell_type": "code",
   "execution_count": 43,
   "id": "50571bf2-fe6a-4a47-b6da-82851fb8d726",
   "metadata": {},
   "outputs": [
    {
     "data": {
      "text/plain": [
       "\"How does Biden compare a threat to American democracy to terrorism, and what's his plan to address it?\""
      ]
     },
     "execution_count": 43,
     "metadata": {},
     "output_type": "execute_result"
    }
   ],
   "source": [
    "testset_pd['question'][5]"
   ]
  },
  {
   "cell_type": "code",
   "execution_count": 48,
   "id": "c3dfd0ca-b9cd-4003-b6e3-addfc065a463",
   "metadata": {},
   "outputs": [],
   "source": [
    "# generate answer column, per these two issues\n",
    "# https://github.com/explodinggradients/ragas/issues/1145\n",
    "# https://github.com/explodinggradients/ragas/issues/1084#issuecomment-2248219601\n",
    "query_engine = index.as_query_engine(similarity_top_k=10)\n",
    "#query = \"What has the President done related to healthcare?\"\n",
    "#response = query_engine.query(query)"
   ]
  },
  {
   "cell_type": "code",
   "execution_count": 50,
   "id": "169b6afb-35f2-4690-a4be-5979a05b29f7",
   "metadata": {},
   "outputs": [
    {
     "name": "stderr",
     "output_type": "stream",
     "text": [
      "/home/amber/anaconda3/envs/research2/lib/python3.11/site-packages/langchain_core/_api/deprecation.py:139: LangChainDeprecationWarning: The method `BaseChatModel.predict_messages` was deprecated in langchain-core 0.1.7 and will be removed in 0.3.0. Use invoke instead.\n",
      "  warn_deprecated(\n"
     ]
    }
   ],
   "source": [
    "# ToDo: use [llm.invoke(question).content for question in generator[\"question\"]]\n",
    "answers = [query_engine.query(q) for q in testset_pd['question']]"
   ]
  },
  {
   "cell_type": "code",
   "execution_count": null,
   "id": "07d66f41-875d-4546-a505-7efbe59eedf6",
   "metadata": {},
   "outputs": [],
   "source": []
  },
  {
   "cell_type": "code",
   "execution_count": 51,
   "id": "33893af4-a200-4df9-9843-2e21a27d6e5d",
   "metadata": {},
   "outputs": [],
   "source": [
    "answers_r = []\n",
    "for i in answers:\n",
    "    answers_r.append(i.response)"
   ]
  },
  {
   "cell_type": "code",
   "execution_count": 52,
   "id": "fde876e9-b182-494a-8fac-4a3b493a774f",
   "metadata": {},
   "outputs": [
    {
     "data": {
      "text/plain": [
       "['The author argues that the constitutional right to choose, established by Roe v. Wade, is under attack. They call for Congress to codify Roe v. Wade and restore the right to choose, protecting access to healthcare and advancing maternal health care. \\n',\n",
       " 'According to the speech, trickle-down economics has failed to work because it has led to lower wages, bigger deficits, and a wider gap between the wealthy and everyone else. Instead, the speaker advocates for an economic approach that focuses on building the economy from the bottom up and the middle out. \\n',\n",
       " 'The speaker believes that the \"Buy American\" policy should be strictly enforced and that past administrations have failed to do so. They argue that the policy has been in place since the 1930s and that taxpayer dollars should be used to purchase American products, which in turn will create American jobs. \\n',\n",
       " 'The speaker proposes giving Medicare the power to negotiate lower drug prices, capping prescription drug costs at $2,000 a year for everyone, and negotiating lower prices for 500 drugs over the next decade. \\n',\n",
       " 'The President proposes a two-state solution as the long-term solution to the conflict. In the immediate term, he calls for Hamas to release hostages, lay down arms, and surrender those responsible for the conflict. He also directs the U.S. military to establish a temporary pier in the Mediterranean on the Gaza coast for receiving aid. Additionally, he calls for Israel to allow more aid into Gaza and to ensure the safety of humanitarian workers. \\n',\n",
       " 'Empty Response',\n",
       " 'President Biden mentioned the following gun violence prevention actions: \\n* Authorizing the Violence Against Women Act to close the \"boyfriend\" loophole.\\n* Passing universal background checks.\\n* Passing proven measures to reduce gun violence. \\n',\n",
       " 'The President rejected trickle-down economics, arguing that it has never worked and instead advocated for growing the economy from the bottom and middle out.  He cited the American Rescue Plan as an example of his approach, which he claimed helped working people and left no one behind. \\n',\n",
       " \"The President's plan addresses societal issues like poverty and systemic racism by providing assistance with job training, housing, and healthcare.  It also aims to improve the lives of veterans by expanding healthcare access, addressing the opioid crisis, and providing mental health support. \\n\",\n",
       " 'The speaker will maintain a strong military presence in the Indo-Pacific, similar to NATO in Europe. They will also stand up to unfair trade practices, such as subsidies to state-owned operations and enterprises and the theft of American technology. \\n']"
      ]
     },
     "execution_count": 52,
     "metadata": {},
     "output_type": "execute_result"
    }
   ],
   "source": [
    "answers_r"
   ]
  },
  {
   "cell_type": "code",
   "execution_count": 53,
   "id": "54edaa4b-c030-4eb7-8825-80e1c15c53a4",
   "metadata": {},
   "outputs": [],
   "source": [
    "testset_pd['answer'] = answers_r"
   ]
  },
  {
   "cell_type": "code",
   "execution_count": 79,
   "id": "121aa5cf-8e00-4d5d-95f7-05bbfd57c0cf",
   "metadata": {},
   "outputs": [
    {
     "name": "stdout",
     "output_type": "stream",
     "text": [
      "In the speech from President Biden, why has \"trickle-down economics\" not worked, and what economic approach does he advocate for instead?\n",
      "[' more than a million dollars a year and pay a lower tax rate on their capital gains than Americans who receive a paycheck. We’re only going to affect three tenths of 1 percent of all Americans by that action. Three tenths of 1 percent.\\n\\nAnd the IRS is going to crack down on millionaires and billionaires who cheat on their taxes. It’s estimated to be billions of dollars by think tanks that are left, right, and center.\\n\\nI’m not looking to punish anybody. But I will not add a tax burden — an additional tax burden to the middle class in this country. They’re already paying enough. I believe what I propose is fair — (applause) — fiscally responsible, and it raises revenue to pay for the plans I have proposed, and will create millions of jobs that will grow the economy and enhance our financial standing in the country.\\n\\nWhen you hear someone say that they don’t want to raise taxes on the wealthiest 1 percent or corporate America, ask them: “Whose taxes you want to raise instead? Whose are you going to cut?”\\n\\nLook, the big tax cut of 2017 — remember, it was supposed to pay for itself — that was how it was sold — and generate vast economic growth. Instead, it added $2 trillion to the deficit. It was a huge windfall for corporate America and those at the very top.\\n\\nInstead of using the tax saving to raise wages and invest in research and development, it poured billions of dollars into the pockets of CEOs. In fact, the pay gap between CEOs and their workers is now among the largest in history.\\n\\nAccording to one study, CEOs make 320 times what the average worker in their corporation makes. It used to be in the — below a hundred.\\n\\nThe pandemic has only made things worse. Twenty million Americans lost their job in the pandemic — working- and middle-class Americans. At the same time, roughly 650 billionaires in America saw their net worth increase by more than $1 trillion — in the same exact period. Let me say it again: 650 people increased their wealth by more than $1 trillion during this pandemic. And they’re now worth more than $4 trillion.\\n\\nMy fellow Americans, trickle-down — trickle-down economics has never worked and it’s time to grow the economy from the bottom and the middle out. (Applause.)\\n\\nYou know, there’s a broad consensus of economists — left, right, center — and they agree what I’m proposing will help create millions of jobs and generate historic economic growth. These are among the highest-value investments we can make as a nation.\\n\\nI’ve often said: Our greatest strength is the power of our example, not just the example of our power.\\n\\nIn my conversations with world leaders — and I’ve spoken to over 38, 40 of them now — I’ve made it known — I’ve made it known that America is back. And you know what they say? The comment that I hear most of all from them is they say, “We see America is back but for how long? But for how long?”\\n\\nMy fellow Americans, we have to show not just that we’re back, but that we’re back to stay and that we aren’t going to go it alone. (Applause.) We’re going to do it by leading with our allies. (Applause.)\\n\\nNo one nation can deal with all the crises of our time — from terrorism, to nuclear proliferation, mass migration, cybersecurity, climate change, as well as experi- — what we’re experiencing now with pandemics.\\n\\nThere’s no wall high enough to keep any virus out. And our own vaccine supply — as it grows to meet our needs; and we’re meeting them — will become an arsenal of vaccines for other countries, just as America was the arsenal of democracy for the world — (applause) — and in consequence, influenced the world. (Applause.)\\n\\nBut every American will have access before that occur- — every American will have access to be fully covered by COVID-19 — from the vaccines we have.\\n\\nLook, the climate crisis is not our fight alone; it’s a global fight. The United States accounts, as all of you know, less than 15 percent of carbon emissions. The rest of the world accounts for 85 percent. That’s why I kept my commitment to rejoin the Paris Accord — because if we do everything perfectly, it’s not going to ultimately matter.\\n\\nI kept my commitment to convene a climate summit right here in America with all of the major economies of the world — China, Russia, India, the European Union —']\n",
      "President Biden states that \"trickle-down economics\" has never worked because it has not resulted in economic growth from the bottom and middle out. Instead, he advocates for an economic approach that grows the economy from the bottom and middle out.\n",
      "simple\n",
      "[{'source': 'Speeches/state_of_the_union_042921.txt', 'filename': 'Speeches/state_of_the_union_042921.txt'}]\n",
      "True\n",
      "According to the speech, trickle-down economics has failed to work because it has led to lower wages, bigger deficits, and a wider gap between the wealthy and everyone else. Instead, the speaker advocates for an economic approach that focuses on building the economy from the bottom up and the middle out. \n",
      "\n"
     ]
    }
   ],
   "source": [
    "for i in testset_pd:\n",
    "    print(testset_pd[i][1])"
   ]
  },
  {
   "cell_type": "code",
   "execution_count": 62,
   "id": "7866f0b2-d32b-45af-8a91-7d77fbb0a140",
   "metadata": {},
   "outputs": [],
   "source": [
    "testset_pd.to_csv('testset_answer_flash_pro15.csv', index=False)"
   ]
  },
  {
   "cell_type": "code",
   "execution_count": 81,
   "id": "dae4b675-0223-41cd-b00b-8f1fe4298372",
   "metadata": {},
   "outputs": [],
   "source": [
    "# ToDo: See whether need to provide RAG llm with just the context in the dataset vs full context...... look into example #2 ([1]) as a test case from testset.csv"
   ]
  },
  {
   "cell_type": "code",
   "execution_count": 42,
   "id": "0d735bf4-b628-4b08-b504-61c67b137d98",
   "metadata": {},
   "outputs": [],
   "source": [
    "testset_ds = Dataset.from_pandas(testset_pd)"
   ]
  },
  {
   "cell_type": "code",
   "execution_count": 43,
   "id": "104fced3-164c-44df-a0b2-55e953d33d3e",
   "metadata": {},
   "outputs": [
    {
     "data": {
      "text/plain": [
       "Dataset({\n",
       "    features: ['question', 'contexts', 'ground_truth', 'evolution_type', 'metadata', 'episode_done', 'answer'],\n",
       "    num_rows: 10\n",
       "})"
      ]
     },
     "execution_count": 43,
     "metadata": {},
     "output_type": "execute_result"
    }
   ],
   "source": [
    "testset_ds"
   ]
  },
  {
   "cell_type": "code",
   "execution_count": 44,
   "id": "a39ae55f-204a-4b42-8811-710bd26502cd",
   "metadata": {},
   "outputs": [],
   "source": [
    "ragas_llm = ChatGoogleGenerativeAI(model=\"gemini-1.5-flash\", timeout=10)\n",
    "#embeddings = GoogleGenerativeAIEmbeddings(model=\"models/text-embedding-004\")"
   ]
  },
  {
   "cell_type": "code",
   "execution_count": 45,
   "id": "47977c82-14b7-4291-9b53-3c9ce0510487",
   "metadata": {},
   "outputs": [
    {
     "data": {
      "text/plain": [
       "RunConfig(timeout=60, max_retries=10, max_wait=180, max_workers=1, exception_types=(<class 'Exception'>,), log_tenacity=False, seed=42)"
      ]
     },
     "execution_count": 45,
     "metadata": {},
     "output_type": "execute_result"
    }
   ],
   "source": [
    "run_config"
   ]
  },
  {
   "cell_type": "code",
   "execution_count": 60,
   "id": "0d845d9f-6d08-4fde-8ded-361b7d12e3f7",
   "metadata": {},
   "outputs": [
    {
     "data": {
      "application/vnd.jupyter.widget-view+json": {
       "model_id": "e2af6f4290b84ca0ab18966db56bfd49",
       "version_major": 2,
       "version_minor": 0
      },
      "text/plain": [
       "Evaluating:   0%|          | 0/40 [00:00<?, ?it/s]"
      ]
     },
     "metadata": {},
     "output_type": "display_data"
    },
    {
     "name": "stdout",
     "output_type": "stream",
     "text": [
      "WARNING:ragas.metrics._faithfulness:No statements were generated from the answer.\n",
      "No statements were generated from the answer.\n",
      "WARNING:langchain_google_genai.chat_models:Retrying langchain_google_genai.chat_models._achat_with_retry.<locals>._achat_with_retry in 2.0 seconds as it raised ResourceExhausted: 429 Resource has been exhausted (e.g. check quota)..\n",
      "Retrying langchain_google_genai.chat_models._achat_with_retry.<locals>._achat_with_retry in 2.0 seconds as it raised ResourceExhausted: 429 Resource has been exhausted (e.g. check quota)..\n",
      "WARNING:langchain_google_genai.chat_models:Retrying langchain_google_genai.chat_models._achat_with_retry.<locals>._achat_with_retry in 2.0 seconds as it raised ResourceExhausted: 429 Resource has been exhausted (e.g. check quota)..\n",
      "Retrying langchain_google_genai.chat_models._achat_with_retry.<locals>._achat_with_retry in 2.0 seconds as it raised ResourceExhausted: 429 Resource has been exhausted (e.g. check quota)..\n",
      "WARNING:langchain_google_genai.chat_models:Retrying langchain_google_genai.chat_models._achat_with_retry.<locals>._achat_with_retry in 2.0 seconds as it raised ResourceExhausted: 429 Resource has been exhausted (e.g. check quota)..\n",
      "Retrying langchain_google_genai.chat_models._achat_with_retry.<locals>._achat_with_retry in 2.0 seconds as it raised ResourceExhausted: 429 Resource has been exhausted (e.g. check quota)..\n",
      "WARNING:langchain_google_genai.chat_models:Retrying langchain_google_genai.chat_models._achat_with_retry.<locals>._achat_with_retry in 2.0 seconds as it raised ResourceExhausted: 429 Resource has been exhausted (e.g. check quota)..\n",
      "Retrying langchain_google_genai.chat_models._achat_with_retry.<locals>._achat_with_retry in 2.0 seconds as it raised ResourceExhausted: 429 Resource has been exhausted (e.g. check quota)..\n",
      "WARNING:langchain_google_genai.chat_models:Retrying langchain_google_genai.chat_models._achat_with_retry.<locals>._achat_with_retry in 2.0 seconds as it raised ResourceExhausted: 429 Resource has been exhausted (e.g. check quota)..\n",
      "Retrying langchain_google_genai.chat_models._achat_with_retry.<locals>._achat_with_retry in 2.0 seconds as it raised ResourceExhausted: 429 Resource has been exhausted (e.g. check quota)..\n",
      "WARNING:langchain_google_genai.chat_models:Retrying langchain_google_genai.chat_models._achat_with_retry.<locals>._achat_with_retry in 2.0 seconds as it raised ResourceExhausted: 429 Resource has been exhausted (e.g. check quota)..\n",
      "Retrying langchain_google_genai.chat_models._achat_with_retry.<locals>._achat_with_retry in 2.0 seconds as it raised ResourceExhausted: 429 Resource has been exhausted (e.g. check quota)..\n",
      "WARNING:langchain_google_genai.chat_models:Retrying langchain_google_genai.chat_models._achat_with_retry.<locals>._achat_with_retry in 2.0 seconds as it raised ResourceExhausted: 429 Resource has been exhausted (e.g. check quota)..\n",
      "Retrying langchain_google_genai.chat_models._achat_with_retry.<locals>._achat_with_retry in 2.0 seconds as it raised ResourceExhausted: 429 Resource has been exhausted (e.g. check quota)..\n",
      "WARNING:langchain_google_genai.chat_models:Retrying langchain_google_genai.chat_models._achat_with_retry.<locals>._achat_with_retry in 2.0 seconds as it raised ResourceExhausted: 429 Resource has been exhausted (e.g. check quota)..\n",
      "Retrying langchain_google_genai.chat_models._achat_with_retry.<locals>._achat_with_retry in 2.0 seconds as it raised ResourceExhausted: 429 Resource has been exhausted (e.g. check quota)..\n",
      "WARNING:langchain_google_genai.chat_models:Retrying langchain_google_genai.chat_models._achat_with_retry.<locals>._achat_with_retry in 2.0 seconds as it raised ResourceExhausted: 429 Resource has been exhausted (e.g. check quota)..\n",
      "Retrying langchain_google_genai.chat_models._achat_with_retry.<locals>._achat_with_retry in 2.0 seconds as it raised ResourceExhausted: 429 Resource has been exhausted (e.g. check quota)..\n",
      "WARNING:langchain_google_genai.chat_models:Retrying langchain_google_genai.chat_models._achat_with_retry.<locals>._achat_with_retry in 2.0 seconds as it raised ResourceExhausted: 429 Resource has been exhausted (e.g. check quota)..\n",
      "Retrying langchain_google_genai.chat_models._achat_with_retry.<locals>._achat_with_retry in 2.0 seconds as it raised ResourceExhausted: 429 Resource has been exhausted (e.g. check quota)..\n",
      "WARNING:langchain_google_genai.chat_models:Retrying langchain_google_genai.chat_models._achat_with_retry.<locals>._achat_with_retry in 2.0 seconds as it raised ResourceExhausted: 429 Resource has been exhausted (e.g. check quota)..\n",
      "Retrying langchain_google_genai.chat_models._achat_with_retry.<locals>._achat_with_retry in 2.0 seconds as it raised ResourceExhausted: 429 Resource has been exhausted (e.g. check quota)..\n",
      "WARNING:langchain_google_genai.chat_models:Retrying langchain_google_genai.chat_models._achat_with_retry.<locals>._achat_with_retry in 2.0 seconds as it raised ResourceExhausted: 429 Resource has been exhausted (e.g. check quota)..\n",
      "Retrying langchain_google_genai.chat_models._achat_with_retry.<locals>._achat_with_retry in 2.0 seconds as it raised ResourceExhausted: 429 Resource has been exhausted (e.g. check quota)..\n",
      "WARNING:langchain_google_genai.chat_models:Retrying langchain_google_genai.chat_models._achat_with_retry.<locals>._achat_with_retry in 2.0 seconds as it raised ResourceExhausted: 429 Resource has been exhausted (e.g. check quota)..\n",
      "Retrying langchain_google_genai.chat_models._achat_with_retry.<locals>._achat_with_retry in 2.0 seconds as it raised ResourceExhausted: 429 Resource has been exhausted (e.g. check quota)..\n",
      "WARNING:langchain_google_genai.chat_models:Retrying langchain_google_genai.chat_models._achat_with_retry.<locals>._achat_with_retry in 2.0 seconds as it raised ResourceExhausted: 429 Resource has been exhausted (e.g. check quota)..\n",
      "Retrying langchain_google_genai.chat_models._achat_with_retry.<locals>._achat_with_retry in 2.0 seconds as it raised ResourceExhausted: 429 Resource has been exhausted (e.g. check quota)..\n",
      "WARNING:langchain_google_genai.chat_models:Retrying langchain_google_genai.chat_models._achat_with_retry.<locals>._achat_with_retry in 2.0 seconds as it raised ResourceExhausted: 429 Resource has been exhausted (e.g. check quota)..\n",
      "Retrying langchain_google_genai.chat_models._achat_with_retry.<locals>._achat_with_retry in 2.0 seconds as it raised ResourceExhausted: 429 Resource has been exhausted (e.g. check quota)..\n",
      "WARNING:langchain_google_genai.chat_models:Retrying langchain_google_genai.chat_models._achat_with_retry.<locals>._achat_with_retry in 2.0 seconds as it raised ResourceExhausted: 429 Resource has been exhausted (e.g. check quota)..\n",
      "Retrying langchain_google_genai.chat_models._achat_with_retry.<locals>._achat_with_retry in 2.0 seconds as it raised ResourceExhausted: 429 Resource has been exhausted (e.g. check quota)..\n",
      "WARNING:langchain_google_genai.chat_models:Retrying langchain_google_genai.chat_models._achat_with_retry.<locals>._achat_with_retry in 2.0 seconds as it raised ResourceExhausted: 429 Resource has been exhausted (e.g. check quota)..\n",
      "Retrying langchain_google_genai.chat_models._achat_with_retry.<locals>._achat_with_retry in 2.0 seconds as it raised ResourceExhausted: 429 Resource has been exhausted (e.g. check quota)..\n",
      "WARNING:langchain_google_genai.chat_models:Retrying langchain_google_genai.chat_models._achat_with_retry.<locals>._achat_with_retry in 2.0 seconds as it raised ResourceExhausted: 429 Resource has been exhausted (e.g. check quota)..\n",
      "Retrying langchain_google_genai.chat_models._achat_with_retry.<locals>._achat_with_retry in 2.0 seconds as it raised ResourceExhausted: 429 Resource has been exhausted (e.g. check quota)..\n",
      "WARNING:langchain_google_genai.chat_models:Retrying langchain_google_genai.chat_models._achat_with_retry.<locals>._achat_with_retry in 2.0 seconds as it raised ResourceExhausted: 429 Resource has been exhausted (e.g. check quota)..\n",
      "Retrying langchain_google_genai.chat_models._achat_with_retry.<locals>._achat_with_retry in 2.0 seconds as it raised ResourceExhausted: 429 Resource has been exhausted (e.g. check quota)..\n",
      "WARNING:langchain_google_genai.chat_models:Retrying langchain_google_genai.chat_models._achat_with_retry.<locals>._achat_with_retry in 2.0 seconds as it raised ResourceExhausted: 429 Resource has been exhausted (e.g. check quota)..\n",
      "Retrying langchain_google_genai.chat_models._achat_with_retry.<locals>._achat_with_retry in 2.0 seconds as it raised ResourceExhausted: 429 Resource has been exhausted (e.g. check quota)..\n",
      "WARNING:langchain_google_genai.chat_models:Retrying langchain_google_genai.chat_models._achat_with_retry.<locals>._achat_with_retry in 2.0 seconds as it raised ResourceExhausted: 429 Resource has been exhausted (e.g. check quota)..\n",
      "Retrying langchain_google_genai.chat_models._achat_with_retry.<locals>._achat_with_retry in 2.0 seconds as it raised ResourceExhausted: 429 Resource has been exhausted (e.g. check quota)..\n",
      "WARNING:langchain_google_genai.chat_models:Retrying langchain_google_genai.chat_models._achat_with_retry.<locals>._achat_with_retry in 2.0 seconds as it raised ResourceExhausted: 429 Resource has been exhausted (e.g. check quota)..\n",
      "Retrying langchain_google_genai.chat_models._achat_with_retry.<locals>._achat_with_retry in 2.0 seconds as it raised ResourceExhausted: 429 Resource has been exhausted (e.g. check quota)..\n",
      "WARNING:langchain_google_genai.chat_models:Retrying langchain_google_genai.chat_models._achat_with_retry.<locals>._achat_with_retry in 2.0 seconds as it raised ResourceExhausted: 429 Resource has been exhausted (e.g. check quota)..\n",
      "Retrying langchain_google_genai.chat_models._achat_with_retry.<locals>._achat_with_retry in 2.0 seconds as it raised ResourceExhausted: 429 Resource has been exhausted (e.g. check quota)..\n",
      "WARNING:langchain_google_genai.chat_models:Retrying langchain_google_genai.chat_models._achat_with_retry.<locals>._achat_with_retry in 2.0 seconds as it raised ResourceExhausted: 429 Resource has been exhausted (e.g. check quota)..\n",
      "Retrying langchain_google_genai.chat_models._achat_with_retry.<locals>._achat_with_retry in 2.0 seconds as it raised ResourceExhausted: 429 Resource has been exhausted (e.g. check quota)..\n",
      "WARNING:langchain_google_genai.chat_models:Retrying langchain_google_genai.chat_models._achat_with_retry.<locals>._achat_with_retry in 2.0 seconds as it raised ResourceExhausted: 429 Resource has been exhausted (e.g. check quota)..\n",
      "Retrying langchain_google_genai.chat_models._achat_with_retry.<locals>._achat_with_retry in 2.0 seconds as it raised ResourceExhausted: 429 Resource has been exhausted (e.g. check quota)..\n",
      "WARNING:langchain_google_genai.chat_models:Retrying langchain_google_genai.chat_models._achat_with_retry.<locals>._achat_with_retry in 2.0 seconds as it raised ResourceExhausted: 429 Resource has been exhausted (e.g. check quota)..\n",
      "Retrying langchain_google_genai.chat_models._achat_with_retry.<locals>._achat_with_retry in 2.0 seconds as it raised ResourceExhausted: 429 Resource has been exhausted (e.g. check quota)..\n",
      "ERROR:ragas.executor:Exception raised in Job[26]: TimeoutError()\n",
      "Exception raised in Job[26]: TimeoutError()\n",
      "WARNING:langchain_google_genai.chat_models:Retrying langchain_google_genai.chat_models._achat_with_retry.<locals>._achat_with_retry in 2.0 seconds as it raised ResourceExhausted: 429 Resource has been exhausted (e.g. check quota)..\n",
      "Retrying langchain_google_genai.chat_models._achat_with_retry.<locals>._achat_with_retry in 2.0 seconds as it raised ResourceExhausted: 429 Resource has been exhausted (e.g. check quota)..\n",
      "WARNING:langchain_google_genai.chat_models:Retrying langchain_google_genai.chat_models._achat_with_retry.<locals>._achat_with_retry in 2.0 seconds as it raised ResourceExhausted: 429 Resource has been exhausted (e.g. check quota)..\n",
      "Retrying langchain_google_genai.chat_models._achat_with_retry.<locals>._achat_with_retry in 2.0 seconds as it raised ResourceExhausted: 429 Resource has been exhausted (e.g. check quota)..\n",
      "WARNING:langchain_google_genai.chat_models:Retrying langchain_google_genai.chat_models._achat_with_retry.<locals>._achat_with_retry in 2.0 seconds as it raised ResourceExhausted: 429 Resource has been exhausted (e.g. check quota)..\n",
      "Retrying langchain_google_genai.chat_models._achat_with_retry.<locals>._achat_with_retry in 2.0 seconds as it raised ResourceExhausted: 429 Resource has been exhausted (e.g. check quota)..\n",
      "WARNING:langchain_google_genai.chat_models:Retrying langchain_google_genai.chat_models._achat_with_retry.<locals>._achat_with_retry in 2.0 seconds as it raised ResourceExhausted: 429 Resource has been exhausted (e.g. check quota)..\n",
      "Retrying langchain_google_genai.chat_models._achat_with_retry.<locals>._achat_with_retry in 2.0 seconds as it raised ResourceExhausted: 429 Resource has been exhausted (e.g. check quota)..\n",
      "WARNING:langchain_google_genai.chat_models:Retrying langchain_google_genai.chat_models._achat_with_retry.<locals>._achat_with_retry in 2.0 seconds as it raised ResourceExhausted: 429 Resource has been exhausted (e.g. check quota)..\n",
      "Retrying langchain_google_genai.chat_models._achat_with_retry.<locals>._achat_with_retry in 2.0 seconds as it raised ResourceExhausted: 429 Resource has been exhausted (e.g. check quota)..\n",
      "WARNING:langchain_google_genai.chat_models:Retrying langchain_google_genai.chat_models._achat_with_retry.<locals>._achat_with_retry in 2.0 seconds as it raised ResourceExhausted: 429 Resource has been exhausted (e.g. check quota)..\n",
      "Retrying langchain_google_genai.chat_models._achat_with_retry.<locals>._achat_with_retry in 2.0 seconds as it raised ResourceExhausted: 429 Resource has been exhausted (e.g. check quota)..\n"
     ]
    }
   ],
   "source": [
    "# ToDo: Need to add rate limiting\n",
    "result = evaluate(\n",
    "    testset_ds,\n",
    "    metrics=[\n",
    "        context_precision,\n",
    "        faithfulness,\n",
    "        answer_relevancy,\n",
    "        context_recall,\n",
    "    ],\n",
    "    llm = ragas_llm,\n",
    "    embeddings=embeddings, \n",
    "    run_config=run_config\n",
    ")"
   ]
  },
  {
   "cell_type": "code",
   "execution_count": 61,
   "id": "fafeb9bb-eaa5-4dc3-bbb9-6ec03281c276",
   "metadata": {},
   "outputs": [
    {
     "data": {
      "text/plain": [
       "{'context_precision': 0.7500, 'faithfulness': 0.5944, 'answer_relevancy': 0.5821, 'context_recall': 1.0000}"
      ]
     },
     "execution_count": 61,
     "metadata": {},
     "output_type": "execute_result"
    }
   ],
   "source": [
    "# new testset_flash_pro15.csv result\n",
    "# questions generated by flash 1.5, critiqued by pro 1.5\n",
    "# Note: received warning for the answer where there was no response from the llm, definitely reduced faithfulness score\n",
    "result"
   ]
  },
  {
   "cell_type": "code",
   "execution_count": null,
   "id": "eb79fac0-ea9d-473f-b33c-02ee96df9559",
   "metadata": {},
   "outputs": [],
   "source": [
    "# RAGAS metrics guide: https://docs.ragas.io/en/latest/concepts/metrics/index.html#ragas-metrics\n",
    "\n",
    "# Faithfulness - Measures the factual consistency of the answer to the context based on the question.\n",
    "# 0.5944 indicates there's some answer parts being made up...\n",
    "# which given that supposedly there's always the correct answer in the context, means the LLM is taking some liberties.\n",
    "# There is another Faithfulness metric: from ragas.metrics import FaithulnesswithHHEM\n",
    "# See below for code : {'faithfulness_with_hhem': 0.5241} \n",
    "# THis seems to agree with the RAGAS faithfulness score in that answers seem to be partially made up. \n",
    "# Context_precision - Measures how relevant the retrieved context is to the question, conveying the quality of the retrieval pipeline.\n",
    "# At 0.75, seems fairly relevant but could be better. In my review, the context for each question is pretty long... \n",
    "# may just be because these are speeches? There's a lot of unneeded context in each one though.\n",
    "# Answer_relevancy - Measures how relevant the answer is to the question.\n",
    "# 0.5821 seems low, just going off of the number.\n",
    "# Context_recall - Measures the retriever’s ability to retrieve all necessary information required to answer the question.\n",
    "# This being 1.0 means that the context always contains the answer to the question... that could be an artifact of the question generation process."
   ]
  },
  {
   "cell_type": "code",
   "execution_count": 46,
   "id": "b145c016-f0d3-432c-82ad-df61c003f43a",
   "metadata": {},
   "outputs": [
    {
     "data": {
      "application/vnd.jupyter.widget-view+json": {
       "model_id": "cb3453948eab4d55925c93c6ee092670",
       "version_major": 2,
       "version_minor": 0
      },
      "text/plain": [
       "config.json:   0%|          | 0.00/389 [00:00<?, ?B/s]"
      ]
     },
     "metadata": {},
     "output_type": "display_data"
    },
    {
     "data": {
      "application/vnd.jupyter.widget-view+json": {
       "model_id": "27bcf281d68f49c38ea844834061ba5f",
       "version_major": 2,
       "version_minor": 0
      },
      "text/plain": [
       "configuration_hhem_v2.py:   0%|          | 0.00/760 [00:00<?, ?B/s]"
      ]
     },
     "metadata": {},
     "output_type": "display_data"
    },
    {
     "name": "stderr",
     "output_type": "stream",
     "text": [
      "A new version of the following files was downloaded from https://huggingface.co/vectara/hallucination_evaluation_model:\n",
      "- configuration_hhem_v2.py\n",
      ". Make sure to double-check they do not contain any added malicious code. To avoid downloading new versions of the code file, you can pin a revision.\n",
      "You are using a model of type HHEMv2Config to instantiate a model of type HHEMv2. This is not supported for all configurations of models and can yield errors.\n"
     ]
    },
    {
     "data": {
      "application/vnd.jupyter.widget-view+json": {
       "model_id": "7815dc9b9da24947b3c85d676884bd20",
       "version_major": 2,
       "version_minor": 0
      },
      "text/plain": [
       "modeling_hhem_v2.py:   0%|          | 0.00/2.66k [00:00<?, ?B/s]"
      ]
     },
     "metadata": {},
     "output_type": "display_data"
    },
    {
     "name": "stderr",
     "output_type": "stream",
     "text": [
      "A new version of the following files was downloaded from https://huggingface.co/vectara/hallucination_evaluation_model:\n",
      "- modeling_hhem_v2.py\n",
      ". Make sure to double-check they do not contain any added malicious code. To avoid downloading new versions of the code file, you can pin a revision.\n"
     ]
    },
    {
     "data": {
      "application/vnd.jupyter.widget-view+json": {
       "model_id": "2b831415421643d0a2d28671af7eb18f",
       "version_major": 2,
       "version_minor": 0
      },
      "text/plain": [
       "model.safetensors:   0%|          | 0.00/439M [00:00<?, ?B/s]"
      ]
     },
     "metadata": {},
     "output_type": "display_data"
    },
    {
     "data": {
      "application/vnd.jupyter.widget-view+json": {
       "model_id": "718b904a07dd4f29bcc8395b6e077e69",
       "version_major": 2,
       "version_minor": 0
      },
      "text/plain": [
       "config.json:   0%|          | 0.00/1.40k [00:00<?, ?B/s]"
      ]
     },
     "metadata": {},
     "output_type": "display_data"
    },
    {
     "data": {
      "application/vnd.jupyter.widget-view+json": {
       "model_id": "915ba7a6c42647dea868afe3aee346a7",
       "version_major": 2,
       "version_minor": 0
      },
      "text/plain": [
       "tokenizer_config.json:   0%|          | 0.00/2.54k [00:00<?, ?B/s]"
      ]
     },
     "metadata": {},
     "output_type": "display_data"
    },
    {
     "data": {
      "application/vnd.jupyter.widget-view+json": {
       "model_id": "42acd94d23ca4ace907a5bfa585b9bb9",
       "version_major": 2,
       "version_minor": 0
      },
      "text/plain": [
       "spiece.model:   0%|          | 0.00/792k [00:00<?, ?B/s]"
      ]
     },
     "metadata": {},
     "output_type": "display_data"
    },
    {
     "data": {
      "application/vnd.jupyter.widget-view+json": {
       "model_id": "6f55299570a944d9993d44c05de512ca",
       "version_major": 2,
       "version_minor": 0
      },
      "text/plain": [
       "tokenizer.json:   0%|          | 0.00/2.42M [00:00<?, ?B/s]"
      ]
     },
     "metadata": {},
     "output_type": "display_data"
    },
    {
     "data": {
      "application/vnd.jupyter.widget-view+json": {
       "model_id": "041a2c2c4a2f41c88177ed861941053e",
       "version_major": 2,
       "version_minor": 0
      },
      "text/plain": [
       "special_tokens_map.json:   0%|          | 0.00/2.20k [00:00<?, ?B/s]"
      ]
     },
     "metadata": {},
     "output_type": "display_data"
    },
    {
     "name": "stderr",
     "output_type": "stream",
     "text": [
      "/home/amber/anaconda3/envs/research2/lib/python3.11/site-packages/transformers/tokenization_utils_base.py:1601: FutureWarning: `clean_up_tokenization_spaces` was not set. It will be set to `True` by default. This behavior will be depracted in transformers v4.45, and will be then set to `False` by default. For more details check this issue: https://github.com/huggingface/transformers/issues/31884\n",
      "  warnings.warn(\n"
     ]
    }
   ],
   "source": [
    "from ragas.metrics import FaithulnesswithHHEM\n",
    "faithfulness_with_hhem = FaithulnesswithHHEM()"
   ]
  },
  {
   "cell_type": "code",
   "execution_count": 47,
   "id": "456a0ae2-f6ae-47e4-bda8-1c66c0104ccb",
   "metadata": {},
   "outputs": [
    {
     "data": {
      "application/vnd.jupyter.widget-view+json": {
       "model_id": "3e9e3202b575435abb21a6f8b4c4374a",
       "version_major": 2,
       "version_minor": 0
      },
      "text/plain": [
       "Evaluating:   0%|          | 0/10 [00:00<?, ?it/s]"
      ]
     },
     "metadata": {},
     "output_type": "display_data"
    },
    {
     "name": "stderr",
     "output_type": "stream",
     "text": [
      "Token indices sequence length is longer than the specified maximum sequence length for this model (997 > 512). Running this sequence through the model will result in indexing errors\n"
     ]
    },
    {
     "name": "stdout",
     "output_type": "stream",
     "text": [
      "ERROR:ragas.executor:Exception raised in Job[5]: IndexError(list index out of range)\n",
      "Exception raised in Job[5]: IndexError(list index out of range)\n"
     ]
    }
   ],
   "source": [
    "# Note: There's a message on HuggingFace about the token indices sequence length error being normal and an artifact; thus, ignoring it\n",
    "# https://huggingface.co/vectara/hallucination_evaluation_model\n",
    "result_faithfulness_hhem = evaluate(\n",
    "    testset_ds,\n",
    "    metrics=[faithfulness_with_hhem],\n",
    "    llm = ragas_llm,\n",
    "    embeddings=embeddings, \n",
    "    run_config=run_config\n",
    ")"
   ]
  },
  {
   "cell_type": "code",
   "execution_count": 49,
   "id": "7f158bea-0167-43ab-b4fb-0b5c0bc145c5",
   "metadata": {},
   "outputs": [
    {
     "data": {
      "text/plain": [
       "{'faithfulness_with_hhem': 0.5241}"
      ]
     },
     "execution_count": 49,
     "metadata": {},
     "output_type": "execute_result"
    }
   ],
   "source": [
    "# {'faithfulness_with_hhem': 0.5241}\n",
    "# this seems to agree with the RAGAS faithfulness score in that answers seem to be partially made up. :(\n",
    "result_faithfulness_hhem"
   ]
  },
  {
   "cell_type": "code",
   "execution_count": 60,
   "id": "c0da6350-2c4f-48b0-9510-c3d895166b8d",
   "metadata": {},
   "outputs": [
    {
     "data": {
      "text/plain": [
       "{'context_precision': 0.8571, 'faithfulness': 0.8833, 'answer_relevancy': 0.7234, 'context_recall': 1.0000}"
      ]
     },
     "execution_count": 60,
     "metadata": {},
     "output_type": "execute_result"
    }
   ],
   "source": [
    "# old testset.csv result\n",
    "# everything generated by flash 1.5\n",
    "result"
   ]
  },
  {
   "cell_type": "code",
   "execution_count": 50,
   "id": "8ed3230d-f7a4-41d9-baab-29ecbc2f6763",
   "metadata": {},
   "outputs": [],
   "source": [
    "# 8/22 Note: From my review of some of the question/groundtruth/context/answers, \n",
    "# I think that the LLM is being given the full context of all speeches for making its answers vs just the context in the dataset.\n",
    "# I need to generate a new round of answers with just context given in the dataset.\n",
    "# This is probably best back at the testset generation phase..... Start here tomorrow.\n",
    "\n",
    "# Though there is a new issue about context/answers being recalculated, so maybe this doesn't even matter ;) lol\n",
    "# Watch this issue: https://github.com/explodinggradients/ragas/issues/1211"
   ]
  },
  {
   "cell_type": "code",
   "execution_count": null,
   "id": "34de3ccd-ce58-4826-8d59-d16f9841934f",
   "metadata": {},
   "outputs": [],
   "source": []
  },
  {
   "cell_type": "code",
   "execution_count": null,
   "id": "db2c19d1-71a0-40ba-ad28-f689cba75277",
   "metadata": {},
   "outputs": [],
   "source": [
    "# RAGAS metrics guide: https://docs.ragas.io/en/latest/concepts/metrics/index.html#ragas-metrics\n",
    "\n",
    "# Faithfulness - Measures the factual consistency of the answer to the context based on the question.\n",
    "# Context_precision - Measures how relevant the retrieved context is to the question, conveying the quality of the retrieval pipeline.\n",
    "# Answer_relevancy - Measures how relevant the answer is to the question.\n",
    "# Context_recall - Measures the retriever’s ability to retrieve all necessary information required to answer the question."
   ]
  }
 ],
 "metadata": {
  "kernelspec": {
   "display_name": "research2",
   "language": "python",
   "name": "research2"
  },
  "language_info": {
   "codemirror_mode": {
    "name": "ipython",
    "version": 3
   },
   "file_extension": ".py",
   "mimetype": "text/x-python",
   "name": "python",
   "nbconvert_exporter": "python",
   "pygments_lexer": "ipython3",
   "version": "3.11.8"
  }
 },
 "nbformat": 4,
 "nbformat_minor": 5
}
