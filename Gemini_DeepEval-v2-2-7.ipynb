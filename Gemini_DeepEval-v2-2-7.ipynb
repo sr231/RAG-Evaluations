{
 "cells": [
  {
   "cell_type": "code",
   "execution_count": 1,
   "id": "e651c99a-fc6c-4b3e-927e-5b7dae9813fa",
   "metadata": {},
   "outputs": [],
   "source": [
    "# Tutorial for setting up a small RAG system using Faiss \n",
    "# and evaluating it using the Gemini Flash 1.5 LLM and the DeepEval library\n",
    "# I use the Google Gemini API (free tier, local API key), but DeepEval is compatible with several LLMs\n",
    "# Google Gemini: https://ai.google.dev/gemini-api/docs/models/gemini\n",
    "# DeepEval: https://docs.confident-ai.com/docs/guides-rag-evaluation\n",
    "\n",
    "# Testing out this notebook with the latest version of DeepEval: v2.2.7\n",
    "# Thankfully, not much had changes for the updates in DeepEval to break my code;\n",
    "# Instead, the only additional parsing needed was on the output returned from an evaluation\n",
    "\n",
    "# DeepEval v1.1.6 was fairly compatible with Google Gemini by creating a new LLM class that inherited from DeepEvalBaseLLM\n",
    "# and adding methods that called Gemini's generation functions; it was a similar setup for the Embeddings, inheriting from DeepEvalBaseEmbeddingModel\n",
    "# The only trick is that the LLM output needs to be in JSON format\n",
    "# I used the pydantic and instructor libraries for this; the following gives good examples of how to use them\n",
    "# Tutorial on using custom LLMs with DeepEval: https://docs.confident-ai.com/docs/guides-using-custom-llms\n",
    "\n",
    "# Metrics available in DeepEval:\n",
    "# - Contextual Precision: Evaluates whether the reranker in your retriever ranks more relevant nodes in your retrieval context higher than irrelevant ones.\n",
    "# - Contextual Recall: Evaluates whether the embedding model in your retriever is able to accurately capture and retrieve relevant information based on the context of the input.\n",
    "# - Contextual Relevance: Evaluates whether the text chunk size and top-K of your retriever is able to retrieve information without much irrelevancies.\n",
    "# - Answer Relevancy: Evaluates whether the prompt template in your generator is able to instruct your LLM to output relevant and helpful outputs based on the retrieval_context.\n",
    "# - Faithfulness: Evaluates whether the LLM used in your generator can output information that does not hallucinate AND contradict any factual information presented in the retrieval_context.\n",
    "# - Other metrics are available for non-RAG systems; custom metrics can also be created (I did not test this)"
   ]
  },
  {
   "cell_type": "code",
   "execution_count": 19,
   "id": "2dafebe7-76cf-41d8-8734-0f06d15b9423",
   "metadata": {},
   "outputs": [],
   "source": [
    "# Set up environment"
   ]
  },
  {
   "cell_type": "code",
   "execution_count": 1,
   "id": "dbdda733-b425-42f1-831a-6d71952ac5d1",
   "metadata": {},
   "outputs": [
    {
     "name": "stderr",
     "output_type": "stream",
     "text": [
      "/home/amber/anaconda3/envs/deepeval_test/lib/python3.11/site-packages/deepeval/__init__.py:52: UserWarning: You are using deepeval version 2.2.7, however version 2.3.3 is available. You should consider upgrading via the \"pip install --upgrade deepeval\" command.\n",
      "  warnings.warn(\n"
     ]
    }
   ],
   "source": [
    "import os\n",
    "from IPython.display import display, Markdown\n",
    "import pandas as pd\n",
    "from typing import List\n",
    "from pydantic import BaseModel, ConfigDict # for JSON output from DeepEval\n",
    "import instructor # for JSON output from DeepEval\n",
    "\n",
    "# Replace these two Google Gemini imports with imports for your LLM\n",
    "import google.generativeai as genai\n",
    "from langchain_google_genai import ChatGoogleGenerativeAI, GoogleGenerativeAIEmbeddings\n",
    "\n",
    "# also need pip install llama-index-embeddings-langchain, added the below\n",
    "from llama_index.embeddings.langchain import LangchainEmbedding\n",
    "\n",
    "from llama_index.core import Document, VectorStoreIndex, Settings, StorageContext, load_index_from_storage\n",
    "from llama_index.vector_stores.faiss import FaissVectorStore\n",
    "import faiss\n",
    "\n",
    "import deepeval\n",
    "from deepeval.models import DeepEvalBaseLLM, DeepEvalBaseEmbeddingModel\n",
    "from deepeval.test_case import LLMTestCase\n",
    "from deepeval.dataset import EvaluationDataset\n",
    "from deepeval.synthesizer import Synthesizer\n",
    "from deepeval import evaluate\n",
    "from deepeval.evaluate import TestResult, print_test_result\n",
    "from deepeval.metrics import (\n",
    "    AnswerRelevancyMetric,\n",
    "    ContextualPrecisionMetric,\n",
    "    ContextualRecallMetric,\n",
    "    ContextualRelevancyMetric,\n",
    "    FaithfulnessMetric\n",
    ")\n",
    "#from deepeval.metrics.ragas import (\n",
    "#    RagasMetric,\n",
    "#    RAGASAnswerRelevancyMetric,\n",
    "#    RAGASFaithfulnessMetric, \n",
    "#    RAGASContextualRecallMetric,\n",
    "#    RAGASContextualPrecisionMetric,\n",
    "#    RAGASContextualRelevancyMetric\n",
    "#) "
   ]
  },
  {
   "cell_type": "code",
   "execution_count": 2,
   "id": "8297c3a4-1366-4e38-9a4c-10f22905e594",
   "metadata": {},
   "outputs": [],
   "source": [
    "# Environmental variable to opt out of DeepEval tracking telemetry data\n",
    "os.environ[\"DEEPEVAL_TELEMETRY_OPT_OUT\"] = \"YES\""
   ]
  },
  {
   "cell_type": "code",
   "execution_count": 3,
   "id": "e03796ba-74cc-4bad-99a2-a594b3898399",
   "metadata": {},
   "outputs": [
    {
     "data": {
      "text/plain": [
       "True"
      ]
     },
     "execution_count": 3,
     "metadata": {},
     "output_type": "execute_result"
    }
   ],
   "source": [
    "deepeval.telemetry_opt_out()"
   ]
  },
  {
   "cell_type": "code",
   "execution_count": 4,
   "id": "a90ecc13-1002-4dad-82e5-cf42b656718f",
   "metadata": {},
   "outputs": [],
   "source": [
    "def to_markdown(text):\n",
    "  text = text.replace('•', '  *')\n",
    "  return Markdown(textwrap.indent(text, '> ', predicate=lambda _: True))"
   ]
  },
  {
   "cell_type": "code",
   "execution_count": 5,
   "id": "6dc3144c-2ac2-4448-a86a-a514ee26b402",
   "metadata": {},
   "outputs": [],
   "source": [
    "# set up local API key\n",
    "genai.configure(api_key=os.environ[\"GOOGLE_API_KEY\"])"
   ]
  },
  {
   "cell_type": "code",
   "execution_count": null,
   "id": "b06fb133-0f27-4e72-8713-b8df5cda2f38",
   "metadata": {},
   "outputs": [],
   "source": []
  },
  {
   "cell_type": "code",
   "execution_count": 6,
   "id": "1c3cd9fd-5949-4b1e-9894-c26618049ea8",
   "metadata": {},
   "outputs": [],
   "source": [
    "# Establish RAG pipeline with Gemini"
   ]
  },
  {
   "cell_type": "code",
   "execution_count": 7,
   "id": "0eab73af-ed30-4840-be7b-20eb1c66807c",
   "metadata": {},
   "outputs": [],
   "source": [
    "# # Create a Faiss vector store for RAG\n",
    "# # If you already have an index created, skip a few coding cells to the LLM / embeddings setup\n",
    "\n",
    "# # Example of creating a small vector store\n",
    "# # Using 4 State of the Union speeches, all text from whitehouse.gov briefing room speeches posted online, edited to include a title with the date of the speech\n",
    "# # Example from 2024:\n",
    "# # https://www.whitehouse.gov/briefing-room/speeches-remarks/2024/03/07/remarks-of-president-joe-biden-state-of-the-union-address-as-prepared-for-delivery-2/\n",
    "\n",
    "# # load and parse files\n",
    "# sotu = []\n",
    "# newfiles = [\"./Speeches/titleedits/state_of_the_union_042921.txt\", \"./Speeches/titleedits/state_of_the_union_030122.txt\", \"./Speeches/titleedits/state_of_the_union_020723.txt\", \"./Speeches/titleedits/state_of_the_union_030724.txt\"]\n",
    "# for i in newfiles:\n",
    "#     with open(i) as file:\n",
    "#         for line in file:\n",
    "#             nl = line.rstrip()\n",
    "#             if nl != '':\n",
    "#                 sotu.append(nl)\n",
    "\n",
    "# # convert into Document format\n",
    "# documents = [Document(text=line) for line in sotu]"
   ]
  },
  {
   "cell_type": "code",
   "execution_count": 9,
   "id": "ab816039-1c34-4073-84a6-e57ad84832e5",
   "metadata": {},
   "outputs": [
    {
     "data": {
      "text/plain": [
       "Document(id_='833ea164-b547-46ec-8854-cefdc83fbb10', embedding=None, metadata={}, excluded_embed_metadata_keys=[], excluded_llm_metadata_keys=[], relationships={}, text='May God protect our troops.', mimetype='text/plain', start_char_idx=None, end_char_idx=None, text_template='{metadata_str}\\n\\n{content}', metadata_template='{key}: {value}', metadata_seperator='\\n')"
      ]
     },
     "execution_count": 9,
     "metadata": {},
     "output_type": "execute_result"
    }
   ],
   "source": [
    "# # Example of a loaded Document line\n",
    "# documents[-1]"
   ]
  },
  {
   "cell_type": "code",
   "execution_count": 10,
   "id": "41cce1c9-8df4-492b-9d15-18dd67cf3444",
   "metadata": {},
   "outputs": [
    {
     "name": "stdout",
     "output_type": "stream",
     "text": [
      "True\n"
     ]
    }
   ],
   "source": [
    "# # Set up the faiss index\n",
    "# d = 768 # dimensions of the input vector of the embedding model that we're going to use; in this case, the google embedding model\n",
    "# faiss_index = faiss.IndexFlatL2(d)\n",
    "# print(faiss_index.is_trained) # double check that the training worked"
   ]
  },
  {
   "cell_type": "code",
   "execution_count": 6,
   "id": "e48c5f84-8fc4-4970-9505-3c67705b151a",
   "metadata": {},
   "outputs": [],
   "source": [
    "# Set up the llm, embeddings, and Settings for Faiss \n",
    "llm = ChatGoogleGenerativeAI(model=\"gemini-1.5-flash\") # Replace with your LLM\n",
    "doc_embeddings = GoogleGenerativeAIEmbeddings(model=\"models/text-embedding-004\") # Replace with your embeddings model\n",
    "Settings.embed_model = doc_embeddings # used for LlamaIndex FaissVectorStore\n",
    "Settings.llm = llm # used for LlamaIndex FaissVectorStore"
   ]
  },
  {
   "cell_type": "code",
   "execution_count": 13,
   "id": "82ce1780-061d-4d6d-bf3c-6853db1eb4b9",
   "metadata": {},
   "outputs": [],
   "source": [
    "# # Uncomment for when you need to re-embed and vectorize documents\n",
    "\n",
    "# vector_store = FaissVectorStore(faiss_index=faiss_index)\n",
    "# storage_context = StorageContext.from_defaults(vector_store=vector_store)\n",
    "# index = VectorStoreIndex.from_documents(\n",
    "#     documents, storage_context=storage_context, show_progress=True\n",
    "# )\n",
    "\n",
    "# # Save index to disk\n",
    "# index.storage_context.persist()\n",
    "\n",
    "# # Save/remember index id for loading next time\n",
    "# index.index_id"
   ]
  },
  {
   "cell_type": "code",
   "execution_count": 7,
   "id": "77d046f3-293f-4bac-be0c-bedc5d88012f",
   "metadata": {},
   "outputs": [],
   "source": [
    "# After you have a saved index, load that index for RAG answer generation:\n",
    "\n",
    "# load index from disk\n",
    "vector_store = FaissVectorStore.from_persist_dir(\"./storage\")\n",
    "storage_context = StorageContext.from_defaults(\n",
    "    vector_store=vector_store, persist_dir=\"./storage\"\n",
    ")\n",
    "# My local index id '3d3c99c5-aa1c-42d7-a9ce-c4bb12fbc6d5' uses the 4 speeches including a title that includes the date it was given\n",
    "# My local index id '95634851-570e-454e-983f-6634eeb72aee' contains 3200 documents from the rag_mini_wikipedia dataset\n",
    "index = load_index_from_storage(storage_context=storage_context, index_id='95634851-570e-454e-983f-6634eeb72aee')"
   ]
  },
  {
   "cell_type": "code",
   "execution_count": 13,
   "id": "6a1ba96f-37e3-4160-bf13-5536c2cbaf10",
   "metadata": {},
   "outputs": [],
   "source": [
    "# # Optional- if you'd like to query your index\n",
    "# # Set up query and chat engines with the index\n",
    "# query_engine = index.as_query_engine(similarity_top_k=10)\n",
    "# chat_engine = index.as_chat_engine(similarity_top_k=10, chat_mode='context')"
   ]
  },
  {
   "cell_type": "code",
   "execution_count": null,
   "id": "48698c67-efba-4fe3-a2e1-864a3f43131b",
   "metadata": {},
   "outputs": [],
   "source": [
    "# # Example query and response\n",
    "# query = \"In detail, what has the President done to improve the economy over the four years of his speeches?\"\n",
    "# response = query_engine.query(query) \n",
    "# print(response.response)"
   ]
  },
  {
   "cell_type": "code",
   "execution_count": null,
   "id": "aaa84cd0-8e1a-4a89-9864-4bece147376b",
   "metadata": {},
   "outputs": [],
   "source": [
    "# # Get ranked scores for top k RAG source nodes\n",
    "# for node in response.source_nodes:\n",
    "#     print(f\"{node.get_score()} -> {node.text}\")"
   ]
  },
  {
   "cell_type": "code",
   "execution_count": 17,
   "id": "ff5c6ba9-c23c-4adb-ad14-f612ce6ed45b",
   "metadata": {},
   "outputs": [],
   "source": [
    "# # Example of using the chat engine with our index\n",
    "# query = \"You are an expert speech analyst and specialize in analyzing Presidential State of the Union speeches. Could you please analyze the speeches and generate 2 questions and answers from each speech, providing the document filename of each speech that relates to each question?\"\n",
    "# response = chat_engine.chat(query) \n",
    "# print(response.response)"
   ]
  },
  {
   "cell_type": "code",
   "execution_count": null,
   "id": "e95aa45b-1e2d-4dae-8286-eacdd142fe48",
   "metadata": {},
   "outputs": [],
   "source": [
    "# # Optional: View chat history\n",
    "# chat_engine.chat_history"
   ]
  },
  {
   "cell_type": "code",
   "execution_count": null,
   "id": "dcce50c0-fb99-421f-a198-e397f5411d8d",
   "metadata": {},
   "outputs": [],
   "source": []
  },
  {
   "cell_type": "code",
   "execution_count": 12,
   "id": "05980859-d7e3-44e8-bc4f-10a41fdd111a",
   "metadata": {},
   "outputs": [],
   "source": [
    "# Code for DeepEval RAG evaluation library to work with Gemini and our local RAG setup\n",
    "\n",
    "# In DeepEval v1.1.6 and in v2.2.7, an example Input/Output/Context is a 'LLMTestCase'\n",
    "# You can evaluate LLMTestCases individually or in a large batch with the evaluate function\n",
    "# Metric scores are produced as well as an LLM generated explanation for a given score \n",
    "\n",
    "# DeepEval can also synthetically generate data from documents - see Synthesizer and generate_goldens_from_docs, below. \n",
    "# Of the 3 libraries I tested, this function produced the most human-realistic queries.\n",
    "# DeepEval also offers other functionality besides RAG evaluation, including \"red teaming LLM applications for security vulnerabilities\"\n",
    "\n",
    "# https://docs.confident-ai.com/docs/guides-rag-evaluation"
   ]
  },
  {
   "cell_type": "code",
   "execution_count": 6,
   "id": "002bf206-84b1-4bae-ad0c-d23dad165360",
   "metadata": {},
   "outputs": [],
   "source": [
    "# DeepEval requires a json response. In practice, this has led to malformed json returned from the llm, even with as simple of a schema as this, \n",
    "# but this and the LLM class can likely be refined to improve responses\n",
    "class Response(BaseModel):\n",
    "    response: str"
   ]
  },
  {
   "cell_type": "code",
   "execution_count": 7,
   "id": "ad054ba9-9fb0-4e3d-9f48-7e60eb379ff5",
   "metadata": {},
   "outputs": [],
   "source": [
    "# Non Open-AI usage requires a custom LLM class for using DeepEval\n",
    "# Tutorial with example code on using custom LLMs with DeepEval: https://docs.confident-ai.com/docs/guides-using-custom-llms\n",
    "class CustomGeminiFlash(DeepEvalBaseLLM):\n",
    "    def __init__(self):\n",
    "        self.model = genai.GenerativeModel(model_name=\"models/gemini-1.5-flash\")\n",
    "        model_config  = ConfigDict(protected_namespaces=())\n",
    "\n",
    "    def load_model(self):\n",
    "        return self.model\n",
    "\n",
    "    def generate(self, prompt: str, schema: BaseModel) -> BaseModel: \n",
    "        client = self.load_model()\n",
    "        instructor_client = instructor.from_gemini(\n",
    "            client=client,\n",
    "            mode=instructor.Mode.GEMINI_JSON,\n",
    "        )\n",
    "        resp = instructor_client.messages.create(\n",
    "            messages=[\n",
    "                {\n",
    "                    \"role\": \"user\",\n",
    "                    \"content\": prompt,\n",
    "                }\n",
    "            ],\n",
    "            response_model=schema,\n",
    "        )\n",
    "        return resp\n",
    "\n",
    "    async def a_generate(self, prompt: str, schema: BaseModel) -> BaseModel:\n",
    "        return self.generate(prompt, schema)\n",
    "\n",
    "    def get_model_name(self):\n",
    "        return \"Gemini 1.5 Flash\""
   ]
  },
  {
   "cell_type": "code",
   "execution_count": 8,
   "id": "8b903c42-fc2d-4fe2-bb1e-faaa7de1f2c0",
   "metadata": {},
   "outputs": [],
   "source": [
    "# Similarly, a custom embedding model class is required for non Open-AI embeddings\n",
    "# Tutorial on using custom embeddings with DeepEval: https://docs.confident-ai.com/docs/guides-using-custom-embedding-models \n",
    "class CustomGeminiEmbeddingModel(DeepEvalBaseEmbeddingModel):\n",
    "    def __init__(self):\n",
    "        model_config  = ConfigDict(protected_namespaces=())\n",
    "\n",
    "    def load_model(self):\n",
    "        return GoogleGenerativeAIEmbeddings(\n",
    "            model=\"models/text-embedding-004\"\n",
    "        )\n",
    "\n",
    "    def embed_text(self, text: str) -> List[float]:\n",
    "        embedding_model = self.load_model()\n",
    "        return embedding_model.embed_query(text)\n",
    "\n",
    "    def embed_texts(self, texts: List[str]) -> List[List[float]]:\n",
    "        embedding_model = self.load_model()\n",
    "        return embedding_model.embed_documents(texts)\n",
    "\n",
    "    async def a_embed_text(self, text: str) -> List[float]:\n",
    "        embedding_model = self.load_model()\n",
    "        return await embedding_model.aembed_query(text)\n",
    "\n",
    "    async def a_embed_texts(self, texts: List[str]) -> List[List[float]]:\n",
    "        embedding_model = self.load_model()\n",
    "        return await embedding_model.aembed_documents(texts)\n",
    "\n",
    "    def get_model_name(self):\n",
    "        \"Custom Gemini Embeddings\""
   ]
  },
  {
   "cell_type": "code",
   "execution_count": 9,
   "id": "e11dcd46-4410-4ae9-bb68-3a386d6484c0",
   "metadata": {},
   "outputs": [],
   "source": [
    "# Create custom llm and embeddings\n",
    "custom_geminiflash = CustomGeminiFlash()\n",
    "custom_geminiembeddings = CustomGeminiEmbeddingModel()"
   ]
  },
  {
   "cell_type": "code",
   "execution_count": null,
   "id": "db4c9963-bf96-484d-8593-bd35ff272c80",
   "metadata": {},
   "outputs": [],
   "source": []
  },
  {
   "cell_type": "code",
   "execution_count": null,
   "id": "654da851-9125-4c34-b1e9-19add3a09b84",
   "metadata": {},
   "outputs": [],
   "source": [
    "# Generate a synthetic dataset of \"Goldens\" (AKA a dataset with 'input', 'context', 'source_file' columns -- not 'Retrieval_Context') with DeepEval\n",
    "dataset = EvaluationDataset()\n",
    "synthesizer = Synthesizer(model=custom_geminiflash, embedder=custom_geminiembeddings)\n",
    "dataset.generate_goldens_from_docs(\n",
    "    synthesizer=synthesizer,\n",
    "    document_paths=['Speeches/titleedits/state_of_the_union_042921.txt', 'Speeches/titleedits/state_of_the_union_030122.txt', \n",
    "                    'Speeches/titleedits/state_of_the_union_020723.txt', 'Speeches/titleedits/state_of_the_union_030724.txt'],\n",
    "    max_goldens_per_document=3, # maximum number of questions to generate per document\n",
    "    include_expected_output=True\n",
    ")\n",
    "\n",
    "dataset.save_as(file_type=\"csv\", directory=\".\")"
   ]
  },
  {
   "cell_type": "code",
   "execution_count": null,
   "id": "30ea3e3d-f1aa-406c-8128-3bbe6ce45872",
   "metadata": {},
   "outputs": [],
   "source": []
  },
  {
   "cell_type": "code",
   "execution_count": 13,
   "id": "1da71503-d604-4936-a243-c3d30b6461f2",
   "metadata": {},
   "outputs": [],
   "source": [
    "# Example of evaluating one example/test case\n",
    "\n",
    "# Parameters in a DeepEval LLMTestCase:\n",
    "# Input: Question/query for the LLM\n",
    "# Actual Output: Answer returned from the LLM\n",
    "# Expected Output: The ideal output for the input/question\n",
    "# Retrieval Context (optional): LLM's actual retrieval results from the RAG system\n",
    "# Context (optional): Additional ground truth context besides RAG\n",
    "\n",
    "contextual_precision = ContextualPrecisionMetric(model=custom_geminiflash)\n",
    "contextual_recall = ContextualRecallMetric(model=custom_geminiflash)\n",
    "contextual_relevancy = ContextualRelevancyMetric(model=custom_geminiflash)\n",
    "\n",
    "test_case = LLMTestCase(\n",
    "    input=\"What measures does the speaker propose to lower prescription drug costs in America?\",\n",
    "    actual_output=\"The speaker proposes giving Medicare the power to negotiate lower prescription drug prices, capping prescription drug costs at $2,000 a year for everyone, and allowing Medicare to negotiate lower prices for 500 drugs over the next decade.s\",\n",
    "    expected_output=\"The speaker proposes that Medicare should be given the power to negotiate lower drug prescription prices. They argue that this would save hundreds of billions of dollars and lower prescription drug costs for everyone. The speaker also states that the money saved could be used to strengthen the Affordable Care Act and expand Medicare coverage benefits without costing taxpayers an additional penny.\",\n",
    "    retrieval_context=['Let’s do what we’ve always talked about for all the years I was down here in this — in this body — in Congress.  Let’s give Medicare the power to save hundreds of billions of dollars by negotiating lower drug prescription prices.  (Applause.)', 'In fact, we pay the highest prescription drug prices of anywhere in the world right here in America — nearly three times — for the same drug, nearly three times what other countries pay.  We have to change that, and we can.', 'And we’re finally giving Medicare the power to negotiate drug prices. Bringing down prescription drug costs doesn’t just save seniors money.', 'For years people have talked about it but I finally got it done and gave Medicare the power to negotiate lower prices for prescription drugs just like the VA does for our veterans.', 'And, by the way, that won’t just — that won’t just help people on Medicare; it will lower prescription drug costs for everyone.', 'Now I want to cap prescription drug costs at $2,000 a year for everyone!', 'We know how to do this.  The last President had that as an objective.  We all know how outrageously expensive drugs are in America.', 'Make no mistake, if you try to do anything to raise the cost of prescription drugs, I will veto it.', 'Now it’s time to go further and give Medicare the power to negotiate lower prices for 500 drugs over the next decade.', 'It will cut the federal deficit, saving tax payers hundreds of billions of dollars on the prescription drugs the government buys for Medicare.']\n",
    ")"
   ]
  },
  {
   "cell_type": "code",
   "execution_count": 23,
   "id": "2ef1ea0f-8367-4747-84eb-f16f79895d6a",
   "metadata": {},
   "outputs": [
    {
     "data": {
      "application/vnd.jupyter.widget-view+json": {
       "model_id": "",
       "version_major": 2,
       "version_minor": 0
      },
      "text/plain": [
       "Output()"
      ]
     },
     "metadata": {},
     "output_type": "display_data"
    },
    {
     "data": {
      "text/html": [
       "<pre style=\"white-space:pre;overflow-x:auto;line-height:normal;font-family:Menlo,'DejaVu Sans Mono',consolas,'Courier New',monospace\">Event loop is already running. Applying nest_asyncio patch to allow async execution...\n",
       "</pre>\n"
      ],
      "text/plain": [
       "Event loop is already running. Applying nest_asyncio patch to allow async execution...\n"
      ]
     },
     "metadata": {},
     "output_type": "display_data"
    },
    {
     "data": {
      "text/html": [
       "<pre style=\"white-space:pre;overflow-x:auto;line-height:normal;font-family:Menlo,'DejaVu Sans Mono',consolas,'Courier New',monospace\"></pre>\n"
      ],
      "text/plain": []
     },
     "metadata": {},
     "output_type": "display_data"
    },
    {
     "data": {
      "application/vnd.jupyter.widget-view+json": {
       "model_id": "",
       "version_major": 2,
       "version_minor": 0
      },
      "text/plain": [
       "Output()"
      ]
     },
     "metadata": {},
     "output_type": "display_data"
    },
    {
     "data": {
      "text/html": [
       "<pre style=\"white-space:pre;overflow-x:auto;line-height:normal;font-family:Menlo,'DejaVu Sans Mono',consolas,'Courier New',monospace\">Event loop is already running. Applying nest_asyncio patch to allow async execution...\n",
       "</pre>\n"
      ],
      "text/plain": [
       "Event loop is already running. Applying nest_asyncio patch to allow async execution...\n"
      ]
     },
     "metadata": {},
     "output_type": "display_data"
    },
    {
     "name": "stdout",
     "output_type": "stream",
     "text": [
      "Contextual Precision Score:  0.9095238095238096\n",
      "Contextual Precision Reason:  The score is 0.91 because the first five nodes are relevant and directly address the speaker's proposal to lower drug prices through Medicare negotiation.  However, the sixth node, focusing on capping prescription drug costs,  is a separate proposal and doesn't directly align with the initial proposal, making it a relevant node ranked lower. The seventh and eighth nodes don't mention specific measures, making them less relevant compared to the first five nodes that directly discuss the speaker's proposed measure.\n"
     ]
    },
    {
     "data": {
      "text/html": [
       "<pre style=\"white-space:pre;overflow-x:auto;line-height:normal;font-family:Menlo,'DejaVu Sans Mono',consolas,'Courier New',monospace\"></pre>\n"
      ],
      "text/plain": []
     },
     "metadata": {},
     "output_type": "display_data"
    },
    {
     "data": {
      "application/vnd.jupyter.widget-view+json": {
       "model_id": "",
       "version_major": 2,
       "version_minor": 0
      },
      "text/plain": [
       "Output()"
      ]
     },
     "metadata": {},
     "output_type": "display_data"
    },
    {
     "data": {
      "text/html": [
       "<pre style=\"white-space:pre;overflow-x:auto;line-height:normal;font-family:Menlo,'DejaVu Sans Mono',consolas,'Courier New',monospace\">Event loop is already running. Applying nest_asyncio patch to allow async execution...\n",
       "</pre>\n"
      ],
      "text/plain": [
       "Event loop is already running. Applying nest_asyncio patch to allow async execution...\n"
      ]
     },
     "metadata": {},
     "output_type": "display_data"
    },
    {
     "name": "stdout",
     "output_type": "stream",
     "text": [
      "Contextual Recall Score:  1.0\n",
      "Contextual Recall Reason:  The score is 1.00 because the speaker proposes that Medicare should be given the power to negotiate lower drug prescription prices, and the node(s) in retrieval context) support this with phrases like 'Let’s give Medicare the power to save hundreds of billions of dollars by negotiating lower drug prescription prices.'.\n"
     ]
    },
    {
     "data": {
      "text/html": [
       "<pre style=\"white-space:pre;overflow-x:auto;line-height:normal;font-family:Menlo,'DejaVu Sans Mono',consolas,'Courier New',monospace\"></pre>\n"
      ],
      "text/plain": []
     },
     "metadata": {},
     "output_type": "display_data"
    },
    {
     "name": "stdout",
     "output_type": "stream",
     "text": [
      "Contextual Relevancy Score:  0.5\n",
      "Contextual Relevancy Reason:  The score is 0.50 because the reasons for irrelevancy indicate that the context doesn't specifically outline measures to lower prescription drug costs, but it does discuss the speaker's position and impact on costs. \"The context discusses the high prescription drug prices in America and suggests changing them, but it doesn't mention any specific measures the speaker proposes to lower costs.\" and \"The context only states the speaker's position on raising the cost of prescription drugs, not any measures to lower it.\" highlight this, suggesting a partial relevance as the context doesn't ignore the topic entirely.\n"
     ]
    }
   ],
   "source": [
    "# For RAG systems, DeepEval recommends the following Retrieval and Generation metrics:\n",
    "# Retrieval metrics:\n",
    "contextual_precision.measure(test_case)\n",
    "print(\"Contextual Precision Score: \", contextual_precision.score)\n",
    "print(\"Contextual Precision Reason: \", contextual_precision.reason)\n",
    "\n",
    "contextual_recall.measure(test_case)\n",
    "print(\"Contextual Recall Score: \", contextual_recall.score)\n",
    "print(\"Contextual Recall Reason: \", contextual_recall.reason)\n",
    "\n",
    "contextual_relevancy.measure(test_case)\n",
    "print(\"Contextual Relevancy Score: \", contextual_relevancy.score)\n",
    "print(\"Contextual Relevancy Reason: \", contextual_relevancy.reason)"
   ]
  },
  {
   "cell_type": "code",
   "execution_count": 29,
   "id": "4cd1ac8d-1f6f-47bb-87df-87528474486a",
   "metadata": {},
   "outputs": [
    {
     "data": {
      "application/vnd.jupyter.widget-view+json": {
       "model_id": "",
       "version_major": 2,
       "version_minor": 0
      },
      "text/plain": [
       "Output()"
      ]
     },
     "metadata": {},
     "output_type": "display_data"
    },
    {
     "data": {
      "text/html": [
       "<pre style=\"white-space:pre;overflow-x:auto;line-height:normal;font-family:Menlo,'DejaVu Sans Mono',consolas,'Courier New',monospace\">Event loop is already running. Applying nest_asyncio patch to allow async execution...\n",
       "</pre>\n"
      ],
      "text/plain": [
       "Event loop is already running. Applying nest_asyncio patch to allow async execution...\n"
      ]
     },
     "metadata": {},
     "output_type": "display_data"
    },
    {
     "data": {
      "text/html": [
       "<pre style=\"white-space:pre;overflow-x:auto;line-height:normal;font-family:Menlo,'DejaVu Sans Mono',consolas,'Courier New',monospace\"></pre>\n"
      ],
      "text/plain": []
     },
     "metadata": {},
     "output_type": "display_data"
    },
    {
     "data": {
      "application/vnd.jupyter.widget-view+json": {
       "model_id": "",
       "version_major": 2,
       "version_minor": 0
      },
      "text/plain": [
       "Output()"
      ]
     },
     "metadata": {},
     "output_type": "display_data"
    },
    {
     "data": {
      "text/html": [
       "<pre style=\"white-space:pre;overflow-x:auto;line-height:normal;font-family:Menlo,'DejaVu Sans Mono',consolas,'Courier New',monospace\">Event loop is already running. Applying nest_asyncio patch to allow async execution...\n",
       "</pre>\n"
      ],
      "text/plain": [
       "Event loop is already running. Applying nest_asyncio patch to allow async execution...\n"
      ]
     },
     "metadata": {},
     "output_type": "display_data"
    },
    {
     "name": "stdout",
     "output_type": "stream",
     "text": [
      "Answer Relevancy Score:  1.0\n",
      "Answer Relevancy Reason:  The score is 1.00 because the input asks for measures to lower prescription drug costs and the provided JSON correctly represents that information. Great job!\n"
     ]
    },
    {
     "data": {
      "text/html": [
       "<pre style=\"white-space:pre;overflow-x:auto;line-height:normal;font-family:Menlo,'DejaVu Sans Mono',consolas,'Courier New',monospace\"></pre>\n"
      ],
      "text/plain": []
     },
     "metadata": {},
     "output_type": "display_data"
    },
    {
     "name": "stdout",
     "output_type": "stream",
     "text": [
      "Faithfulness Score:  1.0\n",
      "Faithfulness Reason:  The score is 1.00 because there are no contradictions, this is great!\n"
     ]
    }
   ],
   "source": [
    "# Generation metrics:\n",
    "answer_relevancy = AnswerRelevancyMetric(model=custom_geminiflash)\n",
    "faithfulness = FaithfulnessMetric(model=custom_geminiflash)\n",
    "                                 \n",
    "answer_relevancy.measure(test_case)\n",
    "print(\"Answer Relevancy Score: \", answer_relevancy.score)\n",
    "print(\"Answer Relevancy Reason: \", answer_relevancy.reason)\n",
    "\n",
    "faithfulness.measure(test_case)\n",
    "print(\"Faithfulness Score: \", faithfulness.score)\n",
    "print(\"Faithfulness Reason: \", faithfulness.reason)"
   ]
  },
  {
   "cell_type": "code",
   "execution_count": 10,
   "id": "c32b6c3f-c08a-439f-9996-d33d20ca6f90",
   "metadata": {},
   "outputs": [],
   "source": [
    "# Example of measuring metrics for multiple test cases / a full dataset\n",
    "\n",
    "# Load manually curated dataset\n",
    "evaldataset = EvaluationDataset()\n",
    "evaldataset.add_test_cases_from_csv_file(\n",
    "    file_path=\"datasets/rag_mini_wikipedia_complete_chat_ares.csv\",\n",
    "    input_col_name=\"question\",\n",
    "    actual_output_col_name=\"answer\",\n",
    "    expected_output_col_name=\"ground_truth\",\n",
    "#    context_col_name=\"context\",\n",
    "#    context_col_delimiter= \",\",\n",
    "    retrieval_context_col_name=\"contexts\", # Context that the LLM produced when it answered the Input\n",
    "    retrieval_context_col_delimiter= \",\"\n",
    "#    additional_metadata_col_name=\"source_file\"\n",
    ")"
   ]
  },
  {
   "cell_type": "code",
   "execution_count": 11,
   "id": "c7d54857-001b-403c-9838-01082c365a88",
   "metadata": {},
   "outputs": [],
   "source": [
    "# Retriever metrics:\n",
    "contextual_precision = ContextualPrecisionMetric(model=custom_geminiflash, include_reason=False) # include_reason=False is an option\n",
    "contextual_recall = ContextualRecallMetric(model=custom_geminiflash)\n",
    "contextual_relevancy = ContextualRelevancyMetric(model=custom_geminiflash) # Note: this was the only metric that would not finish execution for the manually curated dataset (too many 429 errors)\n",
    "\n",
    "# Generation metrics:\n",
    "answer_relevancy = AnswerRelevancyMetric(model=custom_geminiflash)\n",
    "faithfulness = FaithfulnessMetric(model=custom_geminiflash, include_reason=False)"
   ]
  },
  {
   "cell_type": "code",
   "execution_count": 12,
   "id": "79f4561f-bb3d-417b-b9cc-994fb785991c",
   "metadata": {},
   "outputs": [
    {
     "data": {
      "text/plain": [
       "903"
      ]
     },
     "execution_count": 12,
     "metadata": {},
     "output_type": "execute_result"
    }
   ],
   "source": [
    "len(evaldataset.test_cases)"
   ]
  },
  {
   "cell_type": "code",
   "execution_count": 13,
   "id": "267468c9-2064-4c85-9073-0c5d699ef5d2",
   "metadata": {},
   "outputs": [],
   "source": [
    "all_1results = []"
   ]
  },
  {
   "cell_type": "code",
   "execution_count": 22,
   "id": "3091cca5-816f-4f65-8675-3879ca8b7221",
   "metadata": {},
   "outputs": [
    {
     "data": {
      "text/plain": [
       "0"
      ]
     },
     "execution_count": 22,
     "metadata": {},
     "output_type": "execute_result"
    }
   ],
   "source": [
    "#pd.DataFrame(contextprecision_results).to_clipboard(index=False,header=False)\n",
    "len(all_1results)"
   ]
  },
  {
   "cell_type": "code",
   "execution_count": 50,
   "id": "2c84960d-d52d-4178-8ef0-088e818b71db",
   "metadata": {
    "scrolled": true
   },
   "outputs": [
    {
     "name": "stdout",
     "output_type": "stream",
     "text": [
      "250\n"
     ]
    },
    {
     "data": {
      "text/html": [
       "<pre style=\"white-space:pre;overflow-x:auto;line-height:normal;font-family:Menlo,'DejaVu Sans Mono',consolas,'Courier New',monospace\">✨ You're running DeepEval's latest <span style=\"color: #6a00ff; text-decoration-color: #6a00ff\">Contextual Precision Metric</span>! <span style=\"color: #374151; text-decoration-color: #374151; font-weight: bold\">(</span><span style=\"color: #374151; text-decoration-color: #374151\">using Gemini </span><span style=\"color: #374151; text-decoration-color: #374151; font-weight: bold\">1.5</span><span style=\"color: #374151; text-decoration-color: #374151\"> Flash, </span><span style=\"color: #374151; text-decoration-color: #374151\">strict</span><span style=\"color: #374151; text-decoration-color: #374151\">=</span><span style=\"color: #374151; text-decoration-color: #374151; font-style: italic\">False</span><span style=\"color: #374151; text-decoration-color: #374151\">, </span>\n",
       "<span style=\"color: #374151; text-decoration-color: #374151\">async_mode</span><span style=\"color: #374151; text-decoration-color: #374151\">=</span><span style=\"color: #374151; text-decoration-color: #374151; font-style: italic\">True</span><span style=\"color: #374151; text-decoration-color: #374151; font-weight: bold\">)</span><span style=\"color: #374151; text-decoration-color: #374151\">...</span>\n",
       "</pre>\n"
      ],
      "text/plain": [
       "✨ You're running DeepEval's latest \u001b[38;2;106;0;255mContextual Precision Metric\u001b[0m! \u001b[1;38;2;55;65;81m(\u001b[0m\u001b[38;2;55;65;81musing Gemini \u001b[0m\u001b[1;38;2;55;65;81m1.5\u001b[0m\u001b[38;2;55;65;81m Flash, \u001b[0m\u001b[38;2;55;65;81mstrict\u001b[0m\u001b[38;2;55;65;81m=\u001b[0m\u001b[3;38;2;55;65;81mFalse\u001b[0m\u001b[38;2;55;65;81m, \u001b[0m\n",
       "\u001b[38;2;55;65;81masync_mode\u001b[0m\u001b[38;2;55;65;81m=\u001b[0m\u001b[3;38;2;55;65;81mTrue\u001b[0m\u001b[1;38;2;55;65;81m)\u001b[0m\u001b[38;2;55;65;81m...\u001b[0m\n"
      ]
     },
     "metadata": {},
     "output_type": "display_data"
    },
    {
     "name": "stdout",
     "output_type": "stream",
     "text": [
      "Event loop is already running. Applying nest_asyncio patch to allow async execution...\n"
     ]
    },
    {
     "name": "stderr",
     "output_type": "stream",
     "text": [
      "Evaluating 1 test case(s) in parallel: |███████████████████████████████|100% (1/1) [Time Taken: 00:20, 20.03s/test case]"
     ]
    },
    {
     "name": "stdout",
     "output_type": "stream",
     "text": [
      "\n",
      "======================================================================\n",
      "\n",
      "Metrics Summary\n",
      "\n",
      "  - ✅ Contextual Precision (score: 0.625, threshold: 0.5, strict: False, evaluation model: Gemini 1.5 Flash, reason: None, error: None)\n",
      "\n",
      "For test case:\n",
      "\n",
      "  - input: What positions Ford played in the school football team?\n",
      "  - actual output: Gerald Ford played center and linebacker for the University of Michigan football team.\n",
      "\n",
      "  - expected output: Center and linebacker\n",
      "  - context: []\n",
      "  - retrieval context: [\"['Ford attended Grand Rapids South High School and was a star athlete and captain of his football team. In 1930\", \" he was selected to the All-City team of the Grand Rapids City League. He also attracted the attention of college recruiters.'\", \" 'At Michigan\", ' Ford became a member of the Delta Kappa Epsilon fraternity and washed dishes at his fraternity house to earn money for college expenses. Following his graduation in 1935 with a degree in political science and economics', ' he turned down contract offers from the Detroit Lions and Green Bay Packers of the National Football League in order to take a coaching position at Yale and apply to its law school. Each team was offering him a contract of $200 a game', ' but he wanted a legal education.     Ford continued to contribute to football and boxing', \" accepting an assistant coaching job for both at Yale in September 1935.'\", \" 'Ford as a University of Michigan football player\", \" 1933'\", \" 'Ford received a commission as ensign in the U.S. Naval Reserve on April 13\", ' 1942. On April 20', ' he reported for active duty to the V-5 instructor school at Annapolis', ' Maryland. After one month of training', ' he went to Navy Preflight School in Chapel Hill', ' North Carolina', ' where he was one of 83 instructors and taught elementary seamanship', ' ordnance', ' gunnery', ' first aid and military drill. In addition', ' he coached in all nine sports that were offered', ' but mostly in swimming', ' boxing and football. During the one year he was at the Preflight School', ' he was promoted to Lieutenant Junior Grade on June 2', ' 1942', \" and to Lieutenant in March 1943.'\", \" 'Attending the University of Michigan as an undergraduate\", ' Ford played center and linebacker for the schoolâ\\\\x80\\\\x99s football team and helped the Wolverines to undefeated seasons and national titles in 1932 and 1933. The team suffered a steep decline in his 1934 senior year', ' however', ' winning only one game. Ford was the teamâ\\\\x80\\\\x99s star nonetheless', ' and after a game during which Michigan held heavily favored Minnesota (the eventual national champion) to a scoreless tie in the first half', ' assistant coach Bennie Oosterbaan later said', ' â\\\\x80\\\\x9cWhen I walked into the dressing room at half time', ' I had tears in my eyes I was so proud of them.  Ford and [Cedric] Sweet played their hearts out. They were everywhere on defense.â\\\\x80\\\\x9d Ford himself later recalled', ' â\\\\x80\\\\x9cDuring 25 years in the rough-and-tumble world of politics', ' I often thought of the experiences before', ' during', ' and after that game in 1934. Remembering them has helped me many times to face a tough situation', ' take action', ' and make every effort possible despite adverse odds.â\\\\x80\\\\x9d  His teammates later voted Ford their most valuable player', ' with one assistant coach noting', \" â\\\\x80\\\\x9cThey felt Jerry was one guy who would stay and fight in a losing cause.â\\\\x80\\\\x9d'\", ' \"Applying for sea duty', ' Ford was sent in May 1943 to the pre-commissioning detachment for the new aircraft carrier USS Monterey', ' at New York Shipbuilding Corporation', ' Camden', \" New Jersey. From the ship's commissioning on June 17\", ' 1943 until the end of December 1944', ' Ford served as the assistant navigator', ' Athletic Officer', ' and antiaircraft battery officer on board the Monterey. While he was on board', ' the carrier participated in many actions in the Pacific Theater with the Third and Fifth Fleets during the fall of 1943 and in 1944. In 1943', ' the carrier helped secure Makin Island in the Gilberts', ' and participated in carrier strikes against Kavieng', ' New Ireland in 1943. During the spring of 1944', ' the Monterey supported landings at Kwajalein and Eniwetok and participated in carrier strikes in the Marianas', ' Western Carolines', ' and northern New Guinea', ' as well as in the Battle of the Philippine Sea.         After overhaul', ' from September to November 1944', ' aircraft from the Monterey launched strikes against Wake Island', ' participated in strikes in the Philippines and Ryukyus', ' and supported the landings at Leyte and Mindoro.\"', \" 'The Fords had four children:'\", ' \"Ford hoped to attend Yale\\'s law school beginning in 1935 while serving as boxing coach and assistant varsity football coach', ' but Yale officials initially denied his admission to the law school', ' because of his full-time coaching responsibilities.  He spent the summer of 1937 as a student at the University of Michigan Law School     and was eventually admitted in the spring of 1938 to Yale Law School.     Ford earned his LL.B. degree in 1941 (later amended to Juris Doctor)', ' graduating in the top 25 percent of his class. His introduction to politics came in the summer of 1940 when he worked in Wendell Willkie\\'s presidential campaign.\"', ' \"After the fire the Monterey was declared unfit for service', ' and the crippled carrier reached Ulithi on December 21 before proceeding across the Pacific to Bremerton', ' Washington where it underwent repairs. On December 24', ' 1944 at Ulithi', \" Ford was detached from the ship and sent to the Athletic Department of the Navy Pre-Flight School at Saint Mary's College of California\", ' where he was assigned to the Athletic Department until April 1945. One of his duties was to coach football. From the end of April 1945 to January 1946', ' he was on the staff of the Naval Reserve Training Command', ' Naval Air Station', ' Glenview', ' Illinois as the Staff Physical and Military Training Officer. On October 3', ' 1945 he was promoted to Lieutenant Commander. In January 1946', ' he was sent to the Separation Center', ' Great Lakes to be processed out. He was released from active duty under honorable conditions on February 23', ' 1946. On June 28', ' 1946', ' the Secretary of the Navy accepted Ford\\'s resignation from the Naval Reserve.\"', ' \"Prior to 1973', ' Ford served for over eight years as the Republican Minority Leader of the United States House of Representatives; he was originally elected to Congress in 1948 from Michigan\\'s 5th congressional district.\"]']\n",
      "\n",
      "======================================================================\n",
      "\n",
      "Overall Metric Pass Rates\n",
      "\n",
      "Contextual Precision: 100.00% pass rate\n",
      "\n",
      "======================================================================\n",
      "\n"
     ]
    },
    {
     "name": "stderr",
     "output_type": "stream",
     "text": [
      "\n"
     ]
    },
    {
     "data": {
      "text/html": [
       "<pre style=\"white-space:pre;overflow-x:auto;line-height:normal;font-family:Menlo,'DejaVu Sans Mono',consolas,'Courier New',monospace\"><span style=\"color: #05f58d; text-decoration-color: #05f58d\">✓</span> Tests finished 🎉! Run <span style=\"color: #008000; text-decoration-color: #008000\">'deepeval login'</span> to save and analyze evaluation results on Confident AI.  \n",
       "‼️ Looking for a place for your LLM test data to live 🏡? Use Confident AI for test reports, benchmark analysis, \n",
       "compare models/prompts, and catch regressions for your LLM system.\n",
       "</pre>\n"
      ],
      "text/plain": [
       "\u001b[38;2;5;245;141m✓\u001b[0m Tests finished 🎉! Run \u001b[32m'deepeval login'\u001b[0m to save and analyze evaluation results on Confident AI.  \n",
       "‼️ Looking for a place for your LLM test data to live 🏡? Use Confident AI for test reports, benchmark analysis, \n",
       "compare models/prompts, and catch regressions for your LLM system.\n"
      ]
     },
     "metadata": {},
     "output_type": "display_data"
    },
    {
     "name": "stdout",
     "output_type": "stream",
     "text": [
      "251\n"
     ]
    },
    {
     "data": {
      "text/html": [
       "<pre style=\"white-space:pre;overflow-x:auto;line-height:normal;font-family:Menlo,'DejaVu Sans Mono',consolas,'Courier New',monospace\">✨ You're running DeepEval's latest <span style=\"color: #6a00ff; text-decoration-color: #6a00ff\">Contextual Precision Metric</span>! <span style=\"color: #374151; text-decoration-color: #374151; font-weight: bold\">(</span><span style=\"color: #374151; text-decoration-color: #374151\">using Gemini </span><span style=\"color: #374151; text-decoration-color: #374151; font-weight: bold\">1.5</span><span style=\"color: #374151; text-decoration-color: #374151\"> Flash, </span><span style=\"color: #374151; text-decoration-color: #374151\">strict</span><span style=\"color: #374151; text-decoration-color: #374151\">=</span><span style=\"color: #374151; text-decoration-color: #374151; font-style: italic\">False</span><span style=\"color: #374151; text-decoration-color: #374151\">, </span>\n",
       "<span style=\"color: #374151; text-decoration-color: #374151\">async_mode</span><span style=\"color: #374151; text-decoration-color: #374151\">=</span><span style=\"color: #374151; text-decoration-color: #374151; font-style: italic\">True</span><span style=\"color: #374151; text-decoration-color: #374151; font-weight: bold\">)</span><span style=\"color: #374151; text-decoration-color: #374151\">...</span>\n",
       "</pre>\n"
      ],
      "text/plain": [
       "✨ You're running DeepEval's latest \u001b[38;2;106;0;255mContextual Precision Metric\u001b[0m! \u001b[1;38;2;55;65;81m(\u001b[0m\u001b[38;2;55;65;81musing Gemini \u001b[0m\u001b[1;38;2;55;65;81m1.5\u001b[0m\u001b[38;2;55;65;81m Flash, \u001b[0m\u001b[38;2;55;65;81mstrict\u001b[0m\u001b[38;2;55;65;81m=\u001b[0m\u001b[3;38;2;55;65;81mFalse\u001b[0m\u001b[38;2;55;65;81m, \u001b[0m\n",
       "\u001b[38;2;55;65;81masync_mode\u001b[0m\u001b[38;2;55;65;81m=\u001b[0m\u001b[3;38;2;55;65;81mTrue\u001b[0m\u001b[1;38;2;55;65;81m)\u001b[0m\u001b[38;2;55;65;81m...\u001b[0m\n"
      ]
     },
     "metadata": {},
     "output_type": "display_data"
    },
    {
     "name": "stdout",
     "output_type": "stream",
     "text": [
      "Event loop is already running. Applying nest_asyncio patch to allow async execution...\n"
     ]
    },
    {
     "name": "stderr",
     "output_type": "stream",
     "text": [
      "Evaluating 1 test case(s) in parallel: |███████████████████████████████|100% (1/1) [Time Taken: 00:20, 20.00s/test case]"
     ]
    },
    {
     "name": "stdout",
     "output_type": "stream",
     "text": [
      "\n",
      "======================================================================\n",
      "\n",
      "Metrics Summary\n",
      "\n",
      "  - ✅ Contextual Precision (score: 1.0, threshold: 0.5, strict: False, evaluation model: Gemini 1.5 Flash, reason: None, error: None)\n",
      "\n",
      "For test case:\n",
      "\n",
      "  - input: What did Ford say about his biological father?\n",
      "  - actual output: Gerald Ford described his biological father as a \"carefree, well-to-do man\".  Later in life, he also described his biological father as abusive.\n",
      "\n",
      "  - expected output: He was abusive and had a history of hitting his mother.\n",
      "  - context: []\n",
      "  - retrieval context: [\"['Ford was not aware of his biological parentage until he was 17\", ' when his parents told him about the circumstances of his birth. That same year his biological father', ' whom he described as a \"carefree', ' well-to-do man\"', ' approached Ford while he was waiting tables in a Grand Rapids restaurant. The two \"maintained a sporadic contact\" until Leslie King', \" Sr.\\\\'s death\", ' Associated Press. Nebraska - Born', ' Ford Left State As Infant. The New York Times (December 27', ' 2006).  Retrieved on December 31', ' 2006.     but Ford maintained his distance emotionally', ' saying', ' \"My stepfather was a magnificent person and my mother equally wonderful. So I couldn\\\\\\'t have written a better prescription for a superb family upbringing.\"\\'', ' \"Gerald Ford later said his biological father was abusive and had a history of hitting his mother.     James M. Cannon', ' who was the executive director of the domestic council during the Ford administration', \" wrote in a biography of the former president that the Kings' separation and divorce were sparked when\", \" a few days after Ford's birth\", ' Leslie King', ' Sr. threatened his wife', ' Dorothy', ' with a butcher knife and announced his intention to kill her', ' the baby', \" and the baby's nursemaid. His first abusive action\", ' according to Ford', \" occurred on the couple's honeymoon\", ' when King hit his wife for smiling at another man.\"', \" 'Ford is honored during a memorial service in the U.S. Capitol Rotunda in Washington\", ' D.C. on December 30', \" 2006.'\", \" '*Ford is one of only four former Presidents to live to 90 or more years of age. The others are Ronald Reagan (93)\", \" John Adams (90) and Herbert Hoover (90).'\", \" 'The Fords had four children:'\", \" 'Ford at his 90th birthday party with Laura Bush\", ' President George W. Bush', \" and Betty Ford in the White House State Dining Room in 2003.'\", ' \"*Ford died on the 34th anniversary of President Harry Truman\\'s death', ' the second U.S. President to die on Boxing Day', \" which Ford's pastor\", ' The Rev. Dr. Robert Certain', ' noted when he referred to December 26 as its traditional Christian reference', ' St. Stephen\\'s Day.\"', \" '*On November 12\", ' 2006', ' Ford became the longest-lived President', ' surpassing Ronald Reagan.    At the time of his death', \" he had outlived President Reagan by 45 days.'\", ' \"Gerald R. Ford was born Leslie Lynch King', ' Jr. on July 14', ' 1913', ' at 12:43 a.m. CST', ' at 3202 Woolworth Avenue in Omaha', ' Nebraska. His parents', ' Leslie Lynch King', ' Sr.', ' a wool trader whose father was a prominent banker', ' and his wife', ' the former Dorothy Ayer Gardner', ' separated just sixteen days after his birth. His mother took him to the Oak Park', ' Illinois home of her sister Tannisse and her husband', ' Clarence Haskins James. From there she moved to the home of her parents', ' Levi Addison Gardner and his wife', ' the former Adele Augusta Ayer', ' in Grand Rapids', ' Michigan. Ford\\'s parents divorced the following December with his mother gaining full custody.\"', ' \"Ford\\'s tenure as Vice President was little noted by the media. Instead', ' reporters were preoccupied by the continuing revelations about criminal acts during the 1972 presidential election and allegations of cover-ups within the White House. Ford said little about the Watergate scandal', ' although he privately expressed his personal disappointment in the President\\'s conduct.\"]']\n",
      "\n",
      "======================================================================\n",
      "\n",
      "Overall Metric Pass Rates\n",
      "\n",
      "Contextual Precision: 100.00% pass rate\n",
      "\n",
      "======================================================================\n",
      "\n"
     ]
    },
    {
     "name": "stderr",
     "output_type": "stream",
     "text": [
      "\n"
     ]
    },
    {
     "data": {
      "text/html": [
       "<pre style=\"white-space:pre;overflow-x:auto;line-height:normal;font-family:Menlo,'DejaVu Sans Mono',consolas,'Courier New',monospace\"><span style=\"color: #05f58d; text-decoration-color: #05f58d\">✓</span> Tests finished 🎉! Run <span style=\"color: #008000; text-decoration-color: #008000\">'deepeval login'</span> to save and analyze evaluation results on Confident AI.  \n",
       "‼️ Looking for a place for your LLM test data to live 🏡? Use Confident AI for test reports, benchmark analysis, \n",
       "compare models/prompts, and catch regressions for your LLM system.\n",
       "</pre>\n"
      ],
      "text/plain": [
       "\u001b[38;2;5;245;141m✓\u001b[0m Tests finished 🎉! Run \u001b[32m'deepeval login'\u001b[0m to save and analyze evaluation results on Confident AI.  \n",
       "‼️ Looking for a place for your LLM test data to live 🏡? Use Confident AI for test reports, benchmark analysis, \n",
       "compare models/prompts, and catch regressions for your LLM system.\n"
      ]
     },
     "metadata": {},
     "output_type": "display_data"
    },
    {
     "name": "stdout",
     "output_type": "stream",
     "text": [
      "252\n"
     ]
    },
    {
     "data": {
      "text/html": [
       "<pre style=\"white-space:pre;overflow-x:auto;line-height:normal;font-family:Menlo,'DejaVu Sans Mono',consolas,'Courier New',monospace\">✨ You're running DeepEval's latest <span style=\"color: #6a00ff; text-decoration-color: #6a00ff\">Contextual Precision Metric</span>! <span style=\"color: #374151; text-decoration-color: #374151; font-weight: bold\">(</span><span style=\"color: #374151; text-decoration-color: #374151\">using Gemini </span><span style=\"color: #374151; text-decoration-color: #374151; font-weight: bold\">1.5</span><span style=\"color: #374151; text-decoration-color: #374151\"> Flash, </span><span style=\"color: #374151; text-decoration-color: #374151\">strict</span><span style=\"color: #374151; text-decoration-color: #374151\">=</span><span style=\"color: #374151; text-decoration-color: #374151; font-style: italic\">False</span><span style=\"color: #374151; text-decoration-color: #374151\">, </span>\n",
       "<span style=\"color: #374151; text-decoration-color: #374151\">async_mode</span><span style=\"color: #374151; text-decoration-color: #374151\">=</span><span style=\"color: #374151; text-decoration-color: #374151; font-style: italic\">True</span><span style=\"color: #374151; text-decoration-color: #374151; font-weight: bold\">)</span><span style=\"color: #374151; text-decoration-color: #374151\">...</span>\n",
       "</pre>\n"
      ],
      "text/plain": [
       "✨ You're running DeepEval's latest \u001b[38;2;106;0;255mContextual Precision Metric\u001b[0m! \u001b[1;38;2;55;65;81m(\u001b[0m\u001b[38;2;55;65;81musing Gemini \u001b[0m\u001b[1;38;2;55;65;81m1.5\u001b[0m\u001b[38;2;55;65;81m Flash, \u001b[0m\u001b[38;2;55;65;81mstrict\u001b[0m\u001b[38;2;55;65;81m=\u001b[0m\u001b[3;38;2;55;65;81mFalse\u001b[0m\u001b[38;2;55;65;81m, \u001b[0m\n",
       "\u001b[38;2;55;65;81masync_mode\u001b[0m\u001b[38;2;55;65;81m=\u001b[0m\u001b[3;38;2;55;65;81mTrue\u001b[0m\u001b[1;38;2;55;65;81m)\u001b[0m\u001b[38;2;55;65;81m...\u001b[0m\n"
      ]
     },
     "metadata": {},
     "output_type": "display_data"
    },
    {
     "name": "stdout",
     "output_type": "stream",
     "text": [
      "Event loop is already running. Applying nest_asyncio patch to allow async execution...\n"
     ]
    },
    {
     "name": "stderr",
     "output_type": "stream",
     "text": [
      "Evaluating 1 test case(s) in parallel: |███████████████████████████████|100% (1/1) [Time Taken: 00:20, 20.01s/test case]"
     ]
    },
    {
     "name": "stdout",
     "output_type": "stream",
     "text": [
      "\n",
      "======================================================================\n",
      "\n",
      "Metrics Summary\n",
      "\n",
      "  - ✅ Contextual Precision (score: 0.6428571428571428, threshold: 0.5, strict: False, evaluation model: Gemini 1.5 Flash, reason: None, error: None)\n",
      "\n",
      "For test case:\n",
      "\n",
      "  - input: Who did Ford nominate for Vice President?\n",
      "  - actual output: After becoming President, Gerald Ford nominated Nelson Rockefeller to be Vice President.\n",
      "\n",
      "  - expected output: Bob Dole\n",
      "  - context: []\n",
      "  - retrieval context: ['[\"Gerald Rudolph Ford', ' Jr. (July 14', ' 1913   December 26', ' 2006) was the thirty-eighth President of the United States', ' serving from 1974 to 1977', ' and the fortieth Vice President of the United States serving from 1973 to 1974. He was the first person appointed to the vice presidency under the terms of the 25th Amendment', \" and became President upon Richard Nixon's resignation on August 9\", ' 1974.\"', ' \"Ford reluctantly agreed to run for office in 1976', \" but first he had to counter a challenge for the Republican party nomination. Then-former Governor of California Ronald Reagan and the party's conservative wing faulted Ford for failing to do more in South Vietnam\", ' for signing the Helsinki Accords and for negotiating to cede the Panama Canal (negotiations for the canal continued under President Carter', ' who eventually signed the Torrijos-Carter Treaties). Reagan launched his campaign in the autumn of 1975 and won several primaries before withdrawing from the race at the Republican Convention in Kansas City', ' Missouri. The conservative insurgency convinced Ford to drop the more liberal Vice President Nelson Rockefeller in favor of Kansas Senator Bob Dole.  Another Loss For the Gipper. Time', ' March 29', ' 1976. Retrieved on December 31', ' 2006.\"', ' \"Ford was nominated to take Agnew\\'s position on October 12', ' the first time the vice-presidential vacancy provision of the 25th Amendment had been implemented. The United States Senate voted 92 to 3 to confirm Ford on November 27', ' and on December 6', ' the House confirmed him 387 to 35.\"', ' \"Prior to 1973', ' Ford served for over eight years as the Republican Minority Leader of the United States House of Representatives; he was originally elected to Congress in 1948 from Michigan\\'s 5th congressional district.\"', \" '*Ford was the third longest lived Vice President at the age of 93. The two oldest were John Nance Garner\", ' 98', ' and Levi P. Morton', \" 96.'\", \" 'Ford\\\\'s transition chairman and first Chief of Staff was former congressman and ambassador Donald Rumsfeld. In 1975\", ' Rumsfeld was named by Ford as the youngest-ever Secretary of Defense. Ford chose a young Wyoming politician', ' Richard Cheney', \" to replace Rumsfeld as his new Chief of Staff and later campaign manager for Ford\\\\'s 1976 presidential campaign.  Richard B. Cheney. United States Department of Defense. Retrieved on December 31\", ' 2006.  Ford\\\\\\'s dramatic reorganization of his Cabinet in the fall of 1975 has been referred to by political commentators as The \"Halloween Massacre.\"\\'', \" 'When Nixon resigned in the wake of the Watergate scandal on August 9\", ' 1974', ' Ford assumed the presidency making him the only person to assume the vice-presidency and the presidency without having been voted into either office. Immediately after taking the oath of office in the East Room of the White House', ' he spoke to the assembled audience in a speech broadcast live to the nation. Ford noted the peculiarity of his position: \"I am acutely aware that you have not elected me as your president by your ballots', ' and so I ask you to confirm me as your president with your prayers.\"    On August 20 Ford nominated former New York Governor Nelson Rockefeller to fill the vice presidency he had vacated. Rockefeller was confirmed by the House and Senate.\\'', ' \"The Fords and the Nixons in the White House Blue Room following President Nixon\\'s nomination of Ford to be Vice President', ' October 1973\"', \" 'As president\", ' Ford signed the Helsinki Accords', ' marking a move toward dÃ©tente in the Cold War', ' even as South Vietnam', ' a former ally', ' was invaded and conquered by North Vietnam. Ford did not intervene in Vietamese affairs', ' but did help extract friends of the U.S. Domestically', ' the economy suffered from inflation and a recession under President Ford. One of his more controversial decisions was granting a presidential pardon to President Richard Nixon for his role in the Watergate scandal. In 1976', ' Ford narrowly defeated Ronald Reagan for the Republican nomination', \" but ultimately lost the presidential election to Democrat Jimmy Carter.'\", \" 'After securing the Republican nomination in 1980\", ' Ronald Reagan gave serious consideration to his former rival Ford as a potential vice-presidential running mate.  But negotiations between the Reagan and Ford camps at the Republican National Convention in Detroit were unsuccessful. Ford conditioned his acceptance on Reagan\\\\\\'s agreement to an unprecedented \"co-presidency\"', '    giving Ford the power to control key executive branch appointments (such as Henry Kissinger as Secretary of State and Alan Greenspan as Treasury Secretary). After rejecting these terms', ' Reagan offered the vice-presidential nomination instead to George H. W. Bush. Allen', \" Richard V.  How the Bush Dynasty Almost Wasn\\\\'t. Hoover Institution\", ' reprinted from the New York Times Magazine', ' (July 30', ' 2000).  Retrieved on December 31', \" 2006.']\"]\n",
      "\n",
      "======================================================================\n",
      "\n",
      "Overall Metric Pass Rates\n",
      "\n",
      "Contextual Precision: 100.00% pass rate\n",
      "\n",
      "======================================================================\n",
      "\n"
     ]
    },
    {
     "name": "stderr",
     "output_type": "stream",
     "text": [
      "\n"
     ]
    },
    {
     "data": {
      "text/html": [
       "<pre style=\"white-space:pre;overflow-x:auto;line-height:normal;font-family:Menlo,'DejaVu Sans Mono',consolas,'Courier New',monospace\"><span style=\"color: #05f58d; text-decoration-color: #05f58d\">✓</span> Tests finished 🎉! Run <span style=\"color: #008000; text-decoration-color: #008000\">'deepeval login'</span> to save and analyze evaluation results on Confident AI.  \n",
       "‼️ Looking for a place for your LLM test data to live 🏡? Use Confident AI for test reports, benchmark analysis, \n",
       "compare models/prompts, and catch regressions for your LLM system.\n",
       "</pre>\n"
      ],
      "text/plain": [
       "\u001b[38;2;5;245;141m✓\u001b[0m Tests finished 🎉! Run \u001b[32m'deepeval login'\u001b[0m to save and analyze evaluation results on Confident AI.  \n",
       "‼️ Looking for a place for your LLM test data to live 🏡? Use Confident AI for test reports, benchmark analysis, \n",
       "compare models/prompts, and catch regressions for your LLM system.\n"
      ]
     },
     "metadata": {},
     "output_type": "display_data"
    },
    {
     "name": "stdout",
     "output_type": "stream",
     "text": [
      "253\n"
     ]
    },
    {
     "data": {
      "text/html": [
       "<pre style=\"white-space:pre;overflow-x:auto;line-height:normal;font-family:Menlo,'DejaVu Sans Mono',consolas,'Courier New',monospace\">✨ You're running DeepEval's latest <span style=\"color: #6a00ff; text-decoration-color: #6a00ff\">Contextual Precision Metric</span>! <span style=\"color: #374151; text-decoration-color: #374151; font-weight: bold\">(</span><span style=\"color: #374151; text-decoration-color: #374151\">using Gemini </span><span style=\"color: #374151; text-decoration-color: #374151; font-weight: bold\">1.5</span><span style=\"color: #374151; text-decoration-color: #374151\"> Flash, </span><span style=\"color: #374151; text-decoration-color: #374151\">strict</span><span style=\"color: #374151; text-decoration-color: #374151\">=</span><span style=\"color: #374151; text-decoration-color: #374151; font-style: italic\">False</span><span style=\"color: #374151; text-decoration-color: #374151\">, </span>\n",
       "<span style=\"color: #374151; text-decoration-color: #374151\">async_mode</span><span style=\"color: #374151; text-decoration-color: #374151\">=</span><span style=\"color: #374151; text-decoration-color: #374151; font-style: italic\">True</span><span style=\"color: #374151; text-decoration-color: #374151; font-weight: bold\">)</span><span style=\"color: #374151; text-decoration-color: #374151\">...</span>\n",
       "</pre>\n"
      ],
      "text/plain": [
       "✨ You're running DeepEval's latest \u001b[38;2;106;0;255mContextual Precision Metric\u001b[0m! \u001b[1;38;2;55;65;81m(\u001b[0m\u001b[38;2;55;65;81musing Gemini \u001b[0m\u001b[1;38;2;55;65;81m1.5\u001b[0m\u001b[38;2;55;65;81m Flash, \u001b[0m\u001b[38;2;55;65;81mstrict\u001b[0m\u001b[38;2;55;65;81m=\u001b[0m\u001b[3;38;2;55;65;81mFalse\u001b[0m\u001b[38;2;55;65;81m, \u001b[0m\n",
       "\u001b[38;2;55;65;81masync_mode\u001b[0m\u001b[38;2;55;65;81m=\u001b[0m\u001b[3;38;2;55;65;81mTrue\u001b[0m\u001b[1;38;2;55;65;81m)\u001b[0m\u001b[38;2;55;65;81m...\u001b[0m\n"
      ]
     },
     "metadata": {},
     "output_type": "display_data"
    },
    {
     "name": "stdout",
     "output_type": "stream",
     "text": [
      "Event loop is already running. Applying nest_asyncio patch to allow async execution...\n"
     ]
    },
    {
     "name": "stderr",
     "output_type": "stream",
     "text": [
      "Evaluating 1 test case(s) in parallel: |███████████████████████████████|100% (1/1) [Time Taken: 00:20, 20.01s/test case]"
     ]
    },
    {
     "name": "stdout",
     "output_type": "stream",
     "text": [
      "\n",
      "======================================================================\n",
      "\n",
      "Metrics Summary\n",
      "\n",
      "  - ❌ Contextual Precision (score: 0.0, threshold: 0.5, strict: False, evaluation model: Gemini 1.5 Flash, reason: None, error: None)\n",
      "\n",
      "For test case:\n",
      "\n",
      "  - input: Was Ford active about Vietnamese affairs?\n",
      "  - actual output: While Ford oversaw the final withdrawal of US personnel from Vietnam, the text indicates he did not actively intervene in Vietnamese affairs after the initial withdrawal of troops in 1973.\n",
      "\n",
      "  - expected output: No\n",
      "  - context: []\n",
      "  - retrieval context: [\"['As president\", ' Ford signed the Helsinki Accords', ' marking a move toward dÃ©tente in the Cold War', ' even as South Vietnam', ' a former ally', ' was invaded and conquered by North Vietnam. Ford did not intervene in Vietamese affairs', ' but did help extract friends of the U.S. Domestically', ' the economy suffered from inflation and a recession under President Ford. One of his more controversial decisions was granting a presidential pardon to President Richard Nixon for his role in the Watergate scandal. In 1976', ' Ford narrowly defeated Ronald Reagan for the Republican nomination', \" but ultimately lost the presidential election to Democrat Jimmy Carter.'\", ' \"All U.S. military forces had withdrawn from Vietnam in 1973. As the North Vietnamese invaded and conquered the South in 1975', \" Ford ordered the final withdrawal of U.S. civilians from Vietnam in 'Operation Frequent Wind'\", ' and the subsequent fall of Saigon. On April 29 and the morning of April 30', ' 1975', ' the U.S. embassy in Saigon was evacuated amidst a chaotic scene. Some 1', '373 U.S. citizens and 5', '595 Vietnamese and third country nationals were evacuated by military and Air America helicopters to U.S. Navy ships off-shore.\"', \" 'Ford was a member of the House of Representatives for twenty-four years\", ' holding the Grand Rapids congressional district seat from 1949 to 1973. It was a tenure largely notable for its modesty. As an editorial in The New York Times described him', ' Ford \"saw himself as a negotiator and a reconciler', ' and the record shows it: he did not write a single piece of major legislation in his entire career.\"\\'', \" 'Ford also faced a foreign policy crisis with the Mayaguez Incident. In May 1975\", ' shortly after the Khmer Rouge took power in Cambodia', ' Cambodians seized the American merchant ship Mayaguez in international waters. Ford dispatched Marines to rescue the crew', ' but the Marines landed on the wrong island and met unexpectedly stiff resistance just as', ' unknown to the U.S.', ' the Mayaguez sailors were being released. In the operation', \" forty-one U.S. servicemen were killed and fifty wounded while approximately sixty Khmer Rouge soldiers were killed.'\", ' \"Prior to 1973', ' Ford served for over eight years as the Republican Minority Leader of the United States House of Representatives; he was originally elected to Congress in 1948 from Michigan\\'s 5th congressional district.\"', \" 'Ford continued the dÃ©tente policy with both the Soviet Union and China\", \" easing the tensions of the Cold War.'\", ' \"Applying for sea duty', ' Ford was sent in May 1943 to the pre-commissioning detachment for the new aircraft carrier USS Monterey', ' at New York Shipbuilding Corporation', ' Camden', \" New Jersey. From the ship's commissioning on June 17\", ' 1943 until the end of December 1944', ' Ford served as the assistant navigator', ' Athletic Officer', ' and antiaircraft battery officer on board the Monterey. While he was on board', ' the carrier participated in many actions in the Pacific Theater with the Third and Fifth Fleets during the fall of 1943 and in 1944. In 1943', ' the carrier helped secure Makin Island in the Gilberts', ' and participated in carrier strikes against Kavieng', ' New Ireland in 1943. During the spring of 1944', ' the Monterey supported landings at Kwajalein and Eniwetok and participated in carrier strikes in the Marianas', ' Western Carolines', ' and northern New Guinea', ' as well as in the Battle of the Philippine Sea.         After overhaul', ' from September to November 1944', ' aircraft from the Monterey launched strikes against Wake Island', ' participated in strikes in the Philippines and Ryukyus', ' and supported the landings at Leyte and Mindoro.\"', ' \"Ford reluctantly agreed to run for office in 1976', \" but first he had to counter a challenge for the Republican party nomination. Then-former Governor of California Ronald Reagan and the party's conservative wing faulted Ford for failing to do more in South Vietnam\", ' for signing the Helsinki Accords and for negotiating to cede the Panama Canal (negotiations for the canal continued under President Carter', ' who eventually signed the Torrijos-Carter Treaties). Reagan launched his campaign in the autumn of 1975 and won several primaries before withdrawing from the race at the Republican Convention in Kansas City', ' Missouri. The conservative insurgency convinced Ford to drop the more liberal Vice President Nelson Rockefeller in favor of Kansas Senator Bob Dole.  Another Loss For the Gipper. Time', ' March 29', ' 1976. Retrieved on December 31', ' 2006.\"', \" 'Appointed to the House Appropriations Committee two years after being elected\", ' he was a prominent member of the Defense Appropriations Subcommittee. Ford described his philosophy as \"a moderate in domestic affairs', ' an internationalist in foreign affairs', ' and a conservative in fiscal policy.\"\\'', ' \"Ford hoped to attend Yale\\'s law school beginning in 1935 while serving as boxing coach and assistant varsity football coach', ' but Yale officials initially denied his admission to the law school', ' because of his full-time coaching responsibilities.  He spent the summer of 1937 as a student at the University of Michigan Law School     and was eventually admitted in the spring of 1938 to Yale Law School.     Ford earned his LL.B. degree in 1941 (later amended to Juris Doctor)', ' graduating in the top 25 percent of his class. His introduction to politics came in the summer of 1940 when he worked in Wendell Willkie\\'s presidential campaign.\"]']\n",
      "\n",
      "======================================================================\n",
      "\n",
      "Overall Metric Pass Rates\n",
      "\n",
      "Contextual Precision: 0.00% pass rate\n",
      "\n",
      "======================================================================\n",
      "\n"
     ]
    },
    {
     "name": "stderr",
     "output_type": "stream",
     "text": [
      "\n"
     ]
    },
    {
     "data": {
      "text/html": [
       "<pre style=\"white-space:pre;overflow-x:auto;line-height:normal;font-family:Menlo,'DejaVu Sans Mono',consolas,'Courier New',monospace\"><span style=\"color: #05f58d; text-decoration-color: #05f58d\">✓</span> Tests finished 🎉! Run <span style=\"color: #008000; text-decoration-color: #008000\">'deepeval login'</span> to save and analyze evaluation results on Confident AI.  \n",
       "‼️ Looking for a place for your LLM test data to live 🏡? Use Confident AI for test reports, benchmark analysis, \n",
       "compare models/prompts, and catch regressions for your LLM system.\n",
       "</pre>\n"
      ],
      "text/plain": [
       "\u001b[38;2;5;245;141m✓\u001b[0m Tests finished 🎉! Run \u001b[32m'deepeval login'\u001b[0m to save and analyze evaluation results on Confident AI.  \n",
       "‼️ Looking for a place for your LLM test data to live 🏡? Use Confident AI for test reports, benchmark analysis, \n",
       "compare models/prompts, and catch regressions for your LLM system.\n"
      ]
     },
     "metadata": {},
     "output_type": "display_data"
    },
    {
     "name": "stdout",
     "output_type": "stream",
     "text": [
      "254\n"
     ]
    },
    {
     "data": {
      "text/html": [
       "<pre style=\"white-space:pre;overflow-x:auto;line-height:normal;font-family:Menlo,'DejaVu Sans Mono',consolas,'Courier New',monospace\">✨ You're running DeepEval's latest <span style=\"color: #6a00ff; text-decoration-color: #6a00ff\">Contextual Precision Metric</span>! <span style=\"color: #374151; text-decoration-color: #374151; font-weight: bold\">(</span><span style=\"color: #374151; text-decoration-color: #374151\">using Gemini </span><span style=\"color: #374151; text-decoration-color: #374151; font-weight: bold\">1.5</span><span style=\"color: #374151; text-decoration-color: #374151\"> Flash, </span><span style=\"color: #374151; text-decoration-color: #374151\">strict</span><span style=\"color: #374151; text-decoration-color: #374151\">=</span><span style=\"color: #374151; text-decoration-color: #374151; font-style: italic\">False</span><span style=\"color: #374151; text-decoration-color: #374151\">, </span>\n",
       "<span style=\"color: #374151; text-decoration-color: #374151\">async_mode</span><span style=\"color: #374151; text-decoration-color: #374151\">=</span><span style=\"color: #374151; text-decoration-color: #374151; font-style: italic\">True</span><span style=\"color: #374151; text-decoration-color: #374151; font-weight: bold\">)</span><span style=\"color: #374151; text-decoration-color: #374151\">...</span>\n",
       "</pre>\n"
      ],
      "text/plain": [
       "✨ You're running DeepEval's latest \u001b[38;2;106;0;255mContextual Precision Metric\u001b[0m! \u001b[1;38;2;55;65;81m(\u001b[0m\u001b[38;2;55;65;81musing Gemini \u001b[0m\u001b[1;38;2;55;65;81m1.5\u001b[0m\u001b[38;2;55;65;81m Flash, \u001b[0m\u001b[38;2;55;65;81mstrict\u001b[0m\u001b[38;2;55;65;81m=\u001b[0m\u001b[3;38;2;55;65;81mFalse\u001b[0m\u001b[38;2;55;65;81m, \u001b[0m\n",
       "\u001b[38;2;55;65;81masync_mode\u001b[0m\u001b[38;2;55;65;81m=\u001b[0m\u001b[3;38;2;55;65;81mTrue\u001b[0m\u001b[1;38;2;55;65;81m)\u001b[0m\u001b[38;2;55;65;81m...\u001b[0m\n"
      ]
     },
     "metadata": {},
     "output_type": "display_data"
    },
    {
     "name": "stdout",
     "output_type": "stream",
     "text": [
      "Event loop is already running. Applying nest_asyncio patch to allow async execution...\n"
     ]
    },
    {
     "name": "stderr",
     "output_type": "stream",
     "text": [
      "Evaluating 1 test case(s) in parallel: |███████████████████████████████|100% (1/1) [Time Taken: 00:20, 20.02s/test case]"
     ]
    },
    {
     "name": "stdout",
     "output_type": "stream",
     "text": [
      "\n",
      "======================================================================\n",
      "\n",
      "Metrics Summary\n",
      "\n",
      "  - ❌ Contextual Precision (score: 0.0, threshold: 0.5, strict: False, evaluation model: Gemini 1.5 Flash, reason: None, error: None)\n",
      "\n",
      "For test case:\n",
      "\n",
      "  - input: hard\n",
      "  - actual output: That's a very general word!  To help me understand what you mean by \"hard,\" could you please provide some context or clarify your question?  For example, are you referring to something that is:\n",
      "\n",
      "* **Difficult?**  (e.g., \"This problem is hard.\")\n",
      "* **Solid or firm?** (e.g., \"The ground is hard.\")\n",
      "* **Severe or harsh?** (e.g., \"Hard times.\")\n",
      "* **Difficult to understand?** (e.g., \"That was a hard lecture.\")\n",
      "* **Working diligently?** (e.g., \"He works hard.\")\n",
      "\n",
      "More information will help me give you a more relevant and helpful response.\n",
      "\n",
      "  - expected output: hard\n",
      "  - context: []\n",
      "  - retrieval context: [\"['â\\\\x80\\\\x9cRunning the â\\\\x80\\\\x98Machineâ\\\\x80\\\\x99â\\\\x80\\\\x9d'\", \" 'This facial expression shows fear.'\", \" '* As a result\", \" musth behaviour is at least partly due to the elephant being driven mad by pain and distress.'\", \" 'De vi attractiva ....'\", \" 'And then in a memoir later'\", \" 'Retrieved March 7 2006.'\", \" '#Ar Rayyan'\", \" '#Ad Dawhah'\", \" 'and   tags and the tag below -->'\", \" 'johna.jpg']\"]\n",
      "\n",
      "======================================================================\n",
      "\n",
      "Overall Metric Pass Rates\n",
      "\n",
      "Contextual Precision: 0.00% pass rate\n",
      "\n",
      "======================================================================\n",
      "\n"
     ]
    },
    {
     "name": "stderr",
     "output_type": "stream",
     "text": [
      "\n"
     ]
    },
    {
     "data": {
      "text/html": [
       "<pre style=\"white-space:pre;overflow-x:auto;line-height:normal;font-family:Menlo,'DejaVu Sans Mono',consolas,'Courier New',monospace\"><span style=\"color: #05f58d; text-decoration-color: #05f58d\">✓</span> Tests finished 🎉! Run <span style=\"color: #008000; text-decoration-color: #008000\">'deepeval login'</span> to save and analyze evaluation results on Confident AI.  \n",
       "‼️ Looking for a place for your LLM test data to live 🏡? Use Confident AI for test reports, benchmark analysis, \n",
       "compare models/prompts, and catch regressions for your LLM system.\n",
       "</pre>\n"
      ],
      "text/plain": [
       "\u001b[38;2;5;245;141m✓\u001b[0m Tests finished 🎉! Run \u001b[32m'deepeval login'\u001b[0m to save and analyze evaluation results on Confident AI.  \n",
       "‼️ Looking for a place for your LLM test data to live 🏡? Use Confident AI for test reports, benchmark analysis, \n",
       "compare models/prompts, and catch regressions for your LLM system.\n"
      ]
     },
     "metadata": {},
     "output_type": "display_data"
    },
    {
     "name": "stdout",
     "output_type": "stream",
     "text": [
      "255\n"
     ]
    },
    {
     "data": {
      "text/html": [
       "<pre style=\"white-space:pre;overflow-x:auto;line-height:normal;font-family:Menlo,'DejaVu Sans Mono',consolas,'Courier New',monospace\">✨ You're running DeepEval's latest <span style=\"color: #6a00ff; text-decoration-color: #6a00ff\">Contextual Precision Metric</span>! <span style=\"color: #374151; text-decoration-color: #374151; font-weight: bold\">(</span><span style=\"color: #374151; text-decoration-color: #374151\">using Gemini </span><span style=\"color: #374151; text-decoration-color: #374151; font-weight: bold\">1.5</span><span style=\"color: #374151; text-decoration-color: #374151\"> Flash, </span><span style=\"color: #374151; text-decoration-color: #374151\">strict</span><span style=\"color: #374151; text-decoration-color: #374151\">=</span><span style=\"color: #374151; text-decoration-color: #374151; font-style: italic\">False</span><span style=\"color: #374151; text-decoration-color: #374151\">, </span>\n",
       "<span style=\"color: #374151; text-decoration-color: #374151\">async_mode</span><span style=\"color: #374151; text-decoration-color: #374151\">=</span><span style=\"color: #374151; text-decoration-color: #374151; font-style: italic\">True</span><span style=\"color: #374151; text-decoration-color: #374151; font-weight: bold\">)</span><span style=\"color: #374151; text-decoration-color: #374151\">...</span>\n",
       "</pre>\n"
      ],
      "text/plain": [
       "✨ You're running DeepEval's latest \u001b[38;2;106;0;255mContextual Precision Metric\u001b[0m! \u001b[1;38;2;55;65;81m(\u001b[0m\u001b[38;2;55;65;81musing Gemini \u001b[0m\u001b[1;38;2;55;65;81m1.5\u001b[0m\u001b[38;2;55;65;81m Flash, \u001b[0m\u001b[38;2;55;65;81mstrict\u001b[0m\u001b[38;2;55;65;81m=\u001b[0m\u001b[3;38;2;55;65;81mFalse\u001b[0m\u001b[38;2;55;65;81m, \u001b[0m\n",
       "\u001b[38;2;55;65;81masync_mode\u001b[0m\u001b[38;2;55;65;81m=\u001b[0m\u001b[3;38;2;55;65;81mTrue\u001b[0m\u001b[1;38;2;55;65;81m)\u001b[0m\u001b[38;2;55;65;81m...\u001b[0m\n"
      ]
     },
     "metadata": {},
     "output_type": "display_data"
    },
    {
     "name": "stdout",
     "output_type": "stream",
     "text": [
      "Event loop is already running. Applying nest_asyncio patch to allow async execution...\n"
     ]
    },
    {
     "name": "stderr",
     "output_type": "stream",
     "text": [
      "Evaluating 1 test case(s) in parallel: |███████████████████████████████|100% (1/1) [Time Taken: 00:20, 20.02s/test case]"
     ]
    },
    {
     "name": "stdout",
     "output_type": "stream",
     "text": [
      "\n",
      "======================================================================\n",
      "\n",
      "Metrics Summary\n",
      "\n",
      "  - ✅ Contextual Precision (score: 1.0, threshold: 0.5, strict: False, evaluation model: Gemini 1.5 Flash, reason: None, error: None)\n",
      "\n",
      "For test case:\n",
      "\n",
      "  - input: Had Ford's wife married before?\n",
      "  - actual output: Yes, Betty Ford had been previously married to William G. Warren before marrying Gerald Ford.\n",
      "\n",
      "  - expected output: Yes\n",
      "  - context: []\n",
      "  - retrieval context: [\"['On October 15\", ' 1948', ' at Grace Episcopal Church in Grand Rapids', ' Ford married Elizabeth Bloomer Warren', \" a department store fashion consultant. Warren had been a John Robert Powers fashion model and a dancer in the auxiliary troupe of the Martha Graham Dance Company. She had previously been married to and divorced from William G. Warren.'\", \" 'The Fords on their wedding day\", ' October 15', \" 1948'\", \" 'The Fords had four children:'\", \" '*On November 12\", ' 2006', ' Ford became the longest-lived President', ' surpassing Ronald Reagan.    At the time of his death', \" he had outlived President Reagan by 45 days.'\", ' \"*Ford died on the 34th anniversary of President Harry Truman\\'s death', ' the second U.S. President to die on Boxing Day', \" which Ford's pastor\", ' The Rev. Dr. Robert Certain', ' noted when he referred to December 26 as its traditional Christian reference', ' St. Stephen\\'s Day.\"', ' \"Ford hoped to attend Yale\\'s law school beginning in 1935 while serving as boxing coach and assistant varsity football coach', ' but Yale officials initially denied his admission to the law school', ' because of his full-time coaching responsibilities.  He spent the summer of 1937 as a student at the University of Michigan Law School     and was eventually admitted in the spring of 1938 to Yale Law School.     Ford earned his LL.B. degree in 1941 (later amended to Juris Doctor)', ' graduating in the top 25 percent of his class. His introduction to politics came in the summer of 1940 when he worked in Wendell Willkie\\'s presidential campaign.\"', \" 'Ford was not aware of his biological parentage until he was 17\", ' when his parents told him about the circumstances of his birth. That same year his biological father', ' whom he described as a \"carefree', ' well-to-do man\"', ' approached Ford while he was waiting tables in a Grand Rapids restaurant. The two \"maintained a sporadic contact\" until Leslie King', \" Sr.\\\\'s death\", ' Associated Press. Nebraska - Born', ' Ford Left State As Infant. The New York Times (December 27', ' 2006).  Retrieved on December 31', ' 2006.     but Ford maintained his distance emotionally', ' saying', ' \"My stepfather was a magnificent person and my mother equally wonderful. So I couldn\\\\\\'t have written a better prescription for a superb family upbringing.\"\\'', ' \"On February 1', ' 1916', ' now settled in Grand Rapids', ' Dorothy King married Gerald Rudolff Ford', ' a salesman in a family-owned paint and varnish company', ' who later became president of the firm.     She began calling her son Gerald Rudolff Ford', ' Jr. The future president was never formally adopted', ' however', ' and he did not legally change his name until December 3', \" 1935; he also used a more conventional spelling of his middle name.     He was raised in Grand Rapids with his three half-brothers by his mother's second marriage: Thomas Gardner Ford (1918â\\\\x80\\\\x931995)\", ' Richard Addison Ford (born 1924)', \" and James Francis Ford (1927â\\\\x80\\\\x932001). He also had three half-siblings by his father's second marriage: Marjorie King (1921â\\\\x80\\\\x931993)\", ' Leslie Henry King', ' Sr. (1923â\\\\x80\\\\x931976)', ' and Patricia Jane King (born 1925).\"', ' \"Prior to 1973', ' Ford served for over eight years as the Republican Minority Leader of the United States House of Representatives; he was originally elected to Congress in 1948 from Michigan\\'s 5th congressional district.\"', \" 'Ford faced two assassination attempts during his presidency\", ' occurring within three weeks of each other: while in Sacramento', ' California on September 5', ' 1975', ' Lynette \"Squeaky\" Fromme', ' a follower of Charles Manson', ' pointed a Colt 45-caliber handgun at Ford. As Fromme pulled the trigger', ' Larry Buendorf', '     a Secret Service agent', ' grabbed the gun and managed to insert the webbing of his thumb under the hammer', ' preventing the gun from firing. It was later found that', ' although the gun was loaded with four cartridges', ' it was a semi-automatic pistol and the slide had not been pulled to place a round in the firing chamber', \" making it impossible for the gun to fire. Fromme was taken into custody; she was later convicted of attempted assassination of the President and was sentenced to life in prison.']\"]\n",
      "\n",
      "======================================================================\n",
      "\n",
      "Overall Metric Pass Rates\n",
      "\n",
      "Contextual Precision: 100.00% pass rate\n",
      "\n",
      "======================================================================\n",
      "\n"
     ]
    },
    {
     "name": "stderr",
     "output_type": "stream",
     "text": [
      "\n"
     ]
    },
    {
     "data": {
      "text/html": [
       "<pre style=\"white-space:pre;overflow-x:auto;line-height:normal;font-family:Menlo,'DejaVu Sans Mono',consolas,'Courier New',monospace\"><span style=\"color: #05f58d; text-decoration-color: #05f58d\">✓</span> Tests finished 🎉! Run <span style=\"color: #008000; text-decoration-color: #008000\">'deepeval login'</span> to save and analyze evaluation results on Confident AI.  \n",
       "‼️ Looking for a place for your LLM test data to live 🏡? Use Confident AI for test reports, benchmark analysis, \n",
       "compare models/prompts, and catch regressions for your LLM system.\n",
       "</pre>\n"
      ],
      "text/plain": [
       "\u001b[38;2;5;245;141m✓\u001b[0m Tests finished 🎉! Run \u001b[32m'deepeval login'\u001b[0m to save and analyze evaluation results on Confident AI.  \n",
       "‼️ Looking for a place for your LLM test data to live 🏡? Use Confident AI for test reports, benchmark analysis, \n",
       "compare models/prompts, and catch regressions for your LLM system.\n"
      ]
     },
     "metadata": {},
     "output_type": "display_data"
    },
    {
     "name": "stdout",
     "output_type": "stream",
     "text": [
      "256\n"
     ]
    },
    {
     "data": {
      "text/html": [
       "<pre style=\"white-space:pre;overflow-x:auto;line-height:normal;font-family:Menlo,'DejaVu Sans Mono',consolas,'Courier New',monospace\">✨ You're running DeepEval's latest <span style=\"color: #6a00ff; text-decoration-color: #6a00ff\">Contextual Precision Metric</span>! <span style=\"color: #374151; text-decoration-color: #374151; font-weight: bold\">(</span><span style=\"color: #374151; text-decoration-color: #374151\">using Gemini </span><span style=\"color: #374151; text-decoration-color: #374151; font-weight: bold\">1.5</span><span style=\"color: #374151; text-decoration-color: #374151\"> Flash, </span><span style=\"color: #374151; text-decoration-color: #374151\">strict</span><span style=\"color: #374151; text-decoration-color: #374151\">=</span><span style=\"color: #374151; text-decoration-color: #374151; font-style: italic\">False</span><span style=\"color: #374151; text-decoration-color: #374151\">, </span>\n",
       "<span style=\"color: #374151; text-decoration-color: #374151\">async_mode</span><span style=\"color: #374151; text-decoration-color: #374151\">=</span><span style=\"color: #374151; text-decoration-color: #374151; font-style: italic\">True</span><span style=\"color: #374151; text-decoration-color: #374151; font-weight: bold\">)</span><span style=\"color: #374151; text-decoration-color: #374151\">...</span>\n",
       "</pre>\n"
      ],
      "text/plain": [
       "✨ You're running DeepEval's latest \u001b[38;2;106;0;255mContextual Precision Metric\u001b[0m! \u001b[1;38;2;55;65;81m(\u001b[0m\u001b[38;2;55;65;81musing Gemini \u001b[0m\u001b[1;38;2;55;65;81m1.5\u001b[0m\u001b[38;2;55;65;81m Flash, \u001b[0m\u001b[38;2;55;65;81mstrict\u001b[0m\u001b[38;2;55;65;81m=\u001b[0m\u001b[3;38;2;55;65;81mFalse\u001b[0m\u001b[38;2;55;65;81m, \u001b[0m\n",
       "\u001b[38;2;55;65;81masync_mode\u001b[0m\u001b[38;2;55;65;81m=\u001b[0m\u001b[3;38;2;55;65;81mTrue\u001b[0m\u001b[1;38;2;55;65;81m)\u001b[0m\u001b[38;2;55;65;81m...\u001b[0m\n"
      ]
     },
     "metadata": {},
     "output_type": "display_data"
    },
    {
     "name": "stdout",
     "output_type": "stream",
     "text": [
      "Event loop is already running. Applying nest_asyncio patch to allow async execution...\n"
     ]
    },
    {
     "name": "stderr",
     "output_type": "stream",
     "text": [
      "Evaluating 1 test case(s) in parallel: |███████████████████████████████|100% (1/1) [Time Taken: 00:20, 20.02s/test case]"
     ]
    },
    {
     "name": "stdout",
     "output_type": "stream",
     "text": [
      "\n",
      "======================================================================\n",
      "\n",
      "Metrics Summary\n",
      "\n",
      "  - ✅ Contextual Precision (score: 0.6428571428571428, threshold: 0.5, strict: False, evaluation model: Gemini 1.5 Flash, reason: None, error: None)\n",
      "\n",
      "For test case:\n",
      "\n",
      "  - input: Is Ford related with the assassination of John F. Kennedy?\n",
      "  - actual output: Gerald Ford's involvement with the assassination of John F. Kennedy stems from his role on the Warren Commission.  He was tasked with writing a biography of Lee Harvey Oswald and some believe he altered the report to support the single-bullet theory.  However, there's no evidence suggesting he was directly involved in the assassination itself.  His connection is solely related to his work on the commission's investigation.\n",
      "\n",
      "  - expected output: Yes\n",
      "  - context: []\n",
      "  - retrieval context: [\"['In November 1963\", ' President Lyndon B. Johnson appointed Ford to the Warren Commission', ' a special task force set up to investigate the assassination of President John F. Kennedy. Ford was assigned to prepare a biography of Lee Harvey Oswald', ' the accused assassin. In 1997 the Assassination Records Review Board (ARRB) released a document that revealed that Ford had altered the first draft of the report to read: \"A bullet had entered the base of the back of [Kennedy\\\\\\'s] neck slightly to the right of the spine.\" Some believed that Ford had elevated the location of the wound from its true location in the back to the neck to support the single bullet theory. ( ) The original first draft of the Warren Commission Report stated that a bullet had entered Kennedy\\\\\\'s \"back at a point slightly above the shoulder and to the right of the spine.\"  Ford replied in an introduction to a new edition of the Warren Commission Report in 2004:\\'', \" 'Ford faced two assassination attempts during his presidency\", ' occurring within three weeks of each other: while in Sacramento', ' California on September 5', ' 1975', ' Lynette \"Squeaky\" Fromme', ' a follower of Charles Manson', ' pointed a Colt 45-caliber handgun at Ford. As Fromme pulled the trigger', ' Larry Buendorf', '     a Secret Service agent', ' grabbed the gun and managed to insert the webbing of his thumb under the hammer', ' preventing the gun from firing. It was later found that', ' although the gun was loaded with four cartridges', ' it was a semi-automatic pistol and the slide had not been pulled to place a round in the firing chamber', \" making it impossible for the gun to fire. Fromme was taken into custody; she was later convicted of attempted assassination of the President and was sentenced to life in prison.'\", ' \"On February 1', ' 1916', ' now settled in Grand Rapids', ' Dorothy King married Gerald Rudolff Ford', ' a salesman in a family-owned paint and varnish company', ' who later became president of the firm.     She began calling her son Gerald Rudolff Ford', ' Jr. The future president was never formally adopted', ' however', ' and he did not legally change his name until December 3', \" 1935; he also used a more conventional spelling of his middle name.     He was raised in Grand Rapids with his three half-brothers by his mother's second marriage: Thomas Gardner Ford (1918â\\\\x80\\\\x931995)\", ' Richard Addison Ford (born 1924)', \" and James Francis Ford (1927â\\\\x80\\\\x932001). He also had three half-siblings by his father's second marriage: Marjorie King (1921â\\\\x80\\\\x931993)\", ' Leslie Henry King', ' Sr. (1923â\\\\x80\\\\x931976)', ' and Patricia Jane King (born 1925).\"', \" '*Ford was the last surviving member of the Warren Commission. Wilson\", ' Jeff.  Former President Gerald Ford Dies at 93. Associated Press. December 27', ' 2006. Also available  here.  Retrieved on December 31', \" 2006.'\", \" '*On November 12\", ' 2006', ' Ford became the longest-lived President', ' surpassing Ronald Reagan.    At the time of his death', \" he had outlived President Reagan by 45 days.'\", ' \"*Ford died on the 34th anniversary of President Harry Truman\\'s death', ' the second U.S. President to die on Boxing Day', \" which Ford's pastor\", ' The Rev. Dr. Robert Certain', ' noted when he referred to December 26 as its traditional Christian reference', ' St. Stephen\\'s Day.\"', ' \"Gerald R. Ford was born Leslie Lynch King', ' Jr. on July 14', ' 1913', ' at 12:43 a.m. CST', ' at 3202 Woolworth Avenue in Omaha', ' Nebraska. His parents', ' Leslie Lynch King', ' Sr.', ' a wool trader whose father was a prominent banker', ' and his wife', ' the former Dorothy Ayer Gardner', ' separated just sixteen days after his birth. His mother took him to the Oak Park', ' Illinois home of her sister Tannisse and her husband', ' Clarence Haskins James. From there she moved to the home of her parents', ' Levi Addison Gardner and his wife', ' the former Adele Augusta Ayer', ' in Grand Rapids', ' Michigan. Ford\\'s parents divorced the following December with his mother gaining full custody.\"', \" 'Ford is honored during a memorial service in the U.S. Capitol Rotunda in Washington\", ' D.C. on December 30', \" 2006.'\", \" 'On October 15\", ' 1948', ' at Grace Episcopal Church in Grand Rapids', ' Ford married Elizabeth Bloomer Warren', \" a department store fashion consultant. Warren had been a John Robert Powers fashion model and a dancer in the auxiliary troupe of the Martha Graham Dance Company. She had previously been married to and divorced from William G. Warren.'\", \" 'As president\", ' Ford signed the Helsinki Accords', ' marking a move toward dÃ©tente in the Cold War', ' even as South Vietnam', ' a former ally', ' was invaded and conquered by North Vietnam. Ford did not intervene in Vietamese affairs', ' but did help extract friends of the U.S. Domestically', ' the economy suffered from inflation and a recession under President Ford. One of his more controversial decisions was granting a presidential pardon to President Richard Nixon for his role in the Watergate scandal. In 1976', ' Ford narrowly defeated Ronald Reagan for the Republican nomination', \" but ultimately lost the presidential election to Democrat Jimmy Carter.']\"]\n",
      "\n",
      "======================================================================\n",
      "\n",
      "Overall Metric Pass Rates\n",
      "\n",
      "Contextual Precision: 100.00% pass rate\n",
      "\n",
      "======================================================================\n",
      "\n"
     ]
    },
    {
     "name": "stderr",
     "output_type": "stream",
     "text": [
      "\n"
     ]
    },
    {
     "data": {
      "text/html": [
       "<pre style=\"white-space:pre;overflow-x:auto;line-height:normal;font-family:Menlo,'DejaVu Sans Mono',consolas,'Courier New',monospace\"><span style=\"color: #05f58d; text-decoration-color: #05f58d\">✓</span> Tests finished 🎉! Run <span style=\"color: #008000; text-decoration-color: #008000\">'deepeval login'</span> to save and analyze evaluation results on Confident AI.  \n",
       "‼️ Looking for a place for your LLM test data to live 🏡? Use Confident AI for test reports, benchmark analysis, \n",
       "compare models/prompts, and catch regressions for your LLM system.\n",
       "</pre>\n"
      ],
      "text/plain": [
       "\u001b[38;2;5;245;141m✓\u001b[0m Tests finished 🎉! Run \u001b[32m'deepeval login'\u001b[0m to save and analyze evaluation results on Confident AI.  \n",
       "‼️ Looking for a place for your LLM test data to live 🏡? Use Confident AI for test reports, benchmark analysis, \n",
       "compare models/prompts, and catch regressions for your LLM system.\n"
      ]
     },
     "metadata": {},
     "output_type": "display_data"
    },
    {
     "name": "stdout",
     "output_type": "stream",
     "text": [
      "257\n"
     ]
    },
    {
     "data": {
      "text/html": [
       "<pre style=\"white-space:pre;overflow-x:auto;line-height:normal;font-family:Menlo,'DejaVu Sans Mono',consolas,'Courier New',monospace\">✨ You're running DeepEval's latest <span style=\"color: #6a00ff; text-decoration-color: #6a00ff\">Contextual Precision Metric</span>! <span style=\"color: #374151; text-decoration-color: #374151; font-weight: bold\">(</span><span style=\"color: #374151; text-decoration-color: #374151\">using Gemini </span><span style=\"color: #374151; text-decoration-color: #374151; font-weight: bold\">1.5</span><span style=\"color: #374151; text-decoration-color: #374151\"> Flash, </span><span style=\"color: #374151; text-decoration-color: #374151\">strict</span><span style=\"color: #374151; text-decoration-color: #374151\">=</span><span style=\"color: #374151; text-decoration-color: #374151; font-style: italic\">False</span><span style=\"color: #374151; text-decoration-color: #374151\">, </span>\n",
       "<span style=\"color: #374151; text-decoration-color: #374151\">async_mode</span><span style=\"color: #374151; text-decoration-color: #374151\">=</span><span style=\"color: #374151; text-decoration-color: #374151; font-style: italic\">True</span><span style=\"color: #374151; text-decoration-color: #374151; font-weight: bold\">)</span><span style=\"color: #374151; text-decoration-color: #374151\">...</span>\n",
       "</pre>\n"
      ],
      "text/plain": [
       "✨ You're running DeepEval's latest \u001b[38;2;106;0;255mContextual Precision Metric\u001b[0m! \u001b[1;38;2;55;65;81m(\u001b[0m\u001b[38;2;55;65;81musing Gemini \u001b[0m\u001b[1;38;2;55;65;81m1.5\u001b[0m\u001b[38;2;55;65;81m Flash, \u001b[0m\u001b[38;2;55;65;81mstrict\u001b[0m\u001b[38;2;55;65;81m=\u001b[0m\u001b[3;38;2;55;65;81mFalse\u001b[0m\u001b[38;2;55;65;81m, \u001b[0m\n",
       "\u001b[38;2;55;65;81masync_mode\u001b[0m\u001b[38;2;55;65;81m=\u001b[0m\u001b[3;38;2;55;65;81mTrue\u001b[0m\u001b[1;38;2;55;65;81m)\u001b[0m\u001b[38;2;55;65;81m...\u001b[0m\n"
      ]
     },
     "metadata": {},
     "output_type": "display_data"
    },
    {
     "name": "stdout",
     "output_type": "stream",
     "text": [
      "Event loop is already running. Applying nest_asyncio patch to allow async execution...\n"
     ]
    },
    {
     "name": "stderr",
     "output_type": "stream",
     "text": [
      "Evaluating 1 test case(s) in parallel: |███████████████████████████████|100% (1/1) [Time Taken: 00:20, 20.02s/test case]"
     ]
    },
    {
     "name": "stdout",
     "output_type": "stream",
     "text": [
      "\n",
      "======================================================================\n",
      "\n",
      "Metrics Summary\n",
      "\n",
      "  - ✅ Contextual Precision (score: 1.0, threshold: 0.5, strict: False, evaluation model: Gemini 1.5 Flash, reason: None, error: None)\n",
      "\n",
      "For test case:\n",
      "\n",
      "  - input: Was Gerald Ford the 38th President of the United States?\n",
      "  - actual output: Yes, Gerald Ford was the 38th President of the United States.\n",
      "\n",
      "  - expected output: yes\n",
      "  - context: []\n",
      "  - retrieval context: ['[\"Gerald Rudolph Ford', ' Jr. (July 14', ' 1913   December 26', ' 2006) was the thirty-eighth President of the United States', ' serving from 1974 to 1977', ' and the fortieth Vice President of the United States serving from 1973 to 1974. He was the first person appointed to the vice presidency under the terms of the 25th Amendment', \" and became President upon Richard Nixon's resignation on August 9\", ' 1974.\"', \" 'Gerald Ford is sworn in as the 38th President of the United States by Chief Justice Warren Burger in the White House East Room\", \" while Betty Ford looks on.'\", ' \"Gerald R. Ford was born Leslie Lynch King', ' Jr. on July 14', ' 1913', ' at 12:43 a.m. CST', ' at 3202 Woolworth Avenue in Omaha', ' Nebraska. His parents', ' Leslie Lynch King', ' Sr.', ' a wool trader whose father was a prominent banker', ' and his wife', ' the former Dorothy Ayer Gardner', ' separated just sixteen days after his birth. His mother took him to the Oak Park', ' Illinois home of her sister Tannisse and her husband', ' Clarence Haskins James. From there she moved to the home of her parents', ' Levi Addison Gardner and his wife', ' the former Adele Augusta Ayer', ' in Grand Rapids', ' Michigan. Ford\\'s parents divorced the following December with his mother gaining full custody.\"', \" '*On November 12\", ' 2006', ' Ford became the longest-lived President', ' surpassing Ronald Reagan.    At the time of his death', \" he had outlived President Reagan by 45 days.'\", \" 'As president\", ' Ford signed the Helsinki Accords', ' marking a move toward dÃ©tente in the Cold War', ' even as South Vietnam', ' a former ally', ' was invaded and conquered by North Vietnam. Ford did not intervene in Vietamese affairs', ' but did help extract friends of the U.S. Domestically', ' the economy suffered from inflation and a recession under President Ford. One of his more controversial decisions was granting a presidential pardon to President Richard Nixon for his role in the Watergate scandal. In 1976', ' Ford narrowly defeated Ronald Reagan for the Republican nomination', \" but ultimately lost the presidential election to Democrat Jimmy Carter.'\", \" '*Ford was the last surviving member of the Warren Commission. Wilson\", ' Jeff.  Former President Gerald Ford Dies at 93. Associated Press. December 27', ' 2006. Also available  here.  Retrieved on December 31', \" 2006.'\", \" 'For his naval service\", ' Gerald Ford earned the Asiatic-Pacific Campaign Medal with nine engagement stars for operations in the Gilbert Islands', ' Bismarck Archipelago', ' Marshall Islands', ' Asiatic and Pacific carrier raids', ' Hollandia', ' Marianas', ' Western Carolines', ' Western New Guinea', ' and the Leyte Operation. He also received the Philippine Liberation Medal with two bronze stars for Leyte and Mindoro', \" as well as the American Campaign and World War II Victory medals.'\", \" 'When Nixon resigned in the wake of the Watergate scandal on August 9\", ' 1974', ' Ford assumed the presidency making him the only person to assume the vice-presidency and the presidency without having been voted into either office. Immediately after taking the oath of office in the East Room of the White House', ' he spoke to the assembled audience in a speech broadcast live to the nation. Ford noted the peculiarity of his position: \"I am acutely aware that you have not elected me as your president by your ballots', ' and so I ask you to confirm me as your president with your prayers.\"    On August 20 Ford nominated former New York Governor Nelson Rockefeller to fill the vice presidency he had vacated. Rockefeller was confirmed by the House and Senate.\\'', ' \"Ford reluctantly agreed to run for office in 1976', \" but first he had to counter a challenge for the Republican party nomination. Then-former Governor of California Ronald Reagan and the party's conservative wing faulted Ford for failing to do more in South Vietnam\", ' for signing the Helsinki Accords and for negotiating to cede the Panama Canal (negotiations for the canal continued under President Carter', ' who eventually signed the Torrijos-Carter Treaties). Reagan launched his campaign in the autumn of 1975 and won several primaries before withdrawing from the race at the Republican Convention in Kansas City', ' Missouri. The conservative insurgency convinced Ford to drop the more liberal Vice President Nelson Rockefeller in favor of Kansas Senator Bob Dole.  Another Loss For the Gipper. Time', ' March 29', ' 1976. Retrieved on December 31', ' 2006.\"', ' \"Prior to 1973', ' Ford served for over eight years as the Republican Minority Leader of the United States House of Representatives; he was originally elected to Congress in 1948 from Michigan\\'s 5th congressional district.\"]']\n",
      "\n",
      "======================================================================\n",
      "\n",
      "Overall Metric Pass Rates\n",
      "\n",
      "Contextual Precision: 100.00% pass rate\n",
      "\n",
      "======================================================================\n",
      "\n"
     ]
    },
    {
     "name": "stderr",
     "output_type": "stream",
     "text": [
      "\n"
     ]
    },
    {
     "data": {
      "text/html": [
       "<pre style=\"white-space:pre;overflow-x:auto;line-height:normal;font-family:Menlo,'DejaVu Sans Mono',consolas,'Courier New',monospace\"><span style=\"color: #05f58d; text-decoration-color: #05f58d\">✓</span> Tests finished 🎉! Run <span style=\"color: #008000; text-decoration-color: #008000\">'deepeval login'</span> to save and analyze evaluation results on Confident AI.  \n",
       "‼️ Looking for a place for your LLM test data to live 🏡? Use Confident AI for test reports, benchmark analysis, \n",
       "compare models/prompts, and catch regressions for your LLM system.\n",
       "</pre>\n"
      ],
      "text/plain": [
       "\u001b[38;2;5;245;141m✓\u001b[0m Tests finished 🎉! Run \u001b[32m'deepeval login'\u001b[0m to save and analyze evaluation results on Confident AI.  \n",
       "‼️ Looking for a place for your LLM test data to live 🏡? Use Confident AI for test reports, benchmark analysis, \n",
       "compare models/prompts, and catch regressions for your LLM system.\n"
      ]
     },
     "metadata": {},
     "output_type": "display_data"
    },
    {
     "name": "stdout",
     "output_type": "stream",
     "text": [
      "258\n"
     ]
    },
    {
     "data": {
      "text/html": [
       "<pre style=\"white-space:pre;overflow-x:auto;line-height:normal;font-family:Menlo,'DejaVu Sans Mono',consolas,'Courier New',monospace\">✨ You're running DeepEval's latest <span style=\"color: #6a00ff; text-decoration-color: #6a00ff\">Contextual Precision Metric</span>! <span style=\"color: #374151; text-decoration-color: #374151; font-weight: bold\">(</span><span style=\"color: #374151; text-decoration-color: #374151\">using Gemini </span><span style=\"color: #374151; text-decoration-color: #374151; font-weight: bold\">1.5</span><span style=\"color: #374151; text-decoration-color: #374151\"> Flash, </span><span style=\"color: #374151; text-decoration-color: #374151\">strict</span><span style=\"color: #374151; text-decoration-color: #374151\">=</span><span style=\"color: #374151; text-decoration-color: #374151; font-style: italic\">False</span><span style=\"color: #374151; text-decoration-color: #374151\">, </span>\n",
       "<span style=\"color: #374151; text-decoration-color: #374151\">async_mode</span><span style=\"color: #374151; text-decoration-color: #374151\">=</span><span style=\"color: #374151; text-decoration-color: #374151; font-style: italic\">True</span><span style=\"color: #374151; text-decoration-color: #374151; font-weight: bold\">)</span><span style=\"color: #374151; text-decoration-color: #374151\">...</span>\n",
       "</pre>\n"
      ],
      "text/plain": [
       "✨ You're running DeepEval's latest \u001b[38;2;106;0;255mContextual Precision Metric\u001b[0m! \u001b[1;38;2;55;65;81m(\u001b[0m\u001b[38;2;55;65;81musing Gemini \u001b[0m\u001b[1;38;2;55;65;81m1.5\u001b[0m\u001b[38;2;55;65;81m Flash, \u001b[0m\u001b[38;2;55;65;81mstrict\u001b[0m\u001b[38;2;55;65;81m=\u001b[0m\u001b[3;38;2;55;65;81mFalse\u001b[0m\u001b[38;2;55;65;81m, \u001b[0m\n",
       "\u001b[38;2;55;65;81masync_mode\u001b[0m\u001b[38;2;55;65;81m=\u001b[0m\u001b[3;38;2;55;65;81mTrue\u001b[0m\u001b[1;38;2;55;65;81m)\u001b[0m\u001b[38;2;55;65;81m...\u001b[0m\n"
      ]
     },
     "metadata": {},
     "output_type": "display_data"
    },
    {
     "name": "stdout",
     "output_type": "stream",
     "text": [
      "Event loop is already running. Applying nest_asyncio patch to allow async execution...\n"
     ]
    },
    {
     "name": "stderr",
     "output_type": "stream",
     "text": [
      "Evaluating 1 test case(s) in parallel: |███████████████████████████████|100% (1/1) [Time Taken: 00:20, 20.02s/test case]"
     ]
    },
    {
     "name": "stdout",
     "output_type": "stream",
     "text": [
      "\n",
      "======================================================================\n",
      "\n",
      "Metrics Summary\n",
      "\n",
      "  - ✅ Contextual Precision (score: 0.8928571428571428, threshold: 0.5, strict: False, evaluation model: Gemini 1.5 Flash, reason: None, error: None)\n",
      "\n",
      "For test case:\n",
      "\n",
      "  - input: Did Gerald Ford serve as the Republican Minority Leader of the House of Representatives?\n",
      "  - actual output: Yes, Gerald Ford served as the Republican Minority Leader of the House of Representatives for over eight years.\n",
      "\n",
      "  - expected output: yes\n",
      "  - context: []\n",
      "  - retrieval context: ['[\"Gerald Rudolph Ford', ' Jr. (July 14', ' 1913   December 26', ' 2006) was the thirty-eighth President of the United States', ' serving from 1974 to 1977', ' and the fortieth Vice President of the United States serving from 1973 to 1974. He was the first person appointed to the vice presidency under the terms of the 25th Amendment', \" and became President upon Richard Nixon's resignation on August 9\", ' 1974.\"', ' \"Prior to 1973', ' Ford served for over eight years as the Republican Minority Leader of the United States House of Representatives; he was originally elected to Congress in 1948 from Michigan\\'s 5th congressional district.\"', \" 'Ford meets with President Richard Nixon as House Minority Leader'\", \" 'Ford was a member of the House of Representatives for twenty-four years\", ' holding the Grand Rapids congressional district seat from 1949 to 1973. It was a tenure largely notable for its modesty. As an editorial in The New York Times described him', ' Ford \"saw himself as a negotiator and a reconciler', ' and the record shows it: he did not write a single piece of major legislation in his entire career.\"\\'', \" 'In 1965\", ' Republican members of the House elected Ford as its Minority Leader. During the eight years (1965 1973) he served as Minority Leader', ' Ford won many friends in the House because of his fair leadership and inoffensive personality.  But President Johnson disliked Ford for the congressman\\\\\\'s frequent attacks on the administration\\\\\\'s \"Great Society\" programs as being unneeded or wasteful', \" and for his criticism of the President\\\\'s handling of the Vietnam War. As Minority Leader in the House\", ' Ford appeared in a popular series of televised press conferences with famed Illinois Senator Everett Dirksen', ' in which they proposed Republican alternatives to Johnson\\\\\\'s policies. Many in the press jokingly called this \"The Ev and Jerry Show\".     Johnson said of Ford at the time', ' \"That Gerald Ford. He can\\\\\\'t fart and chew gum at the same time.\"     The press', \" used to sanitizing LBJ\\\\'s salty language\", ' reported this as \"Gerald Ford can\\\\\\'t walk and chew gum at the same time.\"\\'', \" 'As president\", ' Ford signed the Helsinki Accords', ' marking a move toward dÃ©tente in the Cold War', ' even as South Vietnam', ' a former ally', ' was invaded and conquered by North Vietnam. Ford did not intervene in Vietamese affairs', ' but did help extract friends of the U.S. Domestically', ' the economy suffered from inflation and a recession under President Ford. One of his more controversial decisions was granting a presidential pardon to President Richard Nixon for his role in the Watergate scandal. In 1976', ' Ford narrowly defeated Ronald Reagan for the Republican nomination', \" but ultimately lost the presidential election to Democrat Jimmy Carter.'\", ' \"Gerald R. Ford was born Leslie Lynch King', ' Jr. on July 14', ' 1913', ' at 12:43 a.m. CST', ' at 3202 Woolworth Avenue in Omaha', ' Nebraska. His parents', ' Leslie Lynch King', ' Sr.', ' a wool trader whose father was a prominent banker', ' and his wife', ' the former Dorothy Ayer Gardner', ' separated just sixteen days after his birth. His mother took him to the Oak Park', ' Illinois home of her sister Tannisse and her husband', ' Clarence Haskins James. From there she moved to the home of her parents', ' Levi Addison Gardner and his wife', ' the former Adele Augusta Ayer', ' in Grand Rapids', ' Michigan. Ford\\'s parents divorced the following December with his mother gaining full custody.\"', \" '*Ford was the last surviving member of the Warren Commission. Wilson\", ' Jeff.  Former President Gerald Ford Dies at 93. Associated Press. December 27', ' 2006. Also available  here.  Retrieved on December 31', \" 2006.'\", \" 'As president\", ' Ford\\\\\\'s position on abortion was that he supported \"a federal constitutional amendment that would permit each one of the 50 States to make the choice.\"  Presidential Campaign Debate Between Gerald R. Ford and Jimmy Carter', ' October 22', ' 1976   This had also been his position as House Minority Leader in response to the 1973 Supreme Court case of Roe v. Wade', ' which he opposed.    Ford came under criticism for a 60 Minutes interview his wife Betty gave in 1975', ' in which she stated that Roe v. Wade was a \"great', ' great decision.\"     In later life', \" Ford would identify as pro-choice.'\", \" '*On November 12\", ' 2006', ' Ford became the longest-lived President', ' surpassing Ronald Reagan.    At the time of his death', \" he had outlived President Reagan by 45 days.']\"]\n",
      "\n",
      "======================================================================\n",
      "\n",
      "Overall Metric Pass Rates\n",
      "\n",
      "Contextual Precision: 100.00% pass rate\n",
      "\n",
      "======================================================================\n",
      "\n"
     ]
    },
    {
     "name": "stderr",
     "output_type": "stream",
     "text": [
      "\n"
     ]
    },
    {
     "data": {
      "text/html": [
       "<pre style=\"white-space:pre;overflow-x:auto;line-height:normal;font-family:Menlo,'DejaVu Sans Mono',consolas,'Courier New',monospace\"><span style=\"color: #05f58d; text-decoration-color: #05f58d\">✓</span> Tests finished 🎉! Run <span style=\"color: #008000; text-decoration-color: #008000\">'deepeval login'</span> to save and analyze evaluation results on Confident AI.  \n",
       "‼️ Looking for a place for your LLM test data to live 🏡? Use Confident AI for test reports, benchmark analysis, \n",
       "compare models/prompts, and catch regressions for your LLM system.\n",
       "</pre>\n"
      ],
      "text/plain": [
       "\u001b[38;2;5;245;141m✓\u001b[0m Tests finished 🎉! Run \u001b[32m'deepeval login'\u001b[0m to save and analyze evaluation results on Confident AI.  \n",
       "‼️ Looking for a place for your LLM test data to live 🏡? Use Confident AI for test reports, benchmark analysis, \n",
       "compare models/prompts, and catch regressions for your LLM system.\n"
      ]
     },
     "metadata": {},
     "output_type": "display_data"
    },
    {
     "name": "stdout",
     "output_type": "stream",
     "text": [
      "259\n"
     ]
    },
    {
     "data": {
      "text/html": [
       "<pre style=\"white-space:pre;overflow-x:auto;line-height:normal;font-family:Menlo,'DejaVu Sans Mono',consolas,'Courier New',monospace\">✨ You're running DeepEval's latest <span style=\"color: #6a00ff; text-decoration-color: #6a00ff\">Contextual Precision Metric</span>! <span style=\"color: #374151; text-decoration-color: #374151; font-weight: bold\">(</span><span style=\"color: #374151; text-decoration-color: #374151\">using Gemini </span><span style=\"color: #374151; text-decoration-color: #374151; font-weight: bold\">1.5</span><span style=\"color: #374151; text-decoration-color: #374151\"> Flash, </span><span style=\"color: #374151; text-decoration-color: #374151\">strict</span><span style=\"color: #374151; text-decoration-color: #374151\">=</span><span style=\"color: #374151; text-decoration-color: #374151; font-style: italic\">False</span><span style=\"color: #374151; text-decoration-color: #374151\">, </span>\n",
       "<span style=\"color: #374151; text-decoration-color: #374151\">async_mode</span><span style=\"color: #374151; text-decoration-color: #374151\">=</span><span style=\"color: #374151; text-decoration-color: #374151; font-style: italic\">True</span><span style=\"color: #374151; text-decoration-color: #374151; font-weight: bold\">)</span><span style=\"color: #374151; text-decoration-color: #374151\">...</span>\n",
       "</pre>\n"
      ],
      "text/plain": [
       "✨ You're running DeepEval's latest \u001b[38;2;106;0;255mContextual Precision Metric\u001b[0m! \u001b[1;38;2;55;65;81m(\u001b[0m\u001b[38;2;55;65;81musing Gemini \u001b[0m\u001b[1;38;2;55;65;81m1.5\u001b[0m\u001b[38;2;55;65;81m Flash, \u001b[0m\u001b[38;2;55;65;81mstrict\u001b[0m\u001b[38;2;55;65;81m=\u001b[0m\u001b[3;38;2;55;65;81mFalse\u001b[0m\u001b[38;2;55;65;81m, \u001b[0m\n",
       "\u001b[38;2;55;65;81masync_mode\u001b[0m\u001b[38;2;55;65;81m=\u001b[0m\u001b[3;38;2;55;65;81mTrue\u001b[0m\u001b[1;38;2;55;65;81m)\u001b[0m\u001b[38;2;55;65;81m...\u001b[0m\n"
      ]
     },
     "metadata": {},
     "output_type": "display_data"
    },
    {
     "name": "stdout",
     "output_type": "stream",
     "text": [
      "Event loop is already running. Applying nest_asyncio patch to allow async execution...\n"
     ]
    },
    {
     "name": "stderr",
     "output_type": "stream",
     "text": [
      "Evaluating 1 test case(s) in parallel: |███████████████████████████████|100% (1/1) [Time Taken: 00:20, 20.02s/test case]"
     ]
    },
    {
     "name": "stdout",
     "output_type": "stream",
     "text": [
      "\n",
      "======================================================================\n",
      "\n",
      "Metrics Summary\n",
      "\n",
      "  - ✅ Contextual Precision (score: 0.9166666666666666, threshold: 0.5, strict: False, evaluation model: Gemini 1.5 Flash, reason: None, error: None)\n",
      "\n",
      "For test case:\n",
      "\n",
      "  - input: Was Ford an Eagle Scout?\n",
      "  - actual output: Yes, Gerald Ford was an Eagle Scout.\n",
      "\n",
      "  - expected output: yes\n",
      "  - context: []\n",
      "  - retrieval context: [\"['Ford attended Grand Rapids South High School and was a star athlete and captain of his football team. In 1930\", \" he was selected to the All-City team of the Grand Rapids City League. He also attracted the attention of college recruiters.'\", \" 'Eagle Scout Gerald Ford (circled in red) in 1929.'\", ' \"Ford joined the Boy Scouts of America', \" and attained that program's highest rank\", ' Eagle Scout. He always regarded this as one of his proudest accomplishments', ' even after attaining the White House.     In subsequent years', ' Ford received the Distinguished Eagle Scout Award in May 1970 and Silver Buffalo Award from the Boy Scouts of America. He is the only US president who was an Eagle Scout.    Scouting was so important to Ford that his family asked that Scouts participate in his funeral. About 400 Eagle Scouts were part of the funeral procession', ' where they formed an honor guard as the casket went by in front of the museum', ' and served as ushers.\"', \" 'Ford received a commission as ensign in the U.S. Naval Reserve on April 13\", ' 1942. On April 20', ' he reported for active duty to the V-5 instructor school at Annapolis', ' Maryland. After one month of training', ' he went to Navy Preflight School in Chapel Hill', ' North Carolina', ' where he was one of 83 instructors and taught elementary seamanship', ' ordnance', ' gunnery', ' first aid and military drill. In addition', ' he coached in all nine sports that were offered', ' but mostly in swimming', ' boxing and football. During the one year he was at the Preflight School', ' he was promoted to Lieutenant Junior Grade on June 2', ' 1942', \" and to Lieutenant in March 1943.'\", \" 'Like Presidents Carter\", ' Bush Senior and Clinton', ' Ford was an honorary co-chair of the Council for Excellence in Government', \" a group dedicated to excellence in government performance and which provides leadership training to top federal employees.'\", ' \"Ford hoped to attend Yale\\'s law school beginning in 1935 while serving as boxing coach and assistant varsity football coach', ' but Yale officials initially denied his admission to the law school', ' because of his full-time coaching responsibilities.  He spent the summer of 1937 as a student at the University of Michigan Law School     and was eventually admitted in the spring of 1938 to Yale Law School.     Ford earned his LL.B. degree in 1941 (later amended to Juris Doctor)', ' graduating in the top 25 percent of his class. His introduction to politics came in the summer of 1940 when he worked in Wendell Willkie\\'s presidential campaign.\"', \" 'At Michigan\", ' Ford became a member of the Delta Kappa Epsilon fraternity and washed dishes at his fraternity house to earn money for college expenses. Following his graduation in 1935 with a degree in political science and economics', ' he turned down contract offers from the Detroit Lions and Green Bay Packers of the National Football League in order to take a coaching position at Yale and apply to its law school. Each team was offering him a contract of $200 a game', ' but he wanted a legal education.     Ford continued to contribute to football and boxing', \" accepting an assistant coaching job for both at Yale in September 1935.'\", \" 'Ford in Navy uniform\", \" 1945'\", \" 'On October 15\", ' 1948', ' at Grace Episcopal Church in Grand Rapids', ' Ford married Elizabeth Bloomer Warren', \" a department store fashion consultant. Warren had been a John Robert Powers fashion model and a dancer in the auxiliary troupe of the Martha Graham Dance Company. She had previously been married to and divorced from William G. Warren.'\", \" 'Ford as a University of Michigan football player\", \" 1933']\"]\n",
      "\n",
      "======================================================================\n",
      "\n",
      "Overall Metric Pass Rates\n",
      "\n",
      "Contextual Precision: 100.00% pass rate\n",
      "\n",
      "======================================================================\n",
      "\n"
     ]
    },
    {
     "name": "stderr",
     "output_type": "stream",
     "text": [
      "\n"
     ]
    },
    {
     "data": {
      "text/html": [
       "<pre style=\"white-space:pre;overflow-x:auto;line-height:normal;font-family:Menlo,'DejaVu Sans Mono',consolas,'Courier New',monospace\"><span style=\"color: #05f58d; text-decoration-color: #05f58d\">✓</span> Tests finished 🎉! Run <span style=\"color: #008000; text-decoration-color: #008000\">'deepeval login'</span> to save and analyze evaluation results on Confident AI.  \n",
       "‼️ Looking for a place for your LLM test data to live 🏡? Use Confident AI for test reports, benchmark analysis, \n",
       "compare models/prompts, and catch regressions for your LLM system.\n",
       "</pre>\n"
      ],
      "text/plain": [
       "\u001b[38;2;5;245;141m✓\u001b[0m Tests finished 🎉! Run \u001b[32m'deepeval login'\u001b[0m to save and analyze evaluation results on Confident AI.  \n",
       "‼️ Looking for a place for your LLM test data to live 🏡? Use Confident AI for test reports, benchmark analysis, \n",
       "compare models/prompts, and catch regressions for your LLM system.\n"
      ]
     },
     "metadata": {},
     "output_type": "display_data"
    },
    {
     "name": "stdout",
     "output_type": "stream",
     "text": [
      "260\n"
     ]
    },
    {
     "data": {
      "text/html": [
       "<pre style=\"white-space:pre;overflow-x:auto;line-height:normal;font-family:Menlo,'DejaVu Sans Mono',consolas,'Courier New',monospace\">✨ You're running DeepEval's latest <span style=\"color: #6a00ff; text-decoration-color: #6a00ff\">Contextual Precision Metric</span>! <span style=\"color: #374151; text-decoration-color: #374151; font-weight: bold\">(</span><span style=\"color: #374151; text-decoration-color: #374151\">using Gemini </span><span style=\"color: #374151; text-decoration-color: #374151; font-weight: bold\">1.5</span><span style=\"color: #374151; text-decoration-color: #374151\"> Flash, </span><span style=\"color: #374151; text-decoration-color: #374151\">strict</span><span style=\"color: #374151; text-decoration-color: #374151\">=</span><span style=\"color: #374151; text-decoration-color: #374151; font-style: italic\">False</span><span style=\"color: #374151; text-decoration-color: #374151\">, </span>\n",
       "<span style=\"color: #374151; text-decoration-color: #374151\">async_mode</span><span style=\"color: #374151; text-decoration-color: #374151\">=</span><span style=\"color: #374151; text-decoration-color: #374151; font-style: italic\">True</span><span style=\"color: #374151; text-decoration-color: #374151; font-weight: bold\">)</span><span style=\"color: #374151; text-decoration-color: #374151\">...</span>\n",
       "</pre>\n"
      ],
      "text/plain": [
       "✨ You're running DeepEval's latest \u001b[38;2;106;0;255mContextual Precision Metric\u001b[0m! \u001b[1;38;2;55;65;81m(\u001b[0m\u001b[38;2;55;65;81musing Gemini \u001b[0m\u001b[1;38;2;55;65;81m1.5\u001b[0m\u001b[38;2;55;65;81m Flash, \u001b[0m\u001b[38;2;55;65;81mstrict\u001b[0m\u001b[38;2;55;65;81m=\u001b[0m\u001b[3;38;2;55;65;81mFalse\u001b[0m\u001b[38;2;55;65;81m, \u001b[0m\n",
       "\u001b[38;2;55;65;81masync_mode\u001b[0m\u001b[38;2;55;65;81m=\u001b[0m\u001b[3;38;2;55;65;81mTrue\u001b[0m\u001b[1;38;2;55;65;81m)\u001b[0m\u001b[38;2;55;65;81m...\u001b[0m\n"
      ]
     },
     "metadata": {},
     "output_type": "display_data"
    },
    {
     "name": "stdout",
     "output_type": "stream",
     "text": [
      "Event loop is already running. Applying nest_asyncio patch to allow async execution...\n"
     ]
    },
    {
     "name": "stderr",
     "output_type": "stream",
     "text": [
      "Evaluating 1 test case(s) in parallel: |███████████████████████████████|100% (1/1) [Time Taken: 00:20, 20.02s/test case]"
     ]
    },
    {
     "name": "stdout",
     "output_type": "stream",
     "text": [
      "\n",
      "======================================================================\n",
      "\n",
      "Metrics Summary\n",
      "\n",
      "  - ✅ Contextual Precision (score: 1.0, threshold: 0.5, strict: False, evaluation model: Gemini 1.5 Flash, reason: None, error: None)\n",
      "\n",
      "For test case:\n",
      "\n",
      "  - input: What district was Ford elected from?\n",
      "  - actual output: Gerald Ford was originally elected to Congress from Michigan's 5th congressional district.\n",
      "\n",
      "  - expected output: Michigan's 5th congressional district\n",
      "  - context: []\n",
      "  - retrieval context: ['[\"Prior to 1973', ' Ford served for over eight years as the Republican Minority Leader of the United States House of Representatives; he was originally elected to Congress in 1948 from Michigan\\'s 5th congressional district.\"', \" 'Ford was a member of the House of Representatives for twenty-four years\", ' holding the Grand Rapids congressional district seat from 1949 to 1973. It was a tenure largely notable for its modesty. As an editorial in The New York Times described him', ' Ford \"saw himself as a negotiator and a reconciler', ' and the record shows it: he did not write a single piece of major legislation in his entire career.\"\\'', \" 'During his first campaign in 1948\", ' Ford visited farmers and promised he would work on their farms and milk the cows if elected a promise he fulfilled.    In 1961', ' the U.S. House membership voted Ford a special award as a \"Congressman\\\\\\'s Congressman\" that praised his committee work on military budgets.\\'', \" '*On November 12\", ' 2006', ' Ford became the longest-lived President', ' surpassing Ronald Reagan.    At the time of his death', \" he had outlived President Reagan by 45 days.'\", \" 'Appointed to the House Appropriations Committee two years after being elected\", ' he was a prominent member of the Defense Appropriations Subcommittee. Ford described his philosophy as \"a moderate in domestic affairs', ' an internationalist in foreign affairs', ' and a conservative in fiscal policy.\"\\'', ' \"Ford hoped to attend Yale\\'s law school beginning in 1935 while serving as boxing coach and assistant varsity football coach', ' but Yale officials initially denied his admission to the law school', ' because of his full-time coaching responsibilities.  He spent the summer of 1937 as a student at the University of Michigan Law School     and was eventually admitted in the spring of 1938 to Yale Law School.     Ford earned his LL.B. degree in 1941 (later amended to Juris Doctor)', ' graduating in the top 25 percent of his class. His introduction to politics came in the summer of 1940 when he worked in Wendell Willkie\\'s presidential campaign.\"', \" 'Ford meets with President Richard Nixon as House Minority Leader'\", \" 'As president\", ' Ford signed the Helsinki Accords', ' marking a move toward dÃ©tente in the Cold War', ' even as South Vietnam', ' a former ally', ' was invaded and conquered by North Vietnam. Ford did not intervene in Vietamese affairs', ' but did help extract friends of the U.S. Domestically', ' the economy suffered from inflation and a recession under President Ford. One of his more controversial decisions was granting a presidential pardon to President Richard Nixon for his role in the Watergate scandal. In 1976', ' Ford narrowly defeated Ronald Reagan for the Republican nomination', \" but ultimately lost the presidential election to Democrat Jimmy Carter.'\", ' \"Gerald Rudolph Ford', ' Jr. (July 14', ' 1913   December 26', ' 2006) was the thirty-eighth President of the United States', ' serving from 1974 to 1977', ' and the fortieth Vice President of the United States serving from 1973 to 1974. He was the first person appointed to the vice presidency under the terms of the 25th Amendment', \" and became President upon Richard Nixon's resignation on August 9\", ' 1974.\"', \" 'Ford attended Grand Rapids South High School and was a star athlete and captain of his football team. In 1930\", \" he was selected to the All-City team of the Grand Rapids City League. He also attracted the attention of college recruiters.']\"]\n",
      "\n",
      "======================================================================\n",
      "\n",
      "Overall Metric Pass Rates\n",
      "\n",
      "Contextual Precision: 100.00% pass rate\n",
      "\n",
      "======================================================================\n",
      "\n"
     ]
    },
    {
     "name": "stderr",
     "output_type": "stream",
     "text": [
      "\n"
     ]
    },
    {
     "data": {
      "text/html": [
       "<pre style=\"white-space:pre;overflow-x:auto;line-height:normal;font-family:Menlo,'DejaVu Sans Mono',consolas,'Courier New',monospace\"><span style=\"color: #05f58d; text-decoration-color: #05f58d\">✓</span> Tests finished 🎉! Run <span style=\"color: #008000; text-decoration-color: #008000\">'deepeval login'</span> to save and analyze evaluation results on Confident AI.  \n",
       "‼️ Looking for a place for your LLM test data to live 🏡? Use Confident AI for test reports, benchmark analysis, \n",
       "compare models/prompts, and catch regressions for your LLM system.\n",
       "</pre>\n"
      ],
      "text/plain": [
       "\u001b[38;2;5;245;141m✓\u001b[0m Tests finished 🎉! Run \u001b[32m'deepeval login'\u001b[0m to save and analyze evaluation results on Confident AI.  \n",
       "‼️ Looking for a place for your LLM test data to live 🏡? Use Confident AI for test reports, benchmark analysis, \n",
       "compare models/prompts, and catch regressions for your LLM system.\n"
      ]
     },
     "metadata": {},
     "output_type": "display_data"
    },
    {
     "name": "stdout",
     "output_type": "stream",
     "text": [
      "261\n"
     ]
    },
    {
     "data": {
      "text/html": [
       "<pre style=\"white-space:pre;overflow-x:auto;line-height:normal;font-family:Menlo,'DejaVu Sans Mono',consolas,'Courier New',monospace\">✨ You're running DeepEval's latest <span style=\"color: #6a00ff; text-decoration-color: #6a00ff\">Contextual Precision Metric</span>! <span style=\"color: #374151; text-decoration-color: #374151; font-weight: bold\">(</span><span style=\"color: #374151; text-decoration-color: #374151\">using Gemini </span><span style=\"color: #374151; text-decoration-color: #374151; font-weight: bold\">1.5</span><span style=\"color: #374151; text-decoration-color: #374151\"> Flash, </span><span style=\"color: #374151; text-decoration-color: #374151\">strict</span><span style=\"color: #374151; text-decoration-color: #374151\">=</span><span style=\"color: #374151; text-decoration-color: #374151; font-style: italic\">False</span><span style=\"color: #374151; text-decoration-color: #374151\">, </span>\n",
       "<span style=\"color: #374151; text-decoration-color: #374151\">async_mode</span><span style=\"color: #374151; text-decoration-color: #374151\">=</span><span style=\"color: #374151; text-decoration-color: #374151; font-style: italic\">True</span><span style=\"color: #374151; text-decoration-color: #374151; font-weight: bold\">)</span><span style=\"color: #374151; text-decoration-color: #374151\">...</span>\n",
       "</pre>\n"
      ],
      "text/plain": [
       "✨ You're running DeepEval's latest \u001b[38;2;106;0;255mContextual Precision Metric\u001b[0m! \u001b[1;38;2;55;65;81m(\u001b[0m\u001b[38;2;55;65;81musing Gemini \u001b[0m\u001b[1;38;2;55;65;81m1.5\u001b[0m\u001b[38;2;55;65;81m Flash, \u001b[0m\u001b[38;2;55;65;81mstrict\u001b[0m\u001b[38;2;55;65;81m=\u001b[0m\u001b[3;38;2;55;65;81mFalse\u001b[0m\u001b[38;2;55;65;81m, \u001b[0m\n",
       "\u001b[38;2;55;65;81masync_mode\u001b[0m\u001b[38;2;55;65;81m=\u001b[0m\u001b[3;38;2;55;65;81mTrue\u001b[0m\u001b[1;38;2;55;65;81m)\u001b[0m\u001b[38;2;55;65;81m...\u001b[0m\n"
      ]
     },
     "metadata": {},
     "output_type": "display_data"
    },
    {
     "name": "stdout",
     "output_type": "stream",
     "text": [
      "Event loop is already running. Applying nest_asyncio patch to allow async execution...\n"
     ]
    },
    {
     "name": "stderr",
     "output_type": "stream",
     "text": [
      "Evaluating 1 test case(s) in parallel: |███████████████████████████████|100% (1/1) [Time Taken: 00:20, 20.02s/test case]"
     ]
    },
    {
     "name": "stdout",
     "output_type": "stream",
     "text": [
      "\n",
      "======================================================================\n",
      "\n",
      "Metrics Summary\n",
      "\n",
      "  - ✅ Contextual Precision (score: 1.0, threshold: 0.5, strict: False, evaluation model: Gemini 1.5 Flash, reason: None, error: None)\n",
      "\n",
      "For test case:\n",
      "\n",
      "  - input: How many Eagle Scouts were involved in Ford's funeral procession?\n",
      "  - actual output: Approximately 400 Eagle Scouts were involved in Gerald Ford's funeral procession.\n",
      "\n",
      "  - expected output: 400\n",
      "  - context: []\n",
      "  - retrieval context: ['[\"Ford joined the Boy Scouts of America', \" and attained that program's highest rank\", ' Eagle Scout. He always regarded this as one of his proudest accomplishments', ' even after attaining the White House.     In subsequent years', ' Ford received the Distinguished Eagle Scout Award in May 1970 and Silver Buffalo Award from the Boy Scouts of America. He is the only US president who was an Eagle Scout.    Scouting was so important to Ford that his family asked that Scouts participate in his funeral. About 400 Eagle Scouts were part of the funeral procession', ' where they formed an honor guard as the casket went by in front of the museum', ' and served as ushers.\"', \" 'Eagle Scout Gerald Ford (circled in red) in 1929.'\", \" 'Ford is honored during a memorial service in the U.S. Capitol Rotunda in Washington\", ' D.C. on December 30', \" 2006.'\", \" 'Like Presidents Carter\", ' Bush Senior and Clinton', ' Ford was an honorary co-chair of the Council for Excellence in Government', \" a group dedicated to excellence in government performance and which provides leadership training to top federal employees.'\", \" 'After the service\", ' Ford was interred at his Presidential Museum in Grand Rapids', \" Michigan.'\", \" 'On December 30\", ' 2006', ' Ford became the 11th U.S. President to lie in state.  The burial was preceded by a state funeral and memorial services held at the National Cathedral in Washington', ' D.C. on January 2', ' 2007. Ford was eulogized by former President George H. W. Bush', ' former Secretary of State Henry Kissinger', ' former NBC Nightly News anchorman Tom Brokaw and current President George W. Bush. On December 28', ' 2006', ' the New York Times reported that', \" at Ford\\\\'s request\", ' former President Jimmy Carter would deliver a eulogy. Decades ago', ' \"Mr. Ford asked whether his successor might consider speaking at his funeral and offered', ' lightheartedly', ' to do the same for Mr. Carter', ' depending on who died first\".    Carter delivered an emotional eulogy at the funeral service at Grace Episcopal Church in East Grand Rapids on January 3', ' 2007. Ford was also eulogized by Donald Rumsfeld', \" who was Ford\\\\'s Chief of Staff\", ' and Richard Norton Smith', ' Presidential historian. The invitation-only list of attendees included Vice President Dick Cheney', ' Michigan Gov. Jennifer Granholm', \" and U.S. Senators from Michigan Carl Levin and Debbie Stabenow.'\", \" 'Ford was a member of several civic organizations\", ' including the Benevolent and Protective Order of Elks', ' American Legion', ' Veterans of Foreign Wars', ' and AMVETS.Gerald R. Ford was initiated into Freemasonry on September 30', ' 1949.  The Supreme Council', ' Ancient and Accepted Scottish Rite', ' Southern Jurisdiction', ' USA.  He later said in 1975', '  \"When I took my obligation as a master mason â\\\\x80\\\\x94 incidentally', ' with my three younger brothers â\\\\x80\\\\x94 I recalled the value my own father attached to that order. But I had no idea that I would ever be added to the company of the Father of our Country and 12 other members of the order who also served as Presidents of the United States.\"\\'', \" '*On November 12\", ' 2006', ' Ford became the longest-lived President', ' surpassing Ronald Reagan.    At the time of his death', \" he had outlived President Reagan by 45 days.'\", ' \"*Ford died on the 34th anniversary of President Harry Truman\\'s death', ' the second U.S. President to die on Boxing Day', \" which Ford's pastor\", ' The Rev. Dr. Robert Certain', ' noted when he referred to December 26 as its traditional Christian reference', ' St. Stephen\\'s Day.\"', \" '*Ford is one of only four former Presidents to live to 90 or more years of age. The others are Ronald Reagan (93)\", \" John Adams (90) and Herbert Hoover (90).']\"]\n",
      "\n",
      "======================================================================\n",
      "\n",
      "Overall Metric Pass Rates\n",
      "\n",
      "Contextual Precision: 100.00% pass rate\n",
      "\n",
      "======================================================================\n",
      "\n"
     ]
    },
    {
     "name": "stderr",
     "output_type": "stream",
     "text": [
      "\n"
     ]
    },
    {
     "data": {
      "text/html": [
       "<pre style=\"white-space:pre;overflow-x:auto;line-height:normal;font-family:Menlo,'DejaVu Sans Mono',consolas,'Courier New',monospace\"><span style=\"color: #05f58d; text-decoration-color: #05f58d\">✓</span> Tests finished 🎉! Run <span style=\"color: #008000; text-decoration-color: #008000\">'deepeval login'</span> to save and analyze evaluation results on Confident AI.  \n",
       "‼️ Looking for a place for your LLM test data to live 🏡? Use Confident AI for test reports, benchmark analysis, \n",
       "compare models/prompts, and catch regressions for your LLM system.\n",
       "</pre>\n"
      ],
      "text/plain": [
       "\u001b[38;2;5;245;141m✓\u001b[0m Tests finished 🎉! Run \u001b[32m'deepeval login'\u001b[0m to save and analyze evaluation results on Confident AI.  \n",
       "‼️ Looking for a place for your LLM test data to live 🏡? Use Confident AI for test reports, benchmark analysis, \n",
       "compare models/prompts, and catch regressions for your LLM system.\n"
      ]
     },
     "metadata": {},
     "output_type": "display_data"
    },
    {
     "name": "stdout",
     "output_type": "stream",
     "text": [
      "262\n"
     ]
    },
    {
     "data": {
      "text/html": [
       "<pre style=\"white-space:pre;overflow-x:auto;line-height:normal;font-family:Menlo,'DejaVu Sans Mono',consolas,'Courier New',monospace\">✨ You're running DeepEval's latest <span style=\"color: #6a00ff; text-decoration-color: #6a00ff\">Contextual Precision Metric</span>! <span style=\"color: #374151; text-decoration-color: #374151; font-weight: bold\">(</span><span style=\"color: #374151; text-decoration-color: #374151\">using Gemini </span><span style=\"color: #374151; text-decoration-color: #374151; font-weight: bold\">1.5</span><span style=\"color: #374151; text-decoration-color: #374151\"> Flash, </span><span style=\"color: #374151; text-decoration-color: #374151\">strict</span><span style=\"color: #374151; text-decoration-color: #374151\">=</span><span style=\"color: #374151; text-decoration-color: #374151; font-style: italic\">False</span><span style=\"color: #374151; text-decoration-color: #374151\">, </span>\n",
       "<span style=\"color: #374151; text-decoration-color: #374151\">async_mode</span><span style=\"color: #374151; text-decoration-color: #374151\">=</span><span style=\"color: #374151; text-decoration-color: #374151; font-style: italic\">True</span><span style=\"color: #374151; text-decoration-color: #374151; font-weight: bold\">)</span><span style=\"color: #374151; text-decoration-color: #374151\">...</span>\n",
       "</pre>\n"
      ],
      "text/plain": [
       "✨ You're running DeepEval's latest \u001b[38;2;106;0;255mContextual Precision Metric\u001b[0m! \u001b[1;38;2;55;65;81m(\u001b[0m\u001b[38;2;55;65;81musing Gemini \u001b[0m\u001b[1;38;2;55;65;81m1.5\u001b[0m\u001b[38;2;55;65;81m Flash, \u001b[0m\u001b[38;2;55;65;81mstrict\u001b[0m\u001b[38;2;55;65;81m=\u001b[0m\u001b[3;38;2;55;65;81mFalse\u001b[0m\u001b[38;2;55;65;81m, \u001b[0m\n",
       "\u001b[38;2;55;65;81masync_mode\u001b[0m\u001b[38;2;55;65;81m=\u001b[0m\u001b[3;38;2;55;65;81mTrue\u001b[0m\u001b[1;38;2;55;65;81m)\u001b[0m\u001b[38;2;55;65;81m...\u001b[0m\n"
      ]
     },
     "metadata": {},
     "output_type": "display_data"
    },
    {
     "name": "stdout",
     "output_type": "stream",
     "text": [
      "Event loop is already running. Applying nest_asyncio patch to allow async execution...\n"
     ]
    },
    {
     "name": "stderr",
     "output_type": "stream",
     "text": [
      "Evaluating 1 test case(s) in parallel: |███████████████████████████████|100% (1/1) [Time Taken: 00:20, 20.02s/test case]"
     ]
    },
    {
     "name": "stdout",
     "output_type": "stream",
     "text": [
      "\n",
      "======================================================================\n",
      "\n",
      "Metrics Summary\n",
      "\n",
      "  - ✅ Contextual Precision (score: 0.5833333333333334, threshold: 0.5, strict: False, evaluation model: Gemini 1.5 Flash, reason: None, error: None)\n",
      "\n",
      "For test case:\n",
      "\n",
      "  - input: Which future Heisman Trophy winner did Ford tackle?\n",
      "  - actual output: Gerald Ford tackled Jay Berwanger, who won the first Heisman Trophy in 1935.\n",
      "\n",
      "  - expected output: Jay Berwanger\n",
      "  - context: []\n",
      "  - retrieval context: [\"['Ford attended Grand Rapids South High School and was a star athlete and captain of his football team. In 1930\", \" he was selected to the All-City team of the Grand Rapids City League. He also attracted the attention of college recruiters.'\", \" 'Ford as a University of Michigan football player\", \" 1933'\", \" 'At Michigan\", ' Ford became a member of the Delta Kappa Epsilon fraternity and washed dishes at his fraternity house to earn money for college expenses. Following his graduation in 1935 with a degree in political science and economics', ' he turned down contract offers from the Detroit Lions and Green Bay Packers of the National Football League in order to take a coaching position at Yale and apply to its law school. Each team was offering him a contract of $200 a game', ' but he wanted a legal education.     Ford continued to contribute to football and boxing', \" accepting an assistant coaching job for both at Yale in September 1935.'\", \" 'Attending the University of Michigan as an undergraduate\", ' Ford played center and linebacker for the schoolâ\\\\x80\\\\x99s football team and helped the Wolverines to undefeated seasons and national titles in 1932 and 1933. The team suffered a steep decline in his 1934 senior year', ' however', ' winning only one game. Ford was the teamâ\\\\x80\\\\x99s star nonetheless', ' and after a game during which Michigan held heavily favored Minnesota (the eventual national champion) to a scoreless tie in the first half', ' assistant coach Bennie Oosterbaan later said', ' â\\\\x80\\\\x9cWhen I walked into the dressing room at half time', ' I had tears in my eyes I was so proud of them.  Ford and [Cedric] Sweet played their hearts out. They were everywhere on defense.â\\\\x80\\\\x9d Ford himself later recalled', ' â\\\\x80\\\\x9cDuring 25 years in the rough-and-tumble world of politics', ' I often thought of the experiences before', ' during', ' and after that game in 1934. Remembering them has helped me many times to face a tough situation', ' take action', ' and make every effort possible despite adverse odds.â\\\\x80\\\\x9d  His teammates later voted Ford their most valuable player', ' with one assistant coach noting', \" â\\\\x80\\\\x9cThey felt Jerry was one guy who would stay and fight in a losing cause.â\\\\x80\\\\x9d'\", \" 'During the same season\", ' in a game against the University of Chicago', ' Ford â\\\\x80\\\\x9cbecame the only future U.S. president to tackle a future Heisman Trophy winner when he brought down running back Jay Berwanger', ' who would win the first Heisman the following year.â\\\\x80\\\\x9d    In 1934 Gerald Ford was selected for the Eastern Team on the Shrinerâ\\\\x80\\\\x99s East West Crippled Children game at San Francisco (a benefit for crippled children)', ' played on January 1 1935. As part of the 1935 Collegiate All-Star football team', \" Ford played against the Chicago Bears in an exhibition game at Soldier Field.'\", ' \"Ford hoped to attend Yale\\'s law school beginning in 1935 while serving as boxing coach and assistant varsity football coach', ' but Yale officials initially denied his admission to the law school', ' because of his full-time coaching responsibilities.  He spent the summer of 1937 as a student at the University of Michigan Law School     and was eventually admitted in the spring of 1938 to Yale Law School.     Ford earned his LL.B. degree in 1941 (later amended to Juris Doctor)', ' graduating in the top 25 percent of his class. His introduction to politics came in the summer of 1940 when he worked in Wendell Willkie\\'s presidential campaign.\"', ' \"Ford retained his interest in football and his alma mater throughout life', ' occasionally attending games and on one occasion asking to be awakened to find out the score of an Ohio State-Michigan football game', ' while attending a summit in the Soviet Union as President.    The University of Michigan retired Ford\\'s #48 jersey in 1994.\"', \" 'Ford received a commission as ensign in the U.S. Naval Reserve on April 13\", ' 1942. On April 20', ' he reported for active duty to the V-5 instructor school at Annapolis', ' Maryland. After one month of training', ' he went to Navy Preflight School in Chapel Hill', ' North Carolina', ' where he was one of 83 instructors and taught elementary seamanship', ' ordnance', ' gunnery', ' first aid and military drill. In addition', ' he coached in all nine sports that were offered', ' but mostly in swimming', ' boxing and football. During the one year he was at the Preflight School', ' he was promoted to Lieutenant Junior Grade on June 2', ' 1942', \" and to Lieutenant in March 1943.'\", ' \"Applying for sea duty', ' Ford was sent in May 1943 to the pre-commissioning detachment for the new aircraft carrier USS Monterey', ' at New York Shipbuilding Corporation', ' Camden', \" New Jersey. From the ship's commissioning on June 17\", ' 1943 until the end of December 1944', ' Ford served as the assistant navigator', ' Athletic Officer', ' and antiaircraft battery officer on board the Monterey. While he was on board', ' the carrier participated in many actions in the Pacific Theater with the Third and Fifth Fleets during the fall of 1943 and in 1944. In 1943', ' the carrier helped secure Makin Island in the Gilberts', ' and participated in carrier strikes against Kavieng', ' New Ireland in 1943. During the spring of 1944', ' the Monterey supported landings at Kwajalein and Eniwetok and participated in carrier strikes in the Marianas', ' Western Carolines', ' and northern New Guinea', ' as well as in the Battle of the Philippine Sea.         After overhaul', ' from September to November 1944', ' aircraft from the Monterey launched strikes against Wake Island', ' participated in strikes in the Philippines and Ryukyus', ' and supported the landings at Leyte and Mindoro.\"', ' \"After the fire the Monterey was declared unfit for service', ' and the crippled carrier reached Ulithi on December 21 before proceeding across the Pacific to Bremerton', ' Washington where it underwent repairs. On December 24', ' 1944 at Ulithi', \" Ford was detached from the ship and sent to the Athletic Department of the Navy Pre-Flight School at Saint Mary's College of California\", ' where he was assigned to the Athletic Department until April 1945. One of his duties was to coach football. From the end of April 1945 to January 1946', ' he was on the staff of the Naval Reserve Training Command', ' Naval Air Station', ' Glenview', ' Illinois as the Staff Physical and Military Training Officer. On October 3', ' 1945 he was promoted to Lieutenant Commander. In January 1946', ' he was sent to the Separation Center', ' Great Lakes to be processed out. He was released from active duty under honorable conditions on February 23', ' 1946. On June 28', ' 1946', ' the Secretary of the Navy accepted Ford\\'s resignation from the Naval Reserve.\"]']\n",
      "\n",
      "======================================================================\n",
      "\n",
      "Overall Metric Pass Rates\n",
      "\n",
      "Contextual Precision: 100.00% pass rate\n",
      "\n",
      "======================================================================\n",
      "\n"
     ]
    },
    {
     "name": "stderr",
     "output_type": "stream",
     "text": [
      "\n"
     ]
    },
    {
     "data": {
      "text/html": [
       "<pre style=\"white-space:pre;overflow-x:auto;line-height:normal;font-family:Menlo,'DejaVu Sans Mono',consolas,'Courier New',monospace\"><span style=\"color: #05f58d; text-decoration-color: #05f58d\">✓</span> Tests finished 🎉! Run <span style=\"color: #008000; text-decoration-color: #008000\">'deepeval login'</span> to save and analyze evaluation results on Confident AI.  \n",
       "‼️ Looking for a place for your LLM test data to live 🏡? Use Confident AI for test reports, benchmark analysis, \n",
       "compare models/prompts, and catch regressions for your LLM system.\n",
       "</pre>\n"
      ],
      "text/plain": [
       "\u001b[38;2;5;245;141m✓\u001b[0m Tests finished 🎉! Run \u001b[32m'deepeval login'\u001b[0m to save and analyze evaluation results on Confident AI.  \n",
       "‼️ Looking for a place for your LLM test data to live 🏡? Use Confident AI for test reports, benchmark analysis, \n",
       "compare models/prompts, and catch regressions for your LLM system.\n"
      ]
     },
     "metadata": {},
     "output_type": "display_data"
    },
    {
     "name": "stdout",
     "output_type": "stream",
     "text": [
      "263\n"
     ]
    },
    {
     "data": {
      "text/html": [
       "<pre style=\"white-space:pre;overflow-x:auto;line-height:normal;font-family:Menlo,'DejaVu Sans Mono',consolas,'Courier New',monospace\">✨ You're running DeepEval's latest <span style=\"color: #6a00ff; text-decoration-color: #6a00ff\">Contextual Precision Metric</span>! <span style=\"color: #374151; text-decoration-color: #374151; font-weight: bold\">(</span><span style=\"color: #374151; text-decoration-color: #374151\">using Gemini </span><span style=\"color: #374151; text-decoration-color: #374151; font-weight: bold\">1.5</span><span style=\"color: #374151; text-decoration-color: #374151\"> Flash, </span><span style=\"color: #374151; text-decoration-color: #374151\">strict</span><span style=\"color: #374151; text-decoration-color: #374151\">=</span><span style=\"color: #374151; text-decoration-color: #374151; font-style: italic\">False</span><span style=\"color: #374151; text-decoration-color: #374151\">, </span>\n",
       "<span style=\"color: #374151; text-decoration-color: #374151\">async_mode</span><span style=\"color: #374151; text-decoration-color: #374151\">=</span><span style=\"color: #374151; text-decoration-color: #374151; font-style: italic\">True</span><span style=\"color: #374151; text-decoration-color: #374151; font-weight: bold\">)</span><span style=\"color: #374151; text-decoration-color: #374151\">...</span>\n",
       "</pre>\n"
      ],
      "text/plain": [
       "✨ You're running DeepEval's latest \u001b[38;2;106;0;255mContextual Precision Metric\u001b[0m! \u001b[1;38;2;55;65;81m(\u001b[0m\u001b[38;2;55;65;81musing Gemini \u001b[0m\u001b[1;38;2;55;65;81m1.5\u001b[0m\u001b[38;2;55;65;81m Flash, \u001b[0m\u001b[38;2;55;65;81mstrict\u001b[0m\u001b[38;2;55;65;81m=\u001b[0m\u001b[3;38;2;55;65;81mFalse\u001b[0m\u001b[38;2;55;65;81m, \u001b[0m\n",
       "\u001b[38;2;55;65;81masync_mode\u001b[0m\u001b[38;2;55;65;81m=\u001b[0m\u001b[3;38;2;55;65;81mTrue\u001b[0m\u001b[1;38;2;55;65;81m)\u001b[0m\u001b[38;2;55;65;81m...\u001b[0m\n"
      ]
     },
     "metadata": {},
     "output_type": "display_data"
    },
    {
     "name": "stdout",
     "output_type": "stream",
     "text": [
      "Event loop is already running. Applying nest_asyncio patch to allow async execution...\n"
     ]
    },
    {
     "name": "stderr",
     "output_type": "stream",
     "text": [
      "Evaluating 1 test case(s) in parallel: |███████████████████████████████|100% (1/1) [Time Taken: 00:20, 20.02s/test case]"
     ]
    },
    {
     "name": "stdout",
     "output_type": "stream",
     "text": [
      "\n",
      "======================================================================\n",
      "\n",
      "Metrics Summary\n",
      "\n",
      "  - ✅ Contextual Precision (score: 1.0, threshold: 0.5, strict: False, evaluation model: Gemini 1.5 Flash, reason: None, error: None)\n",
      "\n",
      "For test case:\n",
      "\n",
      "  - input: Has another US President been an Eagle Scout?\n",
      "  - actual output: No, Gerald Ford is the only U.S. President who was an Eagle Scout.\n",
      "\n",
      "  - expected output: no\n",
      "  - context: []\n",
      "  - retrieval context: [\"['Eagle Scout Gerald Ford (circled in red) in 1929.'\", ' \"Ford joined the Boy Scouts of America', \" and attained that program's highest rank\", ' Eagle Scout. He always regarded this as one of his proudest accomplishments', ' even after attaining the White House.     In subsequent years', ' Ford received the Distinguished Eagle Scout Award in May 1970 and Silver Buffalo Award from the Boy Scouts of America. He is the only US president who was an Eagle Scout.    Scouting was so important to Ford that his family asked that Scouts participate in his funeral. About 400 Eagle Scouts were part of the funeral procession', ' where they formed an honor guard as the casket went by in front of the museum', ' and served as ushers.\"', \" 'Theodore Roosevelt\", ' Jr. ( ; October 27 1858   January 6 1919)', ' also known as T.R.', ' and to the public (but never to friends and intimates) as Teddy', ' was the twenty-sixth President of the United States', ' and a leader of the Republican Party and of the Progressive Movement.   He became the youngest President in United States history at the age of 42. He served in many roles including Governor of New York', ' historian', ' naturalist', ' explorer', ' author', ' and soldier. Roosevelt is most famous for his personality: his energy', ' his vast range of interests and achievements', ' his model of masculinity', ' and his \"cowboy\" persona. His last name', ' often mispronounced', ' is', ' per Roosevelt', ' \"pronounced as if it were spelled \\\\\\'Rosavelt\\\\\\'', ' in three syllables', ' the first syllable as if it was \\\\\\'Rose.\\\\\\'\"\\'', \" 'Despite his debilitating diseases\", ' Roosevelt remained active to the end of his life. He was an enthusiastic proponent of the Scouting movement. The Boy Scouts of America gave him the title of Chief Scout Citizen', ' the only person to hold such title. One early Scout leader said', ' \"The two things that gave Scouting great impetus and made it very popular were the uniform and Teddy Roosevelt\\\\\\'s jingoism.\" Larson', ' Keith (2006).  \"Theodore Roosevelt\". Retrieved March 6 2006.\\'', \" '* Monroe was (arguably) the last president to have fought in the Revolutionary War\", \" although Andrew Jackson served as a 13-year-old courier in the Continental Army and was taken as a prisoner of war by the British.'\", \" 'Like Presidents Carter\", ' Bush Senior and Clinton', ' Ford was an honorary co-chair of the Council for Excellence in Government', \" a group dedicated to excellence in government performance and which provides leadership training to top federal employees.'\", \" 'Theodore Roosevelt at age 11'\", \" 'In 1901\", ' as Vice President', ' Roosevelt succeeded President William McKinley after McKinley\\\\\\'s assassination.  He is the youngest person ever to become President (John F. Kennedy is the youngest elected President).  Roosevelt was a Progressive reformer who sought to move the dominant Republican Party into the Progressive camp.  He distrusted wealthy businessmen and dissolved forty monopolistic corporations as a \"trust buster\".  He was clear', ' however', ' to show he did not disagree with trusts and capitalism in principle but was only against corrupt', ' illegal practices. His \"Square Deal\" promised a fair shake for both the average citizen (through regulation of railroad rates and pure food and drugs) and the businessmen. As an outdoorsman', ' he promoted the conservation movement', ' emphasizing efficient use of natural resources.  After 1906 he attacked big business and suggested the courts were biased against labor unions. In 1910', ' he broke with his friend and anointed successor William Howard Taft', ' but lost the Republican nomination to Taft and ran in the 1912 election on his own one-time Bull Moose ticket.  Roosevelt beat Taft in the popular vote and pulled so many Progressives out of the Republican Party that Democrat Woodrow Wilson won in 1912', \" and the conservative faction took control of the Republican Party for the next two decades.'\", ' \"Gerald Rudolph Ford', ' Jr. (July 14', ' 1913   December 26', ' 2006) was the thirty-eighth President of the United States', ' serving from 1974 to 1977', ' and the fortieth Vice President of the United States serving from 1973 to 1974. He was the first person appointed to the vice presidency under the terms of the 25th Amendment', \" and became President upon Richard Nixon's resignation on August 9\", ' 1974.\"', \" 'Roosevelt was the first American president to consider the long-term needs for efficient conservation of national resources\", ' winning the support of fellow hunters and fishermen to bolster his political base.  Roosevelt was the last trained observer to ever see a passenger pigeon', ' and on March 14', ' 1903', ' Roosevelt created the first National Bird Preserve', ' (the beginning of the Wildlife Refuge system) on Pelican Island', ' Florida. Roosevelt worked with the major figures of the conservation  movement', ' especially his chief adviser on the matter Gifford Pinchot. Roosevelt urged Congress to establish the United States Forest Service (1905)', ' to manage government forest lands', ' and he appointed Gifford Pinchot to head the service. Roosevelt set aside more land for national parks and nature preserves than all of his predecessors combined', ' 194 million acres (785', '000 kmÂ²). In all', ' by 1909', ' the Roosevelt administration had created an unprecedented 42 million acres (170', '000 kmÂ²) of national forests', ' 53 national wildlife refuges and 18 areas of \"special interest\"', ' including the Grand Canyon. The Theodore Roosevelt National Park in the Badlands commemorates his conservationist philosophy. Roosevelt and Muir In 1903', ' Roosevelt toured the Yosemite Valley with John Muir', ' founder of the Sierra Club', ' but Roosevelt believed in the more efficient use of natural resources by corporations like lumber companies unlike Muir. In 1907', ' with Congress about to block him', ' Roosevelt hurried to designate 16 million acres (65', '000 kmÂ²) of new national forests.  In May 1908', ' he sponsored the Conference of Governors held in the White House', ' with a focus on the most efficient planning', ' analysis and use of water', ' forests and other natural resources.  Roosevelt explained', '  \"There is an intimate relation between our streams and the development and conservation of all the other great permanent sources of wealth.\" During his presidency', ' Roosevelt promoted the nascent conservation movement in essays for Outdoor Life magazine. To Roosevelt', ' conservation meant more and better usage and less waste', ' and a long-term perspective. In 2006', \" a group of American high school students developed a 10 minute video on Roosevelt\\\\'s conservation legacy with the help of Roosevelt scholar Edward Renehan and Roosevelt descendant\", \" Tweed Roosevelt. See   Commented out because it\\\\'s a YouTube link used as a ref\", \" it\\\\'s original research\", \" and really it\\\\'s not a reference. But maybe someone else will think differently. -->']\"]\n",
      "\n",
      "======================================================================\n",
      "\n",
      "Overall Metric Pass Rates\n",
      "\n",
      "Contextual Precision: 100.00% pass rate\n",
      "\n",
      "======================================================================\n",
      "\n"
     ]
    },
    {
     "name": "stderr",
     "output_type": "stream",
     "text": [
      "\n"
     ]
    },
    {
     "data": {
      "text/html": [
       "<pre style=\"white-space:pre;overflow-x:auto;line-height:normal;font-family:Menlo,'DejaVu Sans Mono',consolas,'Courier New',monospace\"><span style=\"color: #05f58d; text-decoration-color: #05f58d\">✓</span> Tests finished 🎉! Run <span style=\"color: #008000; text-decoration-color: #008000\">'deepeval login'</span> to save and analyze evaluation results on Confident AI.  \n",
       "‼️ Looking for a place for your LLM test data to live 🏡? Use Confident AI for test reports, benchmark analysis, \n",
       "compare models/prompts, and catch regressions for your LLM system.\n",
       "</pre>\n"
      ],
      "text/plain": [
       "\u001b[38;2;5;245;141m✓\u001b[0m Tests finished 🎉! Run \u001b[32m'deepeval login'\u001b[0m to save and analyze evaluation results on Confident AI.  \n",
       "‼️ Looking for a place for your LLM test data to live 🏡? Use Confident AI for test reports, benchmark analysis, \n",
       "compare models/prompts, and catch regressions for your LLM system.\n"
      ]
     },
     "metadata": {},
     "output_type": "display_data"
    },
    {
     "name": "stdout",
     "output_type": "stream",
     "text": [
      "264\n"
     ]
    },
    {
     "data": {
      "text/html": [
       "<pre style=\"white-space:pre;overflow-x:auto;line-height:normal;font-family:Menlo,'DejaVu Sans Mono',consolas,'Courier New',monospace\">✨ You're running DeepEval's latest <span style=\"color: #6a00ff; text-decoration-color: #6a00ff\">Contextual Precision Metric</span>! <span style=\"color: #374151; text-decoration-color: #374151; font-weight: bold\">(</span><span style=\"color: #374151; text-decoration-color: #374151\">using Gemini </span><span style=\"color: #374151; text-decoration-color: #374151; font-weight: bold\">1.5</span><span style=\"color: #374151; text-decoration-color: #374151\"> Flash, </span><span style=\"color: #374151; text-decoration-color: #374151\">strict</span><span style=\"color: #374151; text-decoration-color: #374151\">=</span><span style=\"color: #374151; text-decoration-color: #374151; font-style: italic\">False</span><span style=\"color: #374151; text-decoration-color: #374151\">, </span>\n",
       "<span style=\"color: #374151; text-decoration-color: #374151\">async_mode</span><span style=\"color: #374151; text-decoration-color: #374151\">=</span><span style=\"color: #374151; text-decoration-color: #374151; font-style: italic\">True</span><span style=\"color: #374151; text-decoration-color: #374151; font-weight: bold\">)</span><span style=\"color: #374151; text-decoration-color: #374151\">...</span>\n",
       "</pre>\n"
      ],
      "text/plain": [
       "✨ You're running DeepEval's latest \u001b[38;2;106;0;255mContextual Precision Metric\u001b[0m! \u001b[1;38;2;55;65;81m(\u001b[0m\u001b[38;2;55;65;81musing Gemini \u001b[0m\u001b[1;38;2;55;65;81m1.5\u001b[0m\u001b[38;2;55;65;81m Flash, \u001b[0m\u001b[38;2;55;65;81mstrict\u001b[0m\u001b[38;2;55;65;81m=\u001b[0m\u001b[3;38;2;55;65;81mFalse\u001b[0m\u001b[38;2;55;65;81m, \u001b[0m\n",
       "\u001b[38;2;55;65;81masync_mode\u001b[0m\u001b[38;2;55;65;81m=\u001b[0m\u001b[3;38;2;55;65;81mTrue\u001b[0m\u001b[1;38;2;55;65;81m)\u001b[0m\u001b[38;2;55;65;81m...\u001b[0m\n"
      ]
     },
     "metadata": {},
     "output_type": "display_data"
    },
    {
     "name": "stdout",
     "output_type": "stream",
     "text": [
      "Event loop is already running. Applying nest_asyncio patch to allow async execution...\n"
     ]
    },
    {
     "name": "stderr",
     "output_type": "stream",
     "text": [
      "Evaluating 1 test case(s) in parallel: |███████████████████████████████|100% (1/1) [Time Taken: 00:20, 20.02s/test case]"
     ]
    },
    {
     "name": "stdout",
     "output_type": "stream",
     "text": [
      "\n",
      "======================================================================\n",
      "\n",
      "Metrics Summary\n",
      "\n",
      "  - ✅ Contextual Precision (score: 1.0, threshold: 0.5, strict: False, evaluation model: Gemini 1.5 Flash, reason: None, error: None)\n",
      "\n",
      "For test case:\n",
      "\n",
      "  - input: Did Ford need to do extra work to pay for college?\n",
      "  - actual output: Yes, Gerald Ford washed dishes at his fraternity house to help pay for college expenses.\n",
      "\n",
      "  - expected output: yes\n",
      "  - context: []\n",
      "  - retrieval context: [\"['Ford attended Grand Rapids South High School and was a star athlete and captain of his football team. In 1930\", \" he was selected to the All-City team of the Grand Rapids City League. He also attracted the attention of college recruiters.'\", \" 'At Michigan\", ' Ford became a member of the Delta Kappa Epsilon fraternity and washed dishes at his fraternity house to earn money for college expenses. Following his graduation in 1935 with a degree in political science and economics', ' he turned down contract offers from the Detroit Lions and Green Bay Packers of the National Football League in order to take a coaching position at Yale and apply to its law school. Each team was offering him a contract of $200 a game', ' but he wanted a legal education.     Ford continued to contribute to football and boxing', \" accepting an assistant coaching job for both at Yale in September 1935.'\", ' \"Ford hoped to attend Yale\\'s law school beginning in 1935 while serving as boxing coach and assistant varsity football coach', ' but Yale officials initially denied his admission to the law school', ' because of his full-time coaching responsibilities.  He spent the summer of 1937 as a student at the University of Michigan Law School     and was eventually admitted in the spring of 1938 to Yale Law School.     Ford earned his LL.B. degree in 1941 (later amended to Juris Doctor)', ' graduating in the top 25 percent of his class. His introduction to politics came in the summer of 1940 when he worked in Wendell Willkie\\'s presidential campaign.\"', ' \"Ford graduated from law school in 1941', ' and was admitted to the Michigan bar shortly thereafter. In May 1941', ' he opened a Grand Rapids law practice with a friend', ' Philip Buchen', \"  who would later serve as Ford's White House counsel. But overseas developments caused a change in plans\", ' and Ford responded to the attack on Pearl Harbor by enlisting in the Navy.\"', \" 'Ford received a commission as ensign in the U.S. Naval Reserve on April 13\", ' 1942. On April 20', ' he reported for active duty to the V-5 instructor school at Annapolis', ' Maryland. After one month of training', ' he went to Navy Preflight School in Chapel Hill', ' North Carolina', ' where he was one of 83 instructors and taught elementary seamanship', ' ordnance', ' gunnery', ' first aid and military drill. In addition', ' he coached in all nine sports that were offered', ' but mostly in swimming', ' boxing and football. During the one year he was at the Preflight School', ' he was promoted to Lieutenant Junior Grade on June 2', ' 1942', \" and to Lieutenant in March 1943.'\", \" 'Ford was not aware of his biological parentage until he was 17\", ' when his parents told him about the circumstances of his birth. That same year his biological father', ' whom he described as a \"carefree', ' well-to-do man\"', ' approached Ford while he was waiting tables in a Grand Rapids restaurant. The two \"maintained a sporadic contact\" until Leslie King', \" Sr.\\\\'s death\", ' Associated Press. Nebraska - Born', ' Ford Left State As Infant. The New York Times (December 27', ' 2006).  Retrieved on December 31', ' 2006.     but Ford maintained his distance emotionally', ' saying', ' \"My stepfather was a magnificent person and my mother equally wonderful. So I couldn\\\\\\'t have written a better prescription for a superb family upbringing.\"\\'', \" 'Ford as a University of Michigan football player\", \" 1933'\", \" 'Ford was a member of the House of Representatives for twenty-four years\", ' holding the Grand Rapids congressional district seat from 1949 to 1973. It was a tenure largely notable for its modesty. As an editorial in The New York Times described him', ' Ford \"saw himself as a negotiator and a reconciler', ' and the record shows it: he did not write a single piece of major legislation in his entire career.\"\\'', \" 'During his first campaign in 1948\", ' Ford visited farmers and promised he would work on their farms and milk the cows if elected a promise he fulfilled.    In 1961', ' the U.S. House membership voted Ford a special award as a \"Congressman\\\\\\'s Congressman\" that praised his committee work on military budgets.\\'', ' \"Applying for sea duty', ' Ford was sent in May 1943 to the pre-commissioning detachment for the new aircraft carrier USS Monterey', ' at New York Shipbuilding Corporation', ' Camden', \" New Jersey. From the ship's commissioning on June 17\", ' 1943 until the end of December 1944', ' Ford served as the assistant navigator', ' Athletic Officer', ' and antiaircraft battery officer on board the Monterey. While he was on board', ' the carrier participated in many actions in the Pacific Theater with the Third and Fifth Fleets during the fall of 1943 and in 1944. In 1943', ' the carrier helped secure Makin Island in the Gilberts', ' and participated in carrier strikes against Kavieng', ' New Ireland in 1943. During the spring of 1944', ' the Monterey supported landings at Kwajalein and Eniwetok and participated in carrier strikes in the Marianas', ' Western Carolines', ' and northern New Guinea', ' as well as in the Battle of the Philippine Sea.         After overhaul', ' from September to November 1944', ' aircraft from the Monterey launched strikes against Wake Island', ' participated in strikes in the Philippines and Ryukyus', ' and supported the landings at Leyte and Mindoro.\"]']\n",
      "\n",
      "======================================================================\n",
      "\n",
      "Overall Metric Pass Rates\n",
      "\n",
      "Contextual Precision: 100.00% pass rate\n",
      "\n",
      "======================================================================\n",
      "\n"
     ]
    },
    {
     "name": "stderr",
     "output_type": "stream",
     "text": [
      "\n"
     ]
    },
    {
     "data": {
      "text/html": [
       "<pre style=\"white-space:pre;overflow-x:auto;line-height:normal;font-family:Menlo,'DejaVu Sans Mono',consolas,'Courier New',monospace\"><span style=\"color: #05f58d; text-decoration-color: #05f58d\">✓</span> Tests finished 🎉! Run <span style=\"color: #008000; text-decoration-color: #008000\">'deepeval login'</span> to save and analyze evaluation results on Confident AI.  \n",
       "‼️ Looking for a place for your LLM test data to live 🏡? Use Confident AI for test reports, benchmark analysis, \n",
       "compare models/prompts, and catch regressions for your LLM system.\n",
       "</pre>\n"
      ],
      "text/plain": [
       "\u001b[38;2;5;245;141m✓\u001b[0m Tests finished 🎉! Run \u001b[32m'deepeval login'\u001b[0m to save and analyze evaluation results on Confident AI.  \n",
       "‼️ Looking for a place for your LLM test data to live 🏡? Use Confident AI for test reports, benchmark analysis, \n",
       "compare models/prompts, and catch regressions for your LLM system.\n"
      ]
     },
     "metadata": {},
     "output_type": "display_data"
    },
    {
     "name": "stdout",
     "output_type": "stream",
     "text": [
      "265\n"
     ]
    },
    {
     "data": {
      "text/html": [
       "<pre style=\"white-space:pre;overflow-x:auto;line-height:normal;font-family:Menlo,'DejaVu Sans Mono',consolas,'Courier New',monospace\">✨ You're running DeepEval's latest <span style=\"color: #6a00ff; text-decoration-color: #6a00ff\">Contextual Precision Metric</span>! <span style=\"color: #374151; text-decoration-color: #374151; font-weight: bold\">(</span><span style=\"color: #374151; text-decoration-color: #374151\">using Gemini </span><span style=\"color: #374151; text-decoration-color: #374151; font-weight: bold\">1.5</span><span style=\"color: #374151; text-decoration-color: #374151\"> Flash, </span><span style=\"color: #374151; text-decoration-color: #374151\">strict</span><span style=\"color: #374151; text-decoration-color: #374151\">=</span><span style=\"color: #374151; text-decoration-color: #374151; font-style: italic\">False</span><span style=\"color: #374151; text-decoration-color: #374151\">, </span>\n",
       "<span style=\"color: #374151; text-decoration-color: #374151\">async_mode</span><span style=\"color: #374151; text-decoration-color: #374151\">=</span><span style=\"color: #374151; text-decoration-color: #374151; font-style: italic\">True</span><span style=\"color: #374151; text-decoration-color: #374151; font-weight: bold\">)</span><span style=\"color: #374151; text-decoration-color: #374151\">...</span>\n",
       "</pre>\n"
      ],
      "text/plain": [
       "✨ You're running DeepEval's latest \u001b[38;2;106;0;255mContextual Precision Metric\u001b[0m! \u001b[1;38;2;55;65;81m(\u001b[0m\u001b[38;2;55;65;81musing Gemini \u001b[0m\u001b[1;38;2;55;65;81m1.5\u001b[0m\u001b[38;2;55;65;81m Flash, \u001b[0m\u001b[38;2;55;65;81mstrict\u001b[0m\u001b[38;2;55;65;81m=\u001b[0m\u001b[3;38;2;55;65;81mFalse\u001b[0m\u001b[38;2;55;65;81m, \u001b[0m\n",
       "\u001b[38;2;55;65;81masync_mode\u001b[0m\u001b[38;2;55;65;81m=\u001b[0m\u001b[3;38;2;55;65;81mTrue\u001b[0m\u001b[1;38;2;55;65;81m)\u001b[0m\u001b[38;2;55;65;81m...\u001b[0m\n"
      ]
     },
     "metadata": {},
     "output_type": "display_data"
    },
    {
     "name": "stdout",
     "output_type": "stream",
     "text": [
      "Event loop is already running. Applying nest_asyncio patch to allow async execution...\n"
     ]
    },
    {
     "name": "stderr",
     "output_type": "stream",
     "text": [
      "Evaluating 1 test case(s) in parallel: |███████████████████████████████|100% (1/1) [Time Taken: 00:20, 20.02s/test case]"
     ]
    },
    {
     "name": "stdout",
     "output_type": "stream",
     "text": [
      "\n",
      "======================================================================\n",
      "\n",
      "Metrics Summary\n",
      "\n",
      "  - ✅ Contextual Precision (score: 0.8528571428571429, threshold: 0.5, strict: False, evaluation model: Gemini 1.5 Flash, reason: None, error: None)\n",
      "\n",
      "For test case:\n",
      "\n",
      "  - input: Have more than five Presidents lived past the age of 90?\n",
      "  - actual output: No, the text only names four presidents who lived past the age of 90:  John Adams, Herbert Hoover, Ronald Reagan, and Gerald Ford.  Therefore, fewer than five presidents have lived past 90.\n",
      "\n",
      "  - expected output: no\n",
      "  - context: []\n",
      "  - retrieval context: [\"['*Ford is one of only four former Presidents to live to 90 or more years of age. The others are Ronald Reagan (93)\", \" John Adams (90) and Herbert Hoover (90).'\", \" 'John Adams remains the longest-lived person ever elected to both of the highest offices in the United States.'\", \" '*Ford was the third longest lived Vice President at the age of 93. The two oldest were John Nance Garner\", ' 98', ' and Levi P. Morton', \" 96.'\", \" '*On November 12\", ' 2006', ' Ford became the longest-lived President', ' surpassing Ronald Reagan.    At the time of his death', \" he had outlived President Reagan by 45 days.'\", ' \"His crypt lies at United First Parish Church (also known as the Church of the Presidents) in Quincy.  Until his record was broken by Ronald Reagan in 2001', \" he was the nation's longest-living President (90 years\", ' 247 days) maintaining that record for 175 years.  The record is currently held by former President Gerald Ford', ' who served less than one term', ' and who died December 26', ' 2006 at 93 years', ' 165 days.\"', \" 'Deusen\", ' Van Glydon. \"The American Presidency\". Encyclopedia Americana. Accessed 9', \" May 2007.'\", ' \"As Ford approached his ninetieth year', ' he began to experience significant health problems associated with old age. He suffered two minor strokes at the 2000 Republican National Convention', ' but made a quick recovery.  Gerald Ford recovering after strokes. BBC', ' August 2', ' 2000.  Retrieved on December 31', ' 2006.  In January 2006', ' he spent 11 days at the Eisenhower Medical Center near his residence at Rancho Mirage', ' California', ' for treatment of pneumonia.  Former President Ford', ' 92', ' hospitalized with pneumonia. Associated Press', ' January 17', ' 2006. Retrieved on October 19', ' 2007.  On April 23', \" President George W. Bush visited Ford at his home in Rancho Mirage for a little over an hour. This was Ford's last public appearance and produced the last known public photos\", ' video footage and voice recording. While vacationing in Vail', ' Colorado', ' he was hospitalized for two days in July', ' 2006 for shortness of breath.  Gerald Ford released from hospital. Associated Press', ' July 26', ' 2006. Retrieved on December 31', \" 2006.  On August 15 Ford was admitted to St. Mary's Hospital of the Mayo Clinic in Rochester\", ' Minnesota for testing and evaluation. On August 21', ' it was reported that he had been fitted with a pacemaker. On August 25', ' he underwent an angioplasty procedure at the Mayo Clinic', ' according to a statement from an assistant to Ford. On August 28', ' Ford was released from the hospital and returned with his wife Betty to their California home. On October 13', ' he was scheduled to attend the dedication of a building of his namesake', ' the Gerald R. Ford School of Public Policy', ' but due to poor health and on the advice of his doctors he did not attend', ' much to his personal disappointment. The previous day', ' on October 12', ' however', ' Ford entered the hospital yet again for undisclosed tests at the Eisenhower Medical Center;  Former President Ford in hospital for tests. Associated Press via CNN  he was released on October 16. As a result of his frail health it was announced on October 17 that Ford was considering selling his home near Vail due to the uncertainty as to whether he would be able to return. Those that saw him during the last five months of his life said that he looked frailer than ever and that it appeared his body was slowly failing him', ' and by November 2006 he was confined to a hospital bed in his study.  CNN Transcript December 26', ' 2006 11:00PM CST  On November 12', ' 2006 upon surpassing Ronald Reagan to become the longest lived president in US history he released his last public statement:\"', ' \"*Fillmore was the first U.S. President born after the death of a former president', \" as he was born three weeks after George Washington's death on December 14\", ' 1799.\"', \" '* Monroe was (arguably) the last president to have fought in the Revolutionary War\", \" although Andrew Jackson served as a 13-year-old courier in the Continental Army and was taken as a prisoner of war by the British.'\", \" 'Stephen Grover Cleveland (March 18 1837   June 24 1908)\", ' the twenty-second and twenty-fourth President of the United States', ' was the only President to serve non-consecutive terms (1885 1889 and 1893 1897). He was defeated for reelection in 1888 by Benjamin Harrison', ' against whom he ran again in 1892 and won a second term. He was the only Democrat elected to the Presidency in the era of Republican political domination between 1860 and 1912', ' after the American Civil War. His admirers praise him for his bedrock honesty', ' independence', ' integrity', ' and commitment to the principles of classical liberalism. As a leader of the Bourbon Democrats', ' he opposed imperialism', ' taxes', ' corruption', ' patronage', \" subsidies and inflationary policies.']\"]\n",
      "\n",
      "======================================================================\n",
      "\n",
      "Overall Metric Pass Rates\n",
      "\n",
      "Contextual Precision: 100.00% pass rate\n",
      "\n",
      "======================================================================\n",
      "\n"
     ]
    },
    {
     "name": "stderr",
     "output_type": "stream",
     "text": [
      "\n"
     ]
    },
    {
     "data": {
      "text/html": [
       "<pre style=\"white-space:pre;overflow-x:auto;line-height:normal;font-family:Menlo,'DejaVu Sans Mono',consolas,'Courier New',monospace\"><span style=\"color: #05f58d; text-decoration-color: #05f58d\">✓</span> Tests finished 🎉! Run <span style=\"color: #008000; text-decoration-color: #008000\">'deepeval login'</span> to save and analyze evaluation results on Confident AI.  \n",
       "‼️ Looking for a place for your LLM test data to live 🏡? Use Confident AI for test reports, benchmark analysis, \n",
       "compare models/prompts, and catch regressions for your LLM system.\n",
       "</pre>\n"
      ],
      "text/plain": [
       "\u001b[38;2;5;245;141m✓\u001b[0m Tests finished 🎉! Run \u001b[32m'deepeval login'\u001b[0m to save and analyze evaluation results on Confident AI.  \n",
       "‼️ Looking for a place for your LLM test data to live 🏡? Use Confident AI for test reports, benchmark analysis, \n",
       "compare models/prompts, and catch regressions for your LLM system.\n"
      ]
     },
     "metadata": {},
     "output_type": "display_data"
    },
    {
     "name": "stdout",
     "output_type": "stream",
     "text": [
      "266\n"
     ]
    },
    {
     "data": {
      "text/html": [
       "<pre style=\"white-space:pre;overflow-x:auto;line-height:normal;font-family:Menlo,'DejaVu Sans Mono',consolas,'Courier New',monospace\">✨ You're running DeepEval's latest <span style=\"color: #6a00ff; text-decoration-color: #6a00ff\">Contextual Precision Metric</span>! <span style=\"color: #374151; text-decoration-color: #374151; font-weight: bold\">(</span><span style=\"color: #374151; text-decoration-color: #374151\">using Gemini </span><span style=\"color: #374151; text-decoration-color: #374151; font-weight: bold\">1.5</span><span style=\"color: #374151; text-decoration-color: #374151\"> Flash, </span><span style=\"color: #374151; text-decoration-color: #374151\">strict</span><span style=\"color: #374151; text-decoration-color: #374151\">=</span><span style=\"color: #374151; text-decoration-color: #374151; font-style: italic\">False</span><span style=\"color: #374151; text-decoration-color: #374151\">, </span>\n",
       "<span style=\"color: #374151; text-decoration-color: #374151\">async_mode</span><span style=\"color: #374151; text-decoration-color: #374151\">=</span><span style=\"color: #374151; text-decoration-color: #374151; font-style: italic\">True</span><span style=\"color: #374151; text-decoration-color: #374151; font-weight: bold\">)</span><span style=\"color: #374151; text-decoration-color: #374151\">...</span>\n",
       "</pre>\n"
      ],
      "text/plain": [
       "✨ You're running DeepEval's latest \u001b[38;2;106;0;255mContextual Precision Metric\u001b[0m! \u001b[1;38;2;55;65;81m(\u001b[0m\u001b[38;2;55;65;81musing Gemini \u001b[0m\u001b[1;38;2;55;65;81m1.5\u001b[0m\u001b[38;2;55;65;81m Flash, \u001b[0m\u001b[38;2;55;65;81mstrict\u001b[0m\u001b[38;2;55;65;81m=\u001b[0m\u001b[3;38;2;55;65;81mFalse\u001b[0m\u001b[38;2;55;65;81m, \u001b[0m\n",
       "\u001b[38;2;55;65;81masync_mode\u001b[0m\u001b[38;2;55;65;81m=\u001b[0m\u001b[3;38;2;55;65;81mTrue\u001b[0m\u001b[1;38;2;55;65;81m)\u001b[0m\u001b[38;2;55;65;81m...\u001b[0m\n"
      ]
     },
     "metadata": {},
     "output_type": "display_data"
    },
    {
     "name": "stdout",
     "output_type": "stream",
     "text": [
      "Event loop is already running. Applying nest_asyncio patch to allow async execution...\n"
     ]
    },
    {
     "name": "stderr",
     "output_type": "stream",
     "text": [
      "Evaluating 1 test case(s) in parallel: |███████████████████████████████|100% (1/1) [Time Taken: 00:20, 20.02s/test case]"
     ]
    },
    {
     "name": "stdout",
     "output_type": "stream",
     "text": [
      "\n",
      "======================================================================\n",
      "\n",
      "Metrics Summary\n",
      "\n",
      "  - ❌ Contextual Precision (score: 0.0, threshold: 0.5, strict: False, evaluation model: Gemini 1.5 Flash, reason: None, error: None)\n",
      "\n",
      "For test case:\n",
      "\n",
      "  - input: How do kwajalein and eniwetok relate?\n",
      "  - actual output: Kwajalein and Enewetak are both atolls in the Marshall Islands in the Pacific Ocean.  They were both heavily used for nuclear weapons testing by the United States during the mid-20th century.  Enewetak Atoll was the site of many of the early tests, while Kwajalein Atoll was later used as a missile testing range.  Their proximity and shared history as nuclear testing sites are their key relationship.\n",
      "\n",
      "  - expected output: The Monterey supported landings at both locations.\n",
      "  - context: []\n",
      "  - retrieval context: [\"['#Canadian Arctic Archipelago'\", ' \\'A Kwakwaka\\\\\\'wakw totem pole and traditional \"big house\" in Victoria', \" BC.'\", ' \\'* \"Gazetteer of Planetary Nomenclature\"', '  Moon Nomenclature: Crater. USGS', \" Astrogeology Research Program.'\", \" 'Chimneyless sauna building in Enonkoski. Strong Finnish sauna culture is one of the remains of the aboriginal Finnish culture.'\", \" 'Culture and history links'\", ' \"* Cleveland', ' Grover.  about Hawaii.\\'\\' (1893).\"', \" ';Origin and history of the name'\", \" '#Western Finland'\", \" '#Alaska\", \" USA'\", \" '#Eastern Finland']\"]\n",
      "\n",
      "======================================================================\n",
      "\n",
      "Overall Metric Pass Rates\n",
      "\n",
      "Contextual Precision: 0.00% pass rate\n",
      "\n",
      "======================================================================\n",
      "\n"
     ]
    },
    {
     "name": "stderr",
     "output_type": "stream",
     "text": [
      "\n"
     ]
    },
    {
     "data": {
      "text/html": [
       "<pre style=\"white-space:pre;overflow-x:auto;line-height:normal;font-family:Menlo,'DejaVu Sans Mono',consolas,'Courier New',monospace\"><span style=\"color: #05f58d; text-decoration-color: #05f58d\">✓</span> Tests finished 🎉! Run <span style=\"color: #008000; text-decoration-color: #008000\">'deepeval login'</span> to save and analyze evaluation results on Confident AI.  \n",
       "‼️ Looking for a place for your LLM test data to live 🏡? Use Confident AI for test reports, benchmark analysis, \n",
       "compare models/prompts, and catch regressions for your LLM system.\n",
       "</pre>\n"
      ],
      "text/plain": [
       "\u001b[38;2;5;245;141m✓\u001b[0m Tests finished 🎉! Run \u001b[32m'deepeval login'\u001b[0m to save and analyze evaluation results on Confident AI.  \n",
       "‼️ Looking for a place for your LLM test data to live 🏡? Use Confident AI for test reports, benchmark analysis, \n",
       "compare models/prompts, and catch regressions for your LLM system.\n"
      ]
     },
     "metadata": {},
     "output_type": "display_data"
    },
    {
     "name": "stdout",
     "output_type": "stream",
     "text": [
      "267\n"
     ]
    },
    {
     "data": {
      "text/html": [
       "<pre style=\"white-space:pre;overflow-x:auto;line-height:normal;font-family:Menlo,'DejaVu Sans Mono',consolas,'Courier New',monospace\">✨ You're running DeepEval's latest <span style=\"color: #6a00ff; text-decoration-color: #6a00ff\">Contextual Precision Metric</span>! <span style=\"color: #374151; text-decoration-color: #374151; font-weight: bold\">(</span><span style=\"color: #374151; text-decoration-color: #374151\">using Gemini </span><span style=\"color: #374151; text-decoration-color: #374151; font-weight: bold\">1.5</span><span style=\"color: #374151; text-decoration-color: #374151\"> Flash, </span><span style=\"color: #374151; text-decoration-color: #374151\">strict</span><span style=\"color: #374151; text-decoration-color: #374151\">=</span><span style=\"color: #374151; text-decoration-color: #374151; font-style: italic\">False</span><span style=\"color: #374151; text-decoration-color: #374151\">, </span>\n",
       "<span style=\"color: #374151; text-decoration-color: #374151\">async_mode</span><span style=\"color: #374151; text-decoration-color: #374151\">=</span><span style=\"color: #374151; text-decoration-color: #374151; font-style: italic\">True</span><span style=\"color: #374151; text-decoration-color: #374151; font-weight: bold\">)</span><span style=\"color: #374151; text-decoration-color: #374151\">...</span>\n",
       "</pre>\n"
      ],
      "text/plain": [
       "✨ You're running DeepEval's latest \u001b[38;2;106;0;255mContextual Precision Metric\u001b[0m! \u001b[1;38;2;55;65;81m(\u001b[0m\u001b[38;2;55;65;81musing Gemini \u001b[0m\u001b[1;38;2;55;65;81m1.5\u001b[0m\u001b[38;2;55;65;81m Flash, \u001b[0m\u001b[38;2;55;65;81mstrict\u001b[0m\u001b[38;2;55;65;81m=\u001b[0m\u001b[3;38;2;55;65;81mFalse\u001b[0m\u001b[38;2;55;65;81m, \u001b[0m\n",
       "\u001b[38;2;55;65;81masync_mode\u001b[0m\u001b[38;2;55;65;81m=\u001b[0m\u001b[3;38;2;55;65;81mTrue\u001b[0m\u001b[1;38;2;55;65;81m)\u001b[0m\u001b[38;2;55;65;81m...\u001b[0m\n"
      ]
     },
     "metadata": {},
     "output_type": "display_data"
    },
    {
     "name": "stdout",
     "output_type": "stream",
     "text": [
      "Event loop is already running. Applying nest_asyncio patch to allow async execution...\n"
     ]
    },
    {
     "name": "stderr",
     "output_type": "stream",
     "text": [
      "Evaluating 1 test case(s) in parallel: |███████████████████████████████|100% (1/1) [Time Taken: 00:20, 20.02s/test case]"
     ]
    },
    {
     "name": "stdout",
     "output_type": "stream",
     "text": [
      "\n",
      "======================================================================\n",
      "\n",
      "Metrics Summary\n",
      "\n",
      "  - ✅ Contextual Precision (score: 1.0, threshold: 0.5, strict: False, evaluation model: Gemini 1.5 Flash, reason: None, error: None)\n",
      "\n",
      "For test case:\n",
      "\n",
      "  - input: What did Ford receive on April 13, 1942?\n",
      "  - actual output: On April 13, 1942, Gerald Ford received a commission as an ensign in the U.S. Naval Reserve.\n",
      "\n",
      "  - expected output: Ford received a commission as ensign in the US Naval Reserve.\n",
      "  - context: []\n",
      "  - retrieval context: [\"['Ford in Navy uniform\", \" 1945'\", \" 'Ford received a commission as ensign in the U.S. Naval Reserve on April 13\", ' 1942. On April 20', ' he reported for active duty to the V-5 instructor school at Annapolis', ' Maryland. After one month of training', ' he went to Navy Preflight School in Chapel Hill', ' North Carolina', ' where he was one of 83 instructors and taught elementary seamanship', ' ordnance', ' gunnery', ' first aid and military drill. In addition', ' he coached in all nine sports that were offered', ' but mostly in swimming', ' boxing and football. During the one year he was at the Preflight School', ' he was promoted to Lieutenant Junior Grade on June 2', ' 1942', \" and to Lieutenant in March 1943.'\", ' \"Applying for sea duty', ' Ford was sent in May 1943 to the pre-commissioning detachment for the new aircraft carrier USS Monterey', ' at New York Shipbuilding Corporation', ' Camden', \" New Jersey. From the ship's commissioning on June 17\", ' 1943 until the end of December 1944', ' Ford served as the assistant navigator', ' Athletic Officer', ' and antiaircraft battery officer on board the Monterey. While he was on board', ' the carrier participated in many actions in the Pacific Theater with the Third and Fifth Fleets during the fall of 1943 and in 1944. In 1943', ' the carrier helped secure Makin Island in the Gilberts', ' and participated in carrier strikes against Kavieng', ' New Ireland in 1943. During the spring of 1944', ' the Monterey supported landings at Kwajalein and Eniwetok and participated in carrier strikes in the Marianas', ' Western Carolines', ' and northern New Guinea', ' as well as in the Battle of the Philippine Sea.         After overhaul', ' from September to November 1944', ' aircraft from the Monterey launched strikes against Wake Island', ' participated in strikes in the Philippines and Ryukyus', ' and supported the landings at Leyte and Mindoro.\"', ' \"Ford graduated from law school in 1941', ' and was admitted to the Michigan bar shortly thereafter. In May 1941', ' he opened a Grand Rapids law practice with a friend', ' Philip Buchen', \"  who would later serve as Ford's White House counsel. But overseas developments caused a change in plans\", ' and Ford responded to the attack on Pearl Harbor by enlisting in the Navy.\"', \" 'Ford as a University of Michigan football player\", \" 1933'\", \" 'The Fords on their wedding day\", ' October 15', \" 1948'\", \" 'For his naval service\", ' Gerald Ford earned the Asiatic-Pacific Campaign Medal with nine engagement stars for operations in the Gilbert Islands', ' Bismarck Archipelago', ' Marshall Islands', ' Asiatic and Pacific carrier raids', ' Hollandia', ' Marianas', ' Western Carolines', ' Western New Guinea', ' and the Leyte Operation. He also received the Philippine Liberation Medal with two bronze stars for Leyte and Mindoro', \" as well as the American Campaign and World War II Victory medals.'\", ' \"While attending Yale Law School', ' he joined a group of students led by R. Douglas Stuart', ' Jr.', ' and signed a petition to enforce the 1939 Neutrality Act. The petition was circulated nationally and was the inspiration for the America First Committee', ' a group determined to keep the U.S. out of World War II.    p. 7  Ford\\'s position on U.S. involvement in the war would soon change.\"', \" 'Ford attended Grand Rapids South High School and was a star athlete and captain of his football team. In 1930\", \" he was selected to the All-City team of the Grand Rapids City League. He also attracted the attention of college recruiters.'\", \" 'On October 15\", ' 1948', ' at Grace Episcopal Church in Grand Rapids', ' Ford married Elizabeth Bloomer Warren', \" a department store fashion consultant. Warren had been a John Robert Powers fashion model and a dancer in the auxiliary troupe of the Martha Graham Dance Company. She had previously been married to and divorced from William G. Warren.']\"]\n",
      "\n",
      "======================================================================\n",
      "\n",
      "Overall Metric Pass Rates\n",
      "\n",
      "Contextual Precision: 100.00% pass rate\n",
      "\n",
      "======================================================================\n",
      "\n"
     ]
    },
    {
     "name": "stderr",
     "output_type": "stream",
     "text": [
      "\n"
     ]
    },
    {
     "data": {
      "text/html": [
       "<pre style=\"white-space:pre;overflow-x:auto;line-height:normal;font-family:Menlo,'DejaVu Sans Mono',consolas,'Courier New',monospace\"><span style=\"color: #05f58d; text-decoration-color: #05f58d\">✓</span> Tests finished 🎉! Run <span style=\"color: #008000; text-decoration-color: #008000\">'deepeval login'</span> to save and analyze evaluation results on Confident AI.  \n",
       "‼️ Looking for a place for your LLM test data to live 🏡? Use Confident AI for test reports, benchmark analysis, \n",
       "compare models/prompts, and catch regressions for your LLM system.\n",
       "</pre>\n"
      ],
      "text/plain": [
       "\u001b[38;2;5;245;141m✓\u001b[0m Tests finished 🎉! Run \u001b[32m'deepeval login'\u001b[0m to save and analyze evaluation results on Confident AI.  \n",
       "‼️ Looking for a place for your LLM test data to live 🏡? Use Confident AI for test reports, benchmark analysis, \n",
       "compare models/prompts, and catch regressions for your LLM system.\n"
      ]
     },
     "metadata": {},
     "output_type": "display_data"
    },
    {
     "name": "stdout",
     "output_type": "stream",
     "text": [
      "268\n"
     ]
    },
    {
     "data": {
      "text/html": [
       "<pre style=\"white-space:pre;overflow-x:auto;line-height:normal;font-family:Menlo,'DejaVu Sans Mono',consolas,'Courier New',monospace\">✨ You're running DeepEval's latest <span style=\"color: #6a00ff; text-decoration-color: #6a00ff\">Contextual Precision Metric</span>! <span style=\"color: #374151; text-decoration-color: #374151; font-weight: bold\">(</span><span style=\"color: #374151; text-decoration-color: #374151\">using Gemini </span><span style=\"color: #374151; text-decoration-color: #374151; font-weight: bold\">1.5</span><span style=\"color: #374151; text-decoration-color: #374151\"> Flash, </span><span style=\"color: #374151; text-decoration-color: #374151\">strict</span><span style=\"color: #374151; text-decoration-color: #374151\">=</span><span style=\"color: #374151; text-decoration-color: #374151; font-style: italic\">False</span><span style=\"color: #374151; text-decoration-color: #374151\">, </span>\n",
       "<span style=\"color: #374151; text-decoration-color: #374151\">async_mode</span><span style=\"color: #374151; text-decoration-color: #374151\">=</span><span style=\"color: #374151; text-decoration-color: #374151; font-style: italic\">True</span><span style=\"color: #374151; text-decoration-color: #374151; font-weight: bold\">)</span><span style=\"color: #374151; text-decoration-color: #374151\">...</span>\n",
       "</pre>\n"
      ],
      "text/plain": [
       "✨ You're running DeepEval's latest \u001b[38;2;106;0;255mContextual Precision Metric\u001b[0m! \u001b[1;38;2;55;65;81m(\u001b[0m\u001b[38;2;55;65;81musing Gemini \u001b[0m\u001b[1;38;2;55;65;81m1.5\u001b[0m\u001b[38;2;55;65;81m Flash, \u001b[0m\u001b[38;2;55;65;81mstrict\u001b[0m\u001b[38;2;55;65;81m=\u001b[0m\u001b[3;38;2;55;65;81mFalse\u001b[0m\u001b[38;2;55;65;81m, \u001b[0m\n",
       "\u001b[38;2;55;65;81masync_mode\u001b[0m\u001b[38;2;55;65;81m=\u001b[0m\u001b[3;38;2;55;65;81mTrue\u001b[0m\u001b[1;38;2;55;65;81m)\u001b[0m\u001b[38;2;55;65;81m...\u001b[0m\n"
      ]
     },
     "metadata": {},
     "output_type": "display_data"
    },
    {
     "name": "stdout",
     "output_type": "stream",
     "text": [
      "Event loop is already running. Applying nest_asyncio patch to allow async execution...\n"
     ]
    },
    {
     "name": "stderr",
     "output_type": "stream",
     "text": [
      "Evaluating 1 test case(s) in parallel: |███████████████████████████████|100% (1/1) [Time Taken: 00:20, 20.02s/test case]"
     ]
    },
    {
     "name": "stdout",
     "output_type": "stream",
     "text": [
      "\n",
      "======================================================================\n",
      "\n",
      "Metrics Summary\n",
      "\n",
      "  - ✅ Contextual Precision (score: 1.0, threshold: 0.5, strict: False, evaluation model: Gemini 1.5 Flash, reason: None, error: None)\n",
      "\n",
      "For test case:\n",
      "\n",
      "  - input: Was Ford released from the hospital?\n",
      "  - actual output: The provided text doesn't specify if Ford was ever hospitalized, let alone released from one.  To answer this, more information is needed.\n",
      "\n",
      "  - expected output: Yes.\n",
      "  - context: []\n",
      "  - retrieval context: ['[\"After the fire the Monterey was declared unfit for service', ' and the crippled carrier reached Ulithi on December 21 before proceeding across the Pacific to Bremerton', ' Washington where it underwent repairs. On December 24', ' 1944 at Ulithi', \" Ford was detached from the ship and sent to the Athletic Department of the Navy Pre-Flight School at Saint Mary's College of California\", ' where he was assigned to the Athletic Department until April 1945. One of his duties was to coach football. From the end of April 1945 to January 1946', ' he was on the staff of the Naval Reserve Training Command', ' Naval Air Station', ' Glenview', ' Illinois as the Staff Physical and Military Training Officer. On October 3', ' 1945 he was promoted to Lieutenant Commander. In January 1946', ' he was sent to the Separation Center', ' Great Lakes to be processed out. He was released from active duty under honorable conditions on February 23', ' 1946. On June 28', ' 1946', ' the Secretary of the Navy accepted Ford\\'s resignation from the Naval Reserve.\"', \" '*On November 12\", ' 2006', ' Ford became the longest-lived President', ' surpassing Ronald Reagan.    At the time of his death', \" he had outlived President Reagan by 45 days.'\", \" 'Ford died at the age of 93 years and 165 days on December 26\", ' 2006 at 6:45 p.m Pacific Standard Time (02:45', ' December 27', ' UTC) at his home in Rancho Mirage', \" California of  arteriosclerotic cerebrovascular disease and diffuse arteriosclerosis.'\", \" '*Ford is one of only four former Presidents to live to 90 or more years of age. The others are Ronald Reagan (93)\", \" John Adams (90) and Herbert Hoover (90).'\", \" 'Ford is honored during a memorial service in the U.S. Capitol Rotunda in Washington\", ' D.C. on December 30', \" 2006.'\", \" 'After the service\", ' Ford was interred at his Presidential Museum in Grand Rapids', \" Michigan.'\", \" 'Following Ford\\\\'s appointment\", ' the Watergate investigation continued until Chief of Staff Alexander Haig contacted Ford on August 1', ' 1974', ' and told him that \"smoking gun\" evidence had been found. The evidence left little doubt that President Nixon had been a part of the Watergate cover-up. At the time', ' Ford and his wife', ' Betty', ' were living in suburban Virginia', \" waiting for their expected move into the newly designated vice president\\\\'s residence in Washington\", ' D.C. However', ' \"Al Haig [asked] to come over and see me', '\" Ford later related', ' \"to tell me that there would be a new tape released on a Monday', ' and he said the evidence in there was devastating and there would probably be either an impeachment or a resignation. And he said', \" \\\\'I\\\\'m just warning you that you\\\\'ve got to be prepared\", \" that things might change dramatically and you could become President.\\\\' And I said\", \" \\\\'Betty\", ' I don\\\\\\'t think we\\\\\\'re ever going to live in the vice president\\\\\\'s house.\\\\\\'\"\\'', \" 'Seventeen days later\", ' another woman', ' Sara Jane Moore', ' also tried to kill Ford while he was visiting San Francisco', ' but her attempt was thwarted when former Marine Oliver Sipple deflected her shot. One person was injured when Moore fired', \" and she was later sentenced to life in prison.'\", \" 'After Ford left the White House in 1977\", ' intimates said that the former President privately justified his pardon of Nixon by carrying in his wallet a portion of the text of Burdick v. United States', ' a 1915 U.S. Supreme Court decision which stated that a pardon indicated a presumption of guilt and that acceptance of a pardon was tantamount to a confession of that guilt.   In 2001', \" the John F. Kennedy Library Foundation awarded the John F. Kennedy Profile in Courage Award to Ford for his pardon of Nixon.'\", \" 'Ford attended Grand Rapids South High School and was a star athlete and captain of his football team. In 1930\", \" he was selected to the All-City team of the Grand Rapids City League. He also attracted the attention of college recruiters.']\"]\n",
      "\n",
      "======================================================================\n",
      "\n",
      "Overall Metric Pass Rates\n",
      "\n",
      "Contextual Precision: 100.00% pass rate\n",
      "\n",
      "======================================================================\n",
      "\n"
     ]
    },
    {
     "name": "stderr",
     "output_type": "stream",
     "text": [
      "\n"
     ]
    },
    {
     "data": {
      "text/html": [
       "<pre style=\"white-space:pre;overflow-x:auto;line-height:normal;font-family:Menlo,'DejaVu Sans Mono',consolas,'Courier New',monospace\"><span style=\"color: #05f58d; text-decoration-color: #05f58d\">✓</span> Tests finished 🎉! Run <span style=\"color: #008000; text-decoration-color: #008000\">'deepeval login'</span> to save and analyze evaluation results on Confident AI.  \n",
       "‼️ Looking for a place for your LLM test data to live 🏡? Use Confident AI for test reports, benchmark analysis, \n",
       "compare models/prompts, and catch regressions for your LLM system.\n",
       "</pre>\n"
      ],
      "text/plain": [
       "\u001b[38;2;5;245;141m✓\u001b[0m Tests finished 🎉! Run \u001b[32m'deepeval login'\u001b[0m to save and analyze evaluation results on Confident AI.  \n",
       "‼️ Looking for a place for your LLM test data to live 🏡? Use Confident AI for test reports, benchmark analysis, \n",
       "compare models/prompts, and catch regressions for your LLM system.\n"
      ]
     },
     "metadata": {},
     "output_type": "display_data"
    },
    {
     "name": "stdout",
     "output_type": "stream",
     "text": [
      "269\n"
     ]
    },
    {
     "data": {
      "text/html": [
       "<pre style=\"white-space:pre;overflow-x:auto;line-height:normal;font-family:Menlo,'DejaVu Sans Mono',consolas,'Courier New',monospace\">✨ You're running DeepEval's latest <span style=\"color: #6a00ff; text-decoration-color: #6a00ff\">Contextual Precision Metric</span>! <span style=\"color: #374151; text-decoration-color: #374151; font-weight: bold\">(</span><span style=\"color: #374151; text-decoration-color: #374151\">using Gemini </span><span style=\"color: #374151; text-decoration-color: #374151; font-weight: bold\">1.5</span><span style=\"color: #374151; text-decoration-color: #374151\"> Flash, </span><span style=\"color: #374151; text-decoration-color: #374151\">strict</span><span style=\"color: #374151; text-decoration-color: #374151\">=</span><span style=\"color: #374151; text-decoration-color: #374151; font-style: italic\">False</span><span style=\"color: #374151; text-decoration-color: #374151\">, </span>\n",
       "<span style=\"color: #374151; text-decoration-color: #374151\">async_mode</span><span style=\"color: #374151; text-decoration-color: #374151\">=</span><span style=\"color: #374151; text-decoration-color: #374151; font-style: italic\">True</span><span style=\"color: #374151; text-decoration-color: #374151; font-weight: bold\">)</span><span style=\"color: #374151; text-decoration-color: #374151\">...</span>\n",
       "</pre>\n"
      ],
      "text/plain": [
       "✨ You're running DeepEval's latest \u001b[38;2;106;0;255mContextual Precision Metric\u001b[0m! \u001b[1;38;2;55;65;81m(\u001b[0m\u001b[38;2;55;65;81musing Gemini \u001b[0m\u001b[1;38;2;55;65;81m1.5\u001b[0m\u001b[38;2;55;65;81m Flash, \u001b[0m\u001b[38;2;55;65;81mstrict\u001b[0m\u001b[38;2;55;65;81m=\u001b[0m\u001b[3;38;2;55;65;81mFalse\u001b[0m\u001b[38;2;55;65;81m, \u001b[0m\n",
       "\u001b[38;2;55;65;81masync_mode\u001b[0m\u001b[38;2;55;65;81m=\u001b[0m\u001b[3;38;2;55;65;81mTrue\u001b[0m\u001b[1;38;2;55;65;81m)\u001b[0m\u001b[38;2;55;65;81m...\u001b[0m\n"
      ]
     },
     "metadata": {},
     "output_type": "display_data"
    },
    {
     "name": "stdout",
     "output_type": "stream",
     "text": [
      "Event loop is already running. Applying nest_asyncio patch to allow async execution...\n"
     ]
    },
    {
     "name": "stderr",
     "output_type": "stream",
     "text": [
      "Evaluating 1 test case(s) in parallel: |███████████████████████████████|100% (1/1) [Time Taken: 00:20, 20.02s/test case]"
     ]
    },
    {
     "name": "stdout",
     "output_type": "stream",
     "text": [
      "\n",
      "======================================================================\n",
      "\n",
      "Metrics Summary\n",
      "\n",
      "  - ✅ Contextual Precision (score: 1.0, threshold: 0.5, strict: False, evaluation model: Gemini 1.5 Flash, reason: None, error: None)\n",
      "\n",
      "For test case:\n",
      "\n",
      "  - input: Was Ford interred at his Presidential Museum in Grand Rapids, Michigan?\n",
      "  - actual output: Yes, Gerald Ford is interred at his Presidential Museum in Grand Rapids, Michigan.\n",
      "\n",
      "  - expected output: Yes.\n",
      "  - context: []\n",
      "  - retrieval context: [\"['After the service\", ' Ford was interred at his Presidential Museum in Grand Rapids', \" Michigan.'\", ' \"President Ford\\'s tomb at his Presidential Museum in Grand Rapids', ' Michigan.\"', \" 'On December 30\", ' 2006', ' Ford became the 11th U.S. President to lie in state.  The burial was preceded by a state funeral and memorial services held at the National Cathedral in Washington', ' D.C. on January 2', ' 2007. Ford was eulogized by former President George H. W. Bush', ' former Secretary of State Henry Kissinger', ' former NBC Nightly News anchorman Tom Brokaw and current President George W. Bush. On December 28', ' 2006', ' the New York Times reported that', \" at Ford\\\\'s request\", ' former President Jimmy Carter would deliver a eulogy. Decades ago', ' \"Mr. Ford asked whether his successor might consider speaking at his funeral and offered', ' lightheartedly', ' to do the same for Mr. Carter', ' depending on who died first\".    Carter delivered an emotional eulogy at the funeral service at Grace Episcopal Church in East Grand Rapids on January 3', ' 2007. Ford was also eulogized by Donald Rumsfeld', \" who was Ford\\\\'s Chief of Staff\", ' and Richard Norton Smith', ' Presidential historian. The invitation-only list of attendees included Vice President Dick Cheney', ' Michigan Gov. Jennifer Granholm', \" and U.S. Senators from Michigan Carl Levin and Debbie Stabenow.'\", \" '*On November 12\", ' 2006', ' Ford became the longest-lived President', ' surpassing Ronald Reagan.    At the time of his death', \" he had outlived President Reagan by 45 days.'\", ' \"Gerald R. Ford was born Leslie Lynch King', ' Jr. on July 14', ' 1913', ' at 12:43 a.m. CST', ' at 3202 Woolworth Avenue in Omaha', ' Nebraska. His parents', ' Leslie Lynch King', ' Sr.', ' a wool trader whose father was a prominent banker', ' and his wife', ' the former Dorothy Ayer Gardner', ' separated just sixteen days after his birth. His mother took him to the Oak Park', ' Illinois home of her sister Tannisse and her husband', ' Clarence Haskins James. From there she moved to the home of her parents', ' Levi Addison Gardner and his wife', ' the former Adele Augusta Ayer', ' in Grand Rapids', ' Michigan. Ford\\'s parents divorced the following December with his mother gaining full custody.\"', \" 'In 1977\", ' he established the Gerald R. Ford Institute of Public Policy at Albion College in Albion', ' Michigan. This institute is designed to give undergraduates training in public policy. In 1981', ' he opened the Gerald R. Ford Museum in Grand Rapids', ' and the Gerald R. Ford Library in Ann Arbor', ' Michigan.     In 1999', ' Ford was awarded the Presidential Medal of Freedom by Bill Clinton.     In 2001', ' he was presented with the John F. Kennedy Profiles in Courage Award for his decision to pardon Richard Nixon to stop the agony America was experiencing over Watergate.     In retirement Ford also devoted much time to his love of golf', ' often playing both privately and in public events with comedian Bob Hope', \" a longtime friend.'\", \" 'Ford is honored during a memorial service in the U.S. Capitol Rotunda in Washington\", ' D.C. on December 30', \" 2006.'\", ' \"Gerald Rudolph Ford', ' Jr. (July 14', ' 1913   December 26', ' 2006) was the thirty-eighth President of the United States', ' serving from 1974 to 1977', ' and the fortieth Vice President of the United States serving from 1973 to 1974. He was the first person appointed to the vice presidency under the terms of the 25th Amendment', \" and became President upon Richard Nixon's resignation on August 9\", ' 1974.\"', ' \"*Ford died on the 34th anniversary of President Harry Truman\\'s death', ' the second U.S. President to die on Boxing Day', \" which Ford's pastor\", ' The Rev. Dr. Robert Certain', ' noted when he referred to December 26 as its traditional Christian reference', ' St. Stephen\\'s Day.\"', \" 'At 8:49 p.m.\", \" Ford\\\\'s wife\", ' Betty', ' issued a statement that confirmed his death:     \"My family joins me in sharing the difficult news that Gerald Ford', ' our beloved husband', ' father', ' grandfather and great grandfather', ' has died at 93 years of age. His life was filled with love of God', ' his family and his country.\"    The statement was released by President Ford\\\\\\'s Office. The body was taken to the Eisenhower Medical Center', ' where it remained until the start of the funeral services on December 29', \" 2006.']\"]\n",
      "\n",
      "======================================================================\n",
      "\n",
      "Overall Metric Pass Rates\n",
      "\n",
      "Contextual Precision: 100.00% pass rate\n",
      "\n",
      "======================================================================\n",
      "\n"
     ]
    },
    {
     "name": "stderr",
     "output_type": "stream",
     "text": [
      "\n"
     ]
    },
    {
     "data": {
      "text/html": [
       "<pre style=\"white-space:pre;overflow-x:auto;line-height:normal;font-family:Menlo,'DejaVu Sans Mono',consolas,'Courier New',monospace\"><span style=\"color: #05f58d; text-decoration-color: #05f58d\">✓</span> Tests finished 🎉! Run <span style=\"color: #008000; text-decoration-color: #008000\">'deepeval login'</span> to save and analyze evaluation results on Confident AI.  \n",
       "‼️ Looking for a place for your LLM test data to live 🏡? Use Confident AI for test reports, benchmark analysis, \n",
       "compare models/prompts, and catch regressions for your LLM system.\n",
       "</pre>\n"
      ],
      "text/plain": [
       "\u001b[38;2;5;245;141m✓\u001b[0m Tests finished 🎉! Run \u001b[32m'deepeval login'\u001b[0m to save and analyze evaluation results on Confident AI.  \n",
       "‼️ Looking for a place for your LLM test data to live 🏡? Use Confident AI for test reports, benchmark analysis, \n",
       "compare models/prompts, and catch regressions for your LLM system.\n"
      ]
     },
     "metadata": {},
     "output_type": "display_data"
    },
    {
     "name": "stdout",
     "output_type": "stream",
     "text": [
      "270\n"
     ]
    },
    {
     "data": {
      "text/html": [
       "<pre style=\"white-space:pre;overflow-x:auto;line-height:normal;font-family:Menlo,'DejaVu Sans Mono',consolas,'Courier New',monospace\">✨ You're running DeepEval's latest <span style=\"color: #6a00ff; text-decoration-color: #6a00ff\">Contextual Precision Metric</span>! <span style=\"color: #374151; text-decoration-color: #374151; font-weight: bold\">(</span><span style=\"color: #374151; text-decoration-color: #374151\">using Gemini </span><span style=\"color: #374151; text-decoration-color: #374151; font-weight: bold\">1.5</span><span style=\"color: #374151; text-decoration-color: #374151\"> Flash, </span><span style=\"color: #374151; text-decoration-color: #374151\">strict</span><span style=\"color: #374151; text-decoration-color: #374151\">=</span><span style=\"color: #374151; text-decoration-color: #374151; font-style: italic\">False</span><span style=\"color: #374151; text-decoration-color: #374151\">, </span>\n",
       "<span style=\"color: #374151; text-decoration-color: #374151\">async_mode</span><span style=\"color: #374151; text-decoration-color: #374151\">=</span><span style=\"color: #374151; text-decoration-color: #374151; font-style: italic\">True</span><span style=\"color: #374151; text-decoration-color: #374151; font-weight: bold\">)</span><span style=\"color: #374151; text-decoration-color: #374151\">...</span>\n",
       "</pre>\n"
      ],
      "text/plain": [
       "✨ You're running DeepEval's latest \u001b[38;2;106;0;255mContextual Precision Metric\u001b[0m! \u001b[1;38;2;55;65;81m(\u001b[0m\u001b[38;2;55;65;81musing Gemini \u001b[0m\u001b[1;38;2;55;65;81m1.5\u001b[0m\u001b[38;2;55;65;81m Flash, \u001b[0m\u001b[38;2;55;65;81mstrict\u001b[0m\u001b[38;2;55;65;81m=\u001b[0m\u001b[3;38;2;55;65;81mFalse\u001b[0m\u001b[38;2;55;65;81m, \u001b[0m\n",
       "\u001b[38;2;55;65;81masync_mode\u001b[0m\u001b[38;2;55;65;81m=\u001b[0m\u001b[3;38;2;55;65;81mTrue\u001b[0m\u001b[1;38;2;55;65;81m)\u001b[0m\u001b[38;2;55;65;81m...\u001b[0m\n"
      ]
     },
     "metadata": {},
     "output_type": "display_data"
    },
    {
     "name": "stdout",
     "output_type": "stream",
     "text": [
      "Event loop is already running. Applying nest_asyncio patch to allow async execution...\n"
     ]
    },
    {
     "name": "stderr",
     "output_type": "stream",
     "text": [
      "Evaluating 1 test case(s) in parallel: |███████████████████████████████|100% (1/1) [Time Taken: 00:20, 20.02s/test case]"
     ]
    },
    {
     "name": "stdout",
     "output_type": "stream",
     "text": [
      "\n",
      "======================================================================\n",
      "\n",
      "Metrics Summary\n",
      "\n",
      "  - ✅ Contextual Precision (score: 1.0, threshold: 0.5, strict: False, evaluation model: Gemini 1.5 Flash, reason: None, error: None)\n",
      "\n",
      "For test case:\n",
      "\n",
      "  - input: Is Ford one of only four former Presidents to live to 90 or more years of age ?\n",
      "  - actual output: Yes, the text explicitly states that Ford is one of only four former Presidents to live to 90 or more years of age.\n",
      "\n",
      "  - expected output: Yes.\n",
      "  - context: []\n",
      "  - retrieval context: [\"['*Ford is one of only four former Presidents to live to 90 or more years of age. The others are Ronald Reagan (93)\", \" John Adams (90) and Herbert Hoover (90).'\", \" '*On November 12\", ' 2006', ' Ford became the longest-lived President', ' surpassing Ronald Reagan.    At the time of his death', \" he had outlived President Reagan by 45 days.'\", \" '*Ford was the third longest lived Vice President at the age of 93. The two oldest were John Nance Garner\", ' 98', ' and Levi P. Morton', \" 96.'\", \" 'Ford at his 90th birthday party with Laura Bush\", ' President George W. Bush', \" and Betty Ford in the White House State Dining Room in 2003.'\", ' \"As Ford approached his ninetieth year', ' he began to experience significant health problems associated with old age. He suffered two minor strokes at the 2000 Republican National Convention', ' but made a quick recovery.  Gerald Ford recovering after strokes. BBC', ' August 2', ' 2000.  Retrieved on December 31', ' 2006.  In January 2006', ' he spent 11 days at the Eisenhower Medical Center near his residence at Rancho Mirage', ' California', ' for treatment of pneumonia.  Former President Ford', ' 92', ' hospitalized with pneumonia. Associated Press', ' January 17', ' 2006. Retrieved on October 19', ' 2007.  On April 23', \" President George W. Bush visited Ford at his home in Rancho Mirage for a little over an hour. This was Ford's last public appearance and produced the last known public photos\", ' video footage and voice recording. While vacationing in Vail', ' Colorado', ' he was hospitalized for two days in July', ' 2006 for shortness of breath.  Gerald Ford released from hospital. Associated Press', ' July 26', ' 2006. Retrieved on December 31', \" 2006.  On August 15 Ford was admitted to St. Mary's Hospital of the Mayo Clinic in Rochester\", ' Minnesota for testing and evaluation. On August 21', ' it was reported that he had been fitted with a pacemaker. On August 25', ' he underwent an angioplasty procedure at the Mayo Clinic', ' according to a statement from an assistant to Ford. On August 28', ' Ford was released from the hospital and returned with his wife Betty to their California home. On October 13', ' he was scheduled to attend the dedication of a building of his namesake', ' the Gerald R. Ford School of Public Policy', ' but due to poor health and on the advice of his doctors he did not attend', ' much to his personal disappointment. The previous day', ' on October 12', ' however', ' Ford entered the hospital yet again for undisclosed tests at the Eisenhower Medical Center;  Former President Ford in hospital for tests. Associated Press via CNN  he was released on October 16. As a result of his frail health it was announced on October 17 that Ford was considering selling his home near Vail due to the uncertainty as to whether he would be able to return. Those that saw him during the last five months of his life said that he looked frailer than ever and that it appeared his body was slowly failing him', ' and by November 2006 he was confined to a hospital bed in his study.  CNN Transcript December 26', ' 2006 11:00PM CST  On November 12', ' 2006 upon surpassing Ronald Reagan to become the longest lived president in US history he released his last public statement:\"', \" '*Ford had the second longest post-presidency (29 years and 11 months) after Herbert Hoover (31 years and 7 months).'\", \" 'Like Presidents Carter\", ' Bush Senior and Clinton', ' Ford was an honorary co-chair of the Council for Excellence in Government', \" a group dedicated to excellence in government performance and which provides leadership training to top federal employees.'\", ' \"Ford retained his interest in football and his alma mater throughout life', ' occasionally attending games and on one occasion asking to be awakened to find out the score of an Ohio State-Michigan football game', ' while attending a summit in the Soviet Union as President.    The University of Michigan retired Ford\\'s #48 jersey in 1994.\"', ' \"Gerald Rudolph Ford', ' Jr. (July 14', ' 1913   December 26', ' 2006) was the thirty-eighth President of the United States', ' serving from 1974 to 1977', ' and the fortieth Vice President of the United States serving from 1973 to 1974. He was the first person appointed to the vice presidency under the terms of the 25th Amendment', \" and became President upon Richard Nixon's resignation on August 9\", ' 1974.\"', ' \"Ford remained relatively active in the years after his presidency and continued to make appearances at events of historical and ceremonial significance to the nation', ' such as presidential inaugurals and memorial services. In 1977', ' he reluctantly agreed to be interviewed by James M. Naughton', \" a New York Times journalist who was given the assignment to write the former President's advance obituary\", ' an article that would be updated prior to its eventual publication.\"]']\n",
      "\n",
      "======================================================================\n",
      "\n",
      "Overall Metric Pass Rates\n",
      "\n",
      "Contextual Precision: 100.00% pass rate\n",
      "\n",
      "======================================================================\n",
      "\n"
     ]
    },
    {
     "name": "stderr",
     "output_type": "stream",
     "text": [
      "\n"
     ]
    },
    {
     "data": {
      "text/html": [
       "<pre style=\"white-space:pre;overflow-x:auto;line-height:normal;font-family:Menlo,'DejaVu Sans Mono',consolas,'Courier New',monospace\"><span style=\"color: #05f58d; text-decoration-color: #05f58d\">✓</span> Tests finished 🎉! Run <span style=\"color: #008000; text-decoration-color: #008000\">'deepeval login'</span> to save and analyze evaluation results on Confident AI.  \n",
       "‼️ Looking for a place for your LLM test data to live 🏡? Use Confident AI for test reports, benchmark analysis, \n",
       "compare models/prompts, and catch regressions for your LLM system.\n",
       "</pre>\n"
      ],
      "text/plain": [
       "\u001b[38;2;5;245;141m✓\u001b[0m Tests finished 🎉! Run \u001b[32m'deepeval login'\u001b[0m to save and analyze evaluation results on Confident AI.  \n",
       "‼️ Looking for a place for your LLM test data to live 🏡? Use Confident AI for test reports, benchmark analysis, \n",
       "compare models/prompts, and catch regressions for your LLM system.\n"
      ]
     },
     "metadata": {},
     "output_type": "display_data"
    },
    {
     "name": "stdout",
     "output_type": "stream",
     "text": [
      "271\n"
     ]
    },
    {
     "data": {
      "text/html": [
       "<pre style=\"white-space:pre;overflow-x:auto;line-height:normal;font-family:Menlo,'DejaVu Sans Mono',consolas,'Courier New',monospace\">✨ You're running DeepEval's latest <span style=\"color: #6a00ff; text-decoration-color: #6a00ff\">Contextual Precision Metric</span>! <span style=\"color: #374151; text-decoration-color: #374151; font-weight: bold\">(</span><span style=\"color: #374151; text-decoration-color: #374151\">using Gemini </span><span style=\"color: #374151; text-decoration-color: #374151; font-weight: bold\">1.5</span><span style=\"color: #374151; text-decoration-color: #374151\"> Flash, </span><span style=\"color: #374151; text-decoration-color: #374151\">strict</span><span style=\"color: #374151; text-decoration-color: #374151\">=</span><span style=\"color: #374151; text-decoration-color: #374151; font-style: italic\">False</span><span style=\"color: #374151; text-decoration-color: #374151\">, </span>\n",
       "<span style=\"color: #374151; text-decoration-color: #374151\">async_mode</span><span style=\"color: #374151; text-decoration-color: #374151\">=</span><span style=\"color: #374151; text-decoration-color: #374151; font-style: italic\">True</span><span style=\"color: #374151; text-decoration-color: #374151; font-weight: bold\">)</span><span style=\"color: #374151; text-decoration-color: #374151\">...</span>\n",
       "</pre>\n"
      ],
      "text/plain": [
       "✨ You're running DeepEval's latest \u001b[38;2;106;0;255mContextual Precision Metric\u001b[0m! \u001b[1;38;2;55;65;81m(\u001b[0m\u001b[38;2;55;65;81musing Gemini \u001b[0m\u001b[1;38;2;55;65;81m1.5\u001b[0m\u001b[38;2;55;65;81m Flash, \u001b[0m\u001b[38;2;55;65;81mstrict\u001b[0m\u001b[38;2;55;65;81m=\u001b[0m\u001b[3;38;2;55;65;81mFalse\u001b[0m\u001b[38;2;55;65;81m, \u001b[0m\n",
       "\u001b[38;2;55;65;81masync_mode\u001b[0m\u001b[38;2;55;65;81m=\u001b[0m\u001b[3;38;2;55;65;81mTrue\u001b[0m\u001b[1;38;2;55;65;81m)\u001b[0m\u001b[38;2;55;65;81m...\u001b[0m\n"
      ]
     },
     "metadata": {},
     "output_type": "display_data"
    },
    {
     "name": "stdout",
     "output_type": "stream",
     "text": [
      "Event loop is already running. Applying nest_asyncio patch to allow async execution...\n"
     ]
    },
    {
     "name": "stderr",
     "output_type": "stream",
     "text": [
      "Evaluating 1 test case(s) in parallel: |███████████████████████████████|100% (1/1) [Time Taken: 00:20, 20.02s/test case]"
     ]
    },
    {
     "name": "stdout",
     "output_type": "stream",
     "text": [
      "\n",
      "======================================================================\n",
      "\n",
      "Metrics Summary\n",
      "\n",
      "  - ✅ Contextual Precision (score: 1.0, threshold: 0.5, strict: False, evaluation model: Gemini 1.5 Flash, reason: None, error: None)\n",
      "\n",
      "For test case:\n",
      "\n",
      "  - input: Was Ford the last surviving member of the Warren Commission ?\n",
      "  - actual output: Yes, the text explicitly states that Ford was the last surviving member of the Warren Commission.\n",
      "\n",
      "  - expected output: Yes.\n",
      "  - context: []\n",
      "  - retrieval context: [\"['*Ford was the last surviving member of the Warren Commission. Wilson\", ' Jeff.  Former President Gerald Ford Dies at 93. Associated Press. December 27', ' 2006. Also available  here.  Retrieved on December 31', \" 2006.'\", \" 'In November 1963\", ' President Lyndon B. Johnson appointed Ford to the Warren Commission', ' a special task force set up to investigate the assassination of President John F. Kennedy. Ford was assigned to prepare a biography of Lee Harvey Oswald', ' the accused assassin. In 1997 the Assassination Records Review Board (ARRB) released a document that revealed that Ford had altered the first draft of the report to read: \"A bullet had entered the base of the back of [Kennedy\\\\\\'s] neck slightly to the right of the spine.\" Some believed that Ford had elevated the location of the wound from its true location in the back to the neck to support the single bullet theory. ( ) The original first draft of the Warren Commission Report stated that a bullet had entered Kennedy\\\\\\'s \"back at a point slightly above the shoulder and to the right of the spine.\"  Ford replied in an introduction to a new edition of the Warren Commission Report in 2004:\\'', \" '*On November 12\", ' 2006', ' Ford became the longest-lived President', ' surpassing Ronald Reagan.    At the time of his death', \" he had outlived President Reagan by 45 days.'\", \" '*Ford is one of only four former Presidents to live to 90 or more years of age. The others are Ronald Reagan (93)\", \" John Adams (90) and Herbert Hoover (90).'\", \" 'Ford died at the age of 93 years and 165 days on December 26\", ' 2006 at 6:45 p.m Pacific Standard Time (02:45', ' December 27', ' UTC) at his home in Rancho Mirage', \" California of  arteriosclerotic cerebrovascular disease and diffuse arteriosclerosis.'\", \" 'Ford\\\\'s description matched a  drawing prepared for the Commission under the direction of Dr. James J. Humes\", \" supervisor of Kennedy\\\\'s autopsy\", ' who in his  testimony to the Commission said three times that the entrance wound was in the \"low neck.\" The Commission was not shown the autopsy photographs.  The Commission\\\\\\'s work continues to be debated in the public arena.\\'', ' \"Ford remained relatively active in the years after his presidency and continued to make appearances at events of historical and ceremonial significance to the nation', ' such as presidential inaugurals and memorial services. In 1977', ' he reluctantly agreed to be interviewed by James M. Naughton', \" a New York Times journalist who was given the assignment to write the former President's advance obituary\", ' an article that would be updated prior to its eventual publication.\"', \" '*Ford was the third longest lived Vice President at the age of 93. The two oldest were John Nance Garner\", ' 98', ' and Levi P. Morton', \" 96.'\", \" 'Like Presidents Carter\", ' Bush Senior and Clinton', ' Ford was an honorary co-chair of the Council for Excellence in Government', \" a group dedicated to excellence in government performance and which provides leadership training to top federal employees.'\", \" 'Ford is honored during a memorial service in the U.S. Capitol Rotunda in Washington\", ' D.C. on December 30', \" 2006.']\"]\n",
      "\n",
      "======================================================================\n",
      "\n",
      "Overall Metric Pass Rates\n",
      "\n",
      "Contextual Precision: 100.00% pass rate\n",
      "\n",
      "======================================================================\n",
      "\n"
     ]
    },
    {
     "name": "stderr",
     "output_type": "stream",
     "text": [
      "\n"
     ]
    },
    {
     "data": {
      "text/html": [
       "<pre style=\"white-space:pre;overflow-x:auto;line-height:normal;font-family:Menlo,'DejaVu Sans Mono',consolas,'Courier New',monospace\"><span style=\"color: #05f58d; text-decoration-color: #05f58d\">✓</span> Tests finished 🎉! Run <span style=\"color: #008000; text-decoration-color: #008000\">'deepeval login'</span> to save and analyze evaluation results on Confident AI.  \n",
       "‼️ Looking for a place for your LLM test data to live 🏡? Use Confident AI for test reports, benchmark analysis, \n",
       "compare models/prompts, and catch regressions for your LLM system.\n",
       "</pre>\n"
      ],
      "text/plain": [
       "\u001b[38;2;5;245;141m✓\u001b[0m Tests finished 🎉! Run \u001b[32m'deepeval login'\u001b[0m to save and analyze evaluation results on Confident AI.  \n",
       "‼️ Looking for a place for your LLM test data to live 🏡? Use Confident AI for test reports, benchmark analysis, \n",
       "compare models/prompts, and catch regressions for your LLM system.\n"
      ]
     },
     "metadata": {},
     "output_type": "display_data"
    },
    {
     "name": "stdout",
     "output_type": "stream",
     "text": [
      "272\n"
     ]
    },
    {
     "data": {
      "text/html": [
       "<pre style=\"white-space:pre;overflow-x:auto;line-height:normal;font-family:Menlo,'DejaVu Sans Mono',consolas,'Courier New',monospace\">✨ You're running DeepEval's latest <span style=\"color: #6a00ff; text-decoration-color: #6a00ff\">Contextual Precision Metric</span>! <span style=\"color: #374151; text-decoration-color: #374151; font-weight: bold\">(</span><span style=\"color: #374151; text-decoration-color: #374151\">using Gemini </span><span style=\"color: #374151; text-decoration-color: #374151; font-weight: bold\">1.5</span><span style=\"color: #374151; text-decoration-color: #374151\"> Flash, </span><span style=\"color: #374151; text-decoration-color: #374151\">strict</span><span style=\"color: #374151; text-decoration-color: #374151\">=</span><span style=\"color: #374151; text-decoration-color: #374151; font-style: italic\">False</span><span style=\"color: #374151; text-decoration-color: #374151\">, </span>\n",
       "<span style=\"color: #374151; text-decoration-color: #374151\">async_mode</span><span style=\"color: #374151; text-decoration-color: #374151\">=</span><span style=\"color: #374151; text-decoration-color: #374151; font-style: italic\">True</span><span style=\"color: #374151; text-decoration-color: #374151; font-weight: bold\">)</span><span style=\"color: #374151; text-decoration-color: #374151\">...</span>\n",
       "</pre>\n"
      ],
      "text/plain": [
       "✨ You're running DeepEval's latest \u001b[38;2;106;0;255mContextual Precision Metric\u001b[0m! \u001b[1;38;2;55;65;81m(\u001b[0m\u001b[38;2;55;65;81musing Gemini \u001b[0m\u001b[1;38;2;55;65;81m1.5\u001b[0m\u001b[38;2;55;65;81m Flash, \u001b[0m\u001b[38;2;55;65;81mstrict\u001b[0m\u001b[38;2;55;65;81m=\u001b[0m\u001b[3;38;2;55;65;81mFalse\u001b[0m\u001b[38;2;55;65;81m, \u001b[0m\n",
       "\u001b[38;2;55;65;81masync_mode\u001b[0m\u001b[38;2;55;65;81m=\u001b[0m\u001b[3;38;2;55;65;81mTrue\u001b[0m\u001b[1;38;2;55;65;81m)\u001b[0m\u001b[38;2;55;65;81m...\u001b[0m\n"
      ]
     },
     "metadata": {},
     "output_type": "display_data"
    },
    {
     "name": "stdout",
     "output_type": "stream",
     "text": [
      "Event loop is already running. Applying nest_asyncio patch to allow async execution...\n"
     ]
    },
    {
     "name": "stderr",
     "output_type": "stream",
     "text": [
      "Evaluating 1 test case(s) in parallel: |███████████████████████████████|100% (1/1) [Time Taken: 00:20, 20.02s/test case]"
     ]
    },
    {
     "name": "stdout",
     "output_type": "stream",
     "text": [
      "\n",
      "======================================================================\n",
      "\n",
      "Metrics Summary\n",
      "\n",
      "  - ❌ Contextual Precision (score: 0.0, threshold: 0.5, strict: False, evaluation model: Gemini 1.5 Flash, reason: None, error: None)\n",
      "\n",
      "For test case:\n",
      "\n",
      "  - input: Did Grand Rapids supporters not urge him to take on Bartel J. Jonkman , the incumbent Republican congressman ?\n",
      "  - actual output: No, the text explicitly states that Grand Rapids supporters *did* urge Ford to take on Bartel J. Jonkman.\n",
      "\n",
      "  - expected output: No.\n",
      "  - context: []\n",
      "  - retrieval context: [\"['Following his return from the war\", ' Ford became active in local Republican politics. Grand Rapids supporters urged him to take on Bartel J. Jonkman', ' the incumbent Republican congressman. Ford had changed his view of the world as a result of his military service; \"I came back a converted internationalist\"', ' Ford stated', ' \"and of course our congressman at that time was an avowed', ' dedicated isolationist. And I thought he ought to be replaced. Nobody thought I could win. I ended up winning two to one.\"\\'', \" 'Michigan 5th district\", \" 1972'\", \" 'Michigan 5th district\", \" 1966'\", \" 'Ford was a member of the House of Representatives for twenty-four years\", ' holding the Grand Rapids congressional district seat from 1949 to 1973. It was a tenure largely notable for its modesty. As an editorial in The New York Times described him', ' Ford \"saw himself as a negotiator and a reconciler', ' and the record shows it: he did not write a single piece of major legislation in his entire career.\"\\'', \" 'Michigan 5th dictrict\", \" 1968'\", \" 'Michigan 5th dictrict\", \" 1970'\", ' \"Prior to 1973', ' Ford served for over eight years as the Republican Minority Leader of the United States House of Representatives; he was originally elected to Congress in 1948 from Michigan\\'s 5th congressional district.\"', \" 'During his first campaign in 1948\", ' Ford visited farmers and promised he would work on their farms and milk the cows if elected a promise he fulfilled.    In 1961', ' the U.S. House membership voted Ford a special award as a \"Congressman\\\\\\'s Congressman\" that praised his committee work on military budgets.\\'', \" 'Appointed to the House Appropriations Committee two years after being elected\", ' he was a prominent member of the Defense Appropriations Subcommittee. Ford described his philosophy as \"a moderate in domestic affairs', ' an internationalist in foreign affairs', ' and a conservative in fiscal policy.\"\\'', \" 'Grant/Wilson campaign poster']\"]\n",
      "\n",
      "======================================================================\n",
      "\n",
      "Overall Metric Pass Rates\n",
      "\n",
      "Contextual Precision: 0.00% pass rate\n",
      "\n",
      "======================================================================\n",
      "\n"
     ]
    },
    {
     "name": "stderr",
     "output_type": "stream",
     "text": [
      "\n"
     ]
    },
    {
     "data": {
      "text/html": [
       "<pre style=\"white-space:pre;overflow-x:auto;line-height:normal;font-family:Menlo,'DejaVu Sans Mono',consolas,'Courier New',monospace\"><span style=\"color: #05f58d; text-decoration-color: #05f58d\">✓</span> Tests finished 🎉! Run <span style=\"color: #008000; text-decoration-color: #008000\">'deepeval login'</span> to save and analyze evaluation results on Confident AI.  \n",
       "‼️ Looking for a place for your LLM test data to live 🏡? Use Confident AI for test reports, benchmark analysis, \n",
       "compare models/prompts, and catch regressions for your LLM system.\n",
       "</pre>\n"
      ],
      "text/plain": [
       "\u001b[38;2;5;245;141m✓\u001b[0m Tests finished 🎉! Run \u001b[32m'deepeval login'\u001b[0m to save and analyze evaluation results on Confident AI.  \n",
       "‼️ Looking for a place for your LLM test data to live 🏡? Use Confident AI for test reports, benchmark analysis, \n",
       "compare models/prompts, and catch regressions for your LLM system.\n"
      ]
     },
     "metadata": {},
     "output_type": "display_data"
    },
    {
     "name": "stdout",
     "output_type": "stream",
     "text": [
      "273\n"
     ]
    },
    {
     "data": {
      "text/html": [
       "<pre style=\"white-space:pre;overflow-x:auto;line-height:normal;font-family:Menlo,'DejaVu Sans Mono',consolas,'Courier New',monospace\">✨ You're running DeepEval's latest <span style=\"color: #6a00ff; text-decoration-color: #6a00ff\">Contextual Precision Metric</span>! <span style=\"color: #374151; text-decoration-color: #374151; font-weight: bold\">(</span><span style=\"color: #374151; text-decoration-color: #374151\">using Gemini </span><span style=\"color: #374151; text-decoration-color: #374151; font-weight: bold\">1.5</span><span style=\"color: #374151; text-decoration-color: #374151\"> Flash, </span><span style=\"color: #374151; text-decoration-color: #374151\">strict</span><span style=\"color: #374151; text-decoration-color: #374151\">=</span><span style=\"color: #374151; text-decoration-color: #374151; font-style: italic\">False</span><span style=\"color: #374151; text-decoration-color: #374151\">, </span>\n",
       "<span style=\"color: #374151; text-decoration-color: #374151\">async_mode</span><span style=\"color: #374151; text-decoration-color: #374151\">=</span><span style=\"color: #374151; text-decoration-color: #374151; font-style: italic\">True</span><span style=\"color: #374151; text-decoration-color: #374151; font-weight: bold\">)</span><span style=\"color: #374151; text-decoration-color: #374151\">...</span>\n",
       "</pre>\n"
      ],
      "text/plain": [
       "✨ You're running DeepEval's latest \u001b[38;2;106;0;255mContextual Precision Metric\u001b[0m! \u001b[1;38;2;55;65;81m(\u001b[0m\u001b[38;2;55;65;81musing Gemini \u001b[0m\u001b[1;38;2;55;65;81m1.5\u001b[0m\u001b[38;2;55;65;81m Flash, \u001b[0m\u001b[38;2;55;65;81mstrict\u001b[0m\u001b[38;2;55;65;81m=\u001b[0m\u001b[3;38;2;55;65;81mFalse\u001b[0m\u001b[38;2;55;65;81m, \u001b[0m\n",
       "\u001b[38;2;55;65;81masync_mode\u001b[0m\u001b[38;2;55;65;81m=\u001b[0m\u001b[3;38;2;55;65;81mTrue\u001b[0m\u001b[1;38;2;55;65;81m)\u001b[0m\u001b[38;2;55;65;81m...\u001b[0m\n"
      ]
     },
     "metadata": {},
     "output_type": "display_data"
    },
    {
     "name": "stdout",
     "output_type": "stream",
     "text": [
      "Event loop is already running. Applying nest_asyncio patch to allow async execution...\n"
     ]
    },
    {
     "name": "stderr",
     "output_type": "stream",
     "text": [
      "Evaluating 1 test case(s) in parallel: |███████████████████████████████|100% (1/1) [Time Taken: 00:20, 20.02s/test case]"
     ]
    },
    {
     "name": "stdout",
     "output_type": "stream",
     "text": [
      "\n",
      "======================================================================\n",
      "\n",
      "Metrics Summary\n",
      "\n",
      "  - ✅ Contextual Precision (score: 0.8392857142857142, threshold: 0.5, strict: False, evaluation model: Gemini 1.5 Flash, reason: None, error: None)\n",
      "\n",
      "For test case:\n",
      "\n",
      "  - input: Did they not claim Ford 's pardon was quid pro quo in exchange for Nixon 's resignation ?\n",
      "  - actual output: No, critics *did* claim Ford's pardon of Nixon was a quid pro quo exchange for Nixon's resignation.\n",
      "\n",
      "  - expected output: They did claim Ford's pardon was quid pro quo.\n",
      "  - context: []\n",
      "  - retrieval context: [\"['The Nixon pardon was highly controversial. Critics derided the move and claimed\", ' a \"corrupt bargain\" had been struck between the men.  They claimed Ford\\\\\\'s pardon was quid pro quo in exchange for Nixon\\\\\\'s resignation that elevated Ford to the Presidency. Nixon\\\\\\'s Chief of Staff', ' Alexander Haig', ' did in fact offer a deal to Ford. Bob Woodward', ' in his book Shadow', \" recounts that Haig entered Ford\\\\'s office on August 1\", ' 1974 while Ford was still Vice President and Nixon had yet to resign. Haig told Ford that there were three pardon options: (1) Nixon could pardon himself and resign', ' (2) Nixon could pardon his aides involved in Watergate and then resign', ' or (3) Nixon could agree to leave in return for an agreement that the new president would pardon him. After listing these options', ' Haig handed Ford various papers; one of these papers included a discussion of the president\\\\\\'s legal authority to pardon and another sheet was a draft pardon form that only needed Ford\\\\\\'s signature and Nixon\\\\\\'s name to make it legal. Woodward summarizes the setting between Haig and Ford as follows: \"Even if Haig offered no direct words on his views', ' the message was almost certainly sent. An emotional man', ' Haig was incapable of concealing his feelings; those who worked closely with him rarely found him ambiguous.\"\\'', \" 'Despite the situation\", ' Ford never accepted the offer from Haig and later decided to pardon Nixon on his own terms. Regardless', ' historians believe the controversy was one of the major reasons Ford lost the election in 1976', ' an observation with which Ford concurred.    In an editorial at the time', ' The New York Times stated that the Nixon pardon was \"a profoundly unwise', ' divisive and unjust act\" that in a stroke had destroyed the new president\\\\\\'s \"credibility as a man of judgment', ' candor and competence.\"\\'', \" 'After Ford left the White House in 1977\", ' intimates said that the former President privately justified his pardon of Nixon by carrying in his wallet a portion of the text of Burdick v. United States', ' a 1915 U.S. Supreme Court decision which stated that a pardon indicated a presumption of guilt and that acceptance of a pardon was tantamount to a confession of that guilt.   In 2001', \" the John F. Kennedy Library Foundation awarded the John F. Kennedy Profile in Courage Award to Ford for his pardon of Nixon.'\", \" 'The pardon controversy eventually subsided. Ford\\\\'s successor\", ' Jimmy Carter', ' opened his 1977 inaugural address by praising the outgoing President', ' saying \"For myself and for our Nation', ' I want to thank my predecessor for all he has done to heal our land.\"\\'', ' \"Ford\\'s first press secretary and close friend Jerald Franklin terHorst resigned his post in protest after the announcement of President Nixon\\'s full pardon.  Ford also voluntarily appeared before Congress on October 17', ' 1974 to give sworn testimony the only time a sitting president has done so about the pardon.\"', \" 'As president\", ' Ford signed the Helsinki Accords', ' marking a move toward dÃ©tente in the Cold War', ' even as South Vietnam', ' a former ally', ' was invaded and conquered by North Vietnam. Ford did not intervene in Vietamese affairs', ' but did help extract friends of the U.S. Domestically', ' the economy suffered from inflation and a recession under President Ford. One of his more controversial decisions was granting a presidential pardon to President Richard Nixon for his role in the Watergate scandal. In 1976', ' Ford narrowly defeated Ronald Reagan for the Republican nomination', \" but ultimately lost the presidential election to Democrat Jimmy Carter.'\", \" 'Following Ford\\\\'s appointment\", ' the Watergate investigation continued until Chief of Staff Alexander Haig contacted Ford on August 1', ' 1974', ' and told him that \"smoking gun\" evidence had been found. The evidence left little doubt that President Nixon had been a part of the Watergate cover-up. At the time', ' Ford and his wife', ' Betty', ' were living in suburban Virginia', \" waiting for their expected move into the newly designated vice president\\\\'s residence in Washington\", ' D.C. However', ' \"Al Haig [asked] to come over and see me', '\" Ford later related', ' \"to tell me that there would be a new tape released on a Monday', ' and he said the evidence in there was devastating and there would probably be either an impeachment or a resignation. And he said', \" \\\\'I\\\\'m just warning you that you\\\\'ve got to be prepared\", \" that things might change dramatically and you could become President.\\\\' And I said\", \" \\\\'Betty\", ' I don\\\\\\'t think we\\\\\\'re ever going to live in the vice president\\\\\\'s house.\\\\\\'\"\\'', \" 'On September 8\", ' 1974', ' Ford issued Proclamation 4311', ' which gave Nixon a full and unconditional pardon for any crimes he may have committed against the United States while President.        In a televised broadcast to the nation', ' Ford explained that he felt the pardon was in the best interests of the country and that the Nixon family\\\\\\'s situation \"is a tragedy in which we all have played a part.  It could go on and on and on', ' or someone must write the end to it. I have concluded that only I can do that', ' and if I can', ' I must.\"    At the same time as he announced the Nixon pardon', ' Ford introduced a conditional amnesty program for Vietnam War draft dodgers who had fled to countries such as Canada.     Unconditional amnesty', ' however', \" did not come about until the Jimmy Carter Presidency.'\", \" 'On October 10\", ' 1973', ' Vice President Spiro Agnew resigned and then pleaded no contest to criminal charges of tax evasion and money laundering', ' part of a negotiated resolution to a scheme wherein he accepted $29', '500 in bribes during his tenure as governor of Maryland. According to The New York Times', ' \"Nixon sought advice from senior Congressional leaders about a replacement.  The advice was unanimous. \\\\\\'We gave Nixon no choice but Ford', '\\\\\\' House Speaker Carl Albert recalled later\".\\'', \" 'When Nixon resigned in the wake of the Watergate scandal on August 9\", ' 1974', ' Ford assumed the presidency making him the only person to assume the vice-presidency and the presidency without having been voted into either office. Immediately after taking the oath of office in the East Room of the White House', ' he spoke to the assembled audience in a speech broadcast live to the nation. Ford noted the peculiarity of his position: \"I am acutely aware that you have not elected me as your president by your ballots', ' and so I ask you to confirm me as your president with your prayers.\"    On August 20 Ford nominated former New York Governor Nelson Rockefeller to fill the vice presidency he had vacated. Rockefeller was confirmed by the House and Senate.\\']']\n",
      "\n",
      "======================================================================\n",
      "\n",
      "Overall Metric Pass Rates\n",
      "\n",
      "Contextual Precision: 100.00% pass rate\n",
      "\n",
      "======================================================================\n",
      "\n"
     ]
    },
    {
     "name": "stderr",
     "output_type": "stream",
     "text": [
      "\n"
     ]
    },
    {
     "data": {
      "text/html": [
       "<pre style=\"white-space:pre;overflow-x:auto;line-height:normal;font-family:Menlo,'DejaVu Sans Mono',consolas,'Courier New',monospace\"><span style=\"color: #05f58d; text-decoration-color: #05f58d\">✓</span> Tests finished 🎉! Run <span style=\"color: #008000; text-decoration-color: #008000\">'deepeval login'</span> to save and analyze evaluation results on Confident AI.  \n",
       "‼️ Looking for a place for your LLM test data to live 🏡? Use Confident AI for test reports, benchmark analysis, \n",
       "compare models/prompts, and catch regressions for your LLM system.\n",
       "</pre>\n"
      ],
      "text/plain": [
       "\u001b[38;2;5;245;141m✓\u001b[0m Tests finished 🎉! Run \u001b[32m'deepeval login'\u001b[0m to save and analyze evaluation results on Confident AI.  \n",
       "‼️ Looking for a place for your LLM test data to live 🏡? Use Confident AI for test reports, benchmark analysis, \n",
       "compare models/prompts, and catch regressions for your LLM system.\n"
      ]
     },
     "metadata": {},
     "output_type": "display_data"
    },
    {
     "name": "stdout",
     "output_type": "stream",
     "text": [
      "274\n"
     ]
    },
    {
     "data": {
      "text/html": [
       "<pre style=\"white-space:pre;overflow-x:auto;line-height:normal;font-family:Menlo,'DejaVu Sans Mono',consolas,'Courier New',monospace\">✨ You're running DeepEval's latest <span style=\"color: #6a00ff; text-decoration-color: #6a00ff\">Contextual Precision Metric</span>! <span style=\"color: #374151; text-decoration-color: #374151; font-weight: bold\">(</span><span style=\"color: #374151; text-decoration-color: #374151\">using Gemini </span><span style=\"color: #374151; text-decoration-color: #374151; font-weight: bold\">1.5</span><span style=\"color: #374151; text-decoration-color: #374151\"> Flash, </span><span style=\"color: #374151; text-decoration-color: #374151\">strict</span><span style=\"color: #374151; text-decoration-color: #374151\">=</span><span style=\"color: #374151; text-decoration-color: #374151; font-style: italic\">False</span><span style=\"color: #374151; text-decoration-color: #374151\">, </span>\n",
       "<span style=\"color: #374151; text-decoration-color: #374151\">async_mode</span><span style=\"color: #374151; text-decoration-color: #374151\">=</span><span style=\"color: #374151; text-decoration-color: #374151; font-style: italic\">True</span><span style=\"color: #374151; text-decoration-color: #374151; font-weight: bold\">)</span><span style=\"color: #374151; text-decoration-color: #374151\">...</span>\n",
       "</pre>\n"
      ],
      "text/plain": [
       "✨ You're running DeepEval's latest \u001b[38;2;106;0;255mContextual Precision Metric\u001b[0m! \u001b[1;38;2;55;65;81m(\u001b[0m\u001b[38;2;55;65;81musing Gemini \u001b[0m\u001b[1;38;2;55;65;81m1.5\u001b[0m\u001b[38;2;55;65;81m Flash, \u001b[0m\u001b[38;2;55;65;81mstrict\u001b[0m\u001b[38;2;55;65;81m=\u001b[0m\u001b[3;38;2;55;65;81mFalse\u001b[0m\u001b[38;2;55;65;81m, \u001b[0m\n",
       "\u001b[38;2;55;65;81masync_mode\u001b[0m\u001b[38;2;55;65;81m=\u001b[0m\u001b[3;38;2;55;65;81mTrue\u001b[0m\u001b[1;38;2;55;65;81m)\u001b[0m\u001b[38;2;55;65;81m...\u001b[0m\n"
      ]
     },
     "metadata": {},
     "output_type": "display_data"
    },
    {
     "name": "stdout",
     "output_type": "stream",
     "text": [
      "Event loop is already running. Applying nest_asyncio patch to allow async execution...\n"
     ]
    },
    {
     "name": "stderr",
     "output_type": "stream",
     "text": [
      "Evaluating 1 test case(s) in parallel: |███████████████████████████████|100% (1/1) [Time Taken: 00:20, 20.02s/test case]"
     ]
    },
    {
     "name": "stdout",
     "output_type": "stream",
     "text": [
      "\n",
      "======================================================================\n",
      "\n",
      "Metrics Summary\n",
      "\n",
      "  - ✅ Contextual Precision (score: 1.0, threshold: 0.5, strict: False, evaluation model: Gemini 1.5 Flash, reason: None, error: None)\n",
      "\n",
      "For test case:\n",
      "\n",
      "  - input: Does Ghana have twice the per capita output of the poorer countries in West Africa?\n",
      "  - actual output: Yes, the text states that Ghana has twice the per capita output of the poorer countries in West Africa.\n",
      "\n",
      "  - expected output: yes\n",
      "  - context: []\n",
      "  - retrieval context: [\"['Well endowed with natural resources\", ' Ghana has twice the per capita output of the poorer countries in West Africa. Even so', ' Ghana remains heavily dependent on international financial and technical assistance. Gold', ' timber', ' cocoa', ' diamond', ' bauxite', \" and manganese exports are major sources of foreign exchange.  The World Factbook   An oilfield which is reported to contain up to 3 billion barrels of light oil was discovered in 2007.'\", \" 'Ghana is a country located on the Gulf of Guinea\", ' only a few degrees north of the Equator', ' therefore giving it a warm climate. The Greenwich Meridian also passes through Ghana', ' specifically through the industrial city of Ghana-Tema; so it is said that Ghana is geographically closer to the \"center\" of the world than any other country. La Cote d\\\\\\'Ivoire is located to the west of Ghana while Burkina Faso and Togo are located to its north and east respectively. The coastline is mostly a low', ' sandy shore backed by plains and scrub and intersected by several rivers and streams. A tropical rain forest belt', ' broken by heavily forested hills and many streams and rivers', ' extends northward from the shore. North of this belt', ' the land is covered by low bush', ' park-like savannah', \" and grassy plains.'\", ' \"The domestic economy continues to revolve around subsistence agriculture', ' which accounts for 50% of GDP and employs 85% of the work force', '  The World Factbook  mainly small landholders. Ghana made progress under a three-year structural adjustment programme in cooperation with the IMF.  On the negative side', ' public sector wage increases and regional peacekeeping commitments have led to continued inflationary deficit financing', ' depreciation of the Cedi', \" and rising public discontent with Ghana's austerity measures. Even so\", ' Ghana remains one of the more economically sound countries in all of Africa.\"', \" 'The Republic of Ghana is a country in West Africa. It borders CÃ´te d\\\\'Ivoire (also known as Ivory Coast) to the west\", ' Burkina Faso to the north', ' Togo to the east', ' and the Gulf of Guinea to the south. The word \"Ghana\" means \"Warrior King\"', ' Jackson', ' John G. Introduction to African Civilizations', ' 2001. Page 201.  and was the source of the name \"Guinea\" (via French Guinoye) used to refer to the West African coast (as in Gulf of Guinea).\\'', \" 'Map of Ghana'\", \" 'Ghana was inhabited in pre-colonial times by a number of ancient kingdoms\", ' including the Ga Adangbes on the eastern coast', ' inland Empire of Ashanti and various Fante states along the coast and inland. Trade with European states flourished after contact with the Portuguese in the 15th century', ' and the British established a crown colony', ' Gold Coast', ' in 1874. MacLean', ' Iain. Rational Choice and British Politics: An Analysis of Rhetoric and Manipulation from Peel to Blair', \" 2001. Page 76.'\", \" 'Ghana was also the site of the Empire of Ashanti which was the most advanced black state in sub-Sahara Africa. It is said that at its peak\", ' the King of Ashanti could field 500', \"000 troops.'\", \" 'Ghana is a republic and member of the Commonwealth of Nations. Its head of state is President John Agyekum Kufuor\", ' the ninth leader of the country since independence. The government sits at Osu Castle. The Parliament of Ghana is unicameral and dominated by two main parties', \" the New Patriotic Party and National Democratic Congress.'\", \" 'Formed from the merger of the British colony Gold Coast\", ' The Empire of Ashanti and the British Togoland trust territory by a UN sponsored plebiscite', ' Ghana became the first democratic sub-Sahara country in colonial Africa to gain its independence in 1957. Kwame Nkrumah', ' founder and first president of the modern Ghanaian state', ' was not only an African anti-colonial leader but also one with a dream of a united Africa which would not drift into neo-colonialism. He was the first African head of state to espouse Pan-Africanism', ' an idea he came into contact with during his studies at Lincoln University in Pennsylvania (United States)', ' at the time when Marcus Garvey was becoming famous for his \"Back to Africa Movement.\" He merged the dreams of both Marcus Garvey and the celebrated African-American scholar W.E.B. Du Bois into the formation of the modern day Ghana. Ghana\\\\\\'s principles of freedom and justice', ' equity and free education for all', ' irrespective of ethnic background', \" religion or creed borrow from Osagyefo Dr Kwame Nkrumah\\\\'s implementation of Pan-Africanism.'\", \" 'Regions of Ghana']\"]\n",
      "\n",
      "======================================================================\n",
      "\n",
      "Overall Metric Pass Rates\n",
      "\n",
      "Contextual Precision: 100.00% pass rate\n",
      "\n",
      "======================================================================\n",
      "\n"
     ]
    },
    {
     "name": "stderr",
     "output_type": "stream",
     "text": [
      "\n"
     ]
    },
    {
     "data": {
      "text/html": [
       "<pre style=\"white-space:pre;overflow-x:auto;line-height:normal;font-family:Menlo,'DejaVu Sans Mono',consolas,'Courier New',monospace\"><span style=\"color: #05f58d; text-decoration-color: #05f58d\">✓</span> Tests finished 🎉! Run <span style=\"color: #008000; text-decoration-color: #008000\">'deepeval login'</span> to save and analyze evaluation results on Confident AI.  \n",
       "‼️ Looking for a place for your LLM test data to live 🏡? Use Confident AI for test reports, benchmark analysis, \n",
       "compare models/prompts, and catch regressions for your LLM system.\n",
       "</pre>\n"
      ],
      "text/plain": [
       "\u001b[38;2;5;245;141m✓\u001b[0m Tests finished 🎉! Run \u001b[32m'deepeval login'\u001b[0m to save and analyze evaluation results on Confident AI.  \n",
       "‼️ Looking for a place for your LLM test data to live 🏡? Use Confident AI for test reports, benchmark analysis, \n",
       "compare models/prompts, and catch regressions for your LLM system.\n"
      ]
     },
     "metadata": {},
     "output_type": "display_data"
    },
    {
     "name": "stdout",
     "output_type": "stream",
     "text": [
      "275\n"
     ]
    },
    {
     "data": {
      "text/html": [
       "<pre style=\"white-space:pre;overflow-x:auto;line-height:normal;font-family:Menlo,'DejaVu Sans Mono',consolas,'Courier New',monospace\">✨ You're running DeepEval's latest <span style=\"color: #6a00ff; text-decoration-color: #6a00ff\">Contextual Precision Metric</span>! <span style=\"color: #374151; text-decoration-color: #374151; font-weight: bold\">(</span><span style=\"color: #374151; text-decoration-color: #374151\">using Gemini </span><span style=\"color: #374151; text-decoration-color: #374151; font-weight: bold\">1.5</span><span style=\"color: #374151; text-decoration-color: #374151\"> Flash, </span><span style=\"color: #374151; text-decoration-color: #374151\">strict</span><span style=\"color: #374151; text-decoration-color: #374151\">=</span><span style=\"color: #374151; text-decoration-color: #374151; font-style: italic\">False</span><span style=\"color: #374151; text-decoration-color: #374151\">, </span>\n",
       "<span style=\"color: #374151; text-decoration-color: #374151\">async_mode</span><span style=\"color: #374151; text-decoration-color: #374151\">=</span><span style=\"color: #374151; text-decoration-color: #374151; font-style: italic\">True</span><span style=\"color: #374151; text-decoration-color: #374151; font-weight: bold\">)</span><span style=\"color: #374151; text-decoration-color: #374151\">...</span>\n",
       "</pre>\n"
      ],
      "text/plain": [
       "✨ You're running DeepEval's latest \u001b[38;2;106;0;255mContextual Precision Metric\u001b[0m! \u001b[1;38;2;55;65;81m(\u001b[0m\u001b[38;2;55;65;81musing Gemini \u001b[0m\u001b[1;38;2;55;65;81m1.5\u001b[0m\u001b[38;2;55;65;81m Flash, \u001b[0m\u001b[38;2;55;65;81mstrict\u001b[0m\u001b[38;2;55;65;81m=\u001b[0m\u001b[3;38;2;55;65;81mFalse\u001b[0m\u001b[38;2;55;65;81m, \u001b[0m\n",
       "\u001b[38;2;55;65;81masync_mode\u001b[0m\u001b[38;2;55;65;81m=\u001b[0m\u001b[3;38;2;55;65;81mTrue\u001b[0m\u001b[1;38;2;55;65;81m)\u001b[0m\u001b[38;2;55;65;81m...\u001b[0m\n"
      ]
     },
     "metadata": {},
     "output_type": "display_data"
    },
    {
     "name": "stdout",
     "output_type": "stream",
     "text": [
      "Event loop is already running. Applying nest_asyncio patch to allow async execution...\n"
     ]
    },
    {
     "name": "stderr",
     "output_type": "stream",
     "text": [
      "Evaluating 1 test case(s) in parallel: |███████████████████████████████|100% (1/1) [Time Taken: 00:20, 20.02s/test case]"
     ]
    },
    {
     "name": "stdout",
     "output_type": "stream",
     "text": [
      "\n",
      "======================================================================\n",
      "\n",
      "Metrics Summary\n",
      "\n",
      "  - ✅ Contextual Precision (score: 1.0, threshold: 0.5, strict: False, evaluation model: Gemini 1.5 Flash, reason: None, error: None)\n",
      "\n",
      "For test case:\n",
      "\n",
      "  - input: Is English Ghana's official language?\n",
      "  - actual output: Yes, English is Ghana's official language.\n",
      "\n",
      "  - expected output: yes\n",
      "  - context: []\n",
      "  - retrieval context: ['[\"More than 100 languages and dialects are spoken in Ghana. English is the country\\'s official language and predominates government and business affairs. It is also the standard language used for educational instruction. Native Ghanaian languages are divided into two linguistic subfamilies of the Niger-Congo language family. Languages belonging to the Kwa subfamily are found predominantly to the south of the Volta River', ' while those belonging to the Gur subfamily are found predominantly to the north. The Kwa group', \" which is spoken by about 75% of the country's population\", ' includes the Akan', ' Ga-Dangme', ' and Ewe languages. The Gur group includes the Gurma', ' Grusi', ' and Dagbani languages.\"', ' \"Nine languages have the status of government-sponsored languages: Akan', ' Dagaare/Wale', ' Dagbani', ' Dangme', ' Ewe', ' Ga', ' Gonja', ' Kasem', ' and Nzema. Though not an official language', \" Hausa is the lingua-franca spoken among Ghana's Muslims\", ' who comprise about 14% of the population.\"', \" 'Ghana is a republic and member of the Commonwealth of Nations. Its head of state is President John Agyekum Kufuor\", ' the ninth leader of the country since independence. The government sits at Osu Castle. The Parliament of Ghana is unicameral and dominated by two main parties', \" the New Patriotic Party and National Democratic Congress.'\", ' \"Presently', ' Ghana has 18', '530 primary schools', ' 8', '850 junior secondary schools', ' 900 senior secondary schools', ' 28 training colleges', ' 20 technical institutions', ' 4 diploma-awarding institutions', \" 6 public universities and over 10 private universities. That means that most Ghanaians have relatively easy access to primary and secondary education. These numbers can be contrasted with the single university and handful of secondary and primary schools that existed at the time of independence in 1957. Ghana's spending on education has varied between 28 and 40 percent of its annual budget in the past decade. All teaching is done in English\", ' Ghana\\'s official language.\"', \" 'Ghana was inhabited in pre-colonial times by a number of ancient kingdoms\", ' including the Ga Adangbes on the eastern coast', ' inland Empire of Ashanti and various Fante states along the coast and inland. Trade with European states flourished after contact with the Portuguese in the 15th century', ' and the British established a crown colony', ' Gold Coast', ' in 1874. MacLean', ' Iain. Rational Choice and British Politics: An Analysis of Rhetoric and Manipulation from Peel to Blair', \" 2001. Page 76.'\", \" 'The Republic of Ghana is a country in West Africa. It borders CÃ´te d\\\\'Ivoire (also known as Ivory Coast) to the west\", ' Burkina Faso to the north', ' Togo to the east', ' and the Gulf of Guinea to the south. The word \"Ghana\" means \"Warrior King\"', ' Jackson', ' John G. Introduction to African Civilizations', ' 2001. Page 201.  and was the source of the name \"Guinea\" (via French Guinoye) used to refer to the West African coast (as in Gulf of Guinea).\\'', \" 'Ghana is a country located on the Gulf of Guinea\", ' only a few degrees north of the Equator', ' therefore giving it a warm climate. The Greenwich Meridian also passes through Ghana', ' specifically through the industrial city of Ghana-Tema; so it is said that Ghana is geographically closer to the \"center\" of the world than any other country. La Cote d\\\\\\'Ivoire is located to the west of Ghana while Burkina Faso and Togo are located to its north and east respectively. The coastline is mostly a low', ' sandy shore backed by plains and scrub and intersected by several rivers and streams. A tropical rain forest belt', ' broken by heavily forested hills and many streams and rivers', ' extends northward from the shore. North of this belt', ' the land is covered by low bush', ' park-like savannah', \" and grassy plains.'\", \" 'Formed from the merger of the British colony Gold Coast\", ' The Empire of Ashanti and the British Togoland trust territory by a UN sponsored plebiscite', ' Ghana became the first democratic sub-Sahara country in colonial Africa to gain its independence in 1957. Kwame Nkrumah', ' founder and first president of the modern Ghanaian state', ' was not only an African anti-colonial leader but also one with a dream of a united Africa which would not drift into neo-colonialism. He was the first African head of state to espouse Pan-Africanism', ' an idea he came into contact with during his studies at Lincoln University in Pennsylvania (United States)', ' at the time when Marcus Garvey was becoming famous for his \"Back to Africa Movement.\" He merged the dreams of both Marcus Garvey and the celebrated African-American scholar W.E.B. Du Bois into the formation of the modern day Ghana. Ghana\\\\\\'s principles of freedom and justice', ' equity and free education for all', ' irrespective of ethnic background', \" religion or creed borrow from Osagyefo Dr Kwame Nkrumah\\\\'s implementation of Pan-Africanism.'\", ' \"The first contact between the Ghanaian peoples', ' the Fantes on the coastal area and Europeans occurred in 1482. The Portuguese  first landed at Elmina', ' a coastal city inhabited by the Fanti nation-state in 1482. During the next few centuries parts of the area were controlled by British', ' Portuguese', ' and Scandinavian powers', ' with the British ultimately prevailing. These nation-states maintained varying alliances with the colonial powers and each other', ' which resulted in the 1806 Ashanti-Fante War', ' as well as an ongoing struggle by the Empire of Ashanti against the British. Moves toward regional de-colonization began in 1946', ' and the area\\'s first constitution was promulgated in 1951.\"', \" 'Map of Ghana']\"]\n",
      "\n",
      "======================================================================\n",
      "\n",
      "Overall Metric Pass Rates\n",
      "\n",
      "Contextual Precision: 100.00% pass rate\n",
      "\n",
      "======================================================================\n",
      "\n"
     ]
    },
    {
     "name": "stderr",
     "output_type": "stream",
     "text": [
      "\n"
     ]
    },
    {
     "data": {
      "text/html": [
       "<pre style=\"white-space:pre;overflow-x:auto;line-height:normal;font-family:Menlo,'DejaVu Sans Mono',consolas,'Courier New',monospace\"><span style=\"color: #05f58d; text-decoration-color: #05f58d\">✓</span> Tests finished 🎉! Run <span style=\"color: #008000; text-decoration-color: #008000\">'deepeval login'</span> to save and analyze evaluation results on Confident AI.  \n",
       "‼️ Looking for a place for your LLM test data to live 🏡? Use Confident AI for test reports, benchmark analysis, \n",
       "compare models/prompts, and catch regressions for your LLM system.\n",
       "</pre>\n"
      ],
      "text/plain": [
       "\u001b[38;2;5;245;141m✓\u001b[0m Tests finished 🎉! Run \u001b[32m'deepeval login'\u001b[0m to save and analyze evaluation results on Confident AI.  \n",
       "‼️ Looking for a place for your LLM test data to live 🏡? Use Confident AI for test reports, benchmark analysis, \n",
       "compare models/prompts, and catch regressions for your LLM system.\n"
      ]
     },
     "metadata": {},
     "output_type": "display_data"
    },
    {
     "name": "stdout",
     "output_type": "stream",
     "text": [
      "276\n"
     ]
    },
    {
     "data": {
      "text/html": [
       "<pre style=\"white-space:pre;overflow-x:auto;line-height:normal;font-family:Menlo,'DejaVu Sans Mono',consolas,'Courier New',monospace\">✨ You're running DeepEval's latest <span style=\"color: #6a00ff; text-decoration-color: #6a00ff\">Contextual Precision Metric</span>! <span style=\"color: #374151; text-decoration-color: #374151; font-weight: bold\">(</span><span style=\"color: #374151; text-decoration-color: #374151\">using Gemini </span><span style=\"color: #374151; text-decoration-color: #374151; font-weight: bold\">1.5</span><span style=\"color: #374151; text-decoration-color: #374151\"> Flash, </span><span style=\"color: #374151; text-decoration-color: #374151\">strict</span><span style=\"color: #374151; text-decoration-color: #374151\">=</span><span style=\"color: #374151; text-decoration-color: #374151; font-style: italic\">False</span><span style=\"color: #374151; text-decoration-color: #374151\">, </span>\n",
       "<span style=\"color: #374151; text-decoration-color: #374151\">async_mode</span><span style=\"color: #374151; text-decoration-color: #374151\">=</span><span style=\"color: #374151; text-decoration-color: #374151; font-style: italic\">True</span><span style=\"color: #374151; text-decoration-color: #374151; font-weight: bold\">)</span><span style=\"color: #374151; text-decoration-color: #374151\">...</span>\n",
       "</pre>\n"
      ],
      "text/plain": [
       "✨ You're running DeepEval's latest \u001b[38;2;106;0;255mContextual Precision Metric\u001b[0m! \u001b[1;38;2;55;65;81m(\u001b[0m\u001b[38;2;55;65;81musing Gemini \u001b[0m\u001b[1;38;2;55;65;81m1.5\u001b[0m\u001b[38;2;55;65;81m Flash, \u001b[0m\u001b[38;2;55;65;81mstrict\u001b[0m\u001b[38;2;55;65;81m=\u001b[0m\u001b[3;38;2;55;65;81mFalse\u001b[0m\u001b[38;2;55;65;81m, \u001b[0m\n",
       "\u001b[38;2;55;65;81masync_mode\u001b[0m\u001b[38;2;55;65;81m=\u001b[0m\u001b[3;38;2;55;65;81mTrue\u001b[0m\u001b[1;38;2;55;65;81m)\u001b[0m\u001b[38;2;55;65;81m...\u001b[0m\n"
      ]
     },
     "metadata": {},
     "output_type": "display_data"
    },
    {
     "name": "stdout",
     "output_type": "stream",
     "text": [
      "Event loop is already running. Applying nest_asyncio patch to allow async execution...\n"
     ]
    },
    {
     "name": "stderr",
     "output_type": "stream",
     "text": [
      "Evaluating 1 test case(s) in parallel: |███████████████████████████████|100% (1/1) [Time Taken: 00:20, 20.02s/test case]"
     ]
    },
    {
     "name": "stdout",
     "output_type": "stream",
     "text": [
      "\n",
      "======================================================================\n",
      "\n",
      "Metrics Summary\n",
      "\n",
      "  - ❌ Contextual Precision (score: 0.0, threshold: 0.5, strict: False, evaluation model: Gemini 1.5 Flash, reason: None, error: None)\n",
      "\n",
      "For test case:\n",
      "\n",
      "  - input: Did the Dutch build the Elmina Castle?\n",
      "  - actual output: No, the Portuguese built Elmina Castle in 1482.  The Dutch later captured it in 1637.\n",
      "\n",
      "  - expected output: No\n",
      "  - context: []\n",
      "  - retrieval context: ['[\"In 1482', ' the Portuguese built the Elmina Castle. Their aim was to trade in gold', ' ivory and slaves. In 1481 King John II of Portugal sent Diogo d\\'Azambuja to build this castle.\"', \" 'In 1598 the Dutch joined them\", ' and built forts at Komenda and Kormantsi. In 1637 they captured the castle from the Portuguese and that of Axim in 1642 (Fort St Anthony). Other European traders joined in by the mid 17th century. These were the English', ' Danes and Swedes. The coastline was dotted by more than 30 forts and castles built by the Dutch', ' British and the Danish merchants', ' the highest concentration of European military architecture outside of Europe. By the latter part of 19th century the Dutch and the British were the only traders left and when the Dutch withdrew in 1874', \" Britain made the Gold Coast a crown colony.'\", ' \"The first contact between the Ghanaian peoples', ' the Fantes on the coastal area and Europeans occurred in 1482. The Portuguese  first landed at Elmina', ' a coastal city inhabited by the Fanti nation-state in 1482. During the next few centuries parts of the area were controlled by British', ' Portuguese', ' and Scandinavian powers', ' with the British ultimately prevailing. These nation-states maintained varying alliances with the colonial powers and each other', ' which resulted in the 1806 Ashanti-Fante War', ' as well as an ongoing struggle by the Empire of Ashanti against the British. Moves toward regional de-colonization began in 1946', ' and the area\\'s first constitution was promulgated in 1951.\"', \" 'Ghana was inhabited in pre-colonial times by a number of ancient kingdoms\", ' including the Ga Adangbes on the eastern coast', ' inland Empire of Ashanti and various Fante states along the coast and inland. Trade with European states flourished after contact with the Portuguese in the 15th century', ' and the British established a crown colony', ' Gold Coast', ' in 1874. MacLean', ' Iain. Rational Choice and British Politics: An Analysis of Rhetoric and Manipulation from Peel to Blair', \" 2001. Page 76.'\", ' \"Gold Coast & European Exploration: Before March 1957 Ghana was called the Gold Coast. The Portuguese who came to Ghana in the 15th Century found so much gold between the rivers Ankobra and the Volta that they named the place Mina - meaning Mine. The Gold Coast was later adopted to by the English colonisers. Similarly', ' the French', ' equally impressed by the trinkets worn by the coastal people', ' named The Ivory Coast', ' Cote d\\'Ivoire.\"', \" 'Anecdotal evidence connected the Akans to this Empire. The evidence lies in names like Danso shared by the Akans of present Ghana and Mandikas of Senegal/Gambia who have strong links with the Empire.'\", \" 'For most of central sub-Saharan Africa\", ' agricultural expansion marked the period before 500. Farming began earliest on the southern tips of the Sahara', ' eventually giving rise to village settlements. Toward the end of the classical era', ' larger regional kingdoms were formed in West Africa', ' one of which was the Kingdom of Ghana', ' north of what is today the nation of Ghana. After its fall at the beginning of the 13th century', ' Akan migrants moved southward then founded several nation-states including the first great Akan empire of the Bono which is now known as the ibalBrong Ahafo region in Ghana. Later Akan groups such as the Ashanti federation and Fante states are thought to possibly have roots in the original Bono settlement at Bono manso. Much of the area was united under the Empire of Ashanti by the 16th century. The Ashanti government operated first as a loose network and eventually as a centralized kingdom with an advanced', \" highly-specialized bureaucracy centered in Kumasi.'\", \" 'Ghana was also the site of the Empire of Ashanti which was the most advanced black state in sub-Sahara Africa. It is said that at its peak\", ' the King of Ashanti could field 500', \"000 troops.'\", \" 'Medieval Ghana (4th - 13th Century):The Republic of Ghana is named after the medieval Ghana Empire of West Africa. The actual name of the Empire was Wagadugu. Ghana was the title of the kings who ruled the kingdom. It was controlled by Sundiata in 1240 AD\", \" and absorbed into the larger Mali Empire. (Mali Empire reached its peak of success under Mansa Musa around 1307.)'\", \" 'Upon achieving independence from the United Kingdom in 1957\", ' Peter N. Stearns and William Leonard Langer. The Encyclopedia of World History: Ancient', ' Medieval', ' and Modern', ' Chronologically Arranged', \" 2001. Page 1050.  the name Ghana was chosen for the new nation to reflect the ancient Empire of Ghana that once extended throughout much of western Africa.']\"]\n",
      "\n",
      "======================================================================\n",
      "\n",
      "Overall Metric Pass Rates\n",
      "\n",
      "Contextual Precision: 0.00% pass rate\n",
      "\n",
      "======================================================================\n",
      "\n"
     ]
    },
    {
     "name": "stderr",
     "output_type": "stream",
     "text": [
      "\n"
     ]
    },
    {
     "data": {
      "text/html": [
       "<pre style=\"white-space:pre;overflow-x:auto;line-height:normal;font-family:Menlo,'DejaVu Sans Mono',consolas,'Courier New',monospace\"><span style=\"color: #05f58d; text-decoration-color: #05f58d\">✓</span> Tests finished 🎉! Run <span style=\"color: #008000; text-decoration-color: #008000\">'deepeval login'</span> to save and analyze evaluation results on Confident AI.  \n",
       "‼️ Looking for a place for your LLM test data to live 🏡? Use Confident AI for test reports, benchmark analysis, \n",
       "compare models/prompts, and catch regressions for your LLM system.\n",
       "</pre>\n"
      ],
      "text/plain": [
       "\u001b[38;2;5;245;141m✓\u001b[0m Tests finished 🎉! Run \u001b[32m'deepeval login'\u001b[0m to save and analyze evaluation results on Confident AI.  \n",
       "‼️ Looking for a place for your LLM test data to live 🏡? Use Confident AI for test reports, benchmark analysis, \n",
       "compare models/prompts, and catch regressions for your LLM system.\n"
      ]
     },
     "metadata": {},
     "output_type": "display_data"
    },
    {
     "name": "stdout",
     "output_type": "stream",
     "text": [
      "277\n"
     ]
    },
    {
     "data": {
      "text/html": [
       "<pre style=\"white-space:pre;overflow-x:auto;line-height:normal;font-family:Menlo,'DejaVu Sans Mono',consolas,'Courier New',monospace\">✨ You're running DeepEval's latest <span style=\"color: #6a00ff; text-decoration-color: #6a00ff\">Contextual Precision Metric</span>! <span style=\"color: #374151; text-decoration-color: #374151; font-weight: bold\">(</span><span style=\"color: #374151; text-decoration-color: #374151\">using Gemini </span><span style=\"color: #374151; text-decoration-color: #374151; font-weight: bold\">1.5</span><span style=\"color: #374151; text-decoration-color: #374151\"> Flash, </span><span style=\"color: #374151; text-decoration-color: #374151\">strict</span><span style=\"color: #374151; text-decoration-color: #374151\">=</span><span style=\"color: #374151; text-decoration-color: #374151; font-style: italic\">False</span><span style=\"color: #374151; text-decoration-color: #374151\">, </span>\n",
       "<span style=\"color: #374151; text-decoration-color: #374151\">async_mode</span><span style=\"color: #374151; text-decoration-color: #374151\">=</span><span style=\"color: #374151; text-decoration-color: #374151; font-style: italic\">True</span><span style=\"color: #374151; text-decoration-color: #374151; font-weight: bold\">)</span><span style=\"color: #374151; text-decoration-color: #374151\">...</span>\n",
       "</pre>\n"
      ],
      "text/plain": [
       "✨ You're running DeepEval's latest \u001b[38;2;106;0;255mContextual Precision Metric\u001b[0m! \u001b[1;38;2;55;65;81m(\u001b[0m\u001b[38;2;55;65;81musing Gemini \u001b[0m\u001b[1;38;2;55;65;81m1.5\u001b[0m\u001b[38;2;55;65;81m Flash, \u001b[0m\u001b[38;2;55;65;81mstrict\u001b[0m\u001b[38;2;55;65;81m=\u001b[0m\u001b[3;38;2;55;65;81mFalse\u001b[0m\u001b[38;2;55;65;81m, \u001b[0m\n",
       "\u001b[38;2;55;65;81masync_mode\u001b[0m\u001b[38;2;55;65;81m=\u001b[0m\u001b[3;38;2;55;65;81mTrue\u001b[0m\u001b[1;38;2;55;65;81m)\u001b[0m\u001b[38;2;55;65;81m...\u001b[0m\n"
      ]
     },
     "metadata": {},
     "output_type": "display_data"
    },
    {
     "name": "stdout",
     "output_type": "stream",
     "text": [
      "Event loop is already running. Applying nest_asyncio patch to allow async execution...\n"
     ]
    },
    {
     "name": "stderr",
     "output_type": "stream",
     "text": [
      "Evaluating 1 test case(s) in parallel: |███████████████████████████████|100% (1/1) [Time Taken: 00:20, 20.02s/test case]"
     ]
    },
    {
     "name": "stdout",
     "output_type": "stream",
     "text": [
      "\n",
      "======================================================================\n",
      "\n",
      "Metrics Summary\n",
      "\n",
      "  - ✅ Contextual Precision (score: 0.8333333333333334, threshold: 0.5, strict: False, evaluation model: Gemini 1.5 Flash, reason: None, error: None)\n",
      "\n",
      "For test case:\n",
      "\n",
      "  - input: When did Ghana achieve independence from the United Kingdom?\n",
      "  - actual output: Ghana achieved independence from the United Kingdom on March 6, 1957.\n",
      "\n",
      "  - expected output: 1957\n",
      "  - context: []\n",
      "  - retrieval context: [\"['Ghana was inhabited in pre-colonial times by a number of ancient kingdoms\", ' including the Ga Adangbes on the eastern coast', ' inland Empire of Ashanti and various Fante states along the coast and inland. Trade with European states flourished after contact with the Portuguese in the 15th century', ' and the British established a crown colony', ' Gold Coast', ' in 1874. MacLean', ' Iain. Rational Choice and British Politics: An Analysis of Rhetoric and Manipulation from Peel to Blair', \" 2001. Page 76.'\", \" 'Formed from the merger of the British colony Gold Coast\", ' The Empire of Ashanti and the British Togoland trust territory by a UN sponsored plebiscite', ' Ghana became the first democratic sub-Sahara country in colonial Africa to gain its independence in 1957. Kwame Nkrumah', ' founder and first president of the modern Ghanaian state', ' was not only an African anti-colonial leader but also one with a dream of a united Africa which would not drift into neo-colonialism. He was the first African head of state to espouse Pan-Africanism', ' an idea he came into contact with during his studies at Lincoln University in Pennsylvania (United States)', ' at the time when Marcus Garvey was becoming famous for his \"Back to Africa Movement.\" He merged the dreams of both Marcus Garvey and the celebrated African-American scholar W.E.B. Du Bois into the formation of the modern day Ghana. Ghana\\\\\\'s principles of freedom and justice', ' equity and free education for all', ' irrespective of ethnic background', \" religion or creed borrow from Osagyefo Dr Kwame Nkrumah\\\\'s implementation of Pan-Africanism.'\", \" 'Upon achieving independence from the United Kingdom in 1957\", ' Peter N. Stearns and William Leonard Langer. The Encyclopedia of World History: Ancient', ' Medieval', ' and Modern', ' Chronologically Arranged', \" 2001. Page 1050.  the name Ghana was chosen for the new nation to reflect the ancient Empire of Ghana that once extended throughout much of western Africa.'\", \" 'Ghana is a republic and member of the Commonwealth of Nations. Its head of state is President John Agyekum Kufuor\", ' the ninth leader of the country since independence. The government sits at Osu Castle. The Parliament of Ghana is unicameral and dominated by two main parties', \" the New Patriotic Party and National Democratic Congress.'\", ' \"The first contact between the Ghanaian peoples', ' the Fantes on the coastal area and Europeans occurred in 1482. The Portuguese  first landed at Elmina', ' a coastal city inhabited by the Fanti nation-state in 1482. During the next few centuries parts of the area were controlled by British', ' Portuguese', ' and Scandinavian powers', ' with the British ultimately prevailing. These nation-states maintained varying alliances with the colonial powers and each other', ' which resulted in the 1806 Ashanti-Fante War', ' as well as an ongoing struggle by the Empire of Ashanti against the British. Moves toward regional de-colonization began in 1946', ' and the area\\'s first constitution was promulgated in 1951.\"', \" 'The Republic of Ghana is a country in West Africa. It borders CÃ´te d\\\\'Ivoire (also known as Ivory Coast) to the west\", ' Burkina Faso to the north', ' Togo to the east', ' and the Gulf of Guinea to the south. The word \"Ghana\" means \"Warrior King\"', ' Jackson', ' John G. Introduction to African Civilizations', ' 2001. Page 201.  and was the source of the name \"Guinea\" (via French Guinoye) used to refer to the West African coast (as in Gulf of Guinea).\\'', ' \"Nkrumah was overthrown by a supported CIA-backed coup Interview with John Stockwell in Pandora\\'s Box: Black Power (Adam Curtis', ' BBC Two', ' 22 June 1992)        On Nkrumah assassination by CIA: Gaines', ' Kevin (2006) American Africans in Ghana', ' Black expatriates and the Civil Rights Era', ' The University of North Carolina Press', ' Chapel Hill. . A series of subsequent coups ended with the ascension to power of Flight Lieutenant Jerry Rawlings in 1981. These changes resulted in the suspension of the constitution in 1981 and the banning of political parties. A new constitution', ' restoring multi-party politics', ' was promulgated in 1992', ' and Rawlings was elected as president in the free and fair elections of that year and again won the elections 1996 to serve his second term. The constitution prohibited him from running for a third term. John Kufuor', ' the current president', ' is now serving his second term', \" which ends in 2008 where another election will be held to elect a new president. The year 2007 marks Ghana's Golden Jubilee celebration of its 50-year anniversary\", ' which was on March 6th', ' 1957.\"', \" 'Ghana is a country located on the Gulf of Guinea\", ' only a few degrees north of the Equator', ' therefore giving it a warm climate. The Greenwich Meridian also passes through Ghana', ' specifically through the industrial city of Ghana-Tema; so it is said that Ghana is geographically closer to the \"center\" of the world than any other country. La Cote d\\\\\\'Ivoire is located to the west of Ghana while Burkina Faso and Togo are located to its north and east respectively. The coastline is mostly a low', ' sandy shore backed by plains and scrub and intersected by several rivers and streams. A tropical rain forest belt', ' broken by heavily forested hills and many streams and rivers', ' extends northward from the shore. North of this belt', ' the land is covered by low bush', ' park-like savannah', \" and grassy plains.'\", \" 'Map of Ghana'\", \" 'Well endowed with natural resources\", ' Ghana has twice the per capita output of the poorer countries in West Africa. Even so', ' Ghana remains heavily dependent on international financial and technical assistance. Gold', ' timber', ' cocoa', ' diamond', ' bauxite', \" and manganese exports are major sources of foreign exchange.  The World Factbook   An oilfield which is reported to contain up to 3 billion barrels of light oil was discovered in 2007.']\"]\n",
      "\n",
      "======================================================================\n",
      "\n",
      "Overall Metric Pass Rates\n",
      "\n",
      "Contextual Precision: 100.00% pass rate\n",
      "\n",
      "======================================================================\n",
      "\n"
     ]
    },
    {
     "name": "stderr",
     "output_type": "stream",
     "text": [
      "\n"
     ]
    },
    {
     "data": {
      "text/html": [
       "<pre style=\"white-space:pre;overflow-x:auto;line-height:normal;font-family:Menlo,'DejaVu Sans Mono',consolas,'Courier New',monospace\"><span style=\"color: #05f58d; text-decoration-color: #05f58d\">✓</span> Tests finished 🎉! Run <span style=\"color: #008000; text-decoration-color: #008000\">'deepeval login'</span> to save and analyze evaluation results on Confident AI.  \n",
       "‼️ Looking for a place for your LLM test data to live 🏡? Use Confident AI for test reports, benchmark analysis, \n",
       "compare models/prompts, and catch regressions for your LLM system.\n",
       "</pre>\n"
      ],
      "text/plain": [
       "\u001b[38;2;5;245;141m✓\u001b[0m Tests finished 🎉! Run \u001b[32m'deepeval login'\u001b[0m to save and analyze evaluation results on Confident AI.  \n",
       "‼️ Looking for a place for your LLM test data to live 🏡? Use Confident AI for test reports, benchmark analysis, \n",
       "compare models/prompts, and catch regressions for your LLM system.\n"
      ]
     },
     "metadata": {},
     "output_type": "display_data"
    },
    {
     "name": "stdout",
     "output_type": "stream",
     "text": [
      "278\n"
     ]
    },
    {
     "data": {
      "text/html": [
       "<pre style=\"white-space:pre;overflow-x:auto;line-height:normal;font-family:Menlo,'DejaVu Sans Mono',consolas,'Courier New',monospace\">✨ You're running DeepEval's latest <span style=\"color: #6a00ff; text-decoration-color: #6a00ff\">Contextual Precision Metric</span>! <span style=\"color: #374151; text-decoration-color: #374151; font-weight: bold\">(</span><span style=\"color: #374151; text-decoration-color: #374151\">using Gemini </span><span style=\"color: #374151; text-decoration-color: #374151; font-weight: bold\">1.5</span><span style=\"color: #374151; text-decoration-color: #374151\"> Flash, </span><span style=\"color: #374151; text-decoration-color: #374151\">strict</span><span style=\"color: #374151; text-decoration-color: #374151\">=</span><span style=\"color: #374151; text-decoration-color: #374151; font-style: italic\">False</span><span style=\"color: #374151; text-decoration-color: #374151\">, </span>\n",
       "<span style=\"color: #374151; text-decoration-color: #374151\">async_mode</span><span style=\"color: #374151; text-decoration-color: #374151\">=</span><span style=\"color: #374151; text-decoration-color: #374151; font-style: italic\">True</span><span style=\"color: #374151; text-decoration-color: #374151; font-weight: bold\">)</span><span style=\"color: #374151; text-decoration-color: #374151\">...</span>\n",
       "</pre>\n"
      ],
      "text/plain": [
       "✨ You're running DeepEval's latest \u001b[38;2;106;0;255mContextual Precision Metric\u001b[0m! \u001b[1;38;2;55;65;81m(\u001b[0m\u001b[38;2;55;65;81musing Gemini \u001b[0m\u001b[1;38;2;55;65;81m1.5\u001b[0m\u001b[38;2;55;65;81m Flash, \u001b[0m\u001b[38;2;55;65;81mstrict\u001b[0m\u001b[38;2;55;65;81m=\u001b[0m\u001b[3;38;2;55;65;81mFalse\u001b[0m\u001b[38;2;55;65;81m, \u001b[0m\n",
       "\u001b[38;2;55;65;81masync_mode\u001b[0m\u001b[38;2;55;65;81m=\u001b[0m\u001b[3;38;2;55;65;81mTrue\u001b[0m\u001b[1;38;2;55;65;81m)\u001b[0m\u001b[38;2;55;65;81m...\u001b[0m\n"
      ]
     },
     "metadata": {},
     "output_type": "display_data"
    },
    {
     "name": "stdout",
     "output_type": "stream",
     "text": [
      "Event loop is already running. Applying nest_asyncio patch to allow async execution...\n"
     ]
    },
    {
     "name": "stderr",
     "output_type": "stream",
     "text": [
      "Evaluating 1 test case(s) in parallel: |███████████████████████████████|100% (1/1) [Time Taken: 00:20, 20.02s/test case]"
     ]
    },
    {
     "name": "stdout",
     "output_type": "stream",
     "text": [
      "\n",
      "======================================================================\n",
      "\n",
      "Metrics Summary\n",
      "\n",
      "  - ✅ Contextual Precision (score: 1.0, threshold: 0.5, strict: False, evaluation model: Gemini 1.5 Flash, reason: None, error: None)\n",
      "\n",
      "For test case:\n",
      "\n",
      "  - input: How many regions is Ghana divided into?\n",
      "  - actual output: Ghana is divided into 10 regions.\n",
      "\n",
      "  - expected output: 10\n",
      "  - context: []\n",
      "  - retrieval context: [\"['Ghana is a divided into 10 regions\", \" subdivided into a total of 138 districts. The regions are:'\", \" 'Regions of Ghana'\", \" 'Ghana is a country located on the Gulf of Guinea\", ' only a few degrees north of the Equator', ' therefore giving it a warm climate. The Greenwich Meridian also passes through Ghana', ' specifically through the industrial city of Ghana-Tema; so it is said that Ghana is geographically closer to the \"center\" of the world than any other country. La Cote d\\\\\\'Ivoire is located to the west of Ghana while Burkina Faso and Togo are located to its north and east respectively. The coastline is mostly a low', ' sandy shore backed by plains and scrub and intersected by several rivers and streams. A tropical rain forest belt', ' broken by heavily forested hills and many streams and rivers', ' extends northward from the shore. North of this belt', ' the land is covered by low bush', ' park-like savannah', \" and grassy plains.'\", \" 'Ghana is a republic and member of the Commonwealth of Nations. Its head of state is President John Agyekum Kufuor\", ' the ninth leader of the country since independence. The government sits at Osu Castle. The Parliament of Ghana is unicameral and dominated by two main parties', \" the New Patriotic Party and National Democratic Congress.'\", \" 'The Republic of Ghana is a country in West Africa. It borders CÃ´te d\\\\'Ivoire (also known as Ivory Coast) to the west\", ' Burkina Faso to the north', ' Togo to the east', ' and the Gulf of Guinea to the south. The word \"Ghana\" means \"Warrior King\"', ' Jackson', ' John G. Introduction to African Civilizations', ' 2001. Page 201.  and was the source of the name \"Guinea\" (via French Guinoye) used to refer to the West African coast (as in Gulf of Guinea).\\'', \" 'Map of Ghana'\", ' \"More than 100 languages and dialects are spoken in Ghana. English is the country\\'s official language and predominates government and business affairs. It is also the standard language used for educational instruction. Native Ghanaian languages are divided into two linguistic subfamilies of the Niger-Congo language family. Languages belonging to the Kwa subfamily are found predominantly to the south of the Volta River', ' while those belonging to the Gur subfamily are found predominantly to the north. The Kwa group', \" which is spoken by about 75% of the country's population\", ' includes the Akan', ' Ga-Dangme', ' and Ewe languages. The Gur group includes the Gurma', ' Grusi', ' and Dagbani languages.\"', ' \"The first contact between the Ghanaian peoples', ' the Fantes on the coastal area and Europeans occurred in 1482. The Portuguese  first landed at Elmina', ' a coastal city inhabited by the Fanti nation-state in 1482. During the next few centuries parts of the area were controlled by British', ' Portuguese', ' and Scandinavian powers', ' with the British ultimately prevailing. These nation-states maintained varying alliances with the colonial powers and each other', ' which resulted in the 1806 Ashanti-Fante War', ' as well as an ongoing struggle by the Empire of Ashanti against the British. Moves toward regional de-colonization began in 1946', ' and the area\\'s first constitution was promulgated in 1951.\"', \" 'Ghana was inhabited in pre-colonial times by a number of ancient kingdoms\", ' including the Ga Adangbes on the eastern coast', ' inland Empire of Ashanti and various Fante states along the coast and inland. Trade with European states flourished after contact with the Portuguese in the 15th century', ' and the British established a crown colony', ' Gold Coast', ' in 1874. MacLean', ' Iain. Rational Choice and British Politics: An Analysis of Rhetoric and Manipulation from Peel to Blair', \" 2001. Page 76.'\", \" 'Ghana has a 6-year primary education system beginning at the age of six and\", ' under the educational reforms implemented in 1987', ' they pass on to a 3-year junior secondary school (JSS) program. At the end of the 3rd year of JSS', ' there is a Basic Education Certificate Examination (BECE). Those continuing must complete the 3-year senior secondary school (SSS) program and take an admission exam to enter university. School enrollment totals over 2 million: 1.3 million primary; 550', '000 middle; 300', '000 secondary; 84', '280 technical; 18', '000 teacher training', ' and 89', \"000 in university.']\"]\n",
      "\n",
      "======================================================================\n",
      "\n",
      "Overall Metric Pass Rates\n",
      "\n",
      "Contextual Precision: 100.00% pass rate\n",
      "\n",
      "======================================================================\n",
      "\n"
     ]
    },
    {
     "name": "stderr",
     "output_type": "stream",
     "text": [
      "\n"
     ]
    },
    {
     "data": {
      "text/html": [
       "<pre style=\"white-space:pre;overflow-x:auto;line-height:normal;font-family:Menlo,'DejaVu Sans Mono',consolas,'Courier New',monospace\"><span style=\"color: #05f58d; text-decoration-color: #05f58d\">✓</span> Tests finished 🎉! Run <span style=\"color: #008000; text-decoration-color: #008000\">'deepeval login'</span> to save and analyze evaluation results on Confident AI.  \n",
       "‼️ Looking for a place for your LLM test data to live 🏡? Use Confident AI for test reports, benchmark analysis, \n",
       "compare models/prompts, and catch regressions for your LLM system.\n",
       "</pre>\n"
      ],
      "text/plain": [
       "\u001b[38;2;5;245;141m✓\u001b[0m Tests finished 🎉! Run \u001b[32m'deepeval login'\u001b[0m to save and analyze evaluation results on Confident AI.  \n",
       "‼️ Looking for a place for your LLM test data to live 🏡? Use Confident AI for test reports, benchmark analysis, \n",
       "compare models/prompts, and catch regressions for your LLM system.\n"
      ]
     },
     "metadata": {},
     "output_type": "display_data"
    },
    {
     "name": "stdout",
     "output_type": "stream",
     "text": [
      "279\n"
     ]
    },
    {
     "data": {
      "text/html": [
       "<pre style=\"white-space:pre;overflow-x:auto;line-height:normal;font-family:Menlo,'DejaVu Sans Mono',consolas,'Courier New',monospace\">✨ You're running DeepEval's latest <span style=\"color: #6a00ff; text-decoration-color: #6a00ff\">Contextual Precision Metric</span>! <span style=\"color: #374151; text-decoration-color: #374151; font-weight: bold\">(</span><span style=\"color: #374151; text-decoration-color: #374151\">using Gemini </span><span style=\"color: #374151; text-decoration-color: #374151; font-weight: bold\">1.5</span><span style=\"color: #374151; text-decoration-color: #374151\"> Flash, </span><span style=\"color: #374151; text-decoration-color: #374151\">strict</span><span style=\"color: #374151; text-decoration-color: #374151\">=</span><span style=\"color: #374151; text-decoration-color: #374151; font-style: italic\">False</span><span style=\"color: #374151; text-decoration-color: #374151\">, </span>\n",
       "<span style=\"color: #374151; text-decoration-color: #374151\">async_mode</span><span style=\"color: #374151; text-decoration-color: #374151\">=</span><span style=\"color: #374151; text-decoration-color: #374151; font-style: italic\">True</span><span style=\"color: #374151; text-decoration-color: #374151; font-weight: bold\">)</span><span style=\"color: #374151; text-decoration-color: #374151\">...</span>\n",
       "</pre>\n"
      ],
      "text/plain": [
       "✨ You're running DeepEval's latest \u001b[38;2;106;0;255mContextual Precision Metric\u001b[0m! \u001b[1;38;2;55;65;81m(\u001b[0m\u001b[38;2;55;65;81musing Gemini \u001b[0m\u001b[1;38;2;55;65;81m1.5\u001b[0m\u001b[38;2;55;65;81m Flash, \u001b[0m\u001b[38;2;55;65;81mstrict\u001b[0m\u001b[38;2;55;65;81m=\u001b[0m\u001b[3;38;2;55;65;81mFalse\u001b[0m\u001b[38;2;55;65;81m, \u001b[0m\n",
       "\u001b[38;2;55;65;81masync_mode\u001b[0m\u001b[38;2;55;65;81m=\u001b[0m\u001b[3;38;2;55;65;81mTrue\u001b[0m\u001b[1;38;2;55;65;81m)\u001b[0m\u001b[38;2;55;65;81m...\u001b[0m\n"
      ]
     },
     "metadata": {},
     "output_type": "display_data"
    },
    {
     "name": "stdout",
     "output_type": "stream",
     "text": [
      "Event loop is already running. Applying nest_asyncio patch to allow async execution...\n"
     ]
    },
    {
     "name": "stderr",
     "output_type": "stream",
     "text": [
      "Evaluating 1 test case(s) in parallel: |███████████████████████████████|100% (1/1) [Time Taken: 00:20, 20.02s/test case]"
     ]
    },
    {
     "name": "stdout",
     "output_type": "stream",
     "text": [
      "\n",
      "======================================================================\n",
      "\n",
      "Metrics Summary\n",
      "\n",
      "  - ✅ Contextual Precision (score: 1.0, threshold: 0.5, strict: False, evaluation model: Gemini 1.5 Flash, reason: None, error: None)\n",
      "\n",
      "For test case:\n",
      "\n",
      "  - input: Who is the head of state of Ghana?\n",
      "  - actual output: The provided text names John Agyekum Kufuor as the head of state of Ghana, but this is outdated.  The current head of state would need to be looked up in a current source.\n",
      "\n",
      "  - expected output: President John Agyekum Kofuor\n",
      "  - context: []\n",
      "  - retrieval context: [\"['Ghana is a republic and member of the Commonwealth of Nations. Its head of state is President John Agyekum Kufuor\", ' the ninth leader of the country since independence. The government sits at Osu Castle. The Parliament of Ghana is unicameral and dominated by two main parties', \" the New Patriotic Party and National Democratic Congress.'\", \" 'Formed from the merger of the British colony Gold Coast\", ' The Empire of Ashanti and the British Togoland trust territory by a UN sponsored plebiscite', ' Ghana became the first democratic sub-Sahara country in colonial Africa to gain its independence in 1957. Kwame Nkrumah', ' founder and first president of the modern Ghanaian state', ' was not only an African anti-colonial leader but also one with a dream of a united Africa which would not drift into neo-colonialism. He was the first African head of state to espouse Pan-Africanism', ' an idea he came into contact with during his studies at Lincoln University in Pennsylvania (United States)', ' at the time when Marcus Garvey was becoming famous for his \"Back to Africa Movement.\" He merged the dreams of both Marcus Garvey and the celebrated African-American scholar W.E.B. Du Bois into the formation of the modern day Ghana. Ghana\\\\\\'s principles of freedom and justice', ' equity and free education for all', ' irrespective of ethnic background', \" religion or creed borrow from Osagyefo Dr Kwame Nkrumah\\\\'s implementation of Pan-Africanism.'\", \" 'The Republic of Ghana is a country in West Africa. It borders CÃ´te d\\\\'Ivoire (also known as Ivory Coast) to the west\", ' Burkina Faso to the north', ' Togo to the east', ' and the Gulf of Guinea to the south. The word \"Ghana\" means \"Warrior King\"', ' Jackson', ' John G. Introduction to African Civilizations', ' 2001. Page 201.  and was the source of the name \"Guinea\" (via French Guinoye) used to refer to the West African coast (as in Gulf of Guinea).\\'', ' \"Nkrumah was overthrown by a supported CIA-backed coup Interview with John Stockwell in Pandora\\'s Box: Black Power (Adam Curtis', ' BBC Two', ' 22 June 1992)        On Nkrumah assassination by CIA: Gaines', ' Kevin (2006) American Africans in Ghana', ' Black expatriates and the Civil Rights Era', ' The University of North Carolina Press', ' Chapel Hill. . A series of subsequent coups ended with the ascension to power of Flight Lieutenant Jerry Rawlings in 1981. These changes resulted in the suspension of the constitution in 1981 and the banning of political parties. A new constitution', ' restoring multi-party politics', ' was promulgated in 1992', ' and Rawlings was elected as president in the free and fair elections of that year and again won the elections 1996 to serve his second term. The constitution prohibited him from running for a third term. John Kufuor', ' the current president', ' is now serving his second term', \" which ends in 2008 where another election will be held to elect a new president. The year 2007 marks Ghana's Golden Jubilee celebration of its 50-year anniversary\", ' which was on March 6th', ' 1957.\"', \" 'Ghana is a country located on the Gulf of Guinea\", ' only a few degrees north of the Equator', ' therefore giving it a warm climate. The Greenwich Meridian also passes through Ghana', ' specifically through the industrial city of Ghana-Tema; so it is said that Ghana is geographically closer to the \"center\" of the world than any other country. La Cote d\\\\\\'Ivoire is located to the west of Ghana while Burkina Faso and Togo are located to its north and east respectively. The coastline is mostly a low', ' sandy shore backed by plains and scrub and intersected by several rivers and streams. A tropical rain forest belt', ' broken by heavily forested hills and many streams and rivers', ' extends northward from the shore. North of this belt', ' the land is covered by low bush', ' park-like savannah', \" and grassy plains.'\", \" 'Ghana was inhabited in pre-colonial times by a number of ancient kingdoms\", ' including the Ga Adangbes on the eastern coast', ' inland Empire of Ashanti and various Fante states along the coast and inland. Trade with European states flourished after contact with the Portuguese in the 15th century', ' and the British established a crown colony', ' Gold Coast', ' in 1874. MacLean', ' Iain. Rational Choice and British Politics: An Analysis of Rhetoric and Manipulation from Peel to Blair', \" 2001. Page 76.'\", ' \"The first contact between the Ghanaian peoples', ' the Fantes on the coastal area and Europeans occurred in 1482. The Portuguese  first landed at Elmina', ' a coastal city inhabited by the Fanti nation-state in 1482. During the next few centuries parts of the area were controlled by British', ' Portuguese', ' and Scandinavian powers', ' with the British ultimately prevailing. These nation-states maintained varying alliances with the colonial powers and each other', ' which resulted in the 1806 Ashanti-Fante War', ' as well as an ongoing struggle by the Empire of Ashanti against the British. Moves toward regional de-colonization began in 1946', ' and the area\\'s first constitution was promulgated in 1951.\"', \" 'Map of Ghana'\", ' \"More than 100 languages and dialects are spoken in Ghana. English is the country\\'s official language and predominates government and business affairs. It is also the standard language used for educational instruction. Native Ghanaian languages are divided into two linguistic subfamilies of the Niger-Congo language family. Languages belonging to the Kwa subfamily are found predominantly to the south of the Volta River', ' while those belonging to the Gur subfamily are found predominantly to the north. The Kwa group', \" which is spoken by about 75% of the country's population\", ' includes the Akan', ' Ga-Dangme', ' and Ewe languages. The Gur group includes the Gurma', ' Grusi', ' and Dagbani languages.\"', \" 'Upon achieving independence from the United Kingdom in 1957\", ' Peter N. Stearns and William Leonard Langer. The Encyclopedia of World History: Ancient', ' Medieval', ' and Modern', ' Chronologically Arranged', \" 2001. Page 1050.  the name Ghana was chosen for the new nation to reflect the ancient Empire of Ghana that once extended throughout much of western Africa.']\"]\n",
      "\n",
      "======================================================================\n",
      "\n",
      "Overall Metric Pass Rates\n",
      "\n",
      "Contextual Precision: 100.00% pass rate\n",
      "\n",
      "======================================================================\n",
      "\n"
     ]
    },
    {
     "name": "stderr",
     "output_type": "stream",
     "text": [
      "\n"
     ]
    },
    {
     "data": {
      "text/html": [
       "<pre style=\"white-space:pre;overflow-x:auto;line-height:normal;font-family:Menlo,'DejaVu Sans Mono',consolas,'Courier New',monospace\"><span style=\"color: #05f58d; text-decoration-color: #05f58d\">✓</span> Tests finished 🎉! Run <span style=\"color: #008000; text-decoration-color: #008000\">'deepeval login'</span> to save and analyze evaluation results on Confident AI.  \n",
       "‼️ Looking for a place for your LLM test data to live 🏡? Use Confident AI for test reports, benchmark analysis, \n",
       "compare models/prompts, and catch regressions for your LLM system.\n",
       "</pre>\n"
      ],
      "text/plain": [
       "\u001b[38;2;5;245;141m✓\u001b[0m Tests finished 🎉! Run \u001b[32m'deepeval login'\u001b[0m to save and analyze evaluation results on Confident AI.  \n",
       "‼️ Looking for a place for your LLM test data to live 🏡? Use Confident AI for test reports, benchmark analysis, \n",
       "compare models/prompts, and catch regressions for your LLM system.\n"
      ]
     },
     "metadata": {},
     "output_type": "display_data"
    },
    {
     "name": "stdout",
     "output_type": "stream",
     "text": [
      "280\n"
     ]
    },
    {
     "data": {
      "text/html": [
       "<pre style=\"white-space:pre;overflow-x:auto;line-height:normal;font-family:Menlo,'DejaVu Sans Mono',consolas,'Courier New',monospace\">✨ You're running DeepEval's latest <span style=\"color: #6a00ff; text-decoration-color: #6a00ff\">Contextual Precision Metric</span>! <span style=\"color: #374151; text-decoration-color: #374151; font-weight: bold\">(</span><span style=\"color: #374151; text-decoration-color: #374151\">using Gemini </span><span style=\"color: #374151; text-decoration-color: #374151; font-weight: bold\">1.5</span><span style=\"color: #374151; text-decoration-color: #374151\"> Flash, </span><span style=\"color: #374151; text-decoration-color: #374151\">strict</span><span style=\"color: #374151; text-decoration-color: #374151\">=</span><span style=\"color: #374151; text-decoration-color: #374151; font-style: italic\">False</span><span style=\"color: #374151; text-decoration-color: #374151\">, </span>\n",
       "<span style=\"color: #374151; text-decoration-color: #374151\">async_mode</span><span style=\"color: #374151; text-decoration-color: #374151\">=</span><span style=\"color: #374151; text-decoration-color: #374151; font-style: italic\">True</span><span style=\"color: #374151; text-decoration-color: #374151; font-weight: bold\">)</span><span style=\"color: #374151; text-decoration-color: #374151\">...</span>\n",
       "</pre>\n"
      ],
      "text/plain": [
       "✨ You're running DeepEval's latest \u001b[38;2;106;0;255mContextual Precision Metric\u001b[0m! \u001b[1;38;2;55;65;81m(\u001b[0m\u001b[38;2;55;65;81musing Gemini \u001b[0m\u001b[1;38;2;55;65;81m1.5\u001b[0m\u001b[38;2;55;65;81m Flash, \u001b[0m\u001b[38;2;55;65;81mstrict\u001b[0m\u001b[38;2;55;65;81m=\u001b[0m\u001b[3;38;2;55;65;81mFalse\u001b[0m\u001b[38;2;55;65;81m, \u001b[0m\n",
       "\u001b[38;2;55;65;81masync_mode\u001b[0m\u001b[38;2;55;65;81m=\u001b[0m\u001b[3;38;2;55;65;81mTrue\u001b[0m\u001b[1;38;2;55;65;81m)\u001b[0m\u001b[38;2;55;65;81m...\u001b[0m\n"
      ]
     },
     "metadata": {},
     "output_type": "display_data"
    },
    {
     "name": "stdout",
     "output_type": "stream",
     "text": [
      "Event loop is already running. Applying nest_asyncio patch to allow async execution...\n"
     ]
    },
    {
     "name": "stderr",
     "output_type": "stream",
     "text": [
      "Evaluating 1 test case(s) in parallel: |███████████████████████████████|100% (1/1) [Time Taken: 00:20, 20.02s/test case]"
     ]
    },
    {
     "name": "stdout",
     "output_type": "stream",
     "text": [
      "\n",
      "======================================================================\n",
      "\n",
      "Metrics Summary\n",
      "\n",
      "  - ✅ Contextual Precision (score: 1.0, threshold: 0.5, strict: False, evaluation model: Gemini 1.5 Flash, reason: None, error: None)\n",
      "\n",
      "For test case:\n",
      "\n",
      "  - input: What is the dominant religion in Ghana?\n",
      "  - actual output: Christianity is the dominant religion in Ghana.\n",
      "\n",
      "  - expected output: Christian\n",
      "  - context: []\n",
      "  - retrieval context: [\"['Religions: Christian 63%\", ' African beliefs 21%', ' Muslim 16%', '  Facts on People of Ghana', ' accessed July 13', \" 2006'\", ' \"More than 100 languages and dialects are spoken in Ghana. English is the country\\'s official language and predominates government and business affairs. It is also the standard language used for educational instruction. Native Ghanaian languages are divided into two linguistic subfamilies of the Niger-Congo language family. Languages belonging to the Kwa subfamily are found predominantly to the south of the Volta River', ' while those belonging to the Gur subfamily are found predominantly to the north. The Kwa group', \" which is spoken by about 75% of the country's population\", ' includes the Akan', ' Ga-Dangme', ' and Ewe languages. The Gur group includes the Gurma', ' Grusi', ' and Dagbani languages.\"', ' \"Nine languages have the status of government-sponsored languages: Akan', ' Dagaare/Wale', ' Dagbani', ' Dangme', ' Ewe', ' Ga', ' Gonja', ' Kasem', ' and Nzema. Though not an official language', \" Hausa is the lingua-franca spoken among Ghana's Muslims\", ' who comprise about 14% of the population.\"', \" 'Ghana is a republic and member of the Commonwealth of Nations. Its head of state is President John Agyekum Kufuor\", ' the ninth leader of the country since independence. The government sits at Osu Castle. The Parliament of Ghana is unicameral and dominated by two main parties', \" the New Patriotic Party and National Democratic Congress.'\", \" 'Ghana is a country located on the Gulf of Guinea\", ' only a few degrees north of the Equator', ' therefore giving it a warm climate. The Greenwich Meridian also passes through Ghana', ' specifically through the industrial city of Ghana-Tema; so it is said that Ghana is geographically closer to the \"center\" of the world than any other country. La Cote d\\\\\\'Ivoire is located to the west of Ghana while Burkina Faso and Togo are located to its north and east respectively. The coastline is mostly a low', ' sandy shore backed by plains and scrub and intersected by several rivers and streams. A tropical rain forest belt', ' broken by heavily forested hills and many streams and rivers', ' extends northward from the shore. North of this belt', ' the land is covered by low bush', ' park-like savannah', \" and grassy plains.'\", \" 'Ghana was inhabited in pre-colonial times by a number of ancient kingdoms\", ' including the Ga Adangbes on the eastern coast', ' inland Empire of Ashanti and various Fante states along the coast and inland. Trade with European states flourished after contact with the Portuguese in the 15th century', ' and the British established a crown colony', ' Gold Coast', ' in 1874. MacLean', ' Iain. Rational Choice and British Politics: An Analysis of Rhetoric and Manipulation from Peel to Blair', \" 2001. Page 76.'\", \" 'Well endowed with natural resources\", ' Ghana has twice the per capita output of the poorer countries in West Africa. Even so', ' Ghana remains heavily dependent on international financial and technical assistance. Gold', ' timber', ' cocoa', ' diamond', ' bauxite', \" and manganese exports are major sources of foreign exchange.  The World Factbook   An oilfield which is reported to contain up to 3 billion barrels of light oil was discovered in 2007.'\", ' \"The first contact between the Ghanaian peoples', ' the Fantes on the coastal area and Europeans occurred in 1482. The Portuguese  first landed at Elmina', ' a coastal city inhabited by the Fanti nation-state in 1482. During the next few centuries parts of the area were controlled by British', ' Portuguese', ' and Scandinavian powers', ' with the British ultimately prevailing. These nation-states maintained varying alliances with the colonial powers and each other', ' which resulted in the 1806 Ashanti-Fante War', ' as well as an ongoing struggle by the Empire of Ashanti against the British. Moves toward regional de-colonization began in 1946', ' and the area\\'s first constitution was promulgated in 1951.\"', \" 'The Republic of Ghana is a country in West Africa. It borders CÃ´te d\\\\'Ivoire (also known as Ivory Coast) to the west\", ' Burkina Faso to the north', ' Togo to the east', ' and the Gulf of Guinea to the south. The word \"Ghana\" means \"Warrior King\"', ' Jackson', ' John G. Introduction to African Civilizations', ' 2001. Page 201.  and was the source of the name \"Guinea\" (via French Guinoye) used to refer to the West African coast (as in Gulf of Guinea).\\'', \" 'Formed from the merger of the British colony Gold Coast\", ' The Empire of Ashanti and the British Togoland trust territory by a UN sponsored plebiscite', ' Ghana became the first democratic sub-Sahara country in colonial Africa to gain its independence in 1957. Kwame Nkrumah', ' founder and first president of the modern Ghanaian state', ' was not only an African anti-colonial leader but also one with a dream of a united Africa which would not drift into neo-colonialism. He was the first African head of state to espouse Pan-Africanism', ' an idea he came into contact with during his studies at Lincoln University in Pennsylvania (United States)', ' at the time when Marcus Garvey was becoming famous for his \"Back to Africa Movement.\" He merged the dreams of both Marcus Garvey and the celebrated African-American scholar W.E.B. Du Bois into the formation of the modern day Ghana. Ghana\\\\\\'s principles of freedom and justice', ' equity and free education for all', ' irrespective of ethnic background', \" religion or creed borrow from Osagyefo Dr Kwame Nkrumah\\\\'s implementation of Pan-Africanism.']\"]\n",
      "\n",
      "======================================================================\n",
      "\n",
      "Overall Metric Pass Rates\n",
      "\n",
      "Contextual Precision: 100.00% pass rate\n",
      "\n",
      "======================================================================\n",
      "\n"
     ]
    },
    {
     "name": "stderr",
     "output_type": "stream",
     "text": [
      "\n"
     ]
    },
    {
     "data": {
      "text/html": [
       "<pre style=\"white-space:pre;overflow-x:auto;line-height:normal;font-family:Menlo,'DejaVu Sans Mono',consolas,'Courier New',monospace\"><span style=\"color: #05f58d; text-decoration-color: #05f58d\">✓</span> Tests finished 🎉! Run <span style=\"color: #008000; text-decoration-color: #008000\">'deepeval login'</span> to save and analyze evaluation results on Confident AI.  \n",
       "‼️ Looking for a place for your LLM test data to live 🏡? Use Confident AI for test reports, benchmark analysis, \n",
       "compare models/prompts, and catch regressions for your LLM system.\n",
       "</pre>\n"
      ],
      "text/plain": [
       "\u001b[38;2;5;245;141m✓\u001b[0m Tests finished 🎉! Run \u001b[32m'deepeval login'\u001b[0m to save and analyze evaluation results on Confident AI.  \n",
       "‼️ Looking for a place for your LLM test data to live 🏡? Use Confident AI for test reports, benchmark analysis, \n",
       "compare models/prompts, and catch regressions for your LLM system.\n"
      ]
     },
     "metadata": {},
     "output_type": "display_data"
    },
    {
     "name": "stdout",
     "output_type": "stream",
     "text": [
      "281\n"
     ]
    },
    {
     "data": {
      "text/html": [
       "<pre style=\"white-space:pre;overflow-x:auto;line-height:normal;font-family:Menlo,'DejaVu Sans Mono',consolas,'Courier New',monospace\">✨ You're running DeepEval's latest <span style=\"color: #6a00ff; text-decoration-color: #6a00ff\">Contextual Precision Metric</span>! <span style=\"color: #374151; text-decoration-color: #374151; font-weight: bold\">(</span><span style=\"color: #374151; text-decoration-color: #374151\">using Gemini </span><span style=\"color: #374151; text-decoration-color: #374151; font-weight: bold\">1.5</span><span style=\"color: #374151; text-decoration-color: #374151\"> Flash, </span><span style=\"color: #374151; text-decoration-color: #374151\">strict</span><span style=\"color: #374151; text-decoration-color: #374151\">=</span><span style=\"color: #374151; text-decoration-color: #374151; font-style: italic\">False</span><span style=\"color: #374151; text-decoration-color: #374151\">, </span>\n",
       "<span style=\"color: #374151; text-decoration-color: #374151\">async_mode</span><span style=\"color: #374151; text-decoration-color: #374151\">=</span><span style=\"color: #374151; text-decoration-color: #374151; font-style: italic\">True</span><span style=\"color: #374151; text-decoration-color: #374151; font-weight: bold\">)</span><span style=\"color: #374151; text-decoration-color: #374151\">...</span>\n",
       "</pre>\n"
      ],
      "text/plain": [
       "✨ You're running DeepEval's latest \u001b[38;2;106;0;255mContextual Precision Metric\u001b[0m! \u001b[1;38;2;55;65;81m(\u001b[0m\u001b[38;2;55;65;81musing Gemini \u001b[0m\u001b[1;38;2;55;65;81m1.5\u001b[0m\u001b[38;2;55;65;81m Flash, \u001b[0m\u001b[38;2;55;65;81mstrict\u001b[0m\u001b[38;2;55;65;81m=\u001b[0m\u001b[3;38;2;55;65;81mFalse\u001b[0m\u001b[38;2;55;65;81m, \u001b[0m\n",
       "\u001b[38;2;55;65;81masync_mode\u001b[0m\u001b[38;2;55;65;81m=\u001b[0m\u001b[3;38;2;55;65;81mTrue\u001b[0m\u001b[1;38;2;55;65;81m)\u001b[0m\u001b[38;2;55;65;81m...\u001b[0m\n"
      ]
     },
     "metadata": {},
     "output_type": "display_data"
    },
    {
     "name": "stdout",
     "output_type": "stream",
     "text": [
      "Event loop is already running. Applying nest_asyncio patch to allow async execution...\n"
     ]
    },
    {
     "name": "stderr",
     "output_type": "stream",
     "text": [
      "Evaluating 1 test case(s) in parallel: |███████████████████████████████|100% (1/1) [Time Taken: 00:20, 20.01s/test case]"
     ]
    },
    {
     "name": "stdout",
     "output_type": "stream",
     "text": [
      "\n",
      "======================================================================\n",
      "\n",
      "Metrics Summary\n",
      "\n",
      "  - ✅ Contextual Precision (score: 1.0, threshold: 0.5, strict: False, evaluation model: Gemini 1.5 Flash, reason: None, error: None)\n",
      "\n",
      "For test case:\n",
      "\n",
      "  - input: What are the two subfamilies of the Native Ghanaian languages?\n",
      "  - actual output: The two subfamilies of the Native Ghanaian languages are Kwa and Gur.\n",
      "\n",
      "  - expected output: Kwa and Gur\n",
      "  - context: []\n",
      "  - retrieval context: ['[\"More than 100 languages and dialects are spoken in Ghana. English is the country\\'s official language and predominates government and business affairs. It is also the standard language used for educational instruction. Native Ghanaian languages are divided into two linguistic subfamilies of the Niger-Congo language family. Languages belonging to the Kwa subfamily are found predominantly to the south of the Volta River', ' while those belonging to the Gur subfamily are found predominantly to the north. The Kwa group', \" which is spoken by about 75% of the country's population\", ' includes the Akan', ' Ga-Dangme', ' and Ewe languages. The Gur group includes the Gurma', ' Grusi', ' and Dagbani languages.\"', ' \"Nine languages have the status of government-sponsored languages: Akan', ' Dagaare/Wale', ' Dagbani', ' Dangme', ' Ewe', ' Ga', ' Gonja', ' Kasem', ' and Nzema. Though not an official language', \" Hausa is the lingua-franca spoken among Ghana's Muslims\", ' who comprise about 14% of the population.\"', \" 'Some inhabitants of present Ghana had ancestors linked with the medieval Ghana. This can be traced down to the Mande and Voltaic people of Northern Ghana--Mamprussi\", \" Dagomba and the Gonja.'\", \" 'For most of central sub-Saharan Africa\", ' agricultural expansion marked the period before 500. Farming began earliest on the southern tips of the Sahara', ' eventually giving rise to village settlements. Toward the end of the classical era', ' larger regional kingdoms were formed in West Africa', ' one of which was the Kingdom of Ghana', ' north of what is today the nation of Ghana. After its fall at the beginning of the 13th century', ' Akan migrants moved southward then founded several nation-states including the first great Akan empire of the Bono which is now known as the ibalBrong Ahafo region in Ghana. Later Akan groups such as the Ashanti federation and Fante states are thought to possibly have roots in the original Bono settlement at Bono manso. Much of the area was united under the Empire of Ashanti by the 16th century. The Ashanti government operated first as a loose network and eventually as a centralized kingdom with an advanced', \" highly-specialized bureaucracy centered in Kumasi.'\", \" 'Ghana was inhabited in pre-colonial times by a number of ancient kingdoms\", ' including the Ga Adangbes on the eastern coast', ' inland Empire of Ashanti and various Fante states along the coast and inland. Trade with European states flourished after contact with the Portuguese in the 15th century', ' and the British established a crown colony', ' Gold Coast', ' in 1874. MacLean', ' Iain. Rational Choice and British Politics: An Analysis of Rhetoric and Manipulation from Peel to Blair', \" 2001. Page 76.'\", \" 'The Republic of Ghana is a country in West Africa. It borders CÃ´te d\\\\'Ivoire (also known as Ivory Coast) to the west\", ' Burkina Faso to the north', ' Togo to the east', ' and the Gulf of Guinea to the south. The word \"Ghana\" means \"Warrior King\"', ' Jackson', ' John G. Introduction to African Civilizations', ' 2001. Page 201.  and was the source of the name \"Guinea\" (via French Guinoye) used to refer to the West African coast (as in Gulf of Guinea).\\'', \" 'Map of Ghana'\", ' \"The first contact between the Ghanaian peoples', ' the Fantes on the coastal area and Europeans occurred in 1482. The Portuguese  first landed at Elmina', ' a coastal city inhabited by the Fanti nation-state in 1482. During the next few centuries parts of the area were controlled by British', ' Portuguese', ' and Scandinavian powers', ' with the British ultimately prevailing. These nation-states maintained varying alliances with the colonial powers and each other', ' which resulted in the 1806 Ashanti-Fante War', ' as well as an ongoing struggle by the Empire of Ashanti against the British. Moves toward regional de-colonization began in 1946', ' and the area\\'s first constitution was promulgated in 1951.\"', \" 'Regions of Ghana'\", \" 'Geographically\", ' the old Ghana is 500 miles north of the present Ghana', \" and occupied the area between Rivers Senegal and Niger.']\"]\n",
      "\n",
      "======================================================================\n",
      "\n",
      "Overall Metric Pass Rates\n",
      "\n",
      "Contextual Precision: 100.00% pass rate\n",
      "\n",
      "======================================================================\n",
      "\n"
     ]
    },
    {
     "name": "stderr",
     "output_type": "stream",
     "text": [
      "\n"
     ]
    },
    {
     "data": {
      "text/html": [
       "<pre style=\"white-space:pre;overflow-x:auto;line-height:normal;font-family:Menlo,'DejaVu Sans Mono',consolas,'Courier New',monospace\"><span style=\"color: #05f58d; text-decoration-color: #05f58d\">✓</span> Tests finished 🎉! Run <span style=\"color: #008000; text-decoration-color: #008000\">'deepeval login'</span> to save and analyze evaluation results on Confident AI.  \n",
       "‼️ Looking for a place for your LLM test data to live 🏡? Use Confident AI for test reports, benchmark analysis, \n",
       "compare models/prompts, and catch regressions for your LLM system.\n",
       "</pre>\n"
      ],
      "text/plain": [
       "\u001b[38;2;5;245;141m✓\u001b[0m Tests finished 🎉! Run \u001b[32m'deepeval login'\u001b[0m to save and analyze evaluation results on Confident AI.  \n",
       "‼️ Looking for a place for your LLM test data to live 🏡? Use Confident AI for test reports, benchmark analysis, \n",
       "compare models/prompts, and catch regressions for your LLM system.\n"
      ]
     },
     "metadata": {},
     "output_type": "display_data"
    },
    {
     "name": "stdout",
     "output_type": "stream",
     "text": [
      "282\n"
     ]
    },
    {
     "data": {
      "text/html": [
       "<pre style=\"white-space:pre;overflow-x:auto;line-height:normal;font-family:Menlo,'DejaVu Sans Mono',consolas,'Courier New',monospace\">✨ You're running DeepEval's latest <span style=\"color: #6a00ff; text-decoration-color: #6a00ff\">Contextual Precision Metric</span>! <span style=\"color: #374151; text-decoration-color: #374151; font-weight: bold\">(</span><span style=\"color: #374151; text-decoration-color: #374151\">using Gemini </span><span style=\"color: #374151; text-decoration-color: #374151; font-weight: bold\">1.5</span><span style=\"color: #374151; text-decoration-color: #374151\"> Flash, </span><span style=\"color: #374151; text-decoration-color: #374151\">strict</span><span style=\"color: #374151; text-decoration-color: #374151\">=</span><span style=\"color: #374151; text-decoration-color: #374151; font-style: italic\">False</span><span style=\"color: #374151; text-decoration-color: #374151\">, </span>\n",
       "<span style=\"color: #374151; text-decoration-color: #374151\">async_mode</span><span style=\"color: #374151; text-decoration-color: #374151\">=</span><span style=\"color: #374151; text-decoration-color: #374151; font-style: italic\">True</span><span style=\"color: #374151; text-decoration-color: #374151; font-weight: bold\">)</span><span style=\"color: #374151; text-decoration-color: #374151\">...</span>\n",
       "</pre>\n"
      ],
      "text/plain": [
       "✨ You're running DeepEval's latest \u001b[38;2;106;0;255mContextual Precision Metric\u001b[0m! \u001b[1;38;2;55;65;81m(\u001b[0m\u001b[38;2;55;65;81musing Gemini \u001b[0m\u001b[1;38;2;55;65;81m1.5\u001b[0m\u001b[38;2;55;65;81m Flash, \u001b[0m\u001b[38;2;55;65;81mstrict\u001b[0m\u001b[38;2;55;65;81m=\u001b[0m\u001b[3;38;2;55;65;81mFalse\u001b[0m\u001b[38;2;55;65;81m, \u001b[0m\n",
       "\u001b[38;2;55;65;81masync_mode\u001b[0m\u001b[38;2;55;65;81m=\u001b[0m\u001b[3;38;2;55;65;81mTrue\u001b[0m\u001b[1;38;2;55;65;81m)\u001b[0m\u001b[38;2;55;65;81m...\u001b[0m\n"
      ]
     },
     "metadata": {},
     "output_type": "display_data"
    },
    {
     "name": "stdout",
     "output_type": "stream",
     "text": [
      "Event loop is already running. Applying nest_asyncio patch to allow async execution...\n"
     ]
    },
    {
     "name": "stderr",
     "output_type": "stream",
     "text": [
      "Evaluating 1 test case(s) in parallel: |███████████████████████████████|100% (1/1) [Time Taken: 00:20, 20.02s/test case]"
     ]
    },
    {
     "name": "stdout",
     "output_type": "stream",
     "text": [
      "\n",
      "======================================================================\n",
      "\n",
      "Metrics Summary\n",
      "\n",
      "  - ✅ Contextual Precision (score: 1.0, threshold: 0.5, strict: False, evaluation model: Gemini 1.5 Flash, reason: None, error: None)\n",
      "\n",
      "For test case:\n",
      "\n",
      "  - input: What is the weather like at Lake Volta?\n",
      "  - actual output: The weather at Lake Volta is described as hot and humid, consistent with the tropical climate of the area.  More specific details on temperature and rainfall would require additional data.\n",
      "\n",
      "  - expected output: Warm and comparatively dry\n",
      "  - context: []\n",
      "  - retrieval context: ['[\"The climate is tropical. The eastern coastal belt is warm and comparatively dry (see Dahomey Gap); the southwest corner', ' hot and humid; and the north', ' hot and dry. Lake Volta', \" the world's largest artificial lake\", ' extends through large portions of eastern Ghana.\"', \" 'The coolest month is June\", ' while the warmest is January. The rainfall is equally distributed throughout the year', ' but tends to be a bit more frequent in the autumn months. There can be frequent thunderstorms in the summer. Although snow is not very common', ' it snowed in 1913', ' 1918', ' 1963', ' 1989', ' 1992', \" and 2007.'\", \" 'Ghana is a country located on the Gulf of Guinea\", ' only a few degrees north of the Equator', ' therefore giving it a warm climate. The Greenwich Meridian also passes through Ghana', ' specifically through the industrial city of Ghana-Tema; so it is said that Ghana is geographically closer to the \"center\" of the world than any other country. La Cote d\\\\\\'Ivoire is located to the west of Ghana while Burkina Faso and Togo are located to its north and east respectively. The coastline is mostly a low', ' sandy shore backed by plains and scrub and intersected by several rivers and streams. A tropical rain forest belt', ' broken by heavily forested hills and many streams and rivers', ' extends northward from the shore. North of this belt', ' the land is covered by low bush', ' park-like savannah', \" and grassy plains.'\", \" 'Lake Bucura in the Retezat Mountains'\", \" 'It receives the periodic influence of the polar air in winter\", ' and tropical air from Brazil in summer. Without mountains in  zone that act as a barrier', ' the air masses freely move by the territory', \" causing abrupt weather changes.'\", \" 'Volta entered retirement in Spain.'\", \" 'Lying along the equator\", ' Indonesia has a tropical climate', ' with two distinct monsoonal wet and dry seasons. Average annual rainfall in the lowlands varies from 1', '780â\\\\x80\\\\x933', '175 millimeters (70â\\\\x80\\\\x93125 in)', ' and up to 6', '100 millimeters (240 in) in mountainous regions. Mountainous areas particularly in the west coast of Sumatra', ' West Java', ' Kalimantan', ' Sulawesi', ' and Papua receive the highest rainfall. Humidity is generally high', \" averaging about 80%. Temperatures vary little throughout the year; the average daily temperature range of Jakarta is 26â\\\\x80\\\\x9330 Â°C (79â\\\\x80\\\\x9386 Â°F).'\", \" 'Owing to its distance from the open sea\", ' Romania has a moderate continental climate. Summers are generally very warm to hot', ' with summer (June to August) average maximum temperatures in Bucharest being around 28 Â°C', '  WorldTravels on the monthly average climate parameters in Bucharest  with temperatures over 35 Â°C fairly common in the lower-lying areas of the country. Minima in Bucharest and other lower-lying areas are around 16 Â°C', ' but at higher altitudes both maxima and minima decline considerably. On the Romanian seaside the climate is slightly warmer (in annual average) and also less prone to extreme phenomena like summer heatwaves and winter severe cold spells. Winters are cold', ' with average maxima even in lower-lying areas being no more than 2 Â°C (36 Â°F) and below -15 Â°C (5 Â°F) in the highest mountains', \" where some areas of permafrost occur on the highest peaks.'\", \" 'Map of Ghana'\", \" 'Temperatures average between   and   in summer\", ' and up to   on the Red Sea coast. Temperatures average between   and   in winter. A steady wind from the northwest helps hold down the temperature near the Mediterranean coast. The Khamaseen is a wind that blows from the south in Egypt in spring', ' bringing sand and dust', \" and sometimes raises the temperature in the desert to more than  .']\"]\n",
      "\n",
      "======================================================================\n",
      "\n",
      "Overall Metric Pass Rates\n",
      "\n",
      "Contextual Precision: 100.00% pass rate\n",
      "\n",
      "======================================================================\n",
      "\n"
     ]
    },
    {
     "name": "stderr",
     "output_type": "stream",
     "text": [
      "\n"
     ]
    },
    {
     "data": {
      "text/html": [
       "<pre style=\"white-space:pre;overflow-x:auto;line-height:normal;font-family:Menlo,'DejaVu Sans Mono',consolas,'Courier New',monospace\"><span style=\"color: #05f58d; text-decoration-color: #05f58d\">✓</span> Tests finished 🎉! Run <span style=\"color: #008000; text-decoration-color: #008000\">'deepeval login'</span> to save and analyze evaluation results on Confident AI.  \n",
       "‼️ Looking for a place for your LLM test data to live 🏡? Use Confident AI for test reports, benchmark analysis, \n",
       "compare models/prompts, and catch regressions for your LLM system.\n",
       "</pre>\n"
      ],
      "text/plain": [
       "\u001b[38;2;5;245;141m✓\u001b[0m Tests finished 🎉! Run \u001b[32m'deepeval login'\u001b[0m to save and analyze evaluation results on Confident AI.  \n",
       "‼️ Looking for a place for your LLM test data to live 🏡? Use Confident AI for test reports, benchmark analysis, \n",
       "compare models/prompts, and catch regressions for your LLM system.\n"
      ]
     },
     "metadata": {},
     "output_type": "display_data"
    },
    {
     "name": "stdout",
     "output_type": "stream",
     "text": [
      "283\n"
     ]
    },
    {
     "data": {
      "text/html": [
       "<pre style=\"white-space:pre;overflow-x:auto;line-height:normal;font-family:Menlo,'DejaVu Sans Mono',consolas,'Courier New',monospace\">✨ You're running DeepEval's latest <span style=\"color: #6a00ff; text-decoration-color: #6a00ff\">Contextual Precision Metric</span>! <span style=\"color: #374151; text-decoration-color: #374151; font-weight: bold\">(</span><span style=\"color: #374151; text-decoration-color: #374151\">using Gemini </span><span style=\"color: #374151; text-decoration-color: #374151; font-weight: bold\">1.5</span><span style=\"color: #374151; text-decoration-color: #374151\"> Flash, </span><span style=\"color: #374151; text-decoration-color: #374151\">strict</span><span style=\"color: #374151; text-decoration-color: #374151\">=</span><span style=\"color: #374151; text-decoration-color: #374151; font-style: italic\">False</span><span style=\"color: #374151; text-decoration-color: #374151\">, </span>\n",
       "<span style=\"color: #374151; text-decoration-color: #374151\">async_mode</span><span style=\"color: #374151; text-decoration-color: #374151\">=</span><span style=\"color: #374151; text-decoration-color: #374151; font-style: italic\">True</span><span style=\"color: #374151; text-decoration-color: #374151; font-weight: bold\">)</span><span style=\"color: #374151; text-decoration-color: #374151\">...</span>\n",
       "</pre>\n"
      ],
      "text/plain": [
       "✨ You're running DeepEval's latest \u001b[38;2;106;0;255mContextual Precision Metric\u001b[0m! \u001b[1;38;2;55;65;81m(\u001b[0m\u001b[38;2;55;65;81musing Gemini \u001b[0m\u001b[1;38;2;55;65;81m1.5\u001b[0m\u001b[38;2;55;65;81m Flash, \u001b[0m\u001b[38;2;55;65;81mstrict\u001b[0m\u001b[38;2;55;65;81m=\u001b[0m\u001b[3;38;2;55;65;81mFalse\u001b[0m\u001b[38;2;55;65;81m, \u001b[0m\n",
       "\u001b[38;2;55;65;81masync_mode\u001b[0m\u001b[38;2;55;65;81m=\u001b[0m\u001b[3;38;2;55;65;81mTrue\u001b[0m\u001b[1;38;2;55;65;81m)\u001b[0m\u001b[38;2;55;65;81m...\u001b[0m\n"
      ]
     },
     "metadata": {},
     "output_type": "display_data"
    },
    {
     "name": "stdout",
     "output_type": "stream",
     "text": [
      "Event loop is already running. Applying nest_asyncio patch to allow async execution...\n"
     ]
    },
    {
     "name": "stderr",
     "output_type": "stream",
     "text": [
      "Evaluating 1 test case(s) in parallel: |███████████████████████████████|100% (1/1) [Time Taken: 00:20, 20.01s/test case]"
     ]
    },
    {
     "name": "stdout",
     "output_type": "stream",
     "text": [
      "\n",
      "======================================================================\n",
      "\n",
      "Metrics Summary\n",
      "\n",
      "  - ✅ Contextual Precision (score: 0.9213664274366018, threshold: 0.5, strict: False, evaluation model: Gemini 1.5 Flash, reason: None, error: None)\n",
      "\n",
      "For test case:\n",
      "\n",
      "  - input: Is Ghana in Asia?\n",
      "  - actual output: No, Ghana is in Africa.\n",
      "\n",
      "  - expected output: no\n",
      "  - context: []\n",
      "  - retrieval context: [\"['Ghana is a country located on the Gulf of Guinea\", ' only a few degrees north of the Equator', ' therefore giving it a warm climate. The Greenwich Meridian also passes through Ghana', ' specifically through the industrial city of Ghana-Tema; so it is said that Ghana is geographically closer to the \"center\" of the world than any other country. La Cote d\\\\\\'Ivoire is located to the west of Ghana while Burkina Faso and Togo are located to its north and east respectively. The coastline is mostly a low', ' sandy shore backed by plains and scrub and intersected by several rivers and streams. A tropical rain forest belt', ' broken by heavily forested hills and many streams and rivers', ' extends northward from the shore. North of this belt', ' the land is covered by low bush', ' park-like savannah', \" and grassy plains.'\", \" 'The Republic of Ghana is a country in West Africa. It borders CÃ´te d\\\\'Ivoire (also known as Ivory Coast) to the west\", ' Burkina Faso to the north', ' Togo to the east', ' and the Gulf of Guinea to the south. The word \"Ghana\" means \"Warrior King\"', ' Jackson', ' John G. Introduction to African Civilizations', ' 2001. Page 201.  and was the source of the name \"Guinea\" (via French Guinoye) used to refer to the West African coast (as in Gulf of Guinea).\\'', \" 'Map of Ghana'\", \" 'Ghana was inhabited in pre-colonial times by a number of ancient kingdoms\", ' including the Ga Adangbes on the eastern coast', ' inland Empire of Ashanti and various Fante states along the coast and inland. Trade with European states flourished after contact with the Portuguese in the 15th century', ' and the British established a crown colony', ' Gold Coast', ' in 1874. MacLean', ' Iain. Rational Choice and British Politics: An Analysis of Rhetoric and Manipulation from Peel to Blair', \" 2001. Page 76.'\", \" 'Ghana is a republic and member of the Commonwealth of Nations. Its head of state is President John Agyekum Kufuor\", ' the ninth leader of the country since independence. The government sits at Osu Castle. The Parliament of Ghana is unicameral and dominated by two main parties', \" the New Patriotic Party and National Democratic Congress.'\", ' \"The first contact between the Ghanaian peoples', ' the Fantes on the coastal area and Europeans occurred in 1482. The Portuguese  first landed at Elmina', ' a coastal city inhabited by the Fanti nation-state in 1482. During the next few centuries parts of the area were controlled by British', ' Portuguese', ' and Scandinavian powers', ' with the British ultimately prevailing. These nation-states maintained varying alliances with the colonial powers and each other', ' which resulted in the 1806 Ashanti-Fante War', ' as well as an ongoing struggle by the Empire of Ashanti against the British. Moves toward regional de-colonization began in 1946', ' and the area\\'s first constitution was promulgated in 1951.\"', \" 'Ghana was also the site of the Empire of Ashanti which was the most advanced black state in sub-Sahara Africa. It is said that at its peak\", ' the King of Ashanti could field 500', \"000 troops.'\", \" 'Ghana is a divided into 10 regions\", \" subdivided into a total of 138 districts. The regions are:'\", \" 'Regions of Ghana'\", \" 'Geographically\", ' the old Ghana is 500 miles north of the present Ghana', \" and occupied the area between Rivers Senegal and Niger.']\"]\n",
      "\n",
      "======================================================================\n",
      "\n",
      "Overall Metric Pass Rates\n",
      "\n",
      "Contextual Precision: 100.00% pass rate\n",
      "\n",
      "======================================================================\n",
      "\n"
     ]
    },
    {
     "name": "stderr",
     "output_type": "stream",
     "text": [
      "\n"
     ]
    },
    {
     "data": {
      "text/html": [
       "<pre style=\"white-space:pre;overflow-x:auto;line-height:normal;font-family:Menlo,'DejaVu Sans Mono',consolas,'Courier New',monospace\"><span style=\"color: #05f58d; text-decoration-color: #05f58d\">✓</span> Tests finished 🎉! Run <span style=\"color: #008000; text-decoration-color: #008000\">'deepeval login'</span> to save and analyze evaluation results on Confident AI.  \n",
       "‼️ Looking for a place for your LLM test data to live 🏡? Use Confident AI for test reports, benchmark analysis, \n",
       "compare models/prompts, and catch regressions for your LLM system.\n",
       "</pre>\n"
      ],
      "text/plain": [
       "\u001b[38;2;5;245;141m✓\u001b[0m Tests finished 🎉! Run \u001b[32m'deepeval login'\u001b[0m to save and analyze evaluation results on Confident AI.  \n",
       "‼️ Looking for a place for your LLM test data to live 🏡? Use Confident AI for test reports, benchmark analysis, \n",
       "compare models/prompts, and catch regressions for your LLM system.\n"
      ]
     },
     "metadata": {},
     "output_type": "display_data"
    },
    {
     "name": "stdout",
     "output_type": "stream",
     "text": [
      "284\n"
     ]
    },
    {
     "data": {
      "text/html": [
       "<pre style=\"white-space:pre;overflow-x:auto;line-height:normal;font-family:Menlo,'DejaVu Sans Mono',consolas,'Courier New',monospace\">✨ You're running DeepEval's latest <span style=\"color: #6a00ff; text-decoration-color: #6a00ff\">Contextual Precision Metric</span>! <span style=\"color: #374151; text-decoration-color: #374151; font-weight: bold\">(</span><span style=\"color: #374151; text-decoration-color: #374151\">using Gemini </span><span style=\"color: #374151; text-decoration-color: #374151; font-weight: bold\">1.5</span><span style=\"color: #374151; text-decoration-color: #374151\"> Flash, </span><span style=\"color: #374151; text-decoration-color: #374151\">strict</span><span style=\"color: #374151; text-decoration-color: #374151\">=</span><span style=\"color: #374151; text-decoration-color: #374151; font-style: italic\">False</span><span style=\"color: #374151; text-decoration-color: #374151\">, </span>\n",
       "<span style=\"color: #374151; text-decoration-color: #374151\">async_mode</span><span style=\"color: #374151; text-decoration-color: #374151\">=</span><span style=\"color: #374151; text-decoration-color: #374151; font-style: italic\">True</span><span style=\"color: #374151; text-decoration-color: #374151; font-weight: bold\">)</span><span style=\"color: #374151; text-decoration-color: #374151\">...</span>\n",
       "</pre>\n"
      ],
      "text/plain": [
       "✨ You're running DeepEval's latest \u001b[38;2;106;0;255mContextual Precision Metric\u001b[0m! \u001b[1;38;2;55;65;81m(\u001b[0m\u001b[38;2;55;65;81musing Gemini \u001b[0m\u001b[1;38;2;55;65;81m1.5\u001b[0m\u001b[38;2;55;65;81m Flash, \u001b[0m\u001b[38;2;55;65;81mstrict\u001b[0m\u001b[38;2;55;65;81m=\u001b[0m\u001b[3;38;2;55;65;81mFalse\u001b[0m\u001b[38;2;55;65;81m, \u001b[0m\n",
       "\u001b[38;2;55;65;81masync_mode\u001b[0m\u001b[38;2;55;65;81m=\u001b[0m\u001b[3;38;2;55;65;81mTrue\u001b[0m\u001b[1;38;2;55;65;81m)\u001b[0m\u001b[38;2;55;65;81m...\u001b[0m\n"
      ]
     },
     "metadata": {},
     "output_type": "display_data"
    },
    {
     "name": "stdout",
     "output_type": "stream",
     "text": [
      "Event loop is already running. Applying nest_asyncio patch to allow async execution...\n"
     ]
    },
    {
     "name": "stderr",
     "output_type": "stream",
     "text": [
      "Evaluating 1 test case(s) in parallel: |███████████████████████████████|100% (1/1) [Time Taken: 00:20, 20.02s/test case]"
     ]
    },
    {
     "name": "stdout",
     "output_type": "stream",
     "text": [
      "\n",
      "======================================================================\n",
      "\n",
      "Metrics Summary\n",
      "\n",
      "  - ✅ Contextual Precision (score: 1.0, threshold: 0.5, strict: False, evaluation model: Gemini 1.5 Flash, reason: None, error: None)\n",
      "\n",
      "For test case:\n",
      "\n",
      "  - input: Is English the official language?\n",
      "  - actual output: Yes, English is the official language of Ghana.\n",
      "\n",
      "  - expected output: yes\n",
      "  - context: []\n",
      "  - retrieval context: ['[\"Canada\\'s two official languages are  English and French. Official Bilingualism in Canada is law', ' defined in the Canadian Charter of Rights and Freedoms', ' the Official Languages Act', ' and Official Language Regulations; it is applied by the Commissioner of Official Languages. English and French have equal status in federal courts', ' Parliament', ' and in all federal institutions. The public has the right', ' where there is sufficient demand', ' to receive federal government services in either English or French', ' and official language minorities are guaranteed their own schools in all provinces and territories.\"', \" 'The national language of Singapore is Malay for historical reasons\", ' and it is used in the national anthem', ' \"Majulah Singapura\". The official languages are English', ' Mandarin', \" Malay and Tamil. English has been promoted as the country\\\\'s language of administration since independence. The English used is primarily based on British English\", ' with some American English influences.  The use of English became widespread in Singapore after it was implemented as a first language medium in the education system', ' and English is the most common language in Singaporean literature.  Public signs and official publications are in English', ' although there are translated versions in other official languages. However', ' the majority of the population speak a localised hybrid form of English known as Singlish (\"Singapore English\")', ' which has many creole-like characteristics', ' incorporating vocabulary and grammar from Standard English', ' various Chinese dialects', ' Malay and Indian languages. The government has consistently tried to discourage the use of Singlish in its \"Speak Good English\" campaigns.\\'', \" 'English and French are the mother tongues of 59.7% and 23.2% of the population respectively\", '    and the languages most spoken at home by 68.3% and 22.3% of the population respectively.    98.5% of Canadians speak English or French (English only: 67.5%', ' French only: 13.3%', ' both: 17.7%).    English and French Official Language Communities', ' defined by First Official Language Spoken', \" constitute 73.0% and 23.6% of the population.'\", ' \"Although 85% of French-speaking Canadians live in Quebec', ' there are substantial Francophone populations in Ontario', ' Alberta and southern Manitoba', \" with an Acadian population in the northern and southeastern parts of New Brunswick constituting 35% of that province's population as well as concentrations in Southwestern Nova Scotia and on Cape Breton Island. Ontario has the largest French-speaking population outside Quebec. The Charter of the French Language in Quebec makes French the official language in Quebec\", ' and New Brunswick is the only province to have a statement of official bilingualism in the constitution.    Other provinces   have no official language(s) as such', ' but French is used as a language of instruction', ' in courts', ' and other government services in addition to English. Manitoba', ' Ontario and Quebec allow for both English and French to be spoken in the provincial legislatures', ' and laws are enacted in both languages. In Ontario', ' French has some legal status but is not fully co-official. Several aboriginal languages have official status in Northwest Territories. Inuktitut is the majority language in Nunavut', ' and one of three official languages in the territory.\"', \" 'A federation now comprising ten provinces and three territories\", ' Canada is a parliamentary democracy and a constitutional monarchy with Queen Elizabeth II as its head of state. It is a bilingual and multicultural country', ' with both English and French as official languages at the federal level. Technologically advanced and industrialized', ' Canada maintains a diversified economy that is heavily reliant upon its abundant natural resources and upon tradeâ\\\\x80\\\\x94particularly with the United States', \" with which Canada has had a long and complex relationship.'\", ' \"More than 100 languages and dialects are spoken in Ghana. English is the country\\'s official language and predominates government and business affairs. It is also the standard language used for educational instruction. Native Ghanaian languages are divided into two linguistic subfamilies of the Niger-Congo language family. Languages belonging to the Kwa subfamily are found predominantly to the south of the Volta River', ' while those belonging to the Gur subfamily are found predominantly to the north. The Kwa group', \" which is spoken by about 75% of the country's population\", ' includes the Akan', ' Ga-Dangme', ' and Ewe languages. The Gur group includes the Gurma', ' Grusi', ' and Dagbani languages.\"', ' \"The official language of Romania is Romanian', ' an Eastern Romance language related to Italian', ' French', ' Spanish', ' Portuguese and Catalan. Romanian is spoken as a first language by 91% of the population', ' with Hungarian and Romani being the most important minority languages', ' spoken by 6.7% and 1.1% of the population', ' respectively.  Until the 1990s', ' there was also a substantial number of German-speaking Transylvanian Saxons', ' even though many have since emigrated to Germany', ' leaving only 45', '000 native German speakers in Romania. In localities where a given ethnic minority makes up more than 20% of the population', \" that minority's language can be used in the public administration and justice system\", ' while native-language education and signage is also provided. English and French are the main foreign languages taught in schools. English is spoken by 5 million Romanians', ' French is spoken by 4-5 million', ' and German', ' Italian and Spanish are each spoken by 1-2 million people.   Outsourcing IT Ã®n RomÃ¢nia', ' Owners Association of the Software and Service Industry', ' retrieved November 13 2005  Historically', ' French was the predominant foreign language spoken in Romania', ' even though English has since superseded it. Consequently', ' Romanian English-speakers tend to be younger than Romanian French-speakers. Romania is', ' however', ' a full member of La Francophonie', ' and hosted the Francophonie Summit in 2006.   Chronology of the International Organization La Francophonie  German has been taught predominantly in Transylvania', ' due to traditions tracing back to the Austro-Hungarian rule in this province.\"', \" 'The official national language\", ' Indonesian', ' is universally taught in schools', ' and is spoken by nearly every Indonesian. It is the language of business', ' politics', ' national media', ' education', ' and academia. It was originally a lingua franca for most of the region', ' including present-day Malaysia', ' and is thus closely related to Malay. Indonesian was first promoted by nationalists in the 1920s', ' and declared the official language on independence in 1945. Most Indonesians speak at least one of the several hundred local languages (bahasa daerah)', ' often as their first language. Of these', ' Javanese is the most widely-spoken', ' the language of the largest ethnic group.  - The World Factbook. Retrieved on August 14', ' 2007.   On the other hand', ' Papua has 500 or more indigenous Papuan and Austronesian languages', \" in a region of just 2.7 million people.'\", ' \"Nine languages have the status of government-sponsored languages: Akan', ' Dagaare/Wale', ' Dagbani', ' Dangme', ' Ewe', ' Ga', ' Gonja', ' Kasem', ' and Nzema. Though not an official language', \" Hausa is the lingua-franca spoken among Ghana's Muslims\", ' who comprise about 14% of the population.\"', \" 'Non-official languages are important in Canada\", ' with 5', '202', '245 people listing one as a first language.  Some significant non-official first languages include Chinese (853', '745 first-language speakers)', ' Italian (469', '485)', ' German (438', '080)', ' and Punjabi (271', \"220).']\"]\n",
      "\n",
      "======================================================================\n",
      "\n",
      "Overall Metric Pass Rates\n",
      "\n",
      "Contextual Precision: 100.00% pass rate\n",
      "\n",
      "======================================================================\n",
      "\n"
     ]
    },
    {
     "name": "stderr",
     "output_type": "stream",
     "text": [
      "\n"
     ]
    },
    {
     "data": {
      "text/html": [
       "<pre style=\"white-space:pre;overflow-x:auto;line-height:normal;font-family:Menlo,'DejaVu Sans Mono',consolas,'Courier New',monospace\"><span style=\"color: #05f58d; text-decoration-color: #05f58d\">✓</span> Tests finished 🎉! Run <span style=\"color: #008000; text-decoration-color: #008000\">'deepeval login'</span> to save and analyze evaluation results on Confident AI.  \n",
       "‼️ Looking for a place for your LLM test data to live 🏡? Use Confident AI for test reports, benchmark analysis, \n",
       "compare models/prompts, and catch regressions for your LLM system.\n",
       "</pre>\n"
      ],
      "text/plain": [
       "\u001b[38;2;5;245;141m✓\u001b[0m Tests finished 🎉! Run \u001b[32m'deepeval login'\u001b[0m to save and analyze evaluation results on Confident AI.  \n",
       "‼️ Looking for a place for your LLM test data to live 🏡? Use Confident AI for test reports, benchmark analysis, \n",
       "compare models/prompts, and catch regressions for your LLM system.\n"
      ]
     },
     "metadata": {},
     "output_type": "display_data"
    },
    {
     "name": "stdout",
     "output_type": "stream",
     "text": [
      "285\n"
     ]
    },
    {
     "data": {
      "text/html": [
       "<pre style=\"white-space:pre;overflow-x:auto;line-height:normal;font-family:Menlo,'DejaVu Sans Mono',consolas,'Courier New',monospace\">✨ You're running DeepEval's latest <span style=\"color: #6a00ff; text-decoration-color: #6a00ff\">Contextual Precision Metric</span>! <span style=\"color: #374151; text-decoration-color: #374151; font-weight: bold\">(</span><span style=\"color: #374151; text-decoration-color: #374151\">using Gemini </span><span style=\"color: #374151; text-decoration-color: #374151; font-weight: bold\">1.5</span><span style=\"color: #374151; text-decoration-color: #374151\"> Flash, </span><span style=\"color: #374151; text-decoration-color: #374151\">strict</span><span style=\"color: #374151; text-decoration-color: #374151\">=</span><span style=\"color: #374151; text-decoration-color: #374151; font-style: italic\">False</span><span style=\"color: #374151; text-decoration-color: #374151\">, </span>\n",
       "<span style=\"color: #374151; text-decoration-color: #374151\">async_mode</span><span style=\"color: #374151; text-decoration-color: #374151\">=</span><span style=\"color: #374151; text-decoration-color: #374151; font-style: italic\">True</span><span style=\"color: #374151; text-decoration-color: #374151; font-weight: bold\">)</span><span style=\"color: #374151; text-decoration-color: #374151\">...</span>\n",
       "</pre>\n"
      ],
      "text/plain": [
       "✨ You're running DeepEval's latest \u001b[38;2;106;0;255mContextual Precision Metric\u001b[0m! \u001b[1;38;2;55;65;81m(\u001b[0m\u001b[38;2;55;65;81musing Gemini \u001b[0m\u001b[1;38;2;55;65;81m1.5\u001b[0m\u001b[38;2;55;65;81m Flash, \u001b[0m\u001b[38;2;55;65;81mstrict\u001b[0m\u001b[38;2;55;65;81m=\u001b[0m\u001b[3;38;2;55;65;81mFalse\u001b[0m\u001b[38;2;55;65;81m, \u001b[0m\n",
       "\u001b[38;2;55;65;81masync_mode\u001b[0m\u001b[38;2;55;65;81m=\u001b[0m\u001b[3;38;2;55;65;81mTrue\u001b[0m\u001b[1;38;2;55;65;81m)\u001b[0m\u001b[38;2;55;65;81m...\u001b[0m\n"
      ]
     },
     "metadata": {},
     "output_type": "display_data"
    },
    {
     "name": "stdout",
     "output_type": "stream",
     "text": [
      "Event loop is already running. Applying nest_asyncio patch to allow async execution...\n"
     ]
    },
    {
     "name": "stderr",
     "output_type": "stream",
     "text": [
      "Evaluating 1 test case(s) in parallel: |███████████████████████████████|100% (1/1) [Time Taken: 00:20, 20.02s/test case]"
     ]
    },
    {
     "name": "stdout",
     "output_type": "stream",
     "text": [
      "\n",
      "======================================================================\n",
      "\n",
      "Metrics Summary\n",
      "\n",
      "  - ✅ Contextual Precision (score: 1.0, threshold: 0.5, strict: False, evaluation model: Gemini 1.5 Flash, reason: None, error: None)\n",
      "\n",
      "For test case:\n",
      "\n",
      "  - input: Is Ghana's head of state John Agyekum Kufuor?\n",
      "  - actual output: While the text mentions John Agyekum Kufuor as the head of state, that information is outdated.  He was the head of state at the time the text was written, but that is no longer the case.  To find the current head of state, a more recent source is needed.\n",
      "\n",
      "  - expected output: yes\n",
      "  - context: []\n",
      "  - retrieval context: [\"['Ghana is a republic and member of the Commonwealth of Nations. Its head of state is President John Agyekum Kufuor\", ' the ninth leader of the country since independence. The government sits at Osu Castle. The Parliament of Ghana is unicameral and dominated by two main parties', \" the New Patriotic Party and National Democratic Congress.'\", \" 'Formed from the merger of the British colony Gold Coast\", ' The Empire of Ashanti and the British Togoland trust territory by a UN sponsored plebiscite', ' Ghana became the first democratic sub-Sahara country in colonial Africa to gain its independence in 1957. Kwame Nkrumah', ' founder and first president of the modern Ghanaian state', ' was not only an African anti-colonial leader but also one with a dream of a united Africa which would not drift into neo-colonialism. He was the first African head of state to espouse Pan-Africanism', ' an idea he came into contact with during his studies at Lincoln University in Pennsylvania (United States)', ' at the time when Marcus Garvey was becoming famous for his \"Back to Africa Movement.\" He merged the dreams of both Marcus Garvey and the celebrated African-American scholar W.E.B. Du Bois into the formation of the modern day Ghana. Ghana\\\\\\'s principles of freedom and justice', ' equity and free education for all', ' irrespective of ethnic background', \" religion or creed borrow from Osagyefo Dr Kwame Nkrumah\\\\'s implementation of Pan-Africanism.'\", ' \"Nkrumah was overthrown by a supported CIA-backed coup Interview with John Stockwell in Pandora\\'s Box: Black Power (Adam Curtis', ' BBC Two', ' 22 June 1992)        On Nkrumah assassination by CIA: Gaines', ' Kevin (2006) American Africans in Ghana', ' Black expatriates and the Civil Rights Era', ' The University of North Carolina Press', ' Chapel Hill. . A series of subsequent coups ended with the ascension to power of Flight Lieutenant Jerry Rawlings in 1981. These changes resulted in the suspension of the constitution in 1981 and the banning of political parties. A new constitution', ' restoring multi-party politics', ' was promulgated in 1992', ' and Rawlings was elected as president in the free and fair elections of that year and again won the elections 1996 to serve his second term. The constitution prohibited him from running for a third term. John Kufuor', ' the current president', ' is now serving his second term', \" which ends in 2008 where another election will be held to elect a new president. The year 2007 marks Ghana's Golden Jubilee celebration of its 50-year anniversary\", ' which was on March 6th', ' 1957.\"', \" 'Ghana was inhabited in pre-colonial times by a number of ancient kingdoms\", ' including the Ga Adangbes on the eastern coast', ' inland Empire of Ashanti and various Fante states along the coast and inland. Trade with European states flourished after contact with the Portuguese in the 15th century', ' and the British established a crown colony', ' Gold Coast', ' in 1874. MacLean', ' Iain. Rational Choice and British Politics: An Analysis of Rhetoric and Manipulation from Peel to Blair', \" 2001. Page 76.'\", \" 'The Republic of Ghana is a country in West Africa. It borders CÃ´te d\\\\'Ivoire (also known as Ivory Coast) to the west\", ' Burkina Faso to the north', ' Togo to the east', ' and the Gulf of Guinea to the south. The word \"Ghana\" means \"Warrior King\"', ' Jackson', ' John G. Introduction to African Civilizations', ' 2001. Page 201.  and was the source of the name \"Guinea\" (via French Guinoye) used to refer to the West African coast (as in Gulf of Guinea).\\'', \" 'Ghana is a country located on the Gulf of Guinea\", ' only a few degrees north of the Equator', ' therefore giving it a warm climate. The Greenwich Meridian also passes through Ghana', ' specifically through the industrial city of Ghana-Tema; so it is said that Ghana is geographically closer to the \"center\" of the world than any other country. La Cote d\\\\\\'Ivoire is located to the west of Ghana while Burkina Faso and Togo are located to its north and east respectively. The coastline is mostly a low', ' sandy shore backed by plains and scrub and intersected by several rivers and streams. A tropical rain forest belt', ' broken by heavily forested hills and many streams and rivers', ' extends northward from the shore. North of this belt', ' the land is covered by low bush', ' park-like savannah', \" and grassy plains.'\", \" 'Map of Ghana'\", \" 'Upon achieving independence from the United Kingdom in 1957\", ' Peter N. Stearns and William Leonard Langer. The Encyclopedia of World History: Ancient', ' Medieval', ' and Modern', ' Chronologically Arranged', \" 2001. Page 1050.  the name Ghana was chosen for the new nation to reflect the ancient Empire of Ghana that once extended throughout much of western Africa.'\", ' \"The first contact between the Ghanaian peoples', ' the Fantes on the coastal area and Europeans occurred in 1482. The Portuguese  first landed at Elmina', ' a coastal city inhabited by the Fanti nation-state in 1482. During the next few centuries parts of the area were controlled by British', ' Portuguese', ' and Scandinavian powers', ' with the British ultimately prevailing. These nation-states maintained varying alliances with the colonial powers and each other', ' which resulted in the 1806 Ashanti-Fante War', ' as well as an ongoing struggle by the Empire of Ashanti against the British. Moves toward regional de-colonization began in 1946', ' and the area\\'s first constitution was promulgated in 1951.\"', ' \"More than 100 languages and dialects are spoken in Ghana. English is the country\\'s official language and predominates government and business affairs. It is also the standard language used for educational instruction. Native Ghanaian languages are divided into two linguistic subfamilies of the Niger-Congo language family. Languages belonging to the Kwa subfamily are found predominantly to the south of the Volta River', ' while those belonging to the Gur subfamily are found predominantly to the north. The Kwa group', \" which is spoken by about 75% of the country's population\", ' includes the Akan', ' Ga-Dangme', ' and Ewe languages. The Gur group includes the Gurma', ' Grusi', ' and Dagbani languages.\"]']\n",
      "\n",
      "======================================================================\n",
      "\n",
      "Overall Metric Pass Rates\n",
      "\n",
      "Contextual Precision: 100.00% pass rate\n",
      "\n",
      "======================================================================\n",
      "\n"
     ]
    },
    {
     "name": "stderr",
     "output_type": "stream",
     "text": [
      "\n"
     ]
    },
    {
     "data": {
      "text/html": [
       "<pre style=\"white-space:pre;overflow-x:auto;line-height:normal;font-family:Menlo,'DejaVu Sans Mono',consolas,'Courier New',monospace\"><span style=\"color: #05f58d; text-decoration-color: #05f58d\">✓</span> Tests finished 🎉! Run <span style=\"color: #008000; text-decoration-color: #008000\">'deepeval login'</span> to save and analyze evaluation results on Confident AI.  \n",
       "‼️ Looking for a place for your LLM test data to live 🏡? Use Confident AI for test reports, benchmark analysis, \n",
       "compare models/prompts, and catch regressions for your LLM system.\n",
       "</pre>\n"
      ],
      "text/plain": [
       "\u001b[38;2;5;245;141m✓\u001b[0m Tests finished 🎉! Run \u001b[32m'deepeval login'\u001b[0m to save and analyze evaluation results on Confident AI.  \n",
       "‼️ Looking for a place for your LLM test data to live 🏡? Use Confident AI for test reports, benchmark analysis, \n",
       "compare models/prompts, and catch regressions for your LLM system.\n"
      ]
     },
     "metadata": {},
     "output_type": "display_data"
    },
    {
     "name": "stdout",
     "output_type": "stream",
     "text": [
      "286\n"
     ]
    },
    {
     "data": {
      "text/html": [
       "<pre style=\"white-space:pre;overflow-x:auto;line-height:normal;font-family:Menlo,'DejaVu Sans Mono',consolas,'Courier New',monospace\">✨ You're running DeepEval's latest <span style=\"color: #6a00ff; text-decoration-color: #6a00ff\">Contextual Precision Metric</span>! <span style=\"color: #374151; text-decoration-color: #374151; font-weight: bold\">(</span><span style=\"color: #374151; text-decoration-color: #374151\">using Gemini </span><span style=\"color: #374151; text-decoration-color: #374151; font-weight: bold\">1.5</span><span style=\"color: #374151; text-decoration-color: #374151\"> Flash, </span><span style=\"color: #374151; text-decoration-color: #374151\">strict</span><span style=\"color: #374151; text-decoration-color: #374151\">=</span><span style=\"color: #374151; text-decoration-color: #374151; font-style: italic\">False</span><span style=\"color: #374151; text-decoration-color: #374151\">, </span>\n",
       "<span style=\"color: #374151; text-decoration-color: #374151\">async_mode</span><span style=\"color: #374151; text-decoration-color: #374151\">=</span><span style=\"color: #374151; text-decoration-color: #374151; font-style: italic\">True</span><span style=\"color: #374151; text-decoration-color: #374151; font-weight: bold\">)</span><span style=\"color: #374151; text-decoration-color: #374151\">...</span>\n",
       "</pre>\n"
      ],
      "text/plain": [
       "✨ You're running DeepEval's latest \u001b[38;2;106;0;255mContextual Precision Metric\u001b[0m! \u001b[1;38;2;55;65;81m(\u001b[0m\u001b[38;2;55;65;81musing Gemini \u001b[0m\u001b[1;38;2;55;65;81m1.5\u001b[0m\u001b[38;2;55;65;81m Flash, \u001b[0m\u001b[38;2;55;65;81mstrict\u001b[0m\u001b[38;2;55;65;81m=\u001b[0m\u001b[3;38;2;55;65;81mFalse\u001b[0m\u001b[38;2;55;65;81m, \u001b[0m\n",
       "\u001b[38;2;55;65;81masync_mode\u001b[0m\u001b[38;2;55;65;81m=\u001b[0m\u001b[3;38;2;55;65;81mTrue\u001b[0m\u001b[1;38;2;55;65;81m)\u001b[0m\u001b[38;2;55;65;81m...\u001b[0m\n"
      ]
     },
     "metadata": {},
     "output_type": "display_data"
    },
    {
     "name": "stdout",
     "output_type": "stream",
     "text": [
      "Event loop is already running. Applying nest_asyncio patch to allow async execution...\n"
     ]
    },
    {
     "name": "stderr",
     "output_type": "stream",
     "text": [
      "Evaluating 1 test case(s) in parallel: |███████████████████████████████|100% (1/1) [Time Taken: 00:20, 20.02s/test case]"
     ]
    },
    {
     "name": "stdout",
     "output_type": "stream",
     "text": [
      "\n",
      "======================================================================\n",
      "\n",
      "Metrics Summary\n",
      "\n",
      "  - ✅ Contextual Precision (score: 0.6666666666666666, threshold: 0.5, strict: False, evaluation model: Gemini 1.5 Flash, reason: None, error: None)\n",
      "\n",
      "For test case:\n",
      "\n",
      "  - input: What does the word Ghana mean?\n",
      "  - actual output: The word \"Ghana\" means \"Warrior King\".\n",
      "\n",
      "  - expected output: warrior king\n",
      "  - context: []\n",
      "  - retrieval context: [\"['The Republic of Ghana is a country in West Africa. It borders CÃ´te d\\\\'Ivoire (also known as Ivory Coast) to the west\", ' Burkina Faso to the north', ' Togo to the east', ' and the Gulf of Guinea to the south. The word \"Ghana\" means \"Warrior King\"', ' Jackson', ' John G. Introduction to African Civilizations', ' 2001. Page 201.  and was the source of the name \"Guinea\" (via French Guinoye) used to refer to the West African coast (as in Gulf of Guinea).\\'', \" 'Ghana is a country located on the Gulf of Guinea\", ' only a few degrees north of the Equator', ' therefore giving it a warm climate. The Greenwich Meridian also passes through Ghana', ' specifically through the industrial city of Ghana-Tema; so it is said that Ghana is geographically closer to the \"center\" of the world than any other country. La Cote d\\\\\\'Ivoire is located to the west of Ghana while Burkina Faso and Togo are located to its north and east respectively. The coastline is mostly a low', ' sandy shore backed by plains and scrub and intersected by several rivers and streams. A tropical rain forest belt', ' broken by heavily forested hills and many streams and rivers', ' extends northward from the shore. North of this belt', ' the land is covered by low bush', ' park-like savannah', \" and grassy plains.'\", \" 'Ghana was inhabited in pre-colonial times by a number of ancient kingdoms\", ' including the Ga Adangbes on the eastern coast', ' inland Empire of Ashanti and various Fante states along the coast and inland. Trade with European states flourished after contact with the Portuguese in the 15th century', ' and the British established a crown colony', ' Gold Coast', ' in 1874. MacLean', ' Iain. Rational Choice and British Politics: An Analysis of Rhetoric and Manipulation from Peel to Blair', \" 2001. Page 76.'\", ' \"More than 100 languages and dialects are spoken in Ghana. English is the country\\'s official language and predominates government and business affairs. It is also the standard language used for educational instruction. Native Ghanaian languages are divided into two linguistic subfamilies of the Niger-Congo language family. Languages belonging to the Kwa subfamily are found predominantly to the south of the Volta River', ' while those belonging to the Gur subfamily are found predominantly to the north. The Kwa group', \" which is spoken by about 75% of the country's population\", ' includes the Akan', ' Ga-Dangme', ' and Ewe languages. The Gur group includes the Gurma', ' Grusi', ' and Dagbani languages.\"', \" 'Upon achieving independence from the United Kingdom in 1957\", ' Peter N. Stearns and William Leonard Langer. The Encyclopedia of World History: Ancient', ' Medieval', ' and Modern', ' Chronologically Arranged', \" 2001. Page 1050.  the name Ghana was chosen for the new nation to reflect the ancient Empire of Ghana that once extended throughout much of western Africa.'\", \" 'Ghana is a republic and member of the Commonwealth of Nations. Its head of state is President John Agyekum Kufuor\", ' the ninth leader of the country since independence. The government sits at Osu Castle. The Parliament of Ghana is unicameral and dominated by two main parties', \" the New Patriotic Party and National Democratic Congress.'\", \" 'Map of Ghana'\", \" 'Formed from the merger of the British colony Gold Coast\", ' The Empire of Ashanti and the British Togoland trust territory by a UN sponsored plebiscite', ' Ghana became the first democratic sub-Sahara country in colonial Africa to gain its independence in 1957. Kwame Nkrumah', ' founder and first president of the modern Ghanaian state', ' was not only an African anti-colonial leader but also one with a dream of a united Africa which would not drift into neo-colonialism. He was the first African head of state to espouse Pan-Africanism', ' an idea he came into contact with during his studies at Lincoln University in Pennsylvania (United States)', ' at the time when Marcus Garvey was becoming famous for his \"Back to Africa Movement.\" He merged the dreams of both Marcus Garvey and the celebrated African-American scholar W.E.B. Du Bois into the formation of the modern day Ghana. Ghana\\\\\\'s principles of freedom and justice', ' equity and free education for all', ' irrespective of ethnic background', \" religion or creed borrow from Osagyefo Dr Kwame Nkrumah\\\\'s implementation of Pan-Africanism.'\", ' \"Gold Coast & European Exploration: Before March 1957 Ghana was called the Gold Coast. The Portuguese who came to Ghana in the 15th Century found so much gold between the rivers Ankobra and the Volta that they named the place Mina - meaning Mine. The Gold Coast was later adopted to by the English colonisers. Similarly', ' the French', ' equally impressed by the trinkets worn by the coastal people', ' named The Ivory Coast', ' Cote d\\'Ivoire.\"', ' \"The first contact between the Ghanaian peoples', ' the Fantes on the coastal area and Europeans occurred in 1482. The Portuguese  first landed at Elmina', ' a coastal city inhabited by the Fanti nation-state in 1482. During the next few centuries parts of the area were controlled by British', ' Portuguese', ' and Scandinavian powers', ' with the British ultimately prevailing. These nation-states maintained varying alliances with the colonial powers and each other', ' which resulted in the 1806 Ashanti-Fante War', ' as well as an ongoing struggle by the Empire of Ashanti against the British. Moves toward regional de-colonization began in 1946', ' and the area\\'s first constitution was promulgated in 1951.\"]']\n",
      "\n",
      "======================================================================\n",
      "\n",
      "Overall Metric Pass Rates\n",
      "\n",
      "Contextual Precision: 100.00% pass rate\n",
      "\n",
      "======================================================================\n",
      "\n"
     ]
    },
    {
     "name": "stderr",
     "output_type": "stream",
     "text": [
      "\n"
     ]
    },
    {
     "data": {
      "text/html": [
       "<pre style=\"white-space:pre;overflow-x:auto;line-height:normal;font-family:Menlo,'DejaVu Sans Mono',consolas,'Courier New',monospace\"><span style=\"color: #05f58d; text-decoration-color: #05f58d\">✓</span> Tests finished 🎉! Run <span style=\"color: #008000; text-decoration-color: #008000\">'deepeval login'</span> to save and analyze evaluation results on Confident AI.  \n",
       "‼️ Looking for a place for your LLM test data to live 🏡? Use Confident AI for test reports, benchmark analysis, \n",
       "compare models/prompts, and catch regressions for your LLM system.\n",
       "</pre>\n"
      ],
      "text/plain": [
       "\u001b[38;2;5;245;141m✓\u001b[0m Tests finished 🎉! Run \u001b[32m'deepeval login'\u001b[0m to save and analyze evaluation results on Confident AI.  \n",
       "‼️ Looking for a place for your LLM test data to live 🏡? Use Confident AI for test reports, benchmark analysis, \n",
       "compare models/prompts, and catch regressions for your LLM system.\n"
      ]
     },
     "metadata": {},
     "output_type": "display_data"
    },
    {
     "name": "stdout",
     "output_type": "stream",
     "text": [
      "287\n"
     ]
    },
    {
     "data": {
      "text/html": [
       "<pre style=\"white-space:pre;overflow-x:auto;line-height:normal;font-family:Menlo,'DejaVu Sans Mono',consolas,'Courier New',monospace\">✨ You're running DeepEval's latest <span style=\"color: #6a00ff; text-decoration-color: #6a00ff\">Contextual Precision Metric</span>! <span style=\"color: #374151; text-decoration-color: #374151; font-weight: bold\">(</span><span style=\"color: #374151; text-decoration-color: #374151\">using Gemini </span><span style=\"color: #374151; text-decoration-color: #374151; font-weight: bold\">1.5</span><span style=\"color: #374151; text-decoration-color: #374151\"> Flash, </span><span style=\"color: #374151; text-decoration-color: #374151\">strict</span><span style=\"color: #374151; text-decoration-color: #374151\">=</span><span style=\"color: #374151; text-decoration-color: #374151; font-style: italic\">False</span><span style=\"color: #374151; text-decoration-color: #374151\">, </span>\n",
       "<span style=\"color: #374151; text-decoration-color: #374151\">async_mode</span><span style=\"color: #374151; text-decoration-color: #374151\">=</span><span style=\"color: #374151; text-decoration-color: #374151; font-style: italic\">True</span><span style=\"color: #374151; text-decoration-color: #374151; font-weight: bold\">)</span><span style=\"color: #374151; text-decoration-color: #374151\">...</span>\n",
       "</pre>\n"
      ],
      "text/plain": [
       "✨ You're running DeepEval's latest \u001b[38;2;106;0;255mContextual Precision Metric\u001b[0m! \u001b[1;38;2;55;65;81m(\u001b[0m\u001b[38;2;55;65;81musing Gemini \u001b[0m\u001b[1;38;2;55;65;81m1.5\u001b[0m\u001b[38;2;55;65;81m Flash, \u001b[0m\u001b[38;2;55;65;81mstrict\u001b[0m\u001b[38;2;55;65;81m=\u001b[0m\u001b[3;38;2;55;65;81mFalse\u001b[0m\u001b[38;2;55;65;81m, \u001b[0m\n",
       "\u001b[38;2;55;65;81masync_mode\u001b[0m\u001b[38;2;55;65;81m=\u001b[0m\u001b[3;38;2;55;65;81mTrue\u001b[0m\u001b[1;38;2;55;65;81m)\u001b[0m\u001b[38;2;55;65;81m...\u001b[0m\n"
      ]
     },
     "metadata": {},
     "output_type": "display_data"
    },
    {
     "name": "stdout",
     "output_type": "stream",
     "text": [
      "Event loop is already running. Applying nest_asyncio patch to allow async execution...\n"
     ]
    },
    {
     "name": "stderr",
     "output_type": "stream",
     "text": [
      "Evaluating 1 test case(s) in parallel: |███████████████████████████████|100% (1/1) [Time Taken: 00:20, 20.02s/test case]"
     ]
    },
    {
     "name": "stdout",
     "output_type": "stream",
     "text": [
      "\n",
      "======================================================================\n",
      "\n",
      "Metrics Summary\n",
      "\n",
      "  - ✅ Contextual Precision (score: 1.0, threshold: 0.5, strict: False, evaluation model: Gemini 1.5 Flash, reason: None, error: None)\n",
      "\n",
      "For test case:\n",
      "\n",
      "  - input: Who was Kwame Nkrumah?\n",
      "  - actual output: Kwame Nkrumah was the founder and first president of Ghana.  He was a key figure in the fight for Ghana's independence from British colonial rule and a prominent advocate of Pan-Africanism.\n",
      "\n",
      "  - expected output: founder and first president\n",
      "  - context: []\n",
      "  - retrieval context: [\"['Formed from the merger of the British colony Gold Coast\", ' The Empire of Ashanti and the British Togoland trust territory by a UN sponsored plebiscite', ' Ghana became the first democratic sub-Sahara country in colonial Africa to gain its independence in 1957. Kwame Nkrumah', ' founder and first president of the modern Ghanaian state', ' was not only an African anti-colonial leader but also one with a dream of a united Africa which would not drift into neo-colonialism. He was the first African head of state to espouse Pan-Africanism', ' an idea he came into contact with during his studies at Lincoln University in Pennsylvania (United States)', ' at the time when Marcus Garvey was becoming famous for his \"Back to Africa Movement.\" He merged the dreams of both Marcus Garvey and the celebrated African-American scholar W.E.B. Du Bois into the formation of the modern day Ghana. Ghana\\\\\\'s principles of freedom and justice', ' equity and free education for all', ' irrespective of ethnic background', \" religion or creed borrow from Osagyefo Dr Kwame Nkrumah\\\\'s implementation of Pan-Africanism.'\", ' \"Nkrumah was overthrown by a supported CIA-backed coup Interview with John Stockwell in Pandora\\'s Box: Black Power (Adam Curtis', ' BBC Two', ' 22 June 1992)        On Nkrumah assassination by CIA: Gaines', ' Kevin (2006) American Africans in Ghana', ' Black expatriates and the Civil Rights Era', ' The University of North Carolina Press', ' Chapel Hill. . A series of subsequent coups ended with the ascension to power of Flight Lieutenant Jerry Rawlings in 1981. These changes resulted in the suspension of the constitution in 1981 and the banning of political parties. A new constitution', ' restoring multi-party politics', ' was promulgated in 1992', ' and Rawlings was elected as president in the free and fair elections of that year and again won the elections 1996 to serve his second term. The constitution prohibited him from running for a third term. John Kufuor', ' the current president', ' is now serving his second term', \" which ends in 2008 where another election will be held to elect a new president. The year 2007 marks Ghana's Golden Jubilee celebration of its 50-year anniversary\", ' which was on March 6th', ' 1957.\"', \" 'Ghana is a republic and member of the Commonwealth of Nations. Its head of state is President John Agyekum Kufuor\", ' the ninth leader of the country since independence. The government sits at Osu Castle. The Parliament of Ghana is unicameral and dominated by two main parties', \" the New Patriotic Party and National Democratic Congress.'\", \" 'Ghana was inhabited in pre-colonial times by a number of ancient kingdoms\", ' including the Ga Adangbes on the eastern coast', ' inland Empire of Ashanti and various Fante states along the coast and inland. Trade with European states flourished after contact with the Portuguese in the 15th century', ' and the British established a crown colony', ' Gold Coast', ' in 1874. MacLean', ' Iain. Rational Choice and British Politics: An Analysis of Rhetoric and Manipulation from Peel to Blair', \" 2001. Page 76.'\", \" 'The Republic of Ghana is a country in West Africa. It borders CÃ´te d\\\\'Ivoire (also known as Ivory Coast) to the west\", ' Burkina Faso to the north', ' Togo to the east', ' and the Gulf of Guinea to the south. The word \"Ghana\" means \"Warrior King\"', ' Jackson', ' John G. Introduction to African Civilizations', ' 2001. Page 201.  and was the source of the name \"Guinea\" (via French Guinoye) used to refer to the West African coast (as in Gulf of Guinea).\\'', \" 'Upon achieving independence from the United Kingdom in 1957\", ' Peter N. Stearns and William Leonard Langer. The Encyclopedia of World History: Ancient', ' Medieval', ' and Modern', ' Chronologically Arranged', \" 2001. Page 1050.  the name Ghana was chosen for the new nation to reflect the ancient Empire of Ghana that once extended throughout much of western Africa.'\", \" 'Map of Ghana'\", ' \"The first contact between the Ghanaian peoples', ' the Fantes on the coastal area and Europeans occurred in 1482. The Portuguese  first landed at Elmina', ' a coastal city inhabited by the Fanti nation-state in 1482. During the next few centuries parts of the area were controlled by British', ' Portuguese', ' and Scandinavian powers', ' with the British ultimately prevailing. These nation-states maintained varying alliances with the colonial powers and each other', ' which resulted in the 1806 Ashanti-Fante War', ' as well as an ongoing struggle by the Empire of Ashanti against the British. Moves toward regional de-colonization began in 1946', ' and the area\\'s first constitution was promulgated in 1951.\"', \" 'Ghana is a country located on the Gulf of Guinea\", ' only a few degrees north of the Equator', ' therefore giving it a warm climate. The Greenwich Meridian also passes through Ghana', ' specifically through the industrial city of Ghana-Tema; so it is said that Ghana is geographically closer to the \"center\" of the world than any other country. La Cote d\\\\\\'Ivoire is located to the west of Ghana while Burkina Faso and Togo are located to its north and east respectively. The coastline is mostly a low', ' sandy shore backed by plains and scrub and intersected by several rivers and streams. A tropical rain forest belt', ' broken by heavily forested hills and many streams and rivers', ' extends northward from the shore. North of this belt', ' the land is covered by low bush', ' park-like savannah', \" and grassy plains.'\", \" 'Ghana was also the site of the Empire of Ashanti which was the most advanced black state in sub-Sahara Africa. It is said that at its peak\", ' the King of Ashanti could field 500', \"000 troops.']\"]\n",
      "\n",
      "======================================================================\n",
      "\n",
      "Overall Metric Pass Rates\n",
      "\n",
      "Contextual Precision: 100.00% pass rate\n",
      "\n",
      "======================================================================\n",
      "\n"
     ]
    },
    {
     "name": "stderr",
     "output_type": "stream",
     "text": [
      "\n"
     ]
    },
    {
     "data": {
      "text/html": [
       "<pre style=\"white-space:pre;overflow-x:auto;line-height:normal;font-family:Menlo,'DejaVu Sans Mono',consolas,'Courier New',monospace\"><span style=\"color: #05f58d; text-decoration-color: #05f58d\">✓</span> Tests finished 🎉! Run <span style=\"color: #008000; text-decoration-color: #008000\">'deepeval login'</span> to save and analyze evaluation results on Confident AI.  \n",
       "‼️ Looking for a place for your LLM test data to live 🏡? Use Confident AI for test reports, benchmark analysis, \n",
       "compare models/prompts, and catch regressions for your LLM system.\n",
       "</pre>\n"
      ],
      "text/plain": [
       "\u001b[38;2;5;245;141m✓\u001b[0m Tests finished 🎉! Run \u001b[32m'deepeval login'\u001b[0m to save and analyze evaluation results on Confident AI.  \n",
       "‼️ Looking for a place for your LLM test data to live 🏡? Use Confident AI for test reports, benchmark analysis, \n",
       "compare models/prompts, and catch regressions for your LLM system.\n"
      ]
     },
     "metadata": {},
     "output_type": "display_data"
    },
    {
     "name": "stdout",
     "output_type": "stream",
     "text": [
      "288\n"
     ]
    },
    {
     "data": {
      "text/html": [
       "<pre style=\"white-space:pre;overflow-x:auto;line-height:normal;font-family:Menlo,'DejaVu Sans Mono',consolas,'Courier New',monospace\">✨ You're running DeepEval's latest <span style=\"color: #6a00ff; text-decoration-color: #6a00ff\">Contextual Precision Metric</span>! <span style=\"color: #374151; text-decoration-color: #374151; font-weight: bold\">(</span><span style=\"color: #374151; text-decoration-color: #374151\">using Gemini </span><span style=\"color: #374151; text-decoration-color: #374151; font-weight: bold\">1.5</span><span style=\"color: #374151; text-decoration-color: #374151\"> Flash, </span><span style=\"color: #374151; text-decoration-color: #374151\">strict</span><span style=\"color: #374151; text-decoration-color: #374151\">=</span><span style=\"color: #374151; text-decoration-color: #374151; font-style: italic\">False</span><span style=\"color: #374151; text-decoration-color: #374151\">, </span>\n",
       "<span style=\"color: #374151; text-decoration-color: #374151\">async_mode</span><span style=\"color: #374151; text-decoration-color: #374151\">=</span><span style=\"color: #374151; text-decoration-color: #374151; font-style: italic\">True</span><span style=\"color: #374151; text-decoration-color: #374151; font-weight: bold\">)</span><span style=\"color: #374151; text-decoration-color: #374151\">...</span>\n",
       "</pre>\n"
      ],
      "text/plain": [
       "✨ You're running DeepEval's latest \u001b[38;2;106;0;255mContextual Precision Metric\u001b[0m! \u001b[1;38;2;55;65;81m(\u001b[0m\u001b[38;2;55;65;81musing Gemini \u001b[0m\u001b[1;38;2;55;65;81m1.5\u001b[0m\u001b[38;2;55;65;81m Flash, \u001b[0m\u001b[38;2;55;65;81mstrict\u001b[0m\u001b[38;2;55;65;81m=\u001b[0m\u001b[3;38;2;55;65;81mFalse\u001b[0m\u001b[38;2;55;65;81m, \u001b[0m\n",
       "\u001b[38;2;55;65;81masync_mode\u001b[0m\u001b[38;2;55;65;81m=\u001b[0m\u001b[3;38;2;55;65;81mTrue\u001b[0m\u001b[1;38;2;55;65;81m)\u001b[0m\u001b[38;2;55;65;81m...\u001b[0m\n"
      ]
     },
     "metadata": {},
     "output_type": "display_data"
    },
    {
     "name": "stdout",
     "output_type": "stream",
     "text": [
      "Event loop is already running. Applying nest_asyncio patch to allow async execution...\n"
     ]
    },
    {
     "name": "stderr",
     "output_type": "stream",
     "text": [
      "Evaluating 1 test case(s) in parallel: |███████████████████████████████|100% (1/1) [Time Taken: 00:20, 20.02s/test case]"
     ]
    },
    {
     "name": "stdout",
     "output_type": "stream",
     "text": [
      "\n",
      "======================================================================\n",
      "\n",
      "Metrics Summary\n",
      "\n",
      "  - ✅ Contextual Precision (score: 0.5873015873015873, threshold: 0.5, strict: False, evaluation model: Gemini 1.5 Flash, reason: None, error: None)\n",
      "\n",
      "For test case:\n",
      "\n",
      "  - input: Where is old Ghana in relation to present Ghana?\n",
      "  - actual output: Old Ghana (the medieval empire) was located approximately 500 miles north of present-day Ghana, between the Senegal and Niger Rivers.\n",
      "\n",
      "  - expected output: 500 miles north\n",
      "  - context: []\n",
      "  - retrieval context: [\"['Geographically\", ' the old Ghana is 500 miles north of the present Ghana', \" and occupied the area between Rivers Senegal and Niger.'\", \" 'Ghana is a country located on the Gulf of Guinea\", ' only a few degrees north of the Equator', ' therefore giving it a warm climate. The Greenwich Meridian also passes through Ghana', ' specifically through the industrial city of Ghana-Tema; so it is said that Ghana is geographically closer to the \"center\" of the world than any other country. La Cote d\\\\\\'Ivoire is located to the west of Ghana while Burkina Faso and Togo are located to its north and east respectively. The coastline is mostly a low', ' sandy shore backed by plains and scrub and intersected by several rivers and streams. A tropical rain forest belt', ' broken by heavily forested hills and many streams and rivers', ' extends northward from the shore. North of this belt', ' the land is covered by low bush', ' park-like savannah', \" and grassy plains.'\", \" 'Map of Ghana'\", \" 'The Republic of Ghana is a country in West Africa. It borders CÃ´te d\\\\'Ivoire (also known as Ivory Coast) to the west\", ' Burkina Faso to the north', ' Togo to the east', ' and the Gulf of Guinea to the south. The word \"Ghana\" means \"Warrior King\"', ' Jackson', ' John G. Introduction to African Civilizations', ' 2001. Page 201.  and was the source of the name \"Guinea\" (via French Guinoye) used to refer to the West African coast (as in Gulf of Guinea).\\'', \" 'Ghana was inhabited in pre-colonial times by a number of ancient kingdoms\", ' including the Ga Adangbes on the eastern coast', ' inland Empire of Ashanti and various Fante states along the coast and inland. Trade with European states flourished after contact with the Portuguese in the 15th century', ' and the British established a crown colony', ' Gold Coast', ' in 1874. MacLean', ' Iain. Rational Choice and British Politics: An Analysis of Rhetoric and Manipulation from Peel to Blair', \" 2001. Page 76.'\", ' \"The first contact between the Ghanaian peoples', ' the Fantes on the coastal area and Europeans occurred in 1482. The Portuguese  first landed at Elmina', ' a coastal city inhabited by the Fanti nation-state in 1482. During the next few centuries parts of the area were controlled by British', ' Portuguese', ' and Scandinavian powers', ' with the British ultimately prevailing. These nation-states maintained varying alliances with the colonial powers and each other', ' which resulted in the 1806 Ashanti-Fante War', ' as well as an ongoing struggle by the Empire of Ashanti against the British. Moves toward regional de-colonization began in 1946', ' and the area\\'s first constitution was promulgated in 1951.\"', \" 'Regions of Ghana'\", \" 'Some inhabitants of present Ghana had ancestors linked with the medieval Ghana. This can be traced down to the Mande and Voltaic people of Northern Ghana--Mamprussi\", \" Dagomba and the Gonja.'\", \" 'Medieval Ghana (4th - 13th Century):The Republic of Ghana is named after the medieval Ghana Empire of West Africa. The actual name of the Empire was Wagadugu. Ghana was the title of the kings who ruled the kingdom. It was controlled by Sundiata in 1240 AD\", \" and absorbed into the larger Mali Empire. (Mali Empire reached its peak of success under Mansa Musa around 1307.)'\", \" 'For most of central sub-Saharan Africa\", ' agricultural expansion marked the period before 500. Farming began earliest on the southern tips of the Sahara', ' eventually giving rise to village settlements. Toward the end of the classical era', ' larger regional kingdoms were formed in West Africa', ' one of which was the Kingdom of Ghana', ' north of what is today the nation of Ghana. After its fall at the beginning of the 13th century', ' Akan migrants moved southward then founded several nation-states including the first great Akan empire of the Bono which is now known as the ibalBrong Ahafo region in Ghana. Later Akan groups such as the Ashanti federation and Fante states are thought to possibly have roots in the original Bono settlement at Bono manso. Much of the area was united under the Empire of Ashanti by the 16th century. The Ashanti government operated first as a loose network and eventually as a centralized kingdom with an advanced', \" highly-specialized bureaucracy centered in Kumasi.']\"]\n",
      "\n",
      "======================================================================\n",
      "\n",
      "Overall Metric Pass Rates\n",
      "\n",
      "Contextual Precision: 100.00% pass rate\n",
      "\n",
      "======================================================================\n",
      "\n"
     ]
    },
    {
     "name": "stderr",
     "output_type": "stream",
     "text": [
      "\n"
     ]
    },
    {
     "data": {
      "text/html": [
       "<pre style=\"white-space:pre;overflow-x:auto;line-height:normal;font-family:Menlo,'DejaVu Sans Mono',consolas,'Courier New',monospace\"><span style=\"color: #05f58d; text-decoration-color: #05f58d\">✓</span> Tests finished 🎉! Run <span style=\"color: #008000; text-decoration-color: #008000\">'deepeval login'</span> to save and analyze evaluation results on Confident AI.  \n",
       "‼️ Looking for a place for your LLM test data to live 🏡? Use Confident AI for test reports, benchmark analysis, \n",
       "compare models/prompts, and catch regressions for your LLM system.\n",
       "</pre>\n"
      ],
      "text/plain": [
       "\u001b[38;2;5;245;141m✓\u001b[0m Tests finished 🎉! Run \u001b[32m'deepeval login'\u001b[0m to save and analyze evaluation results on Confident AI.  \n",
       "‼️ Looking for a place for your LLM test data to live 🏡? Use Confident AI for test reports, benchmark analysis, \n",
       "compare models/prompts, and catch regressions for your LLM system.\n"
      ]
     },
     "metadata": {},
     "output_type": "display_data"
    },
    {
     "name": "stdout",
     "output_type": "stream",
     "text": [
      "289\n"
     ]
    },
    {
     "data": {
      "text/html": [
       "<pre style=\"white-space:pre;overflow-x:auto;line-height:normal;font-family:Menlo,'DejaVu Sans Mono',consolas,'Courier New',monospace\">✨ You're running DeepEval's latest <span style=\"color: #6a00ff; text-decoration-color: #6a00ff\">Contextual Precision Metric</span>! <span style=\"color: #374151; text-decoration-color: #374151; font-weight: bold\">(</span><span style=\"color: #374151; text-decoration-color: #374151\">using Gemini </span><span style=\"color: #374151; text-decoration-color: #374151; font-weight: bold\">1.5</span><span style=\"color: #374151; text-decoration-color: #374151\"> Flash, </span><span style=\"color: #374151; text-decoration-color: #374151\">strict</span><span style=\"color: #374151; text-decoration-color: #374151\">=</span><span style=\"color: #374151; text-decoration-color: #374151; font-style: italic\">False</span><span style=\"color: #374151; text-decoration-color: #374151\">, </span>\n",
       "<span style=\"color: #374151; text-decoration-color: #374151\">async_mode</span><span style=\"color: #374151; text-decoration-color: #374151\">=</span><span style=\"color: #374151; text-decoration-color: #374151; font-style: italic\">True</span><span style=\"color: #374151; text-decoration-color: #374151; font-weight: bold\">)</span><span style=\"color: #374151; text-decoration-color: #374151\">...</span>\n",
       "</pre>\n"
      ],
      "text/plain": [
       "✨ You're running DeepEval's latest \u001b[38;2;106;0;255mContextual Precision Metric\u001b[0m! \u001b[1;38;2;55;65;81m(\u001b[0m\u001b[38;2;55;65;81musing Gemini \u001b[0m\u001b[1;38;2;55;65;81m1.5\u001b[0m\u001b[38;2;55;65;81m Flash, \u001b[0m\u001b[38;2;55;65;81mstrict\u001b[0m\u001b[38;2;55;65;81m=\u001b[0m\u001b[3;38;2;55;65;81mFalse\u001b[0m\u001b[38;2;55;65;81m, \u001b[0m\n",
       "\u001b[38;2;55;65;81masync_mode\u001b[0m\u001b[38;2;55;65;81m=\u001b[0m\u001b[3;38;2;55;65;81mTrue\u001b[0m\u001b[1;38;2;55;65;81m)\u001b[0m\u001b[38;2;55;65;81m...\u001b[0m\n"
      ]
     },
     "metadata": {},
     "output_type": "display_data"
    },
    {
     "name": "stdout",
     "output_type": "stream",
     "text": [
      "Event loop is already running. Applying nest_asyncio patch to allow async execution...\n"
     ]
    },
    {
     "name": "stderr",
     "output_type": "stream",
     "text": [
      "Evaluating 1 test case(s) in parallel: |███████████████████████████████|100% (1/1) [Time Taken: 00:20, 20.02s/test case]"
     ]
    },
    {
     "name": "stdout",
     "output_type": "stream",
     "text": [
      "\n",
      "======================================================================\n",
      "\n",
      "Metrics Summary\n",
      "\n",
      "  - ✅ Contextual Precision (score: 1.0, threshold: 0.5, strict: False, evaluation model: Gemini 1.5 Flash, reason: None, error: None)\n",
      "\n",
      "For test case:\n",
      "\n",
      "  - input: Who makes up Ghana's Parliament?\n",
      "  - actual output: Ghana's Parliament is made up of members from two main parties: the New Patriotic Party and the National Democratic Congress.\n",
      "\n",
      "  - expected output: the New Patriotic Party and National Democratic Congress\n",
      "  - context: []\n",
      "  - retrieval context: [\"['Ghana is a republic and member of the Commonwealth of Nations. Its head of state is President John Agyekum Kufuor\", ' the ninth leader of the country since independence. The government sits at Osu Castle. The Parliament of Ghana is unicameral and dominated by two main parties', \" the New Patriotic Party and National Democratic Congress.'\", \" 'Ghana was inhabited in pre-colonial times by a number of ancient kingdoms\", ' including the Ga Adangbes on the eastern coast', ' inland Empire of Ashanti and various Fante states along the coast and inland. Trade with European states flourished after contact with the Portuguese in the 15th century', ' and the British established a crown colony', ' Gold Coast', ' in 1874. MacLean', ' Iain. Rational Choice and British Politics: An Analysis of Rhetoric and Manipulation from Peel to Blair', \" 2001. Page 76.'\", \" 'The Republic of Ghana is a country in West Africa. It borders CÃ´te d\\\\'Ivoire (also known as Ivory Coast) to the west\", ' Burkina Faso to the north', ' Togo to the east', ' and the Gulf of Guinea to the south. The word \"Ghana\" means \"Warrior King\"', ' Jackson', ' John G. Introduction to African Civilizations', ' 2001. Page 201.  and was the source of the name \"Guinea\" (via French Guinoye) used to refer to the West African coast (as in Gulf of Guinea).\\'', \" 'Formed from the merger of the British colony Gold Coast\", ' The Empire of Ashanti and the British Togoland trust territory by a UN sponsored plebiscite', ' Ghana became the first democratic sub-Sahara country in colonial Africa to gain its independence in 1957. Kwame Nkrumah', ' founder and first president of the modern Ghanaian state', ' was not only an African anti-colonial leader but also one with a dream of a united Africa which would not drift into neo-colonialism. He was the first African head of state to espouse Pan-Africanism', ' an idea he came into contact with during his studies at Lincoln University in Pennsylvania (United States)', ' at the time when Marcus Garvey was becoming famous for his \"Back to Africa Movement.\" He merged the dreams of both Marcus Garvey and the celebrated African-American scholar W.E.B. Du Bois into the formation of the modern day Ghana. Ghana\\\\\\'s principles of freedom and justice', ' equity and free education for all', ' irrespective of ethnic background', \" religion or creed borrow from Osagyefo Dr Kwame Nkrumah\\\\'s implementation of Pan-Africanism.'\", \" 'Ghana is a country located on the Gulf of Guinea\", ' only a few degrees north of the Equator', ' therefore giving it a warm climate. The Greenwich Meridian also passes through Ghana', ' specifically through the industrial city of Ghana-Tema; so it is said that Ghana is geographically closer to the \"center\" of the world than any other country. La Cote d\\\\\\'Ivoire is located to the west of Ghana while Burkina Faso and Togo are located to its north and east respectively. The coastline is mostly a low', ' sandy shore backed by plains and scrub and intersected by several rivers and streams. A tropical rain forest belt', ' broken by heavily forested hills and many streams and rivers', ' extends northward from the shore. North of this belt', ' the land is covered by low bush', ' park-like savannah', \" and grassy plains.'\", ' \"More than 100 languages and dialects are spoken in Ghana. English is the country\\'s official language and predominates government and business affairs. It is also the standard language used for educational instruction. Native Ghanaian languages are divided into two linguistic subfamilies of the Niger-Congo language family. Languages belonging to the Kwa subfamily are found predominantly to the south of the Volta River', ' while those belonging to the Gur subfamily are found predominantly to the north. The Kwa group', \" which is spoken by about 75% of the country's population\", ' includes the Akan', ' Ga-Dangme', ' and Ewe languages. The Gur group includes the Gurma', ' Grusi', ' and Dagbani languages.\"', \" 'Ghana is a divided into 10 regions\", \" subdivided into a total of 138 districts. The regions are:'\", ' \"The first contact between the Ghanaian peoples', ' the Fantes on the coastal area and Europeans occurred in 1482. The Portuguese  first landed at Elmina', ' a coastal city inhabited by the Fanti nation-state in 1482. During the next few centuries parts of the area were controlled by British', ' Portuguese', ' and Scandinavian powers', ' with the British ultimately prevailing. These nation-states maintained varying alliances with the colonial powers and each other', ' which resulted in the 1806 Ashanti-Fante War', ' as well as an ongoing struggle by the Empire of Ashanti against the British. Moves toward regional de-colonization began in 1946', ' and the area\\'s first constitution was promulgated in 1951.\"', ' \"Nkrumah was overthrown by a supported CIA-backed coup Interview with John Stockwell in Pandora\\'s Box: Black Power (Adam Curtis', ' BBC Two', ' 22 June 1992)        On Nkrumah assassination by CIA: Gaines', ' Kevin (2006) American Africans in Ghana', ' Black expatriates and the Civil Rights Era', ' The University of North Carolina Press', ' Chapel Hill. . A series of subsequent coups ended with the ascension to power of Flight Lieutenant Jerry Rawlings in 1981. These changes resulted in the suspension of the constitution in 1981 and the banning of political parties. A new constitution', ' restoring multi-party politics', ' was promulgated in 1992', ' and Rawlings was elected as president in the free and fair elections of that year and again won the elections 1996 to serve his second term. The constitution prohibited him from running for a third term. John Kufuor', ' the current president', ' is now serving his second term', \" which ends in 2008 where another election will be held to elect a new president. The year 2007 marks Ghana's Golden Jubilee celebration of its 50-year anniversary\", ' which was on March 6th', ' 1957.\"', \" 'Map of Ghana']\"]\n",
      "\n",
      "======================================================================\n",
      "\n",
      "Overall Metric Pass Rates\n",
      "\n",
      "Contextual Precision: 100.00% pass rate\n",
      "\n",
      "======================================================================\n",
      "\n"
     ]
    },
    {
     "name": "stderr",
     "output_type": "stream",
     "text": [
      "\n"
     ]
    },
    {
     "data": {
      "text/html": [
       "<pre style=\"white-space:pre;overflow-x:auto;line-height:normal;font-family:Menlo,'DejaVu Sans Mono',consolas,'Courier New',monospace\"><span style=\"color: #05f58d; text-decoration-color: #05f58d\">✓</span> Tests finished 🎉! Run <span style=\"color: #008000; text-decoration-color: #008000\">'deepeval login'</span> to save and analyze evaluation results on Confident AI.  \n",
       "‼️ Looking for a place for your LLM test data to live 🏡? Use Confident AI for test reports, benchmark analysis, \n",
       "compare models/prompts, and catch regressions for your LLM system.\n",
       "</pre>\n"
      ],
      "text/plain": [
       "\u001b[38;2;5;245;141m✓\u001b[0m Tests finished 🎉! Run \u001b[32m'deepeval login'\u001b[0m to save and analyze evaluation results on Confident AI.  \n",
       "‼️ Looking for a place for your LLM test data to live 🏡? Use Confident AI for test reports, benchmark analysis, \n",
       "compare models/prompts, and catch regressions for your LLM system.\n"
      ]
     },
     "metadata": {},
     "output_type": "display_data"
    },
    {
     "name": "stdout",
     "output_type": "stream",
     "text": [
      "290\n"
     ]
    },
    {
     "data": {
      "text/html": [
       "<pre style=\"white-space:pre;overflow-x:auto;line-height:normal;font-family:Menlo,'DejaVu Sans Mono',consolas,'Courier New',monospace\">✨ You're running DeepEval's latest <span style=\"color: #6a00ff; text-decoration-color: #6a00ff\">Contextual Precision Metric</span>! <span style=\"color: #374151; text-decoration-color: #374151; font-weight: bold\">(</span><span style=\"color: #374151; text-decoration-color: #374151\">using Gemini </span><span style=\"color: #374151; text-decoration-color: #374151; font-weight: bold\">1.5</span><span style=\"color: #374151; text-decoration-color: #374151\"> Flash, </span><span style=\"color: #374151; text-decoration-color: #374151\">strict</span><span style=\"color: #374151; text-decoration-color: #374151\">=</span><span style=\"color: #374151; text-decoration-color: #374151; font-style: italic\">False</span><span style=\"color: #374151; text-decoration-color: #374151\">, </span>\n",
       "<span style=\"color: #374151; text-decoration-color: #374151\">async_mode</span><span style=\"color: #374151; text-decoration-color: #374151\">=</span><span style=\"color: #374151; text-decoration-color: #374151; font-style: italic\">True</span><span style=\"color: #374151; text-decoration-color: #374151; font-weight: bold\">)</span><span style=\"color: #374151; text-decoration-color: #374151\">...</span>\n",
       "</pre>\n"
      ],
      "text/plain": [
       "✨ You're running DeepEval's latest \u001b[38;2;106;0;255mContextual Precision Metric\u001b[0m! \u001b[1;38;2;55;65;81m(\u001b[0m\u001b[38;2;55;65;81musing Gemini \u001b[0m\u001b[1;38;2;55;65;81m1.5\u001b[0m\u001b[38;2;55;65;81m Flash, \u001b[0m\u001b[38;2;55;65;81mstrict\u001b[0m\u001b[38;2;55;65;81m=\u001b[0m\u001b[3;38;2;55;65;81mFalse\u001b[0m\u001b[38;2;55;65;81m, \u001b[0m\n",
       "\u001b[38;2;55;65;81masync_mode\u001b[0m\u001b[38;2;55;65;81m=\u001b[0m\u001b[3;38;2;55;65;81mTrue\u001b[0m\u001b[1;38;2;55;65;81m)\u001b[0m\u001b[38;2;55;65;81m...\u001b[0m\n"
      ]
     },
     "metadata": {},
     "output_type": "display_data"
    },
    {
     "name": "stdout",
     "output_type": "stream",
     "text": [
      "Event loop is already running. Applying nest_asyncio patch to allow async execution...\n"
     ]
    },
    {
     "name": "stderr",
     "output_type": "stream",
     "text": [
      "Evaluating 1 test case(s) in parallel: |███████████████████████████████|100% (1/1) [Time Taken: 00:20, 20.02s/test case]"
     ]
    },
    {
     "name": "stdout",
     "output_type": "stream",
     "text": [
      "\n",
      "======================================================================\n",
      "\n",
      "Metrics Summary\n",
      "\n",
      "  - ✅ Contextual Precision (score: 0.9480519480519481, threshold: 0.5, strict: False, evaluation model: Gemini 1.5 Flash, reason: None, error: None)\n",
      "\n",
      "For test case:\n",
      "\n",
      "  - input: What European countries established states in Ghana?\n",
      "  - actual output: Portugal, Britain, the Netherlands, Denmark, and Sweden all established trading posts and, at times, exerted control over various parts of what is now Ghana.  The British ultimately gained dominance.\n",
      "\n",
      "  - expected output: The UK\n",
      "  - context: []\n",
      "  - retrieval context: [\"['Ghana was inhabited in pre-colonial times by a number of ancient kingdoms\", ' including the Ga Adangbes on the eastern coast', ' inland Empire of Ashanti and various Fante states along the coast and inland. Trade with European states flourished after contact with the Portuguese in the 15th century', ' and the British established a crown colony', ' Gold Coast', ' in 1874. MacLean', ' Iain. Rational Choice and British Politics: An Analysis of Rhetoric and Manipulation from Peel to Blair', \" 2001. Page 76.'\", ' \"The first contact between the Ghanaian peoples', ' the Fantes on the coastal area and Europeans occurred in 1482. The Portuguese  first landed at Elmina', ' a coastal city inhabited by the Fanti nation-state in 1482. During the next few centuries parts of the area were controlled by British', ' Portuguese', ' and Scandinavian powers', ' with the British ultimately prevailing. These nation-states maintained varying alliances with the colonial powers and each other', ' which resulted in the 1806 Ashanti-Fante War', ' as well as an ongoing struggle by the Empire of Ashanti against the British. Moves toward regional de-colonization began in 1946', ' and the area\\'s first constitution was promulgated in 1951.\"', \" 'In 1598 the Dutch joined them\", ' and built forts at Komenda and Kormantsi. In 1637 they captured the castle from the Portuguese and that of Axim in 1642 (Fort St Anthony). Other European traders joined in by the mid 17th century. These were the English', ' Danes and Swedes. The coastline was dotted by more than 30 forts and castles built by the Dutch', ' British and the Danish merchants', ' the highest concentration of European military architecture outside of Europe. By the latter part of 19th century the Dutch and the British were the only traders left and when the Dutch withdrew in 1874', \" Britain made the Gold Coast a crown colony.'\", \" 'Ghana is a republic and member of the Commonwealth of Nations. Its head of state is President John Agyekum Kufuor\", ' the ninth leader of the country since independence. The government sits at Osu Castle. The Parliament of Ghana is unicameral and dominated by two main parties', \" the New Patriotic Party and National Democratic Congress.'\", ' \"Gold Coast & European Exploration: Before March 1957 Ghana was called the Gold Coast. The Portuguese who came to Ghana in the 15th Century found so much gold between the rivers Ankobra and the Volta that they named the place Mina - meaning Mine. The Gold Coast was later adopted to by the English colonisers. Similarly', ' the French', ' equally impressed by the trinkets worn by the coastal people', ' named The Ivory Coast', ' Cote d\\'Ivoire.\"', \" 'The Republic of Ghana is a country in West Africa. It borders CÃ´te d\\\\'Ivoire (also known as Ivory Coast) to the west\", ' Burkina Faso to the north', ' Togo to the east', ' and the Gulf of Guinea to the south. The word \"Ghana\" means \"Warrior King\"', ' Jackson', ' John G. Introduction to African Civilizations', ' 2001. Page 201.  and was the source of the name \"Guinea\" (via French Guinoye) used to refer to the West African coast (as in Gulf of Guinea).\\'', \" 'Ghana was also the site of the Empire of Ashanti which was the most advanced black state in sub-Sahara Africa. It is said that at its peak\", ' the King of Ashanti could field 500', \"000 troops.'\", \" 'Formed from the merger of the British colony Gold Coast\", ' The Empire of Ashanti and the British Togoland trust territory by a UN sponsored plebiscite', ' Ghana became the first democratic sub-Sahara country in colonial Africa to gain its independence in 1957. Kwame Nkrumah', ' founder and first president of the modern Ghanaian state', ' was not only an African anti-colonial leader but also one with a dream of a united Africa which would not drift into neo-colonialism. He was the first African head of state to espouse Pan-Africanism', ' an idea he came into contact with during his studies at Lincoln University in Pennsylvania (United States)', ' at the time when Marcus Garvey was becoming famous for his \"Back to Africa Movement.\" He merged the dreams of both Marcus Garvey and the celebrated African-American scholar W.E.B. Du Bois into the formation of the modern day Ghana. Ghana\\\\\\'s principles of freedom and justice', ' equity and free education for all', ' irrespective of ethnic background', \" religion or creed borrow from Osagyefo Dr Kwame Nkrumah\\\\'s implementation of Pan-Africanism.'\", \" 'Medieval Ghana (4th - 13th Century):The Republic of Ghana is named after the medieval Ghana Empire of West Africa. The actual name of the Empire was Wagadugu. Ghana was the title of the kings who ruled the kingdom. It was controlled by Sundiata in 1240 AD\", \" and absorbed into the larger Mali Empire. (Mali Empire reached its peak of success under Mansa Musa around 1307.)'\", \" 'Map of Ghana']\"]\n",
      "\n",
      "======================================================================\n",
      "\n",
      "Overall Metric Pass Rates\n",
      "\n",
      "Contextual Precision: 100.00% pass rate\n",
      "\n",
      "======================================================================\n",
      "\n"
     ]
    },
    {
     "name": "stderr",
     "output_type": "stream",
     "text": [
      "\n"
     ]
    },
    {
     "data": {
      "text/html": [
       "<pre style=\"white-space:pre;overflow-x:auto;line-height:normal;font-family:Menlo,'DejaVu Sans Mono',consolas,'Courier New',monospace\"><span style=\"color: #05f58d; text-decoration-color: #05f58d\">✓</span> Tests finished 🎉! Run <span style=\"color: #008000; text-decoration-color: #008000\">'deepeval login'</span> to save and analyze evaluation results on Confident AI.  \n",
       "‼️ Looking for a place for your LLM test data to live 🏡? Use Confident AI for test reports, benchmark analysis, \n",
       "compare models/prompts, and catch regressions for your LLM system.\n",
       "</pre>\n"
      ],
      "text/plain": [
       "\u001b[38;2;5;245;141m✓\u001b[0m Tests finished 🎉! Run \u001b[32m'deepeval login'\u001b[0m to save and analyze evaluation results on Confident AI.  \n",
       "‼️ Looking for a place for your LLM test data to live 🏡? Use Confident AI for test reports, benchmark analysis, \n",
       "compare models/prompts, and catch regressions for your LLM system.\n"
      ]
     },
     "metadata": {},
     "output_type": "display_data"
    },
    {
     "name": "stdout",
     "output_type": "stream",
     "text": [
      "291\n"
     ]
    },
    {
     "data": {
      "text/html": [
       "<pre style=\"white-space:pre;overflow-x:auto;line-height:normal;font-family:Menlo,'DejaVu Sans Mono',consolas,'Courier New',monospace\">✨ You're running DeepEval's latest <span style=\"color: #6a00ff; text-decoration-color: #6a00ff\">Contextual Precision Metric</span>! <span style=\"color: #374151; text-decoration-color: #374151; font-weight: bold\">(</span><span style=\"color: #374151; text-decoration-color: #374151\">using Gemini </span><span style=\"color: #374151; text-decoration-color: #374151; font-weight: bold\">1.5</span><span style=\"color: #374151; text-decoration-color: #374151\"> Flash, </span><span style=\"color: #374151; text-decoration-color: #374151\">strict</span><span style=\"color: #374151; text-decoration-color: #374151\">=</span><span style=\"color: #374151; text-decoration-color: #374151; font-style: italic\">False</span><span style=\"color: #374151; text-decoration-color: #374151\">, </span>\n",
       "<span style=\"color: #374151; text-decoration-color: #374151\">async_mode</span><span style=\"color: #374151; text-decoration-color: #374151\">=</span><span style=\"color: #374151; text-decoration-color: #374151; font-style: italic\">True</span><span style=\"color: #374151; text-decoration-color: #374151; font-weight: bold\">)</span><span style=\"color: #374151; text-decoration-color: #374151\">...</span>\n",
       "</pre>\n"
      ],
      "text/plain": [
       "✨ You're running DeepEval's latest \u001b[38;2;106;0;255mContextual Precision Metric\u001b[0m! \u001b[1;38;2;55;65;81m(\u001b[0m\u001b[38;2;55;65;81musing Gemini \u001b[0m\u001b[1;38;2;55;65;81m1.5\u001b[0m\u001b[38;2;55;65;81m Flash, \u001b[0m\u001b[38;2;55;65;81mstrict\u001b[0m\u001b[38;2;55;65;81m=\u001b[0m\u001b[3;38;2;55;65;81mFalse\u001b[0m\u001b[38;2;55;65;81m, \u001b[0m\n",
       "\u001b[38;2;55;65;81masync_mode\u001b[0m\u001b[38;2;55;65;81m=\u001b[0m\u001b[3;38;2;55;65;81mTrue\u001b[0m\u001b[1;38;2;55;65;81m)\u001b[0m\u001b[38;2;55;65;81m...\u001b[0m\n"
      ]
     },
     "metadata": {},
     "output_type": "display_data"
    },
    {
     "name": "stdout",
     "output_type": "stream",
     "text": [
      "Event loop is already running. Applying nest_asyncio patch to allow async execution...\n"
     ]
    },
    {
     "name": "stderr",
     "output_type": "stream",
     "text": [
      "Evaluating 1 test case(s) in parallel: |███████████████████████████████|100% (1/1) [Time Taken: 00:20, 20.02s/test case]"
     ]
    },
    {
     "name": "stdout",
     "output_type": "stream",
     "text": [
      "\n",
      "======================================================================\n",
      "\n",
      "Metrics Summary\n",
      "\n",
      "  - ✅ Contextual Precision (score: 1.0, threshold: 0.5, strict: False, evaluation model: Gemini 1.5 Flash, reason: None, error: None)\n",
      "\n",
      "For test case:\n",
      "\n",
      "  - input: Does the Gray Wolf share an ancestry with the domestic dog?\n",
      "  - actual output: Yes, the provided text explicitly states that the gray wolf shares a common ancestry with the domestic dog.\n",
      "\n",
      "  - expected output: Yes\n",
      "  - context: []\n",
      "  - retrieval context: [\"['The gray wolf (Canis lupus)\", ' also known as the timber wolf or', ' simply', ' wolf', \" is a mammal of the order Carnivora. The gray wolf is the largest member of the family Canidae and also the most well known of wolves. Its shoulder height ranges from 0.6 to 0.9 meters (26â\\\\x80\\\\x9336 inches) and its weight typically varies between 32 and 62 kilograms (70â\\\\x80\\\\x93135 pounds). As evidenced by studies of DNA sequencing and genetic drift the gray wolf shares a common ancestry with the domestic dog (Canis lupus familiaris).'\", \" 'Current theories propose that the gray wolf first evolved in Eurasia during the early Pleistocene. The rate of changes observed in DNA sequence date the South-East Asiatic lineage to about 800\", '000 years', ' as opposed to the American and European lineages which stretch back only 150', '000.    The gray wolf then migrated into North America from the Old World', ' probably via the Bering land bridge (that once joined Alaska and Siberia)', ' around 400', '000 years ago.  The gray wolf then coexisted with the Dire Wolf (Canis dirus)', ' a Canid species that was larger and heavier than the gray wolf and appeared in South America over 700', '000 years ago and whose origin is still speculated. The Dire Wolf ranged from southern Canada to South America until about 8', \"000 years ago when climate changes are thought to have caused it to become extinct. After that the gray wolf is thought to have become the prime canine predator in North America.'\", ' \"Much debate has centered on the relationship between the wolf and the domestic dog', \" though most authorities see the wolf as the dog's direct ancestor. Because the canids have evolved recently and different canids interbreed readily\", ' untangling the relationships has been difficult. But molecular systematics now indicate very strongly that domestic dogs and wolves are closely related', ' and the domestic dog is now normally classified as a subspecies of the wolf: Canis lupus familiaris. The main differences between wolves and domestic dogs are that wolves have', ' on average', ' 20% larger brains', ' better immune systems', ' a better sense of smell', ' and are generally larger than domestic dogs.\"', ' \"The gray wolf is a member of the genus Canis', \" which comprises between 7 and 10 species. It is one of six species termed 'wolf'\", ' the others being the Red Wolf (Canis rufus)', ' the Indian Wolf (Canis indica)', ' the Himalayan wolf (Canis himalayaensis)', ' the Eastern Canadian Wolf (Canis lycaon) and the Ethiopian Wolf (Canis simensis).\"', \" 'With respect to common names\", ' spelling differences result in the alternative spelling grey wolf. As the first-named and most widespread of species termed \"wolf\"', ' gray wolves are often simply referred to as wolves. It was one of the many species originally described by Carolus Linnaeus in his eighteenth-century work', ' Systema Naturae', ' and it still bears its original classification', ' Canis lupus.      The binomial name is derived from the Latin Canis', ' meaning \"dog\"', ' and lupus', ' \"wolf\".\\'', \" 'At one point\", ' up to 50 gray wolf subspecies were recognized. Though no true consensus has been reached', ' this list can be condensed to 13â\\\\x80\\\\x9315 general extant subspecies. Modern classifications take into account the DNA', ' anatomy', ' distribution', \" and migration of various wolf colonies.'\", \" 'Though once abundant over much of North America and Eurasia\", ' the gray wolf inhabits a very small portion of its former range because of widespread destruction of its habitat; in some regions it is endangered or threatened. Considered as a whole', ' however', ' the gray wolf is regarded as of least concern for extinction according to the International Union for the Conservation of Nature and Natural Resources. Wolves are still hunted in many areas for sport or as perceived threats to livestock. Kazakhstan is currently thought to have the largest wolf population of any nation; it has as many as 90', '000', ' versus some 60', \"000 for Canada.'\", \" 'Dog breeds with recent wolf ancestry:'\", \" 'Historically\", ' gray wolf classification has been transient in nature. As a result', \" there still exists some disagreement as to the status of certain possible subspecies. These are listed below.'\", \" 'Extinct Gray wolves:']\"]\n",
      "\n",
      "======================================================================\n",
      "\n",
      "Overall Metric Pass Rates\n",
      "\n",
      "Contextual Precision: 100.00% pass rate\n",
      "\n",
      "======================================================================\n",
      "\n"
     ]
    },
    {
     "name": "stderr",
     "output_type": "stream",
     "text": [
      "\n"
     ]
    },
    {
     "data": {
      "text/html": [
       "<pre style=\"white-space:pre;overflow-x:auto;line-height:normal;font-family:Menlo,'DejaVu Sans Mono',consolas,'Courier New',monospace\"><span style=\"color: #05f58d; text-decoration-color: #05f58d\">✓</span> Tests finished 🎉! Run <span style=\"color: #008000; text-decoration-color: #008000\">'deepeval login'</span> to save and analyze evaluation results on Confident AI.  \n",
       "‼️ Looking for a place for your LLM test data to live 🏡? Use Confident AI for test reports, benchmark analysis, \n",
       "compare models/prompts, and catch regressions for your LLM system.\n",
       "</pre>\n"
      ],
      "text/plain": [
       "\u001b[38;2;5;245;141m✓\u001b[0m Tests finished 🎉! Run \u001b[32m'deepeval login'\u001b[0m to save and analyze evaluation results on Confident AI.  \n",
       "‼️ Looking for a place for your LLM test data to live 🏡? Use Confident AI for test reports, benchmark analysis, \n",
       "compare models/prompts, and catch regressions for your LLM system.\n"
      ]
     },
     "metadata": {},
     "output_type": "display_data"
    },
    {
     "name": "stdout",
     "output_type": "stream",
     "text": [
      "292\n"
     ]
    },
    {
     "data": {
      "text/html": [
       "<pre style=\"white-space:pre;overflow-x:auto;line-height:normal;font-family:Menlo,'DejaVu Sans Mono',consolas,'Courier New',monospace\">✨ You're running DeepEval's latest <span style=\"color: #6a00ff; text-decoration-color: #6a00ff\">Contextual Precision Metric</span>! <span style=\"color: #374151; text-decoration-color: #374151; font-weight: bold\">(</span><span style=\"color: #374151; text-decoration-color: #374151\">using Gemini </span><span style=\"color: #374151; text-decoration-color: #374151; font-weight: bold\">1.5</span><span style=\"color: #374151; text-decoration-color: #374151\"> Flash, </span><span style=\"color: #374151; text-decoration-color: #374151\">strict</span><span style=\"color: #374151; text-decoration-color: #374151\">=</span><span style=\"color: #374151; text-decoration-color: #374151; font-style: italic\">False</span><span style=\"color: #374151; text-decoration-color: #374151\">, </span>\n",
       "<span style=\"color: #374151; text-decoration-color: #374151\">async_mode</span><span style=\"color: #374151; text-decoration-color: #374151\">=</span><span style=\"color: #374151; text-decoration-color: #374151; font-style: italic\">True</span><span style=\"color: #374151; text-decoration-color: #374151; font-weight: bold\">)</span><span style=\"color: #374151; text-decoration-color: #374151\">...</span>\n",
       "</pre>\n"
      ],
      "text/plain": [
       "✨ You're running DeepEval's latest \u001b[38;2;106;0;255mContextual Precision Metric\u001b[0m! \u001b[1;38;2;55;65;81m(\u001b[0m\u001b[38;2;55;65;81musing Gemini \u001b[0m\u001b[1;38;2;55;65;81m1.5\u001b[0m\u001b[38;2;55;65;81m Flash, \u001b[0m\u001b[38;2;55;65;81mstrict\u001b[0m\u001b[38;2;55;65;81m=\u001b[0m\u001b[3;38;2;55;65;81mFalse\u001b[0m\u001b[38;2;55;65;81m, \u001b[0m\n",
       "\u001b[38;2;55;65;81masync_mode\u001b[0m\u001b[38;2;55;65;81m=\u001b[0m\u001b[3;38;2;55;65;81mTrue\u001b[0m\u001b[1;38;2;55;65;81m)\u001b[0m\u001b[38;2;55;65;81m...\u001b[0m\n"
      ]
     },
     "metadata": {},
     "output_type": "display_data"
    },
    {
     "name": "stdout",
     "output_type": "stream",
     "text": [
      "Event loop is already running. Applying nest_asyncio patch to allow async execution...\n"
     ]
    },
    {
     "name": "stderr",
     "output_type": "stream",
     "text": [
      "Evaluating 1 test case(s) in parallel: |███████████████████████████████|100% (1/1) [Time Taken: 00:20, 20.02s/test case]"
     ]
    },
    {
     "name": "stdout",
     "output_type": "stream",
     "text": [
      "\n",
      "======================================================================\n",
      "\n",
      "Metrics Summary\n",
      "\n",
      "  - ✅ Contextual Precision (score: 0.8333333333333333, threshold: 0.5, strict: False, evaluation model: Gemini 1.5 Flash, reason: None, error: None)\n",
      "\n",
      "For test case:\n",
      "\n",
      "  - input: Do wolf pups tend to have darker fur than adults?\n",
      "  - actual output: Yes, the text says wolf pups tend to have darker fur at birth than they will as adults.\n",
      "\n",
      "  - expected output: Yes\n",
      "  - context: []\n",
      "  - retrieval context: [\"['At birth\", ' wolf pups tend to have darker fur and blue irises that will change to a yellow-gold or orange color when the pups are between 8 and 16 weeks old.    Though extremely unusual', \" it is possible for an adult wolf to retain its blue-colored irises.'\", ' \"Fur coloration varies greatly', ' running from gray to gray-brown', ' all the way through the canine spectrum of white', ' red', ' brown', ' and black. These colors tend to mix in many populations to form predominantly blended individuals', \" though it is certainly not uncommon for an individual or an entire population to be entirely one color (usually all black or all white). A multicolor coat characteristically lacks any clear pattern other than it tends to be lighter on the animal's underside. Fur color sometimes corresponds with a given wolf population's environment; for example\", ' all-white wolves are much more common in areas with perennial snow cover. Aging wolves acquire a grayish tint in their coats.\"', ' \"Wolves have bulky coats consisting of two layers. The first layer is made up of tough guard hairs designed to repel water and dirt. The second is a dense', \" water-resistant undercoat that insulates. The undercoat is shed in the form of large tufts of fur in late spring or early summer (with yearly variations). A wolf will often rub against objects such as rocks and branches to encourage the loose fur to fall out. The undercoat is usually gray regardless of the outer coat's appearance. Wolves have distinct winter and summer pelages that alternate in spring and autumn. Females tend to keep their winter coats further into the spring than males. North American wolves typically have longer\", ' silkier fur than their Eurasian counterparts.\"', ' \"It is often thought that the coloration of the wolf\\'s pelage serves as a functional form of camouflage. This may not be entirely correct', ' as some scientists have concluded that the blended colors have more to do with emphasizing certain gestures during interaction.\"', ' \"Wolf weight and size can vary greatly worldwide', \" tending to increase proportionally with latitude as predicted by Bergmann's Rule. In general\", ' height varies from 0.6 to 0.95 meters (26 38 inches) at the shoulder and weight ranges from 32 to 62 kilograms (70 135 pounds)', ' which together make the gray wolf the largest of all wild canids.    Although rarely encountered', ' extreme specimens of more than 77 kg (170 lb) have been recorded in Alaska and Canada.    The heaviest wild wolf on record', ' killed in Alaska in 1939', ' was 80 kg (175 lb).    The smallest wolves come from the Arabian Wolf subspecies', ' the females of which may weigh as little as 10 kg (22 lb) at maturity. Females in any given wolf population typically weigh about 20% less than their male counterparts.    Wolves can measure anywhere from 1.3 to 2 meters (4.5 6.5 feet) from nose to the tip of the tail', ' which itself accounts for approximately one quarter of overall body length.\"', \" 'Wolves usually have blended pelages.'\", \" 'Wolves typically reach sexual maturity after two or three years\", ' at which point many of them will be compelled to leave their birth packs and seek out mates and territories of their own.     Wolves that reach maturity generally live 6 to 8 years in the wild', ' although in captivity they can live to twice that age.  High mortality rates give them a low overall life expectancy. Pups die when food is scarce; they can also fall prey to predators such as bears', ' or', ' less often', ' coyotes', ' foxes', ' or other wolves. The most significant causes of mortality for grown wolves are hunting and poaching', ' car accidents', ' and wounds inflicted while hunting prey. Although adult wolves may be killed by other predators occasionally', \" rival wolf packs are often their most dangerous non-human enemy. A study on wolf mortality concluded that 14â\\\\x80\\\\x9365% of wolf deaths were inflicted by other wolves.'\", \" 'Wolves molt in late spring or early summer.'\", \" 'The gray wolf (Canis lupus)\", ' also known as the timber wolf or', ' simply', ' wolf', \" is a mammal of the order Carnivora. The gray wolf is the largest member of the family Canidae and also the most well known of wolves. Its shoulder height ranges from 0.6 to 0.9 meters (26â\\\\x80\\\\x9336 inches) and its weight typically varies between 32 and 62 kilograms (70â\\\\x80\\\\x93135 pounds). As evidenced by studies of DNA sequencing and genetic drift the gray wolf shares a common ancestry with the domestic dog (Canis lupus familiaris).'\", ' \"Wolves\\' long', ' powerful muzzles help distinguish them from other canids', ' particularly coyotes and golden jackals', ' which have more narrow', ' pointed muzzles. Wolves differ from domestic dogs in a more varied nature. Anatomically', ' wolves have smaller orbital angles than dogs (>53 degrees for dogs compared with     Larger paw size', ' yellow eyes', ' longer legs', ' and bigger teeth further distinguish adult wolves from other canids', ' especially dogs. Also', ' precaudal glands at the base of the tail are present in wolves but not in dogs.\"]']\n",
      "\n",
      "======================================================================\n",
      "\n",
      "Overall Metric Pass Rates\n",
      "\n",
      "Contextual Precision: 100.00% pass rate\n",
      "\n",
      "======================================================================\n",
      "\n"
     ]
    },
    {
     "name": "stderr",
     "output_type": "stream",
     "text": [
      "\n"
     ]
    },
    {
     "data": {
      "text/html": [
       "<pre style=\"white-space:pre;overflow-x:auto;line-height:normal;font-family:Menlo,'DejaVu Sans Mono',consolas,'Courier New',monospace\"><span style=\"color: #05f58d; text-decoration-color: #05f58d\">✓</span> Tests finished 🎉! Run <span style=\"color: #008000; text-decoration-color: #008000\">'deepeval login'</span> to save and analyze evaluation results on Confident AI.  \n",
       "‼️ Looking for a place for your LLM test data to live 🏡? Use Confident AI for test reports, benchmark analysis, \n",
       "compare models/prompts, and catch regressions for your LLM system.\n",
       "</pre>\n"
      ],
      "text/plain": [
       "\u001b[38;2;5;245;141m✓\u001b[0m Tests finished 🎉! Run \u001b[32m'deepeval login'\u001b[0m to save and analyze evaluation results on Confident AI.  \n",
       "‼️ Looking for a place for your LLM test data to live 🏡? Use Confident AI for test reports, benchmark analysis, \n",
       "compare models/prompts, and catch regressions for your LLM system.\n"
      ]
     },
     "metadata": {},
     "output_type": "display_data"
    },
    {
     "name": "stdout",
     "output_type": "stream",
     "text": [
      "293\n"
     ]
    },
    {
     "data": {
      "text/html": [
       "<pre style=\"white-space:pre;overflow-x:auto;line-height:normal;font-family:Menlo,'DejaVu Sans Mono',consolas,'Courier New',monospace\">✨ You're running DeepEval's latest <span style=\"color: #6a00ff; text-decoration-color: #6a00ff\">Contextual Precision Metric</span>! <span style=\"color: #374151; text-decoration-color: #374151; font-weight: bold\">(</span><span style=\"color: #374151; text-decoration-color: #374151\">using Gemini </span><span style=\"color: #374151; text-decoration-color: #374151; font-weight: bold\">1.5</span><span style=\"color: #374151; text-decoration-color: #374151\"> Flash, </span><span style=\"color: #374151; text-decoration-color: #374151\">strict</span><span style=\"color: #374151; text-decoration-color: #374151\">=</span><span style=\"color: #374151; text-decoration-color: #374151; font-style: italic\">False</span><span style=\"color: #374151; text-decoration-color: #374151\">, </span>\n",
       "<span style=\"color: #374151; text-decoration-color: #374151\">async_mode</span><span style=\"color: #374151; text-decoration-color: #374151\">=</span><span style=\"color: #374151; text-decoration-color: #374151; font-style: italic\">True</span><span style=\"color: #374151; text-decoration-color: #374151; font-weight: bold\">)</span><span style=\"color: #374151; text-decoration-color: #374151\">...</span>\n",
       "</pre>\n"
      ],
      "text/plain": [
       "✨ You're running DeepEval's latest \u001b[38;2;106;0;255mContextual Precision Metric\u001b[0m! \u001b[1;38;2;55;65;81m(\u001b[0m\u001b[38;2;55;65;81musing Gemini \u001b[0m\u001b[1;38;2;55;65;81m1.5\u001b[0m\u001b[38;2;55;65;81m Flash, \u001b[0m\u001b[38;2;55;65;81mstrict\u001b[0m\u001b[38;2;55;65;81m=\u001b[0m\u001b[3;38;2;55;65;81mFalse\u001b[0m\u001b[38;2;55;65;81m, \u001b[0m\n",
       "\u001b[38;2;55;65;81masync_mode\u001b[0m\u001b[38;2;55;65;81m=\u001b[0m\u001b[3;38;2;55;65;81mTrue\u001b[0m\u001b[1;38;2;55;65;81m)\u001b[0m\u001b[38;2;55;65;81m...\u001b[0m\n"
      ]
     },
     "metadata": {},
     "output_type": "display_data"
    },
    {
     "name": "stdout",
     "output_type": "stream",
     "text": [
      "Event loop is already running. Applying nest_asyncio patch to allow async execution...\n"
     ]
    },
    {
     "name": "stderr",
     "output_type": "stream",
     "text": [
      "Evaluating 1 test case(s) in parallel: |███████████████████████████████|100% (1/1) [Time Taken: 00:20, 20.02s/test case]"
     ]
    },
    {
     "name": "stdout",
     "output_type": "stream",
     "text": [
      "\n",
      "======================================================================\n",
      "\n",
      "Metrics Summary\n",
      "\n",
      "  - ✅ Contextual Precision (score: 1.0, threshold: 0.5, strict: False, evaluation model: Gemini 1.5 Flash, reason: None, error: None)\n",
      "\n",
      "For test case:\n",
      "\n",
      "  - input: Do wolves leave their pack?\n",
      "  - actual output: Yes, the text indicates that young wolves, typically upon reaching sexual maturity, leave their birth packs to find mates and establish their own territories.  This is referred to as dispersal.\n",
      "\n",
      "  - expected output: Yes\n",
      "  - context: []\n",
      "  - retrieval context: ['[\"The size of the pack may change over time and is controlled by several factors', ' including habitat', ' personalities of individual wolves within a pack', ' and food supply. Packs can contain between 2 and 20 wolves', ' though 8 is a more typical size.    New packs are formed when a wolf leaves its birth pack', ' finds a mate', \" and claims a territory. Lone wolves searching for other individuals can travel very long distances seeking out suitable territories. Dispersing individuals must avoid the territories of other wolves because intruders on occupied territories are chased away or killed. It is taboo for one wolf to travel into another wolf's territory unless invited. Most dogs\", ' except perhaps large', ' specially bred attack dogs', ' do not stand much of a chance against a pack of wolves protecting its territory from an intrusion.\"', \" 'Usually\", ' the instinct to reproduce drives young wolves away from their birth packs', ' leading them to seek out mates and territories of their own. Dispersals occur at all times during the year', ' typically involving wolves that have reached sexual maturity prior to the previous breeding season. It takes two such dispersals from two separate packs for a new breeding pair to be formed', ' for dispersing wolves from the same maternal pack tend not to mate.   Once two dispersing wolves meet and begin traveling together', ' they immediately begin the process of seeking out territory', \" preferably in time for the next mating season. The bond that forms between these wolves often lasts until one of them dies.'\", \" 'Loss of rank can happen gradually or suddenly. An older wolf may simply choose to give way when a motivated challenger presents itself\", ' yielding its position without bloodshed. On the other hand', ' the challenged individual may choose to fight back with varying degrees of intensity. While the majority of wolf aggression is ritualized and non-injurious', ' a high-stakes fight can easily result in injury for either or both parties. The loser of such a confrontation is frequently chased away from the pack or', ' rarely', ' may be killed as other aggressive wolves contribute to the insurgency. These types of confrontations are more common during the mating season. Though rare', ' deaths can and will occur', \" as the average alpha male wolf kills two to four wolves in his lifetime.'\", ' \\'Rank order within a pack is established and maintained through a series of ritualized fights and posturing best described as \"ritual bluffing\". Wolves prefer psychological warfare  to physical confrontations', ' meaning that high-ranking status is based more on personality or attitude than on size or physical strength. Rank', ' who holds it', ' and how it is enforced varies widely between packs and between individual animals. In large packs full of easygoing wolves or in a group of juvenile wolves', ' rank order may shift almost constantly', ' or even be circular (for instance', ' animal A dominates animal B', ' who dominates animal C', \" who dominates animal A).'\", \" 'Wolves acting unusually within the pack\", ' such as epileptic pups or thrashing adults crippled by a trap or a gunshot', \" are usually killed by other members of their own pack.'\", \" 'Wolves typically reach sexual maturity after two or three years\", ' at which point many of them will be compelled to leave their birth packs and seek out mates and territories of their own.     Wolves that reach maturity generally live 6 to 8 years in the wild', ' although in captivity they can live to twice that age.  High mortality rates give them a low overall life expectancy. Pups die when food is scarce; they can also fall prey to predators such as bears', ' or', ' less often', ' coyotes', ' foxes', ' or other wolves. The most significant causes of mortality for grown wolves are hunting and poaching', ' car accidents', ' and wounds inflicted while hunting prey. Although adult wolves may be killed by other predators occasionally', \" rival wolf packs are often their most dangerous non-human enemy. A study on wolf mortality concluded that 14â\\\\x80\\\\x9365% of wolf deaths were inflicted by other wolves.'\", ' \"Usually', ' only the alpha pair is able to rear a litter of pups successfully. Other wolves in a pack may breed', ' but when resources are limited', ' time', ' devotion', \" and preference will be given to the alpha pair's litter. Therefore\", ' non-alpha parents of other litters within a single pack may lack the means to raise their pups to maturity of their own accord. All wolves in a pack assist in raising wolf pups. Some mature individuals choosing not to disperse may stay in their original packs so as to reinforce it and help rear more pups.\"', \" 'After the alpha pair\", ' there may also', ' especially in larger packs', ' be a beta wolf or wolves', ' a \"second-in-command\" to the alphas. Betas typically assume a more prominent role in assisting with the upbringing of the alpha pair\\\\\\'s litter', ' often serving as surrogate mothers or fathers while the alpha pair is away. Beta wolves are the most likely to challenge their superiors for the role of the alpha', ' though some betas seem content with being second', ' and will sometimes even let lower ranking wolves leapfrog them for the position of alpha should circumstances necessitate such a happening', ' such as the death of the alpha. More ambitious beta wolves', ' however', \" will only wait so long before contending for alpha position unless they choose to disperse and create their own pack instead.'\", \" 'Wolves function as social predators and hunt in packs organized according to strict\", ' rank-oriented social hierarchies.  It was originally believed that this comparatively high level of social organization was related to hunting success', ' and while this still may be true to a certain extent', \" emerging theories suggest that the pack has less to do with hunting and more to do with reproductive success.'\", \" 'Packs of wolves cooperatively hunt any large herbivores in their range. Pack hunting revolves around the chase\", ' as wolves are able to run for long periods before relenting. It takes careful cooperation for a pack to take down large prey', ' and the rate of success for such chase is very low. Wolves', ' in the interest of saving energy', ' will only chase one potential prey for the first thousand or so meters before giving up and trying at a different time against a different prey.    Therefore', ' like most other pack species', ' wolves must hunt continually to sustain themselves. Solitary wolves depend more on smaller animals', \" which they capture by pouncing and pinning with their front paws. This technique is also common among other canids such as foxes and coyotes.']\"]\n",
      "\n",
      "======================================================================\n",
      "\n",
      "Overall Metric Pass Rates\n",
      "\n",
      "Contextual Precision: 100.00% pass rate\n",
      "\n",
      "======================================================================\n",
      "\n"
     ]
    },
    {
     "name": "stderr",
     "output_type": "stream",
     "text": [
      "\n"
     ]
    },
    {
     "data": {
      "text/html": [
       "<pre style=\"white-space:pre;overflow-x:auto;line-height:normal;font-family:Menlo,'DejaVu Sans Mono',consolas,'Courier New',monospace\"><span style=\"color: #05f58d; text-decoration-color: #05f58d\">✓</span> Tests finished 🎉! Run <span style=\"color: #008000; text-decoration-color: #008000\">'deepeval login'</span> to save and analyze evaluation results on Confident AI.  \n",
       "‼️ Looking for a place for your LLM test data to live 🏡? Use Confident AI for test reports, benchmark analysis, \n",
       "compare models/prompts, and catch regressions for your LLM system.\n",
       "</pre>\n"
      ],
      "text/plain": [
       "\u001b[38;2;5;245;141m✓\u001b[0m Tests finished 🎉! Run \u001b[32m'deepeval login'\u001b[0m to save and analyze evaluation results on Confident AI.  \n",
       "‼️ Looking for a place for your LLM test data to live 🏡? Use Confident AI for test reports, benchmark analysis, \n",
       "compare models/prompts, and catch regressions for your LLM system.\n"
      ]
     },
     "metadata": {},
     "output_type": "display_data"
    },
    {
     "name": "stdout",
     "output_type": "stream",
     "text": [
      "294\n"
     ]
    },
    {
     "data": {
      "text/html": [
       "<pre style=\"white-space:pre;overflow-x:auto;line-height:normal;font-family:Menlo,'DejaVu Sans Mono',consolas,'Courier New',monospace\">✨ You're running DeepEval's latest <span style=\"color: #6a00ff; text-decoration-color: #6a00ff\">Contextual Precision Metric</span>! <span style=\"color: #374151; text-decoration-color: #374151; font-weight: bold\">(</span><span style=\"color: #374151; text-decoration-color: #374151\">using Gemini </span><span style=\"color: #374151; text-decoration-color: #374151; font-weight: bold\">1.5</span><span style=\"color: #374151; text-decoration-color: #374151\"> Flash, </span><span style=\"color: #374151; text-decoration-color: #374151\">strict</span><span style=\"color: #374151; text-decoration-color: #374151\">=</span><span style=\"color: #374151; text-decoration-color: #374151; font-style: italic\">False</span><span style=\"color: #374151; text-decoration-color: #374151\">, </span>\n",
       "<span style=\"color: #374151; text-decoration-color: #374151\">async_mode</span><span style=\"color: #374151; text-decoration-color: #374151\">=</span><span style=\"color: #374151; text-decoration-color: #374151; font-style: italic\">True</span><span style=\"color: #374151; text-decoration-color: #374151; font-weight: bold\">)</span><span style=\"color: #374151; text-decoration-color: #374151\">...</span>\n",
       "</pre>\n"
      ],
      "text/plain": [
       "✨ You're running DeepEval's latest \u001b[38;2;106;0;255mContextual Precision Metric\u001b[0m! \u001b[1;38;2;55;65;81m(\u001b[0m\u001b[38;2;55;65;81musing Gemini \u001b[0m\u001b[1;38;2;55;65;81m1.5\u001b[0m\u001b[38;2;55;65;81m Flash, \u001b[0m\u001b[38;2;55;65;81mstrict\u001b[0m\u001b[38;2;55;65;81m=\u001b[0m\u001b[3;38;2;55;65;81mFalse\u001b[0m\u001b[38;2;55;65;81m, \u001b[0m\n",
       "\u001b[38;2;55;65;81masync_mode\u001b[0m\u001b[38;2;55;65;81m=\u001b[0m\u001b[3;38;2;55;65;81mTrue\u001b[0m\u001b[1;38;2;55;65;81m)\u001b[0m\u001b[38;2;55;65;81m...\u001b[0m\n"
      ]
     },
     "metadata": {},
     "output_type": "display_data"
    },
    {
     "name": "stdout",
     "output_type": "stream",
     "text": [
      "Event loop is already running. Applying nest_asyncio patch to allow async execution...\n"
     ]
    },
    {
     "name": "stderr",
     "output_type": "stream",
     "text": [
      "Evaluating 1 test case(s) in parallel: |███████████████████████████████|100% (1/1) [Time Taken: 00:20, 20.02s/test case]"
     ]
    },
    {
     "name": "stdout",
     "output_type": "stream",
     "text": [
      "\n",
      "======================================================================\n",
      "\n",
      "Metrics Summary\n",
      "\n",
      "  - ✅ Contextual Precision (score: 1.0, threshold: 0.5, strict: False, evaluation model: Gemini 1.5 Flash, reason: None, error: None)\n",
      "\n",
      "For test case:\n",
      "\n",
      "  - input: What kinds of coats do wolves have?\n",
      "  - actual output: Wolves have double coats.  The outer layer consists of tough guard hairs that repel water and dirt, while the inner layer is a dense, water-resistant undercoat that provides insulation.  They also have distinct winter and summer coats.\n",
      "\n",
      "  - expected output: bulky coats with two layers\n",
      "  - context: []\n",
      "  - retrieval context: ['[\"Wolves have bulky coats consisting of two layers. The first layer is made up of tough guard hairs designed to repel water and dirt. The second is a dense', \" water-resistant undercoat that insulates. The undercoat is shed in the form of large tufts of fur in late spring or early summer (with yearly variations). A wolf will often rub against objects such as rocks and branches to encourage the loose fur to fall out. The undercoat is usually gray regardless of the outer coat's appearance. Wolves have distinct winter and summer pelages that alternate in spring and autumn. Females tend to keep their winter coats further into the spring than males. North American wolves typically have longer\", ' silkier fur than their Eurasian counterparts.\"', ' \"Fur coloration varies greatly', ' running from gray to gray-brown', ' all the way through the canine spectrum of white', ' red', ' brown', ' and black. These colors tend to mix in many populations to form predominantly blended individuals', \" though it is certainly not uncommon for an individual or an entire population to be entirely one color (usually all black or all white). A multicolor coat characteristically lacks any clear pattern other than it tends to be lighter on the animal's underside. Fur color sometimes corresponds with a given wolf population's environment; for example\", ' all-white wolves are much more common in areas with perennial snow cover. Aging wolves acquire a grayish tint in their coats.\"', \" 'Wolves usually have blended pelages.'\", ' \"It is often thought that the coloration of the wolf\\'s pelage serves as a functional form of camouflage. This may not be entirely correct', ' as some scientists have concluded that the blended colors have more to do with emphasizing certain gestures during interaction.\"', \" 'Wolves molt in late spring or early summer.'\", ' \"Bristled hairs and blunt claws enhance grip on slippery surfaces', \" and special blood vessels keep paw pads from freezing.    Scent glands located between a wolf's toes leave trace chemical markers behind\", ' helping the wolf to effectively navigate over large expanses while concurrently keeping others informed of its whereabouts.  Unlike dogs and coyotes', ' wolves lack sweat glands on their paw pads. This trait is also present in Eastern Canadian Coyotes which have been shown to have recent wolf ancestry.    Wolves in Israel are unique due to the middle two toes of their paws being fused', ' a trait originally thought to be unique to the African Wild Dog.\"', \" 'The gray wolf (Canis lupus)\", ' also known as the timber wolf or', ' simply', ' wolf', \" is a mammal of the order Carnivora. The gray wolf is the largest member of the family Canidae and also the most well known of wolves. Its shoulder height ranges from 0.6 to 0.9 meters (26â\\\\x80\\\\x9336 inches) and its weight typically varies between 32 and 62 kilograms (70â\\\\x80\\\\x93135 pounds). As evidenced by studies of DNA sequencing and genetic drift the gray wolf shares a common ancestry with the domestic dog (Canis lupus familiaris).'\", ' \"Wolves are also bred for their fur in a very few locations', ' but they are considered as a rather problematic animal to breed', ' and', ' combined with the low value of the pelt', ' most fur farms utilize other animals. Wolves\\' varied coats make it difficult to create fur coats.\"', ' \"Wolf weight and size can vary greatly worldwide', \" tending to increase proportionally with latitude as predicted by Bergmann's Rule. In general\", ' height varies from 0.6 to 0.95 meters (26 38 inches) at the shoulder and weight ranges from 32 to 62 kilograms (70 135 pounds)', ' which together make the gray wolf the largest of all wild canids.    Although rarely encountered', ' extreme specimens of more than 77 kg (170 lb) have been recorded in Alaska and Canada.    The heaviest wild wolf on record', ' killed in Alaska in 1939', ' was 80 kg (175 lb).    The smallest wolves come from the Arabian Wolf subspecies', ' the females of which may weigh as little as 10 kg (22 lb) at maturity. Females in any given wolf population typically weigh about 20% less than their male counterparts.    Wolves can measure anywhere from 1.3 to 2 meters (4.5 6.5 feet) from nose to the tip of the tail', ' which itself accounts for approximately one quarter of overall body length.\"', ' \"The gray wolf is a member of the genus Canis', \" which comprises between 7 and 10 species. It is one of six species termed 'wolf'\", ' the others being the Red Wolf (Canis rufus)', ' the Indian Wolf (Canis indica)', ' the Himalayan wolf (Canis himalayaensis)', ' the Eastern Canadian Wolf (Canis lycaon) and the Ethiopian Wolf (Canis simensis).\"]']\n",
      "\n",
      "======================================================================\n",
      "\n",
      "Overall Metric Pass Rates\n",
      "\n",
      "Contextual Precision: 100.00% pass rate\n",
      "\n",
      "======================================================================\n",
      "\n"
     ]
    },
    {
     "name": "stderr",
     "output_type": "stream",
     "text": [
      "\n"
     ]
    },
    {
     "data": {
      "text/html": [
       "<pre style=\"white-space:pre;overflow-x:auto;line-height:normal;font-family:Menlo,'DejaVu Sans Mono',consolas,'Courier New',monospace\"><span style=\"color: #05f58d; text-decoration-color: #05f58d\">✓</span> Tests finished 🎉! Run <span style=\"color: #008000; text-decoration-color: #008000\">'deepeval login'</span> to save and analyze evaluation results on Confident AI.  \n",
       "‼️ Looking for a place for your LLM test data to live 🏡? Use Confident AI for test reports, benchmark analysis, \n",
       "compare models/prompts, and catch regressions for your LLM system.\n",
       "</pre>\n"
      ],
      "text/plain": [
       "\u001b[38;2;5;245;141m✓\u001b[0m Tests finished 🎉! Run \u001b[32m'deepeval login'\u001b[0m to save and analyze evaluation results on Confident AI.  \n",
       "‼️ Looking for a place for your LLM test data to live 🏡? Use Confident AI for test reports, benchmark analysis, \n",
       "compare models/prompts, and catch regressions for your LLM system.\n"
      ]
     },
     "metadata": {},
     "output_type": "display_data"
    },
    {
     "name": "stdout",
     "output_type": "stream",
     "text": [
      "295\n"
     ]
    },
    {
     "data": {
      "text/html": [
       "<pre style=\"white-space:pre;overflow-x:auto;line-height:normal;font-family:Menlo,'DejaVu Sans Mono',consolas,'Courier New',monospace\">✨ You're running DeepEval's latest <span style=\"color: #6a00ff; text-decoration-color: #6a00ff\">Contextual Precision Metric</span>! <span style=\"color: #374151; text-decoration-color: #374151; font-weight: bold\">(</span><span style=\"color: #374151; text-decoration-color: #374151\">using Gemini </span><span style=\"color: #374151; text-decoration-color: #374151; font-weight: bold\">1.5</span><span style=\"color: #374151; text-decoration-color: #374151\"> Flash, </span><span style=\"color: #374151; text-decoration-color: #374151\">strict</span><span style=\"color: #374151; text-decoration-color: #374151\">=</span><span style=\"color: #374151; text-decoration-color: #374151; font-style: italic\">False</span><span style=\"color: #374151; text-decoration-color: #374151\">, </span>\n",
       "<span style=\"color: #374151; text-decoration-color: #374151\">async_mode</span><span style=\"color: #374151; text-decoration-color: #374151\">=</span><span style=\"color: #374151; text-decoration-color: #374151; font-style: italic\">True</span><span style=\"color: #374151; text-decoration-color: #374151; font-weight: bold\">)</span><span style=\"color: #374151; text-decoration-color: #374151\">...</span>\n",
       "</pre>\n"
      ],
      "text/plain": [
       "✨ You're running DeepEval's latest \u001b[38;2;106;0;255mContextual Precision Metric\u001b[0m! \u001b[1;38;2;55;65;81m(\u001b[0m\u001b[38;2;55;65;81musing Gemini \u001b[0m\u001b[1;38;2;55;65;81m1.5\u001b[0m\u001b[38;2;55;65;81m Flash, \u001b[0m\u001b[38;2;55;65;81mstrict\u001b[0m\u001b[38;2;55;65;81m=\u001b[0m\u001b[3;38;2;55;65;81mFalse\u001b[0m\u001b[38;2;55;65;81m, \u001b[0m\n",
       "\u001b[38;2;55;65;81masync_mode\u001b[0m\u001b[38;2;55;65;81m=\u001b[0m\u001b[3;38;2;55;65;81mTrue\u001b[0m\u001b[1;38;2;55;65;81m)\u001b[0m\u001b[38;2;55;65;81m...\u001b[0m\n"
      ]
     },
     "metadata": {},
     "output_type": "display_data"
    },
    {
     "name": "stdout",
     "output_type": "stream",
     "text": [
      "Event loop is already running. Applying nest_asyncio patch to allow async execution...\n"
     ]
    },
    {
     "name": "stderr",
     "output_type": "stream",
     "text": [
      "Evaluating 1 test case(s) in parallel: |███████████████████████████████|100% (1/1) [Time Taken: 00:20, 20.02s/test case]"
     ]
    },
    {
     "name": "stdout",
     "output_type": "stream",
     "text": [
      "\n",
      "======================================================================\n",
      "\n",
      "Metrics Summary\n",
      "\n",
      "  - ✅ Contextual Precision (score: 1.0, threshold: 0.5, strict: False, evaluation model: Gemini 1.5 Flash, reason: None, error: None)\n",
      "\n",
      "For test case:\n",
      "\n",
      "  - input: Where do wolves have scent glands?\n",
      "  - actual output: Wolves have scent glands all over their bodies, including at the base of the tail, between their toes, and in their eyes, genitalia, and skin.\n",
      "\n",
      "  - expected output: Helping the woldf to effectively navigate over large expanses while concurrently keeping others informed of its whereabouts.\n",
      "  - context: []\n",
      "  - retrieval context: [\"['Wolves have scent glands all over their bodies\", ' including at the base of the tail', ' between toes', ' and in the eyes', ' genitalia', ' and skin.  Pheromones secreted by these glands identify each individual wolf. A dominant wolf will \"rub\" its body against subordinate wolves to mark such wolves as being members of a particular pack. Wolves may also \"paw\" dirt to release pheromones instead of urine marking.\\'', ' \"Bristled hairs and blunt claws enhance grip on slippery surfaces', \" and special blood vessels keep paw pads from freezing.    Scent glands located between a wolf's toes leave trace chemical markers behind\", ' helping the wolf to effectively navigate over large expanses while concurrently keeping others informed of its whereabouts.  Unlike dogs and coyotes', ' wolves lack sweat glands on their paw pads. This trait is also present in Eastern Canadian Coyotes which have been shown to have recent wolf ancestry.    Wolves in Israel are unique due to the middle two toes of their paws being fused', ' a trait originally thought to be unique to the African Wild Dog.\"', \" 'Wolves scent-roll to bring scents back to the pack.'\", ' \"Wolves have bulky coats consisting of two layers. The first layer is made up of tough guard hairs designed to repel water and dirt. The second is a dense', \" water-resistant undercoat that insulates. The undercoat is shed in the form of large tufts of fur in late spring or early summer (with yearly variations). A wolf will often rub against objects such as rocks and branches to encourage the loose fur to fall out. The undercoat is usually gray regardless of the outer coat's appearance. Wolves have distinct winter and summer pelages that alternate in spring and autumn. Females tend to keep their winter coats further into the spring than males. North American wolves typically have longer\", ' silkier fur than their Eurasian counterparts.\"', ' \"Wolves\\' heavy reliance on odoriferous signals testifies greatly to their olfactory capabilities. Wolves can detect virtually any scent', ' including marks', ' from great distances', ' and can distinguish among them as well or better than humans can distinguish other humans visually.\"', \" 'Wolves\", ' like other canines', ' use scent marking to lay claim to anythingâ\\\\x80\\\\x94from territory to fresh kills.    Alpha wolves scent mark the most often', ' with males doing so more than females. The most widely used scent marker is urine. Male and female alpha wolves urine-mark objects with a raised-leg stance (all other pack members squat) to enforce rank and territory. They also use marks to identify food caches and to claim kills on behalf of the pack. Defecation markers are used for the same purpose as urine marks', ' and serve as a more visual warning', ' as well.  Defecation markers are particularly useful for navigation', ' keeping the pack from traversing the same terrain too often and also allowing each wolf to be aware of the whereabouts of its pack members. Above all', ' though', ' scent marking is used to inform other wolves and packs that a certain territory is occupied', \" and that they should therefore tread cautiously.'\", ' \"Wolves\\' long', ' powerful muzzles help distinguish them from other canids', ' particularly coyotes and golden jackals', ' which have more narrow', ' pointed muzzles. Wolves differ from domestic dogs in a more varied nature. Anatomically', ' wolves have smaller orbital angles than dogs (>53 degrees for dogs compared with     Larger paw size', ' yellow eyes', ' longer legs', ' and bigger teeth further distinguish adult wolves from other canids', ' especially dogs. Also', ' precaudal glands at the base of the tail are present in wolves but not in dogs.\"', ' \"It is often thought that the coloration of the wolf\\'s pelage serves as a functional form of camouflage. This may not be entirely correct', ' as some scientists have concluded that the blended colors have more to do with emphasizing certain gestures during interaction.\"', ' \"When the alpha female goes into estrus (which occurs once per year and lasts 5 14 days)', \"    she and her mate will spend an extended time in seclusion. Pheromones in the female's urine and the swelling of her vulva make known to the male that the female is in heat. The female is unreceptive for the first few days of estrus\", ' during which time she sheds the lining of her uterus; but when she begins ovulating again', ' the two wolves mate.\"', ' \"Wolf weight and size can vary greatly worldwide', \" tending to increase proportionally with latitude as predicted by Bergmann's Rule. In general\", ' height varies from 0.6 to 0.95 meters (26 38 inches) at the shoulder and weight ranges from 32 to 62 kilograms (70 135 pounds)', ' which together make the gray wolf the largest of all wild canids.    Although rarely encountered', ' extreme specimens of more than 77 kg (170 lb) have been recorded in Alaska and Canada.    The heaviest wild wolf on record', ' killed in Alaska in 1939', ' was 80 kg (175 lb).    The smallest wolves come from the Arabian Wolf subspecies', ' the females of which may weigh as little as 10 kg (22 lb) at maturity. Females in any given wolf population typically weigh about 20% less than their male counterparts.    Wolves can measure anywhere from 1.3 to 2 meters (4.5 6.5 feet) from nose to the tip of the tail', ' which itself accounts for approximately one quarter of overall body length.\"]']\n",
      "\n",
      "======================================================================\n",
      "\n",
      "Overall Metric Pass Rates\n",
      "\n",
      "Contextual Precision: 100.00% pass rate\n",
      "\n",
      "======================================================================\n",
      "\n"
     ]
    },
    {
     "name": "stderr",
     "output_type": "stream",
     "text": [
      "\n"
     ]
    },
    {
     "data": {
      "text/html": [
       "<pre style=\"white-space:pre;overflow-x:auto;line-height:normal;font-family:Menlo,'DejaVu Sans Mono',consolas,'Courier New',monospace\"><span style=\"color: #05f58d; text-decoration-color: #05f58d\">✓</span> Tests finished 🎉! Run <span style=\"color: #008000; text-decoration-color: #008000\">'deepeval login'</span> to save and analyze evaluation results on Confident AI.  \n",
       "‼️ Looking for a place for your LLM test data to live 🏡? Use Confident AI for test reports, benchmark analysis, \n",
       "compare models/prompts, and catch regressions for your LLM system.\n",
       "</pre>\n"
      ],
      "text/plain": [
       "\u001b[38;2;5;245;141m✓\u001b[0m Tests finished 🎉! Run \u001b[32m'deepeval login'\u001b[0m to save and analyze evaluation results on Confident AI.  \n",
       "‼️ Looking for a place for your LLM test data to live 🏡? Use Confident AI for test reports, benchmark analysis, \n",
       "compare models/prompts, and catch regressions for your LLM system.\n"
      ]
     },
     "metadata": {},
     "output_type": "display_data"
    },
    {
     "name": "stdout",
     "output_type": "stream",
     "text": [
      "296\n"
     ]
    },
    {
     "data": {
      "text/html": [
       "<pre style=\"white-space:pre;overflow-x:auto;line-height:normal;font-family:Menlo,'DejaVu Sans Mono',consolas,'Courier New',monospace\">✨ You're running DeepEval's latest <span style=\"color: #6a00ff; text-decoration-color: #6a00ff\">Contextual Precision Metric</span>! <span style=\"color: #374151; text-decoration-color: #374151; font-weight: bold\">(</span><span style=\"color: #374151; text-decoration-color: #374151\">using Gemini </span><span style=\"color: #374151; text-decoration-color: #374151; font-weight: bold\">1.5</span><span style=\"color: #374151; text-decoration-color: #374151\"> Flash, </span><span style=\"color: #374151; text-decoration-color: #374151\">strict</span><span style=\"color: #374151; text-decoration-color: #374151\">=</span><span style=\"color: #374151; text-decoration-color: #374151; font-style: italic\">False</span><span style=\"color: #374151; text-decoration-color: #374151\">, </span>\n",
       "<span style=\"color: #374151; text-decoration-color: #374151\">async_mode</span><span style=\"color: #374151; text-decoration-color: #374151\">=</span><span style=\"color: #374151; text-decoration-color: #374151; font-style: italic\">True</span><span style=\"color: #374151; text-decoration-color: #374151; font-weight: bold\">)</span><span style=\"color: #374151; text-decoration-color: #374151\">...</span>\n",
       "</pre>\n"
      ],
      "text/plain": [
       "✨ You're running DeepEval's latest \u001b[38;2;106;0;255mContextual Precision Metric\u001b[0m! \u001b[1;38;2;55;65;81m(\u001b[0m\u001b[38;2;55;65;81musing Gemini \u001b[0m\u001b[1;38;2;55;65;81m1.5\u001b[0m\u001b[38;2;55;65;81m Flash, \u001b[0m\u001b[38;2;55;65;81mstrict\u001b[0m\u001b[38;2;55;65;81m=\u001b[0m\u001b[3;38;2;55;65;81mFalse\u001b[0m\u001b[38;2;55;65;81m, \u001b[0m\n",
       "\u001b[38;2;55;65;81masync_mode\u001b[0m\u001b[38;2;55;65;81m=\u001b[0m\u001b[3;38;2;55;65;81mTrue\u001b[0m\u001b[1;38;2;55;65;81m)\u001b[0m\u001b[38;2;55;65;81m...\u001b[0m\n"
      ]
     },
     "metadata": {},
     "output_type": "display_data"
    },
    {
     "name": "stdout",
     "output_type": "stream",
     "text": [
      "Event loop is already running. Applying nest_asyncio patch to allow async execution...\n"
     ]
    },
    {
     "name": "stderr",
     "output_type": "stream",
     "text": [
      "Evaluating 1 test case(s) in parallel: |███████████████████████████████|100% (1/1) [Time Taken: 00:20, 20.02s/test case]"
     ]
    },
    {
     "name": "stdout",
     "output_type": "stream",
     "text": [
      "\n",
      "======================================================================\n",
      "\n",
      "Metrics Summary\n",
      "\n",
      "  - ✅ Contextual Precision (score: 1.0, threshold: 0.5, strict: False, evaluation model: Gemini 1.5 Flash, reason: None, error: None)\n",
      "\n",
      "For test case:\n",
      "\n",
      "  - input: How much do wolves weigh?\n",
      "  - actual output: Wolf weight varies considerably depending on location and sex.  The text gives a range of 32 to 62 kilograms (70 to 135 pounds), with some exceptionally large specimens exceeding 77 kg (170 lb).  Females generally weigh about 20% less than males.\n",
      "\n",
      "  - expected output: typically varies between 32 and 62 kilograms\n",
      "  - context: []\n",
      "  - retrieval context: ['[\"Wolf weight and size can vary greatly worldwide', \" tending to increase proportionally with latitude as predicted by Bergmann's Rule. In general\", ' height varies from 0.6 to 0.95 meters (26 38 inches) at the shoulder and weight ranges from 32 to 62 kilograms (70 135 pounds)', ' which together make the gray wolf the largest of all wild canids.    Although rarely encountered', ' extreme specimens of more than 77 kg (170 lb) have been recorded in Alaska and Canada.    The heaviest wild wolf on record', ' killed in Alaska in 1939', ' was 80 kg (175 lb).    The smallest wolves come from the Arabian Wolf subspecies', ' the females of which may weigh as little as 10 kg (22 lb) at maturity. Females in any given wolf population typically weigh about 20% less than their male counterparts.    Wolves can measure anywhere from 1.3 to 2 meters (4.5 6.5 feet) from nose to the tip of the tail', ' which itself accounts for approximately one quarter of overall body length.\"', \" 'The gray wolf (Canis lupus)\", ' also known as the timber wolf or', ' simply', ' wolf', \" is a mammal of the order Carnivora. The gray wolf is the largest member of the family Canidae and also the most well known of wolves. Its shoulder height ranges from 0.6 to 0.9 meters (26â\\\\x80\\\\x9336 inches) and its weight typically varies between 32 and 62 kilograms (70â\\\\x80\\\\x93135 pounds). As evidenced by studies of DNA sequencing and genetic drift the gray wolf shares a common ancestry with the domestic dog (Canis lupus familiaris).'\", \" 'Wolves are built for stamina\", ' possessing features ideal for long-distance travel. Their narrow chests and powerful backs and legs facilitate efficient locomotion. They are capable of covering several miles trotting at about a pace of 10 km/h (6 mph)', ' and have been known to reach speeds approaching 65 km/h (40 mph) during a chase.    While thus sprinting', \" wolves can cover up to 5 meters (16 ft) per bound.'\", ' \"Wolves\\' diets include', ' but are not limited to', ' deer', ' caribou', ' moose', ' yak', ' and other large ungulates. The American Bison is probably the heaviest animal wolves prey on â\\\\x80\\\\x94 bison weighing more than a ton having been taken down by a pack. They also prey on rodents and other small animals in a limited manner', ' as a typical adult wolf requires a minimum of 1.1 kg (2.5 lb) of food each day for sustenance', ' and approximately 2.2 kg (5lb) to reproduce successfully.  Wolves rarely eat each day', ' but compensate by eating up to 10 kg (22 lb) at a time.  An American Bison standing its ground', ' thereby increasing its chance for survival.\"', ' \"Wolves and most larger dogs share identical dentition. The maxilla has six incisors', ' two canines', ' eight premolars', ' and four molars. The mandible has six incisors', ' two canines', ' eight premolars', ' and six molars.    The fourth upper premolars and first lower molars constitute the carnassial teeth', ' which are essential tools for shearing flesh. The long canine teeth are also important', ' in that they are designed to hold and subdue the prey. Capable of delivering up to 10', '000 kPa (1450 lbf/inÂ²) of pressure', \" a wolf's teeth are its main weapons as well as its primary tools.  Therefore\", ' any injury to the jaw line or teeth could devastate a wolf', ' dooming it to starvation or incapacity.\"', ' \"Wolves have bulky coats consisting of two layers. The first layer is made up of tough guard hairs designed to repel water and dirt. The second is a dense', \" water-resistant undercoat that insulates. The undercoat is shed in the form of large tufts of fur in late spring or early summer (with yearly variations). A wolf will often rub against objects such as rocks and branches to encourage the loose fur to fall out. The undercoat is usually gray regardless of the outer coat's appearance. Wolves have distinct winter and summer pelages that alternate in spring and autumn. Females tend to keep their winter coats further into the spring than males. North American wolves typically have longer\", ' silkier fur than their Eurasian counterparts.\"', \" 'Wolves typically reach sexual maturity after two or three years\", ' at which point many of them will be compelled to leave their birth packs and seek out mates and territories of their own.     Wolves that reach maturity generally live 6 to 8 years in the wild', ' although in captivity they can live to twice that age.  High mortality rates give them a low overall life expectancy. Pups die when food is scarce; they can also fall prey to predators such as bears', ' or', ' less often', ' coyotes', ' foxes', ' or other wolves. The most significant causes of mortality for grown wolves are hunting and poaching', ' car accidents', ' and wounds inflicted while hunting prey. Although adult wolves may be killed by other predators occasionally', \" rival wolf packs are often their most dangerous non-human enemy. A study on wolf mortality concluded that 14â\\\\x80\\\\x9365% of wolf deaths were inflicted by other wolves.'\", ' \"Wolves\\' long', ' powerful muzzles help distinguish them from other canids', ' particularly coyotes and golden jackals', ' which have more narrow', ' pointed muzzles. Wolves differ from domestic dogs in a more varied nature. Anatomically', ' wolves have smaller orbital angles than dogs (>53 degrees for dogs compared with     Larger paw size', ' yellow eyes', ' longer legs', ' and bigger teeth further distinguish adult wolves from other canids', ' especially dogs. Also', ' precaudal glands at the base of the tail are present in wolves but not in dogs.\"', \" 'Though once abundant over much of North America and Eurasia\", ' the gray wolf inhabits a very small portion of its former range because of widespread destruction of its habitat; in some regions it is endangered or threatened. Considered as a whole', ' however', ' the gray wolf is regarded as of least concern for extinction according to the International Union for the Conservation of Nature and Natural Resources. Wolves are still hunted in many areas for sport or as perceived threats to livestock. Kazakhstan is currently thought to have the largest wolf population of any nation; it has as many as 90', '000', ' versus some 60', \"000 for Canada.'\", \" 'It is thought that there are around 500 to 600 wolves in Poland\", \" mainly in the east.']\"]\n",
      "\n",
      "======================================================================\n",
      "\n",
      "Overall Metric Pass Rates\n",
      "\n",
      "Contextual Precision: 100.00% pass rate\n",
      "\n",
      "======================================================================\n",
      "\n"
     ]
    },
    {
     "name": "stderr",
     "output_type": "stream",
     "text": [
      "\n"
     ]
    },
    {
     "data": {
      "text/html": [
       "<pre style=\"white-space:pre;overflow-x:auto;line-height:normal;font-family:Menlo,'DejaVu Sans Mono',consolas,'Courier New',monospace\"><span style=\"color: #05f58d; text-decoration-color: #05f58d\">✓</span> Tests finished 🎉! Run <span style=\"color: #008000; text-decoration-color: #008000\">'deepeval login'</span> to save and analyze evaluation results on Confident AI.  \n",
       "‼️ Looking for a place for your LLM test data to live 🏡? Use Confident AI for test reports, benchmark analysis, \n",
       "compare models/prompts, and catch regressions for your LLM system.\n",
       "</pre>\n"
      ],
      "text/plain": [
       "\u001b[38;2;5;245;141m✓\u001b[0m Tests finished 🎉! Run \u001b[32m'deepeval login'\u001b[0m to save and analyze evaluation results on Confident AI.  \n",
       "‼️ Looking for a place for your LLM test data to live 🏡? Use Confident AI for test reports, benchmark analysis, \n",
       "compare models/prompts, and catch regressions for your LLM system.\n"
      ]
     },
     "metadata": {},
     "output_type": "display_data"
    },
    {
     "name": "stdout",
     "output_type": "stream",
     "text": [
      "297\n"
     ]
    },
    {
     "data": {
      "text/html": [
       "<pre style=\"white-space:pre;overflow-x:auto;line-height:normal;font-family:Menlo,'DejaVu Sans Mono',consolas,'Courier New',monospace\">✨ You're running DeepEval's latest <span style=\"color: #6a00ff; text-decoration-color: #6a00ff\">Contextual Precision Metric</span>! <span style=\"color: #374151; text-decoration-color: #374151; font-weight: bold\">(</span><span style=\"color: #374151; text-decoration-color: #374151\">using Gemini </span><span style=\"color: #374151; text-decoration-color: #374151; font-weight: bold\">1.5</span><span style=\"color: #374151; text-decoration-color: #374151\"> Flash, </span><span style=\"color: #374151; text-decoration-color: #374151\">strict</span><span style=\"color: #374151; text-decoration-color: #374151\">=</span><span style=\"color: #374151; text-decoration-color: #374151; font-style: italic\">False</span><span style=\"color: #374151; text-decoration-color: #374151\">, </span>\n",
       "<span style=\"color: #374151; text-decoration-color: #374151\">async_mode</span><span style=\"color: #374151; text-decoration-color: #374151\">=</span><span style=\"color: #374151; text-decoration-color: #374151; font-style: italic\">True</span><span style=\"color: #374151; text-decoration-color: #374151; font-weight: bold\">)</span><span style=\"color: #374151; text-decoration-color: #374151\">...</span>\n",
       "</pre>\n"
      ],
      "text/plain": [
       "✨ You're running DeepEval's latest \u001b[38;2;106;0;255mContextual Precision Metric\u001b[0m! \u001b[1;38;2;55;65;81m(\u001b[0m\u001b[38;2;55;65;81musing Gemini \u001b[0m\u001b[1;38;2;55;65;81m1.5\u001b[0m\u001b[38;2;55;65;81m Flash, \u001b[0m\u001b[38;2;55;65;81mstrict\u001b[0m\u001b[38;2;55;65;81m=\u001b[0m\u001b[3;38;2;55;65;81mFalse\u001b[0m\u001b[38;2;55;65;81m, \u001b[0m\n",
       "\u001b[38;2;55;65;81masync_mode\u001b[0m\u001b[38;2;55;65;81m=\u001b[0m\u001b[3;38;2;55;65;81mTrue\u001b[0m\u001b[1;38;2;55;65;81m)\u001b[0m\u001b[38;2;55;65;81m...\u001b[0m\n"
      ]
     },
     "metadata": {},
     "output_type": "display_data"
    },
    {
     "name": "stdout",
     "output_type": "stream",
     "text": [
      "Event loop is already running. Applying nest_asyncio patch to allow async execution...\n"
     ]
    },
    {
     "name": "stderr",
     "output_type": "stream",
     "text": [
      "Evaluating 1 test case(s) in parallel: |███████████████████████████████|100% (1/1) [Time Taken: 00:20, 20.02s/test case]"
     ]
    },
    {
     "name": "stdout",
     "output_type": "stream",
     "text": [
      "\n",
      "======================================================================\n",
      "\n",
      "Metrics Summary\n",
      "\n",
      "  - ✅ Contextual Precision (score: 1.0, threshold: 0.5, strict: False, evaluation model: Gemini 1.5 Flash, reason: None, error: None)\n",
      "\n",
      "For test case:\n",
      "\n",
      "  - input: Why do wolves howl?\n",
      "  - actual output: Wolves howl for a variety of reasons, including:\n",
      "\n",
      "* **Keeping in touch:**  Maintaining contact with pack members over distances or in dense environments.\n",
      "* **Calling pack members:** Summoning others to a specific location.\n",
      "* **Territorial declaration:**  Asserting dominance and warning off rivals.\n",
      "* **Communal bonding:** Strengthening social bonds within the pack.\n",
      "* **Confusion of numbers:**  Creating uncertainty for rival packs about the size of the howling pack.\n",
      "\n",
      "\n",
      "  - expected output: Howling helps pack members keep in touch, allowing them to communicate effectively in thickly forested areas or over great distances. Howling also helps to call pack members to a specific location. Howling can also serve as a declaration of territory, as shown in a dominant wolf&apos;s tendency to respond to a human imitation of a \"rival\" wolf in an area the wolf considers its own. \n",
      "  - context: []\n",
      "  - retrieval context: [\"['Howling helps pack members keep in touch\", ' allowing them to communicate effectively in thickly forested areas or over great distances. Howling also helps to call pack members to a specific location. Howling can also serve as a declaration of territory', ' as shown in a dominant wolf\\\\\\'s tendency to respond to a human imitation of a \"rival\" wolf in an area the wolf considers its own. This behavior is stimulated when a pack has something to protect', ' such as a fresh kill. As a rule of thumb', \" large packs will more readily draw attention to themselves than will smaller packs. Adjacent packs may respond to each others\\\\' howls\", \" which can mean trouble for the smaller of the two. Wolves therefore tend to howl with great care.'\", ' \"Observations of wolf packs suggest that howling occurs most often during the twilight hours', \" preceding the adults' departure to the hunt and following their return. Studies also show that wolves howl more frequently during the breeding season and subsequent rearing process. The pups themselves begin howling soon after emerging from their dens and can be provoked into howling sessions easily over the following two months. Such indiscriminate howling usually is intended for communication\", ' and does not harm the wolf so early in its life.  Howling becomes less indiscriminate as wolves learn to distinguish howling pack members from rival wolves.\"', ' \"Wolves will also howl for communal reasons. Some scientists speculate that such group sessions strengthen the wolves\\' social bonds and camaraderie similar to community singing among humans.  During such choral sessions', ' wolves will howl at different tones and varying pitches', ' making it difficult to estimate the number of wolves involved. This confusion of numbers makes a listening rival pack wary of what action to take. For example', \" confrontation could be disastrous if the rival pack gravely underestimates the howling pack's numbers. A wolf's howl may be heard from up to ten miles away\", ' depending on weather conditions.\"', \" 'Growling\", ' while teeth are bared', ' is the most visual and effective warning wolves use. Wolf growls have a distinct', ' deep', ' bass-like quality', ' and are often used to threaten rivals', ' though not necessarily to defend themselves. Wolves also growl at other wolves while being aggressively dominant. Wolves bark when nervous or when they want to warn other wolves of danger. Wolves bark very discreetly', ' and will not generally bark loudly or repeatedly as dogs do; rather', ' they use a low-key', ' breathy \"whuf\" sound to immediately get attention from other wolves. Wolves also \"bark-howl\" by adding a brief howl to the end of a bark. Wolves bark-howl for the same reasons they normally bark. Generally', ' pups bark and bark-howl much more frequently than adults', ' using these vocalizations to cry for attention', ' care', ' or food. A lesser known sound is the rally. Wolves will gather as a group and', ' amidst much tail-wagging and muzzle licking', ' emit a high-pitched wailing noise interspersed with something similar (but not the same as) a bark. Rallying is often a display of submission to an alpha by the other wolves.  Rally to Seneca + important information about Norwegian wolves', ' Wolfpaper Picture Archive (February 7', ' 2001)  Wolves also whimper', \" usually when submitting to other wolves. Wolf pups whimper when they need a reassurance of security from their parents or other wolves.'\", \" 'This facial expression is defensive and gives warning to other wolves to be cautious.'\", \" 'Wolves can communicate visually through a wide variety of expressions and moods ranging from subtle signals\", ' such as a slight shift in weight', ' to more obvious ones', \" such as rolling on their backs to indicate complete submission.'\", \" '*Happiness   As dogs do\", \" a wolf may wag its tail if in a joyful mood. The tongue may loll out of the mouth.'\", ' \"It is often thought that the coloration of the wolf\\'s pelage serves as a functional form of camouflage. This may not be entirely correct', ' as some scientists have concluded that the blended colors have more to do with emphasizing certain gestures during interaction.\"', \" 'The Middle Eastern and South-East Asiatic wolf subspecies are unusual as they are not known to howl.'\", ' \"* Anger   An angry wolf\\'s ears are erect', ' and its fur bristles. The lips may curl up or pull back', ' and the incisors are displayed. The wolf may also arch its back', ' lash out', ' or snarl.\"]']\n",
      "\n",
      "======================================================================\n",
      "\n",
      "Overall Metric Pass Rates\n",
      "\n",
      "Contextual Precision: 100.00% pass rate\n",
      "\n",
      "======================================================================\n",
      "\n"
     ]
    },
    {
     "name": "stderr",
     "output_type": "stream",
     "text": [
      "\n"
     ]
    },
    {
     "data": {
      "text/html": [
       "<pre style=\"white-space:pre;overflow-x:auto;line-height:normal;font-family:Menlo,'DejaVu Sans Mono',consolas,'Courier New',monospace\"><span style=\"color: #05f58d; text-decoration-color: #05f58d\">✓</span> Tests finished 🎉! Run <span style=\"color: #008000; text-decoration-color: #008000\">'deepeval login'</span> to save and analyze evaluation results on Confident AI.  \n",
       "‼️ Looking for a place for your LLM test data to live 🏡? Use Confident AI for test reports, benchmark analysis, \n",
       "compare models/prompts, and catch regressions for your LLM system.\n",
       "</pre>\n"
      ],
      "text/plain": [
       "\u001b[38;2;5;245;141m✓\u001b[0m Tests finished 🎉! Run \u001b[32m'deepeval login'\u001b[0m to save and analyze evaluation results on Confident AI.  \n",
       "‼️ Looking for a place for your LLM test data to live 🏡? Use Confident AI for test reports, benchmark analysis, \n",
       "compare models/prompts, and catch regressions for your LLM system.\n"
      ]
     },
     "metadata": {},
     "output_type": "display_data"
    },
    {
     "name": "stdout",
     "output_type": "stream",
     "text": [
      "298\n"
     ]
    },
    {
     "data": {
      "text/html": [
       "<pre style=\"white-space:pre;overflow-x:auto;line-height:normal;font-family:Menlo,'DejaVu Sans Mono',consolas,'Courier New',monospace\">✨ You're running DeepEval's latest <span style=\"color: #6a00ff; text-decoration-color: #6a00ff\">Contextual Precision Metric</span>! <span style=\"color: #374151; text-decoration-color: #374151; font-weight: bold\">(</span><span style=\"color: #374151; text-decoration-color: #374151\">using Gemini </span><span style=\"color: #374151; text-decoration-color: #374151; font-weight: bold\">1.5</span><span style=\"color: #374151; text-decoration-color: #374151\"> Flash, </span><span style=\"color: #374151; text-decoration-color: #374151\">strict</span><span style=\"color: #374151; text-decoration-color: #374151\">=</span><span style=\"color: #374151; text-decoration-color: #374151; font-style: italic\">False</span><span style=\"color: #374151; text-decoration-color: #374151\">, </span>\n",
       "<span style=\"color: #374151; text-decoration-color: #374151\">async_mode</span><span style=\"color: #374151; text-decoration-color: #374151\">=</span><span style=\"color: #374151; text-decoration-color: #374151; font-style: italic\">True</span><span style=\"color: #374151; text-decoration-color: #374151; font-weight: bold\">)</span><span style=\"color: #374151; text-decoration-color: #374151\">...</span>\n",
       "</pre>\n"
      ],
      "text/plain": [
       "✨ You're running DeepEval's latest \u001b[38;2;106;0;255mContextual Precision Metric\u001b[0m! \u001b[1;38;2;55;65;81m(\u001b[0m\u001b[38;2;55;65;81musing Gemini \u001b[0m\u001b[1;38;2;55;65;81m1.5\u001b[0m\u001b[38;2;55;65;81m Flash, \u001b[0m\u001b[38;2;55;65;81mstrict\u001b[0m\u001b[38;2;55;65;81m=\u001b[0m\u001b[3;38;2;55;65;81mFalse\u001b[0m\u001b[38;2;55;65;81m, \u001b[0m\n",
       "\u001b[38;2;55;65;81masync_mode\u001b[0m\u001b[38;2;55;65;81m=\u001b[0m\u001b[3;38;2;55;65;81mTrue\u001b[0m\u001b[1;38;2;55;65;81m)\u001b[0m\u001b[38;2;55;65;81m...\u001b[0m\n"
      ]
     },
     "metadata": {},
     "output_type": "display_data"
    },
    {
     "name": "stdout",
     "output_type": "stream",
     "text": [
      "Event loop is already running. Applying nest_asyncio patch to allow async execution...\n"
     ]
    },
    {
     "name": "stderr",
     "output_type": "stream",
     "text": [
      "Evaluating 1 test case(s) in parallel: |███████████████████████████████|100% (1/1) [Time Taken: 00:20, 20.01s/test case]"
     ]
    },
    {
     "name": "stdout",
     "output_type": "stream",
     "text": [
      "\n",
      "======================================================================\n",
      "\n",
      "Metrics Summary\n",
      "\n",
      "  - ✅ Contextual Precision (score: 1.0, threshold: 0.5, strict: False, evaluation model: Gemini 1.5 Flash, reason: None, error: None)\n",
      "\n",
      "For test case:\n",
      "\n",
      "  - input: What is surplus killing?\n",
      "  - actual output: Surplus killing is the act of a predator killing more prey animals than it can consume at one time.  It's often attributed to an overstimulation of the predator's killing instinct when presented with an abundance of easily captured prey.\n",
      "\n",
      "  - expected output: Surplus killing is defined as the killing of several prey animals too numerous to eat at one sitting.\n",
      "  - context: []\n",
      "  - retrieval context: ['[\"Surplus killing is defined as the killing of several prey animals too numerous to eat at one sitting. During a surplus-kill', \" a predator's killing instinct is continually sparked off by the stimuli of so many prey animals unable to escape\", \" so that the predator cannot stop killing. An instance of surplus killing by wolves was witnessed in Canada's Northwest Territories by researchers coming across 34 neonatal caribou calves\", ' scattered over three square kilometres. The wolves had eaten only a few parts from half the calves and not touched the rest. Wolves sometimes only eat a part of their surplus-killed prey', ' like the tail or the internal organs.\"', \" 'However\", ' conditions in nature which favour surplus killing are unusual. Consequently surplus killing in the wild is rare', \" though fairly common in domestic situations in which the prey animals are usually confined and unable to escape the attackers.'\", \" 'Wolves have been known to commit acts of surplus killing when within the confines of human made livestock shelters. Rare incidents of surplus killing by wolves in Minnesota are reported to leave up to 35 sheep killed and injured in flocks and losses of 50 to 200 birds in turkey flocks.'\", ' \\'# \"The most ultimately righteous of all wars is a war with savages\".\\'', ' \"Bulgaria considers the wolf a pest and there\\'s a bounty equivalent to two week\\'s average wages on their heads.    . A project run by the Balkani Wildlife Centre aims to reduce conflict between farmers and wolves by supplying Livestock guarding dogs as well as by educating the locals about large carnivores and their role in nature.\"', \" 'The results however differ in some Old World countries. Greece for example reports that between April 1989 and June 1991\", ' 21000 sheep and goats plus 2729 cattle were killed. In 1998 it was 5894 sheep and goats', \" 880 cattle and very few horses.'\", \" 'Other\", \" non- or less-lethal methods of protecting livestock from wolves have been under development for the past decade. Such methods include rubber ammunition and use of guard animals.'\", \" 'In 1862\", ' Lincoln sent a senior general', ' John Pope', ' to put down the \"Sioux Uprising\" in Minnesota. Presented with 303 death warrants for convicted Santee Dakota who had massacred innocent farmers', \" Lincoln affirmed 39 of these for execution (one was later reprieved).'\", \" 'In some areas across the world\", ' hunters or state officials will hunt wolves from helicopters or light planes to control populations (or for sport in some instances)', ' citing it as the most effective way to control wolf numbers', ' given that traditional poisons are largely banned. The method is used where interactions between livestock and wolves are common', ' or where sport or subsistence hunters desire more game animals with less competition. Aerial hunting is seen as highly controversial. In areas where aerial hunting is used to limit livestock-wolf interactions or to boost populations of game animals', \" arguments against it are usually centered around whether or not the reasons behind such predator elimination are scientifically valid.'\", \" 'Duck headcount in 2004']\"]\n",
      "\n",
      "======================================================================\n",
      "\n",
      "Overall Metric Pass Rates\n",
      "\n",
      "Contextual Precision: 100.00% pass rate\n",
      "\n",
      "======================================================================\n",
      "\n"
     ]
    },
    {
     "name": "stderr",
     "output_type": "stream",
     "text": [
      "\n"
     ]
    },
    {
     "data": {
      "text/html": [
       "<pre style=\"white-space:pre;overflow-x:auto;line-height:normal;font-family:Menlo,'DejaVu Sans Mono',consolas,'Courier New',monospace\"><span style=\"color: #05f58d; text-decoration-color: #05f58d\">✓</span> Tests finished 🎉! Run <span style=\"color: #008000; text-decoration-color: #008000\">'deepeval login'</span> to save and analyze evaluation results on Confident AI.  \n",
       "‼️ Looking for a place for your LLM test data to live 🏡? Use Confident AI for test reports, benchmark analysis, \n",
       "compare models/prompts, and catch regressions for your LLM system.\n",
       "</pre>\n"
      ],
      "text/plain": [
       "\u001b[38;2;5;245;141m✓\u001b[0m Tests finished 🎉! Run \u001b[32m'deepeval login'\u001b[0m to save and analyze evaluation results on Confident AI.  \n",
       "‼️ Looking for a place for your LLM test data to live 🏡? Use Confident AI for test reports, benchmark analysis, \n",
       "compare models/prompts, and catch regressions for your LLM system.\n"
      ]
     },
     "metadata": {},
     "output_type": "display_data"
    },
    {
     "name": "stdout",
     "output_type": "stream",
     "text": [
      "299\n"
     ]
    },
    {
     "data": {
      "text/html": [
       "<pre style=\"white-space:pre;overflow-x:auto;line-height:normal;font-family:Menlo,'DejaVu Sans Mono',consolas,'Courier New',monospace\">✨ You're running DeepEval's latest <span style=\"color: #6a00ff; text-decoration-color: #6a00ff\">Contextual Precision Metric</span>! <span style=\"color: #374151; text-decoration-color: #374151; font-weight: bold\">(</span><span style=\"color: #374151; text-decoration-color: #374151\">using Gemini </span><span style=\"color: #374151; text-decoration-color: #374151; font-weight: bold\">1.5</span><span style=\"color: #374151; text-decoration-color: #374151\"> Flash, </span><span style=\"color: #374151; text-decoration-color: #374151\">strict</span><span style=\"color: #374151; text-decoration-color: #374151\">=</span><span style=\"color: #374151; text-decoration-color: #374151; font-style: italic\">False</span><span style=\"color: #374151; text-decoration-color: #374151\">, </span>\n",
       "<span style=\"color: #374151; text-decoration-color: #374151\">async_mode</span><span style=\"color: #374151; text-decoration-color: #374151\">=</span><span style=\"color: #374151; text-decoration-color: #374151; font-style: italic\">True</span><span style=\"color: #374151; text-decoration-color: #374151; font-weight: bold\">)</span><span style=\"color: #374151; text-decoration-color: #374151\">...</span>\n",
       "</pre>\n"
      ],
      "text/plain": [
       "✨ You're running DeepEval's latest \u001b[38;2;106;0;255mContextual Precision Metric\u001b[0m! \u001b[1;38;2;55;65;81m(\u001b[0m\u001b[38;2;55;65;81musing Gemini \u001b[0m\u001b[1;38;2;55;65;81m1.5\u001b[0m\u001b[38;2;55;65;81m Flash, \u001b[0m\u001b[38;2;55;65;81mstrict\u001b[0m\u001b[38;2;55;65;81m=\u001b[0m\u001b[3;38;2;55;65;81mFalse\u001b[0m\u001b[38;2;55;65;81m, \u001b[0m\n",
       "\u001b[38;2;55;65;81masync_mode\u001b[0m\u001b[38;2;55;65;81m=\u001b[0m\u001b[3;38;2;55;65;81mTrue\u001b[0m\u001b[1;38;2;55;65;81m)\u001b[0m\u001b[38;2;55;65;81m...\u001b[0m\n"
      ]
     },
     "metadata": {},
     "output_type": "display_data"
    },
    {
     "name": "stdout",
     "output_type": "stream",
     "text": [
      "Event loop is already running. Applying nest_asyncio patch to allow async execution...\n"
     ]
    },
    {
     "name": "stderr",
     "output_type": "stream",
     "text": [
      "Evaluating 1 test case(s) in parallel: |███████████████████████████████|100% (1/1) [Time Taken: 00:24, 24.70s/test case]"
     ]
    },
    {
     "name": "stdout",
     "output_type": "stream",
     "text": [
      "\n",
      "======================================================================\n",
      "\n",
      "Metrics Summary\n",
      "\n",
      "  - ✅ Contextual Precision (score: 1.0, threshold: 0.5, strict: False, evaluation model: Gemini 1.5 Flash, reason: None, error: None)\n",
      "\n",
      "For test case:\n",
      "\n",
      "  - input: Are Gray Wolves native to North America?\n",
      "  - actual output: While Gray Wolves are currently found in North America, the text indicates they migrated there from Eurasia, meaning they are not *native* in the sense of having originated there.\n",
      "\n",
      "  - expected output: Yes\n",
      "  - context: []\n",
      "  - retrieval context: [\"['Current theories propose that the gray wolf first evolved in Eurasia during the early Pleistocene. The rate of changes observed in DNA sequence date the South-East Asiatic lineage to about 800\", '000 years', ' as opposed to the American and European lineages which stretch back only 150', '000.    The gray wolf then migrated into North America from the Old World', ' probably via the Bering land bridge (that once joined Alaska and Siberia)', ' around 400', '000 years ago.  The gray wolf then coexisted with the Dire Wolf (Canis dirus)', ' a Canid species that was larger and heavier than the gray wolf and appeared in South America over 700', '000 years ago and whose origin is still speculated. The Dire Wolf ranged from southern Canada to South America until about 8', \"000 years ago when climate changes are thought to have caused it to become extinct. After that the gray wolf is thought to have become the prime canine predator in North America.'\", \" 'The gray wolf (Canis lupus)\", ' also known as the timber wolf or', ' simply', ' wolf', \" is a mammal of the order Carnivora. The gray wolf is the largest member of the family Canidae and also the most well known of wolves. Its shoulder height ranges from 0.6 to 0.9 meters (26â\\\\x80\\\\x9336 inches) and its weight typically varies between 32 and 62 kilograms (70â\\\\x80\\\\x93135 pounds). As evidenced by studies of DNA sequencing and genetic drift the gray wolf shares a common ancestry with the domestic dog (Canis lupus familiaris).'\", \" 'Though once abundant over much of North America and Eurasia\", ' the gray wolf inhabits a very small portion of its former range because of widespread destruction of its habitat; in some regions it is endangered or threatened. Considered as a whole', ' however', ' the gray wolf is regarded as of least concern for extinction according to the International Union for the Conservation of Nature and Natural Resources. Wolves are still hunted in many areas for sport or as perceived threats to livestock. Kazakhstan is currently thought to have the largest wolf population of any nation; it has as many as 90', '000', ' versus some 60', \"000 for Canada.'\", \" 'With respect to common names\", ' spelling differences result in the alternative spelling grey wolf. As the first-named and most widespread of species termed \"wolf\"', ' gray wolves are often simply referred to as wolves. It was one of the many species originally described by Carolus Linnaeus in his eighteenth-century work', ' Systema Naturae', ' and it still bears its original classification', ' Canis lupus.      The binomial name is derived from the Latin Canis', ' meaning \"dog\"', ' and lupus', ' \"wolf\".\\'', ' \"The gray wolf is a member of the genus Canis', \" which comprises between 7 and 10 species. It is one of six species termed 'wolf'\", ' the others being the Red Wolf (Canis rufus)', ' the Indian Wolf (Canis indica)', ' the Himalayan wolf (Canis himalayaensis)', ' the Eastern Canadian Wolf (Canis lycaon) and the Ethiopian Wolf (Canis simensis).\"', \" 'Extinct Gray wolves:'\", \" 'At one point\", ' up to 50 gray wolf subspecies were recognized. Though no true consensus has been reached', ' this list can be condensed to 13â\\\\x80\\\\x9315 general extant subspecies. Modern classifications take into account the DNA', ' anatomy', ' distribution', \" and migration of various wolf colonies.'\", \" 'Historically\", ' gray wolf classification has been transient in nature. As a result', \" there still exists some disagreement as to the status of certain possible subspecies. These are listed below.'\", ' \"Gray wolves play an important role as apex predators in the ecosystems they typically occupy. Gray wolves have been known to thrive in temperate forests', ' deserts', ' mountains', ' tundra', ' taiga', ' and grasslands; this diversity reflects the wolf\\'s adaptability as a species.\"', ' \"Wolf weight and size can vary greatly worldwide', \" tending to increase proportionally with latitude as predicted by Bergmann's Rule. In general\", ' height varies from 0.6 to 0.95 meters (26 38 inches) at the shoulder and weight ranges from 32 to 62 kilograms (70 135 pounds)', ' which together make the gray wolf the largest of all wild canids.    Although rarely encountered', ' extreme specimens of more than 77 kg (170 lb) have been recorded in Alaska and Canada.    The heaviest wild wolf on record', ' killed in Alaska in 1939', ' was 80 kg (175 lb).    The smallest wolves come from the Arabian Wolf subspecies', ' the females of which may weigh as little as 10 kg (22 lb) at maturity. Females in any given wolf population typically weigh about 20% less than their male counterparts.    Wolves can measure anywhere from 1.3 to 2 meters (4.5 6.5 feet) from nose to the tip of the tail', ' which itself accounts for approximately one quarter of overall body length.\"]']\n",
      "\n",
      "======================================================================\n",
      "\n",
      "Overall Metric Pass Rates\n",
      "\n",
      "Contextual Precision: 100.00% pass rate\n",
      "\n",
      "======================================================================\n",
      "\n"
     ]
    },
    {
     "name": "stderr",
     "output_type": "stream",
     "text": [
      "\n"
     ]
    },
    {
     "data": {
      "text/html": [
       "<pre style=\"white-space:pre;overflow-x:auto;line-height:normal;font-family:Menlo,'DejaVu Sans Mono',consolas,'Courier New',monospace\"><span style=\"color: #05f58d; text-decoration-color: #05f58d\">✓</span> Tests finished 🎉! Run <span style=\"color: #008000; text-decoration-color: #008000\">'deepeval login'</span> to save and analyze evaluation results on Confident AI.  \n",
       "‼️ Looking for a place for your LLM test data to live 🏡? Use Confident AI for test reports, benchmark analysis, \n",
       "compare models/prompts, and catch regressions for your LLM system.\n",
       "</pre>\n"
      ],
      "text/plain": [
       "\u001b[38;2;5;245;141m✓\u001b[0m Tests finished 🎉! Run \u001b[32m'deepeval login'\u001b[0m to save and analyze evaluation results on Confident AI.  \n",
       "‼️ Looking for a place for your LLM test data to live 🏡? Use Confident AI for test reports, benchmark analysis, \n",
       "compare models/prompts, and catch regressions for your LLM system.\n"
      ]
     },
     "metadata": {},
     "output_type": "display_data"
    }
   ],
   "source": [
    "# 2 Options for Metrics Evaluation: \n",
    "\n",
    "# 1) Iterating through test cases seems to work better than bulk evaluation with evaluate,\n",
    "# as errors encountered with evaluate(...) cause no results to be returned\n",
    "# Looping at least saves partial results until an error occurs\n",
    "# I encountered this sometimes with contextual_relevancy and contextual_precision on the test dataset (429 errors or Invalid JSON errors),\n",
    "# yet typically I got results if I iterated through individual test_cases\n",
    "# For future: https://github.com/confident-ai/deepeval/issues/964 may assist with incorrect json errors like what was being returned\n",
    "\n",
    "# Example for evaluating one test case at a time\n",
    "# contextprecision_results = []\n",
    "for i in range(0, 1): # testing first, typical:  # range(0, len(evaldataset.test_cases)\n",
    "    print(i)\n",
    "    eval_1metric = evaluate(test_cases=[evaldataset.test_cases[i]], metrics=[contextual_precision], throttle_value=10) #throttle_value is for rate limiting, in seconds between queries; 10 for rate limits on gemini 1.5, 20 for gemini 2.0 exp\n",
    "    all_1results.append(eval_1metric.test_results[0]) # edit for newer (2.2.7) version of DeepEval\n",
    "\n",
    "# 2) Evaluate through test_cases in bulk\n",
    "# In testing, at least faithfulness, contextual_precision metrics worked this way with a small, manually curated dataset\n",
    "\n",
    "# Throttle_value is for rate limiting- in seconds between queries\n",
    "# test_precision = evaluate(test_cases=evaldataset.test_cases, metrics=[contextual_precision], throttle_value=90)"
   ]
  },
  {
   "cell_type": "code",
   "execution_count": null,
   "id": "a3113a43-6d42-4c19-8fc9-791c6618f0d8",
   "metadata": {},
   "outputs": [],
   "source": []
  },
  {
   "cell_type": "code",
   "execution_count": 51,
   "id": "3391c022-0cb3-4620-95ca-51d74b07d4f6",
   "metadata": {},
   "outputs": [
    {
     "data": {
      "text/plain": [
       "300"
      ]
     },
     "execution_count": 51,
     "metadata": {},
     "output_type": "execute_result"
    }
   ],
   "source": [
    "len(all_1results)"
   ]
  },
  {
   "cell_type": "code",
   "execution_count": 52,
   "id": "fd280f4f-5ec1-405b-9e3f-062f1908a9c2",
   "metadata": {},
   "outputs": [],
   "source": [
    "# Quick print for results after evaluation of single test cases, as needed\n",
    "# Get scores to calculate average score\n",
    "scores = []\n",
    "for i in [all_1results]:\n",
    "    for j in i:\n",
    "        if type(j) == TestResult:\n",
    "            scores.append(j.metrics_data[0].score)\n",
    "            #print_test_result(j)\n",
    "        else:\n",
    "            print_test_result(j[0])"
   ]
  },
  {
   "cell_type": "code",
   "execution_count": 53,
   "id": "615b35bb-0064-4fac-acac-eb8d7c5134e5",
   "metadata": {},
   "outputs": [
    {
     "data": {
      "text/plain": [
       "0    0.823368\n",
       "dtype: float64"
      ]
     },
     "execution_count": 53,
     "metadata": {},
     "output_type": "execute_result"
    }
   ],
   "source": [
    "# Calculate the average for the metric (with 918 examples total)\n",
    "scoredata = pd.DataFrame(scores, index=None)\n",
    "scoredata.mean()"
   ]
  },
  {
   "cell_type": "code",
   "execution_count": 54,
   "id": "b6ea9842-337c-4310-a9e2-7163ac37cde4",
   "metadata": {
    "scrolled": true
   },
   "outputs": [
    {
     "data": {
      "text/plain": [
       "300"
      ]
     },
     "execution_count": 54,
     "metadata": {},
     "output_type": "execute_result"
    }
   ],
   "source": [
    "len(scoredata)"
   ]
  },
  {
   "cell_type": "code",
   "execution_count": 45,
   "id": "3bbda126-f893-4bc4-8852-ae611f5b9847",
   "metadata": {},
   "outputs": [
    {
     "data": {
      "text/plain": [
       "333"
      ]
     },
     "execution_count": 45,
     "metadata": {},
     "output_type": "execute_result"
    }
   ],
   "source": [
    "len(all_1results)"
   ]
  },
  {
   "cell_type": "code",
   "execution_count": 46,
   "id": "72df1eeb-12b9-470d-a2c4-eaabb2e3c3e0",
   "metadata": {},
   "outputs": [],
   "source": [
    "# to copy contents of all_results to the clipboard as needed\n",
    "pd.DataFrame(all_1results).to_clipboard(index=False,header=False)\n",
    "# all_results"
   ]
  },
  {
   "cell_type": "code",
   "execution_count": 47,
   "id": "8a6e436d-fb76-4609-b4fc-ed7b6c992b30",
   "metadata": {},
   "outputs": [],
   "source": [
    "# Save the scores\n",
    "scoredata.to_csv(\"results/deepeval_updatedlib_contextualprecision_gemini_15_rag_mini_wikipedia_0_300.csv\", index=False)"
   ]
  },
  {
   "cell_type": "code",
   "execution_count": null,
   "id": "8b445ed4-32d8-4ad2-aad5-77eb04341c2d",
   "metadata": {},
   "outputs": [],
   "source": []
  },
  {
   "cell_type": "code",
   "execution_count": 1,
   "id": "6f81af84-53ee-460c-8dc1-dd40e0841c36",
   "metadata": {},
   "outputs": [],
   "source": [
    "import os\n",
    "from IPython.display import display, Markdown\n",
    "import pandas as pd"
   ]
  },
  {
   "cell_type": "code",
   "execution_count": 39,
   "id": "a2c00a7b-3174-4096-941e-83b704a77b6d",
   "metadata": {},
   "outputs": [],
   "source": [
    "# Calculating deepeval gemini 2.0 faithfulness\n",
    "data1 = pd.read_csv(\"results/deepeval_faithfulness_gemini_2_rag_mini_wikipedia_0_121.csv\", index_col=None)\n",
    "data2 = pd.read_csv(\"results/deepeval_faithfulness_gemini_2_rag_mini_wikipedia_121_596.csv\", index_col=None)\n",
    "data3 = pd.read_csv(\"results/deepeval_faithfulness_gemini_2_rag_mini_wikipedia_596_903.csv\", index_col=None)"
   ]
  },
  {
   "cell_type": "code",
   "execution_count": null,
   "id": "500d4b2f-e7d1-443b-826e-7d404f31e53f",
   "metadata": {},
   "outputs": [],
   "source": []
  },
  {
   "cell_type": "code",
   "execution_count": null,
   "id": "4bcd9abb-3cbf-468e-9783-620c8259ef3b",
   "metadata": {},
   "outputs": [],
   "source": []
  },
  {
   "cell_type": "code",
   "execution_count": 40,
   "id": "d9d7c181-d53d-4910-baef-b279a98f2a53",
   "metadata": {},
   "outputs": [],
   "source": [
    "alldata2 = pd.concat([data1, data2, data3], ignore_index=True)"
   ]
  },
  {
   "cell_type": "code",
   "execution_count": 41,
   "id": "831bd23f-9a25-409e-8025-4a0d76238cba",
   "metadata": {},
   "outputs": [
    {
     "data": {
      "text/html": [
       "<div>\n",
       "<style scoped>\n",
       "    .dataframe tbody tr th:only-of-type {\n",
       "        vertical-align: middle;\n",
       "    }\n",
       "\n",
       "    .dataframe tbody tr th {\n",
       "        vertical-align: top;\n",
       "    }\n",
       "\n",
       "    .dataframe thead th {\n",
       "        text-align: right;\n",
       "    }\n",
       "</style>\n",
       "<table border=\"1\" class=\"dataframe\">\n",
       "  <thead>\n",
       "    <tr style=\"text-align: right;\">\n",
       "      <th></th>\n",
       "      <th>0</th>\n",
       "    </tr>\n",
       "  </thead>\n",
       "  <tbody>\n",
       "    <tr>\n",
       "      <th>0</th>\n",
       "      <td>1.0</td>\n",
       "    </tr>\n",
       "    <tr>\n",
       "      <th>1</th>\n",
       "      <td>1.0</td>\n",
       "    </tr>\n",
       "    <tr>\n",
       "      <th>2</th>\n",
       "      <td>1.0</td>\n",
       "    </tr>\n",
       "    <tr>\n",
       "      <th>3</th>\n",
       "      <td>1.0</td>\n",
       "    </tr>\n",
       "    <tr>\n",
       "      <th>4</th>\n",
       "      <td>1.0</td>\n",
       "    </tr>\n",
       "    <tr>\n",
       "      <th>...</th>\n",
       "      <td>...</td>\n",
       "    </tr>\n",
       "    <tr>\n",
       "      <th>898</th>\n",
       "      <td>1.0</td>\n",
       "    </tr>\n",
       "    <tr>\n",
       "      <th>899</th>\n",
       "      <td>1.0</td>\n",
       "    </tr>\n",
       "    <tr>\n",
       "      <th>900</th>\n",
       "      <td>1.0</td>\n",
       "    </tr>\n",
       "    <tr>\n",
       "      <th>901</th>\n",
       "      <td>1.0</td>\n",
       "    </tr>\n",
       "    <tr>\n",
       "      <th>902</th>\n",
       "      <td>1.0</td>\n",
       "    </tr>\n",
       "  </tbody>\n",
       "</table>\n",
       "<p>903 rows × 1 columns</p>\n",
       "</div>"
      ],
      "text/plain": [
       "       0\n",
       "0    1.0\n",
       "1    1.0\n",
       "2    1.0\n",
       "3    1.0\n",
       "4    1.0\n",
       "..   ...\n",
       "898  1.0\n",
       "899  1.0\n",
       "900  1.0\n",
       "901  1.0\n",
       "902  1.0\n",
       "\n",
       "[903 rows x 1 columns]"
      ]
     },
     "execution_count": 41,
     "metadata": {},
     "output_type": "execute_result"
    }
   ],
   "source": [
    "alldata2"
   ]
  },
  {
   "cell_type": "code",
   "execution_count": 43,
   "id": "6813b7b9-0d1e-497a-9407-2b2b0b054b3e",
   "metadata": {},
   "outputs": [
    {
     "data": {
      "text/plain": [
       "0    0.967882\n",
       "dtype: float64"
      ]
     },
     "execution_count": 43,
     "metadata": {},
     "output_type": "execute_result"
    }
   ],
   "source": [
    "alldata2.mean()"
   ]
  },
  {
   "cell_type": "code",
   "execution_count": 44,
   "id": "5afd9074-9cf3-4854-ae01-03db69e3bf79",
   "metadata": {},
   "outputs": [],
   "source": [
    "alldata2.to_csv(\"results/deepeval_faithfulness_gemini_2_rag_mini_wikipedia_903.csv\", index=False)"
   ]
  },
  {
   "cell_type": "code",
   "execution_count": 15,
   "id": "63510169-50ef-460e-817f-a46ca3c7e5db",
   "metadata": {},
   "outputs": [],
   "source": [
    "refinedscoredata = scoredata[:903]"
   ]
  },
  {
   "cell_type": "code",
   "execution_count": 18,
   "id": "4c3a09d7-ca43-4038-aa37-6925a6a8139f",
   "metadata": {},
   "outputs": [
    {
     "data": {
      "text/plain": [
       "0    0.792454\n",
       "dtype: float64"
      ]
     },
     "execution_count": 18,
     "metadata": {},
     "output_type": "execute_result"
    }
   ],
   "source": [
    "# Calculate the average for the metric\n",
    "refinedscoredata.mean()"
   ]
  },
  {
   "cell_type": "code",
   "execution_count": 17,
   "id": "6d04b7fc-1264-48a2-b324-3baeb7c79ec5",
   "metadata": {},
   "outputs": [],
   "source": [
    "# Save the refined scores\n",
    "refinedscoredata.to_csv(\"results/deepeval_contextprecision_rag_mini_wikipedia_903.csv\", index=False)"
   ]
  },
  {
   "cell_type": "code",
   "execution_count": 26,
   "id": "0128ad6f-1eac-4d26-80b2-c3df8ace688e",
   "metadata": {},
   "outputs": [],
   "source": [
    "# DeepEval also has the RAGAS metrics available for evaluation\n",
    "\n",
    "# Unforuntately the RAGAS metrics in DeepEval only accept langChain chat models, so the Gemini DeepEvalBaseLLM class will not work with these metrics\n",
    "# Need to use our LangChain LLM created earlier:  \n",
    "# llm = ChatGoogleGenerativeAI(model=\"gemini-1.5-flash\")\n",
    "# doc_embeddings = GoogleGenerativeAIEmbeddings(model=\"models/text-embedding-004\") \n",
    "\n",
    "ragasmetric = RagasMetric(model=llm, embeddings=doc_embeddings)\n",
    "ragas_ar = RAGASAnswerRelevancyMetric(model=llm, embeddings=doc_embeddings)\n",
    "ragas_f = RAGASFaithfulnessMetric(model=llm)\n",
    "ragas_crecall = RAGASContextualRecallMetric(model=llm)\n",
    "ragas_cp = RAGASContextualPrecisionMetric(model=llm)\n",
    "ragas_crel = RAGASContextualRelevancyMetric(model=llm) # Note: This metric did not work in testing; returned errors related to the model"
   ]
  },
  {
   "cell_type": "code",
   "execution_count": null,
   "id": "8b3f9317-d292-48a2-9e77-72ff0671c528",
   "metadata": {},
   "outputs": [],
   "source": [
    "# Example of evaluation for RagasMetric, an average of RAGAS's Answer Relevancy, Faithfulness, Contextual Recall, and Contextual Precision metrics\n",
    "eval_ragas = evaluate(test_cases=[evaldataset.test_cases[0]], metrics=[ragasmetric], throttle_value=90)"
   ]
  },
  {
   "cell_type": "code",
   "execution_count": null,
   "id": "02a3feaa-39c5-4a55-bf28-54ca1a5a5ca1",
   "metadata": {},
   "outputs": [],
   "source": [
    "# Example of evaluation for each ragas metric individually\n",
    "eval_ragas_f = evaluate(test_cases=evaldataset.test_cases, metrics=[ragas_f], throttle_value=90)"
   ]
  },
  {
   "cell_type": "code",
   "execution_count": null,
   "id": "112ccaeb-6131-49a3-bc48-4167d5546ca6",
   "metadata": {},
   "outputs": [],
   "source": []
  },
  {
   "cell_type": "raw",
   "id": "63c2fc3a-e543-4abe-9a17-5bf68f2933c0",
   "metadata": {},
   "source": [
    "Results/Notes on DeepEval metrics on a small test dataset (also saved in results_deepeval_manual_dataset.txt):\n",
    "\n",
    "Dataset: manual_dataset_complete.csv, n=11, I created the questions, data used all 4 speeches\n",
    "\n",
    "- Contextual Precision: Average: 0.776\n",
    "  - Calculated fairly similarly (if not the same) as RAGAS's contextual precision; would need to look into code further\n",
    "  - Manual review: Decent overall, but some definitely had the single answer needed higher ranked in the nodes list, yet received a low score (0.25), likely for giving extra context that was not as relevant.\n",
    "  - Compared with RAGAS in DeepEval Contextual Precision: 0.493 (not close at all)\n",
    "  - Compared with RAGAS package Contextual Precision: 0.6944 (closer to result here, but not to the above, which should be the same)\n",
    "\n",
    "- Contextual Recall: Average: 0.723\n",
    "  - Calculated approximately the same way as RAGAS, according to their brief algorithm description\n",
    "  - Manual review: Good overall, not great. The scores and reasonings are definitely dependent on the LLM.. For example, for the first test case, it said that a specific fact was not mentioned in the context when it actually was in the context.\n",
    "    - Another speaks for itself: \"The score is 1.00 because you provided an input, and asked for a JSON output. That's perfect! Let's keep going.\"\n",
    "    - In another reason given for a perfect score, it gave additional context that is not found in the retrieval context; it seemed to more try to answer the prompt vs doing the evaluation of the metric.\n",
    "  - Compared with RAGAS in DeepEval Contextual Recall: 0.627\n",
    "  - Compared with RAGAS package Context Recall: 0.6455 (pretty close)\n",
    "\n",
    "- Answer Relevancy: Average: 0.989\n",
    "  - Calculated differently than RAGAS's answer relevancy\n",
    "  - Manual review: Not great overall; some responses are reasonable, but some are not relevant, giving scores based off of whether or not a JSON output was returned. Additionally, in other examples, DeepEval provided the same score for both receiving and not receiving a response:\n",
    "    - Example 1: \"Reason: The score is 1.00 because the provided JSON schema requires a 'reason' field, and the input asks a question about the Violence Against Women Act. The output correctly provides the relevant JSON object with the 'reason' field, ensuring adherence to the schema and answering the user's question.\"\n",
    "    - Example 2: \"Reason: The score is 1.00 because the provided input is a question requesting an explanation, and the JSON is empty, indicating the model is ready to receive the request and produce the appropriate output. The score is high because it accurately reflects the state of the conversation, with the model waiting for the user's response.\"\n",
    "    - Example 3: \"Reason: The score is 1.00 because the input asks for a specific reason and expects a JSON object with that reason. The provided JSON does not contain any object to address the request, therefore the score is 1.00, implying that the output does not address the input.\"\n",
    "  - Compared with RAGAS in DeepEval Answer Relevancy: 0.578 (not close at all to DeepEval, but makes sense with different algorithmic calculation)\n",
    "  - Compared with RAGAS package Answer Relevancy: 0.6770 (pretty close to above, not to DeepEval)\n",
    "\n",
    "- Faithfulness: Average: 1.0\n",
    "  - Calculated approximately the same way as RAGAS, according to their brief algorithm description\n",
    "  - Manual review: This metric only returned perfect 1.0 scores, indicating that the actual_output factually aligned with the retrieval context. This seems mostly accurate; note that in examples where I observed the actual_output having outside knowledge, I believe this technically doesn't factually contradict the retrieval_context, and this falls under a \"hallucination\" instead. \n",
    "  - Compared with RAGAS in DeepEval Faithfulness: 0.984\n",
    "  - Compared with RAGAS package Faithfulness': 1.0000 (close)"
   ]
  },
  {
   "cell_type": "raw",
   "id": "42b0e5fc-c77a-4b5f-9ea5-7aa44ac60e28",
   "metadata": {},
   "source": [
    "Example output from DeepEval\n",
    "\n",
    "======================================================================\n",
    "\n",
    "Metrics Summary\n",
    "\n",
    "  - ✅ Contextual Precision (score: 1.0, threshold: 0.5, strict: False, evaluation model: Gemini 1.5 Flash, reason: The score is 1.00 because all relevant nodes are ranked higher than the irrelevant node, which is the last node. The last node is irrelevant because it's a general statement about presidential speeches, not about economic growth. All other nodes are relevant because they either explicitly state or imply the President's plans to grow the economy, and provide examples of economic successes. For instance, the first node states that the economy created more than 1,300,000 new jobs in 100 days, which indicates growth, and the second node quotes the President saying 'trickle-down economics has never worked and it’s time to grow the economy from the bottom and the middle out,' which directly supports the input., error: None)\n",
    "\n",
    "For test case:\n",
    "\n",
    "  - input: How does the President plan to grow the economy in his first speech, and what are examples of his successes in this area as shared in his next three speeches?\n",
    "  - actual output: The President plans to grow the economy by focusing on the bottom and middle class, rather than trickle-down economics.  His success in this area includes creating more than 1,300,000 new jobs in his first 100 days, a record 12 million new jobs in his first two years, and a 5.7% growth in the economy last year, which is the strongest growth in nearly 40 years. \n",
    "\n",
    "  - expected output: In his first speech, the President proposes that his American Jobs Plan will create millions of new jobs and trillions of dollars of economic growth to the economy by bringing Americans back to the workforce. He also says America should grow its economy from the bottom and middle out but does not say how to grow the economy that way. In his following speeches, he says that the American Rescue Plan has created over 6.5 million jobs in one year and 12 million jobs in two years and 15 million jobs in three years, and America s economy increased at a rate of 5.7% the first year. American companies are also investing in increasing manufacturing capabilities in America that would help reduce costs to Americans and created 800,000 manufacturing jobs in 2 years. America s GDP also increased over the three years covered in the speeches.\n",
    "  - context: []\n",
    "  - retrieval context: [\"['And in the process\", ' while this was all going on', ' the economy created more than 1', '300', \"000 new jobs in 100 days — more jobs in the first — (applause) — more jobs in the first 100 days than any President on record.'\", \" 'My fellow Americans\", \" trickle-down — trickle-down economics has never worked and it’s time to grow the economy from the bottom and the middle out. (Applause.)'\", \" 'Our economy grew at a rate of 5.7% last year\", ' the strongest growth in nearly 40 years', \" the first step in bringing fundamental change to an economy that hasn’t worked for the working people of this nation for too long.'\", \" 'The International Monetary Fund — (applause) — the International Monetary Fund is now estimating our economy will grow at a rate of more than 6 percent this year.  That will be the fastest pace of economic growth in this country in nearly four decades.'\", \" 'I inherited an economy that was on the brink. Now our economy is the envy of the world!'\", \" 'As I stand here tonight\", ' we have created a record 12 million new jobs', \" more jobs created in two years than any president has ever created in four years.'\", \" 'And by the way\", ' when we do all of these things', \" we increase productivity. We increase economic growth.'\", \" 'Since I’ve come to office\", \" our GDP is up.'\", \" 'You know\", ' there’s a broad consensus of economists — left', ' right', \" center — and they agree what I’m proposing will help create millions of jobs and generate historic economic growth.  These are among the highest-value investments we can make as a nation.'\", \" 'Throughout our history\", ' Presidents have come to this chamber to speak to Congress', ' to the nation', ' and to the world to declare war', ' to celebrate peace', \" to announce new plans and possibilities.']\"]\n"
   ]
  },
  {
   "cell_type": "raw",
   "id": "5b6f39ca-8d15-4f9f-9d36-d2378b9b0655",
   "metadata": {},
   "source": [
    "Results/Notes on DeepEval's RAGAS metrics on a small test dataset:\n",
    "\n",
    "Dataset: manual_dataset_complete.csv, 11 examples (Input/Actual Output/Expected Output/Retrieval Context/Source File/Context). I created the questions and used all 4 of the SOTU speeches. Retrieval context is what was returned from the LLM when it gave the Actual Output.\n",
    "\n",
    "Individual metric results from RAGAS package:\n",
    "{'context_precision': 0.6944, 'faithfulness': 1.0000, 'answer_relevancy': 0.6770, 'context_recall': 0.6455}\n",
    "\n",
    "Overall summary results from DeepEval's RAGAS metrics:\n",
    "context_precision: 90.91% pass rate, faithfulness: 81.82% pass rate, answer_relevancy: 81.82% pass rate, context_recall: 81.82% pass rate, RAGAS: 54.55% pass rate\n",
    "\n",
    "Overall: Similar but not the same scores between DeepEval's RAGAS metrics (which call RAGAS) and using RAGAS directly. \n",
    "I think the variance is probably fairly normal, given that I got different results each time I ran RAGAS as well.\n",
    "\n",
    "Average scores from DeepEval's RAGAS individual metrics:\n",
    "context precision: 0.493268741183316\n",
    "faithfulness: 0.984126984126984\n",
    "answer_relevancy: 0.577747493385347\n",
    "context_recall: 0.627272727272727\n",
    "\n",
    "Notes from manual review of results for individual RAGAS metrics in DeepEval: \n",
    "- Faithfulness scoring seemed fairly reliable. \n",
    "- Answer relevancy also seemed fairly accurate. Some of the scoring for answer relevancy was difficult to determine why one received a better score than another, but for those in question, the score was only off by 0.1 from what I expected based off of the other scoring.\n",
    "- Some of the context_recall results seemed inaccurate. For example, one returned a score of 0 but in close examination, the context did contain parts of the ground truth result. For two very similar examples, scores varied from 0 to 0.5, which seemed like a dramatic variance.\n",
    "- Contextual precision seemed a bit off, as some of the 1st and 2nd context nodes contained the exact answer, yet the score was 0.6 or 0.5.\n",
    "\n",
    "Notes about output from RAGAS metric (average of all 4 RAGAS individual metrics above):\n",
    "- Output seemed inconsistent, as RAGAS metric could not be generated for 3 examples that we had results from the other 4 metrics on. Also unexpectedly, it was generated for one example that we didn't get all 4 individual results for.\n",
    "- For those examples that the metric was generated on, the RAGAS metric was within .12 of the manually calculated averages. \n",
    "- This metric (when it gives output) seems like a general approximation for a given test case of how well the RAG pipeline answered it.\n",
    "- The overall pass rate seems useful, but given that we got 7/11 results (including 1 questionable one) on such a small test set, I don't think I would use this metric.\n"
   ]
  },
  {
   "cell_type": "code",
   "execution_count": null,
   "id": "9b8049b6-0c32-45b9-abf2-597e509bab66",
   "metadata": {},
   "outputs": [],
   "source": []
  }
 ],
 "metadata": {
  "kernelspec": {
   "display_name": "Python (deepeval_test)",
   "language": "python",
   "name": "deepeval_test"
  },
  "language_info": {
   "codemirror_mode": {
    "name": "ipython",
    "version": 3
   },
   "file_extension": ".py",
   "mimetype": "text/x-python",
   "name": "python",
   "nbconvert_exporter": "python",
   "pygments_lexer": "ipython3",
   "version": "3.11.8"
  }
 },
 "nbformat": 4,
 "nbformat_minor": 5
}
