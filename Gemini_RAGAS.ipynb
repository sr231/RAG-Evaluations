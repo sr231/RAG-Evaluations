{
 "cells": [
  {
   "cell_type": "code",
   "execution_count": 1,
   "id": "0f13f959-5e0b-4e76-b116-da5da6a04ae6",
   "metadata": {},
   "outputs": [],
   "source": [
    "# set do not track variable to RAGAS\n",
    "# more info: https://github.com/explodinggradients/ragas/issues/49\n",
    "import os\n",
    "os.environ[\"RAGAS_DO_NOT_TRACK\"] = \"True\""
   ]
  },
  {
   "cell_type": "code",
   "execution_count": 2,
   "id": "f30fd81d-ce93-4e03-bbec-862ece105b76",
   "metadata": {},
   "outputs": [],
   "source": [
    "import logging\n",
    "import sys\n",
    "import google.generativeai as genai\n",
    "import pathlib\n",
    "import textwrap\n",
    "import ragas\n",
    "from langchain_google_genai import ChatGoogleGenerativeAI, GoogleGenerativeAIEmbeddings\n",
    "from llama_index.core import Document, VectorStoreIndex, Settings, StorageContext, load_index_from_storage\n",
    "#from llama_index import VectorStoreIndex, StorageContext\n",
    "from llama_index.vector_stores.faiss import FaissVectorStore\n",
    "import pandas as pd\n",
    "import faiss\n",
    "\n",
    "from IPython.display import display\n",
    "from IPython.display import Markdown\n",
    "\n",
    "def to_markdown(text):\n",
    "  text = text.replace('•', '  *')\n",
    "  return Markdown(textwrap.indent(text, '> ', predicate=lambda _: True))"
   ]
  },
  {
   "cell_type": "code",
   "execution_count": 3,
   "id": "9ca08633-0877-4773-93ab-d4a78b8f5662",
   "metadata": {},
   "outputs": [],
   "source": [
    "genai.configure(api_key=os.environ[\"GOOGLE_API_KEY\"])"
   ]
  },
  {
   "cell_type": "code",
   "execution_count": 4,
   "id": "11b65e5d-d679-49c4-ade6-2719fecb55d4",
   "metadata": {},
   "outputs": [
    {
     "data": {
      "text/plain": [
       "True"
      ]
     },
     "execution_count": 4,
     "metadata": {},
     "output_type": "execute_result"
    }
   ],
   "source": [
    "ragas._analytics.do_not_track()"
   ]
  },
  {
   "cell_type": "code",
   "execution_count": 5,
   "id": "5f5c3780-22bc-42d7-8653-107c0e0c26b8",
   "metadata": {},
   "outputs": [
    {
     "name": "stderr",
     "output_type": "stream",
     "text": [
      "WARNING: All log messages before absl::InitializeLog() is called are written to STDERR\n",
      "I0000 00:00:1723490604.703276   30961 check_gcp_environment.cc:61] BIOS data file does not exist or cannot be opened.\n"
     ]
    }
   ],
   "source": [
    "llm = ChatGoogleGenerativeAI(model=\"gemini-1.5-flash\")\n",
    "#result = llm.invoke(\"Write me a party invitation to a one year's old's dinosaur birthday party.\")"
   ]
  },
  {
   "cell_type": "code",
   "execution_count": 6,
   "id": "5248aab9-6fcd-46bf-b260-773c23b8845d",
   "metadata": {},
   "outputs": [],
   "source": [
    "# create document database\n",
    "sotu = []\n",
    "with open(\"state_of_the_union_030724.txt\") as file:\n",
    "    for line in file:\n",
    "        nl = line.rstrip()\n",
    "        if nl != '':\n",
    "            sotu.append(nl)"
   ]
  },
  {
   "cell_type": "code",
   "execution_count": 7,
   "id": "90db689f-b0e4-484f-a0f4-c30eb169347c",
   "metadata": {},
   "outputs": [
    {
     "data": {
      "text/plain": [
       "['Good evening.',\n",
       " 'Mr. Speaker. Madam Vice President. Members of Congress. My Fellow Americans.',\n",
       " 'In January 1941, President Franklin Roosevelt came to this chamber to speak to the nation.',\n",
       " 'He said, “I address you at a moment unprecedented in the history of the Union.”',\n",
       " 'Hitler was on the march. War was raging in Europe.',\n",
       " 'President Roosevelt’s purpose was to wake up the Congress and alert the American people that this was no ordinary moment.',\n",
       " 'Freedom and democracy were under assault in the world.',\n",
       " 'Tonight I come to the same chamber to address the nation.',\n",
       " 'Now it is we who face an unprecedented moment in the history of the Union.',\n",
       " 'And yes, my purpose tonight is to both wake up this Congress, and alert the American people that this is no ordinary moment either.']"
      ]
     },
     "execution_count": 7,
     "metadata": {},
     "output_type": "execute_result"
    }
   ],
   "source": [
    "sotu[:10]"
   ]
  },
  {
   "cell_type": "code",
   "execution_count": 8,
   "id": "2bd48335-0c8c-4f86-ae1b-d1832ff6a52b",
   "metadata": {},
   "outputs": [],
   "source": [
    "documents = [Document(text=line) for line in sotu]"
   ]
  },
  {
   "cell_type": "code",
   "execution_count": 9,
   "id": "5fb9bf47-2a72-41a7-af8e-ae663bf95e47",
   "metadata": {},
   "outputs": [
    {
     "data": {
      "text/plain": [
       "[Document(id_='034192b4-6167-41ae-8393-b782dc955ed7', embedding=None, metadata={}, excluded_embed_metadata_keys=[], excluded_llm_metadata_keys=[], relationships={}, text='Good evening.', mimetype='text/plain', start_char_idx=None, end_char_idx=None, text_template='{metadata_str}\\n\\n{content}', metadata_template='{key}: {value}', metadata_seperator='\\n'),\n",
       " Document(id_='52254334-50f9-4b29-b6b1-444c0cca069b', embedding=None, metadata={}, excluded_embed_metadata_keys=[], excluded_llm_metadata_keys=[], relationships={}, text='Mr. Speaker. Madam Vice President. Members of Congress. My Fellow Americans.', mimetype='text/plain', start_char_idx=None, end_char_idx=None, text_template='{metadata_str}\\n\\n{content}', metadata_template='{key}: {value}', metadata_seperator='\\n')]"
      ]
     },
     "execution_count": 9,
     "metadata": {},
     "output_type": "execute_result"
    }
   ],
   "source": [
    "documents[:2]"
   ]
  },
  {
   "cell_type": "code",
   "execution_count": 10,
   "id": "53ed3997-3a20-4a99-a9c1-7cc6d6a217e6",
   "metadata": {},
   "outputs": [
    {
     "name": "stdout",
     "output_type": "stream",
     "text": [
      "True\n"
     ]
    }
   ],
   "source": [
    "# following these tutorials\n",
    "# https://learnbybuilding.ai/tutorials/rag-chatbot-on-podcast-llamaindex-faiss-openai\n",
    "# https://medium.com/@saurabhgssingh/understanding-rag-building-a-rag-system-from-scratch-with-gemini-api-b11ad9fc1bf7\n",
    "\n",
    "d = 768 # dimensions of ___, the embedding model that we're going to use\n",
    "faiss_index = faiss.IndexFlatL2(d)\n",
    "print(faiss_index.is_trained)"
   ]
  },
  {
   "cell_type": "code",
   "execution_count": 11,
   "id": "490599ac-6499-4174-999d-4ddc0609fd6e",
   "metadata": {},
   "outputs": [],
   "source": [
    "embeddings = GoogleGenerativeAIEmbeddings(model=\"models/text-embedding-004\")\n",
    "Settings.embed_model = embeddings\n",
    "#vector = embeddings.embed_query(\"hello, world!\")\n",
    "#vector[:5]"
   ]
  },
  {
   "cell_type": "code",
   "execution_count": 12,
   "id": "c24d9337-5832-47d6-90df-6e73b3de8a9e",
   "metadata": {},
   "outputs": [],
   "source": [
    "logging.basicConfig(stream=sys.stdout, level=logging.INFO)\n",
    "logging.getLogger().addHandler(logging.StreamHandler(stream=sys.stdout))"
   ]
  },
  {
   "cell_type": "code",
   "execution_count": 13,
   "id": "f7340422-e457-4697-aea8-23f6d24c67a8",
   "metadata": {},
   "outputs": [],
   "source": [
    "#from llama_index import ServiceContext, set_global_service_context\n",
    "#service_context = ServiceContext.from_defaults(llm=llm, embed_model=embededdings)\n",
    "#set_global_service_context(service_context)\n",
    "\n",
    "Settings.llm = llm"
   ]
  },
  {
   "cell_type": "code",
   "execution_count": 14,
   "id": "d3171f73-723f-40f5-91d3-14e0f26173e0",
   "metadata": {},
   "outputs": [],
   "source": [
    "# uncomment for when you need to re-embed and vectorize documents\n",
    "# otherwise, doing local loading below\n",
    "#vector_store = FaissVectorStore(faiss_index=faiss_index)\n",
    "#storage_context = StorageContext.from_defaults(vector_store=vector_store)\n",
    "#index = VectorStoreIndex.from_documents(\n",
    "#    documents, storage_context=storage_context, show_progress=True\n",
    "#)\n",
    "# save index to disk\n",
    "#index.storage_context.persist()\n",
    "#index"
   ]
  },
  {
   "cell_type": "code",
   "execution_count": 15,
   "id": "60c8a330-0b12-434d-bc1c-4d8a7a1e32ae",
   "metadata": {},
   "outputs": [
    {
     "name": "stdout",
     "output_type": "stream",
     "text": [
      "INFO:root:Loading llama_index.vector_stores.faiss.base from ./storage/default__vector_store.json.\n",
      "Loading llama_index.vector_stores.faiss.base from ./storage/default__vector_store.json.\n",
      "INFO:llama_index.core.indices.loading:Loading all indices.\n",
      "Loading all indices.\n"
     ]
    }
   ],
   "source": [
    "# load index from disk\n",
    "vector_store = FaissVectorStore.from_persist_dir(\"./storage\")\n",
    "storage_context = StorageContext.from_defaults(\n",
    "    vector_store=vector_store, persist_dir=\"./storage\"\n",
    ")\n",
    "index = load_index_from_storage(storage_context=storage_context)"
   ]
  },
  {
   "cell_type": "code",
   "execution_count": 26,
   "id": "8ba1e938-d2bc-4ef3-a9d2-f2bc01a41e98",
   "metadata": {},
   "outputs": [],
   "source": [
    "query_engine = index.as_query_engine(similarity_top_k=10)"
   ]
  },
  {
   "cell_type": "code",
   "execution_count": 27,
   "id": "2026088c-515b-4933-9ec9-d3a616870533",
   "metadata": {},
   "outputs": [],
   "source": [
    "query = \"What is the President planning related to healthcare?\"\n",
    "response = query_engine.query(query)"
   ]
  },
  {
   "cell_type": "code",
   "execution_count": 28,
   "id": "a13c4949-af9b-43da-9954-bebdd2cdbdaa",
   "metadata": {},
   "outputs": [
    {
     "data": {
      "text/plain": [
       "'The President is advocating for several healthcare reforms, including capping the cost of insulin at $35 a month, capping prescription drug costs at $2,000 a year, and giving Medicare the power to negotiate lower prices for drugs. They also mention saving taxpayers money by cutting the federal deficit and reducing health care premiums for working families. \\n'"
      ]
     },
     "execution_count": 28,
     "metadata": {},
     "output_type": "execute_result"
    }
   ],
   "source": [
    "response.response"
   ]
  },
  {
   "cell_type": "code",
   "execution_count": 30,
   "id": "1e0178b0-ee47-4443-b8fa-c5cb3b4de228",
   "metadata": {},
   "outputs": [
    {
     "name": "stdout",
     "output_type": "stream",
     "text": [
      "0.9039260149002075 -> Over one hundred million of you can no longer be denied health insurance because of pre-existing conditions.\n",
      "0.924292266368866 -> And now I want to cap the cost of insulin at $35 a month for every American who needs it!\n",
      "0.9246326684951782 -> A president, my predecessor, who failed the most basic duty. Any President owes the American people the duty to care.\n",
      "0.9358830451965332 -> That’s why we’re launching the first-ever White House Initiative on Women’s Health Research, led by Jill who is doing an incredible job as First Lady.\n",
      "0.9369264245033264 -> Folks Obamacare, known as the Affordable Care Act is still a very big deal.\n",
      "0.9414553046226501 -> Now I want to cap prescription drug costs at $2,000 a year for everyone!\n",
      "0.9473403692245483 -> It’s saving taxpayers money cutting the federal deficit by $160 Billion because Medicare will no longer have to pay exorbitant prices to Big Pharma.\n",
      "0.9535688161849976 -> I enacted tax credits that save $800 per person per year reducing health care premiums for millions of working families.\n",
      "0.9633550643920898 -> Now it’s time to go further and give Medicare the power to negotiate lower prices for 500 drugs over the next decade.\n",
      "0.9700928926467896 -> But my predecessor and many in this chamber want to take that protection away by repealing the Affordable Care Act I won’t let that happen!\n"
     ]
    }
   ],
   "source": [
    "for node in response.source_nodes:\n",
    "    print(f\"{node.get_score()} -> {node.text}\")"
   ]
  },
  {
   "cell_type": "code",
   "execution_count": null,
   "id": "35114936-2d0c-4b06-99d7-16b4699d9388",
   "metadata": {},
   "outputs": [],
   "source": [
    "#result = genai.embed_content(\n",
    "#    model=\"models/text-embedding-004\",\n",
    "#    content=\"What is the meaning of life?\",\n",
    "#    task_type=\"retrieval_document\",\n",
    "#    title=\"Embedding of single string\")"
   ]
  },
  {
   "cell_type": "code",
   "execution_count": 31,
   "id": "972fd7ce-ab58-42b9-962a-e604172eb74c",
   "metadata": {},
   "outputs": [],
   "source": [
    "chat_engine = index.as_chat_engine(similarity_top_k=10, chat_mode='context')"
   ]
  },
  {
   "cell_type": "code",
   "execution_count": 35,
   "id": "116cf23e-1423-477a-9bd3-ea0272ee5083",
   "metadata": {},
   "outputs": [],
   "source": [
    "query = \"What does the President say about Congress?\"\n",
    "response = chat_engine.chat(query)"
   ]
  },
  {
   "cell_type": "code",
   "execution_count": 36,
   "id": "7f4124a0-55f3-48dd-bdaa-07bcb3717e96",
   "metadata": {},
   "outputs": [
    {
     "data": {
      "text/plain": [
       "'The President says several things about Congress:\\n\\n* **He urges them to \"get this bill done\"**, referencing a bill he believes is important for the American people. \\n* **He criticizes them for playing politics** and potentially blocking the bill.\\n* **He calls on them to \"wake up\"** and recognize the importance of the current moment.\\n* **He tells Congress they must \"stand up to Putin\"** and pass the Bipartisan National Security Bill. \\n'"
      ]
     },
     "execution_count": 36,
     "metadata": {},
     "output_type": "execute_result"
    }
   ],
   "source": [
    "response.response"
   ]
  },
  {
   "cell_type": "code",
   "execution_count": 37,
   "id": "2661c93d-c075-41ee-a5e8-ef5ae67e0265",
   "metadata": {},
   "outputs": [
    {
     "name": "stdout",
     "output_type": "stream",
     "text": [
      "The President says several things about Congress:\n",
      "\n",
      "* **He urges them to \"get this bill done\"**, referencing a bill he believes is important for the American people. \n",
      "* **He criticizes them for playing politics** and potentially blocking the bill.\n",
      "* **He calls on them to \"wake up\"** and recognize the importance of the current moment.\n",
      "* **He tells Congress they must \"stand up to Putin\"** and pass the Bipartisan National Security Bill. \n",
      "\n"
     ]
    }
   ],
   "source": [
    "print(response.response)"
   ]
  },
  {
   "cell_type": "code",
   "execution_count": 38,
   "id": "aa970253-2559-4803-b390-c1f81fdc97d5",
   "metadata": {},
   "outputs": [
    {
     "name": "stdout",
     "output_type": "stream",
     "text": [
      "0.7652876377105713 -> Mr. Speaker. Madam Vice President. Members of Congress. My Fellow Americans.\n",
      "0.7749111652374268 -> Tonight I come to the same chamber to address the nation.\n",
      "0.8328826427459717 -> A president, my predecessor, who failed the most basic duty. Any President owes the American people the duty to care.\n",
      "0.8343376517295837 -> And I will always be a president for all Americans!\n",
      "0.842502236366272 -> My Republican friends you owe it to the American people to get this bill done.\n",
      "0.8441706895828247 -> And if my predecessor is watching instead of playing politics and pressuring members of Congress to block this bill, join me in telling Congress to pass it!\n",
      "0.8499408960342407 -> And yes, my purpose tonight is to both wake up this Congress, and alert the American people that this is no ordinary moment either.\n",
      "0.852456271648407 -> Meanwhile, my predecessor told the NRA he’s proud he did nothing on guns when he was President.\n",
      "0.8647689819335938 -> I signed a bipartisan budget deal that will cut another trillion dollars over the next decade.\n",
      "0.8650350570678711 -> I say this to Congress: we must stand up to Putin. Send me the Bipartisan National Security Bill.\n"
     ]
    }
   ],
   "source": [
    "for node in response.source_nodes:\n",
    "    print(f\"{node.get_score()} -> {node.text}\")"
   ]
  },
  {
   "cell_type": "code",
   "execution_count": 39,
   "id": "97057f9c-ffbb-493c-9ee6-819fb1fdf2e8",
   "metadata": {},
   "outputs": [
    {
     "data": {
      "text/plain": [
       "[ChatMessage(role=<MessageRole.USER: 'user'>, content='What does the President say about his predecessor?', additional_kwargs={}),\n",
       " ChatMessage(role=<MessageRole.ASSISTANT: 'assistant'>, content='', additional_kwargs={}),\n",
       " ChatMessage(role=<MessageRole.USER: 'user'>, content='What does the President say about Congress?', additional_kwargs={}),\n",
       " ChatMessage(role=<MessageRole.ASSISTANT: 'assistant'>, content='The President says several things about Congress:\\n\\n* **He urges them to \"get this bill done\"**, referencing a bill he believes is important for the American people. \\n* **He criticizes them for playing politics** and potentially blocking the bill.\\n* **He calls on them to \"wake up\"** and recognize the importance of the current moment.\\n* **He tells Congress they must \"stand up to Putin\"** and pass the Bipartisan National Security Bill. \\n', additional_kwargs={})]"
      ]
     },
     "execution_count": 39,
     "metadata": {},
     "output_type": "execute_result"
    }
   ],
   "source": [
    "chat_engine.chat_history"
   ]
  },
  {
   "cell_type": "code",
   "execution_count": 40,
   "id": "6ada277f-4bfc-4f13-9691-a448d5858b99",
   "metadata": {},
   "outputs": [],
   "source": [
    "query2 = \"What else does he say about that bill?\"\n",
    "response2 = chat_engine.chat(query2)"
   ]
  },
  {
   "cell_type": "code",
   "execution_count": 41,
   "id": "ec53f6d0-92e8-464d-bd2d-038b72f9a9f3",
   "metadata": {},
   "outputs": [
    {
     "name": "stdout",
     "output_type": "stream",
     "text": [
      "Here's what the President says about the bill he wants Congress to pass:\n",
      "\n",
      "* **It would save lives and bring order to the border.** This suggests it's related to immigration or border security.\n",
      "* **The Border Patrol Union endorsed the bill.** This adds credibility to the bill's potential effectiveness.\n",
      "* **He believes a majority of the House and Senate would endorse it.** This indicates he believes it has bipartisan support.\n",
      "\n",
      "It's important to note that the specific details of the bill are not provided in the context.  We only know it's a \"Bipartisan National Security Bill\" and the President strongly advocates for its passage. \n",
      "\n"
     ]
    }
   ],
   "source": [
    "print(response2.response)"
   ]
  },
  {
   "cell_type": "code",
   "execution_count": 42,
   "id": "6aebe89c-5a78-450c-9c9b-2f96187d7791",
   "metadata": {},
   "outputs": [
    {
     "name": "stdout",
     "output_type": "stream",
     "text": [
      "0.7411553263664246 -> My Republican friends you owe it to the American people to get this bill done.\n",
      "0.7534066438674927 -> And if my predecessor is watching instead of playing politics and pressuring members of Congress to block this bill, join me in telling Congress to pass it!\n",
      "0.7781415581703186 -> I’m told my predecessor called Republicans in Congress and demanded they block the bill. He feels it would be a political win for me and a political loser for him.\n",
      "0.782292902469635 -> I believe that given the opportunity a majority of the House and Senate would endorse it as well.\n",
      "0.8261321783065796 -> Here at home I’ve signed over 400 bipartisan bills.\n",
      "0.8330406546592712 -> This bill would save lives and bring order to the border.\n",
      "0.83488529920578 -> I say this to Congress: we must stand up to Putin. Send me the Bipartisan National Security Bill.\n",
      "0.8600276708602905 -> But my predecessor and many in this chamber want to take that protection away by repealing the Affordable Care Act I won’t let that happen!\n",
      "0.8662459850311279 -> The Border Patrol Union endorsed the bill.\n",
      "0.870331883430481 -> Many of you in this Chamber and my predecessor are promising to pass a national ban on reproductive freedom.\n"
     ]
    }
   ],
   "source": [
    "for node in response2.source_nodes:\n",
    "    print(f\"{node.get_score()} -> {node.text}\")"
   ]
  },
  {
   "cell_type": "code",
   "execution_count": null,
   "id": "bf198ee7-45f6-4573-8bcb-60b25e2b7af2",
   "metadata": {},
   "outputs": [],
   "source": []
  }
 ],
 "metadata": {
  "kernelspec": {
   "display_name": "research2",
   "language": "python",
   "name": "research2"
  },
  "language_info": {
   "codemirror_mode": {
    "name": "ipython",
    "version": 3
   },
   "file_extension": ".py",
   "mimetype": "text/x-python",
   "name": "python",
   "nbconvert_exporter": "python",
   "pygments_lexer": "ipython3",
   "version": "3.11.8"
  }
 },
 "nbformat": 4,
 "nbformat_minor": 5
}
