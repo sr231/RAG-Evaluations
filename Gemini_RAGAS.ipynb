{
 "cells": [
  {
   "cell_type": "code",
   "execution_count": 1,
   "id": "0f13f959-5e0b-4e76-b116-da5da6a04ae6",
   "metadata": {},
   "outputs": [],
   "source": [
    "# set do not track variable to RAGAS\n",
    "# more info: https://github.com/explodinggradients/ragas/issues/49\n",
    "import os\n",
    "os.environ[\"RAGAS_DO_NOT_TRACK\"] = \"True\""
   ]
  },
  {
   "cell_type": "code",
   "execution_count": 2,
   "id": "f30fd81d-ce93-4e03-bbec-862ece105b76",
   "metadata": {},
   "outputs": [],
   "source": [
    "import logging\n",
    "import sys\n",
    "import google.generativeai as genai\n",
    "import pathlib\n",
    "import textwrap\n",
    "import ragas\n",
    "from langchain_google_genai import ChatGoogleGenerativeAI, GoogleGenerativeAIEmbeddings\n",
    "from llama_index.core import Document, VectorStoreIndex, Settings, StorageContext, load_index_from_storage\n",
    "from llama_index.vector_stores.faiss import FaissVectorStore\n",
    "import pandas as pd\n",
    "import faiss\n",
    "\n",
    "from IPython.display import display\n",
    "from IPython.display import Markdown\n",
    "\n",
    "def to_markdown(text):\n",
    "  text = text.replace('•', '  *')\n",
    "  return Markdown(textwrap.indent(text, '> ', predicate=lambda _: True))"
   ]
  },
  {
   "cell_type": "code",
   "execution_count": 3,
   "id": "9ca08633-0877-4773-93ab-d4a78b8f5662",
   "metadata": {},
   "outputs": [],
   "source": [
    "genai.configure(api_key=os.environ[\"GOOGLE_API_KEY\"])"
   ]
  },
  {
   "cell_type": "code",
   "execution_count": 4,
   "id": "11b65e5d-d679-49c4-ade6-2719fecb55d4",
   "metadata": {},
   "outputs": [
    {
     "data": {
      "text/plain": [
       "True"
      ]
     },
     "execution_count": 4,
     "metadata": {},
     "output_type": "execute_result"
    }
   ],
   "source": [
    "ragas._analytics.do_not_track()"
   ]
  },
  {
   "cell_type": "code",
   "execution_count": 5,
   "id": "5f5c3780-22bc-42d7-8653-107c0e0c26b8",
   "metadata": {},
   "outputs": [
    {
     "name": "stderr",
     "output_type": "stream",
     "text": [
      "WARNING: All log messages before absl::InitializeLog() is called are written to STDERR\n",
      "I0000 00:00:1723656700.414377    8884 check_gcp_environment.cc:61] BIOS data file does not exist or cannot be opened.\n"
     ]
    }
   ],
   "source": [
    "llm = ChatGoogleGenerativeAI(model=\"gemini-1.5-flash\")\n",
    "#result = llm.invoke(\"Write me a party invitation to a one year's old's dinosaur birthday party.\")"
   ]
  },
  {
   "cell_type": "code",
   "execution_count": 6,
   "id": "5248aab9-6fcd-46bf-b260-773c23b8845d",
   "metadata": {},
   "outputs": [],
   "source": [
    "# create document database\n",
    "sotu = []\n",
    "files = [\"./Speeches/state_of_the_union_042921.txt\", \"./Speeches/state_of_the_union_030122.txt\", \"./Speeches/state_of_the_union_020723.txt\", \"./Speeches/state_of_the_union_030724.txt\"]\n",
    "for i in files:\n",
    "    with open(i) as file:\n",
    "        for line in file:\n",
    "            nl = line.rstrip()\n",
    "            if nl != '':\n",
    "                sotu.append(nl)"
   ]
  },
  {
   "cell_type": "code",
   "execution_count": 7,
   "id": "90db689f-b0e4-484f-a0f4-c30eb169347c",
   "metadata": {},
   "outputs": [
    {
     "data": {
      "text/plain": [
       "1460"
      ]
     },
     "execution_count": 7,
     "metadata": {},
     "output_type": "execute_result"
    }
   ],
   "source": [
    "len(sotu)"
   ]
  },
  {
   "cell_type": "code",
   "execution_count": 8,
   "id": "2bd48335-0c8c-4f86-ae1b-d1832ff6a52b",
   "metadata": {},
   "outputs": [],
   "source": [
    "documents = [Document(text=line) for line in sotu]"
   ]
  },
  {
   "cell_type": "code",
   "execution_count": 9,
   "id": "5fb9bf47-2a72-41a7-af8e-ae663bf95e47",
   "metadata": {},
   "outputs": [
    {
     "data": {
      "text/plain": [
       "Document(id_='b4ec9e2c-bfa8-4c0d-b33d-412aac768235', embedding=None, metadata={}, excluded_embed_metadata_keys=[], excluded_llm_metadata_keys=[], relationships={}, text='May God protect our troops.', mimetype='text/plain', start_char_idx=None, end_char_idx=None, text_template='{metadata_str}\\n\\n{content}', metadata_template='{key}: {value}', metadata_seperator='\\n')"
      ]
     },
     "execution_count": 9,
     "metadata": {},
     "output_type": "execute_result"
    }
   ],
   "source": [
    "documents[-1]"
   ]
  },
  {
   "cell_type": "code",
   "execution_count": 10,
   "id": "53ed3997-3a20-4a99-a9c1-7cc6d6a217e6",
   "metadata": {},
   "outputs": [
    {
     "name": "stdout",
     "output_type": "stream",
     "text": [
      "True\n"
     ]
    }
   ],
   "source": [
    "# following these tutorials\n",
    "# https://learnbybuilding.ai/tutorials/rag-chatbot-on-podcast-llamaindex-faiss-openai\n",
    "# https://medium.com/@saurabhgssingh/understanding-rag-building-a-rag-system-from-scratch-with-gemini-api-b11ad9fc1bf7\n",
    "\n",
    "d = 768 # dimensions of ___, the embedding model that we're going to use\n",
    "faiss_index = faiss.IndexFlatL2(d)\n",
    "print(faiss_index.is_trained)"
   ]
  },
  {
   "cell_type": "code",
   "execution_count": 11,
   "id": "490599ac-6499-4174-999d-4ddc0609fd6e",
   "metadata": {},
   "outputs": [],
   "source": [
    "doc_embeddings = GoogleGenerativeAIEmbeddings(model=\"models/text-embedding-004\") # optional: task_type=\"RETRIEVAL_DOCUMENT\"\n",
    "Settings.embed_model = doc_embeddings\n",
    "#vector = embeddings.embed_query(\"hello, world!\")\n",
    "#vector[:5]"
   ]
  },
  {
   "cell_type": "code",
   "execution_count": 12,
   "id": "c24d9337-5832-47d6-90df-6e73b3de8a9e",
   "metadata": {},
   "outputs": [],
   "source": [
    "logging.basicConfig(stream=sys.stdout, level=logging.INFO)\n",
    "logging.getLogger().addHandler(logging.StreamHandler(stream=sys.stdout))"
   ]
  },
  {
   "cell_type": "code",
   "execution_count": 13,
   "id": "f7340422-e457-4697-aea8-23f6d24c67a8",
   "metadata": {},
   "outputs": [],
   "source": [
    "#from llama_index import ServiceContext, set_global_service_context\n",
    "#service_context = ServiceContext.from_defaults(llm=llm, embed_model=embededdings)\n",
    "#set_global_service_context(service_context)\n",
    "\n",
    "Settings.llm = llm"
   ]
  },
  {
   "cell_type": "code",
   "execution_count": 52,
   "id": "d3171f73-723f-40f5-91d3-14e0f26173e0",
   "metadata": {},
   "outputs": [
    {
     "data": {
      "application/vnd.jupyter.widget-view+json": {
       "model_id": "d9ef6448e2c148c39de004c0a33bb54a",
       "version_major": 2,
       "version_minor": 0
      },
      "text/plain": [
       "Parsing nodes:   0%|          | 0/1460 [00:00<?, ?it/s]"
      ]
     },
     "metadata": {},
     "output_type": "display_data"
    },
    {
     "data": {
      "application/vnd.jupyter.widget-view+json": {
       "model_id": "d61b63a770974064bea48c6c83ba5f6f",
       "version_major": 2,
       "version_minor": 0
      },
      "text/plain": [
       "Generating embeddings:   0%|          | 0/1460 [00:00<?, ?it/s]"
      ]
     },
     "metadata": {},
     "output_type": "display_data"
    },
    {
     "data": {
      "text/plain": [
       "<llama_index.core.indices.vector_store.base.VectorStoreIndex at 0x7f30f43e5750>"
      ]
     },
     "execution_count": 52,
     "metadata": {},
     "output_type": "execute_result"
    }
   ],
   "source": [
    "## uncomment for when you need to re-embed and vectorize documents\n",
    "## otherwise, doing local loading below\n",
    "#vector_store = FaissVectorStore(faiss_index=faiss_index)\n",
    "#storage_context = StorageContext.from_defaults(vector_store=vector_store)\n",
    "#index = VectorStoreIndex.from_documents(\n",
    "#    documents, storage_context=storage_context, show_progress=True\n",
    "#)\n",
    "## save index to disk\n",
    "#index.storage_context.persist()\n",
    "#index"
   ]
  },
  {
   "cell_type": "code",
   "execution_count": 14,
   "id": "60c8a330-0b12-434d-bc1c-4d8a7a1e32ae",
   "metadata": {},
   "outputs": [
    {
     "name": "stdout",
     "output_type": "stream",
     "text": [
      "INFO:root:Loading llama_index.vector_stores.faiss.base from ./storage/default__vector_store.json.\n",
      "Loading llama_index.vector_stores.faiss.base from ./storage/default__vector_store.json.\n",
      "INFO:llama_index.core.indices.loading:Loading all indices.\n",
      "Loading all indices.\n"
     ]
    }
   ],
   "source": [
    "# load index from disk\n",
    "vector_store = FaissVectorStore.from_persist_dir(\"./storage\")\n",
    "storage_context = StorageContext.from_defaults(\n",
    "    vector_store=vector_store, persist_dir=\"./storage\"\n",
    ")\n",
    "index = load_index_from_storage(storage_context=storage_context)"
   ]
  },
  {
   "cell_type": "code",
   "execution_count": 15,
   "id": "bcff60d7-d40f-4346-af9f-cfd9ab812e21",
   "metadata": {},
   "outputs": [
    {
     "data": {
      "text/plain": [
       "<llama_index.core.indices.vector_store.base.VectorStoreIndex at 0x7f94e47dfe10>"
      ]
     },
     "execution_count": 15,
     "metadata": {},
     "output_type": "execute_result"
    }
   ],
   "source": [
    "index"
   ]
  },
  {
   "cell_type": "code",
   "execution_count": 16,
   "id": "8ba1e938-d2bc-4ef3-a9d2-f2bc01a41e98",
   "metadata": {},
   "outputs": [],
   "source": [
    "query_engine = index.as_query_engine(similarity_top_k=10)"
   ]
  },
  {
   "cell_type": "code",
   "execution_count": 17,
   "id": "2026088c-515b-4933-9ec9-d3a616870533",
   "metadata": {},
   "outputs": [
    {
     "name": "stderr",
     "output_type": "stream",
     "text": [
      "/home/amber/anaconda3/envs/research2/lib/python3.11/site-packages/langchain_core/_api/deprecation.py:139: LangChainDeprecationWarning: The method `BaseChatModel.predict_messages` was deprecated in langchain-core 0.1.7 and will be removed in 0.3.0. Use invoke instead.\n",
      "  warn_deprecated(\n"
     ]
    }
   ],
   "source": [
    "# 8/13: loading index doesn't work... returns 160. Hmm, maybe because of multi-loading?\n",
    "query = \"What has the President done related to healthcare?\"\n",
    "response = query_engine.query(query)"
   ]
  },
  {
   "cell_type": "code",
   "execution_count": 18,
   "id": "a13c4949-af9b-43da-9954-bebdd2cdbdaa",
   "metadata": {},
   "outputs": [
    {
     "data": {
      "text/plain": [
       "'The President has made significant efforts to improve healthcare access and affordability for Americans. They have expanded access to healthcare through the Affordable Care Act, lowered healthcare premiums for working families, and taken steps to reduce prescription drug costs. They have also re-ignited the Cancer Moonshot initiative, aimed at finding a cure for cancer. \\n'"
      ]
     },
     "execution_count": 18,
     "metadata": {},
     "output_type": "execute_result"
    }
   ],
   "source": [
    "response.response"
   ]
  },
  {
   "cell_type": "code",
   "execution_count": 19,
   "id": "1e0178b0-ee47-4443-b8fa-c5cb3b4de228",
   "metadata": {},
   "outputs": [
    {
     "name": "stdout",
     "output_type": "stream",
     "text": [
      "0.7506474256515503 -> I’m pleased to say that more Americans have health insurance now than ever in history.\n",
      "0.7599508166313171 -> During these 100 days, an additional 800,000 Americans enrolled in the Affordable Care Act when I established the special sign-up period to do that — 800,000 in that period.\n",
      "0.7667317390441895 -> The Affordable Care Act has been a lifeline for millions of Americans, protecting people with preexisting conditions, protecting women’s health.  And the pandemic has demonstrated how badly — how badly it’s needed.  Let’s lower deductibles for working families on the Affordable Care — in the Affordable Care Act.  (Applause.)  And let’s lower prescription drug costs.  (Applause.)\n",
      "0.796398401260376 -> A president, my predecessor, who failed the most basic duty. Any President owes the American people the duty to care.\n",
      "0.801885724067688 -> Over one hundred million of you can no longer be denied health insurance because of pre-existing conditions.\n",
      "0.8065693378448486 -> I enacted tax credits that save $800 per person per year reducing health care premiums for millions of working families.\n",
      "0.8096300363540649 -> A record 16 million people are enrolled under the Affordable Care Act.\n",
      "0.8154944181442261 -> And fourth, last year Jill and I re-ignited the Cancer Moonshot that President Obama asked me to lead in our Administration.\n",
      "0.8243342638015747 -> We’ve talked about it long enough.  Democrats and Republicans, let’s get it done this year.  This is all about a simple premise: Healthcare should be a right, not a privilege in America.  (Applause.)\n",
      "0.8246870636940002 -> I get it. With the Inflation Reduction Act that I signed into law, we’re taking on powerful interests to bring your health care costs down so you can sleep better at night.\n"
     ]
    }
   ],
   "source": [
    "for node in response.source_nodes:\n",
    "    print(f\"{node.get_score()} -> {node.text}\")"
   ]
  },
  {
   "cell_type": "code",
   "execution_count": 20,
   "id": "35114936-2d0c-4b06-99d7-16b4699d9388",
   "metadata": {},
   "outputs": [],
   "source": [
    "#result = genai.embed_content(\n",
    "#    model=\"models/text-embedding-004\",\n",
    "#    content=\"What is the meaning of life?\",\n",
    "#    task_type=\"retrieval_document\",\n",
    "#    title=\"Embedding of single string\")"
   ]
  },
  {
   "cell_type": "code",
   "execution_count": 20,
   "id": "972fd7ce-ab58-42b9-962a-e604172eb74c",
   "metadata": {},
   "outputs": [],
   "source": [
    "chat_engine = index.as_chat_engine(similarity_top_k=10, chat_mode='context')"
   ]
  },
  {
   "cell_type": "code",
   "execution_count": 21,
   "id": "116cf23e-1423-477a-9bd3-ea0272ee5083",
   "metadata": {},
   "outputs": [],
   "source": [
    "query = \"What does the President say about Congress during these 4 years?\"\n",
    "response = chat_engine.chat(query)"
   ]
  },
  {
   "cell_type": "code",
   "execution_count": 22,
   "id": "7f4124a0-55f3-48dd-bdaa-07bcb3717e96",
   "metadata": {},
   "outputs": [
    {
     "data": {
      "text/plain": [
       "'The provided text doesn\\'t offer any specific insights into the President\\'s views on Congress over a 4-year period. \\n\\nHere\\'s what we can glean from the excerpt:\\n\\n* **He acknowledges the potential for bipartisan cooperation:**  He states, \"To my Republican friends, if we could work together in the last Congress, there is no reason we can’t work together in this new Congress.\" This suggests he believes collaboration is possible.\\n* **He\\'s optimistic about the future:**  He declares \"the State of the Union is strong\" and attributes this to the strength of the American people. This implies a positive outlook on the nation\\'s future, which could be influenced by Congress\\'s actions.\\n\\nHowever, the excerpt doesn\\'t provide any specific criticisms or praise of Congress\\'s actions during the past four years. To understand the President\\'s full perspective, you\\'d need to analyze more of his speeches, interviews, and official statements. \\n'"
      ]
     },
     "execution_count": 22,
     "metadata": {},
     "output_type": "execute_result"
    }
   ],
   "source": [
    "response.response"
   ]
  },
  {
   "cell_type": "code",
   "execution_count": 23,
   "id": "2661c93d-c075-41ee-a5e8-ef5ae67e0265",
   "metadata": {},
   "outputs": [
    {
     "name": "stdout",
     "output_type": "stream",
     "text": [
      "The provided text doesn't offer any specific insights into the President's views on Congress over a 4-year period. \n",
      "\n",
      "Here's what we can glean from the excerpt:\n",
      "\n",
      "* **He acknowledges the potential for bipartisan cooperation:**  He states, \"To my Republican friends, if we could work together in the last Congress, there is no reason we can’t work together in this new Congress.\" This suggests he believes collaboration is possible.\n",
      "* **He's optimistic about the future:**  He declares \"the State of the Union is strong\" and attributes this to the strength of the American people. This implies a positive outlook on the nation's future, which could be influenced by Congress's actions.\n",
      "\n",
      "However, the excerpt doesn't provide any specific criticisms or praise of Congress's actions during the past four years. To understand the President's full perspective, you'd need to analyze more of his speeches, interviews, and official statements. \n",
      "\n"
     ]
    }
   ],
   "source": [
    "print(response.response)"
   ]
  },
  {
   "cell_type": "code",
   "execution_count": 25,
   "id": "aa970253-2559-4803-b390-c1f81fdc97d5",
   "metadata": {},
   "outputs": [
    {
     "name": "stdout",
     "output_type": "stream",
     "text": [
      "0.7652876377105713 -> Mr. Speaker. Madam Vice President. Members of Congress. My Fellow Americans.\n",
      "0.7749111652374268 -> Tonight I come to the same chamber to address the nation.\n",
      "0.8328826427459717 -> A president, my predecessor, who failed the most basic duty. Any President owes the American people the duty to care.\n",
      "0.8343376517295837 -> And I will always be a president for all Americans!\n",
      "0.842502236366272 -> My Republican friends you owe it to the American people to get this bill done.\n",
      "0.8441706895828247 -> And if my predecessor is watching instead of playing politics and pressuring members of Congress to block this bill, join me in telling Congress to pass it!\n",
      "0.8499408960342407 -> And yes, my purpose tonight is to both wake up this Congress, and alert the American people that this is no ordinary moment either.\n",
      "0.852456271648407 -> Meanwhile, my predecessor told the NRA he’s proud he did nothing on guns when he was President.\n",
      "0.8647689819335938 -> I signed a bipartisan budget deal that will cut another trillion dollars over the next decade.\n",
      "0.8650350570678711 -> I say this to Congress: we must stand up to Putin. Send me the Bipartisan National Security Bill.\n"
     ]
    }
   ],
   "source": [
    "for node in response.source_nodes:\n",
    "    print(f\"{node.get_score()} -> {node.text}\")"
   ]
  },
  {
   "cell_type": "code",
   "execution_count": 24,
   "id": "97057f9c-ffbb-493c-9ee6-819fb1fdf2e8",
   "metadata": {},
   "outputs": [
    {
     "data": {
      "text/plain": [
       "[ChatMessage(role=<MessageRole.USER: 'user'>, content='What does the President say about Congress during these 4 years?', additional_kwargs={}),\n",
       " ChatMessage(role=<MessageRole.ASSISTANT: 'assistant'>, content='The provided text doesn\\'t offer any specific insights into the President\\'s views on Congress over a 4-year period. \\n\\nHere\\'s what we can glean from the excerpt:\\n\\n* **He acknowledges the potential for bipartisan cooperation:**  He states, \"To my Republican friends, if we could work together in the last Congress, there is no reason we can’t work together in this new Congress.\" This suggests he believes collaboration is possible.\\n* **He\\'s optimistic about the future:**  He declares \"the State of the Union is strong\" and attributes this to the strength of the American people. This implies a positive outlook on the nation\\'s future, which could be influenced by Congress\\'s actions.\\n\\nHowever, the excerpt doesn\\'t provide any specific criticisms or praise of Congress\\'s actions during the past four years. To understand the President\\'s full perspective, you\\'d need to analyze more of his speeches, interviews, and official statements. \\n', additional_kwargs={})]"
      ]
     },
     "execution_count": 24,
     "metadata": {},
     "output_type": "execute_result"
    }
   ],
   "source": [
    "chat_engine.chat_history"
   ]
  },
  {
   "cell_type": "code",
   "execution_count": 25,
   "id": "6ada277f-4bfc-4f13-9691-a448d5858b99",
   "metadata": {},
   "outputs": [],
   "source": [
    "query2 = \"The provided text are 4 years of speeches by the President. What does the President say about Congress during those 4 years?\"\n",
    "response2 = chat_engine.chat(query2)"
   ]
  },
  {
   "cell_type": "code",
   "execution_count": 26,
   "id": "ec53f6d0-92e8-464d-bd2d-038b72f9a9f3",
   "metadata": {},
   "outputs": [
    {
     "name": "stdout",
     "output_type": "stream",
     "text": [
      "You're right! I apologize for my previous response.  I was focusing too narrowly on the excerpt provided, not the entirety of the 4 years' worth of speeches. \n",
      "\n",
      "To accurately assess the President's views on Congress over four years, we would need to analyze a significant amount of text. Here's a framework for what we could look for:\n",
      "\n",
      "* **Tone and Language:**  Does the President use positive or negative language when referring to Congress? Are there specific terms like \"bipartisan,\" \"gridlock,\" or \"divided\" that recur?\n",
      "* **Specific Actions:** Does he praise or criticize specific actions taken by Congress, such as passing legislation, confirming appointments, or conducting investigations?\n",
      "* **Calls to Action:**  Does he call on Congress to take specific actions or address particular issues?  \n",
      "* **Legislative Successes:**  Does he highlight any legislation passed in collaboration with Congress? \n",
      "* **Themes and Priorities:**  Do his speeches reveal any overarching themes about how he views Congress's role in governing? \n",
      "\n",
      "Without the full text of the speeches, it's impossible to give a definitive answer. However, by focusing on these aspects, we could potentially gain a clearer understanding of the President's evolving perspective on Congress throughout his term. \n",
      "\n"
     ]
    }
   ],
   "source": [
    "print(response2.response)"
   ]
  },
  {
   "cell_type": "code",
   "execution_count": 27,
   "id": "6aebe89c-5a78-450c-9c9b-2f96187d7791",
   "metadata": {},
   "outputs": [
    {
     "name": "stdout",
     "output_type": "stream",
     "text": [
      "0.6518715620040894 -> Throughout our history, Presidents have come to this chamber to speak to Congress, to the nation, and to the world to declare war, to celebrate peace, to announce new plans and possibilities.\n",
      "0.7356963157653809 -> Mr. Speaker. Madam Vice President. Members of Congress. My Fellow Americans.\n",
      "0.748851478099823 -> So on this night, in our 245th year as a nation, I have come to report on the State of the Union.\n",
      "0.7538517713546753 -> Madam Speaker, Madam Vice President, our First Lady and Second Gentleman. Members of Congress and the Cabinet. Justices of the Supreme Court. My fellow Americans.\n",
      "0.7632147073745728 -> Because the soul of this nation is strong, because the backbone of this nation is strong, because the people of this nation are strong, the State of the Union is strong.\n",
      "0.7771207690238953 -> So I have come here to fulfil my constitutional duty to report on the state of the union. And here is my report.\n",
      "0.7832998037338257 -> And my report is this: the State of the Union is strong—because you, the American people, are strong.\n",
      "0.7869049310684204 -> Madam Speaker, Madam Vice President — (applause) — no President has ever said those words from this podium.  No President has ever said those words, and it’s about time.  (Applause.)\n",
      "0.7885034084320068 -> As I stand here tonight before you, in a new and vital hour of life and democracy of our nation, and I can say with absolute confidence: I have never been more confident or optimistic about America — not because I’m President, because what’s happening with the American people.\n",
      "0.7890262603759766 -> Tonight I come to the same chamber to address the nation.\n"
     ]
    }
   ],
   "source": [
    "for node in response2.source_nodes:\n",
    "    print(f\"{node.get_score()} -> {node.text}\")"
   ]
  },
  {
   "cell_type": "code",
   "execution_count": null,
   "id": "bf198ee7-45f6-4573-8bcb-60b25e2b7af2",
   "metadata": {},
   "outputs": [],
   "source": []
  },
  {
   "cell_type": "code",
   "execution_count": 29,
   "id": "b1f8b91f-afc2-4916-a65b-4a4bcb088d7c",
   "metadata": {},
   "outputs": [],
   "source": [
    "# Start of RAGAS implementation"
   ]
  },
  {
   "cell_type": "code",
   "execution_count": 30,
   "id": "af3f8028-582d-49b5-9939-45eb0d810501",
   "metadata": {},
   "outputs": [],
   "source": [
    "# Generate synthetic test data"
   ]
  },
  {
   "cell_type": "code",
   "execution_count": 16,
   "id": "8d029335-7fd3-4b37-8cd2-892da20b5553",
   "metadata": {},
   "outputs": [],
   "source": [
    "from langchain_community.document_loaders import DirectoryLoader"
   ]
  },
  {
   "cell_type": "code",
   "execution_count": 17,
   "id": "2002e239-4a5d-491d-b02b-611ae0f6afcb",
   "metadata": {},
   "outputs": [],
   "source": [
    "loader = DirectoryLoader(\"./Speeches\")\n",
    "documents = loader.load()"
   ]
  },
  {
   "cell_type": "code",
   "execution_count": 18,
   "id": "75f71778-7d81-4510-972d-c63496ade675",
   "metadata": {},
   "outputs": [
    {
     "data": {
      "text/plain": [
       "Document(metadata={'source': 'Speeches/state_of_the_union_042921.txt'}, page_content='THE PRESIDENT:  Thank you. (Applause.) Thank you. Thank you. Good to be back. And Mitch and Chuck will understand it’s good to be almost home, down the hall. Anyway, thank you all.\\n\\nMadam Speaker, Madam Vice President — (applause) — no President has ever said those words from this podium. No President has ever said those words, and it’s about time. (Applause.)\\n\\nFirst Lady — (applause) — I’m her husband; Second Gentleman; Chief Justice; members of the United States Congress and the Cabinet; distinguished guests; my fellow Americans: While the setting tonight is familiar, this gathering is just a little bit different — a reminder of the extraordinary times we’re in.\\n\\nThroughout our history, Presidents have come to this chamber to speak to Congress, to the nation, and to the world to declare war, to celebrate peace, to announce new plans and possibilities.\\n\\nTonight, I come to talk about crisis and opportunity, about rebuilding the nation, revitalizing our democracy, and winning the future for America.\\n\\nI stand here tonight, one day shy of the 100th day of my administration — 100 days since I took the oath of office and lifted my hand off our family Bible and inherited a nation — we all did — that was in crisis.\\n\\nThe worst pandemic in a century. The worst economic crisis since the Great Depression. The worst attack on our democracy since the Civil War.\\n\\nNow, after just 100 days, I can report to the nation: America is on the move again — (applause) — turning peril into possibility, crisis to opportunity, setbacks into strength.\\n\\nWe all know life can knock us down. But in America, we never, ever, ever stay down. Americans always get up. Today, that’s what we’re doing: America is rising anew, choosing hope over fear, truth over lies, and light over darkness.\\n\\nAfter 100 days of rescue and renewal, America is ready for takeoff, in my view. We’re working again, dreaming again, discovering again, and leading the world again.\\n\\nWe have shown each other and the world that there’s no quit in America — none.\\n\\nOne hundred days ago, America’s house was on fire. We had to act. And thanks to the extraordinary leadership of Speaker Pelosi; Malor- — Majority Leader Schumer; and the overwhelming support of the American people — Democrats, independents, and Republicans — we did act.\\n\\nTogether we passed the American Rescue Plan — one of the most consequential rescue packages in American history. We’re already seeing the results. (Applause.) We’re already seeing the results.\\n\\nAfter I promised we’d get 100 million COVID-19 vaccine shots into people’s arms in 100 days, we will have provided over 220 million COVID shots in those 100 days. (Applause.)\\n\\nThanks to all the help of all of you, we’re marshalling — with your help, everyone’s help — we’re marshalling every federal resource. We’ve gotten vaccines to nearly 40,000 pharmacies and over 700 Community Health Centers where the poorest of the poor can be reached. We’re setting up community vaccination sites, developing mobile units to get to hard-to-reach communities.\\n\\nToday, 90 percent of Americans now live within five miles of a vaccination site. Everyone over the age of 16 — everyone is now eligible to get vaccinated right now, right away. (Applause.) Go get vaccinated, America. Go and get the vaccination. They’re available. You’re eligible now.\\n\\nWhen I was sworn in on January 20th, less than 1 percent of the seniors in America were fully vaccinated against COVID-19. One hundred days later, 70 percent of seniors in America over 65 are protected — fully protected.\\n\\nSenior deaths from COVID-19 are down 80 percent since January — down 80 percent because of all of you. And more than half of all the adults in America have gotten at least one shot.\\n\\nAt a mass vaccination center in Glendale, Arizona, I asked a nurse — I said, “What’s it like?”  She looked at me and she said, “It’s like every shot is giving a dose of hope” — was the phrase. “A dose of hope.”\\n\\nA dose of hope for an educator in Florida who has a child suffering from an autoimmune disease — wrote to me, said she’s worried — that she was worrying about bringing the virus home. She said she then got vaccinated at a — at a large site, in her car. She said she sat in her car, when she got vaccinated, and just cried — cried out of joy and cried out of relief.\\n\\nParents see the smiles on their kids’ faces, for those who are able to go back to school because the teachers and school bus drivers and cafeteria workers have been vaccinated.\\n\\nGrandparents hugging their children and grandchildren instead of pressing hands against a window to say goodbye.\\n\\nIt means everything. Those things mean everything.\\n\\nYou know, there’s still — you all know it; you know it better than any group of Americans — there’s still more work to do to beat this virus. We can’t let our guard down.\\n\\nBut tonight I can say it: Because of you, the American people, our progress these past 100 days against one of the worst pandemics in history has been one of the greatest logistical achievements — logistical achievements this country has ever seen.\\n\\nWhat else have we done in those first 100 days?\\n\\nWe kept our commitment — Democrats and Republicans — of sending $1,400 rescue checks to 85 percent of American households. We’ve already sent more than one — 160 million checks out the door. It’s making the difference. You all know it when you go home. For many people, it’s making all the difference in the world.\\n\\nA single mom in Texas who wrote to me, she said she couldn’t work, but she said the relief check put food on the table and saved her and her son from eviction from their apartment.\\n\\nA grandmother in Virginia who told me she immediately took her granddaughter to the eye doctor — something she said she put off for months because she didn’t have the money.\\n\\nOne of the defining images, at least from my perspective, of this crisis has been cars lined up — cars lined up for miles. And not — not people who just barely ever start those cars — nice cars lined up for miles, waiting for a box of food to be put in their trunk.\\n\\nI don’t know about you, but I didn’t ever think I’d see that in America. And all of this is through no fault of their own. No fault of their own these people are in this position.\\n\\nThat’s why the Rescue Plan is delivering food and nutrition assistance to millions of Americans facing hunger, and hunger is down sharply already.\\n\\nWe’re also providing rental assistance — you all know this, but the American people, I want to make sure they understand — keeping people from being evicted from their homes, providing loans to small businesses to reopen and keep their employees on the job.\\n\\nDuring these 100 days, an additional 800,000 Americans enrolled in the Affordable Care Act when I established the special sign-up period to do that — 800,000 in that period.\\n\\nWe’re making one of the largest one-time ever investments — ever — in improving healthcare for veterans. Critical investments to address the opioid crisis. And, maybe most importantly, thanks to the American Rescue Plan, we’re on track to cut child poverty in America in half this year. (Applause.)\\n\\nAnd in the process, while this was all going on, the economy created more than 1,300,000 new jobs in 100 days — more jobs in the first — (applause) — more jobs in the first 100 days than any President on record.\\n\\nThe International Monetary Fund — (applause) — the International Monetary Fund is now estimating our economy will grow at a rate of more than 6 percent this year. That will be the fastest pace of economic growth in this country in nearly four decades.\\n\\nAmerica is moving — moving forward — but we can’t stop now. We’re in competition with China and other countries to win the 21st Century. We’re at a great inflection point in history.\\n\\nWe have to do more than just build back better — I mean “build back.”  We have to build back better. We have to compete more strenuously than we have.\\n\\nThroughout our history, if you think about it, public investment and infrastructure has literally transformed America — our attitudes, as well as our opportunities.\\n\\nThe transcontinental railroad, the interstate highways united two oceans and brought a totally new age of progress to the United States of America.\\n\\nUniversal public schools and college aid opened wide the doors of opportunity.\\n\\nScientific breakthroughs took us to the Moon — now we’re on Mars; discovering vaccines; gave us the Internet and so much more.\\n\\nThese are the investments we made together as one country, and investments that only the government was in a position to make. Time and again, they propel us into the future.\\n\\nThat’s why I proposed the American Jobs Plan — a once-in-a-generation investment in America itself. This is the largest jobs plan since World War Two.\\n\\nIt creates jobs to upgrade our transportation infrastructure; jobs modernizing our roads, bridges, highways; jobs building ports and airports, rail corridors, transit lines.\\n\\nIt’s clean water. And, today, up to 10 million homes in America and more than 400,000 schools and childcare centers have pipes with lead in them, including in drinking water — a clear and present danger to our children’s health.\\n\\nThe American Jobs Plan creates jobs replacing 100 percent of the nation’s lead pipes and service lines so every American can drink clean water. (Applause.)\\n\\nAnd in the process, it will create thousands and thousands of good-paying jobs. It creates jobs connecting every American with high-speed Internet, including 35 percent of the rural America that still doesn’t have it.\\n\\nThis is going to help our kids and our businesses succeed in the 21st-century economy.\\n\\nAnd I am asking the Vice President to lead this effort, if she would —\\n\\nTHE VICE PRESIDENT:  Of course.\\n\\nTHE PRESIDENT:  — because I know it will get done. (Applause.)\\n\\nIt creates jobs, building a modern power grid. Our grids are vulnerable to storms, hacks, catastrophic failures — with tragic results, as we saw in Texas and elsewhere during the winter storms.\\n\\nThe American Jobs Plan will create jobs that will lay thousands of miles of transmission lines needed to build a resilient and fully clean grid. We can do that. (Applause.)\\n\\nLook, the American Jobs Plan will help millions of people get back to their jobs and back to their careers.\\n\\nTwo million women have dropped out of the workforce during this pandemic — two million. And too often because they couldn’t get the care they needed to care for their child or care for an elderly parent who needs help.\\n\\nEight hundred thousand families are on a Medicare waiting list right now to get homecare for their aging parent or loved one with a disability. If you think it’s not important, check out in your own district.\\n\\nDemocrat or Republican — Democrat or Republican voters, their great concern — almost as much as their children — is taking care of an elderly loved one who can’t be left alone. Medicaid contemplated it, but this plan is going to help those families and create jobs for our caregivers with better wages and better benefits, continuing a cycle of growth.\\n\\nFor too long, we’ve failed to use the most important word when it comes to meeting the climate crisis: “jobs.”  Jobs. Jobs. (Applause.)\\n\\nFor me, when I think “climate change,” I think “jobs.”\\n\\nThe American Jobs Plan will put engineers and construction workers to work building more energy-efficient buildings and homes. Electrical workers — IBEW members — installing 500,000 charging stations along our highways so we can own — (applause) — so we can own the electric car market. (Applause.)\\n\\nFarmers — farmers planting cover crops so they can reduce the carbon dioxide in the air and get paid for doing it. (Applause.)\\n\\nLook, but think about it: There is simply no reason why the blades for wind turbines can’t be built in Pittsburgh instead of Beijing. No reason. None. No reason. (Applause.)\\n\\nSo, folks, there’s no reason why American — American workers can’t lead the world in the production of electric vehicles and batteries. I mean, there is no reason. We have this capacity. (Applause.) We have the brightest, best-trained people in the world.\\n\\nThe American Jobs Plan is going to create millions of good-paying jobs — jobs Americans can raise a family on — as my dad would then say, “with a little breathing room.”\\n\\nAnd all the investments in the American Jobs Plan will be guided by one principle: Buy American. (Applause.) Buy American.\\n\\nAnd I might note, parenthetically — (applause) — that does not — that does not violate any trade agreement. It’s been the law since the ’30s: Buy American.\\n\\nAmerican tax dollars are going to be used to buy American products made in America to create American jobs. That’s the way it’s supposed to be and it will be in this administration. (Applause.)\\n\\nAnd I made it clear to all my Cabinet people. Their ability to give exemptions has been exstrenuously [sic] limited. It will be American products.\\n\\nNow I know some of you at home are wondering whether these jobs are for you. So many of you — so many of the folks I grew up with feel left behind, forgotten in an economy that’s so rapidly changing. It’s frightening.\\n\\nI want to speak directly to you. Because if you think about it, that’s what people are most worried about: “Can I fit in?”\\n\\nIndependent experts estimate the American Jobs Plan will add millions of jobs and trillions of dollars to economic growth in the years to come. It is a — it is an eight-year program. These are good-paying jobs that can’t be outsourced.\\n\\nNearly 90 percent of the infrastructure jobs created in the American Jobs Plan do not require a college degree; 75 percent don’t require an associate’s degree.\\n\\nThe American Jobs Plan is a blue-collar blueprint to build America. That’s what it is. (Applause.)\\n\\nAnd it recognizes something I’ve always said in this chamber and the other. Good guys and women on Wall Street, but Wall Street didn’t build this country. The middle class built the country, and unions built the middle class. (Applause.)\\n\\nSo that’s why I’m calling on Congress to pass the Protect the Right to Organize Act — the PRO Act — and send it to my desk so we can support the right to unionize. (Applause.)\\n\\nAnd, by the way, while you’re thinking about sending things to my desk — (laughs) — let’s raise the minimum wage to $15. (Applause.)\\n\\nNo one — no one working 40 hours a week — no one working 40 hours a week should live below the poverty line.\\n\\nWe need to ensure greater equity and opportunity for women. And while we’re doing this, let’s get the Paycheck Fairness Act to my desk as well — equal pay. It’s been much too long. And if you’re wondering whether it’s too long, look behind me. (Applause.)\\n\\nAnd finally, the American Jobs Plan will be the biggest increase in nondefense research and development on record. We will see more technological change — and some of you know more about this than I do — we’ll see more technological change in the next 10 years than we saw in the last 50. That’s how rapidly artificial intelligence and so much more is changing.\\n\\nAnd we’re falling behind the competition with the rest of the world.\\n\\nDecades ago, we used to invest 2 percent of our gross domestic product in America — 2 percent of our gross domestic product — in research and development.\\n\\nToday, Mr. Secretary, that’s less than 1 percent. China and other countries are closing in fast. We have to develop and dominate the products and technologies of the future: advanced batteries, biotechnology, computer chips, clean energy.\\n\\nThe Secretary of Defense can tell you — and those of you on — who work on national security issues know — the Defense Department has an agency called DARPA — the Defense Advanced Research Project Agency. The people who set up before I came here — and that’s been a long time ago — to develop breakthroughs that enhance our national security -– that’s their only job. And it’s a semi-separate agency; it’s under the Defense Department. It’s led to everything from the discovery of the Internet to GPS and so much more that has enhanced our security.\\n\\nThe National Institute of Health — the NIH –- I believe, should create a similar Advanced Research Projects Agency for Health. (Applause.)\\n\\nAnd that would — here’s what it would do. It would have a singular purpose: to develop breakthroughs to prevent, detect, and treat diseases like Alzheimer’s, diabetes, and cancer.\\n\\nI’ll still never forget when we passed the cancer proposal the last year I was Vice President — almost $9 million going to NIH. And if you excuse the point of personal privilege, I’ll never forget you standing and mentioning — saying you’d name it after my deceased son. It meant a lot.\\n\\nBut so many of us have deceased sons, daughters, and relatives who died of cancer. I can think of no more worthy investment. I know of nothing that is more bipartisan. So, let’s end cancer as we know it. (Applause.) It’s within our power. (Applause.) It’s within our power to do it. (Applause.)\\n\\nInvestments in jobs and infrastructure, like the ones we’re talking about, have often had bipartisan support in the past. Vice President Harris and I met regularly in the Oval Office with Democrats and Republicans to discuss the Jobs Plan. And I applaud a group of Republican senators who just put forward their own proposal.\\n\\nSo, let’s get to work. I wanted to lay out, before the Congress, my plan before we got into the deep discussions. I’d like to meet with those who have ideas that are different — they think are better. I welcome those ideas.\\n\\nBut the rest of the world is not waiting for us. I just want to be clear: From my perspective, doing nothing is not an option. (Applause.)\\n\\nLook, we can’t be so busy competing with one another that we forget the competition that we have with the rest of the world to win the 21st century.\\n\\nSecretary Blinken can tell you, I spent a lot of time with President Xi — traveled over 17,000 miles with him; spent, they tell me, over 24 hours in private discussions with him. When he called to congratulate me, we had a two-hour discussion. He’s deadly earnest about becoming the most significant, consequential nation in the world. He and others — autocrats — think that democracy can’t compete in the 21st century with autocracies because it takes too long to get consensus.\\n\\nTo win that competition for the future, in my view, we also need to make a once-in-a-generation investment in our families and our children. That’s why I’ve introduced the American Families Plan tonight, which addresses four of the biggest challenges facing American families and, in turn, America.\\n\\nFirst is access to a good education. When this nation made 12 years of public education universal in the last century, it made us the best-educated, best-prepared nation in the world. It’s, I believe, the overwhelming reason that propelled us to where we got in the 21st — in the 20th century.\\n\\nBut the world has caught up, or catching up. They are not waiting. I would say, parenthetically: If we were sitting down, put a bipartisan committee together and said, “Okay, we’re going to decide what we do in terms of government providing for free education,” I wonder whether we’d think, as we did in the 20th century, that 12 years is enough in the 21st century. I doubt it. Twelve years is no longer enough today to compete with the rest of the world in the 21st Century.\\n\\nThat’s why my American Families Plan guarantees four additional years of public education for every person in America, starting as early as we can.\\n\\nThe great universities of this country have conducted studies over the last 10 years. It shows that adding two years of universal high-quality preschool for every three-year-old and four-year-old, no matter what background they come from, it puts them in the position to be able to compete all the way through 12 years. It increases exponentially their prospect of graduating and going on beyond graduation.\\n\\nThe research shows when a young child goes to school — not daycare — they are far more likely to graduate from high school and go to college or something after high school.\\n\\nWhen you add two years of free community college on top of that, you begin to change the dynamic. (Applause.) We can do that. (Applause.)\\n\\nAnd we’ll increase Pell Grants and invest in Historical Black Colleges and Universities, Tribal Colleges, Minority-Serving Institutions. The reason is: They don’t have the endowments, but their students are just as capable of learning about cybersecurity, just as capable of learning about metallurgy — all the things that are going on that provide those jobs of the future.\\n\\nJill was  a community college professor who teaches today as First Lady. She has long said — (applause). She has long — (applause). If I’ve heard it once, I’ve heard it a thousand times: “Joe, any country that out-educates us is going to outcompete us.”  She’ll be deeply involved in leading this effort. Thank you, Jill.\\n\\nSecond thing we need: American Families Plan will provide access to quality, affordable childcare. We guarantee — (applause). And I’m proposing a legislation to guarantee that low- and middle-income families will pay no more than 7 percent of their income for high-quality care for children up to the age of 5. The most hard-pressed working families won’t have to spend a dime.\\n\\nThird, the American Families Plan will finally provide up to 12 weeks of paid leave  and medical leave — family and medical leave. We’re one of the few industrial countries in the world — (applause).\\n\\nNo one should have to choose between a job and paycheck or taking care of themselves and their loved ones –- a parent, a spouse, or child.\\n\\nAnd fourth, the American Family Plan puts directly into the pockets of millions of Americans. In March, we expanded a tax credit for every child in a family. Up to a $3,000 per child if they’re under [over]* six years of age — I mean, excuse me — under — over six years of age, and $3,600 for children over [under]* six years of age.\\n\\nWith two parents, two kids, that’s $7,200 in the pockets that’s going to help to take care of your family. And that will help more than 65 million children and help cut childcare [child] poverty in half. (Applause.) And we can afford it.\\n\\nSo we did that in the rec- — in the — in the last piece of legislation we passed. But let’s extend that Child Care Tax Credit at least through the end of 2025. (Applause.)\\n\\nThe American Rescue Plan lowered healthcare premiums for 9 million Americans who buy their coverage under the Affordable Care Act. I know that’s really popular on this side of the aisle. (Laughter.) But let’s make that provision permanent so their premiums don’t go back up. (Applause.)\\n\\nIn addition to my Families Plan, I’m going to work with Congress to address, this year, other critical priorities for American families.\\n\\nThe Affordable Care Act has been a lifeline for millions of Americans, protecting people with preexisting conditions, protecting women’s health. And the pandemic has demonstrated how badly — how badly it’s needed. Let’s lower deductibles for working families on the Affordable Care — in the Affordable Care Act. (Applause.) And let’s lower prescription drug costs. (Applause.)\\n\\nWe know how to do this. The last President had that as an objective. We all know how outrageously expensive drugs are in America.\\n\\nIn fact, we pay the highest prescription drug prices of anywhere in the world right here in America — nearly three times — for the same drug, nearly three times what other countries pay. We have to change that, and we can.\\n\\nLet’s do what we’ve always talked about for all the years I was down here in this — in this body — in Congress. Let’s give Medicare the power to save hundreds of billions of dollars by negotiating lower drug prescription prices. (Applause.)\\n\\nAnd, by the way, that won’t just — that won’t just help people on Medicare; it will lower prescription drug costs for everyone.\\n\\nAnd the money we save, which is billions of dollars, can go to strengthen the Affordable Care Act and expand Medicare coverage benefits without costing taxpayers an additional penny. It’s within our power to do it; let’s do it now. (Applause.)\\n\\nWe’ve talked about it long enough. Democrats and Republicans, let’s get it done this year. This is all about a simple premise: Healthcare should be a right, not a privilege in America. (Applause.)\\n\\nSo, how do we pay for my Jobs and Family Plan? I made it clear, we can do it without increasing the deficits. Let’s start with what I will not do: I will not impose any tax increase on people making less than $400,000. It’s — but it’s time for corporate America and the wealthiest 1 percent of Americans to just begin to pay their fair share. (Applause.) Just their fair share.\\n\\nSometimes I have arguments with my friends in the Democratic Party. I think you should be able to become a billionaire and a millionaire, but pay your fair share.\\n\\nA recent study shows that 55 of the nation’s biggest corporations paid zero federal tax last year. Those 55 corporations made in excess of $40 billion in profit. A lot of companies also evade taxes through tax havens in Switzerland and Bermuda and the Cayman Islands. And they benefit from tax loopholes and deductions for offshoring jobs and shifting profits overseas. It’s not right.\\n\\nWe’re going to reform corporate taxes so they pay their fair share and help pay for the public investments their businesses will benefit from as well. (Applause.)\\n\\nWe’re going to reward work, not just wealth. We take the top tax bracket for the wealthiest 1 percent of Americans — those making over $400,000 or more — back up to where it was when George W. Bush was President when he started: 39.6 percent. That’s where it was when George W. was President.\\n\\nWe’re going to get rid of the loopholes that allow Americans who make more than a million dollars a year and pay a lower tax rate on their capital gains than Americans who receive a paycheck. We’re only going to affect three tenths of 1 percent of all Americans by that action. Three tenths of 1 percent.\\n\\nAnd the IRS is going to crack down on millionaires and billionaires who cheat on their taxes. It’s estimated to be billions of dollars by think tanks that are left, right, and center.\\n\\nI’m not looking to punish anybody. But I will not add a tax burden — an additional tax burden to the middle class in this country. They’re already paying enough. I believe what I propose is fair — (applause) — fiscally responsible, and it raises revenue to pay for the plans I have proposed, and will create millions of jobs that will grow the economy and enhance our financial standing in the country.\\n\\nWhen you hear someone say that they don’t want to raise taxes on the wealthiest 1 percent or corporate America, ask them: “Whose taxes you want to raise instead? Whose are you going to cut?”\\n\\nLook, the big tax cut of 2017 — remember, it was supposed to pay for itself — that was how it was sold — and generate vast economic growth. Instead, it added $2 trillion to the deficit. It was a huge windfall for corporate America and those at the very top.\\n\\nInstead of using the tax saving to raise wages and invest in research and development, it poured billions of dollars into the pockets of CEOs. In fact, the pay gap between CEOs and their workers is now among the largest in history.\\n\\nAccording to one study, CEOs make 320 times what the average worker in their corporation makes. It used to be in the — below a hundred.\\n\\nThe pandemic has only made things worse. Twenty million Americans lost their job in the pandemic — working- and middle-class Americans. At the same time, roughly 650 billionaires in America saw their net worth increase by more than $1 trillion — in the same exact period. Let me say it again: 650 people increased their wealth by more than $1 trillion during this pandemic. And they’re now worth more than $4 trillion.\\n\\nMy fellow Americans, trickle-down — trickle-down economics has never worked and it’s time to grow the economy from the bottom and the middle out. (Applause.)\\n\\nYou know, there’s a broad consensus of economists — left, right, center — and they agree what I’m proposing will help create millions of jobs and generate historic economic growth. These are among the highest-value investments we can make as a nation.\\n\\nI’ve often said: Our greatest strength is the power of our example, not just the example of our power.\\n\\nIn my conversations with world leaders — and I’ve spoken to over 38, 40 of them now — I’ve made it known — I’ve made it known that America is back. And you know what they say? The comment that I hear most of all from them is they say, “We see America is back but for how long? But for how long?”\\n\\nMy fellow Americans, we have to show not just that we’re back, but that we’re back to stay and that we aren’t going to go it alone. (Applause.) We’re going to do it by leading with our allies. (Applause.)\\n\\nNo one nation can deal with all the crises of our time — from terrorism, to nuclear proliferation, mass migration, cybersecurity, climate change, as well as experi- — what we’re experiencing now with pandemics.\\n\\nThere’s no wall high enough to keep any virus out. And our own vaccine supply — as it grows to meet our needs; and we’re meeting them — will become an arsenal of vaccines for other countries, just as America was the arsenal of democracy for the world — (applause) — and in consequence, influenced the world. (Applause.)\\n\\nBut every American will have access before that occur- — every American will have access to be fully covered by COVID-19 — from the vaccines we have.\\n\\nLook, the climate crisis is not our fight alone; it’s a global fight. The United States accounts, as all of you know, less than 15 percent of carbon emissions. The rest of the world accounts for 85 percent. That’s why I kept my commitment to rejoin the Paris Accord — because if we do everything perfectly, it’s not going to ultimately matter.\\n\\nI kept my commitment to convene a climate summit right here in America with all of the major economies of the world — China, Russia, India, the European Union — and I said I’d do it in my first 100 days.\\n\\nI want to be very blunt about it: I had — my attempt was to make sure that the world could see there was a consensus, that we are at an inflection point in history. And consensus — the consensus is: If we act to save the planet, we can create millions of jobs and economic growth and opportunity to raise the standard of living to almost everyone around the world.\\n\\nIf you’ve watched any of it — and you were all busy; I’m sure you didn’t have much time — that’s what virtually every nation said, even the ones that aren’t doing their fair share.\\n\\nThe investments I’ve proposed tonight also advance the foreign policy, in my view, that benefits the middle class. That means making sure every nation plays by the same rules in the global economy, including China.\\n\\nIn my discussions — in my discussions with President Xi, I told him, “We welcome the competition. We’re not looking for conflict.”  But I made absolutely clear that we will defend America’s interests across the board. America will stand up to unfair trade practices that undercut American workers and American industries, like subsidies from state — to state-owned operations and enterprises and the theft of American technology and intellectual property.\\n\\nI also told President Xi that we’ll maintain a strong military presence in the Indo-Pacific, just as we do with NATO in Europe — not to start a conflict, but to prevent one. (Applause.)\\n\\nI told him what I’ve said to many world leaders: that America will not back away from our commitments — our commitment to human rights and fundamental freedoms and to our alliances.\\n\\nAnd I pointed out to him: No responsible American President could remain silent when basic human rights are being so blatantly violated. An American President — President has to represent the essence of what our country stands for. America is an idea — the most unique idea in history: We are created, all of us, equal. It’s who we are, and we cannot walk away from that principle and, in fact, say we’re dealing with the American idea.\\n\\nWith regard to Russia, I know it concerns some of you, but I made very clear to Putin that we’re not going to seek esca- — ecala- — exc- — excuse me — escalation, but their actions will have consequence if they turn out to be true. And they turned out to be true, so I responded directly and proportionally to Russia’s interference in our elections and the cyberattacks on our government and our business. They did both of these things, and I told them we would respond, and we have.\\n\\nBut we can also cooperate when it’s in our mutual interest. We did it when we extended the New START Treaty on nuclear arms, and we’re working to do it on climate change. But he understands we will respond.\\n\\nOn Iran and North Korea — nuclear programs that present serious threats to American security and the security of the world — we’re going to be working closely with our allies to address the threats posed by both of these countries through di- — through diplomacy, as well as stern deterrence.\\n\\nAnd American leadership means ending the forever war in Afghanistan. (Applause.) We have — (applause) — we have, without hyperbole, the greatest fighting force in the history of the world. I’m the first President in 40 years who knows what it means to have a son serving in a warzone.\\n\\nToday we have servicemembers serving in the same warzone as their parents did. We have servicemembers in Afghanistan who were not yet born on 9/11.\\n\\nThe War in Afghanistan, as we remember the debates here, were never meant to be multi-generational undertakings of nation-building. We went to Afghanistan to get terrorists — the terrorists who attacked us on 9/11 — and we said we would follow Osama bin Laden to the gates of hell to do it. If you’ve been to the upper Kunar Valley, you’ve kind of seen the gates of hell. And we delivered justice to bin Laden. We degraded the terrorist threat of al Qaeda in Afghanistan. And after 20 years of value — valor and sacrifice, it’s time to bring those troops home. (Applause.)\\n\\nLook, even as we do, we will maintain an over-the-horizon capacity to suppress future threats to the homeland. And make no mistake: In 20 years, terrorists has — terrorism has metastasized. The threat has evolved way beyond Afghanistan. And those of you in the intelligence committees, the foreign relations committee, the defense committees, you know well: We have to remain vigilant against the threats to the United States wherever they come from. Al Qaeda and ISIS are in Yemen, Syria, Somalia, other places in Africa, the Middle East, and beyond.\\n\\nAnd we won’t ignore what our intelligence agencies have determined to be the most lethal terrorist threat to the homeland today: White supremacy is terrorism. We’re not going to ignore that either.\\n\\nMy fellow Americans, look, we have to come together to heal the soul of this nation. It was nearly a year ago, before her father’s funeral, when I spoke with Gianna Floyd, George Floyd’s young daughter. She’s a little tyke, so I was kneeling down to talk to her so I could look her in the eye. And she looked at me and she said, “My daddy changed the world.”  Well, after the conviction of George Floyd’s murderer, we can see how right she was if — if we have the courage to act as a Congress.\\n\\nWe’ve all seen the knee of injustice on the neck of Black Americans. Now is our opportunity to make some real progress. The vast majority of men and women wearing the uniform and a badge serve our communities, and they serve them honorably. I know them. I know they want — (applause) — I know they want to help meet this moment as well.\\n\\nMy fellow Americans, we have to come together to rebuild trust between law enforcement and the people they serve, to root out systemic racism in our criminal justice system, and to enact police reform in George Floyd’s name that passed the House already.\\n\\nI know Republicans have their own ideas and are engaged in the very productive discussions with Democrats in the Senate. We need to work together to find a consensus. But let’s get it done next month, by the first anniversary of George Floyd’s death. (Applause.)\\n\\nThe country supports this reform, and Congress should act — should act. We have a giant opportunity to bend to the arc of the moral universe towards justice — real justice. And with the plans outlined tonight, we have a real chance to root out systemic racism that plagues America and American lives in other ways; a chance to deliver real equity — good jobs, good schools, affordable housing, clean air, clean water, being able to generate wealth and pass it down two generations because you have an access to purchase a house. Real opportunities in the lives of more Americans — Black, white, Latino, Asian Americans, Native Americans.\\n\\nLook, I also want to thank the United States Senate for voting 94 to 1 to pass the COVID-19 Hate Crimes Act to protect Asian Americans and Pacific Islanders. (Applause.) You acted decisively. (Applause.) And you can see on television the viciousness of the hate crimes we’ve seen over the past year — this past year and for too long. I urge the House to do the same and send that legislation to my desk, which I will gladly, anxiously sign.\\n\\nI also hope Congress can get to my desk the Equality Act to protect LGBTQ Americans. (Applause.) To all transgender Americans watching at home, especially young people who are so brave, I want you to know your President has your back.\\n\\nAnother thing: Let’s authorize the Violence Against Women Act, which has been law for 27 years. (Applause.) Twenty-seven years ago, I wrote it. It’ll close the — the act that has to be authorized now will close the “boyfriend” loophole to keep guns out of the hands of abusers. The court order said, “This is an abuser. You can’t own a gun.”  It’s to close that loophole that existed.\\n\\nYou know, it’s estimated that 50 women are shot and killed by an intimate partner every month in America — 50 a month. Let’s pass it and save some lives. (Applause.)\\n\\nAnd I need not — I need not tell anyone this, but gun violence is becoming an epidemic in America.\\n\\nThe flag at the White House was still flying at half-mast for the 8 victims in the mass shooting in Georgia when 10 more lives were taken in a mass shooting in Colorado.\\n\\nAnd in the week in between those two events, 250 other Americans were shot dead in the streets of America — 250 shot dead.\\n\\nI know how hard it is to make progress on this issue. In the ’90s, we passed universal background checks, a ban on assault weapons and high-capacity magazines that hold 100 rounds that can be fired off in seconds. We beat the NRA. Mass shootings and gun violence declined. Check out the report in over 10 years. But in the early twe- — 2000s, the law expired, and we’ve seen daily bloodshed since. I’m not saying if the law continued, we wouldn’t see bloodshed.\\n\\nMore than two weeks ago in the Rose Garden, surrounded by some of the bravest people I know — the survivors and families who lost loved ones to gun violence — I laid out several of the Department of Justice a- — actions that are being taken to — impact on this epidemic.\\n\\nOne of them is banning so-called “ghost guns.”  These are homemade guns built from a kit that includes directions on how to finish the firearm. The parts have no serial numbers, so they show up at crime scenes and they can’t be traced. The buyers of these ghost gun kits aren’t required to pass any background check. Anyone, from a criminal or terrorist, could buy this kit and within 30 minutes have a weapon that’s lethal. But no more.\\n\\nAnd I will do everything in my power to protect the American people from this epidemic of gun violence, but it’s time for Congress to act as well. (Applause.)\\n\\nLook, I don’t want to become confrontational but we need more Senate Republicans to join the overwhelming majority of Democrat colleagues and close the loopholes requiring a background check on purchases of guns. We need a ban on assault weapons and high-capacity magazines. And don’t tell me it can’t be done. We did it before, and it worked.\\n\\nTalk to most responsible gun owners and hunters. They’ll tell you there’s no possible justification for having 100 rounds in a weapon. What do you think — deer are wearing Kevlar vests? (Laughter.) They’ll tell you that there are too many people today who are able to buy a gun but shouldn’t be able to buy a gun.\\n\\nThese kinds of reasonable reforms have overwhelming support from the American people, including many gun owners. The country supports reform and is — and Congress should act.\\n\\nThis shouldn’t be a red or blue issue. And no amendment to the Constitution is absolute. You can’t yell “Fire!” in a crowded theater. From the very beginning, there were certain guns, weapons, that could not be owned by Americans. Certain people could not own those weapons ever.\\n\\nWe’re not changing the Constitution; we’re being reasonable. I think this is not a Democrat or Republican issue; I think it’s an American issue.\\n\\nAnd here’s what else we can do: Immigration has always been essential to America. Let’s end our exhausting war over immigration. For more than 30 years, politicians have talked about immigration reform, and we’ve done nothing about it. It’s time to fix it.\\n\\nOn day one of my presidency, I kept my commitment and sent a comprehensive immigration bill to the United States Congress. If you believe we need to secure the border, pass it, because it has a lot of money for high-tech border security. If you believe in a pathway to citizenship, pass it so over 11 million undocumented folks — the vast majority are here overstaying visas. Pass it. We can actually — if you actually want to solve a problem, I’ve sent a bill to take a close look at it.\\n\\nWe have to — also have to get at the root problem of why people are fleeing, particularly to — to our southern border from Guatemala, Honduras, and El Salvador: the violence, the corruption, the gangs, and the political instability, hunger, hurricanes, earthquakes, natural disasters.\\n\\nWhen I was President, my President — when I was Vice President, the President asked me to focus on providing the help needed to address the root causes of migration. And it helped keep people in their own countries instead of being forced to leave. The plan was working, but the last administration decided it was not worth it.\\n\\nI’m restoring the program and asked Vice President Harris to lead our diplomatic effort to take care of this. I have absolute confidence she’ll get the job done. (Applause.)\\n\\nNow, look, if you don’t like my plan, let’s at least pass what we all agree on. Congress needs to pass legislation this year to finally secure protection for DREAMers — the young people who have only known America as their home. (Applause.)\\n\\nAnd permanent protection for immigrants who are here on temporary protected status who came from countries beset by manmade and natural-made violence and disaster. (Applause.)\\n\\nAs well as a pathway to citizenship for farmworkers who put food on our tables. (Applause.)\\n\\nLook, immigrants have done so much for America during this pandemic and throughout our history. The country supports immigration reform. We should act. Let’s argue over it, let’s debate it, but let’s act. (Applause.)\\n\\nAnd if we truly want to restore the soul of America, we need to protect the sacred right to vote. Most people — (applause).\\n\\nMore people voted in the last presidential election than any time in American history, in the middle of the worst pandemic ever. It should be celebrated. Instead, it’s being attacked.\\n\\nCongress should pass H.R. 1 and the John Lewis Voting Rights Act and send it to my desk right away. (Applause.) The country supports it. The Congress should act now. (Applause.)\\n\\nLook, in closing, as we gather here tonight, the images of a violent mob assaulting this Capitol, desecrating our democracy, remain vivid in all our minds.\\n\\nLives were put at risk — many of your lives. Lives were lost. Extraordinary courage was summoned. The insurrection was an existential crisis –- a test of whether our democracy could survive. And it did.\\n\\nBut the struggle is far from over. The question of whether our democracy will long endure is both ancient and urgent, as old as our Republic — still vital today.\\n\\nCan our democracy deliver on its promise that all of us, created equal in the image of God, have a chance to lead lives of dignity, respect, and possibility?\\n\\nCan our democracy deliver the most — to the most pressing needs of our people?\\n\\nCan our democracy overcome the lies, anger, hate, and fears that have pulled us apart?\\n\\nAmerica’s adversaries –- the autocrats of the world –- are betting we can’t. And I promise you, they’re betting we can’t. They believe we’re too full of anger and division and rage.\\n\\nThey look at the images of the mob that assaulted the Capitol as proof that the sun is setting on American democracy. But they are wrong. You know it; I know it. But we have to prove them wrong.\\n\\nWe have to prove democracy still works — that our government still works and we can deliver for our people.\\n\\nIn our first 100 days together, we have acted to restore the people’s faith in democracy to deliver. We’re vaccinating the nation. We’re creating hundreds of thousands of new jobs. We’re delivering real results to people; they can see it and feel it in their own lives.\\n\\nOpening doors of opportunity, guaranteeing some more fairness and justice — that’s the essence of America. That’s democracy in action.\\n\\nOur Constitution opens with the words — as trite as it sounds — “We the People”. Well, it’s time to remember that “We the People” are the government — you and I. Not some force in a distant capital. Not some powerful force that we have no control over. It’s us. It’s “We the People.”\\n\\nIn another era when our democracy was tested, Franklin Roosevelt reminded us, “In America, we do our part.”  We all do our part. That’s all I’m asking: that we do our part, all of us.\\n\\nIf we do that, we will meet the center challenge of the age by proving that democracy is durable and strong. Autocrats will not win the future. We will. America will. And the future belongs to America.\\n\\nAs I stand here tonight before you, in a new and vital hour of life and democracy of our nation, and I can say with absolute confidence: I have never been more confident or optimistic about America — not because I’m President, because what’s happening with the American people.\\n\\nWe have stared into the abyss of insurrection and autocracy, pandemic and pain, and “We the People” did not flinch.\\n\\nAt the very moment our adversaries were certain we would pull apart and fail, we came together. We united.\\n\\nWith light and hope, we summoned a new strength, new resolve to position us to win the competition of the 21st century, on our way to a union more perfect, more prosperous, and more just, as one people, one nation, and one America.\\n\\nFolks, as I told every world leader I’ve ever met with over the years, it’s never ever, ever been a good bet to bet against America, and it still isn’t. (Applause.)\\n\\nWe are the United States of America. (Applause.) There is not a single thing — nothing — nothing beyond our capacity. We can do whatever we set our mind to do if we do it together. (Applause.) So let’s begin to get together. (Applause.)\\n\\nGod bless you all, and may God protect our troops. Thank you for your patience. (Applause.)')"
      ]
     },
     "execution_count": 18,
     "metadata": {},
     "output_type": "execute_result"
    }
   ],
   "source": [
    "documents[3]"
   ]
  },
  {
   "cell_type": "code",
   "execution_count": 19,
   "id": "83aac065-04c4-46fc-baed-cdb9bf2d9825",
   "metadata": {},
   "outputs": [],
   "source": [
    "for document in documents:\n",
    "    document.metadata['filename'] = document.metadata['source']"
   ]
  },
  {
   "cell_type": "code",
   "execution_count": 20,
   "id": "d216ada1-5fe6-4394-b1b2-3f468d879e66",
   "metadata": {},
   "outputs": [],
   "source": [
    "from ragas.testset.generator import TestsetGenerator\n",
    "from ragas.testset.evolutions import simple, reasoning, multi_context\n",
    "#from langchain_openai import ChatOpenAI, OpenAIEmbeddings"
   ]
  },
  {
   "cell_type": "code",
   "execution_count": 65,
   "id": "a210502d-864f-4d4b-b18f-e9624d709faa",
   "metadata": {},
   "outputs": [],
   "source": [
    "from ragas.llms.base import BaseRagasLLM\n",
    "from langchain_core.language_models import BaseLanguageModel\n",
    "import typing as t\n",
    "from ragas.run_config import RunConfig, add_async_retry, add_retry\n",
    "from langchain_core.outputs import Generation, LLMResult\n",
    "from langchain_core.callbacks import Callbacks\n",
    "from llama_index.core.base.llms.base import BaseLLM\n",
    "from langchain_openai.llms.base import BaseOpenAI\n",
    "from ragas.llms.prompt import PromptValue\n",
    "from langchain_openai.chat_models import AzureChatOpenAI, ChatOpenAI"
   ]
  },
  {
   "cell_type": "code",
   "execution_count": null,
   "id": "36fd5777-ef93-4f79-916b-207689dff5d9",
   "metadata": {},
   "outputs": [],
   "source": []
  },
  {
   "cell_type": "code",
   "execution_count": 73,
   "id": "a0516edb-19a2-4a2c-874a-5ff60ca88de2",
   "metadata": {},
   "outputs": [],
   "source": [
    "# stopped here 8/14 trying to get this subclass to work for Gemini & RAGAS\n",
    "class LangchainLLMWrapper(BaseRagasLLM):\n",
    "    \"\"\"\n",
    "    A simple base class for RagasLLMs that is based on Langchain's BaseLanguageModel\n",
    "    interface. it implements 2 functions:\n",
    "    - generate_text: for generating text from a given PromptValue\n",
    "    - agenerate_text: for generating text from a given PromptValue asynchronously\n",
    "    \"\"\"\n",
    "\n",
    "    def __init__(\n",
    "        self, langchain_llm: BaseLanguageModel, run_config: t.Optional[RunConfig] = None\n",
    "    ):\n",
    "        self.langchain_llm = langchain_llm\n",
    "        if run_config is None:\n",
    "            run_config = RunConfig()\n",
    "        self.set_run_config(run_config)\n",
    "\n",
    "    def generate_text(\n",
    "        self,\n",
    "        prompt: PromptValue,\n",
    "        n: int = 1,\n",
    "        stop: t.Optional[t.List[str]] = None,\n",
    "        callbacks: Callbacks = None,\n",
    "    ) -> LLMResult:\n",
    "        if is_multiple_completion_supported(self.langchain_llm):\n",
    "            return BaseLanguageModel.generate_prompt( #self.langchain_llm\n",
    "                prompts=[prompt],\n",
    "                n=n,\n",
    "                stop=stop,\n",
    "                callbacks=callbacks,\n",
    "            )\n",
    "        else:\n",
    "            result = BaseLanguageModel.generate_prompt( #self.langchain_llm\n",
    "                prompts=[prompt] * n,\n",
    "                stop=stop,\n",
    "                callbacks=callbacks,\n",
    "            )\n",
    "            # make LLMResult.generation appear as if it was n_completions\n",
    "            # note that LLMResult.runs is still a list that represents each run\n",
    "            generations = [[g[0] for g in result.generations]]\n",
    "            result.generations = generations\n",
    "            return result\n",
    "\n",
    "    async def agenerate_text(\n",
    "        self,\n",
    "        prompt: PromptValue,\n",
    "        n: int = 1,\n",
    "        stop: t.Optional[t.List[str]] = None,\n",
    "        callbacks: Callbacks = None,\n",
    "    ) -> LLMResult:\n",
    "        if is_multiple_completion_supported(self.langchain_llm):\n",
    "            return await BaseLanguageModel.agenerate_prompt( #self.langchain_llm\n",
    "                prompts=[prompt],\n",
    "                n=n,\n",
    "                stop=stop,\n",
    "                callbacks=callbacks,\n",
    "            )\n",
    "        else:\n",
    "            result = await BaseLanguageModelagenerate_prompt( #self.langchain_llm\n",
    "                prompts=[prompt] * n,\n",
    "                stop=stop,\n",
    "                callbacks=callbacks,\n",
    "            )\n",
    "            # make LLMResult.generation appear as if it was n_completions\n",
    "            # note that LLMResult.runs is still a list that represents each run\n",
    "            generations = [[g[0] for g in result.generations]]\n",
    "            result.generations = generations\n",
    "            return result\n",
    "\n",
    "    def set_run_config(self, run_config: RunConfig):\n",
    "        self.run_config = run_config\n",
    "\n",
    "        # configure if using OpenAI API\n",
    "        if isinstance(self.langchain_llm, BaseOpenAI) or isinstance(\n",
    "            self.langchain_llm, ChatOpenAI\n",
    "        ):\n",
    "            try:\n",
    "                from openai import RateLimitError\n",
    "            except ImportError:\n",
    "                raise ImportError(\n",
    "                    \"openai.error.RateLimitError not found. Please install openai package as `pip install openai`\"\n",
    "                )\n",
    "            self.langchain_llm.request_timeout = run_config.timeout\n",
    "            self.run_config.exception_types = RateLimitError"
   ]
  },
  {
   "cell_type": "code",
   "execution_count": 74,
   "id": "bfe1d472-f6e9-44c1-9c5c-f39d2cb8051c",
   "metadata": {},
   "outputs": [
    {
     "data": {
      "text/plain": [
       "__main__.LangchainLLMWrapper"
      ]
     },
     "execution_count": 74,
     "metadata": {},
     "output_type": "execute_result"
    }
   ],
   "source": [
    "LangchainLLMWrapper"
   ]
  },
  {
   "cell_type": "code",
   "execution_count": 75,
   "id": "9ad4cbf6-dcb8-4b91-97dc-d32e250ae309",
   "metadata": {},
   "outputs": [],
   "source": [
    "# generator with openai models\n",
    "# ToDo: Can you use the same model for generator and critic? These should be different than my main model with RAG, right?\n",
    "generator_llm = LangchainLLMWrapper(ChatGoogleGenerativeAI(model=\"gemini-1.5-flash\")) #, temperature=0.7, timeout=180, transport=\"rest\"\n",
    "critic_llm = LangchainLLMWrapper(ChatGoogleGenerativeAI(model=\"gemini-1.5-flash\"))\n",
    "embeddings = GoogleGenerativeAIEmbeddings(model=\"models/text-embedding-004\") #transport=\"rest\"\n",
    "#LangchainLLMWrapper()\n",
    "generator = TestsetGenerator.from_langchain(\n",
    "    generator_llm,\n",
    "    critic_llm,\n",
    "    embeddings\n",
    ")"
   ]
  },
  {
   "cell_type": "code",
   "execution_count": null,
   "id": "a183dab1-128e-4b51-9cc7-017acbdcb950",
   "metadata": {},
   "outputs": [],
   "source": [
    "# RAGAS github issues\n",
    "#https://github.com/explodinggradients/ragas/issues/678\n",
    "#https://github.com/explodinggradients/ragas/pull/657/files"
   ]
  },
  {
   "cell_type": "code",
   "execution_count": 37,
   "id": "c8d0cba0-17aa-491e-8a0b-a1e3ed8ebbfd",
   "metadata": {},
   "outputs": [],
   "source": [
    "#class RAGASGoogleGenerativeAIEmbeddings(GoogleGenerativeAIEmbeddings):\n",
    "#    \"\"\"Wrapper for RAGAS\"\"\"\n",
    "#\n",
    "#    async def embed_text(self, text: str) -> list[float]:\n",
    "#        \"\"\"Embeds a text for semantics similarity\"\"\"\n",
    "#        return self.embed([text], 1, \"SEMANTIC_SIMILARITY\")[0]"
   ]
  },
  {
   "cell_type": "code",
   "execution_count": 38,
   "id": "eff15942-b70e-4c8c-a862-a358b7f5d8ba",
   "metadata": {},
   "outputs": [],
   "source": [
    "#embeddings = RAGASGoogleGenerativeAIEmbeddings(model=\"models/text-embedding-004\")"
   ]
  },
  {
   "cell_type": "code",
   "execution_count": 39,
   "id": "8c0eaf0e-6155-4d2d-8eae-3042810bb134",
   "metadata": {},
   "outputs": [],
   "source": [
    "#generator = TestsetGenerator.from_langchain(\n",
    "#    generator_llm,\n",
    "#    critic_llm,\n",
    "#    embeddings\n",
    "#)"
   ]
  },
  {
   "cell_type": "code",
   "execution_count": 76,
   "id": "dea4fcb6-c137-414f-86c7-290879be8b87",
   "metadata": {},
   "outputs": [
    {
     "data": {
      "application/vnd.jupyter.widget-view+json": {
       "model_id": "cd6cc4b41fb94a1080061ef6ba95a2a6",
       "version_major": 2,
       "version_minor": 0
      },
      "text/plain": [
       "embedding nodes:   0%|          | 0/80 [00:00<?, ?it/s]"
      ]
     },
     "metadata": {},
     "output_type": "display_data"
    },
    {
     "ename": "AttributeError",
     "evalue": "'LangchainLLMWrapper' object has no attribute 'agenerate_prompt'",
     "output_type": "error",
     "traceback": [
      "\u001b[0;31m---------------------------------------------------------------------------\u001b[0m",
      "\u001b[0;31mAttributeError\u001b[0m                            Traceback (most recent call last)",
      "Cell \u001b[0;32mIn[76], line 2\u001b[0m\n\u001b[1;32m      1\u001b[0m \u001b[38;5;66;03m# generate testset\u001b[39;00m\n\u001b[0;32m----> 2\u001b[0m testset \u001b[38;5;241m=\u001b[39m \u001b[43mgenerator\u001b[49m\u001b[38;5;241;43m.\u001b[39;49m\u001b[43mgenerate_with_langchain_docs\u001b[49m\u001b[43m(\u001b[49m\u001b[43mdocuments\u001b[49m\u001b[43m,\u001b[49m\u001b[43m \u001b[49m\u001b[43mtest_size\u001b[49m\u001b[38;5;241;43m=\u001b[39;49m\u001b[38;5;241;43m10\u001b[39;49m\u001b[43m,\u001b[49m\u001b[43m \u001b[49m\u001b[43mdistributions\u001b[49m\u001b[38;5;241;43m=\u001b[39;49m\u001b[43m{\u001b[49m\u001b[43msimple\u001b[49m\u001b[43m:\u001b[49m\u001b[43m \u001b[49m\u001b[38;5;241;43m0.5\u001b[39;49m\u001b[43m,\u001b[49m\u001b[43m \u001b[49m\u001b[43mreasoning\u001b[49m\u001b[43m:\u001b[49m\u001b[43m \u001b[49m\u001b[38;5;241;43m0.25\u001b[39;49m\u001b[43m,\u001b[49m\u001b[43m \u001b[49m\u001b[43mmulti_context\u001b[49m\u001b[43m:\u001b[49m\u001b[43m \u001b[49m\u001b[38;5;241;43m0.25\u001b[39;49m\u001b[43m}\u001b[49m\u001b[43m)\u001b[49m\n",
      "File \u001b[0;32m~/anaconda3/envs/research2/lib/python3.11/site-packages/ragas/testset/generator.py:206\u001b[0m, in \u001b[0;36mTestsetGenerator.generate_with_langchain_docs\u001b[0;34m(self, documents, test_size, distributions, with_debugging_logs, is_async, raise_exceptions, run_config)\u001b[0m\n\u001b[1;32m    204\u001b[0m distributions \u001b[38;5;241m=\u001b[39m distributions \u001b[38;5;129;01mor\u001b[39;00m {}\n\u001b[1;32m    205\u001b[0m \u001b[38;5;66;03m# chunk documents and add to docstore\u001b[39;00m\n\u001b[0;32m--> 206\u001b[0m \u001b[38;5;28;43mself\u001b[39;49m\u001b[38;5;241;43m.\u001b[39;49m\u001b[43mdocstore\u001b[49m\u001b[38;5;241;43m.\u001b[39;49m\u001b[43madd_documents\u001b[49m\u001b[43m(\u001b[49m\n\u001b[1;32m    207\u001b[0m \u001b[43m    \u001b[49m\u001b[43m[\u001b[49m\u001b[43mDocument\u001b[49m\u001b[38;5;241;43m.\u001b[39;49m\u001b[43mfrom_langchain_document\u001b[49m\u001b[43m(\u001b[49m\u001b[43mdoc\u001b[49m\u001b[43m)\u001b[49m\u001b[43m \u001b[49m\u001b[38;5;28;43;01mfor\u001b[39;49;00m\u001b[43m \u001b[49m\u001b[43mdoc\u001b[49m\u001b[43m \u001b[49m\u001b[38;5;129;43;01min\u001b[39;49;00m\u001b[43m \u001b[49m\u001b[43mdocuments\u001b[49m\u001b[43m]\u001b[49m\n\u001b[1;32m    208\u001b[0m \u001b[43m\u001b[49m\u001b[43m)\u001b[49m\n\u001b[1;32m    210\u001b[0m \u001b[38;5;28;01mreturn\u001b[39;00m \u001b[38;5;28mself\u001b[39m\u001b[38;5;241m.\u001b[39mgenerate(\n\u001b[1;32m    211\u001b[0m     test_size\u001b[38;5;241m=\u001b[39mtest_size,\n\u001b[1;32m    212\u001b[0m     distributions\u001b[38;5;241m=\u001b[39mdistributions,\n\u001b[0;32m   (...)\u001b[0m\n\u001b[1;32m    216\u001b[0m     run_config\u001b[38;5;241m=\u001b[39mrun_config,\n\u001b[1;32m    217\u001b[0m )\n",
      "File \u001b[0;32m~/anaconda3/envs/research2/lib/python3.11/site-packages/ragas/testset/docstore.py:214\u001b[0m, in \u001b[0;36mInMemoryDocumentStore.add_documents\u001b[0;34m(self, docs, show_progress)\u001b[0m\n\u001b[1;32m    209\u001b[0m \u001b[38;5;66;03m# split documents with self.splitter into smaller nodes\u001b[39;00m\n\u001b[1;32m    210\u001b[0m nodes \u001b[38;5;241m=\u001b[39m [\n\u001b[1;32m    211\u001b[0m     Node\u001b[38;5;241m.\u001b[39mfrom_langchain_document(d)\n\u001b[1;32m    212\u001b[0m     \u001b[38;5;28;01mfor\u001b[39;00m d \u001b[38;5;129;01min\u001b[39;00m \u001b[38;5;28mself\u001b[39m\u001b[38;5;241m.\u001b[39msplitter\u001b[38;5;241m.\u001b[39mtransform_documents(docs)\n\u001b[1;32m    213\u001b[0m ]\n\u001b[0;32m--> 214\u001b[0m \u001b[38;5;28;43mself\u001b[39;49m\u001b[38;5;241;43m.\u001b[39;49m\u001b[43madd_nodes\u001b[49m\u001b[43m(\u001b[49m\u001b[43mnodes\u001b[49m\u001b[43m,\u001b[49m\u001b[43m \u001b[49m\u001b[43mshow_progress\u001b[49m\u001b[38;5;241;43m=\u001b[39;49m\u001b[43mshow_progress\u001b[49m\u001b[43m)\u001b[49m\n",
      "File \u001b[0;32m~/anaconda3/envs/research2/lib/python3.11/site-packages/ragas/testset/docstore.py:251\u001b[0m, in \u001b[0;36mInMemoryDocumentStore.add_nodes\u001b[0;34m(self, nodes, show_progress)\u001b[0m\n\u001b[1;32m    244\u001b[0m         executor\u001b[38;5;241m.\u001b[39msubmit(\n\u001b[1;32m    245\u001b[0m             \u001b[38;5;28mself\u001b[39m\u001b[38;5;241m.\u001b[39mextractor\u001b[38;5;241m.\u001b[39mextract,\n\u001b[1;32m    246\u001b[0m             n,\n\u001b[1;32m    247\u001b[0m             name\u001b[38;5;241m=\u001b[39m\u001b[38;5;124mf\u001b[39m\u001b[38;5;124m\"\u001b[39m\u001b[38;5;124mkeyphrase-extraction[\u001b[39m\u001b[38;5;132;01m{\u001b[39;00mi\u001b[38;5;132;01m}\u001b[39;00m\u001b[38;5;124m]\u001b[39m\u001b[38;5;124m\"\u001b[39m,\n\u001b[1;32m    248\u001b[0m         )\n\u001b[1;32m    249\u001b[0m         result_idx \u001b[38;5;241m+\u001b[39m\u001b[38;5;241m=\u001b[39m \u001b[38;5;241m1\u001b[39m\n\u001b[0;32m--> 251\u001b[0m results \u001b[38;5;241m=\u001b[39m \u001b[43mexecutor\u001b[49m\u001b[38;5;241;43m.\u001b[39;49m\u001b[43mresults\u001b[49m\u001b[43m(\u001b[49m\u001b[43m)\u001b[49m\n\u001b[1;32m    252\u001b[0m \u001b[38;5;28;01mif\u001b[39;00m \u001b[38;5;129;01mnot\u001b[39;00m results:\n\u001b[1;32m    253\u001b[0m     \u001b[38;5;28;01mraise\u001b[39;00m ExceptionInRunner()\n",
      "File \u001b[0;32m~/anaconda3/envs/research2/lib/python3.11/site-packages/ragas/executor.py:116\u001b[0m, in \u001b[0;36mExecutor.results\u001b[0;34m(self)\u001b[0m\n\u001b[1;32m    112\u001b[0m         results\u001b[38;5;241m.\u001b[39mappend(r)\n\u001b[1;32m    114\u001b[0m     \u001b[38;5;28;01mreturn\u001b[39;00m results\n\u001b[0;32m--> 116\u001b[0m results \u001b[38;5;241m=\u001b[39m \u001b[43masyncio\u001b[49m\u001b[38;5;241;43m.\u001b[39;49m\u001b[43mrun\u001b[49m\u001b[43m(\u001b[49m\u001b[43m_aresults\u001b[49m\u001b[43m(\u001b[49m\u001b[43m)\u001b[49m\u001b[43m)\u001b[49m\n\u001b[1;32m    117\u001b[0m sorted_results \u001b[38;5;241m=\u001b[39m \u001b[38;5;28msorted\u001b[39m(results, key\u001b[38;5;241m=\u001b[39m\u001b[38;5;28;01mlambda\u001b[39;00m x: x[\u001b[38;5;241m0\u001b[39m])\n\u001b[1;32m    118\u001b[0m \u001b[38;5;28;01mreturn\u001b[39;00m [r[\u001b[38;5;241m1\u001b[39m] \u001b[38;5;28;01mfor\u001b[39;00m r \u001b[38;5;129;01min\u001b[39;00m sorted_results]\n",
      "File \u001b[0;32m~/anaconda3/envs/research2/lib/python3.11/site-packages/nest_asyncio.py:30\u001b[0m, in \u001b[0;36m_patch_asyncio.<locals>.run\u001b[0;34m(main, debug)\u001b[0m\n\u001b[1;32m     28\u001b[0m task \u001b[38;5;241m=\u001b[39m asyncio\u001b[38;5;241m.\u001b[39mensure_future(main)\n\u001b[1;32m     29\u001b[0m \u001b[38;5;28;01mtry\u001b[39;00m:\n\u001b[0;32m---> 30\u001b[0m     \u001b[38;5;28;01mreturn\u001b[39;00m \u001b[43mloop\u001b[49m\u001b[38;5;241;43m.\u001b[39;49m\u001b[43mrun_until_complete\u001b[49m\u001b[43m(\u001b[49m\u001b[43mtask\u001b[49m\u001b[43m)\u001b[49m\n\u001b[1;32m     31\u001b[0m \u001b[38;5;28;01mfinally\u001b[39;00m:\n\u001b[1;32m     32\u001b[0m     \u001b[38;5;28;01mif\u001b[39;00m \u001b[38;5;129;01mnot\u001b[39;00m task\u001b[38;5;241m.\u001b[39mdone():\n",
      "File \u001b[0;32m~/anaconda3/envs/research2/lib/python3.11/site-packages/nest_asyncio.py:98\u001b[0m, in \u001b[0;36m_patch_loop.<locals>.run_until_complete\u001b[0;34m(self, future)\u001b[0m\n\u001b[1;32m     95\u001b[0m \u001b[38;5;28;01mif\u001b[39;00m \u001b[38;5;129;01mnot\u001b[39;00m f\u001b[38;5;241m.\u001b[39mdone():\n\u001b[1;32m     96\u001b[0m     \u001b[38;5;28;01mraise\u001b[39;00m \u001b[38;5;167;01mRuntimeError\u001b[39;00m(\n\u001b[1;32m     97\u001b[0m         \u001b[38;5;124m'\u001b[39m\u001b[38;5;124mEvent loop stopped before Future completed.\u001b[39m\u001b[38;5;124m'\u001b[39m)\n\u001b[0;32m---> 98\u001b[0m \u001b[38;5;28;01mreturn\u001b[39;00m \u001b[43mf\u001b[49m\u001b[38;5;241;43m.\u001b[39;49m\u001b[43mresult\u001b[49m\u001b[43m(\u001b[49m\u001b[43m)\u001b[49m\n",
      "File \u001b[0;32m~/anaconda3/envs/research2/lib/python3.11/asyncio/futures.py:203\u001b[0m, in \u001b[0;36mFuture.result\u001b[0;34m(self)\u001b[0m\n\u001b[1;32m    201\u001b[0m \u001b[38;5;28mself\u001b[39m\u001b[38;5;241m.\u001b[39m__log_traceback \u001b[38;5;241m=\u001b[39m \u001b[38;5;28;01mFalse\u001b[39;00m\n\u001b[1;32m    202\u001b[0m \u001b[38;5;28;01mif\u001b[39;00m \u001b[38;5;28mself\u001b[39m\u001b[38;5;241m.\u001b[39m_exception \u001b[38;5;129;01mis\u001b[39;00m \u001b[38;5;129;01mnot\u001b[39;00m \u001b[38;5;28;01mNone\u001b[39;00m:\n\u001b[0;32m--> 203\u001b[0m     \u001b[38;5;28;01mraise\u001b[39;00m \u001b[38;5;28mself\u001b[39m\u001b[38;5;241m.\u001b[39m_exception\u001b[38;5;241m.\u001b[39mwith_traceback(\u001b[38;5;28mself\u001b[39m\u001b[38;5;241m.\u001b[39m_exception_tb)\n\u001b[1;32m    204\u001b[0m \u001b[38;5;28;01mreturn\u001b[39;00m \u001b[38;5;28mself\u001b[39m\u001b[38;5;241m.\u001b[39m_result\n",
      "File \u001b[0;32m~/anaconda3/envs/research2/lib/python3.11/asyncio/tasks.py:277\u001b[0m, in \u001b[0;36mTask.__step\u001b[0;34m(***failed resolving arguments***)\u001b[0m\n\u001b[1;32m    273\u001b[0m \u001b[38;5;28;01mtry\u001b[39;00m:\n\u001b[1;32m    274\u001b[0m     \u001b[38;5;28;01mif\u001b[39;00m exc \u001b[38;5;129;01mis\u001b[39;00m \u001b[38;5;28;01mNone\u001b[39;00m:\n\u001b[1;32m    275\u001b[0m         \u001b[38;5;66;03m# We use the `send` method directly, because coroutines\u001b[39;00m\n\u001b[1;32m    276\u001b[0m         \u001b[38;5;66;03m# don't have `__iter__` and `__next__` methods.\u001b[39;00m\n\u001b[0;32m--> 277\u001b[0m         result \u001b[38;5;241m=\u001b[39m coro\u001b[38;5;241m.\u001b[39msend(\u001b[38;5;28;01mNone\u001b[39;00m)\n\u001b[1;32m    278\u001b[0m     \u001b[38;5;28;01melse\u001b[39;00m:\n\u001b[1;32m    279\u001b[0m         result \u001b[38;5;241m=\u001b[39m coro\u001b[38;5;241m.\u001b[39mthrow(exc)\n",
      "File \u001b[0;32m~/anaconda3/envs/research2/lib/python3.11/site-packages/ragas/executor.py:111\u001b[0m, in \u001b[0;36mExecutor.results.<locals>._aresults\u001b[0;34m()\u001b[0m\n\u001b[1;32m    103\u001b[0m results \u001b[38;5;241m=\u001b[39m []\n\u001b[1;32m    104\u001b[0m \u001b[38;5;28;01mfor\u001b[39;00m future \u001b[38;5;129;01min\u001b[39;00m tqdm(\n\u001b[1;32m    105\u001b[0m     futures_as_they_finish,\n\u001b[1;32m    106\u001b[0m     desc\u001b[38;5;241m=\u001b[39m\u001b[38;5;28mself\u001b[39m\u001b[38;5;241m.\u001b[39mdesc,\n\u001b[0;32m   (...)\u001b[0m\n\u001b[1;32m    109\u001b[0m     leave\u001b[38;5;241m=\u001b[39m\u001b[38;5;28mself\u001b[39m\u001b[38;5;241m.\u001b[39mkeep_progress_bar,\n\u001b[1;32m    110\u001b[0m ):\n\u001b[0;32m--> 111\u001b[0m     r \u001b[38;5;241m=\u001b[39m \u001b[38;5;28;01mawait\u001b[39;00m future\n\u001b[1;32m    112\u001b[0m     results\u001b[38;5;241m.\u001b[39mappend(r)\n\u001b[1;32m    114\u001b[0m \u001b[38;5;28;01mreturn\u001b[39;00m results\n",
      "File \u001b[0;32m~/anaconda3/envs/research2/lib/python3.11/asyncio/tasks.py:615\u001b[0m, in \u001b[0;36mas_completed.<locals>._wait_for_one\u001b[0;34m()\u001b[0m\n\u001b[1;32m    612\u001b[0m \u001b[38;5;28;01mif\u001b[39;00m f \u001b[38;5;129;01mis\u001b[39;00m \u001b[38;5;28;01mNone\u001b[39;00m:\n\u001b[1;32m    613\u001b[0m     \u001b[38;5;66;03m# Dummy value from _on_timeout().\u001b[39;00m\n\u001b[1;32m    614\u001b[0m     \u001b[38;5;28;01mraise\u001b[39;00m exceptions\u001b[38;5;241m.\u001b[39mTimeoutError\n\u001b[0;32m--> 615\u001b[0m \u001b[38;5;28;01mreturn\u001b[39;00m \u001b[43mf\u001b[49m\u001b[38;5;241;43m.\u001b[39;49m\u001b[43mresult\u001b[49m\u001b[43m(\u001b[49m\u001b[43m)\u001b[49m\n",
      "File \u001b[0;32m~/anaconda3/envs/research2/lib/python3.11/asyncio/futures.py:203\u001b[0m, in \u001b[0;36mFuture.result\u001b[0;34m(self)\u001b[0m\n\u001b[1;32m    201\u001b[0m \u001b[38;5;28mself\u001b[39m\u001b[38;5;241m.\u001b[39m__log_traceback \u001b[38;5;241m=\u001b[39m \u001b[38;5;28;01mFalse\u001b[39;00m\n\u001b[1;32m    202\u001b[0m \u001b[38;5;28;01mif\u001b[39;00m \u001b[38;5;28mself\u001b[39m\u001b[38;5;241m.\u001b[39m_exception \u001b[38;5;129;01mis\u001b[39;00m \u001b[38;5;129;01mnot\u001b[39;00m \u001b[38;5;28;01mNone\u001b[39;00m:\n\u001b[0;32m--> 203\u001b[0m     \u001b[38;5;28;01mraise\u001b[39;00m \u001b[38;5;28mself\u001b[39m\u001b[38;5;241m.\u001b[39m_exception\u001b[38;5;241m.\u001b[39mwith_traceback(\u001b[38;5;28mself\u001b[39m\u001b[38;5;241m.\u001b[39m_exception_tb)\n\u001b[1;32m    204\u001b[0m \u001b[38;5;28;01mreturn\u001b[39;00m \u001b[38;5;28mself\u001b[39m\u001b[38;5;241m.\u001b[39m_result\n",
      "File \u001b[0;32m~/anaconda3/envs/research2/lib/python3.11/asyncio/tasks.py:277\u001b[0m, in \u001b[0;36mTask.__step\u001b[0;34m(***failed resolving arguments***)\u001b[0m\n\u001b[1;32m    273\u001b[0m \u001b[38;5;28;01mtry\u001b[39;00m:\n\u001b[1;32m    274\u001b[0m     \u001b[38;5;28;01mif\u001b[39;00m exc \u001b[38;5;129;01mis\u001b[39;00m \u001b[38;5;28;01mNone\u001b[39;00m:\n\u001b[1;32m    275\u001b[0m         \u001b[38;5;66;03m# We use the `send` method directly, because coroutines\u001b[39;00m\n\u001b[1;32m    276\u001b[0m         \u001b[38;5;66;03m# don't have `__iter__` and `__next__` methods.\u001b[39;00m\n\u001b[0;32m--> 277\u001b[0m         result \u001b[38;5;241m=\u001b[39m coro\u001b[38;5;241m.\u001b[39msend(\u001b[38;5;28;01mNone\u001b[39;00m)\n\u001b[1;32m    278\u001b[0m     \u001b[38;5;28;01melse\u001b[39;00m:\n\u001b[1;32m    279\u001b[0m         result \u001b[38;5;241m=\u001b[39m coro\u001b[38;5;241m.\u001b[39mthrow(exc)\n",
      "File \u001b[0;32m~/anaconda3/envs/research2/lib/python3.11/site-packages/ragas/executor.py:34\u001b[0m, in \u001b[0;36mas_completed.<locals>.sema_coro\u001b[0;34m(coro)\u001b[0m\n\u001b[1;32m     32\u001b[0m \u001b[38;5;28;01masync\u001b[39;00m \u001b[38;5;28;01mdef\u001b[39;00m \u001b[38;5;21msema_coro\u001b[39m(coro):\n\u001b[1;32m     33\u001b[0m     \u001b[38;5;28;01masync\u001b[39;00m \u001b[38;5;28;01mwith\u001b[39;00m semaphore:\n\u001b[0;32m---> 34\u001b[0m         \u001b[38;5;28;01mreturn\u001b[39;00m \u001b[38;5;28;01mawait\u001b[39;00m coro\n",
      "File \u001b[0;32m~/anaconda3/envs/research2/lib/python3.11/site-packages/ragas/executor.py:60\u001b[0m, in \u001b[0;36mExecutor.wrap_callable_with_index.<locals>.wrapped_callable_async\u001b[0;34m(*args, **kwargs)\u001b[0m\n\u001b[1;32m     58\u001b[0m \u001b[38;5;28;01mexcept\u001b[39;00m \u001b[38;5;167;01mException\u001b[39;00m \u001b[38;5;28;01mas\u001b[39;00m e:\n\u001b[1;32m     59\u001b[0m     \u001b[38;5;28;01mif\u001b[39;00m \u001b[38;5;28mself\u001b[39m\u001b[38;5;241m.\u001b[39mraise_exceptions:\n\u001b[0;32m---> 60\u001b[0m         \u001b[38;5;28;01mraise\u001b[39;00m e\n\u001b[1;32m     61\u001b[0m     \u001b[38;5;28;01melse\u001b[39;00m:\n\u001b[1;32m     62\u001b[0m         exec_name \u001b[38;5;241m=\u001b[39m \u001b[38;5;28mtype\u001b[39m(e)\u001b[38;5;241m.\u001b[39m\u001b[38;5;18m__name__\u001b[39m\n",
      "File \u001b[0;32m~/anaconda3/envs/research2/lib/python3.11/site-packages/ragas/executor.py:54\u001b[0m, in \u001b[0;36mExecutor.wrap_callable_with_index.<locals>.wrapped_callable_async\u001b[0;34m(*args, **kwargs)\u001b[0m\n\u001b[1;32m     52\u001b[0m result \u001b[38;5;241m=\u001b[39m np\u001b[38;5;241m.\u001b[39mnan\n\u001b[1;32m     53\u001b[0m \u001b[38;5;28;01mtry\u001b[39;00m:\n\u001b[0;32m---> 54\u001b[0m     result \u001b[38;5;241m=\u001b[39m \u001b[38;5;28;01mawait\u001b[39;00m \u001b[38;5;28mcallable\u001b[39m(\u001b[38;5;241m*\u001b[39margs, \u001b[38;5;241m*\u001b[39m\u001b[38;5;241m*\u001b[39mkwargs)\n\u001b[1;32m     55\u001b[0m \u001b[38;5;28;01mexcept\u001b[39;00m MaxRetriesExceeded \u001b[38;5;28;01mas\u001b[39;00m e:\n\u001b[1;32m     56\u001b[0m     \u001b[38;5;66;03m# this only for testset generation v2\u001b[39;00m\n\u001b[1;32m     57\u001b[0m     logger\u001b[38;5;241m.\u001b[39mwarning(\u001b[38;5;124mf\u001b[39m\u001b[38;5;124m\"\u001b[39m\u001b[38;5;124mmax retries exceeded for \u001b[39m\u001b[38;5;132;01m{\u001b[39;00me\u001b[38;5;241m.\u001b[39mevolution\u001b[38;5;132;01m}\u001b[39;00m\u001b[38;5;124m\"\u001b[39m)\n",
      "File \u001b[0;32m~/anaconda3/envs/research2/lib/python3.11/site-packages/ragas/testset/extractor.py:49\u001b[0m, in \u001b[0;36mKeyphraseExtractor.extract\u001b[0;34m(self, node, is_async)\u001b[0m\n\u001b[1;32m     47\u001b[0m \u001b[38;5;28;01masync\u001b[39;00m \u001b[38;5;28;01mdef\u001b[39;00m \u001b[38;5;21mextract\u001b[39m(\u001b[38;5;28mself\u001b[39m, node: Node, is_async: \u001b[38;5;28mbool\u001b[39m \u001b[38;5;241m=\u001b[39m \u001b[38;5;28;01mTrue\u001b[39;00m) \u001b[38;5;241m-\u001b[39m\u001b[38;5;241m>\u001b[39m t\u001b[38;5;241m.\u001b[39mList[\u001b[38;5;28mstr\u001b[39m]:\n\u001b[1;32m     48\u001b[0m     prompt \u001b[38;5;241m=\u001b[39m \u001b[38;5;28mself\u001b[39m\u001b[38;5;241m.\u001b[39mextractor_prompt\u001b[38;5;241m.\u001b[39mformat(text\u001b[38;5;241m=\u001b[39mnode\u001b[38;5;241m.\u001b[39mpage_content)\n\u001b[0;32m---> 49\u001b[0m     results \u001b[38;5;241m=\u001b[39m \u001b[38;5;28;01mawait\u001b[39;00m \u001b[38;5;28mself\u001b[39m\u001b[38;5;241m.\u001b[39mllm\u001b[38;5;241m.\u001b[39mgenerate(prompt\u001b[38;5;241m=\u001b[39mprompt, is_async\u001b[38;5;241m=\u001b[39mis_async)\n\u001b[1;32m     50\u001b[0m     keyphrases \u001b[38;5;241m=\u001b[39m \u001b[38;5;28;01mawait\u001b[39;00m json_loader\u001b[38;5;241m.\u001b[39msafe_load(\n\u001b[1;32m     51\u001b[0m         results\u001b[38;5;241m.\u001b[39mgenerations[\u001b[38;5;241m0\u001b[39m][\u001b[38;5;241m0\u001b[39m]\u001b[38;5;241m.\u001b[39mtext\u001b[38;5;241m.\u001b[39mstrip(), llm\u001b[38;5;241m=\u001b[39m\u001b[38;5;28mself\u001b[39m\u001b[38;5;241m.\u001b[39mllm, is_async\u001b[38;5;241m=\u001b[39mis_async\n\u001b[1;32m     52\u001b[0m     )\n\u001b[1;32m     53\u001b[0m     keyphrases \u001b[38;5;241m=\u001b[39m keyphrases \u001b[38;5;28;01mif\u001b[39;00m \u001b[38;5;28misinstance\u001b[39m(keyphrases, \u001b[38;5;28mdict\u001b[39m) \u001b[38;5;28;01melse\u001b[39;00m {}\n",
      "File \u001b[0;32m~/anaconda3/envs/research2/lib/python3.11/site-packages/ragas/llms/base.py:97\u001b[0m, in \u001b[0;36mBaseRagasLLM.generate\u001b[0;34m(self, prompt, n, temperature, stop, callbacks, is_async)\u001b[0m\n\u001b[1;32m     93\u001b[0m \u001b[38;5;28;01mif\u001b[39;00m is_async:\n\u001b[1;32m     94\u001b[0m     agenerate_text_with_retry \u001b[38;5;241m=\u001b[39m add_async_retry(\n\u001b[1;32m     95\u001b[0m         \u001b[38;5;28mself\u001b[39m\u001b[38;5;241m.\u001b[39magenerate_text, \u001b[38;5;28mself\u001b[39m\u001b[38;5;241m.\u001b[39mrun_config\n\u001b[1;32m     96\u001b[0m     )\n\u001b[0;32m---> 97\u001b[0m     \u001b[38;5;28;01mreturn\u001b[39;00m \u001b[38;5;28;01mawait\u001b[39;00m agenerate_text_with_retry(\n\u001b[1;32m     98\u001b[0m         prompt\u001b[38;5;241m=\u001b[39mprompt,\n\u001b[1;32m     99\u001b[0m         n\u001b[38;5;241m=\u001b[39mn,\n\u001b[1;32m    100\u001b[0m         temperature\u001b[38;5;241m=\u001b[39mtemperature,\n\u001b[1;32m    101\u001b[0m         stop\u001b[38;5;241m=\u001b[39mstop,\n\u001b[1;32m    102\u001b[0m         callbacks\u001b[38;5;241m=\u001b[39mcallbacks,\n\u001b[1;32m    103\u001b[0m     )\n\u001b[1;32m    104\u001b[0m \u001b[38;5;28;01melse\u001b[39;00m:\n\u001b[1;32m    105\u001b[0m     loop \u001b[38;5;241m=\u001b[39m asyncio\u001b[38;5;241m.\u001b[39mget_event_loop()\n",
      "File \u001b[0;32m~/anaconda3/envs/research2/lib/python3.11/site-packages/tenacity/asyncio/__init__.py:189\u001b[0m, in \u001b[0;36mAsyncRetrying.wraps.<locals>.async_wrapped\u001b[0;34m(*args, **kwargs)\u001b[0m\n\u001b[1;32m    187\u001b[0m copy \u001b[38;5;241m=\u001b[39m \u001b[38;5;28mself\u001b[39m\u001b[38;5;241m.\u001b[39mcopy()\n\u001b[1;32m    188\u001b[0m async_wrapped\u001b[38;5;241m.\u001b[39mstatistics \u001b[38;5;241m=\u001b[39m copy\u001b[38;5;241m.\u001b[39mstatistics  \u001b[38;5;66;03m# type: ignore[attr-defined]\u001b[39;00m\n\u001b[0;32m--> 189\u001b[0m \u001b[38;5;28;01mreturn\u001b[39;00m \u001b[38;5;28;01mawait\u001b[39;00m copy(fn, \u001b[38;5;241m*\u001b[39margs, \u001b[38;5;241m*\u001b[39m\u001b[38;5;241m*\u001b[39mkwargs)\n",
      "File \u001b[0;32m~/anaconda3/envs/research2/lib/python3.11/site-packages/tenacity/asyncio/__init__.py:111\u001b[0m, in \u001b[0;36mAsyncRetrying.__call__\u001b[0;34m(self, fn, *args, **kwargs)\u001b[0m\n\u001b[1;32m    109\u001b[0m retry_state \u001b[38;5;241m=\u001b[39m RetryCallState(retry_object\u001b[38;5;241m=\u001b[39m\u001b[38;5;28mself\u001b[39m, fn\u001b[38;5;241m=\u001b[39mfn, args\u001b[38;5;241m=\u001b[39margs, kwargs\u001b[38;5;241m=\u001b[39mkwargs)\n\u001b[1;32m    110\u001b[0m \u001b[38;5;28;01mwhile\u001b[39;00m \u001b[38;5;28;01mTrue\u001b[39;00m:\n\u001b[0;32m--> 111\u001b[0m     do \u001b[38;5;241m=\u001b[39m \u001b[38;5;28;01mawait\u001b[39;00m \u001b[38;5;28mself\u001b[39m\u001b[38;5;241m.\u001b[39miter(retry_state\u001b[38;5;241m=\u001b[39mretry_state)\n\u001b[1;32m    112\u001b[0m     \u001b[38;5;28;01mif\u001b[39;00m \u001b[38;5;28misinstance\u001b[39m(do, DoAttempt):\n\u001b[1;32m    113\u001b[0m         \u001b[38;5;28;01mtry\u001b[39;00m:\n",
      "File \u001b[0;32m~/anaconda3/envs/research2/lib/python3.11/site-packages/tenacity/asyncio/__init__.py:153\u001b[0m, in \u001b[0;36mAsyncRetrying.iter\u001b[0;34m(self, retry_state)\u001b[0m\n\u001b[1;32m    151\u001b[0m result \u001b[38;5;241m=\u001b[39m \u001b[38;5;28;01mNone\u001b[39;00m\n\u001b[1;32m    152\u001b[0m \u001b[38;5;28;01mfor\u001b[39;00m action \u001b[38;5;129;01min\u001b[39;00m \u001b[38;5;28mself\u001b[39m\u001b[38;5;241m.\u001b[39miter_state\u001b[38;5;241m.\u001b[39mactions:\n\u001b[0;32m--> 153\u001b[0m     result \u001b[38;5;241m=\u001b[39m \u001b[38;5;28;01mawait\u001b[39;00m action(retry_state)\n\u001b[1;32m    154\u001b[0m \u001b[38;5;28;01mreturn\u001b[39;00m result\n",
      "File \u001b[0;32m~/anaconda3/envs/research2/lib/python3.11/site-packages/tenacity/_utils.py:99\u001b[0m, in \u001b[0;36mwrap_to_async_func.<locals>.inner\u001b[0;34m(*args, **kwargs)\u001b[0m\n\u001b[1;32m     98\u001b[0m \u001b[38;5;28;01masync\u001b[39;00m \u001b[38;5;28;01mdef\u001b[39;00m \u001b[38;5;21minner\u001b[39m(\u001b[38;5;241m*\u001b[39margs: typing\u001b[38;5;241m.\u001b[39mAny, \u001b[38;5;241m*\u001b[39m\u001b[38;5;241m*\u001b[39mkwargs: typing\u001b[38;5;241m.\u001b[39mAny) \u001b[38;5;241m-\u001b[39m\u001b[38;5;241m>\u001b[39m typing\u001b[38;5;241m.\u001b[39mAny:\n\u001b[0;32m---> 99\u001b[0m     \u001b[38;5;28;01mreturn\u001b[39;00m \u001b[43mcall\u001b[49m\u001b[43m(\u001b[49m\u001b[38;5;241;43m*\u001b[39;49m\u001b[43margs\u001b[49m\u001b[43m,\u001b[49m\u001b[43m \u001b[49m\u001b[38;5;241;43m*\u001b[39;49m\u001b[38;5;241;43m*\u001b[39;49m\u001b[43mkwargs\u001b[49m\u001b[43m)\u001b[49m\n",
      "File \u001b[0;32m~/anaconda3/envs/research2/lib/python3.11/site-packages/tenacity/__init__.py:418\u001b[0m, in \u001b[0;36mBaseRetrying._post_stop_check_actions.<locals>.exc_check\u001b[0;34m(rs)\u001b[0m\n\u001b[1;32m    416\u001b[0m retry_exc \u001b[38;5;241m=\u001b[39m \u001b[38;5;28mself\u001b[39m\u001b[38;5;241m.\u001b[39mretry_error_cls(fut)\n\u001b[1;32m    417\u001b[0m \u001b[38;5;28;01mif\u001b[39;00m \u001b[38;5;28mself\u001b[39m\u001b[38;5;241m.\u001b[39mreraise:\n\u001b[0;32m--> 418\u001b[0m     \u001b[38;5;28;01mraise\u001b[39;00m \u001b[43mretry_exc\u001b[49m\u001b[38;5;241;43m.\u001b[39;49m\u001b[43mreraise\u001b[49m\u001b[43m(\u001b[49m\u001b[43m)\u001b[49m\n\u001b[1;32m    419\u001b[0m \u001b[38;5;28;01mraise\u001b[39;00m retry_exc \u001b[38;5;28;01mfrom\u001b[39;00m \u001b[38;5;21;01mfut\u001b[39;00m\u001b[38;5;21;01m.\u001b[39;00m\u001b[38;5;21;01mexception\u001b[39;00m()\n",
      "File \u001b[0;32m~/anaconda3/envs/research2/lib/python3.11/site-packages/tenacity/__init__.py:185\u001b[0m, in \u001b[0;36mRetryError.reraise\u001b[0;34m(self)\u001b[0m\n\u001b[1;32m    183\u001b[0m \u001b[38;5;28;01mdef\u001b[39;00m \u001b[38;5;21mreraise\u001b[39m(\u001b[38;5;28mself\u001b[39m) \u001b[38;5;241m-\u001b[39m\u001b[38;5;241m>\u001b[39m t\u001b[38;5;241m.\u001b[39mNoReturn:\n\u001b[1;32m    184\u001b[0m     \u001b[38;5;28;01mif\u001b[39;00m \u001b[38;5;28mself\u001b[39m\u001b[38;5;241m.\u001b[39mlast_attempt\u001b[38;5;241m.\u001b[39mfailed:\n\u001b[0;32m--> 185\u001b[0m         \u001b[38;5;28;01mraise\u001b[39;00m \u001b[38;5;28;43mself\u001b[39;49m\u001b[38;5;241;43m.\u001b[39;49m\u001b[43mlast_attempt\u001b[49m\u001b[38;5;241;43m.\u001b[39;49m\u001b[43mresult\u001b[49m\u001b[43m(\u001b[49m\u001b[43m)\u001b[49m\n\u001b[1;32m    186\u001b[0m     \u001b[38;5;28;01mraise\u001b[39;00m \u001b[38;5;28mself\u001b[39m\n",
      "File \u001b[0;32m~/anaconda3/envs/research2/lib/python3.11/concurrent/futures/_base.py:449\u001b[0m, in \u001b[0;36mFuture.result\u001b[0;34m(self, timeout)\u001b[0m\n\u001b[1;32m    447\u001b[0m     \u001b[38;5;28;01mraise\u001b[39;00m CancelledError()\n\u001b[1;32m    448\u001b[0m \u001b[38;5;28;01melif\u001b[39;00m \u001b[38;5;28mself\u001b[39m\u001b[38;5;241m.\u001b[39m_state \u001b[38;5;241m==\u001b[39m FINISHED:\n\u001b[0;32m--> 449\u001b[0m     \u001b[38;5;28;01mreturn\u001b[39;00m \u001b[38;5;28;43mself\u001b[39;49m\u001b[38;5;241;43m.\u001b[39;49m\u001b[43m__get_result\u001b[49m\u001b[43m(\u001b[49m\u001b[43m)\u001b[49m\n\u001b[1;32m    451\u001b[0m \u001b[38;5;28mself\u001b[39m\u001b[38;5;241m.\u001b[39m_condition\u001b[38;5;241m.\u001b[39mwait(timeout)\n\u001b[1;32m    453\u001b[0m \u001b[38;5;28;01mif\u001b[39;00m \u001b[38;5;28mself\u001b[39m\u001b[38;5;241m.\u001b[39m_state \u001b[38;5;129;01min\u001b[39;00m [CANCELLED, CANCELLED_AND_NOTIFIED]:\n",
      "File \u001b[0;32m~/anaconda3/envs/research2/lib/python3.11/concurrent/futures/_base.py:401\u001b[0m, in \u001b[0;36mFuture.__get_result\u001b[0;34m(self)\u001b[0m\n\u001b[1;32m    399\u001b[0m \u001b[38;5;28;01mif\u001b[39;00m \u001b[38;5;28mself\u001b[39m\u001b[38;5;241m.\u001b[39m_exception:\n\u001b[1;32m    400\u001b[0m     \u001b[38;5;28;01mtry\u001b[39;00m:\n\u001b[0;32m--> 401\u001b[0m         \u001b[38;5;28;01mraise\u001b[39;00m \u001b[38;5;28mself\u001b[39m\u001b[38;5;241m.\u001b[39m_exception\n\u001b[1;32m    402\u001b[0m     \u001b[38;5;28;01mfinally\u001b[39;00m:\n\u001b[1;32m    403\u001b[0m         \u001b[38;5;66;03m# Break a reference cycle with the exception in self._exception\u001b[39;00m\n\u001b[1;32m    404\u001b[0m         \u001b[38;5;28mself\u001b[39m \u001b[38;5;241m=\u001b[39m \u001b[38;5;28;01mNone\u001b[39;00m\n",
      "File \u001b[0;32m~/anaconda3/envs/research2/lib/python3.11/site-packages/tenacity/asyncio/__init__.py:114\u001b[0m, in \u001b[0;36mAsyncRetrying.__call__\u001b[0;34m(self, fn, *args, **kwargs)\u001b[0m\n\u001b[1;32m    112\u001b[0m \u001b[38;5;28;01mif\u001b[39;00m \u001b[38;5;28misinstance\u001b[39m(do, DoAttempt):\n\u001b[1;32m    113\u001b[0m     \u001b[38;5;28;01mtry\u001b[39;00m:\n\u001b[0;32m--> 114\u001b[0m         result \u001b[38;5;241m=\u001b[39m \u001b[38;5;28;01mawait\u001b[39;00m fn(\u001b[38;5;241m*\u001b[39margs, \u001b[38;5;241m*\u001b[39m\u001b[38;5;241m*\u001b[39mkwargs)\n\u001b[1;32m    115\u001b[0m     \u001b[38;5;28;01mexcept\u001b[39;00m \u001b[38;5;167;01mBaseException\u001b[39;00m:  \u001b[38;5;66;03m# noqa: B902\u001b[39;00m\n\u001b[1;32m    116\u001b[0m         retry_state\u001b[38;5;241m.\u001b[39mset_exception(sys\u001b[38;5;241m.\u001b[39mexc_info())  \u001b[38;5;66;03m# type: ignore[arg-type]\u001b[39;00m\n",
      "File \u001b[0;32m~/anaconda3/envs/research2/lib/python3.11/site-packages/ragas/llms/base.py:187\u001b[0m, in \u001b[0;36mLangchainLLMWrapper.agenerate_text\u001b[0;34m(self, prompt, n, temperature, stop, callbacks)\u001b[0m\n\u001b[1;32m    179\u001b[0m     \u001b[38;5;28;01mreturn\u001b[39;00m \u001b[38;5;28;01mawait\u001b[39;00m \u001b[38;5;28mself\u001b[39m\u001b[38;5;241m.\u001b[39mlangchain_llm\u001b[38;5;241m.\u001b[39magenerate_prompt(\n\u001b[1;32m    180\u001b[0m         prompts\u001b[38;5;241m=\u001b[39m[prompt],\n\u001b[1;32m    181\u001b[0m         n\u001b[38;5;241m=\u001b[39mn,\n\u001b[0;32m   (...)\u001b[0m\n\u001b[1;32m    184\u001b[0m         callbacks\u001b[38;5;241m=\u001b[39mcallbacks,\n\u001b[1;32m    185\u001b[0m     )\n\u001b[1;32m    186\u001b[0m \u001b[38;5;28;01melse\u001b[39;00m:\n\u001b[0;32m--> 187\u001b[0m     result \u001b[38;5;241m=\u001b[39m \u001b[38;5;28;01mawait\u001b[39;00m \u001b[38;5;28;43mself\u001b[39;49m\u001b[38;5;241;43m.\u001b[39;49m\u001b[43mlangchain_llm\u001b[49m\u001b[38;5;241;43m.\u001b[39;49m\u001b[43magenerate_prompt\u001b[49m(\n\u001b[1;32m    188\u001b[0m         prompts\u001b[38;5;241m=\u001b[39m[prompt] \u001b[38;5;241m*\u001b[39m n,\n\u001b[1;32m    189\u001b[0m         temperature\u001b[38;5;241m=\u001b[39mtemperature,\n\u001b[1;32m    190\u001b[0m         stop\u001b[38;5;241m=\u001b[39mstop,\n\u001b[1;32m    191\u001b[0m         callbacks\u001b[38;5;241m=\u001b[39mcallbacks,\n\u001b[1;32m    192\u001b[0m     )\n\u001b[1;32m    193\u001b[0m     \u001b[38;5;66;03m# make LLMResult.generation appear as if it was n_completions\u001b[39;00m\n\u001b[1;32m    194\u001b[0m     \u001b[38;5;66;03m# note that LLMResult.runs is still a list that represents each run\u001b[39;00m\n\u001b[1;32m    195\u001b[0m     generations \u001b[38;5;241m=\u001b[39m [[g[\u001b[38;5;241m0\u001b[39m] \u001b[38;5;28;01mfor\u001b[39;00m g \u001b[38;5;129;01min\u001b[39;00m result\u001b[38;5;241m.\u001b[39mgenerations]]\n",
      "\u001b[0;31mAttributeError\u001b[0m: 'LangchainLLMWrapper' object has no attribute 'agenerate_prompt'"
     ]
    }
   ],
   "source": [
    "# generate testset\n",
    "testset = generator.generate_with_langchain_docs(documents, test_size=10, distributions={simple: 0.5, reasoning: 0.25, multi_context: 0.25})"
   ]
  },
  {
   "cell_type": "code",
   "execution_count": null,
   "id": "2c99265f-0c57-405d-8737-dc12ccfc576b",
   "metadata": {},
   "outputs": [],
   "source": []
  }
 ],
 "metadata": {
  "kernelspec": {
   "display_name": "research2",
   "language": "python",
   "name": "research2"
  },
  "language_info": {
   "codemirror_mode": {
    "name": "ipython",
    "version": 3
   },
   "file_extension": ".py",
   "mimetype": "text/x-python",
   "name": "python",
   "nbconvert_exporter": "python",
   "pygments_lexer": "ipython3",
   "version": "3.11.8"
  }
 },
 "nbformat": 4,
 "nbformat_minor": 5
}
