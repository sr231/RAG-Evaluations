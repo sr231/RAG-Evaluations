{
 "cells": [
  {
   "cell_type": "code",
   "execution_count": 26,
   "id": "0f13f959-5e0b-4e76-b116-da5da6a04ae6",
   "metadata": {},
   "outputs": [],
   "source": [
    "# set do not track variable to RAGAS\n",
    "# more info: https://github.com/explodinggradients/ragas/issues/49\n",
    "import os\n",
    "os.environ[\"RAGAS_DO_NOT_TRACK\"] = \"True\""
   ]
  },
  {
   "cell_type": "code",
   "execution_count": 2,
   "id": "f30fd81d-ce93-4e03-bbec-862ece105b76",
   "metadata": {},
   "outputs": [],
   "source": [
    "import logging\n",
    "import sys\n",
    "import google.generativeai as genai\n",
    "import pathlib\n",
    "import textwrap\n",
    "import ragas\n",
    "from langchain_google_genai import ChatGoogleGenerativeAI, GoogleGenerativeAIEmbeddings\n",
    "from llama_index.core import Document, VectorStoreIndex, Settings, StorageContext, load_index_from_storage\n",
    "from llama_index.vector_stores.faiss import FaissVectorStore\n",
    "import pandas as pd\n",
    "import faiss\n",
    "\n",
    "from IPython.display import display\n",
    "from IPython.display import Markdown\n",
    "\n",
    "def to_markdown(text):\n",
    "  text = text.replace('•', '  *')\n",
    "  return Markdown(textwrap.indent(text, '> ', predicate=lambda _: True))"
   ]
  },
  {
   "cell_type": "code",
   "execution_count": 3,
   "id": "9ca08633-0877-4773-93ab-d4a78b8f5662",
   "metadata": {},
   "outputs": [],
   "source": [
    "genai.configure(api_key=os.environ[\"GOOGLE_API_KEY\"])"
   ]
  },
  {
   "cell_type": "code",
   "execution_count": 4,
   "id": "11b65e5d-d679-49c4-ade6-2719fecb55d4",
   "metadata": {},
   "outputs": [
    {
     "data": {
      "text/plain": [
       "True"
      ]
     },
     "execution_count": 4,
     "metadata": {},
     "output_type": "execute_result"
    }
   ],
   "source": [
    "ragas._analytics.do_not_track()"
   ]
  },
  {
   "cell_type": "code",
   "execution_count": 5,
   "id": "5f5c3780-22bc-42d7-8653-107c0e0c26b8",
   "metadata": {},
   "outputs": [
    {
     "name": "stderr",
     "output_type": "stream",
     "text": [
      "WARNING: All log messages before absl::InitializeLog() is called are written to STDERR\n",
      "I0000 00:00:1724417035.249609     591 check_gcp_environment.cc:61] BIOS data file does not exist or cannot be opened.\n"
     ]
    }
   ],
   "source": [
    "llm = ChatGoogleGenerativeAI(model=\"gemini-1.5-flash\")\n",
    "#result = llm.invoke(\"Write me a party invitation to a one year's old's dinosaur birthday party.\")"
   ]
  },
  {
   "cell_type": "code",
   "execution_count": 6,
   "id": "5248aab9-6fcd-46bf-b260-773c23b8845d",
   "metadata": {},
   "outputs": [],
   "source": [
    "# create document database\n",
    "sotu = []\n",
    "files = [\"./Speeches/state_of_the_union_042921.txt\", \"./Speeches/state_of_the_union_030122.txt\", \"./Speeches/state_of_the_union_020723.txt\", \"./Speeches/state_of_the_union_030724.txt\"]\n",
    "for i in files:\n",
    "    with open(i) as file:\n",
    "        for line in file:\n",
    "            nl = line.rstrip()\n",
    "            if nl != '':\n",
    "                sotu.append(nl)"
   ]
  },
  {
   "cell_type": "code",
   "execution_count": 7,
   "id": "90db689f-b0e4-484f-a0f4-c30eb169347c",
   "metadata": {},
   "outputs": [
    {
     "data": {
      "text/plain": [
       "1460"
      ]
     },
     "execution_count": 7,
     "metadata": {},
     "output_type": "execute_result"
    }
   ],
   "source": [
    "len(sotu)"
   ]
  },
  {
   "cell_type": "code",
   "execution_count": 8,
   "id": "2bd48335-0c8c-4f86-ae1b-d1832ff6a52b",
   "metadata": {},
   "outputs": [],
   "source": [
    "documents = [Document(text=line) for line in sotu]"
   ]
  },
  {
   "cell_type": "code",
   "execution_count": 9,
   "id": "5fb9bf47-2a72-41a7-af8e-ae663bf95e47",
   "metadata": {},
   "outputs": [
    {
     "data": {
      "text/plain": [
       "Document(id_='33453b68-a0a6-4927-ba92-32ebda65d7b5', embedding=None, metadata={}, excluded_embed_metadata_keys=[], excluded_llm_metadata_keys=[], relationships={}, text='May God protect our troops.', mimetype='text/plain', start_char_idx=None, end_char_idx=None, text_template='{metadata_str}\\n\\n{content}', metadata_template='{key}: {value}', metadata_seperator='\\n')"
      ]
     },
     "execution_count": 9,
     "metadata": {},
     "output_type": "execute_result"
    }
   ],
   "source": [
    "documents[-1]"
   ]
  },
  {
   "cell_type": "code",
   "execution_count": 10,
   "id": "53ed3997-3a20-4a99-a9c1-7cc6d6a217e6",
   "metadata": {},
   "outputs": [
    {
     "name": "stdout",
     "output_type": "stream",
     "text": [
      "True\n"
     ]
    }
   ],
   "source": [
    "# following these tutorials\n",
    "# https://learnbybuilding.ai/tutorials/rag-chatbot-on-podcast-llamaindex-faiss-openai\n",
    "# https://medium.com/@saurabhgssingh/understanding-rag-building-a-rag-system-from-scratch-with-gemini-api-b11ad9fc1bf7\n",
    "\n",
    "d = 768 # dimensions of ___, the embedding model that we're going to use\n",
    "faiss_index = faiss.IndexFlatL2(d)\n",
    "print(faiss_index.is_trained)"
   ]
  },
  {
   "cell_type": "code",
   "execution_count": 11,
   "id": "490599ac-6499-4174-999d-4ddc0609fd6e",
   "metadata": {},
   "outputs": [],
   "source": [
    "doc_embeddings = GoogleGenerativeAIEmbeddings(model=\"models/text-embedding-004\") # optional: task_type=\"RETRIEVAL_DOCUMENT\"\n",
    "Settings.embed_model = doc_embeddings\n",
    "#vector = embeddings.embed_query(\"hello, world!\")\n",
    "#vector[:5]"
   ]
  },
  {
   "cell_type": "code",
   "execution_count": 12,
   "id": "c24d9337-5832-47d6-90df-6e73b3de8a9e",
   "metadata": {},
   "outputs": [],
   "source": [
    "logging.basicConfig(stream=sys.stdout, level=logging.INFO)\n",
    "logging.getLogger().addHandler(logging.StreamHandler(stream=sys.stdout))"
   ]
  },
  {
   "cell_type": "code",
   "execution_count": 13,
   "id": "f7340422-e457-4697-aea8-23f6d24c67a8",
   "metadata": {},
   "outputs": [],
   "source": [
    "#from llama_index import ServiceContext, set_global_service_context\n",
    "#service_context = ServiceContext.from_defaults(llm=llm, embed_model=embededdings)\n",
    "#set_global_service_context(service_context)\n",
    "\n",
    "Settings.llm = llm"
   ]
  },
  {
   "cell_type": "code",
   "execution_count": 14,
   "id": "d3171f73-723f-40f5-91d3-14e0f26173e0",
   "metadata": {},
   "outputs": [],
   "source": [
    "## uncomment for when you need to re-embed and vectorize documents\n",
    "## otherwise, doing local loading below\n",
    "#vector_store = FaissVectorStore(faiss_index=faiss_index)\n",
    "#storage_context = StorageContext.from_defaults(vector_store=vector_store)\n",
    "#index = VectorStoreIndex.from_documents(\n",
    "#    documents, storage_context=storage_context, show_progress=True\n",
    "#)\n",
    "## save index to disk\n",
    "#index.storage_context.persist()\n",
    "#index"
   ]
  },
  {
   "cell_type": "code",
   "execution_count": 15,
   "id": "60c8a330-0b12-434d-bc1c-4d8a7a1e32ae",
   "metadata": {},
   "outputs": [
    {
     "name": "stdout",
     "output_type": "stream",
     "text": [
      "INFO:root:Loading llama_index.vector_stores.faiss.base from ./storage/default__vector_store.json.\n",
      "Loading llama_index.vector_stores.faiss.base from ./storage/default__vector_store.json.\n",
      "INFO:llama_index.core.indices.loading:Loading all indices.\n",
      "Loading all indices.\n"
     ]
    }
   ],
   "source": [
    "# load index from disk\n",
    "vector_store = FaissVectorStore.from_persist_dir(\"./storage\")\n",
    "storage_context = StorageContext.from_defaults(\n",
    "    vector_store=vector_store, persist_dir=\"./storage\"\n",
    ")\n",
    "index = load_index_from_storage(storage_context=storage_context)"
   ]
  },
  {
   "cell_type": "code",
   "execution_count": 16,
   "id": "bcff60d7-d40f-4346-af9f-cfd9ab812e21",
   "metadata": {},
   "outputs": [
    {
     "data": {
      "text/plain": [
       "<llama_index.core.indices.vector_store.base.VectorStoreIndex at 0x7f63bc166990>"
      ]
     },
     "execution_count": 16,
     "metadata": {},
     "output_type": "execute_result"
    }
   ],
   "source": [
    "index"
   ]
  },
  {
   "cell_type": "code",
   "execution_count": 19,
   "id": "8ba1e938-d2bc-4ef3-a9d2-f2bc01a41e98",
   "metadata": {},
   "outputs": [],
   "source": [
    "query_engine = index.as_query_engine(similarity_top_k=10)"
   ]
  },
  {
   "cell_type": "code",
   "execution_count": null,
   "id": "2026088c-515b-4933-9ec9-d3a616870533",
   "metadata": {},
   "outputs": [],
   "source": [
    "query = \"What has the President done related to healthcare?\"\n",
    "response = query_engine.query(query)"
   ]
  },
  {
   "cell_type": "code",
   "execution_count": 18,
   "id": "a13c4949-af9b-43da-9954-bebdd2cdbdaa",
   "metadata": {},
   "outputs": [
    {
     "data": {
      "text/plain": [
       "'The President has made significant efforts to improve healthcare access and affordability for Americans. They have expanded access to healthcare through the Affordable Care Act, lowered healthcare premiums for working families, and taken steps to reduce prescription drug costs. They have also re-ignited the Cancer Moonshot initiative, aimed at finding a cure for cancer. \\n'"
      ]
     },
     "execution_count": 18,
     "metadata": {},
     "output_type": "execute_result"
    }
   ],
   "source": [
    "response.response"
   ]
  },
  {
   "cell_type": "code",
   "execution_count": 19,
   "id": "1e0178b0-ee47-4443-b8fa-c5cb3b4de228",
   "metadata": {},
   "outputs": [
    {
     "name": "stdout",
     "output_type": "stream",
     "text": [
      "0.7506474256515503 -> I’m pleased to say that more Americans have health insurance now than ever in history.\n",
      "0.7599508166313171 -> During these 100 days, an additional 800,000 Americans enrolled in the Affordable Care Act when I established the special sign-up period to do that — 800,000 in that period.\n",
      "0.7667317390441895 -> The Affordable Care Act has been a lifeline for millions of Americans, protecting people with preexisting conditions, protecting women’s health.  And the pandemic has demonstrated how badly — how badly it’s needed.  Let’s lower deductibles for working families on the Affordable Care — in the Affordable Care Act.  (Applause.)  And let’s lower prescription drug costs.  (Applause.)\n",
      "0.796398401260376 -> A president, my predecessor, who failed the most basic duty. Any President owes the American people the duty to care.\n",
      "0.801885724067688 -> Over one hundred million of you can no longer be denied health insurance because of pre-existing conditions.\n",
      "0.8065693378448486 -> I enacted tax credits that save $800 per person per year reducing health care premiums for millions of working families.\n",
      "0.8096300363540649 -> A record 16 million people are enrolled under the Affordable Care Act.\n",
      "0.8154944181442261 -> And fourth, last year Jill and I re-ignited the Cancer Moonshot that President Obama asked me to lead in our Administration.\n",
      "0.8243342638015747 -> We’ve talked about it long enough.  Democrats and Republicans, let’s get it done this year.  This is all about a simple premise: Healthcare should be a right, not a privilege in America.  (Applause.)\n",
      "0.8246870636940002 -> I get it. With the Inflation Reduction Act that I signed into law, we’re taking on powerful interests to bring your health care costs down so you can sleep better at night.\n"
     ]
    }
   ],
   "source": [
    "for node in response.source_nodes:\n",
    "    print(f\"{node.get_score()} -> {node.text}\")"
   ]
  },
  {
   "cell_type": "code",
   "execution_count": 20,
   "id": "35114936-2d0c-4b06-99d7-16b4699d9388",
   "metadata": {},
   "outputs": [],
   "source": [
    "#result = genai.embed_content(\n",
    "#    model=\"models/text-embedding-004\",\n",
    "#    content=\"What is the meaning of life?\",\n",
    "#    task_type=\"retrieval_document\",\n",
    "#    title=\"Embedding of single string\")"
   ]
  },
  {
   "cell_type": "code",
   "execution_count": 20,
   "id": "972fd7ce-ab58-42b9-962a-e604172eb74c",
   "metadata": {},
   "outputs": [],
   "source": [
    "chat_engine = index.as_chat_engine(similarity_top_k=10, chat_mode='context')"
   ]
  },
  {
   "cell_type": "code",
   "execution_count": 21,
   "id": "116cf23e-1423-477a-9bd3-ea0272ee5083",
   "metadata": {},
   "outputs": [],
   "source": [
    "query = \"What does the President say about Congress during these 4 years?\"\n",
    "response = chat_engine.chat(query)"
   ]
  },
  {
   "cell_type": "code",
   "execution_count": 22,
   "id": "7f4124a0-55f3-48dd-bdaa-07bcb3717e96",
   "metadata": {},
   "outputs": [
    {
     "data": {
      "text/plain": [
       "'The provided text doesn\\'t offer any specific insights into the President\\'s views on Congress over a 4-year period. \\n\\nHere\\'s what we can glean from the excerpt:\\n\\n* **He acknowledges the potential for bipartisan cooperation:**  He states, \"To my Republican friends, if we could work together in the last Congress, there is no reason we can’t work together in this new Congress.\" This suggests he believes collaboration is possible.\\n* **He\\'s optimistic about the future:**  He declares \"the State of the Union is strong\" and attributes this to the strength of the American people. This implies a positive outlook on the nation\\'s future, which could be influenced by Congress\\'s actions.\\n\\nHowever, the excerpt doesn\\'t provide any specific criticisms or praise of Congress\\'s actions during the past four years. To understand the President\\'s full perspective, you\\'d need to analyze more of his speeches, interviews, and official statements. \\n'"
      ]
     },
     "execution_count": 22,
     "metadata": {},
     "output_type": "execute_result"
    }
   ],
   "source": [
    "response.response"
   ]
  },
  {
   "cell_type": "code",
   "execution_count": 23,
   "id": "2661c93d-c075-41ee-a5e8-ef5ae67e0265",
   "metadata": {},
   "outputs": [
    {
     "name": "stdout",
     "output_type": "stream",
     "text": [
      "The provided text doesn't offer any specific insights into the President's views on Congress over a 4-year period. \n",
      "\n",
      "Here's what we can glean from the excerpt:\n",
      "\n",
      "* **He acknowledges the potential for bipartisan cooperation:**  He states, \"To my Republican friends, if we could work together in the last Congress, there is no reason we can’t work together in this new Congress.\" This suggests he believes collaboration is possible.\n",
      "* **He's optimistic about the future:**  He declares \"the State of the Union is strong\" and attributes this to the strength of the American people. This implies a positive outlook on the nation's future, which could be influenced by Congress's actions.\n",
      "\n",
      "However, the excerpt doesn't provide any specific criticisms or praise of Congress's actions during the past four years. To understand the President's full perspective, you'd need to analyze more of his speeches, interviews, and official statements. \n",
      "\n"
     ]
    }
   ],
   "source": [
    "print(response.response)"
   ]
  },
  {
   "cell_type": "code",
   "execution_count": 25,
   "id": "aa970253-2559-4803-b390-c1f81fdc97d5",
   "metadata": {},
   "outputs": [
    {
     "name": "stdout",
     "output_type": "stream",
     "text": [
      "0.7652876377105713 -> Mr. Speaker. Madam Vice President. Members of Congress. My Fellow Americans.\n",
      "0.7749111652374268 -> Tonight I come to the same chamber to address the nation.\n",
      "0.8328826427459717 -> A president, my predecessor, who failed the most basic duty. Any President owes the American people the duty to care.\n",
      "0.8343376517295837 -> And I will always be a president for all Americans!\n",
      "0.842502236366272 -> My Republican friends you owe it to the American people to get this bill done.\n",
      "0.8441706895828247 -> And if my predecessor is watching instead of playing politics and pressuring members of Congress to block this bill, join me in telling Congress to pass it!\n",
      "0.8499408960342407 -> And yes, my purpose tonight is to both wake up this Congress, and alert the American people that this is no ordinary moment either.\n",
      "0.852456271648407 -> Meanwhile, my predecessor told the NRA he’s proud he did nothing on guns when he was President.\n",
      "0.8647689819335938 -> I signed a bipartisan budget deal that will cut another trillion dollars over the next decade.\n",
      "0.8650350570678711 -> I say this to Congress: we must stand up to Putin. Send me the Bipartisan National Security Bill.\n"
     ]
    }
   ],
   "source": [
    "for node in response.source_nodes:\n",
    "    print(f\"{node.get_score()} -> {node.text}\")"
   ]
  },
  {
   "cell_type": "code",
   "execution_count": 24,
   "id": "97057f9c-ffbb-493c-9ee6-819fb1fdf2e8",
   "metadata": {},
   "outputs": [
    {
     "data": {
      "text/plain": [
       "[ChatMessage(role=<MessageRole.USER: 'user'>, content='What does the President say about Congress during these 4 years?', additional_kwargs={}),\n",
       " ChatMessage(role=<MessageRole.ASSISTANT: 'assistant'>, content='The provided text doesn\\'t offer any specific insights into the President\\'s views on Congress over a 4-year period. \\n\\nHere\\'s what we can glean from the excerpt:\\n\\n* **He acknowledges the potential for bipartisan cooperation:**  He states, \"To my Republican friends, if we could work together in the last Congress, there is no reason we can’t work together in this new Congress.\" This suggests he believes collaboration is possible.\\n* **He\\'s optimistic about the future:**  He declares \"the State of the Union is strong\" and attributes this to the strength of the American people. This implies a positive outlook on the nation\\'s future, which could be influenced by Congress\\'s actions.\\n\\nHowever, the excerpt doesn\\'t provide any specific criticisms or praise of Congress\\'s actions during the past four years. To understand the President\\'s full perspective, you\\'d need to analyze more of his speeches, interviews, and official statements. \\n', additional_kwargs={})]"
      ]
     },
     "execution_count": 24,
     "metadata": {},
     "output_type": "execute_result"
    }
   ],
   "source": [
    "chat_engine.chat_history"
   ]
  },
  {
   "cell_type": "code",
   "execution_count": 25,
   "id": "6ada277f-4bfc-4f13-9691-a448d5858b99",
   "metadata": {},
   "outputs": [],
   "source": [
    "query2 = \"The provided text are 4 years of speeches by the President. What does the President say about Congress during those 4 years?\"\n",
    "response2 = chat_engine.chat(query2)"
   ]
  },
  {
   "cell_type": "code",
   "execution_count": 26,
   "id": "ec53f6d0-92e8-464d-bd2d-038b72f9a9f3",
   "metadata": {},
   "outputs": [
    {
     "name": "stdout",
     "output_type": "stream",
     "text": [
      "You're right! I apologize for my previous response.  I was focusing too narrowly on the excerpt provided, not the entirety of the 4 years' worth of speeches. \n",
      "\n",
      "To accurately assess the President's views on Congress over four years, we would need to analyze a significant amount of text. Here's a framework for what we could look for:\n",
      "\n",
      "* **Tone and Language:**  Does the President use positive or negative language when referring to Congress? Are there specific terms like \"bipartisan,\" \"gridlock,\" or \"divided\" that recur?\n",
      "* **Specific Actions:** Does he praise or criticize specific actions taken by Congress, such as passing legislation, confirming appointments, or conducting investigations?\n",
      "* **Calls to Action:**  Does he call on Congress to take specific actions or address particular issues?  \n",
      "* **Legislative Successes:**  Does he highlight any legislation passed in collaboration with Congress? \n",
      "* **Themes and Priorities:**  Do his speeches reveal any overarching themes about how he views Congress's role in governing? \n",
      "\n",
      "Without the full text of the speeches, it's impossible to give a definitive answer. However, by focusing on these aspects, we could potentially gain a clearer understanding of the President's evolving perspective on Congress throughout his term. \n",
      "\n"
     ]
    }
   ],
   "source": [
    "print(response2.response)"
   ]
  },
  {
   "cell_type": "code",
   "execution_count": 27,
   "id": "6aebe89c-5a78-450c-9c9b-2f96187d7791",
   "metadata": {},
   "outputs": [
    {
     "name": "stdout",
     "output_type": "stream",
     "text": [
      "0.6518715620040894 -> Throughout our history, Presidents have come to this chamber to speak to Congress, to the nation, and to the world to declare war, to celebrate peace, to announce new plans and possibilities.\n",
      "0.7356963157653809 -> Mr. Speaker. Madam Vice President. Members of Congress. My Fellow Americans.\n",
      "0.748851478099823 -> So on this night, in our 245th year as a nation, I have come to report on the State of the Union.\n",
      "0.7538517713546753 -> Madam Speaker, Madam Vice President, our First Lady and Second Gentleman. Members of Congress and the Cabinet. Justices of the Supreme Court. My fellow Americans.\n",
      "0.7632147073745728 -> Because the soul of this nation is strong, because the backbone of this nation is strong, because the people of this nation are strong, the State of the Union is strong.\n",
      "0.7771207690238953 -> So I have come here to fulfil my constitutional duty to report on the state of the union. And here is my report.\n",
      "0.7832998037338257 -> And my report is this: the State of the Union is strong—because you, the American people, are strong.\n",
      "0.7869049310684204 -> Madam Speaker, Madam Vice President — (applause) — no President has ever said those words from this podium.  No President has ever said those words, and it’s about time.  (Applause.)\n",
      "0.7885034084320068 -> As I stand here tonight before you, in a new and vital hour of life and democracy of our nation, and I can say with absolute confidence: I have never been more confident or optimistic about America — not because I’m President, because what’s happening with the American people.\n",
      "0.7890262603759766 -> Tonight I come to the same chamber to address the nation.\n"
     ]
    }
   ],
   "source": [
    "for node in response2.source_nodes:\n",
    "    print(f\"{node.get_score()} -> {node.text}\")"
   ]
  },
  {
   "cell_type": "code",
   "execution_count": null,
   "id": "bf198ee7-45f6-4573-8bcb-60b25e2b7af2",
   "metadata": {},
   "outputs": [],
   "source": []
  },
  {
   "cell_type": "code",
   "execution_count": 30,
   "id": "b1f8b91f-afc2-4916-a65b-4a4bcb088d7c",
   "metadata": {},
   "outputs": [],
   "source": [
    "# Start of RAGAS implementation"
   ]
  },
  {
   "cell_type": "code",
   "execution_count": 31,
   "id": "af3f8028-582d-49b5-9939-45eb0d810501",
   "metadata": {},
   "outputs": [],
   "source": [
    "# Generate synthetic test data\n",
    "# Note: When generating a synthetic test dataset, the columns generated are \n",
    "# 'question', 'contexts', 'ground_truth', 'evolution_type', 'metadata', 'episode_done'\n",
    "# We have to generate the answer separately with our RAG, which then (obviously) generates new context used.\n",
    "# My best guess is to use the context that was used to generate the answer for the metrics calculation.\n",
    "# Thus, in the below example, I keep the old contexts column, but for evaluating RAG, I use the new context to calculate the metrics.\n",
    "# I can't find good documentation to confirm this; the following issues are close:\n",
    "# https://github.com/explodinggradients/ragas/issues/1145\n",
    "# https://github.com/explodinggradients/ragas/issues/1084\n",
    "\n",
    "# Possible future edit:\n",
    "# The best thing to do would be to generate the answer when creating the synthetic test dataset, but this is no longer done (perhaps done in RAGAS 1.0?)\n",
    "# Ground truth is supposed to be the 'human' level answer vs the RAG answer\n",
    "\n",
    "# Relevant warning from the same issue 1084:\n",
    "# \"Since you use the same LLM to generate your synthetic dataset ground_truth and your answer, \n",
    "# I think the results of this evaluation might be biased. I haven't realized a comparative study \n",
    "# but it might be an issue which could have an impact on your interpretation.\""
   ]
  },
  {
   "cell_type": "code",
   "execution_count": 32,
   "id": "8d029335-7fd3-4b37-8cd2-892da20b5553",
   "metadata": {},
   "outputs": [],
   "source": [
    "from langchain_community.document_loaders import DirectoryLoader"
   ]
  },
  {
   "cell_type": "code",
   "execution_count": 33,
   "id": "2002e239-4a5d-491d-b02b-611ae0f6afcb",
   "metadata": {},
   "outputs": [],
   "source": [
    "loader = DirectoryLoader(\"./Speeches\")\n",
    "documents = loader.load()"
   ]
  },
  {
   "cell_type": "code",
   "execution_count": 34,
   "id": "75f71778-7d81-4510-972d-c63496ade675",
   "metadata": {},
   "outputs": [
    {
     "data": {
      "text/plain": [
       "{'source': 'Speeches/state_of_the_union_042921.txt'}"
      ]
     },
     "execution_count": 34,
     "metadata": {},
     "output_type": "execute_result"
    }
   ],
   "source": [
    "documents[3].metadata"
   ]
  },
  {
   "cell_type": "code",
   "execution_count": 35,
   "id": "83aac065-04c4-46fc-baed-cdb9bf2d9825",
   "metadata": {},
   "outputs": [],
   "source": [
    "for document in documents:\n",
    "    document.metadata['filename'] = document.metadata['source']"
   ]
  },
  {
   "cell_type": "code",
   "execution_count": 36,
   "id": "d216ada1-5fe6-4394-b1b2-3f468d879e66",
   "metadata": {},
   "outputs": [],
   "source": [
    "from ragas.testset.generator import TestsetGenerator\n",
    "from ragas.testset.evolutions import simple, reasoning, multi_context"
   ]
  },
  {
   "cell_type": "code",
   "execution_count": 38,
   "id": "d2b846e0-b319-4e00-ae3a-8796cb4be771",
   "metadata": {},
   "outputs": [],
   "source": [
    "# generator with Gemini models\n",
    "# Note: had to edit underlying RAGAS library (cloned locally, edited files, then pip -e installed locally) for this issue re: temperature:\n",
    "# https://github.com/explodinggradients/ragas/pull/657/files\n",
    "\n",
    "generator_llm = ChatGoogleGenerativeAI(model=\"gemini-1.5-flash\", timeout=10) #, temperature=0.7, timeout=180, transport=\"rest\"\n",
    "critic_llm = ChatGoogleGenerativeAI(model=\"gemini-1.5-pro\", timeout=60)\n",
    "embeddings = GoogleGenerativeAIEmbeddings(model=\"models/text-embedding-004\") #transport=\"rest\" #, request_options={\"timeout\": 10} #, request_options={\"maxConcurrency\": 5}\n",
    "\n",
    "#LangchainLLMWrapper()\n",
    "generator = TestsetGenerator.from_langchain(\n",
    "    generator_llm,\n",
    "    critic_llm,\n",
    "    embeddings\n",
    ")"
   ]
  },
  {
   "cell_type": "code",
   "execution_count": 40,
   "id": "a183dab1-128e-4b51-9cc7-017acbdcb950",
   "metadata": {},
   "outputs": [],
   "source": [
    "# RAGAS Gemini github issues\n",
    "#https://github.com/explodinggradients/ragas/issues/678\n",
    "#https://github.com/explodinggradients/ragas/pull/657/files"
   ]
  },
  {
   "cell_type": "code",
   "execution_count": 41,
   "id": "4ab50c64-08a0-450d-95c3-bc2a9d7cb088",
   "metadata": {},
   "outputs": [],
   "source": [
    "import typing as t"
   ]
  },
  {
   "cell_type": "code",
   "execution_count": 42,
   "id": "9cd22ec1-0bb5-4e12-8401-3866b2900d8e",
   "metadata": {},
   "outputs": [],
   "source": [
    "from ragas.run_config import RunConfig\n",
    "\n",
    "# Increase the timeout settings\n",
    "run_config = RunConfig(timeout=60, max_wait=180, max_workers=1, max_retries=10)  # Increase timeout to 180 seconds"
   ]
  },
  {
   "cell_type": "code",
   "execution_count": 29,
   "id": "ea76249e-a95d-421f-bc02-a290bbc94e3a",
   "metadata": {},
   "outputs": [],
   "source": [
    "# generate testset\n",
    "def generate_testset_rate(docs):\n",
    "    \"\"\"\n",
    "    Calls the model and embeddings with rate limit\n",
    "    \"\"\"\n",
    "    testset = generator.generate_with_langchain_docs(docs, test_size=10, distributions={simple: 0.5, reasoning: 0.25, multi_context: 0.25}, run_config=run_config, raise_exceptions=True, is_async=False)\n",
    "    return testset"
   ]
  },
  {
   "cell_type": "code",
   "execution_count": null,
   "id": "d3e6006a-7672-4bc2-80ee-af126e85d8ac",
   "metadata": {},
   "outputs": [],
   "source": [
    "# The RAGAS internal RunConfig settings do a decent job at limiting the 429 resource exhausted warnings when max_workers=1\n",
    "# Tried ratelimit and backoff libraries in Python... didn't affect it enough, got so many warnings that it wouldn't finish\n",
    "testset = generate_testset_rate(documents) "
   ]
  },
  {
   "cell_type": "code",
   "execution_count": 34,
   "id": "87fd9f5e-145f-4f79-a430-07c32e5b7aa8",
   "metadata": {},
   "outputs": [],
   "source": [
    "testset_pd = testset.to_pandas()"
   ]
  },
  {
   "cell_type": "code",
   "execution_count": 35,
   "id": "b9bb052d-d942-4db4-a848-1a4e733c840a",
   "metadata": {},
   "outputs": [
    {
     "data": {
      "text/html": [
       "<div>\n",
       "<style scoped>\n",
       "    .dataframe tbody tr th:only-of-type {\n",
       "        vertical-align: middle;\n",
       "    }\n",
       "\n",
       "    .dataframe tbody tr th {\n",
       "        vertical-align: top;\n",
       "    }\n",
       "\n",
       "    .dataframe thead th {\n",
       "        text-align: right;\n",
       "    }\n",
       "</style>\n",
       "<table border=\"1\" class=\"dataframe\">\n",
       "  <thead>\n",
       "    <tr style=\"text-align: right;\">\n",
       "      <th></th>\n",
       "      <th>question</th>\n",
       "      <th>contexts</th>\n",
       "      <th>ground_truth</th>\n",
       "      <th>evolution_type</th>\n",
       "      <th>metadata</th>\n",
       "      <th>episode_done</th>\n",
       "    </tr>\n",
       "  </thead>\n",
       "  <tbody>\n",
       "    <tr>\n",
       "      <th>0</th>\n",
       "      <td>What does the author argue is under attack reg...</td>\n",
       "      <td>[ workers they need and families don’t wait de...</td>\n",
       "      <td>The author argues that the constitutional righ...</td>\n",
       "      <td>simple</td>\n",
       "      <td>[{'source': 'Speeches/state_of_the_union_03012...</td>\n",
       "      <td>True</td>\n",
       "    </tr>\n",
       "    <tr>\n",
       "      <th>1</th>\n",
       "      <td>In the speech from President Biden, why has \"t...</td>\n",
       "      <td>[ more than a million dollars a year and pay a...</td>\n",
       "      <td>President Biden states that \"trickle-down econ...</td>\n",
       "      <td>simple</td>\n",
       "      <td>[{'source': 'Speeches/state_of_the_union_04292...</td>\n",
       "      <td>True</td>\n",
       "    </tr>\n",
       "    <tr>\n",
       "      <th>2</th>\n",
       "      <td>What is the speaker's stance on the \"Buy Ameri...</td>\n",
       "      <td>[ right here in America where they belong!\\n\\n...</td>\n",
       "      <td>The speaker believes in the \"Buy American\" pol...</td>\n",
       "      <td>simple</td>\n",
       "      <td>[{'source': 'Speeches/state_of_the_union_03072...</td>\n",
       "      <td>True</td>\n",
       "    </tr>\n",
       "    <tr>\n",
       "      <th>3</th>\n",
       "      <td>What measures does the speaker propose to lowe...</td>\n",
       "      <td>[- a parent, a spouse, or child.\\n\\nAnd fourth...</td>\n",
       "      <td>The speaker proposes that Medicare should be g...</td>\n",
       "      <td>simple</td>\n",
       "      <td>[{'source': 'Speeches/state_of_the_union_04292...</td>\n",
       "      <td>True</td>\n",
       "    </tr>\n",
       "    <tr>\n",
       "      <th>4</th>\n",
       "      <td>What are President Biden's proposals for addre...</td>\n",
       "      <td>[omes destroyed, neighborhoods in rubble, citi...</td>\n",
       "      <td>President Biden proposes a six-week ceasefire ...</td>\n",
       "      <td>simple</td>\n",
       "      <td>[{'source': 'Speeches/state_of_the_union_03072...</td>\n",
       "      <td>True</td>\n",
       "    </tr>\n",
       "    <tr>\n",
       "      <th>5</th>\n",
       "      <td>How does Biden compare a threat to American de...</td>\n",
       "      <td>[’s argue over it, let’s debate it, but let’s ...</td>\n",
       "      <td>The context discusses the threat to American d...</td>\n",
       "      <td>reasoning</td>\n",
       "      <td>[{'source': 'Speeches/state_of_the_union_04292...</td>\n",
       "      <td>True</td>\n",
       "    </tr>\n",
       "    <tr>\n",
       "      <th>6</th>\n",
       "      <td>What gun violence prevention actions did Presi...</td>\n",
       "      <td>[ job at another burger place to make a couple...</td>\n",
       "      <td>President Biden mentioned the need to ban assa...</td>\n",
       "      <td>reasoning</td>\n",
       "      <td>[{'source': 'Speeches/state_of_the_union_02072...</td>\n",
       "      <td>True</td>\n",
       "    </tr>\n",
       "    <tr>\n",
       "      <th>7</th>\n",
       "      <td>What economic policy did President Biden rejec...</td>\n",
       "      <td>[- a parent, a spouse, or child.\\n\\nAnd fourth...</td>\n",
       "      <td>President Biden rejected trickle-down economic...</td>\n",
       "      <td>multi_context</td>\n",
       "      <td>[{'source': 'Speeches/state_of_the_union_04292...</td>\n",
       "      <td>True</td>\n",
       "    </tr>\n",
       "    <tr>\n",
       "      <th>8</th>\n",
       "      <td>How does the President's plan address societal...</td>\n",
       "      <td>[ workers they need and families don’t wait de...</td>\n",
       "      <td>The President's plan addresses societal issues...</td>\n",
       "      <td>multi_context</td>\n",
       "      <td>[{'source': 'Speeches/state_of_the_union_03012...</td>\n",
       "      <td>True</td>\n",
       "    </tr>\n",
       "    <tr>\n",
       "      <th>9</th>\n",
       "      <td>How will Biden address China's trade practices...</td>\n",
       "      <td>[ more than a million dollars a year and pay a...</td>\n",
       "      <td>Biden stated that he will defend America's int...</td>\n",
       "      <td>reasoning</td>\n",
       "      <td>[{'source': 'Speeches/state_of_the_union_04292...</td>\n",
       "      <td>True</td>\n",
       "    </tr>\n",
       "  </tbody>\n",
       "</table>\n",
       "</div>"
      ],
      "text/plain": [
       "                                            question  \\\n",
       "0  What does the author argue is under attack reg...   \n",
       "1  In the speech from President Biden, why has \"t...   \n",
       "2  What is the speaker's stance on the \"Buy Ameri...   \n",
       "3  What measures does the speaker propose to lowe...   \n",
       "4  What are President Biden's proposals for addre...   \n",
       "5  How does Biden compare a threat to American de...   \n",
       "6  What gun violence prevention actions did Presi...   \n",
       "7  What economic policy did President Biden rejec...   \n",
       "8  How does the President's plan address societal...   \n",
       "9  How will Biden address China's trade practices...   \n",
       "\n",
       "                                            contexts  \\\n",
       "0  [ workers they need and families don’t wait de...   \n",
       "1  [ more than a million dollars a year and pay a...   \n",
       "2  [ right here in America where they belong!\\n\\n...   \n",
       "3  [- a parent, a spouse, or child.\\n\\nAnd fourth...   \n",
       "4  [omes destroyed, neighborhoods in rubble, citi...   \n",
       "5  [’s argue over it, let’s debate it, but let’s ...   \n",
       "6  [ job at another burger place to make a couple...   \n",
       "7  [- a parent, a spouse, or child.\\n\\nAnd fourth...   \n",
       "8  [ workers they need and families don’t wait de...   \n",
       "9  [ more than a million dollars a year and pay a...   \n",
       "\n",
       "                                        ground_truth evolution_type  \\\n",
       "0  The author argues that the constitutional righ...         simple   \n",
       "1  President Biden states that \"trickle-down econ...         simple   \n",
       "2  The speaker believes in the \"Buy American\" pol...         simple   \n",
       "3  The speaker proposes that Medicare should be g...         simple   \n",
       "4  President Biden proposes a six-week ceasefire ...         simple   \n",
       "5  The context discusses the threat to American d...      reasoning   \n",
       "6  President Biden mentioned the need to ban assa...      reasoning   \n",
       "7  President Biden rejected trickle-down economic...  multi_context   \n",
       "8  The President's plan addresses societal issues...  multi_context   \n",
       "9  Biden stated that he will defend America's int...      reasoning   \n",
       "\n",
       "                                            metadata  episode_done  \n",
       "0  [{'source': 'Speeches/state_of_the_union_03012...          True  \n",
       "1  [{'source': 'Speeches/state_of_the_union_04292...          True  \n",
       "2  [{'source': 'Speeches/state_of_the_union_03072...          True  \n",
       "3  [{'source': 'Speeches/state_of_the_union_04292...          True  \n",
       "4  [{'source': 'Speeches/state_of_the_union_03072...          True  \n",
       "5  [{'source': 'Speeches/state_of_the_union_04292...          True  \n",
       "6  [{'source': 'Speeches/state_of_the_union_02072...          True  \n",
       "7  [{'source': 'Speeches/state_of_the_union_04292...          True  \n",
       "8  [{'source': 'Speeches/state_of_the_union_03012...          True  \n",
       "9  [{'source': 'Speeches/state_of_the_union_04292...          True  "
      ]
     },
     "execution_count": 35,
     "metadata": {},
     "output_type": "execute_result"
    }
   ],
   "source": [
    "testset_pd"
   ]
  },
  {
   "cell_type": "code",
   "execution_count": 36,
   "id": "bbca3ac8-56b1-4af6-8ba1-a8ec25549a06",
   "metadata": {},
   "outputs": [],
   "source": [
    "# testset_pd.to_csv('testset_flash_pro15.csv', index=False)"
   ]
  },
  {
   "cell_type": "code",
   "execution_count": 46,
   "id": "39e0be48-6761-48ef-9e8f-0815d27bf427",
   "metadata": {},
   "outputs": [],
   "source": [
    "testset_pd = pd.read_csv(\"testset_flash_pro15.csv\", index_col = None)"
   ]
  },
  {
   "cell_type": "code",
   "execution_count": 47,
   "id": "7e411a9d-7aa3-4783-aa48-d6467a2b25d1",
   "metadata": {},
   "outputs": [],
   "source": [
    "# use if imported testset_pd from csv\n",
    "# this is a fix for 'contexts' column being saved as a string; needs to be a list\n",
    "import ast\n",
    "testset_pd['contexts'] = testset_pd['contexts'].apply(ast.literal_eval)"
   ]
  },
  {
   "cell_type": "code",
   "execution_count": 48,
   "id": "4ac6cfdc-0433-4dd4-95f6-425e6cff38b9",
   "metadata": {},
   "outputs": [
    {
     "data": {
      "text/html": [
       "<div>\n",
       "<style scoped>\n",
       "    .dataframe tbody tr th:only-of-type {\n",
       "        vertical-align: middle;\n",
       "    }\n",
       "\n",
       "    .dataframe tbody tr th {\n",
       "        vertical-align: top;\n",
       "    }\n",
       "\n",
       "    .dataframe thead th {\n",
       "        text-align: right;\n",
       "    }\n",
       "</style>\n",
       "<table border=\"1\" class=\"dataframe\">\n",
       "  <thead>\n",
       "    <tr style=\"text-align: right;\">\n",
       "      <th></th>\n",
       "      <th>question</th>\n",
       "      <th>contexts</th>\n",
       "      <th>ground_truth</th>\n",
       "      <th>evolution_type</th>\n",
       "      <th>metadata</th>\n",
       "      <th>episode_done</th>\n",
       "    </tr>\n",
       "  </thead>\n",
       "  <tbody>\n",
       "    <tr>\n",
       "      <th>0</th>\n",
       "      <td>What does the author argue is under attack reg...</td>\n",
       "      <td>[ workers they need and families don’t wait de...</td>\n",
       "      <td>The author argues that the constitutional righ...</td>\n",
       "      <td>simple</td>\n",
       "      <td>[{'source': 'Speeches/state_of_the_union_03012...</td>\n",
       "      <td>True</td>\n",
       "    </tr>\n",
       "    <tr>\n",
       "      <th>1</th>\n",
       "      <td>In the speech from President Biden, why has \"t...</td>\n",
       "      <td>[ more than a million dollars a year and pay a...</td>\n",
       "      <td>President Biden states that \"trickle-down econ...</td>\n",
       "      <td>simple</td>\n",
       "      <td>[{'source': 'Speeches/state_of_the_union_04292...</td>\n",
       "      <td>True</td>\n",
       "    </tr>\n",
       "    <tr>\n",
       "      <th>2</th>\n",
       "      <td>What is the speaker's stance on the \"Buy Ameri...</td>\n",
       "      <td>[ right here in America where they belong!\\n\\n...</td>\n",
       "      <td>The speaker believes in the \"Buy American\" pol...</td>\n",
       "      <td>simple</td>\n",
       "      <td>[{'source': 'Speeches/state_of_the_union_03072...</td>\n",
       "      <td>True</td>\n",
       "    </tr>\n",
       "    <tr>\n",
       "      <th>3</th>\n",
       "      <td>What measures does the speaker propose to lowe...</td>\n",
       "      <td>[- a parent, a spouse, or child.\\n\\nAnd fourth...</td>\n",
       "      <td>The speaker proposes that Medicare should be g...</td>\n",
       "      <td>simple</td>\n",
       "      <td>[{'source': 'Speeches/state_of_the_union_04292...</td>\n",
       "      <td>True</td>\n",
       "    </tr>\n",
       "    <tr>\n",
       "      <th>4</th>\n",
       "      <td>What are President Biden's proposals for addre...</td>\n",
       "      <td>[omes destroyed, neighborhoods in rubble, citi...</td>\n",
       "      <td>President Biden proposes a six-week ceasefire ...</td>\n",
       "      <td>simple</td>\n",
       "      <td>[{'source': 'Speeches/state_of_the_union_03072...</td>\n",
       "      <td>True</td>\n",
       "    </tr>\n",
       "    <tr>\n",
       "      <th>5</th>\n",
       "      <td>How does Biden compare a threat to American de...</td>\n",
       "      <td>[’s argue over it, let’s debate it, but let’s ...</td>\n",
       "      <td>The context discusses the threat to American d...</td>\n",
       "      <td>reasoning</td>\n",
       "      <td>[{'source': 'Speeches/state_of_the_union_04292...</td>\n",
       "      <td>True</td>\n",
       "    </tr>\n",
       "    <tr>\n",
       "      <th>6</th>\n",
       "      <td>What gun violence prevention actions did Presi...</td>\n",
       "      <td>[ job at another burger place to make a couple...</td>\n",
       "      <td>President Biden mentioned the need to ban assa...</td>\n",
       "      <td>reasoning</td>\n",
       "      <td>[{'source': 'Speeches/state_of_the_union_02072...</td>\n",
       "      <td>True</td>\n",
       "    </tr>\n",
       "    <tr>\n",
       "      <th>7</th>\n",
       "      <td>What economic policy did President Biden rejec...</td>\n",
       "      <td>[- a parent, a spouse, or child.\\n\\nAnd fourth...</td>\n",
       "      <td>President Biden rejected trickle-down economic...</td>\n",
       "      <td>multi_context</td>\n",
       "      <td>[{'source': 'Speeches/state_of_the_union_04292...</td>\n",
       "      <td>True</td>\n",
       "    </tr>\n",
       "    <tr>\n",
       "      <th>8</th>\n",
       "      <td>How does the President's plan address societal...</td>\n",
       "      <td>[ workers they need and families don’t wait de...</td>\n",
       "      <td>The President's plan addresses societal issues...</td>\n",
       "      <td>multi_context</td>\n",
       "      <td>[{'source': 'Speeches/state_of_the_union_03012...</td>\n",
       "      <td>True</td>\n",
       "    </tr>\n",
       "    <tr>\n",
       "      <th>9</th>\n",
       "      <td>How will Biden address China's trade practices...</td>\n",
       "      <td>[ more than a million dollars a year and pay a...</td>\n",
       "      <td>Biden stated that he will defend America's int...</td>\n",
       "      <td>reasoning</td>\n",
       "      <td>[{'source': 'Speeches/state_of_the_union_04292...</td>\n",
       "      <td>True</td>\n",
       "    </tr>\n",
       "  </tbody>\n",
       "</table>\n",
       "</div>"
      ],
      "text/plain": [
       "                                            question  \\\n",
       "0  What does the author argue is under attack reg...   \n",
       "1  In the speech from President Biden, why has \"t...   \n",
       "2  What is the speaker's stance on the \"Buy Ameri...   \n",
       "3  What measures does the speaker propose to lowe...   \n",
       "4  What are President Biden's proposals for addre...   \n",
       "5  How does Biden compare a threat to American de...   \n",
       "6  What gun violence prevention actions did Presi...   \n",
       "7  What economic policy did President Biden rejec...   \n",
       "8  How does the President's plan address societal...   \n",
       "9  How will Biden address China's trade practices...   \n",
       "\n",
       "                                            contexts  \\\n",
       "0  [ workers they need and families don’t wait de...   \n",
       "1  [ more than a million dollars a year and pay a...   \n",
       "2  [ right here in America where they belong!\\n\\n...   \n",
       "3  [- a parent, a spouse, or child.\\n\\nAnd fourth...   \n",
       "4  [omes destroyed, neighborhoods in rubble, citi...   \n",
       "5  [’s argue over it, let’s debate it, but let’s ...   \n",
       "6  [ job at another burger place to make a couple...   \n",
       "7  [- a parent, a spouse, or child.\\n\\nAnd fourth...   \n",
       "8  [ workers they need and families don’t wait de...   \n",
       "9  [ more than a million dollars a year and pay a...   \n",
       "\n",
       "                                        ground_truth evolution_type  \\\n",
       "0  The author argues that the constitutional righ...         simple   \n",
       "1  President Biden states that \"trickle-down econ...         simple   \n",
       "2  The speaker believes in the \"Buy American\" pol...         simple   \n",
       "3  The speaker proposes that Medicare should be g...         simple   \n",
       "4  President Biden proposes a six-week ceasefire ...         simple   \n",
       "5  The context discusses the threat to American d...      reasoning   \n",
       "6  President Biden mentioned the need to ban assa...      reasoning   \n",
       "7  President Biden rejected trickle-down economic...  multi_context   \n",
       "8  The President's plan addresses societal issues...  multi_context   \n",
       "9  Biden stated that he will defend America's int...      reasoning   \n",
       "\n",
       "                                            metadata  episode_done  \n",
       "0  [{'source': 'Speeches/state_of_the_union_03012...          True  \n",
       "1  [{'source': 'Speeches/state_of_the_union_04292...          True  \n",
       "2  [{'source': 'Speeches/state_of_the_union_03072...          True  \n",
       "3  [{'source': 'Speeches/state_of_the_union_04292...          True  \n",
       "4  [{'source': 'Speeches/state_of_the_union_03072...          True  \n",
       "5  [{'source': 'Speeches/state_of_the_union_04292...          True  \n",
       "6  [{'source': 'Speeches/state_of_the_union_02072...          True  \n",
       "7  [{'source': 'Speeches/state_of_the_union_04292...          True  \n",
       "8  [{'source': 'Speeches/state_of_the_union_03012...          True  \n",
       "9  [{'source': 'Speeches/state_of_the_union_04292...          True  "
      ]
     },
     "execution_count": 48,
     "metadata": {},
     "output_type": "execute_result"
    }
   ],
   "source": [
    "testset_pd"
   ]
  },
  {
   "cell_type": "code",
   "execution_count": null,
   "id": "be4a7583-6e43-4dc7-b547-7366e1042233",
   "metadata": {},
   "outputs": [],
   "source": []
  },
  {
   "cell_type": "code",
   "execution_count": 49,
   "id": "c8d0cba0-17aa-491e-8a0b-a1e3ed8ebbfd",
   "metadata": {},
   "outputs": [],
   "source": [
    "# RAGAS metrics guide: https://docs.ragas.io/en/latest/concepts/metrics/index.html#ragas-metrics\n",
    "\n",
    "# Faithfulness - Measures the factual consistency of the answer to the context based on the question.\n",
    "# Context_precision - Measures how relevant the retrieved context is to the question, conveying the quality of the retrieval pipeline.\n",
    "# Answer_relevancy - Measures how relevant the answer is to the question.\n",
    "# Context_recall - Measures the retriever’s ability to retrieve all necessary information required to answer the question.\n",
    "\n",
    "from ragas.metrics import (\n",
    "    answer_relevancy,\n",
    "    faithfulness,\n",
    "    context_recall,\n",
    "    context_precision,\n",
    ")\n",
    "from ragas import evaluate\n",
    "from datasets import Dataset"
   ]
  },
  {
   "cell_type": "code",
   "execution_count": 51,
   "id": "ec2a524d-3f78-4b9e-9562-e8c7c9df60f5",
   "metadata": {},
   "outputs": [],
   "source": [
    "# per this ragas thread, need to convert pandas testset to Dataset format for evaluate to work\n",
    "# https://github.com/explodinggradients/ragas/issues/803\n",
    "testset_ds = Dataset.from_pandas(testset_pd)"
   ]
  },
  {
   "cell_type": "code",
   "execution_count": 52,
   "id": "c6e25e22-a14a-4ea4-9276-d76c91c7a7f2",
   "metadata": {},
   "outputs": [
    {
     "data": {
      "text/plain": [
       "Dataset({\n",
       "    features: ['question', 'contexts', 'ground_truth', 'evolution_type', 'metadata', 'episode_done'],\n",
       "    num_rows: 10\n",
       "})"
      ]
     },
     "execution_count": 52,
     "metadata": {},
     "output_type": "execute_result"
    }
   ],
   "source": [
    "testset_ds"
   ]
  },
  {
   "cell_type": "code",
   "execution_count": 54,
   "id": "c3dfd0ca-b9cd-4003-b6e3-addfc065a463",
   "metadata": {},
   "outputs": [],
   "source": [
    "# generate answer column, per these two issues\n",
    "# https://github.com/explodinggradients/ragas/issues/1145\n",
    "# https://github.com/explodinggradients/ragas/issues/1084#issuecomment-2248219601\n",
    "query_engine = index.as_query_engine(similarity_top_k=10)\n",
    "#query = \"What has the President done related to healthcare?\"\n",
    "#response = query_engine.query(query)"
   ]
  },
  {
   "cell_type": "code",
   "execution_count": null,
   "id": "169b6afb-35f2-4690-a4be-5979a05b29f7",
   "metadata": {},
   "outputs": [],
   "source": [
    "answers = [query_engine.query(q) for q in testset_pd['question']]"
   ]
  },
  {
   "cell_type": "code",
   "execution_count": 79,
   "id": "33893af4-a200-4df9-9843-2e21a27d6e5d",
   "metadata": {},
   "outputs": [],
   "source": [
    "# parse out new 'answer' and 'contexts' columns\n",
    "answers_r = []\n",
    "context_n = []\n",
    "for i in answers:\n",
    "    answers_r.append(i.response)\n",
    "    context_n.append([c.node.get_content() for c in i.source_nodes])"
   ]
  },
  {
   "cell_type": "code",
   "execution_count": 86,
   "id": "fbfc8109-0336-43b4-bf49-1ed6142b5cb8",
   "metadata": {},
   "outputs": [],
   "source": [
    "testset_pd = testset_pd.rename(columns={\"contexts\":\"contexts_gt\"})"
   ]
  },
  {
   "cell_type": "code",
   "execution_count": 88,
   "id": "8b4265f5-dffb-46fa-8909-bf34cb9da5cd",
   "metadata": {},
   "outputs": [],
   "source": [
    "testset_pd['contexts'] = context_n"
   ]
  },
  {
   "cell_type": "code",
   "execution_count": 89,
   "id": "54edaa4b-c030-4eb7-8825-80e1c15c53a4",
   "metadata": {},
   "outputs": [],
   "source": [
    "testset_pd['answer'] = answers_r"
   ]
  },
  {
   "cell_type": "code",
   "execution_count": 129,
   "id": "7866f0b2-d32b-45af-8a91-7d77fbb0a140",
   "metadata": {},
   "outputs": [],
   "source": [
    "#testset_pd.to_csv('testset_answer_newcontext_flash_pro15.csv', index=False)\n",
    "testset_pd = pd.read_csv(\"testset_answer_newcontext_flash_pro15.csv\", index_col = None)"
   ]
  },
  {
   "cell_type": "code",
   "execution_count": 144,
   "id": "c991eaa9-9b22-4807-a149-d7cb28523e70",
   "metadata": {},
   "outputs": [],
   "source": [
    "# use if imported testset_pd from csv\n",
    "# this is a fix for 'contexts' column being saved as a string; needs to be a list\n",
    "import ast\n",
    "testset_pd['contexts'] = testset_pd['contexts'].apply(ast.literal_eval)\n",
    "testset_pd['contexts_gt'] = testset_pd['contexts_gt'].apply(ast.literal_eval)"
   ]
  },
  {
   "cell_type": "code",
   "execution_count": 153,
   "id": "cd8adaf0-d20c-4d55-b25e-73b84da5b063",
   "metadata": {},
   "outputs": [
    {
     "data": {
      "text/html": [
       "<div>\n",
       "<style scoped>\n",
       "    .dataframe tbody tr th:only-of-type {\n",
       "        vertical-align: middle;\n",
       "    }\n",
       "\n",
       "    .dataframe tbody tr th {\n",
       "        vertical-align: top;\n",
       "    }\n",
       "\n",
       "    .dataframe thead th {\n",
       "        text-align: right;\n",
       "    }\n",
       "</style>\n",
       "<table border=\"1\" class=\"dataframe\">\n",
       "  <thead>\n",
       "    <tr style=\"text-align: right;\">\n",
       "      <th></th>\n",
       "      <th>question</th>\n",
       "      <th>contexts_gt</th>\n",
       "      <th>ground_truth</th>\n",
       "      <th>evolution_type</th>\n",
       "      <th>metadata</th>\n",
       "      <th>episode_done</th>\n",
       "      <th>contexts</th>\n",
       "      <th>answer</th>\n",
       "    </tr>\n",
       "  </thead>\n",
       "  <tbody>\n",
       "    <tr>\n",
       "      <th>0</th>\n",
       "      <td>What does the author argue is under attack reg...</td>\n",
       "      <td>[ workers they need and families don’t wait de...</td>\n",
       "      <td>The author argues that the constitutional righ...</td>\n",
       "      <td>simple</td>\n",
       "      <td>[{'source': 'Speeches/state_of_the_union_03012...</td>\n",
       "      <td>True</td>\n",
       "      <td>[The constitutional right affirmed in Roe v. W...</td>\n",
       "      <td>The author argues that the constitutional righ...</td>\n",
       "    </tr>\n",
       "    <tr>\n",
       "      <th>1</th>\n",
       "      <td>In the speech from President Biden, why has \"t...</td>\n",
       "      <td>[ more than a million dollars a year and pay a...</td>\n",
       "      <td>President Biden states that \"trickle-down econ...</td>\n",
       "      <td>simple</td>\n",
       "      <td>[{'source': 'Speeches/state_of_the_union_04292...</td>\n",
       "      <td>True</td>\n",
       "      <td>[My fellow Americans, trickle-down — trickle-d...</td>\n",
       "      <td>The speaker believes that \"trickle-down econom...</td>\n",
       "    </tr>\n",
       "    <tr>\n",
       "      <th>2</th>\n",
       "      <td>What is the speaker's stance on the \"Buy Ameri...</td>\n",
       "      <td>[ right here in America where they belong!\\n\\n...</td>\n",
       "      <td>The speaker believes in the \"Buy American\" pol...</td>\n",
       "      <td>simple</td>\n",
       "      <td>[{'source': 'Speeches/state_of_the_union_03072...</td>\n",
       "      <td>True</td>\n",
       "      <td>[Past administrations including my predecessor...</td>\n",
       "      <td>The speaker strongly advocates for the \"Buy Am...</td>\n",
       "    </tr>\n",
       "    <tr>\n",
       "      <th>3</th>\n",
       "      <td>What measures does the speaker propose to lowe...</td>\n",
       "      <td>[- a parent, a spouse, or child.\\n\\nAnd fourth...</td>\n",
       "      <td>The speaker proposes that Medicare should be g...</td>\n",
       "      <td>simple</td>\n",
       "      <td>[{'source': 'Speeches/state_of_the_union_04292...</td>\n",
       "      <td>True</td>\n",
       "      <td>[Let’s do what we’ve always talked about for a...</td>\n",
       "      <td>The speaker proposes giving Medicare the power...</td>\n",
       "    </tr>\n",
       "    <tr>\n",
       "      <th>4</th>\n",
       "      <td>What are President Biden's proposals for addre...</td>\n",
       "      <td>[omes destroyed, neighborhoods in rubble, citi...</td>\n",
       "      <td>President Biden proposes a six-week ceasefire ...</td>\n",
       "      <td>simple</td>\n",
       "      <td>[{'source': 'Speeches/state_of_the_union_03072...</td>\n",
       "      <td>True</td>\n",
       "      <td>[As we look to the future, the only real solut...</td>\n",
       "      <td>The President proposes a two-state solution as...</td>\n",
       "    </tr>\n",
       "    <tr>\n",
       "      <th>5</th>\n",
       "      <td>How does Biden compare a threat to American de...</td>\n",
       "      <td>[’s argue over it, let’s debate it, but let’s ...</td>\n",
       "      <td>The context discusses the threat to American d...</td>\n",
       "      <td>reasoning</td>\n",
       "      <td>[{'source': 'Speeches/state_of_the_union_04292...</td>\n",
       "      <td>True</td>\n",
       "      <td>[January 6th and the lies about the 2020 elect...</td>\n",
       "      <td>Empty Response</td>\n",
       "    </tr>\n",
       "    <tr>\n",
       "      <th>6</th>\n",
       "      <td>What gun violence prevention actions did Presi...</td>\n",
       "      <td>[ job at another burger place to make a couple...</td>\n",
       "      <td>President Biden mentioned the need to ban assa...</td>\n",
       "      <td>reasoning</td>\n",
       "      <td>[{'source': 'Speeches/state_of_the_union_02072...</td>\n",
       "      <td>True</td>\n",
       "      <td>[And I will do everything in my power to prote...</td>\n",
       "      <td>President Biden called for Congress to pass un...</td>\n",
       "    </tr>\n",
       "    <tr>\n",
       "      <th>7</th>\n",
       "      <td>What economic policy did President Biden rejec...</td>\n",
       "      <td>[- a parent, a spouse, or child.\\n\\nAnd fourth...</td>\n",
       "      <td>President Biden rejected trickle-down economic...</td>\n",
       "      <td>multi_context</td>\n",
       "      <td>[{'source': 'Speeches/state_of_the_union_04292...</td>\n",
       "      <td>True</td>\n",
       "      <td>[My fellow Americans, trickle-down — trickle-d...</td>\n",
       "      <td>The speaker rejected trickle-down economics an...</td>\n",
       "    </tr>\n",
       "    <tr>\n",
       "      <th>8</th>\n",
       "      <td>How does the President's plan address societal...</td>\n",
       "      <td>[ workers they need and families don’t wait de...</td>\n",
       "      <td>The President's plan addresses societal issues...</td>\n",
       "      <td>multi_context</td>\n",
       "      <td>[{'source': 'Speeches/state_of_the_union_03012...</td>\n",
       "      <td>True</td>\n",
       "      <td>[My administration is providing assistance wit...</td>\n",
       "      <td>The President's plan addresses societal issues...</td>\n",
       "    </tr>\n",
       "    <tr>\n",
       "      <th>9</th>\n",
       "      <td>How will Biden address China's trade practices...</td>\n",
       "      <td>[ more than a million dollars a year and pay a...</td>\n",
       "      <td>Biden stated that he will defend America's int...</td>\n",
       "      <td>reasoning</td>\n",
       "      <td>[{'source': 'Speeches/state_of_the_union_04292...</td>\n",
       "      <td>True</td>\n",
       "      <td>[I also told President Xi that we’ll maintain ...</td>\n",
       "      <td>The speaker will address unfair trade practice...</td>\n",
       "    </tr>\n",
       "  </tbody>\n",
       "</table>\n",
       "</div>"
      ],
      "text/plain": [
       "                                            question  \\\n",
       "0  What does the author argue is under attack reg...   \n",
       "1  In the speech from President Biden, why has \"t...   \n",
       "2  What is the speaker's stance on the \"Buy Ameri...   \n",
       "3  What measures does the speaker propose to lowe...   \n",
       "4  What are President Biden's proposals for addre...   \n",
       "5  How does Biden compare a threat to American de...   \n",
       "6  What gun violence prevention actions did Presi...   \n",
       "7  What economic policy did President Biden rejec...   \n",
       "8  How does the President's plan address societal...   \n",
       "9  How will Biden address China's trade practices...   \n",
       "\n",
       "                                         contexts_gt  \\\n",
       "0  [ workers they need and families don’t wait de...   \n",
       "1  [ more than a million dollars a year and pay a...   \n",
       "2  [ right here in America where they belong!\\n\\n...   \n",
       "3  [- a parent, a spouse, or child.\\n\\nAnd fourth...   \n",
       "4  [omes destroyed, neighborhoods in rubble, citi...   \n",
       "5  [’s argue over it, let’s debate it, but let’s ...   \n",
       "6  [ job at another burger place to make a couple...   \n",
       "7  [- a parent, a spouse, or child.\\n\\nAnd fourth...   \n",
       "8  [ workers they need and families don’t wait de...   \n",
       "9  [ more than a million dollars a year and pay a...   \n",
       "\n",
       "                                        ground_truth evolution_type  \\\n",
       "0  The author argues that the constitutional righ...         simple   \n",
       "1  President Biden states that \"trickle-down econ...         simple   \n",
       "2  The speaker believes in the \"Buy American\" pol...         simple   \n",
       "3  The speaker proposes that Medicare should be g...         simple   \n",
       "4  President Biden proposes a six-week ceasefire ...         simple   \n",
       "5  The context discusses the threat to American d...      reasoning   \n",
       "6  President Biden mentioned the need to ban assa...      reasoning   \n",
       "7  President Biden rejected trickle-down economic...  multi_context   \n",
       "8  The President's plan addresses societal issues...  multi_context   \n",
       "9  Biden stated that he will defend America's int...      reasoning   \n",
       "\n",
       "                                            metadata  episode_done  \\\n",
       "0  [{'source': 'Speeches/state_of_the_union_03012...          True   \n",
       "1  [{'source': 'Speeches/state_of_the_union_04292...          True   \n",
       "2  [{'source': 'Speeches/state_of_the_union_03072...          True   \n",
       "3  [{'source': 'Speeches/state_of_the_union_04292...          True   \n",
       "4  [{'source': 'Speeches/state_of_the_union_03072...          True   \n",
       "5  [{'source': 'Speeches/state_of_the_union_04292...          True   \n",
       "6  [{'source': 'Speeches/state_of_the_union_02072...          True   \n",
       "7  [{'source': 'Speeches/state_of_the_union_04292...          True   \n",
       "8  [{'source': 'Speeches/state_of_the_union_03012...          True   \n",
       "9  [{'source': 'Speeches/state_of_the_union_04292...          True   \n",
       "\n",
       "                                            contexts  \\\n",
       "0  [The constitutional right affirmed in Roe v. W...   \n",
       "1  [My fellow Americans, trickle-down — trickle-d...   \n",
       "2  [Past administrations including my predecessor...   \n",
       "3  [Let’s do what we’ve always talked about for a...   \n",
       "4  [As we look to the future, the only real solut...   \n",
       "5  [January 6th and the lies about the 2020 elect...   \n",
       "6  [And I will do everything in my power to prote...   \n",
       "7  [My fellow Americans, trickle-down — trickle-d...   \n",
       "8  [My administration is providing assistance wit...   \n",
       "9  [I also told President Xi that we’ll maintain ...   \n",
       "\n",
       "                                              answer  \n",
       "0  The author argues that the constitutional righ...  \n",
       "1  The speaker believes that \"trickle-down econom...  \n",
       "2  The speaker strongly advocates for the \"Buy Am...  \n",
       "3  The speaker proposes giving Medicare the power...  \n",
       "4  The President proposes a two-state solution as...  \n",
       "5                                     Empty Response  \n",
       "6  President Biden called for Congress to pass un...  \n",
       "7  The speaker rejected trickle-down economics an...  \n",
       "8  The President's plan addresses societal issues...  \n",
       "9  The speaker will address unfair trade practice...  "
      ]
     },
     "execution_count": 153,
     "metadata": {},
     "output_type": "execute_result"
    }
   ],
   "source": [
    "testset_pd"
   ]
  },
  {
   "cell_type": "code",
   "execution_count": 154,
   "id": "0d735bf4-b628-4b08-b504-61c67b137d98",
   "metadata": {},
   "outputs": [],
   "source": [
    "testset_ds = Dataset.from_pandas(testset_pd.drop(\"contexts_gt\", axis=1))"
   ]
  },
  {
   "cell_type": "code",
   "execution_count": 155,
   "id": "104fced3-164c-44df-a0b2-55e953d33d3e",
   "metadata": {},
   "outputs": [
    {
     "data": {
      "text/plain": [
       "Dataset({\n",
       "    features: ['question', 'ground_truth', 'evolution_type', 'metadata', 'episode_done', 'contexts', 'answer'],\n",
       "    num_rows: 10\n",
       "})"
      ]
     },
     "execution_count": 155,
     "metadata": {},
     "output_type": "execute_result"
    }
   ],
   "source": [
    "testset_ds"
   ]
  },
  {
   "cell_type": "code",
   "execution_count": 150,
   "id": "a39ae55f-204a-4b42-8811-710bd26502cd",
   "metadata": {},
   "outputs": [],
   "source": [
    "# Note: I'm using the normal LLM, not the RAG context-loaded LLM\n",
    "# It appears that evaluate (below) re-runs the query and gives new answers and contexts anyway...\n",
    "# Watch this issue: https://github.com/explodinggradients/ragas/issues/1211\n",
    "\n",
    "ragas_llm = ChatGoogleGenerativeAI(model=\"gemini-1.5-flash\", timeout=10)\n",
    "#embeddings = GoogleGenerativeAIEmbeddings(model=\"models/text-embedding-004\")"
   ]
  },
  {
   "cell_type": "code",
   "execution_count": 135,
   "id": "47977c82-14b7-4291-9b53-3c9ce0510487",
   "metadata": {},
   "outputs": [],
   "source": [
    "# Increase the timeout settings\n",
    "run_config = RunConfig(timeout=60, max_wait=180, max_workers=1, max_retries=10)  # Increase timeout to 180 seconds"
   ]
  },
  {
   "cell_type": "code",
   "execution_count": null,
   "id": "0d845d9f-6d08-4fde-8ded-361b7d12e3f7",
   "metadata": {},
   "outputs": [],
   "source": [
    "# Optional parameter: \n",
    "# in_ci: bool, Whether the evaluation is running in CI or not. \n",
    "# If set to True then some metrics will be run to increase the reproducability of the evaluations. \n",
    "# This will increase the runtime and cost of evaluations. Default is False.\n",
    "evalresult = evaluate(\n",
    "    testset_ds,\n",
    "    metrics=[\n",
    "        context_precision,\n",
    "        faithfulness,\n",
    "        answer_relevancy,\n",
    "        context_recall,\n",
    "    ],\n",
    "    llm = ragas_llm,\n",
    "    embeddings=embeddings, \n",
    "    run_config=run_config\n",
    ")"
   ]
  },
  {
   "cell_type": "code",
   "execution_count": null,
   "id": "4cb0a5aa-f1b4-4945-957b-9e30a0dd43fe",
   "metadata": {},
   "outputs": [],
   "source": [
    "# Note: received warning for the answer where there was no response from the llm, definitely reduced faithfulness score\n",
    "\n",
    "# Results:\n",
    "# Using contexts generated when produced answers from LLM:\n",
    "# new testset_answer_newcontext_flash_pro15.csv result, with contexts_old col removed\n",
    "# {'context_precision': 0.4171, 'faithfulness': 0.9167, 'answer_relevancy': 0.6509, 'context_recall': 0.8000}\n",
    "# reran\n",
    "# {'context_precision': 0.4676, 'faithfulness': 1.0000, 'answer_relevancy': 0.6515, 'context_recall': 0.8000}\n",
    "\n",
    "# Compared to using contexts generated for ground truth (probably not correct):\n",
    "# new testset_answer_newcontext_flash_pro15.csv result, using old contexts\n",
    "# {'context_precision': 0.7500, 'faithfulness': 0.7392, 'answer_relevancy': 0.6041, 'context_recall': 1.0000}\n",
    "# reran:\n",
    "# {'context_precision': 0.8500, 'faithfulness': 0.7123, 'answer_relevancy': 0.5934, 'context_recall': 1.0000}\n",
    "# reran:\n",
    "# {'context_precision': 0.7500, 'faithfulness': 0.6556, 'answer_relevancy': 0.5638, 'context_recall': 1.0000}"
   ]
  },
  {
   "cell_type": "code",
   "execution_count": null,
   "id": "50a027af-7dff-483f-97ff-9072e71d7a02",
   "metadata": {},
   "outputs": [],
   "source": [
    "# Evaluation results on metrics:\n",
    "\n",
    "# RAGAS metrics guide: https://docs.ragas.io/en/latest/concepts/metrics/index.html#ragas-metrics\n",
    "# I don't have example ranges to compare anything to, so below is my best guess.\n",
    "\n",
    "# Faithfulness - Measures the factual consistency of the answer to the context based on the question.\n",
    "# 0.9167 - 1.0000 indicates that the LLM is staying true to the facts provided in the context for answering the question.\n",
    "# There is another Faithfulness metric: from ragas.metrics import FaithulnesswithHHEM\n",
    "# This uses a huggingface model to help detect hallucination : https://huggingface.co/vectara/hallucination_evaluation_model\n",
    "# See below for code : {'faithfulness_with_hhem': 0.6319} \n",
    "# This doesn't really agree with the RAGAS faithfulness score... may need to dive in further another time.\n",
    "# Context_precision - Measures how relevant the retrieved context is to the question, conveying the quality of the retrieval pipeline.\n",
    "# At 0.4171 - 0.4676, suggests that the context isn't particularly relevant to the question.\n",
    "# Answer_relevancy - Measures how relevant the answer is to the question.\n",
    "# 0.6509 - 0.6515 seems moderately low, just going off of the number.\n",
    "# Context_recall - Measures the retriever’s ability to retrieve all necessary information required to answer the question.\n",
    "# 0.8 indicates that the llm context is decently good and can typically answer the question or most of it. "
   ]
  },
  {
   "cell_type": "code",
   "execution_count": 120,
   "id": "d5ecd8cf-8642-4ea0-ac1a-c6bcbb05a621",
   "metadata": {},
   "outputs": [
    {
     "data": {
      "text/plain": [
       "{'context_precision': 0.4676, 'faithfulness': 1.0000, 'answer_relevancy': 0.6515, 'context_recall': 0.8000}"
      ]
     },
     "execution_count": 120,
     "metadata": {},
     "output_type": "execute_result"
    }
   ],
   "source": [
    "# Example result:\n",
    "# {'context_precision': 0.4676, 'faithfulness': 1.0000, 'answer_relevancy': 0.6515, 'context_recall': 0.8000}\n",
    "evalresult"
   ]
  },
  {
   "cell_type": "code",
   "execution_count": 105,
   "id": "04f4d426-e499-475e-8459-a497368b8b9e",
   "metadata": {},
   "outputs": [],
   "source": [
    "# Test:\n",
    "# compare to using contexts_old col\n",
    "testset_ds_oldcontext = Dataset.from_pandas(testset_pd.drop(\"contexts\", axis=1).rename(columns={'contexts_old':'contexts'}))"
   ]
  },
  {
   "cell_type": "code",
   "execution_count": 112,
   "id": "f4c317fe-fd36-4427-8ef7-cd4bd2731afb",
   "metadata": {},
   "outputs": [],
   "source": [
    "ragas_llm = ChatGoogleGenerativeAI(model=\"gemini-1.5-flash\", timeout=10)"
   ]
  },
  {
   "cell_type": "code",
   "execution_count": null,
   "id": "1db7b251-9833-4931-baf2-c575bf900721",
   "metadata": {},
   "outputs": [],
   "source": [
    "evalresult_old2 = evaluate(\n",
    "    testset_ds_oldcontext,\n",
    "    metrics=[\n",
    "        context_precision,\n",
    "        faithfulness,\n",
    "        answer_relevancy,\n",
    "        context_recall,\n",
    "    ],\n",
    "    llm = ragas_llm,\n",
    "    embeddings=embeddings, \n",
    "    run_config=run_config\n",
    ")"
   ]
  },
  {
   "cell_type": "code",
   "execution_count": null,
   "id": "5a7170d4-ca68-46b1-a962-3c71093374c1",
   "metadata": {},
   "outputs": [],
   "source": [
    "# new testset_answer_newcontext_flash_pro15.csv result, using old contexts\n",
    "# {'context_precision': 0.7500, 'faithfulness': 0.7392, 'answer_relevancy': 0.6041, 'context_recall': 1.0000}\n",
    "# reran:\n",
    "# {'context_precision': 0.8500, 'faithfulness': 0.7123, 'answer_relevancy': 0.5934, 'context_recall': 1.0000}\n",
    "# reran:\n",
    "# {'context_precision': 0.7500, 'faithfulness': 0.6556, 'answer_relevancy': 0.5638, 'context_recall': 1.0000}\n",
    "evalresult_old2"
   ]
  },
  {
   "cell_type": "code",
   "execution_count": null,
   "id": "eb79fac0-ea9d-473f-b33c-02ee96df9559",
   "metadata": {},
   "outputs": [],
   "source": []
  },
  {
   "cell_type": "code",
   "execution_count": 156,
   "id": "b145c016-f0d3-432c-82ad-df61c003f43a",
   "metadata": {},
   "outputs": [
    {
     "name": "stderr",
     "output_type": "stream",
     "text": [
      "You are using a model of type HHEMv2Config to instantiate a model of type HHEMv2. This is not supported for all configurations of models and can yield errors.\n",
      "/home/amber/anaconda3/envs/research2/lib/python3.11/site-packages/transformers/tokenization_utils_base.py:1601: FutureWarning: `clean_up_tokenization_spaces` was not set. It will be set to `True` by default. This behavior will be depracted in transformers v4.45, and will be then set to `False` by default. For more details check this issue: https://github.com/huggingface/transformers/issues/31884\n",
      "  warnings.warn(\n"
     ]
    }
   ],
   "source": [
    "from ragas.metrics import FaithulnesswithHHEM\n",
    "faithfulness_with_hhem = FaithulnesswithHHEM()"
   ]
  },
  {
   "cell_type": "code",
   "execution_count": 157,
   "id": "456a0ae2-f6ae-47e4-bda8-1c66c0104ccb",
   "metadata": {},
   "outputs": [
    {
     "data": {
      "application/vnd.jupyter.widget-view+json": {
       "model_id": "00bd15e9507d46d583e65576e767a58f",
       "version_major": 2,
       "version_minor": 0
      },
      "text/plain": [
       "Evaluating:   0%|          | 0/10 [00:00<?, ?it/s]"
      ]
     },
     "metadata": {},
     "output_type": "display_data"
    },
    {
     "name": "stdout",
     "output_type": "stream",
     "text": [
      "ERROR:ragas.executor:Exception raised in Job[5]: IndexError(list index out of range)\n",
      "Exception raised in Job[5]: IndexError(list index out of range)\n"
     ]
    },
    {
     "name": "stderr",
     "output_type": "stream",
     "text": [
      "Token indices sequence length is longer than the specified maximum sequence length for this model (540 > 512). Running this sequence through the model will result in indexing errors\n"
     ]
    }
   ],
   "source": [
    "# Note: There's a message on HuggingFace about the token indices sequence length error being normal and an artifact; thus, ignoring the below error\n",
    "# https://huggingface.co/vectara/hallucination_evaluation_model\n",
    "result_faithfulness_hhem = evaluate(\n",
    "    testset_ds,\n",
    "    metrics=[faithfulness_with_hhem],\n",
    "    llm = ragas_llm,\n",
    "    embeddings=embeddings, \n",
    "    run_config=run_config\n",
    ")"
   ]
  },
  {
   "cell_type": "code",
   "execution_count": 158,
   "id": "7f158bea-0167-43ab-b4fb-0b5c0bc145c5",
   "metadata": {},
   "outputs": [
    {
     "data": {
      "text/plain": [
       "{'faithfulness_with_hhem': 0.6319}"
      ]
     },
     "execution_count": 158,
     "metadata": {},
     "output_type": "execute_result"
    }
   ],
   "source": [
    "# with context from answer generation:\n",
    "# {'faithfulness_with_hhem': 0.6319}\n",
    "# testing: with context from ground truth/synthetic testset generation\n",
    "# {'faithfulness_with_hhem': 0.5241}\n",
    "# this seems to agree with the RAGAS faithfulness score in that answers seem to be partially made up.\n",
    "result_faithfulness_hhem"
   ]
  },
  {
   "cell_type": "code",
   "execution_count": null,
   "id": "db2c19d1-71a0-40ba-ad28-f689cba75277",
   "metadata": {},
   "outputs": [],
   "source": [
    "# RAGAS metrics guide: https://docs.ragas.io/en/latest/concepts/metrics/index.html#ragas-metrics\n",
    "\n",
    "# Faithfulness - Measures the factual consistency of the answer to the context based on the question.\n",
    "# Context_precision - Measures how relevant the retrieved context is to the question, conveying the quality of the retrieval pipeline.\n",
    "# Answer_relevancy - Measures how relevant the answer is to the question.\n",
    "# Context_recall - Measures the retriever’s ability to retrieve all necessary information required to answer the question."
   ]
  }
 ],
 "metadata": {
  "kernelspec": {
   "display_name": "research2",
   "language": "python",
   "name": "research2"
  },
  "language_info": {
   "codemirror_mode": {
    "name": "ipython",
    "version": 3
   },
   "file_extension": ".py",
   "mimetype": "text/x-python",
   "name": "python",
   "nbconvert_exporter": "python",
   "pygments_lexer": "ipython3",
   "version": "3.11.8"
  }
 },
 "nbformat": 4,
 "nbformat_minor": 5
}
