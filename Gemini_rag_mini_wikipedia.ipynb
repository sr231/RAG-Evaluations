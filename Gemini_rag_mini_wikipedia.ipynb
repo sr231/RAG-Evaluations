{
 "cells": [
  {
   "cell_type": "code",
   "execution_count": null,
   "id": "22ab9fa0-6385-400a-a7df-51211efc9990",
   "metadata": {},
   "outputs": [],
   "source": [
    "# Experimenting with creating a new RAG system from a HuggingFace dataset and text corpus\n",
    "# https://huggingface.co/datasets/rag-datasets/rag-mini-wikipedia"
   ]
  },
  {
   "cell_type": "code",
   "execution_count": 1,
   "id": "0673a8ee-33f7-464e-a186-1143cc2f9af0",
   "metadata": {},
   "outputs": [],
   "source": [
    "import numpy as np\n",
    "import pandas as pd\n",
    "import os\n",
    "import logging\n",
    "import sys\n",
    "import time\n",
    "\n",
    "# Replace these two Google Gemini imports with imports for your LLM\n",
    "import google.generativeai as genai\n",
    "from langchain_google_genai import ChatGoogleGenerativeAI, GoogleGenerativeAIEmbeddings\n",
    "\n",
    "from langchain_community.document_loaders import DirectoryLoader\n",
    "from llama_index.core import Document, VectorStoreIndex, Settings, StorageContext, load_index_from_storage\n",
    "from llama_index.vector_stores.faiss import FaissVectorStore\n",
    "import faiss\n",
    "\n",
    "# trying new faiss...\n",
    "from langchain_community.docstore.in_memory import InMemoryDocstore\n",
    "from langchain_community.vectorstores import FAISS"
   ]
  },
  {
   "cell_type": "code",
   "execution_count": 2,
   "id": "596e6210-4ae1-4ef1-a276-8fd57931abcb",
   "metadata": {},
   "outputs": [],
   "source": [
    "# Set up local API key\n",
    "genai.configure(api_key=os.environ[\"GOOGLE_API_KEY\"])"
   ]
  },
  {
   "cell_type": "code",
   "execution_count": 3,
   "id": "c616c222-434f-49c3-9610-fc3ea92577ab",
   "metadata": {},
   "outputs": [],
   "source": [
    "# load corpus\n",
    "# corpus = pd.read_parquet(\"hf://datasets/rag-datasets/rag-mini-wikipedia/data/passages.parquet/part.0.parquet\")\n",
    "# corpus = pd.read_csv(\"datasets/rag_mini_wikipedia_corpus.csv\", index_col=['id'])"
   ]
  },
  {
   "cell_type": "code",
   "execution_count": 111,
   "id": "ab098ce5-77cc-4037-b729-5f829da87acf",
   "metadata": {},
   "outputs": [],
   "source": [
    "# corpus"
   ]
  },
  {
   "cell_type": "code",
   "execution_count": 5,
   "id": "a53faee3-fd6f-4e9e-8443-b788c631b2c3",
   "metadata": {},
   "outputs": [],
   "source": [
    "# load query & answer dataset\n",
    "# query_answers = pd.read_parquet(\"hf://datasets/rag-datasets/rag-mini-wikipedia/data/test.parquet/part.0.parquet\")"
   ]
  },
  {
   "cell_type": "code",
   "execution_count": null,
   "id": "77994f3b-ded5-4288-bfeb-c9f21914c289",
   "metadata": {},
   "outputs": [],
   "source": [
    "# # Create a Faiss vector store for RAG\n",
    "# # If you already have an index created, skip a few coding cells to the LLM / embeddings setup\n",
    "\n",
    "# convert corpus into Document format\n",
    "# documents = [Document(text=passage) for passage in corpus['passage']] "
   ]
  },
  {
   "cell_type": "code",
   "execution_count": 4,
   "id": "376430dc-90f3-4a60-92db-e6b09d746214",
   "metadata": {},
   "outputs": [
    {
     "name": "stdout",
     "output_type": "stream",
     "text": [
      "True\n"
     ]
    }
   ],
   "source": [
    "# # Set up the faiss index\n",
    "d = 768 # dimensions of the input vector of the embedding model that we're going to use; in this case, the google embedding model\n",
    "faiss_index = faiss.IndexFlatL2(d)\n",
    "print(faiss_index.is_trained) # double check that the training worked"
   ]
  },
  {
   "cell_type": "code",
   "execution_count": 5,
   "id": "cb56af86-edc3-4ea7-a12b-31e9cb52b6d1",
   "metadata": {},
   "outputs": [],
   "source": [
    "# Set up the llm, embeddings, and Settings for Faiss \n",
    "llm = ChatGoogleGenerativeAI(model=\"gemini-1.5-flash\") # Replace with your LLM\n",
    "doc_embeddings = GoogleGenerativeAIEmbeddings(model=\"models/text-embedding-004\", embed_batch_size=1) # Replace with your embeddings model\n",
    "Settings.embed_model = doc_embeddings # used for LlamaIndex FaissVectorStore\n",
    "Settings.llm = llm # used for LlamaIndex FaissVectorStore"
   ]
  },
  {
   "cell_type": "code",
   "execution_count": 6,
   "id": "85e1fd14-7c26-4d61-8cfd-908171b9a63f",
   "metadata": {},
   "outputs": [],
   "source": [
    "# logging.basicConfig(stream=sys.stdout, level=logging.INFO)\n",
    "# logging.getLogger().addHandler(logging.StreamHandler(stream=sys.stdout))"
   ]
  },
  {
   "cell_type": "code",
   "execution_count": null,
   "id": "a851a131-53a1-4203-8039-8e6bd1f4844b",
   "metadata": {},
   "outputs": [],
   "source": [
    "# # Uncomment for when you need to re-embed and vectorize documents\n",
    "\n",
    "# vector_store = FaissVectorStore(faiss_index=faiss_index)\n",
    "# storage_context = StorageContext.from_defaults(vector_store=vector_store)\n",
    "# index = VectorStoreIndex.from_documents(\n",
    "#     test, storage_context=storage_context, show_progress=True\n",
    "# )\n"
   ]
  },
  {
   "cell_type": "code",
   "execution_count": null,
   "id": "6417f1bb-f31a-4f8a-9bfb-3600387dea04",
   "metadata": {},
   "outputs": [],
   "source": [
    "# My rate limits were exceeded when I tried to index the entire corpus, \n",
    "# so I had to divide the documents into smaller sections (150 at a time) for embedding and indexing\n",
    "\n",
    "# try dividing documents into smaller parts for ingestion\n",
    "fewer_docs = documents[0:150] \n",
    "\n",
    "# updating an index\n",
    "# https://docs.llamaindex.ai/en/stable/module_guides/indexing/document_management/\n",
    "\n",
    "# insert one document at a time, waiting between insertion\n",
    "for i in fewer_docs:\n",
    "    index.insert(i)\n",
    "    time.sleep(5)\n",
    "\n",
    "# index.refresh_ref_docs(fewer_docs) # Alternatively, to add new documents to index as well as to update existing docs as needed"
   ]
  },
  {
   "cell_type": "code",
   "execution_count": 102,
   "id": "5e851972-860f-40c2-a9d0-b9ee3b67de9b",
   "metadata": {},
   "outputs": [
    {
     "data": {
      "text/plain": [
       "3200"
      ]
     },
     "execution_count": 102,
     "metadata": {},
     "output_type": "execute_result"
    }
   ],
   "source": [
    "# checking length of index to be sure all documents were indexed\n",
    "len(index.ref_doc_info) # gives list of all nodes"
   ]
  },
  {
   "cell_type": "code",
   "execution_count": 101,
   "id": "ca3f2ec5-5781-4171-8103-a0a96055eb79",
   "metadata": {},
   "outputs": [
    {
     "data": {
      "text/plain": [
       "'95634851-570e-454e-983f-6634eeb72aee'"
      ]
     },
     "execution_count": 101,
     "metadata": {},
     "output_type": "execute_result"
    }
   ],
   "source": [
    "# # Save index to disk\n",
    "# index.storage_context.persist()\n",
    "\n",
    "# # Save/remember index id for loading next time\n",
    "# # '95634851-570e-454e-983f-6634eeb72aee' is index for rag_mini_wikipedia dataset\n",
    "# index.index_id"
   ]
  },
  {
   "cell_type": "code",
   "execution_count": 8,
   "id": "76513951-8ee0-41ce-b19c-d30fbb53cf85",
   "metadata": {},
   "outputs": [
    {
     "name": "stdout",
     "output_type": "stream",
     "text": [
      "INFO:root:Loading llama_index.vector_stores.faiss.base from ./storage/default__vector_store.json.\n",
      "Loading llama_index.vector_stores.faiss.base from ./storage/default__vector_store.json.\n",
      "INFO:llama_index.core.indices.loading:Loading indices with ids: ['95634851-570e-454e-983f-6634eeb72aee']\n",
      "Loading indices with ids: ['95634851-570e-454e-983f-6634eeb72aee']\n"
     ]
    }
   ],
   "source": [
    "# After you have a saved index, load that index for RAG answer generation:\n",
    "\n",
    "# load index from disk\n",
    "vector_store = FaissVectorStore.from_persist_dir(\"./storage\")\n",
    "storage_context = StorageContext.from_defaults(\n",
    "    vector_store=vector_store, persist_dir=\"./storage\"\n",
    ")\n",
    "# My local index id '95634851-570e-454e-983f-6634eeb72aee' contains 3200 documents from the rag_mini_wikipedia dataset\n",
    "index = load_index_from_storage(storage_context=storage_context, index_id='95634851-570e-454e-983f-6634eeb72aee')"
   ]
  },
  {
   "cell_type": "code",
   "execution_count": 11,
   "id": "6f78a530-0747-4b30-8006-0c27be126dbe",
   "metadata": {},
   "outputs": [],
   "source": [
    "# # Optional- if you'd like to query your index\n",
    "# # Set up query and chat engines with the index\n",
    "query_engine = index.as_query_engine(similarity_top_k=10)\n",
    "# chat_engine = index.as_chat_engine(similarity_top_k=10, chat_mode='context')"
   ]
  },
  {
   "cell_type": "code",
   "execution_count": null,
   "id": "6a12fd58-2faf-4742-a1c3-097d23955870",
   "metadata": {},
   "outputs": [],
   "source": [
    "# # Example query and response with Gemini and query_engine\n",
    "# query = \"Where was Lincoln born?\"\n",
    "# response = query_engine.query(query) \n",
    "# print(response.response)"
   ]
  },
  {
   "cell_type": "code",
   "execution_count": 14,
   "id": "80478bd3-9752-4c65-8ed5-d66e9e162dfe",
   "metadata": {},
   "outputs": [
    {
     "name": "stdout",
     "output_type": "stream",
     "text": [
      "0.5635491609573364 -> Abraham Lincoln was born on February 12, 1809, to Thomas Lincoln and Nancy Hanks, two uneducated farmers. Lincoln was born in a one-room log cabin on the   Sinking Spring Farm, in southeast Hardin County, Kentucky (now part of LaRue County). This area was at the time considered the \"frontier.\" The name \"Abraham\" was chosen to commemorate his grandfather, who was killed in an American Indian raid in 1786. Donald (1995) p 21  His elder sister, Sarah Lincoln, was born in 1807; a younger brother, Thomas Jr, died in infancy. It is sometimes debated whether Lincoln had Marfan syndrome, an autosomal dominant disorder of the connective tissue characterized by long limbs and great physical stature.  Marfan syndrome: Introduction Aug 1, 2006\n",
      "0.6031718850135803 -> Lincoln's birthplace and family home are national historic memorials: the Abraham Lincoln Birthplace National Historic Site in Hodgenville, and the Lincoln Home National Historic Site in Springfield, Illinois. The Abraham Lincoln Presidential Library and Museum opened in Springfield in 2005; it is a major tourist attraction, with state-of-the-art exhibits. The Abraham Lincoln National Cemetery is located in Elwood, Illinois.\n",
      "0.6407632827758789 -> Counties in 19 U.S. states (Arkansas, Colorado, Idaho, Kansas, Maine, Minnesota, Mississippi, Montana, Nebraska, Nevada, New Mexico, Oklahoma, Oregon, South Dakota, Tennessee, West Virginia, Washington, Wisconsin, and Wyoming) are named after Lincoln.\n",
      "0.6434370279312134 -> In 1834, he won election to the state legislature, and after coming across the Commentaries on the Laws of England, began to teach himself law. Admitted to the bar in 1837, he moved to Springfield, Illinois, that same year and began to practice law with John T. Stuart. With a reputation as a formidable adversary during cross-examinations and in his closing arguments, Lincoln became one of the most respected and successful lawyers in Illinois and grew steadily more prosperous.\n",
      "0.6666511297225952 -> In 1830, after more economic and land-title difficulties in Indiana, the family settled on public land  /ref> in Macon County, Illinois. Some scholars believe that it was his father's repeated land-title difficulties and ensuing financial hardships that led young Lincoln to study law.  The following winter was desolate and especially brutal, and the family considered moving back to Indiana. The following year, when his father relocated the family to a new homestead in Coles County, Illinois, twenty-two-year-old Lincoln struck out on his own, canoeing down the Sangamon River to the village of New Salem in Sangamon County. Later that year, hired by New Salem businessman Denton Offutt and accompanied by friends, he took goods from New Salem to New Orleans via flatboat on the Sangamon, Illinois and Mississippi rivers. While in New Orleans, he may have witnessed a slave auction, though as a frequent visitor to Kentucky, he would have had several earlier opportunities to witness  similar sales.  Donald, (1995) ch. 2.\n",
      "0.6955994367599487 -> Lincoln has been memorialized in many city names, notably the capital of Nebraska. Lincoln, Illinois, is the only city to be named for Abraham Lincoln before he became President. Lincoln's name and image appear in numerous places. These include the Lincoln Memorial in Washington, D.C., the U.S. Lincoln $5 bill and the Lincoln cent, Lincoln's sculpture on the Mount Rushmore, and the Lincoln Home National Historic Site in Springfield, Illinois. In addition, New Salem, Illinois (a reconstruction of Lincoln's early adult hometown), Ford's Theatre, and Petersen House (where he died) are all preserved as museums. The Lincoln Shrine in Redlands, California, is located behind the A.K. Smiley Public Library. The state nickname for Illinois is Land of Lincoln.\n",
      "0.7073116302490234 -> On November 4 1842 Lincoln married Mary Todd, daughter of a prominent slave-owning family from Kentucky. The couple had four sons. Robert Todd Lincoln was born in Springfield, Illinois on 1 August, 1843. Their only child to survive into adulthood, young Robert attended Phillips Exeter Academy and Harvard College. Robert died on July 26, 1926, in Manchester, Vermont.\n",
      "0.7206003069877625 -> Lincoln was just seven years old when, in 1816, the family was forced to make a new start in Perry County (now in Spencer County), Indiana. He later noted that this move was \"partly on account of slavery,\" and partly because of difficulties with land deeds in Kentucky: Unlike land in the Northwest Territory, Kentucky never had a proper U.S. survey, and farmers often had difficulties proving title to their property. Lincoln was only nine when his mother, then thirty-four years old, died of milk sickness. Soon afterwards, his father remarried  to Sarah Bush Johnston. Sarah Lincoln raised young Lincoln like one of her own children. Years later she compared Lincoln to her own son, saying \"Both were good boys, but I must say â both now being dead that Abe was the best boy I ever saw or ever expect to see.\" Lincoln was affectionate toward his stepmother, whom he would call \"Mother\" for the rest of his life, but he was distant from his father.  Donald, (1995) pp. 28, 152.\n",
      "0.721005380153656 -> Lincoln began his political career in 1832, at age 23, with an unsuccessful campaign for the Illinois General Assembly, as a member of the Whig Party.  He ran eighth in a field of 13 candidates.  The centerpiece of his platform was the undertaking of navigational improvements on the Sangamon River. He believed that this would attract steamboat traffic, which would allow the sparsely populated, poorer areas along the river to flourish.\n",
      "0.7241251468658447 -> To commemorate his upcoming 200th birthday in February 2009, Congress established the Abraham Lincoln Bicentennial Commission (ALBC) in 2000. Dedicated to renewing American appreciation of Lincolnâs legacy, the 15-member commission is made up of lawmakers and scholars and also features an adivsory board of over 130 various Lincoln historians and enthusiasts. Located at Library of Congress in Washington, D.C., the ALBC is the organizing force behind numerous tributes, programs and cultural events highlighting a two-year celebration scheduled to begin in February 2008 at Lincolnâs birthplace:  Hodgenville, Kentucky.\n"
     ]
    }
   ],
   "source": [
    "# # Get ranked scores for top k RAG source nodes\n",
    "for node in response.source_nodes:\n",
    "    print(f\"{node.get_score()} -> {node.text}\")\n",
    "\n",
    "# ToDo: I'm not sure why the node scores are opposite ranked (lower is better) than what I expect, \n",
    "# but the text itself / node order of ranking matches most relevant to least relevant"
   ]
  },
  {
   "cell_type": "code",
   "execution_count": null,
   "id": "629fdcc4-3641-455e-8c5f-cd9d690613eb",
   "metadata": {},
   "outputs": [],
   "source": []
  },
  {
   "cell_type": "code",
   "execution_count": 19,
   "id": "f9eadd53-6a42-46a5-9d7a-a45c36df44ff",
   "metadata": {},
   "outputs": [],
   "source": [
    "# Need to populate the HuggingFace dataset with answers & context for evaluation\n",
    "testset_pd = pd.read_csv(\"datasets/rag_mini_wikipedia_query_answers.csv\", index_col = ['id'])"
   ]
  },
  {
   "cell_type": "code",
   "execution_count": null,
   "id": "b00bbd66-154f-4ceb-8390-f5df0190db05",
   "metadata": {},
   "outputs": [],
   "source": [
    "# Generate answers from the LLM\n",
    "query_engine = index.as_query_engine(similarity_top_k=10)\n",
    "# answers = [query_engine.query(q) for q in testset_pd['question']] # if not concerned on rate limiting\n",
    "\n",
    "# to avoid rate limit issues:\n",
    "answers = []\n",
    "for q in testset_pd['question']:\n",
    "    answer = query_engine.query(q)\n",
    "    answers.append(answer)\n",
    "    time.sleep(5)"
   ]
  },
  {
   "cell_type": "code",
   "execution_count": 96,
   "id": "036f716a-82a2-4383-9083-97fe88fca025",
   "metadata": {},
   "outputs": [],
   "source": [
    "# Parse out new 'answer' and 'contexts' columns\n",
    "answers_new = []\n",
    "context_new = []\n",
    "for i in answers:\n",
    "    answers_new.append(i.response)\n",
    "    context_new.append([c.node.get_content() for c in i.source_nodes])"
   ]
  },
  {
   "cell_type": "code",
   "execution_count": null,
   "id": "c6f41df0-22d6-4f37-96ab-1a12216ced39",
   "metadata": {},
   "outputs": [],
   "source": [
    "testset_pd = testset_pd.rename(columns={\"answer\":\"ground_truth\"}) # Keeping original answer as the ground truth answer\n",
    "testset_pd['contexts'] = context_new\n",
    "testset_pd['answer'] = answers_new"
   ]
  },
  {
   "cell_type": "code",
   "execution_count": 107,
   "id": "6879d637-f560-4c32-acfc-d3ff66bbaa44",
   "metadata": {},
   "outputs": [],
   "source": [
    "# # Save newly completed dataset\n",
    "# testset_pd.to_csv('datasets/rag_mini_wikipedia_complete.csv', index=True, index_label=[\"id\"])"
   ]
  },
  {
   "cell_type": "code",
   "execution_count": null,
   "id": "21f4902d-8f5f-414b-8dc9-34b44ae7bfa5",
   "metadata": {},
   "outputs": [],
   "source": []
  }
 ],
 "metadata": {
  "kernelspec": {
   "display_name": "research2",
   "language": "python",
   "name": "research2"
  },
  "language_info": {
   "codemirror_mode": {
    "name": "ipython",
    "version": 3
   },
   "file_extension": ".py",
   "mimetype": "text/x-python",
   "name": "python",
   "nbconvert_exporter": "python",
   "pygments_lexer": "ipython3",
   "version": "3.11.8"
  }
 },
 "nbformat": 4,
 "nbformat_minor": 5
}
