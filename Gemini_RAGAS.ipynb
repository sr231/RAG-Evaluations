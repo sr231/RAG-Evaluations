{
 "cells": [
  {
   "cell_type": "code",
   "execution_count": 1,
   "id": "bd552471-bc05-4749-b207-9be5e7e2d0ee",
   "metadata": {},
   "outputs": [],
   "source": [
    "# This notebook uses the RAGAS evaluation library to evaluate several metrics for a RAG pipeline\n",
    "# I use the Google Gemini API (free tier, local API key), but RAGAS is compatible with several LLMs\n",
    "\n",
    "# Google Gemini: https://ai.google.dev/gemini-api/docs/models/gemini\n",
    "# RAGAS: https://docs.ragas.io/en/stable/\n",
    "# I used RAGAS v0.1.15 (mine was dev version from Github, but 0.1.15 from PyPI should work fine). \n",
    "\n",
    "# Note: I had to edit underlying RAGAS library (cloned locally, edited files, then pip -e installed locally) for this issue re: temperature with Gemini:\n",
    "# https://github.com/explodinggradients/ragas/pull/657/files\n",
    "# https://github.com/explodinggradients/ragas/issues/678\n",
    "# Edits simply remove the temperature variable from the relevant source files; see notes.txt for more specific info\n",
    "\n",
    "# RAGAS had a large redesign from version 0.1 to 0.2 : https://docs.ragas.io/en/stable/howtos/migrations/migrate_from_v01_to_v02/\n",
    "# - Note that on RAGAS version 0.2.6, the temperature edits did not make RAGAS compatible with Gemini.\n",
    "# - There are open Github issues about Gemini's compatibility for RAGAS version 2+; more time and edits would be needed."
   ]
  },
  {
   "cell_type": "code",
   "execution_count": 2,
   "id": "44922bc8-8feb-44cd-9541-84618200beb4",
   "metadata": {},
   "outputs": [],
   "source": [
    "# RAGAS metrics guide: https://docs.ragas.io/en/latest/concepts/metrics/index.html#ragas-metrics\n",
    "\n",
    "# Faithfulness - Measures the factual consistency of the answer to the context based on the question.\n",
    "# Context_precision - Measures how relevant the retrieved context is to the question, conveying the quality of the retrieval pipeline.\n",
    "# Answer_relevancy - Measures how relevant the answer is to the question.\n",
    "# Context_recall - Measures the retriever’s ability to retrieve all necessary information required to answer the question.\n",
    "\n",
    "# Faithfulness with HHEM - Similar to Faithfulness but uses a HuggingFace model (Vectara's HHEM 2.1 classifier) to detect hallucinations\n",
    "# https://docs.ragas.io/en/stable/concepts/metrics/faithfulness.html#faithfullness-with-hhem-2-1-model\n",
    "# https://huggingface.co/vectara/hallucination_evaluation_model\n",
    "\n",
    "# RAGAS has other metrics as well : https://docs.ragas.io/en/latest/concepts/metrics/index.html"
   ]
  },
  {
   "cell_type": "code",
   "execution_count": 1,
   "id": "0f13f959-5e0b-4e76-b116-da5da6a04ae6",
   "metadata": {},
   "outputs": [],
   "source": [
    "# Set do not track variable for RAGAS\n",
    "# More info: https://github.com/explodinggradients/ragas/issues/49\n",
    "import os\n",
    "os.environ[\"RAGAS_DO_NOT_TRACK\"] = \"True\""
   ]
  },
  {
   "cell_type": "code",
   "execution_count": 2,
   "id": "f30fd81d-ce93-4e03-bbec-862ece105b76",
   "metadata": {},
   "outputs": [],
   "source": [
    "import logging\n",
    "import sys\n",
    "import textwrap\n",
    "import ast\n",
    "import time\n",
    "import pandas as pd\n",
    "from IPython.display import display\n",
    "from IPython.display import Markdown\n",
    "\n",
    "# Replace these two Google Gemini imports with imports for your LLM\n",
    "import google.generativeai as genai\n",
    "from langchain_google_genai import ChatGoogleGenerativeAI, GoogleGenerativeAIEmbeddings\n",
    "\n",
    "from langchain_community.document_loaders import DirectoryLoader\n",
    "from llama_index.core import Document, VectorStoreIndex, Settings, StorageContext, load_index_from_storage\n",
    "from llama_index.vector_stores.faiss import FaissVectorStore\n",
    "import faiss\n",
    "\n",
    "import ragas\n",
    "from ragas.testset.generator import TestsetGenerator\n",
    "from ragas.testset.evolutions import simple, reasoning, multi_context\n",
    "from ragas.run_config import RunConfig\n",
    "from ragas.metrics import (\n",
    "    answer_relevancy,\n",
    "    faithfulness,\n",
    "    context_recall,\n",
    "    context_precision,\n",
    ")\n",
    "from ragas import evaluate\n",
    "from datasets import Dataset"
   ]
  },
  {
   "cell_type": "code",
   "execution_count": 3,
   "id": "56373c08-f6b4-452a-8eba-63a20455d902",
   "metadata": {},
   "outputs": [],
   "source": [
    "def to_markdown(text):\n",
    "  text = text.replace('•', '  *')\n",
    "  return Markdown(textwrap.indent(text, '> ', predicate=lambda _: True))"
   ]
  },
  {
   "cell_type": "code",
   "execution_count": 4,
   "id": "11b65e5d-d679-49c4-ade6-2719fecb55d4",
   "metadata": {},
   "outputs": [
    {
     "data": {
      "text/plain": [
       "True"
      ]
     },
     "execution_count": 4,
     "metadata": {},
     "output_type": "execute_result"
    }
   ],
   "source": [
    "# Double check the RAGAS do not track setting\n",
    "ragas._analytics.do_not_track()"
   ]
  },
  {
   "cell_type": "code",
   "execution_count": 5,
   "id": "9ca08633-0877-4773-93ab-d4a78b8f5662",
   "metadata": {},
   "outputs": [],
   "source": [
    "# Set up local API key\n",
    "genai.configure(api_key=os.environ[\"GOOGLE_API_KEY\"])"
   ]
  },
  {
   "cell_type": "code",
   "execution_count": null,
   "id": "367e22c5-2176-4d06-a69e-d1aa3eb23ad5",
   "metadata": {},
   "outputs": [],
   "source": []
  },
  {
   "cell_type": "code",
   "execution_count": null,
   "id": "179c80c7-7695-4fa7-9b85-c48d949374d8",
   "metadata": {},
   "outputs": [],
   "source": [
    "# Establish RAG pipeline with Gemini"
   ]
  },
  {
   "cell_type": "code",
   "execution_count": 7,
   "id": "5248aab9-6fcd-46bf-b260-773c23b8845d",
   "metadata": {},
   "outputs": [],
   "source": [
    "# # Create a Faiss vector store for RAG\n",
    "# # If you already have an index created, skip a few coding cells to the LLM / embeddings setup\n",
    "\n",
    "# # Example of creating a small vector store\n",
    "# # Using 4 State of the Union speeches, all text from whitehouse.gov briefing room speeches posted online, edited to include a title with the date of the speech\n",
    "# # Example from 2024:\n",
    "# # https://www.whitehouse.gov/briefing-room/speeches-remarks/2024/03/07/remarks-of-president-joe-biden-state-of-the-union-address-as-prepared-for-delivery-2/\n",
    "\n",
    "# # load and parse files\n",
    "# sotu = []\n",
    "# newfiles = [\"./Speeches/titleedits/state_of_the_union_042921.txt\", \"./Speeches/titleedits/state_of_the_union_030122.txt\", \"./Speeches/titleedits/state_of_the_union_020723.txt\", \"./Speeches/titleedits/state_of_the_union_030724.txt\"]\n",
    "# for i in newfiles:\n",
    "#     with open(i) as file:\n",
    "#         for line in file:\n",
    "#             nl = line.rstrip()\n",
    "#             if nl != '':\n",
    "#                 sotu.append(nl)\n",
    "\n",
    "# # Convert into Document format for Faiss\n",
    "# documents = [Document(text=line) for line in sotu]"
   ]
  },
  {
   "cell_type": "code",
   "execution_count": 9,
   "id": "5fb9bf47-2a72-41a7-af8e-ae663bf95e47",
   "metadata": {},
   "outputs": [
    {
     "data": {
      "text/plain": [
       "Document(id_='235d1f3b-a216-412c-8459-51d27c73c8d0', embedding=None, metadata={}, excluded_embed_metadata_keys=[], excluded_llm_metadata_keys=[], relationships={}, text='May God protect our troops.', mimetype='text/plain', start_char_idx=None, end_char_idx=None, text_template='{metadata_str}\\n\\n{content}', metadata_template='{key}: {value}', metadata_seperator='\\n')"
      ]
     },
     "execution_count": 9,
     "metadata": {},
     "output_type": "execute_result"
    }
   ],
   "source": [
    "# # Example of a loaded Document line\n",
    "# documents[-1]"
   ]
  },
  {
   "cell_type": "code",
   "execution_count": null,
   "id": "53ed3997-3a20-4a99-a9c1-7cc6d6a217e6",
   "metadata": {},
   "outputs": [],
   "source": [
    "# # Set up the Faiss index\n",
    "# d = 768 # dimensions of the input vector of the embedding model that we're going to use; in this case, the google embedding model\n",
    "# faiss_index = faiss.IndexFlatL2(d)\n",
    "# print(faiss_index.is_trained) # double check that the training worked"
   ]
  },
  {
   "cell_type": "code",
   "execution_count": 6,
   "id": "490599ac-6499-4174-999d-4ddc0609fd6e",
   "metadata": {},
   "outputs": [],
   "source": [
    "# Set up the llm, embeddings, and Settings for Faiss \n",
    "llm = ChatGoogleGenerativeAI(model=\"gemini-1.5-flash\") # Replace with your LLM\n",
    "doc_embeddings = GoogleGenerativeAIEmbeddings(model=\"models/text-embedding-004\") # Replace with your embeddings model\n",
    "Settings.embed_model = doc_embeddings # used for LlamaIndex FaissVectorStore\n",
    "Settings.llm = llm # used for LlamaIndex FaissVectorStore"
   ]
  },
  {
   "cell_type": "code",
   "execution_count": 7,
   "id": "c24d9337-5832-47d6-90df-6e73b3de8a9e",
   "metadata": {},
   "outputs": [],
   "source": [
    "logging.basicConfig(stream=sys.stdout, level=logging.INFO)\n",
    "logging.getLogger().addHandler(logging.StreamHandler(stream=sys.stdout))"
   ]
  },
  {
   "cell_type": "code",
   "execution_count": 8,
   "id": "d3171f73-723f-40f5-91d3-14e0f26173e0",
   "metadata": {},
   "outputs": [],
   "source": [
    "# # Uncomment for when you need to re-embed and vectorize documents\n",
    "\n",
    "# vector_store = FaissVectorStore(faiss_index=faiss_index)\n",
    "# storage_context = StorageContext.from_defaults(vector_store=vector_store)\n",
    "# index = VectorStoreIndex.from_documents(\n",
    "#     documents, storage_context=storage_context, show_progress=True\n",
    "# )\n",
    "\n",
    "# # Save index to disk\n",
    "# index.storage_context.persist()\n",
    "\n",
    "# # Save/remember index id for loading next time\n",
    "# index.index_id"
   ]
  },
  {
   "cell_type": "code",
   "execution_count": 8,
   "id": "60c8a330-0b12-434d-bc1c-4d8a7a1e32ae",
   "metadata": {},
   "outputs": [
    {
     "name": "stdout",
     "output_type": "stream",
     "text": [
      "INFO:root:Loading llama_index.vector_stores.faiss.base from ./storage/default__vector_store.json.\n",
      "Loading llama_index.vector_stores.faiss.base from ./storage/default__vector_store.json.\n",
      "INFO:llama_index.core.indices.loading:Loading indices with ids: ['95634851-570e-454e-983f-6634eeb72aee']\n",
      "Loading indices with ids: ['95634851-570e-454e-983f-6634eeb72aee']\n"
     ]
    }
   ],
   "source": [
    "# After you have a saved index, load that index for RAG answer generation:\n",
    "\n",
    "# load index from disk\n",
    "vector_store = FaissVectorStore.from_persist_dir(\"./storage\")\n",
    "storage_context = StorageContext.from_defaults(\n",
    "    vector_store=vector_store, persist_dir=\"./storage\"\n",
    ")\n",
    "# My local index id '3d3c99c5-aa1c-42d7-a9ce-c4bb12fbc6d5' uses the 4 speeches including a title that includes the date it was given\n",
    "# My local index id '95634851-570e-454e-983f-6634eeb72aee' contains 3200 documents from the rag_mini_wikipedia dataset\n",
    "index = load_index_from_storage(storage_context=storage_context, index_id='95634851-570e-454e-983f-6634eeb72aee')"
   ]
  },
  {
   "cell_type": "code",
   "execution_count": 11,
   "id": "8ba1e938-d2bc-4ef3-a9d2-f2bc01a41e98",
   "metadata": {},
   "outputs": [],
   "source": [
    "# # Optional- if you'd like to query your index\n",
    "# # Set up query and chat engines with the index\n",
    "# query_engine = index.as_query_engine(similarity_top_k=10)\n",
    "# chat_engine = index.as_chat_engine(similarity_top_k=10, chat_mode='context')"
   ]
  },
  {
   "cell_type": "code",
   "execution_count": null,
   "id": "2026088c-515b-4933-9ec9-d3a616870533",
   "metadata": {},
   "outputs": [],
   "source": [
    "# # Example query and response with Gemini and query_engine\n",
    "# query = \"What has the President done related to healthcare?\"\n",
    "# response = query_engine.query(query) \n",
    "# print(response.response)"
   ]
  },
  {
   "cell_type": "code",
   "execution_count": null,
   "id": "1e0178b0-ee47-4443-b8fa-c5cb3b4de228",
   "metadata": {},
   "outputs": [],
   "source": [
    "# # Get ranked scores for top k RAG source nodes\n",
    "# for node in response.source_nodes:\n",
    "#     print(f\"{node.get_score()} -> {node.text}\")"
   ]
  },
  {
   "cell_type": "code",
   "execution_count": null,
   "id": "0506d603-b9cb-43f1-b90b-99645cad7060",
   "metadata": {},
   "outputs": [],
   "source": [
    "# # Example of using the chat engine with our index\n",
    "# query = \"You are an expert speech analyst and specialize in analyzing Presidential State of the Union speeches. Could you please analyze the speeches and generate 2 questions and answers from each speech, providing the document filename of each speech that relates to each question?\"\n",
    "# response = chat_engine.chat(query) \n",
    "# print(response.response)"
   ]
  },
  {
   "cell_type": "code",
   "execution_count": 22,
   "id": "35114936-2d0c-4b06-99d7-16b4699d9388",
   "metadata": {},
   "outputs": [],
   "source": [
    "# # View chat history\n",
    "# chat_engine.chat_history"
   ]
  },
  {
   "cell_type": "code",
   "execution_count": null,
   "id": "bf198ee7-45f6-4573-8bcb-60b25e2b7af2",
   "metadata": {},
   "outputs": [],
   "source": []
  },
  {
   "cell_type": "code",
   "execution_count": 20,
   "id": "b1f8b91f-afc2-4916-a65b-4a4bcb088d7c",
   "metadata": {},
   "outputs": [],
   "source": [
    "# Code for RAGAS evaluation library to work with Gemini and our local RAG setup"
   ]
  },
  {
   "cell_type": "code",
   "execution_count": 21,
   "id": "af3f8028-582d-49b5-9939-45eb0d810501",
   "metadata": {},
   "outputs": [],
   "source": [
    "# Example of generating synthetic dataset with RAGAS\n",
    "\n",
    "# In a synthetic dataset, columns generated are 'question', 'contexts', 'ground_truth', 'evolution_type', 'metadata', and 'episode_done'\n",
    "# Ground truth is supposed to be the 'human' level answer vs the RAG answer\n",
    "\n",
    "# Notes: \n",
    "# - We have to generate the answer separately with our RAG, which then generates new context used.\n",
    "# - I use the context that was used to generate the answer for the metrics calculation, while still saving the old contexts column.\n",
    "# - The best thing to do would be to generate the answer when creating the synthetic test dataset, but this is not available in RAGAS.\n",
    "# - From a Github issue: Since you use the same LLM to generate your synthetic dataset ground_truth and your answer, \n",
    "# - it is possible the results of the RAG evaluation might be biased. This has not been studied."
   ]
  },
  {
   "cell_type": "code",
   "execution_count": 10,
   "id": "2002e239-4a5d-491d-b02b-611ae0f6afcb",
   "metadata": {},
   "outputs": [],
   "source": [
    "# Load documents for use in generating synthetic dataset with RAGAS\n",
    "loader = DirectoryLoader(\"./Speeches/titleedits\") # Loads all documents in the directory; there are parameters for ignoring or matching certain files\n",
    "documents = loader.load()"
   ]
  },
  {
   "cell_type": "code",
   "execution_count": 11,
   "id": "83aac065-04c4-46fc-baed-cdb9bf2d9825",
   "metadata": {},
   "outputs": [],
   "source": [
    "# Need to add 'filename' metadata for RAGAS to process documents\n",
    "for document in documents:\n",
    "    document.metadata['filename'] = document.metadata['source']"
   ]
  },
  {
   "cell_type": "code",
   "execution_count": 38,
   "id": "d2b846e0-b319-4e00-ae3a-8796cb4be771",
   "metadata": {},
   "outputs": [],
   "source": [
    "# Synthetic testset generator with Gemini models\n",
    "generator_llm = ChatGoogleGenerativeAI(model=\"gemini-1.5-flash\", timeout=240) # Other notable parameters: temperature=0.7, transport=\"rest\"\n",
    "critic_llm = ChatGoogleGenerativeAI(model=\"gemini-1.5-pro\", timeout=240) \n",
    "embeddings = GoogleGenerativeAIEmbeddings(model=\"models/text-embedding-004\", request_options={\"timeout\": 240}) \n",
    "\n",
    "generator = TestsetGenerator.from_langchain(\n",
    "    generator_llm,\n",
    "    critic_llm,\n",
    "    embeddings\n",
    ")"
   ]
  },
  {
   "cell_type": "code",
   "execution_count": 9,
   "id": "9cd22ec1-0bb5-4e12-8401-3866b2900d8e",
   "metadata": {},
   "outputs": [],
   "source": [
    "# Increase the timeout settings with RAGAS's RunConfig class\n",
    "\n",
    "# Note: For Gemini, the RAGAS internal RunConfig settings do a decent job at limiting the 429 resource exhausted warnings\n",
    "# (max_workers=1 still can send more requests to Gemini than the 15 requests per minute it allows)\n",
    "# Still very difficult to have the testset generation run successfully with Gemini free tier\n",
    "# I also tried the ratelimit and backoff libraries in Python, but I still got so many 429 warnings that the generation failed\n",
    "# Sometimes even the 1 max worker will not finish, but it will finish occasionally\n",
    "\n",
    "run_config = RunConfig(timeout=240, max_retries=20, max_wait=240, max_workers=1)"
   ]
  },
  {
   "cell_type": "code",
   "execution_count": 21,
   "id": "ea76249e-a95d-421f-bc02-a290bbc94e3a",
   "metadata": {},
   "outputs": [],
   "source": [
    "# Generate the synthetic dataset/testset\n",
    "def generate_testset_rate(docs):\n",
    "    \"\"\"\n",
    "    Calls the LLM and embeddings model to generate the synthetic dataset with rate limit run_config\n",
    "    Can change the distribution of simple, reasoning, and multi-context questions generated\n",
    "    \"\"\"\n",
    "    testset = generator.generate_with_langchain_docs(documents=documents, # Uses LangChain's DirectoryLoader source documents\n",
    "                                                     test_size=50, # Number of test samples to generate\n",
    "                                                     distributions={simple: 0.5, reasoning: 0.25, multi_context: 0.25}, # Different types of queries to generate\n",
    "                                                     is_async=False,\n",
    "                                                     raise_exceptions=True, \n",
    "                                                     run_config=run_config)\n",
    "    return testset"
   ]
  },
  {
   "cell_type": "code",
   "execution_count": null,
   "id": "d3e6006a-7672-4bc2-80ee-af126e85d8ac",
   "metadata": {},
   "outputs": [],
   "source": [
    "testset = generate_testset_rate(documents=documents, run_config=run_config) # ToDo: Test run_config here, may not have passed it before\n",
    "testset_pd = testset.to_pandas()"
   ]
  },
  {
   "cell_type": "code",
   "execution_count": 34,
   "id": "87fd9f5e-145f-4f79-a430-07c32e5b7aa8",
   "metadata": {},
   "outputs": [],
   "source": [
    "# # Save generated testset to csv \n",
    "# testset_pd.to_csv('datasets/testset_flash_pro15.csv', index=False)"
   ]
  },
  {
   "cell_type": "code",
   "execution_count": 23,
   "id": "7e411a9d-7aa3-4783-aa48-d6467a2b25d1",
   "metadata": {},
   "outputs": [],
   "source": [
    "# # Now generate answers for the testset, as answers are not automatically generated at creation\n",
    "\n",
    "# testset_pd = pd.read_csv(\"datasets/testset_flash_pro15.csv\", index_col = None)\n",
    "\n",
    "# Note: When saving, the 'contexts' column is saved as a string but needs to be a list\n",
    "# If you are importing testset_pd from a csv file, use the below code to change the column to a list\n",
    "\n",
    "# testset_pd['contexts'] = testset_pd['contexts'].apply(ast.literal_eval)"
   ]
  },
  {
   "cell_type": "code",
   "execution_count": null,
   "id": "c3dfd0ca-b9cd-4003-b6e3-addfc065a463",
   "metadata": {},
   "outputs": [],
   "source": [
    "# Generate answers using our query engine & Faiss vector database\n",
    "# Alternatively can use the chat_engine if memory between queries is needed (i.e., queries reference previous queries)\n",
    "query_engine = index.as_query_engine(similarity_top_k=10)\n",
    "answers = [query_engine.query(q) for q in testset_pd['question']]"
   ]
  },
  {
   "cell_type": "code",
   "execution_count": 25,
   "id": "33893af4-a200-4df9-9843-2e21a27d6e5d",
   "metadata": {},
   "outputs": [],
   "source": [
    "# Parse out new 'answer' and 'contexts' columns\n",
    "answers_new = []\n",
    "context_new = []\n",
    "for i in answers:\n",
    "    answers_new.append(i.response)\n",
    "    context_new.append([c.node.get_content() for c in i.source_nodes])\n",
    "\n",
    "testset_pd = testset_pd.rename(columns={\"contexts\":\"contexts_gt\"}) # Keeping old contexts that were used for testset/query generation (gt = ground truth)\n",
    "testset_pd['contexts'] = context_new\n",
    "testset_pd['answer'] = answers_new\n",
    "\n",
    "# Save complete synthetically created dataset/testset\n",
    "# testset_pd.to_csv('datasets/ragas_full_testset_flash_pro15.csv', index=False)"
   ]
  },
  {
   "cell_type": "code",
   "execution_count": 86,
   "id": "fbfc8109-0336-43b4-bf49-1ed6142b5cb8",
   "metadata": {},
   "outputs": [],
   "source": []
  },
  {
   "cell_type": "code",
   "execution_count": null,
   "id": "fe228932-95ed-4d8c-a556-0bfac692fefe",
   "metadata": {},
   "outputs": [],
   "source": [
    "# Evaluate a dataset with RAGAS"
   ]
  },
  {
   "cell_type": "code",
   "execution_count": 9,
   "id": "7866f0b2-d32b-45af-8a91-7d77fbb0a140",
   "metadata": {},
   "outputs": [],
   "source": [
    "# Read in dataset for evaluation\n",
    "testset_pd = pd.read_csv(\"datasets/rag_mini_wikipedia_complete_chat.csv\", index_col = None) \n",
    "\n",
    "# RAGAS expects the following columns (rename in dataset as needed) : \"question\", \"answer\", \"ground_truth\", \"source_file\", \"contexts\"\n",
    "#testset_pd = testset_pd.rename(columns={\"Query\": \"question\", \"Answer\": \"answer\", \"Expected_Output\": \"ground_truth\", \"Contexts\": \"orig_contexts\", \"Source_File\":\"source_file\", \"Document\": \"contexts\"})\n",
    "\n",
    "# Note: When saving a synthetic dataset, the 'contexts' column is saved as a string but needs to be a list for evaluation\n",
    "# If you are importing testset_pd from a csv file that is a synthetic dataset, use the below code to change the column to a list\n",
    "# This may apply to other datasets as well\n",
    "testset_pd['contexts'] = testset_pd['contexts'].apply(ast.literal_eval)"
   ]
  },
  {
   "cell_type": "code",
   "execution_count": null,
   "id": "d8e25f6c-47d0-4846-9856-b04be90b122e",
   "metadata": {},
   "outputs": [],
   "source": []
  },
  {
   "cell_type": "code",
   "execution_count": 10,
   "id": "0d735bf4-b628-4b08-b504-61c67b137d98",
   "metadata": {},
   "outputs": [],
   "source": [
    "# At least for RAGAS v0.1.15, we need to convert the pandas testset into Dataset format for the evaluate function to work\n",
    "# Note: I am also dropping the original contexts column here, as well as any extra columns\n",
    "testset_ds = Dataset.from_pandas(testset_pd.drop(\"id\", axis=1))"
   ]
  },
  {
   "cell_type": "code",
   "execution_count": 11,
   "id": "104fced3-164c-44df-a0b2-55e953d33d3e",
   "metadata": {},
   "outputs": [
    {
     "data": {
      "text/plain": [
       "Dataset({\n",
       "    features: ['question', 'ground_truth', 'contexts', 'answer'],\n",
       "    num_rows: 918\n",
       "})"
      ]
     },
     "execution_count": 11,
     "metadata": {},
     "output_type": "execute_result"
    }
   ],
   "source": [
    "testset_ds"
   ]
  },
  {
   "cell_type": "code",
   "execution_count": null,
   "id": "7243bd2c-df3a-462f-b051-063368a1a088",
   "metadata": {},
   "outputs": [],
   "source": []
  },
  {
   "cell_type": "code",
   "execution_count": 12,
   "id": "a39ae55f-204a-4b42-8811-710bd26502cd",
   "metadata": {},
   "outputs": [],
   "source": [
    "# Note: I'm using the normal LLM, not the RAG context-loaded query engine\n",
    "# There is code at the bottom of the notebook for using the query engine, but it appears to just use the query engine to develop\n",
    "# new answers and contexts and then to use the non-RAG LLM for the metrics evaluation\n",
    "# That code also appears to be broken from RAGAS right now, so I was forced to use the regular Gemini LLM anyway\n",
    "\n",
    "# Note: The RAGAS evaluate function (below) may re-run the query and give new answers and contexts\n",
    "# See this issue: https://github.com/explodinggradients/ragas/issues/1211\n",
    "# In testing, the results still output the same answers and contexts as I started with, so I'm not concerned by this\n",
    "\n",
    "ragas_llm = ChatGoogleGenerativeAI(model=\"gemini-1.5-flash\", timeout=600) \n",
    "embeddings = GoogleGenerativeAIEmbeddings(model=\"models/text-embedding-004\")"
   ]
  },
  {
   "cell_type": "code",
   "execution_count": 13,
   "id": "47977c82-14b7-4291-9b53-3c9ce0510487",
   "metadata": {},
   "outputs": [],
   "source": [
    "# Increase the timeout settings\n",
    "run_config = RunConfig(timeout=300, max_wait=3000, max_workers=1, max_retries=10)"
   ]
  },
  {
   "cell_type": "code",
   "execution_count": null,
   "id": "0d845d9f-6d08-4fde-8ded-361b7d12e3f7",
   "metadata": {},
   "outputs": [],
   "source": [
    "# Two coding options for running evaluate:\n",
    "# 1) Bulk run with the evaluate function, as intended. \n",
    "# Unfortunately rate-limiting does not work well with this, \n",
    "# and 2/3 of my 800 example dataset received NaN results because of rate limiting issues.\n",
    "# Ex: Evaluating 1 example for 1 metric resulted in 10 API calls.\n",
    "\n",
    "# 2) Run the evaluation in small batches\n",
    "# This allowed me to finish the evaluation of the entire dataset without rate limiting errors.\n",
    "\n",
    "# Bulk evaluation of the dataset\n",
    "evalresult = evaluate(\n",
    "    metrics = [\n",
    "        context_precision\n",
    "        faithfulness,\n",
    "        answer_relevancy,\n",
    "        context_recall\n",
    "    ],\n",
    "    dataset = testset_ds,\n",
    "    llm = ragas_llm,\n",
    "    embeddings=embeddings,\n",
    "    run_config=run_config\n",
    ")\n",
    "\n",
    "# Optional parameter: in_ci: bool, Whether the evaluation is running in CI or not. \n",
    "# If set to True then some metrics will be run to increase the reproducability of the evaluations. \n",
    "# This will increase the runtime and cost of evaluations. Default is False.\n",
    "# In practice, setting in_ci = True resulted in a lot of timeouts / no score calculated / NaN"
   ]
  },
  {
   "cell_type": "code",
   "execution_count": 61,
   "id": "d5ecd8cf-8642-4ea0-ac1a-c6bcbb05a621",
   "metadata": {},
   "outputs": [
    {
     "data": {
      "text/plain": [
       "{'context_precision': 0.5979, 'faithfulness': 1.0000, 'answer_relevancy': 0.6533, 'context_recall': 0.8000}"
      ]
     },
     "execution_count": 61,
     "metadata": {},
     "output_type": "execute_result"
    }
   ],
   "source": [
    "# Example result:\n",
    "# {'context_precision': 0.4676, 'faithfulness': 1.0000, 'answer_relevancy': 0.6515, 'context_recall': 0.8000}\n",
    "evalresult"
   ]
  },
  {
   "cell_type": "code",
   "execution_count": 34,
   "id": "494b292a-c1e2-4da7-a737-9adb5267fb4f",
   "metadata": {},
   "outputs": [],
   "source": [
    "# evalresult.to_pandas() # Returns the dataset with scores for each example"
   ]
  },
  {
   "cell_type": "code",
   "execution_count": 14,
   "id": "c5e33577-7183-4d31-90d6-72134e9cf5a1",
   "metadata": {},
   "outputs": [],
   "source": [
    "# Setup for smaller batches\n",
    "testset_results = pd.DataFrame()"
   ]
  },
  {
   "cell_type": "code",
   "execution_count": 22,
   "id": "17709e07-b809-4342-be28-33e65503ad7e",
   "metadata": {},
   "outputs": [
    {
     "name": "stdout",
     "output_type": "stream",
     "text": [
      "908\n"
     ]
    },
    {
     "data": {
      "application/vnd.jupyter.widget-view+json": {
       "model_id": "e9adde3a6a3343daa6466e0957d04592",
       "version_major": 2,
       "version_minor": 0
      },
      "text/plain": [
       "Evaluating:   0%|          | 0/1 [00:00<?, ?it/s]"
      ]
     },
     "metadata": {},
     "output_type": "display_data"
    },
    {
     "name": "stdout",
     "output_type": "stream",
     "text": [
      "909\n"
     ]
    },
    {
     "data": {
      "application/vnd.jupyter.widget-view+json": {
       "model_id": "2bd74d6f23134addbd6500d406692228",
       "version_major": 2,
       "version_minor": 0
      },
      "text/plain": [
       "Evaluating:   0%|          | 0/1 [00:00<?, ?it/s]"
      ]
     },
     "metadata": {},
     "output_type": "display_data"
    },
    {
     "name": "stdout",
     "output_type": "stream",
     "text": [
      "910\n"
     ]
    },
    {
     "data": {
      "application/vnd.jupyter.widget-view+json": {
       "model_id": "463c3fd1a37d4ef386c6c7265025e3f3",
       "version_major": 2,
       "version_minor": 0
      },
      "text/plain": [
       "Evaluating:   0%|          | 0/1 [00:00<?, ?it/s]"
      ]
     },
     "metadata": {},
     "output_type": "display_data"
    },
    {
     "name": "stdout",
     "output_type": "stream",
     "text": [
      "911\n"
     ]
    },
    {
     "data": {
      "application/vnd.jupyter.widget-view+json": {
       "model_id": "db3a968b91fd451283f99f8b8e24856c",
       "version_major": 2,
       "version_minor": 0
      },
      "text/plain": [
       "Evaluating:   0%|          | 0/1 [00:00<?, ?it/s]"
      ]
     },
     "metadata": {},
     "output_type": "display_data"
    },
    {
     "name": "stdout",
     "output_type": "stream",
     "text": [
      "912\n"
     ]
    },
    {
     "data": {
      "application/vnd.jupyter.widget-view+json": {
       "model_id": "cb09b311d3a84bc2971df1e9607ad1aa",
       "version_major": 2,
       "version_minor": 0
      },
      "text/plain": [
       "Evaluating:   0%|          | 0/1 [00:00<?, ?it/s]"
      ]
     },
     "metadata": {},
     "output_type": "display_data"
    },
    {
     "name": "stdout",
     "output_type": "stream",
     "text": [
      "913\n"
     ]
    },
    {
     "data": {
      "application/vnd.jupyter.widget-view+json": {
       "model_id": "72c9c734bab74ed2b30dee651b0c5634",
       "version_major": 2,
       "version_minor": 0
      },
      "text/plain": [
       "Evaluating:   0%|          | 0/1 [00:00<?, ?it/s]"
      ]
     },
     "metadata": {},
     "output_type": "display_data"
    },
    {
     "name": "stdout",
     "output_type": "stream",
     "text": [
      "914\n"
     ]
    },
    {
     "data": {
      "application/vnd.jupyter.widget-view+json": {
       "model_id": "f72bbf47eef0430299d9154dd3a006e7",
       "version_major": 2,
       "version_minor": 0
      },
      "text/plain": [
       "Evaluating:   0%|          | 0/1 [00:00<?, ?it/s]"
      ]
     },
     "metadata": {},
     "output_type": "display_data"
    },
    {
     "name": "stdout",
     "output_type": "stream",
     "text": [
      "915\n"
     ]
    },
    {
     "data": {
      "application/vnd.jupyter.widget-view+json": {
       "model_id": "a925d475b07d410a9f6ff03c14f4a912",
       "version_major": 2,
       "version_minor": 0
      },
      "text/plain": [
       "Evaluating:   0%|          | 0/1 [00:00<?, ?it/s]"
      ]
     },
     "metadata": {},
     "output_type": "display_data"
    },
    {
     "name": "stdout",
     "output_type": "stream",
     "text": [
      "916\n"
     ]
    },
    {
     "data": {
      "application/vnd.jupyter.widget-view+json": {
       "model_id": "303de57935114b17a8435bb46a31654b",
       "version_major": 2,
       "version_minor": 0
      },
      "text/plain": [
       "Evaluating:   0%|          | 0/1 [00:00<?, ?it/s]"
      ]
     },
     "metadata": {},
     "output_type": "display_data"
    },
    {
     "name": "stdout",
     "output_type": "stream",
     "text": [
      "917\n"
     ]
    },
    {
     "data": {
      "application/vnd.jupyter.widget-view+json": {
       "model_id": "3aaf176f89ed403fb3bc6ee9b71d80a3",
       "version_major": 2,
       "version_minor": 0
      },
      "text/plain": [
       "Evaluating:   0%|          | 0/1 [00:00<?, ?it/s]"
      ]
     },
     "metadata": {},
     "output_type": "display_data"
    }
   ],
   "source": [
    "# Iterate through dataset for smaller batches to be evaluated\n",
    "for i in range(908,918):  # Choose the batch size in the range selection # last 297 didn't execute # If I missed one it was in 390-393 #895 & 896 didn't execute; didn't save\n",
    "    tempdataset = testset_ds.select(range(i, i+1)) # Match the batch size in the dataset selection\n",
    "    print(i)\n",
    "    evalresult = evaluate(\n",
    "        metrics = [\n",
    "            context_precision\n",
    "            #faithfulness,\n",
    "            #answer_relevancy,\n",
    "            #context_recall\n",
    "        ],\n",
    "        dataset = tempdataset,\n",
    "        llm = ragas_llm,\n",
    "        embeddings=embeddings,\n",
    "        run_config=run_config\n",
    "    )\n",
    "    testset_results = pd.concat([testset_results, evalresult.to_pandas()])\n",
    "    time.sleep(60) # RAGAS generates ~10 API calls per example. Gemini free-tier limit is 15RPM, so we need to wait a minute between calls for the limit to reset."
   ]
  },
  {
   "cell_type": "code",
   "execution_count": 23,
   "id": "c32d0891-ed1f-4d26-a3ec-d8cfbbd6f57b",
   "metadata": {},
   "outputs": [
    {
     "data": {
      "text/plain": [
       "question             0\n",
       "ground_truth         0\n",
       "contexts             0\n",
       "answer               0\n",
       "context_precision    0\n",
       "dtype: int64"
      ]
     },
     "execution_count": 23,
     "metadata": {},
     "output_type": "execute_result"
    }
   ],
   "source": [
    "testset_results.isnull().sum()\n",
    "#testset_results #testset_results.iloc[0:147]"
   ]
  },
  {
   "cell_type": "code",
   "execution_count": 28,
   "id": "d4c6624e-ce8d-4888-8483-d1bc68ea403c",
   "metadata": {},
   "outputs": [
    {
     "data": {
      "text/html": [
       "<div>\n",
       "<style scoped>\n",
       "    .dataframe tbody tr th:only-of-type {\n",
       "        vertical-align: middle;\n",
       "    }\n",
       "\n",
       "    .dataframe tbody tr th {\n",
       "        vertical-align: top;\n",
       "    }\n",
       "\n",
       "    .dataframe thead th {\n",
       "        text-align: right;\n",
       "    }\n",
       "</style>\n",
       "<table border=\"1\" class=\"dataframe\">\n",
       "  <thead>\n",
       "    <tr style=\"text-align: right;\">\n",
       "      <th></th>\n",
       "      <th>question</th>\n",
       "      <th>ground_truth</th>\n",
       "      <th>contexts</th>\n",
       "      <th>answer</th>\n",
       "      <th>context_precision</th>\n",
       "    </tr>\n",
       "  </thead>\n",
       "  <tbody>\n",
       "    <tr>\n",
       "      <th>0</th>\n",
       "      <td>What caused Wilson to ask Congress to declare ...</td>\n",
       "      <td>German began unrestricted submarine warfare</td>\n",
       "      <td>[When Germany resumed unrestricted submarine w...</td>\n",
       "      <td>Several factors led Woodrow Wilson to ask Cong...</td>\n",
       "      <td>0.791667</td>\n",
       "    </tr>\n",
       "    <tr>\n",
       "      <th>0</th>\n",
       "      <td>What was more damaging than moving students in...</td>\n",
       "      <td>His confrontation with Andrew Fleming West</td>\n",
       "      <td>[The shortage of places in post-secondary educ...</td>\n",
       "      <td>In the context of Woodrow Wilson's presidency ...</td>\n",
       "      <td>0.200000</td>\n",
       "    </tr>\n",
       "    <tr>\n",
       "      <th>0</th>\n",
       "      <td>Was Wilson a member of the Phi Kappa Psi frate...</td>\n",
       "      <td>yes</td>\n",
       "      <td>[* Wilson was a member of the Phi Kappa Psi fr...</td>\n",
       "      <td>Yes, Woodrow Wilson was a member of the Phi Ka...</td>\n",
       "      <td>1.000000</td>\n",
       "    </tr>\n",
       "    <tr>\n",
       "      <th>0</th>\n",
       "      <td>Was Wilson an automobile enthusiast?</td>\n",
       "      <td>yes</td>\n",
       "      <td>[Wilson's Pierce Arrow, which resides in his h...</td>\n",
       "      <td>While not an *avid* enthusiast in the sense of...</td>\n",
       "      <td>0.700000</td>\n",
       "    </tr>\n",
       "    <tr>\n",
       "      <th>0</th>\n",
       "      <td>Did Wilson's father own slaves?</td>\n",
       "      <td>yes</td>\n",
       "      <td>[Thomas Woodrow Wilson was born in Staunton, V...</td>\n",
       "      <td>Yes, Woodrow Wilson's father, Joseph Ruggles W...</td>\n",
       "      <td>1.000000</td>\n",
       "    </tr>\n",
       "    <tr>\n",
       "      <th>0</th>\n",
       "      <td>Where is Wilson buried?</td>\n",
       "      <td>He was buried in Washington National Cathedral</td>\n",
       "      <td>[* Wilson is the only U.S. President buried in...</td>\n",
       "      <td>Woodrow Wilson is buried in Washington Nationa...</td>\n",
       "      <td>0.416667</td>\n",
       "    </tr>\n",
       "    <tr>\n",
       "      <th>0</th>\n",
       "      <td>Where did Wilson attend law school?</td>\n",
       "      <td>Wilson attended law school at University of Vi...</td>\n",
       "      <td>[* Wilson was a member of the Phi Kappa Psi fr...</td>\n",
       "      <td>Woodrow Wilson attended the University of Virg...</td>\n",
       "      <td>0.416667</td>\n",
       "    </tr>\n",
       "    <tr>\n",
       "      <th>0</th>\n",
       "      <td>Where was Woodrow Wilson born?</td>\n",
       "      <td>Woodrow Wilson was born in Staunton, Virginia</td>\n",
       "      <td>[Thomas Woodrow Wilson (December 28, 1856âFe...</td>\n",
       "      <td>Woodrow Wilson was born in Staunton, Virginia.\\n</td>\n",
       "      <td>0.416667</td>\n",
       "    </tr>\n",
       "    <tr>\n",
       "      <th>0</th>\n",
       "      <td>Did Wilson support desegregation?</td>\n",
       "      <td>no</td>\n",
       "      <td>[Wilson allowed many of his cabinet officials ...</td>\n",
       "      <td>No, Woodrow Wilson did not support desegregati...</td>\n",
       "      <td>0.634921</td>\n",
       "    </tr>\n",
       "    <tr>\n",
       "      <th>0</th>\n",
       "      <td>Did Wilson support the committee system?</td>\n",
       "      <td>no</td>\n",
       "      <td>[In addition to their undemocratic nature, Wil...</td>\n",
       "      <td>No, Woodrow Wilson was a strong critic of the ...</td>\n",
       "      <td>0.611111</td>\n",
       "    </tr>\n",
       "    <tr>\n",
       "      <th>0</th>\n",
       "      <td>Did Wilson have any siblings?</td>\n",
       "      <td>yes</td>\n",
       "      <td>[Wilson's first wife Ellen died on August 6, 1...</td>\n",
       "      <td>Yes, Woodrow Wilson had three siblings.\\n</td>\n",
       "      <td>0.166667</td>\n",
       "    </tr>\n",
       "    <tr>\n",
       "      <th>0</th>\n",
       "      <td>What was Scots-Irish and Scottish?</td>\n",
       "      <td>His ancestry</td>\n",
       "      <td>[There is an organized propaganda against the ...</td>\n",
       "      <td>That describes Woodrow Wilson's ancestry.  His...</td>\n",
       "      <td>0.200000</td>\n",
       "    </tr>\n",
       "    <tr>\n",
       "      <th>0</th>\n",
       "      <td>What defended slavery, owned slaves and S08_se...</td>\n",
       "      <td>His father</td>\n",
       "      <td>[* American School, Lincoln's economic views.,...</td>\n",
       "      <td>That describes Joseph Ruggles Wilson, Woodrow ...</td>\n",
       "      <td>0.000000</td>\n",
       "    </tr>\n",
       "    <tr>\n",
       "      <th>0</th>\n",
       "      <td>Who did Wilson win in 1917?</td>\n",
       "      <td>Irish Americans</td>\n",
       "      <td>[* Wilson was also the first Democrat elected ...</td>\n",
       "      <td>In 1917, Wilson didn't win an election; he led...</td>\n",
       "      <td>0.000000</td>\n",
       "    </tr>\n",
       "    <tr>\n",
       "      <th>0</th>\n",
       "      <td>Was Wilson awarded the 1919 Nobel Peace Prize?</td>\n",
       "      <td>Yes</td>\n",
       "      <td>[In the late stages of the war he took persona...</td>\n",
       "      <td>Yes, Woodrow Wilson was awarded the 1919 Nobel...</td>\n",
       "      <td>0.333333</td>\n",
       "    </tr>\n",
       "    <tr>\n",
       "      <th>0</th>\n",
       "      <td>Was Wilson a remarkably effective writer and t...</td>\n",
       "      <td>Yes</td>\n",
       "      <td>[Wilson was a remarkably effective writer and ...</td>\n",
       "      <td>Yes, Woodrow Wilson is widely considered to ha...</td>\n",
       "      <td>1.000000</td>\n",
       "    </tr>\n",
       "    <tr>\n",
       "      <th>0</th>\n",
       "      <td>What lived in Columbia?</td>\n",
       "      <td>Wilson</td>\n",
       "      <td>[A melanistic leopard, or \"black panther\", Sca...</td>\n",
       "      <td>That's too broad a question.  Many things live...</td>\n",
       "      <td>0.000000</td>\n",
       "    </tr>\n",
       "    <tr>\n",
       "      <th>0</th>\n",
       "      <td>Was Wilson president of the American Political...</td>\n",
       "      <td>Yes</td>\n",
       "      <td>[* Wilson was president of the American Politi...</td>\n",
       "      <td>Yes, Woodrow Wilson was president of the Ameri...</td>\n",
       "      <td>1.000000</td>\n",
       "    </tr>\n",
       "    <tr>\n",
       "      <th>0</th>\n",
       "      <td>Did he not cast his ballot for John M. Palmer ...</td>\n",
       "      <td>Yes</td>\n",
       "      <td>[By the time Wilson finished Congressional Gov...</td>\n",
       "      <td>The provided text states that Wilson *did* cas...</td>\n",
       "      <td>0.700000</td>\n",
       "    </tr>\n",
       "    <tr>\n",
       "      <th>0</th>\n",
       "      <td>Did Wilson not spend 1914 through the beginnin...</td>\n",
       "      <td>Yes</td>\n",
       "      <td>[Wilson spent 1914 through the beginning of 19...</td>\n",
       "      <td>That statement is correct.  Wilson's administr...</td>\n",
       "      <td>0.866667</td>\n",
       "    </tr>\n",
       "    <tr>\n",
       "      <th>0</th>\n",
       "      <td>Was Wilson , a staunch opponent of antisemitis...</td>\n",
       "      <td>Yes</td>\n",
       "      <td>[Wilson, a staunch opponent of antisemitism , ...</td>\n",
       "      <td>Yes, according to the provided text, Wilson wa...</td>\n",
       "      <td>1.000000</td>\n",
       "    </tr>\n",
       "    <tr>\n",
       "      <th>0</th>\n",
       "      <td>What happened in 1917?</td>\n",
       "      <td>raised billions through Liberty loans, imposed...</td>\n",
       "      <td>[Canadian soldiers would win the Battle of Vim...</td>\n",
       "      <td>Several significant events happened in 1917:\\n...</td>\n",
       "      <td>0.000000</td>\n",
       "    </tr>\n",
       "  </tbody>\n",
       "</table>\n",
       "</div>"
      ],
      "text/plain": [
       "                                            question  \\\n",
       "0  What caused Wilson to ask Congress to declare ...   \n",
       "0  What was more damaging than moving students in...   \n",
       "0  Was Wilson a member of the Phi Kappa Psi frate...   \n",
       "0               Was Wilson an automobile enthusiast?   \n",
       "0                    Did Wilson's father own slaves?   \n",
       "0                            Where is Wilson buried?   \n",
       "0                Where did Wilson attend law school?   \n",
       "0                     Where was Woodrow Wilson born?   \n",
       "0                  Did Wilson support desegregation?   \n",
       "0           Did Wilson support the committee system?   \n",
       "0                      Did Wilson have any siblings?   \n",
       "0                 What was Scots-Irish and Scottish?   \n",
       "0  What defended slavery, owned slaves and S08_se...   \n",
       "0                        Who did Wilson win in 1917?   \n",
       "0     Was Wilson awarded the 1919 Nobel Peace Prize?   \n",
       "0  Was Wilson a remarkably effective writer and t...   \n",
       "0                            What lived in Columbia?   \n",
       "0  Was Wilson president of the American Political...   \n",
       "0  Did he not cast his ballot for John M. Palmer ...   \n",
       "0  Did Wilson not spend 1914 through the beginnin...   \n",
       "0  Was Wilson , a staunch opponent of antisemitis...   \n",
       "0                             What happened in 1917?   \n",
       "\n",
       "                                        ground_truth  \\\n",
       "0        German began unrestricted submarine warfare   \n",
       "0         His confrontation with Andrew Fleming West   \n",
       "0                                                yes   \n",
       "0                                                yes   \n",
       "0                                                yes   \n",
       "0     He was buried in Washington National Cathedral   \n",
       "0  Wilson attended law school at University of Vi...   \n",
       "0      Woodrow Wilson was born in Staunton, Virginia   \n",
       "0                                                 no   \n",
       "0                                                 no   \n",
       "0                                                yes   \n",
       "0                                       His ancestry   \n",
       "0                                         His father   \n",
       "0                                    Irish Americans   \n",
       "0                                                Yes   \n",
       "0                                                Yes   \n",
       "0                                             Wilson   \n",
       "0                                                Yes   \n",
       "0                                                Yes   \n",
       "0                                                Yes   \n",
       "0                                                Yes   \n",
       "0  raised billions through Liberty loans, imposed...   \n",
       "\n",
       "                                            contexts  \\\n",
       "0  [When Germany resumed unrestricted submarine w...   \n",
       "0  [The shortage of places in post-secondary educ...   \n",
       "0  [* Wilson was a member of the Phi Kappa Psi fr...   \n",
       "0  [Wilson's Pierce Arrow, which resides in his h...   \n",
       "0  [Thomas Woodrow Wilson was born in Staunton, V...   \n",
       "0  [* Wilson is the only U.S. President buried in...   \n",
       "0  [* Wilson was a member of the Phi Kappa Psi fr...   \n",
       "0  [Thomas Woodrow Wilson (December 28, 1856âFe...   \n",
       "0  [Wilson allowed many of his cabinet officials ...   \n",
       "0  [In addition to their undemocratic nature, Wil...   \n",
       "0  [Wilson's first wife Ellen died on August 6, 1...   \n",
       "0  [There is an organized propaganda against the ...   \n",
       "0  [* American School, Lincoln's economic views.,...   \n",
       "0  [* Wilson was also the first Democrat elected ...   \n",
       "0  [In the late stages of the war he took persona...   \n",
       "0  [Wilson was a remarkably effective writer and ...   \n",
       "0  [A melanistic leopard, or \"black panther\", Sca...   \n",
       "0  [* Wilson was president of the American Politi...   \n",
       "0  [By the time Wilson finished Congressional Gov...   \n",
       "0  [Wilson spent 1914 through the beginning of 19...   \n",
       "0  [Wilson, a staunch opponent of antisemitism , ...   \n",
       "0  [Canadian soldiers would win the Battle of Vim...   \n",
       "\n",
       "                                              answer  context_precision  \n",
       "0  Several factors led Woodrow Wilson to ask Cong...           0.791667  \n",
       "0  In the context of Woodrow Wilson's presidency ...           0.200000  \n",
       "0  Yes, Woodrow Wilson was a member of the Phi Ka...           1.000000  \n",
       "0  While not an *avid* enthusiast in the sense of...           0.700000  \n",
       "0  Yes, Woodrow Wilson's father, Joseph Ruggles W...           1.000000  \n",
       "0  Woodrow Wilson is buried in Washington Nationa...           0.416667  \n",
       "0  Woodrow Wilson attended the University of Virg...           0.416667  \n",
       "0   Woodrow Wilson was born in Staunton, Virginia.\\n           0.416667  \n",
       "0  No, Woodrow Wilson did not support desegregati...           0.634921  \n",
       "0  No, Woodrow Wilson was a strong critic of the ...           0.611111  \n",
       "0          Yes, Woodrow Wilson had three siblings.\\n           0.166667  \n",
       "0  That describes Woodrow Wilson's ancestry.  His...           0.200000  \n",
       "0  That describes Joseph Ruggles Wilson, Woodrow ...           0.000000  \n",
       "0  In 1917, Wilson didn't win an election; he led...           0.000000  \n",
       "0  Yes, Woodrow Wilson was awarded the 1919 Nobel...           0.333333  \n",
       "0  Yes, Woodrow Wilson is widely considered to ha...           1.000000  \n",
       "0  That's too broad a question.  Many things live...           0.000000  \n",
       "0  Yes, Woodrow Wilson was president of the Ameri...           1.000000  \n",
       "0  The provided text states that Wilson *did* cas...           0.700000  \n",
       "0  That statement is correct.  Wilson's administr...           0.866667  \n",
       "0  Yes, according to the provided text, Wilson wa...           1.000000  \n",
       "0  Several significant events happened in 1917:\\n...           0.000000  "
      ]
     },
     "execution_count": 28,
     "metadata": {},
     "output_type": "execute_result"
    }
   ],
   "source": [
    "testset_results"
   ]
  },
  {
   "cell_type": "code",
   "execution_count": 30,
   "id": "70246798-5d45-4f74-99cc-ec5eeab6da51",
   "metadata": {},
   "outputs": [
    {
     "data": {
      "text/plain": [
       "['What happened in 1917?']"
      ]
     },
     "execution_count": 30,
     "metadata": {},
     "output_type": "execute_result"
    }
   ],
   "source": [
    "testset_ds.select([917])['question']"
   ]
  },
  {
   "cell_type": "code",
   "execution_count": 31,
   "id": "2cf1eed5-c9d2-4c3b-9b21-5ac79affdc8a",
   "metadata": {},
   "outputs": [],
   "source": [
    "# Recommend checking contexts column to be sure context nodes are separated from each other after saving\n",
    "testset_results.to_csv(\"results/results_ragas_rag_mini_wiki_complete_chat_896_918.csv\", index=False)"
   ]
  },
  {
   "cell_type": "code",
   "execution_count": 30,
   "id": "9a2df6e7-09b1-4f12-a4b3-fbe47fcda817",
   "metadata": {},
   "outputs": [],
   "source": [
    "#checking = pd.read_csv(\"results/results_ragas_rag_mini_wiki_complete_chat_150_297.csv\", index_col=None)"
   ]
  },
  {
   "cell_type": "code",
   "execution_count": 31,
   "id": "a25cf3dc-ea64-4a15-88d9-40ab6d6b4811",
   "metadata": {},
   "outputs": [
    {
     "data": {
      "text/plain": [
       "question             0\n",
       "ground_truth         0\n",
       "contexts             0\n",
       "answer               0\n",
       "context_precision    0\n",
       "dtype: int64"
      ]
     },
     "execution_count": 31,
     "metadata": {},
     "output_type": "execute_result"
    }
   ],
   "source": [
    "#checking.isnull().sum()"
   ]
  },
  {
   "cell_type": "code",
   "execution_count": null,
   "id": "4cb0a5aa-f1b4-4945-957b-9e30a0dd43fe",
   "metadata": {},
   "outputs": [],
   "source": [
    "# Note: received warning for the answer where there was no response from the llm, definitely reduced faithfulness score\n",
    "\n",
    "# Results:\n",
    "# Using contexts generated when produced answers from LLM:\n",
    "# new testset_answer_newcontext_flash_pro15.csv result, with contexts_gt (aka contexts generated with ground truth generation) column removed\n",
    "# {'context_precision': 0.4171, 'faithfulness': 0.9167, 'answer_relevancy': 0.6509, 'context_recall': 0.8000}\n",
    "# reran\n",
    "# {'context_precision': 0.4676, 'faithfulness': 1.0000, 'answer_relevancy': 0.6515, 'context_recall': 0.8000}\n",
    "# reran\n",
    "# {'context_precision': 0.5979, 'faithfulness': 1.0000, 'answer_relevancy': 0.6533, 'context_recall': 0.8000}\n",
    "\n",
    "# Compared to using contexts generated for ground truth (probably not correct):\n",
    "# new testset_answer_newcontext_flash_pro15.csv result, using old contexts\n",
    "# {'context_precision': 0.7500, 'faithfulness': 0.7392, 'answer_relevancy': 0.6041, 'context_recall': 1.0000}\n",
    "# reran:\n",
    "# {'context_precision': 0.8500, 'faithfulness': 0.7123, 'answer_relevancy': 0.5934, 'context_recall': 1.0000}\n",
    "# reran:\n",
    "# {'context_precision': 0.7500, 'faithfulness': 0.6556, 'answer_relevancy': 0.5638, 'context_recall': 1.0000}"
   ]
  },
  {
   "cell_type": "code",
   "execution_count": null,
   "id": "50a027af-7dff-483f-97ff-9072e71d7a02",
   "metadata": {},
   "outputs": [],
   "source": [
    "# Evaluation results on metrics:\n",
    "\n",
    "# RAGAS metrics guide: https://docs.ragas.io/en/latest/concepts/metrics/index.html#ragas-metrics\n",
    "# I don't have example ranges to compare anything to, so below is my best guess.\n",
    "\n",
    "# Faithfulness - Measures the factual consistency of the answer to the context based on the question.\n",
    "# 0.9167 - 1.0000 indicates that the LLM is staying true to the facts provided in the context for answering the question.\n",
    "# There is another Faithfulness metric: from ragas.metrics import FaithulnesswithHHEM\n",
    "# This uses a huggingface model to help detect hallucination : https://huggingface.co/vectara/hallucination_evaluation_model\n",
    "# See below for code : {'faithfulness_with_hhem': 0.6319} \n",
    "# This doesn't really agree with the RAGAS faithfulness score... may need to dive in further another time.\n",
    "# Context_precision - Measures how relevant the retrieved context is to the question, conveying the quality of the retrieval pipeline.\n",
    "# At 0.4171 - 0.5979, suggests that the context isn't particularly relevant to the question.\n",
    "# Answer_relevancy - Measures how relevant the answer is to the question.\n",
    "# 0.6509 - 0.6533 seems moderately low, just going off of the number.\n",
    "# Context_recall - Measures the retriever’s ability to retrieve all necessary information required to answer the question.\n",
    "# 0.8 indicates that the llm context is decently good and can typically answer the question or most of it. "
   ]
  },
  {
   "cell_type": "code",
   "execution_count": 105,
   "id": "04f4d426-e499-475e-8459-a497368b8b9e",
   "metadata": {},
   "outputs": [],
   "source": [
    "# Test run, just compare to using contexts_gt column instead of the newer context generated with the answer\n",
    "testset_ds_oldcontext = Dataset.from_pandas(testset_pd.drop(\"contexts\", axis=1).rename(columns={'contexts_old':'contexts'}))"
   ]
  },
  {
   "cell_type": "code",
   "execution_count": null,
   "id": "1db7b251-9833-4931-baf2-c575bf900721",
   "metadata": {},
   "outputs": [],
   "source": [
    "evalresult_old2 = evaluate(\n",
    "    testset_ds_oldcontext,\n",
    "    metrics=[\n",
    "        context_precision,\n",
    "        faithfulness,\n",
    "        answer_relevancy,\n",
    "        context_recall,\n",
    "    ],\n",
    "    llm = ragas_llm,\n",
    "    embeddings=embeddings, \n",
    "    run_config=run_config\n",
    ")"
   ]
  },
  {
   "cell_type": "code",
   "execution_count": null,
   "id": "5a7170d4-ca68-46b1-a962-3c71093374c1",
   "metadata": {},
   "outputs": [],
   "source": [
    "# new testset_answer_newcontext_flash_pro15.csv result, using old contexts\n",
    "# {'context_precision': 0.7500, 'faithfulness': 0.7392, 'answer_relevancy': 0.6041, 'context_recall': 1.0000}\n",
    "# reran:\n",
    "# {'context_precision': 0.8500, 'faithfulness': 0.7123, 'answer_relevancy': 0.5934, 'context_recall': 1.0000}\n",
    "# reran:\n",
    "# {'context_precision': 0.7500, 'faithfulness': 0.6556, 'answer_relevancy': 0.5638, 'context_recall': 1.0000}\n",
    "evalresult_old2"
   ]
  },
  {
   "cell_type": "code",
   "execution_count": null,
   "id": "eb79fac0-ea9d-473f-b33c-02ee96df9559",
   "metadata": {},
   "outputs": [],
   "source": []
  },
  {
   "cell_type": "code",
   "execution_count": null,
   "id": "456a0ae2-f6ae-47e4-bda8-1c66c0104ccb",
   "metadata": {},
   "outputs": [],
   "source": [
    "# RAGAS also has an additional Faithfulness with HHEM metric (yes- it is misspelled in their documentation) \n",
    "# that uses a HuggingFace model to detect hallucinations\n",
    "# Note: There's a message on HuggingFace about the token indices sequence length error being normal and an artifact; thus, ignoring the below error\n",
    "# https://huggingface.co/vectara/hallucination_evaluation_model\n",
    "from ragas.metrics import FaithulnesswithHHEM\n",
    "faithfulness_with_hhem = FaithulnesswithHHEM()\n",
    "result_faithfulness_hhem = evaluate(\n",
    "    testset_ds,\n",
    "    metrics=[faithfulness_with_hhem],\n",
    "    llm = ragas_llm,\n",
    "    embeddings=embeddings, \n",
    "    run_config=run_config\n",
    ")"
   ]
  },
  {
   "cell_type": "code",
   "execution_count": 158,
   "id": "7f158bea-0167-43ab-b4fb-0b5c0bc145c5",
   "metadata": {},
   "outputs": [
    {
     "data": {
      "text/plain": [
       "{'faithfulness_with_hhem': 0.6319}"
      ]
     },
     "execution_count": 158,
     "metadata": {},
     "output_type": "execute_result"
    }
   ],
   "source": [
    "# with context from answer generation:\n",
    "# {'faithfulness_with_hhem': 0.6319}\n",
    "# testing: with context from ground truth/synthetic testset generation\n",
    "# {'faithfulness_with_hhem': 0.5241}\n",
    "# this seems to agree with the RAGAS faithfulness score in that answers seem to be partially made up.\n",
    "result_faithfulness_hhem"
   ]
  },
  {
   "cell_type": "code",
   "execution_count": null,
   "id": "6f7cbe4c-3937-4d48-829a-f0b262698e6c",
   "metadata": {},
   "outputs": [],
   "source": []
  },
  {
   "cell_type": "code",
   "execution_count": 84,
   "id": "02abe059-1129-4f60-81b7-55cef6b958ff",
   "metadata": {},
   "outputs": [],
   "source": [
    "# Extra non-working code:"
   ]
  },
  {
   "cell_type": "code",
   "execution_count": 85,
   "id": "38993aa7-31ed-438e-96c6-63de9c608016",
   "metadata": {},
   "outputs": [],
   "source": [
    "# Code to use the query_engine in the evaluation \n",
    "# Modeled after this tutorial: https://docs.ragas.io/en/latest/howtos/applications/compare_llms.html\n",
    "\n",
    "# Does not currently work: for some metrics, it is not finding the 'ground_truth' column in the dataset\n",
    "# For other metrics, appears to run but returns the below errors and returns 'nan' for results"
   ]
  },
  {
   "cell_type": "code",
   "execution_count": 64,
   "id": "b983f067-90e5-465a-9014-26fc5593f7b3",
   "metadata": {},
   "outputs": [],
   "source": [
    "# start of testing to try and get rag query engine for evaluate\n",
    "def generate_responses(query_engine, test_questions, test_answers):\n",
    "  responses = [query_engine.query(q) for q in test_questions]\n",
    "\n",
    "  answers = []\n",
    "  contexts = []\n",
    "  for r in responses:\n",
    "    answers.append(r.response)\n",
    "    contexts.append([c.node.get_content() for c in r.source_nodes])\n",
    "  dataset_dict = {\n",
    "        \"question\": test_questions,\n",
    "        \"answer\": answers,\n",
    "        \"contexts\": contexts,\n",
    "  }\n",
    "  if test_answers is not None:\n",
    "    dataset_dict[\"ground_truth\"] = test_answers\n",
    "  ds = Dataset.from_dict(dataset_dict)\n",
    "  return ds\n",
    "\n",
    "test_questions = testset_pd['question'].values.tolist()\n",
    "test_answers = [[item] for item in testset_pd['answer'].values.tolist()]\n",
    "\n",
    "result_ds = generate_responses(query_engine, test_questions, test_answers)"
   ]
  },
  {
   "cell_type": "code",
   "execution_count": null,
   "id": "a4c0cf99-4ede-4081-9dbe-2516b092da48",
   "metadata": {},
   "outputs": [],
   "source": [
    "# # Set up query and chat engines with the index\n",
    "# query_engine = index.as_query_engine(similarity_top_k=10)\n",
    "# chat_engine = index.as_chat_engine(similarity_top_k=10, chat_mode='context')"
   ]
  },
  {
   "cell_type": "code",
   "execution_count": null,
   "id": "b16f75a3-602b-49b8-b269-dab9f3ce817b",
   "metadata": {},
   "outputs": [],
   "source": [
    "# Note: This evaluate function that uses the query_engine does not return results (nan for all metrics)\n",
    "# In reviewing the code for the evaluate function below from ragas, it uses the query_engine to develop new answers and contexts\n",
    "# before ultimately calling the normal ragas evaluate function that uses the non-RAG llm to evaluate the metrics\n",
    "# Thus, I don't think this code does what I'm looking for;\n",
    "# That is, it doesn't evaluate a dataset for a given metric by using the query_engine as opposed to the non-RAG llm\n",
    "\n",
    "# Errors (below are repeated many times):\n",
    "# WARNING:ragas.llms.base:n values greater than 1 not support for LlamaIndex LLMs\n",
    "# n values greater than 1 not support for LlamaIndex LLMs\n",
    "# INFO:ragas.llms.base:callbacks not supported for LlamaIndex LLMs, ignoring callbacks\n",
    "# callbacks not supported for LlamaIndex LLMs, ignoring callbacks\n",
    "# ERROR:ragas.executor:Exception raised in Job[5]: TimeoutError()\n",
    "# Exception raised in Job[5]: TimeoutError()\n",
    "# ERROR:ragas.executor:Exception raised in Job[19]: AttributeError('ChatGoogleGenerativeAI' object has no attribute 'acomplete')\n",
    "# Exception raised in Job[19]: AttributeError('ChatGoogleGenerativeAI' object has no attribute 'acomplete')\n",
    "\n",
    "from ragas.integrations.llama_index import evaluate\n",
    "\n",
    "eval_qe2 = evaluate(\n",
    "    query_engine=query_engine,\n",
    "    dataset=result_ds,\n",
    "    metrics=[faithfulness,\n",
    "    answer_relevancy,\n",
    "    context_utilization],\n",
    "    llm=ragas_llm,\n",
    "    embeddings=embeddings, \n",
    "    run_config=run_config\n",
    ")"
   ]
  },
  {
   "cell_type": "code",
   "execution_count": 63,
   "id": "296c8c6d-737d-4233-ae5a-4114597a76f1",
   "metadata": {},
   "outputs": [
    {
     "data": {
      "text/plain": [
       "{'faithfulness': nan, 'answer_relevancy': nan, 'context_utilization': nan}"
      ]
     },
     "execution_count": 63,
     "metadata": {},
     "output_type": "execute_result"
    }
   ],
   "source": [
    "eval_qe2"
   ]
  },
  {
   "cell_type": "code",
   "execution_count": null,
   "id": "db2c19d1-71a0-40ba-ad28-f689cba75277",
   "metadata": {},
   "outputs": [],
   "source": []
  },
  {
   "cell_type": "code",
   "execution_count": 4,
   "id": "91d2b9ae-1207-48bb-a130-76cd31bb9974",
   "metadata": {},
   "outputs": [],
   "source": [
    "# 1/21 combination of results from ragas run of 918 examples\n",
    "# Contextual Precision metric for wikipedia_chat dataset from huggingface\n",
    "# Will need to refine to just the first 903 examples, as the last 15 examples have now been labeled and separately used for ARES\n",
    "# (I had forgotten that ARES required labeled examples; hence I'm removing the last few results from the calculations for the metric in RAGAS accordingly)\n",
    "\n",
    "data1 = pd.read_csv(\"results/results_ragas_rag_mini_wiki_complete_chat_1_and134.csv\", index_col=None)\n",
    "data2 = pd.read_csv(\"results/results_ragas_rag_mini_wiki_complete_chat_150_297.csv\", index_col=None)\n",
    "data3 = pd.read_csv(\"results/results_ragas_rag_mini_wiki_complete_chat_297_447.csv\", index_col=None)\n",
    "data4 = pd.read_csv(\"results/results_ragas_rag_mini_wiki_complete_chat_447.csv\", index_col=None)\n",
    "data5 = pd.read_csv(\"results/results_ragas_rag_mini_wiki_complete_chat_448_597.csv\", index_col=None)\n",
    "data6 = pd.read_csv(\"results/results_ragas_rag_mini_wiki_complete_chat_597_747.csv\", index_col=None)\n",
    "data7 = pd.read_csv(\"results/results_ragas_rag_mini_wiki_complete_chat_747_895.csv\", index_col=None)\n",
    "data8 = pd.read_csv(\"results/results_ragas_rag_mini_wiki_complete_chat_895.csv\", index_col=None)\n",
    "data9 = pd.read_csv(\"results/results_ragas_rag_mini_wiki_complete_chat_896_918.csv\", index_col=None)"
   ]
  },
  {
   "cell_type": "code",
   "execution_count": 17,
   "id": "d677a2c1-3b6e-4288-a325-fc5ea05d67c9",
   "metadata": {},
   "outputs": [
    {
     "data": {
      "text/plain": [
       "0"
      ]
     },
     "execution_count": 17,
     "metadata": {},
     "output_type": "execute_result"
    }
   ],
   "source": [
    "data9['context_precision'].isnull().sum()"
   ]
  },
  {
   "cell_type": "code",
   "execution_count": 27,
   "id": "aea5a8ae-8486-400a-b9d7-6829fbde4d35",
   "metadata": {},
   "outputs": [
    {
     "data": {
      "text/plain": [
       "918"
      ]
     },
     "execution_count": 27,
     "metadata": {},
     "output_type": "execute_result"
    }
   ],
   "source": [
    "# adding length of all csv to ensure = full 918 dataset\n",
    "150+147+150+1+149+150+148+1+22"
   ]
  },
  {
   "cell_type": "code",
   "execution_count": 30,
   "id": "ce69a160-62d3-47f7-969f-3e939a1397ee",
   "metadata": {},
   "outputs": [],
   "source": [
    "# combine all results\n",
    "allresults = pd.concat([data1, data2, data3, data4, data5, data6, data7, data8, data9])"
   ]
  },
  {
   "cell_type": "code",
   "execution_count": 32,
   "id": "ad2d6ac9-b32a-402d-ab2d-2c3b54a14444",
   "metadata": {},
   "outputs": [
    {
     "data": {
      "text/html": [
       "<div>\n",
       "<style scoped>\n",
       "    .dataframe tbody tr th:only-of-type {\n",
       "        vertical-align: middle;\n",
       "    }\n",
       "\n",
       "    .dataframe tbody tr th {\n",
       "        vertical-align: top;\n",
       "    }\n",
       "\n",
       "    .dataframe thead th {\n",
       "        text-align: right;\n",
       "    }\n",
       "</style>\n",
       "<table border=\"1\" class=\"dataframe\">\n",
       "  <thead>\n",
       "    <tr style=\"text-align: right;\">\n",
       "      <th></th>\n",
       "      <th>question</th>\n",
       "      <th>ground_truth</th>\n",
       "      <th>contexts</th>\n",
       "      <th>answer</th>\n",
       "      <th>context_precision</th>\n",
       "    </tr>\n",
       "  </thead>\n",
       "  <tbody>\n",
       "    <tr>\n",
       "      <th>0</th>\n",
       "      <td>Was Abraham Lincoln the sixteenth President of...</td>\n",
       "      <td>yes</td>\n",
       "      <td>['Abraham Lincoln (February 12, 1809 â\\x80\\x93...</td>\n",
       "      <td>Yes, Abraham Lincoln was the sixteenth Preside...</td>\n",
       "      <td>1.000000</td>\n",
       "    </tr>\n",
       "    <tr>\n",
       "      <th>1</th>\n",
       "      <td>Did Lincoln sign the National Banking Act of 1...</td>\n",
       "      <td>yes</td>\n",
       "      <td>[\"Lincoln believed in the Whig theory of the p...</td>\n",
       "      <td>Yes, the provided text states that Lincoln sig...</td>\n",
       "      <td>1.000000</td>\n",
       "    </tr>\n",
       "    <tr>\n",
       "      <th>2</th>\n",
       "      <td>Did his mother die of pneumonia?</td>\n",
       "      <td>no</td>\n",
       "      <td>['Soon thereafter, Tesla hastened from Paris t...</td>\n",
       "      <td>The provided text doesn't contain information ...</td>\n",
       "      <td>0.240741</td>\n",
       "    </tr>\n",
       "    <tr>\n",
       "      <th>3</th>\n",
       "      <td>How many long was Lincoln's formal education?</td>\n",
       "      <td>18 months</td>\n",
       "      <td>[\"Lincoln's formal education consisted of abou...</td>\n",
       "      <td>The text states that Lincoln's formal educatio...</td>\n",
       "      <td>1.000000</td>\n",
       "    </tr>\n",
       "    <tr>\n",
       "      <th>4</th>\n",
       "      <td>When did Lincoln begin his political career?</td>\n",
       "      <td>1832</td>\n",
       "      <td>['Lincoln began his political career in 1832, ...</td>\n",
       "      <td>Lincoln began his political career in 1832, at...</td>\n",
       "      <td>1.000000</td>\n",
       "    </tr>\n",
       "    <tr>\n",
       "      <th>...</th>\n",
       "      <td>...</td>\n",
       "      <td>...</td>\n",
       "      <td>...</td>\n",
       "      <td>...</td>\n",
       "      <td>...</td>\n",
       "    </tr>\n",
       "    <tr>\n",
       "      <th>17</th>\n",
       "      <td>Was Wilson president of the American Political...</td>\n",
       "      <td>Yes</td>\n",
       "      <td>['* Wilson was president of the American Polit...</td>\n",
       "      <td>Yes, Woodrow Wilson was president of the Ameri...</td>\n",
       "      <td>1.000000</td>\n",
       "    </tr>\n",
       "    <tr>\n",
       "      <th>18</th>\n",
       "      <td>Did he not cast his ballot for John M. Palmer ...</td>\n",
       "      <td>Yes</td>\n",
       "      <td>['By the time Wilson finished Congressional Go...</td>\n",
       "      <td>The provided text states that Wilson *did* cas...</td>\n",
       "      <td>0.700000</td>\n",
       "    </tr>\n",
       "    <tr>\n",
       "      <th>19</th>\n",
       "      <td>Did Wilson not spend 1914 through the beginnin...</td>\n",
       "      <td>Yes</td>\n",
       "      <td>['Wilson spent 1914 through the beginning of 1...</td>\n",
       "      <td>That statement is correct.  Wilson's administr...</td>\n",
       "      <td>0.866667</td>\n",
       "    </tr>\n",
       "    <tr>\n",
       "      <th>20</th>\n",
       "      <td>Was Wilson , a staunch opponent of antisemitis...</td>\n",
       "      <td>Yes</td>\n",
       "      <td>['Wilson, a staunch opponent of antisemitism ,...</td>\n",
       "      <td>Yes, according to the provided text, Wilson wa...</td>\n",
       "      <td>1.000000</td>\n",
       "    </tr>\n",
       "    <tr>\n",
       "      <th>21</th>\n",
       "      <td>What happened in 1917?</td>\n",
       "      <td>raised billions through Liberty loans, imposed...</td>\n",
       "      <td>['Canadian soldiers would win the Battle of Vi...</td>\n",
       "      <td>Several significant events happened in 1917:\\n...</td>\n",
       "      <td>0.000000</td>\n",
       "    </tr>\n",
       "  </tbody>\n",
       "</table>\n",
       "<p>918 rows × 5 columns</p>\n",
       "</div>"
      ],
      "text/plain": [
       "                                             question  \\\n",
       "0   Was Abraham Lincoln the sixteenth President of...   \n",
       "1   Did Lincoln sign the National Banking Act of 1...   \n",
       "2                    Did his mother die of pneumonia?   \n",
       "3       How many long was Lincoln's formal education?   \n",
       "4        When did Lincoln begin his political career?   \n",
       "..                                                ...   \n",
       "17  Was Wilson president of the American Political...   \n",
       "18  Did he not cast his ballot for John M. Palmer ...   \n",
       "19  Did Wilson not spend 1914 through the beginnin...   \n",
       "20  Was Wilson , a staunch opponent of antisemitis...   \n",
       "21                             What happened in 1917?   \n",
       "\n",
       "                                         ground_truth  \\\n",
       "0                                                 yes   \n",
       "1                                                 yes   \n",
       "2                                                  no   \n",
       "3                                           18 months   \n",
       "4                                                1832   \n",
       "..                                                ...   \n",
       "17                                                Yes   \n",
       "18                                                Yes   \n",
       "19                                                Yes   \n",
       "20                                                Yes   \n",
       "21  raised billions through Liberty loans, imposed...   \n",
       "\n",
       "                                             contexts  \\\n",
       "0   ['Abraham Lincoln (February 12, 1809 â\\x80\\x93...   \n",
       "1   [\"Lincoln believed in the Whig theory of the p...   \n",
       "2   ['Soon thereafter, Tesla hastened from Paris t...   \n",
       "3   [\"Lincoln's formal education consisted of abou...   \n",
       "4   ['Lincoln began his political career in 1832, ...   \n",
       "..                                                ...   \n",
       "17  ['* Wilson was president of the American Polit...   \n",
       "18  ['By the time Wilson finished Congressional Go...   \n",
       "19  ['Wilson spent 1914 through the beginning of 1...   \n",
       "20  ['Wilson, a staunch opponent of antisemitism ,...   \n",
       "21  ['Canadian soldiers would win the Battle of Vi...   \n",
       "\n",
       "                                               answer  context_precision  \n",
       "0   Yes, Abraham Lincoln was the sixteenth Preside...           1.000000  \n",
       "1   Yes, the provided text states that Lincoln sig...           1.000000  \n",
       "2   The provided text doesn't contain information ...           0.240741  \n",
       "3   The text states that Lincoln's formal educatio...           1.000000  \n",
       "4   Lincoln began his political career in 1832, at...           1.000000  \n",
       "..                                                ...                ...  \n",
       "17  Yes, Woodrow Wilson was president of the Ameri...           1.000000  \n",
       "18  The provided text states that Wilson *did* cas...           0.700000  \n",
       "19  That statement is correct.  Wilson's administr...           0.866667  \n",
       "20  Yes, according to the provided text, Wilson wa...           1.000000  \n",
       "21  Several significant events happened in 1917:\\n...           0.000000  \n",
       "\n",
       "[918 rows x 5 columns]"
      ]
     },
     "execution_count": 32,
     "metadata": {},
     "output_type": "execute_result"
    }
   ],
   "source": [
    "allresults"
   ]
  },
  {
   "cell_type": "code",
   "execution_count": 33,
   "id": "c83e080a-7593-45fc-987d-d60542871a13",
   "metadata": {},
   "outputs": [],
   "source": [
    "# allresults.to_csv(\"results/results_ragas_rag_mini_wiki_complete_chat_all918.csv\", index=False)"
   ]
  },
  {
   "cell_type": "code",
   "execution_count": 34,
   "id": "82e69844-f9e8-4713-8072-53071de4cc27",
   "metadata": {},
   "outputs": [],
   "source": [
    "results903 = allresults[:903]"
   ]
  },
  {
   "cell_type": "code",
   "execution_count": 39,
   "id": "94cb684d-6ca1-4167-9984-ec42943ac8e8",
   "metadata": {},
   "outputs": [],
   "source": [
    "results903.to_csv(\"results/results_ragas_rag_mini_wiki_complete_chat_903.csv\", index=False)"
   ]
  },
  {
   "cell_type": "code",
   "execution_count": 44,
   "id": "f9b5e805-8305-4610-8d09-c7ace3d9c1a8",
   "metadata": {},
   "outputs": [
    {
     "data": {
      "text/plain": [
       "0.7714837243775122"
      ]
     },
     "execution_count": 44,
     "metadata": {},
     "output_type": "execute_result"
    }
   ],
   "source": [
    "# Average Contextual Precision score for 903 examples\n",
    "results903['context_precision'].mean()"
   ]
  },
  {
   "cell_type": "code",
   "execution_count": null,
   "id": "bd9a67cf-1dcb-447c-b4a7-b7221c0e789e",
   "metadata": {},
   "outputs": [],
   "source": []
  },
  {
   "cell_type": "code",
   "execution_count": 131,
   "id": "7013aace-aef2-4d7f-9c92-2e0596c68ec0",
   "metadata": {},
   "outputs": [],
   "source": [
    "# 12/11 comparison of results from deepeval and ragas\n",
    "# This was using a dataset synthetically generated by deepeval\n",
    "# Just comparing Contextual Precision metric\n",
    "deepeval_results = pd.read_csv(\"results/deepeval_contextprecision_unlabeled.csv\", index_col=None)\n",
    "ragas_results = pd.read_csv(\"results/results_ragas_unlabeled_all.csv\", index_col=None)"
   ]
  },
  {
   "cell_type": "code",
   "execution_count": 132,
   "id": "b3ca6ecb-1999-47ff-8ae7-c44abb13a365",
   "metadata": {},
   "outputs": [],
   "source": [
    "results = pd.concat([ragas_results, deepeval_results], axis=1, ignore_index=False)"
   ]
  },
  {
   "cell_type": "code",
   "execution_count": 133,
   "id": "0c1f84d7-9b3c-4171-8a0c-0de80ef778b7",
   "metadata": {},
   "outputs": [],
   "source": [
    "results = results.rename(columns={'context_precision': 'ragas_cp', 'score':'deepeval_cp'})"
   ]
  },
  {
   "cell_type": "code",
   "execution_count": 135,
   "id": "685aad5c-f593-4cab-809f-6e75e5f67c38",
   "metadata": {},
   "outputs": [],
   "source": [
    "import numpy as np"
   ]
  },
  {
   "cell_type": "code",
   "execution_count": 136,
   "id": "364d3330-7c8a-46a1-8873-a335d09ff27c",
   "metadata": {},
   "outputs": [
    {
     "data": {
      "text/plain": [
       "0.540941989035695"
      ]
     },
     "execution_count": 136,
     "metadata": {},
     "output_type": "execute_result"
    }
   ],
   "source": [
    "# 169/800 rows were within 0.1 score of each other\n",
    "# 234/800 rows were within 0.2 score of each other\n",
    "# 278/800 rows were within 0.3 score of each other, \n",
    "# so 522/800 were > 0.3 score of each other\n",
    "# average difference between results was 0.5409... this tells me they were really far apart, given a restricted scoring range of 0-1\n",
    "np.mean(abs(results['ragas_cp'] - results['deepeval_cp']))"
   ]
  },
  {
   "cell_type": "code",
   "execution_count": 137,
   "id": "04a64ba7-9a6c-4f34-a76b-35b25b0ad951",
   "metadata": {},
   "outputs": [
    {
     "data": {
      "text/plain": [
       "<Axes: ylabel='Frequency'>"
      ]
     },
     "execution_count": 137,
     "metadata": {},
     "output_type": "execute_result"
    },
    {
     "data": {
      "image/png": "[encoded data removed]",
      "text/plain": [
       "<Figure size 640x480 with 1 Axes>"
      ]
     },
     "metadata": {},
     "output_type": "display_data"
    }
   ],
   "source": [
    "results.plot.hist(column=['deepeval_cp', 'ragas_cp'], bins=20, alpha=0.5)"
   ]
  },
  {
   "cell_type": "code",
   "execution_count": 55,
   "id": "1ebdc6d2-9959-434d-802f-67fadc9895be",
   "metadata": {},
   "outputs": [
    {
     "data": {
      "text/plain": [
       "<Axes: ylabel='Frequency'>"
      ]
     },
     "execution_count": 55,
     "metadata": {},
     "output_type": "execute_result"
    },
    {
     "data": {
      "image/png": "[encoded data removed]",
      "text/plain": [
       "<Figure size 640x480 with 1 Axes>"
      ]
     },
     "metadata": {},
     "output_type": "display_data"
    }
   ],
   "source": [
    "results.plot.hist(column=['ragas_cp'], bins=20)"
   ]
  },
  {
   "cell_type": "code",
   "execution_count": 138,
   "id": "f54a993b-63ab-4af1-9024-46e667c6ad3d",
   "metadata": {},
   "outputs": [],
   "source": [
    "results.to_csv(\"results/ragas_and_deepeval_unlabeled_results.csv\", index=False)"
   ]
  },
  {
   "cell_type": "code",
   "execution_count": 67,
   "id": "2054ff98-334d-427e-be5e-965a1b2551c3",
   "metadata": {},
   "outputs": [],
   "source": [
    "unlabeled = pd.read_csv(\"datasets/unlabeled_dataset/unlabeled_dataset.csv\", index_col=None)"
   ]
  },
  {
   "cell_type": "code",
   "execution_count": 71,
   "id": "239944cd-733c-4482-871d-926aa3400c2e",
   "metadata": {},
   "outputs": [],
   "source": [
    "unlabeled['Document'] = unlabeled['Document'].apply(ast.literal_eval)"
   ]
  },
  {
   "cell_type": "code",
   "execution_count": null,
   "id": "29b1d545-cda3-404b-baa2-846a6ff5078c",
   "metadata": {},
   "outputs": [],
   "source": []
  },
  {
   "cell_type": "code",
   "execution_count": 143,
   "id": "0008564c-ffa1-48d8-9eb4-50a635000493",
   "metadata": {},
   "outputs": [
    {
     "name": "stdout",
     "output_type": "stream",
     "text": [
      "109\n",
      "154\n",
      "400\n",
      "163\n",
      "741\n",
      "704\n",
      "126\n",
      "167\n",
      "724\n",
      "18\n",
      "379\n",
      "51\n",
      "514\n",
      "556\n",
      "586\n"
     ]
    }
   ],
   "source": [
    "# for my manual comparison review of results (above)\n",
    "import random\n",
    "for i in range(0,15):\n",
    "    print(random.randint(2, 801))"
   ]
  },
  {
   "cell_type": "code",
   "execution_count": null,
   "id": "6e2aaff3-568f-44f2-bb90-1324bdf8cd82",
   "metadata": {},
   "outputs": [],
   "source": []
  }
 ],
 "metadata": {
  "kernelspec": {
   "display_name": "research2",
   "language": "python",
   "name": "research2"
  },
  "language_info": {
   "codemirror_mode": {
    "name": "ipython",
    "version": 3
   },
   "file_extension": ".py",
   "mimetype": "text/x-python",
   "name": "python",
   "nbconvert_exporter": "python",
   "pygments_lexer": "ipython3",
   "version": "3.11.8"
  }
 },
 "nbformat": 4,
 "nbformat_minor": 5
}
